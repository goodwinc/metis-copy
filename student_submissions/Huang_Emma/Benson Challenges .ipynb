{
 "cells": [
  {
   "cell_type": "code",
   "execution_count": 1,
   "metadata": {},
   "outputs": [],
   "source": [
    "import pandas as pd\n",
    "import numpy as np\n",
    "import requests\n",
    "import io\n",
    "\n",
    "%matplotlib inline\n",
    "import matplotlib.pyplot as plt\n",
    "import seaborn as sns"
   ]
  },
  {
   "cell_type": "markdown",
   "metadata": {},
   "source": [
    "# Challenge 1  \n",
    "Download a few MTA turnstile data files and read them into a pandas dataframe "
   ]
  },
  {
   "cell_type": "code",
   "execution_count": 2,
   "metadata": {},
   "outputs": [],
   "source": [
    "#This code can only be used to download data files for a specific month, but can easily be modified to add more dates\n",
    "\n",
    "base_url = \"http://web.mta.info/developers/data/nyct/turnstile/turnstile_\"\n",
    "df = pd.DataFrame()\n",
    "date = 180602\n",
    "while date < 180623:\n",
    "    url = base_url + str(date) + '.txt'\n",
    "    s = requests.get(url).content\n",
    "    c = pd.read_csv(io.StringIO(s.decode('utf-8')))\n",
    "    df = pd.concat([df, c])\n",
    "    date += 7"
   ]
  },
  {
   "cell_type": "code",
   "execution_count": 3,
   "metadata": {},
   "outputs": [],
   "source": [
    "#Clean columns and combine sets\n",
    "df.columns = [column.strip() for column in df.columns]"
   ]
  },
  {
   "cell_type": "code",
   "execution_count": 4,
   "metadata": {},
   "outputs": [
    {
     "data": {
      "text/html": [
       "<div>\n",
       "<style scoped>\n",
       "    .dataframe tbody tr th:only-of-type {\n",
       "        vertical-align: middle;\n",
       "    }\n",
       "\n",
       "    .dataframe tbody tr th {\n",
       "        vertical-align: top;\n",
       "    }\n",
       "\n",
       "    .dataframe thead th {\n",
       "        text-align: right;\n",
       "    }\n",
       "</style>\n",
       "<table border=\"1\" class=\"dataframe\">\n",
       "  <thead>\n",
       "    <tr style=\"text-align: right;\">\n",
       "      <th></th>\n",
       "      <th>C/A</th>\n",
       "      <th>UNIT</th>\n",
       "      <th>SCP</th>\n",
       "      <th>STATION</th>\n",
       "      <th>LINENAME</th>\n",
       "      <th>DIVISION</th>\n",
       "      <th>DATE</th>\n",
       "      <th>TIME</th>\n",
       "      <th>DESC</th>\n",
       "      <th>ENTRIES</th>\n",
       "      <th>EXITS</th>\n",
       "    </tr>\n",
       "  </thead>\n",
       "  <tbody>\n",
       "    <tr>\n",
       "      <th>0</th>\n",
       "      <td>A002</td>\n",
       "      <td>R051</td>\n",
       "      <td>02-00-00</td>\n",
       "      <td>59 ST</td>\n",
       "      <td>NQR456W</td>\n",
       "      <td>BMT</td>\n",
       "      <td>05/26/2018</td>\n",
       "      <td>00:00:00</td>\n",
       "      <td>REGULAR</td>\n",
       "      <td>6633898</td>\n",
       "      <td>2248498</td>\n",
       "    </tr>\n",
       "    <tr>\n",
       "      <th>1</th>\n",
       "      <td>A002</td>\n",
       "      <td>R051</td>\n",
       "      <td>02-00-00</td>\n",
       "      <td>59 ST</td>\n",
       "      <td>NQR456W</td>\n",
       "      <td>BMT</td>\n",
       "      <td>05/26/2018</td>\n",
       "      <td>04:00:00</td>\n",
       "      <td>REGULAR</td>\n",
       "      <td>6633916</td>\n",
       "      <td>2248500</td>\n",
       "    </tr>\n",
       "    <tr>\n",
       "      <th>2</th>\n",
       "      <td>A002</td>\n",
       "      <td>R051</td>\n",
       "      <td>02-00-00</td>\n",
       "      <td>59 ST</td>\n",
       "      <td>NQR456W</td>\n",
       "      <td>BMT</td>\n",
       "      <td>05/26/2018</td>\n",
       "      <td>08:00:00</td>\n",
       "      <td>REGULAR</td>\n",
       "      <td>6633928</td>\n",
       "      <td>2248517</td>\n",
       "    </tr>\n",
       "    <tr>\n",
       "      <th>3</th>\n",
       "      <td>A002</td>\n",
       "      <td>R051</td>\n",
       "      <td>02-00-00</td>\n",
       "      <td>59 ST</td>\n",
       "      <td>NQR456W</td>\n",
       "      <td>BMT</td>\n",
       "      <td>05/26/2018</td>\n",
       "      <td>12:00:00</td>\n",
       "      <td>REGULAR</td>\n",
       "      <td>6634015</td>\n",
       "      <td>2248577</td>\n",
       "    </tr>\n",
       "    <tr>\n",
       "      <th>4</th>\n",
       "      <td>A002</td>\n",
       "      <td>R051</td>\n",
       "      <td>02-00-00</td>\n",
       "      <td>59 ST</td>\n",
       "      <td>NQR456W</td>\n",
       "      <td>BMT</td>\n",
       "      <td>05/26/2018</td>\n",
       "      <td>16:00:00</td>\n",
       "      <td>REGULAR</td>\n",
       "      <td>6634173</td>\n",
       "      <td>2248610</td>\n",
       "    </tr>\n",
       "  </tbody>\n",
       "</table>\n",
       "</div>"
      ],
      "text/plain": [
       "    C/A  UNIT       SCP STATION LINENAME DIVISION        DATE      TIME  \\\n",
       "0  A002  R051  02-00-00   59 ST  NQR456W      BMT  05/26/2018  00:00:00   \n",
       "1  A002  R051  02-00-00   59 ST  NQR456W      BMT  05/26/2018  04:00:00   \n",
       "2  A002  R051  02-00-00   59 ST  NQR456W      BMT  05/26/2018  08:00:00   \n",
       "3  A002  R051  02-00-00   59 ST  NQR456W      BMT  05/26/2018  12:00:00   \n",
       "4  A002  R051  02-00-00   59 ST  NQR456W      BMT  05/26/2018  16:00:00   \n",
       "\n",
       "      DESC  ENTRIES    EXITS  \n",
       "0  REGULAR  6633898  2248498  \n",
       "1  REGULAR  6633916  2248500  \n",
       "2  REGULAR  6633928  2248517  \n",
       "3  REGULAR  6634015  2248577  \n",
       "4  REGULAR  6634173  2248610  "
      ]
     },
     "execution_count": 4,
     "metadata": {},
     "output_type": "execute_result"
    }
   ],
   "source": [
    "#Display the first few rows\n",
    "df.head()"
   ]
  },
  {
   "cell_type": "code",
   "execution_count": 5,
   "metadata": {},
   "outputs": [
    {
     "name": "stdout",
     "output_type": "stream",
     "text": [
      "<class 'pandas.core.frame.DataFrame'>\n",
      "Int64Index: 590357 entries, 0 to 196977\n",
      "Data columns (total 11 columns):\n",
      "C/A         590357 non-null object\n",
      "UNIT        590357 non-null object\n",
      "SCP         590357 non-null object\n",
      "STATION     590357 non-null object\n",
      "LINENAME    590357 non-null object\n",
      "DIVISION    590357 non-null object\n",
      "DATE        590357 non-null object\n",
      "TIME        590357 non-null object\n",
      "DESC        590357 non-null object\n",
      "ENTRIES     590357 non-null int64\n",
      "EXITS       590357 non-null int64\n",
      "dtypes: int64(2), object(9)\n",
      "memory usage: 54.0+ MB\n"
     ]
    }
   ],
   "source": [
    "df.info()"
   ]
  },
  {
   "cell_type": "markdown",
   "metadata": {},
   "source": [
    "# Challenge 2  \n",
    "\n",
    "Create a new column that stores the date and time as a single pandas datetime object."
   ]
  },
  {
   "cell_type": "code",
   "execution_count": 6,
   "metadata": {},
   "outputs": [
    {
     "data": {
      "text/html": [
       "<div>\n",
       "<style scoped>\n",
       "    .dataframe tbody tr th:only-of-type {\n",
       "        vertical-align: middle;\n",
       "    }\n",
       "\n",
       "    .dataframe tbody tr th {\n",
       "        vertical-align: top;\n",
       "    }\n",
       "\n",
       "    .dataframe thead th {\n",
       "        text-align: right;\n",
       "    }\n",
       "</style>\n",
       "<table border=\"1\" class=\"dataframe\">\n",
       "  <thead>\n",
       "    <tr style=\"text-align: right;\">\n",
       "      <th></th>\n",
       "      <th>C/A</th>\n",
       "      <th>UNIT</th>\n",
       "      <th>SCP</th>\n",
       "      <th>STATION</th>\n",
       "      <th>LINENAME</th>\n",
       "      <th>DIVISION</th>\n",
       "      <th>DATE</th>\n",
       "      <th>TIME</th>\n",
       "      <th>DESC</th>\n",
       "      <th>ENTRIES</th>\n",
       "      <th>EXITS</th>\n",
       "      <th>DATETIME</th>\n",
       "    </tr>\n",
       "  </thead>\n",
       "  <tbody>\n",
       "    <tr>\n",
       "      <th>0</th>\n",
       "      <td>A002</td>\n",
       "      <td>R051</td>\n",
       "      <td>02-00-00</td>\n",
       "      <td>59 ST</td>\n",
       "      <td>NQR456W</td>\n",
       "      <td>BMT</td>\n",
       "      <td>05/26/2018</td>\n",
       "      <td>00:00:00</td>\n",
       "      <td>REGULAR</td>\n",
       "      <td>6633898</td>\n",
       "      <td>2248498</td>\n",
       "      <td>2018-05-26 00:00:00</td>\n",
       "    </tr>\n",
       "    <tr>\n",
       "      <th>1</th>\n",
       "      <td>A002</td>\n",
       "      <td>R051</td>\n",
       "      <td>02-00-00</td>\n",
       "      <td>59 ST</td>\n",
       "      <td>NQR456W</td>\n",
       "      <td>BMT</td>\n",
       "      <td>05/26/2018</td>\n",
       "      <td>04:00:00</td>\n",
       "      <td>REGULAR</td>\n",
       "      <td>6633916</td>\n",
       "      <td>2248500</td>\n",
       "      <td>2018-05-26 04:00:00</td>\n",
       "    </tr>\n",
       "    <tr>\n",
       "      <th>2</th>\n",
       "      <td>A002</td>\n",
       "      <td>R051</td>\n",
       "      <td>02-00-00</td>\n",
       "      <td>59 ST</td>\n",
       "      <td>NQR456W</td>\n",
       "      <td>BMT</td>\n",
       "      <td>05/26/2018</td>\n",
       "      <td>08:00:00</td>\n",
       "      <td>REGULAR</td>\n",
       "      <td>6633928</td>\n",
       "      <td>2248517</td>\n",
       "      <td>2018-05-26 08:00:00</td>\n",
       "    </tr>\n",
       "    <tr>\n",
       "      <th>3</th>\n",
       "      <td>A002</td>\n",
       "      <td>R051</td>\n",
       "      <td>02-00-00</td>\n",
       "      <td>59 ST</td>\n",
       "      <td>NQR456W</td>\n",
       "      <td>BMT</td>\n",
       "      <td>05/26/2018</td>\n",
       "      <td>12:00:00</td>\n",
       "      <td>REGULAR</td>\n",
       "      <td>6634015</td>\n",
       "      <td>2248577</td>\n",
       "      <td>2018-05-26 12:00:00</td>\n",
       "    </tr>\n",
       "    <tr>\n",
       "      <th>4</th>\n",
       "      <td>A002</td>\n",
       "      <td>R051</td>\n",
       "      <td>02-00-00</td>\n",
       "      <td>59 ST</td>\n",
       "      <td>NQR456W</td>\n",
       "      <td>BMT</td>\n",
       "      <td>05/26/2018</td>\n",
       "      <td>16:00:00</td>\n",
       "      <td>REGULAR</td>\n",
       "      <td>6634173</td>\n",
       "      <td>2248610</td>\n",
       "      <td>2018-05-26 16:00:00</td>\n",
       "    </tr>\n",
       "  </tbody>\n",
       "</table>\n",
       "</div>"
      ],
      "text/plain": [
       "    C/A  UNIT       SCP STATION LINENAME DIVISION        DATE      TIME  \\\n",
       "0  A002  R051  02-00-00   59 ST  NQR456W      BMT  05/26/2018  00:00:00   \n",
       "1  A002  R051  02-00-00   59 ST  NQR456W      BMT  05/26/2018  04:00:00   \n",
       "2  A002  R051  02-00-00   59 ST  NQR456W      BMT  05/26/2018  08:00:00   \n",
       "3  A002  R051  02-00-00   59 ST  NQR456W      BMT  05/26/2018  12:00:00   \n",
       "4  A002  R051  02-00-00   59 ST  NQR456W      BMT  05/26/2018  16:00:00   \n",
       "\n",
       "      DESC  ENTRIES    EXITS            DATETIME  \n",
       "0  REGULAR  6633898  2248498 2018-05-26 00:00:00  \n",
       "1  REGULAR  6633916  2248500 2018-05-26 04:00:00  \n",
       "2  REGULAR  6633928  2248517 2018-05-26 08:00:00  \n",
       "3  REGULAR  6634015  2248577 2018-05-26 12:00:00  \n",
       "4  REGULAR  6634173  2248610 2018-05-26 16:00:00  "
      ]
     },
     "execution_count": 6,
     "metadata": {},
     "output_type": "execute_result"
    }
   ],
   "source": [
    "df['DATETIME'] = df['DATE'] + ' ' + df['TIME']\n",
    "df['DATETIME'] = pd.to_datetime(df['DATETIME'])\n",
    "df.head()"
   ]
  },
  {
   "cell_type": "code",
   "execution_count": 7,
   "metadata": {},
   "outputs": [],
   "source": [
    "#Remove duplicate entries\n",
    "\n",
    "df.sort_values([\"C/A\", \"UNIT\", \"SCP\", \"STATION\", \"DATETIME\"], \n",
    "                          inplace=True, ascending=False)\n",
    "\n",
    "df.drop_duplicates(subset=[\"C/A\", \"UNIT\", \"SCP\", \"STATION\", \"DATETIME\"], inplace=True)"
   ]
  },
  {
   "cell_type": "markdown",
   "metadata": {},
   "source": [
    "# Challenge 3\n",
    "\n",
    "These counts are for every n hours (What is n?). Also, there's something odd about these \"counts\", what is it? Do they actually represent total entries for a time period, or something else? We want total daily entries, create a new dataframe with one row per turnstile/day and a column that gives total daily entries.\n",
    "\n",
    ">Response: these counts are for every 4 hours (usually but not always). The counts measure a total sum of entries, not the total in a period of four hours"
   ]
  },
  {
   "cell_type": "code",
   "execution_count": 8,
   "metadata": {},
   "outputs": [],
   "source": [
    "#group by (\"C/A\", \"UNIT\", \"SCP\", \"STATION\", \"DATE\") so that we only get the count total for each day, and only take the entries\n",
    "\n",
    "daily = (df\n",
    "            .groupby([\"C/A\", \"UNIT\", \"SCP\", \"STATION\", \"DATE\"],as_index=False)\n",
    "            .ENTRIES.first())"
   ]
  },
  {
   "cell_type": "code",
   "execution_count": 9,
   "metadata": {},
   "outputs": [],
   "source": [
    "#Create previous date and previous entries columns using grp.shift()\n",
    "\n",
    "daily[[\"PREV_DATE\", \"PREV_ENTRIES\"]] = (daily\n",
    "                                            .groupby([\"C/A\", \"UNIT\", \"SCP\", \"STATION\"])[\"DATE\", \"ENTRIES\"]\n",
    "                                            .transform(lambda grp: grp.shift(1)))\n",
    "\n",
    "#subtract the previous entries from the current in order to find the daily entries (stored in a new column)\n",
    "\n",
    "daily['DAILY_ENTRIES'] = daily['ENTRIES'] - daily['PREV_ENTRIES']"
   ]
  },
  {
   "cell_type": "code",
   "execution_count": 10,
   "metadata": {},
   "outputs": [],
   "source": [
    "# Drop the NaN columns which were created by the shift\n",
    "daily.dropna(subset=[\"PREV_DATE\"], axis=0, inplace=True)"
   ]
  },
  {
   "cell_type": "code",
   "execution_count": 11,
   "metadata": {},
   "outputs": [
    {
     "data": {
      "text/html": [
       "<div>\n",
       "<style scoped>\n",
       "    .dataframe tbody tr th:only-of-type {\n",
       "        vertical-align: middle;\n",
       "    }\n",
       "\n",
       "    .dataframe tbody tr th {\n",
       "        vertical-align: top;\n",
       "    }\n",
       "\n",
       "    .dataframe thead th {\n",
       "        text-align: right;\n",
       "    }\n",
       "</style>\n",
       "<table border=\"1\" class=\"dataframe\">\n",
       "  <thead>\n",
       "    <tr style=\"text-align: right;\">\n",
       "      <th></th>\n",
       "      <th>C/A</th>\n",
       "      <th>UNIT</th>\n",
       "      <th>SCP</th>\n",
       "      <th>STATION</th>\n",
       "      <th>DATE</th>\n",
       "      <th>ENTRIES</th>\n",
       "      <th>PREV_DATE</th>\n",
       "      <th>PREV_ENTRIES</th>\n",
       "      <th>DAILY_ENTRIES</th>\n",
       "    </tr>\n",
       "  </thead>\n",
       "  <tbody>\n",
       "    <tr>\n",
       "      <th>1</th>\n",
       "      <td>A002</td>\n",
       "      <td>R051</td>\n",
       "      <td>02-00-00</td>\n",
       "      <td>59 ST</td>\n",
       "      <td>05/27/2018</td>\n",
       "      <td>6634856</td>\n",
       "      <td>05/26/2018</td>\n",
       "      <td>6634367.0</td>\n",
       "      <td>489.0</td>\n",
       "    </tr>\n",
       "    <tr>\n",
       "      <th>2</th>\n",
       "      <td>A002</td>\n",
       "      <td>R051</td>\n",
       "      <td>02-00-00</td>\n",
       "      <td>59 ST</td>\n",
       "      <td>05/28/2018</td>\n",
       "      <td>6635407</td>\n",
       "      <td>05/27/2018</td>\n",
       "      <td>6634856.0</td>\n",
       "      <td>551.0</td>\n",
       "    </tr>\n",
       "    <tr>\n",
       "      <th>3</th>\n",
       "      <td>A002</td>\n",
       "      <td>R051</td>\n",
       "      <td>02-00-00</td>\n",
       "      <td>59 ST</td>\n",
       "      <td>05/29/2018</td>\n",
       "      <td>6636665</td>\n",
       "      <td>05/28/2018</td>\n",
       "      <td>6635407.0</td>\n",
       "      <td>1258.0</td>\n",
       "    </tr>\n",
       "    <tr>\n",
       "      <th>4</th>\n",
       "      <td>A002</td>\n",
       "      <td>R051</td>\n",
       "      <td>02-00-00</td>\n",
       "      <td>59 ST</td>\n",
       "      <td>05/30/2018</td>\n",
       "      <td>6638063</td>\n",
       "      <td>05/29/2018</td>\n",
       "      <td>6636665.0</td>\n",
       "      <td>1398.0</td>\n",
       "    </tr>\n",
       "    <tr>\n",
       "      <th>5</th>\n",
       "      <td>A002</td>\n",
       "      <td>R051</td>\n",
       "      <td>02-00-00</td>\n",
       "      <td>59 ST</td>\n",
       "      <td>05/31/2018</td>\n",
       "      <td>6639572</td>\n",
       "      <td>05/30/2018</td>\n",
       "      <td>6638063.0</td>\n",
       "      <td>1509.0</td>\n",
       "    </tr>\n",
       "  </tbody>\n",
       "</table>\n",
       "</div>"
      ],
      "text/plain": [
       "    C/A  UNIT       SCP STATION        DATE  ENTRIES   PREV_DATE  \\\n",
       "1  A002  R051  02-00-00   59 ST  05/27/2018  6634856  05/26/2018   \n",
       "2  A002  R051  02-00-00   59 ST  05/28/2018  6635407  05/27/2018   \n",
       "3  A002  R051  02-00-00   59 ST  05/29/2018  6636665  05/28/2018   \n",
       "4  A002  R051  02-00-00   59 ST  05/30/2018  6638063  05/29/2018   \n",
       "5  A002  R051  02-00-00   59 ST  05/31/2018  6639572  05/30/2018   \n",
       "\n",
       "   PREV_ENTRIES  DAILY_ENTRIES  \n",
       "1     6634367.0          489.0  \n",
       "2     6634856.0          551.0  \n",
       "3     6635407.0         1258.0  \n",
       "4     6636665.0         1398.0  \n",
       "5     6638063.0         1509.0  "
      ]
     },
     "execution_count": 11,
     "metadata": {},
     "output_type": "execute_result"
    }
   ],
   "source": [
    "daily.head()"
   ]
  },
  {
   "cell_type": "code",
   "execution_count": 12,
   "metadata": {},
   "outputs": [
    {
     "name": "stdout",
     "output_type": "stream",
     "text": [
      "<class 'pandas.core.frame.DataFrame'>\n",
      "Int64Index: 93893 entries, 1 to 98595\n",
      "Data columns (total 9 columns):\n",
      "C/A              93893 non-null object\n",
      "UNIT             93893 non-null object\n",
      "SCP              93893 non-null object\n",
      "STATION          93893 non-null object\n",
      "DATE             93893 non-null object\n",
      "ENTRIES          93893 non-null int64\n",
      "PREV_DATE        93893 non-null object\n",
      "PREV_ENTRIES     93893 non-null float64\n",
      "DAILY_ENTRIES    93893 non-null float64\n",
      "dtypes: float64(2), int64(1), object(6)\n",
      "memory usage: 7.2+ MB\n"
     ]
    }
   ],
   "source": [
    "daily.info()"
   ]
  },
  {
   "cell_type": "code",
   "execution_count": 13,
   "metadata": {},
   "outputs": [
    {
     "name": "stdout",
     "output_type": "stream",
     "text": [
      "524514 1535945.0\n",
      "655386 524839.0\n",
      "369 169654.0\n",
      "851 5073692.0\n",
      "524288 585.0\n",
      "164 59976.0\n",
      "1442830408 11142329.0\n",
      "596 4709092.0\n",
      "995 165800.0\n",
      "762 11178158.0\n",
      "33604923 145084.0\n",
      "33602425 158379.0\n",
      "218572258 118342317.0\n",
      "458757 723649.0\n",
      "1107 21372.0\n",
      "1099 32722.0\n",
      "88 133054.0\n",
      "213 553688.0\n",
      "323 175528.0\n",
      "561 37771.0\n",
      "417 44335.0\n",
      "812 95704.0\n",
      "1936 36377.0\n",
      "220 890540.0\n",
      "225 197880.0\n",
      "94 316019.0\n",
      "1888 234567.0\n",
      "23 669244.0\n",
      "1928 24204.0\n",
      "1153 4951139.0\n",
      "347 1133456.0\n",
      "4949 2007890462.0\n",
      "1577074115 6175973.0\n",
      "116 3449388.0\n",
      "1258306609 4961695.0\n",
      "1962868327 9144704.0\n",
      "1067608 268483050.0\n",
      "786432 0.0\n",
      "51136977 201563674.0\n",
      "145 51138084.0\n",
      "694 5970078.0\n",
      "686 3654889.0\n"
     ]
    }
   ],
   "source": [
    "#Account for the entry counters that are counting down instead of up (which then return a negative result when subtracted)\n",
    "\n",
    "def get_daily_counts(row, max_counter):\n",
    "    counter = row[\"ENTRIES\"] - row[\"PREV_ENTRIES\"]\n",
    "    if counter < 0:\n",
    "        counter = -counter\n",
    "    if counter > max_counter:\n",
    "        print(row[\"ENTRIES\"], row[\"PREV_ENTRIES\"])\n",
    "        counter = min(row[\"ENTRIES\"], row[\"PREV_ENTRIES\"])\n",
    "    if counter > max_counter:\n",
    "        return 0\n",
    "    return counter\n",
    "\n",
    "daily[\"DAILY_ENTRIES\"] = daily.apply(get_daily_counts, axis=1, max_counter=20000)"
   ]
  },
  {
   "cell_type": "code",
   "execution_count": 14,
   "metadata": {},
   "outputs": [
    {
     "name": "stdout",
     "output_type": "stream",
     "text": [
      "<class 'pandas.core.frame.DataFrame'>\n",
      "Int64Index: 93893 entries, 1 to 98595\n",
      "Data columns (total 9 columns):\n",
      "C/A              93893 non-null object\n",
      "UNIT             93893 non-null object\n",
      "SCP              93893 non-null object\n",
      "STATION          93893 non-null object\n",
      "DATE             93893 non-null object\n",
      "ENTRIES          93893 non-null int64\n",
      "PREV_DATE        93893 non-null object\n",
      "PREV_ENTRIES     93893 non-null float64\n",
      "DAILY_ENTRIES    93893 non-null float64\n",
      "dtypes: float64(2), int64(1), object(6)\n",
      "memory usage: 7.2+ MB\n"
     ]
    }
   ],
   "source": [
    "daily.info()"
   ]
  },
  {
   "cell_type": "code",
   "execution_count": 15,
   "metadata": {},
   "outputs": [],
   "source": [
    "#Change the data type in \"DATE\" to datetime\n",
    " \n",
    "daily['DATE'] = pd.to_datetime(daily['DATE'])"
   ]
  },
  {
   "cell_type": "markdown",
   "metadata": {},
   "source": [
    "# Challenge 4  \n",
    "\n",
    "Plot the daily time series for a turnstile."
   ]
  },
  {
   "cell_type": "code",
   "execution_count": 16,
   "metadata": {},
   "outputs": [],
   "source": [
    "# Create a mask to select a turnstyle \n",
    "mask = ((daily[\"C/A\"] == \"A002\") & \n",
    "        (daily[\"UNIT\"] == \"R051\") & \n",
    "        (daily[\"SCP\"] == \"02-00-00\") & \n",
    "        (daily[\"STATION\"] == \"59 ST\"))\n",
    "\n",
    "df_mask = daily[mask]\n",
    "\n",
    "#create lists of the content in the \"DATE\" and \"DAILY_ENTRIES\" columns\n",
    "dates = df_mask[\"DATE\"].values\n",
    "count = df_mask[\"DAILY_ENTRIES\"].values"
   ]
  },
  {
   "cell_type": "code",
   "execution_count": 17,
   "metadata": {},
   "outputs": [
    {
     "data": {
      "image/png": "[encoded data removed]",
      "text/plain": [
       "<Figure size 1296x360 with 1 Axes>"
      ]
     },
     "metadata": {},
     "output_type": "display_data"
    }
   ],
   "source": [
    "# Plot the figure\n",
    "plt.figure(figsize=(18,5))\n",
    "plt.plot(dates,count)\n",
    "plt.title('Turnstile 02-00-00 Daily Counts', fontsize = 20, weight = 'bold')\n",
    "plt.ylabel('Number of Entries', fontsize = 15)\n",
    "plt.xlabel('Date', fontsize = 15)\n",
    "sns.despine()"
   ]
  },
  {
   "cell_type": "markdown",
   "metadata": {},
   "source": [
    "> There are far fewer entries on the weekends than the weekdays"
   ]
  },
  {
   "cell_type": "markdown",
   "metadata": {},
   "source": [
    "# Challenge 5  \n",
    "For each ControlArea/UNIT/STATION combo, for each day, add the counts from each turnstile belonging to that combo."
   ]
  },
  {
   "cell_type": "code",
   "execution_count": 18,
   "metadata": {},
   "outputs": [],
   "source": [
    "# Group by (\"C/A\",\"UNIT\",\"STATION\",\"DATE\") to find the total daily sum\n",
    "\n",
    "comb_turnstiles = daily.groupby([\"C/A\",\"UNIT\",\"STATION\",\"DATE\"],as_index=False)[\"DAILY_ENTRIES\"].sum()"
   ]
  },
  {
   "cell_type": "code",
   "execution_count": 19,
   "metadata": {},
   "outputs": [
    {
     "data": {
      "text/html": [
       "<div>\n",
       "<style scoped>\n",
       "    .dataframe tbody tr th:only-of-type {\n",
       "        vertical-align: middle;\n",
       "    }\n",
       "\n",
       "    .dataframe tbody tr th {\n",
       "        vertical-align: top;\n",
       "    }\n",
       "\n",
       "    .dataframe thead th {\n",
       "        text-align: right;\n",
       "    }\n",
       "</style>\n",
       "<table border=\"1\" class=\"dataframe\">\n",
       "  <thead>\n",
       "    <tr style=\"text-align: right;\">\n",
       "      <th></th>\n",
       "      <th>C/A</th>\n",
       "      <th>UNIT</th>\n",
       "      <th>STATION</th>\n",
       "      <th>DATE</th>\n",
       "      <th>DAILY_ENTRIES</th>\n",
       "    </tr>\n",
       "  </thead>\n",
       "  <tbody>\n",
       "    <tr>\n",
       "      <th>0</th>\n",
       "      <td>A002</td>\n",
       "      <td>R051</td>\n",
       "      <td>59 ST</td>\n",
       "      <td>2018-05-27</td>\n",
       "      <td>5306.0</td>\n",
       "    </tr>\n",
       "    <tr>\n",
       "      <th>1</th>\n",
       "      <td>A002</td>\n",
       "      <td>R051</td>\n",
       "      <td>59 ST</td>\n",
       "      <td>2018-05-28</td>\n",
       "      <td>5609.0</td>\n",
       "    </tr>\n",
       "    <tr>\n",
       "      <th>2</th>\n",
       "      <td>A002</td>\n",
       "      <td>R051</td>\n",
       "      <td>59 ST</td>\n",
       "      <td>2018-05-29</td>\n",
       "      <td>12526.0</td>\n",
       "    </tr>\n",
       "    <tr>\n",
       "      <th>3</th>\n",
       "      <td>A002</td>\n",
       "      <td>R051</td>\n",
       "      <td>59 ST</td>\n",
       "      <td>2018-05-30</td>\n",
       "      <td>13760.0</td>\n",
       "    </tr>\n",
       "    <tr>\n",
       "      <th>4</th>\n",
       "      <td>A002</td>\n",
       "      <td>R051</td>\n",
       "      <td>59 ST</td>\n",
       "      <td>2018-05-31</td>\n",
       "      <td>13911.0</td>\n",
       "    </tr>\n",
       "  </tbody>\n",
       "</table>\n",
       "</div>"
      ],
      "text/plain": [
       "    C/A  UNIT STATION       DATE  DAILY_ENTRIES\n",
       "0  A002  R051   59 ST 2018-05-27         5306.0\n",
       "1  A002  R051   59 ST 2018-05-28         5609.0\n",
       "2  A002  R051   59 ST 2018-05-29        12526.0\n",
       "3  A002  R051   59 ST 2018-05-30        13760.0\n",
       "4  A002  R051   59 ST 2018-05-31        13911.0"
      ]
     },
     "execution_count": 19,
     "metadata": {},
     "output_type": "execute_result"
    }
   ],
   "source": [
    "comb_turnstiles.head()"
   ]
  },
  {
   "cell_type": "markdown",
   "metadata": {},
   "source": [
    "# Challenge 6  \n",
    "Combine everything in each station, and come up with a time series for each STATION."
   ]
  },
  {
   "cell_type": "code",
   "execution_count": 20,
   "metadata": {},
   "outputs": [
    {
     "data": {
      "text/html": [
       "<div>\n",
       "<style scoped>\n",
       "    .dataframe tbody tr th:only-of-type {\n",
       "        vertical-align: middle;\n",
       "    }\n",
       "\n",
       "    .dataframe tbody tr th {\n",
       "        vertical-align: top;\n",
       "    }\n",
       "\n",
       "    .dataframe thead th {\n",
       "        text-align: right;\n",
       "    }\n",
       "</style>\n",
       "<table border=\"1\" class=\"dataframe\">\n",
       "  <thead>\n",
       "    <tr style=\"text-align: right;\">\n",
       "      <th></th>\n",
       "      <th>STATION</th>\n",
       "      <th>DATE</th>\n",
       "      <th>DAILY_ENTRIES</th>\n",
       "    </tr>\n",
       "  </thead>\n",
       "  <tbody>\n",
       "    <tr>\n",
       "      <th>0</th>\n",
       "      <td>1 AV</td>\n",
       "      <td>2018-05-27</td>\n",
       "      <td>13287.0</td>\n",
       "    </tr>\n",
       "    <tr>\n",
       "      <th>1</th>\n",
       "      <td>1 AV</td>\n",
       "      <td>2018-05-28</td>\n",
       "      <td>12572.0</td>\n",
       "    </tr>\n",
       "    <tr>\n",
       "      <th>2</th>\n",
       "      <td>1 AV</td>\n",
       "      <td>2018-05-29</td>\n",
       "      <td>20723.0</td>\n",
       "    </tr>\n",
       "    <tr>\n",
       "      <th>3</th>\n",
       "      <td>1 AV</td>\n",
       "      <td>2018-05-30</td>\n",
       "      <td>22414.0</td>\n",
       "    </tr>\n",
       "    <tr>\n",
       "      <th>4</th>\n",
       "      <td>1 AV</td>\n",
       "      <td>2018-05-31</td>\n",
       "      <td>22932.0</td>\n",
       "    </tr>\n",
       "  </tbody>\n",
       "</table>\n",
       "</div>"
      ],
      "text/plain": [
       "  STATION       DATE  DAILY_ENTRIES\n",
       "0    1 AV 2018-05-27        13287.0\n",
       "1    1 AV 2018-05-28        12572.0\n",
       "2    1 AV 2018-05-29        20723.0\n",
       "3    1 AV 2018-05-30        22414.0\n",
       "4    1 AV 2018-05-31        22932.0"
      ]
     },
     "execution_count": 20,
     "metadata": {},
     "output_type": "execute_result"
    }
   ],
   "source": [
    "# Group by station and date\n",
    "\n",
    "comb_station = comb_turnstiles.groupby([\"STATION\",\"DATE\"],as_index=False)[\"DAILY_ENTRIES\"].sum()\n",
    "comb_station.head()"
   ]
  },
  {
   "cell_type": "code",
   "execution_count": 21,
   "metadata": {},
   "outputs": [],
   "source": [
    "# Create lists of each column\n",
    "\n",
    "stations = comb_station[\"STATION\"].values\n",
    "dates = comb_station[\"DATE\"].values\n",
    "entries = comb_station[\"DAILY_ENTRIES\"].values"
   ]
  },
  {
   "cell_type": "code",
   "execution_count": 22,
   "metadata": {},
   "outputs": [],
   "source": [
    "# Create an empty dictionary\n",
    "dictionary = {}\n",
    "\n",
    "# Create a list of tuples with (station, date, entry) data\n",
    "data = []\n",
    "for station, date, entry in zip(stations,dates,entries):\n",
    "    tup = (station, date, entry)\n",
    "    data.append(tup)\n",
    "\n",
    "# Create a dictionary of the values\n",
    "for station, date, entry in data:\n",
    "    tup = (date,entry)\n",
    "    dictionary.setdefault(station, []).append(tup)"
   ]
  },
  {
   "cell_type": "markdown",
   "metadata": {},
   "source": [
    "# Challenge 7  \n",
    "Plot the time series for a station."
   ]
  },
  {
   "cell_type": "code",
   "execution_count": 23,
   "metadata": {},
   "outputs": [],
   "source": [
    "# Create lists of dates and entries for Kingston-Throop (my station)\n",
    "\n",
    "dates = []\n",
    "entries = []\n",
    "for item in dictionary[\"KINGSTON-THROOP\"]:\n",
    "    dates.append(item[0])\n",
    "    entries.append(item[1])"
   ]
  },
  {
   "cell_type": "code",
   "execution_count": 24,
   "metadata": {},
   "outputs": [
    {
     "data": {
      "image/png": "[encoded data removed]",
      "text/plain": [
       "<Figure size 1296x360 with 1 Axes>"
      ]
     },
     "metadata": {},
     "output_type": "display_data"
    }
   ],
   "source": [
    "# Plot the graph\n",
    "plt.figure(figsize=(18,5))\n",
    "plt.plot(dates,entries)\n",
    "plt.title('Kingston Throop Entries Timeseries', fontsize = 20, weight = 'bold')\n",
    "plt.ylabel('Number of Entries', fontsize = 15)\n",
    "plt.xlabel('Date', fontsize = 15)\n",
    "sns.despine()"
   ]
  },
  {
   "cell_type": "markdown",
   "metadata": {},
   "source": [
    "> This plot looks very similar to the individual turnstile plot, which makes sense since overall traffic patterns in station should be similar to the patterns at an individual turnstile"
   ]
  },
  {
   "cell_type": "markdown",
   "metadata": {},
   "source": [
    "# Challenge 8\n",
    "Make one list of counts for one week for one station. Monday's count, Tuesday's count, etc. so it's a list of 7 counts. Make the same list for another week, and another week, and another week. plt.plot(week_count_list) for every week_count_list you created this way. You should get a rainbow plot of weekly commute numbers on top of each other."
   ]
  },
  {
   "cell_type": "code",
   "execution_count": 25,
   "metadata": {},
   "outputs": [],
   "source": [
    "# Convert the date to a day of the week integer\n",
    "comb_station[\"DATE\"] = comb_station[\"DATE\"].dt.weekday"
   ]
  },
  {
   "cell_type": "code",
   "execution_count": 26,
   "metadata": {},
   "outputs": [
    {
     "data": {
      "text/html": [
       "<div>\n",
       "<style scoped>\n",
       "    .dataframe tbody tr th:only-of-type {\n",
       "        vertical-align: middle;\n",
       "    }\n",
       "\n",
       "    .dataframe tbody tr th {\n",
       "        vertical-align: top;\n",
       "    }\n",
       "\n",
       "    .dataframe thead th {\n",
       "        text-align: right;\n",
       "    }\n",
       "</style>\n",
       "<table border=\"1\" class=\"dataframe\">\n",
       "  <thead>\n",
       "    <tr style=\"text-align: right;\">\n",
       "      <th></th>\n",
       "      <th>STATION</th>\n",
       "      <th>DATE</th>\n",
       "      <th>DAILY_ENTRIES</th>\n",
       "    </tr>\n",
       "  </thead>\n",
       "  <tbody>\n",
       "    <tr>\n",
       "      <th>5240</th>\n",
       "      <td>KINGSTON-THROOP</td>\n",
       "      <td>6</td>\n",
       "      <td>3177.0</td>\n",
       "    </tr>\n",
       "    <tr>\n",
       "      <th>5241</th>\n",
       "      <td>KINGSTON-THROOP</td>\n",
       "      <td>0</td>\n",
       "      <td>3286.0</td>\n",
       "    </tr>\n",
       "    <tr>\n",
       "      <th>5242</th>\n",
       "      <td>KINGSTON-THROOP</td>\n",
       "      <td>1</td>\n",
       "      <td>6499.0</td>\n",
       "    </tr>\n",
       "    <tr>\n",
       "      <th>5243</th>\n",
       "      <td>KINGSTON-THROOP</td>\n",
       "      <td>2</td>\n",
       "      <td>6782.0</td>\n",
       "    </tr>\n",
       "    <tr>\n",
       "      <th>5244</th>\n",
       "      <td>KINGSTON-THROOP</td>\n",
       "      <td>3</td>\n",
       "      <td>6772.0</td>\n",
       "    </tr>\n",
       "    <tr>\n",
       "      <th>5245</th>\n",
       "      <td>KINGSTON-THROOP</td>\n",
       "      <td>4</td>\n",
       "      <td>6986.0</td>\n",
       "    </tr>\n",
       "    <tr>\n",
       "      <th>5246</th>\n",
       "      <td>KINGSTON-THROOP</td>\n",
       "      <td>5</td>\n",
       "      <td>4434.0</td>\n",
       "    </tr>\n",
       "    <tr>\n",
       "      <th>5247</th>\n",
       "      <td>KINGSTON-THROOP</td>\n",
       "      <td>6</td>\n",
       "      <td>3784.0</td>\n",
       "    </tr>\n",
       "    <tr>\n",
       "      <th>5248</th>\n",
       "      <td>KINGSTON-THROOP</td>\n",
       "      <td>0</td>\n",
       "      <td>6650.0</td>\n",
       "    </tr>\n",
       "    <tr>\n",
       "      <th>5249</th>\n",
       "      <td>KINGSTON-THROOP</td>\n",
       "      <td>1</td>\n",
       "      <td>6803.0</td>\n",
       "    </tr>\n",
       "    <tr>\n",
       "      <th>5250</th>\n",
       "      <td>KINGSTON-THROOP</td>\n",
       "      <td>2</td>\n",
       "      <td>6937.0</td>\n",
       "    </tr>\n",
       "    <tr>\n",
       "      <th>5251</th>\n",
       "      <td>KINGSTON-THROOP</td>\n",
       "      <td>3</td>\n",
       "      <td>6716.0</td>\n",
       "    </tr>\n",
       "    <tr>\n",
       "      <th>5252</th>\n",
       "      <td>KINGSTON-THROOP</td>\n",
       "      <td>4</td>\n",
       "      <td>7088.0</td>\n",
       "    </tr>\n",
       "    <tr>\n",
       "      <th>5253</th>\n",
       "      <td>KINGSTON-THROOP</td>\n",
       "      <td>5</td>\n",
       "      <td>4751.0</td>\n",
       "    </tr>\n",
       "    <tr>\n",
       "      <th>5254</th>\n",
       "      <td>KINGSTON-THROOP</td>\n",
       "      <td>6</td>\n",
       "      <td>4024.0</td>\n",
       "    </tr>\n",
       "    <tr>\n",
       "      <th>5255</th>\n",
       "      <td>KINGSTON-THROOP</td>\n",
       "      <td>0</td>\n",
       "      <td>6587.0</td>\n",
       "    </tr>\n",
       "    <tr>\n",
       "      <th>5256</th>\n",
       "      <td>KINGSTON-THROOP</td>\n",
       "      <td>1</td>\n",
       "      <td>6953.0</td>\n",
       "    </tr>\n",
       "    <tr>\n",
       "      <th>5257</th>\n",
       "      <td>KINGSTON-THROOP</td>\n",
       "      <td>2</td>\n",
       "      <td>6878.0</td>\n",
       "    </tr>\n",
       "    <tr>\n",
       "      <th>5258</th>\n",
       "      <td>KINGSTON-THROOP</td>\n",
       "      <td>3</td>\n",
       "      <td>6872.0</td>\n",
       "    </tr>\n",
       "    <tr>\n",
       "      <th>5259</th>\n",
       "      <td>KINGSTON-THROOP</td>\n",
       "      <td>4</td>\n",
       "      <td>6709.0</td>\n",
       "    </tr>\n",
       "  </tbody>\n",
       "</table>\n",
       "</div>"
      ],
      "text/plain": [
       "              STATION  DATE  DAILY_ENTRIES\n",
       "5240  KINGSTON-THROOP     6         3177.0\n",
       "5241  KINGSTON-THROOP     0         3286.0\n",
       "5242  KINGSTON-THROOP     1         6499.0\n",
       "5243  KINGSTON-THROOP     2         6782.0\n",
       "5244  KINGSTON-THROOP     3         6772.0\n",
       "5245  KINGSTON-THROOP     4         6986.0\n",
       "5246  KINGSTON-THROOP     5         4434.0\n",
       "5247  KINGSTON-THROOP     6         3784.0\n",
       "5248  KINGSTON-THROOP     0         6650.0\n",
       "5249  KINGSTON-THROOP     1         6803.0\n",
       "5250  KINGSTON-THROOP     2         6937.0\n",
       "5251  KINGSTON-THROOP     3         6716.0\n",
       "5252  KINGSTON-THROOP     4         7088.0\n",
       "5253  KINGSTON-THROOP     5         4751.0\n",
       "5254  KINGSTON-THROOP     6         4024.0\n",
       "5255  KINGSTON-THROOP     0         6587.0\n",
       "5256  KINGSTON-THROOP     1         6953.0\n",
       "5257  KINGSTON-THROOP     2         6878.0\n",
       "5258  KINGSTON-THROOP     3         6872.0\n",
       "5259  KINGSTON-THROOP     4         6709.0"
      ]
     },
     "execution_count": 26,
     "metadata": {},
     "output_type": "execute_result"
    }
   ],
   "source": [
    "# Extract Kingaton-Throop\n",
    "mask = (comb_station[\"STATION\"] == \"KINGSTON-THROOP\")\n",
    "kingston = comb_station[mask]\n",
    "kingston"
   ]
  },
  {
   "cell_type": "code",
   "execution_count": 27,
   "metadata": {},
   "outputs": [],
   "source": [
    "# Create a list of values from entries\n",
    "entries = kingston[\"DAILY_ENTRIES\"].values"
   ]
  },
  {
   "cell_type": "code",
   "execution_count": 28,
   "metadata": {},
   "outputs": [],
   "source": [
    "# Separate the weeks\n",
    "week1 = entries[0:7]\n",
    "week2 = entries[7:14]\n",
    "week3 = entries[14:21]"
   ]
  },
  {
   "cell_type": "code",
   "execution_count": 29,
   "metadata": {},
   "outputs": [
    {
     "data": {
      "image/png": "[encoded data removed]",
      "text/plain": [
       "<Figure size 432x288 with 1 Axes>"
      ]
     },
     "metadata": {},
     "output_type": "display_data"
    }
   ],
   "source": [
    "# Plot the weeks\n",
    "plt.plot(week1, c = '#45898C', label = '05/27/18 - 06/02/18')\n",
    "plt.plot(week2, c = '#E7C172', label = '06/03/18 - 06/09/18')\n",
    "plt.plot(week3, c = '#E77572', label = '06/10/18 - 06/15/18');\n",
    "plt.legend()\n",
    "plt.title('Kingston Throop Entries by Day of Week', fontsize = 20, weight = 'bold')\n",
    "plt.ylabel('Entries', fontsize = 15)\n",
    "plt.xlabel('Day of Week', fontsize = 15)\n",
    "sns.despine()"
   ]
  },
  {
   "cell_type": "markdown",
   "metadata": {},
   "source": [
    ">By overlaying the individual weeks, we can see that each week has a simiar pattern, with far fewer entries on weekends than weekdays. The first week is a bit irregular, as the monday has more similar entry data to a weekend day. It turns out that that particular day, May 28th, 2018 was Memorial Day. So it makes sense that it's entry data seemed more like a weekend."
   ]
  },
  {
   "cell_type": "markdown",
   "metadata": {},
   "source": [
    "# Challenge 9  \n",
    "Over multiple weeks, sum total ridership for each station and sort them, so you can find out the stations with the highest traffic during the time you investigate"
   ]
  },
  {
   "cell_type": "code",
   "execution_count": 30,
   "metadata": {},
   "outputs": [],
   "source": [
    "# This code sorts the stations with the highest number of entries per day of week\n",
    "\n",
    "# sum_comb_station = (comb_station\n",
    "#                     .groupby([\"DATE\", \"STATION\"],as_index=False)[\"DAILY_ENTRIES\"]\n",
    "#                     .sum().sort_values(by = \"DAILY_ENTRIES\")\n",
    "#                    )\n",
    "\n",
    "# sum_comb_station.sort_values([\"DATE\",\"DAILY_ENTRIES\"], inplace=True, ascending=False)\n",
    "\n",
    "# total_station_counts = comb_station.group"
   ]
  },
  {
   "cell_type": "code",
   "execution_count": 31,
   "metadata": {},
   "outputs": [],
   "source": [
    "# Sum all entries by station and sort them\n",
    "\n",
    "comb_station = (comb_station\n",
    "                .groupby([\"STATION\"],as_index=False)[\"DAILY_ENTRIES\"]\n",
    "                .sum()\n",
    "                .sort_values(by = \"DAILY_ENTRIES\", ascending=False)\n",
    "               )"
   ]
  },
  {
   "cell_type": "code",
   "execution_count": 32,
   "metadata": {},
   "outputs": [
    {
     "data": {
      "text/html": [
       "<div>\n",
       "<style scoped>\n",
       "    .dataframe tbody tr th:only-of-type {\n",
       "        vertical-align: middle;\n",
       "    }\n",
       "\n",
       "    .dataframe tbody tr th {\n",
       "        vertical-align: top;\n",
       "    }\n",
       "\n",
       "    .dataframe thead th {\n",
       "        text-align: right;\n",
       "    }\n",
       "</style>\n",
       "<table border=\"1\" class=\"dataframe\">\n",
       "  <thead>\n",
       "    <tr style=\"text-align: right;\">\n",
       "      <th></th>\n",
       "      <th>STATION</th>\n",
       "      <th>DAILY_ENTRIES</th>\n",
       "    </tr>\n",
       "  </thead>\n",
       "  <tbody>\n",
       "    <tr>\n",
       "      <th>59</th>\n",
       "      <td>34 ST-PENN STA</td>\n",
       "      <td>2881421.0</td>\n",
       "    </tr>\n",
       "    <tr>\n",
       "      <th>230</th>\n",
       "      <td>GRD CNTRL-42 ST</td>\n",
       "      <td>2568415.0</td>\n",
       "    </tr>\n",
       "    <tr>\n",
       "      <th>57</th>\n",
       "      <td>34 ST-HERALD SQ</td>\n",
       "      <td>2162908.0</td>\n",
       "    </tr>\n",
       "    <tr>\n",
       "      <th>45</th>\n",
       "      <td>23 ST</td>\n",
       "      <td>1918476.0</td>\n",
       "    </tr>\n",
       "    <tr>\n",
       "      <th>14</th>\n",
       "      <td>14 ST-UNION SQ</td>\n",
       "      <td>1884382.0</td>\n",
       "    </tr>\n",
       "    <tr>\n",
       "      <th>350</th>\n",
       "      <td>TIMES SQ-42 ST</td>\n",
       "      <td>1871631.0</td>\n",
       "    </tr>\n",
       "    <tr>\n",
       "      <th>65</th>\n",
       "      <td>42 ST-PORT AUTH</td>\n",
       "      <td>1829066.0</td>\n",
       "    </tr>\n",
       "    <tr>\n",
       "      <th>223</th>\n",
       "      <td>FULTON ST</td>\n",
       "      <td>1664061.0</td>\n",
       "    </tr>\n",
       "    <tr>\n",
       "      <th>9</th>\n",
       "      <td>125 ST</td>\n",
       "      <td>1448505.0</td>\n",
       "    </tr>\n",
       "    <tr>\n",
       "      <th>107</th>\n",
       "      <td>86 ST</td>\n",
       "      <td>1413850.0</td>\n",
       "    </tr>\n",
       "  </tbody>\n",
       "</table>\n",
       "</div>"
      ],
      "text/plain": [
       "             STATION  DAILY_ENTRIES\n",
       "59    34 ST-PENN STA      2881421.0\n",
       "230  GRD CNTRL-42 ST      2568415.0\n",
       "57   34 ST-HERALD SQ      2162908.0\n",
       "45             23 ST      1918476.0\n",
       "14    14 ST-UNION SQ      1884382.0\n",
       "350   TIMES SQ-42 ST      1871631.0\n",
       "65   42 ST-PORT AUTH      1829066.0\n",
       "223        FULTON ST      1664061.0\n",
       "9             125 ST      1448505.0\n",
       "107            86 ST      1413850.0"
      ]
     },
     "execution_count": 32,
     "metadata": {},
     "output_type": "execute_result"
    }
   ],
   "source": [
    "comb_station.head(10)"
   ]
  },
  {
   "cell_type": "markdown",
   "metadata": {},
   "source": [
    ">\"34 ST-PENN STA\" seems to have the highest total entries in this period of time."
   ]
  },
  {
   "cell_type": "markdown",
   "metadata": {},
   "source": [
    "# Challenge 10\n",
    "\n",
    "Make a single list of these total ridership values and plot it \n"
   ]
  },
  {
   "cell_type": "code",
   "execution_count": 33,
   "metadata": {},
   "outputs": [
    {
     "data": {
      "image/png": "[encoded data removed]",
      "text/plain": [
       "<Figure size 432x288 with 1 Axes>"
      ]
     },
     "metadata": {},
     "output_type": "display_data"
    }
   ],
   "source": [
    "# Make a list of all items in the \"DAILY_ENTRIES\" column in the summed dataframe from before\n",
    "total = comb_station[\"DAILY_ENTRIES\"].values\n",
    "\n",
    "# Plot it\n",
    "plt.hist(total);\n",
    "plt.title('Total Traffic per Station', fontsize = 20, weight = 'bold')\n",
    "plt.ylabel('Number of Stations', fontsize = 15)\n",
    "plt.xlabel('Total Entries in Three Weeks', fontsize = 15)\n",
    "sns.despine()"
   ]
  },
  {
   "cell_type": "markdown",
   "metadata": {},
   "source": [
    "> It's very clear that the large majoriity of stations don't get that much traffic on average (<170,000 per week or 24,000 per day). Only a tiny portion of stations get the majority of entries per day (although this really doesn't account for the size of those stations and number of lines through them compared with the smaller stations)."
   ]
  },
  {
   "cell_type": "code",
   "execution_count": 34,
   "metadata": {},
   "outputs": [
    {
     "data": {
      "image/png": "[encoded data removed]",
      "text/plain": [
       "<Figure size 432x288 with 1 Axes>"
      ]
     },
     "metadata": {},
     "output_type": "display_data"
    }
   ],
   "source": [
    "# Bar chart of the individual station total entries\n",
    "\n",
    "indices = range(len(total))\n",
    "plt.bar(indices, total);\n",
    "plt.title('Total Traffic per Station', fontsize = 20, weight = 'bold')\n",
    "plt.ylabel('Station', fontsize = 15)\n",
    "plt.xlabel('Total Entries in Three Weeks', fontsize = 15)\n",
    "sns.despine()"
   ]
  },
  {
   "cell_type": "markdown",
   "metadata": {},
   "source": [
    "> By looking at the individual stations, it's clear that the top few stations take significantly more than all the rest."
   ]
  }
 ],
 "metadata": {
  "kernelspec": {
   "display_name": "Python 3",
   "language": "python",
   "name": "python3"
  },
  "language_info": {
   "codemirror_mode": {
    "name": "ipython",
    "version": 3
   },
   "file_extension": ".py",
   "mimetype": "text/x-python",
   "name": "python",
   "nbconvert_exporter": "python",
   "pygments_lexer": "ipython3",
   "version": "3.6.5"
  }
 },
 "nbformat": 4,
 "nbformat_minor": 2
}
