{
 "cells": [
  {
   "cell_type": "markdown",
   "metadata": {},
   "source": [
    "## 13_Model_Exploration\n",
    "\n",
    "Author: Daniel Hui\n",
    "\n",
    "License: MIT\n",
    "\n",
    "This notebook exaluates a few different modelling options for the data, for comparison"
   ]
  },
  {
   "cell_type": "code",
   "execution_count": 16,
   "metadata": {},
   "outputs": [],
   "source": [
    "import pandas as pd\n",
    "import numpy as np\n",
    "\n",
    "# visualization imports\n",
    "import matplotlib.pyplot as plt\n",
    "import seaborn as sns\n",
    "plt.style.use('fivethirtyeight')\n",
    "\n",
    "import warnings\n",
    "warnings.simplefilter(action='ignore', category=FutureWarning)\n",
    "\n",
    "pd.set_option('display.max_columns', 500)\n",
    "pd.set_option('display.float_format', lambda x: '%.4f' % x)"
   ]
  },
  {
   "cell_type": "markdown",
   "metadata": {},
   "source": [
    "### Global Variables\n",
    "These names correspond to different data sets and targets. Comment them in/out to test different target ranges"
   ]
  },
  {
   "cell_type": "code",
   "execution_count": 17,
   "metadata": {},
   "outputs": [],
   "source": [
    "target_range = \"18_Half\""
   ]
  },
  {
   "cell_type": "markdown",
   "metadata": {},
   "source": [
    "### Load Dataset"
   ]
  },
  {
   "cell_type": "code",
   "execution_count": 18,
   "metadata": {},
   "outputs": [],
   "source": [
    "checkout_target_df = pd.read_csv(f'../01_Data/07_Merged_Target_Feature_Data/{target_range}_set.csv',index_col=0)"
   ]
  },
  {
   "cell_type": "code",
   "execution_count": 19,
   "metadata": {},
   "outputs": [
    {
     "data": {
      "text/html": [
       "<div>\n",
       "<style scoped>\n",
       "    .dataframe tbody tr th:only-of-type {\n",
       "        vertical-align: middle;\n",
       "    }\n",
       "\n",
       "    .dataframe tbody tr th {\n",
       "        vertical-align: top;\n",
       "    }\n",
       "\n",
       "    .dataframe thead th {\n",
       "        text-align: right;\n",
       "    }\n",
       "</style>\n",
       "<table border=\"1\" class=\"dataframe\">\n",
       "  <thead>\n",
       "    <tr style=\"text-align: right;\">\n",
       "      <th></th>\n",
       "      <th>BibNum</th>\n",
       "      <th>Checkout</th>\n",
       "      <th>Title</th>\n",
       "      <th>ISBN</th>\n",
       "      <th>Year</th>\n",
       "      <th>Fiction</th>\n",
       "      <th>Language</th>\n",
       "      <th>Nonfiction</th>\n",
       "      <th>Biography</th>\n",
       "      <th>Large Print</th>\n",
       "      <th>Picture</th>\n",
       "      <th>Children</th>\n",
       "      <th>Teen</th>\n",
       "      <th>Mystery</th>\n",
       "      <th>AfAm</th>\n",
       "      <th>Comic</th>\n",
       "      <th>30 Days</th>\n",
       "      <th>90 Days</th>\n",
       "      <th>180 Days</th>\n",
       "      <th>365 Days</th>\n",
       "      <th>Branches</th>\n",
       "      <th>Copies</th>\n",
       "      <th>bal</th>\n",
       "      <th>bea</th>\n",
       "      <th>bro</th>\n",
       "      <th>cap</th>\n",
       "      <th>cen</th>\n",
       "      <th>col</th>\n",
       "      <th>dlr</th>\n",
       "      <th>dth</th>\n",
       "      <th>fre</th>\n",
       "      <th>glk</th>\n",
       "      <th>gwd</th>\n",
       "      <th>hip</th>\n",
       "      <th>idc</th>\n",
       "      <th>lcy</th>\n",
       "      <th>mag</th>\n",
       "      <th>mgm</th>\n",
       "      <th>mon</th>\n",
       "      <th>net</th>\n",
       "      <th>nga</th>\n",
       "      <th>nhy</th>\n",
       "      <th>qna</th>\n",
       "      <th>rbe</th>\n",
       "      <th>spa</th>\n",
       "      <th>swt</th>\n",
       "      <th>uni</th>\n",
       "      <th>wal</th>\n",
       "      <th>wts</th>\n",
       "    </tr>\n",
       "  </thead>\n",
       "  <tbody>\n",
       "    <tr>\n",
       "      <th>0</th>\n",
       "      <td>3177276</td>\n",
       "      <td>0</td>\n",
       "      <td>1</td>\n",
       "      <td>0</td>\n",
       "      <td>2016</td>\n",
       "      <td>0</td>\n",
       "      <td>0</td>\n",
       "      <td>1</td>\n",
       "      <td>0</td>\n",
       "      <td>0</td>\n",
       "      <td>0</td>\n",
       "      <td>0</td>\n",
       "      <td>0</td>\n",
       "      <td>0</td>\n",
       "      <td>0</td>\n",
       "      <td>0</td>\n",
       "      <td>14</td>\n",
       "      <td>45</td>\n",
       "      <td>78</td>\n",
       "      <td>94</td>\n",
       "      <td>17</td>\n",
       "      <td>18</td>\n",
       "      <td>0</td>\n",
       "      <td>1</td>\n",
       "      <td>1</td>\n",
       "      <td>0</td>\n",
       "      <td>0</td>\n",
       "      <td>0</td>\n",
       "      <td>1</td>\n",
       "      <td>1</td>\n",
       "      <td>1</td>\n",
       "      <td>0</td>\n",
       "      <td>1</td>\n",
       "      <td>1</td>\n",
       "      <td>0</td>\n",
       "      <td>1</td>\n",
       "      <td>1</td>\n",
       "      <td>0</td>\n",
       "      <td>1</td>\n",
       "      <td>1</td>\n",
       "      <td>1</td>\n",
       "      <td>0</td>\n",
       "      <td>1</td>\n",
       "      <td>0</td>\n",
       "      <td>1</td>\n",
       "      <td>1</td>\n",
       "      <td>1</td>\n",
       "      <td>0</td>\n",
       "      <td>1</td>\n",
       "    </tr>\n",
       "    <tr>\n",
       "      <th>1</th>\n",
       "      <td>395432</td>\n",
       "      <td>0</td>\n",
       "      <td>1</td>\n",
       "      <td>1</td>\n",
       "      <td>1985</td>\n",
       "      <td>0</td>\n",
       "      <td>0</td>\n",
       "      <td>1</td>\n",
       "      <td>0</td>\n",
       "      <td>0</td>\n",
       "      <td>0</td>\n",
       "      <td>0</td>\n",
       "      <td>0</td>\n",
       "      <td>0</td>\n",
       "      <td>0</td>\n",
       "      <td>0</td>\n",
       "      <td>0</td>\n",
       "      <td>0</td>\n",
       "      <td>0</td>\n",
       "      <td>1</td>\n",
       "      <td>1</td>\n",
       "      <td>1</td>\n",
       "      <td>0</td>\n",
       "      <td>0</td>\n",
       "      <td>0</td>\n",
       "      <td>0</td>\n",
       "      <td>1</td>\n",
       "      <td>0</td>\n",
       "      <td>0</td>\n",
       "      <td>0</td>\n",
       "      <td>0</td>\n",
       "      <td>0</td>\n",
       "      <td>0</td>\n",
       "      <td>0</td>\n",
       "      <td>0</td>\n",
       "      <td>0</td>\n",
       "      <td>0</td>\n",
       "      <td>0</td>\n",
       "      <td>0</td>\n",
       "      <td>0</td>\n",
       "      <td>0</td>\n",
       "      <td>0</td>\n",
       "      <td>0</td>\n",
       "      <td>0</td>\n",
       "      <td>0</td>\n",
       "      <td>0</td>\n",
       "      <td>0</td>\n",
       "      <td>0</td>\n",
       "      <td>0</td>\n",
       "    </tr>\n",
       "    <tr>\n",
       "      <th>2</th>\n",
       "      <td>123754</td>\n",
       "      <td>1</td>\n",
       "      <td>1</td>\n",
       "      <td>0</td>\n",
       "      <td>1945</td>\n",
       "      <td>1</td>\n",
       "      <td>0</td>\n",
       "      <td>0</td>\n",
       "      <td>0</td>\n",
       "      <td>0</td>\n",
       "      <td>0</td>\n",
       "      <td>0</td>\n",
       "      <td>0</td>\n",
       "      <td>0</td>\n",
       "      <td>0</td>\n",
       "      <td>0</td>\n",
       "      <td>1</td>\n",
       "      <td>1</td>\n",
       "      <td>1</td>\n",
       "      <td>1</td>\n",
       "      <td>1</td>\n",
       "      <td>1</td>\n",
       "      <td>0</td>\n",
       "      <td>0</td>\n",
       "      <td>0</td>\n",
       "      <td>0</td>\n",
       "      <td>1</td>\n",
       "      <td>0</td>\n",
       "      <td>0</td>\n",
       "      <td>0</td>\n",
       "      <td>0</td>\n",
       "      <td>0</td>\n",
       "      <td>0</td>\n",
       "      <td>0</td>\n",
       "      <td>0</td>\n",
       "      <td>0</td>\n",
       "      <td>0</td>\n",
       "      <td>0</td>\n",
       "      <td>0</td>\n",
       "      <td>0</td>\n",
       "      <td>0</td>\n",
       "      <td>0</td>\n",
       "      <td>0</td>\n",
       "      <td>0</td>\n",
       "      <td>0</td>\n",
       "      <td>0</td>\n",
       "      <td>0</td>\n",
       "      <td>0</td>\n",
       "      <td>0</td>\n",
       "    </tr>\n",
       "  </tbody>\n",
       "</table>\n",
       "</div>"
      ],
      "text/plain": [
       "    BibNum  Checkout  Title  ISBN  Year  Fiction  Language  Nonfiction  \\\n",
       "0  3177276         0      1     0  2016        0         0           1   \n",
       "1   395432         0      1     1  1985        0         0           1   \n",
       "2   123754         1      1     0  1945        1         0           0   \n",
       "\n",
       "   Biography  Large Print  Picture  Children  Teen  Mystery  AfAm  Comic  \\\n",
       "0          0            0        0         0     0        0     0      0   \n",
       "1          0            0        0         0     0        0     0      0   \n",
       "2          0            0        0         0     0        0     0      0   \n",
       "\n",
       "   30 Days  90 Days  180 Days  365 Days  Branches  Copies  bal  bea  bro  cap  \\\n",
       "0       14       45        78        94        17      18    0    1    1    0   \n",
       "1        0        0         0         1         1       1    0    0    0    0   \n",
       "2        1        1         1         1         1       1    0    0    0    0   \n",
       "\n",
       "   cen  col  dlr  dth  fre  glk  gwd  hip  idc  lcy  mag  mgm  mon  net  nga  \\\n",
       "0    0    0    1    1    1    0    1    1    0    1    1    0    1    1    1   \n",
       "1    1    0    0    0    0    0    0    0    0    0    0    0    0    0    0   \n",
       "2    1    0    0    0    0    0    0    0    0    0    0    0    0    0    0   \n",
       "\n",
       "   nhy  qna  rbe  spa  swt  uni  wal  wts  \n",
       "0    0    1    0    1    1    1    0    1  \n",
       "1    0    0    0    0    0    0    0    0  \n",
       "2    0    0    0    0    0    0    0    0  "
      ]
     },
     "execution_count": 19,
     "metadata": {},
     "output_type": "execute_result"
    }
   ],
   "source": [
    "checkout_target_df.head(3)"
   ]
  },
  {
   "cell_type": "code",
   "execution_count": 20,
   "metadata": {},
   "outputs": [
    {
     "data": {
      "text/html": [
       "<div>\n",
       "<style scoped>\n",
       "    .dataframe tbody tr th:only-of-type {\n",
       "        vertical-align: middle;\n",
       "    }\n",
       "\n",
       "    .dataframe tbody tr th {\n",
       "        vertical-align: top;\n",
       "    }\n",
       "\n",
       "    .dataframe thead th {\n",
       "        text-align: right;\n",
       "    }\n",
       "</style>\n",
       "<table border=\"1\" class=\"dataframe\">\n",
       "  <thead>\n",
       "    <tr style=\"text-align: right;\">\n",
       "      <th></th>\n",
       "      <th>BibNum</th>\n",
       "      <th>Checkout</th>\n",
       "      <th>Title</th>\n",
       "      <th>ISBN</th>\n",
       "      <th>Year</th>\n",
       "      <th>Fiction</th>\n",
       "      <th>Language</th>\n",
       "      <th>Nonfiction</th>\n",
       "      <th>Biography</th>\n",
       "      <th>Large Print</th>\n",
       "      <th>Picture</th>\n",
       "      <th>Children</th>\n",
       "      <th>Teen</th>\n",
       "      <th>Mystery</th>\n",
       "      <th>AfAm</th>\n",
       "      <th>Comic</th>\n",
       "      <th>30 Days</th>\n",
       "      <th>90 Days</th>\n",
       "      <th>180 Days</th>\n",
       "      <th>365 Days</th>\n",
       "      <th>Branches</th>\n",
       "      <th>Copies</th>\n",
       "      <th>bal</th>\n",
       "      <th>bea</th>\n",
       "      <th>bro</th>\n",
       "      <th>cap</th>\n",
       "      <th>cen</th>\n",
       "      <th>col</th>\n",
       "      <th>dlr</th>\n",
       "      <th>dth</th>\n",
       "      <th>fre</th>\n",
       "      <th>glk</th>\n",
       "      <th>gwd</th>\n",
       "      <th>hip</th>\n",
       "      <th>idc</th>\n",
       "      <th>lcy</th>\n",
       "      <th>mag</th>\n",
       "      <th>mgm</th>\n",
       "      <th>mon</th>\n",
       "      <th>net</th>\n",
       "      <th>nga</th>\n",
       "      <th>nhy</th>\n",
       "      <th>qna</th>\n",
       "      <th>rbe</th>\n",
       "      <th>spa</th>\n",
       "      <th>swt</th>\n",
       "      <th>uni</th>\n",
       "      <th>wal</th>\n",
       "      <th>wts</th>\n",
       "    </tr>\n",
       "  </thead>\n",
       "  <tbody>\n",
       "    <tr>\n",
       "      <th>count</th>\n",
       "      <td>397147.0000</td>\n",
       "      <td>397147.0000</td>\n",
       "      <td>397147.0000</td>\n",
       "      <td>397147.0000</td>\n",
       "      <td>397147.0000</td>\n",
       "      <td>397147.0000</td>\n",
       "      <td>397147.0000</td>\n",
       "      <td>397147.0000</td>\n",
       "      <td>397147.0000</td>\n",
       "      <td>397147.0000</td>\n",
       "      <td>397147.0000</td>\n",
       "      <td>397147.0000</td>\n",
       "      <td>397147.0000</td>\n",
       "      <td>397147.0000</td>\n",
       "      <td>397147.0000</td>\n",
       "      <td>397147.0000</td>\n",
       "      <td>397147.0000</td>\n",
       "      <td>397147.0000</td>\n",
       "      <td>397147.0000</td>\n",
       "      <td>397147.0000</td>\n",
       "      <td>397147.0000</td>\n",
       "      <td>397147.0000</td>\n",
       "      <td>397147.0000</td>\n",
       "      <td>397147.0000</td>\n",
       "      <td>397147.0000</td>\n",
       "      <td>397147.0000</td>\n",
       "      <td>397147.0000</td>\n",
       "      <td>397147.0000</td>\n",
       "      <td>397147.0000</td>\n",
       "      <td>397147.0000</td>\n",
       "      <td>397147.0000</td>\n",
       "      <td>397147.0000</td>\n",
       "      <td>397147.0000</td>\n",
       "      <td>397147.0000</td>\n",
       "      <td>397147.0000</td>\n",
       "      <td>397147.0000</td>\n",
       "      <td>397147.0000</td>\n",
       "      <td>397147.0000</td>\n",
       "      <td>397147.0000</td>\n",
       "      <td>397147.0000</td>\n",
       "      <td>397147.0000</td>\n",
       "      <td>397147.0000</td>\n",
       "      <td>397147.0000</td>\n",
       "      <td>397147.0000</td>\n",
       "      <td>397147.0000</td>\n",
       "      <td>397147.0000</td>\n",
       "      <td>397147.0000</td>\n",
       "      <td>397147.0000</td>\n",
       "      <td>397147.0000</td>\n",
       "    </tr>\n",
       "    <tr>\n",
       "      <th>mean</th>\n",
       "      <td>2234258.6919</td>\n",
       "      <td>0.4945</td>\n",
       "      <td>0.9982</td>\n",
       "      <td>0.8704</td>\n",
       "      <td>1983.6751</td>\n",
       "      <td>0.2787</td>\n",
       "      <td>0.0825</td>\n",
       "      <td>0.6330</td>\n",
       "      <td>0.0375</td>\n",
       "      <td>0.0212</td>\n",
       "      <td>0.0386</td>\n",
       "      <td>0.1546</td>\n",
       "      <td>0.0472</td>\n",
       "      <td>0.0240</td>\n",
       "      <td>0.0191</td>\n",
       "      <td>0.0320</td>\n",
       "      <td>0.7237</td>\n",
       "      <td>2.3485</td>\n",
       "      <td>4.8724</td>\n",
       "      <td>9.6092</td>\n",
       "      <td>2.4991</td>\n",
       "      <td>2.8845</td>\n",
       "      <td>0.1122</td>\n",
       "      <td>0.0724</td>\n",
       "      <td>0.0847</td>\n",
       "      <td>0.0708</td>\n",
       "      <td>0.8960</td>\n",
       "      <td>0.0652</td>\n",
       "      <td>0.0327</td>\n",
       "      <td>0.0950</td>\n",
       "      <td>0.0347</td>\n",
       "      <td>0.0525</td>\n",
       "      <td>0.1073</td>\n",
       "      <td>0.0404</td>\n",
       "      <td>0.0234</td>\n",
       "      <td>0.1006</td>\n",
       "      <td>0.0491</td>\n",
       "      <td>0.0200</td>\n",
       "      <td>0.0331</td>\n",
       "      <td>0.1286</td>\n",
       "      <td>0.0692</td>\n",
       "      <td>0.0249</td>\n",
       "      <td>0.0464</td>\n",
       "      <td>0.0653</td>\n",
       "      <td>0.0317</td>\n",
       "      <td>0.1011</td>\n",
       "      <td>0.0575</td>\n",
       "      <td>0.0150</td>\n",
       "      <td>0.0691</td>\n",
       "    </tr>\n",
       "    <tr>\n",
       "      <th>std</th>\n",
       "      <td>953967.6490</td>\n",
       "      <td>0.5000</td>\n",
       "      <td>0.0423</td>\n",
       "      <td>0.3359</td>\n",
       "      <td>189.6728</td>\n",
       "      <td>0.4484</td>\n",
       "      <td>0.2751</td>\n",
       "      <td>0.4820</td>\n",
       "      <td>0.1899</td>\n",
       "      <td>0.1439</td>\n",
       "      <td>0.1927</td>\n",
       "      <td>0.3616</td>\n",
       "      <td>0.2121</td>\n",
       "      <td>0.1531</td>\n",
       "      <td>0.1368</td>\n",
       "      <td>0.1760</td>\n",
       "      <td>5.1280</td>\n",
       "      <td>12.2969</td>\n",
       "      <td>20.5221</td>\n",
       "      <td>34.4055</td>\n",
       "      <td>3.0947</td>\n",
       "      <td>4.7797</td>\n",
       "      <td>0.3156</td>\n",
       "      <td>0.2591</td>\n",
       "      <td>0.2785</td>\n",
       "      <td>0.2565</td>\n",
       "      <td>0.3053</td>\n",
       "      <td>0.2469</td>\n",
       "      <td>0.1778</td>\n",
       "      <td>0.2933</td>\n",
       "      <td>0.1830</td>\n",
       "      <td>0.2231</td>\n",
       "      <td>0.3095</td>\n",
       "      <td>0.1970</td>\n",
       "      <td>0.1510</td>\n",
       "      <td>0.3008</td>\n",
       "      <td>0.2161</td>\n",
       "      <td>0.1401</td>\n",
       "      <td>0.1789</td>\n",
       "      <td>0.3348</td>\n",
       "      <td>0.2537</td>\n",
       "      <td>0.1560</td>\n",
       "      <td>0.2104</td>\n",
       "      <td>0.2471</td>\n",
       "      <td>0.1752</td>\n",
       "      <td>0.3015</td>\n",
       "      <td>0.2327</td>\n",
       "      <td>0.1214</td>\n",
       "      <td>0.2537</td>\n",
       "    </tr>\n",
       "    <tr>\n",
       "      <th>min</th>\n",
       "      <td>7.0000</td>\n",
       "      <td>0.0000</td>\n",
       "      <td>0.0000</td>\n",
       "      <td>0.0000</td>\n",
       "      <td>0.0000</td>\n",
       "      <td>0.0000</td>\n",
       "      <td>0.0000</td>\n",
       "      <td>0.0000</td>\n",
       "      <td>0.0000</td>\n",
       "      <td>0.0000</td>\n",
       "      <td>0.0000</td>\n",
       "      <td>0.0000</td>\n",
       "      <td>0.0000</td>\n",
       "      <td>0.0000</td>\n",
       "      <td>0.0000</td>\n",
       "      <td>0.0000</td>\n",
       "      <td>0.0000</td>\n",
       "      <td>0.0000</td>\n",
       "      <td>0.0000</td>\n",
       "      <td>0.0000</td>\n",
       "      <td>1.0000</td>\n",
       "      <td>1.0000</td>\n",
       "      <td>0.0000</td>\n",
       "      <td>0.0000</td>\n",
       "      <td>0.0000</td>\n",
       "      <td>0.0000</td>\n",
       "      <td>0.0000</td>\n",
       "      <td>0.0000</td>\n",
       "      <td>0.0000</td>\n",
       "      <td>0.0000</td>\n",
       "      <td>0.0000</td>\n",
       "      <td>0.0000</td>\n",
       "      <td>0.0000</td>\n",
       "      <td>0.0000</td>\n",
       "      <td>0.0000</td>\n",
       "      <td>0.0000</td>\n",
       "      <td>0.0000</td>\n",
       "      <td>0.0000</td>\n",
       "      <td>0.0000</td>\n",
       "      <td>0.0000</td>\n",
       "      <td>0.0000</td>\n",
       "      <td>0.0000</td>\n",
       "      <td>0.0000</td>\n",
       "      <td>0.0000</td>\n",
       "      <td>0.0000</td>\n",
       "      <td>0.0000</td>\n",
       "      <td>0.0000</td>\n",
       "      <td>0.0000</td>\n",
       "      <td>0.0000</td>\n",
       "    </tr>\n",
       "    <tr>\n",
       "      <th>25%</th>\n",
       "      <td>1848333.5000</td>\n",
       "      <td>0.0000</td>\n",
       "      <td>1.0000</td>\n",
       "      <td>1.0000</td>\n",
       "      <td>1996.0000</td>\n",
       "      <td>0.0000</td>\n",
       "      <td>0.0000</td>\n",
       "      <td>0.0000</td>\n",
       "      <td>0.0000</td>\n",
       "      <td>0.0000</td>\n",
       "      <td>0.0000</td>\n",
       "      <td>0.0000</td>\n",
       "      <td>0.0000</td>\n",
       "      <td>0.0000</td>\n",
       "      <td>0.0000</td>\n",
       "      <td>0.0000</td>\n",
       "      <td>0.0000</td>\n",
       "      <td>0.0000</td>\n",
       "      <td>0.0000</td>\n",
       "      <td>0.0000</td>\n",
       "      <td>1.0000</td>\n",
       "      <td>1.0000</td>\n",
       "      <td>0.0000</td>\n",
       "      <td>0.0000</td>\n",
       "      <td>0.0000</td>\n",
       "      <td>0.0000</td>\n",
       "      <td>1.0000</td>\n",
       "      <td>0.0000</td>\n",
       "      <td>0.0000</td>\n",
       "      <td>0.0000</td>\n",
       "      <td>0.0000</td>\n",
       "      <td>0.0000</td>\n",
       "      <td>0.0000</td>\n",
       "      <td>0.0000</td>\n",
       "      <td>0.0000</td>\n",
       "      <td>0.0000</td>\n",
       "      <td>0.0000</td>\n",
       "      <td>0.0000</td>\n",
       "      <td>0.0000</td>\n",
       "      <td>0.0000</td>\n",
       "      <td>0.0000</td>\n",
       "      <td>0.0000</td>\n",
       "      <td>0.0000</td>\n",
       "      <td>0.0000</td>\n",
       "      <td>0.0000</td>\n",
       "      <td>0.0000</td>\n",
       "      <td>0.0000</td>\n",
       "      <td>0.0000</td>\n",
       "      <td>0.0000</td>\n",
       "    </tr>\n",
       "    <tr>\n",
       "      <th>50%</th>\n",
       "      <td>2554562.0000</td>\n",
       "      <td>0.0000</td>\n",
       "      <td>1.0000</td>\n",
       "      <td>1.0000</td>\n",
       "      <td>2007.0000</td>\n",
       "      <td>0.0000</td>\n",
       "      <td>0.0000</td>\n",
       "      <td>1.0000</td>\n",
       "      <td>0.0000</td>\n",
       "      <td>0.0000</td>\n",
       "      <td>0.0000</td>\n",
       "      <td>0.0000</td>\n",
       "      <td>0.0000</td>\n",
       "      <td>0.0000</td>\n",
       "      <td>0.0000</td>\n",
       "      <td>0.0000</td>\n",
       "      <td>0.0000</td>\n",
       "      <td>0.0000</td>\n",
       "      <td>1.0000</td>\n",
       "      <td>2.0000</td>\n",
       "      <td>1.0000</td>\n",
       "      <td>1.0000</td>\n",
       "      <td>0.0000</td>\n",
       "      <td>0.0000</td>\n",
       "      <td>0.0000</td>\n",
       "      <td>0.0000</td>\n",
       "      <td>1.0000</td>\n",
       "      <td>0.0000</td>\n",
       "      <td>0.0000</td>\n",
       "      <td>0.0000</td>\n",
       "      <td>0.0000</td>\n",
       "      <td>0.0000</td>\n",
       "      <td>0.0000</td>\n",
       "      <td>0.0000</td>\n",
       "      <td>0.0000</td>\n",
       "      <td>0.0000</td>\n",
       "      <td>0.0000</td>\n",
       "      <td>0.0000</td>\n",
       "      <td>0.0000</td>\n",
       "      <td>0.0000</td>\n",
       "      <td>0.0000</td>\n",
       "      <td>0.0000</td>\n",
       "      <td>0.0000</td>\n",
       "      <td>0.0000</td>\n",
       "      <td>0.0000</td>\n",
       "      <td>0.0000</td>\n",
       "      <td>0.0000</td>\n",
       "      <td>0.0000</td>\n",
       "      <td>0.0000</td>\n",
       "    </tr>\n",
       "    <tr>\n",
       "      <th>75%</th>\n",
       "      <td>2957797.5000</td>\n",
       "      <td>1.0000</td>\n",
       "      <td>1.0000</td>\n",
       "      <td>1.0000</td>\n",
       "      <td>2013.0000</td>\n",
       "      <td>1.0000</td>\n",
       "      <td>0.0000</td>\n",
       "      <td>1.0000</td>\n",
       "      <td>0.0000</td>\n",
       "      <td>0.0000</td>\n",
       "      <td>0.0000</td>\n",
       "      <td>0.0000</td>\n",
       "      <td>0.0000</td>\n",
       "      <td>0.0000</td>\n",
       "      <td>0.0000</td>\n",
       "      <td>0.0000</td>\n",
       "      <td>0.0000</td>\n",
       "      <td>2.0000</td>\n",
       "      <td>3.0000</td>\n",
       "      <td>7.0000</td>\n",
       "      <td>3.0000</td>\n",
       "      <td>3.0000</td>\n",
       "      <td>0.0000</td>\n",
       "      <td>0.0000</td>\n",
       "      <td>0.0000</td>\n",
       "      <td>0.0000</td>\n",
       "      <td>1.0000</td>\n",
       "      <td>0.0000</td>\n",
       "      <td>0.0000</td>\n",
       "      <td>0.0000</td>\n",
       "      <td>0.0000</td>\n",
       "      <td>0.0000</td>\n",
       "      <td>0.0000</td>\n",
       "      <td>0.0000</td>\n",
       "      <td>0.0000</td>\n",
       "      <td>0.0000</td>\n",
       "      <td>0.0000</td>\n",
       "      <td>0.0000</td>\n",
       "      <td>0.0000</td>\n",
       "      <td>0.0000</td>\n",
       "      <td>0.0000</td>\n",
       "      <td>0.0000</td>\n",
       "      <td>0.0000</td>\n",
       "      <td>0.0000</td>\n",
       "      <td>0.0000</td>\n",
       "      <td>0.0000</td>\n",
       "      <td>0.0000</td>\n",
       "      <td>0.0000</td>\n",
       "      <td>0.0000</td>\n",
       "    </tr>\n",
       "    <tr>\n",
       "      <th>max</th>\n",
       "      <td>3343666.0000</td>\n",
       "      <td>1.0000</td>\n",
       "      <td>1.0000</td>\n",
       "      <td>1.0000</td>\n",
       "      <td>2022.0000</td>\n",
       "      <td>1.0000</td>\n",
       "      <td>1.0000</td>\n",
       "      <td>1.0000</td>\n",
       "      <td>1.0000</td>\n",
       "      <td>1.0000</td>\n",
       "      <td>1.0000</td>\n",
       "      <td>1.0000</td>\n",
       "      <td>1.0000</td>\n",
       "      <td>1.0000</td>\n",
       "      <td>1.0000</td>\n",
       "      <td>1.0000</td>\n",
       "      <td>585.0000</td>\n",
       "      <td>1436.0000</td>\n",
       "      <td>1613.0000</td>\n",
       "      <td>2621.0000</td>\n",
       "      <td>27.0000</td>\n",
       "      <td>290.0000</td>\n",
       "      <td>1.0000</td>\n",
       "      <td>1.0000</td>\n",
       "      <td>1.0000</td>\n",
       "      <td>1.0000</td>\n",
       "      <td>1.0000</td>\n",
       "      <td>1.0000</td>\n",
       "      <td>1.0000</td>\n",
       "      <td>1.0000</td>\n",
       "      <td>1.0000</td>\n",
       "      <td>1.0000</td>\n",
       "      <td>1.0000</td>\n",
       "      <td>1.0000</td>\n",
       "      <td>1.0000</td>\n",
       "      <td>1.0000</td>\n",
       "      <td>1.0000</td>\n",
       "      <td>1.0000</td>\n",
       "      <td>1.0000</td>\n",
       "      <td>1.0000</td>\n",
       "      <td>1.0000</td>\n",
       "      <td>1.0000</td>\n",
       "      <td>1.0000</td>\n",
       "      <td>1.0000</td>\n",
       "      <td>1.0000</td>\n",
       "      <td>1.0000</td>\n",
       "      <td>1.0000</td>\n",
       "      <td>1.0000</td>\n",
       "      <td>1.0000</td>\n",
       "    </tr>\n",
       "  </tbody>\n",
       "</table>\n",
       "</div>"
      ],
      "text/plain": [
       "            BibNum    Checkout       Title        ISBN        Year  \\\n",
       "count  397147.0000 397147.0000 397147.0000 397147.0000 397147.0000   \n",
       "mean  2234258.6919      0.4945      0.9982      0.8704   1983.6751   \n",
       "std    953967.6490      0.5000      0.0423      0.3359    189.6728   \n",
       "min         7.0000      0.0000      0.0000      0.0000      0.0000   \n",
       "25%   1848333.5000      0.0000      1.0000      1.0000   1996.0000   \n",
       "50%   2554562.0000      0.0000      1.0000      1.0000   2007.0000   \n",
       "75%   2957797.5000      1.0000      1.0000      1.0000   2013.0000   \n",
       "max   3343666.0000      1.0000      1.0000      1.0000   2022.0000   \n",
       "\n",
       "          Fiction    Language  Nonfiction   Biography  Large Print  \\\n",
       "count 397147.0000 397147.0000 397147.0000 397147.0000  397147.0000   \n",
       "mean       0.2787      0.0825      0.6330      0.0375       0.0212   \n",
       "std        0.4484      0.2751      0.4820      0.1899       0.1439   \n",
       "min        0.0000      0.0000      0.0000      0.0000       0.0000   \n",
       "25%        0.0000      0.0000      0.0000      0.0000       0.0000   \n",
       "50%        0.0000      0.0000      1.0000      0.0000       0.0000   \n",
       "75%        1.0000      0.0000      1.0000      0.0000       0.0000   \n",
       "max        1.0000      1.0000      1.0000      1.0000       1.0000   \n",
       "\n",
       "          Picture    Children        Teen     Mystery        AfAm       Comic  \\\n",
       "count 397147.0000 397147.0000 397147.0000 397147.0000 397147.0000 397147.0000   \n",
       "mean       0.0386      0.1546      0.0472      0.0240      0.0191      0.0320   \n",
       "std        0.1927      0.3616      0.2121      0.1531      0.1368      0.1760   \n",
       "min        0.0000      0.0000      0.0000      0.0000      0.0000      0.0000   \n",
       "25%        0.0000      0.0000      0.0000      0.0000      0.0000      0.0000   \n",
       "50%        0.0000      0.0000      0.0000      0.0000      0.0000      0.0000   \n",
       "75%        0.0000      0.0000      0.0000      0.0000      0.0000      0.0000   \n",
       "max        1.0000      1.0000      1.0000      1.0000      1.0000      1.0000   \n",
       "\n",
       "          30 Days     90 Days    180 Days    365 Days    Branches      Copies  \\\n",
       "count 397147.0000 397147.0000 397147.0000 397147.0000 397147.0000 397147.0000   \n",
       "mean       0.7237      2.3485      4.8724      9.6092      2.4991      2.8845   \n",
       "std        5.1280     12.2969     20.5221     34.4055      3.0947      4.7797   \n",
       "min        0.0000      0.0000      0.0000      0.0000      1.0000      1.0000   \n",
       "25%        0.0000      0.0000      0.0000      0.0000      1.0000      1.0000   \n",
       "50%        0.0000      0.0000      1.0000      2.0000      1.0000      1.0000   \n",
       "75%        0.0000      2.0000      3.0000      7.0000      3.0000      3.0000   \n",
       "max      585.0000   1436.0000   1613.0000   2621.0000     27.0000    290.0000   \n",
       "\n",
       "              bal         bea         bro         cap         cen         col  \\\n",
       "count 397147.0000 397147.0000 397147.0000 397147.0000 397147.0000 397147.0000   \n",
       "mean       0.1122      0.0724      0.0847      0.0708      0.8960      0.0652   \n",
       "std        0.3156      0.2591      0.2785      0.2565      0.3053      0.2469   \n",
       "min        0.0000      0.0000      0.0000      0.0000      0.0000      0.0000   \n",
       "25%        0.0000      0.0000      0.0000      0.0000      1.0000      0.0000   \n",
       "50%        0.0000      0.0000      0.0000      0.0000      1.0000      0.0000   \n",
       "75%        0.0000      0.0000      0.0000      0.0000      1.0000      0.0000   \n",
       "max        1.0000      1.0000      1.0000      1.0000      1.0000      1.0000   \n",
       "\n",
       "              dlr         dth         fre         glk         gwd         hip  \\\n",
       "count 397147.0000 397147.0000 397147.0000 397147.0000 397147.0000 397147.0000   \n",
       "mean       0.0327      0.0950      0.0347      0.0525      0.1073      0.0404   \n",
       "std        0.1778      0.2933      0.1830      0.2231      0.3095      0.1970   \n",
       "min        0.0000      0.0000      0.0000      0.0000      0.0000      0.0000   \n",
       "25%        0.0000      0.0000      0.0000      0.0000      0.0000      0.0000   \n",
       "50%        0.0000      0.0000      0.0000      0.0000      0.0000      0.0000   \n",
       "75%        0.0000      0.0000      0.0000      0.0000      0.0000      0.0000   \n",
       "max        1.0000      1.0000      1.0000      1.0000      1.0000      1.0000   \n",
       "\n",
       "              idc         lcy         mag         mgm         mon         net  \\\n",
       "count 397147.0000 397147.0000 397147.0000 397147.0000 397147.0000 397147.0000   \n",
       "mean       0.0234      0.1006      0.0491      0.0200      0.0331      0.1286   \n",
       "std        0.1510      0.3008      0.2161      0.1401      0.1789      0.3348   \n",
       "min        0.0000      0.0000      0.0000      0.0000      0.0000      0.0000   \n",
       "25%        0.0000      0.0000      0.0000      0.0000      0.0000      0.0000   \n",
       "50%        0.0000      0.0000      0.0000      0.0000      0.0000      0.0000   \n",
       "75%        0.0000      0.0000      0.0000      0.0000      0.0000      0.0000   \n",
       "max        1.0000      1.0000      1.0000      1.0000      1.0000      1.0000   \n",
       "\n",
       "              nga         nhy         qna         rbe         spa         swt  \\\n",
       "count 397147.0000 397147.0000 397147.0000 397147.0000 397147.0000 397147.0000   \n",
       "mean       0.0692      0.0249      0.0464      0.0653      0.0317      0.1011   \n",
       "std        0.2537      0.1560      0.2104      0.2471      0.1752      0.3015   \n",
       "min        0.0000      0.0000      0.0000      0.0000      0.0000      0.0000   \n",
       "25%        0.0000      0.0000      0.0000      0.0000      0.0000      0.0000   \n",
       "50%        0.0000      0.0000      0.0000      0.0000      0.0000      0.0000   \n",
       "75%        0.0000      0.0000      0.0000      0.0000      0.0000      0.0000   \n",
       "max        1.0000      1.0000      1.0000      1.0000      1.0000      1.0000   \n",
       "\n",
       "              uni         wal         wts  \n",
       "count 397147.0000 397147.0000 397147.0000  \n",
       "mean       0.0575      0.0150      0.0691  \n",
       "std        0.2327      0.1214      0.2537  \n",
       "min        0.0000      0.0000      0.0000  \n",
       "25%        0.0000      0.0000      0.0000  \n",
       "50%        0.0000      0.0000      0.0000  \n",
       "75%        0.0000      0.0000      0.0000  \n",
       "max        1.0000      1.0000      1.0000  "
      ]
     },
     "execution_count": 20,
     "metadata": {},
     "output_type": "execute_result"
    }
   ],
   "source": [
    "checkout_target_df.describe()"
   ]
  },
  {
   "cell_type": "code",
   "execution_count": 21,
   "metadata": {},
   "outputs": [
    {
     "name": "stdout",
     "output_type": "stream",
     "text": [
      "<class 'pandas.core.frame.DataFrame'>\n",
      "Int64Index: 397147 entries, 0 to 397146\n",
      "Data columns (total 49 columns):\n",
      "BibNum         397147 non-null int64\n",
      "Checkout       397147 non-null int64\n",
      "Title          397147 non-null int64\n",
      "ISBN           397147 non-null int64\n",
      "Year           397147 non-null int64\n",
      "Fiction        397147 non-null int64\n",
      "Language       397147 non-null int64\n",
      "Nonfiction     397147 non-null int64\n",
      "Biography      397147 non-null int64\n",
      "Large Print    397147 non-null int64\n",
      "Picture        397147 non-null int64\n",
      "Children       397147 non-null int64\n",
      "Teen           397147 non-null int64\n",
      "Mystery        397147 non-null int64\n",
      "AfAm           397147 non-null int64\n",
      "Comic          397147 non-null int64\n",
      "30 Days        397147 non-null int64\n",
      "90 Days        397147 non-null int64\n",
      "180 Days       397147 non-null int64\n",
      "365 Days       397147 non-null int64\n",
      "Branches       397147 non-null int64\n",
      "Copies         397147 non-null int64\n",
      "bal            397147 non-null int64\n",
      "bea            397147 non-null int64\n",
      "bro            397147 non-null int64\n",
      "cap            397147 non-null int64\n",
      "cen            397147 non-null int64\n",
      "col            397147 non-null int64\n",
      "dlr            397147 non-null int64\n",
      "dth            397147 non-null int64\n",
      "fre            397147 non-null int64\n",
      "glk            397147 non-null int64\n",
      "gwd            397147 non-null int64\n",
      "hip            397147 non-null int64\n",
      "idc            397147 non-null int64\n",
      "lcy            397147 non-null int64\n",
      "mag            397147 non-null int64\n",
      "mgm            397147 non-null int64\n",
      "mon            397147 non-null int64\n",
      "net            397147 non-null int64\n",
      "nga            397147 non-null int64\n",
      "nhy            397147 non-null int64\n",
      "qna            397147 non-null int64\n",
      "rbe            397147 non-null int64\n",
      "spa            397147 non-null int64\n",
      "swt            397147 non-null int64\n",
      "uni            397147 non-null int64\n",
      "wal            397147 non-null int64\n",
      "wts            397147 non-null int64\n",
      "dtypes: int64(49)\n",
      "memory usage: 151.5 MB\n"
     ]
    }
   ],
   "source": [
    "checkout_target_df.info()"
   ]
  },
  {
   "cell_type": "code",
   "execution_count": 22,
   "metadata": {},
   "outputs": [
    {
     "data": {
      "text/plain": [
       "397147"
      ]
     },
     "execution_count": 22,
     "metadata": {},
     "output_type": "execute_result"
    }
   ],
   "source": [
    "len(checkout_target_df)"
   ]
  },
  {
   "cell_type": "markdown",
   "metadata": {},
   "source": [
    "### Train / Test / Split"
   ]
  },
  {
   "cell_type": "code",
   "execution_count": 26,
   "metadata": {},
   "outputs": [],
   "source": [
    "from sklearn.model_selection import train_test_split\n",
    "from sklearn.model_selection import cross_val_score\n",
    "from sklearn.neighbors import KNeighborsClassifier\n",
    "from sklearn.metrics import confusion_matrix\n",
    "from sklearn import metrics"
   ]
  },
  {
   "cell_type": "code",
   "execution_count": 27,
   "metadata": {},
   "outputs": [],
   "source": [
    "y = checkout_target_df[\"Checkout\"]\n",
    "X = checkout_target_df.drop([\"Checkout\",\"BibNum\"],axis=1)\n",
    "\n",
    "#hold out portion of the data for final testing\n",
    "X, X_test, y, y_test = train_test_split(X, y, test_size=.2, random_state=20) #keep at 20 to be consistent\n",
    "\n",
    "#hold out 20% for validation\n",
    "X_train, X_val, y_train, y_val = train_test_split(X, y, test_size=.25, random_state=50) "
   ]
  },
  {
   "cell_type": "code",
   "execution_count": 28,
   "metadata": {},
   "outputs": [
    {
     "name": "stdout",
     "output_type": "stream",
     "text": [
      "238287 79430 79430\n"
     ]
    }
   ],
   "source": [
    "print(len(X_train),len(X_val),len(X_test))"
   ]
  },
  {
   "cell_type": "markdown",
   "metadata": {},
   "source": [
    "### Baseline Preduction\n",
    "Predict if a book was checked out in the same time period last year, that it will be checked out again this time period this year"
   ]
  },
  {
   "cell_type": "code",
   "execution_count": 30,
   "metadata": {},
   "outputs": [],
   "source": [
    "y_pred = (X_val[\"365 Days\"] - X_val[\"180 Days\"]).apply(lambda x: int(x==0))"
   ]
  },
  {
   "cell_type": "code",
   "execution_count": 31,
   "metadata": {},
   "outputs": [
    {
     "name": "stdout",
     "output_type": "stream",
     "text": [
      "Accuracy:  0.7452725670401611\n",
      "Precision:  0.7496264842337029\n",
      "Recall:  0.7280804480651731\n",
      "F1:  0.7386963877516758\n"
     ]
    }
   ],
   "source": [
    "print(\"Accuracy: \",metrics.accuracy_score(y_val, y_pred))\n",
    "print(\"Precision: \",metrics.precision_score(y_val, y_pred))\n",
    "print(\"Recall: \",metrics.recall_score(y_val, y_pred))\n",
    "print(\"F1: \",metrics.f1_score(y_val, y_pred))"
   ]
  },
  {
   "cell_type": "code",
   "execution_count": 32,
   "metadata": {},
   "outputs": [
    {
     "data": {
      "text/plain": [
       "array([[30598,  9552],\n",
       "       [10681, 28599]])"
      ]
     },
     "execution_count": 32,
     "metadata": {},
     "output_type": "execute_result"
    }
   ],
   "source": [
    "confusion_matrix(y_val, y_pred)"
   ]
  },
  {
   "cell_type": "markdown",
   "metadata": {},
   "source": [
    "### KNN Classifier\n",
    "This first part will grid search for the best Neighbor value"
   ]
  },
  {
   "cell_type": "code",
   "execution_count": 134,
   "metadata": {},
   "outputs": [
    {
     "name": "stdout",
     "output_type": "stream",
     "text": [
      "5  neighbors. Accuracy:  0.7849678962608586\n",
      "5  neighbors. Precision:  0.7643864329268293\n",
      "5  neighbors. Recall:  0.8170061099796334\n",
      "5  neighbors. f1:  0.789820830872219\n",
      "10  neighbors. Accuracy:  0.7953669898023417\n",
      "10  neighbors. Precision:  0.7852152801862954\n",
      "10  neighbors. Recall:  0.8069246435845214\n",
      "10  neighbors. f1:  0.7959219546493234\n",
      "15  neighbors. Accuracy:  0.8007931512023165\n",
      "15  neighbors. Precision:  0.7731305745092103\n",
      "15  neighbors. Recall:  0.8451883910386966\n",
      "15  neighbors. f1:  0.8075552474428673\n",
      "20  neighbors. Accuracy:  0.8048722145285157\n",
      "20  neighbors. Precision:  0.7819725390689843\n",
      "20  neighbors. Recall:  0.8394857433808554\n",
      "20  neighbors. f1:  0.80970914314479\n",
      "25  neighbors. Accuracy:  0.8071635402240966\n",
      "25  neighbors. Precision:  0.7749500883493586\n",
      "25  neighbors. Recall:  0.859725050916497\n",
      "25  neighbors. f1:  0.8151393364471319\n",
      "30  neighbors. Accuracy:  0.8076545385874355\n",
      "30  neighbors. Precision:  0.7800308008213552\n",
      "30  neighbors. Recall:  0.8510437881873727\n",
      "30  neighbors. f1:  0.8139914288497127\n"
     ]
    }
   ],
   "source": [
    "for i in range(5,31,5):\n",
    "    adjacents = i\n",
    "    knn = KNeighborsClassifier(n_neighbors=adjacents)\n",
    "    knn.fit(X_train, y_train)\n",
    "    y_pred = knn.predict(X_val)\n",
    "    print(adjacents, \" neighbors. Accuracy: \", metrics.accuracy_score(y_val, y_pred))\n",
    "    print(adjacents, \" neighbors. Precision: \", metrics.precision_score(y_val, y_pred))\n",
    "    print(adjacents, \" neighbors. Recall: \", metrics.recall_score(y_val, y_pred))\n",
    "    print(adjacents, \" neighbors. f1: \", metrics.f1_score(y_val, y_pred))     "
   ]
  },
  {
   "cell_type": "code",
   "execution_count": 137,
   "metadata": {},
   "outputs": [],
   "source": [
    "# Let's go with N=15\n",
    "knn = KNeighborsClassifier(n_neighbors=15)\n",
    "knn.fit(X_train, y_train)\n",
    "y_pred = knn.predict(X_val)"
   ]
  },
  {
   "cell_type": "code",
   "execution_count": 138,
   "metadata": {},
   "outputs": [
    {
     "name": "stdout",
     "output_type": "stream",
     "text": [
      "Accuracy:  0.8007931512023165\n",
      "Precision:  0.7731305745092103\n",
      "Recall:  0.8451883910386966\n",
      "F1:  0.8075552474428673\n"
     ]
    }
   ],
   "source": [
    "print(\"Accuracy: \",metrics.accuracy_score(y_val, y_pred))\n",
    "print(\"Precision: \",metrics.precision_score(y_val, y_pred))\n",
    "print(\"Recall: \",metrics.recall_score(y_val, y_pred))\n",
    "print(\"F1: \",metrics.f1_score(y_val, y_pred))"
   ]
  },
  {
   "cell_type": "code",
   "execution_count": 140,
   "metadata": {},
   "outputs": [
    {
     "data": {
      "text/plain": [
       "array([[30408,  9742],\n",
       "       [ 6081, 33199]])"
      ]
     },
     "execution_count": 140,
     "metadata": {},
     "output_type": "execute_result"
    }
   ],
   "source": [
    "confusion_matrix(y_val, y_pred)"
   ]
  },
  {
   "cell_type": "markdown",
   "metadata": {},
   "source": [
    "### Logistic Regression"
   ]
  },
  {
   "cell_type": "code",
   "execution_count": 33,
   "metadata": {},
   "outputs": [],
   "source": [
    "from sklearn.preprocessing import StandardScaler\n",
    "from sklearn.linear_model import LogisticRegression\n",
    "from sklearn.metrics import recall_score\n",
    "from sklearn.metrics import precision_score\n",
    "from sklearn.metrics import f1_score"
   ]
  },
  {
   "cell_type": "code",
   "execution_count": 34,
   "metadata": {},
   "outputs": [
    {
     "name": "stderr",
     "output_type": "stream",
     "text": [
      "/anaconda3/lib/python3.6/site-packages/sklearn/preprocessing/data.py:617: DataConversionWarning: Data with input dtype int64 were all converted to float64 by StandardScaler.\n",
      "  return self.partial_fit(X, y)\n",
      "/anaconda3/lib/python3.6/site-packages/sklearn/base.py:462: DataConversionWarning: Data with input dtype int64 were all converted to float64 by StandardScaler.\n",
      "  return self.fit(X, **fit_params).transform(X)\n"
     ]
    }
   ],
   "source": [
    "std_scale = StandardScaler()\n",
    "X_train_scaled = std_scale.fit_transform(X_train)\n",
    "lr_model = LogisticRegression(C=10000)"
   ]
  },
  {
   "cell_type": "code",
   "execution_count": 35,
   "metadata": {},
   "outputs": [
    {
     "data": {
      "text/plain": [
       "LogisticRegression(C=10000, class_weight=None, dual=False, fit_intercept=True,\n",
       "          intercept_scaling=1, max_iter=100, multi_class='warn',\n",
       "          n_jobs=None, penalty='l2', random_state=None, solver='warn',\n",
       "          tol=0.0001, verbose=0, warm_start=False)"
      ]
     },
     "execution_count": 35,
     "metadata": {},
     "output_type": "execute_result"
    }
   ],
   "source": [
    "lr_model.fit(X_train_scaled,y_train)"
   ]
  },
  {
   "cell_type": "code",
   "execution_count": 36,
   "metadata": {},
   "outputs": [
    {
     "name": "stderr",
     "output_type": "stream",
     "text": [
      "/anaconda3/lib/python3.6/site-packages/ipykernel_launcher.py:1: DataConversionWarning: Data with input dtype int64 were all converted to float64 by StandardScaler.\n",
      "  \"\"\"Entry point for launching an IPython kernel.\n"
     ]
    }
   ],
   "source": [
    "X_val_scaled = std_scale.transform(X_val)\n",
    "y_val_pred = lr_model.predict(X_val_scaled)"
   ]
  },
  {
   "cell_type": "code",
   "execution_count": 37,
   "metadata": {},
   "outputs": [
    {
     "name": "stdout",
     "output_type": "stream",
     "text": [
      "Accuracy:  0.8043434470603047\n",
      "Precision:  0.7565213632728923\n",
      "Recall:  0.8911659877800407\n",
      "F1:  0.8183422753679092\n"
     ]
    }
   ],
   "source": [
    "print(\"Accuracy: \",metrics.accuracy_score(y_val, y_val_pred))\n",
    "print(\"Precision: \",metrics.precision_score(y_val, y_val_pred))\n",
    "print(\"Recall: \",metrics.recall_score(y_val, y_val_pred))\n",
    "print(\"F1: \",metrics.f1_score(y_val, y_val_pred))"
   ]
  },
  {
   "cell_type": "code",
   "execution_count": 38,
   "metadata": {},
   "outputs": [
    {
     "data": {
      "text/plain": [
       "array([[28884, 11266],\n",
       "       [ 4275, 35005]])"
      ]
     },
     "execution_count": 38,
     "metadata": {},
     "output_type": "execute_result"
    }
   ],
   "source": [
    "confusion_matrix(y_val, y_val_pred)"
   ]
  },
  {
   "cell_type": "code",
   "execution_count": 39,
   "metadata": {},
   "outputs": [],
   "source": [
    "coefficients = lr_model.coef_[0] * -1\n",
    "features = np.array(X_train.columns)"
   ]
  },
  {
   "cell_type": "code",
   "execution_count": 40,
   "metadata": {},
   "outputs": [],
   "source": [
    "lr_model_dict = list(zip(features,coefficients))"
   ]
  },
  {
   "cell_type": "code",
   "execution_count": 41,
   "metadata": {},
   "outputs": [
    {
     "data": {
      "text/plain": [
       "<BarContainer object of 47 artists>"
      ]
     },
     "execution_count": 41,
     "metadata": {},
     "output_type": "execute_result"
    },
    {
     "data": {
      "image/png": "[encoded data removed]",
      "text/plain": [
       "<Figure size 432x288 with 1 Axes>"
      ]
     },
     "metadata": {},
     "output_type": "display_data"
    }
   ],
   "source": [
    "plt.bar(features,coefficients)"
   ]
  },
  {
   "cell_type": "code",
   "execution_count": 42,
   "metadata": {},
   "outputs": [
    {
     "data": {
      "text/html": [
       "<div>\n",
       "<style scoped>\n",
       "    .dataframe tbody tr th:only-of-type {\n",
       "        vertical-align: middle;\n",
       "    }\n",
       "\n",
       "    .dataframe tbody tr th {\n",
       "        vertical-align: top;\n",
       "    }\n",
       "\n",
       "    .dataframe thead th {\n",
       "        text-align: right;\n",
       "    }\n",
       "</style>\n",
       "<table border=\"1\" class=\"dataframe\">\n",
       "  <thead>\n",
       "    <tr style=\"text-align: right;\">\n",
       "      <th></th>\n",
       "      <th>0</th>\n",
       "      <th>1</th>\n",
       "    </tr>\n",
       "  </thead>\n",
       "  <tbody>\n",
       "    <tr>\n",
       "      <th>17</th>\n",
       "      <td>365 Days</td>\n",
       "      <td>9.4150</td>\n",
       "    </tr>\n",
       "    <tr>\n",
       "      <th>16</th>\n",
       "      <td>180 Days</td>\n",
       "      <td>1.2802</td>\n",
       "    </tr>\n",
       "    <tr>\n",
       "      <th>15</th>\n",
       "      <td>90 Days</td>\n",
       "      <td>1.2277</td>\n",
       "    </tr>\n",
       "    <tr>\n",
       "      <th>19</th>\n",
       "      <td>Copies</td>\n",
       "      <td>0.4745</td>\n",
       "    </tr>\n",
       "    <tr>\n",
       "      <th>1</th>\n",
       "      <td>ISBN</td>\n",
       "      <td>0.3547</td>\n",
       "    </tr>\n",
       "    <tr>\n",
       "      <th>14</th>\n",
       "      <td>30 Days</td>\n",
       "      <td>0.3374</td>\n",
       "    </tr>\n",
       "    <tr>\n",
       "      <th>5</th>\n",
       "      <td>Nonfiction</td>\n",
       "      <td>0.2405</td>\n",
       "    </tr>\n",
       "    <tr>\n",
       "      <th>3</th>\n",
       "      <td>Fiction</td>\n",
       "      <td>0.1807</td>\n",
       "    </tr>\n",
       "    <tr>\n",
       "      <th>30</th>\n",
       "      <td>gwd</td>\n",
       "      <td>0.1522</td>\n",
       "    </tr>\n",
       "    <tr>\n",
       "      <th>38</th>\n",
       "      <td>nga</td>\n",
       "      <td>0.1425</td>\n",
       "    </tr>\n",
       "  </tbody>\n",
       "</table>\n",
       "</div>"
      ],
      "text/plain": [
       "             0      1\n",
       "17    365 Days 9.4150\n",
       "16    180 Days 1.2802\n",
       "15     90 Days 1.2277\n",
       "19      Copies 0.4745\n",
       "1         ISBN 0.3547\n",
       "14     30 Days 0.3374\n",
       "5   Nonfiction 0.2405\n",
       "3      Fiction 0.1807\n",
       "30         gwd 0.1522\n",
       "38         nga 0.1425"
      ]
     },
     "execution_count": 42,
     "metadata": {},
     "output_type": "execute_result"
    }
   ],
   "source": [
    "pd.DataFrame(lr_model_dict).sort_values(by=1,ascending=False).head(10)"
   ]
  },
  {
   "cell_type": "code",
   "execution_count": 43,
   "metadata": {},
   "outputs": [
    {
     "name": "stderr",
     "output_type": "stream",
     "text": [
      "/anaconda3/lib/python3.6/site-packages/ipykernel_launcher.py:1: DataConversionWarning: Data with input dtype int64 were all converted to float64 by StandardScaler.\n",
      "  \"\"\"Entry point for launching an IPython kernel.\n"
     ]
    },
    {
     "name": "stdout",
     "output_type": "stream",
     "text": [
      "Logistic Regression Model best F1 score 0.922 at prob decision threshold >= 0.850\n"
     ]
    },
    {
     "data": {
      "image/png": "[encoded data removed]",
      "text/plain": [
       "<Figure size 432x288 with 1 Axes>"
      ]
     },
     "metadata": {},
     "output_type": "display_data"
    }
   ],
   "source": [
    "X_val_scaled = std_scale.transform(X_val)\n",
    "\n",
    "thresh_ps = np.linspace(.50,.85,1000)\n",
    "model_val_probs = lr_model.predict_proba(X_val_scaled)[:,1]   # first column is the probability for 0 condition\n",
    "                                                              # second column is the probability for the 1 condition\n",
    "precision_scores = []\n",
    "for p in thresh_ps:\n",
    "    model_val_labels = model_val_probs >= p\n",
    "    precision_scores.append(precision_score(y_val,model_val_labels))\n",
    "    \n",
    "plt.plot(thresh_ps, precision_scores)\n",
    "plt.title('Precision Score vs. Positive Class Decision Probability Threshold')\n",
    "plt.xlabel('P threshold')\n",
    "plt.ylabel('Precision')\n",
    "\n",
    "best_precision_score = np.max(precision_scores) \n",
    "best_thresh_p = thresh_ps[np.argmax(precision_scores)]\n",
    "\n",
    "print('Logistic Regression Model best F1 score %.3f at prob decision threshold >= %.3f' \n",
    "      % (best_precision_score, best_thresh_p)) \n"
   ]
  },
  {
   "cell_type": "markdown",
   "metadata": {},
   "source": [
    "### Naive Bayes"
   ]
  },
  {
   "cell_type": "code",
   "execution_count": 50,
   "metadata": {},
   "outputs": [],
   "source": [
    "from sklearn import naive_bayes\n",
    "from sklearn.metrics import accuracy_score, classification_report"
   ]
  },
  {
   "cell_type": "code",
   "execution_count": 51,
   "metadata": {},
   "outputs": [
    {
     "data": {
      "text/plain": [
       "GaussianNB(priors=None, var_smoothing=1e-09)"
      ]
     },
     "execution_count": 51,
     "metadata": {},
     "output_type": "execute_result"
    }
   ],
   "source": [
    "model = naive_bayes.GaussianNB()\n",
    "model.fit(X_train,y_train)"
   ]
  },
  {
   "cell_type": "code",
   "execution_count": 52,
   "metadata": {},
   "outputs": [],
   "source": [
    "y_val_predict = model.predict(X_val)"
   ]
  },
  {
   "cell_type": "code",
   "execution_count": 55,
   "metadata": {},
   "outputs": [
    {
     "name": "stdout",
     "output_type": "stream",
     "text": [
      "Accuracy:  0.7622560745310336\n",
      "Recall:  0.8995162932790224\n",
      "Precision:  0.7028645315297394\n",
      "f1:  0.7891233947515354\n"
     ]
    }
   ],
   "source": [
    "print(\"Accuracy: \", accuracy_score(y_val, y_val_predict ))\n",
    "print(\"Recall: \",recall_score(y_val,y_val_predict))         # Recall\n",
    "print(\"Precision: \",precision_score(y_val,y_val_predict))   # Precision\n",
    "print(\"f1: \",f1_score(y_val,y_val_predict))  "
   ]
  },
  {
   "cell_type": "code",
   "execution_count": 56,
   "metadata": {},
   "outputs": [
    {
     "data": {
      "text/plain": [
       "array([[ 75468,  45026],\n",
       "       [ 11695, 106098]])"
      ]
     },
     "execution_count": 56,
     "metadata": {},
     "output_type": "execute_result"
    }
   ],
   "source": [
    "confusion_matrix(y_train, model.predict(X_train) )"
   ]
  },
  {
   "cell_type": "markdown",
   "metadata": {},
   "source": [
    "### Random Forest"
   ]
  },
  {
   "cell_type": "code",
   "execution_count": 57,
   "metadata": {},
   "outputs": [],
   "source": [
    "from sklearn.ensemble import RandomForestClassifier, GradientBoostingClassifier"
   ]
  },
  {
   "cell_type": "code",
   "execution_count": 70,
   "metadata": {},
   "outputs": [
    {
     "data": {
      "text/plain": [
       "RandomForestClassifier(bootstrap=True, class_weight=None, criterion='gini',\n",
       "            max_depth=None, max_features=6, max_leaf_nodes=None,\n",
       "            min_impurity_decrease=0.0, min_impurity_split=None,\n",
       "            min_samples_leaf=4, min_samples_split=2,\n",
       "            min_weight_fraction_leaf=0.0, n_estimators=1000, n_jobs=4,\n",
       "            oob_score=False, random_state=None, verbose=0,\n",
       "            warm_start=False)"
      ]
     },
     "execution_count": 70,
     "metadata": {},
     "output_type": "execute_result"
    }
   ],
   "source": [
    "# Try with different max features\n",
    "rfmodel = RandomForestClassifier(n_estimators = 1000, max_features = 6,\n",
    "                                min_samples_leaf = 4, n_jobs=4)\n",
    "rfmodel.fit(X_train,y_train)"
   ]
  },
  {
   "cell_type": "code",
   "execution_count": 71,
   "metadata": {},
   "outputs": [
    {
     "name": "stdout",
     "output_type": "stream",
     "text": [
      "Accuracy:  0.8117839607201309\n",
      "Recall:  0.8458248472505092\n",
      "Precision:  0.7888313785080013\n",
      "f1:  0.8163345536745374\n"
     ]
    }
   ],
   "source": [
    "y_val_predict = rfmodel.predict(X_val)\n",
    "print(\"Validation Accuracy: \", accuracy_score(y_val, y_val_predict ))\n",
    "print(\"Validation Recall: \",recall_score(y_val, y_val_predict))         # Recall\n",
    "print(\"Validation Precision: \",precision_score(y_val, y_val_predict))   # Precision\n",
    "print(\"Validation f1: \",f1_score(y_val, y_val_predict))  "
   ]
  },
  {
   "cell_type": "code",
   "execution_count": 72,
   "metadata": {},
   "outputs": [
    {
     "data": {
      "text/plain": [
       "array([[31256,  8894],\n",
       "       [ 6056, 33224]])"
      ]
     },
     "execution_count": 72,
     "metadata": {},
     "output_type": "execute_result"
    }
   ],
   "source": [
    "confusion_matrix(y_val, y_val_predict)"
   ]
  },
  {
   "cell_type": "markdown",
   "metadata": {},
   "source": [
    "### GradientBoostingClassifier"
   ]
  },
  {
   "cell_type": "code",
   "execution_count": 83,
   "metadata": {},
   "outputs": [
    {
     "data": {
      "text/plain": [
       "GradientBoostingClassifier(criterion='friedman_mse', init=None,\n",
       "              learning_rate=0.1, loss='deviance', max_depth=3,\n",
       "              max_features=6, max_leaf_nodes=None,\n",
       "              min_impurity_decrease=0.0, min_impurity_split=None,\n",
       "              min_samples_leaf=10, min_samples_split=2,\n",
       "              min_weight_fraction_leaf=0.0, n_estimators=1000,\n",
       "              n_iter_no_change=None, presort='auto', random_state=None,\n",
       "              subsample=1.0, tol=0.0001, validation_fraction=0.1,\n",
       "              verbose=0, warm_start=False)"
      ]
     },
     "execution_count": 83,
     "metadata": {},
     "output_type": "execute_result"
    }
   ],
   "source": [
    "# Try with different max features\n",
    "gbmodel = GradientBoostingClassifier(n_estimators = 1000, max_features = 6,\n",
    "                                min_samples_leaf = 10)\n",
    "gbmodel.fit(X_train,y_train)"
   ]
  },
  {
   "cell_type": "code",
   "execution_count": 84,
   "metadata": {},
   "outputs": [
    {
     "name": "stdout",
     "output_type": "stream",
     "text": [
      "Train Accuracy:  0.8127132407558952\n",
      "Train Recall:  0.8538877522433421\n",
      "Train Precision:  0.7858030140860476\n",
      "Train f1:  0.8184318448118736\n"
     ]
    }
   ],
   "source": [
    "y_train_predict = gbmodel.predict(X_train)\n",
    "print(\"Train Accuracy: \", accuracy_score(y_train, y_train_predict ))\n",
    "print(\"Train Recall: \",recall_score(y_train, y_train_predict))         # Recall\n",
    "print(\"Train Precision: \",precision_score(y_train, y_train_predict))   # Precision\n",
    "print(\"Train f1: \",f1_score(y_train, y_train_predict)) "
   ]
  },
  {
   "cell_type": "code",
   "execution_count": 85,
   "metadata": {},
   "outputs": [
    {
     "name": "stdout",
     "output_type": "stream",
     "text": [
      "Validation Accuracy:  0.8119350371396198\n",
      "Validation Recall:  0.8514765784114053\n",
      "Validation Precision:  0.7860399529964748\n",
      "Validation f1:  0.8174508126603935\n"
     ]
    }
   ],
   "source": [
    "y_val_predict = gbmodel.predict(X_val)\n",
    "print(\"Validation Accuracy: \", accuracy_score(y_val, y_val_predict ))\n",
    "print(\"Validation Recall: \",recall_score(y_val, y_val_predict))         # Recall\n",
    "print(\"Validation Precision: \",precision_score(y_val, y_val_predict))   # Precision\n",
    "print(\"Validation f1: \",f1_score(y_val, y_val_predict)) "
   ]
  },
  {
   "cell_type": "code",
   "execution_count": 63,
   "metadata": {},
   "outputs": [
    {
     "data": {
      "text/plain": [
       "array([[31057,  9093],\n",
       "       [ 5817, 33463]])"
      ]
     },
     "execution_count": 63,
     "metadata": {},
     "output_type": "execute_result"
    }
   ],
   "source": [
    "confusion_matrix(y_val, y_val_predict)"
   ]
  },
  {
   "cell_type": "markdown",
   "metadata": {},
   "source": [
    "### XGBoost Classifier"
   ]
  },
  {
   "cell_type": "code",
   "execution_count": 87,
   "metadata": {},
   "outputs": [],
   "source": [
    "import xgboost as xgb"
   ]
  },
  {
   "cell_type": "code",
   "execution_count": 105,
   "metadata": {},
   "outputs": [],
   "source": [
    "gbm = xgb.XGBClassifier( \n",
    "                        n_estimators=40000,\n",
    "                        max_depth=4,\n",
    "                        objective='binary:logistic', #new objective\n",
    "                        learning_rate=.05, \n",
    "                        subsample=.8,\n",
    "                        min_child_weight=3,\n",
    "                        colsample_bytree=.8\n",
    "                       )\n",
    "\n",
    "eval_set=[(X_train,y_train),(X_val,y_val)]\n",
    "fit_model = gbm.fit( \n",
    "                    X_train, y_train, \n",
    "                    eval_set=eval_set,\n",
    "                    eval_metric='error', #new evaluation metric: classification error (could also use AUC, e.g.)\n",
    "                    early_stopping_rounds=50,\n",
    "                    verbose=False\n",
    "                   )\n",
    "\n",
    "# accuracy_score(y_test, gbm.predict(X_test, ntree_limit=gbm.best_ntree_limit)) "
   ]
  },
  {
   "cell_type": "code",
   "execution_count": 106,
   "metadata": {},
   "outputs": [
    {
     "name": "stdout",
     "output_type": "stream",
     "text": [
      "Train Accuracy:  0.8107618124362639\n",
      "Train Recall:  0.8522068374181827\n",
      "Train Precision:  0.7838335884061592\n",
      "Train f1:  0.816591488686697\n"
     ]
    }
   ],
   "source": [
    "y_train_predict = fit_model.predict(X_train)\n",
    "print(\"Train Accuracy: \", accuracy_score(y_train, y_train_predict ))\n",
    "print(\"Train Recall: \",recall_score(y_train, y_train_predict))         # Recall\n",
    "print(\"Train Precision: \",precision_score(y_train, y_train_predict))   # Precision\n",
    "print(\"Train f1: \",f1_score(y_train, y_train_predict)) "
   ]
  },
  {
   "cell_type": "code",
   "execution_count": 107,
   "metadata": {},
   "outputs": [
    {
     "name": "stdout",
     "output_type": "stream",
     "text": [
      "Validation Accuracy:  0.8121112929623568\n",
      "Validation Recall:  0.852927698574338\n",
      "Validation Precision:  0.7855334114888628\n",
      "Validation f1:  0.8178445014036373\n"
     ]
    }
   ],
   "source": [
    "y_val_predict = fit_model.predict(X_val)\n",
    "print(\"Validation Accuracy: \", accuracy_score(y_val, y_val_predict ))\n",
    "print(\"Validation Recall: \",recall_score(y_val, y_val_predict))         # Recall\n",
    "print(\"Validation Precision: \",precision_score(y_val, y_val_predict))   # Precision\n",
    "print(\"Validation f1: \",f1_score(y_val, y_val_predict)) "
   ]
  },
  {
   "cell_type": "code",
   "execution_count": 104,
   "metadata": {},
   "outputs": [
    {
     "data": {
      "text/plain": [
       "array([[31014,  9136],\n",
       "       [ 5784, 33496]])"
      ]
     },
     "execution_count": 104,
     "metadata": {},
     "output_type": "execute_result"
    }
   ],
   "source": [
    "confusion_matrix(y_val, y_val_predict)"
   ]
  },
  {
   "cell_type": "code",
   "execution_count": 108,
   "metadata": {},
   "outputs": [
    {
     "data": {
      "text/plain": [
       "<matplotlib.axes._subplots.AxesSubplot at 0x1bb221f9e8>"
      ]
     },
     "execution_count": 108,
     "metadata": {},
     "output_type": "execute_result"
    },
    {
     "data": {
      "image/png": "[encoded data removed]",
      "text/plain": [
       "<Figure size 432x288 with 1 Axes>"
      ]
     },
     "metadata": {},
     "output_type": "display_data"
    }
   ],
   "source": [
    "xgb.plot_importance(gbm, importance_type='gain')"
   ]
  },
  {
   "cell_type": "code",
   "execution_count": null,
   "metadata": {},
   "outputs": [],
   "source": []
  }
 ],
 "metadata": {
  "kernelspec": {
   "display_name": "Python 3",
   "language": "python",
   "name": "python3"
  },
  "language_info": {
   "codemirror_mode": {
    "name": "ipython",
    "version": 3
   },
   "file_extension": ".py",
   "mimetype": "text/x-python",
   "name": "python",
   "nbconvert_exporter": "python",
   "pygments_lexer": "ipython3",
   "version": "3.6.5"
  }
 },
 "nbformat": 4,
 "nbformat_minor": 2
}
