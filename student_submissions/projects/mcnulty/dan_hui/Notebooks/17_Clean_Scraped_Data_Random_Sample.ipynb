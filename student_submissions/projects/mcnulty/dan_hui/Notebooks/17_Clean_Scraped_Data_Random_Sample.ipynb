{
 "cells": [
  {
   "cell_type": "markdown",
   "metadata": {},
   "source": [
    "## 17_Clean_Scraped_Data_Random_Sample\n",
    "\n",
    "Author: Daniel Hui\n",
    "\n",
    "License: MIT\n",
    "\n",
    "This notebook cleans the scraped data from the Seattle Public Library's online catalog"
   ]
  },
  {
   "cell_type": "code",
   "execution_count": 1,
   "metadata": {},
   "outputs": [],
   "source": [
    "import pandas as pd\n",
    "import numpy as np\n",
    "\n",
    "# visualization imports\n",
    "import matplotlib.pyplot as plt\n",
    "import seaborn as sns\n",
    "plt.style.use('fivethirtyeight')\n",
    "\n",
    "import warnings\n",
    "warnings.simplefilter(action='ignore', category=FutureWarning)\n",
    "\n",
    "pd.set_option('display.max_columns', 500)\n",
    "pd.set_option('display.float_format', lambda x: '%.4f' % x)"
   ]
  },
  {
   "cell_type": "markdown",
   "metadata": {},
   "source": [
    "### Load Scraped Book Data"
   ]
  },
  {
   "cell_type": "code",
   "execution_count": 4,
   "metadata": {},
   "outputs": [],
   "source": [
    "scrape_df = pd.read_csv('../01_Data/04_Scraped/book_data_random.csv',index_col=0)"
   ]
  },
  {
   "cell_type": "code",
   "execution_count": 5,
   "metadata": {},
   "outputs": [
    {
     "data": {
      "text/html": [
       "<div>\n",
       "<style scoped>\n",
       "    .dataframe tbody tr th:only-of-type {\n",
       "        vertical-align: middle;\n",
       "    }\n",
       "\n",
       "    .dataframe tbody tr th {\n",
       "        vertical-align: top;\n",
       "    }\n",
       "\n",
       "    .dataframe thead th {\n",
       "        text-align: right;\n",
       "    }\n",
       "</style>\n",
       "<table border=\"1\" class=\"dataframe\">\n",
       "  <thead>\n",
       "    <tr style=\"text-align: right;\">\n",
       "      <th></th>\n",
       "      <th>isbn</th>\n",
       "      <th>url</th>\n",
       "      <th>page</th>\n",
       "      <th>dim</th>\n",
       "      <th>avg_rating</th>\n",
       "      <th>tot_ratings</th>\n",
       "      <th>tot_reviews</th>\n",
       "      <th>type</th>\n",
       "      <th>callno</th>\n",
       "      <th>subjects</th>\n",
       "      <th>desc</th>\n",
       "      <th>image</th>\n",
       "    </tr>\n",
       "  </thead>\n",
       "  <tbody>\n",
       "    <tr>\n",
       "      <th>0</th>\n",
       "      <td>1620401371</td>\n",
       "      <td>https://seattle.bibliocommons.com/item/show/31...</td>\n",
       "      <td>185</td>\n",
       "      <td>21</td>\n",
       "      <td>3.7000</td>\n",
       "      <td>4.0000</td>\n",
       "      <td>1.0000</td>\n",
       "      <td>Hardcover</td>\n",
       "      <td>809.9332 B3407H 2016</td>\n",
       "      <td>['Travel in literature']</td>\n",
       "      <td>&amp;quot;Written in the irreverent style that mad...</td>\n",
       "      <td>https://secure.syndetics.com/index.aspx?isbn=9...</td>\n",
       "    </tr>\n",
       "    <tr>\n",
       "      <th>1</th>\n",
       "      <td>0985673486</td>\n",
       "      <td>https://seattle.bibliocommons.com/item/show/32...</td>\n",
       "      <td>269</td>\n",
       "      <td>22</td>\n",
       "      <td>nan</td>\n",
       "      <td>0.0000</td>\n",
       "      <td>0.0000</td>\n",
       "      <td>Hardcover</td>\n",
       "      <td>FIC REALITY 2012</td>\n",
       "      <td>['Gangs Fiction']</td>\n",
       "      <td>Welcome to Far Rock where opportunity never kn...</td>\n",
       "      <td>https://secure.syndetics.com/index.aspx?isbn=9...</td>\n",
       "    </tr>\n",
       "    <tr>\n",
       "      <th>2</th>\n",
       "      <td>1618101110</td>\n",
       "      <td>https://seattle.bibliocommons.com/item/show/28...</td>\n",
       "      <td>24</td>\n",
       "      <td>26</td>\n",
       "      <td>nan</td>\n",
       "      <td>0.0000</td>\n",
       "      <td>0.0000</td>\n",
       "      <td>Hardcover</td>\n",
       "      <td>J507.8 H5295i 2013</td>\n",
       "      <td>['Observation (Scientific method) Juvenile lit...</td>\n",
       "      <td>This Title Is All About The Scientific Method ...</td>\n",
       "      <td>https://secure.syndetics.com/index.aspx?isbn=9...</td>\n",
       "    </tr>\n",
       "    <tr>\n",
       "      <th>3</th>\n",
       "      <td>0375864326</td>\n",
       "      <td>https://seattle.bibliocommons.com/item/show/26...</td>\n",
       "      <td>NaN</td>\n",
       "      <td>27</td>\n",
       "      <td>7.8000</td>\n",
       "      <td>16.0000</td>\n",
       "      <td>nan</td>\n",
       "      <td>Hardcover</td>\n",
       "      <td>E MULDROW</td>\n",
       "      <td>['Trees Fiction', 'Ecology Juvenile fiction']</td>\n",
       "      <td>Simple text reveals the benefits of planting a...</td>\n",
       "      <td>https://secure.syndetics.com/index.aspx?isbn=9...</td>\n",
       "    </tr>\n",
       "    <tr>\n",
       "      <th>4</th>\n",
       "      <td>0792271351</td>\n",
       "      <td>https://seattle.bibliocommons.com/item/show/23...</td>\n",
       "      <td>31</td>\n",
       "      <td>30</td>\n",
       "      <td>nan</td>\n",
       "      <td>0.0000</td>\n",
       "      <td>0.0000</td>\n",
       "      <td>Hardcover</td>\n",
       "      <td>J811.54 L5871M 2005</td>\n",
       "      <td>['Monuments Juvenile poetry', \"Children's poet...</td>\n",
       "      <td>Award-winning poet Lewis invites readers to cl...</td>\n",
       "      <td>https://secure.syndetics.com/index.aspx?isbn=9...</td>\n",
       "    </tr>\n",
       "  </tbody>\n",
       "</table>\n",
       "</div>"
      ],
      "text/plain": [
       "         isbn                                                url page dim  \\\n",
       "0  1620401371  https://seattle.bibliocommons.com/item/show/31...  185  21   \n",
       "1  0985673486  https://seattle.bibliocommons.com/item/show/32...  269  22   \n",
       "2  1618101110  https://seattle.bibliocommons.com/item/show/28...   24  26   \n",
       "3  0375864326  https://seattle.bibliocommons.com/item/show/26...  NaN  27   \n",
       "4  0792271351  https://seattle.bibliocommons.com/item/show/23...   31  30   \n",
       "\n",
       "   avg_rating  tot_ratings  tot_reviews       type                callno  \\\n",
       "0      3.7000       4.0000       1.0000  Hardcover  809.9332 B3407H 2016   \n",
       "1         nan       0.0000       0.0000  Hardcover      FIC REALITY 2012   \n",
       "2         nan       0.0000       0.0000  Hardcover    J507.8 H5295i 2013   \n",
       "3      7.8000      16.0000          nan  Hardcover             E MULDROW   \n",
       "4         nan       0.0000       0.0000  Hardcover   J811.54 L5871M 2005   \n",
       "\n",
       "                                            subjects  \\\n",
       "0                           ['Travel in literature']   \n",
       "1                                  ['Gangs Fiction']   \n",
       "2  ['Observation (Scientific method) Juvenile lit...   \n",
       "3      ['Trees Fiction', 'Ecology Juvenile fiction']   \n",
       "4  ['Monuments Juvenile poetry', \"Children's poet...   \n",
       "\n",
       "                                                desc  \\\n",
       "0  &quot;Written in the irreverent style that mad...   \n",
       "1  Welcome to Far Rock where opportunity never kn...   \n",
       "2  This Title Is All About The Scientific Method ...   \n",
       "3  Simple text reveals the benefits of planting a...   \n",
       "4  Award-winning poet Lewis invites readers to cl...   \n",
       "\n",
       "                                               image  \n",
       "0  https://secure.syndetics.com/index.aspx?isbn=9...  \n",
       "1  https://secure.syndetics.com/index.aspx?isbn=9...  \n",
       "2  https://secure.syndetics.com/index.aspx?isbn=9...  \n",
       "3  https://secure.syndetics.com/index.aspx?isbn=9...  \n",
       "4  https://secure.syndetics.com/index.aspx?isbn=9...  "
      ]
     },
     "execution_count": 5,
     "metadata": {},
     "output_type": "execute_result"
    }
   ],
   "source": [
    "scrape_df = scrape_df.reset_index(drop=True)\n",
    "scrape_df.head()"
   ]
  },
  {
   "cell_type": "markdown",
   "metadata": {},
   "source": [
    "### Truncate DataSet"
   ]
  },
  {
   "cell_type": "code",
   "execution_count": 7,
   "metadata": {},
   "outputs": [
    {
     "data": {
      "text/html": [
       "<div>\n",
       "<style scoped>\n",
       "    .dataframe tbody tr th:only-of-type {\n",
       "        vertical-align: middle;\n",
       "    }\n",
       "\n",
       "    .dataframe tbody tr th {\n",
       "        vertical-align: top;\n",
       "    }\n",
       "\n",
       "    .dataframe thead th {\n",
       "        text-align: right;\n",
       "    }\n",
       "</style>\n",
       "<table border=\"1\" class=\"dataframe\">\n",
       "  <thead>\n",
       "    <tr style=\"text-align: right;\">\n",
       "      <th></th>\n",
       "      <th>ISBN</th>\n",
       "      <th>page</th>\n",
       "      <th>dim</th>\n",
       "      <th>avg_rating</th>\n",
       "      <th>tot_ratings</th>\n",
       "      <th>tot_reviews</th>\n",
       "    </tr>\n",
       "  </thead>\n",
       "  <tbody>\n",
       "    <tr>\n",
       "      <th>0</th>\n",
       "      <td>1620401371</td>\n",
       "      <td>185</td>\n",
       "      <td>21</td>\n",
       "      <td>3.7000</td>\n",
       "      <td>4.0000</td>\n",
       "      <td>1.0000</td>\n",
       "    </tr>\n",
       "    <tr>\n",
       "      <th>1</th>\n",
       "      <td>0985673486</td>\n",
       "      <td>269</td>\n",
       "      <td>22</td>\n",
       "      <td>nan</td>\n",
       "      <td>0.0000</td>\n",
       "      <td>0.0000</td>\n",
       "    </tr>\n",
       "    <tr>\n",
       "      <th>2</th>\n",
       "      <td>1618101110</td>\n",
       "      <td>24</td>\n",
       "      <td>26</td>\n",
       "      <td>nan</td>\n",
       "      <td>0.0000</td>\n",
       "      <td>0.0000</td>\n",
       "    </tr>\n",
       "    <tr>\n",
       "      <th>3</th>\n",
       "      <td>0375864326</td>\n",
       "      <td>NaN</td>\n",
       "      <td>27</td>\n",
       "      <td>7.8000</td>\n",
       "      <td>16.0000</td>\n",
       "      <td>nan</td>\n",
       "    </tr>\n",
       "    <tr>\n",
       "      <th>4</th>\n",
       "      <td>0792271351</td>\n",
       "      <td>31</td>\n",
       "      <td>30</td>\n",
       "      <td>nan</td>\n",
       "      <td>0.0000</td>\n",
       "      <td>0.0000</td>\n",
       "    </tr>\n",
       "  </tbody>\n",
       "</table>\n",
       "</div>"
      ],
      "text/plain": [
       "         ISBN page dim  avg_rating  tot_ratings  tot_reviews\n",
       "0  1620401371  185  21      3.7000       4.0000       1.0000\n",
       "1  0985673486  269  22         nan       0.0000       0.0000\n",
       "2  1618101110   24  26         nan       0.0000       0.0000\n",
       "3  0375864326  NaN  27      7.8000      16.0000          nan\n",
       "4  0792271351   31  30         nan       0.0000       0.0000"
      ]
     },
     "execution_count": 7,
     "metadata": {},
     "output_type": "execute_result"
    }
   ],
   "source": [
    "scrape_df = scrape_df[[\"isbn\",\"page\",\"dim\",\"avg_rating\",\"tot_ratings\",\"tot_reviews\"]]\n",
    "scrape_df = scrape_df.rename({\"isbn\":\"ISBN\"},axis=1)\n",
    "scrape_df.head()"
   ]
  },
  {
   "cell_type": "code",
   "execution_count": 8,
   "metadata": {},
   "outputs": [
    {
     "name": "stdout",
     "output_type": "stream",
     "text": [
      "<class 'pandas.core.frame.DataFrame'>\n",
      "RangeIndex: 3103 entries, 0 to 3102\n",
      "Data columns (total 6 columns):\n",
      "ISBN           3103 non-null object\n",
      "page           2822 non-null object\n",
      "dim            3039 non-null object\n",
      "avg_rating     1777 non-null float64\n",
      "tot_ratings    3043 non-null float64\n",
      "tot_reviews    2122 non-null float64\n",
      "dtypes: float64(3), object(3)\n",
      "memory usage: 145.5+ KB\n"
     ]
    }
   ],
   "source": [
    "scrape_df.info()"
   ]
  },
  {
   "cell_type": "markdown",
   "metadata": {},
   "source": [
    "### Clean Object Types to Numerical"
   ]
  },
  {
   "cell_type": "code",
   "execution_count": 9,
   "metadata": {},
   "outputs": [],
   "source": [
    "def make_num(row):\n",
    "    try:\n",
    "        return round(row)\n",
    "    except: -1   #If this happens there was an error"
   ]
  },
  {
   "cell_type": "code",
   "execution_count": 10,
   "metadata": {},
   "outputs": [],
   "source": [
    "scrape_df[\"page\"] = scrape_df[\"page\"].apply(make_num)\n",
    "scrape_df[\"dim\"] = scrape_df[\"dim\"].apply(make_num)\n",
    "scrape_df = scrape_df.fillna(0)"
   ]
  },
  {
   "cell_type": "code",
   "execution_count": 11,
   "metadata": {},
   "outputs": [
    {
     "name": "stdout",
     "output_type": "stream",
     "text": [
      "<class 'pandas.core.frame.DataFrame'>\n",
      "RangeIndex: 3103 entries, 0 to 3102\n",
      "Data columns (total 6 columns):\n",
      "ISBN           3103 non-null object\n",
      "page           3103 non-null int64\n",
      "dim            3103 non-null int64\n",
      "avg_rating     3103 non-null float64\n",
      "tot_ratings    3103 non-null float64\n",
      "tot_reviews    3103 non-null float64\n",
      "dtypes: float64(3), int64(2), object(1)\n",
      "memory usage: 145.5+ KB\n"
     ]
    }
   ],
   "source": [
    "scrape_df.info()"
   ]
  },
  {
   "cell_type": "code",
   "execution_count": 12,
   "metadata": {},
   "outputs": [
    {
     "data": {
      "text/html": [
       "<div>\n",
       "<style scoped>\n",
       "    .dataframe tbody tr th:only-of-type {\n",
       "        vertical-align: middle;\n",
       "    }\n",
       "\n",
       "    .dataframe tbody tr th {\n",
       "        vertical-align: top;\n",
       "    }\n",
       "\n",
       "    .dataframe thead th {\n",
       "        text-align: right;\n",
       "    }\n",
       "</style>\n",
       "<table border=\"1\" class=\"dataframe\">\n",
       "  <thead>\n",
       "    <tr style=\"text-align: right;\">\n",
       "      <th></th>\n",
       "      <th>ISBN</th>\n",
       "      <th>page</th>\n",
       "      <th>dim</th>\n",
       "      <th>avg_rating</th>\n",
       "      <th>tot_ratings</th>\n",
       "      <th>tot_reviews</th>\n",
       "    </tr>\n",
       "  </thead>\n",
       "  <tbody>\n",
       "  </tbody>\n",
       "</table>\n",
       "</div>"
      ],
      "text/plain": [
       "Empty DataFrame\n",
       "Columns: [ISBN, page, dim, avg_rating, tot_ratings, tot_reviews]\n",
       "Index: []"
      ]
     },
     "execution_count": 12,
     "metadata": {},
     "output_type": "execute_result"
    }
   ],
   "source": [
    "scrape_df[scrape_df[\"page\"] == -1]     #Error Check. Should be Empty"
   ]
  },
  {
   "cell_type": "code",
   "execution_count": 13,
   "metadata": {},
   "outputs": [
    {
     "data": {
      "text/html": [
       "<div>\n",
       "<style scoped>\n",
       "    .dataframe tbody tr th:only-of-type {\n",
       "        vertical-align: middle;\n",
       "    }\n",
       "\n",
       "    .dataframe tbody tr th {\n",
       "        vertical-align: top;\n",
       "    }\n",
       "\n",
       "    .dataframe thead th {\n",
       "        text-align: right;\n",
       "    }\n",
       "</style>\n",
       "<table border=\"1\" class=\"dataframe\">\n",
       "  <thead>\n",
       "    <tr style=\"text-align: right;\">\n",
       "      <th></th>\n",
       "      <th>ISBN</th>\n",
       "      <th>page</th>\n",
       "      <th>dim</th>\n",
       "      <th>avg_rating</th>\n",
       "      <th>tot_ratings</th>\n",
       "      <th>tot_reviews</th>\n",
       "    </tr>\n",
       "  </thead>\n",
       "  <tbody>\n",
       "  </tbody>\n",
       "</table>\n",
       "</div>"
      ],
      "text/plain": [
       "Empty DataFrame\n",
       "Columns: [ISBN, page, dim, avg_rating, tot_ratings, tot_reviews]\n",
       "Index: []"
      ]
     },
     "execution_count": 13,
     "metadata": {},
     "output_type": "execute_result"
    }
   ],
   "source": [
    "scrape_df[scrape_df[\"dim\"] == -1]     #Error Check. Should be Empty"
   ]
  },
  {
   "cell_type": "markdown",
   "metadata": {},
   "source": [
    "### Export CSV"
   ]
  },
  {
   "cell_type": "code",
   "execution_count": 14,
   "metadata": {},
   "outputs": [],
   "source": [
    "scrape_df.to_csv(\"../01_Data/03_Cleaned/Clean_Book_Data_Random.csv\")"
   ]
  },
  {
   "cell_type": "code",
   "execution_count": null,
   "metadata": {},
   "outputs": [],
   "source": []
  }
 ],
 "metadata": {
  "kernelspec": {
   "display_name": "Python 3",
   "language": "python",
   "name": "python3"
  },
  "language_info": {
   "codemirror_mode": {
    "name": "ipython",
    "version": 3
   },
   "file_extension": ".py",
   "mimetype": "text/x-python",
   "name": "python",
   "nbconvert_exporter": "python",
   "pygments_lexer": "ipython3",
   "version": "3.6.5"
  }
 },
 "nbformat": 4,
 "nbformat_minor": 2
}
