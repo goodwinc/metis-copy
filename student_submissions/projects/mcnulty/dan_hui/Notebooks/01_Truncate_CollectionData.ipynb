{
 "cells": [
  {
   "cell_type": "markdown",
   "metadata": {},
   "source": [
    "## 01_Truncate_Dataset Notebook\n",
    "\n",
    "Author: Daniel Hui\n",
    "\n",
    "License: MIT\n",
    "\n",
    "Description: This notebook takes gigantic source datasets and outputs a truncated dataset defined by parameters defined by the research"
   ]
  },
  {
   "cell_type": "code",
   "execution_count": 2,
   "metadata": {},
   "outputs": [],
   "source": [
    "import pandas as pd"
   ]
  },
  {
   "cell_type": "markdown",
   "metadata": {},
   "source": [
    "## I. Collection Inventory Dataset"
   ]
  },
  {
   "cell_type": "code",
   "execution_count": 3,
   "metadata": {},
   "outputs": [],
   "source": [
    "#Load the entire inventory data\n",
    "inventory = pd.read_csv('/Users/dhui/Downloads/01_Source_Data/Library_Collection_Inventory.csv')"
   ]
  },
  {
   "cell_type": "markdown",
   "metadata": {},
   "source": [
    "### A. Collection: Truncate by Report Date\n",
    "Since I will be preducting on books borrowed in 2017, I will use a reporting date from Jan 1 2018 to define the lirbary collection as it existed in 2017."
   ]
  },
  {
   "cell_type": "code",
   "execution_count": 4,
   "metadata": {},
   "outputs": [
    {
     "data": {
      "text/plain": [
       "array(['08/01/2018', '09/01/2018', '10/01/2018', '09/01/2017',\n",
       "       '10/01/2017', '11/01/2017', '12/01/2017', '01/01/2018',\n",
       "       '02/01/2018', '03/01/2018', '04/01/2018', '05/01/2018',\n",
       "       '06/01/2018', '07/01/2018'], dtype=object)"
      ]
     },
     "execution_count": 4,
     "metadata": {},
     "output_type": "execute_result"
    }
   ],
   "source": [
    "#The total range of report dates\n",
    "inventory[\"ReportDate\"].unique()"
   ]
  },
  {
   "cell_type": "code",
   "execution_count": 5,
   "metadata": {},
   "outputs": [],
   "source": [
    "#report_date = '10/01/2018'  #Trucate by the most recent report\n",
    "#file_date = 'oct_2018'      #use this in the file naming later\n",
    "\n",
    "report_date = '01/01/2018'   #Trucate by the first report after the feature set\n",
    "file_date = 'jan_2018'       "
   ]
  },
  {
   "cell_type": "code",
   "execution_count": 6,
   "metadata": {},
   "outputs": [],
   "source": [
    "#Isolate inventory to items recorded in inventory on the desired recent report date\n",
    "inventory_trunc = inventory[inventory[\"ReportDate\"] == report_date]"
   ]
  },
  {
   "cell_type": "markdown",
   "metadata": {},
   "source": [
    "### B. Collection: Truncate by Type Book\n",
    "I will look only for non-reference printed books"
   ]
  },
  {
   "cell_type": "code",
   "execution_count": 7,
   "metadata": {},
   "outputs": [],
   "source": [
    "#Load the data dictionary of codes \n",
    "data_dctnry = pd.read_csv('../01_Data/01_Source/Integrated_Library_System__ILS__Data_Dictionary.csv')"
   ]
  },
  {
   "cell_type": "code",
   "execution_count": 8,
   "metadata": {},
   "outputs": [],
   "source": [
    "#extract the codes related to printed books\n",
    "book_codes = data_dctnry[(data_dctnry[\"Format Subgroup\"] == \"Book\") &      #Isolate things that are books\n",
    "                         (data_dctnry[\"Code Type\"] == \"ItemCollection\") &  #From the field 'ItemCollection'\n",
    "                         (data_dctnry[\"Category Group\"] != \"Reference\")]   #Exclude Reference (non-circulating)\n",
    "book_codes = book_codes[\"Code\"]                                            #these are all the codes for things\n",
    "                                                                           #we want to include"
   ]
  },
  {
   "cell_type": "code",
   "execution_count": 9,
   "metadata": {},
   "outputs": [],
   "source": [
    "inventory_trunc = inventory_trunc[inventory_trunc[\"ItemCollection\"].isin(book_codes)]  #Exclude! "
   ]
  },
  {
   "cell_type": "markdown",
   "metadata": {},
   "source": [
    "### C. Collection: Truncate by Location\n",
    "Only look for books that are in one of the 27 branch libraries, and exclude interlibrary loan and the mobile unit"
   ]
  },
  {
   "cell_type": "code",
   "execution_count": 12,
   "metadata": {},
   "outputs": [],
   "source": [
    "# Only use books in one of the 27 branch library locations\n",
    "# exclude things like Interlibrary Loan, the temporary mobile unit, etc\n",
    "#Load the data dictionary of codes (code duplicated below)\n",
    "data_dctnry = pd.read_csv('../01_Data/01_Source/Integrated_Library_System__ILS__Data_Dictionary.csv')\n",
    "#Grab the location codes\n",
    "locations = data_dctnry[data_dctnry[\"Code Type\"] == \"ItemLocation\"][[\"Code\",\"Description\"]]\n",
    "locations = locations.reset_index(drop=True)\n",
    "locations = locations.drop_duplicates()\n",
    "locations = locations[\"Code\"]"
   ]
  },
  {
   "cell_type": "code",
   "execution_count": 15,
   "metadata": {},
   "outputs": [],
   "source": [
    "inventory_trunc = inventory_trunc[inventory_trunc[\"ItemLocation\"].isin(locations)]"
   ]
  },
  {
   "cell_type": "markdown",
   "metadata": {},
   "source": [
    "#### Export Book Codes so other notebooks can use this set"
   ]
  },
  {
   "cell_type": "code",
   "execution_count": 7,
   "metadata": {},
   "outputs": [],
   "source": [
    "book_codes.to_csv(\"../01_Data/03_Cleaned/ItemCollection_Book_Codes.csv\")"
   ]
  },
  {
   "cell_type": "markdown",
   "metadata": {},
   "source": [
    "### D. Collection: Export to CSV"
   ]
  },
  {
   "cell_type": "code",
   "execution_count": 16,
   "metadata": {},
   "outputs": [],
   "source": [
    "inventory_trunc = inventory_trunc.reset_index(drop=True)       \n",
    "inventory_trunc.to_csv(f\"../01_Data/02_Truncated/Library_Collection_Inventory_{file_date}.csv\")"
   ]
  },
  {
   "cell_type": "markdown",
   "metadata": {},
   "source": [
    "## II. Seattle Public Library ILS Data Dictionary\n",
    "Load and truncate the data dictionary to the useful codes"
   ]
  },
  {
   "cell_type": "code",
   "execution_count": 6,
   "metadata": {},
   "outputs": [],
   "source": [
    "#Load the data dictionary of codes \n",
    "data_dctnry = pd.read_csv('../01_Data/01_Source/Integrated_Library_System__ILS__Data_Dictionary.csv')"
   ]
  },
  {
   "cell_type": "markdown",
   "metadata": {},
   "source": [
    "### A. Dictionary: Locations - Export to CSV"
   ]
  },
  {
   "cell_type": "code",
   "execution_count": 7,
   "metadata": {},
   "outputs": [],
   "source": [
    "#Grab the location codes\n",
    "locations = data_dctnry[data_dctnry[\"Code Type\"] == \"ItemLocation\"][[\"Code\",\"Description\"]]"
   ]
  },
  {
   "cell_type": "code",
   "execution_count": 8,
   "metadata": {},
   "outputs": [],
   "source": [
    "locations = locations.reset_index(drop=True)\n",
    "locations = locations.drop_duplicates()\n",
    "locations.to_csv(\"../01_Data/02_Truncated/Library_Locations.csv\")"
   ]
  },
  {
   "cell_type": "markdown",
   "metadata": {},
   "source": [
    "### B. Dictionary: Book Codes (Non Reference) - Export to CSV"
   ]
  },
  {
   "cell_type": "code",
   "execution_count": 36,
   "metadata": {},
   "outputs": [],
   "source": [
    "#First run cells in section I.B Truncate by Book (above)"
   ]
  },
  {
   "cell_type": "code",
   "execution_count": 41,
   "metadata": {},
   "outputs": [],
   "source": [
    "data_dctnry_trunc = data_dctnry[data_dctnry[\"Code\"].isin(book_codes)]\n",
    "data_dctnry_trunc = data_dctnry_trunc.reset_index(drop=True) "
   ]
  },
  {
   "cell_type": "code",
   "execution_count": 43,
   "metadata": {},
   "outputs": [],
   "source": [
    "data_dctnry_trunc.to_csv(\"../01_Data/02_Truncated/Data_Dictionary_Book_Codes.csv\")"
   ]
  }
 ],
 "metadata": {
  "kernelspec": {
   "display_name": "Python 3",
   "language": "python",
   "name": "python3"
  },
  "language_info": {
   "codemirror_mode": {
    "name": "ipython",
    "version": 3
   },
   "file_extension": ".py",
   "mimetype": "text/x-python",
   "name": "python",
   "nbconvert_exporter": "python",
   "pygments_lexer": "ipython3",
   "version": "3.6.5"
  }
 },
 "nbformat": 4,
 "nbformat_minor": 2
}
