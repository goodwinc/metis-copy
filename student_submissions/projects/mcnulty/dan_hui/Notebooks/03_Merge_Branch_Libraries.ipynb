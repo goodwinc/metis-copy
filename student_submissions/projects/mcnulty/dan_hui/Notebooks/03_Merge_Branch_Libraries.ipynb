{
 "cells": [
  {
   "cell_type": "markdown",
   "metadata": {},
   "source": [
    "# 03_Merge_Branch_Libraries\n",
    "\n",
    "Author: Daniel Hui\n",
    "\n",
    "License: MIT\n",
    "\n",
    "This Notebook merges a few sets of library branch information together"
   ]
  },
  {
   "cell_type": "code",
   "execution_count": 1,
   "metadata": {},
   "outputs": [],
   "source": [
    "import pandas as pd\n",
    "import numpy as np"
   ]
  },
  {
   "cell_type": "markdown",
   "metadata": {},
   "source": [
    "### I. Branch Data"
   ]
  },
  {
   "cell_type": "markdown",
   "metadata": {},
   "source": [
    "#### A. Load Book Inventory and Aggregate by Branch"
   ]
  },
  {
   "cell_type": "code",
   "execution_count": 19,
   "metadata": {},
   "outputs": [
    {
     "name": "stderr",
     "output_type": "stream",
     "text": [
      "/anaconda3/lib/python3.6/site-packages/numpy/lib/arraysetops.py:472: FutureWarning: elementwise comparison failed; returning scalar instead, but in the future will perform elementwise comparison\n",
      "  mask |= (ar1 == a)\n"
     ]
    }
   ],
   "source": [
    "#Load inventory \n",
    "inventory = pd.read_csv('../01_Data/03_Cleaned/Library_Collection_Inventory_jan_2018_clean.csv',index_col=0)"
   ]
  },
  {
   "cell_type": "code",
   "execution_count": 20,
   "metadata": {},
   "outputs": [],
   "source": [
    "inventory_branch = inventory[~inventory[\"ISBN\"].isnull()]                         #remove missing ISBNs \n",
    "inventory_branch = inventory_branch[[\"ItemLocation\",\"ISBN\"]].drop_duplicates()    #isol. only 2 cols & rem. dup\n",
    "inventory_branch = inventory_branch.groupby(by=\"ItemLocation\").count().sort_values([\"ISBN\"])\n",
    "inventory_branch = inventory_branch.reset_index()\n",
    "inventory_branch = inventory_branch.rename({\"ItemLocation\":\"Code\",\"ISBN\":\"Titles\"},axis=\"columns\")"
   ]
  },
  {
   "cell_type": "markdown",
   "metadata": {},
   "source": [
    "#### B. Load Branch Addresses"
   ]
  },
  {
   "cell_type": "code",
   "execution_count": 21,
   "metadata": {},
   "outputs": [],
   "source": [
    "#Load branch info\n",
    "branch = pd.read_csv('../01_Data/02_Truncated/Library_Locations.csv',index_col=0)"
   ]
  },
  {
   "cell_type": "code",
   "execution_count": 22,
   "metadata": {},
   "outputs": [],
   "source": [
    "combined_branch = branch.merge(inventory_branch,on='Code',how=\"left\")"
   ]
  },
  {
   "cell_type": "code",
   "execution_count": 23,
   "metadata": {},
   "outputs": [
    {
     "data": {
      "text/html": [
       "<div>\n",
       "<style scoped>\n",
       "    .dataframe tbody tr th:only-of-type {\n",
       "        vertical-align: middle;\n",
       "    }\n",
       "\n",
       "    .dataframe tbody tr th {\n",
       "        vertical-align: top;\n",
       "    }\n",
       "\n",
       "    .dataframe thead th {\n",
       "        text-align: right;\n",
       "    }\n",
       "</style>\n",
       "<table border=\"1\" class=\"dataframe\">\n",
       "  <thead>\n",
       "    <tr style=\"text-align: right;\">\n",
       "      <th></th>\n",
       "      <th>Code</th>\n",
       "      <th>Description</th>\n",
       "      <th>Titles</th>\n",
       "    </tr>\n",
       "  </thead>\n",
       "  <tbody>\n",
       "    <tr>\n",
       "      <th>0</th>\n",
       "      <td>qna</td>\n",
       "      <td>Queen Anne, 400 W GARFIELD ST</td>\n",
       "      <td>18276</td>\n",
       "    </tr>\n",
       "    <tr>\n",
       "      <th>1</th>\n",
       "      <td>bal</td>\n",
       "      <td>Ballard, 5614 22ND AV NW</td>\n",
       "      <td>44241</td>\n",
       "    </tr>\n",
       "    <tr>\n",
       "      <th>2</th>\n",
       "      <td>bea</td>\n",
       "      <td>Beacon Hill, 2821 BEACON AV S</td>\n",
       "      <td>28365</td>\n",
       "    </tr>\n",
       "    <tr>\n",
       "      <th>3</th>\n",
       "      <td>bro</td>\n",
       "      <td>Broadview, 12755 GREENWOOD AV N</td>\n",
       "      <td>33358</td>\n",
       "    </tr>\n",
       "    <tr>\n",
       "      <th>4</th>\n",
       "      <td>cap</td>\n",
       "      <td>Capital Hill, 425 HARVARD AV E</td>\n",
       "      <td>27886</td>\n",
       "    </tr>\n",
       "  </tbody>\n",
       "</table>\n",
       "</div>"
      ],
      "text/plain": [
       "  Code                      Description  Titles\n",
       "0  qna    Queen Anne, 400 W GARFIELD ST   18276\n",
       "1  bal         Ballard, 5614 22ND AV NW   44241\n",
       "2  bea    Beacon Hill, 2821 BEACON AV S   28365\n",
       "3  bro  Broadview, 12755 GREENWOOD AV N   33358\n",
       "4  cap   Capital Hill, 425 HARVARD AV E   27886"
      ]
     },
     "execution_count": 23,
     "metadata": {},
     "output_type": "execute_result"
    }
   ],
   "source": [
    "combined_branch.head()"
   ]
  },
  {
   "cell_type": "markdown",
   "metadata": {},
   "source": [
    "#### C. Load Branch Latitude Longitude"
   ]
  },
  {
   "cell_type": "code",
   "execution_count": 24,
   "metadata": {},
   "outputs": [],
   "source": [
    "#Load branch lat/long\n",
    "branch_lat_long = pd.read_csv('../01_Data/01_Source/Library_Locations_Lat_Long.csv',index_col=0)\n",
    "branch_lat_long = branch_lat_long.drop([\"Description\"],axis=1)"
   ]
  },
  {
   "cell_type": "code",
   "execution_count": 25,
   "metadata": {},
   "outputs": [
    {
     "data": {
      "text/html": [
       "<div>\n",
       "<style scoped>\n",
       "    .dataframe tbody tr th:only-of-type {\n",
       "        vertical-align: middle;\n",
       "    }\n",
       "\n",
       "    .dataframe tbody tr th {\n",
       "        vertical-align: top;\n",
       "    }\n",
       "\n",
       "    .dataframe thead th {\n",
       "        text-align: right;\n",
       "    }\n",
       "</style>\n",
       "<table border=\"1\" class=\"dataframe\">\n",
       "  <thead>\n",
       "    <tr style=\"text-align: right;\">\n",
       "      <th></th>\n",
       "      <th>Code</th>\n",
       "      <th>Description</th>\n",
       "      <th>Titles</th>\n",
       "      <th>Lat</th>\n",
       "      <th>Long</th>\n",
       "      <th>Branch</th>\n",
       "      <th>Address</th>\n",
       "    </tr>\n",
       "  </thead>\n",
       "  <tbody>\n",
       "    <tr>\n",
       "      <th>0</th>\n",
       "      <td>qna</td>\n",
       "      <td>Queen Anne, 400 W GARFIELD ST</td>\n",
       "      <td>18276</td>\n",
       "      <td>47.633941</td>\n",
       "      <td>-122.362484</td>\n",
       "      <td>Queen Anne</td>\n",
       "      <td>400 W GARFIELD ST</td>\n",
       "    </tr>\n",
       "    <tr>\n",
       "      <th>1</th>\n",
       "      <td>bal</td>\n",
       "      <td>Ballard, 5614 22ND AV NW</td>\n",
       "      <td>44241</td>\n",
       "      <td>47.670117</td>\n",
       "      <td>-122.383555</td>\n",
       "      <td>Ballard</td>\n",
       "      <td>5614 22ND AV NW</td>\n",
       "    </tr>\n",
       "    <tr>\n",
       "      <th>2</th>\n",
       "      <td>bea</td>\n",
       "      <td>Beacon Hill, 2821 BEACON AV S</td>\n",
       "      <td>28365</td>\n",
       "      <td>47.577991</td>\n",
       "      <td>-122.311403</td>\n",
       "      <td>Beacon Hill</td>\n",
       "      <td>2821 BEACON AV S</td>\n",
       "    </tr>\n",
       "    <tr>\n",
       "      <th>3</th>\n",
       "      <td>bro</td>\n",
       "      <td>Broadview, 12755 GREENWOOD AV N</td>\n",
       "      <td>33358</td>\n",
       "      <td>47.722892</td>\n",
       "      <td>-122.358316</td>\n",
       "      <td>Broadview</td>\n",
       "      <td>12755 GREENWOOD AV N</td>\n",
       "    </tr>\n",
       "    <tr>\n",
       "      <th>4</th>\n",
       "      <td>cap</td>\n",
       "      <td>Capital Hill, 425 HARVARD AV E</td>\n",
       "      <td>27886</td>\n",
       "      <td>47.622933</td>\n",
       "      <td>-122.324510</td>\n",
       "      <td>Capital Hill</td>\n",
       "      <td>425 HARVARD AV E</td>\n",
       "    </tr>\n",
       "  </tbody>\n",
       "</table>\n",
       "</div>"
      ],
      "text/plain": [
       "  Code                      Description  Titles        Lat        Long  \\\n",
       "0  qna    Queen Anne, 400 W GARFIELD ST   18276  47.633941 -122.362484   \n",
       "1  bal         Ballard, 5614 22ND AV NW   44241  47.670117 -122.383555   \n",
       "2  bea    Beacon Hill, 2821 BEACON AV S   28365  47.577991 -122.311403   \n",
       "3  bro  Broadview, 12755 GREENWOOD AV N   33358  47.722892 -122.358316   \n",
       "4  cap   Capital Hill, 425 HARVARD AV E   27886  47.622933 -122.324510   \n",
       "\n",
       "         Branch                Address  \n",
       "0    Queen Anne      400 W GARFIELD ST  \n",
       "1       Ballard        5614 22ND AV NW  \n",
       "2   Beacon Hill       2821 BEACON AV S  \n",
       "3     Broadview   12755 GREENWOOD AV N  \n",
       "4  Capital Hill       425 HARVARD AV E  "
      ]
     },
     "execution_count": 25,
     "metadata": {},
     "output_type": "execute_result"
    }
   ],
   "source": [
    "combined_branch = combined_branch.merge(branch_lat_long,on='Code',how=\"left\")  #Merge! \n",
    "combined_branch.head()"
   ]
  },
  {
   "cell_type": "markdown",
   "metadata": {},
   "source": [
    "#### D. Export to CSV"
   ]
  },
  {
   "cell_type": "code",
   "execution_count": 26,
   "metadata": {},
   "outputs": [],
   "source": [
    "combined_branch.to_csv('../01_Data/03_Cleaned/Library_Branch_Merged.csv')"
   ]
  },
  {
   "cell_type": "code",
   "execution_count": null,
   "metadata": {},
   "outputs": [],
   "source": []
  }
 ],
 "metadata": {
  "kernelspec": {
   "display_name": "Python 3",
   "language": "python",
   "name": "python3"
  },
  "language_info": {
   "codemirror_mode": {
    "name": "ipython",
    "version": 3
   },
   "file_extension": ".py",
   "mimetype": "text/x-python",
   "name": "python",
   "nbconvert_exporter": "python",
   "pygments_lexer": "ipython3",
   "version": "3.6.5"
  }
 },
 "nbformat": 4,
 "nbformat_minor": 2
}
