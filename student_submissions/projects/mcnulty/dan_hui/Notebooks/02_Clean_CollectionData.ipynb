{
 "cells": [
  {
   "cell_type": "markdown",
   "metadata": {},
   "source": [
    "# 02_Cleaning_Collection\n",
    "\n",
    "Author: Daniel Hui\n",
    "\n",
    "License: MIT\n",
    "\n",
    "This cleans the columns of data and also removes unecessary columns"
   ]
  },
  {
   "cell_type": "code",
   "execution_count": 18,
   "metadata": {},
   "outputs": [],
   "source": [
    "import pandas as pd\n",
    "import numpy as np"
   ]
  },
  {
   "cell_type": "code",
   "execution_count": 19,
   "metadata": {},
   "outputs": [],
   "source": [
    "#Global Variable\n",
    "month = \"jan\""
   ]
  },
  {
   "cell_type": "code",
   "execution_count": 20,
   "metadata": {},
   "outputs": [
    {
     "name": "stderr",
     "output_type": "stream",
     "text": [
      "/anaconda3/lib/python3.6/site-packages/numpy/lib/arraysetops.py:472: FutureWarning: elementwise comparison failed; returning scalar instead, but in the future will perform elementwise comparison\n",
      "  mask |= (ar1 == a)\n"
     ]
    }
   ],
   "source": [
    "#Load inventory \n",
    "inventory = pd.read_csv(F'../01_Data/02_Truncated/Library_Collection_Inventory_{month}_2018.csv',index_col=0)"
   ]
  },
  {
   "cell_type": "code",
   "execution_count": 22,
   "metadata": {},
   "outputs": [
    {
     "data": {
      "text/html": [
       "<div>\n",
       "<style scoped>\n",
       "    .dataframe tbody tr th:only-of-type {\n",
       "        vertical-align: middle;\n",
       "    }\n",
       "\n",
       "    .dataframe tbody tr th {\n",
       "        vertical-align: top;\n",
       "    }\n",
       "\n",
       "    .dataframe thead th {\n",
       "        text-align: right;\n",
       "    }\n",
       "</style>\n",
       "<table border=\"1\" class=\"dataframe\">\n",
       "  <thead>\n",
       "    <tr style=\"text-align: right;\">\n",
       "      <th></th>\n",
       "      <th>BibNum</th>\n",
       "      <th>Title</th>\n",
       "      <th>Author</th>\n",
       "      <th>ISBN</th>\n",
       "      <th>PublicationYear</th>\n",
       "      <th>Publisher</th>\n",
       "      <th>Subjects</th>\n",
       "      <th>ItemType</th>\n",
       "      <th>ItemCollection</th>\n",
       "      <th>FloatingItem</th>\n",
       "      <th>ItemLocation</th>\n",
       "      <th>ReportDate</th>\n",
       "      <th>ItemCount</th>\n",
       "    </tr>\n",
       "  </thead>\n",
       "  <tbody>\n",
       "    <tr>\n",
       "      <th>0</th>\n",
       "      <td>3177276</td>\n",
       "      <td>Day of the Dead.</td>\n",
       "      <td>NaN</td>\n",
       "      <td>NaN</td>\n",
       "      <td>[2016]</td>\n",
       "      <td>Red Hot/4AD,</td>\n",
       "      <td>Rock music 2011 2020, Rock music</td>\n",
       "      <td>accd</td>\n",
       "      <td>naover</td>\n",
       "      <td>NaN</td>\n",
       "      <td>net</td>\n",
       "      <td>01/01/2018</td>\n",
       "      <td>1</td>\n",
       "    </tr>\n",
       "    <tr>\n",
       "      <th>1</th>\n",
       "      <td>395432</td>\n",
       "      <td>Swan Lake / Ann Nugent.</td>\n",
       "      <td>Nugent, Ann</td>\n",
       "      <td>0812056744</td>\n",
       "      <td>1985.</td>\n",
       "      <td>Barron's,</td>\n",
       "      <td>Swan lake Choreographic work</td>\n",
       "      <td>acbk</td>\n",
       "      <td>canf</td>\n",
       "      <td>NaN</td>\n",
       "      <td>cen</td>\n",
       "      <td>01/01/2018</td>\n",
       "      <td>1</td>\n",
       "    </tr>\n",
       "    <tr>\n",
       "      <th>2</th>\n",
       "      <td>123754</td>\n",
       "      <td>Best short stories of Jack London.</td>\n",
       "      <td>London, Jack, 1876-1916</td>\n",
       "      <td>NaN</td>\n",
       "      <td>[1945]</td>\n",
       "      <td>Doubleday,</td>\n",
       "      <td>NaN</td>\n",
       "      <td>acbk</td>\n",
       "      <td>cs3fic</td>\n",
       "      <td>NaN</td>\n",
       "      <td>cen</td>\n",
       "      <td>01/01/2018</td>\n",
       "      <td>1</td>\n",
       "    </tr>\n",
       "  </tbody>\n",
       "</table>\n",
       "</div>"
      ],
      "text/plain": [
       "    BibNum                               Title                   Author  \\\n",
       "0  3177276                    Day of the Dead.                      NaN   \n",
       "1   395432             Swan Lake / Ann Nugent.              Nugent, Ann   \n",
       "2   123754  Best short stories of Jack London.  London, Jack, 1876-1916   \n",
       "\n",
       "         ISBN PublicationYear     Publisher                          Subjects  \\\n",
       "0         NaN          [2016]  Red Hot/4AD,  Rock music 2011 2020, Rock music   \n",
       "1  0812056744           1985.     Barron's,      Swan lake Choreographic work   \n",
       "2         NaN          [1945]    Doubleday,                               NaN   \n",
       "\n",
       "  ItemType ItemCollection FloatingItem ItemLocation  ReportDate  ItemCount  \n",
       "0     accd         naover          NaN          net  01/01/2018          1  \n",
       "1     acbk           canf          NaN          cen  01/01/2018          1  \n",
       "2     acbk         cs3fic          NaN          cen  01/01/2018          1  "
      ]
     },
     "execution_count": 22,
     "metadata": {},
     "output_type": "execute_result"
    }
   ],
   "source": [
    "inventory.head(3)"
   ]
  },
  {
   "cell_type": "markdown",
   "metadata": {},
   "source": [
    "### Cleaning Functions"
   ]
  },
  {
   "cell_type": "code",
   "execution_count": 23,
   "metadata": {},
   "outputs": [],
   "source": [
    "#This definition cleans all the junk in the publication year column\n",
    "def clean_year(row):\n",
    "    try:\n",
    "        row = row.replace('[','')\n",
    "        row = row.replace(']','')\n",
    "        row = row.replace('?','')\n",
    "        row = row.replace('c','')\n",
    "        row = row.replace('.','')\n",
    "        row = row.replace('-','')\n",
    "        row = row.replace('©','')\n",
    "        row = row.replace('between','')\n",
    "        row = row.replace(' ','')\n",
    "        row = row.replace(',','')\n",
    "        row = row.replace('thatis','')\n",
    "        row = row.replace('<','')\n",
    "        row = row.replace('>','')\n",
    "        row = row.replace('In','')\n",
    "        row = row.replace('(','')\n",
    "        row = row.replace(')','')\n",
    "        if (row[0:2] in ['16','17','18','19','20']) & (len(row) >= 4) :      #if the first part looks \n",
    "            row = row[0:4]                                                   #like a year, grab it\n",
    "        elif (row[-4:-2] in ['16','17','18','19','20']) & (len(row) >= 4) :  #if the last part looks \n",
    "            row = row[-4:0]                                                  #like a year,grab it\n",
    "        else: row = np.nan                                                   #anything else is not a year\n",
    "        \n",
    "        try: \n",
    "            int(row)             #if what you've caught is a number, return it\n",
    "            return row\n",
    "        except: return np.nan    #otherwise return nan\n",
    "    \n",
    "    except: return np.nan"
   ]
  },
  {
   "cell_type": "code",
   "execution_count": 24,
   "metadata": {},
   "outputs": [],
   "source": [
    "#This definition cleans all the junk in the ISBN column. There are often two ISBNs and only need one\n",
    "def clean_isbn(row):\n",
    "    try:\n",
    "        return row.split(',')[0]\n",
    "    except: return np.nan"
   ]
  },
  {
   "cell_type": "markdown",
   "metadata": {},
   "source": [
    "### Data Cleaning"
   ]
  },
  {
   "cell_type": "code",
   "execution_count": 25,
   "metadata": {},
   "outputs": [],
   "source": [
    "inventory['PublicationYear'] = inventory['PublicationYear'].apply(clean_year)\n",
    "inventory['ISBN'] = inventory['ISBN'].apply(clean_isbn)"
   ]
  },
  {
   "cell_type": "markdown",
   "metadata": {},
   "source": [
    "### Keep Needed Columns & Remove Duplicates"
   ]
  },
  {
   "cell_type": "code",
   "execution_count": 26,
   "metadata": {},
   "outputs": [],
   "source": [
    "inventory = inventory[['BibNum','Title','ISBN','PublicationYear','Subjects','ItemType',\n",
    "                       'ItemCollection','FloatingItem','ItemLocation',\"ItemCount\"]]\n",
    "inventory = inventory.drop_duplicates()"
   ]
  },
  {
   "cell_type": "markdown",
   "metadata": {},
   "source": [
    "### Export"
   ]
  },
  {
   "cell_type": "code",
   "execution_count": 27,
   "metadata": {},
   "outputs": [],
   "source": [
    "inventory.to_csv(f'../01_Data/03_Cleaned/Library_Collection_Inventory_{month}_2018_clean.csv')"
   ]
  },
  {
   "cell_type": "code",
   "execution_count": null,
   "metadata": {},
   "outputs": [],
   "source": []
  }
 ],
 "metadata": {
  "kernelspec": {
   "display_name": "Python 3",
   "language": "python",
   "name": "python3"
  },
  "language_info": {
   "codemirror_mode": {
    "name": "ipython",
    "version": 3
   },
   "file_extension": ".py",
   "mimetype": "text/x-python",
   "name": "python",
   "nbconvert_exporter": "python",
   "pygments_lexer": "ipython3",
   "version": "3.6.5"
  }
 },
 "nbformat": 4,
 "nbformat_minor": 2
}
