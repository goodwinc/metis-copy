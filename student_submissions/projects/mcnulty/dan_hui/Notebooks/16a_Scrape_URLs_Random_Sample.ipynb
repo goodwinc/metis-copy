{
 "cells": [
  {
   "cell_type": "markdown",
   "metadata": {},
   "source": [
    "## 16a_Scrape_URLs_Random_Sample\n",
    "\n",
    "Author: Daniel Hui\n",
    "\n",
    "License: MIT\n",
    "\n",
    "This notebook scrapes the URLS of the Seattle Public Library online catalog, which is managed by a 3rd party provider, Bibliocommons of Toronto"
   ]
  },
  {
   "cell_type": "code",
   "execution_count": 41,
   "metadata": {},
   "outputs": [],
   "source": [
    "import pandas as pd\n",
    "import requests\n",
    "import numpy as np\n",
    "\n",
    "from __future__ import print_function, division"
   ]
  },
  {
   "cell_type": "markdown",
   "metadata": {},
   "source": [
    "### Global Variables"
   ]
  },
  {
   "cell_type": "code",
   "execution_count": 42,
   "metadata": {},
   "outputs": [],
   "source": [
    "location = \"random\"         #Set Target Branch Library\n",
    "max_range = 250          #max number of rows in each subfile"
   ]
  },
  {
   "cell_type": "markdown",
   "metadata": {},
   "source": [
    "### Extract ISBN List From Target Branch"
   ]
  },
  {
   "cell_type": "code",
   "execution_count": 43,
   "metadata": {},
   "outputs": [],
   "source": [
    "#Load inventory \n",
    "inventory = pd.read_csv('../01_Data/04_Scraped/Random_Sample.csv',index_col=0)"
   ]
  },
  {
   "cell_type": "code",
   "execution_count": 44,
   "metadata": {},
   "outputs": [
    {
     "data": {
      "text/html": [
       "<div>\n",
       "<style scoped>\n",
       "    .dataframe tbody tr th:only-of-type {\n",
       "        vertical-align: middle;\n",
       "    }\n",
       "\n",
       "    .dataframe tbody tr th {\n",
       "        vertical-align: top;\n",
       "    }\n",
       "\n",
       "    .dataframe thead th {\n",
       "        text-align: right;\n",
       "    }\n",
       "</style>\n",
       "<table border=\"1\" class=\"dataframe\">\n",
       "  <thead>\n",
       "    <tr style=\"text-align: right;\">\n",
       "      <th></th>\n",
       "      <th>BibNum</th>\n",
       "      <th>isbn</th>\n",
       "    </tr>\n",
       "  </thead>\n",
       "  <tbody>\n",
       "    <tr>\n",
       "      <th>121017</th>\n",
       "      <td>3161651</td>\n",
       "      <td>1620401371</td>\n",
       "    </tr>\n",
       "    <tr>\n",
       "      <th>5167</th>\n",
       "      <td>3203068</td>\n",
       "      <td>0985673486</td>\n",
       "    </tr>\n",
       "    <tr>\n",
       "      <th>187823</th>\n",
       "      <td>2851182</td>\n",
       "      <td>1618101110</td>\n",
       "    </tr>\n",
       "    <tr>\n",
       "      <th>56292</th>\n",
       "      <td>2640953</td>\n",
       "      <td>0375864326</td>\n",
       "    </tr>\n",
       "    <tr>\n",
       "      <th>15312</th>\n",
       "      <td>2301442</td>\n",
       "      <td>0792271351</td>\n",
       "    </tr>\n",
       "  </tbody>\n",
       "</table>\n",
       "</div>"
      ],
      "text/plain": [
       "         BibNum        isbn\n",
       "121017  3161651  1620401371\n",
       "5167    3203068  0985673486\n",
       "187823  2851182  1618101110\n",
       "56292   2640953  0375864326\n",
       "15312   2301442  0792271351"
      ]
     },
     "execution_count": 44,
     "metadata": {},
     "output_type": "execute_result"
    }
   ],
   "source": [
    "isbn_df = inventory[[\"BibNum\",\"isbn\"]].drop_duplicates()\n",
    "isbn_df = isbn_df[isbn_df[\"isbn\"] != \"0\"]\n",
    "isbn_df.head()"
   ]
  },
  {
   "cell_type": "code",
   "execution_count": 45,
   "metadata": {},
   "outputs": [
    {
     "data": {
      "text/plain": [
       "3497"
      ]
     },
     "execution_count": 45,
     "metadata": {},
     "output_type": "execute_result"
    }
   ],
   "source": [
    "len(isbn_df)     #Number of ISBNs at this location                                       "
   ]
  },
  {
   "cell_type": "markdown",
   "metadata": {},
   "source": [
    "### Selenium Scrape\n",
    "Load Selenium and point it to a start page"
   ]
  },
  {
   "cell_type": "code",
   "execution_count": 51,
   "metadata": {},
   "outputs": [],
   "source": [
    "from selenium import webdriver\n",
    "from selenium.webdriver.common.keys import Keys\n",
    "import time\n",
    "\n",
    "import os\n",
    "chromedriver = \"/Applications/chromedriver\"      # path to the chromedriver executable\n",
    "os.environ[\"webdriver.chrome.driver\"] = chromedriver"
   ]
  },
  {
   "cell_type": "code",
   "execution_count": 52,
   "metadata": {},
   "outputs": [],
   "source": [
    "driver = webdriver.Chrome(chromedriver)\n",
    "driver.get(\"https://seattle.bibliocommons.com/item/show/3339147030\")  #SPL's online catalog starting point"
   ]
  },
  {
   "cell_type": "markdown",
   "metadata": {},
   "source": [
    "### Scraping Function"
   ]
  },
  {
   "cell_type": "code",
   "execution_count": 48,
   "metadata": {},
   "outputs": [],
   "source": [
    "def get_url(isbn):\n",
    "    driver.get(f'https://seattle.bibliocommons.com/v2/search?query={isbn}&searchType=smart') #search URL \n",
    "    try:                                                                                     \n",
    "        title_link = driver.find_element_by_xpath(\"//a[@data-key = 'bib-title']\")            #find link \n",
    "        title_link.click()                                                                  \n",
    "        current_url = driver.current_url\n",
    "        return current_url\n",
    "    except:                                     #for errors that happen when an ISBN isnt in the catalog\n",
    "        return \"N/A\"   \n",
    "        #time.sleep(5)                          #delay option, but it doesnt look like it matters"
   ]
  },
  {
   "cell_type": "markdown",
   "metadata": {},
   "source": [
    "### Scraping Loop"
   ]
  },
  {
   "cell_type": "code",
   "execution_count": 53,
   "metadata": {},
   "outputs": [],
   "source": [
    "#split the ISBN List into chunks so you can incrementally save\n",
    "total_loops = (len(isbn_df) // max_range) + 1\n",
    "isbn_dframes = np.array_split(isbn_df, total_loops)"
   ]
  },
  {
   "cell_type": "code",
   "execution_count": 50,
   "metadata": {},
   "outputs": [],
   "source": [
    "for i in range(14,len(isbn_dframes)):     #adjust lower number to new starting point if necessary\n",
    "    isbn_dframes[i][\"link\"] = isbn_dframes[i][\"isbn\"].apply(get_url)\n",
    "    isbn_dframes[i].to_csv(f\"../01_Data/04_Scraped/isbn_url_{location}_{i}.csv\")"
   ]
  },
  {
   "cell_type": "markdown",
   "metadata": {},
   "source": [
    "### Unite the CSVs Together"
   ]
  },
  {
   "cell_type": "code",
   "execution_count": 41,
   "metadata": {},
   "outputs": [],
   "source": [
    "total_files = len(isbn_df) // max_range + 1\n",
    "\n",
    "#initialize the dictionary\n",
    "book_df = pd.read_csv(f'../01_Data/04_Scraped/isbn_url_{location}_0.csv',index_col=0) \n",
    "\n",
    "for i in range(1,total_files):\n",
    "    current_df = pd.read_csv(f'../01_Data/04_Scraped/isbn_url_{location}_{i}.csv',index_col=0)\n",
    "    book_df = pd.concat([book_df,current_df])\n",
    "\n",
    "book_df = book_df.reset_index(drop=True) "
   ]
  },
  {
   "cell_type": "code",
   "execution_count": 42,
   "metadata": {},
   "outputs": [],
   "source": [
    "book_df.to_csv(f\"../01_Data/04_Scraped/isbn_url_{location}.csv\")"
   ]
  },
  {
   "cell_type": "code",
   "execution_count": null,
   "metadata": {},
   "outputs": [],
   "source": []
  }
 ],
 "metadata": {
  "kernelspec": {
   "display_name": "Python 3",
   "language": "python",
   "name": "python3"
  },
  "language_info": {
   "codemirror_mode": {
    "name": "ipython",
    "version": 3
   },
   "file_extension": ".py",
   "mimetype": "text/x-python",
   "name": "python",
   "nbconvert_exporter": "python",
   "pygments_lexer": "ipython3",
   "version": "3.6.5"
  }
 },
 "nbformat": 4,
 "nbformat_minor": 2
}
