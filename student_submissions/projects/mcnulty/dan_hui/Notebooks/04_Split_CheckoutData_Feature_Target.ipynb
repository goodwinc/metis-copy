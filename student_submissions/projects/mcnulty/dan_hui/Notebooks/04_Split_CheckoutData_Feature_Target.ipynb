{
 "cells": [
  {
   "cell_type": "markdown",
   "metadata": {},
   "source": [
    "##  06_Split_CheckoutData_Feature_Target\n",
    "\n",
    "Author: Daniel Hui\n",
    "\n",
    "License: MIT\n",
    "\n",
    "This notebook splits the checkout dataset into features and also checkout targets"
   ]
  },
  {
   "cell_type": "code",
   "execution_count": 1,
   "metadata": {},
   "outputs": [],
   "source": [
    "import pandas as pd"
   ]
  },
  {
   "cell_type": "markdown",
   "metadata": {},
   "source": [
    "### Load Checkout Data"
   ]
  },
  {
   "cell_type": "code",
   "execution_count": 2,
   "metadata": {},
   "outputs": [],
   "source": [
    "#Load 2018 Checkouts\n",
    "checkouts_18df = pd.read_csv('/Users/dhui/Downloads/01_Source_Data/Checkouts_By_Title_Data_Lens_2018.csv',index_col=0)"
   ]
  },
  {
   "cell_type": "code",
   "execution_count": 3,
   "metadata": {},
   "outputs": [],
   "source": [
    "#Load 2017 Checkouts\n",
    "checkouts_17df = pd.read_csv('/Users/dhui/Downloads/01_Source_Data/Checkouts_By_Title_Data_Lens_2017.csv',index_col=0)"
   ]
  },
  {
   "cell_type": "code",
   "execution_count": 4,
   "metadata": {},
   "outputs": [],
   "source": [
    "checkouts_df = pd.concat([checkouts_17df, checkouts_18df])"
   ]
  },
  {
   "cell_type": "code",
   "execution_count": 5,
   "metadata": {},
   "outputs": [
    {
     "name": "stdout",
     "output_type": "stream",
     "text": [
      "<class 'pandas.core.frame.DataFrame'>\n",
      "Index: 11125504 entries, 201701020813000010063298235 to 201810211805000010087324512\n",
      "Data columns (total 9 columns):\n",
      "CheckoutYear        int64\n",
      "BibNumber           int64\n",
      "ItemBarcode         int64\n",
      "ItemType            object\n",
      "Collection          object\n",
      "CallNumber          object\n",
      "ItemTitle           object\n",
      "Subjects            object\n",
      "CheckoutDateTime    object\n",
      "dtypes: int64(3), object(6)\n",
      "memory usage: 848.8+ MB\n"
     ]
    }
   ],
   "source": [
    "checkouts_df.info()   #There are 11,125,504 checkout records from Jan 1 2017 to date"
   ]
  },
  {
   "cell_type": "code",
   "execution_count": 6,
   "metadata": {},
   "outputs": [
    {
     "data": {
      "text/html": [
       "<div>\n",
       "<style scoped>\n",
       "    .dataframe tbody tr th:only-of-type {\n",
       "        vertical-align: middle;\n",
       "    }\n",
       "\n",
       "    .dataframe tbody tr th {\n",
       "        vertical-align: top;\n",
       "    }\n",
       "\n",
       "    .dataframe thead th {\n",
       "        text-align: right;\n",
       "    }\n",
       "</style>\n",
       "<table border=\"1\" class=\"dataframe\">\n",
       "  <thead>\n",
       "    <tr style=\"text-align: right;\">\n",
       "      <th></th>\n",
       "      <th>CheckoutYear</th>\n",
       "      <th>BibNumber</th>\n",
       "      <th>ItemBarcode</th>\n",
       "    </tr>\n",
       "  </thead>\n",
       "  <tbody>\n",
       "    <tr>\n",
       "      <th>count</th>\n",
       "      <td>1.112550e+07</td>\n",
       "      <td>1.112550e+07</td>\n",
       "      <td>1.112550e+07</td>\n",
       "    </tr>\n",
       "    <tr>\n",
       "      <th>mean</th>\n",
       "      <td>2.017441e+03</td>\n",
       "      <td>2.931739e+06</td>\n",
       "      <td>1.006307e+10</td>\n",
       "    </tr>\n",
       "    <tr>\n",
       "      <th>std</th>\n",
       "      <td>4.965638e-01</td>\n",
       "      <td>5.036426e+05</td>\n",
       "      <td>5.409337e+08</td>\n",
       "    </tr>\n",
       "    <tr>\n",
       "      <th>min</th>\n",
       "      <td>2.017000e+03</td>\n",
       "      <td>3.200000e+01</td>\n",
       "      <td>1.000005e+08</td>\n",
       "    </tr>\n",
       "    <tr>\n",
       "      <th>25%</th>\n",
       "      <td>2.017000e+03</td>\n",
       "      <td>2.767197e+06</td>\n",
       "      <td>1.008094e+10</td>\n",
       "    </tr>\n",
       "    <tr>\n",
       "      <th>50%</th>\n",
       "      <td>2.017000e+03</td>\n",
       "      <td>3.104455e+06</td>\n",
       "      <td>1.008740e+10</td>\n",
       "    </tr>\n",
       "    <tr>\n",
       "      <th>75%</th>\n",
       "      <td>2.018000e+03</td>\n",
       "      <td>3.230605e+06</td>\n",
       "      <td>1.009037e+10</td>\n",
       "    </tr>\n",
       "    <tr>\n",
       "      <th>max</th>\n",
       "      <td>2.018000e+03</td>\n",
       "      <td>3.418802e+06</td>\n",
       "      <td>1.000033e+12</td>\n",
       "    </tr>\n",
       "  </tbody>\n",
       "</table>\n",
       "</div>"
      ],
      "text/plain": [
       "       CheckoutYear     BibNumber   ItemBarcode\n",
       "count  1.112550e+07  1.112550e+07  1.112550e+07\n",
       "mean   2.017441e+03  2.931739e+06  1.006307e+10\n",
       "std    4.965638e-01  5.036426e+05  5.409337e+08\n",
       "min    2.017000e+03  3.200000e+01  1.000005e+08\n",
       "25%    2.017000e+03  2.767197e+06  1.008094e+10\n",
       "50%    2.017000e+03  3.104455e+06  1.008740e+10\n",
       "75%    2.018000e+03  3.230605e+06  1.009037e+10\n",
       "max    2.018000e+03  3.418802e+06  1.000033e+12"
      ]
     },
     "execution_count": 6,
     "metadata": {},
     "output_type": "execute_result"
    }
   ],
   "source": [
    "checkouts_df.describe()"
   ]
  },
  {
   "cell_type": "code",
   "execution_count": 7,
   "metadata": {},
   "outputs": [
    {
     "data": {
      "text/html": [
       "<div>\n",
       "<style scoped>\n",
       "    .dataframe tbody tr th:only-of-type {\n",
       "        vertical-align: middle;\n",
       "    }\n",
       "\n",
       "    .dataframe tbody tr th {\n",
       "        vertical-align: top;\n",
       "    }\n",
       "\n",
       "    .dataframe thead th {\n",
       "        text-align: right;\n",
       "    }\n",
       "</style>\n",
       "<table border=\"1\" class=\"dataframe\">\n",
       "  <thead>\n",
       "    <tr style=\"text-align: right;\">\n",
       "      <th></th>\n",
       "      <th>CheckoutYear</th>\n",
       "      <th>BibNumber</th>\n",
       "      <th>ItemBarcode</th>\n",
       "      <th>ItemType</th>\n",
       "      <th>Collection</th>\n",
       "      <th>CallNumber</th>\n",
       "      <th>ItemTitle</th>\n",
       "      <th>Subjects</th>\n",
       "      <th>CheckoutDateTime</th>\n",
       "    </tr>\n",
       "    <tr>\n",
       "      <th>ID</th>\n",
       "      <th></th>\n",
       "      <th></th>\n",
       "      <th></th>\n",
       "      <th></th>\n",
       "      <th></th>\n",
       "      <th></th>\n",
       "      <th></th>\n",
       "      <th></th>\n",
       "      <th></th>\n",
       "    </tr>\n",
       "  </thead>\n",
       "  <tbody>\n",
       "    <tr>\n",
       "      <th>201701020813000010063298235</th>\n",
       "      <td>2017</td>\n",
       "      <td>2543647</td>\n",
       "      <td>10063298235</td>\n",
       "      <td>accd</td>\n",
       "      <td>nacd</td>\n",
       "      <td>CD 782.42166 C6606So</td>\n",
       "      <td>Songs from a room</td>\n",
       "      <td>Popular music 1961 1970</td>\n",
       "      <td>01/02/2017 08:13:00 AM</td>\n",
       "    </tr>\n",
       "    <tr>\n",
       "      <th>201701020813000010087522552</th>\n",
       "      <td>2017</td>\n",
       "      <td>3172300</td>\n",
       "      <td>10087522552</td>\n",
       "      <td>acbk</td>\n",
       "      <td>namys</td>\n",
       "      <td>MYSTERY COTTERI 2016</td>\n",
       "      <td>I shot the Buddha</td>\n",
       "      <td>Paiboun Siri Doctor Fictitious character Ficti...</td>\n",
       "      <td>01/02/2017 08:13:00 AM</td>\n",
       "    </tr>\n",
       "  </tbody>\n",
       "</table>\n",
       "</div>"
      ],
      "text/plain": [
       "                             CheckoutYear  BibNumber  ItemBarcode ItemType  \\\n",
       "ID                                                                           \n",
       "201701020813000010063298235          2017    2543647  10063298235     accd   \n",
       "201701020813000010087522552          2017    3172300  10087522552     acbk   \n",
       "\n",
       "                            Collection            CallNumber  \\\n",
       "ID                                                             \n",
       "201701020813000010063298235       nacd  CD 782.42166 C6606So   \n",
       "201701020813000010087522552      namys  MYSTERY COTTERI 2016   \n",
       "\n",
       "                                     ItemTitle  \\\n",
       "ID                                               \n",
       "201701020813000010063298235  Songs from a room   \n",
       "201701020813000010087522552  I shot the Buddha   \n",
       "\n",
       "                                                                      Subjects  \\\n",
       "ID                                                                               \n",
       "201701020813000010063298235                            Popular music 1961 1970   \n",
       "201701020813000010087522552  Paiboun Siri Doctor Fictitious character Ficti...   \n",
       "\n",
       "                                   CheckoutDateTime  \n",
       "ID                                                   \n",
       "201701020813000010063298235  01/02/2017 08:13:00 AM  \n",
       "201701020813000010087522552  01/02/2017 08:13:00 AM  "
      ]
     },
     "execution_count": 7,
     "metadata": {},
     "output_type": "execute_result"
    }
   ],
   "source": [
    "checkouts_df.head(2)"
   ]
  },
  {
   "cell_type": "markdown",
   "metadata": {},
   "source": [
    "### Limit Checkout Data to Circulating Books"
   ]
  },
  {
   "cell_type": "code",
   "execution_count": 8,
   "metadata": {},
   "outputs": [],
   "source": [
    "#load book codes of ItemCollection codes for non-reference books\n",
    "book_codes = pd.read_csv(\"../01_Data/03_Cleaned/ItemCollection_Book_Codes.csv\",index_col=0,header=None)\n",
    "book_codes = book_codes[1]"
   ]
  },
  {
   "cell_type": "code",
   "execution_count": 9,
   "metadata": {},
   "outputs": [],
   "source": [
    "#truncate rows by keeping only items that are in the book code list\n",
    "circulating_books_df = checkouts_df[checkouts_df[\"Collection\"].isin(book_codes)]"
   ]
  },
  {
   "cell_type": "code",
   "execution_count": 10,
   "metadata": {},
   "outputs": [
    {
     "data": {
      "text/plain": [
       "(7106862, 9)"
      ]
     },
     "execution_count": 10,
     "metadata": {},
     "output_type": "execute_result"
    }
   ],
   "source": [
    "circulating_books_df.shape   #7,106,862 checkouts 01/01/17 to Date for circulating books"
   ]
  },
  {
   "cell_type": "markdown",
   "metadata": {},
   "source": [
    "### Keep Necessary Columns"
   ]
  },
  {
   "cell_type": "code",
   "execution_count": 11,
   "metadata": {},
   "outputs": [],
   "source": [
    "circulating_books_df = circulating_books_df[[\"CheckoutYear\",\"BibNumber\",\"Collection\",\"CheckoutDateTime\"]]\n",
    "circulating_books_df = circulating_books_df.reset_index(drop = True)"
   ]
  },
  {
   "cell_type": "code",
   "execution_count": 12,
   "metadata": {},
   "outputs": [
    {
     "data": {
      "text/html": [
       "<div>\n",
       "<style scoped>\n",
       "    .dataframe tbody tr th:only-of-type {\n",
       "        vertical-align: middle;\n",
       "    }\n",
       "\n",
       "    .dataframe tbody tr th {\n",
       "        vertical-align: top;\n",
       "    }\n",
       "\n",
       "    .dataframe thead th {\n",
       "        text-align: right;\n",
       "    }\n",
       "</style>\n",
       "<table border=\"1\" class=\"dataframe\">\n",
       "  <thead>\n",
       "    <tr style=\"text-align: right;\">\n",
       "      <th></th>\n",
       "      <th>CheckoutYear</th>\n",
       "      <th>BibNumber</th>\n",
       "      <th>Collection</th>\n",
       "      <th>CheckoutDateTime</th>\n",
       "    </tr>\n",
       "  </thead>\n",
       "  <tbody>\n",
       "    <tr>\n",
       "      <th>0</th>\n",
       "      <td>2017</td>\n",
       "      <td>3172300</td>\n",
       "      <td>namys</td>\n",
       "      <td>01/02/2017 08:13:00 AM</td>\n",
       "    </tr>\n",
       "    <tr>\n",
       "      <th>1</th>\n",
       "      <td>2017</td>\n",
       "      <td>2393405</td>\n",
       "      <td>camys</td>\n",
       "      <td>01/02/2017 08:24:00 AM</td>\n",
       "    </tr>\n",
       "  </tbody>\n",
       "</table>\n",
       "</div>"
      ],
      "text/plain": [
       "   CheckoutYear  BibNumber Collection        CheckoutDateTime\n",
       "0          2017    3172300      namys  01/02/2017 08:13:00 AM\n",
       "1          2017    2393405      camys  01/02/2017 08:24:00 AM"
      ]
     },
     "execution_count": 12,
     "metadata": {},
     "output_type": "execute_result"
    }
   ],
   "source": [
    "circulating_books_df.head(2)"
   ]
  },
  {
   "cell_type": "markdown",
   "metadata": {},
   "source": [
    "### Clean DateTime to YearMonth"
   ]
  },
  {
   "cell_type": "code",
   "execution_count": 13,
   "metadata": {},
   "outputs": [],
   "source": [
    "circulating_books_df[\"month\"] = circulating_books_df[\"CheckoutDateTime\"].apply(lambda x: x.split(\"/\")[0])"
   ]
  },
  {
   "cell_type": "code",
   "execution_count": 14,
   "metadata": {},
   "outputs": [],
   "source": [
    "circulating_books_df[\"YearMonth\"] = circulating_books_df[\"CheckoutYear\"].apply(lambda x: str(x)) + circulating_books_df[\"month\"]"
   ]
  },
  {
   "cell_type": "code",
   "execution_count": 15,
   "metadata": {},
   "outputs": [
    {
     "data": {
      "text/html": [
       "<div>\n",
       "<style scoped>\n",
       "    .dataframe tbody tr th:only-of-type {\n",
       "        vertical-align: middle;\n",
       "    }\n",
       "\n",
       "    .dataframe tbody tr th {\n",
       "        vertical-align: top;\n",
       "    }\n",
       "\n",
       "    .dataframe thead th {\n",
       "        text-align: right;\n",
       "    }\n",
       "</style>\n",
       "<table border=\"1\" class=\"dataframe\">\n",
       "  <thead>\n",
       "    <tr style=\"text-align: right;\">\n",
       "      <th></th>\n",
       "      <th>CheckoutYear</th>\n",
       "      <th>BibNumber</th>\n",
       "      <th>Collection</th>\n",
       "      <th>CheckoutDateTime</th>\n",
       "      <th>month</th>\n",
       "      <th>YearMonth</th>\n",
       "    </tr>\n",
       "  </thead>\n",
       "  <tbody>\n",
       "    <tr>\n",
       "      <th>0</th>\n",
       "      <td>2017</td>\n",
       "      <td>3172300</td>\n",
       "      <td>namys</td>\n",
       "      <td>01/02/2017 08:13:00 AM</td>\n",
       "      <td>01</td>\n",
       "      <td>201701</td>\n",
       "    </tr>\n",
       "    <tr>\n",
       "      <th>1</th>\n",
       "      <td>2017</td>\n",
       "      <td>2393405</td>\n",
       "      <td>camys</td>\n",
       "      <td>01/02/2017 08:24:00 AM</td>\n",
       "      <td>01</td>\n",
       "      <td>201701</td>\n",
       "    </tr>\n",
       "  </tbody>\n",
       "</table>\n",
       "</div>"
      ],
      "text/plain": [
       "   CheckoutYear  BibNumber Collection        CheckoutDateTime month YearMonth\n",
       "0          2017    3172300      namys  01/02/2017 08:13:00 AM    01    201701\n",
       "1          2017    2393405      camys  01/02/2017 08:24:00 AM    01    201701"
      ]
     },
     "execution_count": 15,
     "metadata": {},
     "output_type": "execute_result"
    }
   ],
   "source": [
    "circulating_books_df.head(2)"
   ]
  },
  {
   "cell_type": "code",
   "execution_count": 16,
   "metadata": {},
   "outputs": [],
   "source": [
    "circulating_books_df = circulating_books_df[[\"BibNumber\",\"YearMonth\",\"CheckoutDateTime\"]]"
   ]
  },
  {
   "cell_type": "code",
   "execution_count": 17,
   "metadata": {},
   "outputs": [
    {
     "data": {
      "text/html": [
       "<div>\n",
       "<style scoped>\n",
       "    .dataframe tbody tr th:only-of-type {\n",
       "        vertical-align: middle;\n",
       "    }\n",
       "\n",
       "    .dataframe tbody tr th {\n",
       "        vertical-align: top;\n",
       "    }\n",
       "\n",
       "    .dataframe thead th {\n",
       "        text-align: right;\n",
       "    }\n",
       "</style>\n",
       "<table border=\"1\" class=\"dataframe\">\n",
       "  <thead>\n",
       "    <tr style=\"text-align: right;\">\n",
       "      <th></th>\n",
       "      <th>BibNumber</th>\n",
       "      <th>YearMonth</th>\n",
       "      <th>CheckoutDateTime</th>\n",
       "    </tr>\n",
       "  </thead>\n",
       "  <tbody>\n",
       "    <tr>\n",
       "      <th>0</th>\n",
       "      <td>3172300</td>\n",
       "      <td>201701</td>\n",
       "      <td>01/02/2017 08:13:00 AM</td>\n",
       "    </tr>\n",
       "    <tr>\n",
       "      <th>1</th>\n",
       "      <td>2393405</td>\n",
       "      <td>201701</td>\n",
       "      <td>01/02/2017 08:24:00 AM</td>\n",
       "    </tr>\n",
       "  </tbody>\n",
       "</table>\n",
       "</div>"
      ],
      "text/plain": [
       "   BibNumber YearMonth        CheckoutDateTime\n",
       "0    3172300    201701  01/02/2017 08:13:00 AM\n",
       "1    2393405    201701  01/02/2017 08:24:00 AM"
      ]
     },
     "execution_count": 17,
     "metadata": {},
     "output_type": "execute_result"
    }
   ],
   "source": [
    "circulating_books_df.head(2)"
   ]
  },
  {
   "cell_type": "code",
   "execution_count": 18,
   "metadata": {},
   "outputs": [
    {
     "data": {
      "text/plain": [
       "(7106862, 3)"
      ]
     },
     "execution_count": 18,
     "metadata": {},
     "output_type": "execute_result"
    }
   ],
   "source": [
    "circulating_books_df.shape"
   ]
  },
  {
   "cell_type": "markdown",
   "metadata": {},
   "source": [
    "### Export Target Set"
   ]
  },
  {
   "cell_type": "markdown",
   "metadata": {},
   "source": [
    "#### 1st Half 2018 Target Set\n",
    "\n",
    "Export books that were checked out in 2018 in the first half"
   ]
  },
  {
   "cell_type": "code",
   "execution_count": 45,
   "metadata": {},
   "outputs": [],
   "source": [
    "date_list = [\"201801\", \"201802\", \"201803\", \"201804\", \"201805\", \"201806\"]\n",
    "target_2018half_df = circulating_books_df[circulating_books_df[\"YearMonth\"].isin(date_list)]\n",
    "target_2018half_df = target_2018half_df[\"BibNumber\"]\n",
    "target_2018half_df = target_2018half_df.drop_duplicates()\n",
    "target_2018half_df = target_2018half_df.reset_index(drop=True)"
   ]
  },
  {
   "cell_type": "code",
   "execution_count": 46,
   "metadata": {},
   "outputs": [
    {
     "data": {
      "text/plain": [
       "(215873,)"
      ]
     },
     "execution_count": 46,
     "metadata": {},
     "output_type": "execute_result"
    }
   ],
   "source": [
    "target_2018half_df.shape #215,873 unique titles checked out Q1-3 2018"
   ]
  },
  {
   "cell_type": "code",
   "execution_count": 59,
   "metadata": {},
   "outputs": [],
   "source": [
    "target_2018half_df.to_csv(\"../01_Data/05_Target/Checkout_Set/18_Half.csv\")"
   ]
  },
  {
   "cell_type": "markdown",
   "metadata": {},
   "source": [
    "### Export Feature Set\n",
    "\n",
    "Export books that were checked out in all of 2017 and leave all duplicate records in so we can later count hoe many times a book was checked out in different time increments"
   ]
  },
  {
   "cell_type": "code",
   "execution_count": 47,
   "metadata": {},
   "outputs": [],
   "source": [
    "date_list = [\"201701\", \"201702\", \"201703\", \"201704\", \"201705\", \"201706\", \n",
    "             \"201707\", \"201708\", \"201709\", \"201710\", \"201711\", \"201712\"]\n",
    "feature_2017_df = circulating_books_df[circulating_books_df[\"YearMonth\"].isin(date_list)]"
   ]
  },
  {
   "cell_type": "code",
   "execution_count": 50,
   "metadata": {},
   "outputs": [
    {
     "data": {
      "text/html": [
       "<div>\n",
       "<style scoped>\n",
       "    .dataframe tbody tr th:only-of-type {\n",
       "        vertical-align: middle;\n",
       "    }\n",
       "\n",
       "    .dataframe tbody tr th {\n",
       "        vertical-align: top;\n",
       "    }\n",
       "\n",
       "    .dataframe thead th {\n",
       "        text-align: right;\n",
       "    }\n",
       "</style>\n",
       "<table border=\"1\" class=\"dataframe\">\n",
       "  <thead>\n",
       "    <tr style=\"text-align: right;\">\n",
       "      <th></th>\n",
       "      <th>BibNumber</th>\n",
       "      <th>YearMonth</th>\n",
       "      <th>CheckoutDateTime</th>\n",
       "    </tr>\n",
       "  </thead>\n",
       "  <tbody>\n",
       "    <tr>\n",
       "      <th>0</th>\n",
       "      <td>3172300</td>\n",
       "      <td>201701</td>\n",
       "      <td>01/02/2017 08:13:00 AM</td>\n",
       "    </tr>\n",
       "    <tr>\n",
       "      <th>1</th>\n",
       "      <td>2393405</td>\n",
       "      <td>201701</td>\n",
       "      <td>01/02/2017 08:24:00 AM</td>\n",
       "    </tr>\n",
       "    <tr>\n",
       "      <th>2</th>\n",
       "      <td>2743540</td>\n",
       "      <td>201701</td>\n",
       "      <td>01/02/2017 08:33:00 AM</td>\n",
       "    </tr>\n",
       "    <tr>\n",
       "      <th>3</th>\n",
       "      <td>3216678</td>\n",
       "      <td>201701</td>\n",
       "      <td>01/02/2017 08:51:00 AM</td>\n",
       "    </tr>\n",
       "    <tr>\n",
       "      <th>4</th>\n",
       "      <td>3221781</td>\n",
       "      <td>201701</td>\n",
       "      <td>01/02/2017 08:51:00 AM</td>\n",
       "    </tr>\n",
       "  </tbody>\n",
       "</table>\n",
       "</div>"
      ],
      "text/plain": [
       "   BibNumber YearMonth        CheckoutDateTime\n",
       "0    3172300    201701  01/02/2017 08:13:00 AM\n",
       "1    2393405    201701  01/02/2017 08:24:00 AM\n",
       "2    2743540    201701  01/02/2017 08:33:00 AM\n",
       "3    3216678    201701  01/02/2017 08:51:00 AM\n",
       "4    3221781    201701  01/02/2017 08:51:00 AM"
      ]
     },
     "execution_count": 50,
     "metadata": {},
     "output_type": "execute_result"
    }
   ],
   "source": [
    "feature_2017_df.head()"
   ]
  },
  {
   "cell_type": "code",
   "execution_count": 51,
   "metadata": {},
   "outputs": [
    {
     "data": {
      "text/plain": [
       "(3871872, 3)"
      ]
     },
     "execution_count": 51,
     "metadata": {},
     "output_type": "execute_result"
    }
   ],
   "source": [
    "feature_2017_df.shape "
   ]
  },
  {
   "cell_type": "code",
   "execution_count": 52,
   "metadata": {},
   "outputs": [],
   "source": [
    "feature_2017_df.to_csv(\"../01_Data/06_Features/2017_Checkouts.csv\")"
   ]
  },
  {
   "cell_type": "code",
   "execution_count": null,
   "metadata": {},
   "outputs": [],
   "source": []
  }
 ],
 "metadata": {
  "kernelspec": {
   "display_name": "Python 3",
   "language": "python",
   "name": "python3"
  },
  "language_info": {
   "codemirror_mode": {
    "name": "ipython",
    "version": 3
   },
   "file_extension": ".py",
   "mimetype": "text/x-python",
   "name": "python",
   "nbconvert_exporter": "python",
   "pygments_lexer": "ipython3",
   "version": "3.6.5"
  }
 },
 "nbformat": 4,
 "nbformat_minor": 2
}
