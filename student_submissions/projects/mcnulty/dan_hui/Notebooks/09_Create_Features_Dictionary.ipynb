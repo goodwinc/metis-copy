{
 "cells": [
  {
   "cell_type": "markdown",
   "metadata": {},
   "source": [
    "## 09_Create_Features_Dictionary\n",
    "\n",
    "Author: Daniel Hui\n",
    "\n",
    "License: MIT\n",
    "\n",
    "This notebook will take the dictionary dataset and create features from the information heldwithin"
   ]
  },
  {
   "cell_type": "code",
   "execution_count": 2,
   "metadata": {},
   "outputs": [],
   "source": [
    "import pandas as pd\n",
    "from collections import defaultdict\n",
    "pd.set_option('display.max_rows', 125)"
   ]
  },
  {
   "cell_type": "markdown",
   "metadata": {},
   "source": [
    "### Load Book Inventory Data\n",
    "We only need to load the book inventory to do some EDA. It is not necessary for creating features. It is useful to see how many books in the collection fall into each category."
   ]
  },
  {
   "cell_type": "code",
   "execution_count": 3,
   "metadata": {},
   "outputs": [
    {
     "name": "stderr",
     "output_type": "stream",
     "text": [
      "/anaconda3/lib/python3.6/site-packages/numpy/lib/arraysetops.py:472: FutureWarning: elementwise comparison failed; returning scalar instead, but in the future will perform elementwise comparison\n",
      "  mask |= (ar1 == a)\n"
     ]
    }
   ],
   "source": [
    "inventory_df = pd.read_csv('../01_Data/03_Cleaned/Library_Collection_Inventory_jan_2018_clean.csv',index_col=0)"
   ]
  },
  {
   "cell_type": "code",
   "execution_count": 4,
   "metadata": {},
   "outputs": [
    {
     "data": {
      "text/html": [
       "<div>\n",
       "<style scoped>\n",
       "    .dataframe tbody tr th:only-of-type {\n",
       "        vertical-align: middle;\n",
       "    }\n",
       "\n",
       "    .dataframe tbody tr th {\n",
       "        vertical-align: top;\n",
       "    }\n",
       "\n",
       "    .dataframe thead th {\n",
       "        text-align: right;\n",
       "    }\n",
       "</style>\n",
       "<table border=\"1\" class=\"dataframe\">\n",
       "  <thead>\n",
       "    <tr style=\"text-align: right;\">\n",
       "      <th></th>\n",
       "      <th>BibNum</th>\n",
       "      <th>Title</th>\n",
       "      <th>ISBN</th>\n",
       "      <th>PublicationYear</th>\n",
       "      <th>Subjects</th>\n",
       "      <th>ItemCollection</th>\n",
       "    </tr>\n",
       "  </thead>\n",
       "  <tbody>\n",
       "    <tr>\n",
       "      <th>0</th>\n",
       "      <td>3177276</td>\n",
       "      <td>Day of the Dead.</td>\n",
       "      <td>NaN</td>\n",
       "      <td>2016.0</td>\n",
       "      <td>Rock music 2011 2020, Rock music</td>\n",
       "      <td>naover</td>\n",
       "    </tr>\n",
       "    <tr>\n",
       "      <th>1</th>\n",
       "      <td>395432</td>\n",
       "      <td>Swan Lake / Ann Nugent.</td>\n",
       "      <td>0812056744</td>\n",
       "      <td>1985.0</td>\n",
       "      <td>Swan lake Choreographic work</td>\n",
       "      <td>canf</td>\n",
       "    </tr>\n",
       "    <tr>\n",
       "      <th>2</th>\n",
       "      <td>123754</td>\n",
       "      <td>Best short stories of Jack London.</td>\n",
       "      <td>NaN</td>\n",
       "      <td>1945.0</td>\n",
       "      <td>NaN</td>\n",
       "      <td>cs3fic</td>\n",
       "    </tr>\n",
       "    <tr>\n",
       "      <th>3</th>\n",
       "      <td>193328</td>\n",
       "      <td>The comedy of errors.</td>\n",
       "      <td>NaN</td>\n",
       "      <td>1962.0</td>\n",
       "      <td>NaN</td>\n",
       "      <td>canf</td>\n",
       "    </tr>\n",
       "    <tr>\n",
       "      <th>4</th>\n",
       "      <td>1764894</td>\n",
       "      <td>Below the belt : play / by Richard Dresser.</td>\n",
       "      <td>0573696306</td>\n",
       "      <td>1997.0</td>\n",
       "      <td>NaN</td>\n",
       "      <td>canf</td>\n",
       "    </tr>\n",
       "  </tbody>\n",
       "</table>\n",
       "</div>"
      ],
      "text/plain": [
       "    BibNum                                        Title        ISBN  \\\n",
       "0  3177276                             Day of the Dead.         NaN   \n",
       "1   395432                      Swan Lake / Ann Nugent.  0812056744   \n",
       "2   123754           Best short stories of Jack London.         NaN   \n",
       "3   193328                        The comedy of errors.         NaN   \n",
       "4  1764894  Below the belt : play / by Richard Dresser.  0573696306   \n",
       "\n",
       "   PublicationYear                          Subjects ItemCollection  \n",
       "0           2016.0  Rock music 2011 2020, Rock music         naover  \n",
       "1           1985.0      Swan lake Choreographic work           canf  \n",
       "2           1945.0                               NaN         cs3fic  \n",
       "3           1962.0                               NaN           canf  \n",
       "4           1997.0                               NaN           canf  "
      ]
     },
     "execution_count": 4,
     "metadata": {},
     "output_type": "execute_result"
    }
   ],
   "source": [
    "books_df = inventory_df[[\"BibNum\",\"Title\",\"ISBN\",\"PublicationYear\",\"Subjects\",\"ItemCollection\"]]\n",
    "books_df = books_df.drop_duplicates()\n",
    "books_df.head()"
   ]
  },
  {
   "cell_type": "markdown",
   "metadata": {},
   "source": [
    "There are 567,995 unique records in the book inventory. Each title may have multiple records because different copies of the book are held within different subcollections within the library collection"
   ]
  },
  {
   "cell_type": "code",
   "execution_count": 5,
   "metadata": {},
   "outputs": [
    {
     "data": {
      "text/plain": [
       "567995"
      ]
     },
     "execution_count": 5,
     "metadata": {},
     "output_type": "execute_result"
    }
   ],
   "source": [
    "len(books_df)  "
   ]
  },
  {
   "cell_type": "markdown",
   "metadata": {},
   "source": [
    "There are 397,147 unique titles in the collection"
   ]
  },
  {
   "cell_type": "code",
   "execution_count": 6,
   "metadata": {},
   "outputs": [
    {
     "data": {
      "text/plain": [
       "397147"
      ]
     },
     "execution_count": 6,
     "metadata": {},
     "output_type": "execute_result"
    }
   ],
   "source": [
    "len(books_df[\"BibNum\"].drop_duplicates()) "
   ]
  },
  {
   "cell_type": "markdown",
   "metadata": {},
   "source": [
    "### Load Book Code Data Dictionary\n",
    "This is the basis of what we will use to create features"
   ]
  },
  {
   "cell_type": "code",
   "execution_count": 7,
   "metadata": {},
   "outputs": [
    {
     "data": {
      "text/html": [
       "<div>\n",
       "<style scoped>\n",
       "    .dataframe tbody tr th:only-of-type {\n",
       "        vertical-align: middle;\n",
       "    }\n",
       "\n",
       "    .dataframe tbody tr th {\n",
       "        vertical-align: top;\n",
       "    }\n",
       "\n",
       "    .dataframe thead th {\n",
       "        text-align: right;\n",
       "    }\n",
       "</style>\n",
       "<table border=\"1\" class=\"dataframe\">\n",
       "  <thead>\n",
       "    <tr style=\"text-align: right;\">\n",
       "      <th></th>\n",
       "      <th>Code</th>\n",
       "      <th>Description</th>\n",
       "      <th>Code Type</th>\n",
       "      <th>Format Group</th>\n",
       "      <th>Format Subgroup</th>\n",
       "      <th>Category Group</th>\n",
       "      <th>Category Subgroup</th>\n",
       "    </tr>\n",
       "  </thead>\n",
       "  <tbody>\n",
       "    <tr>\n",
       "      <th>0</th>\n",
       "      <td>cabob</td>\n",
       "      <td>CA-Books on Bikes</td>\n",
       "      <td>ItemCollection</td>\n",
       "      <td>Print</td>\n",
       "      <td>Book</td>\n",
       "      <td>NaN</td>\n",
       "      <td>NaN</td>\n",
       "    </tr>\n",
       "    <tr>\n",
       "      <th>1</th>\n",
       "      <td>caesl</td>\n",
       "      <td>CA1-ESL</td>\n",
       "      <td>ItemCollection</td>\n",
       "      <td>Print</td>\n",
       "      <td>Book</td>\n",
       "      <td>NaN</td>\n",
       "      <td>NaN</td>\n",
       "    </tr>\n",
       "    <tr>\n",
       "      <th>2</th>\n",
       "      <td>caesla</td>\n",
       "      <td>CA1-ESL Advanced</td>\n",
       "      <td>ItemCollection</td>\n",
       "      <td>Print</td>\n",
       "      <td>Book</td>\n",
       "      <td>NaN</td>\n",
       "      <td>NaN</td>\n",
       "    </tr>\n",
       "    <tr>\n",
       "      <th>3</th>\n",
       "      <td>caeslb</td>\n",
       "      <td>CA1-ESL Beginning</td>\n",
       "      <td>ItemCollection</td>\n",
       "      <td>Print</td>\n",
       "      <td>Book</td>\n",
       "      <td>NaN</td>\n",
       "      <td>NaN</td>\n",
       "    </tr>\n",
       "    <tr>\n",
       "      <th>4</th>\n",
       "      <td>caeslc</td>\n",
       "      <td>CA1-ESL Citizenship</td>\n",
       "      <td>ItemCollection</td>\n",
       "      <td>Print</td>\n",
       "      <td>Book</td>\n",
       "      <td>NaN</td>\n",
       "      <td>NaN</td>\n",
       "    </tr>\n",
       "  </tbody>\n",
       "</table>\n",
       "</div>"
      ],
      "text/plain": [
       "     Code          Description       Code Type Format Group Format Subgroup  \\\n",
       "0   cabob    CA-Books on Bikes  ItemCollection        Print            Book   \n",
       "1   caesl              CA1-ESL  ItemCollection        Print            Book   \n",
       "2  caesla     CA1-ESL Advanced  ItemCollection        Print            Book   \n",
       "3  caeslb    CA1-ESL Beginning  ItemCollection        Print            Book   \n",
       "4  caeslc  CA1-ESL Citizenship  ItemCollection        Print            Book   \n",
       "\n",
       "  Category Group Category Subgroup  \n",
       "0            NaN               NaN  \n",
       "1            NaN               NaN  \n",
       "2            NaN               NaN  \n",
       "3            NaN               NaN  \n",
       "4            NaN               NaN  "
      ]
     },
     "execution_count": 7,
     "metadata": {},
     "output_type": "execute_result"
    }
   ],
   "source": [
    "dictionary_df = pd.read_csv('../01_Data/02_Truncated/Data_Dictionary_Book_Codes.csv',index_col=0)\n",
    "dictionary_df.head(5)"
   ]
  },
  {
   "cell_type": "markdown",
   "metadata": {},
   "source": [
    "There are 212 unique book codes in the dictionary"
   ]
  },
  {
   "cell_type": "code",
   "execution_count": 15,
   "metadata": {},
   "outputs": [
    {
     "data": {
      "text/plain": [
       "212"
      ]
     },
     "execution_count": 15,
     "metadata": {},
     "output_type": "execute_result"
    }
   ],
   "source": [
    "len(dictionary_df)  "
   ]
  },
  {
   "cell_type": "markdown",
   "metadata": {},
   "source": [
    "### EDA: How many categories does each book fall into? \n",
    "I'm curious how many different subcollections each book may fall into"
   ]
  },
  {
   "cell_type": "code",
   "execution_count": 9,
   "metadata": {},
   "outputs": [
    {
     "data": {
      "text/html": [
       "<div>\n",
       "<style scoped>\n",
       "    .dataframe tbody tr th:only-of-type {\n",
       "        vertical-align: middle;\n",
       "    }\n",
       "\n",
       "    .dataframe tbody tr th {\n",
       "        vertical-align: top;\n",
       "    }\n",
       "\n",
       "    .dataframe thead th {\n",
       "        text-align: right;\n",
       "    }\n",
       "</style>\n",
       "<table border=\"1\" class=\"dataframe\">\n",
       "  <thead>\n",
       "    <tr style=\"text-align: right;\">\n",
       "      <th></th>\n",
       "      <th>BibNum</th>\n",
       "      <th>ItemCollection</th>\n",
       "    </tr>\n",
       "  </thead>\n",
       "  <tbody>\n",
       "    <tr>\n",
       "      <th>288076</th>\n",
       "      <td>2919133</td>\n",
       "      <td>7</td>\n",
       "    </tr>\n",
       "    <tr>\n",
       "      <th>383996</th>\n",
       "      <td>3274363</td>\n",
       "      <td>7</td>\n",
       "    </tr>\n",
       "    <tr>\n",
       "      <th>107621</th>\n",
       "      <td>1923072</td>\n",
       "      <td>7</td>\n",
       "    </tr>\n",
       "    <tr>\n",
       "      <th>376481</th>\n",
       "      <td>3244913</td>\n",
       "      <td>6</td>\n",
       "    </tr>\n",
       "    <tr>\n",
       "      <th>391177</th>\n",
       "      <td>3297285</td>\n",
       "      <td>6</td>\n",
       "    </tr>\n",
       "  </tbody>\n",
       "</table>\n",
       "</div>"
      ],
      "text/plain": [
       "         BibNum  ItemCollection\n",
       "288076  2919133               7\n",
       "383996  3274363               7\n",
       "107621  1923072               7\n",
       "376481  3244913               6\n",
       "391177  3297285               6"
      ]
     },
     "execution_count": 9,
     "metadata": {},
     "output_type": "execute_result"
    }
   ],
   "source": [
    "books_df[[\"BibNum\",\"ItemCollection\"]].groupby([\"BibNum\"]).count().reset_index().sort_values(by=\"ItemCollection\",ascending=False).head(5)"
   ]
  },
  {
   "cell_type": "markdown",
   "metadata": {},
   "source": [
    "Book with BibNum 2919133 has 7 different categories associated with it. Curious what the book is below: "
   ]
  },
  {
   "cell_type": "code",
   "execution_count": 10,
   "metadata": {},
   "outputs": [
    {
     "data": {
      "text/html": [
       "<div>\n",
       "<style scoped>\n",
       "    .dataframe tbody tr th:only-of-type {\n",
       "        vertical-align: middle;\n",
       "    }\n",
       "\n",
       "    .dataframe tbody tr th {\n",
       "        vertical-align: top;\n",
       "    }\n",
       "\n",
       "    .dataframe thead th {\n",
       "        text-align: right;\n",
       "    }\n",
       "</style>\n",
       "<table border=\"1\" class=\"dataframe\">\n",
       "  <thead>\n",
       "    <tr style=\"text-align: right;\">\n",
       "      <th></th>\n",
       "      <th>Title</th>\n",
       "      <th>BibNum</th>\n",
       "      <th>Code</th>\n",
       "      <th>Description</th>\n",
       "      <th>Code Type</th>\n",
       "      <th>Format Group</th>\n",
       "      <th>Format Subgroup</th>\n",
       "      <th>Category Group</th>\n",
       "      <th>Category Subgroup</th>\n",
       "    </tr>\n",
       "  </thead>\n",
       "  <tbody>\n",
       "    <tr>\n",
       "      <th>0</th>\n",
       "      <td>March. Book one / [written by] John Lewis, And...</td>\n",
       "      <td>2919133</td>\n",
       "      <td>nanf</td>\n",
       "      <td>NA-Nonfiction</td>\n",
       "      <td>ItemCollection</td>\n",
       "      <td>Print</td>\n",
       "      <td>Book</td>\n",
       "      <td>Nonfiction</td>\n",
       "      <td>NaN</td>\n",
       "    </tr>\n",
       "    <tr>\n",
       "      <th>1</th>\n",
       "      <td>March. Book one / [written by] John Lewis, And...</td>\n",
       "      <td>2919133</td>\n",
       "      <td>nacomic</td>\n",
       "      <td>NA-Comics/Graphic Novels</td>\n",
       "      <td>ItemCollection</td>\n",
       "      <td>Print</td>\n",
       "      <td>Book</td>\n",
       "      <td>Fiction</td>\n",
       "      <td>NaN</td>\n",
       "    </tr>\n",
       "    <tr>\n",
       "      <th>2</th>\n",
       "      <td>March. Book one / [written by] John Lewis, And...</td>\n",
       "      <td>2919133</td>\n",
       "      <td>nycomic</td>\n",
       "      <td>NY-Teen - Comics &amp; Graphic Novels</td>\n",
       "      <td>ItemCollection</td>\n",
       "      <td>Print</td>\n",
       "      <td>Book</td>\n",
       "      <td>Fiction</td>\n",
       "      <td>NaN</td>\n",
       "    </tr>\n",
       "    <tr>\n",
       "      <th>3</th>\n",
       "      <td>March. Book one / [written by] John Lewis, And...</td>\n",
       "      <td>2919133</td>\n",
       "      <td>pknf</td>\n",
       "      <td>Peak Picks-Nonfiction</td>\n",
       "      <td>ItemCollection</td>\n",
       "      <td>Print</td>\n",
       "      <td>Book</td>\n",
       "      <td>Nonfiction</td>\n",
       "      <td>NaN</td>\n",
       "    </tr>\n",
       "    <tr>\n",
       "      <th>4</th>\n",
       "      <td>March. Book one / [written by] John Lewis, And...</td>\n",
       "      <td>2919133</td>\n",
       "      <td>naaanf</td>\n",
       "      <td>AfAm - Nf</td>\n",
       "      <td>ItemCollection</td>\n",
       "      <td>Print</td>\n",
       "      <td>Book</td>\n",
       "      <td>Nonfiction</td>\n",
       "      <td>NaN</td>\n",
       "    </tr>\n",
       "    <tr>\n",
       "      <th>5</th>\n",
       "      <td>March. Book one / [written by] John Lewis, And...</td>\n",
       "      <td>2919133</td>\n",
       "      <td>nanew</td>\n",
       "      <td>NA-New Adult Books</td>\n",
       "      <td>ItemCollection</td>\n",
       "      <td>Print</td>\n",
       "      <td>Book</td>\n",
       "      <td>Fiction</td>\n",
       "      <td>NaN</td>\n",
       "    </tr>\n",
       "    <tr>\n",
       "      <th>6</th>\n",
       "      <td>March. Book one / [written by] John Lewis, And...</td>\n",
       "      <td>2919133</td>\n",
       "      <td>canf</td>\n",
       "      <td>CA-Nonfiction</td>\n",
       "      <td>ItemCollection</td>\n",
       "      <td>Print</td>\n",
       "      <td>Book</td>\n",
       "      <td>Nonfiction</td>\n",
       "      <td>NaN</td>\n",
       "    </tr>\n",
       "  </tbody>\n",
       "</table>\n",
       "</div>"
      ],
      "text/plain": [
       "                                               Title   BibNum     Code  \\\n",
       "0  March. Book one / [written by] John Lewis, And...  2919133     nanf   \n",
       "1  March. Book one / [written by] John Lewis, And...  2919133  nacomic   \n",
       "2  March. Book one / [written by] John Lewis, And...  2919133  nycomic   \n",
       "3  March. Book one / [written by] John Lewis, And...  2919133     pknf   \n",
       "4  March. Book one / [written by] John Lewis, And...  2919133   naaanf   \n",
       "5  March. Book one / [written by] John Lewis, And...  2919133    nanew   \n",
       "6  March. Book one / [written by] John Lewis, And...  2919133     canf   \n",
       "\n",
       "                         Description       Code Type Format Group  \\\n",
       "0                      NA-Nonfiction  ItemCollection        Print   \n",
       "1           NA-Comics/Graphic Novels  ItemCollection        Print   \n",
       "2  NY-Teen - Comics & Graphic Novels  ItemCollection        Print   \n",
       "3              Peak Picks-Nonfiction  ItemCollection        Print   \n",
       "4                          AfAm - Nf  ItemCollection        Print   \n",
       "5                 NA-New Adult Books  ItemCollection        Print   \n",
       "6                      CA-Nonfiction  ItemCollection        Print   \n",
       "\n",
       "  Format Subgroup Category Group Category Subgroup  \n",
       "0            Book     Nonfiction               NaN  \n",
       "1            Book        Fiction               NaN  \n",
       "2            Book        Fiction               NaN  \n",
       "3            Book     Nonfiction               NaN  \n",
       "4            Book     Nonfiction               NaN  \n",
       "5            Book        Fiction               NaN  \n",
       "6            Book     Nonfiction               NaN  "
      ]
     },
     "execution_count": 10,
     "metadata": {},
     "output_type": "execute_result"
    }
   ],
   "source": [
    "excess_code_df = inventory_df[inventory_df[\"BibNum\"]==2919133][[\"Title\",\"BibNum\",\"ItemCollection\"]].drop_duplicates()\n",
    "excess_code_df = excess_code_df.rename({\"ItemCollection\":\"Code\"},axis=1)\n",
    "pd.merge(excess_code_df,dictionary_df,on=\"Code\",how=\"left\")"
   ]
  },
  {
   "cell_type": "markdown",
   "metadata": {},
   "source": [
    "### EDA: How Many books are associated with each book code? "
   ]
  },
  {
   "cell_type": "code",
   "execution_count": 16,
   "metadata": {},
   "outputs": [
    {
     "data": {
      "text/plain": [
       "104"
      ]
     },
     "execution_count": 16,
     "metadata": {},
     "output_type": "execute_result"
    }
   ],
   "source": [
    "categories_df = books_df.groupby([\"ItemCollection\"]).count()\n",
    "categories_df = categories_df.sort_values([\"BibNum\"],ascending=False)\n",
    "categories_df = categories_df.reset_index()[[\"ItemCollection\",\"BibNum\"]]\n",
    "categories_df = categories_df.rename({\"BibNum\":\"Books\",\"ItemCollection\":\"Code\"},axis=1)\n",
    "len(categories_df)  # There are 104 book Categories used in the collection"
   ]
  },
  {
   "cell_type": "markdown",
   "metadata": {},
   "source": [
    "Within the collection, there are only 104 codes used. All their details, including how many books are in each"
   ]
  },
  {
   "cell_type": "code",
   "execution_count": 14,
   "metadata": {},
   "outputs": [
    {
     "data": {
      "text/html": [
       "<div>\n",
       "<style scoped>\n",
       "    .dataframe tbody tr th:only-of-type {\n",
       "        vertical-align: middle;\n",
       "    }\n",
       "\n",
       "    .dataframe tbody tr th {\n",
       "        vertical-align: top;\n",
       "    }\n",
       "\n",
       "    .dataframe thead th {\n",
       "        text-align: right;\n",
       "    }\n",
       "</style>\n",
       "<table border=\"1\" class=\"dataframe\">\n",
       "  <thead>\n",
       "    <tr style=\"text-align: right;\">\n",
       "      <th></th>\n",
       "      <th>Code</th>\n",
       "      <th>Books</th>\n",
       "      <th>Description</th>\n",
       "      <th>Code Type</th>\n",
       "      <th>Format Group</th>\n",
       "      <th>Format Subgroup</th>\n",
       "      <th>Category Group</th>\n",
       "      <th>Category Subgroup</th>\n",
       "    </tr>\n",
       "  </thead>\n",
       "  <tbody>\n",
       "    <tr>\n",
       "      <th>0</th>\n",
       "      <td>canf</td>\n",
       "      <td>192898</td>\n",
       "      <td>CA-Nonfiction</td>\n",
       "      <td>ItemCollection</td>\n",
       "      <td>Print</td>\n",
       "      <td>Book</td>\n",
       "      <td>Nonfiction</td>\n",
       "      <td>NaN</td>\n",
       "    </tr>\n",
       "    <tr>\n",
       "      <th>1</th>\n",
       "      <td>nanf</td>\n",
       "      <td>57152</td>\n",
       "      <td>NA-Nonfiction</td>\n",
       "      <td>ItemCollection</td>\n",
       "      <td>Print</td>\n",
       "      <td>Book</td>\n",
       "      <td>Nonfiction</td>\n",
       "      <td>NaN</td>\n",
       "    </tr>\n",
       "    <tr>\n",
       "      <th>2</th>\n",
       "      <td>cafic</td>\n",
       "      <td>29968</td>\n",
       "      <td>CA3-Fiction</td>\n",
       "      <td>ItemCollection</td>\n",
       "      <td>Print</td>\n",
       "      <td>Book</td>\n",
       "      <td>Fiction</td>\n",
       "      <td>NaN</td>\n",
       "    </tr>\n",
       "    <tr>\n",
       "      <th>3</th>\n",
       "      <td>caln</td>\n",
       "      <td>22340</td>\n",
       "      <td>CA1-Language</td>\n",
       "      <td>ItemCollection</td>\n",
       "      <td>Print</td>\n",
       "      <td>Book</td>\n",
       "      <td>Language</td>\n",
       "      <td>NaN</td>\n",
       "    </tr>\n",
       "    <tr>\n",
       "      <th>4</th>\n",
       "      <td>nafic</td>\n",
       "      <td>21169</td>\n",
       "      <td>NA-Fiction</td>\n",
       "      <td>ItemCollection</td>\n",
       "      <td>Print</td>\n",
       "      <td>Book</td>\n",
       "      <td>Fiction</td>\n",
       "      <td>NaN</td>\n",
       "    </tr>\n",
       "    <tr>\n",
       "      <th>5</th>\n",
       "      <td>ncnf</td>\n",
       "      <td>14331</td>\n",
       "      <td>NC-Children's Nonfiction</td>\n",
       "      <td>ItemCollection</td>\n",
       "      <td>Print</td>\n",
       "      <td>Book</td>\n",
       "      <td>Nonfiction</td>\n",
       "      <td>NaN</td>\n",
       "    </tr>\n",
       "    <tr>\n",
       "      <th>6</th>\n",
       "      <td>ccnf</td>\n",
       "      <td>12846</td>\n",
       "      <td>CC-Children's Nonfiction</td>\n",
       "      <td>ItemCollection</td>\n",
       "      <td>Print</td>\n",
       "      <td>Book</td>\n",
       "      <td>Nonfiction</td>\n",
       "      <td>NaN</td>\n",
       "    </tr>\n",
       "    <tr>\n",
       "      <th>7</th>\n",
       "      <td>cab</td>\n",
       "      <td>12081</td>\n",
       "      <td>CA9-Biography</td>\n",
       "      <td>ItemCollection</td>\n",
       "      <td>Print</td>\n",
       "      <td>Book</td>\n",
       "      <td>Nonfiction</td>\n",
       "      <td>Biography</td>\n",
       "    </tr>\n",
       "    <tr>\n",
       "      <th>8</th>\n",
       "      <td>ncpic</td>\n",
       "      <td>11195</td>\n",
       "      <td>NC--Children's Picture Books</td>\n",
       "      <td>ItemCollection</td>\n",
       "      <td>Print</td>\n",
       "      <td>Book</td>\n",
       "      <td>NaN</td>\n",
       "      <td>Picture</td>\n",
       "    </tr>\n",
       "    <tr>\n",
       "      <th>9</th>\n",
       "      <td>ccpic</td>\n",
       "      <td>10766</td>\n",
       "      <td>CC-Children's Picture Books</td>\n",
       "      <td>ItemCollection</td>\n",
       "      <td>Print</td>\n",
       "      <td>Book</td>\n",
       "      <td>NaN</td>\n",
       "      <td>Picture</td>\n",
       "    </tr>\n",
       "  </tbody>\n",
       "</table>\n",
       "</div>"
      ],
      "text/plain": [
       "    Code   Books                   Description       Code Type Format Group  \\\n",
       "0   canf  192898                 CA-Nonfiction  ItemCollection        Print   \n",
       "1   nanf   57152                 NA-Nonfiction  ItemCollection        Print   \n",
       "2  cafic   29968                   CA3-Fiction  ItemCollection        Print   \n",
       "3   caln   22340                  CA1-Language  ItemCollection        Print   \n",
       "4  nafic   21169                    NA-Fiction  ItemCollection        Print   \n",
       "5   ncnf   14331      NC-Children's Nonfiction  ItemCollection        Print   \n",
       "6   ccnf   12846      CC-Children's Nonfiction  ItemCollection        Print   \n",
       "7    cab   12081                 CA9-Biography  ItemCollection        Print   \n",
       "8  ncpic   11195  NC--Children's Picture Books  ItemCollection        Print   \n",
       "9  ccpic   10766   CC-Children's Picture Books  ItemCollection        Print   \n",
       "\n",
       "  Format Subgroup Category Group Category Subgroup  \n",
       "0            Book     Nonfiction               NaN  \n",
       "1            Book     Nonfiction               NaN  \n",
       "2            Book        Fiction               NaN  \n",
       "3            Book       Language               NaN  \n",
       "4            Book        Fiction               NaN  \n",
       "5            Book     Nonfiction               NaN  \n",
       "6            Book     Nonfiction               NaN  \n",
       "7            Book     Nonfiction         Biography  \n",
       "8            Book            NaN           Picture  \n",
       "9            Book            NaN           Picture  "
      ]
     },
     "execution_count": 14,
     "metadata": {},
     "output_type": "execute_result"
    }
   ],
   "source": [
    "codes_df = pd.merge(categories_df,dictionary_df,on=\"Code\",how=\"left\")\n",
    "codes_df.head(10)"
   ]
  },
  {
   "cell_type": "markdown",
   "metadata": {},
   "source": [
    "### EDA: Examining the Category Subgroup Column"
   ]
  },
  {
   "cell_type": "code",
   "execution_count": 12,
   "metadata": {},
   "outputs": [
    {
     "data": {
      "text/plain": [
       "array([nan, 'Biography', 'Picture', 'Large Print', 'Holiday'],\n",
       "      dtype=object)"
      ]
     },
     "execution_count": 12,
     "metadata": {},
     "output_type": "execute_result"
    }
   ],
   "source": [
    "codes_df[\"Category Subgroup\"].unique()   #all the categories"
   ]
  },
  {
   "cell_type": "markdown",
   "metadata": {},
   "source": [
    "How many biography books? "
   ]
  },
  {
   "cell_type": "code",
   "execution_count": 13,
   "metadata": {},
   "outputs": [
    {
     "data": {
      "text/html": [
       "<div>\n",
       "<style scoped>\n",
       "    .dataframe tbody tr th:only-of-type {\n",
       "        vertical-align: middle;\n",
       "    }\n",
       "\n",
       "    .dataframe tbody tr th {\n",
       "        vertical-align: top;\n",
       "    }\n",
       "\n",
       "    .dataframe thead th {\n",
       "        text-align: right;\n",
       "    }\n",
       "</style>\n",
       "<table border=\"1\" class=\"dataframe\">\n",
       "  <thead>\n",
       "    <tr style=\"text-align: right;\">\n",
       "      <th></th>\n",
       "      <th>Code</th>\n",
       "      <th>Books</th>\n",
       "      <th>Description</th>\n",
       "      <th>Code Type</th>\n",
       "      <th>Format Group</th>\n",
       "      <th>Format Subgroup</th>\n",
       "      <th>Category Group</th>\n",
       "      <th>Category Subgroup</th>\n",
       "    </tr>\n",
       "  </thead>\n",
       "  <tbody>\n",
       "    <tr>\n",
       "      <th>7</th>\n",
       "      <td>cab</td>\n",
       "      <td>12081</td>\n",
       "      <td>CA9-Biography</td>\n",
       "      <td>ItemCollection</td>\n",
       "      <td>Print</td>\n",
       "      <td>Book</td>\n",
       "      <td>Nonfiction</td>\n",
       "      <td>Biography</td>\n",
       "    </tr>\n",
       "    <tr>\n",
       "      <th>39</th>\n",
       "      <td>nab</td>\n",
       "      <td>2494</td>\n",
       "      <td>NA-Biography</td>\n",
       "      <td>ItemCollection</td>\n",
       "      <td>Print</td>\n",
       "      <td>Book</td>\n",
       "      <td>Nonfiction</td>\n",
       "      <td>Biography</td>\n",
       "    </tr>\n",
       "    <tr>\n",
       "      <th>49</th>\n",
       "      <td>ncb</td>\n",
       "      <td>1443</td>\n",
       "      <td>NC-Children's Biographies</td>\n",
       "      <td>ItemCollection</td>\n",
       "      <td>Print</td>\n",
       "      <td>Book</td>\n",
       "      <td>Nonfiction</td>\n",
       "      <td>Biography</td>\n",
       "    </tr>\n",
       "    <tr>\n",
       "      <th>51</th>\n",
       "      <td>ccb</td>\n",
       "      <td>1308</td>\n",
       "      <td>CC-Children's Biographies</td>\n",
       "      <td>ItemCollection</td>\n",
       "      <td>Print</td>\n",
       "      <td>Book</td>\n",
       "      <td>Nonfiction</td>\n",
       "      <td>Biography</td>\n",
       "    </tr>\n",
       "    <tr>\n",
       "      <th>60</th>\n",
       "      <td>naaab</td>\n",
       "      <td>722</td>\n",
       "      <td>AfAm - Biographies</td>\n",
       "      <td>ItemCollection</td>\n",
       "      <td>Print</td>\n",
       "      <td>Book</td>\n",
       "      <td>Nonfiction</td>\n",
       "      <td>Biography</td>\n",
       "    </tr>\n",
       "    <tr>\n",
       "      <th>64</th>\n",
       "      <td>cyb</td>\n",
       "      <td>368</td>\n",
       "      <td>CY9-Teen Biography</td>\n",
       "      <td>ItemCollection</td>\n",
       "      <td>Print</td>\n",
       "      <td>Book</td>\n",
       "      <td>Nonfiction</td>\n",
       "      <td>Biography</td>\n",
       "    </tr>\n",
       "    <tr>\n",
       "      <th>68</th>\n",
       "      <td>nyb</td>\n",
       "      <td>278</td>\n",
       "      <td>NY-Teen - Biography</td>\n",
       "      <td>ItemCollection</td>\n",
       "      <td>Print</td>\n",
       "      <td>Book</td>\n",
       "      <td>Nonfiction</td>\n",
       "      <td>Biography</td>\n",
       "    </tr>\n",
       "  </tbody>\n",
       "</table>\n",
       "</div>"
      ],
      "text/plain": [
       "     Code  Books                Description       Code Type Format Group  \\\n",
       "7     cab  12081              CA9-Biography  ItemCollection        Print   \n",
       "39    nab   2494               NA-Biography  ItemCollection        Print   \n",
       "49    ncb   1443  NC-Children's Biographies  ItemCollection        Print   \n",
       "51    ccb   1308  CC-Children's Biographies  ItemCollection        Print   \n",
       "60  naaab    722         AfAm - Biographies  ItemCollection        Print   \n",
       "64    cyb    368         CY9-Teen Biography  ItemCollection        Print   \n",
       "68    nyb    278        NY-Teen - Biography  ItemCollection        Print   \n",
       "\n",
       "   Format Subgroup Category Group Category Subgroup  \n",
       "7             Book     Nonfiction         Biography  \n",
       "39            Book     Nonfiction         Biography  \n",
       "49            Book     Nonfiction         Biography  \n",
       "51            Book     Nonfiction         Biography  \n",
       "60            Book     Nonfiction         Biography  \n",
       "64            Book     Nonfiction         Biography  \n",
       "68            Book     Nonfiction         Biography  "
      ]
     },
     "execution_count": 13,
     "metadata": {},
     "output_type": "execute_result"
    }
   ],
   "source": [
    "codes_df[codes_df[\"Category Subgroup\"] == \"Biography\"]"
   ]
  },
  {
   "cell_type": "code",
   "execution_count": 14,
   "metadata": {},
   "outputs": [
    {
     "data": {
      "text/plain": [
       "18694"
      ]
     },
     "execution_count": 14,
     "metadata": {},
     "output_type": "execute_result"
    }
   ],
   "source": [
    "codes_df[codes_df[\"Category Subgroup\"] == \"Biography\"][\"Books\"].sum()   #18,694 Biographies"
   ]
  },
  {
   "cell_type": "markdown",
   "metadata": {},
   "source": [
    "How many picture books?"
   ]
  },
  {
   "cell_type": "code",
   "execution_count": 15,
   "metadata": {},
   "outputs": [
    {
     "data": {
      "text/html": [
       "<div>\n",
       "<style scoped>\n",
       "    .dataframe tbody tr th:only-of-type {\n",
       "        vertical-align: middle;\n",
       "    }\n",
       "\n",
       "    .dataframe tbody tr th {\n",
       "        vertical-align: top;\n",
       "    }\n",
       "\n",
       "    .dataframe thead th {\n",
       "        text-align: right;\n",
       "    }\n",
       "</style>\n",
       "<table border=\"1\" class=\"dataframe\">\n",
       "  <thead>\n",
       "    <tr style=\"text-align: right;\">\n",
       "      <th></th>\n",
       "      <th>Code</th>\n",
       "      <th>Books</th>\n",
       "      <th>Description</th>\n",
       "      <th>Code Type</th>\n",
       "      <th>Format Group</th>\n",
       "      <th>Format Subgroup</th>\n",
       "      <th>Category Group</th>\n",
       "      <th>Category Subgroup</th>\n",
       "    </tr>\n",
       "  </thead>\n",
       "  <tbody>\n",
       "    <tr>\n",
       "      <th>8</th>\n",
       "      <td>ncpic</td>\n",
       "      <td>11195</td>\n",
       "      <td>NC--Children's Picture Books</td>\n",
       "      <td>ItemCollection</td>\n",
       "      <td>Print</td>\n",
       "      <td>Book</td>\n",
       "      <td>NaN</td>\n",
       "      <td>Picture</td>\n",
       "    </tr>\n",
       "    <tr>\n",
       "      <th>9</th>\n",
       "      <td>ccpic</td>\n",
       "      <td>10766</td>\n",
       "      <td>CC-Children's Picture Books</td>\n",
       "      <td>ItemCollection</td>\n",
       "      <td>Print</td>\n",
       "      <td>Book</td>\n",
       "      <td>NaN</td>\n",
       "      <td>Picture</td>\n",
       "    </tr>\n",
       "    <tr>\n",
       "      <th>44</th>\n",
       "      <td>ccrdr</td>\n",
       "      <td>1808</td>\n",
       "      <td>CC-Children's Readers</td>\n",
       "      <td>ItemCollection</td>\n",
       "      <td>Print</td>\n",
       "      <td>Book</td>\n",
       "      <td>Fiction</td>\n",
       "      <td>Picture</td>\n",
       "    </tr>\n",
       "    <tr>\n",
       "      <th>98</th>\n",
       "      <td>ncbb</td>\n",
       "      <td>2</td>\n",
       "      <td>NC-Children's Board Books</td>\n",
       "      <td>ItemCollection</td>\n",
       "      <td>Print</td>\n",
       "      <td>Book</td>\n",
       "      <td>NaN</td>\n",
       "      <td>Picture</td>\n",
       "    </tr>\n",
       "  </tbody>\n",
       "</table>\n",
       "</div>"
      ],
      "text/plain": [
       "     Code  Books                   Description       Code Type Format Group  \\\n",
       "8   ncpic  11195  NC--Children's Picture Books  ItemCollection        Print   \n",
       "9   ccpic  10766   CC-Children's Picture Books  ItemCollection        Print   \n",
       "44  ccrdr   1808         CC-Children's Readers  ItemCollection        Print   \n",
       "98   ncbb      2     NC-Children's Board Books  ItemCollection        Print   \n",
       "\n",
       "   Format Subgroup Category Group Category Subgroup  \n",
       "8             Book            NaN           Picture  \n",
       "9             Book            NaN           Picture  \n",
       "44            Book        Fiction           Picture  \n",
       "98            Book            NaN           Picture  "
      ]
     },
     "execution_count": 15,
     "metadata": {},
     "output_type": "execute_result"
    }
   ],
   "source": [
    "codes_df[codes_df[\"Category Subgroup\"] == \"Picture\"]"
   ]
  },
  {
   "cell_type": "code",
   "execution_count": 16,
   "metadata": {},
   "outputs": [
    {
     "data": {
      "text/plain": [
       "23771"
      ]
     },
     "execution_count": 16,
     "metadata": {},
     "output_type": "execute_result"
    }
   ],
   "source": [
    "codes_df[codes_df[\"Category Subgroup\"] == \"Picture\"][\"Books\"].sum()   #23,771 Picture Books"
   ]
  },
  {
   "cell_type": "markdown",
   "metadata": {},
   "source": [
    "How many Large Print books?"
   ]
  },
  {
   "cell_type": "code",
   "execution_count": 17,
   "metadata": {},
   "outputs": [
    {
     "data": {
      "text/html": [
       "<div>\n",
       "<style scoped>\n",
       "    .dataframe tbody tr th:only-of-type {\n",
       "        vertical-align: middle;\n",
       "    }\n",
       "\n",
       "    .dataframe tbody tr th {\n",
       "        vertical-align: top;\n",
       "    }\n",
       "\n",
       "    .dataframe thead th {\n",
       "        text-align: right;\n",
       "    }\n",
       "</style>\n",
       "<table border=\"1\" class=\"dataframe\">\n",
       "  <thead>\n",
       "    <tr style=\"text-align: right;\">\n",
       "      <th></th>\n",
       "      <th>Code</th>\n",
       "      <th>Books</th>\n",
       "      <th>Description</th>\n",
       "      <th>Code Type</th>\n",
       "      <th>Format Group</th>\n",
       "      <th>Format Subgroup</th>\n",
       "      <th>Category Group</th>\n",
       "      <th>Category Subgroup</th>\n",
       "    </tr>\n",
       "  </thead>\n",
       "  <tbody>\n",
       "    <tr>\n",
       "      <th>24</th>\n",
       "      <td>calpfic</td>\n",
       "      <td>4704</td>\n",
       "      <td>CA3-Large Print Fiction</td>\n",
       "      <td>ItemCollection</td>\n",
       "      <td>Print</td>\n",
       "      <td>Book</td>\n",
       "      <td>Fiction</td>\n",
       "      <td>Large Print</td>\n",
       "    </tr>\n",
       "    <tr>\n",
       "      <th>25</th>\n",
       "      <td>nalpfic</td>\n",
       "      <td>3975</td>\n",
       "      <td>NA-Large Print Fiction</td>\n",
       "      <td>ItemCollection</td>\n",
       "      <td>Print</td>\n",
       "      <td>Book</td>\n",
       "      <td>Fiction</td>\n",
       "      <td>Large Print</td>\n",
       "    </tr>\n",
       "    <tr>\n",
       "      <th>53</th>\n",
       "      <td>cs1malp</td>\n",
       "      <td>1251</td>\n",
       "      <td>CS 1 - MOB Large Print Nonfiction</td>\n",
       "      <td>ItemCollection</td>\n",
       "      <td>Print</td>\n",
       "      <td>Book</td>\n",
       "      <td>Nonfiction</td>\n",
       "      <td>Large Print</td>\n",
       "    </tr>\n",
       "    <tr>\n",
       "      <th>55</th>\n",
       "      <td>calpnf</td>\n",
       "      <td>925</td>\n",
       "      <td>CA3-Large Print Nonfiction</td>\n",
       "      <td>ItemCollection</td>\n",
       "      <td>Print</td>\n",
       "      <td>Book</td>\n",
       "      <td>Nonfiction</td>\n",
       "      <td>Large Print</td>\n",
       "    </tr>\n",
       "    <tr>\n",
       "      <th>57</th>\n",
       "      <td>nalpnf</td>\n",
       "      <td>852</td>\n",
       "      <td>NA-Large Print Nonfiction</td>\n",
       "      <td>ItemCollection</td>\n",
       "      <td>Print</td>\n",
       "      <td>Book</td>\n",
       "      <td>Nonfiction</td>\n",
       "      <td>Large Print</td>\n",
       "    </tr>\n",
       "    <tr>\n",
       "      <th>82</th>\n",
       "      <td>cylp</td>\n",
       "      <td>102</td>\n",
       "      <td>CY3-Teen Large Print</td>\n",
       "      <td>ItemCollection</td>\n",
       "      <td>Print</td>\n",
       "      <td>Book</td>\n",
       "      <td>Fiction</td>\n",
       "      <td>Large Print</td>\n",
       "    </tr>\n",
       "    <tr>\n",
       "      <th>85</th>\n",
       "      <td>cclpfic</td>\n",
       "      <td>57</td>\n",
       "      <td>CC-Children's Large Print</td>\n",
       "      <td>ItemCollection</td>\n",
       "      <td>Print</td>\n",
       "      <td>Book</td>\n",
       "      <td>Fiction</td>\n",
       "      <td>Large Print</td>\n",
       "    </tr>\n",
       "    <tr>\n",
       "      <th>87</th>\n",
       "      <td>nylp</td>\n",
       "      <td>50</td>\n",
       "      <td>NY-Teen Large Print</td>\n",
       "      <td>ItemCollection</td>\n",
       "      <td>Print</td>\n",
       "      <td>Book</td>\n",
       "      <td>Fiction</td>\n",
       "      <td>Large Print</td>\n",
       "    </tr>\n",
       "    <tr>\n",
       "      <th>88</th>\n",
       "      <td>nclp</td>\n",
       "      <td>35</td>\n",
       "      <td>NC-Children's Large Print</td>\n",
       "      <td>ItemCollection</td>\n",
       "      <td>Print</td>\n",
       "      <td>Book</td>\n",
       "      <td>Fiction</td>\n",
       "      <td>Large Print</td>\n",
       "    </tr>\n",
       "    <tr>\n",
       "      <th>90</th>\n",
       "      <td>nalpnew</td>\n",
       "      <td>23</td>\n",
       "      <td>NA-Large Print New</td>\n",
       "      <td>ItemCollection</td>\n",
       "      <td>Print</td>\n",
       "      <td>Book</td>\n",
       "      <td>Fiction</td>\n",
       "      <td>Large Print</td>\n",
       "    </tr>\n",
       "  </tbody>\n",
       "</table>\n",
       "</div>"
      ],
      "text/plain": [
       "       Code  Books                        Description       Code Type  \\\n",
       "24  calpfic   4704            CA3-Large Print Fiction  ItemCollection   \n",
       "25  nalpfic   3975             NA-Large Print Fiction  ItemCollection   \n",
       "53  cs1malp   1251  CS 1 - MOB Large Print Nonfiction  ItemCollection   \n",
       "55   calpnf    925         CA3-Large Print Nonfiction  ItemCollection   \n",
       "57   nalpnf    852          NA-Large Print Nonfiction  ItemCollection   \n",
       "82     cylp    102               CY3-Teen Large Print  ItemCollection   \n",
       "85  cclpfic     57          CC-Children's Large Print  ItemCollection   \n",
       "87     nylp     50                NY-Teen Large Print  ItemCollection   \n",
       "88     nclp     35          NC-Children's Large Print  ItemCollection   \n",
       "90  nalpnew     23                 NA-Large Print New  ItemCollection   \n",
       "\n",
       "   Format Group Format Subgroup Category Group Category Subgroup  \n",
       "24        Print            Book        Fiction       Large Print  \n",
       "25        Print            Book        Fiction       Large Print  \n",
       "53        Print            Book     Nonfiction       Large Print  \n",
       "55        Print            Book     Nonfiction       Large Print  \n",
       "57        Print            Book     Nonfiction       Large Print  \n",
       "82        Print            Book        Fiction       Large Print  \n",
       "85        Print            Book        Fiction       Large Print  \n",
       "87        Print            Book        Fiction       Large Print  \n",
       "88        Print            Book        Fiction       Large Print  \n",
       "90        Print            Book        Fiction       Large Print  "
      ]
     },
     "execution_count": 17,
     "metadata": {},
     "output_type": "execute_result"
    }
   ],
   "source": [
    "codes_df[codes_df[\"Category Subgroup\"] == \"Large Print\"]"
   ]
  },
  {
   "cell_type": "code",
   "execution_count": 18,
   "metadata": {},
   "outputs": [
    {
     "data": {
      "text/plain": [
       "11974"
      ]
     },
     "execution_count": 18,
     "metadata": {},
     "output_type": "execute_result"
    }
   ],
   "source": [
    "codes_df[codes_df[\"Category Subgroup\"] == \"Large Print\"][\"Books\"].sum()   #11,974 Large Print Books"
   ]
  },
  {
   "cell_type": "markdown",
   "metadata": {},
   "source": [
    "How Many Holiday Books? "
   ]
  },
  {
   "cell_type": "code",
   "execution_count": 19,
   "metadata": {},
   "outputs": [
    {
     "data": {
      "text/html": [
       "<div>\n",
       "<style scoped>\n",
       "    .dataframe tbody tr th:only-of-type {\n",
       "        vertical-align: middle;\n",
       "    }\n",
       "\n",
       "    .dataframe tbody tr th {\n",
       "        vertical-align: top;\n",
       "    }\n",
       "\n",
       "    .dataframe thead th {\n",
       "        text-align: right;\n",
       "    }\n",
       "</style>\n",
       "<table border=\"1\" class=\"dataframe\">\n",
       "  <thead>\n",
       "    <tr style=\"text-align: right;\">\n",
       "      <th></th>\n",
       "      <th>Code</th>\n",
       "      <th>Books</th>\n",
       "      <th>Description</th>\n",
       "      <th>Code Type</th>\n",
       "      <th>Format Group</th>\n",
       "      <th>Format Subgroup</th>\n",
       "      <th>Category Group</th>\n",
       "      <th>Category Subgroup</th>\n",
       "    </tr>\n",
       "  </thead>\n",
       "  <tbody>\n",
       "    <tr>\n",
       "      <th>34</th>\n",
       "      <td>nchol</td>\n",
       "      <td>2723</td>\n",
       "      <td>NC-Children's Holiday</td>\n",
       "      <td>ItemCollection</td>\n",
       "      <td>Print</td>\n",
       "      <td>Book</td>\n",
       "      <td>Fiction</td>\n",
       "      <td>Holiday</td>\n",
       "    </tr>\n",
       "    <tr>\n",
       "      <th>45</th>\n",
       "      <td>cchol</td>\n",
       "      <td>1803</td>\n",
       "      <td>CC-Children's Holiday</td>\n",
       "      <td>ItemCollection</td>\n",
       "      <td>Print</td>\n",
       "      <td>Book</td>\n",
       "      <td>Fiction</td>\n",
       "      <td>Holiday</td>\n",
       "    </tr>\n",
       "    <tr>\n",
       "      <th>72</th>\n",
       "      <td>nahol</td>\n",
       "      <td>249</td>\n",
       "      <td>NA-Holiday - Adult</td>\n",
       "      <td>ItemCollection</td>\n",
       "      <td>Print</td>\n",
       "      <td>Book</td>\n",
       "      <td>Nonfiction</td>\n",
       "      <td>Holiday</td>\n",
       "    </tr>\n",
       "    <tr>\n",
       "      <th>84</th>\n",
       "      <td>ncholsk</td>\n",
       "      <td>63</td>\n",
       "      <td>NC-Children's Holiday-STK</td>\n",
       "      <td>ItemCollection</td>\n",
       "      <td>Print</td>\n",
       "      <td>Book</td>\n",
       "      <td>Fiction</td>\n",
       "      <td>Holiday</td>\n",
       "    </tr>\n",
       "  </tbody>\n",
       "</table>\n",
       "</div>"
      ],
      "text/plain": [
       "       Code  Books                Description       Code Type Format Group  \\\n",
       "34    nchol   2723      NC-Children's Holiday  ItemCollection        Print   \n",
       "45    cchol   1803      CC-Children's Holiday  ItemCollection        Print   \n",
       "72    nahol    249         NA-Holiday - Adult  ItemCollection        Print   \n",
       "84  ncholsk     63  NC-Children's Holiday-STK  ItemCollection        Print   \n",
       "\n",
       "   Format Subgroup Category Group Category Subgroup  \n",
       "34            Book        Fiction           Holiday  \n",
       "45            Book        Fiction           Holiday  \n",
       "72            Book     Nonfiction           Holiday  \n",
       "84            Book        Fiction           Holiday  "
      ]
     },
     "execution_count": 19,
     "metadata": {},
     "output_type": "execute_result"
    }
   ],
   "source": [
    "codes_df[codes_df[\"Category Subgroup\"] == \"Holiday\"]"
   ]
  },
  {
   "cell_type": "code",
   "execution_count": 20,
   "metadata": {},
   "outputs": [
    {
     "data": {
      "text/plain": [
       "4838"
      ]
     },
     "execution_count": 20,
     "metadata": {},
     "output_type": "execute_result"
    }
   ],
   "source": [
    "codes_df[codes_df[\"Category Subgroup\"] == \"Holiday\"][\"Books\"].sum()   #4,838 Holiday Books"
   ]
  },
  {
   "cell_type": "markdown",
   "metadata": {},
   "source": [
    "### EDA: Explore the Category Group Column"
   ]
  },
  {
   "cell_type": "code",
   "execution_count": 21,
   "metadata": {},
   "outputs": [
    {
     "data": {
      "text/plain": [
       "array(['Nonfiction', 'Fiction', 'Language', nan], dtype=object)"
      ]
     },
     "execution_count": 21,
     "metadata": {},
     "output_type": "execute_result"
    }
   ],
   "source": [
    "codes_df[\"Category Group\"].unique()    #3 Category Types"
   ]
  },
  {
   "cell_type": "markdown",
   "metadata": {},
   "source": [
    "How Many Language Books?"
   ]
  },
  {
   "cell_type": "code",
   "execution_count": 22,
   "metadata": {},
   "outputs": [
    {
     "data": {
      "text/html": [
       "<div>\n",
       "<style scoped>\n",
       "    .dataframe tbody tr th:only-of-type {\n",
       "        vertical-align: middle;\n",
       "    }\n",
       "\n",
       "    .dataframe tbody tr th {\n",
       "        vertical-align: top;\n",
       "    }\n",
       "\n",
       "    .dataframe thead th {\n",
       "        text-align: right;\n",
       "    }\n",
       "</style>\n",
       "<table border=\"1\" class=\"dataframe\">\n",
       "  <thead>\n",
       "    <tr style=\"text-align: right;\">\n",
       "      <th></th>\n",
       "      <th>Code</th>\n",
       "      <th>Books</th>\n",
       "      <th>Description</th>\n",
       "      <th>Code Type</th>\n",
       "      <th>Format Group</th>\n",
       "      <th>Format Subgroup</th>\n",
       "      <th>Category Group</th>\n",
       "      <th>Category Subgroup</th>\n",
       "    </tr>\n",
       "  </thead>\n",
       "  <tbody>\n",
       "    <tr>\n",
       "      <th>3</th>\n",
       "      <td>caln</td>\n",
       "      <td>22340</td>\n",
       "      <td>CA1-Language</td>\n",
       "      <td>ItemCollection</td>\n",
       "      <td>Print</td>\n",
       "      <td>Book</td>\n",
       "      <td>Language</td>\n",
       "      <td>NaN</td>\n",
       "    </tr>\n",
       "    <tr>\n",
       "      <th>12</th>\n",
       "      <td>ccln</td>\n",
       "      <td>8076</td>\n",
       "      <td>CC-Children's Languages</td>\n",
       "      <td>ItemCollection</td>\n",
       "      <td>Print</td>\n",
       "      <td>Book</td>\n",
       "      <td>Language</td>\n",
       "      <td>NaN</td>\n",
       "    </tr>\n",
       "    <tr>\n",
       "      <th>17</th>\n",
       "      <td>naln</td>\n",
       "      <td>6200</td>\n",
       "      <td>NA-Languages Collection</td>\n",
       "      <td>ItemCollection</td>\n",
       "      <td>Print</td>\n",
       "      <td>Book</td>\n",
       "      <td>Language</td>\n",
       "      <td>NaN</td>\n",
       "    </tr>\n",
       "    <tr>\n",
       "      <th>22</th>\n",
       "      <td>ncln</td>\n",
       "      <td>5551</td>\n",
       "      <td>NC-Children's Languages</td>\n",
       "      <td>ItemCollection</td>\n",
       "      <td>Print</td>\n",
       "      <td>Book</td>\n",
       "      <td>Language</td>\n",
       "      <td>NaN</td>\n",
       "    </tr>\n",
       "    <tr>\n",
       "      <th>66</th>\n",
       "      <td>calnr</td>\n",
       "      <td>321</td>\n",
       "      <td>CA1-World Languages Reference</td>\n",
       "      <td>ItemCollection</td>\n",
       "      <td>Print</td>\n",
       "      <td>Book</td>\n",
       "      <td>Language</td>\n",
       "      <td>NaN</td>\n",
       "    </tr>\n",
       "    <tr>\n",
       "      <th>101</th>\n",
       "      <td>cs1lew</td>\n",
       "      <td>1</td>\n",
       "      <td>CS 1 - Language</td>\n",
       "      <td>ItemCollection</td>\n",
       "      <td>Print</td>\n",
       "      <td>Book</td>\n",
       "      <td>Language</td>\n",
       "      <td>NaN</td>\n",
       "    </tr>\n",
       "  </tbody>\n",
       "</table>\n",
       "</div>"
      ],
      "text/plain": [
       "       Code  Books                    Description       Code Type  \\\n",
       "3      caln  22340                   CA1-Language  ItemCollection   \n",
       "12     ccln   8076        CC-Children's Languages  ItemCollection   \n",
       "17     naln   6200        NA-Languages Collection  ItemCollection   \n",
       "22     ncln   5551        NC-Children's Languages  ItemCollection   \n",
       "66    calnr    321  CA1-World Languages Reference  ItemCollection   \n",
       "101  cs1lew      1                CS 1 - Language  ItemCollection   \n",
       "\n",
       "    Format Group Format Subgroup Category Group Category Subgroup  \n",
       "3          Print            Book       Language               NaN  \n",
       "12         Print            Book       Language               NaN  \n",
       "17         Print            Book       Language               NaN  \n",
       "22         Print            Book       Language               NaN  \n",
       "66         Print            Book       Language               NaN  \n",
       "101        Print            Book       Language               NaN  "
      ]
     },
     "execution_count": 22,
     "metadata": {},
     "output_type": "execute_result"
    }
   ],
   "source": [
    "codes_df[codes_df[\"Category Group\"] == \"Language\"]"
   ]
  },
  {
   "cell_type": "code",
   "execution_count": 23,
   "metadata": {},
   "outputs": [
    {
     "data": {
      "text/plain": [
       "42489"
      ]
     },
     "execution_count": 23,
     "metadata": {},
     "output_type": "execute_result"
    }
   ],
   "source": [
    "codes_df[codes_df[\"Category Group\"] == \"Language\"][\"Books\"].sum()   #42,489 Books"
   ]
  },
  {
   "cell_type": "markdown",
   "metadata": {},
   "source": [
    "How Many Non-Fiction Books?"
   ]
  },
  {
   "cell_type": "code",
   "execution_count": 24,
   "metadata": {},
   "outputs": [
    {
     "data": {
      "text/plain": [
       "328129"
      ]
     },
     "execution_count": 24,
     "metadata": {},
     "output_type": "execute_result"
    }
   ],
   "source": [
    "codes_df[codes_df[\"Category Group\"] == \"Nonfiction\"][\"Books\"].sum()  #328,129 Books"
   ]
  },
  {
   "cell_type": "markdown",
   "metadata": {},
   "source": [
    "How Many Fiction Books?"
   ]
  },
  {
   "cell_type": "code",
   "execution_count": 25,
   "metadata": {},
   "outputs": [
    {
     "data": {
      "text/plain": [
       "175414"
      ]
     },
     "execution_count": 25,
     "metadata": {},
     "output_type": "execute_result"
    }
   ],
   "source": [
    "codes_df[codes_df[\"Category Group\"] == \"Fiction\"][\"Books\"].sum()      #175,414 Books"
   ]
  },
  {
   "cell_type": "markdown",
   "metadata": {},
   "source": [
    "### EDA: Explore the other Columns"
   ]
  },
  {
   "cell_type": "code",
   "execution_count": 17,
   "metadata": {},
   "outputs": [
    {
     "data": {
      "text/plain": [
       "array(['Book'], dtype=object)"
      ]
     },
     "execution_count": 17,
     "metadata": {},
     "output_type": "execute_result"
    }
   ],
   "source": [
    "codes_df[\"Format Subgroup\"].unique()   #Nothing to see here"
   ]
  },
  {
   "cell_type": "code",
   "execution_count": 18,
   "metadata": {},
   "outputs": [
    {
     "data": {
      "text/plain": [
       "array(['Print'], dtype=object)"
      ]
     },
     "execution_count": 18,
     "metadata": {},
     "output_type": "execute_result"
    }
   ],
   "source": [
    "codes_df[\"Format Group\"].unique()      #Nothing to see here"
   ]
  },
  {
   "cell_type": "code",
   "execution_count": 19,
   "metadata": {},
   "outputs": [
    {
     "data": {
      "text/plain": [
       "array(['CA-Nonfiction', 'NA-Nonfiction', 'CA3-Fiction', 'CA1-Language',\n",
       "       'NA-Fiction', \"NC-Children's Nonfiction\",\n",
       "       \"CC-Children's Nonfiction\", 'CA9-Biography',\n",
       "       \"NC--Children's Picture Books\", \"CC-Children's Picture Books\",\n",
       "       \"NC-Children's Fiction\", 'CA3-Mystery', \"CC-Children's Languages\",\n",
       "       \"CC-Children's Fiction\", 'NA-Mysteries',\n",
       "       'CS 1 - MOB Large Print Fiction', 'CA3-New Adult Books',\n",
       "       'NA-Languages Collection', 'NY-Teen - Comics & Graphic Novels',\n",
       "       'NY-Teen - Fiction', 'NC-Easy Nonfiction', 'NA-New Adult Books',\n",
       "       \"NC-Children's Languages\", 'AfAm - Nf', 'CA3-Large Print Fiction',\n",
       "       'NA-Large Print Fiction', 'CA3-Science Fiction',\n",
       "       \"NC-Children's New Materials\", 'CY-Teen Nonfiction',\n",
       "       'CY3-Teen Comics & Graphic Novels', 'CY3-Teen Fiction',\n",
       "       'NA-Sci-Fic/Fantasy', 'NA-Comics/Graphic Novels',\n",
       "       'NY-Teen - Nonfiction', \"NC-Children's Holiday\", 'NA-Oversize',\n",
       "       'NC-Easy Fiction', \"NC-Children's Series\", 'CS 3 - Fiction',\n",
       "       'NA-Biography', 'CA3-Graphic Novels', \"NC--Children's Readers\",\n",
       "       \"NC-Children's Comics\", 'CC-Folk And Fairy Tales',\n",
       "       \"CC-Children's Readers\", \"CC-Children's Holiday\",\n",
       "       \"CC-Children's Series\", \"CC-Children's Comics\",\n",
       "       \"CC-Children's Easy Fiction\", \"NC-Children's Biographies\",\n",
       "       'AfAm - Fiction', \"CC-Children's Biographies\",\n",
       "       'NC-Folk And Fairy Tales', 'CS 1 - MOB Large Print Nonfiction',\n",
       "       'CA-Oversize', 'CA3-Large Print Nonfiction', 'NY-Teen - New Books',\n",
       "       'NA-Large Print Nonfiction', 'CA3-Short Stories',\n",
       "       'NA-Gay/Lesbian Collection', 'AfAm - Biographies',\n",
       "       'CA0-AERO Valmat', 'CA3-Western', 'NA-Job And Education',\n",
       "       'CY9-Teen Biography', 'NA-Marine Collection',\n",
       "       'CA1-World Languages Reference', 'NA-Westerns',\n",
       "       'NY-Teen - Biography', 'NA-Short Stories',\n",
       "       \"NC-Children's-Newbery/Caldecott\", 'CA7-AERO Periodicals',\n",
       "       'NA-Holiday - Adult', 'NA-Parenting',\n",
       "       \"CC-Children's Newbery/Caldecott\",\n",
       "       'CA9-Nonfiction Shakespeare S Call Nos.', 'NY-Teen Series',\n",
       "       'CA8-Libretto File', 'CA7-AERO Oversize', 'AfAm - New',\n",
       "       \"NC-Children's Paperbacks\", 'CA9-Atlases', 'CY3-Teen Large Print',\n",
       "       'NA-Atlases', \"NC-Children's Holiday-STK\",\n",
       "       \"CC-Children's Large Print\", 'Peak Picks Fiction',\n",
       "       'NY-Teen Large Print', \"NC-Children's Large Print\",\n",
       "       'Peak Picks-Nonfiction', 'NA-Large Print New', 'AfAm - Paperbacks',\n",
       "       \"Afam - Children's Circulating\", 'NA-Consumer',\n",
       "       'CY3-Teen New Books', 'NY-Teen Paperbacks', 'CY3-Teen Series',\n",
       "       \"CC-Children's New Materials\", \"NC-Children's Board Books\",\n",
       "       'NA-Homework', 'CS 1 - Language', 'NA-Video Guides',\n",
       "       'NA-Native American'], dtype=object)"
      ]
     },
     "execution_count": 19,
     "metadata": {},
     "output_type": "execute_result"
    }
   ],
   "source": [
    "codes_df[\"Description\"].unique()        #lot of potential features here"
   ]
  },
  {
   "cell_type": "markdown",
   "metadata": {},
   "source": [
    "Looking at the list, I will want to pull out categories such as teen, children, comic, african american, and mystery"
   ]
  },
  {
   "cell_type": "markdown",
   "metadata": {},
   "source": [
    "### Features - Process the Description Column"
   ]
  },
  {
   "cell_type": "code",
   "execution_count": 20,
   "metadata": {},
   "outputs": [],
   "source": [
    "def search(row, description):\n",
    "    if description in row:\n",
    "        return 1\n",
    "    else: return 0"
   ]
  },
  {
   "cell_type": "code",
   "execution_count": 21,
   "metadata": {},
   "outputs": [],
   "source": [
    "genre_df = pd.DataFrame()\n",
    "genre_df[\"Code\"] = codes_df[\"Code\"]\n",
    "genre_df[\"Description\"] = codes_df[\"Description\"].apply(lambda x: x.lower())         #make lowercase\n",
    "genre_df[\"Children\"] = genre_df[\"Description\"].apply(search, description=\"child\")\n",
    "genre_df[\"Teen\"] = genre_df[\"Description\"].apply(search, description=\"teen\")\n",
    "genre_df[\"AfAm\"] = genre_df[\"Description\"].apply(search, description=\"afam\")\n",
    "genre_df[\"Mystery\"] = genre_df[\"Description\"].apply(search, description=\"myster\")\n",
    "genre_df[\"Comic\"] = genre_df[\"Description\"].apply(search, description=\"comic\")       #Comic Books\n",
    "genre_df[\"Graphic\"] = genre_df[\"Description\"].apply(search, description=\"graphic\")   #sometimes 'Graphic Novel'\n",
    "genre_df[\"Comic\"] = genre_df[\"Comic\"] + genre_df[\"Graphic\"]                          #Combine\n",
    "genre_df[\"Comic\"] = genre_df[\"Comic\"].apply(lambda x: min(x, 1))                     #cap max at 1\n",
    "genre_df = genre_df.drop([\"Graphic\"],axis=1)"
   ]
  },
  {
   "cell_type": "code",
   "execution_count": 22,
   "metadata": {},
   "outputs": [
    {
     "data": {
      "text/html": [
       "<div>\n",
       "<style scoped>\n",
       "    .dataframe tbody tr th:only-of-type {\n",
       "        vertical-align: middle;\n",
       "    }\n",
       "\n",
       "    .dataframe tbody tr th {\n",
       "        vertical-align: top;\n",
       "    }\n",
       "\n",
       "    .dataframe thead th {\n",
       "        text-align: right;\n",
       "    }\n",
       "</style>\n",
       "<table border=\"1\" class=\"dataframe\">\n",
       "  <thead>\n",
       "    <tr style=\"text-align: right;\">\n",
       "      <th></th>\n",
       "      <th>Code</th>\n",
       "      <th>Description</th>\n",
       "      <th>Children</th>\n",
       "      <th>Teen</th>\n",
       "      <th>AfAm</th>\n",
       "      <th>Mystery</th>\n",
       "      <th>Comic</th>\n",
       "    </tr>\n",
       "  </thead>\n",
       "  <tbody>\n",
       "    <tr>\n",
       "      <th>94</th>\n",
       "      <td>cynew</td>\n",
       "      <td>cy3-teen new books</td>\n",
       "      <td>0</td>\n",
       "      <td>1</td>\n",
       "      <td>0</td>\n",
       "      <td>0</td>\n",
       "      <td>0</td>\n",
       "    </tr>\n",
       "    <tr>\n",
       "      <th>95</th>\n",
       "      <td>nypb</td>\n",
       "      <td>ny-teen paperbacks</td>\n",
       "      <td>0</td>\n",
       "      <td>1</td>\n",
       "      <td>0</td>\n",
       "      <td>0</td>\n",
       "      <td>0</td>\n",
       "    </tr>\n",
       "    <tr>\n",
       "      <th>96</th>\n",
       "      <td>cyser</td>\n",
       "      <td>cy3-teen series</td>\n",
       "      <td>0</td>\n",
       "      <td>1</td>\n",
       "      <td>0</td>\n",
       "      <td>0</td>\n",
       "      <td>0</td>\n",
       "    </tr>\n",
       "    <tr>\n",
       "      <th>97</th>\n",
       "      <td>ccnew</td>\n",
       "      <td>cc-children's new materials</td>\n",
       "      <td>1</td>\n",
       "      <td>0</td>\n",
       "      <td>0</td>\n",
       "      <td>0</td>\n",
       "      <td>0</td>\n",
       "    </tr>\n",
       "    <tr>\n",
       "      <th>98</th>\n",
       "      <td>ncbb</td>\n",
       "      <td>nc-children's board books</td>\n",
       "      <td>1</td>\n",
       "      <td>0</td>\n",
       "      <td>0</td>\n",
       "      <td>0</td>\n",
       "      <td>0</td>\n",
       "    </tr>\n",
       "    <tr>\n",
       "      <th>99</th>\n",
       "      <td>nahmwk</td>\n",
       "      <td>na-homework</td>\n",
       "      <td>0</td>\n",
       "      <td>0</td>\n",
       "      <td>0</td>\n",
       "      <td>0</td>\n",
       "      <td>0</td>\n",
       "    </tr>\n",
       "    <tr>\n",
       "      <th>100</th>\n",
       "      <td>cs1fic</td>\n",
       "      <td>cs 3 - fiction</td>\n",
       "      <td>0</td>\n",
       "      <td>0</td>\n",
       "      <td>0</td>\n",
       "      <td>0</td>\n",
       "      <td>0</td>\n",
       "    </tr>\n",
       "    <tr>\n",
       "      <th>101</th>\n",
       "      <td>cs1lew</td>\n",
       "      <td>cs 1 - language</td>\n",
       "      <td>0</td>\n",
       "      <td>0</td>\n",
       "      <td>0</td>\n",
       "      <td>0</td>\n",
       "      <td>0</td>\n",
       "    </tr>\n",
       "    <tr>\n",
       "      <th>102</th>\n",
       "      <td>navidg</td>\n",
       "      <td>na-video guides</td>\n",
       "      <td>0</td>\n",
       "      <td>0</td>\n",
       "      <td>0</td>\n",
       "      <td>0</td>\n",
       "      <td>0</td>\n",
       "    </tr>\n",
       "    <tr>\n",
       "      <th>103</th>\n",
       "      <td>nana</td>\n",
       "      <td>na-native american</td>\n",
       "      <td>0</td>\n",
       "      <td>0</td>\n",
       "      <td>0</td>\n",
       "      <td>0</td>\n",
       "      <td>0</td>\n",
       "    </tr>\n",
       "  </tbody>\n",
       "</table>\n",
       "</div>"
      ],
      "text/plain": [
       "       Code                  Description  Children  Teen  AfAm  Mystery  Comic\n",
       "94    cynew           cy3-teen new books         0     1     0        0      0\n",
       "95     nypb           ny-teen paperbacks         0     1     0        0      0\n",
       "96    cyser              cy3-teen series         0     1     0        0      0\n",
       "97    ccnew  cc-children's new materials         1     0     0        0      0\n",
       "98     ncbb    nc-children's board books         1     0     0        0      0\n",
       "99   nahmwk                  na-homework         0     0     0        0      0\n",
       "100  cs1fic               cs 3 - fiction         0     0     0        0      0\n",
       "101  cs1lew              cs 1 - language         0     0     0        0      0\n",
       "102  navidg              na-video guides         0     0     0        0      0\n",
       "103    nana           na-native american         0     0     0        0      0"
      ]
     },
     "execution_count": 22,
     "metadata": {},
     "output_type": "execute_result"
    }
   ],
   "source": [
    "genre_df.tail(10)"
   ]
  },
  {
   "cell_type": "markdown",
   "metadata": {},
   "source": [
    "### Features - Category Subgroup Dummies"
   ]
  },
  {
   "cell_type": "code",
   "execution_count": 23,
   "metadata": {},
   "outputs": [
    {
     "data": {
      "text/html": [
       "<div>\n",
       "<style scoped>\n",
       "    .dataframe tbody tr th:only-of-type {\n",
       "        vertical-align: middle;\n",
       "    }\n",
       "\n",
       "    .dataframe tbody tr th {\n",
       "        vertical-align: top;\n",
       "    }\n",
       "\n",
       "    .dataframe thead th {\n",
       "        text-align: right;\n",
       "    }\n",
       "</style>\n",
       "<table border=\"1\" class=\"dataframe\">\n",
       "  <thead>\n",
       "    <tr style=\"text-align: right;\">\n",
       "      <th></th>\n",
       "      <th>Code</th>\n",
       "      <th>Biography</th>\n",
       "      <th>Large Print</th>\n",
       "      <th>Picture</th>\n",
       "    </tr>\n",
       "  </thead>\n",
       "  <tbody>\n",
       "    <tr>\n",
       "      <th>0</th>\n",
       "      <td>canf</td>\n",
       "      <td>0</td>\n",
       "      <td>0</td>\n",
       "      <td>0</td>\n",
       "    </tr>\n",
       "    <tr>\n",
       "      <th>1</th>\n",
       "      <td>nanf</td>\n",
       "      <td>0</td>\n",
       "      <td>0</td>\n",
       "      <td>0</td>\n",
       "    </tr>\n",
       "    <tr>\n",
       "      <th>2</th>\n",
       "      <td>cafic</td>\n",
       "      <td>0</td>\n",
       "      <td>0</td>\n",
       "      <td>0</td>\n",
       "    </tr>\n",
       "    <tr>\n",
       "      <th>3</th>\n",
       "      <td>caln</td>\n",
       "      <td>0</td>\n",
       "      <td>0</td>\n",
       "      <td>0</td>\n",
       "    </tr>\n",
       "    <tr>\n",
       "      <th>4</th>\n",
       "      <td>nafic</td>\n",
       "      <td>0</td>\n",
       "      <td>0</td>\n",
       "      <td>0</td>\n",
       "    </tr>\n",
       "  </tbody>\n",
       "</table>\n",
       "</div>"
      ],
      "text/plain": [
       "    Code  Biography  Large Print  Picture\n",
       "0   canf          0            0        0\n",
       "1   nanf          0            0        0\n",
       "2  cafic          0            0        0\n",
       "3   caln          0            0        0\n",
       "4  nafic          0            0        0"
      ]
     },
     "execution_count": 23,
     "metadata": {},
     "output_type": "execute_result"
    }
   ],
   "source": [
    "subgroup_df = pd.get_dummies(codes_df[\"Category Subgroup\"])\n",
    "subgroup_df = subgroup_df.merge(codes_df, left_index=True, right_index=True,how='left')\n",
    "subgroup_df = subgroup_df[[\"Code\",\"Biography\",\"Large Print\",\"Picture\"]]\n",
    "subgroup_df.head()"
   ]
  },
  {
   "cell_type": "markdown",
   "metadata": {},
   "source": [
    "### Features - Category Group Dummies"
   ]
  },
  {
   "cell_type": "code",
   "execution_count": 26,
   "metadata": {},
   "outputs": [
    {
     "data": {
      "text/html": [
       "<div>\n",
       "<style scoped>\n",
       "    .dataframe tbody tr th:only-of-type {\n",
       "        vertical-align: middle;\n",
       "    }\n",
       "\n",
       "    .dataframe tbody tr th {\n",
       "        vertical-align: top;\n",
       "    }\n",
       "\n",
       "    .dataframe thead th {\n",
       "        text-align: right;\n",
       "    }\n",
       "</style>\n",
       "<table border=\"1\" class=\"dataframe\">\n",
       "  <thead>\n",
       "    <tr style=\"text-align: right;\">\n",
       "      <th></th>\n",
       "      <th>Code</th>\n",
       "      <th>Fiction</th>\n",
       "      <th>Language</th>\n",
       "      <th>Nonfiction</th>\n",
       "      <th>Category</th>\n",
       "    </tr>\n",
       "  </thead>\n",
       "  <tbody>\n",
       "    <tr>\n",
       "      <th>0</th>\n",
       "      <td>canf</td>\n",
       "      <td>0</td>\n",
       "      <td>0</td>\n",
       "      <td>1</td>\n",
       "      <td>Nonfiction</td>\n",
       "    </tr>\n",
       "    <tr>\n",
       "      <th>1</th>\n",
       "      <td>nanf</td>\n",
       "      <td>0</td>\n",
       "      <td>0</td>\n",
       "      <td>1</td>\n",
       "      <td>Nonfiction</td>\n",
       "    </tr>\n",
       "    <tr>\n",
       "      <th>2</th>\n",
       "      <td>cafic</td>\n",
       "      <td>1</td>\n",
       "      <td>0</td>\n",
       "      <td>0</td>\n",
       "      <td>Fiction</td>\n",
       "    </tr>\n",
       "    <tr>\n",
       "      <th>3</th>\n",
       "      <td>caln</td>\n",
       "      <td>0</td>\n",
       "      <td>1</td>\n",
       "      <td>0</td>\n",
       "      <td>Language</td>\n",
       "    </tr>\n",
       "    <tr>\n",
       "      <th>4</th>\n",
       "      <td>nafic</td>\n",
       "      <td>1</td>\n",
       "      <td>0</td>\n",
       "      <td>0</td>\n",
       "      <td>Fiction</td>\n",
       "    </tr>\n",
       "  </tbody>\n",
       "</table>\n",
       "</div>"
      ],
      "text/plain": [
       "    Code  Fiction  Language  Nonfiction    Category\n",
       "0   canf        0         0           1  Nonfiction\n",
       "1   nanf        0         0           1  Nonfiction\n",
       "2  cafic        1         0           0     Fiction\n",
       "3   caln        0         1           0    Language\n",
       "4  nafic        1         0           0     Fiction"
      ]
     },
     "execution_count": 26,
     "metadata": {},
     "output_type": "execute_result"
    }
   ],
   "source": [
    "group_df = pd.get_dummies(codes_df[\"Category Group\"])\n",
    "group_df = group_df.merge(codes_df, left_index=True, right_index=True,how='left')\n",
    "group_df = group_df[[\"Code\",\"Fiction\",\"Language\",\"Nonfiction\"]]\n",
    "group_df[\"Category\"] = codes_df[\"Category Group\"]\n",
    "group_df.head()"
   ]
  },
  {
   "cell_type": "markdown",
   "metadata": {},
   "source": [
    "### Merge it all Together"
   ]
  },
  {
   "cell_type": "code",
   "execution_count": 27,
   "metadata": {},
   "outputs": [],
   "source": [
    "code_feature_df = codes_df.merge(group_df,on=\"Code\",how=\"left\")\n",
    "code_feature_df = code_feature_df.merge(subgroup_df,on=\"Code\",how=\"left\")\n",
    "code_feature_df = code_feature_df.merge(genre_df,on=\"Code\",how=\"left\")\n",
    "code_feature_df = code_feature_df[[\"Code\",\"Description_x\",\"Category\",\"Fiction\",\"Language\",\"Nonfiction\",\n",
    "                                   \"Biography\",\"Large Print\",\"Picture\",\"Children\",\"Teen\",\"Mystery\",\"AfAm\",\n",
    "                                   \"Comic\"]]\n",
    "code_feature_df = code_feature_df.rename({\"Description_x\":\"Description\"},axis=1)"
   ]
  },
  {
   "cell_type": "code",
   "execution_count": 28,
   "metadata": {},
   "outputs": [
    {
     "data": {
      "text/html": [
       "<div>\n",
       "<style scoped>\n",
       "    .dataframe tbody tr th:only-of-type {\n",
       "        vertical-align: middle;\n",
       "    }\n",
       "\n",
       "    .dataframe tbody tr th {\n",
       "        vertical-align: top;\n",
       "    }\n",
       "\n",
       "    .dataframe thead th {\n",
       "        text-align: right;\n",
       "    }\n",
       "</style>\n",
       "<table border=\"1\" class=\"dataframe\">\n",
       "  <thead>\n",
       "    <tr style=\"text-align: right;\">\n",
       "      <th></th>\n",
       "      <th>Code</th>\n",
       "      <th>Description</th>\n",
       "      <th>Category</th>\n",
       "      <th>Fiction</th>\n",
       "      <th>Language</th>\n",
       "      <th>Nonfiction</th>\n",
       "      <th>Biography</th>\n",
       "      <th>Large Print</th>\n",
       "      <th>Picture</th>\n",
       "      <th>Children</th>\n",
       "      <th>Teen</th>\n",
       "      <th>Mystery</th>\n",
       "      <th>AfAm</th>\n",
       "      <th>Comic</th>\n",
       "    </tr>\n",
       "  </thead>\n",
       "  <tbody>\n",
       "    <tr>\n",
       "      <th>0</th>\n",
       "      <td>canf</td>\n",
       "      <td>CA-Nonfiction</td>\n",
       "      <td>Nonfiction</td>\n",
       "      <td>0</td>\n",
       "      <td>0</td>\n",
       "      <td>1</td>\n",
       "      <td>0</td>\n",
       "      <td>0</td>\n",
       "      <td>0</td>\n",
       "      <td>0</td>\n",
       "      <td>0</td>\n",
       "      <td>0</td>\n",
       "      <td>0</td>\n",
       "      <td>0</td>\n",
       "    </tr>\n",
       "    <tr>\n",
       "      <th>1</th>\n",
       "      <td>nanf</td>\n",
       "      <td>NA-Nonfiction</td>\n",
       "      <td>Nonfiction</td>\n",
       "      <td>0</td>\n",
       "      <td>0</td>\n",
       "      <td>1</td>\n",
       "      <td>0</td>\n",
       "      <td>0</td>\n",
       "      <td>0</td>\n",
       "      <td>0</td>\n",
       "      <td>0</td>\n",
       "      <td>0</td>\n",
       "      <td>0</td>\n",
       "      <td>0</td>\n",
       "    </tr>\n",
       "    <tr>\n",
       "      <th>2</th>\n",
       "      <td>cafic</td>\n",
       "      <td>CA3-Fiction</td>\n",
       "      <td>Fiction</td>\n",
       "      <td>1</td>\n",
       "      <td>0</td>\n",
       "      <td>0</td>\n",
       "      <td>0</td>\n",
       "      <td>0</td>\n",
       "      <td>0</td>\n",
       "      <td>0</td>\n",
       "      <td>0</td>\n",
       "      <td>0</td>\n",
       "      <td>0</td>\n",
       "      <td>0</td>\n",
       "    </tr>\n",
       "    <tr>\n",
       "      <th>3</th>\n",
       "      <td>caln</td>\n",
       "      <td>CA1-Language</td>\n",
       "      <td>Language</td>\n",
       "      <td>0</td>\n",
       "      <td>1</td>\n",
       "      <td>0</td>\n",
       "      <td>0</td>\n",
       "      <td>0</td>\n",
       "      <td>0</td>\n",
       "      <td>0</td>\n",
       "      <td>0</td>\n",
       "      <td>0</td>\n",
       "      <td>0</td>\n",
       "      <td>0</td>\n",
       "    </tr>\n",
       "    <tr>\n",
       "      <th>4</th>\n",
       "      <td>nafic</td>\n",
       "      <td>NA-Fiction</td>\n",
       "      <td>Fiction</td>\n",
       "      <td>1</td>\n",
       "      <td>0</td>\n",
       "      <td>0</td>\n",
       "      <td>0</td>\n",
       "      <td>0</td>\n",
       "      <td>0</td>\n",
       "      <td>0</td>\n",
       "      <td>0</td>\n",
       "      <td>0</td>\n",
       "      <td>0</td>\n",
       "      <td>0</td>\n",
       "    </tr>\n",
       "  </tbody>\n",
       "</table>\n",
       "</div>"
      ],
      "text/plain": [
       "    Code    Description    Category  Fiction  Language  Nonfiction  Biography  \\\n",
       "0   canf  CA-Nonfiction  Nonfiction        0         0           1          0   \n",
       "1   nanf  NA-Nonfiction  Nonfiction        0         0           1          0   \n",
       "2  cafic    CA3-Fiction     Fiction        1         0           0          0   \n",
       "3   caln   CA1-Language    Language        0         1           0          0   \n",
       "4  nafic     NA-Fiction     Fiction        1         0           0          0   \n",
       "\n",
       "   Large Print  Picture  Children  Teen  Mystery  AfAm  Comic  \n",
       "0            0        0         0     0        0     0      0  \n",
       "1            0        0         0     0        0     0      0  \n",
       "2            0        0         0     0        0     0      0  \n",
       "3            0        0         0     0        0     0      0  \n",
       "4            0        0         0     0        0     0      0  "
      ]
     },
     "execution_count": 28,
     "metadata": {},
     "output_type": "execute_result"
    }
   ],
   "source": [
    "code_feature_df.head(5)"
   ]
  },
  {
   "cell_type": "code",
   "execution_count": 29,
   "metadata": {},
   "outputs": [],
   "source": [
    "code_feature_df.to_csv(\"../01_Data/06_Features/Dictionary_Features.csv\")"
   ]
  },
  {
   "cell_type": "code",
   "execution_count": null,
   "metadata": {},
   "outputs": [],
   "source": []
  }
 ],
 "metadata": {
  "kernelspec": {
   "display_name": "Python 3",
   "language": "python",
   "name": "python3"
  },
  "language_info": {
   "codemirror_mode": {
    "name": "ipython",
    "version": 3
   },
   "file_extension": ".py",
   "mimetype": "text/x-python",
   "name": "python",
   "nbconvert_exporter": "python",
   "pygments_lexer": "ipython3",
   "version": "3.6.5"
  }
 },
 "nbformat": 4,
 "nbformat_minor": 2
}
