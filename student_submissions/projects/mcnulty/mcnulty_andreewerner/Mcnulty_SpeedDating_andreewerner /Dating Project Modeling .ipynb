{
 "cells": [
  {
   "cell_type": "code",
   "execution_count": 4,
   "metadata": {},
   "outputs": [],
   "source": [
    "import pandas as pd\n",
    "import numpy as np\n",
    "import seaborn as sns\n",
    "from sklearn.model_selection import train_test_split, cross_val_score, GridSearchCV\n",
    "from sklearn.neighbors import KNeighborsClassifier\n",
    "from sklearn.linear_model import LogisticRegression\n",
    "\n",
    "from sklearn import metrics\n",
    "import matplotlib.pyplot as plt\n",
    "%matplotlib inline\n"
   ]
  },
  {
   "cell_type": "code",
   "execution_count": 8,
   "metadata": {},
   "outputs": [],
   "source": [
    "dating1=pd.read_csv('/Users/andreewerner/Downloads/SpeedDatingDataCleaned.csv')\n"
   ]
  },
  {
   "cell_type": "code",
   "execution_count": 9,
   "metadata": {},
   "outputs": [],
   "source": [
    "X = dating1.drop('match', axis=1)\n",
    "y = dating1['match']\n",
    "for i in X.columns:\n",
    "    if 'Unnamed' in i:\n",
    "        del X[i]\n",
    "X_train, X_test, y_train, y_test = train_test_split(X, y, test_size=.1)\n",
    "\n",
    "X_train, X_val, y_train, y_val = train_test_split(X, y, test_size=.2)\n"
   ]
  },
  {
   "cell_type": "code",
   "execution_count": 10,
   "metadata": {},
   "outputs": [
    {
     "name": "stdout",
     "output_type": "stream",
     "text": [
      "0.8622336517266715\n",
      "0.8104335047759\n"
     ]
    }
   ],
   "source": [
    "model = KNeighborsClassifier(n_neighbors=5)\n",
    "model_knn=model.fit(X_train, y_train)\n",
    "y_pred_train = model_knn.predict(X_train)\n",
    "y_pred_val=model_knn.predict(X_val)\n",
    "print(metrics.accuracy_score(y_train, y_pred_train))\n",
    "print (metrics.accuracy_score(y_val, y_pred_val))"
   ]
  },
  {
   "cell_type": "code",
   "execution_count": 11,
   "metadata": {},
   "outputs": [
    {
     "name": "stderr",
     "output_type": "stream",
     "text": [
      "/Library/Frameworks/Python.framework/Versions/3.6/lib/python3.6/site-packages/sklearn/linear_model/logistic.py:432: FutureWarning: Default solver will be changed to 'lbfgs' in 0.22. Specify a solver to silence this warning.\n",
      "  FutureWarning)\n"
     ]
    },
    {
     "name": "stdout",
     "output_type": "stream",
     "text": [
      "0.8433137398971344\n",
      "0.8273328434974284\n"
     ]
    }
   ],
   "source": [
    "model = LogisticRegression(C=1000)\n",
    "model_logreg=model.fit(X_train, y_train)\n",
    "y_pred_train = model_logreg.predict(X_train)\n",
    "y_pred_val=model_logreg.predict(X_val)\n",
    "print(metrics.accuracy_score(y_train, y_pred_train))\n",
    "print (metrics.accuracy_score(y_val, y_pred_val))"
   ]
  },
  {
   "cell_type": "code",
   "execution_count": 12,
   "metadata": {},
   "outputs": [
    {
     "name": "stdout",
     "output_type": "stream",
     "text": [
      "0.744121969140338\n",
      "0.7127112417340191\n"
     ]
    }
   ],
   "source": [
    "from sklearn.naive_bayes import GaussianNB\n",
    "\n",
    "model = GaussianNB()\n",
    "model_gnb=model.fit(X_train, y_train)\n",
    "y_pred_train = model_gnb.predict(X_train)\n",
    "y_pred_val=model_gnb.predict(X_val)\n",
    "print(metrics.accuracy_score(y_train, y_pred_train))\n",
    "print(metrics.accuracy_score(y_val, y_pred_val))"
   ]
  },
  {
   "cell_type": "code",
   "execution_count": 13,
   "metadata": {},
   "outputs": [
    {
     "name": "stdout",
     "output_type": "stream",
     "text": [
      "1.0\n",
      "0.7707567964731815\n"
     ]
    }
   ],
   "source": [
    "from sklearn.tree import DecisionTreeClassifier\n",
    "model = DecisionTreeClassifier()\n",
    "model_dt=model.fit(X_train, y_train)\n",
    "y_pred_train = model_dt.predict(X_train)\n",
    "y_pred_val = model_dt.predict(X_val)\n",
    "\n",
    "print(metrics.accuracy_score(y_train, y_pred_train))\n",
    "print(metrics.accuracy_score(y_val, y_pred_val))"
   ]
  },
  {
   "cell_type": "code",
   "execution_count": 14,
   "metadata": {},
   "outputs": [
    {
     "name": "stdout",
     "output_type": "stream",
     "text": [
      "Random Forest Training Score: 0.9825495958853784\n",
      "Random Forest Validation Score: 0.8346803820720059\n"
     ]
    },
    {
     "name": "stderr",
     "output_type": "stream",
     "text": [
      "/Library/Frameworks/Python.framework/Versions/3.6/lib/python3.6/site-packages/sklearn/ensemble/forest.py:248: FutureWarning: The default value of n_estimators will change from 10 in version 0.20 to 100 in 0.22.\n",
      "  \"10 in version 0.20 to 100 in 0.22.\", FutureWarning)\n"
     ]
    }
   ],
   "source": [
    "from sklearn.ensemble import RandomForestClassifier\n",
    "model = RandomForestClassifier()\n",
    "model_rf=model.fit(X_train, y_train)\n",
    "y_pred_train= model_rf.predict(X_train)\n",
    "y_pred_val=model_rf.predict(X_val)\n",
    "print('Random Forest Training Score:', metrics.accuracy_score(y_train, y_pred_train))\n",
    "print('Random Forest Validation Score:', metrics.accuracy_score(y_val, y_pred_val))"
   ]
  },
  {
   "cell_type": "code",
   "execution_count": 15,
   "metadata": {},
   "outputs": [],
   "source": [
    "from xgboost import XGBClassifier\n",
    "import xgboost as xgb\n"
   ]
  },
  {
   "cell_type": "code",
   "execution_count": 16,
   "metadata": {},
   "outputs": [
    {
     "name": "stdout",
     "output_type": "stream",
     "text": [
      "[0]\tvalidation_0-error:0.164401\tvalidation_1-error:0.164585\n",
      "Multiple eval metrics have been passed: 'validation_1-error' will be used for early stopping.\n",
      "\n",
      "Will train until validation_1-error hasn't improved in 50 rounds.\n",
      "[1]\tvalidation_0-error:0.154482\tvalidation_1-error:0.159442\n",
      "[2]\tvalidation_0-error:0.154115\tvalidation_1-error:0.160176\n",
      "[3]\tvalidation_0-error:0.155217\tvalidation_1-error:0.158707\n",
      "[4]\tvalidation_0-error:0.15338\tvalidation_1-error:0.158707\n",
      "[5]\tvalidation_0-error:0.152645\tvalidation_1-error:0.156503\n",
      "[6]\tvalidation_0-error:0.154666\tvalidation_1-error:0.159442\n",
      "[7]\tvalidation_0-error:0.15191\tvalidation_1-error:0.160176\n",
      "[8]\tvalidation_0-error:0.154666\tvalidation_1-error:0.155768\n",
      "[9]\tvalidation_0-error:0.157054\tvalidation_1-error:0.156503\n",
      "[10]\tvalidation_0-error:0.155584\tvalidation_1-error:0.156503\n",
      "[11]\tvalidation_0-error:0.154849\tvalidation_1-error:0.157237\n",
      "[12]\tvalidation_0-error:0.155033\tvalidation_1-error:0.157972\n",
      "[13]\tvalidation_0-error:0.155217\tvalidation_1-error:0.157237\n",
      "[14]\tvalidation_0-error:0.156503\tvalidation_1-error:0.155768\n",
      "[15]\tvalidation_0-error:0.155951\tvalidation_1-error:0.157237\n",
      "[16]\tvalidation_0-error:0.155951\tvalidation_1-error:0.157237\n",
      "[17]\tvalidation_0-error:0.1554\tvalidation_1-error:0.156503\n",
      "[18]\tvalidation_0-error:0.154849\tvalidation_1-error:0.155768\n",
      "[19]\tvalidation_0-error:0.155584\tvalidation_1-error:0.155768\n",
      "[20]\tvalidation_0-error:0.155217\tvalidation_1-error:0.155768\n",
      "[21]\tvalidation_0-error:0.155033\tvalidation_1-error:0.155768\n",
      "[22]\tvalidation_0-error:0.154849\tvalidation_1-error:0.155768\n",
      "[23]\tvalidation_0-error:0.155217\tvalidation_1-error:0.155768\n",
      "[24]\tvalidation_0-error:0.155768\tvalidation_1-error:0.155768\n",
      "[25]\tvalidation_0-error:0.155951\tvalidation_1-error:0.155033\n",
      "[26]\tvalidation_0-error:0.155584\tvalidation_1-error:0.155768\n",
      "[27]\tvalidation_0-error:0.154849\tvalidation_1-error:0.155768\n",
      "[28]\tvalidation_0-error:0.155033\tvalidation_1-error:0.155033\n",
      "[29]\tvalidation_0-error:0.154849\tvalidation_1-error:0.155033\n",
      "[30]\tvalidation_0-error:0.155033\tvalidation_1-error:0.155033\n",
      "[31]\tvalidation_0-error:0.154666\tvalidation_1-error:0.155768\n",
      "[32]\tvalidation_0-error:0.154849\tvalidation_1-error:0.154298\n",
      "[33]\tvalidation_0-error:0.155033\tvalidation_1-error:0.154298\n",
      "[34]\tvalidation_0-error:0.155217\tvalidation_1-error:0.155033\n",
      "[35]\tvalidation_0-error:0.154849\tvalidation_1-error:0.155768\n",
      "[36]\tvalidation_0-error:0.154666\tvalidation_1-error:0.156503\n",
      "[37]\tvalidation_0-error:0.155033\tvalidation_1-error:0.154298\n",
      "[38]\tvalidation_0-error:0.155033\tvalidation_1-error:0.155033\n",
      "[39]\tvalidation_0-error:0.155033\tvalidation_1-error:0.155033\n",
      "[40]\tvalidation_0-error:0.155217\tvalidation_1-error:0.152829\n",
      "[41]\tvalidation_0-error:0.154115\tvalidation_1-error:0.154298\n",
      "[42]\tvalidation_0-error:0.154115\tvalidation_1-error:0.153564\n",
      "[43]\tvalidation_0-error:0.153747\tvalidation_1-error:0.154298\n",
      "[44]\tvalidation_0-error:0.153012\tvalidation_1-error:0.154298\n",
      "[45]\tvalidation_0-error:0.15191\tvalidation_1-error:0.154298\n",
      "[46]\tvalidation_0-error:0.15191\tvalidation_1-error:0.155033\n",
      "[47]\tvalidation_0-error:0.152094\tvalidation_1-error:0.155033\n",
      "[48]\tvalidation_0-error:0.152094\tvalidation_1-error:0.155033\n",
      "[49]\tvalidation_0-error:0.15191\tvalidation_1-error:0.155033\n",
      "[50]\tvalidation_0-error:0.152645\tvalidation_1-error:0.154298\n",
      "[51]\tvalidation_0-error:0.151359\tvalidation_1-error:0.154298\n",
      "[52]\tvalidation_0-error:0.152094\tvalidation_1-error:0.155033\n",
      "[53]\tvalidation_0-error:0.152461\tvalidation_1-error:0.155033\n",
      "[54]\tvalidation_0-error:0.151727\tvalidation_1-error:0.155033\n",
      "[55]\tvalidation_0-error:0.152278\tvalidation_1-error:0.155033\n",
      "[56]\tvalidation_0-error:0.151727\tvalidation_1-error:0.155033\n",
      "[57]\tvalidation_0-error:0.152094\tvalidation_1-error:0.155033\n",
      "[58]\tvalidation_0-error:0.151359\tvalidation_1-error:0.155033\n",
      "[59]\tvalidation_0-error:0.15191\tvalidation_1-error:0.155033\n",
      "[60]\tvalidation_0-error:0.151727\tvalidation_1-error:0.155033\n",
      "[61]\tvalidation_0-error:0.151543\tvalidation_1-error:0.155033\n",
      "[62]\tvalidation_0-error:0.151359\tvalidation_1-error:0.155033\n",
      "[63]\tvalidation_0-error:0.150992\tvalidation_1-error:0.154298\n",
      "[64]\tvalidation_0-error:0.150625\tvalidation_1-error:0.154298\n",
      "[65]\tvalidation_0-error:0.150992\tvalidation_1-error:0.154298\n",
      "[66]\tvalidation_0-error:0.150625\tvalidation_1-error:0.154298\n",
      "[67]\tvalidation_0-error:0.150257\tvalidation_1-error:0.154298\n",
      "[68]\tvalidation_0-error:0.150441\tvalidation_1-error:0.154298\n",
      "[69]\tvalidation_0-error:0.150625\tvalidation_1-error:0.154298\n",
      "[70]\tvalidation_0-error:0.150808\tvalidation_1-error:0.154298\n",
      "[71]\tvalidation_0-error:0.150992\tvalidation_1-error:0.154298\n",
      "[72]\tvalidation_0-error:0.151176\tvalidation_1-error:0.154298\n",
      "[73]\tvalidation_0-error:0.150625\tvalidation_1-error:0.154298\n",
      "[74]\tvalidation_0-error:0.150441\tvalidation_1-error:0.154298\n",
      "[75]\tvalidation_0-error:0.150257\tvalidation_1-error:0.154298\n",
      "[76]\tvalidation_0-error:0.14989\tvalidation_1-error:0.154298\n",
      "[77]\tvalidation_0-error:0.14989\tvalidation_1-error:0.154298\n",
      "[78]\tvalidation_0-error:0.150257\tvalidation_1-error:0.153564\n",
      "[79]\tvalidation_0-error:0.150625\tvalidation_1-error:0.153564\n",
      "[80]\tvalidation_0-error:0.150441\tvalidation_1-error:0.153564\n",
      "[81]\tvalidation_0-error:0.150073\tvalidation_1-error:0.153564\n",
      "[82]\tvalidation_0-error:0.149522\tvalidation_1-error:0.154298\n",
      "[83]\tvalidation_0-error:0.149706\tvalidation_1-error:0.154298\n",
      "[84]\tvalidation_0-error:0.149522\tvalidation_1-error:0.154298\n",
      "[85]\tvalidation_0-error:0.149522\tvalidation_1-error:0.154298\n",
      "[86]\tvalidation_0-error:0.149522\tvalidation_1-error:0.153564\n",
      "[87]\tvalidation_0-error:0.149706\tvalidation_1-error:0.153564\n",
      "[88]\tvalidation_0-error:0.149706\tvalidation_1-error:0.153564\n",
      "[89]\tvalidation_0-error:0.14989\tvalidation_1-error:0.152829\n",
      "[90]\tvalidation_0-error:0.149522\tvalidation_1-error:0.152829\n",
      "Stopping. Best iteration:\n",
      "[40]\tvalidation_0-error:0.155217\tvalidation_1-error:0.152829\n",
      "\n"
     ]
    }
   ],
   "source": [
    "gbm = xgb.XGBClassifier( \n",
    "                        n_estimators=30000,\n",
    "                        max_depth=4,\n",
    "                        objective='binary:logistic', #new objective\n",
    "                        learning_rate=.02, \n",
    "                        subsample=.8,\n",
    "                        min_child_weight=1,\n",
    "                        colsample_bytree=.8\n",
    "                       )\n",
    "\n",
    "eval_set=[(X_train,y_train),(X_val,y_val)]\n",
    "fit_model = gbm.fit( \n",
    "                    X_train, y_train, \n",
    "                    eval_set=eval_set,\n",
    "                    eval_metric='error', #new evaluation metric: classification error (could also use AUC, e.g.)\n",
    "                    early_stopping_rounds=50,\n",
    "                    verbose=True #gives output log as below\n",
    "                   )\n",
    "\n"
   ]
  },
  {
   "cell_type": "code",
   "execution_count": 17,
   "metadata": {},
   "outputs": [
    {
     "data": {
      "text/plain": [
       "{'choosy': 25.875662281949996,\n",
       " 'intel_o': 20.194204453176464,\n",
       " 'sinc3_1': 5.02548345,\n",
       " 'pid': 8.120391153227272,\n",
       " 'intel1_2': 6.454423332,\n",
       " 'sinc': 16.082031623312503,\n",
       " 'iid': 6.253282026363636,\n",
       " 'sinc7_2': 8.878479002499999,\n",
       " 'intel7_3': 4.71075439,\n",
       " 'tvsports': 5.9660838852,\n",
       " 'intel': 19.222763588133333,\n",
       " 'date_3': 16.03608386666667,\n",
       " 'desirability': 28.47094430708608,\n",
       " 'met_o': 11.095550681924243,\n",
       " 'shopping': 7.786769674999999,\n",
       " 'match_es': 13.763542386842106,\n",
       " 'pf_o_fun': 5.499661094130434,\n",
       " 'pf_o_sin': 6.113524900606062,\n",
       " 'pf_o_int': 4.1192849713125,\n",
       " 'amb_o': 7.098158261166665,\n",
       " 'sinc_o': 17.646700700677965,\n",
       " 'reading': 6.22729397,\n",
       " 'sinc4_3': 5.03723145,\n",
       " 'order': 4.780556040666667,\n",
       " 'amb3_2': 4.111394882333333,\n",
       " 'fun1_3': 10.004450874615383,\n",
       " 'tv': 4.806371816272727,\n",
       " 'age': 8.510024176,\n",
       " 'satis_2': 5.4609434204,\n",
       " 'amb': 5.346768521,\n",
       " 'tuition': 8.17842007,\n",
       " 'career_c': 6.03316402,\n",
       " 'museums': 2.7236702450000005,\n",
       " 'art': 4.3074902046,\n",
       " 'expnum': 7.171096798571428,\n",
       " 'dummy_harvard': 1.3226928716666666,\n",
       " 'position': 4.015266069125,\n",
       " 'amb1_3': 6.717452458285715,\n",
       " 'intel2_2': 5.07364146,\n",
       " 'imprelig': 6.1573091333333325,\n",
       " 'attr4_3': 6.826200643333333,\n",
       " 'idg': 6.8855633733333335,\n",
       " 'go_out': 9.079794563333333,\n",
       " 'fun3_1': 5.514759699999999,\n",
       " 'age_o': 6.5931900674444455,\n",
       " 'fun4_2': 4.565474507499999,\n",
       " 'attr1_s': 4.1589355396666665,\n",
       " 'intel7_2': 4.793074744285714,\n",
       " 'fun1_2': 9.653932580000001,\n",
       " 'fun7_2': 7.12765503,\n",
       " 'sinc3_2': 5.01042348225,\n",
       " 'attr3_s': 5.26659012,\n",
       " 'sinc4_2': 9.4980356332,\n",
       " 'numdat_2': 6.497500896666666,\n",
       " 'attr5_3': 1.88493347,\n",
       " 'field_cd': 2.355913165,\n",
       " 'fun3_2': 3.153500174,\n",
       " 'dining': 7.86678346,\n",
       " 'positin1': 5.06833267,\n",
       " 'shar1_1': 5.371419875000001,\n",
       " 'partner': 3.9984689755555567,\n",
       " 'pf_o_sha': 9.81830896173913,\n",
       " 'round': 12.125963420000001,\n",
       " 'sports': 4.87011528,\n",
       " 'concerts': 3.917690276666667,\n",
       " 'pf_o_amb': 5.65252525175,\n",
       " 'date': 3.486580440571429,\n",
       " 'pf_o_att': 6.068556785333332,\n",
       " 'hiking': 5.295389723333334,\n",
       " 'attr1_1': 5.906761329999999,\n",
       " 'fun3_3': 6.59507751,\n",
       " 'fun1_s': 2.07043457,\n",
       " 'attr3_1': 2.48616028,\n",
       " 'shar4_1': 4.1324318233333335,\n",
       " 'imprace': 4.876782595,\n",
       " 'shar1_3': 9.245285983333334,\n",
       " 'science': 6.47594118,\n",
       " 'sinc3_3': 3.9480838775,\n",
       " 'sinc5_2': 3.47770691,\n",
       " 'condtn': 12.810615780000001,\n",
       " 'intel2_1': 8.43427467,\n",
       " 'id': 4.283724863333334,\n",
       " 'fun2_1': 2.2302227,\n",
       " 'gender': 2.18491745,\n",
       " 'sinc3_s': 2.71959877,\n",
       " 'mn_sat': 4.896189768116667,\n",
       " 'exphappy': 3.5509484600000003,\n",
       " 'yoga': 4.450474025,\n",
       " 'gaming': 1.5828275668,\n",
       " 'fun3_s': 2.096383095,\n",
       " 'amb7_2': 1.7487589533333334,\n",
       " 'attr2_1': 5.50308847975,\n",
       " 'samerace': 4.5614152,\n",
       " 'attr7_2': 1.95428467,\n",
       " 'intel4_3': 0.5044269565,\n",
       " 'dummy_cornell': 3.9513855,\n",
       " 'income': 3.2062928199999994,\n",
       " 'sinc2_2': 9.299298913333333,\n",
       " 'from_nj': 5.84384155,\n",
       " 'race_o': 10.225324195714288,\n",
       " 'intel4_2': 4.50863266,\n",
       " 'num_in_3': 6.4506492600000005,\n",
       " 'attr2_2': 4.37746429,\n",
       " 'attr4_2': 5.121731755,\n",
       " 'amb3_3': 10.1261444,\n",
       " 'clubbing': 7.601156235,\n",
       " 'attr1_2': 4.8891048433333335,\n",
       " 'numdat_3': 9.28896999,\n",
       " 'shar7_3': 1.835327145,\n",
       " 'attr7_3': 3.10715866,\n",
       " 'sinc1_s': 3.7533474906000004,\n",
       " 'attr3_2': 6.2233085599999995,\n",
       " 'from_china': 0.663848877,\n",
       " 'intel4_1': 0.755210876,\n",
       " 'medicine': 2.29039764,\n",
       " 'attr3_3': 3.8559761,\n",
       " 'sinc5_1': 4.67951965,\n",
       " 'attr4_1': 2.628522875,\n",
       " 'attr5_2': 7.70638084,\n",
       " 'music': 3.04368591,\n",
       " 'fun2_2': 3.4564385404999998,\n",
       " 'intel3_s': 4.74765015,\n",
       " 'dummy_boston college': 3.30252075,\n",
       " 'amb1_2': 6.05549049,\n",
       " 'race': 5.10661411,\n",
       " 'attr5_1': 4.83802986,\n",
       " 'from_europe': 5.27124023,\n",
       " 'amb4_3': 0.475250244,\n",
       " 'amb1_s': 4.3760376,\n",
       " 'amb4_2': 6.2338419,\n",
       " 'amb1_1': 10.0782347,\n",
       " 'attr2_3': 5.12313175,\n",
       " 'wave': 6.12271786,\n",
       " 'intel3_2': 3.53075409,\n",
       " 'intel1_1': 9.72933578,\n",
       " 'shar7_2': 1.01072311,\n",
       " 'fun1_1': 5.71391535,\n",
       " 'amb2_3': 2.15579987,\n",
       " 'dummy_amherst college': 2.2322197}"
      ]
     },
     "execution_count": 17,
     "metadata": {},
     "output_type": "execute_result"
    }
   ],
   "source": [
    "gbm.get_booster().get_score(importance_type='gain') #extract raw gain scores\n"
   ]
  },
  {
   "cell_type": "code",
   "execution_count": 18,
   "metadata": {},
   "outputs": [
    {
     "data": {
      "text/plain": [
       "0.8471711976487877"
      ]
     },
     "execution_count": 18,
     "metadata": {},
     "output_type": "execute_result"
    }
   ],
   "source": [
    "metrics.accuracy_score(y_val, gbm.predict(X_val, ntree_limit=gbm.best_ntree_limit)) "
   ]
  },
  {
   "cell_type": "code",
   "execution_count": 19,
   "metadata": {},
   "outputs": [
    {
     "data": {
      "text/plain": [
       "0.8678414096916299"
      ]
     },
     "execution_count": 19,
     "metadata": {},
     "output_type": "execute_result"
    }
   ],
   "source": [
    "metrics.accuracy_score(y_test, gbm.predict(X_test, ntree_limit=gbm.best_ntree_limit)) "
   ]
  },
  {
   "cell_type": "code",
   "execution_count": 20,
   "metadata": {
    "scrolled": true
   },
   "outputs": [
    {
     "name": "stdout",
     "output_type": "stream",
     "text": [
      "Training Accuracy: 0.8802351212343865\n",
      "Validation Accuracy: 0.8486407053637032\n",
      "Validation Accuracy: 0.8486407053637032\n"
     ]
    }
   ],
   "source": [
    "from sklearn.ensemble import GradientBoostingClassifier\n",
    "\n",
    "model = GradientBoostingClassifier()\n",
    "model_xgb = model.fit(X_train, y_train)\n",
    "y_pred_train = model_xgb.predict(X_train)\n",
    "y_pred_val = model_xgb.predict(X_val)\n",
    "print('Training Accuracy:', metrics.accuracy_score(y_train, y_pred_train))\n",
    "print('Validation Accuracy:', metrics.accuracy_score(y_val, y_pred_val))\n",
    "print('Validation Accuracy:', metrics.accuracy_score(y_val, y_pred_val))\n"
   ]
  },
  {
   "cell_type": "code",
   "execution_count": 21,
   "metadata": {},
   "outputs": [
    {
     "name": "stdout",
     "output_type": "stream",
     "text": [
      "[12:49:54] src/tree/updater_prune.cc:74: tree pruning end, 1 roots, 30 extra nodes, 0 pruned nodes, max_depth=4\n",
      "[12:49:54] src/tree/updater_prune.cc:74: tree pruning end, 1 roots, 30 extra nodes, 0 pruned nodes, max_depth=4\n",
      "[12:49:54] src/tree/updater_prune.cc:74: tree pruning end, 1 roots, 30 extra nodes, 0 pruned nodes, max_depth=4\n",
      "[12:49:54] src/tree/updater_prune.cc:74: tree pruning end, 1 roots, 30 extra nodes, 0 pruned nodes, max_depth=4\n",
      "[12:49:54] src/tree/updater_prune.cc:74: tree pruning end, 1 roots, 30 extra nodes, 0 pruned nodes, max_depth=4\n",
      "[12:49:54] src/tree/updater_prune.cc:74: tree pruning end, 1 roots, 30 extra nodes, 0 pruned nodes, max_depth=4\n",
      "[12:49:54] src/tree/updater_prune.cc:74: tree pruning end, 1 roots, 28 extra nodes, 0 pruned nodes, max_depth=4\n",
      "[12:49:54] src/tree/updater_prune.cc:74: tree pruning end, 1 roots, 30 extra nodes, 0 pruned nodes, max_depth=4\n",
      "[12:49:54] src/tree/updater_prune.cc:74: tree pruning end, 1 roots, 28 extra nodes, 0 pruned nodes, max_depth=4\n",
      "[12:49:55] src/tree/updater_prune.cc:74: tree pruning end, 1 roots, 30 extra nodes, 0 pruned nodes, max_depth=4\n",
      "[12:49:55] src/tree/updater_prune.cc:74: tree pruning end, 1 roots, 28 extra nodes, 0 pruned nodes, max_depth=4\n",
      "[12:49:55] src/tree/updater_prune.cc:74: tree pruning end, 1 roots, 30 extra nodes, 0 pruned nodes, max_depth=4\n",
      "[12:49:55] src/tree/updater_prune.cc:74: tree pruning end, 1 roots, 26 extra nodes, 0 pruned nodes, max_depth=4\n",
      "[12:49:55] src/tree/updater_prune.cc:74: tree pruning end, 1 roots, 30 extra nodes, 0 pruned nodes, max_depth=4\n",
      "[12:49:55] src/tree/updater_prune.cc:74: tree pruning end, 1 roots, 28 extra nodes, 0 pruned nodes, max_depth=4\n",
      "[12:49:55] src/tree/updater_prune.cc:74: tree pruning end, 1 roots, 30 extra nodes, 0 pruned nodes, max_depth=4\n",
      "[12:49:55] src/tree/updater_prune.cc:74: tree pruning end, 1 roots, 30 extra nodes, 0 pruned nodes, max_depth=4\n",
      "[12:49:55] src/tree/updater_prune.cc:74: tree pruning end, 1 roots, 26 extra nodes, 0 pruned nodes, max_depth=4\n",
      "[12:49:55] src/tree/updater_prune.cc:74: tree pruning end, 1 roots, 30 extra nodes, 0 pruned nodes, max_depth=4\n",
      "[12:49:55] src/tree/updater_prune.cc:74: tree pruning end, 1 roots, 30 extra nodes, 0 pruned nodes, max_depth=4\n",
      "[12:49:55] src/tree/updater_prune.cc:74: tree pruning end, 1 roots, 26 extra nodes, 0 pruned nodes, max_depth=4\n",
      "[12:49:55] src/tree/updater_prune.cc:74: tree pruning end, 1 roots, 30 extra nodes, 0 pruned nodes, max_depth=4\n",
      "[12:49:55] src/tree/updater_prune.cc:74: tree pruning end, 1 roots, 30 extra nodes, 0 pruned nodes, max_depth=4\n",
      "[12:49:55] src/tree/updater_prune.cc:74: tree pruning end, 1 roots, 30 extra nodes, 0 pruned nodes, max_depth=4\n",
      "[12:49:55] src/tree/updater_prune.cc:74: tree pruning end, 1 roots, 30 extra nodes, 0 pruned nodes, max_depth=4\n",
      "[12:49:55] src/tree/updater_prune.cc:74: tree pruning end, 1 roots, 28 extra nodes, 0 pruned nodes, max_depth=4\n",
      "[12:49:55] src/tree/updater_prune.cc:74: tree pruning end, 1 roots, 30 extra nodes, 0 pruned nodes, max_depth=4\n",
      "[12:49:55] src/tree/updater_prune.cc:74: tree pruning end, 1 roots, 30 extra nodes, 0 pruned nodes, max_depth=4\n",
      "[12:49:55] src/tree/updater_prune.cc:74: tree pruning end, 1 roots, 30 extra nodes, 0 pruned nodes, max_depth=4\n",
      "[12:49:55] src/tree/updater_prune.cc:74: tree pruning end, 1 roots, 30 extra nodes, 0 pruned nodes, max_depth=4\n",
      "[12:49:55] src/tree/updater_prune.cc:74: tree pruning end, 1 roots, 30 extra nodes, 0 pruned nodes, max_depth=4\n",
      "[12:49:55] src/tree/updater_prune.cc:74: tree pruning end, 1 roots, 30 extra nodes, 0 pruned nodes, max_depth=4\n",
      "[12:49:56] src/tree/updater_prune.cc:74: tree pruning end, 1 roots, 30 extra nodes, 0 pruned nodes, max_depth=4\n",
      "[12:49:56] src/tree/updater_prune.cc:74: tree pruning end, 1 roots, 24 extra nodes, 0 pruned nodes, max_depth=4\n",
      "[12:49:56] src/tree/updater_prune.cc:74: tree pruning end, 1 roots, 30 extra nodes, 0 pruned nodes, max_depth=4\n",
      "[12:49:56] src/tree/updater_prune.cc:74: tree pruning end, 1 roots, 28 extra nodes, 0 pruned nodes, max_depth=4\n",
      "[12:49:56] src/tree/updater_prune.cc:74: tree pruning end, 1 roots, 30 extra nodes, 0 pruned nodes, max_depth=4\n",
      "[12:49:56] src/tree/updater_prune.cc:74: tree pruning end, 1 roots, 30 extra nodes, 0 pruned nodes, max_depth=4\n",
      "[12:49:56] src/tree/updater_prune.cc:74: tree pruning end, 1 roots, 24 extra nodes, 0 pruned nodes, max_depth=4\n",
      "[12:49:56] src/tree/updater_prune.cc:74: tree pruning end, 1 roots, 30 extra nodes, 0 pruned nodes, max_depth=4\n",
      "[12:49:56] src/tree/updater_prune.cc:74: tree pruning end, 1 roots, 30 extra nodes, 0 pruned nodes, max_depth=4\n",
      "[12:49:56] src/tree/updater_prune.cc:74: tree pruning end, 1 roots, 24 extra nodes, 0 pruned nodes, max_depth=4\n",
      "[12:49:56] src/tree/updater_prune.cc:74: tree pruning end, 1 roots, 30 extra nodes, 0 pruned nodes, max_depth=4\n",
      "[12:49:56] src/tree/updater_prune.cc:74: tree pruning end, 1 roots, 30 extra nodes, 0 pruned nodes, max_depth=4\n",
      "[12:49:56] src/tree/updater_prune.cc:74: tree pruning end, 1 roots, 30 extra nodes, 0 pruned nodes, max_depth=4\n",
      "[12:49:56] src/tree/updater_prune.cc:74: tree pruning end, 1 roots, 24 extra nodes, 0 pruned nodes, max_depth=4\n",
      "[12:49:56] src/tree/updater_prune.cc:74: tree pruning end, 1 roots, 30 extra nodes, 0 pruned nodes, max_depth=4\n",
      "[12:49:56] src/tree/updater_prune.cc:74: tree pruning end, 1 roots, 28 extra nodes, 0 pruned nodes, max_depth=4\n",
      "[12:49:56] src/tree/updater_prune.cc:74: tree pruning end, 1 roots, 30 extra nodes, 0 pruned nodes, max_depth=4\n",
      "[12:49:56] src/tree/updater_prune.cc:74: tree pruning end, 1 roots, 30 extra nodes, 0 pruned nodes, max_depth=4\n",
      "[12:49:56] src/tree/updater_prune.cc:74: tree pruning end, 1 roots, 28 extra nodes, 0 pruned nodes, max_depth=4\n",
      "[12:49:56] src/tree/updater_prune.cc:74: tree pruning end, 1 roots, 28 extra nodes, 0 pruned nodes, max_depth=4\n",
      "[12:49:56] src/tree/updater_prune.cc:74: tree pruning end, 1 roots, 28 extra nodes, 0 pruned nodes, max_depth=4\n",
      "[12:49:56] src/tree/updater_prune.cc:74: tree pruning end, 1 roots, 30 extra nodes, 0 pruned nodes, max_depth=4\n",
      "[12:49:57] src/tree/updater_prune.cc:74: tree pruning end, 1 roots, 30 extra nodes, 0 pruned nodes, max_depth=4\n",
      "[12:49:57] src/tree/updater_prune.cc:74: tree pruning end, 1 roots, 30 extra nodes, 0 pruned nodes, max_depth=4\n",
      "[12:49:57] src/tree/updater_prune.cc:74: tree pruning end, 1 roots, 30 extra nodes, 0 pruned nodes, max_depth=4\n",
      "[12:49:57] src/tree/updater_prune.cc:74: tree pruning end, 1 roots, 30 extra nodes, 0 pruned nodes, max_depth=4\n",
      "[12:49:57] src/tree/updater_prune.cc:74: tree pruning end, 1 roots, 30 extra nodes, 0 pruned nodes, max_depth=4\n",
      "[12:49:57] src/tree/updater_prune.cc:74: tree pruning end, 1 roots, 30 extra nodes, 0 pruned nodes, max_depth=4\n",
      "[12:49:57] src/tree/updater_prune.cc:74: tree pruning end, 1 roots, 30 extra nodes, 0 pruned nodes, max_depth=4\n",
      "[12:49:57] src/tree/updater_prune.cc:74: tree pruning end, 1 roots, 30 extra nodes, 0 pruned nodes, max_depth=4\n",
      "[12:49:57] src/tree/updater_prune.cc:74: tree pruning end, 1 roots, 30 extra nodes, 0 pruned nodes, max_depth=4\n",
      "[12:49:57] src/tree/updater_prune.cc:74: tree pruning end, 1 roots, 28 extra nodes, 0 pruned nodes, max_depth=4\n",
      "[12:49:57] src/tree/updater_prune.cc:74: tree pruning end, 1 roots, 30 extra nodes, 0 pruned nodes, max_depth=4\n",
      "[12:49:57] src/tree/updater_prune.cc:74: tree pruning end, 1 roots, 30 extra nodes, 0 pruned nodes, max_depth=4\n",
      "[12:49:57] src/tree/updater_prune.cc:74: tree pruning end, 1 roots, 30 extra nodes, 0 pruned nodes, max_depth=4\n",
      "[12:49:57] src/tree/updater_prune.cc:74: tree pruning end, 1 roots, 30 extra nodes, 0 pruned nodes, max_depth=4\n",
      "[12:49:57] src/tree/updater_prune.cc:74: tree pruning end, 1 roots, 30 extra nodes, 0 pruned nodes, max_depth=4\n",
      "[12:49:57] src/tree/updater_prune.cc:74: tree pruning end, 1 roots, 28 extra nodes, 0 pruned nodes, max_depth=4\n",
      "[12:49:57] src/tree/updater_prune.cc:74: tree pruning end, 1 roots, 28 extra nodes, 0 pruned nodes, max_depth=4\n",
      "[12:49:57] src/tree/updater_prune.cc:74: tree pruning end, 1 roots, 30 extra nodes, 0 pruned nodes, max_depth=4\n",
      "[12:49:57] src/tree/updater_prune.cc:74: tree pruning end, 1 roots, 26 extra nodes, 0 pruned nodes, max_depth=4\n",
      "[12:49:57] src/tree/updater_prune.cc:74: tree pruning end, 1 roots, 30 extra nodes, 0 pruned nodes, max_depth=4\n",
      "[12:49:57] src/tree/updater_prune.cc:74: tree pruning end, 1 roots, 30 extra nodes, 0 pruned nodes, max_depth=4\n",
      "[12:49:57] src/tree/updater_prune.cc:74: tree pruning end, 1 roots, 26 extra nodes, 0 pruned nodes, max_depth=4\n",
      "[12:49:57] src/tree/updater_prune.cc:74: tree pruning end, 1 roots, 30 extra nodes, 0 pruned nodes, max_depth=4\n"
     ]
    },
    {
     "name": "stdout",
     "output_type": "stream",
     "text": [
      "[12:49:58] src/tree/updater_prune.cc:74: tree pruning end, 1 roots, 26 extra nodes, 0 pruned nodes, max_depth=4\n",
      "[12:49:58] src/tree/updater_prune.cc:74: tree pruning end, 1 roots, 28 extra nodes, 0 pruned nodes, max_depth=4\n",
      "[12:49:58] src/tree/updater_prune.cc:74: tree pruning end, 1 roots, 28 extra nodes, 0 pruned nodes, max_depth=4\n",
      "[12:49:58] src/tree/updater_prune.cc:74: tree pruning end, 1 roots, 26 extra nodes, 0 pruned nodes, max_depth=4\n",
      "[12:49:58] src/tree/updater_prune.cc:74: tree pruning end, 1 roots, 28 extra nodes, 0 pruned nodes, max_depth=4\n",
      "[12:49:58] src/tree/updater_prune.cc:74: tree pruning end, 1 roots, 30 extra nodes, 0 pruned nodes, max_depth=4\n",
      "[12:49:58] src/tree/updater_prune.cc:74: tree pruning end, 1 roots, 30 extra nodes, 0 pruned nodes, max_depth=4\n",
      "[12:49:58] src/tree/updater_prune.cc:74: tree pruning end, 1 roots, 28 extra nodes, 0 pruned nodes, max_depth=4\n",
      "[12:49:58] src/tree/updater_prune.cc:74: tree pruning end, 1 roots, 30 extra nodes, 0 pruned nodes, max_depth=4\n",
      "[12:49:58] src/tree/updater_prune.cc:74: tree pruning end, 1 roots, 26 extra nodes, 0 pruned nodes, max_depth=4\n",
      "[12:49:58] src/tree/updater_prune.cc:74: tree pruning end, 1 roots, 28 extra nodes, 0 pruned nodes, max_depth=4\n",
      "[12:49:58] src/tree/updater_prune.cc:74: tree pruning end, 1 roots, 30 extra nodes, 0 pruned nodes, max_depth=4\n",
      "[12:49:58] src/tree/updater_prune.cc:74: tree pruning end, 1 roots, 26 extra nodes, 0 pruned nodes, max_depth=4\n",
      "[12:49:58] src/tree/updater_prune.cc:74: tree pruning end, 1 roots, 30 extra nodes, 0 pruned nodes, max_depth=4\n",
      "[12:49:58] src/tree/updater_prune.cc:74: tree pruning end, 1 roots, 30 extra nodes, 0 pruned nodes, max_depth=4\n",
      "[12:49:58] src/tree/updater_prune.cc:74: tree pruning end, 1 roots, 28 extra nodes, 0 pruned nodes, max_depth=4\n",
      "[12:49:58] src/tree/updater_prune.cc:74: tree pruning end, 1 roots, 26 extra nodes, 0 pruned nodes, max_depth=4\n",
      "[12:49:58] src/tree/updater_prune.cc:74: tree pruning end, 1 roots, 30 extra nodes, 0 pruned nodes, max_depth=4\n",
      "[12:49:58] src/tree/updater_prune.cc:74: tree pruning end, 1 roots, 30 extra nodes, 0 pruned nodes, max_depth=4\n",
      "[12:49:58] src/tree/updater_prune.cc:74: tree pruning end, 1 roots, 30 extra nodes, 0 pruned nodes, max_depth=4\n",
      "[12:49:58] src/tree/updater_prune.cc:74: tree pruning end, 1 roots, 30 extra nodes, 0 pruned nodes, max_depth=4\n",
      "[12:49:58] src/tree/updater_prune.cc:74: tree pruning end, 1 roots, 30 extra nodes, 0 pruned nodes, max_depth=4\n",
      "[12:49:58] src/tree/updater_prune.cc:74: tree pruning end, 1 roots, 30 extra nodes, 0 pruned nodes, max_depth=4\n",
      "[12:49:58] src/tree/updater_prune.cc:74: tree pruning end, 1 roots, 26 extra nodes, 0 pruned nodes, max_depth=4\n",
      "[12:49:58] src/tree/updater_prune.cc:74: tree pruning end, 1 roots, 30 extra nodes, 0 pruned nodes, max_depth=4\n",
      "[12:49:58] src/tree/updater_prune.cc:74: tree pruning end, 1 roots, 30 extra nodes, 0 pruned nodes, max_depth=4\n",
      "[12:49:59] src/tree/updater_prune.cc:74: tree pruning end, 1 roots, 30 extra nodes, 0 pruned nodes, max_depth=4\n",
      "[12:49:59] src/tree/updater_prune.cc:74: tree pruning end, 1 roots, 30 extra nodes, 0 pruned nodes, max_depth=4\n",
      "[12:49:59] src/tree/updater_prune.cc:74: tree pruning end, 1 roots, 26 extra nodes, 0 pruned nodes, max_depth=4\n",
      "[12:49:59] src/tree/updater_prune.cc:74: tree pruning end, 1 roots, 30 extra nodes, 0 pruned nodes, max_depth=4\n",
      "[12:49:59] src/tree/updater_prune.cc:74: tree pruning end, 1 roots, 30 extra nodes, 0 pruned nodes, max_depth=4\n",
      "[12:49:59] src/tree/updater_prune.cc:74: tree pruning end, 1 roots, 30 extra nodes, 0 pruned nodes, max_depth=4\n",
      "[12:49:59] src/tree/updater_prune.cc:74: tree pruning end, 1 roots, 30 extra nodes, 0 pruned nodes, max_depth=4\n",
      "[12:49:59] src/tree/updater_prune.cc:74: tree pruning end, 1 roots, 26 extra nodes, 0 pruned nodes, max_depth=4\n",
      "[12:49:59] src/tree/updater_prune.cc:74: tree pruning end, 1 roots, 28 extra nodes, 0 pruned nodes, max_depth=4\n",
      "[12:49:59] src/tree/updater_prune.cc:74: tree pruning end, 1 roots, 30 extra nodes, 0 pruned nodes, max_depth=4\n",
      "[12:49:59] src/tree/updater_prune.cc:74: tree pruning end, 1 roots, 26 extra nodes, 0 pruned nodes, max_depth=4\n",
      "[12:49:59] src/tree/updater_prune.cc:74: tree pruning end, 1 roots, 30 extra nodes, 0 pruned nodes, max_depth=4\n",
      "[12:49:59] src/tree/updater_prune.cc:74: tree pruning end, 1 roots, 26 extra nodes, 0 pruned nodes, max_depth=4\n",
      "[12:49:59] src/tree/updater_prune.cc:74: tree pruning end, 1 roots, 30 extra nodes, 0 pruned nodes, max_depth=4\n",
      "[12:49:59] src/tree/updater_prune.cc:74: tree pruning end, 1 roots, 30 extra nodes, 0 pruned nodes, max_depth=4\n",
      "[12:49:59] src/tree/updater_prune.cc:74: tree pruning end, 1 roots, 30 extra nodes, 0 pruned nodes, max_depth=4\n",
      "[12:49:59] src/tree/updater_prune.cc:74: tree pruning end, 1 roots, 26 extra nodes, 0 pruned nodes, max_depth=4\n",
      "[12:49:59] src/tree/updater_prune.cc:74: tree pruning end, 1 roots, 30 extra nodes, 0 pruned nodes, max_depth=4\n",
      "[12:49:59] src/tree/updater_prune.cc:74: tree pruning end, 1 roots, 30 extra nodes, 0 pruned nodes, max_depth=4\n",
      "[12:49:59] src/tree/updater_prune.cc:74: tree pruning end, 1 roots, 30 extra nodes, 0 pruned nodes, max_depth=4\n",
      "[12:49:59] src/tree/updater_prune.cc:74: tree pruning end, 1 roots, 26 extra nodes, 0 pruned nodes, max_depth=4\n",
      "[12:49:59] src/tree/updater_prune.cc:74: tree pruning end, 1 roots, 28 extra nodes, 0 pruned nodes, max_depth=4\n",
      "[12:49:59] src/tree/updater_prune.cc:74: tree pruning end, 1 roots, 30 extra nodes, 0 pruned nodes, max_depth=4\n",
      "[12:49:59] src/tree/updater_prune.cc:74: tree pruning end, 1 roots, 26 extra nodes, 0 pruned nodes, max_depth=4\n",
      "[12:49:59] src/tree/updater_prune.cc:74: tree pruning end, 1 roots, 30 extra nodes, 0 pruned nodes, max_depth=4\n",
      "[12:50:00] src/tree/updater_prune.cc:74: tree pruning end, 1 roots, 30 extra nodes, 0 pruned nodes, max_depth=4\n",
      "[12:50:00] src/tree/updater_prune.cc:74: tree pruning end, 1 roots, 28 extra nodes, 0 pruned nodes, max_depth=4\n",
      "[12:50:00] src/tree/updater_prune.cc:74: tree pruning end, 1 roots, 30 extra nodes, 0 pruned nodes, max_depth=4\n",
      "[12:50:00] src/tree/updater_prune.cc:74: tree pruning end, 1 roots, 26 extra nodes, 0 pruned nodes, max_depth=4\n",
      "[12:50:00] src/tree/updater_prune.cc:74: tree pruning end, 1 roots, 30 extra nodes, 0 pruned nodes, max_depth=4\n",
      "[12:50:00] src/tree/updater_prune.cc:74: tree pruning end, 1 roots, 26 extra nodes, 0 pruned nodes, max_depth=4\n",
      "[12:50:00] src/tree/updater_prune.cc:74: tree pruning end, 1 roots, 30 extra nodes, 0 pruned nodes, max_depth=4\n",
      "[12:50:00] src/tree/updater_prune.cc:74: tree pruning end, 1 roots, 30 extra nodes, 0 pruned nodes, max_depth=4\n",
      "[12:50:00] src/tree/updater_prune.cc:74: tree pruning end, 1 roots, 30 extra nodes, 0 pruned nodes, max_depth=4\n",
      "[12:50:00] src/tree/updater_prune.cc:74: tree pruning end, 1 roots, 26 extra nodes, 0 pruned nodes, max_depth=4\n",
      "[12:50:00] src/tree/updater_prune.cc:74: tree pruning end, 1 roots, 30 extra nodes, 0 pruned nodes, max_depth=4\n",
      "[12:50:00] src/tree/updater_prune.cc:74: tree pruning end, 1 roots, 28 extra nodes, 0 pruned nodes, max_depth=4\n",
      "[12:50:00] src/tree/updater_prune.cc:74: tree pruning end, 1 roots, 26 extra nodes, 0 pruned nodes, max_depth=4\n",
      "[12:50:00] src/tree/updater_prune.cc:74: tree pruning end, 1 roots, 24 extra nodes, 0 pruned nodes, max_depth=4\n",
      "[12:50:00] src/tree/updater_prune.cc:74: tree pruning end, 1 roots, 26 extra nodes, 0 pruned nodes, max_depth=4\n",
      "[12:50:00] src/tree/updater_prune.cc:74: tree pruning end, 1 roots, 26 extra nodes, 0 pruned nodes, max_depth=4\n",
      "[12:50:00] src/tree/updater_prune.cc:74: tree pruning end, 1 roots, 24 extra nodes, 0 pruned nodes, max_depth=4\n",
      "[12:50:00] src/tree/updater_prune.cc:74: tree pruning end, 1 roots, 26 extra nodes, 0 pruned nodes, max_depth=4\n",
      "[12:50:00] src/tree/updater_prune.cc:74: tree pruning end, 1 roots, 26 extra nodes, 0 pruned nodes, max_depth=4\n",
      "[12:50:00] src/tree/updater_prune.cc:74: tree pruning end, 1 roots, 30 extra nodes, 0 pruned nodes, max_depth=4\n",
      "[12:50:00] src/tree/updater_prune.cc:74: tree pruning end, 1 roots, 26 extra nodes, 0 pruned nodes, max_depth=4\n",
      "[12:50:00] src/tree/updater_prune.cc:74: tree pruning end, 1 roots, 28 extra nodes, 0 pruned nodes, max_depth=4\n",
      "[12:50:00] src/tree/updater_prune.cc:74: tree pruning end, 1 roots, 26 extra nodes, 0 pruned nodes, max_depth=4\n",
      "[12:50:00] src/tree/updater_prune.cc:74: tree pruning end, 1 roots, 30 extra nodes, 0 pruned nodes, max_depth=4\n",
      "[12:50:00] src/tree/updater_prune.cc:74: tree pruning end, 1 roots, 26 extra nodes, 0 pruned nodes, max_depth=4\n",
      "[12:50:00] src/tree/updater_prune.cc:74: tree pruning end, 1 roots, 26 extra nodes, 0 pruned nodes, max_depth=4\n"
     ]
    },
    {
     "name": "stdout",
     "output_type": "stream",
     "text": [
      "[12:50:00] src/tree/updater_prune.cc:74: tree pruning end, 1 roots, 28 extra nodes, 0 pruned nodes, max_depth=4\n",
      "[12:50:00] src/tree/updater_prune.cc:74: tree pruning end, 1 roots, 26 extra nodes, 0 pruned nodes, max_depth=4\n",
      "[12:50:01] src/tree/updater_prune.cc:74: tree pruning end, 1 roots, 30 extra nodes, 0 pruned nodes, max_depth=4\n",
      "[12:50:01] src/tree/updater_prune.cc:74: tree pruning end, 1 roots, 24 extra nodes, 0 pruned nodes, max_depth=4\n",
      "[12:50:01] src/tree/updater_prune.cc:74: tree pruning end, 1 roots, 22 extra nodes, 0 pruned nodes, max_depth=4\n",
      "[12:50:01] src/tree/updater_prune.cc:74: tree pruning end, 1 roots, 30 extra nodes, 0 pruned nodes, max_depth=4\n",
      "[12:50:01] src/tree/updater_prune.cc:74: tree pruning end, 1 roots, 24 extra nodes, 0 pruned nodes, max_depth=4\n",
      "[12:50:01] src/tree/updater_prune.cc:74: tree pruning end, 1 roots, 26 extra nodes, 0 pruned nodes, max_depth=4\n",
      "[12:50:01] src/tree/updater_prune.cc:74: tree pruning end, 1 roots, 24 extra nodes, 0 pruned nodes, max_depth=4\n",
      "[12:50:01] src/tree/updater_prune.cc:74: tree pruning end, 1 roots, 28 extra nodes, 0 pruned nodes, max_depth=4\n",
      "[12:50:01] src/tree/updater_prune.cc:74: tree pruning end, 1 roots, 28 extra nodes, 0 pruned nodes, max_depth=4\n",
      "[12:50:01] src/tree/updater_prune.cc:74: tree pruning end, 1 roots, 30 extra nodes, 0 pruned nodes, max_depth=4\n",
      "[12:50:01] src/tree/updater_prune.cc:74: tree pruning end, 1 roots, 20 extra nodes, 0 pruned nodes, max_depth=4\n",
      "[12:50:01] src/tree/updater_prune.cc:74: tree pruning end, 1 roots, 28 extra nodes, 0 pruned nodes, max_depth=4\n",
      "[12:50:01] src/tree/updater_prune.cc:74: tree pruning end, 1 roots, 22 extra nodes, 0 pruned nodes, max_depth=4\n",
      "[12:50:01] src/tree/updater_prune.cc:74: tree pruning end, 1 roots, 28 extra nodes, 0 pruned nodes, max_depth=4\n",
      "[12:50:01] src/tree/updater_prune.cc:74: tree pruning end, 1 roots, 26 extra nodes, 0 pruned nodes, max_depth=4\n",
      "[12:50:01] src/tree/updater_prune.cc:74: tree pruning end, 1 roots, 26 extra nodes, 0 pruned nodes, max_depth=4\n",
      "[12:50:01] src/tree/updater_prune.cc:74: tree pruning end, 1 roots, 28 extra nodes, 0 pruned nodes, max_depth=4\n",
      "[12:50:01] src/tree/updater_prune.cc:74: tree pruning end, 1 roots, 22 extra nodes, 0 pruned nodes, max_depth=4\n",
      "[12:50:01] src/tree/updater_prune.cc:74: tree pruning end, 1 roots, 18 extra nodes, 0 pruned nodes, max_depth=4\n",
      "[12:50:01] src/tree/updater_prune.cc:74: tree pruning end, 1 roots, 18 extra nodes, 0 pruned nodes, max_depth=4\n",
      "[12:50:01] src/tree/updater_prune.cc:74: tree pruning end, 1 roots, 18 extra nodes, 0 pruned nodes, max_depth=4\n",
      "[12:50:01] src/tree/updater_prune.cc:74: tree pruning end, 1 roots, 28 extra nodes, 0 pruned nodes, max_depth=4\n",
      "[12:50:01] src/tree/updater_prune.cc:74: tree pruning end, 1 roots, 22 extra nodes, 0 pruned nodes, max_depth=4\n",
      "[12:50:01] src/tree/updater_prune.cc:74: tree pruning end, 1 roots, 30 extra nodes, 0 pruned nodes, max_depth=4\n",
      "[12:50:01] src/tree/updater_prune.cc:74: tree pruning end, 1 roots, 16 extra nodes, 0 pruned nodes, max_depth=4\n",
      "[12:50:01] src/tree/updater_prune.cc:74: tree pruning end, 1 roots, 18 extra nodes, 0 pruned nodes, max_depth=4\n",
      "[12:50:01] src/tree/updater_prune.cc:74: tree pruning end, 1 roots, 22 extra nodes, 0 pruned nodes, max_depth=4\n",
      "[12:50:01] src/tree/updater_prune.cc:74: tree pruning end, 1 roots, 28 extra nodes, 0 pruned nodes, max_depth=4\n",
      "[12:50:02] src/tree/updater_prune.cc:74: tree pruning end, 1 roots, 20 extra nodes, 0 pruned nodes, max_depth=4\n",
      "[12:50:02] src/tree/updater_prune.cc:74: tree pruning end, 1 roots, 18 extra nodes, 0 pruned nodes, max_depth=4\n",
      "[12:50:02] src/tree/updater_prune.cc:74: tree pruning end, 1 roots, 20 extra nodes, 0 pruned nodes, max_depth=4\n",
      "[12:50:02] src/tree/updater_prune.cc:74: tree pruning end, 1 roots, 12 extra nodes, 0 pruned nodes, max_depth=4\n",
      "[12:50:02] src/tree/updater_prune.cc:74: tree pruning end, 1 roots, 28 extra nodes, 0 pruned nodes, max_depth=4\n",
      "[12:50:02] src/tree/updater_prune.cc:74: tree pruning end, 1 roots, 12 extra nodes, 0 pruned nodes, max_depth=4\n",
      "[12:50:02] src/tree/updater_prune.cc:74: tree pruning end, 1 roots, 26 extra nodes, 0 pruned nodes, max_depth=4\n",
      "[12:50:02] src/tree/updater_prune.cc:74: tree pruning end, 1 roots, 28 extra nodes, 0 pruned nodes, max_depth=4\n",
      "[12:50:02] src/tree/updater_prune.cc:74: tree pruning end, 1 roots, 28 extra nodes, 0 pruned nodes, max_depth=4\n",
      "[12:50:02] src/tree/updater_prune.cc:74: tree pruning end, 1 roots, 12 extra nodes, 0 pruned nodes, max_depth=4\n",
      "[12:50:02] src/tree/updater_prune.cc:74: tree pruning end, 1 roots, 28 extra nodes, 0 pruned nodes, max_depth=4\n",
      "[12:50:02] src/tree/updater_prune.cc:74: tree pruning end, 1 roots, 12 extra nodes, 0 pruned nodes, max_depth=4\n",
      "[12:50:02] src/tree/updater_prune.cc:74: tree pruning end, 1 roots, 26 extra nodes, 0 pruned nodes, max_depth=4\n",
      "[12:50:02] src/tree/updater_prune.cc:74: tree pruning end, 1 roots, 20 extra nodes, 0 pruned nodes, max_depth=4\n",
      "[12:50:02] src/tree/updater_prune.cc:74: tree pruning end, 1 roots, 20 extra nodes, 0 pruned nodes, max_depth=4\n",
      "[12:50:02] src/tree/updater_prune.cc:74: tree pruning end, 1 roots, 30 extra nodes, 0 pruned nodes, max_depth=4\n"
     ]
    },
    {
     "data": {
      "text/plain": [
       "<matplotlib.axes._subplots.AxesSubplot at 0x11b7b47f0>"
      ]
     },
     "execution_count": 21,
     "metadata": {},
     "output_type": "execute_result"
    },
    {
     "data": {
      "image/png": "[encoded data removed]",
      "text/plain": [
       "<Figure size 432x288 with 1 Axes>"
      ]
     },
     "metadata": {
      "needs_background": "light"
     },
     "output_type": "display_data"
    }
   ],
   "source": [
    "booster_ = XGBClassifier(learning_rate=0.02, max_depth=4, n_estimators=200, \n",
    "                      silent=False, objective='binary:logistic', nthread=-1, \n",
    "                      gamma=0, min_child_weight=1, max_delta_step=0, subsample=1, \n",
    "                      colsample_bytree=1, colsample_bylevel=1, reg_alpha=0,\n",
    "                      reg_lambda=1, scale_pos_weight=1, base_score=0.5, seed=0)\n",
    "\n",
    "booster_.fit(X_train, y_train)\n",
    "\n",
    "from xgboost import plot_importance\n",
    "plot_importance(booster_, max_num_features=10, importance_type='gain')\n"
   ]
  },
  {
   "cell_type": "code",
   "execution_count": 22,
   "metadata": {},
   "outputs": [
    {
     "ename": "TypeError",
     "evalue": "fill_between() missing 1 required positional argument: 'y1'",
     "output_type": "error",
     "traceback": [
      "\u001b[0;31m---------------------------------------------------------------------------\u001b[0m",
      "\u001b[0;31mTypeError\u001b[0m                                 Traceback (most recent call last)",
      "\u001b[0;32m<ipython-input-22-fee7aec7eb81>\u001b[0m in \u001b[0;36m<module>\u001b[0;34m()\u001b[0m\n\u001b[1;32m     37\u001b[0m \u001b[0;31m# tprs_lower = np.maximum(mean_tpr - std_tpr, 0)\u001b[0m\u001b[0;34m\u001b[0m\u001b[0;34m\u001b[0m\u001b[0m\n\u001b[1;32m     38\u001b[0m plt.fill_between(mean_fpr,  color='grey', alpha=.2,\n\u001b[0;32m---> 39\u001b[0;31m                  label=r'$\\pm$ 1 std. dev.')\n\u001b[0m\u001b[1;32m     40\u001b[0m \u001b[0;34m\u001b[0m\u001b[0m\n\u001b[1;32m     41\u001b[0m \u001b[0mplt\u001b[0m\u001b[0;34m.\u001b[0m\u001b[0mxlim\u001b[0m\u001b[0;34m(\u001b[0m\u001b[0;34m[\u001b[0m\u001b[0;34m-\u001b[0m\u001b[0;36m0.05\u001b[0m\u001b[0;34m,\u001b[0m \u001b[0;36m1.05\u001b[0m\u001b[0;34m]\u001b[0m\u001b[0;34m)\u001b[0m\u001b[0;34m\u001b[0m\u001b[0m\n",
      "\u001b[0;31mTypeError\u001b[0m: fill_between() missing 1 required positional argument: 'y1'"
     ]
    },
    {
     "data": {
      "image/png": "[encoded data removed]",
      "text/plain": [
       "<Figure size 432x288 with 1 Axes>"
      ]
     },
     "metadata": {
      "needs_background": "light"
     },
     "output_type": "display_data"
    }
   ],
   "source": [
    "# Code from the sklearn documentation\n",
    "\n",
    "from sklearn.model_selection import StratifiedKFold\n",
    "from sklearn.metrics import roc_auc_score\n",
    "from sklearn import metrics\n",
    "cv = StratifiedKFold(n_splits=5)\n",
    "\n",
    "tprs = []\n",
    "aucs = []\n",
    "mean_fpr = np.linspace(0, 1, 100)\n",
    "\n",
    "i = 0\n",
    "for train, test in cv.split(X.values, y.values):\n",
    "    probas_ = model.fit(X_train, y_train).predict_proba(X_test)\n",
    "    # Compute ROC curve and area the curve\n",
    "    fpr, tpr, thresholds = metrics.roc_curve(y_test, probas_[:, 1])\n",
    "    tprs.append(np.interp(mean_fpr, fpr, tpr))\n",
    "    tprs[-1][0] = 0.0\n",
    "    roc_auc = metrics.auc(fpr, tpr)\n",
    "    aucs.append(roc_auc)\n",
    "    plt.plot(fpr, tpr, lw=1, alpha=0.3)\n",
    "\n",
    "    i += 1\n",
    "plt.plot([0, 1], [0, 1], linestyle='--', lw=2, color='r',\n",
    "         label='Luck', alpha=.8)\n",
    "\n",
    "mean_tpr = np.mean(tprs, axis=0)\n",
    "mean_tpr[-1] = 1.0\n",
    "mean_auc = metrics.auc(mean_fpr, mean_tpr)\n",
    "std_auc = np.std(aucs)\n",
    "plt.plot(mean_fpr, mean_tpr, color='b',\n",
    "         label=r'Mean ROC (AUC = %0.2f $\\pm$ %0.2f)' % (mean_auc, std_auc),\n",
    "         lw=2, alpha=.8)\n",
    "\n",
    "std_tpr = np.std(tprs, axis=0)\n",
    "# tprs_upper = np.minimum(mean_tpr + std_tpr, 1)\n",
    "# tprs_lower = np.maximum(mean_tpr - std_tpr, 0)\n",
    "plt.fill_between(mean_fpr,  color='grey', alpha=.2,\n",
    "                 label=r'$\\pm$ 1 std. dev.')\n",
    "\n",
    "plt.xlim([-0.05, 1.05])\n",
    "plt.ylim([-0.05, 1.05])\n",
    "plt.xlabel('False Positive Rate')\n",
    "plt.ylabel('True Positive Rate')\n",
    "plt.title('Receiver operating characteristic')\n",
    "plt.legend(loc=\"lower right\")\n",
    "plt.show()"
   ]
  },
  {
   "cell_type": "code",
   "execution_count": null,
   "metadata": {},
   "outputs": [],
   "source": [
    "from sklearn.metrics import confusion_matrix\n",
    "y_pred = model_rf.predict(X_test)\n",
    "confusion_matrix(y_test, y_pred)\n",
    "pd.crosstab(y_test, y_pred, rownames=['True'], colnames=['Predicted'], margins = True)\n"
   ]
  },
  {
   "cell_type": "code",
   "execution_count": 44,
   "metadata": {},
   "outputs": [
    {
     "name": "stdout",
     "output_type": "stream",
     "text": [
      "Recall Score: 0.7525773195876289\n",
      "Precision Score: 0.9240506329113924\n",
      "F-beta Score: 0.7981497056349873\n",
      "Training Accuracy: 0.8752755326965467\n",
      "Validation Accuracy: 0.8508449669360764\n"
     ]
    }
   ],
   "source": [
    "from sklearn.metrics import recall_score, precision_score, f1_score, fbeta_score\n",
    "# print('Training Accuracy:', metrics.accuracy_score(y_train, y_pred_train))\n",
    "# print('Validation Accuracy:', metrics.accuracy_score(y_val, y_pred_val))\n",
    "# \n",
    "print ('Recall Score:', recall_score(y_test, y_pred))\n",
    "print ('Precision Score:', precision_score(y_test, y_pred))\n",
    "print('F-beta Score:', fbeta_score(y_test, y_pred, beta=1.5))\n",
    "print('Training Accuracy:', metrics.accuracy_score(y_train, y_pred_train))\n",
    "print('Validation Accuracy:', metrics.accuracy_score(y_val, y_pred_val))"
   ]
  }
 ],
 "metadata": {
  "kernelspec": {
   "display_name": "Python 3",
   "language": "python",
   "name": "python3"
  },
  "language_info": {
   "codemirror_mode": {
    "name": "ipython",
    "version": 3
   },
   "file_extension": ".py",
   "mimetype": "text/x-python",
   "name": "python",
   "nbconvert_exporter": "python",
   "pygments_lexer": "ipython3",
   "version": "3.6.5"
  }
 },
 "nbformat": 4,
 "nbformat_minor": 2
}
