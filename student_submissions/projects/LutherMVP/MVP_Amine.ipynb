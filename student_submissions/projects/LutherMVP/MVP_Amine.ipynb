{
 "cells": [
  {
   "cell_type": "markdown",
   "metadata": {},
   "source": [
    "#### Minimum Viable Consulting - Amine Naouas\n",
    "\n",
    "## Predicting expected rents of real estate sales listings in Paris\n",
    "\n",
    "Using a sample of rentals listings, I tried to explain the rent as a function of the square meter surface.  \n",
    "\n",
    "The figure depicts the model (blue) plotted against the actual data points. The prediction interval is plotted in orange.  \n",
    "\n",
    "![](Amine_pics/regression.png)\n",
    "\n",
    "This result suggests that the surface is a good predictor of the rent (R2=0.94), but the model tend to have an error of 2k €, which is huge!  \n",
    "\n",
    "To go further, we can focus on the rent per square meter and see how it varies with other available variables.  \n",
    "\n",
    "The price / m2's distribution seems to be significantly different from a district to another.  \n",
    "\n",
    "![](Amine_pics/arrondissements.png)\n",
    "\n",
    "The price / m2 tend to decrease when the number of rooms increases. However its variance seem to decrease when the number of rooms goes up.  \n",
    "\n",
    "![](Amine_pics/Number of rooms.png)\n",
    "\n",
    "Hence, I will try to explain the price / m2 using features related to the flat or its location in order to increase the precision of the estimation."
   ]
  },
  {
   "cell_type": "code",
   "execution_count": null,
   "metadata": {},
   "outputs": [],
   "source": []
  }
 ],
 "metadata": {
  "kernelspec": {
   "display_name": "Python 3",
   "language": "python",
   "name": "python3"
  },
  "language_info": {
   "codemirror_mode": {
    "name": "ipython",
    "version": 3
   },
   "file_extension": ".py",
   "mimetype": "text/x-python",
   "name": "python",
   "nbconvert_exporter": "python",
   "pygments_lexer": "ipython3",
   "version": "3.6.5"
  }
 },
 "nbformat": 4,
 "nbformat_minor": 2
}
