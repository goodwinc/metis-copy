{
 "cells": [
  {
   "cell_type": "markdown",
   "metadata": {
    "slideshow": {
     "slide_type": "skip"
    }
   },
   "source": [
    "- slides created from Jupyter notebook using nbviewer\n",
    "- basically, create a notebook with markdown and code, run nbviewer, get html/pdf slides\n",
    "- command used was jupyter nbconvert  --to slides --reveal-prefix reveal.js --SlidesExporter.reveal_scroll=True Slide\\ presentation.ipynb\n",
    "- see https://medium.com/learning-machine-learning/present-your-data-science-projects-with-jupyter-slides-75f20735eb0f\n",
    "- disadvantages\n",
    "  - more cumbersome than Powerpoint, Google Docs slides\n",
    "  - less snazzy (although you can in theory do anything you want with e.g. HTML templates, CSS)\n",
    "- advantages\n",
    "  - one source for code and presentation (update code and rerun your notebook, get updated slides)\n",
    "  - can include JS output with rollovers, Google Maps etc. \n",
    "  - can post or distribute HTML slides with interactivity (those require reveal.js - https://revealjs.com/#/ )\n",
    "- for this project, probably would have been easier to do Google Docs slides\n",
    "\n",
    "- people asked how we did the map\n",
    " - data from here - https://data.cityofnewyork.us/api/views/kk4q-3rt2/rows.csv?accessType=DOWNLOAD\n",
    " - Bokeh from here - https://bokeh.pydata.org/en/latest/docs/user_guide/geo.html (see gmaps example)\n",
    " - For income tiles, http://data.beta.nyc/dataset/median-household-income-2010-census-tracts/resource/74cdcc33-512f-439c-a43e-c09588c4b391\n",
    " - The actual code is pretty kludgy/filthy, but happy to share, lmk and can share as is (YMMV) or maybe try to clean up\n"
   ]
  },
  {
   "cell_type": "raw",
   "metadata": {
    "slideshow": {
     "slide_type": "slide"
    }
   },
   "source": [
    "<style type=\"text/css\">\n",
    "    .input_prompt, .input_area, .output_prompt {\n",
    "        display:none !important;\n",
    "    }\n",
    "</style>\n"
   ]
  },
  {
   "cell_type": "markdown",
   "metadata": {
    "slideshow": {
     "slide_type": "slide"
    }
   },
   "source": [
    "\n",
    "<img src=\"Rain.jpg\" width=\"480\" align=\"center\">\n",
    "<h1>Rainfall and Subway Traffic</h1>\n",
    "<h3>An analysis of potential improvements to mobile food operations</h3>\n",
    "<br />\n",
    " \n",
    "<img src=\"mta2.png\" width=\"100\" align=\"left\">\n",
    "<h3 align=\"center\">Goodwin, Druce, Matt</h3>\n",
    "<img src=\"wu.jpg\" width=\"100\" align=\"right\">\n",
    "\n"
   ]
  },
  {
   "cell_type": "markdown",
   "metadata": {
    "slideshow": {
     "slide_type": "slide"
    }
   },
   "source": [
    "## Business Problem\n",
    "\n",
    "\n",
    "### Rain disrupts business\n",
    "\n",
    "<img src=\"redbones.jpg\" width=\"480\">\n",
    "\n",
    "### What can we do about it?\n",
    "\n",
    "\n",
    "\n"
   ]
  },
  {
   "cell_type": "markdown",
   "metadata": {
    "slideshow": {
     "slide_type": "slide"
    }
   },
   "source": [
    "<img src=\"bulb.png\" width=\"150\">\n",
    "\n",
    "# Idea\n",
    "\n",
    "## Identify locations in the city where foot traffic is most affected and least affected by rainfall\n",
    "\n",
    "## Utilize knowledge to move food trucks as weather changes\n"
   ]
  },
  {
   "cell_type": "markdown",
   "metadata": {
    "slideshow": {
     "slide_type": "slide"
    }
   },
   "source": [
    "## Methodology\n",
    "\n",
    "### Data sources:  NYC MTA turnstile data, Daily rainfall data from Weather Underground\n",
    "\n",
    "### Time frame: 9/22/2017 - 7/31/2018\n",
    "\n",
    "### Assumptions: Turnstile entries + exits serves as proxy of daily foot traffic volume \n"
   ]
  },
  {
   "cell_type": "markdown",
   "metadata": {
    "slideshow": {
     "slide_type": "slide"
    }
   },
   "source": [
    "# Different stations exhibit different traffic patterns during rainfall\n",
    "\n",
    "<img src=\"Goodwin.png\" width=\"480\">\n"
   ]
  },
  {
   "cell_type": "markdown",
   "metadata": {
    "slideshow": {
     "slide_type": "slide"
    }
   },
   "source": [
    "# Geographical study\n",
    "\n",
    "<img src=\"No_income.png\" width=\"480\">\n"
   ]
  },
  {
   "cell_type": "markdown",
   "metadata": {
    "slideshow": {
     "slide_type": "slide"
    }
   },
   "source": [
    "# Top and bottom 10\n",
    "\n",
    "<img src=\"Top10.png\" width=\"480\">\n"
   ]
  },
  {
   "cell_type": "markdown",
   "metadata": {
    "slideshow": {
     "slide_type": "slide"
    }
   },
   "source": [
    "# Top and bottom 10 - Where to move!\n",
    "\n",
    "<img src=\"Arrows.png\" width=\"480\">\n"
   ]
  },
  {
   "cell_type": "markdown",
   "metadata": {
    "slideshow": {
     "slide_type": "slide"
    }
   },
   "source": [
    "# Future considerations\n",
    "\n",
    "<img src=\"Weekend.png\" width=\"240\">\n",
    "\n",
    "- Five years of data\n",
    "- Income filters\n",
    "- Restaurant filters\n",
    "- Distance optimization"
   ]
  },
  {
   "cell_type": "markdown",
   "metadata": {
    "slideshow": {
     "slide_type": "slide"
    }
   },
   "source": [
    "![xxxxx.png](xxxxx.png)"
   ]
  },
  {
   "cell_type": "markdown",
   "metadata": {},
   "source": []
  }
 ],
 "metadata": {
  "celltoolbar": "Slideshow",
  "kernelspec": {
   "display_name": "Python 3",
   "language": "python",
   "name": "python3"
  },
  "language_info": {
   "codemirror_mode": {
    "name": "ipython",
    "version": 3
   },
   "file_extension": ".py",
   "mimetype": "text/x-python",
   "name": "python",
   "nbconvert_exporter": "python",
   "pygments_lexer": "ipython3",
   "version": "3.6.6"
  }
 },
 "nbformat": 4,
 "nbformat_minor": 2
}
