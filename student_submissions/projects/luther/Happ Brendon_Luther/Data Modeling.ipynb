{
 "cells": [
  {
   "cell_type": "code",
   "execution_count": 1,
   "metadata": {
    "collapsed": true
   },
   "outputs": [],
   "source": [
    "import pickle\n",
    "import pandas as pd\n",
    "import pprint\n",
    "import statsmodels.api as sm\n",
    "import statsmodels.formula.api as smf \n",
    "from sklearn.model_selection import train_test_split, KFold\n",
    "from sklearn.linear_model import LinearRegression, Lasso, Ridge, LassoCV, ElasticNet\n",
    "from sklearn.preprocessing import StandardScaler, PolynomialFeatures\n",
    "import seaborn as sns; sns.set(style=\"white\", color_codes=True)\n",
    "import matplotlib.pyplot as plt\n",
    "import numpy as np\n",
    "%matplotlib inline"
   ]
  },
  {
   "cell_type": "code",
   "execution_count": 2,
   "metadata": {
    "collapsed": true
   },
   "outputs": [],
   "source": [
    "# Load dataset pkl file\n",
    "with open('final_data.pkl', 'rb') as f:\n",
    "    final_df = pickle.load(f)"
   ]
  },
  {
   "cell_type": "code",
   "execution_count": 3,
   "metadata": {},
   "outputs": [
    {
     "data": {
      "text/plain": [
       "105923.4592445328"
      ]
     },
     "execution_count": 3,
     "metadata": {},
     "output_type": "execute_result"
    }
   ],
   "source": [
    "final_df.salary_estimation.mean()"
   ]
  },
  {
   "cell_type": "code",
   "execution_count": 4,
   "metadata": {
    "collapsed": true
   },
   "outputs": [],
   "source": [
    "target = final_df.salary_estimation\n",
    "features = final_df.drop(['salary_estimation'], axis=1)"
   ]
  },
  {
   "cell_type": "code",
   "execution_count": 5,
   "metadata": {},
   "outputs": [
    {
     "data": {
      "text/plain": [
       "[<matplotlib.lines.Line2D at 0x1088d1bd0>]"
      ]
     },
     "execution_count": 5,
     "metadata": {},
     "output_type": "execute_result"
    },
    {
     "data": {
      "image/png": "[encoded data removed]",
      "text/plain": [
       "<matplotlib.figure.Figure at 0x112b99610>"
      ]
     },
     "metadata": {},
     "output_type": "display_data"
    }
   ],
   "source": [
    "sns.distplot(final_df.salary_estimation, color = 'green')\n",
    "sns.despine()\n",
    "plt.title('Distribution of Salaries')\n",
    "plt.xlabel('Salary')\n",
    "plt.plot(105923,.00001, label='Data', linestyle='--')"
   ]
  },
  {
   "cell_type": "code",
   "execution_count": 6,
   "metadata": {
    "collapsed": true
   },
   "outputs": [],
   "source": [
    "# Keep a holding set for final test\n",
    "X, X_hold, y, y_hold = train_test_split(features, target, test_size=0.3, random_state=42)"
   ]
  },
  {
   "cell_type": "code",
   "execution_count": 7,
   "metadata": {
    "collapsed": true
   },
   "outputs": [],
   "source": [
    "# Split the non holdout data into training and validation\n",
    "X_train, X_val, y_train, y_val = train_test_split(X, y, test_size=0.3, random_state=42)"
   ]
  },
  {
   "cell_type": "markdown",
   "metadata": {},
   "source": [
    "### Initial Feature Selection\n",
    "----"
   ]
  },
  {
   "cell_type": "code",
   "execution_count": 8,
   "metadata": {
    "collapsed": true
   },
   "outputs": [],
   "source": [
    "def get_columns(df, prefix):\n",
    "    column_list = []\n",
    "    for col in df:\n",
    "        if prefix in col:\n",
    "            column_list.append(col)\n",
    "    return column_list\n",
    "\n",
    "lang_columns = get_columns(X_train, 'lang_')\n",
    "skill_columns = get_columns(X_train, 'skill_')\n",
    "company_columns = get_columns(X_train, 'company_')\n",
    "degree_columns = get_columns(X_train, 'degree_')\n",
    "experience_columns = get_columns(X_train, 'experience_')\n",
    "title_columns = get_columns(X_train, 'title_')\n",
    "all_columns = get_columns(X_train, '')\n",
    "\n",
    "column_dict = {'lang_columns': lang_columns, \n",
    "               'skill_columns': skill_columns, \n",
    "               'company_columns': company_columns,\n",
    "               'degree_columns': degree_columns,\n",
    "               'experience_columns': experience_columns,\n",
    "               'title_columns': title_columns,\n",
    "               'all_columns': all_columns\n",
    "              }"
   ]
  },
  {
   "cell_type": "code",
   "execution_count": 9,
   "metadata": {
    "collapsed": true
   },
   "outputs": [],
   "source": [
    "def simple_regress_test(model, X, y, columns):\n",
    "    model.fit(X[columns], y)\n",
    "    return 'R^2: {0:.3f}'.format(lr.score(X_val[columns], y_val)) \n",
    "    "
   ]
  },
  {
   "cell_type": "markdown",
   "metadata": {},
   "source": [
    "**Simple regression for coding languages**"
   ]
  },
  {
   "cell_type": "code",
   "execution_count": 10,
   "metadata": {
    "scrolled": true
   },
   "outputs": [
    {
     "data": {
      "text/plain": [
       "'R^2: 0.079'"
      ]
     },
     "execution_count": 10,
     "metadata": {},
     "output_type": "execute_result"
    }
   ],
   "source": [
    "lr = LinearRegression()\n",
    "simple_regress_test(lr, X_train, y_train, column_dict['lang_columns'])"
   ]
  },
  {
   "cell_type": "markdown",
   "metadata": {},
   "source": [
    "**Try adding *SKILL* columns**"
   ]
  },
  {
   "cell_type": "code",
   "execution_count": 11,
   "metadata": {
    "scrolled": true
   },
   "outputs": [
    {
     "data": {
      "text/plain": [
       "'R^2: 0.154'"
      ]
     },
     "execution_count": 11,
     "metadata": {},
     "output_type": "execute_result"
    }
   ],
   "source": [
    "simple_regress_test(lr, X_train, y_train, column_dict['lang_columns']+column_dict['skill_columns'])"
   ]
  },
  {
   "cell_type": "markdown",
   "metadata": {},
   "source": [
    "**Adding more features helps the model due to having only dummy variables. More features = more information**\n",
    "\n",
    "**Try also adding *DEGREE* columns**"
   ]
  },
  {
   "cell_type": "code",
   "execution_count": 12,
   "metadata": {},
   "outputs": [
    {
     "data": {
      "text/plain": [
       "'R^2: 0.146'"
      ]
     },
     "execution_count": 12,
     "metadata": {},
     "output_type": "execute_result"
    }
   ],
   "source": [
    "simple_regress_test(lr, X_train, y_train, column_dict['lang_columns']+\n",
    "                                          column_dict['skill_columns']+\n",
    "                                          column_dict['degree_columns']\n",
    "                   )"
   ]
  },
  {
   "cell_type": "markdown",
   "metadata": {},
   "source": [
    "**Add *EXPERIENCE* features**"
   ]
  },
  {
   "cell_type": "code",
   "execution_count": 13,
   "metadata": {
    "scrolled": true
   },
   "outputs": [
    {
     "data": {
      "text/plain": [
       "'R^2: 0.147'"
      ]
     },
     "execution_count": 13,
     "metadata": {},
     "output_type": "execute_result"
    }
   ],
   "source": [
    "simple_regress_test(lr, X_train, y_train, column_dict['lang_columns']+\n",
    "                                          column_dict['skill_columns']+\n",
    "                                          column_dict['degree_columns']+\n",
    "                                          column_dict['experience_columns']\n",
    "                   )"
   ]
  },
  {
   "cell_type": "markdown",
   "metadata": {},
   "source": [
    "**Experience brought the model lower. Intuition would tell me that experience would directly correlate with salary. Maybe there is a better effect when other features are included. Try adding *TITLE* features instead.**"
   ]
  },
  {
   "cell_type": "code",
   "execution_count": 14,
   "metadata": {},
   "outputs": [
    {
     "data": {
      "text/plain": [
       "'R^2: 0.282'"
      ]
     },
     "execution_count": 14,
     "metadata": {},
     "output_type": "execute_result"
    }
   ],
   "source": [
    "simple_regress_test(lr, X_train, y_train, column_dict['lang_columns']+\n",
    "                                          column_dict['skill_columns']+\n",
    "                                          column_dict['degree_columns']+\n",
    "                                          column_dict['title_columns']\n",
    "                   )"
   ]
  },
  {
   "cell_type": "markdown",
   "metadata": {},
   "source": [
    "**Now try adding *COMPANY* details to the model**"
   ]
  },
  {
   "cell_type": "code",
   "execution_count": 15,
   "metadata": {},
   "outputs": [
    {
     "data": {
      "text/plain": [
       "'R^2: 0.277'"
      ]
     },
     "execution_count": 15,
     "metadata": {},
     "output_type": "execute_result"
    }
   ],
   "source": [
    "simple_regress_test(lr, X_train, y_train, column_dict['lang_columns'] +\n",
    "                                          column_dict['skill_columns'] +\n",
    "                                          column_dict['degree_columns'] +\n",
    "                                          column_dict['title_columns'] +\n",
    "                                          column_dict['company_columns']\n",
    "                   )"
   ]
  },
  {
   "cell_type": "markdown",
   "metadata": {},
   "source": [
    "**Company details and experience are not helping this model predict price. The FINAL FEATURES will be:**\n",
    "\n",
    "- **Programming Language**\n",
    "- **Skills related to Data**\n",
    "- **Degree**\n",
    "- **Title**"
   ]
  },
  {
   "cell_type": "code",
   "execution_count": 16,
   "metadata": {},
   "outputs": [
    {
     "data": {
      "text/plain": [
       "0.28185823697266144"
      ]
     },
     "execution_count": 16,
     "metadata": {},
     "output_type": "execute_result"
    }
   ],
   "source": [
    "final_columns = lang_columns + skill_columns + degree_columns + title_columns\n",
    "\n",
    "simple_regress_test(lr, X_train, y_train, final_columns)\n",
    "test_prediction = lr.predict(X_val[final_columns])\n",
    "\n",
    "lr.score(X_val[final_columns], y_val)"
   ]
  },
  {
   "cell_type": "code",
   "execution_count": 17,
   "metadata": {},
   "outputs": [
    {
     "name": "stdout",
     "output_type": "stream",
     "text": [
      "R^2 training: 0.311\n"
     ]
    }
   ],
   "source": [
    "print('R^2 training: {0:.3f}'.format(lr.score(X_train[final_columns], y_train)))"
   ]
  },
  {
   "cell_type": "code",
   "execution_count": 18,
   "metadata": {
    "scrolled": true
   },
   "outputs": [
    {
     "name": "stdout",
     "output_type": "stream",
     "text": [
      "R^2 validation: 0.282\n"
     ]
    }
   ],
   "source": [
    "print('R^2 validation: {0:.3f}'.format(lr.score(X_val[final_columns], y_val)))"
   ]
  },
  {
   "cell_type": "markdown",
   "metadata": {},
   "source": [
    "**The final feature scores are not too far off from each other. Try visualizing to see the relationship.**"
   ]
  },
  {
   "cell_type": "code",
   "execution_count": 19,
   "metadata": {},
   "outputs": [
    {
     "data": {
      "text/plain": [
       "<matplotlib.text.Text at 0x11d72d5d0>"
      ]
     },
     "execution_count": 19,
     "metadata": {},
     "output_type": "execute_result"
    },
    {
     "data": {
      "image/png": "[encoded data removed]",
      "text/plain": [
       "<matplotlib.figure.Figure at 0x11d819fd0>"
      ]
     },
     "metadata": {},
     "output_type": "display_data"
    }
   ],
   "source": [
    "sns.jointplot(test_prediction,y_val, kind='regplot', color = 'green')\n",
    "plt.ylabel('Salary')\n",
    "plt.xlabel('Salary Predictions')"
   ]
  },
  {
   "cell_type": "code",
   "execution_count": 20,
   "metadata": {
    "scrolled": true
   },
   "outputs": [
    {
     "data": {
      "image/png": "[encoded data removed]",
      "text/plain": [
       "<matplotlib.figure.Figure at 0x11ed2ae90>"
      ]
     },
     "metadata": {},
     "output_type": "display_data"
    }
   ],
   "source": [
    "plt.scatter(y_val, y_val-test_prediction,alpha=.5, color='green')\n",
    "plt.plot(np.linspace(0,300000,1000),np.linspace(0,0,1000), color = 'grey')\n",
    "plt.title('Residuals')\n",
    "sns.despine()\n"
   ]
  },
  {
   "cell_type": "markdown",
   "metadata": {},
   "source": [
    "**Root Mean Square Error**"
   ]
  },
  {
   "cell_type": "code",
   "execution_count": 21,
   "metadata": {},
   "outputs": [
    {
     "data": {
      "text/plain": [
       "30196.430628946662"
      ]
     },
     "execution_count": 21,
     "metadata": {},
     "output_type": "execute_result"
    }
   ],
   "source": [
    "np.sqrt(np.mean((test_prediction - y_val)**2))"
   ]
  },
  {
   "cell_type": "markdown",
   "metadata": {},
   "source": [
    "**Regularizaton may help a bit since there are many features, but first attempt to relate different features together. Try different methods of transformation and polynomials to reduce the linear trend of the residuals**"
   ]
  },
  {
   "cell_type": "markdown",
   "metadata": {},
   "source": [
    "### Feature Transforms\n",
    "---"
   ]
  },
  {
   "cell_type": "markdown",
   "metadata": {},
   "source": [
    "**Check what the coefficients are for the chosen features**"
   ]
  },
  {
   "cell_type": "code",
   "execution_count": 56,
   "metadata": {
    "collapsed": true
   },
   "outputs": [],
   "source": [
    "def get_linear_coefficients(column_dict, X_train, y_train, linear_model):\n",
    "    linear_dict = {}\n",
    "    for key, column in column_dict.items():\n",
    "        linear_model.fit(X_train.loc[:, column], y_train)\n",
    "        #sns.set()\n",
    "        #sns.barplot(column, linear_model.coef_)\n",
    "        linear_dict[key] = list(zip(column, linear_model.coef_))\n",
    "    return linear_dict"
   ]
  },
  {
   "cell_type": "code",
   "execution_count": 57,
   "metadata": {
    "scrolled": false
   },
   "outputs": [
    {
     "name": "stdout",
     "output_type": "stream",
     "text": [
      "{'degree_columns': [('degree_ms', 5484.7875597599696),\n",
      "                    ('degree_bs', -15218.13901517273),\n",
      "                    ('degree_phd', 16528.38400576913)],\n",
      " 'lang_columns': [('lang_java', 9278.9356364383748),\n",
      "                  ('lang_sql', -5979.1974090562353),\n",
      "                  ('lang_python', 22477.580099761119),\n",
      "                  ('lang_javascript', -3411.2931959196717),\n",
      "                  ('lang_r', 414.08802734615841)],\n",
      " 'skill_columns': [('skill_visualization', -2673.6056498092516),\n",
      "                   ('skill_machinelearning', 13152.506577612327),\n",
      "                   ('skill_bigdata', 17742.474813750938),\n",
      "                   ('skill_communication', -3194.4321402382943),\n",
      "                   ('skill_datamining', -1973.5734390331693),\n",
      "                   ('skill_aws', 14535.743366038716),\n",
      "                   ('skill_stats', -1572.628377015898),\n",
      "                   ('skill_predictive', 6339.4301381460882),\n",
      "                   ('skill_algorithm', 4935.5296382832703),\n",
      "                   ('skill_present', -2523.5509421791421)],\n",
      " 'title_columns': [('title_director', 25083.059527307716),\n",
      "                   ('title_intern', -11993.71199135797),\n",
      "                   ('title_manager', 15662.12669143904),\n",
      "                   ('title_senior', 20012.992145781194),\n",
      "                   ('title_junior', -17414.132443247992)]}\n"
     ]
    }
   ],
   "source": [
    "column_dict = {'lang_columns': lang_columns, \n",
    "               'skill_columns': skill_columns, \n",
    "               'degree_columns': degree_columns,\n",
    "               'title_columns': title_columns,\n",
    "              }\n",
    "coefficient_dict = get_linear_coefficients(column_dict, X_train, y_train, lr)\n",
    "pprint.pprint(coefficient_dict)"
   ]
  },
  {
   "cell_type": "code",
   "execution_count": 61,
   "metadata": {
    "collapsed": true
   },
   "outputs": [],
   "source": [
    "degree_coef = coefficient_dict['degree_columns']"
   ]
  },
  {
   "cell_type": "code",
   "execution_count": 78,
   "metadata": {},
   "outputs": [
    {
     "data": {
      "image/png": "[encoded data removed]",
      "text/plain": [
       "<matplotlib.figure.Figure at 0x1219d9110>"
      ]
     },
     "metadata": {},
     "output_type": "display_data"
    }
   ],
   "source": [
    "degree_coef.sort(key=lambda x: x[1], reverse=True) \n",
    "\n",
    "# save the names and their respective scores separately\n",
    "# reverse the tuples to go from most frequent to least frequent \n",
    "coefficient = zip(*degree_coef)[0]\n",
    "score = zip(*degree_coef)[1]\n",
    "x_pos = np.arange(len(coefficient)) \n",
    "\n",
    "# calculate slope and intercept for the linear trend line\n",
    "#slope, intercept = np.polyfit(x_pos, score, 1)\n",
    "#trendline = intercept + (slope * x_pos)\n",
    "\n",
    "\n",
    "clrs = ['grey' if (x < max(score)) else 'green' for x in score ]\n",
    "sns.barplot(x_pos, score, palette=clrs)#,align='center')\n",
    "sns.despine()\n",
    "plt.title('Correlation to Salary')\n",
    "plt.xticks(x_pos, coefficient) \n",
    "plt.ylabel('Coefficient Score')\n",
    "plt.show()"
   ]
  },
  {
   "cell_type": "code",
   "execution_count": 80,
   "metadata": {},
   "outputs": [
    {
     "data": {
      "image/png": "[encoded data removed]",
      "text/plain": [
       "<matplotlib.figure.Figure at 0x121ad4e90>"
      ]
     },
     "metadata": {},
     "output_type": "display_data"
    }
   ],
   "source": [
    "lang_coef = coefficient_dict['lang_columns']\n",
    "lang_coef.sort(key=lambda x: x[1], reverse=True) \n",
    "\n",
    "# save the names and their respective scores separately\n",
    "# reverse the tuples to go from most frequent to least frequent \n",
    "coefficient = zip(*lang_coef)[0]\n",
    "score = zip(*lang_coef)[1]\n",
    "x_pos = np.arange(len(coefficient)) \n",
    "\n",
    "# calculate slope and intercept for the linear trend line\n",
    "#slope, intercept = np.polyfit(x_pos, score, 1)\n",
    "#trendline = intercept + (slope * x_pos)\n",
    "\n",
    "\n",
    "clrs = ['grey' if (x < max(score)) else 'green' for x in score ]\n",
    "sns.barplot(x_pos, score, palette=clrs)#,align='center')\n",
    "sns.despine()\n",
    "plt.title('Correlation to Salary')\n",
    "plt.xticks(x_pos, coefficient) \n",
    "plt.ylabel('Coefficient Score')\n",
    "plt.show()"
   ]
  },
  {
   "cell_type": "code",
   "execution_count": 82,
   "metadata": {
    "scrolled": true
   },
   "outputs": [
    {
     "data": {
      "image/png": "[encoded data removed]",
      "text/plain": [
       "<matplotlib.figure.Figure at 0x1218e1410>"
      ]
     },
     "metadata": {},
     "output_type": "display_data"
    }
   ],
   "source": [
    "skill_coef = coefficient_dict['skill_columns']\n",
    "skill_coef.sort(key=lambda x: x[1], reverse=True) \n",
    "\n",
    "# save the names and their respective scores separately\n",
    "# reverse the tuples to go from most frequent to least frequent \n",
    "coefficient = zip(*skill_coef)[0]\n",
    "score = zip(*skill_coef)[1]\n",
    "x_pos = np.arange(len(coefficient)) \n",
    "\n",
    "# calculate slope and intercept for the linear trend line\n",
    "#slope, intercept = np.polyfit(x_pos, score, 1)\n",
    "#trendline = intercept + (slope * x_pos)\n",
    "\n",
    "plt.xticks(rotation=70)\n",
    "clrs = ['grey' if (x < max(score)) else 'green' for x in score ]\n",
    "sns.barplot(x_pos, score, palette=clrs)#,align='center')\n",
    "sns.despine()\n",
    "plt.title('Correlation to Salary')\n",
    "plt.xticks(x_pos, coefficient) \n",
    "plt.ylabel('Coefficient Score')\n",
    "plt.show()"
   ]
  },
  {
   "cell_type": "code",
   "execution_count": 83,
   "metadata": {},
   "outputs": [
    {
     "data": {
      "image/png": "[encoded data removed]",
      "text/plain": [
       "<matplotlib.figure.Figure at 0x1214c1ed0>"
      ]
     },
     "metadata": {},
     "output_type": "display_data"
    }
   ],
   "source": [
    "title_coef = coefficient_dict['title_columns']\n",
    "title_coef.sort(key=lambda x: x[1], reverse=True) \n",
    "\n",
    "# save the names and their respective scores separately\n",
    "# reverse the tuples to go from most frequent to least frequent \n",
    "coefficient = zip(*title_coef)[0]\n",
    "score = zip(*title_coef)[1]\n",
    "x_pos = np.arange(len(coefficient)) \n",
    "\n",
    "# calculate slope and intercept for the linear trend line\n",
    "#slope, intercept = np.polyfit(x_pos, score, 1)\n",
    "#trendline = intercept + (slope * x_pos)\n",
    "\n",
    "\n",
    "clrs = ['grey' if (x < max(score)) else 'green' for x in score ]\n",
    "sns.barplot(x_pos, score, palette=clrs)#,align='center')\n",
    "sns.despine()\n",
    "plt.title('Correlation to Salary')\n",
    "plt.xticks(x_pos, coefficient) \n",
    "plt.ylabel('Coefficient Score')\n",
    "plt.show()"
   ]
  },
  {
   "cell_type": "markdown",
   "metadata": {},
   "source": [
    "**Boxplots of important coefficients**"
   ]
  },
  {
   "cell_type": "code",
   "execution_count": 24,
   "metadata": {},
   "outputs": [
    {
     "data": {
      "text/plain": [
       "[('lang_java', 9278.9356364383748),\n",
       " ('lang_sql', -5979.1974090562353),\n",
       " ('lang_python', 22477.580099761119),\n",
       " ('lang_javascript', -3411.2931959196717),\n",
       " ('lang_r', 414.08802734615841)]"
      ]
     },
     "execution_count": 24,
     "metadata": {},
     "output_type": "execute_result"
    }
   ],
   "source": [
    "#sns.boxplot(coefficient_dict['lang_columns'], y_train)\n",
    "coefficient_dict['lang_columns']"
   ]
  },
  {
   "cell_type": "code",
   "execution_count": 25,
   "metadata": {
    "collapsed": true
   },
   "outputs": [],
   "source": [
    "poly = PolynomialFeatures(degree=2) "
   ]
  },
  {
   "cell_type": "code",
   "execution_count": 26,
   "metadata": {},
   "outputs": [
    {
     "data": {
      "text/plain": [
       "-1.8859867266183864e+18"
      ]
     },
     "execution_count": 26,
     "metadata": {},
     "output_type": "execute_result"
    }
   ],
   "source": [
    "lr_poly = LinearRegression()\n",
    "X_train_poly = poly.fit_transform(X_train)\n",
    "X_val_poly = poly.transform(X_val)\n",
    "\n",
    "lr_poly.fit(X_train_poly, y_train)\n",
    "lr_poly.score(X_val_poly, y_val)"
   ]
  },
  {
   "cell_type": "markdown",
   "metadata": {},
   "source": [
    "**Polynomial features do not bode well with this model. This is possibly due to the categorical nature of the features. Try relating features in the same categories with one another.**"
   ]
  },
  {
   "cell_type": "markdown",
   "metadata": {},
   "source": [
    "**Relate features related to LANGUAGE**"
   ]
  },
  {
   "cell_type": "code",
   "execution_count": 27,
   "metadata": {
    "collapsed": true
   },
   "outputs": [],
   "source": [
    "lang_relation_df = final_df[get_columns(final_df, 'lang_')]\n",
    "relation_df1 = final_df.copy()\n",
    "for i, col in enumerate(lang_relation_df.columns[:-1]):\n",
    "    for j, col2 in enumerate(lang_relation_df.columns[i+1:]):\n",
    "        relation_df1[col+'*'+col2] = relation_df1[col] * relation_df1[col2]"
   ]
  },
  {
   "cell_type": "code",
   "execution_count": 28,
   "metadata": {
    "collapsed": true
   },
   "outputs": [],
   "source": [
    "target = relation_df1.salary_estimation\n",
    "features = relation_df1.drop(['salary_estimation'], axis=1)\n",
    "X1, X1_hold, y1, y1_hold = train_test_split(features, target, test_size=0.3, random_state=42)\n",
    "X1_train, X1_val, y1_train, y1_val = train_test_split(X1, y1, test_size=0.3, random_state=42)"
   ]
  },
  {
   "cell_type": "code",
   "execution_count": 29,
   "metadata": {},
   "outputs": [
    {
     "name": "stdout",
     "output_type": "stream",
     "text": [
      "R^2 validation: 0.281858237\n"
     ]
    }
   ],
   "source": [
    "lr = LinearRegression()\n",
    "simple_regress_test(lr, X1_train, y1_train, final_columns)\n",
    "print('R^2 validation: {0:.9f}'.format(lr.score(X1_val[final_columns], y1_val)))"
   ]
  },
  {
   "cell_type": "markdown",
   "metadata": {},
   "source": [
    "**Programming language relations had no effect on the model. Try again with SKILL features**"
   ]
  },
  {
   "cell_type": "code",
   "execution_count": 30,
   "metadata": {
    "collapsed": true
   },
   "outputs": [],
   "source": [
    "skill_relation_df = final_df[get_columns(final_df, 'skill_')]\n",
    "relation_df2 = final_df.copy()\n",
    "for i, col in enumerate(skill_relation_df.columns[:-1]):\n",
    "    for j, col2 in enumerate(skill_relation_df.columns[i+1:]):\n",
    "        relation_df2[col+'*'+col2] = relation_df2[col] * relation_df2[col2]"
   ]
  },
  {
   "cell_type": "code",
   "execution_count": 31,
   "metadata": {
    "collapsed": true
   },
   "outputs": [],
   "source": [
    "target = relation_df2.salary_estimation\n",
    "features = relation_df2.drop(['salary_estimation'], axis=1)\n",
    "X2, X2_hold, y2, y2_hold = train_test_split(features, target, test_size=0.3, random_state=42)\n",
    "X2_train, X2_val, y2_train, y2_val = train_test_split(X2, y2, test_size=0.3, random_state=42)"
   ]
  },
  {
   "cell_type": "code",
   "execution_count": 32,
   "metadata": {},
   "outputs": [
    {
     "name": "stdout",
     "output_type": "stream",
     "text": [
      "R^2 validation: 0.281858237\n"
     ]
    }
   ],
   "source": [
    "lr = LinearRegression()\n",
    "simple_regress_test(lr, X2_train, y2_train, final_columns)\n",
    "print('R^2 validation: {0:.9f}'.format(lr.score(X2_val[final_columns], y2_val)))"
   ]
  },
  {
   "cell_type": "markdown",
   "metadata": {},
   "source": [
    "**Skill relations also had no effect on the model.**\n",
    "\n",
    "**Try one more time relating both SKILLS and LANGUAGES**"
   ]
  },
  {
   "cell_type": "code",
   "execution_count": 33,
   "metadata": {
    "collapsed": true
   },
   "outputs": [],
   "source": [
    "s_l_relation_df = pd.concat([final_df[lang_columns], final_df[skill_columns]], axis=1, sort=False)\n",
    "relation_df3 = final_df.copy()\n",
    "for i, col in enumerate(s_l_relation_df.columns[:-1]):\n",
    "    for j, col2 in enumerate(s_l_relation_df.columns[i+1:]):\n",
    "        relation_df3[col+'*'+col2] = relation_df3[col] * relation_df2[col2]"
   ]
  },
  {
   "cell_type": "code",
   "execution_count": 34,
   "metadata": {
    "collapsed": true
   },
   "outputs": [],
   "source": [
    "target = relation_df3.salary_estimation\n",
    "features = relation_df3.drop(['salary_estimation'], axis=1)\n",
    "X3, X3_hold, y3, y3_hold = train_test_split(features, target, test_size=0.3, random_state=42)\n",
    "X3_train, X3_val, y3_train, y3_val = train_test_split(X3, y3, test_size=0.3, random_state=42)"
   ]
  },
  {
   "cell_type": "code",
   "execution_count": 35,
   "metadata": {},
   "outputs": [
    {
     "name": "stdout",
     "output_type": "stream",
     "text": [
      "R^2 validation: 0.281858237\n"
     ]
    }
   ],
   "source": [
    "lr = LinearRegression()\n",
    "simple_regress_test(lr, X3_train, y3_train, final_columns)\n",
    "print('R^2 validation: {0:.9f}'.format(lr.score(X3_val[final_columns], y3_val)))"
   ]
  },
  {
   "cell_type": "markdown",
   "metadata": {},
   "source": [
    "**Multiplying the columns that would intuitively be related had NO EFFECT on the model. **"
   ]
  },
  {
   "cell_type": "markdown",
   "metadata": {},
   "source": [
    "**Try using regularization to constrain the large amount of features**"
   ]
  },
  {
   "cell_type": "markdown",
   "metadata": {},
   "source": [
    "### Regularization\n",
    "---"
   ]
  },
  {
   "cell_type": "code",
   "execution_count": null,
   "metadata": {
    "collapsed": true
   },
   "outputs": [],
   "source": []
  },
  {
   "cell_type": "code",
   "execution_count": 36,
   "metadata": {
    "collapsed": true
   },
   "outputs": [],
   "source": [
    "alphas = [.001, .01, .1, 1, 10, 100]\n",
    "\n",
    "kf = KFold(n_splits=5, random_state=42)"
   ]
  },
  {
   "cell_type": "code",
   "execution_count": 37,
   "metadata": {
    "collapsed": true
   },
   "outputs": [],
   "source": [
    "std = StandardScaler()\n",
    "std.fit(X_train[final_columns])\n",
    "X_tr = std.transform(X_train[final_columns])\n",
    "X_te = std.transform(X_val[final_columns])"
   ]
  },
  {
   "cell_type": "code",
   "execution_count": 38,
   "metadata": {},
   "outputs": [
    {
     "data": {
      "text/plain": [
       "LassoCV(alphas=array([  1.00000e-03,   2.89427e-03,   8.37678e-03,   2.42446e-02,\n",
       "         7.01704e-02,   2.03092e-01,   5.87802e-01,   1.70125e+00,\n",
       "         4.92388e+00,   1.42510e+01,   4.12463e+01,   1.19378e+02,\n",
       "         3.45511e+02,   1.00000e+03,   2.89427e+03,   8.37678e+03,\n",
       "         2.42446e+04,   7.01704e+04,   2.03092e+05,   5.87802e+05,\n",
       "         1.70125e+06,   4.92388e+06,   1.42510e+07,   4.12463e+07,\n",
       "         1.19378e+08,   3.45511e+08,   1.00000e+09]),\n",
       "    copy_X=True, cv=5, eps=0.001, fit_intercept=True, max_iter=1000,\n",
       "    n_alphas=100, n_jobs=1, normalize=False, positive=False,\n",
       "    precompute='auto', random_state=None, selection='cyclic', tol=0.0001,\n",
       "    verbose=False)"
      ]
     },
     "execution_count": 38,
     "metadata": {},
     "output_type": "execute_result"
    }
   ],
   "source": [
    "alphavec = 10**np.linspace(-3,9,27)\n",
    "\n",
    "lr_model = LassoCV(alphas = alphavec, cv=5)\n",
    "lr_model.fit(X_tr,y_train)"
   ]
  },
  {
   "cell_type": "code",
   "execution_count": 39,
   "metadata": {},
   "outputs": [
    {
     "data": {
      "text/plain": [
       "345.51072945922181"
      ]
     },
     "execution_count": 39,
     "metadata": {},
     "output_type": "execute_result"
    }
   ],
   "source": [
    "lr_model.alpha_"
   ]
  },
  {
   "cell_type": "code",
   "execution_count": 40,
   "metadata": {},
   "outputs": [
    {
     "data": {
      "text/plain": [
       "[('lang_java', 1384.5089969763421),\n",
       " ('lang_sql', -1592.6445836221681),\n",
       " ('lang_python', 5125.3671738502053),\n",
       " ('lang_javascript', 820.50410182861003),\n",
       " ('lang_r', -0.0),\n",
       " ('skill_visualization', -561.37388885028611),\n",
       " ('skill_machinelearning', 4101.7406628607705),\n",
       " ('skill_bigdata', 5517.9137121385511),\n",
       " ('skill_communication', -1692.7511519009606),\n",
       " ('skill_datamining', -121.99437902503065),\n",
       " ('skill_aws', 3570.9151457935809),\n",
       " ('skill_stats', -0.0),\n",
       " ('skill_predictive', 85.538861772518203),\n",
       " ('skill_algorithm', 1127.1909745113826),\n",
       " ('skill_present', -449.88796195569904),\n",
       " ('degree_ms', 339.31256788379181),\n",
       " ('degree_bs', -5527.7980258148746),\n",
       " ('degree_phd', 1714.8934707031015),\n",
       " ('title_director', 5729.5915061644037),\n",
       " ('title_intern', -1893.0159837730391),\n",
       " ('title_manager', 6004.5850966030148),\n",
       " ('title_senior', 7867.2043187491527),\n",
       " ('title_junior', -507.27467660634085)]"
      ]
     },
     "execution_count": 40,
     "metadata": {},
     "output_type": "execute_result"
    }
   ],
   "source": [
    "list(zip(X_train[final_columns].columns,lr_model.coef_))"
   ]
  },
  {
   "cell_type": "code",
   "execution_count": 42,
   "metadata": {
    "collapsed": true
   },
   "outputs": [],
   "source": [
    "test_set_pred = lr_model.predict(X_val[final_columns])"
   ]
  },
  {
   "cell_type": "markdown",
   "metadata": {},
   "source": [
    "**RMSE went up when using Lasso regression.**"
   ]
  },
  {
   "cell_type": "code",
   "execution_count": 43,
   "metadata": {},
   "outputs": [
    {
     "data": {
      "text/plain": [
       "32477.138278821429"
      ]
     },
     "execution_count": 43,
     "metadata": {},
     "output_type": "execute_result"
    }
   ],
   "source": [
    "np.sqrt(np.mean((test_set_pred - y_val)**2))"
   ]
  },
  {
   "cell_type": "markdown",
   "metadata": {},
   "source": [
    "### Final Model\n",
    "---"
   ]
  },
  {
   "cell_type": "markdown",
   "metadata": {},
   "source": [
    "**The best model for this data is the original linear model with no fetures added. **"
   ]
  },
  {
   "cell_type": "code",
   "execution_count": 44,
   "metadata": {},
   "outputs": [
    {
     "data": {
      "text/plain": [
       "0.31433277233975099"
      ]
     },
     "execution_count": 44,
     "metadata": {},
     "output_type": "execute_result"
    }
   ],
   "source": [
    "simple_regress_test(lr, X_train, y_train, final_columns)\n",
    "test_prediction = lr.predict(X_hold[final_columns])\n",
    "\n",
    "lr.score(X_hold[final_columns], y_hold)"
   ]
  },
  {
   "cell_type": "code",
   "execution_count": 45,
   "metadata": {},
   "outputs": [
    {
     "data": {
      "text/plain": [
       "31892.87760911338"
      ]
     },
     "execution_count": 45,
     "metadata": {},
     "output_type": "execute_result"
    }
   ],
   "source": [
    "np.sqrt(np.mean((test_prediction - y_hold)**2))"
   ]
  },
  {
   "cell_type": "code",
   "execution_count": null,
   "metadata": {
    "collapsed": true
   },
   "outputs": [],
   "source": []
  },
  {
   "cell_type": "code",
   "execution_count": null,
   "metadata": {
    "collapsed": true
   },
   "outputs": [],
   "source": []
  },
  {
   "cell_type": "code",
   "execution_count": null,
   "metadata": {
    "collapsed": true
   },
   "outputs": [],
   "source": []
  },
  {
   "cell_type": "code",
   "execution_count": null,
   "metadata": {
    "collapsed": true
   },
   "outputs": [],
   "source": []
  },
  {
   "cell_type": "code",
   "execution_count": null,
   "metadata": {
    "collapsed": true
   },
   "outputs": [],
   "source": []
  },
  {
   "cell_type": "code",
   "execution_count": null,
   "metadata": {
    "collapsed": true
   },
   "outputs": [],
   "source": [
    "'''\n",
    "for a in alphas:\n",
    "    cv_lm_r2s, cv_lasso_r2s, cv_ridge_r2s  = [], [], []\n",
    "    \n",
    "    for train_index, val_index in kf.split(X,y):\n",
    "        print(train_index)\n",
    "        print(val_index)\n",
    "        \n",
    "        X_train, y_train = X[train_index], y[train_index]\n",
    "        X_val, y_val = X[val_index], y[val_index]\n",
    "        \n",
    "        # simple linear regression\n",
    "        lm = LinearRegression\n",
    "        lm.fit(X_train, y_train)\n",
    "        cv_lm_r2s.append(lm.score(X_val, y_val))\n",
    "        \n",
    "        # Need to standardize for regularization\n",
    "        scaler = StandardScaler()\n",
    "        X_train = scaler.fit_transform(X_train)\n",
    "        X_val = scaler.transform(X_val)\n",
    "    \n",
    "        # Lasso regression with scaling\n",
    "        lm_lass = Lasso(a)\n",
    "        lm_lass.fit(X_train, y_train)\n",
    "        cv_lasso_r2s.append(lm_lass.score(X_val, y_val))\n",
    "        \n",
    "        # Ridge regression with scaling\n",
    "        lm_ridge = Ridge(a)\n",
    "        lm_ridge.fit(X_train, y_train)\n",
    "        cv_ridge_r2s.append(lm_ridge.score(X_val, y_val))\n",
    "        \n",
    "print('Simple regression r2s: ', cv_lm_r2s)\n",
    "print('Lasso r2s: ', cv_lasso_r2s)\n",
    "print('Ridge r2s: ', cv_ridge_r2s, '\\n')\n",
    "\n",
    "print('Simple mean cv r^2:{0:.3f}'.format(np.mean(cv_lm_r2s)))\n",
    "print('Lasso mean cv r^2: {0:.3f}'.format(np.mean(cv_lasso_r2s)))  \n",
    "print('Ridge mean cv r^2: {0:.3f}'.format(np.mean(cv_ridge_r2s)))    \n",
    "'''"
   ]
  },
  {
   "cell_type": "code",
   "execution_count": null,
   "metadata": {
    "collapsed": true
   },
   "outputs": [],
   "source": []
  },
  {
   "cell_type": "code",
   "execution_count": null,
   "metadata": {
    "collapsed": true
   },
   "outputs": [],
   "source": []
  },
  {
   "cell_type": "code",
   "execution_count": null,
   "metadata": {
    "collapsed": true
   },
   "outputs": [],
   "source": []
  },
  {
   "cell_type": "code",
   "execution_count": null,
   "metadata": {
    "collapsed": true
   },
   "outputs": [],
   "source": []
  },
  {
   "cell_type": "code",
   "execution_count": null,
   "metadata": {
    "collapsed": true
   },
   "outputs": [],
   "source": []
  },
  {
   "cell_type": "code",
   "execution_count": null,
   "metadata": {
    "collapsed": true
   },
   "outputs": [],
   "source": []
  },
  {
   "cell_type": "code",
   "execution_count": null,
   "metadata": {
    "collapsed": true
   },
   "outputs": [],
   "source": []
  },
  {
   "cell_type": "code",
   "execution_count": null,
   "metadata": {
    "collapsed": true
   },
   "outputs": [],
   "source": []
  },
  {
   "cell_type": "code",
   "execution_count": null,
   "metadata": {
    "collapsed": true
   },
   "outputs": [],
   "source": []
  },
  {
   "cell_type": "code",
   "execution_count": null,
   "metadata": {
    "collapsed": true
   },
   "outputs": [],
   "source": []
  },
  {
   "cell_type": "code",
   "execution_count": null,
   "metadata": {
    "collapsed": true
   },
   "outputs": [],
   "source": []
  },
  {
   "cell_type": "code",
   "execution_count": null,
   "metadata": {
    "collapsed": true
   },
   "outputs": [],
   "source": []
  },
  {
   "cell_type": "code",
   "execution_count": null,
   "metadata": {
    "collapsed": true
   },
   "outputs": [],
   "source": []
  },
  {
   "cell_type": "code",
   "execution_count": null,
   "metadata": {
    "collapsed": true
   },
   "outputs": [],
   "source": []
  },
  {
   "cell_type": "code",
   "execution_count": null,
   "metadata": {
    "collapsed": true
   },
   "outputs": [],
   "source": []
  },
  {
   "cell_type": "code",
   "execution_count": null,
   "metadata": {
    "collapsed": true
   },
   "outputs": [],
   "source": []
  },
  {
   "cell_type": "code",
   "execution_count": null,
   "metadata": {
    "collapsed": true
   },
   "outputs": [],
   "source": []
  },
  {
   "cell_type": "code",
   "execution_count": null,
   "metadata": {
    "collapsed": true
   },
   "outputs": [],
   "source": []
  },
  {
   "cell_type": "code",
   "execution_count": null,
   "metadata": {
    "collapsed": true
   },
   "outputs": [],
   "source": []
  },
  {
   "cell_type": "code",
   "execution_count": null,
   "metadata": {
    "collapsed": true
   },
   "outputs": [],
   "source": []
  },
  {
   "cell_type": "code",
   "execution_count": null,
   "metadata": {
    "collapsed": true
   },
   "outputs": [],
   "source": []
  },
  {
   "cell_type": "code",
   "execution_count": null,
   "metadata": {
    "collapsed": true
   },
   "outputs": [],
   "source": []
  },
  {
   "cell_type": "code",
   "execution_count": null,
   "metadata": {
    "collapsed": true
   },
   "outputs": [],
   "source": []
  },
  {
   "cell_type": "code",
   "execution_count": null,
   "metadata": {
    "collapsed": true
   },
   "outputs": [],
   "source": []
  },
  {
   "cell_type": "code",
   "execution_count": null,
   "metadata": {
    "collapsed": true
   },
   "outputs": [],
   "source": []
  },
  {
   "cell_type": "code",
   "execution_count": null,
   "metadata": {
    "collapsed": true
   },
   "outputs": [],
   "source": []
  },
  {
   "cell_type": "code",
   "execution_count": null,
   "metadata": {
    "collapsed": true
   },
   "outputs": [],
   "source": []
  },
  {
   "cell_type": "code",
   "execution_count": null,
   "metadata": {
    "collapsed": true
   },
   "outputs": [],
   "source": []
  },
  {
   "cell_type": "code",
   "execution_count": null,
   "metadata": {
    "collapsed": true
   },
   "outputs": [],
   "source": []
  },
  {
   "cell_type": "code",
   "execution_count": null,
   "metadata": {
    "collapsed": true
   },
   "outputs": [],
   "source": []
  },
  {
   "cell_type": "code",
   "execution_count": null,
   "metadata": {
    "collapsed": true
   },
   "outputs": [],
   "source": []
  },
  {
   "cell_type": "code",
   "execution_count": null,
   "metadata": {
    "collapsed": true
   },
   "outputs": [],
   "source": []
  },
  {
   "cell_type": "code",
   "execution_count": null,
   "metadata": {
    "collapsed": true
   },
   "outputs": [],
   "source": []
  }
 ],
 "metadata": {
  "kernelspec": {
   "display_name": "Python [default]",
   "language": "python",
   "name": "python2"
  },
  "language_info": {
   "codemirror_mode": {
    "name": "ipython",
    "version": 2
   },
   "file_extension": ".py",
   "mimetype": "text/x-python",
   "name": "python",
   "nbconvert_exporter": "python",
   "pygments_lexer": "ipython2",
   "version": "2.7.15"
  }
 },
 "nbformat": 4,
 "nbformat_minor": 2
}
