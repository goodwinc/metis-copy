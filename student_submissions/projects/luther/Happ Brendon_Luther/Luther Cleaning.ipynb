{
 "cells": [
  {
   "cell_type": "markdown",
   "metadata": {},
   "source": [
    "### Glassdoor data cleaning"
   ]
  },
  {
   "cell_type": "code",
   "execution_count": 1,
   "metadata": {
    "collapsed": true
   },
   "outputs": [],
   "source": [
    "# Imports\n",
    "import pandas as pd\n",
    "import pickle\n",
    "import re\n",
    "import unicodedata\n",
    "import numpy as np\n",
    "from sklearn.model_selection import train_test_split"
   ]
  },
  {
   "cell_type": "code",
   "execution_count": 2,
   "metadata": {
    "collapsed": true
   },
   "outputs": [],
   "source": [
    "with open('glass_jobs.json', 'rb') as data:\n",
    "    df = pd.read_json(data)"
   ]
  },
  {
   "cell_type": "code",
   "execution_count": 3,
   "metadata": {},
   "outputs": [
    {
     "data": {
      "text/html": [
       "<div>\n",
       "<style scoped>\n",
       "    .dataframe tbody tr th:only-of-type {\n",
       "        vertical-align: middle;\n",
       "    }\n",
       "\n",
       "    .dataframe tbody tr th {\n",
       "        vertical-align: top;\n",
       "    }\n",
       "\n",
       "    .dataframe thead th {\n",
       "        text-align: right;\n",
       "    }\n",
       "</style>\n",
       "<table border=\"1\" class=\"dataframe\">\n",
       "  <thead>\n",
       "    <tr style=\"text-align: right;\">\n",
       "      <th></th>\n",
       "      <th>description</th>\n",
       "      <th>header</th>\n",
       "      <th>salary_estimation</th>\n",
       "      <th>title</th>\n",
       "    </tr>\n",
       "  </thead>\n",
       "  <tbody>\n",
       "    <tr>\n",
       "      <th>0</th>\n",
       "      <td>[We are seeking a Data Analyst to join our Peo...</td>\n",
       "      <td>[Data Analyst, People Analytics 3.3 WeWork – N...</td>\n",
       "      <td>[$90,000]</td>\n",
       "      <td>[Data Analyst, People Analytics]</td>\n",
       "    </tr>\n",
       "    <tr>\n",
       "      <th>1</th>\n",
       "      <td>[A data scientist at Kensho is passionate abou...</td>\n",
       "      <td>[Data Scientist 5.0 Kensho – New York, NY 11 d...</td>\n",
       "      <td>[$148,000]</td>\n",
       "      <td>[Data Scientist]</td>\n",
       "    </tr>\n",
       "    <tr>\n",
       "      <th>2</th>\n",
       "      <td>[OverviewAt New York Blood Center, one of the ...</td>\n",
       "      <td>[Data Analyst 2.9 New York Blood Center – New ...</td>\n",
       "      <td>[$73,000]</td>\n",
       "      <td>[Data Analyst]</td>\n",
       "    </tr>\n",
       "    <tr>\n",
       "      <th>3</th>\n",
       "      <td>[DATA SCIENTISTAbout us ERGO Interactive is a ...</td>\n",
       "      <td>[Data Scientist 3.3 ERGO Interactive – New Yor...</td>\n",
       "      <td>[$116,000]</td>\n",
       "      <td>[Data Scientist]</td>\n",
       "    </tr>\n",
       "    <tr>\n",
       "      <th>4</th>\n",
       "      <td>[Review mortgage applications and credit.Analy...</td>\n",
       "      <td>[]</td>\n",
       "      <td>[]</td>\n",
       "      <td>[]</td>\n",
       "    </tr>\n",
       "  </tbody>\n",
       "</table>\n",
       "</div>"
      ],
      "text/plain": [
       "                                         description  \\\n",
       "0  [We are seeking a Data Analyst to join our Peo...   \n",
       "1  [A data scientist at Kensho is passionate abou...   \n",
       "2  [OverviewAt New York Blood Center, one of the ...   \n",
       "3  [DATA SCIENTISTAbout us ERGO Interactive is a ...   \n",
       "4  [Review mortgage applications and credit.Analy...   \n",
       "\n",
       "                                              header salary_estimation  \\\n",
       "0  [Data Analyst, People Analytics 3.3 WeWork – N...         [$90,000]   \n",
       "1  [Data Scientist 5.0 Kensho – New York, NY 11 d...        [$148,000]   \n",
       "2  [Data Analyst 2.9 New York Blood Center – New ...         [$73,000]   \n",
       "3  [Data Scientist 3.3 ERGO Interactive – New Yor...        [$116,000]   \n",
       "4                                                 []                []   \n",
       "\n",
       "                              title  \n",
       "0  [Data Analyst, People Analytics]  \n",
       "1                  [Data Scientist]  \n",
       "2                    [Data Analyst]  \n",
       "3                  [Data Scientist]  \n",
       "4                                []  "
      ]
     },
     "execution_count": 3,
     "metadata": {},
     "output_type": "execute_result"
    }
   ],
   "source": [
    "df.head()"
   ]
  },
  {
   "cell_type": "code",
   "execution_count": 4,
   "metadata": {
    "collapsed": true
   },
   "outputs": [],
   "source": [
    "for column in df:\n",
    "    df[column] = df[column].str.get(0)"
   ]
  },
  {
   "cell_type": "code",
   "execution_count": 5,
   "metadata": {
    "collapsed": true
   },
   "outputs": [],
   "source": [
    "# Entries without titles do not contain info for the headers\n",
    "df = df.dropna(subset=['title'])"
   ]
  },
  {
   "cell_type": "code",
   "execution_count": 6,
   "metadata": {},
   "outputs": [
    {
     "data": {
      "text/plain": [
       "(6010, 4)"
      ]
     },
     "execution_count": 6,
     "metadata": {},
     "output_type": "execute_result"
    }
   ],
   "source": [
    "df.shape"
   ]
  },
  {
   "cell_type": "code",
   "execution_count": 7,
   "metadata": {
    "scrolled": true
   },
   "outputs": [
    {
     "data": {
      "text/plain": [
       "(5080, 4)"
      ]
     },
     "execution_count": 7,
     "metadata": {},
     "output_type": "execute_result"
    }
   ],
   "source": [
    "# descriptions include entire job posting by company. If there are duplicates\n",
    "# they are definately the same job\n",
    "df = df.drop_duplicates(subset=['description'])\n",
    "df.shape"
   ]
  },
  {
   "cell_type": "code",
   "execution_count": 8,
   "metadata": {
    "scrolled": false
   },
   "outputs": [
    {
     "data": {
      "text/html": [
       "<div>\n",
       "<style scoped>\n",
       "    .dataframe tbody tr th:only-of-type {\n",
       "        vertical-align: middle;\n",
       "    }\n",
       "\n",
       "    .dataframe tbody tr th {\n",
       "        vertical-align: top;\n",
       "    }\n",
       "\n",
       "    .dataframe thead th {\n",
       "        text-align: right;\n",
       "    }\n",
       "</style>\n",
       "<table border=\"1\" class=\"dataframe\">\n",
       "  <thead>\n",
       "    <tr style=\"text-align: right;\">\n",
       "      <th></th>\n",
       "      <th>description</th>\n",
       "      <th>header</th>\n",
       "      <th>salary_estimation</th>\n",
       "      <th>title</th>\n",
       "    </tr>\n",
       "  </thead>\n",
       "  <tbody>\n",
       "    <tr>\n",
       "      <th>0</th>\n",
       "      <td>we are seeking a data analyst to join our peop...</td>\n",
       "      <td>Data Analyst, People Analytics 3.3 WeWork – Ne...</td>\n",
       "      <td>$90,000</td>\n",
       "      <td>data analyst, people analytics</td>\n",
       "    </tr>\n",
       "    <tr>\n",
       "      <th>1</th>\n",
       "      <td>a data scientist at kensho is passionate about...</td>\n",
       "      <td>Data Scientist 5.0 Kensho – New York, NY 11 da...</td>\n",
       "      <td>$148,000</td>\n",
       "      <td>data scientist</td>\n",
       "    </tr>\n",
       "    <tr>\n",
       "      <th>2</th>\n",
       "      <td>overviewat new york blood center, one of the m...</td>\n",
       "      <td>Data Analyst 2.9 New York Blood Center – New Y...</td>\n",
       "      <td>$73,000</td>\n",
       "      <td>data analyst</td>\n",
       "    </tr>\n",
       "    <tr>\n",
       "      <th>3</th>\n",
       "      <td>data scientistabout us ergo interactive is a m...</td>\n",
       "      <td>Data Scientist 3.3 ERGO Interactive – New York...</td>\n",
       "      <td>$116,000</td>\n",
       "      <td>data scientist</td>\n",
       "    </tr>\n",
       "    <tr>\n",
       "      <th>5</th>\n",
       "      <td>intent media isn't your usual company. our wor...</td>\n",
       "      <td>Data Scientist 4.7 Intent Media – New York, NY...</td>\n",
       "      <td>$140,000</td>\n",
       "      <td>data scientist</td>\n",
       "    </tr>\n",
       "  </tbody>\n",
       "</table>\n",
       "</div>"
      ],
      "text/plain": [
       "                                         description  \\\n",
       "0  we are seeking a data analyst to join our peop...   \n",
       "1  a data scientist at kensho is passionate about...   \n",
       "2  overviewat new york blood center, one of the m...   \n",
       "3  data scientistabout us ergo interactive is a m...   \n",
       "5  intent media isn't your usual company. our wor...   \n",
       "\n",
       "                                              header salary_estimation  \\\n",
       "0  Data Analyst, People Analytics 3.3 WeWork – Ne...           $90,000   \n",
       "1  Data Scientist 5.0 Kensho – New York, NY 11 da...          $148,000   \n",
       "2  Data Analyst 2.9 New York Blood Center – New Y...           $73,000   \n",
       "3  Data Scientist 3.3 ERGO Interactive – New York...          $116,000   \n",
       "5  Data Scientist 4.7 Intent Media – New York, NY...          $140,000   \n",
       "\n",
       "                            title  \n",
       "0  data analyst, people analytics  \n",
       "1                  data scientist  \n",
       "2                    data analyst  \n",
       "3                  data scientist  \n",
       "5                  data scientist  "
      ]
     },
     "execution_count": 8,
     "metadata": {},
     "output_type": "execute_result"
    }
   ],
   "source": [
    "df.title = df.title.str.lower()\n",
    "df.description = df.description.str.lower()\n",
    "df.head()"
   ]
  },
  {
   "cell_type": "markdown",
   "metadata": {},
   "source": [
    "Focus is on data related jobs. First filter out any obvious job names that dont have to do with data"
   ]
  },
  {
   "cell_type": "code",
   "execution_count": 9,
   "metadata": {},
   "outputs": [
    {
     "data": {
      "text/plain": [
       "(3201, 4)"
      ]
     },
     "execution_count": 9,
     "metadata": {},
     "output_type": "execute_result"
    }
   ],
   "source": [
    "needed_jobs = 'data|learning|predictive|engineer|scientist|science|developer|analyst|\\\n",
    "               software|java|consultant|information|product|devops|analytics|intern'\n",
    "\n",
    "needed_skills = 'python|sql|java|tableau|c/+/+|c/#|vba|pivot tables|ios|database|programmer'\n",
    "    \n",
    "df = df[(df.title.str.contains(needed_jobs)) | (df.description.str.contains(needed_skills))]\n",
    "df.shape"
   ]
  },
  {
   "cell_type": "markdown",
   "metadata": {},
   "source": [
    "This filter accounts for any jobs that would contain useful information to train the model. \n",
    "\n",
    "Next, I need to extract categorical features from the job descriptions and headers. \n",
    "\n",
    "These will then be made into dummy variables that can be used to train the model."
   ]
  },
  {
   "cell_type": "code",
   "execution_count": 10,
   "metadata": {
    "collapsed": true
   },
   "outputs": [],
   "source": [
    "df = df.reset_index(drop=True)\n",
    "# normalize annoying unicode format to allow for regex match\n",
    "df.header = df.header.map(lambda x: unicodedata.normalize('NFKD', x))\n",
    "df.header = df.header.map(lambda x: x.encode('utf-8'))\n",
    "df.header = df.header.map(lambda x: re.sub(\"\\xe2\\x80\\x93\", \"?\", x))"
   ]
  },
  {
   "cell_type": "code",
   "execution_count": 11,
   "metadata": {
    "collapsed": true
   },
   "outputs": [],
   "source": [
    "def get_location(column):\n",
    "    match_location = re.search(r'\\w([a-zA-Z]+, [a-zA-z]+) ', column)\n",
    "    return match_location.group()"
   ]
  },
  {
   "cell_type": "code",
   "execution_count": 12,
   "metadata": {
    "scrolled": true
   },
   "outputs": [
    {
     "data": {
      "text/plain": [
       "(3201, 4)"
      ]
     },
     "execution_count": 12,
     "metadata": {},
     "output_type": "execute_result"
    }
   ],
   "source": [
    "# Only select the state from the header. If cities are specified, the model overfits majorly due\n",
    "# to single jobs per city\n",
    "#df['location'] = df.header.str.extract(r'(?<=\\? )([a-zA-Z]* *[a-zA-Z]+, [a-zA-z]+)')\n",
    "#df = df.dropna(subset=['location'])\n",
    "df.shape"
   ]
  },
  {
   "cell_type": "code",
   "execution_count": 13,
   "metadata": {
    "collapsed": true
   },
   "outputs": [],
   "source": [
    "# target variable will be average salary, if no salary info is in the header or under salary_estimation,\n",
    "# the rows need to be dropped\n",
    "nanrows = df[df.salary_estimation.isnull()]"
   ]
  },
  {
   "cell_type": "code",
   "execution_count": 14,
   "metadata": {
    "scrolled": true
   },
   "outputs": [
    {
     "data": {
      "text/plain": [
       "(1119, 1)"
      ]
     },
     "execution_count": 14,
     "metadata": {},
     "output_type": "execute_result"
    }
   ],
   "source": [
    "nanrows.header.str.extract(r'(Glassdoor Est.)').isnull().shape"
   ]
  },
  {
   "cell_type": "code",
   "execution_count": 15,
   "metadata": {},
   "outputs": [
    {
     "data": {
      "text/plain": [
       "(1119, 1)"
      ]
     },
     "execution_count": 15,
     "metadata": {},
     "output_type": "execute_result"
    }
   ],
   "source": [
    "nanrows.header.str.extract(r'(Employer Est.)').isnull().shape"
   ]
  },
  {
   "cell_type": "markdown",
   "metadata": {},
   "source": [
    "So it looks like Glassdoors salary estimation is based on the ranges of values in the header.\n",
    "\n",
    "This means any values that are NaN for salary_estimation need to be dropped as there is no target variable."
   ]
  },
  {
   "cell_type": "code",
   "execution_count": 16,
   "metadata": {},
   "outputs": [
    {
     "data": {
      "text/plain": [
       "(2082, 4)"
      ]
     },
     "execution_count": 16,
     "metadata": {},
     "output_type": "execute_result"
    }
   ],
   "source": [
    "df = df.dropna(subset=['salary_estimation']).reset_index(drop=True)\n",
    "df.shape"
   ]
  },
  {
   "cell_type": "markdown",
   "metadata": {},
   "source": [
    "Now extract the features from job descriptions"
   ]
  },
  {
   "cell_type": "code",
   "execution_count": 17,
   "metadata": {
    "collapsed": true
   },
   "outputs": [],
   "source": [
    "df = df.drop(['header'], axis=1)"
   ]
  },
  {
   "cell_type": "code",
   "execution_count": 18,
   "metadata": {
    "collapsed": true
   },
   "outputs": [],
   "source": [
    "df.description = df.description.str.replace('[^\\w\\s]','')"
   ]
  },
  {
   "cell_type": "code",
   "execution_count": 19,
   "metadata": {
    "collapsed": true
   },
   "outputs": [],
   "source": [
    "df.title = df.title.str.replace('[^\\w\\s]','').str.lower()"
   ]
  },
  {
   "cell_type": "code",
   "execution_count": 20,
   "metadata": {},
   "outputs": [],
   "source": [
    "# Dictionary of feature names with corresponding re's\n",
    "re_dict = {'lang_python': re.compile(r'python'),\n",
    "           'lang_r': re.compile(r'\\br\\b|r studio'),\n",
    "           'lang_sql': re.compile(r'\\bsql\\b'),\n",
    "           'lang_java': re.compile(r'\\bjava\\b'),\n",
    "           'lang_javascript': re.compile(r'javascript'),\n",
    "           'company_vacaton': re.compile(r'vacation'),\n",
    "           'company_401k': re.compile(r'401k'),\n",
    "           'company_benefits': re.compile(r'health|medical|dental|vision|benefits'),\n",
    "           'company_travel': re.compile(r'travel'),\n",
    "           'skill_communication': re.compile(r'communication *skills'),\n",
    "           'company_food': re.compile(r'food|lunch|breakfast|snacks'),\n",
    "           'company_equity': re.compile(r'equity'),\n",
    "           'skill_datamining': re.compile(r'data *mining|mine|database|warehouse|warehousing'),\n",
    "           'skill_stats': re.compile(r'statistic|statistical|statistics|stats'),\n",
    "           'skill_predictive': re.compile(r'predict'),\n",
    "           'skill_algorithm': re.compile(r'algorithm'),\n",
    "           'skill_present': re.compile(r'\\bpresent'),\n",
    "           'skill_machinelearning': re.compile(r'machine learning|data science|scientist'),\n",
    "           'skill_aws': re.compile(r'\\baws\\b'),\n",
    "           'skill_bigdata': re.compile(r'big data|hadoop|impala|spark'),\n",
    "           'skill_visualization': re.compile(r'visualization|tableau|\\bd3\\b|ggplot'),\n",
    "           'company_pets': re.compile(r'\\bpet\\b|dog'),\n",
    "           'degree_bs': re.compile(r'bachelor|\\bbs\\b'),\n",
    "           'degree_ms': re.compile(r'master|\\bms\\b'),\n",
    "           'degree_phd': re.compile(r'phd|doctorate|doctoral'),\n",
    "           'experience_low': re.compile(r'([1-3][^0].*(?<=year).*experience)'),\n",
    "           'experience_high': re.compile(r'([4-9][^0].*(?<=year).*experience)')   \n",
    "          }\n",
    "\n"
   ]
  },
  {
   "cell_type": "code",
   "execution_count": 21,
   "metadata": {
    "collapsed": true
   },
   "outputs": [],
   "source": [
    "# Set all necessary dummy columns \n",
    "for key, _ in re_dict.items():\n",
    "    df[key] = 0"
   ]
  },
  {
   "cell_type": "code",
   "execution_count": 22,
   "metadata": {},
   "outputs": [],
   "source": [
    "# Create dummy variables for description features\n",
    "for index, value in df.description.iteritems():\n",
    "        for key, regex in re_dict.items():\n",
    "            if re.search(regex, value) is not None:\n",
    "                df.loc[index, key] = 1\n",
    "            else:\n",
    "                df.loc[index, key] = 0"
   ]
  },
  {
   "cell_type": "code",
   "execution_count": 23,
   "metadata": {
    "collapsed": true
   },
   "outputs": [],
   "source": [
    "# Dummy variable dict for title features\n",
    "title_re_dict = {'title_intern': re.compile(r'intern'),\n",
    "                 'title_senior': re.compile(r'senior|\\bsr\\b'),\n",
    "                 'title_junior': re.compile(r'junior|\\bjr\\b'),\n",
    "                 'title_manager': re.compile(r'manager'),\n",
    "                 'title_director': re.compile(r'director'),\n",
    "                 #'specialist': re.compile(r'specialist')\n",
    "                }"
   ]
  },
  {
   "cell_type": "code",
   "execution_count": 24,
   "metadata": {
    "collapsed": true
   },
   "outputs": [],
   "source": [
    "# Set all necessary dummy columns \n",
    "for key, _ in title_re_dict.items():\n",
    "    df[key] = 0"
   ]
  },
  {
   "cell_type": "code",
   "execution_count": 25,
   "metadata": {},
   "outputs": [],
   "source": [
    "# Create dummy variables for title features ie: intern/fulltime/contract (none labeled contract)\n",
    "for index, value in df.title.iteritems():\n",
    "        for key, regex in title_re_dict.items():\n",
    "            if re.search(regex, value) is not None:\n",
    "                df.loc[index, key] = 1\n",
    "            else:\n",
    "                df.loc[index, key] = 0"
   ]
  },
  {
   "cell_type": "code",
   "execution_count": 26,
   "metadata": {
    "collapsed": true
   },
   "outputs": [],
   "source": [
    "# Locations are all in same format, get_dummies can be used\n",
    "#loc_df = pd.get_dummies(df.location, prefix='loc_')"
   ]
  },
  {
   "cell_type": "code",
   "execution_count": 27,
   "metadata": {},
   "outputs": [],
   "source": [
    "#final_df = df.join(loc_df)\n",
    "final_df = df"
   ]
  },
  {
   "cell_type": "code",
   "execution_count": 28,
   "metadata": {
    "collapsed": true
   },
   "outputs": [],
   "source": [
    "final_df.salary_estimation = final_df.salary_estimation.infer_objects()\n",
    "final_df.salary_estimation = final_df.salary_estimation.replace('[\\$,]', '', regex=True).astype(float)"
   ]
  },
  {
   "cell_type": "code",
   "execution_count": 29,
   "metadata": {
    "scrolled": false
   },
   "outputs": [],
   "source": [
    "final_df.drop(['description', 'title'], axis=1, inplace=True)\n",
    "final_df = final_df[final_df.salary_estimation > 50]"
   ]
  },
  {
   "cell_type": "code",
   "execution_count": 30,
   "metadata": {
    "collapsed": true
   },
   "outputs": [],
   "source": [
    "#save the data set and load in new notebook to avoid confusion\n",
    "with open('final_data.pkl', 'wb') as f:\n",
    "    pickle.dump(final_df,f)"
   ]
  },
  {
   "cell_type": "code",
   "execution_count": null,
   "metadata": {
    "collapsed": true
   },
   "outputs": [],
   "source": []
  },
  {
   "cell_type": "code",
   "execution_count": null,
   "metadata": {
    "collapsed": true
   },
   "outputs": [],
   "source": []
  }
 ],
 "metadata": {
  "kernelspec": {
   "display_name": "Python [default]",
   "language": "python",
   "name": "python2"
  },
  "language_info": {
   "codemirror_mode": {
    "name": "ipython",
    "version": 2
   },
   "file_extension": ".py",
   "mimetype": "text/x-python",
   "name": "python",
   "nbconvert_exporter": "python",
   "pygments_lexer": "ipython2",
   "version": "2.7.15"
  }
 },
 "nbformat": 4,
 "nbformat_minor": 2
}
