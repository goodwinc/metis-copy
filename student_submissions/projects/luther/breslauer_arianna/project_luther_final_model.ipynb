{
 "cells": [
  {
   "cell_type": "code",
   "execution_count": 50,
   "metadata": {},
   "outputs": [],
   "source": [
    "import statsmodels.api as sm\n",
    "import statsmodels.formula.api as smf \n",
    "import pandas as pd\n",
    "import numpy as np\n",
    "import matplotlib.pyplot as plt\n",
    "import seaborn as sns\n",
    "from sklearn import linear_model\n",
    "from sklearn.linear_model import LinearRegression, Ridge, Lasso, LassoCV, RidgeCV\n",
    "from sklearn.model_selection import train_test_split, cross_val_score, KFold\n",
    "from sklearn.preprocessing import StandardScaler, PolynomialFeatures\n",
    "pd.options.display.max_columns = None\n",
    "%matplotlib inline\n",
    "from IPython.display import display"
   ]
  },
  {
   "cell_type": "code",
   "execution_count": 51,
   "metadata": {},
   "outputs": [
    {
     "name": "stdout",
     "output_type": "stream",
     "text": [
      "<class 'pandas.core.frame.DataFrame'>\n",
      "RangeIndex: 796 entries, 0 to 795\n",
      "Data columns (total 33 columns):\n",
      "Unnamed: 0               796 non-null int64\n",
      "Title                    796 non-null object\n",
      "Release Date             796 non-null object\n",
      "IMDB Rating              796 non-null float64\n",
      "MPAA Rating              796 non-null float64\n",
      "Runtime                  796 non-null float64\n",
      "Actor Score              796 non-null float64\n",
      "Action                   796 non-null float64\n",
      "Adventure                796 non-null float64\n",
      "Animation                796 non-null float64\n",
      "Biography                796 non-null float64\n",
      "Comedy                   796 non-null float64\n",
      "Crime                    796 non-null float64\n",
      "Drama                    796 non-null float64\n",
      "Family                   796 non-null float64\n",
      "Fantasy                  796 non-null float64\n",
      "History                  796 non-null float64\n",
      "Horror                   796 non-null float64\n",
      "Music                    796 non-null float64\n",
      "Mystery                  796 non-null float64\n",
      "Romance                  796 non-null float64\n",
      "SciFi                    796 non-null float64\n",
      "Sport                    796 non-null float64\n",
      "Thriller                 796 non-null float64\n",
      "War                      796 non-null float64\n",
      "Western                  796 non-null float64\n",
      "Opening Weekend Gross    796 non-null float64\n",
      "Opening Theaters         796 non-null float64\n",
      "Peak Season              796 non-null float64\n",
      "Budget                   796 non-null int64\n",
      "Total US Gross           796 non-null float64\n",
      "UK Gross                 789 non-null object\n",
      "Worldwide Gross ex US    796 non-null int64\n",
      "dtypes: float64(27), int64(3), object(3)\n",
      "memory usage: 205.3+ KB\n"
     ]
    }
   ],
   "source": [
    "movies_all=pd.read_csv('../movies.csv')\n",
    "movies_all.info()"
   ]
  },
  {
   "cell_type": "code",
   "execution_count": 52,
   "metadata": {},
   "outputs": [
    {
     "data": {
      "text/html": [
       "<div>\n",
       "<style scoped>\n",
       "    .dataframe tbody tr th:only-of-type {\n",
       "        vertical-align: middle;\n",
       "    }\n",
       "\n",
       "    .dataframe tbody tr th {\n",
       "        vertical-align: top;\n",
       "    }\n",
       "\n",
       "    .dataframe thead th {\n",
       "        text-align: right;\n",
       "    }\n",
       "</style>\n",
       "<table border=\"1\" class=\"dataframe\">\n",
       "  <thead>\n",
       "    <tr style=\"text-align: right;\">\n",
       "      <th></th>\n",
       "      <th>Unnamed: 0</th>\n",
       "      <th>Title</th>\n",
       "      <th>Release Date</th>\n",
       "      <th>IMDB Rating</th>\n",
       "      <th>MPAA Rating</th>\n",
       "      <th>Runtime</th>\n",
       "      <th>Actor Score</th>\n",
       "      <th>Action</th>\n",
       "      <th>Adventure</th>\n",
       "      <th>Animation</th>\n",
       "      <th>Biography</th>\n",
       "      <th>Comedy</th>\n",
       "      <th>Crime</th>\n",
       "      <th>Drama</th>\n",
       "      <th>Family</th>\n",
       "      <th>Fantasy</th>\n",
       "      <th>History</th>\n",
       "      <th>Horror</th>\n",
       "      <th>Music</th>\n",
       "      <th>Mystery</th>\n",
       "      <th>Romance</th>\n",
       "      <th>SciFi</th>\n",
       "      <th>Sport</th>\n",
       "      <th>Thriller</th>\n",
       "      <th>War</th>\n",
       "      <th>Western</th>\n",
       "      <th>Opening Weekend Gross</th>\n",
       "      <th>Opening Theaters</th>\n",
       "      <th>Peak Season</th>\n",
       "      <th>Budget</th>\n",
       "      <th>Total US Gross</th>\n",
       "      <th>UK Gross</th>\n",
       "      <th>Worldwide Gross ex US</th>\n",
       "    </tr>\n",
       "  </thead>\n",
       "  <tbody>\n",
       "    <tr>\n",
       "      <th>0</th>\n",
       "      <td>4</td>\n",
       "      <td>Deadpool 2</td>\n",
       "      <td>2018-05-18</td>\n",
       "      <td>7.9</td>\n",
       "      <td>4.0</td>\n",
       "      <td>119.0</td>\n",
       "      <td>2.0</td>\n",
       "      <td>1.0</td>\n",
       "      <td>1.0</td>\n",
       "      <td>0.0</td>\n",
       "      <td>0.0</td>\n",
       "      <td>1.0</td>\n",
       "      <td>0.0</td>\n",
       "      <td>0.0</td>\n",
       "      <td>0.0</td>\n",
       "      <td>0.0</td>\n",
       "      <td>0.0</td>\n",
       "      <td>0.0</td>\n",
       "      <td>0.0</td>\n",
       "      <td>0.0</td>\n",
       "      <td>0.0</td>\n",
       "      <td>0.0</td>\n",
       "      <td>0.0</td>\n",
       "      <td>0.0</td>\n",
       "      <td>0.0</td>\n",
       "      <td>0.0</td>\n",
       "      <td>125507153.0</td>\n",
       "      <td>4349.0</td>\n",
       "      <td>1.0</td>\n",
       "      <td>110000000</td>\n",
       "      <td>318490675.0</td>\n",
       "      <td>44625880</td>\n",
       "      <td>415754495</td>\n",
       "    </tr>\n",
       "    <tr>\n",
       "      <th>1</th>\n",
       "      <td>5</td>\n",
       "      <td>Crazy Rich Asians</td>\n",
       "      <td>2018-08-15</td>\n",
       "      <td>7.5</td>\n",
       "      <td>3.0</td>\n",
       "      <td>120.0</td>\n",
       "      <td>0.0</td>\n",
       "      <td>0.0</td>\n",
       "      <td>0.0</td>\n",
       "      <td>0.0</td>\n",
       "      <td>0.0</td>\n",
       "      <td>1.0</td>\n",
       "      <td>0.0</td>\n",
       "      <td>0.0</td>\n",
       "      <td>0.0</td>\n",
       "      <td>0.0</td>\n",
       "      <td>0.0</td>\n",
       "      <td>0.0</td>\n",
       "      <td>0.0</td>\n",
       "      <td>0.0</td>\n",
       "      <td>1.0</td>\n",
       "      <td>0.0</td>\n",
       "      <td>0.0</td>\n",
       "      <td>0.0</td>\n",
       "      <td>0.0</td>\n",
       "      <td>0.0</td>\n",
       "      <td>26510140.0</td>\n",
       "      <td>3384.0</td>\n",
       "      <td>0.0</td>\n",
       "      <td>30000000</td>\n",
       "      <td>171367368.0</td>\n",
       "      <td>7088511</td>\n",
       "      <td>57000000</td>\n",
       "    </tr>\n",
       "    <tr>\n",
       "      <th>2</th>\n",
       "      <td>8</td>\n",
       "      <td>Hotel Transylvania 3: Summer Vacation</td>\n",
       "      <td>2018-07-13</td>\n",
       "      <td>6.3</td>\n",
       "      <td>2.0</td>\n",
       "      <td>97.0</td>\n",
       "      <td>4.0</td>\n",
       "      <td>0.0</td>\n",
       "      <td>1.0</td>\n",
       "      <td>1.0</td>\n",
       "      <td>0.0</td>\n",
       "      <td>1.0</td>\n",
       "      <td>0.0</td>\n",
       "      <td>0.0</td>\n",
       "      <td>0.0</td>\n",
       "      <td>0.0</td>\n",
       "      <td>0.0</td>\n",
       "      <td>0.0</td>\n",
       "      <td>0.0</td>\n",
       "      <td>0.0</td>\n",
       "      <td>0.0</td>\n",
       "      <td>0.0</td>\n",
       "      <td>0.0</td>\n",
       "      <td>0.0</td>\n",
       "      <td>0.0</td>\n",
       "      <td>0.0</td>\n",
       "      <td>44076225.0</td>\n",
       "      <td>4267.0</td>\n",
       "      <td>1.0</td>\n",
       "      <td>44076225152018</td>\n",
       "      <td>166735989.0</td>\n",
       "      <td>24882543</td>\n",
       "      <td>350000000</td>\n",
       "    </tr>\n",
       "    <tr>\n",
       "      <th>3</th>\n",
       "      <td>9</td>\n",
       "      <td>Incredibles 2</td>\n",
       "      <td>2018-06-15</td>\n",
       "      <td>8.0</td>\n",
       "      <td>2.0</td>\n",
       "      <td>118.0</td>\n",
       "      <td>4.0</td>\n",
       "      <td>1.0</td>\n",
       "      <td>1.0</td>\n",
       "      <td>1.0</td>\n",
       "      <td>0.0</td>\n",
       "      <td>0.0</td>\n",
       "      <td>0.0</td>\n",
       "      <td>0.0</td>\n",
       "      <td>0.0</td>\n",
       "      <td>0.0</td>\n",
       "      <td>0.0</td>\n",
       "      <td>0.0</td>\n",
       "      <td>0.0</td>\n",
       "      <td>0.0</td>\n",
       "      <td>0.0</td>\n",
       "      <td>0.0</td>\n",
       "      <td>0.0</td>\n",
       "      <td>0.0</td>\n",
       "      <td>0.0</td>\n",
       "      <td>0.0</td>\n",
       "      <td>182687905.0</td>\n",
       "      <td>4410.0</td>\n",
       "      <td>1.0</td>\n",
       "      <td>200000000</td>\n",
       "      <td>607498593.0</td>\n",
       "      <td>72640083</td>\n",
       "      <td>620000000</td>\n",
       "    </tr>\n",
       "    <tr>\n",
       "      <th>4</th>\n",
       "      <td>11</td>\n",
       "      <td>BlacKkKlansman</td>\n",
       "      <td>2018-08-10</td>\n",
       "      <td>7.8</td>\n",
       "      <td>4.0</td>\n",
       "      <td>135.0</td>\n",
       "      <td>1.0</td>\n",
       "      <td>0.0</td>\n",
       "      <td>0.0</td>\n",
       "      <td>0.0</td>\n",
       "      <td>1.0</td>\n",
       "      <td>1.0</td>\n",
       "      <td>1.0</td>\n",
       "      <td>0.0</td>\n",
       "      <td>0.0</td>\n",
       "      <td>0.0</td>\n",
       "      <td>0.0</td>\n",
       "      <td>0.0</td>\n",
       "      <td>0.0</td>\n",
       "      <td>0.0</td>\n",
       "      <td>0.0</td>\n",
       "      <td>0.0</td>\n",
       "      <td>0.0</td>\n",
       "      <td>0.0</td>\n",
       "      <td>0.0</td>\n",
       "      <td>0.0</td>\n",
       "      <td>10845330.0</td>\n",
       "      <td>1512.0</td>\n",
       "      <td>0.0</td>\n",
       "      <td>15000000</td>\n",
       "      <td>48271960.0</td>\n",
       "      <td>8162767</td>\n",
       "      <td>36300000</td>\n",
       "    </tr>\n",
       "  </tbody>\n",
       "</table>\n",
       "</div>"
      ],
      "text/plain": [
       "   Unnamed: 0                                  Title Release Date  \\\n",
       "0           4                             Deadpool 2   2018-05-18   \n",
       "1           5                      Crazy Rich Asians   2018-08-15   \n",
       "2           8  Hotel Transylvania 3: Summer Vacation   2018-07-13   \n",
       "3           9                          Incredibles 2   2018-06-15   \n",
       "4          11                         BlacKkKlansman   2018-08-10   \n",
       "\n",
       "   IMDB Rating  MPAA Rating  Runtime  Actor Score  Action  Adventure  \\\n",
       "0          7.9          4.0    119.0          2.0     1.0        1.0   \n",
       "1          7.5          3.0    120.0          0.0     0.0        0.0   \n",
       "2          6.3          2.0     97.0          4.0     0.0        1.0   \n",
       "3          8.0          2.0    118.0          4.0     1.0        1.0   \n",
       "4          7.8          4.0    135.0          1.0     0.0        0.0   \n",
       "\n",
       "   Animation  Biography  Comedy  Crime  Drama  Family  Fantasy  History  \\\n",
       "0        0.0        0.0     1.0    0.0    0.0     0.0      0.0      0.0   \n",
       "1        0.0        0.0     1.0    0.0    0.0     0.0      0.0      0.0   \n",
       "2        1.0        0.0     1.0    0.0    0.0     0.0      0.0      0.0   \n",
       "3        1.0        0.0     0.0    0.0    0.0     0.0      0.0      0.0   \n",
       "4        0.0        1.0     1.0    1.0    0.0     0.0      0.0      0.0   \n",
       "\n",
       "   Horror  Music  Mystery  Romance  SciFi  Sport  Thriller  War  Western  \\\n",
       "0     0.0    0.0      0.0      0.0    0.0    0.0       0.0  0.0      0.0   \n",
       "1     0.0    0.0      0.0      1.0    0.0    0.0       0.0  0.0      0.0   \n",
       "2     0.0    0.0      0.0      0.0    0.0    0.0       0.0  0.0      0.0   \n",
       "3     0.0    0.0      0.0      0.0    0.0    0.0       0.0  0.0      0.0   \n",
       "4     0.0    0.0      0.0      0.0    0.0    0.0       0.0  0.0      0.0   \n",
       "\n",
       "   Opening Weekend Gross  Opening Theaters  Peak Season          Budget  \\\n",
       "0            125507153.0            4349.0          1.0       110000000   \n",
       "1             26510140.0            3384.0          0.0        30000000   \n",
       "2             44076225.0            4267.0          1.0  44076225152018   \n",
       "3            182687905.0            4410.0          1.0       200000000   \n",
       "4             10845330.0            1512.0          0.0        15000000   \n",
       "\n",
       "   Total US Gross  UK Gross  Worldwide Gross ex US  \n",
       "0     318490675.0  44625880              415754495  \n",
       "1     171367368.0   7088511               57000000  \n",
       "2     166735989.0  24882543              350000000  \n",
       "3     607498593.0  72640083              620000000  \n",
       "4      48271960.0   8162767               36300000  "
      ]
     },
     "execution_count": 52,
     "metadata": {},
     "output_type": "execute_result"
    }
   ],
   "source": [
    "movies_all.head()"
   ]
  },
  {
   "cell_type": "code",
   "execution_count": 53,
   "metadata": {},
   "outputs": [],
   "source": [
    "del movies_all['Unnamed: 0']"
   ]
  },
  {
   "cell_type": "code",
   "execution_count": 54,
   "metadata": {},
   "outputs": [],
   "source": [
    "movies_all = movies_all.dropna()\n",
    "# dropped all null values for sake of time"
   ]
  },
  {
   "cell_type": "code",
   "execution_count": 55,
   "metadata": {},
   "outputs": [],
   "source": [
    "# clean data set by removing any movies with fewer than 100 theater locations\n",
    "movies_all = movies_all[movies_all['Opening Theaters'] > 100]"
   ]
  },
  {
   "cell_type": "code",
   "execution_count": 56,
   "metadata": {},
   "outputs": [
    {
     "name": "stdout",
     "output_type": "stream",
     "text": [
      "<class 'pandas.core.frame.DataFrame'>\n",
      "Int64Index: 588 entries, 0 to 790\n",
      "Data columns (total 32 columns):\n",
      "Title                    588 non-null object\n",
      "Release Date             588 non-null object\n",
      "IMDB Rating              588 non-null float64\n",
      "MPAA Rating              588 non-null float64\n",
      "Runtime                  588 non-null float64\n",
      "Actor Score              588 non-null float64\n",
      "Action                   588 non-null float64\n",
      "Adventure                588 non-null float64\n",
      "Animation                588 non-null float64\n",
      "Biography                588 non-null float64\n",
      "Comedy                   588 non-null float64\n",
      "Crime                    588 non-null float64\n",
      "Drama                    588 non-null float64\n",
      "Family                   588 non-null float64\n",
      "Fantasy                  588 non-null float64\n",
      "History                  588 non-null float64\n",
      "Horror                   588 non-null float64\n",
      "Music                    588 non-null float64\n",
      "Mystery                  588 non-null float64\n",
      "Romance                  588 non-null float64\n",
      "SciFi                    588 non-null float64\n",
      "Sport                    588 non-null float64\n",
      "Thriller                 588 non-null float64\n",
      "War                      588 non-null float64\n",
      "Western                  588 non-null float64\n",
      "Opening Weekend Gross    588 non-null float64\n",
      "Opening Theaters         588 non-null float64\n",
      "Peak Season              588 non-null float64\n",
      "Budget                   588 non-null int64\n",
      "Total US Gross           588 non-null float64\n",
      "UK Gross                 588 non-null object\n",
      "Worldwide Gross ex US    588 non-null int64\n",
      "dtypes: float64(27), int64(2), object(3)\n",
      "memory usage: 151.6+ KB\n"
     ]
    }
   ],
   "source": [
    "movies_all.info()"
   ]
  },
  {
   "cell_type": "code",
   "execution_count": 57,
   "metadata": {},
   "outputs": [
    {
     "name": "stdout",
     "output_type": "stream",
     "text": [
      "0.0    488\n",
      "1.0    100\n",
      "Name: Action, dtype: int64\n",
      "0.0    433\n",
      "1.0    155\n",
      "Name: Adventure, dtype: int64\n",
      "0.0    502\n",
      "1.0     86\n",
      "Name: Animation, dtype: int64\n",
      "0.0    580\n",
      "1.0      8\n",
      "Name: Biography, dtype: int64\n",
      "0.0    516\n",
      "1.0     72\n",
      "Name: Crime, dtype: int64\n",
      "0.0    444\n",
      "1.0    144\n",
      "Name: Drama, dtype: int64\n",
      "0.0    510\n",
      "1.0     78\n",
      "Name: Family, dtype: int64\n",
      "0.0    547\n",
      "1.0     41\n",
      "Name: Fantasy, dtype: int64\n",
      "0.0    588\n",
      "Name: History, dtype: int64\n",
      "0.0    579\n",
      "1.0      9\n",
      "Name: Horror, dtype: int64\n",
      "0.0    567\n",
      "1.0     21\n",
      "Name: Music, dtype: int64\n",
      "0.0    582\n",
      "1.0      6\n",
      "Name: Mystery, dtype: int64\n",
      "0.0    439\n",
      "1.0    149\n",
      "Name: Romance, dtype: int64\n",
      "0.0    574\n",
      "1.0     14\n",
      "Name: Sport, dtype: int64\n",
      "0.0    582\n",
      "1.0      6\n",
      "Name: Thriller, dtype: int64\n"
     ]
    }
   ],
   "source": [
    "# trying to find most common genres in data set to isolate these as one feature\n",
    "print(movies_all['Action'].value_counts())\n",
    "print(movies_all['Adventure'].value_counts())\n",
    "print(movies_all['Animation'].value_counts())\n",
    "print(movies_all['Biography'].value_counts())\n",
    "print(movies_all['Crime'].value_counts())\n",
    "print(movies_all['Drama'].value_counts())\n",
    "print(movies_all['Family'].value_counts())\n",
    "print(movies_all['Fantasy'].value_counts())\n",
    "print(movies_all['History'].value_counts())\n",
    "print(movies_all['Horror'].value_counts())\n",
    "print(movies_all['Music'].value_counts())\n",
    "print(movies_all['Mystery'].value_counts())\n",
    "print(movies_all['Romance'].value_counts())\n",
    "print(movies_all['Sport'].value_counts())\n",
    "print(movies_all['Thriller'].value_counts())"
   ]
  },
  {
   "cell_type": "code",
   "execution_count": 58,
   "metadata": {},
   "outputs": [],
   "source": [
    "# Top categories (7 given)\n",
    "movies_all['Top Genres'] = movies_all['Action'] + movies_all['Adventure'] + movies_all['Animation'] + movies_all['Crime'] + movies_all['Drama']+ movies_all['Family']+ movies_all['Romance']"
   ]
  },
  {
   "cell_type": "code",
   "execution_count": 59,
   "metadata": {},
   "outputs": [],
   "source": [
    "movies_all = movies_all[['Title','Release Date','Peak Season','IMDB Rating','MPAA Rating','Runtime','Actor Score','Top Genres','Opening Weekend Gross','Opening Theaters','Budget','Worldwide Gross ex US']]"
   ]
  },
  {
   "cell_type": "code",
   "execution_count": 60,
   "metadata": {},
   "outputs": [
    {
     "data": {
      "text/html": [
       "<div>\n",
       "<style scoped>\n",
       "    .dataframe tbody tr th:only-of-type {\n",
       "        vertical-align: middle;\n",
       "    }\n",
       "\n",
       "    .dataframe tbody tr th {\n",
       "        vertical-align: top;\n",
       "    }\n",
       "\n",
       "    .dataframe thead th {\n",
       "        text-align: right;\n",
       "    }\n",
       "</style>\n",
       "<table border=\"1\" class=\"dataframe\">\n",
       "  <thead>\n",
       "    <tr style=\"text-align: right;\">\n",
       "      <th></th>\n",
       "      <th>Title</th>\n",
       "      <th>Release Date</th>\n",
       "      <th>Peak Season</th>\n",
       "      <th>IMDB Rating</th>\n",
       "      <th>MPAA Rating</th>\n",
       "      <th>Runtime</th>\n",
       "      <th>Actor Score</th>\n",
       "      <th>Top Genres</th>\n",
       "      <th>Opening Weekend Gross</th>\n",
       "      <th>Opening Theaters</th>\n",
       "      <th>Budget</th>\n",
       "      <th>Worldwide Gross ex US</th>\n",
       "    </tr>\n",
       "  </thead>\n",
       "  <tbody>\n",
       "    <tr>\n",
       "      <th>472</th>\n",
       "      <td>My Big Fat Greek Wedding 2</td>\n",
       "      <td>2016-03-25</td>\n",
       "      <td>0.0</td>\n",
       "      <td>6.0</td>\n",
       "      <td>3.0</td>\n",
       "      <td>94.0</td>\n",
       "      <td>1.0</td>\n",
       "      <td>1.0</td>\n",
       "      <td>17861950.0</td>\n",
       "      <td>3133.0</td>\n",
       "      <td>18000000</td>\n",
       "      <td>29233646</td>\n",
       "    </tr>\n",
       "  </tbody>\n",
       "</table>\n",
       "</div>"
      ],
      "text/plain": [
       "                          Title Release Date  Peak Season  IMDB Rating  \\\n",
       "472  My Big Fat Greek Wedding 2   2016-03-25          0.0          6.0   \n",
       "\n",
       "     MPAA Rating  Runtime  Actor Score  Top Genres  Opening Weekend Gross  \\\n",
       "472          3.0     94.0          1.0         1.0             17861950.0   \n",
       "\n",
       "     Opening Theaters    Budget  Worldwide Gross ex US  \n",
       "472            3133.0  18000000               29233646  "
      ]
     },
     "execution_count": 60,
     "metadata": {},
     "output_type": "execute_result"
    }
   ],
   "source": [
    "movies_all.sample()"
   ]
  },
  {
   "cell_type": "code",
   "execution_count": null,
   "metadata": {},
   "outputs": [],
   "source": []
  },
  {
   "cell_type": "code",
   "execution_count": 61,
   "metadata": {},
   "outputs": [
    {
     "data": {
      "text/html": [
       "<div>\n",
       "<style scoped>\n",
       "    .dataframe tbody tr th:only-of-type {\n",
       "        vertical-align: middle;\n",
       "    }\n",
       "\n",
       "    .dataframe tbody tr th {\n",
       "        vertical-align: top;\n",
       "    }\n",
       "\n",
       "    .dataframe thead th {\n",
       "        text-align: right;\n",
       "    }\n",
       "</style>\n",
       "<table border=\"1\" class=\"dataframe\">\n",
       "  <thead>\n",
       "    <tr style=\"text-align: right;\">\n",
       "      <th></th>\n",
       "      <th>Peak Season</th>\n",
       "      <th>IMDB Rating</th>\n",
       "      <th>MPAA Rating</th>\n",
       "      <th>Runtime</th>\n",
       "      <th>Actor Score</th>\n",
       "      <th>Top Genres</th>\n",
       "      <th>Opening Weekend Gross</th>\n",
       "      <th>Opening Theaters</th>\n",
       "      <th>Budget</th>\n",
       "      <th>Worldwide Gross ex US</th>\n",
       "    </tr>\n",
       "  </thead>\n",
       "  <tbody>\n",
       "    <tr>\n",
       "      <th>Peak Season</th>\n",
       "      <td>1.000000</td>\n",
       "      <td>0.088701</td>\n",
       "      <td>-0.118992</td>\n",
       "      <td>0.038624</td>\n",
       "      <td>0.171726</td>\n",
       "      <td>0.092540</td>\n",
       "      <td>0.267332</td>\n",
       "      <td>0.224165</td>\n",
       "      <td>0.061585</td>\n",
       "      <td>0.297721</td>\n",
       "    </tr>\n",
       "    <tr>\n",
       "      <th>IMDB Rating</th>\n",
       "      <td>0.088701</td>\n",
       "      <td>1.000000</td>\n",
       "      <td>0.083488</td>\n",
       "      <td>0.359223</td>\n",
       "      <td>0.271101</td>\n",
       "      <td>0.169644</td>\n",
       "      <td>0.310621</td>\n",
       "      <td>0.020450</td>\n",
       "      <td>0.095928</td>\n",
       "      <td>0.371104</td>\n",
       "    </tr>\n",
       "    <tr>\n",
       "      <th>MPAA Rating</th>\n",
       "      <td>-0.118992</td>\n",
       "      <td>0.083488</td>\n",
       "      <td>1.000000</td>\n",
       "      <td>0.243973</td>\n",
       "      <td>0.086005</td>\n",
       "      <td>-0.401436</td>\n",
       "      <td>-0.192175</td>\n",
       "      <td>-0.327778</td>\n",
       "      <td>-0.199644</td>\n",
       "      <td>-0.263671</td>\n",
       "    </tr>\n",
       "    <tr>\n",
       "      <th>Runtime</th>\n",
       "      <td>0.038624</td>\n",
       "      <td>0.359223</td>\n",
       "      <td>0.243973</td>\n",
       "      <td>1.000000</td>\n",
       "      <td>0.116386</td>\n",
       "      <td>0.043548</td>\n",
       "      <td>0.072878</td>\n",
       "      <td>-0.065166</td>\n",
       "      <td>-0.100328</td>\n",
       "      <td>0.042057</td>\n",
       "    </tr>\n",
       "    <tr>\n",
       "      <th>Actor Score</th>\n",
       "      <td>0.171726</td>\n",
       "      <td>0.271101</td>\n",
       "      <td>0.086005</td>\n",
       "      <td>0.116386</td>\n",
       "      <td>1.000000</td>\n",
       "      <td>-0.009223</td>\n",
       "      <td>0.367962</td>\n",
       "      <td>0.270752</td>\n",
       "      <td>0.117955</td>\n",
       "      <td>0.391667</td>\n",
       "    </tr>\n",
       "    <tr>\n",
       "      <th>Top Genres</th>\n",
       "      <td>0.092540</td>\n",
       "      <td>0.169644</td>\n",
       "      <td>-0.401436</td>\n",
       "      <td>0.043548</td>\n",
       "      <td>-0.009223</td>\n",
       "      <td>1.000000</td>\n",
       "      <td>0.197908</td>\n",
       "      <td>0.161273</td>\n",
       "      <td>0.196853</td>\n",
       "      <td>0.333239</td>\n",
       "    </tr>\n",
       "    <tr>\n",
       "      <th>Opening Weekend Gross</th>\n",
       "      <td>0.267332</td>\n",
       "      <td>0.310621</td>\n",
       "      <td>-0.192175</td>\n",
       "      <td>0.072878</td>\n",
       "      <td>0.367962</td>\n",
       "      <td>0.197908</td>\n",
       "      <td>1.000000</td>\n",
       "      <td>0.600403</td>\n",
       "      <td>0.245241</td>\n",
       "      <td>0.764147</td>\n",
       "    </tr>\n",
       "    <tr>\n",
       "      <th>Opening Theaters</th>\n",
       "      <td>0.224165</td>\n",
       "      <td>0.020450</td>\n",
       "      <td>-0.327778</td>\n",
       "      <td>-0.065166</td>\n",
       "      <td>0.270752</td>\n",
       "      <td>0.161273</td>\n",
       "      <td>0.600403</td>\n",
       "      <td>1.000000</td>\n",
       "      <td>0.206201</td>\n",
       "      <td>0.478100</td>\n",
       "    </tr>\n",
       "    <tr>\n",
       "      <th>Budget</th>\n",
       "      <td>0.061585</td>\n",
       "      <td>0.095928</td>\n",
       "      <td>-0.199644</td>\n",
       "      <td>-0.100328</td>\n",
       "      <td>0.117955</td>\n",
       "      <td>0.196853</td>\n",
       "      <td>0.245241</td>\n",
       "      <td>0.206201</td>\n",
       "      <td>1.000000</td>\n",
       "      <td>0.367956</td>\n",
       "    </tr>\n",
       "    <tr>\n",
       "      <th>Worldwide Gross ex US</th>\n",
       "      <td>0.297721</td>\n",
       "      <td>0.371104</td>\n",
       "      <td>-0.263671</td>\n",
       "      <td>0.042057</td>\n",
       "      <td>0.391667</td>\n",
       "      <td>0.333239</td>\n",
       "      <td>0.764147</td>\n",
       "      <td>0.478100</td>\n",
       "      <td>0.367956</td>\n",
       "      <td>1.000000</td>\n",
       "    </tr>\n",
       "  </tbody>\n",
       "</table>\n",
       "</div>"
      ],
      "text/plain": [
       "                       Peak Season  IMDB Rating  MPAA Rating   Runtime  \\\n",
       "Peak Season               1.000000     0.088701    -0.118992  0.038624   \n",
       "IMDB Rating               0.088701     1.000000     0.083488  0.359223   \n",
       "MPAA Rating              -0.118992     0.083488     1.000000  0.243973   \n",
       "Runtime                   0.038624     0.359223     0.243973  1.000000   \n",
       "Actor Score               0.171726     0.271101     0.086005  0.116386   \n",
       "Top Genres                0.092540     0.169644    -0.401436  0.043548   \n",
       "Opening Weekend Gross     0.267332     0.310621    -0.192175  0.072878   \n",
       "Opening Theaters          0.224165     0.020450    -0.327778 -0.065166   \n",
       "Budget                    0.061585     0.095928    -0.199644 -0.100328   \n",
       "Worldwide Gross ex US     0.297721     0.371104    -0.263671  0.042057   \n",
       "\n",
       "                       Actor Score  Top Genres  Opening Weekend Gross  \\\n",
       "Peak Season               0.171726    0.092540               0.267332   \n",
       "IMDB Rating               0.271101    0.169644               0.310621   \n",
       "MPAA Rating               0.086005   -0.401436              -0.192175   \n",
       "Runtime                   0.116386    0.043548               0.072878   \n",
       "Actor Score               1.000000   -0.009223               0.367962   \n",
       "Top Genres               -0.009223    1.000000               0.197908   \n",
       "Opening Weekend Gross     0.367962    0.197908               1.000000   \n",
       "Opening Theaters          0.270752    0.161273               0.600403   \n",
       "Budget                    0.117955    0.196853               0.245241   \n",
       "Worldwide Gross ex US     0.391667    0.333239               0.764147   \n",
       "\n",
       "                       Opening Theaters    Budget  Worldwide Gross ex US  \n",
       "Peak Season                    0.224165  0.061585               0.297721  \n",
       "IMDB Rating                    0.020450  0.095928               0.371104  \n",
       "MPAA Rating                   -0.327778 -0.199644              -0.263671  \n",
       "Runtime                       -0.065166 -0.100328               0.042057  \n",
       "Actor Score                    0.270752  0.117955               0.391667  \n",
       "Top Genres                     0.161273  0.196853               0.333239  \n",
       "Opening Weekend Gross          0.600403  0.245241               0.764147  \n",
       "Opening Theaters               1.000000  0.206201               0.478100  \n",
       "Budget                         0.206201  1.000000               0.367956  \n",
       "Worldwide Gross ex US          0.478100  0.367956               1.000000  "
      ]
     },
     "execution_count": 61,
     "metadata": {},
     "output_type": "execute_result"
    }
   ],
   "source": [
    "# initial look at correlations\n",
    "movies_all.corr()"
   ]
  },
  {
   "cell_type": "code",
   "execution_count": 62,
   "metadata": {},
   "outputs": [
    {
     "name": "stdout",
     "output_type": "stream",
     "text": [
      "<class 'pandas.core.frame.DataFrame'>\n",
      "Int64Index: 588 entries, 0 to 790\n",
      "Data columns (total 12 columns):\n",
      "Title                    588 non-null object\n",
      "Release Date             588 non-null object\n",
      "Peak Season              588 non-null float64\n",
      "IMDB Rating              588 non-null float64\n",
      "MPAA Rating              588 non-null float64\n",
      "Runtime                  588 non-null float64\n",
      "Actor Score              588 non-null float64\n",
      "Top Genres               588 non-null float64\n",
      "Opening Weekend Gross    588 non-null float64\n",
      "Opening Theaters         588 non-null float64\n",
      "Budget                   588 non-null int64\n",
      "Worldwide Gross ex US    588 non-null int64\n",
      "dtypes: float64(8), int64(2), object(2)\n",
      "memory usage: 59.7+ KB\n"
     ]
    }
   ],
   "source": [
    "movies_all.info()"
   ]
  },
  {
   "cell_type": "code",
   "execution_count": 63,
   "metadata": {},
   "outputs": [
    {
     "data": {
      "text/plain": [
       "Title                     object\n",
       "Release Date              object\n",
       "Peak Season              float64\n",
       "IMDB Rating              float64\n",
       "MPAA Rating              float64\n",
       "Runtime                  float64\n",
       "Actor Score              float64\n",
       "Top Genres               float64\n",
       "Opening Weekend Gross    float64\n",
       "Opening Theaters         float64\n",
       "Budget                     int64\n",
       "Worldwide Gross ex US      int64\n",
       "dtype: object"
      ]
     },
     "execution_count": 63,
     "metadata": {},
     "output_type": "execute_result"
    }
   ],
   "source": [
    "movies_all.dtypes"
   ]
  },
  {
   "cell_type": "code",
   "execution_count": 64,
   "metadata": {},
   "outputs": [],
   "source": [
    "season = [\"Peak Season\"]\n",
    "imdb_rating = [\"IMDB Rating\"]\n",
    "mpaa_rating = [\"MPAA Rating\"]\n",
    "runtime = [\"Runtime\"]\n",
    "actor_score = [\"Actor Score\"]\n",
    "top_genres = [\"Top Genres\"]\n",
    "opening_wknd_gross = [\"Opening Weekend Gross\"]\n",
    "opening_theaters = [\"Opening Theaters\"]\n",
    "budget = [\"Budget\"]"
   ]
  },
  {
   "cell_type": "code",
   "execution_count": 65,
   "metadata": {},
   "outputs": [],
   "source": [
    "# Columns to study\n",
    "X_columns = season + imdb_rating + mpaa_rating + runtime + actor_score + top_genres + opening_wknd_gross + opening_theaters + budget"
   ]
  },
  {
   "cell_type": "code",
   "execution_count": 66,
   "metadata": {},
   "outputs": [],
   "source": [
    "y = movies_all[\"Worldwide Gross ex US\"]\n",
    "X = movies_all.loc[:,X_columns]"
   ]
  },
  {
   "cell_type": "code",
   "execution_count": 67,
   "metadata": {},
   "outputs": [
    {
     "data": {
      "text/html": [
       "<table class=\"simpletable\">\n",
       "<caption>OLS Regression Results</caption>\n",
       "<tr>\n",
       "  <th>Dep. Variable:</th>    <td>Worldwide Gross ex US</td> <th>  R-squared:         </th> <td>   0.683</td> \n",
       "</tr>\n",
       "<tr>\n",
       "  <th>Model:</th>                     <td>OLS</td>          <th>  Adj. R-squared:    </th> <td>   0.678</td> \n",
       "</tr>\n",
       "<tr>\n",
       "  <th>Method:</th>               <td>Least Squares</td>     <th>  F-statistic:       </th> <td>   138.1</td> \n",
       "</tr>\n",
       "<tr>\n",
       "  <th>Date:</th>               <td>Wed, 17 Oct 2018</td>    <th>  Prob (F-statistic):</th> <td>8.99e-138</td>\n",
       "</tr>\n",
       "<tr>\n",
       "  <th>Time:</th>                   <td>21:38:25</td>        <th>  Log-Likelihood:    </th> <td> -11434.</td> \n",
       "</tr>\n",
       "<tr>\n",
       "  <th>No. Observations:</th>        <td>   588</td>         <th>  AIC:               </th> <td>2.289e+04</td>\n",
       "</tr>\n",
       "<tr>\n",
       "  <th>Df Residuals:</th>            <td>   578</td>         <th>  BIC:               </th> <td>2.293e+04</td>\n",
       "</tr>\n",
       "<tr>\n",
       "  <th>Df Model:</th>                <td>     9</td>         <th>                     </th>     <td> </td>    \n",
       "</tr>\n",
       "<tr>\n",
       "  <th>Covariance Type:</th>        <td>nonrobust</td>       <th>                     </th>     <td> </td>    \n",
       "</tr>\n",
       "</table>\n",
       "<table class=\"simpletable\">\n",
       "<tr>\n",
       "            <td></td>               <th>coef</th>     <th>std err</th>      <th>t</th>      <th>P>|t|</th>  <th>[0.025</th>    <th>0.975]</th>  \n",
       "</tr>\n",
       "<tr>\n",
       "  <th>const</th>                 <td> -8.18e+07</td> <td> 3.03e+07</td> <td>   -2.701</td> <td> 0.007</td> <td>-1.41e+08</td> <td>-2.23e+07</td>\n",
       "</tr>\n",
       "<tr>\n",
       "  <th>Peak Season</th>           <td> 1.948e+07</td> <td>  5.9e+06</td> <td>    3.302</td> <td> 0.001</td> <td>  7.9e+06</td> <td> 3.11e+07</td>\n",
       "</tr>\n",
       "<tr>\n",
       "  <th>IMDB Rating</th>           <td> 1.642e+07</td> <td> 3.43e+06</td> <td>    4.780</td> <td> 0.000</td> <td> 9.67e+06</td> <td> 2.32e+07</td>\n",
       "</tr>\n",
       "<tr>\n",
       "  <th>MPAA Rating</th>           <td>-1.024e+07</td> <td> 4.01e+06</td> <td>   -2.553</td> <td> 0.011</td> <td>-1.81e+07</td> <td>-2.36e+06</td>\n",
       "</tr>\n",
       "<tr>\n",
       "  <th>Runtime</th>               <td>-3.676e+05</td> <td> 2.46e+05</td> <td>   -1.497</td> <td> 0.135</td> <td> -8.5e+05</td> <td> 1.15e+05</td>\n",
       "</tr>\n",
       "<tr>\n",
       "  <th>Actor Score</th>           <td> 1.154e+07</td> <td> 2.49e+06</td> <td>    4.637</td> <td> 0.000</td> <td> 6.65e+06</td> <td> 1.64e+07</td>\n",
       "</tr>\n",
       "<tr>\n",
       "  <th>Top Genres</th>            <td> 2.053e+07</td> <td> 4.12e+06</td> <td>    4.988</td> <td> 0.000</td> <td> 1.24e+07</td> <td> 2.86e+07</td>\n",
       "</tr>\n",
       "<tr>\n",
       "  <th>Opening Weekend Gross</th> <td>    3.5330</td> <td>    0.197</td> <td>   17.899</td> <td> 0.000</td> <td>    3.145</td> <td>    3.921</td>\n",
       "</tr>\n",
       "<tr>\n",
       "  <th>Opening Theaters</th>      <td> -866.7199</td> <td> 4270.338</td> <td>   -0.203</td> <td> 0.839</td> <td>-9253.992</td> <td> 7520.552</td>\n",
       "</tr>\n",
       "<tr>\n",
       "  <th>Budget</th>                <td> 1.722e-06</td> <td> 2.88e-07</td> <td>    5.979</td> <td> 0.000</td> <td> 1.16e-06</td> <td> 2.29e-06</td>\n",
       "</tr>\n",
       "</table>\n",
       "<table class=\"simpletable\">\n",
       "<tr>\n",
       "  <th>Omnibus:</th>       <td>279.761</td> <th>  Durbin-Watson:     </th> <td>   1.844</td>\n",
       "</tr>\n",
       "<tr>\n",
       "  <th>Prob(Omnibus):</th> <td> 0.000</td>  <th>  Jarque-Bera (JB):  </th> <td>2454.101</td>\n",
       "</tr>\n",
       "<tr>\n",
       "  <th>Skew:</th>          <td> 1.899</td>  <th>  Prob(JB):          </th> <td>    0.00</td>\n",
       "</tr>\n",
       "<tr>\n",
       "  <th>Kurtosis:</th>      <td>12.259</td>  <th>  Cond. No.          </th> <td>1.18e+14</td>\n",
       "</tr>\n",
       "</table><br/><br/>Warnings:<br/>[1] Standard Errors assume that the covariance matrix of the errors is correctly specified.<br/>[2] The condition number is large, 1.18e+14. This might indicate that there are<br/>strong multicollinearity or other numerical problems."
      ],
      "text/plain": [
       "<class 'statsmodels.iolib.summary.Summary'>\n",
       "\"\"\"\n",
       "                              OLS Regression Results                             \n",
       "=================================================================================\n",
       "Dep. Variable:     Worldwide Gross ex US   R-squared:                       0.683\n",
       "Model:                               OLS   Adj. R-squared:                  0.678\n",
       "Method:                    Least Squares   F-statistic:                     138.1\n",
       "Date:                   Wed, 17 Oct 2018   Prob (F-statistic):          8.99e-138\n",
       "Time:                           21:38:25   Log-Likelihood:                -11434.\n",
       "No. Observations:                    588   AIC:                         2.289e+04\n",
       "Df Residuals:                        578   BIC:                         2.293e+04\n",
       "Df Model:                              9                                         \n",
       "Covariance Type:               nonrobust                                         \n",
       "=========================================================================================\n",
       "                            coef    std err          t      P>|t|      [0.025      0.975]\n",
       "-----------------------------------------------------------------------------------------\n",
       "const                  -8.18e+07   3.03e+07     -2.701      0.007   -1.41e+08   -2.23e+07\n",
       "Peak Season            1.948e+07    5.9e+06      3.302      0.001     7.9e+06    3.11e+07\n",
       "IMDB Rating            1.642e+07   3.43e+06      4.780      0.000    9.67e+06    2.32e+07\n",
       "MPAA Rating           -1.024e+07   4.01e+06     -2.553      0.011   -1.81e+07   -2.36e+06\n",
       "Runtime               -3.676e+05   2.46e+05     -1.497      0.135    -8.5e+05    1.15e+05\n",
       "Actor Score            1.154e+07   2.49e+06      4.637      0.000    6.65e+06    1.64e+07\n",
       "Top Genres             2.053e+07   4.12e+06      4.988      0.000    1.24e+07    2.86e+07\n",
       "Opening Weekend Gross     3.5330      0.197     17.899      0.000       3.145       3.921\n",
       "Opening Theaters       -866.7199   4270.338     -0.203      0.839   -9253.992    7520.552\n",
       "Budget                 1.722e-06   2.88e-07      5.979      0.000    1.16e-06    2.29e-06\n",
       "==============================================================================\n",
       "Omnibus:                      279.761   Durbin-Watson:                   1.844\n",
       "Prob(Omnibus):                  0.000   Jarque-Bera (JB):             2454.101\n",
       "Skew:                           1.899   Prob(JB):                         0.00\n",
       "Kurtosis:                      12.259   Cond. No.                     1.18e+14\n",
       "==============================================================================\n",
       "\n",
       "Warnings:\n",
       "[1] Standard Errors assume that the covariance matrix of the errors is correctly specified.\n",
       "[2] The condition number is large, 1.18e+14. This might indicate that there are\n",
       "strong multicollinearity or other numerical problems.\n",
       "\"\"\""
      ]
     },
     "execution_count": 67,
     "metadata": {},
     "output_type": "execute_result"
    }
   ],
   "source": [
    "# baseline model & OLS regression summary stats\n",
    "model = sm.OLS(y,sm.add_constant(X))\n",
    "results = model.fit()\n",
    "results.summary()"
   ]
  },
  {
   "cell_type": "code",
   "execution_count": 68,
   "metadata": {},
   "outputs": [
    {
     "data": {
      "text/plain": [
       "Text(0,0.5,'Residual')"
      ]
     },
     "execution_count": 68,
     "metadata": {},
     "output_type": "execute_result"
    },
    {
     "data": {
      "image/png": "[encoded data removed]",
      "text/plain": [
       "<Figure size 432x288 with 1 Axes>"
      ]
     },
     "metadata": {},
     "output_type": "display_data"
    }
   ],
   "source": [
    "# Baseline residual plot not great\n",
    "\n",
    "y_pred = results.predict(sm.add_constant(X))\n",
    "\n",
    "plt.scatter(y_pred,y-y_pred,alpha=.1)\n",
    "plt.plot(np.linspace(0,600000,1000),np.linspace(0,0,1000))\n",
    "plt.xlabel('Predicted Value')\n",
    "plt.ylabel('Residual')"
   ]
  },
  {
   "cell_type": "markdown",
   "metadata": {},
   "source": [
    "## Method 1: Train / Validation / Test"
   ]
  },
  {
   "cell_type": "code",
   "execution_count": 69,
   "metadata": {},
   "outputs": [],
   "source": [
    "# Hold out 20% of data for final test set\n",
    "X, X_test, y, y_test = train_test_split(X, y, test_size=.2, random_state=20) \n",
    "\n",
    "# Hold out other 20% for validation\n",
    "X_train, X_val, y_train, y_val = train_test_split(X, y, test_size=.25, random_state=3) "
   ]
  },
  {
   "cell_type": "code",
   "execution_count": 70,
   "metadata": {},
   "outputs": [
    {
     "data": {
      "text/plain": [
       "StandardScaler(copy=True, with_mean=True, with_std=True)"
      ]
     },
     "execution_count": 70,
     "metadata": {},
     "output_type": "execute_result"
    }
   ],
   "source": [
    "# Scale data so all features on same scale\n",
    "# Set up the 3 models we're choosing from\n",
    "std = StandardScaler()\n",
    "std.fit(X_train)"
   ]
  },
  {
   "cell_type": "code",
   "execution_count": 71,
   "metadata": {},
   "outputs": [],
   "source": [
    "# First doing linear regression"
   ]
  },
  {
   "cell_type": "code",
   "execution_count": 72,
   "metadata": {},
   "outputs": [
    {
     "data": {
      "text/plain": [
       "LinearRegression(copy_X=True, fit_intercept=True, n_jobs=1, normalize=False)"
      ]
     },
     "execution_count": 72,
     "metadata": {},
     "output_type": "execute_result"
    }
   ],
   "source": [
    "lm = LinearRegression()\n",
    "lm.fit(X_train, y_train)"
   ]
  },
  {
   "cell_type": "code",
   "execution_count": 73,
   "metadata": {},
   "outputs": [
    {
     "data": {
      "text/plain": [
       "0.6247714170088718"
      ]
     },
     "execution_count": 73,
     "metadata": {},
     "output_type": "execute_result"
    }
   ],
   "source": [
    "lm.score(X_val,y_val)"
   ]
  },
  {
   "cell_type": "code",
   "execution_count": 74,
   "metadata": {},
   "outputs": [
    {
     "data": {
      "image/png": "[encoded data removed]",
      "text/plain": [
       "<Figure size 1008x288 with 2 Axes>"
      ]
     },
     "metadata": {},
     "output_type": "display_data"
    }
   ],
   "source": [
    "plt.figure(figsize=(14,4))\n",
    "\n",
    "# Plotting predicted vs. observed\n",
    "y_pred = lm.predict(X_val)\n",
    "plt.subplot(1, 2, 1)\n",
    "plt.scatter(y_pred, y_val, alpha=0.25)\n",
    "plt.plot([0, 600000000], [0, 600000000])\n",
    "plt.xlabel('Fitted')\n",
    "plt.ylabel('Actual')\n",
    "plt.title(\"Observed vs. Predicted Values\")\n",
    "plt.savefig(\"actual_vs_observed.pdf\")\n",
    "\n",
    "# Residuals\n",
    "lm_residuals = y_val - y_pred\n",
    "plt.subplot(1, 2, 2)\n",
    "plt.scatter(y_pred, lm_residuals, alpha=.2)\n",
    "plt.xlabel('Predictions')\n",
    "plt.ylabel('Residuals')\n",
    "plt.plot([0,450000000], [0, 0])\n",
    "plt.title(\"Residuals vs. Predictions\")\n",
    "plt.savefig(\"residuals.pdf\");\n",
    "\n",
    "# slight improvement from before on residual plot"
   ]
  },
  {
   "cell_type": "code",
   "execution_count": 75,
   "metadata": {},
   "outputs": [
    {
     "data": {
      "text/plain": [
       "[('Peak Season', 24888923.726269484),\n",
       " ('IMDB Rating', 19969852.518856935),\n",
       " ('MPAA Rating', -5009594.911577724),\n",
       " ('Runtime', -406755.3543900779),\n",
       " ('Actor Score', 10092522.075220518),\n",
       " ('Top Genres', 24911534.180255808),\n",
       " ('Opening Weekend Gross', 3.694179211494691),\n",
       " ('Opening Theaters', 1028.2049124798557),\n",
       " ('Budget', 1.436064316916691e-06)]"
      ]
     },
     "execution_count": 75,
     "metadata": {},
     "output_type": "execute_result"
    }
   ],
   "source": [
    "# Coefficients for each feature\n",
    "list(zip(X_columns,lm.coef_))"
   ]
  },
  {
   "cell_type": "code",
   "execution_count": 76,
   "metadata": {},
   "outputs": [
    {
     "data": {
      "image/png": "[encoded data removed]",
      "text/plain": [
       "<Figure size 2160x720 with 1 Axes>"
      ]
     },
     "metadata": {},
     "output_type": "display_data"
    }
   ],
   "source": [
    "# Important as standardized so can see relative importance\n",
    "plt.figure(figsize=(30,10))\n",
    "plt.rc('xtick', labelsize=14)\n",
    "plt.bar(X_columns,lm.coef_)\n",
    "plt.savefig(\"Feature_Plot.pdf\");"
   ]
  },
  {
   "cell_type": "code",
   "execution_count": 77,
   "metadata": {},
   "outputs": [
    {
     "data": {
      "text/plain": [
       "163020667.20741352"
      ]
     },
     "execution_count": 77,
     "metadata": {},
     "output_type": "execute_result"
    }
   ],
   "source": [
    "def RMSE(actuals, preds): #root mean squared error\n",
    "    return np.sqrt(np.mean((actuals - preds)**2))\n",
    "\n",
    "RMSE(y_test,y_pred)\n",
    "\n",
    "# very high to begin with"
   ]
  },
  {
   "cell_type": "code",
   "execution_count": 78,
   "metadata": {},
   "outputs": [],
   "source": [
    "# Using Ridge regularization and cross validation\n",
    "# Feature scaling for train, val, and test so that we can run our ridge model on each\n",
    "scaler = StandardScaler()\n",
    "\n",
    "X_train_scaled = scaler.fit_transform(X_train)\n",
    "X_val_scaled = scaler.transform(X_val)\n",
    "X_test_scaled = scaler.transform(X_test)\n",
    "\n",
    "lm_reg = Ridge(alpha=1)"
   ]
  },
  {
   "cell_type": "code",
   "execution_count": 79,
   "metadata": {},
   "outputs": [],
   "source": [
    "# Using Lasso regularization\n",
    "lm_lasso = Lasso()  "
   ]
  },
  {
   "cell_type": "code",
   "execution_count": 80,
   "metadata": {},
   "outputs": [],
   "source": [
    "# Trying polynomial features for the datasets\n",
    "\n",
    "#Feature transforms for train, val, and test so that we can run our poly model on each\n",
    "poly = PolynomialFeatures(degree=2) \n",
    "\n",
    "X_train_poly = poly.fit_transform(X_train)\n",
    "X_val_poly = poly.transform(X_val)\n",
    "X_test_poly = poly.transform(X_test)\n",
    "\n",
    "lm_poly = LinearRegression()"
   ]
  },
  {
   "cell_type": "code",
   "execution_count": 81,
   "metadata": {},
   "outputs": [
    {
     "name": "stdout",
     "output_type": "stream",
     "text": [
      "Linear Regression val R^2: %.3f 0.6247714170088718\n",
      "Ridge Regression val R^2: %.3f 0.6248114363226576\n",
      "Lasso Regression val R^2: %.3f 0.6247261678293667\n",
      "Degree 2 polynomial regression val R^2: %.3f 0.44392528583303736\n"
     ]
    }
   ],
   "source": [
    "lm.fit(X_train, y_train)\n",
    "print('Linear Regression val R^2: %.3f', lm.score(X_val, y_val))\n",
    "\n",
    "lm_reg.fit(X_train_scaled, y_train)\n",
    "print('Ridge Regression val R^2: %.3f', lm_reg.score(X_val_scaled, y_val))\n",
    "\n",
    "lm_lasso.fit(X_train_scaled, y_train)\n",
    "print('Lasso Regression val R^2: %.3f', lm_lasso.score(X_val_scaled, y_val))\n",
    "\n",
    "lm_poly.fit(X_train_poly, y_train)\n",
    "print('Degree 2 polynomial regression val R^2: %.3f', lm_poly.score(X_val_poly, y_val))"
   ]
  },
  {
   "cell_type": "code",
   "execution_count": 82,
   "metadata": {},
   "outputs": [
    {
     "data": {
      "text/plain": [
       "[('Peak Season', 12376367.558509301),\n",
       " ('IMDB Rating', 18242605.577632837),\n",
       " ('MPAA Rating', -4276366.845533031),\n",
       " ('Runtime', -5150553.256900047),\n",
       " ('Actor Score', 12361306.299289819),\n",
       " ('Top Genres', 19229392.671416994),\n",
       " ('Opening Weekend Gross', 65909130.95827021),\n",
       " ('Opening Theaters', 1069790.0330689172),\n",
       " ('Budget', 13673414.385795608)]"
      ]
     },
     "execution_count": 82,
     "metadata": {},
     "output_type": "execute_result"
    }
   ],
   "source": [
    "# Ridge gives the best score so far\n",
    "list(zip(X_columns,lm_reg.coef_))"
   ]
  },
  {
   "cell_type": "code",
   "execution_count": 106,
   "metadata": {},
   "outputs": [
    {
     "data": {
      "image/png": "[encoded data removed]",
      "text/plain": [
       "<Figure size 2160x720 with 1 Axes>"
      ]
     },
     "metadata": {},
     "output_type": "display_data"
    }
   ],
   "source": [
    "# Important as standardized so can see relative importance\n",
    "plt.figure(figsize=(30,10))\n",
    "plt.rc('xtick', labelsize=14)\n",
    "plt.bar(X_columns,lm_reg.coef_)\n",
    "plt.savefig(\"Feature_Plot_Ridge.pdf\");"
   ]
  },
  {
   "cell_type": "code",
   "execution_count": 111,
   "metadata": {},
   "outputs": [
    {
     "ename": "TypeError",
     "evalue": "predict() takes 2 positional arguments but 3 were given",
     "output_type": "error",
     "traceback": [
      "\u001b[0;31m---------------------------------------------------------------------------\u001b[0m",
      "\u001b[0;31mTypeError\u001b[0m                                 Traceback (most recent call last)",
      "\u001b[0;32m<ipython-input-111-a96a72a195da>\u001b[0m in \u001b[0;36m<module>\u001b[0;34m()\u001b[0m\n\u001b[0;32m----> 1\u001b[0;31m \u001b[0mlm_reg\u001b[0m\u001b[0;34m.\u001b[0m\u001b[0mpredict\u001b[0m\u001b[0;34m(\u001b[0m\u001b[0mX_test\u001b[0m\u001b[0;34m,\u001b[0m \u001b[0my_test\u001b[0m\u001b[0;34m)\u001b[0m\u001b[0;34m\u001b[0m\u001b[0m\n\u001b[0m",
      "\u001b[0;31mTypeError\u001b[0m: predict() takes 2 positional arguments but 3 were given"
     ]
    }
   ],
   "source": [
    "lm_reg.predict(X_test, y_test)"
   ]
  },
  {
   "cell_type": "code",
   "execution_count": 35,
   "metadata": {},
   "outputs": [
    {
     "data": {
      "text/plain": [
       "85576362.824317"
      ]
     },
     "execution_count": 35,
     "metadata": {},
     "output_type": "execute_result"
    }
   ],
   "source": [
    "RMSE(lm_reg.predict(X_val_scaled),y_val)"
   ]
  },
  {
   "cell_type": "markdown",
   "metadata": {},
   "source": [
    "## Method 2: Cross-Validation / Test\n",
    "\n",
    "Idea of CV is to make efficient use of the data available to us (using 80% instead of 60% above), while also performing multiple validation checks. For k-fold CV, we come up with k train/validation splits of the whole chunk of data, in such a way that **each observation is in the validation set exactly 1 time**. As we loop through our CV folds, we will train and validate both models and collect the results to compare at the end. Note that we scale the training features within the CV loop."
   ]
  },
  {
   "cell_type": "code",
   "execution_count": 114,
   "metadata": {},
   "outputs": [],
   "source": [
    "y = movies_all[\"Worldwide Gross ex US\"]\n",
    "X = movies_all.loc[:,X_columns]\n",
    "\n",
    "X, X_test, y, y_test = train_test_split(X, y, test_size=.2, random_state=10) \n",
    "\n",
    "#this helps with the way kf will generate indices below\n",
    "X, y = np.array(X), np.array(y)"
   ]
  },
  {
   "cell_type": "code",
   "execution_count": 124,
   "metadata": {},
   "outputs": [],
   "source": [
    "scaler = StandardScaler()\n",
    "X_scaled = scaler.fit_transform(X)\n",
    "X_test_scaled = scaler.transform(X_test)\n",
    "\n",
    "lm_cv = LinearRegression()\n",
    "lm_reg_cv = Ridge(alpha=1)\n",
    "kf = KFold(n_splits=5, shuffle=True, random_state = 71)"
   ]
  },
  {
   "cell_type": "code",
   "execution_count": null,
   "metadata": {},
   "outputs": [],
   "source": [
    "print(cross_val_score(lm_cv, X, y, cv=kf, scoring='r2'))\n",
    "print(np.mean(cross_val_score(lm_cv, X, y, cv=kf, scoring='r2')))"
   ]
  },
  {
   "cell_type": "code",
   "execution_count": 122,
   "metadata": {},
   "outputs": [
    {
     "name": "stdout",
     "output_type": "stream",
     "text": [
      "[ 0.61579173 -0.32579784  0.59130861  0.69818528  0.65115842]\n",
      "0.44612924185620273\n"
     ]
    },
    {
     "name": "stderr",
     "output_type": "stream",
     "text": [
      "/Users/ariannabreslauer/anaconda3/lib/python3.6/site-packages/sklearn/linear_model/ridge.py:112: LinAlgWarning: scipy.linalg.solve\n",
      "Ill-conditioned matrix detected. Result is not guaranteed to be accurate.\n",
      "Reciprocal condition number2.911004e-27\n",
      "  overwrite_a=True).T\n",
      "/Users/ariannabreslauer/anaconda3/lib/python3.6/site-packages/sklearn/linear_model/ridge.py:112: LinAlgWarning: scipy.linalg.solve\n",
      "Ill-conditioned matrix detected. Result is not guaranteed to be accurate.\n",
      "Reciprocal condition number2.586376e-27\n",
      "  overwrite_a=True).T\n",
      "/Users/ariannabreslauer/anaconda3/lib/python3.6/site-packages/sklearn/linear_model/ridge.py:112: LinAlgWarning: scipy.linalg.solve\n",
      "Ill-conditioned matrix detected. Result is not guaranteed to be accurate.\n",
      "Reciprocal condition number2.707007e-27\n",
      "  overwrite_a=True).T\n",
      "/Users/ariannabreslauer/anaconda3/lib/python3.6/site-packages/sklearn/linear_model/ridge.py:112: LinAlgWarning: scipy.linalg.solve\n",
      "Ill-conditioned matrix detected. Result is not guaranteed to be accurate.\n",
      "Reciprocal condition number3.668344e-27\n",
      "  overwrite_a=True).T\n",
      "/Users/ariannabreslauer/anaconda3/lib/python3.6/site-packages/sklearn/linear_model/ridge.py:112: LinAlgWarning: scipy.linalg.solve\n",
      "Ill-conditioned matrix detected. Result is not guaranteed to be accurate.\n",
      "Reciprocal condition number3.596311e-27\n",
      "  overwrite_a=True).T\n",
      "/Users/ariannabreslauer/anaconda3/lib/python3.6/site-packages/sklearn/linear_model/ridge.py:112: LinAlgWarning: scipy.linalg.solve\n",
      "Ill-conditioned matrix detected. Result is not guaranteed to be accurate.\n",
      "Reciprocal condition number2.911004e-27\n",
      "  overwrite_a=True).T\n",
      "/Users/ariannabreslauer/anaconda3/lib/python3.6/site-packages/sklearn/linear_model/ridge.py:112: LinAlgWarning: scipy.linalg.solve\n",
      "Ill-conditioned matrix detected. Result is not guaranteed to be accurate.\n",
      "Reciprocal condition number2.586376e-27\n",
      "  overwrite_a=True).T\n",
      "/Users/ariannabreslauer/anaconda3/lib/python3.6/site-packages/sklearn/linear_model/ridge.py:112: LinAlgWarning: scipy.linalg.solve\n",
      "Ill-conditioned matrix detected. Result is not guaranteed to be accurate.\n",
      "Reciprocal condition number2.707007e-27\n",
      "  overwrite_a=True).T\n",
      "/Users/ariannabreslauer/anaconda3/lib/python3.6/site-packages/sklearn/linear_model/ridge.py:112: LinAlgWarning: scipy.linalg.solve\n",
      "Ill-conditioned matrix detected. Result is not guaranteed to be accurate.\n",
      "Reciprocal condition number3.668344e-27\n",
      "  overwrite_a=True).T\n",
      "/Users/ariannabreslauer/anaconda3/lib/python3.6/site-packages/sklearn/linear_model/ridge.py:112: LinAlgWarning: scipy.linalg.solve\n",
      "Ill-conditioned matrix detected. Result is not guaranteed to be accurate.\n",
      "Reciprocal condition number3.596311e-27\n",
      "  overwrite_a=True).T\n"
     ]
    }
   ],
   "source": [
    "print(cross_val_score(lm_reg_cv, X, y, cv=kf, scoring='r2'))\n",
    "print(np.mean(cross_val_score(lm_reg_cv, X, y, cv=kf, scoring='r2')))"
   ]
  },
  {
   "cell_type": "code",
   "execution_count": 118,
   "metadata": {
    "scrolled": true
   },
   "outputs": [
    {
     "name": "stdout",
     "output_type": "stream",
     "text": [
      "[ 0.61601803 -0.32820089  0.59139067  0.69830321  0.65113397]\n",
      "0.4457289971892651\n"
     ]
    }
   ],
   "source": [
    "lm_lasso_cv = Lasso()\n",
    "print(cross_val_score(lm_lasso_cv, X, y,\n",
    "                                cv=kf,       \n",
    "                                scoring='r2'))\n",
    "print(np.mean(cross_val_score(lm_lasso_cv, X, y,\n",
    "                                cv=kf,       \n",
    "                                scoring='r2')))"
   ]
  },
  {
   "cell_type": "code",
   "execution_count": 119,
   "metadata": {},
   "outputs": [
    {
     "name": "stdout",
     "output_type": "stream",
     "text": [
      "[ 0.61605709 -0.32817012  0.59139815  0.69832358  0.65115437]\n",
      "0.4457526141932012\n"
     ]
    }
   ],
   "source": [
    "print(cross_val_score(lm_poly, X, y,    \n",
    "                                cv=kf,                \n",
    "                                scoring='r2'))\n",
    "print(np.mean(cross_val_score(lm_poly, X, y,    \n",
    "                                cv=kf,                \n",
    "                                scoring='r2')))"
   ]
  },
  {
   "cell_type": "markdown",
   "metadata": {},
   "source": [
    "## Other Models"
   ]
  },
  {
   "cell_type": "code",
   "execution_count": 42,
   "metadata": {},
   "outputs": [
    {
     "data": {
      "text/plain": [
       "0.6604404195123902"
      ]
     },
     "execution_count": 42,
     "metadata": {},
     "output_type": "execute_result"
    }
   ],
   "source": [
    "from sklearn.ensemble import RandomForestRegressor, GradientBoostingRegressor\n",
    "\n",
    "rf = RandomForestRegressor(n_estimators=1800, max_features=3)\n",
    "rf.fit(X_train, y_train)\n",
    "rf.score(X_val, y_val)"
   ]
  },
  {
   "cell_type": "code",
   "execution_count": 43,
   "metadata": {},
   "outputs": [
    {
     "data": {
      "text/plain": [
       "81411737.25688396"
      ]
     },
     "execution_count": 43,
     "metadata": {},
     "output_type": "execute_result"
    }
   ],
   "source": [
    "RMSE(rf.predict(X_val),y_val)"
   ]
  },
  {
   "cell_type": "code",
   "execution_count": 44,
   "metadata": {},
   "outputs": [
    {
     "data": {
      "text/plain": [
       "0.6904404973940899"
      ]
     },
     "execution_count": 44,
     "metadata": {},
     "output_type": "execute_result"
    }
   ],
   "source": [
    "gbm = GradientBoostingRegressor(n_estimators=1600, max_depth=3, learning_rate=.01)\n",
    "gbm.fit(X_train, y_train)\n",
    "gbm.score(X_val, y_val)"
   ]
  },
  {
   "cell_type": "code",
   "execution_count": 45,
   "metadata": {},
   "outputs": [
    {
     "data": {
      "text/plain": [
       "77732224.84502363"
      ]
     },
     "execution_count": 45,
     "metadata": {},
     "output_type": "execute_result"
    }
   ],
   "source": [
    "RMSE(gbm.predict(X_val),y_val)"
   ]
  },
  {
   "cell_type": "code",
   "execution_count": 112,
   "metadata": {},
   "outputs": [
    {
     "data": {
      "image/png": "[encoded data removed]",
      "text/plain": [
       "<Figure size 432x288 with 1 Axes>"
      ]
     },
     "metadata": {},
     "output_type": "display_data"
    }
   ],
   "source": [
    "feat_imps = list(zip(X_train.columns,rf.feature_importances_))\n",
    "feat_imps = sorted(feat_imps, key = lambda x: x[1], reverse=False)\n",
    "feat_imps = pd.DataFrame(feat_imps, columns=['feature','importance'])\n",
    "\n",
    "feat_imps.plot(x='feature',y='importance',kind='barh')\n",
    "plt.savefig(\"RandomForestRegressor.pdf\")"
   ]
  },
  {
   "cell_type": "code",
   "execution_count": 113,
   "metadata": {},
   "outputs": [
    {
     "data": {
      "image/png": "[encoded data removed]",
      "text/plain": [
       "<Figure size 432x288 with 1 Axes>"
      ]
     },
     "metadata": {},
     "output_type": "display_data"
    }
   ],
   "source": [
    "feat_imps = list(zip(X_train.columns,gbm.feature_importances_))\n",
    "feat_imps = sorted(feat_imps, key = lambda x: x[1], reverse=False)\n",
    "feat_imps = pd.DataFrame(feat_imps, columns=['feature','importance'])\n",
    "\n",
    "feat_imps.plot(x='feature',y='importance',kind='barh')\n",
    "plt.savefig(\"GradientBoostingRegressor.pdf\")"
   ]
  },
  {
   "cell_type": "code",
   "execution_count": 48,
   "metadata": {},
   "outputs": [],
   "source": [
    "# notes here week03-luther2/03-review_workflow/linear_regression_interp_interactions.ipynb"
   ]
  },
  {
   "cell_type": "code",
   "execution_count": null,
   "metadata": {},
   "outputs": [],
   "source": []
  }
 ],
 "metadata": {
  "kernelspec": {
   "display_name": "Python 3",
   "language": "python",
   "name": "python3"
  },
  "language_info": {
   "codemirror_mode": {
    "name": "ipython",
    "version": 3
   },
   "file_extension": ".py",
   "mimetype": "text/x-python",
   "name": "python",
   "nbconvert_exporter": "python",
   "pygments_lexer": "ipython3",
   "version": "3.6.5"
  }
 },
 "nbformat": 4,
 "nbformat_minor": 2
}
