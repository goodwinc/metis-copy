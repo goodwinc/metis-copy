{
 "cells": [
  {
   "cell_type": "code",
   "execution_count": 26,
   "metadata": {},
   "outputs": [],
   "source": [
    "import pandas as pd\n",
    "import numpy as np\n",
    "import matplotlib.pyplot as plt\n",
    "%matplotlib inline\n",
    "import seaborn as sns\n",
    "sns.set()\n",
    "\n",
    "from sklearn.linear_model import LinearRegression, Lasso, Ridge\n",
    "import statsmodels.api as sm\n",
    "import statsmodels.formula.api as smf \n"
   ]
  },
  {
   "cell_type": "markdown",
   "metadata": {},
   "source": [
    "## clean games data"
   ]
  },
  {
   "cell_type": "code",
   "execution_count": 27,
   "metadata": {},
   "outputs": [],
   "source": [
    "#read in game data for all teams\n",
    "df=pd.read_csv('/Users/andreewerner/Desktop/mlb-game-data.csv')\n"
   ]
  },
  {
   "cell_type": "code",
   "execution_count": 28,
   "metadata": {},
   "outputs": [],
   "source": [
    "df.drop_duplicates(inplace=True)"
   ]
  },
  {
   "cell_type": "code",
   "execution_count": 29,
   "metadata": {},
   "outputs": [
    {
     "name": "stdout",
     "output_type": "stream",
     "text": [
      "(197, 25)\n",
      "(2, 25)\n",
      "(701, 25)\n"
     ]
    }
   ],
   "source": [
    "# check attendance since it many not be the same across the tow games in double header\n",
    "print(df[(df['attendance'].isnull()) & (df['double_header']==1)].shape)\n",
    "print(df[(df['attendance'].isnull()) & (df['double_header']==0)].shape)\n",
    "print(df[(df['attendance'].notnull()) & (df['double_header']==1)].shape)\n"
   ]
  },
  {
   "cell_type": "code",
   "execution_count": 30,
   "metadata": {},
   "outputs": [
    {
     "data": {
      "text/plain": [
       "(43529, 25)"
      ]
     },
     "execution_count": 30,
     "metadata": {},
     "output_type": "execute_result"
    }
   ],
   "source": [
    "# only keep rows where attendance is non-null\n",
    "df=df[df['attendance'].notnull()]\n",
    "df.shape"
   ]
  },
  {
   "cell_type": "code",
   "execution_count": 31,
   "metadata": {},
   "outputs": [],
   "source": [
    "# get rid of commas in attendance numbers and change to int object \n",
    "df['attendance'] = df['attendance'].str.replace(',','').astype(int)\n",
    "\n"
   ]
  },
  {
   "cell_type": "code",
   "execution_count": 32,
   "metadata": {},
   "outputs": [],
   "source": [
    "#change other columns to int objects \n",
    "for val in ['runs','runs_allowed','rank']:\n",
    "    df[val]=df[val].astype(int)"
   ]
  },
  {
   "cell_type": "code",
   "execution_count": 33,
   "metadata": {},
   "outputs": [],
   "source": [
    "# find win percentage\n",
    "wins=[]\n",
    "losses=[]\n",
    "for wl in df['WL_record']:\n",
    "    w,l = wl.split('-')\n",
    "    wins.append(int(w))\n",
    "    losses.append(int(l))\n",
    "    \n",
    "df['wins']=wins\n",
    "df['losses']=losses\n",
    "df['wins_and_losses']=df['wins'] + df['losses']\n",
    "df['win_percentage']=df['wins']/(df['wins'] + df['losses'])\n",
    "\n",
    "#fill null values with 0 to represent first game of season\n",
    "df['win_percentage'].fillna(0,inplace=True)"
   ]
  },
  {
   "cell_type": "code",
   "execution_count": 34,
   "metadata": {},
   "outputs": [],
   "source": [
    "# change non-floats to floats in gb column and fill in str values with floats \n",
    "df['gb']=[0.0 if x == ' Tied' or x == '0'\n",
    "         else float(x.replace('up','')) if 'up' in x\n",
    "         else -float(x)\n",
    "         for x in df.gb]"
   ]
  },
  {
   "cell_type": "code",
   "execution_count": 35,
   "metadata": {},
   "outputs": [],
   "source": [
    "# change streak column to int object \n",
    "df['streak'].fillna('0',inplace=True)\n",
    "df['streak']=[len(x) if '+' in x\n",
    "             else -(len(x)) if '-' in x\n",
    "             else 0 for x in df['streak']]"
   ]
  },
  {
   "cell_type": "code",
   "execution_count": 36,
   "metadata": {},
   "outputs": [],
   "source": [
    "# convert d_or_n to dummy\n",
    "df['day_game'] = [1 if x == 'D' else 0 for x in df['d_or_n']]"
   ]
  },
  {
   "cell_type": "code",
   "execution_count": 37,
   "metadata": {},
   "outputs": [],
   "source": [
    "#change date to datetime and add some useful columns(day,weekday,month, year)\n",
    "df['date'] = pd.to_datetime(df['date'])\n",
    "df['day'] = df['date'].dt.day\n",
    "df['weekday'] = df['date'].dt.weekday\n",
    "df['weekday_name'] = df['date'].dt.weekday_name\n",
    "df['month'] = df['date'].dt.month\n",
    "df['year'] = df['date'].dt.year\n"
   ]
  },
  {
   "cell_type": "code",
   "execution_count": 38,
   "metadata": {},
   "outputs": [],
   "source": [
    "# change time to timedelta to find difference \n",
    "df['time']= pd.to_timedelta([x + ':00' for x in df['time']])"
   ]
  },
  {
   "cell_type": "code",
   "execution_count": 39,
   "metadata": {},
   "outputs": [],
   "source": [
    "#fill NaN's for runs_moving_avg and win_pct for last 10 games\n",
    "df['runs_moving_avg'] = [df.iloc[i]['runs_per_game'] if np.isnan(j) else j for i,j in enumerate(df['runs_moving_avg'])]\n",
    "df['win_pct'] = [df.iloc[i]['win_percentage'] if np.isnan(j) else j for i,j in enumerate(df['win_pct'])]\n"
   ]
  },
  {
   "cell_type": "code",
   "execution_count": 40,
   "metadata": {},
   "outputs": [],
   "source": [
    "# clean up dataframe and drop no longer useful columns\n",
    "df.drop(['box','at','w_or_l','runs','runs_allowed','innings','WL_record','winning_pitcher','losing_pitcher',\n",
    "        'save','d_or_n','wins','losses'],axis=1,inplace=True)"
   ]
  },
  {
   "cell_type": "code",
   "execution_count": 41,
   "metadata": {},
   "outputs": [
    {
     "name": "stdout",
     "output_type": "stream",
     "text": [
      "<class 'pandas.core.frame.DataFrame'>\n",
      "Int64Index: 43529 entries, 0 to 43727\n",
      "Data columns (total 22 columns):\n",
      "date                       43529 non-null datetime64[ns]\n",
      "team                       43529 non-null object\n",
      "opponent                   43529 non-null object\n",
      "rank                       43529 non-null int64\n",
      "gb                         43529 non-null float64\n",
      "time                       43529 non-null timedelta64[ns]\n",
      "attendance                 43529 non-null int64\n",
      "streak                     43529 non-null int64\n",
      "double_header              43529 non-null int64\n",
      "runs_per_game              43529 non-null float64\n",
      "runs_moving_avg            43529 non-null float64\n",
      "runs_allowed_moving_avg    43529 non-null float64\n",
      "win_pct                    43529 non-null float64\n",
      "opening_day                43529 non-null int64\n",
      "wins_and_losses            43529 non-null int64\n",
      "win_percentage             43529 non-null float64\n",
      "day_game                   43529 non-null int64\n",
      "day                        43529 non-null int64\n",
      "weekday                    43529 non-null int64\n",
      "weekday_name               43529 non-null object\n",
      "month                      43529 non-null int64\n",
      "year                       43529 non-null int64\n",
      "dtypes: datetime64[ns](1), float64(6), int64(11), object(3), timedelta64[ns](1)\n",
      "memory usage: 7.6+ MB\n"
     ]
    },
    {
     "data": {
      "text/plain": [
       "date                       0\n",
       "team                       0\n",
       "opponent                   0\n",
       "rank                       0\n",
       "gb                         0\n",
       "time                       0\n",
       "attendance                 0\n",
       "streak                     0\n",
       "double_header              0\n",
       "runs_per_game              0\n",
       "runs_moving_avg            0\n",
       "runs_allowed_moving_avg    0\n",
       "win_pct                    0\n",
       "opening_day                0\n",
       "wins_and_losses            0\n",
       "win_percentage             0\n",
       "day_game                   0\n",
       "day                        0\n",
       "weekday                    0\n",
       "weekday_name               0\n",
       "month                      0\n",
       "year                       0\n",
       "dtype: int64"
      ]
     },
     "execution_count": 41,
     "metadata": {},
     "output_type": "execute_result"
    }
   ],
   "source": [
    "df.info()\n",
    "df.dtypes\n",
    "df.isnull().sum()\n"
   ]
  },
  {
   "cell_type": "markdown",
   "metadata": {},
   "source": [
    "## get stadiums data to add to game data \n"
   ]
  },
  {
   "cell_type": "code",
   "execution_count": 42,
   "metadata": {},
   "outputs": [],
   "source": [
    "stadiums = pd.read_csv('/Users/andreewerner/Downloads/MLB - stadiums.csv')"
   ]
  },
  {
   "cell_type": "code",
   "execution_count": 43,
   "metadata": {},
   "outputs": [
    {
     "data": {
      "text/plain": [
       "array([1990, 1991, 1992, 1993, 1994, 1995, 1996, 1997, 1998, 1999, 2000,\n",
       "       2001, 2002, 2003, 2004, 2005, 2006, 2007, 2008, 2009, 2010, 2011,\n",
       "       2012, 2013, 2014, 2015, 2016, 2017, 2018])"
      ]
     },
     "execution_count": 43,
     "metadata": {},
     "output_type": "execute_result"
    }
   ],
   "source": [
    "stadiums.Year.sort_values().unique()"
   ]
  },
  {
   "cell_type": "code",
   "execution_count": 44,
   "metadata": {},
   "outputs": [
    {
     "data": {
      "text/plain": [
       "array(['ANA', 'ARI', 'ATL', 'BAL', 'BOS', 'CAL', 'CHC', 'CHW', 'CIN',\n",
       "       'CLE', 'COL', 'DET', 'FLA', 'HOU', 'KCR', 'LAA', 'LAD', 'MIA',\n",
       "       'MIL', 'MIN', 'MON', 'NYM', 'NYY', 'OAK', 'PHI', 'PIT', 'SDP',\n",
       "       'SEA', 'SFG', 'STL', 'TBD', 'TBR', 'TEX', 'TOR', 'WSN'],\n",
       "      dtype=object)"
      ]
     },
     "execution_count": 44,
     "metadata": {},
     "output_type": "execute_result"
    }
   ],
   "source": [
    "stadiums.Team.sort_values().unique()"
   ]
  },
  {
   "cell_type": "code",
   "execution_count": 45,
   "metadata": {},
   "outputs": [],
   "source": [
    "stadiums[stadiums.Team == 'ANA']\n",
    "stadiums[stadiums.Team == 'ARI']\n",
    "stadiums[stadiums.Team == 'ATL']\n",
    "stadiums[stadiums.Team == 'BAL']\n",
    "stadiums[stadiums.Team == 'BOS']\n",
    "stadiums[stadiums.Team == 'CAL']\n",
    "stadiums[stadiums.Team == 'CHC']\n",
    "stadiums[stadiums.Team == 'CHW']\n",
    "stadiums[stadiums.Team == 'CIN']\n",
    "stadiums[stadiums.Team == 'CLE']\n",
    "stadiums[stadiums.Team == 'COL']\n",
    "stadiums[stadiums.Team == 'DET']\n",
    "stadiums[stadiums.Team == 'FLA']\n",
    "stadiums[stadiums.Team == 'HOU']\n",
    "stadiums[stadiums.Team == 'KCR']\n",
    "stadiums[stadiums.Team == 'LAA']\n",
    "stadiums[stadiums.Team == 'LAD']\n",
    "stadiums[stadiums.Team == 'MIA']\n",
    "stadiums[stadiums.Team == 'MIL']\n",
    "stadiums[stadiums.Team == 'MIN']\n",
    "stadiums[stadiums.Team == 'MON']\n",
    "stadiums[stadiums.Team == 'NYM']\n",
    "stadiums[stadiums.Team == 'NYY']\n",
    "stadiums[stadiums.Team == 'OAK']\n",
    "stadiums[stadiums.Team == 'PHI']\n",
    "stadiums[stadiums.Team == 'PIT']\n",
    "stadiums[stadiums.Team == 'SDP']\n",
    "stadiums[stadiums.Team == 'SEA']\n",
    "stadiums[stadiums.Team == 'SFG']\n",
    "stadiums[stadiums.Team == 'STL']\n",
    "stadiums[stadiums.Team == 'TBD']\n",
    "stadiums[stadiums.Team == 'TBR']\n",
    "stadiums[stadiums.Team == 'TEX']\n",
    "stadiums[stadiums.Team == 'TOR']\n",
    "stadiums[stadiums.Team == 'WSN'];"
   ]
  },
  {
   "cell_type": "code",
   "execution_count": 46,
   "metadata": {},
   "outputs": [
    {
     "data": {
      "text/html": [
       "<div>\n",
       "<style scoped>\n",
       "    .dataframe tbody tr th:only-of-type {\n",
       "        vertical-align: middle;\n",
       "    }\n",
       "\n",
       "    .dataframe tbody tr th {\n",
       "        vertical-align: top;\n",
       "    }\n",
       "\n",
       "    .dataframe thead th {\n",
       "        text-align: right;\n",
       "    }\n",
       "</style>\n",
       "<table border=\"1\" class=\"dataframe\">\n",
       "  <thead>\n",
       "    <tr style=\"text-align: right;\">\n",
       "      <th></th>\n",
       "      <th>Team</th>\n",
       "      <th>Year</th>\n",
       "      <th>State</th>\n",
       "      <th>Stadium</th>\n",
       "      <th>Capacity</th>\n",
       "    </tr>\n",
       "  </thead>\n",
       "  <tbody>\n",
       "    <tr>\n",
       "      <th>0</th>\n",
       "      <td>ANA</td>\n",
       "      <td>1997</td>\n",
       "      <td>California</td>\n",
       "      <td>Angel Stadium</td>\n",
       "      <td>33851</td>\n",
       "    </tr>\n",
       "    <tr>\n",
       "      <th>1</th>\n",
       "      <td>ANA</td>\n",
       "      <td>1998</td>\n",
       "      <td>California</td>\n",
       "      <td>Angel Stadium</td>\n",
       "      <td>45050</td>\n",
       "    </tr>\n",
       "    <tr>\n",
       "      <th>2</th>\n",
       "      <td>ANA</td>\n",
       "      <td>1999</td>\n",
       "      <td>California</td>\n",
       "      <td>Angel Stadium</td>\n",
       "      <td>45050</td>\n",
       "    </tr>\n",
       "    <tr>\n",
       "      <th>3</th>\n",
       "      <td>ANA</td>\n",
       "      <td>2000</td>\n",
       "      <td>California</td>\n",
       "      <td>Angel Stadium</td>\n",
       "      <td>45050</td>\n",
       "    </tr>\n",
       "    <tr>\n",
       "      <th>4</th>\n",
       "      <td>ANA</td>\n",
       "      <td>2001</td>\n",
       "      <td>California</td>\n",
       "      <td>Angel Stadium</td>\n",
       "      <td>45050</td>\n",
       "    </tr>\n",
       "  </tbody>\n",
       "</table>\n",
       "</div>"
      ],
      "text/plain": [
       "  Team  Year       State        Stadium  Capacity\n",
       "0  ANA  1997  California  Angel Stadium     33851\n",
       "1  ANA  1998  California  Angel Stadium     45050\n",
       "2  ANA  1999  California  Angel Stadium     45050\n",
       "3  ANA  2000  California  Angel Stadium     45050\n",
       "4  ANA  2001  California  Angel Stadium     45050"
      ]
     },
     "execution_count": 46,
     "metadata": {},
     "output_type": "execute_result"
    }
   ],
   "source": [
    "stadiums.dtypes\n",
    "stadiums.head()"
   ]
  },
  {
   "cell_type": "code",
   "execution_count": 47,
   "metadata": {},
   "outputs": [],
   "source": [
    "# merge with df dataframe\n",
    "\n",
    "#first make column headings of stadiums dataframe lowercase\n",
    "\n",
    "stadiums.columns = [x.lower() for x in stadiums.columns]\n",
    "\n",
    "#drop state column\n",
    "stadiums = stadiums.drop(['state'],axis = 1)\n",
    "\n",
    "#perform merge\n",
    "df=df.merge(stadiums,on=['team','year'])"
   ]
  },
  {
   "cell_type": "code",
   "execution_count": 48,
   "metadata": {},
   "outputs": [
    {
     "data": {
      "text/html": [
       "<div>\n",
       "<style scoped>\n",
       "    .dataframe tbody tr th:only-of-type {\n",
       "        vertical-align: middle;\n",
       "    }\n",
       "\n",
       "    .dataframe tbody tr th {\n",
       "        vertical-align: top;\n",
       "    }\n",
       "\n",
       "    .dataframe thead th {\n",
       "        text-align: right;\n",
       "    }\n",
       "</style>\n",
       "<table border=\"1\" class=\"dataframe\">\n",
       "  <thead>\n",
       "    <tr style=\"text-align: right;\">\n",
       "      <th></th>\n",
       "      <th>date</th>\n",
       "      <th>team</th>\n",
       "      <th>opponent</th>\n",
       "      <th>rank</th>\n",
       "      <th>gb</th>\n",
       "      <th>time</th>\n",
       "      <th>attendance</th>\n",
       "      <th>streak</th>\n",
       "      <th>double_header</th>\n",
       "      <th>runs_per_game</th>\n",
       "      <th>...</th>\n",
       "      <th>wins_and_losses</th>\n",
       "      <th>win_percentage</th>\n",
       "      <th>day_game</th>\n",
       "      <th>day</th>\n",
       "      <th>weekday</th>\n",
       "      <th>weekday_name</th>\n",
       "      <th>month</th>\n",
       "      <th>year</th>\n",
       "      <th>stadium</th>\n",
       "      <th>capacity</th>\n",
       "    </tr>\n",
       "  </thead>\n",
       "  <tbody>\n",
       "    <tr>\n",
       "      <th>0</th>\n",
       "      <td>2000-04-03</td>\n",
       "      <td>ANA</td>\n",
       "      <td>NYY</td>\n",
       "      <td>0</td>\n",
       "      <td>0.0</td>\n",
       "      <td>03:02:00</td>\n",
       "      <td>42704</td>\n",
       "      <td>0</td>\n",
       "      <td>0</td>\n",
       "      <td>0.000000</td>\n",
       "      <td>...</td>\n",
       "      <td>0</td>\n",
       "      <td>0.000000</td>\n",
       "      <td>0</td>\n",
       "      <td>3</td>\n",
       "      <td>0</td>\n",
       "      <td>Monday</td>\n",
       "      <td>4</td>\n",
       "      <td>2000</td>\n",
       "      <td>Angel Stadium</td>\n",
       "      <td>45050</td>\n",
       "    </tr>\n",
       "    <tr>\n",
       "      <th>1</th>\n",
       "      <td>2000-04-04</td>\n",
       "      <td>ANA</td>\n",
       "      <td>NYY</td>\n",
       "      <td>3</td>\n",
       "      <td>-1.0</td>\n",
       "      <td>03:20:00</td>\n",
       "      <td>25818</td>\n",
       "      <td>-1</td>\n",
       "      <td>0</td>\n",
       "      <td>2.000000</td>\n",
       "      <td>...</td>\n",
       "      <td>1</td>\n",
       "      <td>0.000000</td>\n",
       "      <td>0</td>\n",
       "      <td>4</td>\n",
       "      <td>1</td>\n",
       "      <td>Tuesday</td>\n",
       "      <td>4</td>\n",
       "      <td>2000</td>\n",
       "      <td>Angel Stadium</td>\n",
       "      <td>45050</td>\n",
       "    </tr>\n",
       "    <tr>\n",
       "      <th>2</th>\n",
       "      <td>2000-04-05</td>\n",
       "      <td>ANA</td>\n",
       "      <td>NYY</td>\n",
       "      <td>4</td>\n",
       "      <td>-2.0</td>\n",
       "      <td>03:01:00</td>\n",
       "      <td>24560</td>\n",
       "      <td>-2</td>\n",
       "      <td>0</td>\n",
       "      <td>2.500000</td>\n",
       "      <td>...</td>\n",
       "      <td>2</td>\n",
       "      <td>0.000000</td>\n",
       "      <td>0</td>\n",
       "      <td>5</td>\n",
       "      <td>2</td>\n",
       "      <td>Wednesday</td>\n",
       "      <td>4</td>\n",
       "      <td>2000</td>\n",
       "      <td>Angel Stadium</td>\n",
       "      <td>45050</td>\n",
       "    </tr>\n",
       "    <tr>\n",
       "      <th>3</th>\n",
       "      <td>2000-04-07</td>\n",
       "      <td>ANA</td>\n",
       "      <td>BOS</td>\n",
       "      <td>4</td>\n",
       "      <td>-1.0</td>\n",
       "      <td>02:28:00</td>\n",
       "      <td>30412</td>\n",
       "      <td>1</td>\n",
       "      <td>0</td>\n",
       "      <td>5.666667</td>\n",
       "      <td>...</td>\n",
       "      <td>3</td>\n",
       "      <td>0.333333</td>\n",
       "      <td>0</td>\n",
       "      <td>7</td>\n",
       "      <td>4</td>\n",
       "      <td>Friday</td>\n",
       "      <td>4</td>\n",
       "      <td>2000</td>\n",
       "      <td>Angel Stadium</td>\n",
       "      <td>45050</td>\n",
       "    </tr>\n",
       "    <tr>\n",
       "      <th>4</th>\n",
       "      <td>2000-04-08</td>\n",
       "      <td>ANA</td>\n",
       "      <td>BOS</td>\n",
       "      <td>3</td>\n",
       "      <td>-1.0</td>\n",
       "      <td>03:11:00</td>\n",
       "      <td>27369</td>\n",
       "      <td>2</td>\n",
       "      <td>0</td>\n",
       "      <td>6.000000</td>\n",
       "      <td>...</td>\n",
       "      <td>4</td>\n",
       "      <td>0.500000</td>\n",
       "      <td>0</td>\n",
       "      <td>8</td>\n",
       "      <td>5</td>\n",
       "      <td>Saturday</td>\n",
       "      <td>4</td>\n",
       "      <td>2000</td>\n",
       "      <td>Angel Stadium</td>\n",
       "      <td>45050</td>\n",
       "    </tr>\n",
       "  </tbody>\n",
       "</table>\n",
       "<p>5 rows × 24 columns</p>\n",
       "</div>"
      ],
      "text/plain": [
       "        date team opponent  rank   gb     time  attendance  streak  \\\n",
       "0 2000-04-03  ANA      NYY     0  0.0 03:02:00       42704       0   \n",
       "1 2000-04-04  ANA      NYY     3 -1.0 03:20:00       25818      -1   \n",
       "2 2000-04-05  ANA      NYY     4 -2.0 03:01:00       24560      -2   \n",
       "3 2000-04-07  ANA      BOS     4 -1.0 02:28:00       30412       1   \n",
       "4 2000-04-08  ANA      BOS     3 -1.0 03:11:00       27369       2   \n",
       "\n",
       "   double_header  runs_per_game   ...     wins_and_losses  win_percentage  \\\n",
       "0              0       0.000000   ...                   0        0.000000   \n",
       "1              0       2.000000   ...                   1        0.000000   \n",
       "2              0       2.500000   ...                   2        0.000000   \n",
       "3              0       5.666667   ...                   3        0.333333   \n",
       "4              0       6.000000   ...                   4        0.500000   \n",
       "\n",
       "   day_game  day  weekday  weekday_name  month  year        stadium capacity  \n",
       "0         0    3        0        Monday      4  2000  Angel Stadium    45050  \n",
       "1         0    4        1       Tuesday      4  2000  Angel Stadium    45050  \n",
       "2         0    5        2     Wednesday      4  2000  Angel Stadium    45050  \n",
       "3         0    7        4        Friday      4  2000  Angel Stadium    45050  \n",
       "4         0    8        5      Saturday      4  2000  Angel Stadium    45050  \n",
       "\n",
       "[5 rows x 24 columns]"
      ]
     },
     "execution_count": 48,
     "metadata": {},
     "output_type": "execute_result"
    }
   ],
   "source": [
    "df.isnull().sum()\n",
    "df.head()"
   ]
  },
  {
   "cell_type": "markdown",
   "metadata": {},
   "source": [
    "## clean seasons data "
   ]
  },
  {
   "cell_type": "code",
   "execution_count": 49,
   "metadata": {},
   "outputs": [],
   "source": [
    "seasons_df = pd.read_csv('/Users/andreewerner/Desktop/mlb-seasons-data.csv')"
   ]
  },
  {
   "cell_type": "code",
   "execution_count": 50,
   "metadata": {},
   "outputs": [
    {
     "data": {
      "text/html": [
       "<div>\n",
       "<style scoped>\n",
       "    .dataframe tbody tr th:only-of-type {\n",
       "        vertical-align: middle;\n",
       "    }\n",
       "\n",
       "    .dataframe tbody tr th {\n",
       "        vertical-align: top;\n",
       "    }\n",
       "\n",
       "    .dataframe thead th {\n",
       "        text-align: right;\n",
       "    }\n",
       "</style>\n",
       "<table border=\"1\" class=\"dataframe\">\n",
       "  <thead>\n",
       "    <tr style=\"text-align: right;\">\n",
       "      <th></th>\n",
       "      <th>year</th>\n",
       "      <th>team</th>\n",
       "      <th>team_name</th>\n",
       "      <th>division</th>\n",
       "      <th>G</th>\n",
       "      <th>W</th>\n",
       "      <th>L</th>\n",
       "      <th>ties</th>\n",
       "      <th>win_pct</th>\n",
       "      <th>p_win_pct</th>\n",
       "      <th>...</th>\n",
       "      <th>playoffs</th>\n",
       "      <th>R</th>\n",
       "      <th>RA</th>\n",
       "      <th>attendance</th>\n",
       "      <th>bat_age</th>\n",
       "      <th>pitch_age</th>\n",
       "      <th>num_bat</th>\n",
       "      <th>num_pitch</th>\n",
       "      <th>top_player</th>\n",
       "      <th>managers</th>\n",
       "    </tr>\n",
       "  </thead>\n",
       "  <tbody>\n",
       "    <tr>\n",
       "      <th>0</th>\n",
       "      <td>2017</td>\n",
       "      <td>ANA</td>\n",
       "      <td>NaN</td>\n",
       "      <td>AL West</td>\n",
       "      <td>162</td>\n",
       "      <td>80</td>\n",
       "      <td>82</td>\n",
       "      <td>0</td>\n",
       "      <td>0.494</td>\n",
       "      <td>0.501</td>\n",
       "      <td>...</td>\n",
       "      <td>NaN</td>\n",
       "      <td>710</td>\n",
       "      <td>709</td>\n",
       "      <td>3,019,585</td>\n",
       "      <td>29.9</td>\n",
       "      <td>29.1</td>\n",
       "      <td>55</td>\n",
       "      <td>31</td>\n",
       "      <td>A.Simmons (7.1)</td>\n",
       "      <td>NaN</td>\n",
       "    </tr>\n",
       "    <tr>\n",
       "      <th>1</th>\n",
       "      <td>2016</td>\n",
       "      <td>ANA</td>\n",
       "      <td>NaN</td>\n",
       "      <td>AL West</td>\n",
       "      <td>162</td>\n",
       "      <td>74</td>\n",
       "      <td>88</td>\n",
       "      <td>0</td>\n",
       "      <td>0.457</td>\n",
       "      <td>0.494</td>\n",
       "      <td>...</td>\n",
       "      <td>NaN</td>\n",
       "      <td>717</td>\n",
       "      <td>727</td>\n",
       "      <td>3,016,142</td>\n",
       "      <td>28.5</td>\n",
       "      <td>28.4</td>\n",
       "      <td>53</td>\n",
       "      <td>30</td>\n",
       "      <td>M.Trout (10.5)</td>\n",
       "      <td>NaN</td>\n",
       "    </tr>\n",
       "    <tr>\n",
       "      <th>2</th>\n",
       "      <td>2015</td>\n",
       "      <td>ANA</td>\n",
       "      <td>NaN</td>\n",
       "      <td>AL West</td>\n",
       "      <td>162</td>\n",
       "      <td>85</td>\n",
       "      <td>77</td>\n",
       "      <td>0</td>\n",
       "      <td>0.525</td>\n",
       "      <td>0.490</td>\n",
       "      <td>...</td>\n",
       "      <td>NaN</td>\n",
       "      <td>661</td>\n",
       "      <td>675</td>\n",
       "      <td>3,012,765</td>\n",
       "      <td>28.7</td>\n",
       "      <td>28.3</td>\n",
       "      <td>51</td>\n",
       "      <td>25</td>\n",
       "      <td>M.Trout (9.4)</td>\n",
       "      <td>NaN</td>\n",
       "    </tr>\n",
       "    <tr>\n",
       "      <th>3</th>\n",
       "      <td>2014</td>\n",
       "      <td>ANA</td>\n",
       "      <td>NaN</td>\n",
       "      <td>AL West</td>\n",
       "      <td>162</td>\n",
       "      <td>98</td>\n",
       "      <td>64</td>\n",
       "      <td>0</td>\n",
       "      <td>0.605</td>\n",
       "      <td>0.593</td>\n",
       "      <td>...</td>\n",
       "      <td>NaN</td>\n",
       "      <td>773</td>\n",
       "      <td>630</td>\n",
       "      <td>3,095,935</td>\n",
       "      <td>29.3</td>\n",
       "      <td>28.4</td>\n",
       "      <td>54</td>\n",
       "      <td>31</td>\n",
       "      <td>M.Trout (7.6)</td>\n",
       "      <td>NaN</td>\n",
       "    </tr>\n",
       "    <tr>\n",
       "      <th>4</th>\n",
       "      <td>2013</td>\n",
       "      <td>ANA</td>\n",
       "      <td>NaN</td>\n",
       "      <td>AL West</td>\n",
       "      <td>162</td>\n",
       "      <td>78</td>\n",
       "      <td>84</td>\n",
       "      <td>0</td>\n",
       "      <td>0.481</td>\n",
       "      <td>0.498</td>\n",
       "      <td>...</td>\n",
       "      <td>NaN</td>\n",
       "      <td>733</td>\n",
       "      <td>737</td>\n",
       "      <td>3,019,505</td>\n",
       "      <td>27.8</td>\n",
       "      <td>29.1</td>\n",
       "      <td>49</td>\n",
       "      <td>26</td>\n",
       "      <td>M.Trout (9.0)</td>\n",
       "      <td>NaN</td>\n",
       "    </tr>\n",
       "  </tbody>\n",
       "</table>\n",
       "<p>5 rows × 22 columns</p>\n",
       "</div>"
      ],
      "text/plain": [
       "   year team team_name division    G   W   L  ties  win_pct  p_win_pct  \\\n",
       "0  2017  ANA       NaN  AL West  162  80  82     0    0.494      0.501   \n",
       "1  2016  ANA       NaN  AL West  162  74  88     0    0.457      0.494   \n",
       "2  2015  ANA       NaN  AL West  162  85  77     0    0.525      0.490   \n",
       "3  2014  ANA       NaN  AL West  162  98  64     0    0.605      0.593   \n",
       "4  2013  ANA       NaN  AL West  162  78  84     0    0.481      0.498   \n",
       "\n",
       "     ...    playoffs    R   RA  attendance  bat_age pitch_age  num_bat  \\\n",
       "0    ...         NaN  710  709   3,019,585     29.9      29.1       55   \n",
       "1    ...         NaN  717  727   3,016,142     28.5      28.4       53   \n",
       "2    ...         NaN  661  675   3,012,765     28.7      28.3       51   \n",
       "3    ...         NaN  773  630   3,095,935     29.3      28.4       54   \n",
       "4    ...         NaN  733  737   3,019,505     27.8      29.1       49   \n",
       "\n",
       "   num_pitch       top_player  managers  \n",
       "0         31  A.Simmons (7.1)       NaN  \n",
       "1         30   M.Trout (10.5)       NaN  \n",
       "2         25    M.Trout (9.4)       NaN  \n",
       "3         31    M.Trout (7.6)       NaN  \n",
       "4         26    M.Trout (9.0)       NaN  \n",
       "\n",
       "[5 rows x 22 columns]"
      ]
     },
     "execution_count": 50,
     "metadata": {},
     "output_type": "execute_result"
    }
   ],
   "source": [
    "seasons_df.isnull().sum()\n",
    "seasons_df.head()"
   ]
  },
  {
   "cell_type": "code",
   "execution_count": 51,
   "metadata": {},
   "outputs": [],
   "source": [
    "# put zeros in for '--' in gb column and change other values to float objects\n",
    "seasons_df['gb'] = [0. if i =='--' else float(i) for i in seasons_df['gb']]"
   ]
  },
  {
   "cell_type": "code",
   "execution_count": 52,
   "metadata": {},
   "outputs": [],
   "source": [
    "#make playoffs a dummy variable, 0 for NaNs, 2 if they won playoffs, 1 otherwise\n",
    "seasons_df['playoffs'] = [0 if str(i) == 'NaN' else 2 if 'Won' in str(i) else 1 for i in seasons_df['playoffs']]\n"
   ]
  },
  {
   "cell_type": "code",
   "execution_count": 53,
   "metadata": {},
   "outputs": [],
   "source": [
    "#split top_player column into 2 columsn: player name and their one encompassing stat\n",
    "top_player=[]\n",
    "top_player_stat=[]\n",
    "for player in seasons_df['top_player']:\n",
    "    p,s = player.split()\n",
    "    top_player.append(p)\n",
    "    top_player_stat.append(float(s.replace('(','').replace(')','')))\n",
    "\n",
    "seasons_df['top_player'] = top_player\n",
    "seasons_df['top_player_stat'] = top_player_stat"
   ]
  },
  {
   "cell_type": "code",
   "execution_count": 54,
   "metadata": {},
   "outputs": [],
   "source": [
    "#attendance to int object\n",
    "seasons_df['attendance'] = seasons_df['attendance'].str.replace(',','').astype(int)"
   ]
  },
  {
   "cell_type": "code",
   "execution_count": 55,
   "metadata": {},
   "outputs": [],
   "source": [
    "# drop unnecessary columns\n",
    "seasons_df=seasons_df.drop(['W','L','ties','team_name','p_win_pct','finish','R','RA','num_bat','num_pitch','managers'],axis=1)\n"
   ]
  },
  {
   "cell_type": "code",
   "execution_count": 56,
   "metadata": {},
   "outputs": [],
   "source": [
    "# define count of games based on unique team and year in order to find average attendance per game\n",
    "games_count = pd.DataFrame(columns=['team','year','home_games_count'])\n",
    "for i in df['team'].unique():\n",
    "    for j in df[df['team'] ==i]['year'].unique():\n",
    "        games_count.loc[len(games_count)] = [i,j, float(len(df[(df['year'] == j) & (df['team'] == i)]))]\n",
    "\n",
    "games_count['home_games_count'] = games_count['home_games_count'].astype(int)\n",
    "games_count['year']=games_count['year'].astype(int)\n",
    "\n",
    "# put into seasons dataframe\n",
    "seasons_df=seasons_df.merge(games_count,on=['team','year'])\n",
    "seasons_df['avg_attend_per_game'] = seasons_df['attendance']/seasons_df['home_games_count']"
   ]
  },
  {
   "cell_type": "code",
   "execution_count": 57,
   "metadata": {},
   "outputs": [
    {
     "data": {
      "text/plain": [
       "Index(['year', 'team', 'division', 'G', 'win_pct', 'gb', 'playoffs',\n",
       "       'attendance', 'bat_age', 'pitch_age', 'top_player', 'top_player_stat',\n",
       "       'home_games_count', 'avg_attend_per_game', 'stadium', 'capacity'],\n",
       "      dtype='object')"
      ]
     },
     "execution_count": 57,
     "metadata": {},
     "output_type": "execute_result"
    }
   ],
   "source": [
    "# merge seasons and dataframe and stadiums dataframe, on year and team\n",
    "seasons_df=seasons_df.merge(stadiums, on =['team','year'])\n",
    "seasons_df.columns"
   ]
  },
  {
   "cell_type": "markdown",
   "metadata": {},
   "source": [
    "## INFO FROM GAMES DF DATAFRAME "
   ]
  },
  {
   "cell_type": "markdown",
   "metadata": {},
   "source": [
    "## histogram of target variable (attendance) looks pretty normal "
   ]
  },
  {
   "cell_type": "code",
   "execution_count": 58,
   "metadata": {},
   "outputs": [
    {
     "name": "stderr",
     "output_type": "stream",
     "text": [
      "/Library/Frameworks/Python.framework/Versions/3.6/lib/python3.6/site-packages/scipy/stats/stats.py:1713: FutureWarning: Using a non-tuple sequence for multidimensional indexing is deprecated; use `arr[tuple(seq)]` instead of `arr[seq]`. In the future this will be interpreted as an array index, `arr[np.array(seq)]`, which will result either in an error or a different result.\n",
      "  return np.add.reduce(sorted[indexer] * weights, axis=axis) / sumval\n"
     ]
    },
    {
     "data": {
      "text/plain": [
       "(0.0, 5e-05)"
      ]
     },
     "execution_count": 58,
     "metadata": {},
     "output_type": "execute_result"
    },
    {
     "data": {
      "image/png": "[encoded data removed]",
      "text/plain": [
       "<Figure size 432x288 with 1 Axes>"
      ]
     },
     "metadata": {},
     "output_type": "display_data"
    }
   ],
   "source": [
    "sns.set_style('whitegrid')\n",
    "sns.distplot(df['attendance'],bins=40)\n",
    "plt.xlim(-10000,70000)\n",
    "plt.ylim(0.000000,0.000050)"
   ]
  },
  {
   "cell_type": "markdown",
   "metadata": {},
   "source": [
    "## correlation heat map "
   ]
  },
  {
   "cell_type": "code",
   "execution_count": 59,
   "metadata": {},
   "outputs": [
    {
     "data": {
      "text/plain": [
       "<matplotlib.axes._subplots.AxesSubplot at 0x11ee8f898>"
      ]
     },
     "execution_count": 59,
     "metadata": {},
     "output_type": "execute_result"
    },
    {
     "data": {
      "image/png": "[encoded data removed]",
      "text/plain": [
       "<Figure size 432x288 with 2 Axes>"
      ]
     },
     "metadata": {},
     "output_type": "display_data"
    }
   ],
   "source": [
    "df_corr=df.corr()\n",
    "\n",
    "mask = np.zeros_like(df_corr,dtype=np.bool)\n",
    "mask[np.triu_indices_from(mask)] = True\n",
    "\n",
    "sns.heatmap(df_corr, linewidth = 0.5, mask=mask, annot=True, annot_kws={'size': 5})"
   ]
  },
  {
   "cell_type": "markdown",
   "metadata": {},
   "source": [
    "## regression plot for win_percentage against attendance - slight positive \n"
   ]
  },
  {
   "cell_type": "code",
   "execution_count": 60,
   "metadata": {},
   "outputs": [
    {
     "name": "stderr",
     "output_type": "stream",
     "text": [
      "/Library/Frameworks/Python.framework/Versions/3.6/lib/python3.6/site-packages/scipy/stats/stats.py:1713: FutureWarning: Using a non-tuple sequence for multidimensional indexing is deprecated; use `arr[tuple(seq)]` instead of `arr[seq]`. In the future this will be interpreted as an array index, `arr[np.array(seq)]`, which will result either in an error or a different result.\n",
      "  return np.add.reduce(sorted[indexer] * weights, axis=axis) / sumval\n"
     ]
    },
    {
     "data": {
      "text/plain": [
       "<matplotlib.axes._subplots.AxesSubplot at 0x11730e898>"
      ]
     },
     "execution_count": 60,
     "metadata": {},
     "output_type": "execute_result"
    },
    {
     "data": {
      "image/png": "[encoded data removed]",
      "text/plain": [
       "<Figure size 432x288 with 1 Axes>"
      ]
     },
     "metadata": {},
     "output_type": "display_data"
    }
   ],
   "source": [
    "sns.regplot(x='win_percentage',y='attendance',data=df.sample(frac=0.1),marker='o',color='red',scatter_kws={'s':2})"
   ]
  },
  {
   "cell_type": "markdown",
   "metadata": {},
   "source": [
    "## regression plot for gb against attendance - positive correlation "
   ]
  },
  {
   "cell_type": "code",
   "execution_count": 61,
   "metadata": {},
   "outputs": [
    {
     "name": "stderr",
     "output_type": "stream",
     "text": [
      "/Library/Frameworks/Python.framework/Versions/3.6/lib/python3.6/site-packages/scipy/stats/stats.py:1713: FutureWarning: Using a non-tuple sequence for multidimensional indexing is deprecated; use `arr[tuple(seq)]` instead of `arr[seq]`. In the future this will be interpreted as an array index, `arr[np.array(seq)]`, which will result either in an error or a different result.\n",
      "  return np.add.reduce(sorted[indexer] * weights, axis=axis) / sumval\n"
     ]
    },
    {
     "data": {
      "text/plain": [
       "<matplotlib.axes._subplots.AxesSubplot at 0x11bde1f28>"
      ]
     },
     "execution_count": 61,
     "metadata": {},
     "output_type": "execute_result"
    },
    {
     "data": {
      "image/png": "[encoded data removed]",
      "text/plain": [
       "<Figure size 432x288 with 1 Axes>"
      ]
     },
     "metadata": {},
     "output_type": "display_data"
    }
   ],
   "source": [
    "sns.regplot(x='gb',y='attendance',data=df.sample(frac=0.1),marker='o',color='red',scatter_kws={'s':2})"
   ]
  },
  {
   "cell_type": "markdown",
   "metadata": {},
   "source": [
    "## regression plot for runs_per_game against attendance - hard to tell"
   ]
  },
  {
   "cell_type": "code",
   "execution_count": 62,
   "metadata": {},
   "outputs": [
    {
     "name": "stderr",
     "output_type": "stream",
     "text": [
      "/Library/Frameworks/Python.framework/Versions/3.6/lib/python3.6/site-packages/scipy/stats/stats.py:1713: FutureWarning: Using a non-tuple sequence for multidimensional indexing is deprecated; use `arr[tuple(seq)]` instead of `arr[seq]`. In the future this will be interpreted as an array index, `arr[np.array(seq)]`, which will result either in an error or a different result.\n",
      "  return np.add.reduce(sorted[indexer] * weights, axis=axis) / sumval\n"
     ]
    },
    {
     "data": {
      "text/plain": [
       "<matplotlib.axes._subplots.AxesSubplot at 0x11ca9b8d0>"
      ]
     },
     "execution_count": 62,
     "metadata": {},
     "output_type": "execute_result"
    },
    {
     "data": {
      "image/png": "[encoded data removed]",
      "text/plain": [
       "<Figure size 432x288 with 1 Axes>"
      ]
     },
     "metadata": {},
     "output_type": "display_data"
    }
   ],
   "source": [
    "sns.regplot(x='runs_per_game',y='attendance',data=df.sample(frac=0.1),marker='o',color='red',scatter_kws={'s':2})"
   ]
  },
  {
   "cell_type": "markdown",
   "metadata": {},
   "source": [
    "## regression plot for rank against attendance - negative correlation"
   ]
  },
  {
   "cell_type": "code",
   "execution_count": 63,
   "metadata": {},
   "outputs": [
    {
     "name": "stderr",
     "output_type": "stream",
     "text": [
      "/Library/Frameworks/Python.framework/Versions/3.6/lib/python3.6/site-packages/scipy/stats/stats.py:1713: FutureWarning: Using a non-tuple sequence for multidimensional indexing is deprecated; use `arr[tuple(seq)]` instead of `arr[seq]`. In the future this will be interpreted as an array index, `arr[np.array(seq)]`, which will result either in an error or a different result.\n",
      "  return np.add.reduce(sorted[indexer] * weights, axis=axis) / sumval\n"
     ]
    },
    {
     "data": {
      "text/plain": [
       "<matplotlib.axes._subplots.AxesSubplot at 0x11cc742b0>"
      ]
     },
     "execution_count": 63,
     "metadata": {},
     "output_type": "execute_result"
    },
    {
     "data": {
      "image/png": "[encoded data removed]",
      "text/plain": [
       "<Figure size 432x288 with 1 Axes>"
      ]
     },
     "metadata": {},
     "output_type": "display_data"
    }
   ],
   "source": [
    "sns.regplot(x='rank',y='attendance',data=df.sample(frac=0.1),marker='o',color='red',scatter_kws={'s':2})"
   ]
  },
  {
   "cell_type": "markdown",
   "metadata": {},
   "source": [
    "## boxplot for day of week against attendance "
   ]
  },
  {
   "cell_type": "code",
   "execution_count": 64,
   "metadata": {},
   "outputs": [
    {
     "data": {
      "text/plain": [
       "<matplotlib.axes._subplots.AxesSubplot at 0x11cce24e0>"
      ]
     },
     "execution_count": 64,
     "metadata": {},
     "output_type": "execute_result"
    },
    {
     "data": {
      "image/png": "[encoded data removed]",
      "text/plain": [
       "<Figure size 432x288 with 1 Axes>"
      ]
     },
     "metadata": {},
     "output_type": "display_data"
    }
   ],
   "source": [
    "sns.boxplot(x='weekday_name', y='attendance', data=df, order=['Monday', 'Tuesday', 'Wednesday', 'Thursday', 'Friday', 'Saturday', 'Sunday']\n",
    ")"
   ]
  },
  {
   "cell_type": "markdown",
   "metadata": {},
   "source": [
    "## boxplot of season months (march-oct) against attendance "
   ]
  },
  {
   "cell_type": "code",
   "execution_count": 65,
   "metadata": {},
   "outputs": [
    {
     "data": {
      "text/plain": [
       "<matplotlib.axes._subplots.AxesSubplot at 0x11d1a0b00>"
      ]
     },
     "execution_count": 65,
     "metadata": {},
     "output_type": "execute_result"
    },
    {
     "data": {
      "image/png": "[encoded data removed]",
      "text/plain": [
       "<Figure size 432x288 with 1 Axes>"
      ]
     },
     "metadata": {},
     "output_type": "display_data"
    }
   ],
   "source": [
    "#that outlier is the max attendance game by SDP in march 2003  \n",
    "sns.boxplot(x='month', y='attendance', data=df)\n"
   ]
  },
  {
   "cell_type": "markdown",
   "metadata": {},
   "source": [
    "## boxplot of opening-day game and that affect on attendance"
   ]
  },
  {
   "cell_type": "code",
   "execution_count": 66,
   "metadata": {},
   "outputs": [
    {
     "data": {
      "text/plain": [
       "<matplotlib.axes._subplots.AxesSubplot at 0x11cc64d68>"
      ]
     },
     "execution_count": 66,
     "metadata": {},
     "output_type": "execute_result"
    },
    {
     "data": {
      "image/png": "[encoded data removed]",
      "text/plain": [
       "<Figure size 432x288 with 1 Axes>"
      ]
     },
     "metadata": {},
     "output_type": "display_data"
    }
   ],
   "source": [
    "sns.boxplot(x='opening_day', y='attendance', data=df)\n"
   ]
  },
  {
   "cell_type": "code",
   "execution_count": 67,
   "metadata": {},
   "outputs": [
    {
     "data": {
      "text/html": [
       "<div>\n",
       "<style scoped>\n",
       "    .dataframe tbody tr th:only-of-type {\n",
       "        vertical-align: middle;\n",
       "    }\n",
       "\n",
       "    .dataframe tbody tr th {\n",
       "        vertical-align: top;\n",
       "    }\n",
       "\n",
       "    .dataframe thead th {\n",
       "        text-align: right;\n",
       "    }\n",
       "</style>\n",
       "<table border=\"1\" class=\"dataframe\">\n",
       "  <thead>\n",
       "    <tr style=\"text-align: right;\">\n",
       "      <th></th>\n",
       "      <th>rank</th>\n",
       "      <th>gb</th>\n",
       "      <th>time</th>\n",
       "      <th>attendance</th>\n",
       "      <th>streak</th>\n",
       "      <th>double_header</th>\n",
       "      <th>runs_per_game</th>\n",
       "      <th>runs_moving_avg</th>\n",
       "      <th>runs_allowed_moving_avg</th>\n",
       "      <th>win_pct</th>\n",
       "      <th>opening_day</th>\n",
       "      <th>wins_and_losses</th>\n",
       "      <th>win_percentage</th>\n",
       "      <th>day_game</th>\n",
       "      <th>day</th>\n",
       "      <th>weekday</th>\n",
       "      <th>month</th>\n",
       "      <th>year</th>\n",
       "      <th>capacity</th>\n",
       "    </tr>\n",
       "  </thead>\n",
       "  <tbody>\n",
       "    <tr>\n",
       "      <th>count</th>\n",
       "      <td>43529.000000</td>\n",
       "      <td>43529.000000</td>\n",
       "      <td>43529</td>\n",
       "      <td>43529.000000</td>\n",
       "      <td>43529.000000</td>\n",
       "      <td>43529.000000</td>\n",
       "      <td>43529.000000</td>\n",
       "      <td>43529.000000</td>\n",
       "      <td>43529.000000</td>\n",
       "      <td>43529.000000</td>\n",
       "      <td>43529.000000</td>\n",
       "      <td>43529.000000</td>\n",
       "      <td>43529.000000</td>\n",
       "      <td>43529.000000</td>\n",
       "      <td>43529.000000</td>\n",
       "      <td>43529.000000</td>\n",
       "      <td>43529.000000</td>\n",
       "      <td>43529.000000</td>\n",
       "      <td>43529.000000</td>\n",
       "    </tr>\n",
       "    <tr>\n",
       "      <th>mean</th>\n",
       "      <td>2.937329</td>\n",
       "      <td>-6.532002</td>\n",
       "      <td>0 days 02:57:56.017827</td>\n",
       "      <td>30444.824623</td>\n",
       "      <td>0.131751</td>\n",
       "      <td>0.016104</td>\n",
       "      <td>4.539647</td>\n",
       "      <td>4.546501</td>\n",
       "      <td>4.552501</td>\n",
       "      <td>0.457113</td>\n",
       "      <td>0.012406</td>\n",
       "      <td>80.413954</td>\n",
       "      <td>0.497315</td>\n",
       "      <td>0.323807</td>\n",
       "      <td>15.852122</td>\n",
       "      <td>3.203565</td>\n",
       "      <td>6.567530</td>\n",
       "      <td>2008.506835</td>\n",
       "      <td>44641.665579</td>\n",
       "    </tr>\n",
       "    <tr>\n",
       "      <th>std</th>\n",
       "      <td>1.470698</td>\n",
       "      <td>8.815325</td>\n",
       "      <td>0 days 00:27:29.056318</td>\n",
       "      <td>10778.203708</td>\n",
       "      <td>2.561186</td>\n",
       "      <td>0.125878</td>\n",
       "      <td>0.828199</td>\n",
       "      <td>1.558592</td>\n",
       "      <td>1.500691</td>\n",
       "      <td>0.179979</td>\n",
       "      <td>0.110688</td>\n",
       "      <td>46.722685</td>\n",
       "      <td>0.112005</td>\n",
       "      <td>0.467933</td>\n",
       "      <td>8.864488</td>\n",
       "      <td>1.969903</td>\n",
       "      <td>1.722032</td>\n",
       "      <td>5.187334</td>\n",
       "      <td>5867.755214</td>\n",
       "    </tr>\n",
       "    <tr>\n",
       "      <th>min</th>\n",
       "      <td>0.000000</td>\n",
       "      <td>-49.000000</td>\n",
       "      <td>0 days 01:15:00</td>\n",
       "      <td>2134.000000</td>\n",
       "      <td>-15.000000</td>\n",
       "      <td>0.000000</td>\n",
       "      <td>0.000000</td>\n",
       "      <td>0.000000</td>\n",
       "      <td>0.400000</td>\n",
       "      <td>0.000000</td>\n",
       "      <td>0.000000</td>\n",
       "      <td>0.000000</td>\n",
       "      <td>0.000000</td>\n",
       "      <td>0.000000</td>\n",
       "      <td>1.000000</td>\n",
       "      <td>0.000000</td>\n",
       "      <td>3.000000</td>\n",
       "      <td>2000.000000</td>\n",
       "      <td>31042.000000</td>\n",
       "    </tr>\n",
       "    <tr>\n",
       "      <th>25%</th>\n",
       "      <td>2.000000</td>\n",
       "      <td>-11.500000</td>\n",
       "      <td>0 days 02:40:00</td>\n",
       "      <td>21840.000000</td>\n",
       "      <td>-1.000000</td>\n",
       "      <td>0.000000</td>\n",
       "      <td>4.118182</td>\n",
       "      <td>3.400000</td>\n",
       "      <td>3.400000</td>\n",
       "      <td>0.300000</td>\n",
       "      <td>0.000000</td>\n",
       "      <td>40.000000</td>\n",
       "      <td>0.440000</td>\n",
       "      <td>0.000000</td>\n",
       "      <td>8.000000</td>\n",
       "      <td>1.000000</td>\n",
       "      <td>5.000000</td>\n",
       "      <td>2004.000000</td>\n",
       "      <td>41070.000000</td>\n",
       "    </tr>\n",
       "    <tr>\n",
       "      <th>50%</th>\n",
       "      <td>3.000000</td>\n",
       "      <td>-5.000000</td>\n",
       "      <td>0 days 02:55:00</td>\n",
       "      <td>30874.000000</td>\n",
       "      <td>1.000000</td>\n",
       "      <td>0.000000</td>\n",
       "      <td>4.533333</td>\n",
       "      <td>4.400000</td>\n",
       "      <td>4.400000</td>\n",
       "      <td>0.500000</td>\n",
       "      <td>0.000000</td>\n",
       "      <td>80.000000</td>\n",
       "      <td>0.500000</td>\n",
       "      <td>0.000000</td>\n",
       "      <td>16.000000</td>\n",
       "      <td>3.000000</td>\n",
       "      <td>7.000000</td>\n",
       "      <td>2009.000000</td>\n",
       "      <td>43500.000000</td>\n",
       "    </tr>\n",
       "    <tr>\n",
       "      <th>75%</th>\n",
       "      <td>4.000000</td>\n",
       "      <td>-1.000000</td>\n",
       "      <td>0 days 03:12:00</td>\n",
       "      <td>39082.000000</td>\n",
       "      <td>2.000000</td>\n",
       "      <td>0.000000</td>\n",
       "      <td>4.957143</td>\n",
       "      <td>5.600000</td>\n",
       "      <td>5.400000</td>\n",
       "      <td>0.600000</td>\n",
       "      <td>0.000000</td>\n",
       "      <td>121.000000</td>\n",
       "      <td>0.558824</td>\n",
       "      <td>1.000000</td>\n",
       "      <td>24.000000</td>\n",
       "      <td>5.000000</td>\n",
       "      <td>8.000000</td>\n",
       "      <td>2013.000000</td>\n",
       "      <td>48876.000000</td>\n",
       "    </tr>\n",
       "    <tr>\n",
       "      <th>max</th>\n",
       "      <td>6.000000</td>\n",
       "      <td>22.000000</td>\n",
       "      <td>0 days 07:06:00</td>\n",
       "      <td>61707.000000</td>\n",
       "      <td>22.000000</td>\n",
       "      <td>1.000000</td>\n",
       "      <td>16.000000</td>\n",
       "      <td>16.000000</td>\n",
       "      <td>12.800000</td>\n",
       "      <td>1.000000</td>\n",
       "      <td>1.000000</td>\n",
       "      <td>162.000000</td>\n",
       "      <td>1.000000</td>\n",
       "      <td>1.000000</td>\n",
       "      <td>31.000000</td>\n",
       "      <td>6.000000</td>\n",
       "      <td>10.000000</td>\n",
       "      <td>2017.000000</td>\n",
       "      <td>66307.000000</td>\n",
       "    </tr>\n",
       "  </tbody>\n",
       "</table>\n",
       "</div>"
      ],
      "text/plain": [
       "               rank            gb                    time    attendance  \\\n",
       "count  43529.000000  43529.000000                   43529  43529.000000   \n",
       "mean       2.937329     -6.532002  0 days 02:57:56.017827  30444.824623   \n",
       "std        1.470698      8.815325  0 days 00:27:29.056318  10778.203708   \n",
       "min        0.000000    -49.000000         0 days 01:15:00   2134.000000   \n",
       "25%        2.000000    -11.500000         0 days 02:40:00  21840.000000   \n",
       "50%        3.000000     -5.000000         0 days 02:55:00  30874.000000   \n",
       "75%        4.000000     -1.000000         0 days 03:12:00  39082.000000   \n",
       "max        6.000000     22.000000         0 days 07:06:00  61707.000000   \n",
       "\n",
       "             streak  double_header  runs_per_game  runs_moving_avg  \\\n",
       "count  43529.000000   43529.000000   43529.000000     43529.000000   \n",
       "mean       0.131751       0.016104       4.539647         4.546501   \n",
       "std        2.561186       0.125878       0.828199         1.558592   \n",
       "min      -15.000000       0.000000       0.000000         0.000000   \n",
       "25%       -1.000000       0.000000       4.118182         3.400000   \n",
       "50%        1.000000       0.000000       4.533333         4.400000   \n",
       "75%        2.000000       0.000000       4.957143         5.600000   \n",
       "max       22.000000       1.000000      16.000000        16.000000   \n",
       "\n",
       "       runs_allowed_moving_avg       win_pct   opening_day  wins_and_losses  \\\n",
       "count             43529.000000  43529.000000  43529.000000     43529.000000   \n",
       "mean                  4.552501      0.457113      0.012406        80.413954   \n",
       "std                   1.500691      0.179979      0.110688        46.722685   \n",
       "min                   0.400000      0.000000      0.000000         0.000000   \n",
       "25%                   3.400000      0.300000      0.000000        40.000000   \n",
       "50%                   4.400000      0.500000      0.000000        80.000000   \n",
       "75%                   5.400000      0.600000      0.000000       121.000000   \n",
       "max                  12.800000      1.000000      1.000000       162.000000   \n",
       "\n",
       "       win_percentage      day_game           day       weekday         month  \\\n",
       "count    43529.000000  43529.000000  43529.000000  43529.000000  43529.000000   \n",
       "mean         0.497315      0.323807     15.852122      3.203565      6.567530   \n",
       "std          0.112005      0.467933      8.864488      1.969903      1.722032   \n",
       "min          0.000000      0.000000      1.000000      0.000000      3.000000   \n",
       "25%          0.440000      0.000000      8.000000      1.000000      5.000000   \n",
       "50%          0.500000      0.000000     16.000000      3.000000      7.000000   \n",
       "75%          0.558824      1.000000     24.000000      5.000000      8.000000   \n",
       "max          1.000000      1.000000     31.000000      6.000000     10.000000   \n",
       "\n",
       "               year      capacity  \n",
       "count  43529.000000  43529.000000  \n",
       "mean    2008.506835  44641.665579  \n",
       "std        5.187334   5867.755214  \n",
       "min     2000.000000  31042.000000  \n",
       "25%     2004.000000  41070.000000  \n",
       "50%     2009.000000  43500.000000  \n",
       "75%     2013.000000  48876.000000  \n",
       "max     2017.000000  66307.000000  "
      ]
     },
     "execution_count": 67,
     "metadata": {},
     "output_type": "execute_result"
    }
   ],
   "source": [
    "df.describe()"
   ]
  },
  {
   "cell_type": "code",
   "execution_count": 68,
   "metadata": {},
   "outputs": [
    {
     "data": {
      "text/html": [
       "<div>\n",
       "<style scoped>\n",
       "    .dataframe tbody tr th:only-of-type {\n",
       "        vertical-align: middle;\n",
       "    }\n",
       "\n",
       "    .dataframe tbody tr th {\n",
       "        vertical-align: top;\n",
       "    }\n",
       "\n",
       "    .dataframe thead th {\n",
       "        text-align: right;\n",
       "    }\n",
       "</style>\n",
       "<table border=\"1\" class=\"dataframe\">\n",
       "  <thead>\n",
       "    <tr style=\"text-align: right;\">\n",
       "      <th></th>\n",
       "      <th>date</th>\n",
       "      <th>team</th>\n",
       "      <th>opponent</th>\n",
       "      <th>rank</th>\n",
       "      <th>gb</th>\n",
       "      <th>time</th>\n",
       "      <th>attendance</th>\n",
       "      <th>streak</th>\n",
       "      <th>double_header</th>\n",
       "      <th>runs_per_game</th>\n",
       "      <th>...</th>\n",
       "      <th>wins_and_losses</th>\n",
       "      <th>win_percentage</th>\n",
       "      <th>day_game</th>\n",
       "      <th>day</th>\n",
       "      <th>weekday</th>\n",
       "      <th>weekday_name</th>\n",
       "      <th>month</th>\n",
       "      <th>year</th>\n",
       "      <th>stadium</th>\n",
       "      <th>capacity</th>\n",
       "    </tr>\n",
       "  </thead>\n",
       "  <tbody>\n",
       "    <tr>\n",
       "      <th>24907</th>\n",
       "      <td>2002-09-05</td>\n",
       "      <td>MON</td>\n",
       "      <td>PHI</td>\n",
       "      <td>3</td>\n",
       "      <td>-19.5</td>\n",
       "      <td>02:17:00</td>\n",
       "      <td>2134</td>\n",
       "      <td>3</td>\n",
       "      <td>0</td>\n",
       "      <td>4.510791</td>\n",
       "      <td>...</td>\n",
       "      <td>139</td>\n",
       "      <td>0.496403</td>\n",
       "      <td>1</td>\n",
       "      <td>5</td>\n",
       "      <td>3</td>\n",
       "      <td>Thursday</td>\n",
       "      <td>9</td>\n",
       "      <td>2002</td>\n",
       "      <td>Olympic Stadium</td>\n",
       "      <td>45757</td>\n",
       "    </tr>\n",
       "  </tbody>\n",
       "</table>\n",
       "<p>1 rows × 24 columns</p>\n",
       "</div>"
      ],
      "text/plain": [
       "            date team opponent  rank    gb     time  attendance  streak  \\\n",
       "24907 2002-09-05  MON      PHI     3 -19.5 02:17:00        2134       3   \n",
       "\n",
       "       double_header  runs_per_game   ...     wins_and_losses  win_percentage  \\\n",
       "24907              0       4.510791   ...                 139        0.496403   \n",
       "\n",
       "       day_game  day  weekday  weekday_name  month  year          stadium  \\\n",
       "24907         1    5        3      Thursday      9  2002  Olympic Stadium   \n",
       "\n",
       "      capacity  \n",
       "24907    45757  \n",
       "\n",
       "[1 rows x 24 columns]"
      ]
     },
     "execution_count": 68,
     "metadata": {},
     "output_type": "execute_result"
    }
   ],
   "source": [
    "#find game with minimum attendance \n",
    "df[df['attendance'] == min(df['attendance'])]\n",
    "# montreal, no longer exists in 2002"
   ]
  },
  {
   "cell_type": "code",
   "execution_count": 69,
   "metadata": {},
   "outputs": [
    {
     "data": {
      "text/html": [
       "<div>\n",
       "<style scoped>\n",
       "    .dataframe tbody tr th:only-of-type {\n",
       "        vertical-align: middle;\n",
       "    }\n",
       "\n",
       "    .dataframe tbody tr th {\n",
       "        vertical-align: top;\n",
       "    }\n",
       "\n",
       "    .dataframe thead th {\n",
       "        text-align: right;\n",
       "    }\n",
       "</style>\n",
       "<table border=\"1\" class=\"dataframe\">\n",
       "  <thead>\n",
       "    <tr style=\"text-align: right;\">\n",
       "      <th></th>\n",
       "      <th>date</th>\n",
       "      <th>team</th>\n",
       "      <th>opponent</th>\n",
       "      <th>rank</th>\n",
       "      <th>gb</th>\n",
       "      <th>time</th>\n",
       "      <th>attendance</th>\n",
       "      <th>streak</th>\n",
       "      <th>double_header</th>\n",
       "      <th>runs_per_game</th>\n",
       "      <th>...</th>\n",
       "      <th>wins_and_losses</th>\n",
       "      <th>win_percentage</th>\n",
       "      <th>day_game</th>\n",
       "      <th>day</th>\n",
       "      <th>weekday</th>\n",
       "      <th>weekday_name</th>\n",
       "      <th>month</th>\n",
       "      <th>year</th>\n",
       "      <th>stadium</th>\n",
       "      <th>capacity</th>\n",
       "    </tr>\n",
       "  </thead>\n",
       "  <tbody>\n",
       "    <tr>\n",
       "      <th>33578</th>\n",
       "      <td>2003-03-31</td>\n",
       "      <td>SDP</td>\n",
       "      <td>SFG</td>\n",
       "      <td>0</td>\n",
       "      <td>0.0</td>\n",
       "      <td>02:54:00</td>\n",
       "      <td>61707</td>\n",
       "      <td>0</td>\n",
       "      <td>0</td>\n",
       "      <td>0.0</td>\n",
       "      <td>...</td>\n",
       "      <td>0</td>\n",
       "      <td>0.0</td>\n",
       "      <td>1</td>\n",
       "      <td>31</td>\n",
       "      <td>0</td>\n",
       "      <td>Monday</td>\n",
       "      <td>3</td>\n",
       "      <td>2003</td>\n",
       "      <td>Qualcomm Stadium</td>\n",
       "      <td>63890</td>\n",
       "    </tr>\n",
       "  </tbody>\n",
       "</table>\n",
       "<p>1 rows × 24 columns</p>\n",
       "</div>"
      ],
      "text/plain": [
       "            date team opponent  rank   gb     time  attendance  streak  \\\n",
       "33578 2003-03-31  SDP      SFG     0  0.0 02:54:00       61707       0   \n",
       "\n",
       "       double_header  runs_per_game   ...     wins_and_losses  win_percentage  \\\n",
       "33578              0            0.0   ...                   0             0.0   \n",
       "\n",
       "       day_game  day  weekday  weekday_name  month  year           stadium  \\\n",
       "33578         1   31        0        Monday      3  2003  Qualcomm Stadium   \n",
       "\n",
       "      capacity  \n",
       "33578    63890  \n",
       "\n",
       "[1 rows x 24 columns]"
      ]
     },
     "execution_count": 69,
     "metadata": {},
     "output_type": "execute_result"
    }
   ],
   "source": [
    "#find game with max attendance\n",
    "df[df['attendance'] == max(df['attendance'])]\n"
   ]
  },
  {
   "cell_type": "markdown",
   "metadata": {},
   "source": [
    "## INFO FROM SEASONS DF"
   ]
  },
  {
   "cell_type": "code",
   "execution_count": 70,
   "metadata": {},
   "outputs": [
    {
     "data": {
      "text/html": [
       "<div>\n",
       "<style scoped>\n",
       "    .dataframe tbody tr th:only-of-type {\n",
       "        vertical-align: middle;\n",
       "    }\n",
       "\n",
       "    .dataframe tbody tr th {\n",
       "        vertical-align: top;\n",
       "    }\n",
       "\n",
       "    .dataframe thead th {\n",
       "        text-align: right;\n",
       "    }\n",
       "</style>\n",
       "<table border=\"1\" class=\"dataframe\">\n",
       "  <thead>\n",
       "    <tr style=\"text-align: right;\">\n",
       "      <th></th>\n",
       "      <th>year</th>\n",
       "      <th>team</th>\n",
       "      <th>division</th>\n",
       "      <th>G</th>\n",
       "      <th>win_pct</th>\n",
       "      <th>gb</th>\n",
       "      <th>playoffs</th>\n",
       "      <th>attendance</th>\n",
       "      <th>bat_age</th>\n",
       "      <th>pitch_age</th>\n",
       "      <th>top_player</th>\n",
       "      <th>top_player_stat</th>\n",
       "      <th>home_games_count</th>\n",
       "      <th>avg_attend_per_game</th>\n",
       "      <th>stadium</th>\n",
       "      <th>capacity</th>\n",
       "    </tr>\n",
       "  </thead>\n",
       "  <tbody>\n",
       "    <tr>\n",
       "      <th>194</th>\n",
       "      <td>2002</td>\n",
       "      <td>FLA</td>\n",
       "      <td>NL East</td>\n",
       "      <td>162</td>\n",
       "      <td>0.488</td>\n",
       "      <td>23.0</td>\n",
       "      <td>1</td>\n",
       "      <td>813118</td>\n",
       "      <td>28.4</td>\n",
       "      <td>26.1</td>\n",
       "      <td>A.Burnett</td>\n",
       "      <td>4.0</td>\n",
       "      <td>81</td>\n",
       "      <td>10038.493827</td>\n",
       "      <td>Sun Life Stadium</td>\n",
       "      <td>42531</td>\n",
       "    </tr>\n",
       "    <tr>\n",
       "      <th>305</th>\n",
       "      <td>2000</td>\n",
       "      <td>MIN</td>\n",
       "      <td>AL Central</td>\n",
       "      <td>162</td>\n",
       "      <td>0.426</td>\n",
       "      <td>26.0</td>\n",
       "      <td>1</td>\n",
       "      <td>1000760</td>\n",
       "      <td>26.5</td>\n",
       "      <td>26.6</td>\n",
       "      <td>B.Radke</td>\n",
       "      <td>6.2</td>\n",
       "      <td>81</td>\n",
       "      <td>12355.061728</td>\n",
       "      <td>Metrodome</td>\n",
       "      <td>48678</td>\n",
       "    </tr>\n",
       "    <tr>\n",
       "      <th>472</th>\n",
       "      <td>2003</td>\n",
       "      <td>TBD</td>\n",
       "      <td>AL East</td>\n",
       "      <td>162</td>\n",
       "      <td>0.389</td>\n",
       "      <td>38.0</td>\n",
       "      <td>1</td>\n",
       "      <td>1058695</td>\n",
       "      <td>26.3</td>\n",
       "      <td>26.4</td>\n",
       "      <td>A.Huff</td>\n",
       "      <td>4.0</td>\n",
       "      <td>81</td>\n",
       "      <td>13070.308642</td>\n",
       "      <td>Tropicana</td>\n",
       "      <td>43772</td>\n",
       "    </tr>\n",
       "    <tr>\n",
       "      <th>473</th>\n",
       "      <td>2002</td>\n",
       "      <td>TBD</td>\n",
       "      <td>AL East</td>\n",
       "      <td>161</td>\n",
       "      <td>0.342</td>\n",
       "      <td>48.0</td>\n",
       "      <td>1</td>\n",
       "      <td>1065742</td>\n",
       "      <td>27.1</td>\n",
       "      <td>26.9</td>\n",
       "      <td>R.Winn</td>\n",
       "      <td>4.9</td>\n",
       "      <td>81</td>\n",
       "      <td>13157.308642</td>\n",
       "      <td>Tropicana</td>\n",
       "      <td>43772</td>\n",
       "    </tr>\n",
       "    <tr>\n",
       "      <th>470</th>\n",
       "      <td>2005</td>\n",
       "      <td>TBD</td>\n",
       "      <td>AL East</td>\n",
       "      <td>162</td>\n",
       "      <td>0.414</td>\n",
       "      <td>28.0</td>\n",
       "      <td>1</td>\n",
       "      <td>1141669</td>\n",
       "      <td>27.5</td>\n",
       "      <td>27.4</td>\n",
       "      <td>J.Lugo</td>\n",
       "      <td>4.4</td>\n",
       "      <td>81</td>\n",
       "      <td>14094.679012</td>\n",
       "      <td>Tropicana</td>\n",
       "      <td>43772</td>\n",
       "    </tr>\n",
       "    <tr>\n",
       "      <th>190</th>\n",
       "      <td>2006</td>\n",
       "      <td>FLA</td>\n",
       "      <td>NL East</td>\n",
       "      <td>162</td>\n",
       "      <td>0.481</td>\n",
       "      <td>19.0</td>\n",
       "      <td>1</td>\n",
       "      <td>1164134</td>\n",
       "      <td>25.5</td>\n",
       "      <td>25.9</td>\n",
       "      <td>M.Cabrera</td>\n",
       "      <td>5.8</td>\n",
       "      <td>81</td>\n",
       "      <td>14372.024691</td>\n",
       "      <td>Sun Life Stadium</td>\n",
       "      <td>36331</td>\n",
       "    </tr>\n",
       "    <tr>\n",
       "      <th>196</th>\n",
       "      <td>2000</td>\n",
       "      <td>FLA</td>\n",
       "      <td>NL East</td>\n",
       "      <td>161</td>\n",
       "      <td>0.491</td>\n",
       "      <td>15.5</td>\n",
       "      <td>1</td>\n",
       "      <td>1218326</td>\n",
       "      <td>26.1</td>\n",
       "      <td>26.7</td>\n",
       "      <td>L.Castillo</td>\n",
       "      <td>4.5</td>\n",
       "      <td>80</td>\n",
       "      <td>15229.075000</td>\n",
       "      <td>Sun Life Stadium</td>\n",
       "      <td>47662</td>\n",
       "    </tr>\n",
       "    <tr>\n",
       "      <th>476</th>\n",
       "      <td>2017</td>\n",
       "      <td>TBR</td>\n",
       "      <td>AL East</td>\n",
       "      <td>162</td>\n",
       "      <td>0.494</td>\n",
       "      <td>13.0</td>\n",
       "      <td>1</td>\n",
       "      <td>1253619</td>\n",
       "      <td>28.3</td>\n",
       "      <td>27.6</td>\n",
       "      <td>K.Kiermaier</td>\n",
       "      <td>5.1</td>\n",
       "      <td>80</td>\n",
       "      <td>15670.237500</td>\n",
       "      <td>Tropicana</td>\n",
       "      <td>31042</td>\n",
       "    </tr>\n",
       "    <tr>\n",
       "      <th>195</th>\n",
       "      <td>2001</td>\n",
       "      <td>FLA</td>\n",
       "      <td>NL East</td>\n",
       "      <td>162</td>\n",
       "      <td>0.469</td>\n",
       "      <td>12.0</td>\n",
       "      <td>1</td>\n",
       "      <td>1261226</td>\n",
       "      <td>27.3</td>\n",
       "      <td>26.5</td>\n",
       "      <td>C.Floyd</td>\n",
       "      <td>6.6</td>\n",
       "      <td>80</td>\n",
       "      <td>15765.325000</td>\n",
       "      <td>Sun Life Stadium</td>\n",
       "      <td>42531</td>\n",
       "    </tr>\n",
       "    <tr>\n",
       "      <th>471</th>\n",
       "      <td>2004</td>\n",
       "      <td>TBD</td>\n",
       "      <td>AL East</td>\n",
       "      <td>161</td>\n",
       "      <td>0.435</td>\n",
       "      <td>30.5</td>\n",
       "      <td>1</td>\n",
       "      <td>1274911</td>\n",
       "      <td>28.1</td>\n",
       "      <td>27.5</td>\n",
       "      <td>C.Crawford</td>\n",
       "      <td>4.9</td>\n",
       "      <td>79</td>\n",
       "      <td>16138.113924</td>\n",
       "      <td>Tropicana</td>\n",
       "      <td>43772</td>\n",
       "    </tr>\n",
       "  </tbody>\n",
       "</table>\n",
       "</div>"
      ],
      "text/plain": [
       "     year team    division    G  win_pct    gb  playoffs  attendance  bat_age  \\\n",
       "194  2002  FLA     NL East  162    0.488  23.0         1      813118     28.4   \n",
       "305  2000  MIN  AL Central  162    0.426  26.0         1     1000760     26.5   \n",
       "472  2003  TBD     AL East  162    0.389  38.0         1     1058695     26.3   \n",
       "473  2002  TBD     AL East  161    0.342  48.0         1     1065742     27.1   \n",
       "470  2005  TBD     AL East  162    0.414  28.0         1     1141669     27.5   \n",
       "190  2006  FLA     NL East  162    0.481  19.0         1     1164134     25.5   \n",
       "196  2000  FLA     NL East  161    0.491  15.5         1     1218326     26.1   \n",
       "476  2017  TBR     AL East  162    0.494  13.0         1     1253619     28.3   \n",
       "195  2001  FLA     NL East  162    0.469  12.0         1     1261226     27.3   \n",
       "471  2004  TBD     AL East  161    0.435  30.5         1     1274911     28.1   \n",
       "\n",
       "     pitch_age   top_player  top_player_stat  home_games_count  \\\n",
       "194       26.1    A.Burnett              4.0                81   \n",
       "305       26.6      B.Radke              6.2                81   \n",
       "472       26.4       A.Huff              4.0                81   \n",
       "473       26.9       R.Winn              4.9                81   \n",
       "470       27.4       J.Lugo              4.4                81   \n",
       "190       25.9    M.Cabrera              5.8                81   \n",
       "196       26.7   L.Castillo              4.5                80   \n",
       "476       27.6  K.Kiermaier              5.1                80   \n",
       "195       26.5      C.Floyd              6.6                80   \n",
       "471       27.5   C.Crawford              4.9                79   \n",
       "\n",
       "     avg_attend_per_game           stadium  capacity  \n",
       "194         10038.493827  Sun Life Stadium     42531  \n",
       "305         12355.061728         Metrodome     48678  \n",
       "472         13070.308642         Tropicana     43772  \n",
       "473         13157.308642         Tropicana     43772  \n",
       "470         14094.679012         Tropicana     43772  \n",
       "190         14372.024691  Sun Life Stadium     36331  \n",
       "196         15229.075000  Sun Life Stadium     47662  \n",
       "476         15670.237500         Tropicana     31042  \n",
       "195         15765.325000  Sun Life Stadium     42531  \n",
       "471         16138.113924         Tropicana     43772  "
      ]
     },
     "execution_count": 70,
     "metadata": {},
     "output_type": "execute_result"
    }
   ],
   "source": [
    "seasons_df.sort_values('attendance').head(10)\n",
    "\n"
   ]
  },
  {
   "cell_type": "code",
   "execution_count": 71,
   "metadata": {},
   "outputs": [
    {
     "data": {
      "text/plain": [
       "<matplotlib.axes._subplots.AxesSubplot at 0x11ee8f748>"
      ]
     },
     "execution_count": 71,
     "metadata": {},
     "output_type": "execute_result"
    },
    {
     "data": {
      "image/png": "[encoded data removed]",
      "text/plain": [
       "<Figure size 432x288 with 2 Axes>"
      ]
     },
     "metadata": {},
     "output_type": "display_data"
    }
   ],
   "source": [
    "seasons_df_corr=seasons_df.corr()\n",
    "\n",
    "mask = np.zeros_like(seasons_df_corr,dtype=np.bool)\n",
    "mask[np.triu_indices_from(mask)] = True\n",
    "\n",
    "sns.heatmap(seasons_df_corr, linewidth = 0.5, mask=mask, annot=True, annot_kws={'size': 5})"
   ]
  },
  {
   "cell_type": "markdown",
   "metadata": {},
   "source": [
    "## bat_age against attendance"
   ]
  },
  {
   "cell_type": "code",
   "execution_count": 72,
   "metadata": {},
   "outputs": [
    {
     "name": "stderr",
     "output_type": "stream",
     "text": [
      "/Library/Frameworks/Python.framework/Versions/3.6/lib/python3.6/site-packages/scipy/stats/stats.py:1713: FutureWarning: Using a non-tuple sequence for multidimensional indexing is deprecated; use `arr[tuple(seq)]` instead of `arr[seq]`. In the future this will be interpreted as an array index, `arr[np.array(seq)]`, which will result either in an error or a different result.\n",
      "  return np.add.reduce(sorted[indexer] * weights, axis=axis) / sumval\n"
     ]
    },
    {
     "data": {
      "text/plain": [
       "<matplotlib.axes._subplots.AxesSubplot at 0x11edc5c18>"
      ]
     },
     "execution_count": 72,
     "metadata": {},
     "output_type": "execute_result"
    },
    {
     "data": {
      "image/png": "[encoded data removed]",
      "text/plain": [
       "<Figure size 432x288 with 1 Axes>"
      ]
     },
     "metadata": {},
     "output_type": "display_data"
    }
   ],
   "source": [
    "sns.regplot(x='bat_age', y='attendance', data=seasons_df,marker='o',color='red',scatter_kws={'s':5})\n"
   ]
  },
  {
   "cell_type": "code",
   "execution_count": 73,
   "metadata": {},
   "outputs": [
    {
     "data": {
      "text/html": [
       "<div>\n",
       "<style scoped>\n",
       "    .dataframe tbody tr th:only-of-type {\n",
       "        vertical-align: middle;\n",
       "    }\n",
       "\n",
       "    .dataframe tbody tr th {\n",
       "        vertical-align: top;\n",
       "    }\n",
       "\n",
       "    .dataframe thead th {\n",
       "        text-align: right;\n",
       "    }\n",
       "</style>\n",
       "<table border=\"1\" class=\"dataframe\">\n",
       "  <thead>\n",
       "    <tr style=\"text-align: right;\">\n",
       "      <th></th>\n",
       "      <th>year</th>\n",
       "      <th>team</th>\n",
       "      <th>division</th>\n",
       "      <th>G</th>\n",
       "      <th>win_pct</th>\n",
       "      <th>gb</th>\n",
       "      <th>playoffs</th>\n",
       "      <th>attendance</th>\n",
       "      <th>bat_age</th>\n",
       "      <th>pitch_age</th>\n",
       "      <th>top_player</th>\n",
       "      <th>top_player_stat</th>\n",
       "      <th>home_games_count</th>\n",
       "      <th>avg_attend_per_game</th>\n",
       "      <th>stadium</th>\n",
       "      <th>capacity</th>\n",
       "    </tr>\n",
       "  </thead>\n",
       "  <tbody>\n",
       "    <tr>\n",
       "      <th>200</th>\n",
       "      <td>2014</td>\n",
       "      <td>HOU</td>\n",
       "      <td>AL West</td>\n",
       "      <td>162</td>\n",
       "      <td>0.432</td>\n",
       "      <td>28.0</td>\n",
       "      <td>1</td>\n",
       "      <td>1751829</td>\n",
       "      <td>25.4</td>\n",
       "      <td>27.9</td>\n",
       "      <td>J.Altuve</td>\n",
       "      <td>6.1</td>\n",
       "      <td>81</td>\n",
       "      <td>21627.518519</td>\n",
       "      <td>Minute Maid Park</td>\n",
       "      <td>42060</td>\n",
       "    </tr>\n",
       "    <tr>\n",
       "      <th>190</th>\n",
       "      <td>2006</td>\n",
       "      <td>FLA</td>\n",
       "      <td>NL East</td>\n",
       "      <td>162</td>\n",
       "      <td>0.481</td>\n",
       "      <td>19.0</td>\n",
       "      <td>1</td>\n",
       "      <td>1164134</td>\n",
       "      <td>25.5</td>\n",
       "      <td>25.9</td>\n",
       "      <td>M.Cabrera</td>\n",
       "      <td>5.8</td>\n",
       "      <td>81</td>\n",
       "      <td>14372.024691</td>\n",
       "      <td>Sun Life Stadium</td>\n",
       "      <td>36331</td>\n",
       "    </tr>\n",
       "    <tr>\n",
       "      <th>221</th>\n",
       "      <td>2011</td>\n",
       "      <td>KCR</td>\n",
       "      <td>AL Central</td>\n",
       "      <td>162</td>\n",
       "      <td>0.438</td>\n",
       "      <td>24.0</td>\n",
       "      <td>1</td>\n",
       "      <td>1724450</td>\n",
       "      <td>25.8</td>\n",
       "      <td>26.4</td>\n",
       "      <td>A.Gordon</td>\n",
       "      <td>7.3</td>\n",
       "      <td>81</td>\n",
       "      <td>21289.506173</td>\n",
       "      <td>Kauffman Stadium</td>\n",
       "      <td>40625</td>\n",
       "    </tr>\n",
       "    <tr>\n",
       "      <th>201</th>\n",
       "      <td>2013</td>\n",
       "      <td>HOU</td>\n",
       "      <td>AL West</td>\n",
       "      <td>162</td>\n",
       "      <td>0.315</td>\n",
       "      <td>45.0</td>\n",
       "      <td>1</td>\n",
       "      <td>1651883</td>\n",
       "      <td>25.9</td>\n",
       "      <td>27.2</td>\n",
       "      <td>J.Castro</td>\n",
       "      <td>4.1</td>\n",
       "      <td>81</td>\n",
       "      <td>20393.617284</td>\n",
       "      <td>Minute Maid Park</td>\n",
       "      <td>42060</td>\n",
       "    </tr>\n",
       "    <tr>\n",
       "      <th>468</th>\n",
       "      <td>2007</td>\n",
       "      <td>TBD</td>\n",
       "      <td>AL East</td>\n",
       "      <td>162</td>\n",
       "      <td>0.407</td>\n",
       "      <td>30.0</td>\n",
       "      <td>1</td>\n",
       "      <td>1387603</td>\n",
       "      <td>25.9</td>\n",
       "      <td>27.0</td>\n",
       "      <td>C.Pena</td>\n",
       "      <td>7.2</td>\n",
       "      <td>81</td>\n",
       "      <td>17130.901235</td>\n",
       "      <td>Tropicana</td>\n",
       "      <td>38437</td>\n",
       "    </tr>\n",
       "    <tr>\n",
       "      <th>428</th>\n",
       "      <td>2003</td>\n",
       "      <td>SFG</td>\n",
       "      <td>NL West</td>\n",
       "      <td>161</td>\n",
       "      <td>0.621</td>\n",
       "      <td>0.0</td>\n",
       "      <td>1</td>\n",
       "      <td>3264898</td>\n",
       "      <td>32.1</td>\n",
       "      <td>28.6</td>\n",
       "      <td>B.Bonds</td>\n",
       "      <td>9.2</td>\n",
       "      <td>81</td>\n",
       "      <td>40307.382716</td>\n",
       "      <td>AT&amp;T Park</td>\n",
       "      <td>41503</td>\n",
       "    </tr>\n",
       "    <tr>\n",
       "      <th>429</th>\n",
       "      <td>2002</td>\n",
       "      <td>SFG</td>\n",
       "      <td>NL West</td>\n",
       "      <td>162</td>\n",
       "      <td>0.590</td>\n",
       "      <td>2.5</td>\n",
       "      <td>1</td>\n",
       "      <td>3253203</td>\n",
       "      <td>32.1</td>\n",
       "      <td>29.2</td>\n",
       "      <td>B.Bonds</td>\n",
       "      <td>11.8</td>\n",
       "      <td>81</td>\n",
       "      <td>40163.000000</td>\n",
       "      <td>AT&amp;T Park</td>\n",
       "      <td>41059</td>\n",
       "    </tr>\n",
       "    <tr>\n",
       "      <th>58</th>\n",
       "      <td>2000</td>\n",
       "      <td>BAL</td>\n",
       "      <td>AL East</td>\n",
       "      <td>162</td>\n",
       "      <td>0.457</td>\n",
       "      <td>13.5</td>\n",
       "      <td>1</td>\n",
       "      <td>3297031</td>\n",
       "      <td>32.2</td>\n",
       "      <td>29.1</td>\n",
       "      <td>M.Mussina</td>\n",
       "      <td>5.6</td>\n",
       "      <td>81</td>\n",
       "      <td>40704.086420</td>\n",
       "      <td>Oriole Park</td>\n",
       "      <td>48876</td>\n",
       "    </tr>\n",
       "    <tr>\n",
       "      <th>337</th>\n",
       "      <td>2004</td>\n",
       "      <td>NYY</td>\n",
       "      <td>AL East</td>\n",
       "      <td>162</td>\n",
       "      <td>0.623</td>\n",
       "      <td>0.0</td>\n",
       "      <td>1</td>\n",
       "      <td>3775292</td>\n",
       "      <td>32.2</td>\n",
       "      <td>32.9</td>\n",
       "      <td>A.Rodriguez</td>\n",
       "      <td>7.6</td>\n",
       "      <td>79</td>\n",
       "      <td>47788.506329</td>\n",
       "      <td>Yankee Stadium I</td>\n",
       "      <td>57478</td>\n",
       "    </tr>\n",
       "    <tr>\n",
       "      <th>426</th>\n",
       "      <td>2005</td>\n",
       "      <td>SFG</td>\n",
       "      <td>NL West</td>\n",
       "      <td>162</td>\n",
       "      <td>0.463</td>\n",
       "      <td>7.0</td>\n",
       "      <td>1</td>\n",
       "      <td>3181023</td>\n",
       "      <td>32.2</td>\n",
       "      <td>30.0</td>\n",
       "      <td>N.Lowry</td>\n",
       "      <td>4.8</td>\n",
       "      <td>81</td>\n",
       "      <td>39271.888889</td>\n",
       "      <td>AT&amp;T Park</td>\n",
       "      <td>41584</td>\n",
       "    </tr>\n",
       "    <tr>\n",
       "      <th>336</th>\n",
       "      <td>2005</td>\n",
       "      <td>NYY</td>\n",
       "      <td>AL East</td>\n",
       "      <td>162</td>\n",
       "      <td>0.586</td>\n",
       "      <td>0.0</td>\n",
       "      <td>1</td>\n",
       "      <td>4090696</td>\n",
       "      <td>32.3</td>\n",
       "      <td>34.2</td>\n",
       "      <td>A.Rodriguez</td>\n",
       "      <td>9.4</td>\n",
       "      <td>81</td>\n",
       "      <td>50502.419753</td>\n",
       "      <td>Yankee Stadium I</td>\n",
       "      <td>56936</td>\n",
       "    </tr>\n",
       "    <tr>\n",
       "      <th>424</th>\n",
       "      <td>2007</td>\n",
       "      <td>SFG</td>\n",
       "      <td>NL West</td>\n",
       "      <td>162</td>\n",
       "      <td>0.438</td>\n",
       "      <td>19.0</td>\n",
       "      <td>1</td>\n",
       "      <td>3223215</td>\n",
       "      <td>32.7</td>\n",
       "      <td>27.3</td>\n",
       "      <td>M.Cain</td>\n",
       "      <td>4.3</td>\n",
       "      <td>81</td>\n",
       "      <td>39792.777778</td>\n",
       "      <td>AT&amp;T Park</td>\n",
       "      <td>41915</td>\n",
       "    </tr>\n",
       "    <tr>\n",
       "      <th>327</th>\n",
       "      <td>2014</td>\n",
       "      <td>NYY</td>\n",
       "      <td>AL East</td>\n",
       "      <td>162</td>\n",
       "      <td>0.519</td>\n",
       "      <td>12.0</td>\n",
       "      <td>1</td>\n",
       "      <td>3401624</td>\n",
       "      <td>32.8</td>\n",
       "      <td>29.3</td>\n",
       "      <td>B.Gardner</td>\n",
       "      <td>3.9</td>\n",
       "      <td>80</td>\n",
       "      <td>42520.300000</td>\n",
       "      <td>Yankee Stadium II</td>\n",
       "      <td>49642</td>\n",
       "    </tr>\n",
       "    <tr>\n",
       "      <th>329</th>\n",
       "      <td>2012</td>\n",
       "      <td>NYY</td>\n",
       "      <td>AL East</td>\n",
       "      <td>162</td>\n",
       "      <td>0.586</td>\n",
       "      <td>0.0</td>\n",
       "      <td>1</td>\n",
       "      <td>3542406</td>\n",
       "      <td>32.9</td>\n",
       "      <td>30.3</td>\n",
       "      <td>R.Cano</td>\n",
       "      <td>8.4</td>\n",
       "      <td>81</td>\n",
       "      <td>43733.407407</td>\n",
       "      <td>Yankee Stadium II</td>\n",
       "      <td>50291</td>\n",
       "    </tr>\n",
       "    <tr>\n",
       "      <th>425</th>\n",
       "      <td>2006</td>\n",
       "      <td>SFG</td>\n",
       "      <td>NL West</td>\n",
       "      <td>161</td>\n",
       "      <td>0.472</td>\n",
       "      <td>11.5</td>\n",
       "      <td>1</td>\n",
       "      <td>3130313</td>\n",
       "      <td>33.7</td>\n",
       "      <td>28.7</td>\n",
       "      <td>B.Bonds</td>\n",
       "      <td>4.0</td>\n",
       "      <td>81</td>\n",
       "      <td>38645.839506</td>\n",
       "      <td>AT&amp;T Park</td>\n",
       "      <td>41606</td>\n",
       "    </tr>\n",
       "  </tbody>\n",
       "</table>\n",
       "</div>"
      ],
      "text/plain": [
       "     year team    division    G  win_pct    gb  playoffs  attendance  bat_age  \\\n",
       "200  2014  HOU     AL West  162    0.432  28.0         1     1751829     25.4   \n",
       "190  2006  FLA     NL East  162    0.481  19.0         1     1164134     25.5   \n",
       "221  2011  KCR  AL Central  162    0.438  24.0         1     1724450     25.8   \n",
       "201  2013  HOU     AL West  162    0.315  45.0         1     1651883     25.9   \n",
       "468  2007  TBD     AL East  162    0.407  30.0         1     1387603     25.9   \n",
       "428  2003  SFG     NL West  161    0.621   0.0         1     3264898     32.1   \n",
       "429  2002  SFG     NL West  162    0.590   2.5         1     3253203     32.1   \n",
       "58   2000  BAL     AL East  162    0.457  13.5         1     3297031     32.2   \n",
       "337  2004  NYY     AL East  162    0.623   0.0         1     3775292     32.2   \n",
       "426  2005  SFG     NL West  162    0.463   7.0         1     3181023     32.2   \n",
       "336  2005  NYY     AL East  162    0.586   0.0         1     4090696     32.3   \n",
       "424  2007  SFG     NL West  162    0.438  19.0         1     3223215     32.7   \n",
       "327  2014  NYY     AL East  162    0.519  12.0         1     3401624     32.8   \n",
       "329  2012  NYY     AL East  162    0.586   0.0         1     3542406     32.9   \n",
       "425  2006  SFG     NL West  161    0.472  11.5         1     3130313     33.7   \n",
       "\n",
       "     pitch_age   top_player  top_player_stat  home_games_count  \\\n",
       "200       27.9     J.Altuve              6.1                81   \n",
       "190       25.9    M.Cabrera              5.8                81   \n",
       "221       26.4     A.Gordon              7.3                81   \n",
       "201       27.2     J.Castro              4.1                81   \n",
       "468       27.0       C.Pena              7.2                81   \n",
       "428       28.6      B.Bonds              9.2                81   \n",
       "429       29.2      B.Bonds             11.8                81   \n",
       "58        29.1    M.Mussina              5.6                81   \n",
       "337       32.9  A.Rodriguez              7.6                79   \n",
       "426       30.0      N.Lowry              4.8                81   \n",
       "336       34.2  A.Rodriguez              9.4                81   \n",
       "424       27.3       M.Cain              4.3                81   \n",
       "327       29.3    B.Gardner              3.9                80   \n",
       "329       30.3       R.Cano              8.4                81   \n",
       "425       28.7      B.Bonds              4.0                81   \n",
       "\n",
       "     avg_attend_per_game            stadium  capacity  \n",
       "200         21627.518519   Minute Maid Park     42060  \n",
       "190         14372.024691   Sun Life Stadium     36331  \n",
       "221         21289.506173   Kauffman Stadium     40625  \n",
       "201         20393.617284   Minute Maid Park     42060  \n",
       "468         17130.901235          Tropicana     38437  \n",
       "428         40307.382716          AT&T Park     41503  \n",
       "429         40163.000000          AT&T Park     41059  \n",
       "58          40704.086420        Oriole Park     48876  \n",
       "337         47788.506329   Yankee Stadium I     57478  \n",
       "426         39271.888889          AT&T Park     41584  \n",
       "336         50502.419753   Yankee Stadium I     56936  \n",
       "424         39792.777778          AT&T Park     41915  \n",
       "327         42520.300000  Yankee Stadium II     49642  \n",
       "329         43733.407407  Yankee Stadium II     50291  \n",
       "425         38645.839506          AT&T Park     41606  "
      ]
     },
     "execution_count": 73,
     "metadata": {},
     "output_type": "execute_result"
    }
   ],
   "source": [
    "seasons_df[(seasons_df['bat_age']<26) | (seasons_df['bat_age']>32)].sort_values('bat_age')"
   ]
  },
  {
   "cell_type": "markdown",
   "metadata": {},
   "source": [
    "## pitch_age against attendance"
   ]
  },
  {
   "cell_type": "code",
   "execution_count": 74,
   "metadata": {},
   "outputs": [
    {
     "name": "stderr",
     "output_type": "stream",
     "text": [
      "/Library/Frameworks/Python.framework/Versions/3.6/lib/python3.6/site-packages/scipy/stats/stats.py:1713: FutureWarning: Using a non-tuple sequence for multidimensional indexing is deprecated; use `arr[tuple(seq)]` instead of `arr[seq]`. In the future this will be interpreted as an array index, `arr[np.array(seq)]`, which will result either in an error or a different result.\n",
      "  return np.add.reduce(sorted[indexer] * weights, axis=axis) / sumval\n"
     ]
    },
    {
     "data": {
      "text/plain": [
       "<matplotlib.axes._subplots.AxesSubplot at 0x11ed8dac8>"
      ]
     },
     "execution_count": 74,
     "metadata": {},
     "output_type": "execute_result"
    },
    {
     "data": {
      "image/png": "[encoded data removed]",
      "text/plain": [
       "<Figure size 432x288 with 1 Axes>"
      ]
     },
     "metadata": {},
     "output_type": "display_data"
    }
   ],
   "source": [
    "sns.regplot(x='pitch_age', y='attendance', data=seasons_df,marker='o',color='red',scatter_kws={'s':5})\n"
   ]
  },
  {
   "cell_type": "markdown",
   "metadata": {},
   "source": [
    "## top player stats against attendance"
   ]
  },
  {
   "cell_type": "code",
   "execution_count": 75,
   "metadata": {},
   "outputs": [
    {
     "name": "stderr",
     "output_type": "stream",
     "text": [
      "/Library/Frameworks/Python.framework/Versions/3.6/lib/python3.6/site-packages/scipy/stats/stats.py:1713: FutureWarning: Using a non-tuple sequence for multidimensional indexing is deprecated; use `arr[tuple(seq)]` instead of `arr[seq]`. In the future this will be interpreted as an array index, `arr[np.array(seq)]`, which will result either in an error or a different result.\n",
      "  return np.add.reduce(sorted[indexer] * weights, axis=axis) / sumval\n"
     ]
    },
    {
     "data": {
      "text/plain": [
       "<matplotlib.axes._subplots.AxesSubplot at 0x11ed76d30>"
      ]
     },
     "execution_count": 75,
     "metadata": {},
     "output_type": "execute_result"
    },
    {
     "data": {
      "image/png": "[encoded data removed]",
      "text/plain": [
       "<Figure size 432x288 with 1 Axes>"
      ]
     },
     "metadata": {},
     "output_type": "display_data"
    }
   ],
   "source": [
    "sns.regplot(x='top_player_stat', y='attendance', data=seasons_df,marker='o',color='red',scatter_kws={'s':5})\n"
   ]
  },
  {
   "cell_type": "code",
   "execution_count": 76,
   "metadata": {},
   "outputs": [
    {
     "data": {
      "text/html": [
       "<div>\n",
       "<style scoped>\n",
       "    .dataframe tbody tr th:only-of-type {\n",
       "        vertical-align: middle;\n",
       "    }\n",
       "\n",
       "    .dataframe tbody tr th {\n",
       "        vertical-align: top;\n",
       "    }\n",
       "\n",
       "    .dataframe thead th {\n",
       "        text-align: right;\n",
       "    }\n",
       "</style>\n",
       "<table border=\"1\" class=\"dataframe\">\n",
       "  <thead>\n",
       "    <tr style=\"text-align: right;\">\n",
       "      <th></th>\n",
       "      <th>year</th>\n",
       "      <th>team</th>\n",
       "      <th>division</th>\n",
       "      <th>G</th>\n",
       "      <th>win_pct</th>\n",
       "      <th>gb</th>\n",
       "      <th>playoffs</th>\n",
       "      <th>attendance</th>\n",
       "      <th>bat_age</th>\n",
       "      <th>pitch_age</th>\n",
       "      <th>top_player</th>\n",
       "      <th>top_player_stat</th>\n",
       "      <th>home_games_count</th>\n",
       "      <th>avg_attend_per_game</th>\n",
       "      <th>stadium</th>\n",
       "      <th>capacity</th>\n",
       "    </tr>\n",
       "  </thead>\n",
       "  <tbody>\n",
       "    <tr>\n",
       "      <th>93</th>\n",
       "      <td>2001</td>\n",
       "      <td>CHC</td>\n",
       "      <td>NL Central</td>\n",
       "      <td>162</td>\n",
       "      <td>0.543</td>\n",
       "      <td>5.0</td>\n",
       "      <td>1</td>\n",
       "      <td>2779465</td>\n",
       "      <td>30.7</td>\n",
       "      <td>29.8</td>\n",
       "      <td>S.Sosa</td>\n",
       "      <td>10.3</td>\n",
       "      <td>79</td>\n",
       "      <td>35183.101266</td>\n",
       "      <td>Wrigley Field</td>\n",
       "      <td>41072</td>\n",
       "    </tr>\n",
       "    <tr>\n",
       "      <th>223</th>\n",
       "      <td>2009</td>\n",
       "      <td>KCR</td>\n",
       "      <td>AL Central</td>\n",
       "      <td>162</td>\n",
       "      <td>0.401</td>\n",
       "      <td>21.5</td>\n",
       "      <td>1</td>\n",
       "      <td>1797891</td>\n",
       "      <td>27.6</td>\n",
       "      <td>28.7</td>\n",
       "      <td>Z.Greinke</td>\n",
       "      <td>10.4</td>\n",
       "      <td>80</td>\n",
       "      <td>22473.637500</td>\n",
       "      <td>Kauffman Stadium</td>\n",
       "      <td>40625</td>\n",
       "    </tr>\n",
       "    <tr>\n",
       "      <th>449</th>\n",
       "      <td>2000</td>\n",
       "      <td>SEA</td>\n",
       "      <td>AL West</td>\n",
       "      <td>162</td>\n",
       "      <td>0.562</td>\n",
       "      <td>0.5</td>\n",
       "      <td>1</td>\n",
       "      <td>2914624</td>\n",
       "      <td>31.4</td>\n",
       "      <td>29.3</td>\n",
       "      <td>A.Rodriguez</td>\n",
       "      <td>10.4</td>\n",
       "      <td>81</td>\n",
       "      <td>35983.012346</td>\n",
       "      <td>Safeco Field</td>\n",
       "      <td>47116</td>\n",
       "    </tr>\n",
       "    <tr>\n",
       "      <th>20</th>\n",
       "      <td>2002</td>\n",
       "      <td>ARI</td>\n",
       "      <td>NL West</td>\n",
       "      <td>162</td>\n",
       "      <td>0.605</td>\n",
       "      <td>0.0</td>\n",
       "      <td>1</td>\n",
       "      <td>3198977</td>\n",
       "      <td>31.7</td>\n",
       "      <td>31.7</td>\n",
       "      <td>R.Johnson</td>\n",
       "      <td>10.5</td>\n",
       "      <td>81</td>\n",
       "      <td>39493.543210</td>\n",
       "      <td>Chase Field</td>\n",
       "      <td>49033</td>\n",
       "    </tr>\n",
       "    <tr>\n",
       "      <th>234</th>\n",
       "      <td>2016</td>\n",
       "      <td>LAA</td>\n",
       "      <td>AL West</td>\n",
       "      <td>162</td>\n",
       "      <td>0.457</td>\n",
       "      <td>21.0</td>\n",
       "      <td>1</td>\n",
       "      <td>3016142</td>\n",
       "      <td>28.5</td>\n",
       "      <td>28.4</td>\n",
       "      <td>M.Trout</td>\n",
       "      <td>10.5</td>\n",
       "      <td>81</td>\n",
       "      <td>37236.320988</td>\n",
       "      <td>Angel Stadium</td>\n",
       "      <td>45483</td>\n",
       "    </tr>\n",
       "    <tr>\n",
       "      <th>238</th>\n",
       "      <td>2012</td>\n",
       "      <td>LAA</td>\n",
       "      <td>AL West</td>\n",
       "      <td>162</td>\n",
       "      <td>0.549</td>\n",
       "      <td>5.0</td>\n",
       "      <td>1</td>\n",
       "      <td>3061770</td>\n",
       "      <td>28.7</td>\n",
       "      <td>30.1</td>\n",
       "      <td>M.Trout</td>\n",
       "      <td>10.5</td>\n",
       "      <td>81</td>\n",
       "      <td>37799.629630</td>\n",
       "      <td>Angel Stadium</td>\n",
       "      <td>45957</td>\n",
       "    </tr>\n",
       "    <tr>\n",
       "      <th>427</th>\n",
       "      <td>2004</td>\n",
       "      <td>SFG</td>\n",
       "      <td>NL West</td>\n",
       "      <td>162</td>\n",
       "      <td>0.562</td>\n",
       "      <td>2.0</td>\n",
       "      <td>1</td>\n",
       "      <td>3256854</td>\n",
       "      <td>31.6</td>\n",
       "      <td>30.1</td>\n",
       "      <td>B.Bonds</td>\n",
       "      <td>10.6</td>\n",
       "      <td>81</td>\n",
       "      <td>40208.074074</td>\n",
       "      <td>AT&amp;T Park</td>\n",
       "      <td>41503</td>\n",
       "    </tr>\n",
       "    <tr>\n",
       "      <th>76</th>\n",
       "      <td>2000</td>\n",
       "      <td>BOS</td>\n",
       "      <td>AL East</td>\n",
       "      <td>162</td>\n",
       "      <td>0.525</td>\n",
       "      <td>2.5</td>\n",
       "      <td>1</td>\n",
       "      <td>2585895</td>\n",
       "      <td>29.3</td>\n",
       "      <td>30.2</td>\n",
       "      <td>P.Martinez</td>\n",
       "      <td>11.7</td>\n",
       "      <td>81</td>\n",
       "      <td>31924.629630</td>\n",
       "      <td>Fenway Park</td>\n",
       "      <td>33871</td>\n",
       "    </tr>\n",
       "    <tr>\n",
       "      <th>429</th>\n",
       "      <td>2002</td>\n",
       "      <td>SFG</td>\n",
       "      <td>NL West</td>\n",
       "      <td>162</td>\n",
       "      <td>0.590</td>\n",
       "      <td>2.5</td>\n",
       "      <td>1</td>\n",
       "      <td>3253203</td>\n",
       "      <td>32.1</td>\n",
       "      <td>29.2</td>\n",
       "      <td>B.Bonds</td>\n",
       "      <td>11.8</td>\n",
       "      <td>81</td>\n",
       "      <td>40163.000000</td>\n",
       "      <td>AT&amp;T Park</td>\n",
       "      <td>41059</td>\n",
       "    </tr>\n",
       "    <tr>\n",
       "      <th>430</th>\n",
       "      <td>2001</td>\n",
       "      <td>SFG</td>\n",
       "      <td>NL West</td>\n",
       "      <td>162</td>\n",
       "      <td>0.556</td>\n",
       "      <td>2.0</td>\n",
       "      <td>1</td>\n",
       "      <td>3311958</td>\n",
       "      <td>31.5</td>\n",
       "      <td>29.2</td>\n",
       "      <td>B.Bonds</td>\n",
       "      <td>11.9</td>\n",
       "      <td>81</td>\n",
       "      <td>40888.370370</td>\n",
       "      <td>AT&amp;T Park</td>\n",
       "      <td>41059</td>\n",
       "    </tr>\n",
       "  </tbody>\n",
       "</table>\n",
       "</div>"
      ],
      "text/plain": [
       "     year team    division    G  win_pct    gb  playoffs  attendance  bat_age  \\\n",
       "93   2001  CHC  NL Central  162    0.543   5.0         1     2779465     30.7   \n",
       "223  2009  KCR  AL Central  162    0.401  21.5         1     1797891     27.6   \n",
       "449  2000  SEA     AL West  162    0.562   0.5         1     2914624     31.4   \n",
       "20   2002  ARI     NL West  162    0.605   0.0         1     3198977     31.7   \n",
       "234  2016  LAA     AL West  162    0.457  21.0         1     3016142     28.5   \n",
       "238  2012  LAA     AL West  162    0.549   5.0         1     3061770     28.7   \n",
       "427  2004  SFG     NL West  162    0.562   2.0         1     3256854     31.6   \n",
       "76   2000  BOS     AL East  162    0.525   2.5         1     2585895     29.3   \n",
       "429  2002  SFG     NL West  162    0.590   2.5         1     3253203     32.1   \n",
       "430  2001  SFG     NL West  162    0.556   2.0         1     3311958     31.5   \n",
       "\n",
       "     pitch_age   top_player  top_player_stat  home_games_count  \\\n",
       "93        29.8       S.Sosa             10.3                79   \n",
       "223       28.7    Z.Greinke             10.4                80   \n",
       "449       29.3  A.Rodriguez             10.4                81   \n",
       "20        31.7    R.Johnson             10.5                81   \n",
       "234       28.4      M.Trout             10.5                81   \n",
       "238       30.1      M.Trout             10.5                81   \n",
       "427       30.1      B.Bonds             10.6                81   \n",
       "76        30.2   P.Martinez             11.7                81   \n",
       "429       29.2      B.Bonds             11.8                81   \n",
       "430       29.2      B.Bonds             11.9                81   \n",
       "\n",
       "     avg_attend_per_game           stadium  capacity  \n",
       "93          35183.101266     Wrigley Field     41072  \n",
       "223         22473.637500  Kauffman Stadium     40625  \n",
       "449         35983.012346      Safeco Field     47116  \n",
       "20          39493.543210       Chase Field     49033  \n",
       "234         37236.320988     Angel Stadium     45483  \n",
       "238         37799.629630     Angel Stadium     45957  \n",
       "427         40208.074074         AT&T Park     41503  \n",
       "76          31924.629630       Fenway Park     33871  \n",
       "429         40163.000000         AT&T Park     41059  \n",
       "430         40888.370370         AT&T Park     41059  "
      ]
     },
     "execution_count": 76,
     "metadata": {},
     "output_type": "execute_result"
    }
   ],
   "source": [
    "seasons_df[seasons_df['top_player_stat']>10].sort_values('top_player_stat')"
   ]
  },
  {
   "cell_type": "code",
   "execution_count": 77,
   "metadata": {},
   "outputs": [
    {
     "data": {
      "text/plain": [
       "<matplotlib.axes._subplots.AxesSubplot at 0x11beb9128>"
      ]
     },
     "execution_count": 77,
     "metadata": {},
     "output_type": "execute_result"
    },
    {
     "data": {
      "image/png": "[encoded data removed]",
      "text/plain": [
       "<Figure size 432x288 with 1 Axes>"
      ]
     },
     "metadata": {},
     "output_type": "display_data"
    }
   ],
   "source": [
    "sns.boxplot(x='playoffs', y='attendance', data=seasons_df)\n",
    "# but maybe 1 is higher simply since that's a bigger sample size, not as many teams make it to playoffs"
   ]
  },
  {
   "cell_type": "markdown",
   "metadata": {},
   "source": [
    "## add some important features to df, like bat/pitch_age, top_player_stat, "
   ]
  },
  {
   "cell_type": "code",
   "execution_count": 78,
   "metadata": {},
   "outputs": [],
   "source": [
    "df = df.merge(seasons_df[['team', 'year', 'bat_age', 'pitch_age', 'division','top_player_stat']],\n",
    "                            on=['team', 'year'])\n",
    "\n",
    "#change team_x of seasons_df to opponent in df, team_x is now original team in df. division_x is division of team of interest, division_y os division of opponent. \n",
    "df = df.merge(seasons_df[['team', 'year', 'division']], left_on=['opponent', 'year'], right_on=['team', 'year'])\n"
   ]
  },
  {
   "cell_type": "code",
   "execution_count": 79,
   "metadata": {},
   "outputs": [],
   "source": [
    "#create new columm that tells if it's a division game or not. That is, if the two teams playing are from the same division or not  \n",
    "df['division_game'] = [1 if df.loc[i]['division_x'] == df.loc[i]['division_y'] else 0 for i in range(0,len(df))]\n",
    "\n",
    "\n",
    "# drop columns \n",
    "df.drop(['division_x', 'team_y', 'division_y'], axis=1, inplace=True)\n"
   ]
  },
  {
   "cell_type": "code",
   "execution_count": 80,
   "metadata": {},
   "outputs": [
    {
     "data": {
      "text/plain": [
       "date                        datetime64[ns]\n",
       "team_x                              object\n",
       "opponent                            object\n",
       "rank                                 int64\n",
       "gb                                 float64\n",
       "time                       timedelta64[ns]\n",
       "attendance                           int64\n",
       "streak                               int64\n",
       "double_header                        int64\n",
       "runs_per_game                      float64\n",
       "runs_moving_avg                    float64\n",
       "runs_allowed_moving_avg            float64\n",
       "win_pct                            float64\n",
       "opening_day                          int64\n",
       "wins_and_losses                      int64\n",
       "win_percentage                     float64\n",
       "day_game                             int64\n",
       "day                                  int64\n",
       "weekday                              int64\n",
       "weekday_name                        object\n",
       "month                                int64\n",
       "year                                 int64\n",
       "stadium                             object\n",
       "capacity                             int64\n",
       "bat_age                            float64\n",
       "pitch_age                          float64\n",
       "top_player_stat                    float64\n",
       "division_game                        int64\n",
       "dtype: object"
      ]
     },
     "execution_count": 80,
     "metadata": {},
     "output_type": "execute_result"
    }
   ],
   "source": [
    "df.dtypes"
   ]
  },
  {
   "cell_type": "code",
   "execution_count": 81,
   "metadata": {},
   "outputs": [
    {
     "data": {
      "text/plain": [
       "0    28859\n",
       "1    13869\n",
       "Name: day_game, dtype: int64"
      ]
     },
     "execution_count": 81,
     "metadata": {},
     "output_type": "execute_result"
    }
   ],
   "source": [
    "df['day_game'].value_counts()"
   ]
  },
  {
   "cell_type": "markdown",
   "metadata": {},
   "source": [
    "## box plot for day vs. night game and attendance effect"
   ]
  },
  {
   "cell_type": "code",
   "execution_count": 82,
   "metadata": {},
   "outputs": [
    {
     "data": {
      "text/plain": [
       "<matplotlib.axes._subplots.AxesSubplot at 0x11efaf7b8>"
      ]
     },
     "execution_count": 82,
     "metadata": {},
     "output_type": "execute_result"
    },
    {
     "data": {
      "image/png": "[encoded data removed]",
      "text/plain": [
       "<Figure size 432x288 with 1 Axes>"
      ]
     },
     "metadata": {},
     "output_type": "display_data"
    }
   ],
   "source": [
    "sns.boxplot(x='day_game', y='attendance', data=df)\n",
    "# not much different, slightly higher mean if it's a day game  "
   ]
  },
  {
   "cell_type": "code",
   "execution_count": 83,
   "metadata": {},
   "outputs": [
    {
     "data": {
      "text/plain": [
       "0    23540\n",
       "1    19188\n",
       "Name: division_game, dtype: int64"
      ]
     },
     "execution_count": 83,
     "metadata": {},
     "output_type": "execute_result"
    }
   ],
   "source": [
    "df['division_game'].value_counts()"
   ]
  },
  {
   "cell_type": "code",
   "execution_count": 84,
   "metadata": {},
   "outputs": [
    {
     "data": {
      "text/plain": [
       "<matplotlib.axes._subplots.AxesSubplot at 0x12367ec88>"
      ]
     },
     "execution_count": 84,
     "metadata": {},
     "output_type": "execute_result"
    },
    {
     "data": {
      "image/png": "[encoded data removed]",
      "text/plain": [
       "<Figure size 432x288 with 1 Axes>"
      ]
     },
     "metadata": {},
     "output_type": "display_data"
    }
   ],
   "source": [
    "sns.boxplot(x='division_game', y='attendance', data=df)\n"
   ]
  },
  {
   "cell_type": "markdown",
   "metadata": {},
   "source": [
    "## to_csv"
   ]
  },
  {
   "cell_type": "code",
   "execution_count": 87,
   "metadata": {},
   "outputs": [],
   "source": [
    "df.to_csv('/Users/andreewerner/Desktop/mlb-master_df-data.csv', index=False, encoding = 'utf-8')\n"
   ]
  },
  {
   "cell_type": "code",
   "execution_count": 90,
   "metadata": {},
   "outputs": [],
   "source": [
    "for i in df['team_x'].unique():\n",
    "    game_df = df[df['team_x'] == i]\n",
    "    game_df.to_csv('/Users/andreewerner/Desktop/' + i + '-game-data.csv', index=False, encoding='utf-8')\n"
   ]
  },
  {
   "cell_type": "code",
   "execution_count": 91,
   "metadata": {},
   "outputs": [],
   "source": [
    "seasons_df.to_csv('/Users/andreewerner/Desktop/mlb-master_seasons_df-data.csv', index=False, encoding = 'utf-8')\n"
   ]
  },
  {
   "cell_type": "code",
   "execution_count": null,
   "metadata": {},
   "outputs": [],
   "source": []
  }
 ],
 "metadata": {
  "kernelspec": {
   "display_name": "Python 3",
   "language": "python",
   "name": "python3"
  },
  "language_info": {
   "codemirror_mode": {
    "name": "ipython",
    "version": 3
   },
   "file_extension": ".py",
   "mimetype": "text/x-python",
   "name": "python",
   "nbconvert_exporter": "python",
   "pygments_lexer": "ipython3",
   "version": "3.6.5"
  }
 },
 "nbformat": 4,
 "nbformat_minor": 2
}
