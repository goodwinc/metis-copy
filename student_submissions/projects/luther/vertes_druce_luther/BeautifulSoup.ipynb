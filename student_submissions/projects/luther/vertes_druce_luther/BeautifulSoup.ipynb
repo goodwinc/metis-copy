{
 "cells": [
  {
   "cell_type": "code",
   "execution_count": null,
   "metadata": {},
   "outputs": [],
   "source": [
    "import requests"
   ]
  },
  {
   "cell_type": "code",
   "execution_count": 60,
   "metadata": {},
   "outputs": [
    {
     "name": "stdout",
     "output_type": "stream",
     "text": [
      "https://www.ft.com/search?q=Microsoft\n"
     ]
    }
   ],
   "source": [
    "search_base_url = \"https://www.ft.com/search?q=\"\n",
    "search_term = \"Microsoft\"\n",
    "url = search_base_url + search_term\n",
    "response = requests.get(url, cookies=cookies)\n",
    "\n",
    "\t\t\t\t\t<ul class=\"search-results__list\" data-trackable=\"search-results-list\">\n"
   ]
  },
  {
   "cell_type": "code",
   "execution_count": 59,
   "metadata": {},
   "outputs": [],
   "source": [
    "from bs4 import BeautifulSoup\n",
    "page = response.text\n",
    "soup = BeautifulSoup(page, \"lxml\")"
   ]
  },
  {
   "cell_type": "code",
   "execution_count": 63,
   "metadata": {},
   "outputs": [
    {
     "ename": "SyntaxError",
     "evalue": "keyword can't be an expression (<ipython-input-63-36b02e460118>, line 1)",
     "output_type": "error",
     "traceback": [
      "\u001b[0;36m  File \u001b[0;32m\"<ipython-input-63-36b02e460118>\"\u001b[0;36m, line \u001b[0;32m1\u001b[0m\n\u001b[0;31m    soup.find('ul', data-trackable=\"search-results-list\")\u001b[0m\n\u001b[0m                   ^\u001b[0m\n\u001b[0;31mSyntaxError\u001b[0m\u001b[0;31m:\u001b[0m keyword can't be an expression\n"
     ]
    }
   ],
   "source": [
    "soup.find('ul', data-trackable=\"search-results-list\")\n"
   ]
  },
  {
   "cell_type": "code",
   "execution_count": 55,
   "metadata": {},
   "outputs": [
    {
     "name": "stdout",
     "output_type": "stream",
     "text": [
      "<RequestsCookieJar[]>\n",
      "200\n",
      "text/html; charset=utf-8\n",
      "utf-8\n"
     ]
    }
   ],
   "source": [
    "cookies = {\n",
    "    'FTConsent': 'behaviouraladsOnsite%3Aon%2CcookiesOnsite%3Aoff%2CcookiesUseraccept%3Aon%2CdemographicadsOnsite%3Aon%2CenhancementByemail%3Aoff%2CenhancementByfax%3Aoff%2CenhancementByphonecall%3Aoff%2CenhancementBypost%3Aoff%2CenhancementBysms%3Aoff%2CmarketingByemail%3Aoff%2CmarketingByfax%3Aoff%2CmarketingByphonecall%3Aoff%2CmarketingBypost%3Aoff%2CmarketingBysms%3Aoff%2CprogrammaticadsOnsite%3Aon%2CrecommendedcontentOnsite%3Aon',\n",
    "    'FTLogin': 'beta',\n",
    "    'FTSession_s' : 'zybM_p21lEDN04ru4OFqz0FhzwAAAWSJK8_mw8I.MEQCIFEwXTa-C0Sj1-9vIzcKa42hhw3dXzRcDX-MzAjXVlU7AiAy4_6m37f5MxFH4cNQJ19ZyHGU1_TcNjPRpGwCamgVZQ',\n",
    "    'FTSession': 'zybM_p21lEDN04ru4OFqz0FhzwAAAWSJK8_mw8I.MEUCIQCDFVKtQkt1-yfWIJqpk7eOeFq6n2GbvyixePEW64lsgwIgKS8Pv2cPQ1ZCIhfvBu02jDSLJMWZ96akYIPhtkULoao',\n",
    "    'FTCookieConsentSync': 'false',\n",
    "    'FTCookieConsentGDPR': 'true',\n",
    "}   \n",
    "\n",
    "url = 'https://www.ft.com/content/4fc2e922-c66d-11e8-ba8f-ee390057b8c9'\n",
    "url = 'https://ftalphaville.ft.com/2018/10/02/1538481491000/Chancellor-s-blockchain-idea-is-a-desperate-scrape-of-the-Brexit-barrel/'\n",
    "\n",
    "cookies = {\n",
    "    'FTConsent': 'behaviouraladsOnsite%3Aon%2CcookiesOnsite%3Aoff%2CcookiesUseraccept%3Aon%2CdemographicadsOnsite%3Aon%2CenhancementByemail%3Aoff%2CenhancementByfax%3Aoff%2CenhancementByphonecall%3Aoff%2CenhancementBypost%3Aoff%2CenhancementBysms%3Aoff%2CmarketingByemail%3Aoff%2CmarketingByfax%3Aoff%2CmarketingByphonecall%3Aoff%2CmarketingBypost%3Aoff%2CmarketingBysms%3Aoff%2CprogrammaticadsOnsite%3Aon%2CrecommendedcontentOnsite%3Aon',\n",
    "    'FTLogin': 'beta',\n",
    "    'FTSession_s' : 'zybM_p21lEDN04ru4OFqz0FhzwAAAWSJK8_mw8I.MEQCIFEwXTa-C0Sj1-9vIzcKa42hhw3dXzRcDX-MzAjXVlU7AiAy4_6m37f5MxFH4cNQJ19ZyHGU1_TcNjPRpGwCamgVZQ',\n",
    "    'FTSession': 'zybM_p21lEDN04ru4OFqz0FhzwAAAWSJK8_mw8I.MEUCIQCDFVKtQkt1-yfWIJqpk7eOeFq6n2GbvyixePEW64lsgwIgKS8Pv2cPQ1ZCIhfvBu02jDSLJMWZ96akYIPhtkULoao',\n",
    "    'FTCookieConsentSync': 'false',\n",
    "    'FTCookieConsentGDPR': 'true',\n",
    "}   \n",
    "response = requests.get(url, cookies=cookies)\n",
    "\n",
    "#cookies = response.cookies\n",
    "status = response.status_code\n",
    "content_type = response.headers.get('content-type')\n",
    "charset = response.encoding\n",
    "\n",
    "print(cookies)\n",
    "print(status)\n",
    "print(content_type)\n",
    "print(charset)"
   ]
  },
  {
   "cell_type": "code",
   "execution_count": 54,
   "metadata": {},
   "outputs": [
    {
     "name": "stdout",
     "output_type": "stream",
     "text": [
      "Chancellor's blockchain idea is a desperate scrape of the Brexit barrel | FT Alphaville\n",
      "Chancellor's blockchain idea is a desperate scrape of the Brexit barrel\n",
      "Philip Hammond to cross Irish border on white elephant. \n",
      "Financial Times\n",
      "https://www.ft.com/__origami/service/image/v2/images/raw/https%3A%2F%2Fd1e00ek4ebabms.cloudfront.net%2Fproduction%2F6777b5cb-4117-4f77-ac25-8cfebbaa0cb4_FINAL.jpg?source=Alphaville\n"
     ]
    },
    {
     "data": {
      "text/html": [
       "<img src=\"https://www.ft.com/__origami/service/image/v2/images/raw/https%3A%2F%2Fd1e00ek4ebabms.cloudfront.net%2Fproduction%2F6777b5cb-4117-4f77-ac25-8cfebbaa0cb4_FINAL.jpg?source=Alphaville\"/>"
      ],
      "text/plain": [
       "<IPython.core.display.Image object>"
      ]
     },
     "execution_count": 54,
     "metadata": {},
     "output_type": "execute_result"
    }
   ],
   "source": [
    "#|print(soup.prettify())\n",
    "\n",
    "# child of title tag\n",
    "print(soup.title.string)\n",
    "\n",
    "meta_tags = soup.findAll('meta')\n",
    "#print(meta_tags)\n",
    "\n",
    "og_title =  soup.find('meta', property=\"og:title\")\n",
    "if og_title:\n",
    "    print(og_title[\"content\"])\n",
    "\n",
    "og_description =  soup.find('meta', property=\"og:description\")\n",
    "if og_description:\n",
    "    print(og_description[\"content\"])\n",
    "\n",
    "og_site_name =  soup.find('meta', property=\"og:site_name\")\n",
    "if og_site_name:\n",
    "    print(og_site_name[\"content\"])\n",
    "\n",
    "og_image =  soup.find('meta', property=\"og:image\")\n",
    "    \n",
    "if og_image:\n",
    "    print(og_image[\"content\"])\n",
    "    \n",
    "Image(url=og_image['content'])"
   ]
  },
  {
   "cell_type": "code",
   "execution_count": 41,
   "metadata": {},
   "outputs": [],
   "source": [
    "from IPython.display import Image\n",
    "from IPython.core.display import HTML \n"
   ]
  },
  {
   "cell_type": "code",
   "execution_count": 46,
   "metadata": {},
   "outputs": [
    {
     "name": "stdout",
     "output_type": "stream",
     "text": [
      "yo\n",
      "https://www.ft.com/__origami/service/image/v2/images/raw/http%3A%2F%2Fprod-upp-image-read.ft.com%2F619215a2-9fb6-11e8-b196-da9d6c239ca8?source=next-opengraph&fit=scale-down&width=900\n"
     ]
    },
    {
     "data": {
      "text/html": [
       "<img src=\"https://www.ft.com/__origami/service/image/v2/images/raw/http%3A%2F%2Fprod-upp-image-read.ft.com%2F619215a2-9fb6-11e8-b196-da9d6c239ca8?source=next-opengraph&fit=scale-down&width=900\"/>"
      ],
      "text/plain": [
       "<IPython.core.display.Image object>"
      ]
     },
     "execution_count": 46,
     "metadata": {},
     "output_type": "execute_result"
    }
   ],
   "source": [
    "if og_image: \n",
    "    print (\"yo\")\n",
    "    print(og_image[\"content\"])\n",
    "    \n",
    "Image(url=og_image['content'])\n",
    "    "
   ]
  },
  {
   "cell_type": "code",
   "execution_count": null,
   "metadata": {},
   "outputs": [],
   "source": []
  }
 ],
 "metadata": {
  "kernelspec": {
   "display_name": "Python 3",
   "language": "python",
   "name": "python3"
  },
  "language_info": {
   "codemirror_mode": {
    "name": "ipython",
    "version": 3
   },
   "file_extension": ".py",
   "mimetype": "text/x-python",
   "name": "python",
   "nbconvert_exporter": "python",
   "pygments_lexer": "ipython3",
   "version": "3.6.6"
  }
 },
 "nbformat": 4,
 "nbformat_minor": 2
}
