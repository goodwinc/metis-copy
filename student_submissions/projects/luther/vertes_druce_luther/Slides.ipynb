{
 "cells": [
  {
   "cell_type": "markdown",
   "metadata": {
    "slideshow": {
     "slide_type": "slide"
    }
   },
   "source": [
    "\n",
    "# Stock market factor model experiments\n",
    "\n",
    "### Druce Vertes\n",
    "### Metis Bootcamp NYC\n",
    "### 10/12/2018"
   ]
  },
  {
   "cell_type": "markdown",
   "metadata": {
    "slideshow": {
     "slide_type": "slide"
    }
   },
   "source": [
    "# Can we predict stock returns and outperform the market with simple models?"
   ]
  },
  {
   "cell_type": "markdown",
   "metadata": {
    "slideshow": {
     "slide_type": "subslide"
    }
   },
   "source": [
    "# Thought experiment: If we couldn't predict attractive returns, why buy stocks?"
   ]
  },
  {
   "cell_type": "markdown",
   "metadata": {
    "slideshow": {
     "slide_type": "subslide"
    }
   },
   "source": [
    "# Spoiler: Predicting 'something' about returns is possible. Predicting consistently better than the collective wisdom of the market is very hard."
   ]
  },
  {
   "cell_type": "markdown",
   "metadata": {
    "slideshow": {
     "slide_type": "slide"
    }
   },
   "source": [
    "### Project: Model monthly stock returns using\n",
    "\n",
    "- Scraped from [FRED](https://fred.stlouisfed.org/) using Selenium:\n",
    "    - Growth (Leading index)\n",
    "    - Inflation (CPI ex food & energy)\n",
    "    - Monetary Tightness (10-year bond rate - 3-month T-bill rate)\n",
    "    - All shifted 1 month so we predict October using September data\n",
    "- [CRSP + Compustat](http://www.crsp.com/products/research-products/crspcompustat-merged-database)\n",
    "  - 55 years of monthly data\n",
    "  - Top 50% of stocks by market cap\n",
    "    - [Market cap cutoffs](http://mba.tuck.dartmouth.edu/pages/faculty/ken.french/Data_Library/det_48_ind_port.html) from Fama/French\n",
    "    - about 500 stocks at start of sample\n",
    "    - about 1200 at end of sample\n",
    "    - peaked at ~1400 stocks in early 2000s\n"
   ]
  },
  {
   "cell_type": "markdown",
   "metadata": {
    "slideshow": {
     "slide_type": "slide"
    }
   },
   "source": [
    "![Dataframe.png](Dataframe.png)\n",
    "\n",
    "- Predictors:\n",
    "  - Value (Stock Price / Book Value)\n",
    "  - Momentum (11-month change in stock through one month prior)\n",
    "  - Industry (Fama 48 industries 1-hot with pd.get_dummies )\n",
    "  - Economic indicators: Growth (LEI), Inflation (CPI), Monetary policy (30y-3m)\n",
    "- Response:\n",
    "  - 3-month absolute return (also tried relative return v. S&P)\n",
    "\n"
   ]
  },
  {
   "cell_type": "markdown",
   "metadata": {
    "slideshow": {
     "slide_type": "slide"
    }
   },
   "source": [
    "# Factor models *\n",
    "\n",
    " - Original [Markowitz CAPM model](http://book.ivo-welch.info/read/source.mba/chap10.pdf) models stock returns as risk-free rate + beta * market factor + epsilon \n",
    "     - Risk-free rate and beta explain ~70% of returns (epsilon ~= 30%)\n",
    " - [Fama & French](https://faculty.chicagobooth.edu/john.cochrane/teaching/35904_Asset_Pricing/Fama_French_multifactor_explanations.pdf) added value and size (market cap)\n",
    "     - Fama/French 3 factor model explains ~90%\n",
    " - [Carhart](https://onlinelibrary.wiley.com/doi/abs/10.1111/j.1540-6261.1997.tb03808.x) adds momentum, reflecting the idea that prices trend more than expected in a random walk \n",
    "     - Trends may reflect hidden factors that take time to be appreciated by market (slow information diffusion v. perfect information)\n",
    "     - Success breeds success. Companies whose stock goes up subsequently get good press, hire better people, make better acquisitions, get better credit terms, etc., which leads to more success. Conversely problems beget problems (Reflexivity, never just one cockroach in the kitchen)\n",
    " - Fund companies like [AQR](https://www.aqr.com/Insights/Research/Journal-Article/Value-and-Momentum-Everywhere) have put value/momentum models into practice, done OK\n",
    "\n",
    "### (* As far as I can tell, simple linear regression models with fancy names)\n"
   ]
  },
  {
   "cell_type": "markdown",
   "metadata": {
    "slideshow": {
     "slide_type": "slide"
    }
   },
   "source": [
    "From https://en.wikipedia.org/wiki/Carhart_four-factor_model \n",
    "\n",
    "![Carhart.png](Carhart.png)\n"
   ]
  },
  {
   "cell_type": "markdown",
   "metadata": {
    "slideshow": {
     "slide_type": "slide"
    }
   },
   "source": [
    "# Baseline: Momentum only\n",
    "\n",
    "- Generate momentum quintile buckets\n",
    "- Each month, go long the stocks in e.g. top momentum quintile\n",
    "- Seems to have worked (surprisingly well?)\n",
    "    \n",
    "![quintiles1.png](quintiles1.png)\n",
    "\n",
    "![quintiles1table.png](quintiles1table.png)"
   ]
  },
  {
   "cell_type": "markdown",
   "metadata": {
    "slideshow": {
     "slide_type": "slide"
    }
   },
   "source": [
    "# Question: can we do better with machine learning?"
   ]
  },
  {
   "cell_type": "markdown",
   "metadata": {
    "slideshow": {
     "slide_type": "slide"
    }
   },
   "source": [
    "# OLS model\n",
    "\n",
    "- Fit RET vs.\n",
    "  - 2 Fundamental variables: Value, Momentum\n",
    "  - 3 Econ variables\n",
    "  - 48 industries (1-hot dummies)\n",
    "- Get a small but nonzero R-squared ~ 0.5% out of sample\n",
    "  - Bucket predicted return into quintiles\n",
    "  - These quintiles have much less impact than momentum only\n",
    "  - Which is interesting because the prediction should have the momentum information + whatever information is in the other variables\n",
    "  - Thinking about how to fix, what I might be doing wrong"
   ]
  },
  {
   "cell_type": "markdown",
   "metadata": {
    "slideshow": {
     "slide_type": "slide"
    }
   },
   "source": [
    "![Quintiles2.png](Quintiles2.png)"
   ]
  },
  {
   "cell_type": "markdown",
   "metadata": {},
   "source": [
    "![OLS.png](OLS.png)"
   ]
  },
  {
   "cell_type": "markdown",
   "metadata": {
    "slideshow": {
     "slide_type": "slide"
    }
   },
   "source": [
    "\n",
    "Things I tried\n",
    "    - basic profiling, pair plot\n",
    "    - Lasso, ElasticNet, Ridge, didn't improve OLS R-squared\n",
    "    "
   ]
  },
  {
   "cell_type": "code",
   "execution_count": null,
   "metadata": {},
   "outputs": [],
   "source": [
    "todos: \n",
    "    P/E or EBIT / EV + some leverage measure\n",
    "    Beta adjust"
   ]
  }
 ],
 "metadata": {
  "celltoolbar": "Slideshow",
  "kernelspec": {
   "display_name": "Python 3",
   "language": "python",
   "name": "python3"
  },
  "language_info": {
   "codemirror_mode": {
    "name": "ipython",
    "version": 3
   },
   "file_extension": ".py",
   "mimetype": "text/x-python",
   "name": "python",
   "nbconvert_exporter": "python",
   "pygments_lexer": "ipython3",
   "version": "3.6.6"
  }
 },
 "nbformat": 4,
 "nbformat_minor": 2
}
