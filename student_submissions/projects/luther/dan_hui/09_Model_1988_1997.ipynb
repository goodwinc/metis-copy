{
 "cells": [
  {
   "cell_type": "code",
   "execution_count": 1,
   "metadata": {},
   "outputs": [],
   "source": [
    "import pandas as pd\n",
    "import numpy as np\n",
    "from datetime import datetime\n",
    "import seaborn as sns\n",
    "import re\n",
    "import matplotlib.pyplot as plt\n",
    "pd.set_option('display.float_format', lambda x: '%.2f' % x)\n",
    "import matplotlib.pyplot as plt\n",
    "from IPython.display import display\n",
    "pd.options.display.max_columns = None\n",
    "from sklearn.linear_model import Lasso, Ridge, LassoCV, RidgeCV"
   ]
  },
  {
   "cell_type": "code",
   "execution_count": 2,
   "metadata": {},
   "outputs": [],
   "source": [
    "from sklearn.model_selection import train_test_split\n",
    "from sklearn.linear_model import LinearRegression, Ridge #ordinary linear regression + w/ ridge regularization\n",
    "from sklearn.preprocessing import StandardScaler, PolynomialFeatures\n",
    "from sklearn.model_selection import cross_val_score"
   ]
  },
  {
   "cell_type": "markdown",
   "metadata": {},
   "source": [
    "### Import & Housekeeping"
   ]
  },
  {
   "cell_type": "code",
   "execution_count": 3,
   "metadata": {},
   "outputs": [],
   "source": [
    "movie_df = pd.read_csv('../04_Data/1988_1997_merged_featurized.csv', index_col=0)"
   ]
  },
  {
   "cell_type": "code",
   "execution_count": 4,
   "metadata": {},
   "outputs": [],
   "source": [
    "#Set groups of column names to make subsequent plots modular\n",
    "target = [\"usa_box\"]\n",
    "info = [\"prod_budget\", 'series', \"runtime\"] \n",
    "theater = [\"title\", \"theaters\"]\n",
    "mpaa = [\"PG\", \"R\", \"PG-13\", \"G\"]\n",
    "genre = [\"action\", \"comedy\", \"drama\", \"horror\", \"scifi/fantasy\", \"romance\", \"animation\", \"other\"]\n",
    "\n",
    "columns = info + mpaa + genre + theater + target  #this is all the columns"
   ]
  },
  {
   "cell_type": "code",
   "execution_count": 5,
   "metadata": {},
   "outputs": [],
   "source": [
    "#isolate the columns with features and target\n",
    "movie_df = movie_df[columns]"
   ]
  },
  {
   "cell_type": "code",
   "execution_count": 6,
   "metadata": {},
   "outputs": [],
   "source": [
    "#clean & isolate\n",
    "\n",
    "#this removes from the set any movie less than 600 Theater Locations (aka Limited Release)\n",
    "movie_df = movie_df[movie_df[\"theaters\"]>=600] \n",
    "\n",
    "#this removes from the set any movie with no production budget\n",
    "movie_df = movie_df.dropna(how='any').reset_index()"
   ]
  },
  {
   "cell_type": "code",
   "execution_count": 7,
   "metadata": {},
   "outputs": [
    {
     "data": {
      "text/plain": [
       "index            433\n",
       "prod_budget      433\n",
       "series           433\n",
       "runtime          433\n",
       "PG               433\n",
       "R                433\n",
       "PG-13            433\n",
       "G                433\n",
       "action           433\n",
       "comedy           433\n",
       "drama            433\n",
       "horror           433\n",
       "scifi/fantasy    433\n",
       "romance          433\n",
       "animation        433\n",
       "other            433\n",
       "title            433\n",
       "theaters         433\n",
       "usa_box          433\n",
       "dtype: int64"
      ]
     },
     "execution_count": 7,
     "metadata": {},
     "output_type": "execute_result"
    }
   ],
   "source": [
    "movie_df.count()"
   ]
  },
  {
   "cell_type": "code",
   "execution_count": 8,
   "metadata": {},
   "outputs": [
    {
     "data": {
      "text/plain": [
       "(433, 19)"
      ]
     },
     "execution_count": 8,
     "metadata": {},
     "output_type": "execute_result"
    }
   ],
   "source": [
    "movie_df.shape   #433 Movies that contain a budget on The-Numbers.com"
   ]
  },
  {
   "cell_type": "code",
   "execution_count": 9,
   "metadata": {},
   "outputs": [
    {
     "name": "stdout",
     "output_type": "stream",
     "text": [
      "<class 'pandas.core.frame.DataFrame'>\n",
      "RangeIndex: 433 entries, 0 to 432\n",
      "Data columns (total 19 columns):\n",
      "index            433 non-null int64\n",
      "prod_budget      433 non-null float64\n",
      "series           433 non-null float64\n",
      "runtime          433 non-null float64\n",
      "PG               433 non-null int64\n",
      "R                433 non-null int64\n",
      "PG-13            433 non-null int64\n",
      "G                433 non-null int64\n",
      "action           433 non-null int64\n",
      "comedy           433 non-null int64\n",
      "drama            433 non-null int64\n",
      "horror           433 non-null int64\n",
      "scifi/fantasy    433 non-null int64\n",
      "romance          433 non-null int64\n",
      "animation        433 non-null int64\n",
      "other            433 non-null int64\n",
      "title            433 non-null object\n",
      "theaters         433 non-null float64\n",
      "usa_box          433 non-null float64\n",
      "dtypes: float64(5), int64(13), object(1)\n",
      "memory usage: 64.4+ KB\n"
     ]
    }
   ],
   "source": [
    "movie_df.info()   #no null values"
   ]
  },
  {
   "cell_type": "markdown",
   "metadata": {},
   "source": [
    "### Set Columns For Study"
   ]
  },
  {
   "cell_type": "code",
   "execution_count": 10,
   "metadata": {},
   "outputs": [],
   "source": [
    "X_columns = info + mpaa + genre"
   ]
  },
  {
   "cell_type": "code",
   "execution_count": 11,
   "metadata": {},
   "outputs": [],
   "source": [
    "y = movie_df[\"usa_box\"]\n",
    "X = movie_df.loc[:,X_columns]"
   ]
  },
  {
   "cell_type": "markdown",
   "metadata": {},
   "source": [
    "### Partition data + Make KFolds"
   ]
  },
  {
   "cell_type": "code",
   "execution_count": 12,
   "metadata": {},
   "outputs": [],
   "source": [
    "#hold out 20% of the data for final testing\n",
    "X, X_test, y, y_test = train_test_split(X, y, test_size=.2, random_state=30) #keep at 20 to be consistent\n",
    "\n",
    "#hold out 20% for validation\n",
    "X_train, X_val, y_train, y_val = train_test_split(X, y, test_size=.25, random_state=3) "
   ]
  },
  {
   "cell_type": "code",
   "execution_count": 13,
   "metadata": {},
   "outputs": [],
   "source": [
    "from sklearn.model_selection import KFold\n",
    "kf = KFold(n_splits=5, shuffle=True, random_state = 71)\n",
    "\n",
    "#this helps with the way kf will generate indices below\n",
    "# X, y = np.array(X), np.array(y)"
   ]
  },
  {
   "cell_type": "markdown",
   "metadata": {},
   "source": [
    "### Scale Data - Hold for Regularization Later"
   ]
  },
  {
   "cell_type": "code",
   "execution_count": 14,
   "metadata": {},
   "outputs": [],
   "source": [
    "#Feature scaling for train, val\n",
    "scaler = StandardScaler()\n",
    "\n",
    "X_scaled = scaler.fit_transform(X)           #Scale set for Regularization\n",
    "X_test_scaled = scaler.transform(X_test)\n",
    "\n",
    "X = scaler.fit_transform(X)                  #scale set for everything\n",
    "X_test = scaler.transform(X_test)"
   ]
  },
  {
   "cell_type": "markdown",
   "metadata": {},
   "source": [
    "### Model 1A:  Cross Validation - Linear Regression"
   ]
  },
  {
   "cell_type": "code",
   "execution_count": 15,
   "metadata": {},
   "outputs": [],
   "source": [
    "lmcv = LinearRegression()\n",
    "\n",
    "linear_model = cross_val_score(lmcv, X, y,    # estimator, features, target\n",
    "                                cv=kf,        # number of folds \n",
    "                                scoring='r2') # scoring metric"
   ]
  },
  {
   "cell_type": "code",
   "execution_count": 16,
   "metadata": {},
   "outputs": [
    {
     "name": "stdout",
     "output_type": "stream",
     "text": [
      "[0.33305362 0.14687686 0.31886472 0.20239258 0.32206673]\n",
      "0.264650900259176\n"
     ]
    }
   ],
   "source": [
    "print(linear_model)\n",
    "print(linear_model.mean())"
   ]
  },
  {
   "cell_type": "code",
   "execution_count": 17,
   "metadata": {},
   "outputs": [
    {
     "data": {
      "text/plain": [
       "LinearRegression(copy_X=True, fit_intercept=True, n_jobs=1, normalize=False)"
      ]
     },
     "execution_count": 17,
     "metadata": {},
     "output_type": "execute_result"
    }
   ],
   "source": [
    "lmcv.fit(X,y)"
   ]
  },
  {
   "cell_type": "code",
   "execution_count": 18,
   "metadata": {},
   "outputs": [
    {
     "data": {
      "text/plain": [
       "0.33677174075181415"
      ]
     },
     "execution_count": 18,
     "metadata": {},
     "output_type": "execute_result"
    }
   ],
   "source": [
    "lmcv.score(X_test,y_test)"
   ]
  },
  {
   "cell_type": "code",
   "execution_count": 20,
   "metadata": {},
   "outputs": [
    {
     "data": {
      "image/png": "[encoded data removed]",
      "text/plain": [
       "<Figure size 1440x360 with 2 Axes>"
      ]
     },
     "metadata": {},
     "output_type": "display_data"
    }
   ],
   "source": [
    "plt.figure(figsize=(20,5))\n",
    "\n",
    "# Fitted vs. Actual\n",
    "y_pred = lmcv.predict(X_test)\n",
    "\n",
    "plt.subplot(1, 2, 1)\n",
    "plt.scatter(y_pred,y_test, alpha=0.25)\n",
    "plt.plot([0, 250000000], [0, 250000000])\n",
    "\n",
    "# Residuals\n",
    "lin_reg_residuals = y_test - y_pred\n",
    "\n",
    "plt.subplot(1, 2, 2)\n",
    "plt.scatter(y_pred, lin_reg_residuals, alpha=.2)\n",
    "plt.plot([0,300000000], [0, 0])\n",
    "plt.title(\"Residuals vs. Predictions\")\n",
    "plt.savefig(\"residuals.pdf\");"
   ]
  },
  {
   "cell_type": "code",
   "execution_count": 184,
   "metadata": {},
   "outputs": [
    {
     "data": {
      "text/plain": [
       "[('prod_budget', 13945860.92266995),\n",
       " ('series', 15335071.670618972),\n",
       " ('runtime', 16681856.863900986),\n",
       " ('PG', 11287315.848072464),\n",
       " ('R', 2964512.0560520273),\n",
       " ('PG-13', 12349647.31483641),\n",
       " ('G', 3778609.723701964),\n",
       " ('action', -1719910.031726494),\n",
       " ('comedy', 6349335.028884313),\n",
       " ('drama', -1122436.5827562052),\n",
       " ('horror', -2200990.59772129),\n",
       " ('scifi/fantasy', 816351.3992960404),\n",
       " ('romance', 1736925.6116107698),\n",
       " ('animation', 13460608.920599012),\n",
       " ('other', -3475240.8546836236)]"
      ]
     },
     "execution_count": 184,
     "metadata": {},
     "output_type": "execute_result"
    }
   ],
   "source": [
    "# These are the coefficients when it refit using that best alpha\n",
    "list(zip(X_columns,lmcv.coef_))"
   ]
  },
  {
   "cell_type": "code",
   "execution_count": 198,
   "metadata": {},
   "outputs": [
    {
     "data": {
      "image/png": "[encoded data removed]",
      "text/plain": [
       "<Figure size 2160x720 with 1 Axes>"
      ]
     },
     "metadata": {},
     "output_type": "display_data"
    }
   ],
   "source": [
    "plt.figure(figsize=(30,10))\n",
    "plt.rc('xtick', labelsize=14)\n",
    "plt.bar(X_columns,lmcv.coef_)\n",
    "plt.savefig(\"residuals.pdf\");"
   ]
  },
  {
   "cell_type": "markdown",
   "metadata": {},
   "source": [
    "### Model 2A: Cross Validation - Ridge Regression"
   ]
  },
  {
   "cell_type": "code",
   "execution_count": 186,
   "metadata": {},
   "outputs": [],
   "source": [
    "lm_reg_cv = Ridge(alpha=1)\n",
    "\n",
    "ridge_model =  cross_val_score(lm_reg_cv, X, y,    # estimator, features, target\n",
    "                                cv=kf,             # number of folds \n",
    "                                scoring='r2')      # scoring metric"
   ]
  },
  {
   "cell_type": "code",
   "execution_count": 187,
   "metadata": {},
   "outputs": [
    {
     "name": "stdout",
     "output_type": "stream",
     "text": [
      "[0.3338443  0.14899287 0.31882976 0.20318167 0.32203381]\n",
      "0.26537648423800386\n"
     ]
    }
   ],
   "source": [
    "print(ridge_model)\n",
    "print(ridge_model.mean())"
   ]
  },
  {
   "cell_type": "markdown",
   "metadata": {},
   "source": [
    "### Model 3A: Polynomial CV"
   ]
  },
  {
   "cell_type": "code",
   "execution_count": 188,
   "metadata": {},
   "outputs": [],
   "source": [
    "#Feature transforms for train, val, and test so that we can run our poly model on each\n",
    "poly = PolynomialFeatures(degree=2) \n",
    "\n",
    "X_poly = poly.fit_transform(X)\n",
    "#X_test_poly = poly.transform(X_test)\n",
    "\n",
    "lm_poly = LinearRegression()\n",
    "\n",
    "poly_model =  cross_val_score(lm_poly, X_poly, y,    # estimator, features, target\n",
    "                                cv=kf,                # number of folds \n",
    "                                scoring='r2')         # scoring metric"
   ]
  },
  {
   "cell_type": "code",
   "execution_count": 189,
   "metadata": {},
   "outputs": [
    {
     "name": "stdout",
     "output_type": "stream",
     "text": [
      "[-6.03290067e+19 -2.91246341e+20 -3.41633845e+21 -1.23817833e+22\n",
      " -3.71256970e+21]\n",
      "-3.9724533663411386e+21\n"
     ]
    }
   ],
   "source": [
    "print(poly_model)\n",
    "print(poly_model.mean())"
   ]
  },
  {
   "cell_type": "markdown",
   "metadata": {},
   "source": [
    "### Model 4A: Cross Validation - Lasso"
   ]
  },
  {
   "cell_type": "code",
   "execution_count": 190,
   "metadata": {},
   "outputs": [],
   "source": [
    "lasso_model = Lasso(alpha = 203091)  #this is a HIGH regularization strength!\n",
    "\n",
    "lasso_model_cv = cross_val_score(lasso_model, X, y,    # estimator, features, target\n",
    "                                cv=kf,        # number of folds \n",
    "                                scoring='r2') # scoring metric"
   ]
  },
  {
   "cell_type": "code",
   "execution_count": 191,
   "metadata": {},
   "outputs": [
    {
     "name": "stdout",
     "output_type": "stream",
     "text": [
      "[0.33628179 0.15532572 0.31938197 0.20651352 0.32310224]\n",
      "0.2681210463262338\n"
     ]
    }
   ],
   "source": [
    "print(lasso_model_cv)\n",
    "print(lasso_model_cv.mean())"
   ]
  },
  {
   "cell_type": "code",
   "execution_count": 192,
   "metadata": {},
   "outputs": [
    {
     "data": {
      "text/plain": [
       "Lasso(alpha=203091, copy_X=True, fit_intercept=True, max_iter=1000,\n",
       "   normalize=False, positive=False, precompute=False, random_state=None,\n",
       "   selection='cyclic', tol=0.0001, warm_start=False)"
      ]
     },
     "execution_count": 192,
     "metadata": {},
     "output_type": "execute_result"
    }
   ],
   "source": [
    "lasso_model.fit(X,y)"
   ]
  },
  {
   "cell_type": "code",
   "execution_count": 193,
   "metadata": {},
   "outputs": [
    {
     "data": {
      "image/png": "[encoded data removed]",
      "text/plain": [
       "<Figure size 1440x360 with 2 Axes>"
      ]
     },
     "metadata": {},
     "output_type": "display_data"
    }
   ],
   "source": [
    "plt.figure(figsize=(20,5))\n",
    "\n",
    "# Fitted vs. Actual\n",
    "y_pred = lasso_model.predict(X)\n",
    "\n",
    "plt.subplot(1, 2, 1)\n",
    "plt.scatter(y, y_pred, alpha=0.25)\n",
    "plt.plot([0, 1000000000], [0, 1000000000])\n",
    "\n",
    "# Residuals\n",
    "lin_reg_residuals = y - y_pred\n",
    "\n",
    "plt.subplot(1, 2, 2)\n",
    "plt.scatter(y_pred, lin_reg_residuals, alpha=.2)\n",
    "plt.plot([0,500000000], [0, 0])\n",
    "plt.title(\"Residuals vs. Predictions\");"
   ]
  },
  {
   "cell_type": "code",
   "execution_count": 194,
   "metadata": {},
   "outputs": [
    {
     "data": {
      "text/plain": [
       "[('prod_budget', 13733206.298645632),\n",
       " ('series', 15089423.908056168),\n",
       " ('runtime', 16451190.70929989),\n",
       " ('PG', 1689421.8223785865),\n",
       " ('R', -9320269.381724995),\n",
       " ('PG-13', 1249417.5057293572),\n",
       " ('G', 0.0),\n",
       " ('action', -1043504.991775581),\n",
       " ('comedy', 6494089.627771135),\n",
       " ('drama', -793939.8958432823),\n",
       " ('horror', -1762545.7012209056),\n",
       " ('scifi/fantasy', 762935.203610733),\n",
       " ('romance', 1742747.8789618197),\n",
       " ('animation', 13127628.701075813),\n",
       " ('other', -3050184.912400073)]"
      ]
     },
     "execution_count": 194,
     "metadata": {},
     "output_type": "execute_result"
    }
   ],
   "source": [
    "# These are the coefficients when it refit using that best alpha\n",
    "list(zip(X_columns,lasso_model.coef_))"
   ]
  },
  {
   "cell_type": "markdown",
   "metadata": {},
   "source": [
    "### Model 5: Lasso CV"
   ]
  },
  {
   "cell_type": "code",
   "execution_count": 195,
   "metadata": {},
   "outputs": [
    {
     "data": {
      "text/plain": [
       "LassoCV(alphas=array([1.00000e-03, 2.89427e-03, 8.37678e-03, 2.42446e-02, 7.01704e-02,\n",
       "       2.03092e-01, 5.87802e-01, 1.70125e+00, 4.92388e+00, 1.42510e+01,\n",
       "       4.12463e+01, 1.19378e+02, 3.45511e+02, 1.00000e+03, 2.89427e+03,\n",
       "       8.37678e+03, 2.42446e+04, 7.01704e+04, 2.03092e+05, 5.87802e+05,\n",
       "       1.70125e+06, 4.92388e+06, 1.42510e+07, 4.12463e+07, 1.19378e+08,\n",
       "       3.45511e+08, 1.00000e+09]),\n",
       "    copy_X=True, cv=5, eps=0.001, fit_intercept=True, max_iter=1000,\n",
       "    n_alphas=100, n_jobs=1, normalize=False, positive=False,\n",
       "    precompute='auto', random_state=None, selection='cyclic', tol=0.0001,\n",
       "    verbose=False)"
      ]
     },
     "execution_count": 195,
     "metadata": {},
     "output_type": "execute_result"
    }
   ],
   "source": [
    "# Run the cross validation, find the best alpha, refit the model on all the data with that alpha\n",
    "\n",
    "alphavec = 10**np.linspace(-3,9,27)\n",
    "\n",
    "lr_model_4A = LassoCV(alphas = alphavec, cv=5)\n",
    "lr_model_4A.fit(X_scaled,y)"
   ]
  },
  {
   "cell_type": "code",
   "execution_count": 196,
   "metadata": {},
   "outputs": [
    {
     "data": {
      "text/plain": [
       "1701254.2798525926"
      ]
     },
     "execution_count": 196,
     "metadata": {},
     "output_type": "execute_result"
    }
   ],
   "source": [
    "# This is the best alpha value it found\n",
    "lr_model_4A.alpha_"
   ]
  },
  {
   "cell_type": "code",
   "execution_count": null,
   "metadata": {},
   "outputs": [],
   "source": []
  },
  {
   "cell_type": "code",
   "execution_count": null,
   "metadata": {},
   "outputs": [],
   "source": []
  }
 ],
 "metadata": {
  "kernelspec": {
   "display_name": "Python 3",
   "language": "python",
   "name": "python3"
  },
  "language_info": {
   "codemirror_mode": {
    "name": "ipython",
    "version": 3
   },
   "file_extension": ".py",
   "mimetype": "text/x-python",
   "name": "python",
   "nbconvert_exporter": "python",
   "pygments_lexer": "ipython3",
   "version": "3.6.5"
  }
 },
 "nbformat": 4,
 "nbformat_minor": 2
}
