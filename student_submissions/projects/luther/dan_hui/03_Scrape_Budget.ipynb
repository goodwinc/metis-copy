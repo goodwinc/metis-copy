{
 "cells": [
  {
   "cell_type": "code",
   "execution_count": 11,
   "metadata": {},
   "outputs": [],
   "source": [
    "from __future__ import print_function, division\n",
    "from bs4 import BeautifulSoup\n",
    "import requests\n",
    "import pandas as pd\n",
    "import numpy as np\n",
    "import matplotlib.pyplot as plt\n",
    "import collections\n",
    "import time"
   ]
  },
  {
   "cell_type": "code",
   "execution_count": 9,
   "metadata": {},
   "outputs": [],
   "source": [
    "# Create functions to apply to the dataframe\n",
    "def clean_text(row):                            #Extract Text\n",
    "    return row.text\n",
    "\n",
    "def clean_num(row):                             #Extract Number and strip non numerical parts\n",
    "    return row.text.replace('$','').replace(',','')"
   ]
  },
  {
   "cell_type": "code",
   "execution_count": 24,
   "metadata": {},
   "outputs": [],
   "source": [
    "counter = 1\n",
    "\n",
    "for k in range(0,6):\n",
    "    movie_data = []\n",
    "    for j in range(0,10):\n",
    "        response = requests.get('https://www.the-numbers.com/movie/budgets/all/{0}01'.format(k*10+j))\n",
    "        #print(response.status_code)            #print status code if necessary\n",
    "\n",
    "        webpage = response.text\n",
    "        soup = BeautifulSoup(webpage, \"lxml\")\n",
    "        rows_soup = soup.find_all('tr')         #this is the soup that contains just the rows I want\n",
    "\n",
    "        for i in range(1,len(rows_soup),2):     #the rows are formatted such that every other contains movie data\n",
    "            row_data = []\n",
    "            data_soup = rows_soup[i].find_all('td')\n",
    "            for data in data_soup:\n",
    "                row_data.append(data)\n",
    "            movie_data.append(row_data)\n",
    "\n",
    "        time.sleep(5)                            #this is a delay in the event there is throttling of website access\n",
    "\n",
    "    #turn big movie list into DataFrame\n",
    "    movie_df = pd.DataFrame(movie_data) \n",
    "\n",
    "    #Rename columns in the dataframe to the names in the table/chart\n",
    "    movie_df = movie_df.rename({0:'rank', 1: \"open_date\", 2: \"title\", 3: \"prod_budget\", \n",
    "                                4:'domestic', 5: \"worldwide\"}, axis='columns')\n",
    "\n",
    "    movie_df['rank']=movie_df['rank'].apply(clean_text)\n",
    "    movie_df['open_date']=movie_df['open_date'].apply(clean_text)\n",
    "    movie_df['title']=movie_df['title'].apply(clean_text)\n",
    "    movie_df['prod_budget']=movie_df['prod_budget'].apply(clean_num)\n",
    "    movie_df['domestic']=movie_df['domestic'].apply(clean_num)\n",
    "    movie_df['worldwide']=movie_df['worldwide'].apply(clean_num)\n",
    "\n",
    "    #Save CSV with filename 'year_movies.csv'\n",
    "    movie_df.to_csv('../04_Data/budget_{}.csv'.format(counter)) \n",
    "    counter = counter + 1"
   ]
  }
 ],
 "metadata": {
  "kernelspec": {
   "display_name": "Python 3",
   "language": "python",
   "name": "python3"
  },
  "language_info": {
   "codemirror_mode": {
    "name": "ipython",
    "version": 3
   },
   "file_extension": ".py",
   "mimetype": "text/x-python",
   "name": "python",
   "nbconvert_exporter": "python",
   "pygments_lexer": "ipython3",
   "version": "3.6.5"
  }
 },
 "nbformat": 4,
 "nbformat_minor": 2
}
