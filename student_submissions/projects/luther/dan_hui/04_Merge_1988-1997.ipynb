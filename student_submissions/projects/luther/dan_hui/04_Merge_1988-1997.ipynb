{
 "cells": [
  {
   "cell_type": "code",
   "execution_count": 1,
   "metadata": {},
   "outputs": [],
   "source": [
    "import pandas as pd\n",
    "import numpy as np\n",
    "from datetime import datetime\n",
    "import re\n",
    "pd.set_option('display.float_format', lambda x: '%.2f' % x)"
   ]
  },
  {
   "cell_type": "markdown",
   "metadata": {},
   "source": [
    "### Set Global Ranges and Variables"
   ]
  },
  {
   "cell_type": "code",
   "execution_count": 2,
   "metadata": {},
   "outputs": [],
   "source": [
    "#years = range(2008,2018)            #Comment in/out year ranges\n",
    "years = range(1988,1998)\n",
    "\n",
    "num_budget_files = 6                #total number of budget files to read"
   ]
  },
  {
   "cell_type": "markdown",
   "metadata": {},
   "source": [
    "### Set Definitions"
   ]
  },
  {
   "cell_type": "code",
   "execution_count": 3,
   "metadata": {},
   "outputs": [],
   "source": [
    "#clean time from movie data\n",
    "def clean_time(row):   \n",
    "    try:\n",
    "        return datetime.strptime(row, '%B %d, %Y')\n",
    "    except: pass    \n",
    "\n",
    "def clean_time_2(row):\n",
    "    try:\n",
    "        return datetime.strptime(row, \"%Y-%m-%d\")\n",
    "    except: pass    \n",
    "\n",
    "#create unique ID from movie open date and title\n",
    "def trunc(row, characters):\n",
    "    try:\n",
    "        row = str(row)    #cast to string\n",
    "        return row[:characters]\n",
    "    except:\n",
    "        return row\n",
    "\n",
    "#create unique ID from movie open date and title\n",
    "def trunc_end(row, characters):\n",
    "    try:\n",
    "        return row[-characters:]\n",
    "    except:\n",
    "        return row\n",
    "\n",
    "#create unique ID from movie open date and title\n",
    "def time2string(row):\n",
    "    try:\n",
    "        return row.strftime('%Y-%m-%d')\n",
    "    except: pass\n",
    "    \n",
    "#create unique ID from movie open date and title\n",
    "def time2monthyearstring(row):\n",
    "    try:\n",
    "        return row.strftime('%Y-%m')\n",
    "    except: pass\n",
    "    \n",
    "#remove (YEAR) formatting\n",
    "def remove_year(row):\n",
    "    return row.split(' (')[0]\n",
    "\n"
   ]
  },
  {
   "cell_type": "markdown",
   "metadata": {},
   "source": [
    "### Read In Data"
   ]
  },
  {
   "cell_type": "code",
   "execution_count": 4,
   "metadata": {},
   "outputs": [],
   "source": [
    "#first read the annual list of movies, starting the the first year's set\n",
    "year_df = pd.read_csv('../04_Data/{}_movies.csv'.format(years[0]), index_col=0)\n",
    "\n",
    "#then concatenate the remaining 9 years together\n",
    "for year in years[1:]:\n",
    "    temp_df = pd.read_csv('../04_Data/{}_movies.csv'.format(year), index_col=0)\n",
    "    year_df = pd.concat([year_df,temp_df])\n",
    "    \n",
    "#Clean Datetime\n",
    "year_df[\"open_date\"] = year_df[\"open_date\"].apply(clean_time_2)"
   ]
  },
  {
   "cell_type": "code",
   "execution_count": 5,
   "metadata": {},
   "outputs": [],
   "source": [
    "#read the movie detail data, starting with the first year's set\n",
    "movie_df = pd.read_csv('../04_Data/{}_movies_detail.csv'.format(years[0]), index_col=0)\n",
    "\n",
    "#then concatenate the remaining 9 years together\n",
    "for year in years[1:]:\n",
    "    temp_df = pd.read_csv('../04_Data/{}_movies_detail.csv'.format(year), index_col=0)\n",
    "    movie_df = pd.concat([movie_df, temp_df])\n",
    "    \n",
    "#Clean date time from movie dataframe\n",
    "movie_df[\"new_close\"] = movie_df[\"close\"].apply(clean_time)"
   ]
  },
  {
   "cell_type": "code",
   "execution_count": 6,
   "metadata": {},
   "outputs": [],
   "source": [
    "#Read in the budget data\n",
    "budget_df = pd.read_csv('../04_Data/budget_1.csv', index_col=0, parse_dates=['open_date'])\n",
    "\n",
    "#concatenate remaining data together\n",
    "for k in range(2,(num_budget_files+1)):                              #Use variable to set # of files to read\n",
    "    temp_df = pd.read_csv('../04_Data/budget_{}.csv'.format(k), index_col=0, parse_dates=['open_date'])\n",
    "    budget_df = pd.concat([budget_df, temp_df])\n",
    "\n",
    "#isolate useful data\n",
    "budget_df = budget_df.drop([\"rank\",\"worldwide\"],axis=1)   #drop unecessary columns\n",
    "budget_df = budget_df[budget_df['open_date'] >= datetime(years[0], 1, 1,0,0)]    #only incl. after the start year\n",
    "budget_df = budget_df[budget_df['open_date'] <= datetime(years[-1], 12, 31,0,0)] #only incl. before the end of last year\n",
    "\n",
    "budget_df = budget_df[budget_df['domestic'] > 10000]     #only include movies that grossed at least $10K\n",
    "\n",
    "budget_df = budget_df.rename(index=str, columns={'open_date':'open'})"
   ]
  },
  {
   "cell_type": "markdown",
   "metadata": {},
   "source": [
    "### Inspect Data"
   ]
  },
  {
   "cell_type": "code",
   "execution_count": 429,
   "metadata": {},
   "outputs": [
    {
     "data": {
      "text/html": [
       "<div>\n",
       "<style scoped>\n",
       "    .dataframe tbody tr th:only-of-type {\n",
       "        vertical-align: middle;\n",
       "    }\n",
       "\n",
       "    .dataframe tbody tr th {\n",
       "        vertical-align: top;\n",
       "    }\n",
       "\n",
       "    .dataframe thead th {\n",
       "        text-align: right;\n",
       "    }\n",
       "</style>\n",
       "<table border=\"1\" class=\"dataframe\">\n",
       "  <thead>\n",
       "    <tr style=\"text-align: right;\">\n",
       "      <th></th>\n",
       "      <th>rank</th>\n",
       "      <th>studio</th>\n",
       "      <th>total_box</th>\n",
       "      <th>max_sites</th>\n",
       "      <th>open_box</th>\n",
       "      <th>open_sites</th>\n",
       "      <th>open_date</th>\n",
       "      <th>url</th>\n",
       "      <th>title</th>\n",
       "    </tr>\n",
       "  </thead>\n",
       "  <tbody>\n",
       "    <tr>\n",
       "      <th>0</th>\n",
       "      <td>1</td>\n",
       "      <td>MGM</td>\n",
       "      <td>172825435</td>\n",
       "      <td>1590.00</td>\n",
       "      <td>7005719.00</td>\n",
       "      <td>1248.00</td>\n",
       "      <td>1988-12-16</td>\n",
       "      <td>/movies/?id=rainman.htm</td>\n",
       "      <td>Rain Man</td>\n",
       "    </tr>\n",
       "    <tr>\n",
       "      <th>1</th>\n",
       "      <td>2</td>\n",
       "      <td>BV</td>\n",
       "      <td>156452370</td>\n",
       "      <td>1598.00</td>\n",
       "      <td>11226239.00</td>\n",
       "      <td>1045.00</td>\n",
       "      <td>1988-06-24</td>\n",
       "      <td>/movies/?id=whoframedrogerrabbit.htm</td>\n",
       "      <td>Who Framed Roger Rabbit</td>\n",
       "    </tr>\n",
       "    <tr>\n",
       "      <th>2</th>\n",
       "      <td>3</td>\n",
       "      <td>Par.</td>\n",
       "      <td>128152301</td>\n",
       "      <td>2064.00</td>\n",
       "      <td>21404420.00</td>\n",
       "      <td>2064.00</td>\n",
       "      <td>1988-06-29</td>\n",
       "      <td>/movies/?id=comingtoamerica.htm</td>\n",
       "      <td>Coming to America</td>\n",
       "    </tr>\n",
       "    <tr>\n",
       "      <th>3</th>\n",
       "      <td>4</td>\n",
       "      <td>Fox</td>\n",
       "      <td>114968774</td>\n",
       "      <td>1419.00</td>\n",
       "      <td>8216190.00</td>\n",
       "      <td>1132.00</td>\n",
       "      <td>1988-06-03</td>\n",
       "      <td>/movies/?id=big.htm</td>\n",
       "      <td>Big</td>\n",
       "    </tr>\n",
       "    <tr>\n",
       "      <th>4</th>\n",
       "      <td>5</td>\n",
       "      <td>Uni.</td>\n",
       "      <td>111938388</td>\n",
       "      <td>1659.00</td>\n",
       "      <td>11174980.00</td>\n",
       "      <td>1396.00</td>\n",
       "      <td>1988-12-09</td>\n",
       "      <td>/movies/?id=twins.htm</td>\n",
       "      <td>Twins</td>\n",
       "    </tr>\n",
       "  </tbody>\n",
       "</table>\n",
       "</div>"
      ],
      "text/plain": [
       "   rank studio  total_box  max_sites    open_box  open_sites  open_date  \\\n",
       "0     1    MGM  172825435    1590.00  7005719.00     1248.00 1988-12-16   \n",
       "1     2     BV  156452370    1598.00 11226239.00     1045.00 1988-06-24   \n",
       "2     3   Par.  128152301    2064.00 21404420.00     2064.00 1988-06-29   \n",
       "3     4    Fox  114968774    1419.00  8216190.00     1132.00 1988-06-03   \n",
       "4     5   Uni.  111938388    1659.00 11174980.00     1396.00 1988-12-09   \n",
       "\n",
       "                                    url                    title  \n",
       "0               /movies/?id=rainman.htm                 Rain Man  \n",
       "1  /movies/?id=whoframedrogerrabbit.htm  Who Framed Roger Rabbit  \n",
       "2       /movies/?id=comingtoamerica.htm        Coming to America  \n",
       "3                   /movies/?id=big.htm                      Big  \n",
       "4                 /movies/?id=twins.htm                    Twins  "
      ]
     },
     "execution_count": 429,
     "metadata": {},
     "output_type": "execute_result"
    }
   ],
   "source": [
    "#Yearly Movie Data\n",
    "year_df.head(5)"
   ]
  },
  {
   "cell_type": "code",
   "execution_count": 430,
   "metadata": {},
   "outputs": [
    {
     "data": {
      "text/plain": [
       "(2000, 9)"
      ]
     },
     "execution_count": 430,
     "metadata": {},
     "output_type": "execute_result"
    }
   ],
   "source": [
    "year_df.shape"
   ]
  },
  {
   "cell_type": "code",
   "execution_count": 431,
   "metadata": {},
   "outputs": [
    {
     "data": {
      "text/html": [
       "<div>\n",
       "<style scoped>\n",
       "    .dataframe tbody tr th:only-of-type {\n",
       "        vertical-align: middle;\n",
       "    }\n",
       "\n",
       "    .dataframe tbody tr th {\n",
       "        vertical-align: top;\n",
       "    }\n",
       "\n",
       "    .dataframe thead th {\n",
       "        text-align: right;\n",
       "    }\n",
       "</style>\n",
       "<table border=\"1\" class=\"dataframe\">\n",
       "  <thead>\n",
       "    <tr style=\"text-align: right;\">\n",
       "      <th></th>\n",
       "      <th>url</th>\n",
       "      <th>worldwide gross</th>\n",
       "      <th>mpaa</th>\n",
       "      <th>budget</th>\n",
       "      <th>genre</th>\n",
       "      <th>runtime</th>\n",
       "      <th>close</th>\n",
       "      <th>rundays</th>\n",
       "      <th>3d</th>\n",
       "      <th>imax</th>\n",
       "      <th>series</th>\n",
       "      <th>new_close</th>\n",
       "    </tr>\n",
       "  </thead>\n",
       "  <tbody>\n",
       "    <tr>\n",
       "      <th>0</th>\n",
       "      <td>/movies/?id=rainman.htm</td>\n",
       "      <td>354825435.00</td>\n",
       "      <td>R</td>\n",
       "      <td>$25 million</td>\n",
       "      <td>Drama</td>\n",
       "      <td>133.00</td>\n",
       "      <td>NaN</td>\n",
       "      <td>NaN</td>\n",
       "      <td>0</td>\n",
       "      <td>0</td>\n",
       "      <td>0</td>\n",
       "      <td>NaT</td>\n",
       "    </tr>\n",
       "    <tr>\n",
       "      <th>1</th>\n",
       "      <td>/movies/?id=whoframedrogerrabbit.htm</td>\n",
       "      <td>329803958.00</td>\n",
       "      <td>PG</td>\n",
       "      <td>$70 million</td>\n",
       "      <td>Fantasy Comedy</td>\n",
       "      <td>103.00</td>\n",
       "      <td>NaN</td>\n",
       "      <td>NaN</td>\n",
       "      <td>0</td>\n",
       "      <td>0</td>\n",
       "      <td>0</td>\n",
       "      <td>NaT</td>\n",
       "    </tr>\n",
       "    <tr>\n",
       "      <th>2</th>\n",
       "      <td>/movies/?id=comingtoamerica.htm</td>\n",
       "      <td>288752301.00</td>\n",
       "      <td>R</td>\n",
       "      <td>NaN</td>\n",
       "      <td>Romantic Comedy</td>\n",
       "      <td>116.00</td>\n",
       "      <td>December 1, 1988</td>\n",
       "      <td>NaN</td>\n",
       "      <td>0</td>\n",
       "      <td>0</td>\n",
       "      <td>0</td>\n",
       "      <td>1988-12-01</td>\n",
       "    </tr>\n",
       "    <tr>\n",
       "      <th>3</th>\n",
       "      <td>/movies/?id=big.htm</td>\n",
       "      <td>151668774.00</td>\n",
       "      <td>PG</td>\n",
       "      <td>NaN</td>\n",
       "      <td>Fantasy Comedy</td>\n",
       "      <td>104.00</td>\n",
       "      <td>NaN</td>\n",
       "      <td>NaN</td>\n",
       "      <td>0</td>\n",
       "      <td>0</td>\n",
       "      <td>0</td>\n",
       "      <td>NaT</td>\n",
       "    </tr>\n",
       "    <tr>\n",
       "      <th>4</th>\n",
       "      <td>/movies/?id=twins.htm</td>\n",
       "      <td>216614388.00</td>\n",
       "      <td>PG</td>\n",
       "      <td>$15 million</td>\n",
       "      <td>Comedy</td>\n",
       "      <td>105.00</td>\n",
       "      <td>NaN</td>\n",
       "      <td>NaN</td>\n",
       "      <td>0</td>\n",
       "      <td>0</td>\n",
       "      <td>0</td>\n",
       "      <td>NaT</td>\n",
       "    </tr>\n",
       "  </tbody>\n",
       "</table>\n",
       "</div>"
      ],
      "text/plain": [
       "                                    url  worldwide gross mpaa       budget  \\\n",
       "0               /movies/?id=rainman.htm     354825435.00    R  $25 million   \n",
       "1  /movies/?id=whoframedrogerrabbit.htm     329803958.00   PG  $70 million   \n",
       "2       /movies/?id=comingtoamerica.htm     288752301.00    R          NaN   \n",
       "3                   /movies/?id=big.htm     151668774.00   PG          NaN   \n",
       "4                 /movies/?id=twins.htm     216614388.00   PG  $15 million   \n",
       "\n",
       "             genre  runtime             close rundays  3d  imax  series  \\\n",
       "0            Drama   133.00               NaN     NaN   0     0       0   \n",
       "1   Fantasy Comedy   103.00               NaN     NaN   0     0       0   \n",
       "2  Romantic Comedy   116.00  December 1, 1988     NaN   0     0       0   \n",
       "3   Fantasy Comedy   104.00               NaN     NaN   0     0       0   \n",
       "4           Comedy   105.00               NaN     NaN   0     0       0   \n",
       "\n",
       "   new_close  \n",
       "0        NaT  \n",
       "1        NaT  \n",
       "2 1988-12-01  \n",
       "3        NaT  \n",
       "4        NaT  "
      ]
     },
     "execution_count": 431,
     "metadata": {},
     "output_type": "execute_result"
    }
   ],
   "source": [
    "#Movie Detail\n",
    "movie_df.head(5)"
   ]
  },
  {
   "cell_type": "code",
   "execution_count": 432,
   "metadata": {},
   "outputs": [
    {
     "data": {
      "text/plain": [
       "(2000, 12)"
      ]
     },
     "execution_count": 432,
     "metadata": {},
     "output_type": "execute_result"
    }
   ],
   "source": [
    "movie_df.shape"
   ]
  },
  {
   "cell_type": "code",
   "execution_count": 433,
   "metadata": {},
   "outputs": [
    {
     "data": {
      "text/html": [
       "<div>\n",
       "<style scoped>\n",
       "    .dataframe tbody tr th:only-of-type {\n",
       "        vertical-align: middle;\n",
       "    }\n",
       "\n",
       "    .dataframe tbody tr th {\n",
       "        vertical-align: top;\n",
       "    }\n",
       "\n",
       "    .dataframe thead th {\n",
       "        text-align: right;\n",
       "    }\n",
       "</style>\n",
       "<table border=\"1\" class=\"dataframe\">\n",
       "  <thead>\n",
       "    <tr style=\"text-align: right;\">\n",
       "      <th></th>\n",
       "      <th>open</th>\n",
       "      <th>title</th>\n",
       "      <th>prod_budget</th>\n",
       "      <th>domestic</th>\n",
       "    </tr>\n",
       "  </thead>\n",
       "  <tbody>\n",
       "    <tr>\n",
       "      <th>41</th>\n",
       "      <td>1997-12-19</td>\n",
       "      <td>Titanic</td>\n",
       "      <td>200000000</td>\n",
       "      <td>659363944</td>\n",
       "    </tr>\n",
       "    <tr>\n",
       "      <th>102</th>\n",
       "      <td>1995-07-28</td>\n",
       "      <td>Waterworld</td>\n",
       "      <td>175000000</td>\n",
       "      <td>88246220</td>\n",
       "    </tr>\n",
       "    <tr>\n",
       "      <th>262</th>\n",
       "      <td>1997-06-20</td>\n",
       "      <td>Batman &amp; Robin</td>\n",
       "      <td>125000000</td>\n",
       "      <td>107325195</td>\n",
       "    </tr>\n",
       "    <tr>\n",
       "      <th>293</th>\n",
       "      <td>1997-02-07</td>\n",
       "      <td>Dante's Peak</td>\n",
       "      <td>115000000</td>\n",
       "      <td>67163857</td>\n",
       "    </tr>\n",
       "    <tr>\n",
       "      <th>308</th>\n",
       "      <td>1997-12-19</td>\n",
       "      <td>Tomorrow Never Dies</td>\n",
       "      <td>110000000</td>\n",
       "      <td>125304276</td>\n",
       "    </tr>\n",
       "  </tbody>\n",
       "</table>\n",
       "</div>"
      ],
      "text/plain": [
       "          open                title  prod_budget   domestic\n",
       "41  1997-12-19              Titanic    200000000  659363944\n",
       "102 1995-07-28           Waterworld    175000000   88246220\n",
       "262 1997-06-20       Batman & Robin    125000000  107325195\n",
       "293 1997-02-07         Dante's Peak    115000000   67163857\n",
       "308 1997-12-19  Tomorrow Never Dies    110000000  125304276"
      ]
     },
     "execution_count": 433,
     "metadata": {},
     "output_type": "execute_result"
    }
   ],
   "source": [
    "#Budget\n",
    "budget_df.head(5)"
   ]
  },
  {
   "cell_type": "code",
   "execution_count": 434,
   "metadata": {},
   "outputs": [
    {
     "data": {
      "text/plain": [
       "(547, 4)"
      ]
     },
     "execution_count": 434,
     "metadata": {},
     "output_type": "execute_result"
    }
   ],
   "source": [
    "budget_df.shape"
   ]
  },
  {
   "cell_type": "markdown",
   "metadata": {},
   "source": [
    "### Merge Movies by Year and Movie Tables Together"
   ]
  },
  {
   "cell_type": "code",
   "execution_count": 435,
   "metadata": {},
   "outputs": [],
   "source": [
    "#Merge the movie year + movie details lists together using the unique URL\n",
    "detail_df = pd.merge(year_df, movie_df, on='url', how='left')\n",
    "\n",
    "#re-organize tables to be a little cleaner and leave out uneeded columns\n",
    "detail_df = detail_df[[\"title\",'mpaa',\"open_date\",\"total_box\",'open_box',\n",
    "                     'worldwide gross','genre','runtime','rundays','3d', 'imax', 'series', 'max_sites']]\n",
    "\n",
    "#rename columns for readability\n",
    "detail_df = detail_df.rename(index=str, columns={\"open_date\": \"open\", \"total_box\": 'usa_box', \n",
    "                              \"open_box\": 'usa_open', \"worldwide gross\": \"intl_box\", \"max_sites\":'theaters' })"
   ]
  },
  {
   "cell_type": "code",
   "execution_count": 436,
   "metadata": {},
   "outputs": [
    {
     "data": {
      "text/html": [
       "<div>\n",
       "<style scoped>\n",
       "    .dataframe tbody tr th:only-of-type {\n",
       "        vertical-align: middle;\n",
       "    }\n",
       "\n",
       "    .dataframe tbody tr th {\n",
       "        vertical-align: top;\n",
       "    }\n",
       "\n",
       "    .dataframe thead th {\n",
       "        text-align: right;\n",
       "    }\n",
       "</style>\n",
       "<table border=\"1\" class=\"dataframe\">\n",
       "  <thead>\n",
       "    <tr style=\"text-align: right;\">\n",
       "      <th></th>\n",
       "      <th>title</th>\n",
       "      <th>mpaa</th>\n",
       "      <th>open</th>\n",
       "      <th>usa_box</th>\n",
       "      <th>usa_open</th>\n",
       "      <th>intl_box</th>\n",
       "      <th>genre</th>\n",
       "      <th>runtime</th>\n",
       "      <th>rundays</th>\n",
       "      <th>3d</th>\n",
       "      <th>imax</th>\n",
       "      <th>series</th>\n",
       "      <th>theaters</th>\n",
       "    </tr>\n",
       "  </thead>\n",
       "  <tbody>\n",
       "    <tr>\n",
       "      <th>0</th>\n",
       "      <td>Rain Man</td>\n",
       "      <td>R</td>\n",
       "      <td>1988-12-16</td>\n",
       "      <td>172825435</td>\n",
       "      <td>7005719.00</td>\n",
       "      <td>354825435.00</td>\n",
       "      <td>Drama</td>\n",
       "      <td>133.00</td>\n",
       "      <td>NaN</td>\n",
       "      <td>0</td>\n",
       "      <td>0</td>\n",
       "      <td>0</td>\n",
       "      <td>1590.00</td>\n",
       "    </tr>\n",
       "    <tr>\n",
       "      <th>1</th>\n",
       "      <td>Who Framed Roger Rabbit</td>\n",
       "      <td>PG</td>\n",
       "      <td>1988-06-24</td>\n",
       "      <td>156452370</td>\n",
       "      <td>11226239.00</td>\n",
       "      <td>329803958.00</td>\n",
       "      <td>Fantasy Comedy</td>\n",
       "      <td>103.00</td>\n",
       "      <td>NaN</td>\n",
       "      <td>0</td>\n",
       "      <td>0</td>\n",
       "      <td>0</td>\n",
       "      <td>1598.00</td>\n",
       "    </tr>\n",
       "  </tbody>\n",
       "</table>\n",
       "</div>"
      ],
      "text/plain": [
       "                     title mpaa       open    usa_box    usa_open  \\\n",
       "0                 Rain Man    R 1988-12-16  172825435  7005719.00   \n",
       "1  Who Framed Roger Rabbit   PG 1988-06-24  156452370 11226239.00   \n",
       "\n",
       "      intl_box           genre  runtime rundays  3d  imax  series  theaters  \n",
       "0 354825435.00           Drama   133.00     NaN   0     0       0   1590.00  \n",
       "1 329803958.00  Fantasy Comedy   103.00     NaN   0     0       0   1598.00  "
      ]
     },
     "execution_count": 436,
     "metadata": {},
     "output_type": "execute_result"
    }
   ],
   "source": [
    "#take a look\n",
    "detail_df.head(2)"
   ]
  },
  {
   "cell_type": "markdown",
   "metadata": {},
   "source": [
    "### Check for Duplicates"
   ]
  },
  {
   "cell_type": "code",
   "execution_count": 437,
   "metadata": {},
   "outputs": [
    {
     "data": {
      "text/html": [
       "<div>\n",
       "<style scoped>\n",
       "    .dataframe tbody tr th:only-of-type {\n",
       "        vertical-align: middle;\n",
       "    }\n",
       "\n",
       "    .dataframe tbody tr th {\n",
       "        vertical-align: top;\n",
       "    }\n",
       "\n",
       "    .dataframe thead th {\n",
       "        text-align: right;\n",
       "    }\n",
       "</style>\n",
       "<table border=\"1\" class=\"dataframe\">\n",
       "  <thead>\n",
       "    <tr style=\"text-align: right;\">\n",
       "      <th></th>\n",
       "      <th>title</th>\n",
       "      <th>mpaa</th>\n",
       "    </tr>\n",
       "  </thead>\n",
       "  <tbody>\n",
       "    <tr>\n",
       "      <th>0</th>\n",
       "      <td>101 Dalmatians (1996)</td>\n",
       "      <td>1</td>\n",
       "    </tr>\n",
       "    <tr>\n",
       "      <th>1329</th>\n",
       "      <td>Seven</td>\n",
       "      <td>1</td>\n",
       "    </tr>\n",
       "  </tbody>\n",
       "</table>\n",
       "</div>"
      ],
      "text/plain": [
       "                      title  mpaa\n",
       "0     101 Dalmatians (1996)     1\n",
       "1329                  Seven     1"
      ]
     },
     "execution_count": 437,
     "metadata": {},
     "output_type": "execute_result"
    }
   ],
   "source": [
    "#check to see if there are any movie table duplicates. There are not. \n",
    "temp_df = detail_df.groupby([\"title\"])['mpaa'].count()\n",
    "temp_df = temp_df.reset_index()\n",
    "temp_df.sort_values(['mpaa'],ascending=False).head(2)"
   ]
  },
  {
   "cell_type": "code",
   "execution_count": 438,
   "metadata": {},
   "outputs": [
    {
     "data": {
      "text/html": [
       "<div>\n",
       "<style scoped>\n",
       "    .dataframe tbody tr th:only-of-type {\n",
       "        vertical-align: middle;\n",
       "    }\n",
       "\n",
       "    .dataframe tbody tr th {\n",
       "        vertical-align: top;\n",
       "    }\n",
       "\n",
       "    .dataframe thead th {\n",
       "        text-align: right;\n",
       "    }\n",
       "</style>\n",
       "<table border=\"1\" class=\"dataframe\">\n",
       "  <thead>\n",
       "    <tr style=\"text-align: right;\">\n",
       "      <th></th>\n",
       "      <th>title</th>\n",
       "      <th>open</th>\n",
       "      <th>prod_budget</th>\n",
       "    </tr>\n",
       "  </thead>\n",
       "  <tbody>\n",
       "    <tr>\n",
       "      <th>0</th>\n",
       "      <td>3 Ninjas Kick Back</td>\n",
       "      <td>1994-05-06</td>\n",
       "      <td>1</td>\n",
       "    </tr>\n",
       "    <tr>\n",
       "      <th>367</th>\n",
       "      <td>Sling Blade</td>\n",
       "      <td>1996-11-20</td>\n",
       "      <td>1</td>\n",
       "    </tr>\n",
       "  </tbody>\n",
       "</table>\n",
       "</div>"
      ],
      "text/plain": [
       "                  title       open  prod_budget\n",
       "0    3 Ninjas Kick Back 1994-05-06            1\n",
       "367         Sling Blade 1996-11-20            1"
      ]
     },
     "execution_count": 438,
     "metadata": {},
     "output_type": "execute_result"
    }
   ],
   "source": [
    "#check to see if there are any budget table duplicates on title and open. There are not. \n",
    "temp_df = budget_df.groupby([\"title\",\"open\"])['prod_budget'].count()\n",
    "temp_df = temp_df.reset_index()\n",
    "temp_df.sort_values(['prod_budget'],ascending=False).head(2)"
   ]
  },
  {
   "cell_type": "markdown",
   "metadata": {},
   "source": [
    "### Merge Movie and Budget Tables\n",
    "\n",
    "The Movie table is from BoxOfficeMojo.com and the Budget table is from The-Numbers.com, and there are inconsistencies in how the movies are named. For example, the same movie is called 'Star Wars: The Last Jedi on BoxOfficeMojo and 'Star Wars Ep. VII: The Last Jedi' on The-Numbers. \"Tyler Perry's Meet the Browns\" on BoxOfficeMojo is \"Meet the Browns\" on The-Numbers. Also, \"Under the Same Moon\" on BoxOfficeMojo is \"La misma luna\" on The-Numbers\n",
    "\n",
    "Due to the variety of differences in the data, I will try a range of strategies to create unique matches from one table to the others. "
   ]
  },
  {
   "cell_type": "markdown",
   "metadata": {},
   "source": [
    "__Merge 1: Unique ID Using Release Date + Forward Title Fragment__"
   ]
  },
  {
   "cell_type": "code",
   "execution_count": 439,
   "metadata": {},
   "outputs": [],
   "source": [
    "#Create Unique ID from the opening day + the first 5 characters of the title. This is a preferred \n",
    "#route over matching to just the movie title because movies are named differently on BoxOfficeMojo vs The Numbers\n",
    "budget_df[\"id\"] = budget_df[\"open\"].apply(time2monthyearstring) + budget_df[\"title\"].apply(trunc,characters=9)\n",
    "detail_df[\"id\"] = detail_df[\"open\"].apply(time2monthyearstring) + detail_df[\"title\"].apply(trunc,characters=9)"
   ]
  },
  {
   "cell_type": "code",
   "execution_count": 440,
   "metadata": {},
   "outputs": [
    {
     "data": {
      "text/html": [
       "<div>\n",
       "<style scoped>\n",
       "    .dataframe tbody tr th:only-of-type {\n",
       "        vertical-align: middle;\n",
       "    }\n",
       "\n",
       "    .dataframe tbody tr th {\n",
       "        vertical-align: top;\n",
       "    }\n",
       "\n",
       "    .dataframe thead th {\n",
       "        text-align: right;\n",
       "    }\n",
       "</style>\n",
       "<table border=\"1\" class=\"dataframe\">\n",
       "  <thead>\n",
       "    <tr style=\"text-align: right;\">\n",
       "      <th></th>\n",
       "      <th>id</th>\n",
       "      <th>title</th>\n",
       "    </tr>\n",
       "  </thead>\n",
       "  <tbody>\n",
       "    <tr>\n",
       "      <th>0</th>\n",
       "      <td>1988-01Return of</td>\n",
       "      <td>1</td>\n",
       "    </tr>\n",
       "    <tr>\n",
       "      <th>367</th>\n",
       "      <td>1996-05Spy Hard</td>\n",
       "      <td>1</td>\n",
       "    </tr>\n",
       "  </tbody>\n",
       "</table>\n",
       "</div>"
      ],
      "text/plain": [
       "                   id  title\n",
       "0    1988-01Return of      1\n",
       "367   1996-05Spy Hard      1"
      ]
     },
     "execution_count": 440,
     "metadata": {},
     "output_type": "execute_result"
    }
   ],
   "source": [
    "#check to see if the budget keys are unique. They are!  \n",
    "temp_df = budget_df.groupby([\"id\"])['title'].count()\n",
    "temp_df = temp_df.reset_index()\n",
    "temp_df.sort_values(['title'],ascending=False).head(2)"
   ]
  },
  {
   "cell_type": "code",
   "execution_count": 441,
   "metadata": {},
   "outputs": [
    {
     "data": {
      "text/html": [
       "<div>\n",
       "<style scoped>\n",
       "    .dataframe tbody tr th:only-of-type {\n",
       "        vertical-align: middle;\n",
       "    }\n",
       "\n",
       "    .dataframe tbody tr th {\n",
       "        vertical-align: top;\n",
       "    }\n",
       "\n",
       "    .dataframe thead th {\n",
       "        text-align: right;\n",
       "    }\n",
       "</style>\n",
       "<table border=\"1\" class=\"dataframe\">\n",
       "  <thead>\n",
       "    <tr style=\"text-align: right;\">\n",
       "      <th></th>\n",
       "      <th>id</th>\n",
       "      <th>title</th>\n",
       "    </tr>\n",
       "  </thead>\n",
       "  <tbody>\n",
       "    <tr>\n",
       "      <th>0</th>\n",
       "      <td>1988-01Braddock:</td>\n",
       "      <td>1</td>\n",
       "    </tr>\n",
       "    <tr>\n",
       "      <th>1319</th>\n",
       "      <td>1994-09Quiz Show</td>\n",
       "      <td>1</td>\n",
       "    </tr>\n",
       "  </tbody>\n",
       "</table>\n",
       "</div>"
      ],
      "text/plain": [
       "                    id  title\n",
       "0     1988-01Braddock:      1\n",
       "1319  1994-09Quiz Show      1"
      ]
     },
     "execution_count": 441,
     "metadata": {},
     "output_type": "execute_result"
    }
   ],
   "source": [
    "#check to see if the movie keys are unique. They are!  \n",
    "temp_df = detail_df.groupby([\"id\"])['title'].count()\n",
    "temp_df = temp_df.reset_index()\n",
    "temp_df.sort_values(['title'],ascending=False).head(2)"
   ]
  },
  {
   "cell_type": "code",
   "execution_count": 442,
   "metadata": {},
   "outputs": [],
   "source": [
    "#Merge!! \n",
    "temp_df = pd.merge(detail_df, budget_df, on='id', how='outer')"
   ]
  },
  {
   "cell_type": "code",
   "execution_count": 443,
   "metadata": {},
   "outputs": [],
   "source": [
    "#This contains the movies that matched to a budget via 'ID' as a unique ID\n",
    "group_1_df = temp_df[temp_df[\"prod_budget\"].notnull() & temp_df[\"title_x\"].notnull()]  \n",
    "group_1_df = group_1_df.rename(index=str, columns={'title_x':'title','open_x':'open'})\n",
    "group_1_df = group_1_df[[\"title\",\"mpaa\",\"open\",\"usa_box\",\"usa_open\",\"intl_box\",\"genre\",\"runtime\",\n",
    "                         \"rundays\",\"3d\",\"imax\",\"series\",\"theaters\",\"prod_budget\"]]"
   ]
  },
  {
   "cell_type": "code",
   "execution_count": 444,
   "metadata": {},
   "outputs": [
    {
     "data": {
      "text/html": [
       "<div>\n",
       "<style scoped>\n",
       "    .dataframe tbody tr th:only-of-type {\n",
       "        vertical-align: middle;\n",
       "    }\n",
       "\n",
       "    .dataframe tbody tr th {\n",
       "        vertical-align: top;\n",
       "    }\n",
       "\n",
       "    .dataframe thead th {\n",
       "        text-align: right;\n",
       "    }\n",
       "</style>\n",
       "<table border=\"1\" class=\"dataframe\">\n",
       "  <thead>\n",
       "    <tr style=\"text-align: right;\">\n",
       "      <th></th>\n",
       "      <th>title</th>\n",
       "      <th>mpaa</th>\n",
       "      <th>open</th>\n",
       "      <th>usa_box</th>\n",
       "      <th>usa_open</th>\n",
       "      <th>intl_box</th>\n",
       "      <th>genre</th>\n",
       "      <th>runtime</th>\n",
       "      <th>rundays</th>\n",
       "      <th>3d</th>\n",
       "      <th>imax</th>\n",
       "      <th>series</th>\n",
       "      <th>theaters</th>\n",
       "      <th>prod_budget</th>\n",
       "    </tr>\n",
       "  </thead>\n",
       "  <tbody>\n",
       "    <tr>\n",
       "      <th>0</th>\n",
       "      <td>Rain Man</td>\n",
       "      <td>R</td>\n",
       "      <td>1988-12-16</td>\n",
       "      <td>172825435.00</td>\n",
       "      <td>7005719.00</td>\n",
       "      <td>354825435.00</td>\n",
       "      <td>Drama</td>\n",
       "      <td>133.00</td>\n",
       "      <td>NaN</td>\n",
       "      <td>0.00</td>\n",
       "      <td>0.00</td>\n",
       "      <td>0.00</td>\n",
       "      <td>1590.00</td>\n",
       "      <td>25000000.00</td>\n",
       "    </tr>\n",
       "    <tr>\n",
       "      <th>1</th>\n",
       "      <td>Who Framed Roger Rabbit</td>\n",
       "      <td>PG</td>\n",
       "      <td>1988-06-24</td>\n",
       "      <td>156452370.00</td>\n",
       "      <td>11226239.00</td>\n",
       "      <td>329803958.00</td>\n",
       "      <td>Fantasy Comedy</td>\n",
       "      <td>103.00</td>\n",
       "      <td>NaN</td>\n",
       "      <td>0.00</td>\n",
       "      <td>0.00</td>\n",
       "      <td>0.00</td>\n",
       "      <td>1598.00</td>\n",
       "      <td>70000000.00</td>\n",
       "    </tr>\n",
       "  </tbody>\n",
       "</table>\n",
       "</div>"
      ],
      "text/plain": [
       "                     title mpaa       open      usa_box    usa_open  \\\n",
       "0                 Rain Man    R 1988-12-16 172825435.00  7005719.00   \n",
       "1  Who Framed Roger Rabbit   PG 1988-06-24 156452370.00 11226239.00   \n",
       "\n",
       "      intl_box           genre  runtime rundays   3d  imax  series  theaters  \\\n",
       "0 354825435.00           Drama   133.00     NaN 0.00  0.00    0.00   1590.00   \n",
       "1 329803958.00  Fantasy Comedy   103.00     NaN 0.00  0.00    0.00   1598.00   \n",
       "\n",
       "   prod_budget  \n",
       "0  25000000.00  \n",
       "1  70000000.00  "
      ]
     },
     "execution_count": 444,
     "metadata": {},
     "output_type": "execute_result"
    }
   ],
   "source": [
    "group_1_df.head(2)"
   ]
  },
  {
   "cell_type": "code",
   "execution_count": 445,
   "metadata": {},
   "outputs": [
    {
     "data": {
      "text/plain": [
       "(477, 14)"
      ]
     },
     "execution_count": 445,
     "metadata": {},
     "output_type": "execute_result"
    }
   ],
   "source": [
    "group_1_df.shape  #477 Movies Matched on this merge"
   ]
  },
  {
   "cell_type": "code",
   "execution_count": 446,
   "metadata": {},
   "outputs": [],
   "source": [
    "#this is a dataframe of movies that didn't match\n",
    "remaining_df = temp_df[temp_df[\"prod_budget\"].isnull()]\n",
    "remaining_df = remaining_df.rename(index=str, columns={'title_x':'title','open_x':'open'})\n",
    "remaining_df = remaining_df[[\"title\",\"mpaa\",\"open\",\"usa_box\",\"usa_open\",\"intl_box\",\"genre\",\"runtime\",\n",
    "                         \"rundays\",\"3d\",\"imax\",\"series\",\"theaters\"]]"
   ]
  },
  {
   "cell_type": "code",
   "execution_count": 447,
   "metadata": {},
   "outputs": [
    {
     "data": {
      "text/plain": [
       "(1523, 13)"
      ]
     },
     "execution_count": 447,
     "metadata": {},
     "output_type": "execute_result"
    }
   ],
   "source": [
    "remaining_df.shape #1523 Movies did not Match on this merge"
   ]
  },
  {
   "cell_type": "code",
   "execution_count": 448,
   "metadata": {},
   "outputs": [],
   "source": [
    "#this is a dataframe of budget information that has not matched yet\n",
    "remain_budget_df = temp_df[temp_df[\"title_x\"].isnull()]  \n",
    "remain_budget_df = remain_budget_df.rename(index=str, columns={'title_y':'title','open_y':'open'})\n",
    "remain_budget_df = remain_budget_df[[\"open\",\"title\",\"prod_budget\",\"domestic\"]]"
   ]
  },
  {
   "cell_type": "code",
   "execution_count": 449,
   "metadata": {},
   "outputs": [
    {
     "data": {
      "text/plain": [
       "(70, 4)"
      ]
     },
     "execution_count": 449,
     "metadata": {},
     "output_type": "execute_result"
    }
   ],
   "source": [
    "remain_budget_df.shape  #70 Budget Lines remain"
   ]
  },
  {
   "cell_type": "markdown",
   "metadata": {},
   "source": [
    "__Merge 2: Unique ID Using Release Date + Trailing Title Fragment__"
   ]
  },
  {
   "cell_type": "code",
   "execution_count": 450,
   "metadata": {},
   "outputs": [],
   "source": [
    "#create new 'ID2' to match using opening date plus trailing characters from the movie name\n",
    "remain_budget_df[\"id2\"] = remain_budget_df[\"open\"].apply(time2string)  + remain_budget_df[\"title\"].apply(trunc_end,characters=9)\n",
    "remaining_df[\"id2\"] = remaining_df[\"open\"].apply(time2string)  + remaining_df[\"title\"].apply(trunc_end,characters=9)"
   ]
  },
  {
   "cell_type": "code",
   "execution_count": 451,
   "metadata": {
    "scrolled": false
   },
   "outputs": [
    {
     "data": {
      "text/html": [
       "<div>\n",
       "<style scoped>\n",
       "    .dataframe tbody tr th:only-of-type {\n",
       "        vertical-align: middle;\n",
       "    }\n",
       "\n",
       "    .dataframe tbody tr th {\n",
       "        vertical-align: top;\n",
       "    }\n",
       "\n",
       "    .dataframe thead th {\n",
       "        text-align: right;\n",
       "    }\n",
       "</style>\n",
       "<table border=\"1\" class=\"dataframe\">\n",
       "  <thead>\n",
       "    <tr style=\"text-align: right;\">\n",
       "      <th></th>\n",
       "      <th>id2</th>\n",
       "      <th>title</th>\n",
       "    </tr>\n",
       "  </thead>\n",
       "  <tbody>\n",
       "    <tr>\n",
       "      <th>0</th>\n",
       "      <td>1988-03-04Prison</td>\n",
       "      <td>1</td>\n",
       "    </tr>\n",
       "    <tr>\n",
       "      <th>44</th>\n",
       "      <td>1996-08-09from L.A.</td>\n",
       "      <td>1</td>\n",
       "    </tr>\n",
       "  </tbody>\n",
       "</table>\n",
       "</div>"
      ],
      "text/plain": [
       "                    id2  title\n",
       "0      1988-03-04Prison      1\n",
       "44  1996-08-09from L.A.      1"
      ]
     },
     "execution_count": 451,
     "metadata": {},
     "output_type": "execute_result"
    }
   ],
   "source": [
    "#check to see if the budget keys are unique. They Are!  \n",
    "temp_df = remain_budget_df.groupby([\"id2\"])['title'].count()\n",
    "temp_df = temp_df.reset_index()\n",
    "temp_df.sort_values(['title'],ascending=False).head(2)"
   ]
  },
  {
   "cell_type": "code",
   "execution_count": 452,
   "metadata": {},
   "outputs": [
    {
     "data": {
      "text/html": [
       "<div>\n",
       "<style scoped>\n",
       "    .dataframe tbody tr th:only-of-type {\n",
       "        vertical-align: middle;\n",
       "    }\n",
       "\n",
       "    .dataframe tbody tr th {\n",
       "        vertical-align: top;\n",
       "    }\n",
       "\n",
       "    .dataframe thead th {\n",
       "        text-align: right;\n",
       "    }\n",
       "</style>\n",
       "<table border=\"1\" class=\"dataframe\">\n",
       "  <thead>\n",
       "    <tr style=\"text-align: right;\">\n",
       "      <th></th>\n",
       "      <th>id2</th>\n",
       "      <th>title</th>\n",
       "    </tr>\n",
       "  </thead>\n",
       "  <tbody>\n",
       "    <tr>\n",
       "      <th>0</th>\n",
       "      <td>1988-01-15For Keeps</td>\n",
       "      <td>1</td>\n",
       "    </tr>\n",
       "    <tr>\n",
       "      <th>1002</th>\n",
       "      <td>1994-01-21ersection</td>\n",
       "      <td>1</td>\n",
       "    </tr>\n",
       "  </tbody>\n",
       "</table>\n",
       "</div>"
      ],
      "text/plain": [
       "                      id2  title\n",
       "0     1988-01-15For Keeps      1\n",
       "1002  1994-01-21ersection      1"
      ]
     },
     "execution_count": 452,
     "metadata": {},
     "output_type": "execute_result"
    }
   ],
   "source": [
    "#check to see if the movie keys are unique. There are two duplicates, which have closer inspection below\n",
    "temp_df = remaining_df.groupby([\"id2\"])['title'].count()\n",
    "temp_df = temp_df.reset_index()\n",
    "temp_df.sort_values(['title'],ascending=False).head(2)"
   ]
  },
  {
   "cell_type": "code",
   "execution_count": 453,
   "metadata": {},
   "outputs": [
    {
     "data": {
      "text/html": [
       "<div>\n",
       "<style scoped>\n",
       "    .dataframe tbody tr th:only-of-type {\n",
       "        vertical-align: middle;\n",
       "    }\n",
       "\n",
       "    .dataframe tbody tr th {\n",
       "        vertical-align: top;\n",
       "    }\n",
       "\n",
       "    .dataframe thead th {\n",
       "        text-align: right;\n",
       "    }\n",
       "</style>\n",
       "<table border=\"1\" class=\"dataframe\">\n",
       "  <thead>\n",
       "    <tr style=\"text-align: right;\">\n",
       "      <th></th>\n",
       "      <th>title</th>\n",
       "      <th>mpaa</th>\n",
       "      <th>open</th>\n",
       "      <th>usa_box</th>\n",
       "      <th>usa_open</th>\n",
       "      <th>intl_box</th>\n",
       "      <th>genre</th>\n",
       "      <th>runtime</th>\n",
       "      <th>rundays</th>\n",
       "      <th>3d</th>\n",
       "      <th>imax</th>\n",
       "      <th>series</th>\n",
       "      <th>theaters</th>\n",
       "      <th>id2</th>\n",
       "    </tr>\n",
       "  </thead>\n",
       "  <tbody>\n",
       "  </tbody>\n",
       "</table>\n",
       "</div>"
      ],
      "text/plain": [
       "Empty DataFrame\n",
       "Columns: [title, mpaa, open, usa_box, usa_open, intl_box, genre, runtime, rundays, 3d, imax, series, theaters, id2]\n",
       "Index: []"
      ]
     },
     "execution_count": 453,
     "metadata": {},
     "output_type": "execute_result"
    }
   ],
   "source": [
    "# inpsecting the duplicate keys above shows two are re-releases of previous movies and may not have\n",
    "# had theatrical releases It's probably ok to leave these in there since they would be removed later\n",
    "# on for not having theaters\n",
    "remaining_df[(remaining_df['open']=='2012-07-19')]"
   ]
  },
  {
   "cell_type": "code",
   "execution_count": 454,
   "metadata": {},
   "outputs": [],
   "source": [
    "#Merge!!!!!\n",
    "temp_df = pd.merge(remaining_df, remain_budget_df, on='id2', how='outer')"
   ]
  },
  {
   "cell_type": "code",
   "execution_count": 455,
   "metadata": {},
   "outputs": [],
   "source": [
    "#This contains the movies that matched to a budget via 'ID2' as a unique ID\n",
    "group_2_df = temp_df[temp_df[\"prod_budget\"].notnull() & temp_df[\"title_x\"].notnull()]  \n",
    "group_2_df = group_2_df.rename(index=str, columns={'title_x':'title','open_x':'open'})\n",
    "group_2_df = group_2_df[[\"title\",\"mpaa\",\"open\",\"usa_box\",\"usa_open\",\"intl_box\",\"genre\",\"runtime\",\n",
    "                         \"rundays\",\"3d\",\"imax\",\"series\",\"theaters\",\"prod_budget\"]]"
   ]
  },
  {
   "cell_type": "code",
   "execution_count": 456,
   "metadata": {},
   "outputs": [
    {
     "data": {
      "text/plain": [
       "(9, 14)"
      ]
     },
     "execution_count": 456,
     "metadata": {},
     "output_type": "execute_result"
    }
   ],
   "source": [
    "group_2_df.shape    #9 Movie Matched in this round"
   ]
  },
  {
   "cell_type": "code",
   "execution_count": 457,
   "metadata": {},
   "outputs": [],
   "source": [
    "#this is a dataframe of movies that didn't match\n",
    "remaining_2_df = temp_df[temp_df[\"prod_budget\"].isnull()]\n",
    "remaining_2_df = remaining_2_df.rename(index=str, columns={'title_x':'title','open_x':'open'})\n",
    "remaining_2_df = remaining_2_df[[\"title\",\"mpaa\",\"open\",\"usa_box\",\"usa_open\",\"intl_box\",\"genre\",\"runtime\",\n",
    "                         \"rundays\",\"3d\",\"imax\",\"series\",\"theaters\"]]"
   ]
  },
  {
   "cell_type": "code",
   "execution_count": 458,
   "metadata": {},
   "outputs": [
    {
     "data": {
      "text/plain": [
       "(1514, 13)"
      ]
     },
     "execution_count": 458,
     "metadata": {},
     "output_type": "execute_result"
    }
   ],
   "source": [
    "remaining_2_df.shape  #1514 Movies remain unmatched "
   ]
  },
  {
   "cell_type": "code",
   "execution_count": 459,
   "metadata": {},
   "outputs": [],
   "source": [
    "#this is a dataframe of budget information that has not matched yet\n",
    "remain_budget_2_df = temp_df[temp_df[\"title_x\"].isnull()]  \n",
    "remain_budget_2_df = remain_budget_2_df.rename(index=str, columns={'title_y':'title','open_y':'open'})\n",
    "remain_budget_2_df = remain_budget_2_df[[\"open\",\"title\",\"prod_budget\",\"domestic\"]]"
   ]
  },
  {
   "cell_type": "code",
   "execution_count": 460,
   "metadata": {},
   "outputs": [
    {
     "data": {
      "text/plain": [
       "(61, 4)"
      ]
     },
     "execution_count": 460,
     "metadata": {},
     "output_type": "execute_result"
    }
   ],
   "source": [
    "remain_budget_2_df.shape   #61 Budget Lines remain"
   ]
  },
  {
   "cell_type": "markdown",
   "metadata": {},
   "source": [
    "__Merge 3: Titles__"
   ]
  },
  {
   "cell_type": "markdown",
   "metadata": {},
   "source": [
    "This will catch movies that have different open dates on BoxOfficeMojo vs The-Numbers"
   ]
  },
  {
   "cell_type": "code",
   "execution_count": 461,
   "metadata": {},
   "outputs": [],
   "source": [
    "#Some titles in Box Office Mojo have Years in their names with (). These should be cleaned\n",
    "remaining_2_df[\"title\"] = remaining_2_df[\"title\"].apply(remove_year)"
   ]
  },
  {
   "cell_type": "code",
   "execution_count": 462,
   "metadata": {},
   "outputs": [],
   "source": [
    "#Since the budget rows are only unique on title and also date, I'll still use year and month\n",
    "remaining_2_df[\"id\"] = remaining_2_df[\"open\"].apply(time2monthyearstring) + remaining_2_df[\"title\"]\n",
    "remain_budget_2_df[\"id\"] = remain_budget_2_df[\"open\"].apply(time2monthyearstring) + remain_budget_2_df[\"title\"]"
   ]
  },
  {
   "cell_type": "code",
   "execution_count": 463,
   "metadata": {},
   "outputs": [],
   "source": [
    "#merge on the name of the movie itself\n",
    "temp_df = pd.merge(remaining_2_df, remain_budget_2_df, on='id', how='outer')"
   ]
  },
  {
   "cell_type": "code",
   "execution_count": 464,
   "metadata": {},
   "outputs": [],
   "source": [
    "#this contains the movies that matched by name\n",
    "group_3_df = temp_df[temp_df[\"prod_budget\"].notnull() & temp_df[\"mpaa\"].notnull()]    #boolean changed to mpaa here\n",
    "group_3_df = group_3_df.rename(index=str, columns={'title_x':'title','open_x':'open'})\n",
    "group_3_df = group_3_df[[\"title\",\"mpaa\",\"open\",\"usa_box\",\"usa_open\",\"intl_box\",\"genre\",\"runtime\",\n",
    "                         \"rundays\",\"3d\",\"imax\",\"series\",\"theaters\",\"prod_budget\"]]"
   ]
  },
  {
   "cell_type": "code",
   "execution_count": 465,
   "metadata": {},
   "outputs": [
    {
     "data": {
      "text/plain": [
       "(2, 14)"
      ]
     },
     "execution_count": 465,
     "metadata": {},
     "output_type": "execute_result"
    }
   ],
   "source": [
    "group_3_df.shape  #2 Movies matched on Title"
   ]
  },
  {
   "cell_type": "code",
   "execution_count": 466,
   "metadata": {},
   "outputs": [
    {
     "data": {
      "text/html": [
       "<div>\n",
       "<style scoped>\n",
       "    .dataframe tbody tr th:only-of-type {\n",
       "        vertical-align: middle;\n",
       "    }\n",
       "\n",
       "    .dataframe tbody tr th {\n",
       "        vertical-align: top;\n",
       "    }\n",
       "\n",
       "    .dataframe thead th {\n",
       "        text-align: right;\n",
       "    }\n",
       "</style>\n",
       "<table border=\"1\" class=\"dataframe\">\n",
       "  <thead>\n",
       "    <tr style=\"text-align: right;\">\n",
       "      <th></th>\n",
       "      <th>title</th>\n",
       "      <th>mpaa</th>\n",
       "    </tr>\n",
       "  </thead>\n",
       "  <tbody>\n",
       "    <tr>\n",
       "      <th>0</th>\n",
       "      <td>Crash</td>\n",
       "      <td>1</td>\n",
       "    </tr>\n",
       "    <tr>\n",
       "      <th>1</th>\n",
       "      <td>Hamlet</td>\n",
       "      <td>1</td>\n",
       "    </tr>\n",
       "  </tbody>\n",
       "</table>\n",
       "</div>"
      ],
      "text/plain": [
       "    title  mpaa\n",
       "0   Crash     1\n",
       "1  Hamlet     1"
      ]
     },
     "execution_count": 466,
     "metadata": {},
     "output_type": "execute_result"
    }
   ],
   "source": [
    "#check to make sure there were no duplicates. Looks good! \n",
    "group_3_df.groupby([\"title\"])[\"mpaa\"].count().reset_index().sort_values([\"mpaa\"],ascending=False).head(2)"
   ]
  },
  {
   "cell_type": "code",
   "execution_count": 467,
   "metadata": {},
   "outputs": [],
   "source": [
    "#this is a dataframe of movies that didn't match\n",
    "remaining_3_df = temp_df[temp_df[\"prod_budget\"].isnull()]\n",
    "remaining_3_df = remaining_3_df.rename(index=str, columns={'title_x':'title','open_x':'open'})\n",
    "remaining_3_df = remaining_3_df[[\"title\",\"mpaa\",\"open\",\"usa_box\",\"usa_open\",\"intl_box\",\"genre\",\"runtime\",\n",
    "                         \"rundays\",\"3d\",\"imax\",\"series\",\"theaters\"]]"
   ]
  },
  {
   "cell_type": "code",
   "execution_count": 468,
   "metadata": {},
   "outputs": [
    {
     "data": {
      "text/plain": [
       "(1512, 13)"
      ]
     },
     "execution_count": 468,
     "metadata": {},
     "output_type": "execute_result"
    }
   ],
   "source": [
    "remaining_3_df.shape  #1512 Movies remain unmatched"
   ]
  },
  {
   "cell_type": "code",
   "execution_count": 469,
   "metadata": {},
   "outputs": [],
   "source": [
    "#this is a dataframe of budget information that has not matched yet\n",
    "remain_budget_3_df = temp_df[temp_df[\"mpaa\"].isnull()]    #boolean changed to mpaa here\n",
    "remain_budget_3_df = remain_budget_3_df.rename(index=str, columns={'title_y':'title','open_y':'open'})\n",
    "remain_budget_3_df = remain_budget_3_df[[\"open\",\"title\",\"prod_budget\",\"domestic\"]]"
   ]
  },
  {
   "cell_type": "code",
   "execution_count": 470,
   "metadata": {},
   "outputs": [
    {
     "data": {
      "text/plain": [
       "(59, 4)"
      ]
     },
     "execution_count": 470,
     "metadata": {},
     "output_type": "execute_result"
    }
   ],
   "source": [
    "remain_budget_3_df.shape  #59 Budgets Remain Unmatched"
   ]
  },
  {
   "cell_type": "markdown",
   "metadata": {},
   "source": [
    "__Explore Remaining Titles: What Else Can I Merge On?__"
   ]
  },
  {
   "cell_type": "code",
   "execution_count": 471,
   "metadata": {},
   "outputs": [
    {
     "data": {
      "text/html": [
       "<div>\n",
       "<style scoped>\n",
       "    .dataframe tbody tr th:only-of-type {\n",
       "        vertical-align: middle;\n",
       "    }\n",
       "\n",
       "    .dataframe tbody tr th {\n",
       "        vertical-align: top;\n",
       "    }\n",
       "\n",
       "    .dataframe thead th {\n",
       "        text-align: right;\n",
       "    }\n",
       "</style>\n",
       "<table border=\"1\" class=\"dataframe\">\n",
       "  <thead>\n",
       "    <tr style=\"text-align: right;\">\n",
       "      <th></th>\n",
       "      <th>title</th>\n",
       "      <th>mpaa</th>\n",
       "      <th>open</th>\n",
       "      <th>usa_box</th>\n",
       "      <th>usa_open</th>\n",
       "      <th>intl_box</th>\n",
       "      <th>genre</th>\n",
       "      <th>runtime</th>\n",
       "      <th>rundays</th>\n",
       "      <th>3d</th>\n",
       "      <th>imax</th>\n",
       "      <th>series</th>\n",
       "      <th>theaters</th>\n",
       "    </tr>\n",
       "  </thead>\n",
       "  <tbody>\n",
       "    <tr>\n",
       "      <th>853</th>\n",
       "      <td>The Firm</td>\n",
       "      <td>R</td>\n",
       "      <td>1993-07-02</td>\n",
       "      <td>158348367.00</td>\n",
       "      <td>25400000.00</td>\n",
       "      <td>270248367.00</td>\n",
       "      <td>Thriller</td>\n",
       "      <td>154.00</td>\n",
       "      <td>NaN</td>\n",
       "      <td>0.00</td>\n",
       "      <td>0.00</td>\n",
       "      <td>0.00</td>\n",
       "      <td>2393.00</td>\n",
       "    </tr>\n",
       "    <tr>\n",
       "      <th>179</th>\n",
       "      <td>Lethal Weapon 2</td>\n",
       "      <td>R</td>\n",
       "      <td>1989-07-07</td>\n",
       "      <td>147253986.00</td>\n",
       "      <td>20388800.00</td>\n",
       "      <td>227853986.00</td>\n",
       "      <td>Action Comedy</td>\n",
       "      <td>113.00</td>\n",
       "      <td>NaN</td>\n",
       "      <td>0.00</td>\n",
       "      <td>0.00</td>\n",
       "      <td>1.00</td>\n",
       "      <td>1830.00</td>\n",
       "    </tr>\n",
       "    <tr>\n",
       "      <th>180</th>\n",
       "      <td>Look Who's Talking</td>\n",
       "      <td>PG-13</td>\n",
       "      <td>1989-10-13</td>\n",
       "      <td>140088813.00</td>\n",
       "      <td>12107784.00</td>\n",
       "      <td>296999813.00</td>\n",
       "      <td>Family Comedy</td>\n",
       "      <td>93.00</td>\n",
       "      <td>NaN</td>\n",
       "      <td>0.00</td>\n",
       "      <td>0.00</td>\n",
       "      <td>1.00</td>\n",
       "      <td>1651.00</td>\n",
       "    </tr>\n",
       "    <tr>\n",
       "      <th>687</th>\n",
       "      <td>Sister Act</td>\n",
       "      <td>PG</td>\n",
       "      <td>1992-05-29</td>\n",
       "      <td>139605150.00</td>\n",
       "      <td>11894587.00</td>\n",
       "      <td>231605150.00</td>\n",
       "      <td>Comedy</td>\n",
       "      <td>100.00</td>\n",
       "      <td>NaN</td>\n",
       "      <td>0.00</td>\n",
       "      <td>0.00</td>\n",
       "      <td>0.00</td>\n",
       "      <td>2087.00</td>\n",
       "    </tr>\n",
       "    <tr>\n",
       "      <th>1400</th>\n",
       "      <td>Star Wars</td>\n",
       "      <td>PG</td>\n",
       "      <td>1997-01-31</td>\n",
       "      <td>138257865.00</td>\n",
       "      <td>35906661.00</td>\n",
       "      <td>579646015.00</td>\n",
       "      <td>Sci-Fi Fantasy</td>\n",
       "      <td>125.00</td>\n",
       "      <td>NaN</td>\n",
       "      <td>0.00</td>\n",
       "      <td>0.00</td>\n",
       "      <td>1.00</td>\n",
       "      <td>2375.00</td>\n",
       "    </tr>\n",
       "  </tbody>\n",
       "</table>\n",
       "</div>"
      ],
      "text/plain": [
       "                   title   mpaa       open      usa_box    usa_open  \\\n",
       "853             The Firm      R 1993-07-02 158348367.00 25400000.00   \n",
       "179      Lethal Weapon 2      R 1989-07-07 147253986.00 20388800.00   \n",
       "180   Look Who's Talking  PG-13 1989-10-13 140088813.00 12107784.00   \n",
       "687           Sister Act     PG 1992-05-29 139605150.00 11894587.00   \n",
       "1400           Star Wars     PG 1997-01-31 138257865.00 35906661.00   \n",
       "\n",
       "         intl_box           genre  runtime rundays   3d  imax  series  \\\n",
       "853  270248367.00        Thriller   154.00     NaN 0.00  0.00    0.00   \n",
       "179  227853986.00   Action Comedy   113.00     NaN 0.00  0.00    1.00   \n",
       "180  296999813.00   Family Comedy    93.00     NaN 0.00  0.00    1.00   \n",
       "687  231605150.00          Comedy   100.00     NaN 0.00  0.00    0.00   \n",
       "1400 579646015.00  Sci-Fi Fantasy   125.00     NaN 0.00  0.00    1.00   \n",
       "\n",
       "      theaters  \n",
       "853    2393.00  \n",
       "179    1830.00  \n",
       "180    1651.00  \n",
       "687    2087.00  \n",
       "1400   2375.00  "
      ]
     },
     "execution_count": 471,
     "metadata": {},
     "output_type": "execute_result"
    }
   ],
   "source": [
    "remaining_3_df.sort_values(['usa_box'],ascending=False).head(5)"
   ]
  },
  {
   "cell_type": "code",
   "execution_count": 472,
   "metadata": {},
   "outputs": [
    {
     "data": {
      "text/html": [
       "<div>\n",
       "<style scoped>\n",
       "    .dataframe tbody tr th:only-of-type {\n",
       "        vertical-align: middle;\n",
       "    }\n",
       "\n",
       "    .dataframe tbody tr th {\n",
       "        vertical-align: top;\n",
       "    }\n",
       "\n",
       "    .dataframe thead th {\n",
       "        text-align: right;\n",
       "    }\n",
       "</style>\n",
       "<table border=\"1\" class=\"dataframe\">\n",
       "  <thead>\n",
       "    <tr style=\"text-align: right;\">\n",
       "      <th></th>\n",
       "      <th>open</th>\n",
       "      <th>title</th>\n",
       "      <th>prod_budget</th>\n",
       "      <th>domestic</th>\n",
       "    </tr>\n",
       "  </thead>\n",
       "  <tbody>\n",
       "    <tr>\n",
       "      <th>1518</th>\n",
       "      <td>1993-06-30</td>\n",
       "      <td>The Firm</td>\n",
       "      <td>42000000.00</td>\n",
       "      <td>158340892.00</td>\n",
       "    </tr>\n",
       "    <tr>\n",
       "      <th>1528</th>\n",
       "      <td>1994-12-16</td>\n",
       "      <td>Dumb &amp; Dumber</td>\n",
       "      <td>16000000.00</td>\n",
       "      <td>127175374.00</td>\n",
       "    </tr>\n",
       "    <tr>\n",
       "      <th>1514</th>\n",
       "      <td>1997-06-20</td>\n",
       "      <td>Batman &amp; Robin</td>\n",
       "      <td>125000000.00</td>\n",
       "      <td>107325195.00</td>\n",
       "    </tr>\n",
       "    <tr>\n",
       "      <th>1515</th>\n",
       "      <td>1995-11-17</td>\n",
       "      <td>Goldeneye</td>\n",
       "      <td>60000000.00</td>\n",
       "      <td>106429941.00</td>\n",
       "    </tr>\n",
       "    <tr>\n",
       "      <th>1516</th>\n",
       "      <td>1997-07-16</td>\n",
       "      <td>George Of The Jungle</td>\n",
       "      <td>55000000.00</td>\n",
       "      <td>105263257.00</td>\n",
       "    </tr>\n",
       "  </tbody>\n",
       "</table>\n",
       "</div>"
      ],
      "text/plain": [
       "           open                 title  prod_budget     domestic\n",
       "1518 1993-06-30              The Firm  42000000.00 158340892.00\n",
       "1528 1994-12-16         Dumb & Dumber  16000000.00 127175374.00\n",
       "1514 1997-06-20        Batman & Robin 125000000.00 107325195.00\n",
       "1515 1995-11-17             Goldeneye  60000000.00 106429941.00\n",
       "1516 1997-07-16  George Of The Jungle  55000000.00 105263257.00"
      ]
     },
     "execution_count": 472,
     "metadata": {},
     "output_type": "execute_result"
    }
   ],
   "source": [
    "remain_budget_3_df.sort_values(['domestic'],ascending=False).head(5)"
   ]
  },
  {
   "cell_type": "markdown",
   "metadata": {},
   "source": [
    "I also think I can match on Open Date and the first few digits of the domestic box office"
   ]
  },
  {
   "cell_type": "markdown",
   "metadata": {},
   "source": [
    "__Merge 4: Date + First N Digits of the Domestic Box Office Total__"
   ]
  },
  {
   "cell_type": "code",
   "execution_count": 473,
   "metadata": {},
   "outputs": [],
   "source": [
    "#Create Unique ID from the opening day + the first 2 characters of the domestic budget. \n",
    "remain_budget_3_df[\"id\"] = remain_budget_3_df[\"open\"].apply(time2monthyearstring)  + '-' + remain_budget_3_df[\"domestic\"].apply(trunc,characters=3)\n",
    "remaining_3_df[\"id\"] = remaining_3_df[\"open\"].apply(time2monthyearstring)  + '-' + remaining_3_df[\"usa_box\"].apply(trunc,characters=3)"
   ]
  },
  {
   "cell_type": "code",
   "execution_count": 474,
   "metadata": {},
   "outputs": [
    {
     "data": {
      "text/html": [
       "<div>\n",
       "<style scoped>\n",
       "    .dataframe tbody tr th:only-of-type {\n",
       "        vertical-align: middle;\n",
       "    }\n",
       "\n",
       "    .dataframe tbody tr th {\n",
       "        vertical-align: top;\n",
       "    }\n",
       "\n",
       "    .dataframe thead th {\n",
       "        text-align: right;\n",
       "    }\n",
       "</style>\n",
       "<table border=\"1\" class=\"dataframe\">\n",
       "  <thead>\n",
       "    <tr style=\"text-align: right;\">\n",
       "      <th></th>\n",
       "      <th>id</th>\n",
       "      <th>title</th>\n",
       "    </tr>\n",
       "  </thead>\n",
       "  <tbody>\n",
       "    <tr>\n",
       "      <th>0</th>\n",
       "      <td>1988-03-354</td>\n",
       "      <td>1</td>\n",
       "    </tr>\n",
       "    <tr>\n",
       "      <th>44</th>\n",
       "      <td>1997-01-353</td>\n",
       "      <td>1</td>\n",
       "    </tr>\n",
       "  </tbody>\n",
       "</table>\n",
       "</div>"
      ],
      "text/plain": [
       "             id  title\n",
       "0   1988-03-354      1\n",
       "44  1997-01-353      1"
      ]
     },
     "execution_count": 474,
     "metadata": {},
     "output_type": "execute_result"
    }
   ],
   "source": [
    "#check to see if the budget keys are unique. They are!  \n",
    "temp_df = remain_budget_3_df.groupby([\"id\"])['title'].count()\n",
    "temp_df = temp_df.reset_index()\n",
    "temp_df.sort_values(['title'],ascending=False).head(2)"
   ]
  },
  {
   "cell_type": "code",
   "execution_count": 475,
   "metadata": {},
   "outputs": [],
   "source": [
    "#merge!!!\n",
    "temp_df = pd.merge(remaining_3_df, remain_budget_3_df, on='id', how='outer')"
   ]
  },
  {
   "cell_type": "code",
   "execution_count": 476,
   "metadata": {},
   "outputs": [],
   "source": [
    "#this contains the movies that matched by name\n",
    "group_4_df = temp_df[temp_df[\"prod_budget\"].notnull() & temp_df[\"title_x\"].notnull()]    \n",
    "group_4_df = group_4_df.rename(index=str, columns={'title_x':'title','open_x':'open'})\n",
    "group_4_df = group_4_df[[\"title\",\"mpaa\",\"open\",\"usa_box\",\"usa_open\",\"intl_box\",\"genre\",\"runtime\",\n",
    "                         \"rundays\",\"3d\",\"imax\",\"series\",\"theaters\",\"prod_budget\"]]"
   ]
  },
  {
   "cell_type": "code",
   "execution_count": 477,
   "metadata": {},
   "outputs": [
    {
     "data": {
      "text/plain": [
       "(15, 14)"
      ]
     },
     "execution_count": 477,
     "metadata": {},
     "output_type": "execute_result"
    }
   ],
   "source": [
    "group_4_df.shape  #15 Movies Matched"
   ]
  },
  {
   "cell_type": "code",
   "execution_count": 478,
   "metadata": {},
   "outputs": [],
   "source": [
    "#this is a dataframe of movies that didn't match\n",
    "remaining_4_df = temp_df[temp_df[\"prod_budget\"].isnull()]\n",
    "remaining_4_df = remaining_4_df.rename(index=str, columns={'title_x':'title','open_x':'open'})\n",
    "remaining_4_df = remaining_4_df[[\"title\",\"mpaa\",\"open\",\"usa_box\",\"usa_open\",\"intl_box\",\"genre\",\"runtime\",\n",
    "                         \"rundays\",\"3d\",\"imax\",\"series\",\"theaters\"]]"
   ]
  },
  {
   "cell_type": "code",
   "execution_count": 479,
   "metadata": {},
   "outputs": [
    {
     "data": {
      "text/plain": [
       "(1497, 13)"
      ]
     },
     "execution_count": 479,
     "metadata": {},
     "output_type": "execute_result"
    }
   ],
   "source": [
    "remaining_4_df.shape   #1497 Movies Remail Unmatched"
   ]
  },
  {
   "cell_type": "code",
   "execution_count": 480,
   "metadata": {},
   "outputs": [],
   "source": [
    "#this is a dataframe of budget information that has not matched yet\n",
    "remain_budget_4_df = temp_df[temp_df[\"mpaa\"].isnull()]    #boolean changed to mpaa here\n",
    "remain_budget_4_df = remain_budget_4_df.rename(index=str, columns={'title_y':'title','open_y':'open'})\n",
    "remain_budget_4_df = remain_budget_4_df[[\"open\",\"title\",\"prod_budget\",\"domestic\"]]"
   ]
  },
  {
   "cell_type": "code",
   "execution_count": 481,
   "metadata": {},
   "outputs": [
    {
     "data": {
      "text/plain": [
       "(44, 4)"
      ]
     },
     "execution_count": 481,
     "metadata": {},
     "output_type": "execute_result"
    }
   ],
   "source": [
    "remain_budget_4_df.shape   #44 Budgets unmatched"
   ]
  },
  {
   "cell_type": "markdown",
   "metadata": {},
   "source": [
    "__Merge 5: Title + First N Digits of the Domestic Box Office Total__"
   ]
  },
  {
   "cell_type": "code",
   "execution_count": 482,
   "metadata": {},
   "outputs": [],
   "source": [
    "#Create Unique ID from the opening day + the first 2 characters of the domestic budget. \n",
    "remain_budget_4_df[\"id\"] = remain_budget_4_df[\"title\"] + remain_budget_4_df[\"domestic\"].apply(trunc,characters=2)\n",
    "remaining_4_df[\"id\"] = remaining_4_df[\"title\"] + remaining_4_df[\"usa_box\"].apply(trunc,characters=2)"
   ]
  },
  {
   "cell_type": "code",
   "execution_count": 483,
   "metadata": {},
   "outputs": [
    {
     "data": {
      "text/html": [
       "<div>\n",
       "<style scoped>\n",
       "    .dataframe tbody tr th:only-of-type {\n",
       "        vertical-align: middle;\n",
       "    }\n",
       "\n",
       "    .dataframe tbody tr th {\n",
       "        vertical-align: top;\n",
       "    }\n",
       "\n",
       "    .dataframe thead th {\n",
       "        text-align: right;\n",
       "    }\n",
       "</style>\n",
       "<table border=\"1\" class=\"dataframe\">\n",
       "  <thead>\n",
       "    <tr style=\"text-align: right;\">\n",
       "      <th></th>\n",
       "      <th>id</th>\n",
       "      <th>title</th>\n",
       "    </tr>\n",
       "  </thead>\n",
       "  <tbody>\n",
       "    <tr>\n",
       "      <th>0</th>\n",
       "      <td>Albino Alligator35</td>\n",
       "      <td>1</td>\n",
       "    </tr>\n",
       "    <tr>\n",
       "      <th>1</th>\n",
       "      <td>Bottle Rocket40</td>\n",
       "      <td>1</td>\n",
       "    </tr>\n",
       "  </tbody>\n",
       "</table>\n",
       "</div>"
      ],
      "text/plain": [
       "                   id  title\n",
       "0  Albino Alligator35      1\n",
       "1     Bottle Rocket40      1"
      ]
     },
     "execution_count": 483,
     "metadata": {},
     "output_type": "execute_result"
    }
   ],
   "source": [
    "#check to see if the budget keys are unique. They are!  \n",
    "temp_df = remain_budget_4_df.groupby([\"id\"])['title'].count()\n",
    "temp_df = temp_df.reset_index()\n",
    "temp_df.sort_values(['title'],ascending=False).head(2)"
   ]
  },
  {
   "cell_type": "code",
   "execution_count": 484,
   "metadata": {},
   "outputs": [],
   "source": [
    "#merge!!!\n",
    "temp_df = pd.merge(remaining_4_df, remain_budget_4_df, on='id', how='outer')"
   ]
  },
  {
   "cell_type": "code",
   "execution_count": 485,
   "metadata": {},
   "outputs": [],
   "source": [
    "#this contains the movies that matched by name\n",
    "group_5_df = temp_df[temp_df[\"prod_budget\"].notnull() & temp_df[\"title_x\"].notnull()]    \n",
    "group_5_df = group_5_df.rename(index=str, columns={'title_x':'title','open_x':'open'})\n",
    "group_5_df = group_5_df[[\"title\",\"mpaa\",\"open\",\"usa_box\",\"usa_open\",\"intl_box\",\"genre\",\"runtime\",\n",
    "                         \"rundays\",\"3d\",\"imax\",\"series\",\"theaters\",\"prod_budget\"]]"
   ]
  },
  {
   "cell_type": "code",
   "execution_count": 486,
   "metadata": {},
   "outputs": [
    {
     "data": {
      "text/plain": [
       "(5, 14)"
      ]
     },
     "execution_count": 486,
     "metadata": {},
     "output_type": "execute_result"
    }
   ],
   "source": [
    "group_5_df.shape      #5 Movie Matched this time"
   ]
  },
  {
   "cell_type": "code",
   "execution_count": 487,
   "metadata": {},
   "outputs": [],
   "source": [
    "#this is a dataframe of movies that didn't match\n",
    "remaining_5_df = temp_df[temp_df[\"prod_budget\"].isnull()]\n",
    "remaining_5_df = remaining_5_df.rename(index=str, columns={'title_x':'title','open_x':'open'})\n",
    "remaining_5_df = remaining_5_df[[\"title\",\"mpaa\",\"open\",\"usa_box\",\"usa_open\",\"intl_box\",\"genre\",\"runtime\",\n",
    "                         \"rundays\",\"3d\",\"imax\",\"series\",\"theaters\"]]"
   ]
  },
  {
   "cell_type": "code",
   "execution_count": 488,
   "metadata": {},
   "outputs": [
    {
     "data": {
      "text/plain": [
       "(1492, 13)"
      ]
     },
     "execution_count": 488,
     "metadata": {},
     "output_type": "execute_result"
    }
   ],
   "source": [
    "remaining_5_df.shape   #1492 Remain Unmatched"
   ]
  },
  {
   "cell_type": "code",
   "execution_count": 489,
   "metadata": {},
   "outputs": [],
   "source": [
    "#this is a dataframe of budget information that has not matched yet\n",
    "remain_budget_5_df = temp_df[temp_df[\"mpaa\"].isnull()]    #boolean changed to mpaa here\n",
    "remain_budget_5_df = remain_budget_5_df.rename(index=str, columns={'title_y':'title','open_y':'open'})\n",
    "remain_budget_5_df = remain_budget_5_df[[\"open\",\"title\",\"prod_budget\",\"domestic\"]]"
   ]
  },
  {
   "cell_type": "code",
   "execution_count": 490,
   "metadata": {},
   "outputs": [
    {
     "data": {
      "text/plain": [
       "(39, 4)"
      ]
     },
     "execution_count": 490,
     "metadata": {},
     "output_type": "execute_result"
    }
   ],
   "source": [
    "remain_budget_5_df.shape  #39 budgets remain unmatched"
   ]
  },
  {
   "cell_type": "markdown",
   "metadata": {},
   "source": [
    "__Explore Remaining Titles: Nothing Left to Merge On__"
   ]
  },
  {
   "cell_type": "markdown",
   "metadata": {},
   "source": [
    "I feel pretty good stopping here. The largest movie on the remaining budget dataframe\n",
    "has a domestic gross of 30 million while the top movie on the remaining movies is $90M which means all the movies in between will never be matched to the budget information, and it is thus not available. That's not bad. Also, there are movies on this list that aren't really from this decade, such as The Lion King, Monsters, Inc, so many of these unmatched movies are rereleases and shouldn't impact a prediction model for this decade's films"
   ]
  },
  {
   "cell_type": "code",
   "execution_count": 491,
   "metadata": {},
   "outputs": [
    {
     "data": {
      "text/html": [
       "<div>\n",
       "<style scoped>\n",
       "    .dataframe tbody tr th:only-of-type {\n",
       "        vertical-align: middle;\n",
       "    }\n",
       "\n",
       "    .dataframe tbody tr th {\n",
       "        vertical-align: top;\n",
       "    }\n",
       "\n",
       "    .dataframe thead th {\n",
       "        text-align: right;\n",
       "    }\n",
       "</style>\n",
       "<table border=\"1\" class=\"dataframe\">\n",
       "  <thead>\n",
       "    <tr style=\"text-align: right;\">\n",
       "      <th></th>\n",
       "      <th>title</th>\n",
       "      <th>mpaa</th>\n",
       "      <th>open</th>\n",
       "      <th>usa_box</th>\n",
       "      <th>usa_open</th>\n",
       "      <th>intl_box</th>\n",
       "      <th>genre</th>\n",
       "      <th>runtime</th>\n",
       "      <th>rundays</th>\n",
       "      <th>3d</th>\n",
       "      <th>imax</th>\n",
       "      <th>series</th>\n",
       "      <th>theaters</th>\n",
       "    </tr>\n",
       "  </thead>\n",
       "  <tbody>\n",
       "    <tr>\n",
       "      <th>179</th>\n",
       "      <td>Lethal Weapon 2</td>\n",
       "      <td>R</td>\n",
       "      <td>1989-07-07</td>\n",
       "      <td>147253986.00</td>\n",
       "      <td>20388800.00</td>\n",
       "      <td>227853986.00</td>\n",
       "      <td>Action Comedy</td>\n",
       "      <td>113.00</td>\n",
       "      <td>NaN</td>\n",
       "      <td>0.00</td>\n",
       "      <td>0.00</td>\n",
       "      <td>1.00</td>\n",
       "      <td>1830.00</td>\n",
       "    </tr>\n",
       "    <tr>\n",
       "      <th>180</th>\n",
       "      <td>Look Who's Talking</td>\n",
       "      <td>PG-13</td>\n",
       "      <td>1989-10-13</td>\n",
       "      <td>140088813.00</td>\n",
       "      <td>12107784.00</td>\n",
       "      <td>296999813.00</td>\n",
       "      <td>Family Comedy</td>\n",
       "      <td>93.00</td>\n",
       "      <td>NaN</td>\n",
       "      <td>0.00</td>\n",
       "      <td>0.00</td>\n",
       "      <td>1.00</td>\n",
       "      <td>1651.00</td>\n",
       "    </tr>\n",
       "    <tr>\n",
       "      <th>684</th>\n",
       "      <td>Sister Act</td>\n",
       "      <td>PG</td>\n",
       "      <td>1992-05-29</td>\n",
       "      <td>139605150.00</td>\n",
       "      <td>11894587.00</td>\n",
       "      <td>231605150.00</td>\n",
       "      <td>Comedy</td>\n",
       "      <td>100.00</td>\n",
       "      <td>NaN</td>\n",
       "      <td>0.00</td>\n",
       "      <td>0.00</td>\n",
       "      <td>0.00</td>\n",
       "      <td>2087.00</td>\n",
       "    </tr>\n",
       "    <tr>\n",
       "      <th>1386</th>\n",
       "      <td>Star Wars</td>\n",
       "      <td>PG</td>\n",
       "      <td>1997-01-31</td>\n",
       "      <td>138257865.00</td>\n",
       "      <td>35906661.00</td>\n",
       "      <td>579646015.00</td>\n",
       "      <td>Sci-Fi Fantasy</td>\n",
       "      <td>125.00</td>\n",
       "      <td>NaN</td>\n",
       "      <td>0.00</td>\n",
       "      <td>0.00</td>\n",
       "      <td>1.00</td>\n",
       "      <td>2375.00</td>\n",
       "    </tr>\n",
       "    <tr>\n",
       "      <th>1280</th>\n",
       "      <td>101 Dalmatians</td>\n",
       "      <td>G</td>\n",
       "      <td>1996-11-27</td>\n",
       "      <td>136189294.00</td>\n",
       "      <td>33504025.00</td>\n",
       "      <td>320689294.00</td>\n",
       "      <td>Family Comedy</td>\n",
       "      <td>103.00</td>\n",
       "      <td>NaN</td>\n",
       "      <td>0.00</td>\n",
       "      <td>0.00</td>\n",
       "      <td>1.00</td>\n",
       "      <td>2901.00</td>\n",
       "    </tr>\n",
       "    <tr>\n",
       "      <th>181</th>\n",
       "      <td>Honey, I Shrunk the Kids</td>\n",
       "      <td>PG</td>\n",
       "      <td>1989-06-23</td>\n",
       "      <td>130724172.00</td>\n",
       "      <td>14262961.00</td>\n",
       "      <td>222724172.00</td>\n",
       "      <td>Family Adventure</td>\n",
       "      <td>101.00</td>\n",
       "      <td>NaN</td>\n",
       "      <td>0.00</td>\n",
       "      <td>0.00</td>\n",
       "      <td>0.00</td>\n",
       "      <td>1498.00</td>\n",
       "    </tr>\n",
       "    <tr>\n",
       "      <th>0</th>\n",
       "      <td>Coming to America</td>\n",
       "      <td>R</td>\n",
       "      <td>1988-06-29</td>\n",
       "      <td>128152301.00</td>\n",
       "      <td>21404420.00</td>\n",
       "      <td>288752301.00</td>\n",
       "      <td>Romantic Comedy</td>\n",
       "      <td>116.00</td>\n",
       "      <td>NaN</td>\n",
       "      <td>0.00</td>\n",
       "      <td>0.00</td>\n",
       "      <td>0.00</td>\n",
       "      <td>2064.00</td>\n",
       "    </tr>\n",
       "    <tr>\n",
       "      <th>850</th>\n",
       "      <td>Sleepless in Seattle</td>\n",
       "      <td>PG</td>\n",
       "      <td>1993-06-25</td>\n",
       "      <td>126680884.00</td>\n",
       "      <td>17253733.00</td>\n",
       "      <td>227799884.00</td>\n",
       "      <td>Romantic Comedy</td>\n",
       "      <td>105.00</td>\n",
       "      <td>NaN</td>\n",
       "      <td>0.00</td>\n",
       "      <td>0.00</td>\n",
       "      <td>0.00</td>\n",
       "      <td>1657.00</td>\n",
       "    </tr>\n",
       "    <tr>\n",
       "      <th>1281</th>\n",
       "      <td>The Birdcage</td>\n",
       "      <td>R</td>\n",
       "      <td>1996-03-08</td>\n",
       "      <td>124060553.00</td>\n",
       "      <td>18275828.00</td>\n",
       "      <td>185260553.00</td>\n",
       "      <td>Comedy</td>\n",
       "      <td>117.00</td>\n",
       "      <td>NaN</td>\n",
       "      <td>0.00</td>\n",
       "      <td>0.00</td>\n",
       "      <td>0.00</td>\n",
       "      <td>2285.00</td>\n",
       "    </tr>\n",
       "    <tr>\n",
       "      <th>516</th>\n",
       "      <td>City Slickers</td>\n",
       "      <td>PG-13</td>\n",
       "      <td>1991-06-07</td>\n",
       "      <td>124033791.00</td>\n",
       "      <td>13032121.00</td>\n",
       "      <td>179033791.00</td>\n",
       "      <td>Comedy</td>\n",
       "      <td>112.00</td>\n",
       "      <td>NaN</td>\n",
       "      <td>0.00</td>\n",
       "      <td>0.00</td>\n",
       "      <td>0.00</td>\n",
       "      <td>2171.00</td>\n",
       "    </tr>\n",
       "  </tbody>\n",
       "</table>\n",
       "</div>"
      ],
      "text/plain": [
       "                         title   mpaa       open      usa_box    usa_open  \\\n",
       "179            Lethal Weapon 2      R 1989-07-07 147253986.00 20388800.00   \n",
       "180         Look Who's Talking  PG-13 1989-10-13 140088813.00 12107784.00   \n",
       "684                 Sister Act     PG 1992-05-29 139605150.00 11894587.00   \n",
       "1386                 Star Wars     PG 1997-01-31 138257865.00 35906661.00   \n",
       "1280            101 Dalmatians      G 1996-11-27 136189294.00 33504025.00   \n",
       "181   Honey, I Shrunk the Kids     PG 1989-06-23 130724172.00 14262961.00   \n",
       "0            Coming to America      R 1988-06-29 128152301.00 21404420.00   \n",
       "850       Sleepless in Seattle     PG 1993-06-25 126680884.00 17253733.00   \n",
       "1281              The Birdcage      R 1996-03-08 124060553.00 18275828.00   \n",
       "516              City Slickers  PG-13 1991-06-07 124033791.00 13032121.00   \n",
       "\n",
       "         intl_box             genre  runtime rundays   3d  imax  series  \\\n",
       "179  227853986.00     Action Comedy   113.00     NaN 0.00  0.00    1.00   \n",
       "180  296999813.00     Family Comedy    93.00     NaN 0.00  0.00    1.00   \n",
       "684  231605150.00            Comedy   100.00     NaN 0.00  0.00    0.00   \n",
       "1386 579646015.00    Sci-Fi Fantasy   125.00     NaN 0.00  0.00    1.00   \n",
       "1280 320689294.00     Family Comedy   103.00     NaN 0.00  0.00    1.00   \n",
       "181  222724172.00  Family Adventure   101.00     NaN 0.00  0.00    0.00   \n",
       "0    288752301.00   Romantic Comedy   116.00     NaN 0.00  0.00    0.00   \n",
       "850  227799884.00   Romantic Comedy   105.00     NaN 0.00  0.00    0.00   \n",
       "1281 185260553.00            Comedy   117.00     NaN 0.00  0.00    0.00   \n",
       "516  179033791.00            Comedy   112.00     NaN 0.00  0.00    0.00   \n",
       "\n",
       "      theaters  \n",
       "179    1830.00  \n",
       "180    1651.00  \n",
       "684    2087.00  \n",
       "1386   2375.00  \n",
       "1280   2901.00  \n",
       "181    1498.00  \n",
       "0      2064.00  \n",
       "850    1657.00  \n",
       "1281   2285.00  \n",
       "516    2171.00  "
      ]
     },
     "execution_count": 491,
     "metadata": {},
     "output_type": "execute_result"
    }
   ],
   "source": [
    "remaining_5_df.sort_values([\"usa_box\"],ascending=False).head(10)"
   ]
  },
  {
   "cell_type": "code",
   "execution_count": 492,
   "metadata": {},
   "outputs": [
    {
     "data": {
      "text/html": [
       "<div>\n",
       "<style scoped>\n",
       "    .dataframe tbody tr th:only-of-type {\n",
       "        vertical-align: middle;\n",
       "    }\n",
       "\n",
       "    .dataframe tbody tr th {\n",
       "        vertical-align: top;\n",
       "    }\n",
       "\n",
       "    .dataframe thead th {\n",
       "        text-align: right;\n",
       "    }\n",
       "</style>\n",
       "<table border=\"1\" class=\"dataframe\">\n",
       "  <thead>\n",
       "    <tr style=\"text-align: right;\">\n",
       "      <th></th>\n",
       "      <th>open</th>\n",
       "      <th>title</th>\n",
       "      <th>prod_budget</th>\n",
       "      <th>domestic</th>\n",
       "    </tr>\n",
       "  </thead>\n",
       "  <tbody>\n",
       "    <tr>\n",
       "      <th>1500</th>\n",
       "      <td>1994-11-18</td>\n",
       "      <td>LÃ©on</td>\n",
       "      <td>16000000.00</td>\n",
       "      <td>19284974.00</td>\n",
       "    </tr>\n",
       "    <tr>\n",
       "      <th>1503</th>\n",
       "      <td>1996-10-25</td>\n",
       "      <td>Thinner</td>\n",
       "      <td>14000000.00</td>\n",
       "      <td>15171475.00</td>\n",
       "    </tr>\n",
       "    <tr>\n",
       "      <th>1511</th>\n",
       "      <td>1991-03-01</td>\n",
       "      <td>Haakon Haakonsen</td>\n",
       "      <td>8500000.00</td>\n",
       "      <td>15024232.00</td>\n",
       "    </tr>\n",
       "    <tr>\n",
       "      <th>1524</th>\n",
       "      <td>1994-09-23</td>\n",
       "      <td>Exotica</td>\n",
       "      <td>1500000.00</td>\n",
       "      <td>5046118.00</td>\n",
       "    </tr>\n",
       "    <tr>\n",
       "      <th>1513</th>\n",
       "      <td>1990-09-28</td>\n",
       "      <td>Dark Angel</td>\n",
       "      <td>7000000.00</td>\n",
       "      <td>4372561.00</td>\n",
       "    </tr>\n",
       "    <tr>\n",
       "      <th>1529</th>\n",
       "      <td>1991-01-01</td>\n",
       "      <td>Straight out of Brooklyn</td>\n",
       "      <td>450000.00</td>\n",
       "      <td>2712293.00</td>\n",
       "    </tr>\n",
       "    <tr>\n",
       "      <th>1506</th>\n",
       "      <td>1991-01-01</td>\n",
       "      <td>Return to the Blue Lagoon</td>\n",
       "      <td>11000000.00</td>\n",
       "      <td>2000000.00</td>\n",
       "    </tr>\n",
       "    <tr>\n",
       "      <th>1531</th>\n",
       "      <td>1996-09-20</td>\n",
       "      <td>When The Cat's Away</td>\n",
       "      <td>300000.00</td>\n",
       "      <td>1652472.00</td>\n",
       "    </tr>\n",
       "    <tr>\n",
       "      <th>1504</th>\n",
       "      <td>1997-12-31</td>\n",
       "      <td>Oscar and Lucinda</td>\n",
       "      <td>12500000.00</td>\n",
       "      <td>1612957.00</td>\n",
       "    </tr>\n",
       "    <tr>\n",
       "      <th>1497</th>\n",
       "      <td>1996-04-19</td>\n",
       "      <td>Le hussard sur le toit</td>\n",
       "      <td>35000000.00</td>\n",
       "      <td>1320043.00</td>\n",
       "    </tr>\n",
       "  </tbody>\n",
       "</table>\n",
       "</div>"
      ],
      "text/plain": [
       "           open                      title  prod_budget    domestic\n",
       "1500 1994-11-18                      LÃ©on  16000000.00 19284974.00\n",
       "1503 1996-10-25                    Thinner  14000000.00 15171475.00\n",
       "1511 1991-03-01           Haakon Haakonsen   8500000.00 15024232.00\n",
       "1524 1994-09-23                    Exotica   1500000.00  5046118.00\n",
       "1513 1990-09-28                 Dark Angel   7000000.00  4372561.00\n",
       "1529 1991-01-01   Straight out of Brooklyn    450000.00  2712293.00\n",
       "1506 1991-01-01  Return to the Blue Lagoon  11000000.00  2000000.00\n",
       "1531 1996-09-20        When The Cat's Away    300000.00  1652472.00\n",
       "1504 1997-12-31          Oscar and Lucinda  12500000.00  1612957.00\n",
       "1497 1996-04-19     Le hussard sur le toit  35000000.00  1320043.00"
      ]
     },
     "execution_count": 492,
     "metadata": {},
     "output_type": "execute_result"
    }
   ],
   "source": [
    "remain_budget_5_df.sort_values([\"domestic\"],ascending=False).head(10)"
   ]
  },
  {
   "cell_type": "markdown",
   "metadata": {},
   "source": [
    "__Concatenate & Export the Merged List__"
   ]
  },
  {
   "cell_type": "code",
   "execution_count": 493,
   "metadata": {},
   "outputs": [],
   "source": [
    "pd.concat([group_1_df, group_2_df, group_3_df, \n",
    "            group_4_df, group_5_df, remaining_5_df]).to_csv('../04_Data/{}_{}_merged.csv'.format(years[0],years[-1]))"
   ]
  },
  {
   "cell_type": "code",
   "execution_count": 494,
   "metadata": {},
   "outputs": [
    {
     "data": {
      "text/plain": [
       "(2000, 14)"
      ]
     },
     "execution_count": 494,
     "metadata": {},
     "output_type": "execute_result"
    }
   ],
   "source": [
    "pd.concat([group_1_df, group_2_df, group_3_df, \n",
    "           group_4_df, group_5_df, remaining_5_df]).shape"
   ]
  }
 ],
 "metadata": {
  "kernelspec": {
   "display_name": "Python 3",
   "language": "python",
   "name": "python3"
  },
  "language_info": {
   "codemirror_mode": {
    "name": "ipython",
    "version": 3
   },
   "file_extension": ".py",
   "mimetype": "text/x-python",
   "name": "python",
   "nbconvert_exporter": "python",
   "pygments_lexer": "ipython3",
   "version": "3.6.5"
  }
 },
 "nbformat": 4,
 "nbformat_minor": 2
}
