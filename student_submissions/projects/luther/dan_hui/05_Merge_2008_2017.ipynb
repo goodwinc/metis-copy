{
 "cells": [
  {
   "cell_type": "code",
   "execution_count": 1,
   "metadata": {},
   "outputs": [],
   "source": [
    "import pandas as pd\n",
    "import numpy as np\n",
    "from datetime import datetime\n",
    "import re\n",
    "pd.set_option('display.float_format', lambda x: '%.2f' % x)"
   ]
  },
  {
   "cell_type": "markdown",
   "metadata": {},
   "source": [
    "### Set Global Ranges and Variables"
   ]
  },
  {
   "cell_type": "code",
   "execution_count": 2,
   "metadata": {},
   "outputs": [],
   "source": [
    "years = range(2008,2018)            #Comment in/out year ranges\n",
    "#years = range(1988,1998)\n",
    "\n",
    "num_budget_files = 6                #total number of budget files to read"
   ]
  },
  {
   "cell_type": "markdown",
   "metadata": {},
   "source": [
    "### Set Definitions"
   ]
  },
  {
   "cell_type": "code",
   "execution_count": 3,
   "metadata": {},
   "outputs": [],
   "source": [
    "#clean time from movie data\n",
    "def clean_time(row):   \n",
    "    try:\n",
    "        return datetime.strptime(row, '%B %d, %Y')\n",
    "    except: pass    \n",
    "\n",
    "def clean_time_2(row):\n",
    "    try:\n",
    "        return datetime.strptime(row, \"%Y-%m-%d\")\n",
    "    except: pass       \n",
    "    \n",
    "#create unique ID from movie open date and title\n",
    "def trunc(row, characters):\n",
    "    try:\n",
    "        row = str(row)    #cast to string\n",
    "        return row[:characters]\n",
    "    except:\n",
    "        return row\n",
    "\n",
    "#create unique ID from movie open date and title\n",
    "def trunc_end(row, characters):\n",
    "    try:\n",
    "        return row[-characters:]\n",
    "    except:\n",
    "        return row\n",
    "\n",
    "#create unique ID from movie open date and title\n",
    "def time2string(row):\n",
    "    try:\n",
    "        return row.strftime('%Y-%m-%d')\n",
    "    except: pass\n",
    "    \n",
    "#create unique ID from movie open date and title\n",
    "def time2monthyearstring(row):\n",
    "    try:\n",
    "        return row.strftime('%Y-%m')\n",
    "    except: pass\n",
    "    \n",
    "#remove (YEAR) formatting\n",
    "def remove_year(row):\n",
    "    return row.split(' (')[0]"
   ]
  },
  {
   "cell_type": "markdown",
   "metadata": {},
   "source": [
    "### Read In Data"
   ]
  },
  {
   "cell_type": "code",
   "execution_count": 4,
   "metadata": {},
   "outputs": [],
   "source": [
    "#first read the annual list of movies, starting the the first year's set\n",
    "year_df = pd.read_csv('../04_Data/{}_movies.csv'.format(years[0]), index_col=0)\n",
    "\n",
    "#then concatenate the remaining 9 years together\n",
    "for year in years[1:]:\n",
    "    temp_df = pd.read_csv('../04_Data/{}_movies.csv'.format(year), index_col=0)\n",
    "    year_df = pd.concat([year_df,temp_df])\n",
    "    \n",
    "#Clean Datetime\n",
    "year_df[\"open_date\"] = year_df[\"open_date\"].apply(clean_time_2)"
   ]
  },
  {
   "cell_type": "code",
   "execution_count": 5,
   "metadata": {},
   "outputs": [],
   "source": [
    "#read the movie detail data, starting with the first year's set\n",
    "movie_df = pd.read_csv('../04_Data/{}_movies_detail.csv'.format(years[0]), index_col=0)\n",
    "\n",
    "#then concatenate the remaining 9 years together\n",
    "for year in years[1:]:\n",
    "    temp_df = pd.read_csv('../04_Data/{}_movies_detail.csv'.format(year), index_col=0)\n",
    "    movie_df = pd.concat([movie_df, temp_df])\n",
    "    \n",
    "#Clean date time from movie dataframe\n",
    "movie_df[\"new_close\"] = movie_df[\"close\"].apply(clean_time)"
   ]
  },
  {
   "cell_type": "code",
   "execution_count": 6,
   "metadata": {},
   "outputs": [],
   "source": [
    "#Read in the budget data\n",
    "budget_df = pd.read_csv('../04_Data/budget_1.csv', index_col=0, parse_dates=['open_date'])\n",
    "\n",
    "#concatenate remaining data together\n",
    "for k in range(2,(num_budget_files+1)):                              #Use variable to set # of files to read\n",
    "    temp_df = pd.read_csv('../04_Data/budget_{}.csv'.format(k), index_col=0, parse_dates=['open_date'])\n",
    "    budget_df = pd.concat([budget_df, temp_df])\n",
    "\n",
    "#isolate useful data\n",
    "budget_df = budget_df.drop([\"rank\",\"worldwide\"],axis=1)   #drop unecessary columns\n",
    "budget_df = budget_df[budget_df['open_date'] >= datetime(years[0], 1, 1,0,0)]    #only incl. after the start year\n",
    "budget_df = budget_df[budget_df['open_date'] <= datetime(years[-1], 12, 31,0,0)] #only incl. before the end of last year\n",
    "\n",
    "budget_df = budget_df[budget_df['domestic'] > 10000]     #only include movies that grossed at least $10K\n",
    "\n",
    "budget_df = budget_df.rename(index=str, columns={'open_date':'open'})"
   ]
  },
  {
   "cell_type": "markdown",
   "metadata": {},
   "source": [
    "### Inspect Data"
   ]
  },
  {
   "cell_type": "code",
   "execution_count": 7,
   "metadata": {},
   "outputs": [
    {
     "data": {
      "text/html": [
       "<div>\n",
       "<style scoped>\n",
       "    .dataframe tbody tr th:only-of-type {\n",
       "        vertical-align: middle;\n",
       "    }\n",
       "\n",
       "    .dataframe tbody tr th {\n",
       "        vertical-align: top;\n",
       "    }\n",
       "\n",
       "    .dataframe thead th {\n",
       "        text-align: right;\n",
       "    }\n",
       "</style>\n",
       "<table border=\"1\" class=\"dataframe\">\n",
       "  <thead>\n",
       "    <tr style=\"text-align: right;\">\n",
       "      <th></th>\n",
       "      <th>rank</th>\n",
       "      <th>studio</th>\n",
       "      <th>total_box</th>\n",
       "      <th>max_sites</th>\n",
       "      <th>open_box</th>\n",
       "      <th>open_sites</th>\n",
       "      <th>open_date</th>\n",
       "      <th>url</th>\n",
       "      <th>title</th>\n",
       "    </tr>\n",
       "  </thead>\n",
       "  <tbody>\n",
       "    <tr>\n",
       "      <th>0</th>\n",
       "      <td>1</td>\n",
       "      <td>WB</td>\n",
       "      <td>533345358</td>\n",
       "      <td>4366.00</td>\n",
       "      <td>158411483.00</td>\n",
       "      <td>4366.00</td>\n",
       "      <td>2008-07-18</td>\n",
       "      <td>/movies/?id=darkknight.htm</td>\n",
       "      <td>The Dark Knight</td>\n",
       "    </tr>\n",
       "    <tr>\n",
       "      <th>1</th>\n",
       "      <td>2</td>\n",
       "      <td>Par.</td>\n",
       "      <td>318412101</td>\n",
       "      <td>4154.00</td>\n",
       "      <td>98618668.00</td>\n",
       "      <td>4105.00</td>\n",
       "      <td>2008-05-02</td>\n",
       "      <td>/movies/?id=ironman.htm</td>\n",
       "      <td>Iron Man</td>\n",
       "    </tr>\n",
       "    <tr>\n",
       "      <th>2</th>\n",
       "      <td>3</td>\n",
       "      <td>Par.</td>\n",
       "      <td>317101119</td>\n",
       "      <td>4264.00</td>\n",
       "      <td>100137835.00</td>\n",
       "      <td>4260.00</td>\n",
       "      <td>2008-05-22</td>\n",
       "      <td>/movies/?id=indianajones4.htm</td>\n",
       "      <td>Indiana Jones and the Kingdom of the Crystal S...</td>\n",
       "    </tr>\n",
       "    <tr>\n",
       "      <th>3</th>\n",
       "      <td>4</td>\n",
       "      <td>Sony</td>\n",
       "      <td>227946274</td>\n",
       "      <td>3965.00</td>\n",
       "      <td>62603879.00</td>\n",
       "      <td>3965.00</td>\n",
       "      <td>2008-07-02</td>\n",
       "      <td>/movies/?id=hancock.htm</td>\n",
       "      <td>Hancock</td>\n",
       "    </tr>\n",
       "    <tr>\n",
       "      <th>4</th>\n",
       "      <td>5</td>\n",
       "      <td>BV</td>\n",
       "      <td>223808164</td>\n",
       "      <td>3992.00</td>\n",
       "      <td>63087526.00</td>\n",
       "      <td>3992.00</td>\n",
       "      <td>2008-06-27</td>\n",
       "      <td>/movies/?id=wall-e.htm</td>\n",
       "      <td>WALL-E</td>\n",
       "    </tr>\n",
       "  </tbody>\n",
       "</table>\n",
       "</div>"
      ],
      "text/plain": [
       "   rank studio  total_box  max_sites     open_box  open_sites  open_date  \\\n",
       "0     1     WB  533345358    4366.00 158411483.00     4366.00 2008-07-18   \n",
       "1     2   Par.  318412101    4154.00  98618668.00     4105.00 2008-05-02   \n",
       "2     3   Par.  317101119    4264.00 100137835.00     4260.00 2008-05-22   \n",
       "3     4   Sony  227946274    3965.00  62603879.00     3965.00 2008-07-02   \n",
       "4     5     BV  223808164    3992.00  63087526.00     3992.00 2008-06-27   \n",
       "\n",
       "                             url  \\\n",
       "0     /movies/?id=darkknight.htm   \n",
       "1        /movies/?id=ironman.htm   \n",
       "2  /movies/?id=indianajones4.htm   \n",
       "3        /movies/?id=hancock.htm   \n",
       "4         /movies/?id=wall-e.htm   \n",
       "\n",
       "                                               title  \n",
       "0                                    The Dark Knight  \n",
       "1                                           Iron Man  \n",
       "2  Indiana Jones and the Kingdom of the Crystal S...  \n",
       "3                                            Hancock  \n",
       "4                                             WALL-E  "
      ]
     },
     "execution_count": 7,
     "metadata": {},
     "output_type": "execute_result"
    }
   ],
   "source": [
    "#Yearly Movie Data\n",
    "year_df.head(5)"
   ]
  },
  {
   "cell_type": "code",
   "execution_count": 8,
   "metadata": {},
   "outputs": [
    {
     "data": {
      "text/html": [
       "<div>\n",
       "<style scoped>\n",
       "    .dataframe tbody tr th:only-of-type {\n",
       "        vertical-align: middle;\n",
       "    }\n",
       "\n",
       "    .dataframe tbody tr th {\n",
       "        vertical-align: top;\n",
       "    }\n",
       "\n",
       "    .dataframe thead th {\n",
       "        text-align: right;\n",
       "    }\n",
       "</style>\n",
       "<table border=\"1\" class=\"dataframe\">\n",
       "  <thead>\n",
       "    <tr style=\"text-align: right;\">\n",
       "      <th></th>\n",
       "      <th>url</th>\n",
       "      <th>worldwide gross</th>\n",
       "      <th>mpaa</th>\n",
       "      <th>budget</th>\n",
       "      <th>genre</th>\n",
       "      <th>runtime</th>\n",
       "      <th>close</th>\n",
       "      <th>rundays</th>\n",
       "      <th>3d</th>\n",
       "      <th>imax</th>\n",
       "      <th>series</th>\n",
       "      <th>new_close</th>\n",
       "    </tr>\n",
       "  </thead>\n",
       "  <tbody>\n",
       "    <tr>\n",
       "      <th>0</th>\n",
       "      <td>/movies/?id=darkknight.htm</td>\n",
       "      <td>1004558444.00</td>\n",
       "      <td>PG-13</td>\n",
       "      <td>$185 million</td>\n",
       "      <td>Action / Adventure</td>\n",
       "      <td>150.00</td>\n",
       "      <td>March 5, 2009</td>\n",
       "      <td>231</td>\n",
       "      <td>0</td>\n",
       "      <td>1</td>\n",
       "      <td>1</td>\n",
       "      <td>2009-03-05</td>\n",
       "    </tr>\n",
       "    <tr>\n",
       "      <th>1</th>\n",
       "      <td>/movies/?id=ironman.htm</td>\n",
       "      <td>585174222.00</td>\n",
       "      <td>PG-13</td>\n",
       "      <td>$140 million</td>\n",
       "      <td>Action / Adventure</td>\n",
       "      <td>126.00</td>\n",
       "      <td>October 2, 2008</td>\n",
       "      <td>NaN</td>\n",
       "      <td>0</td>\n",
       "      <td>0</td>\n",
       "      <td>1</td>\n",
       "      <td>2008-10-02</td>\n",
       "    </tr>\n",
       "    <tr>\n",
       "      <th>2</th>\n",
       "      <td>/movies/?id=indianajones4.htm</td>\n",
       "      <td>786636033.00</td>\n",
       "      <td>PG-13</td>\n",
       "      <td>$185 million</td>\n",
       "      <td>Period Adventure</td>\n",
       "      <td>120.00</td>\n",
       "      <td>October 16, 2008</td>\n",
       "      <td>Opening</td>\n",
       "      <td>0</td>\n",
       "      <td>0</td>\n",
       "      <td>1</td>\n",
       "      <td>2008-10-16</td>\n",
       "    </tr>\n",
       "    <tr>\n",
       "      <th>3</th>\n",
       "      <td>/movies/?id=hancock.htm</td>\n",
       "      <td>624386746.00</td>\n",
       "      <td>PG-13</td>\n",
       "      <td>$150 million</td>\n",
       "      <td>Fantasy Drama</td>\n",
       "      <td>92.00</td>\n",
       "      <td>September 7, 2008</td>\n",
       "      <td>72</td>\n",
       "      <td>0</td>\n",
       "      <td>0</td>\n",
       "      <td>0</td>\n",
       "      <td>2008-09-07</td>\n",
       "    </tr>\n",
       "    <tr>\n",
       "      <th>4</th>\n",
       "      <td>/movies/?id=wall-e.htm</td>\n",
       "      <td>533281433.00</td>\n",
       "      <td>G</td>\n",
       "      <td>$180 million</td>\n",
       "      <td>Animation</td>\n",
       "      <td>97.00</td>\n",
       "      <td>January 8, 2009</td>\n",
       "      <td>196</td>\n",
       "      <td>0</td>\n",
       "      <td>0</td>\n",
       "      <td>0</td>\n",
       "      <td>2009-01-08</td>\n",
       "    </tr>\n",
       "  </tbody>\n",
       "</table>\n",
       "</div>"
      ],
      "text/plain": [
       "                             url  worldwide gross   mpaa        budget  \\\n",
       "0     /movies/?id=darkknight.htm    1004558444.00  PG-13  $185 million   \n",
       "1        /movies/?id=ironman.htm     585174222.00  PG-13  $140 million   \n",
       "2  /movies/?id=indianajones4.htm     786636033.00  PG-13  $185 million   \n",
       "3        /movies/?id=hancock.htm     624386746.00  PG-13  $150 million   \n",
       "4         /movies/?id=wall-e.htm     533281433.00      G  $180 million   \n",
       "\n",
       "                genre  runtime              close  rundays  3d  imax  series  \\\n",
       "0  Action / Adventure   150.00      March 5, 2009      231   0     1       1   \n",
       "1  Action / Adventure   126.00    October 2, 2008      NaN   0     0       1   \n",
       "2    Period Adventure   120.00   October 16, 2008  Opening   0     0       1   \n",
       "3       Fantasy Drama    92.00  September 7, 2008       72   0     0       0   \n",
       "4           Animation    97.00    January 8, 2009      196   0     0       0   \n",
       "\n",
       "   new_close  \n",
       "0 2009-03-05  \n",
       "1 2008-10-02  \n",
       "2 2008-10-16  \n",
       "3 2008-09-07  \n",
       "4 2009-01-08  "
      ]
     },
     "execution_count": 8,
     "metadata": {},
     "output_type": "execute_result"
    }
   ],
   "source": [
    "#Movie Detail\n",
    "movie_df.head(5)"
   ]
  },
  {
   "cell_type": "code",
   "execution_count": 9,
   "metadata": {},
   "outputs": [
    {
     "data": {
      "text/html": [
       "<div>\n",
       "<style scoped>\n",
       "    .dataframe tbody tr th:only-of-type {\n",
       "        vertical-align: middle;\n",
       "    }\n",
       "\n",
       "    .dataframe tbody tr th {\n",
       "        vertical-align: top;\n",
       "    }\n",
       "\n",
       "    .dataframe thead th {\n",
       "        text-align: right;\n",
       "    }\n",
       "</style>\n",
       "<table border=\"1\" class=\"dataframe\">\n",
       "  <thead>\n",
       "    <tr style=\"text-align: right;\">\n",
       "      <th></th>\n",
       "      <th>open</th>\n",
       "      <th>title</th>\n",
       "      <th>prod_budget</th>\n",
       "      <th>domestic</th>\n",
       "    </tr>\n",
       "  </thead>\n",
       "  <tbody>\n",
       "    <tr>\n",
       "      <th>0</th>\n",
       "      <td>2009-12-18</td>\n",
       "      <td>Avatar</td>\n",
       "      <td>425000000</td>\n",
       "      <td>760507625</td>\n",
       "    </tr>\n",
       "    <tr>\n",
       "      <th>1</th>\n",
       "      <td>2011-05-20</td>\n",
       "      <td>Pirates of the Caribbean: On Stranger Tides</td>\n",
       "      <td>410600000</td>\n",
       "      <td>241063875</td>\n",
       "    </tr>\n",
       "    <tr>\n",
       "      <th>2</th>\n",
       "      <td>2015-05-01</td>\n",
       "      <td>Avengers: Age of Ultron</td>\n",
       "      <td>330600000</td>\n",
       "      <td>459005868</td>\n",
       "    </tr>\n",
       "    <tr>\n",
       "      <th>3</th>\n",
       "      <td>2017-12-15</td>\n",
       "      <td>Star Wars Ep. VIII: The Last Jedi</td>\n",
       "      <td>317000000</td>\n",
       "      <td>620181382</td>\n",
       "    </tr>\n",
       "    <tr>\n",
       "      <th>4</th>\n",
       "      <td>2015-12-18</td>\n",
       "      <td>Star Wars Ep. VII: The Force Awakens</td>\n",
       "      <td>306000000</td>\n",
       "      <td>936662225</td>\n",
       "    </tr>\n",
       "  </tbody>\n",
       "</table>\n",
       "</div>"
      ],
      "text/plain": [
       "        open                                        title  prod_budget  \\\n",
       "0 2009-12-18                                       Avatar    425000000   \n",
       "1 2011-05-20  Pirates of the Caribbean: On Stranger Tides    410600000   \n",
       "2 2015-05-01                      Avengers: Age of Ultron    330600000   \n",
       "3 2017-12-15            Star Wars Ep. VIII: The Last Jedi    317000000   \n",
       "4 2015-12-18         Star Wars Ep. VII: The Force Awakens    306000000   \n",
       "\n",
       "    domestic  \n",
       "0  760507625  \n",
       "1  241063875  \n",
       "2  459005868  \n",
       "3  620181382  \n",
       "4  936662225  "
      ]
     },
     "execution_count": 9,
     "metadata": {},
     "output_type": "execute_result"
    }
   ],
   "source": [
    "#Budget\n",
    "budget_df.head(5)"
   ]
  },
  {
   "cell_type": "markdown",
   "metadata": {},
   "source": [
    "### Merge Movies by Year and Movie Tables Together"
   ]
  },
  {
   "cell_type": "code",
   "execution_count": 10,
   "metadata": {},
   "outputs": [],
   "source": [
    "#Merge the movie year + movie details lists together using the unique URL\n",
    "detail_df = pd.merge(year_df, movie_df, on='url', how='left')\n",
    "\n",
    "#re-organize tables to be a little cleaner and leave out uneeded columns\n",
    "detail_df = detail_df[[\"title\",'mpaa',\"open_date\",\"total_box\",'open_box',\n",
    "                     'worldwide gross','genre','runtime','rundays','3d', 'imax', 'series', 'max_sites']]\n",
    "\n",
    "#rename columns for readability\n",
    "detail_df = detail_df.rename(index=str, columns={\"open_date\": \"open\", \"total_box\": 'usa_box', \n",
    "                              \"open_box\": 'usa_open', \"worldwide gross\": \"intl_box\", \"max_sites\":'theaters' })"
   ]
  },
  {
   "cell_type": "code",
   "execution_count": 11,
   "metadata": {},
   "outputs": [
    {
     "data": {
      "text/html": [
       "<div>\n",
       "<style scoped>\n",
       "    .dataframe tbody tr th:only-of-type {\n",
       "        vertical-align: middle;\n",
       "    }\n",
       "\n",
       "    .dataframe tbody tr th {\n",
       "        vertical-align: top;\n",
       "    }\n",
       "\n",
       "    .dataframe thead th {\n",
       "        text-align: right;\n",
       "    }\n",
       "</style>\n",
       "<table border=\"1\" class=\"dataframe\">\n",
       "  <thead>\n",
       "    <tr style=\"text-align: right;\">\n",
       "      <th></th>\n",
       "      <th>title</th>\n",
       "      <th>mpaa</th>\n",
       "      <th>open</th>\n",
       "      <th>usa_box</th>\n",
       "      <th>usa_open</th>\n",
       "      <th>intl_box</th>\n",
       "      <th>genre</th>\n",
       "      <th>runtime</th>\n",
       "      <th>rundays</th>\n",
       "      <th>3d</th>\n",
       "      <th>imax</th>\n",
       "      <th>series</th>\n",
       "      <th>theaters</th>\n",
       "    </tr>\n",
       "  </thead>\n",
       "  <tbody>\n",
       "    <tr>\n",
       "      <th>0</th>\n",
       "      <td>The Dark Knight</td>\n",
       "      <td>PG-13</td>\n",
       "      <td>2008-07-18</td>\n",
       "      <td>533345358</td>\n",
       "      <td>158411483.00</td>\n",
       "      <td>1004558444.00</td>\n",
       "      <td>Action / Adventure</td>\n",
       "      <td>150.00</td>\n",
       "      <td>231</td>\n",
       "      <td>0</td>\n",
       "      <td>1</td>\n",
       "      <td>1</td>\n",
       "      <td>4366.00</td>\n",
       "    </tr>\n",
       "    <tr>\n",
       "      <th>1</th>\n",
       "      <td>Iron Man</td>\n",
       "      <td>PG-13</td>\n",
       "      <td>2008-05-02</td>\n",
       "      <td>318412101</td>\n",
       "      <td>98618668.00</td>\n",
       "      <td>585174222.00</td>\n",
       "      <td>Action / Adventure</td>\n",
       "      <td>126.00</td>\n",
       "      <td>NaN</td>\n",
       "      <td>0</td>\n",
       "      <td>0</td>\n",
       "      <td>1</td>\n",
       "      <td>4154.00</td>\n",
       "    </tr>\n",
       "  </tbody>\n",
       "</table>\n",
       "</div>"
      ],
      "text/plain": [
       "             title   mpaa       open    usa_box     usa_open      intl_box  \\\n",
       "0  The Dark Knight  PG-13 2008-07-18  533345358 158411483.00 1004558444.00   \n",
       "1         Iron Man  PG-13 2008-05-02  318412101  98618668.00  585174222.00   \n",
       "\n",
       "                genre  runtime rundays  3d  imax  series  theaters  \n",
       "0  Action / Adventure   150.00     231   0     1       1   4366.00  \n",
       "1  Action / Adventure   126.00     NaN   0     0       1   4154.00  "
      ]
     },
     "execution_count": 11,
     "metadata": {},
     "output_type": "execute_result"
    }
   ],
   "source": [
    "#take a look\n",
    "detail_df.head(2)"
   ]
  },
  {
   "cell_type": "markdown",
   "metadata": {},
   "source": [
    "### Check for Duplicates"
   ]
  },
  {
   "cell_type": "code",
   "execution_count": 12,
   "metadata": {},
   "outputs": [
    {
     "data": {
      "text/html": [
       "<div>\n",
       "<style scoped>\n",
       "    .dataframe tbody tr th:only-of-type {\n",
       "        vertical-align: middle;\n",
       "    }\n",
       "\n",
       "    .dataframe tbody tr th {\n",
       "        vertical-align: top;\n",
       "    }\n",
       "\n",
       "    .dataframe thead th {\n",
       "        text-align: right;\n",
       "    }\n",
       "</style>\n",
       "<table border=\"1\" class=\"dataframe\">\n",
       "  <thead>\n",
       "    <tr style=\"text-align: right;\">\n",
       "      <th></th>\n",
       "      <th>title</th>\n",
       "      <th>mpaa</th>\n",
       "    </tr>\n",
       "  </thead>\n",
       "  <tbody>\n",
       "    <tr>\n",
       "      <th>0</th>\n",
       "      <td>(500) Days of Summer</td>\n",
       "      <td>1</td>\n",
       "    </tr>\n",
       "    <tr>\n",
       "      <th>1329</th>\n",
       "      <td>Space Chimps</td>\n",
       "      <td>1</td>\n",
       "    </tr>\n",
       "  </tbody>\n",
       "</table>\n",
       "</div>"
      ],
      "text/plain": [
       "                     title  mpaa\n",
       "0     (500) Days of Summer     1\n",
       "1329          Space Chimps     1"
      ]
     },
     "execution_count": 12,
     "metadata": {},
     "output_type": "execute_result"
    }
   ],
   "source": [
    "#check to see if there are any movie table duplicates. There are not. \n",
    "temp_df = detail_df.groupby([\"title\"])['mpaa'].count()\n",
    "temp_df = temp_df.reset_index()\n",
    "temp_df.sort_values(['mpaa'],ascending=False).head(2)"
   ]
  },
  {
   "cell_type": "code",
   "execution_count": 13,
   "metadata": {},
   "outputs": [
    {
     "data": {
      "text/html": [
       "<div>\n",
       "<style scoped>\n",
       "    .dataframe tbody tr th:only-of-type {\n",
       "        vertical-align: middle;\n",
       "    }\n",
       "\n",
       "    .dataframe tbody tr th {\n",
       "        vertical-align: top;\n",
       "    }\n",
       "\n",
       "    .dataframe thead th {\n",
       "        text-align: right;\n",
       "    }\n",
       "</style>\n",
       "<table border=\"1\" class=\"dataframe\">\n",
       "  <thead>\n",
       "    <tr style=\"text-align: right;\">\n",
       "      <th></th>\n",
       "      <th>title</th>\n",
       "      <th>open</th>\n",
       "      <th>prod_budget</th>\n",
       "    </tr>\n",
       "  </thead>\n",
       "  <tbody>\n",
       "    <tr>\n",
       "      <th>0</th>\n",
       "      <td>10 Cloverfield Lane</td>\n",
       "      <td>2016-03-11</td>\n",
       "      <td>1</td>\n",
       "    </tr>\n",
       "    <tr>\n",
       "      <th>1281</th>\n",
       "      <td>Solitary Man</td>\n",
       "      <td>2010-05-21</td>\n",
       "      <td>1</td>\n",
       "    </tr>\n",
       "  </tbody>\n",
       "</table>\n",
       "</div>"
      ],
      "text/plain": [
       "                    title       open  prod_budget\n",
       "0     10 Cloverfield Lane 2016-03-11            1\n",
       "1281         Solitary Man 2010-05-21            1"
      ]
     },
     "execution_count": 13,
     "metadata": {},
     "output_type": "execute_result"
    }
   ],
   "source": [
    "#check to see if there are any budget table duplicates on title and open. There are not. \n",
    "temp_df = budget_df.groupby([\"title\",\"open\"])['prod_budget'].count()\n",
    "temp_df = temp_df.reset_index()\n",
    "temp_df.sort_values(['prod_budget'],ascending=False).head(2)"
   ]
  },
  {
   "cell_type": "markdown",
   "metadata": {},
   "source": [
    "### Merge Movie and Budget Tables\n",
    "\n",
    "The Movie table is from BoxOfficeMojo.com and the Budget table is from The-Numbers.com, and there are inconsistencies in how the movies are named. For example, the same movie is called 'Star Wars: The Last Jedi on BoxOfficeMojo and 'Star Wars Ep. VII: The Last Jedi' on The-Numbers. \"Tyler Perry's Meet the Browns\" on BoxOfficeMojo is \"Meet the Browns\" on The-Numbers. Also, \"Under the Same Moon\" on BoxOfficeMojo is \"La misma luna\" on The-Numbers\n",
    "\n",
    "Due to the variety of differences in the data, I will try a range of strategies to create unique matches from one table to the others. "
   ]
  },
  {
   "cell_type": "markdown",
   "metadata": {},
   "source": [
    "__Merge 1: Unique ID Using Release Date + Forward Title Fragment__"
   ]
  },
  {
   "cell_type": "code",
   "execution_count": 14,
   "metadata": {},
   "outputs": [],
   "source": [
    "#Create Unique ID from the opening day + the first 5 characters of the title. This is a preferred \n",
    "#route over matching to just the movie title because movies are named differently on BoxOfficeMojo vs The Numbers\n",
    "budget_df[\"id\"] = budget_df[\"open\"].apply(time2string)  + budget_df[\"title\"].apply(trunc,characters=6)\n",
    "detail_df[\"id\"] = detail_df[\"open\"].apply(time2string)  + detail_df[\"title\"].apply(trunc,characters=6)"
   ]
  },
  {
   "cell_type": "code",
   "execution_count": 15,
   "metadata": {},
   "outputs": [
    {
     "data": {
      "text/html": [
       "<div>\n",
       "<style scoped>\n",
       "    .dataframe tbody tr th:only-of-type {\n",
       "        vertical-align: middle;\n",
       "    }\n",
       "\n",
       "    .dataframe tbody tr th {\n",
       "        vertical-align: top;\n",
       "    }\n",
       "\n",
       "    .dataframe thead th {\n",
       "        text-align: right;\n",
       "    }\n",
       "</style>\n",
       "<table border=\"1\" class=\"dataframe\">\n",
       "  <thead>\n",
       "    <tr style=\"text-align: right;\">\n",
       "      <th></th>\n",
       "      <th>id</th>\n",
       "      <th>title</th>\n",
       "    </tr>\n",
       "  </thead>\n",
       "  <tbody>\n",
       "    <tr>\n",
       "      <th>0</th>\n",
       "      <td>2008-01-04One Mi</td>\n",
       "      <td>1</td>\n",
       "    </tr>\n",
       "    <tr>\n",
       "      <th>1281</th>\n",
       "      <td>2014-01-31Labor</td>\n",
       "      <td>1</td>\n",
       "    </tr>\n",
       "  </tbody>\n",
       "</table>\n",
       "</div>"
      ],
      "text/plain": [
       "                    id  title\n",
       "0     2008-01-04One Mi      1\n",
       "1281  2014-01-31Labor       1"
      ]
     },
     "execution_count": 15,
     "metadata": {},
     "output_type": "execute_result"
    }
   ],
   "source": [
    "#check to see if the budget keys are unique. They are!  \n",
    "temp_df = budget_df.groupby([\"id\"])['title'].count()\n",
    "temp_df = temp_df.reset_index()\n",
    "temp_df.sort_values(['title'],ascending=False).head(2)"
   ]
  },
  {
   "cell_type": "code",
   "execution_count": 16,
   "metadata": {},
   "outputs": [
    {
     "data": {
      "text/html": [
       "<div>\n",
       "<style scoped>\n",
       "    .dataframe tbody tr th:only-of-type {\n",
       "        vertical-align: middle;\n",
       "    }\n",
       "\n",
       "    .dataframe tbody tr th {\n",
       "        vertical-align: top;\n",
       "    }\n",
       "\n",
       "    .dataframe thead th {\n",
       "        text-align: right;\n",
       "    }\n",
       "</style>\n",
       "<table border=\"1\" class=\"dataframe\">\n",
       "  <thead>\n",
       "    <tr style=\"text-align: right;\">\n",
       "      <th></th>\n",
       "      <th>id</th>\n",
       "      <th>title</th>\n",
       "    </tr>\n",
       "  </thead>\n",
       "  <tbody>\n",
       "    <tr>\n",
       "      <th>0</th>\n",
       "      <td>2008-01-04One Mi</td>\n",
       "      <td>1</td>\n",
       "    </tr>\n",
       "    <tr>\n",
       "      <th>1329</th>\n",
       "      <td>2014-09-10My Old</td>\n",
       "      <td>1</td>\n",
       "    </tr>\n",
       "  </tbody>\n",
       "</table>\n",
       "</div>"
      ],
      "text/plain": [
       "                    id  title\n",
       "0     2008-01-04One Mi      1\n",
       "1329  2014-09-10My Old      1"
      ]
     },
     "execution_count": 16,
     "metadata": {},
     "output_type": "execute_result"
    }
   ],
   "source": [
    "#check to see if the movie keys are unique. They are!  \n",
    "temp_df = detail_df.groupby([\"id\"])['title'].count()\n",
    "temp_df = temp_df.reset_index()\n",
    "temp_df.sort_values(['title'],ascending=False).head(2)"
   ]
  },
  {
   "cell_type": "code",
   "execution_count": 17,
   "metadata": {},
   "outputs": [],
   "source": [
    "#Merge!! \n",
    "temp_df = pd.merge(detail_df, budget_df, on='id', how='outer')"
   ]
  },
  {
   "cell_type": "code",
   "execution_count": 18,
   "metadata": {},
   "outputs": [],
   "source": [
    "#This contains the movies that matched to a budget via 'ID' as a unique ID\n",
    "group_1_df = temp_df[temp_df[\"prod_budget\"].notnull() & temp_df[\"title_x\"].notnull()]  \n",
    "group_1_df = group_1_df.rename(index=str, columns={'title_x':'title','open_x':'open'})\n",
    "group_1_df = group_1_df[[\"title\",\"mpaa\",\"open\",\"usa_box\",\"usa_open\",\"intl_box\",\"genre\",\"runtime\",\n",
    "                         \"rundays\",\"3d\",\"imax\",\"series\",\"theaters\",\"prod_budget\"]]"
   ]
  },
  {
   "cell_type": "code",
   "execution_count": 19,
   "metadata": {},
   "outputs": [
    {
     "data": {
      "text/html": [
       "<div>\n",
       "<style scoped>\n",
       "    .dataframe tbody tr th:only-of-type {\n",
       "        vertical-align: middle;\n",
       "    }\n",
       "\n",
       "    .dataframe tbody tr th {\n",
       "        vertical-align: top;\n",
       "    }\n",
       "\n",
       "    .dataframe thead th {\n",
       "        text-align: right;\n",
       "    }\n",
       "</style>\n",
       "<table border=\"1\" class=\"dataframe\">\n",
       "  <thead>\n",
       "    <tr style=\"text-align: right;\">\n",
       "      <th></th>\n",
       "      <th>title</th>\n",
       "      <th>mpaa</th>\n",
       "      <th>open</th>\n",
       "      <th>usa_box</th>\n",
       "      <th>usa_open</th>\n",
       "      <th>intl_box</th>\n",
       "      <th>genre</th>\n",
       "      <th>runtime</th>\n",
       "      <th>rundays</th>\n",
       "      <th>3d</th>\n",
       "      <th>imax</th>\n",
       "      <th>series</th>\n",
       "      <th>theaters</th>\n",
       "      <th>prod_budget</th>\n",
       "    </tr>\n",
       "  </thead>\n",
       "  <tbody>\n",
       "    <tr>\n",
       "      <th>0</th>\n",
       "      <td>The Dark Knight</td>\n",
       "      <td>PG-13</td>\n",
       "      <td>2008-07-18</td>\n",
       "      <td>533345358.00</td>\n",
       "      <td>158411483.00</td>\n",
       "      <td>1004558444.00</td>\n",
       "      <td>Action / Adventure</td>\n",
       "      <td>150.00</td>\n",
       "      <td>231</td>\n",
       "      <td>0.00</td>\n",
       "      <td>1.00</td>\n",
       "      <td>1.00</td>\n",
       "      <td>4366.00</td>\n",
       "      <td>185000000.00</td>\n",
       "    </tr>\n",
       "    <tr>\n",
       "      <th>1</th>\n",
       "      <td>Iron Man</td>\n",
       "      <td>PG-13</td>\n",
       "      <td>2008-05-02</td>\n",
       "      <td>318412101.00</td>\n",
       "      <td>98618668.00</td>\n",
       "      <td>585174222.00</td>\n",
       "      <td>Action / Adventure</td>\n",
       "      <td>126.00</td>\n",
       "      <td>NaN</td>\n",
       "      <td>0.00</td>\n",
       "      <td>0.00</td>\n",
       "      <td>1.00</td>\n",
       "      <td>4154.00</td>\n",
       "      <td>186000000.00</td>\n",
       "    </tr>\n",
       "  </tbody>\n",
       "</table>\n",
       "</div>"
      ],
      "text/plain": [
       "             title   mpaa       open      usa_box     usa_open      intl_box  \\\n",
       "0  The Dark Knight  PG-13 2008-07-18 533345358.00 158411483.00 1004558444.00   \n",
       "1         Iron Man  PG-13 2008-05-02 318412101.00  98618668.00  585174222.00   \n",
       "\n",
       "                genre  runtime rundays   3d  imax  series  theaters  \\\n",
       "0  Action / Adventure   150.00     231 0.00  1.00    1.00   4366.00   \n",
       "1  Action / Adventure   126.00     NaN 0.00  0.00    1.00   4154.00   \n",
       "\n",
       "   prod_budget  \n",
       "0 185000000.00  \n",
       "1 186000000.00  "
      ]
     },
     "execution_count": 19,
     "metadata": {},
     "output_type": "execute_result"
    }
   ],
   "source": [
    "group_1_df.head(2)"
   ]
  },
  {
   "cell_type": "code",
   "execution_count": 20,
   "metadata": {},
   "outputs": [
    {
     "data": {
      "text/plain": [
       "(1439, 14)"
      ]
     },
     "execution_count": 20,
     "metadata": {},
     "output_type": "execute_result"
    }
   ],
   "source": [
    "group_1_df.shape  #1439 Movies Matched on this merge"
   ]
  },
  {
   "cell_type": "code",
   "execution_count": 21,
   "metadata": {},
   "outputs": [],
   "source": [
    "#this is a dataframe of movies that didn't match\n",
    "remaining_df = temp_df[temp_df[\"prod_budget\"].isnull()]\n",
    "remaining_df = remaining_df.rename(index=str, columns={'title_x':'title','open_x':'open'})\n",
    "remaining_df = remaining_df[[\"title\",\"mpaa\",\"open\",\"usa_box\",\"usa_open\",\"intl_box\",\"genre\",\"runtime\",\n",
    "                         \"rundays\",\"3d\",\"imax\",\"series\",\"theaters\"]]"
   ]
  },
  {
   "cell_type": "code",
   "execution_count": 22,
   "metadata": {},
   "outputs": [
    {
     "data": {
      "text/plain": [
       "(561, 13)"
      ]
     },
     "execution_count": 22,
     "metadata": {},
     "output_type": "execute_result"
    }
   ],
   "source": [
    "remaining_df.shape #561 Movies did not Match on this merge"
   ]
  },
  {
   "cell_type": "code",
   "execution_count": 23,
   "metadata": {},
   "outputs": [],
   "source": [
    "#this is a dataframe of budget information that has not matched yet\n",
    "remain_budget_df = temp_df[temp_df[\"title_x\"].isnull()]  \n",
    "remain_budget_df = remain_budget_df.rename(index=str, columns={'title_y':'title','open_y':'open'})\n",
    "remain_budget_df = remain_budget_df[[\"open\",\"title\",\"prod_budget\",\"domestic\"]]"
   ]
  },
  {
   "cell_type": "code",
   "execution_count": 24,
   "metadata": {},
   "outputs": [
    {
     "data": {
      "text/plain": [
       "(512, 4)"
      ]
     },
     "execution_count": 24,
     "metadata": {},
     "output_type": "execute_result"
    }
   ],
   "source": [
    "remain_budget_df.shape  #512 Budget Lines remain"
   ]
  },
  {
   "cell_type": "markdown",
   "metadata": {},
   "source": [
    "__Merge 2: Unique ID Using Release Date + Trailing Title Fragment__"
   ]
  },
  {
   "cell_type": "code",
   "execution_count": 25,
   "metadata": {},
   "outputs": [],
   "source": [
    "#create new 'ID2' to match using opening date plus trailing characters from the movie name\n",
    "remain_budget_df[\"id2\"] = remain_budget_df[\"open\"].apply(time2string)  + remain_budget_df[\"title\"].apply(trunc_end,characters=9)\n",
    "remaining_df[\"id2\"] = remaining_df[\"open\"].apply(time2string)  + remaining_df[\"title\"].apply(trunc_end,characters=9)"
   ]
  },
  {
   "cell_type": "code",
   "execution_count": 26,
   "metadata": {
    "scrolled": false
   },
   "outputs": [
    {
     "data": {
      "text/html": [
       "<div>\n",
       "<style scoped>\n",
       "    .dataframe tbody tr th:only-of-type {\n",
       "        vertical-align: middle;\n",
       "    }\n",
       "\n",
       "    .dataframe tbody tr th {\n",
       "        vertical-align: top;\n",
       "    }\n",
       "\n",
       "    .dataframe thead th {\n",
       "        text-align: right;\n",
       "    }\n",
       "</style>\n",
       "<table border=\"1\" class=\"dataframe\">\n",
       "  <thead>\n",
       "    <tr style=\"text-align: right;\">\n",
       "      <th></th>\n",
       "      <th>id2</th>\n",
       "      <th>title</th>\n",
       "    </tr>\n",
       "  </thead>\n",
       "  <tbody>\n",
       "    <tr>\n",
       "      <th>0</th>\n",
       "      <td>2008-01-18All Hat</td>\n",
       "      <td>1</td>\n",
       "    </tr>\n",
       "    <tr>\n",
       "      <th>1</th>\n",
       "      <td>2008-01-18Dark Side</td>\n",
       "      <td>1</td>\n",
       "    </tr>\n",
       "  </tbody>\n",
       "</table>\n",
       "</div>"
      ],
      "text/plain": [
       "                   id2  title\n",
       "0    2008-01-18All Hat      1\n",
       "1  2008-01-18Dark Side      1"
      ]
     },
     "execution_count": 26,
     "metadata": {},
     "output_type": "execute_result"
    }
   ],
   "source": [
    "#check to see if the budget keys are unique. They Are!  \n",
    "temp_df = remain_budget_df.groupby([\"id2\"])['title'].count()\n",
    "temp_df = temp_df.reset_index()\n",
    "temp_df.sort_values(['title'],ascending=False).head(2)"
   ]
  },
  {
   "cell_type": "code",
   "execution_count": 27,
   "metadata": {},
   "outputs": [
    {
     "data": {
      "text/html": [
       "<div>\n",
       "<style scoped>\n",
       "    .dataframe tbody tr th:only-of-type {\n",
       "        vertical-align: middle;\n",
       "    }\n",
       "\n",
       "    .dataframe tbody tr th {\n",
       "        vertical-align: top;\n",
       "    }\n",
       "\n",
       "    .dataframe thead th {\n",
       "        text-align: right;\n",
       "    }\n",
       "</style>\n",
       "<table border=\"1\" class=\"dataframe\">\n",
       "  <thead>\n",
       "    <tr style=\"text-align: right;\">\n",
       "      <th></th>\n",
       "      <th>id2</th>\n",
       "      <th>title</th>\n",
       "    </tr>\n",
       "  </thead>\n",
       "  <tbody>\n",
       "    <tr>\n",
       "      <th>200</th>\n",
       "      <td>2012-07-19-release)</td>\n",
       "      <td>2</td>\n",
       "    </tr>\n",
       "    <tr>\n",
       "      <th>0</th>\n",
       "      <td>2008-01-11st Sunday</td>\n",
       "      <td>1</td>\n",
       "    </tr>\n",
       "  </tbody>\n",
       "</table>\n",
       "</div>"
      ],
      "text/plain": [
       "                     id2  title\n",
       "200  2012-07-19-release)      2\n",
       "0    2008-01-11st Sunday      1"
      ]
     },
     "execution_count": 27,
     "metadata": {},
     "output_type": "execute_result"
    }
   ],
   "source": [
    "#check to see if the movie keys are unique. There are two duplicates, which have closer inspection below\n",
    "temp_df = remaining_df.groupby([\"id2\"])['title'].count()\n",
    "temp_df = temp_df.reset_index()\n",
    "temp_df.sort_values(['title'],ascending=False).head(2)"
   ]
  },
  {
   "cell_type": "code",
   "execution_count": 28,
   "metadata": {},
   "outputs": [
    {
     "data": {
      "text/html": [
       "<div>\n",
       "<style scoped>\n",
       "    .dataframe tbody tr th:only-of-type {\n",
       "        vertical-align: middle;\n",
       "    }\n",
       "\n",
       "    .dataframe tbody tr th {\n",
       "        vertical-align: top;\n",
       "    }\n",
       "\n",
       "    .dataframe thead th {\n",
       "        text-align: right;\n",
       "    }\n",
       "</style>\n",
       "<table border=\"1\" class=\"dataframe\">\n",
       "  <thead>\n",
       "    <tr style=\"text-align: right;\">\n",
       "      <th></th>\n",
       "      <th>title</th>\n",
       "      <th>mpaa</th>\n",
       "      <th>open</th>\n",
       "      <th>usa_box</th>\n",
       "      <th>usa_open</th>\n",
       "      <th>intl_box</th>\n",
       "      <th>genre</th>\n",
       "      <th>runtime</th>\n",
       "      <th>rundays</th>\n",
       "      <th>3d</th>\n",
       "      <th>imax</th>\n",
       "      <th>series</th>\n",
       "      <th>theaters</th>\n",
       "      <th>id2</th>\n",
       "    </tr>\n",
       "  </thead>\n",
       "  <tbody>\n",
       "    <tr>\n",
       "      <th>994</th>\n",
       "      <td>The Dark Knight (2012 re-release)</td>\n",
       "      <td>PG-13</td>\n",
       "      <td>2012-07-19</td>\n",
       "      <td>1513086.00</td>\n",
       "      <td>nan</td>\n",
       "      <td>nan</td>\n",
       "      <td>Action / Adventure</td>\n",
       "      <td>150.00</td>\n",
       "      <td>1</td>\n",
       "      <td>0.00</td>\n",
       "      <td>0.00</td>\n",
       "      <td>1.00</td>\n",
       "      <td>nan</td>\n",
       "      <td>2012-07-19-release)</td>\n",
       "    </tr>\n",
       "    <tr>\n",
       "      <th>995</th>\n",
       "      <td>Batman Begins (2012 re-release)</td>\n",
       "      <td>PG-13</td>\n",
       "      <td>2012-07-19</td>\n",
       "      <td>1508658.00</td>\n",
       "      <td>nan</td>\n",
       "      <td>nan</td>\n",
       "      <td>Action / Adventure</td>\n",
       "      <td>140.00</td>\n",
       "      <td>1</td>\n",
       "      <td>0.00</td>\n",
       "      <td>0.00</td>\n",
       "      <td>1.00</td>\n",
       "      <td>nan</td>\n",
       "      <td>2012-07-19-release)</td>\n",
       "    </tr>\n",
       "  </tbody>\n",
       "</table>\n",
       "</div>"
      ],
      "text/plain": [
       "                                 title   mpaa       open    usa_box  usa_open  \\\n",
       "994  The Dark Knight (2012 re-release)  PG-13 2012-07-19 1513086.00       nan   \n",
       "995    Batman Begins (2012 re-release)  PG-13 2012-07-19 1508658.00       nan   \n",
       "\n",
       "     intl_box               genre  runtime rundays   3d  imax  series  \\\n",
       "994       nan  Action / Adventure   150.00       1 0.00  0.00    1.00   \n",
       "995       nan  Action / Adventure   140.00       1 0.00  0.00    1.00   \n",
       "\n",
       "     theaters                  id2  \n",
       "994       nan  2012-07-19-release)  \n",
       "995       nan  2012-07-19-release)  "
      ]
     },
     "execution_count": 28,
     "metadata": {},
     "output_type": "execute_result"
    }
   ],
   "source": [
    "# inpsecting the duplicate keys above shows two are re-releases of previous movies and may not have\n",
    "# had theatrical releases It's probably ok to leave these in there since they would be removed later\n",
    "# on for not having theaters\n",
    "remaining_df[(remaining_df['open']=='2012-07-19')]"
   ]
  },
  {
   "cell_type": "code",
   "execution_count": 29,
   "metadata": {},
   "outputs": [],
   "source": [
    "#Merge!!!!!\n",
    "temp_df = pd.merge(remaining_df, remain_budget_df, on='id2', how='outer')"
   ]
  },
  {
   "cell_type": "code",
   "execution_count": 30,
   "metadata": {},
   "outputs": [],
   "source": [
    "#This contains the movies that matched to a budget via 'ID2' as a unique ID\n",
    "group_2_df = temp_df[temp_df[\"prod_budget\"].notnull() & temp_df[\"title_x\"].notnull()]  \n",
    "group_2_df = group_2_df.rename(index=str, columns={'title_x':'title','open_x':'open'})\n",
    "group_2_df = group_2_df[[\"title\",\"mpaa\",\"open\",\"usa_box\",\"usa_open\",\"intl_box\",\"genre\",\"runtime\",\n",
    "                         \"rundays\",\"3d\",\"imax\",\"series\",\"theaters\",\"prod_budget\"]]"
   ]
  },
  {
   "cell_type": "code",
   "execution_count": 31,
   "metadata": {},
   "outputs": [
    {
     "data": {
      "text/plain": [
       "(27, 14)"
      ]
     },
     "execution_count": 31,
     "metadata": {},
     "output_type": "execute_result"
    }
   ],
   "source": [
    "group_2_df.shape    #27 Movie Matched in this round"
   ]
  },
  {
   "cell_type": "code",
   "execution_count": 32,
   "metadata": {},
   "outputs": [],
   "source": [
    "#this is a dataframe of movies that didn't match\n",
    "remaining_2_df = temp_df[temp_df[\"prod_budget\"].isnull()]\n",
    "remaining_2_df = remaining_2_df.rename(index=str, columns={'title_x':'title','open_x':'open'})\n",
    "remaining_2_df = remaining_2_df[[\"title\",\"mpaa\",\"open\",\"usa_box\",\"usa_open\",\"intl_box\",\"genre\",\"runtime\",\n",
    "                         \"rundays\",\"3d\",\"imax\",\"series\",\"theaters\"]]"
   ]
  },
  {
   "cell_type": "code",
   "execution_count": 33,
   "metadata": {},
   "outputs": [
    {
     "data": {
      "text/plain": [
       "(534, 13)"
      ]
     },
     "execution_count": 33,
     "metadata": {},
     "output_type": "execute_result"
    }
   ],
   "source": [
    "remaining_2_df.shape  #534 Movies remain unmatched "
   ]
  },
  {
   "cell_type": "code",
   "execution_count": 34,
   "metadata": {},
   "outputs": [],
   "source": [
    "#this is a dataframe of budget information that has not matched yet\n",
    "remain_budget_2_df = temp_df[temp_df[\"title_x\"].isnull()]  \n",
    "remain_budget_2_df = remain_budget_2_df.rename(index=str, columns={'title_y':'title','open_y':'open'})\n",
    "remain_budget_2_df = remain_budget_2_df[[\"open\",\"title\",\"prod_budget\",\"domestic\"]]"
   ]
  },
  {
   "cell_type": "code",
   "execution_count": 35,
   "metadata": {},
   "outputs": [
    {
     "data": {
      "text/plain": [
       "(485, 4)"
      ]
     },
     "execution_count": 35,
     "metadata": {},
     "output_type": "execute_result"
    }
   ],
   "source": [
    "remain_budget_2_df.shape   #485 Budget Lines remain"
   ]
  },
  {
   "cell_type": "markdown",
   "metadata": {},
   "source": [
    "__Merge 3: Titles__"
   ]
  },
  {
   "cell_type": "markdown",
   "metadata": {},
   "source": [
    "This will catch movies that have different open dates on BoxOfficeMojo vs The-Numbers"
   ]
  },
  {
   "cell_type": "code",
   "execution_count": 36,
   "metadata": {},
   "outputs": [],
   "source": [
    "#Some titles in Box Office Mojo have Years in their names with (). These should be cleaned\n",
    "remaining_2_df[\"title\"] = remaining_2_df[\"title\"].apply(remove_year)"
   ]
  },
  {
   "cell_type": "code",
   "execution_count": 37,
   "metadata": {},
   "outputs": [],
   "source": [
    "#Since the budget rows are only unique on title and also date, I'll still use year and month\n",
    "remaining_2_df[\"id\"] = remaining_2_df[\"open\"].apply(time2monthyearstring) + remaining_2_df[\"title\"]\n",
    "remain_budget_2_df[\"id\"] = remain_budget_2_df[\"open\"].apply(time2monthyearstring) + remain_budget_2_df[\"title\"]"
   ]
  },
  {
   "cell_type": "code",
   "execution_count": 38,
   "metadata": {},
   "outputs": [],
   "source": [
    "#merge on the name of the movie itself\n",
    "temp_df = pd.merge(remaining_2_df, remain_budget_2_df, on='id', how='outer')"
   ]
  },
  {
   "cell_type": "code",
   "execution_count": 39,
   "metadata": {},
   "outputs": [],
   "source": [
    "#this contains the movies that matched by name\n",
    "group_3_df = temp_df[temp_df[\"prod_budget\"].notnull() & temp_df[\"mpaa\"].notnull()]    #boolean changed to mpaa here\n",
    "group_3_df = group_3_df.rename(index=str, columns={'title_x':'title','open_x':'open'})\n",
    "group_3_df = group_3_df[[\"title\",\"mpaa\",\"open\",\"usa_box\",\"usa_open\",\"intl_box\",\"genre\",\"runtime\",\n",
    "                         \"rundays\",\"3d\",\"imax\",\"series\",\"theaters\",\"prod_budget\"]]"
   ]
  },
  {
   "cell_type": "code",
   "execution_count": 40,
   "metadata": {},
   "outputs": [
    {
     "data": {
      "text/plain": [
       "(25, 14)"
      ]
     },
     "execution_count": 40,
     "metadata": {},
     "output_type": "execute_result"
    }
   ],
   "source": [
    "group_3_df.shape  #25 Movies matched on Title"
   ]
  },
  {
   "cell_type": "code",
   "execution_count": 41,
   "metadata": {},
   "outputs": [
    {
     "data": {
      "text/html": [
       "<div>\n",
       "<style scoped>\n",
       "    .dataframe tbody tr th:only-of-type {\n",
       "        vertical-align: middle;\n",
       "    }\n",
       "\n",
       "    .dataframe tbody tr th {\n",
       "        vertical-align: top;\n",
       "    }\n",
       "\n",
       "    .dataframe thead th {\n",
       "        text-align: right;\n",
       "    }\n",
       "</style>\n",
       "<table border=\"1\" class=\"dataframe\">\n",
       "  <thead>\n",
       "    <tr style=\"text-align: right;\">\n",
       "      <th></th>\n",
       "      <th>title</th>\n",
       "      <th>mpaa</th>\n",
       "    </tr>\n",
       "  </thead>\n",
       "  <tbody>\n",
       "    <tr>\n",
       "      <th>0</th>\n",
       "      <td>Annie</td>\n",
       "      <td>1</td>\n",
       "    </tr>\n",
       "    <tr>\n",
       "      <th>13</th>\n",
       "      <td>Life</td>\n",
       "      <td>1</td>\n",
       "    </tr>\n",
       "  </tbody>\n",
       "</table>\n",
       "</div>"
      ],
      "text/plain": [
       "    title  mpaa\n",
       "0   Annie     1\n",
       "13   Life     1"
      ]
     },
     "execution_count": 41,
     "metadata": {},
     "output_type": "execute_result"
    }
   ],
   "source": [
    "#check to make sure there were no duplicates. Looks good! \n",
    "group_3_df.groupby([\"title\"])[\"mpaa\"].count().reset_index().sort_values([\"mpaa\"],ascending=False).head(2)"
   ]
  },
  {
   "cell_type": "code",
   "execution_count": 42,
   "metadata": {},
   "outputs": [],
   "source": [
    "#this is a dataframe of movies that didn't match\n",
    "remaining_3_df = temp_df[temp_df[\"prod_budget\"].isnull()]\n",
    "remaining_3_df = remaining_3_df.rename(index=str, columns={'title_x':'title','open_x':'open'})\n",
    "remaining_3_df = remaining_3_df[[\"title\",\"mpaa\",\"open\",\"usa_box\",\"usa_open\",\"intl_box\",\"genre\",\"runtime\",\n",
    "                         \"rundays\",\"3d\",\"imax\",\"series\",\"theaters\"]]"
   ]
  },
  {
   "cell_type": "code",
   "execution_count": 43,
   "metadata": {},
   "outputs": [
    {
     "data": {
      "text/plain": [
       "(509, 13)"
      ]
     },
     "execution_count": 43,
     "metadata": {},
     "output_type": "execute_result"
    }
   ],
   "source": [
    "remaining_3_df.shape  #509 Movies remain unmatched"
   ]
  },
  {
   "cell_type": "code",
   "execution_count": 44,
   "metadata": {},
   "outputs": [],
   "source": [
    "#this is a dataframe of budget information that has not matched yet\n",
    "remain_budget_3_df = temp_df[temp_df[\"mpaa\"].isnull()]    #boolean changed to mpaa here\n",
    "remain_budget_3_df = remain_budget_3_df.rename(index=str, columns={'title_y':'title','open_y':'open'})\n",
    "remain_budget_3_df = remain_budget_3_df[[\"open\",\"title\",\"prod_budget\",\"domestic\"]]"
   ]
  },
  {
   "cell_type": "code",
   "execution_count": 45,
   "metadata": {},
   "outputs": [
    {
     "data": {
      "text/plain": [
       "(460, 4)"
      ]
     },
     "execution_count": 45,
     "metadata": {},
     "output_type": "execute_result"
    }
   ],
   "source": [
    "remain_budget_3_df.shape  #460 Budgets Remain Unmatched"
   ]
  },
  {
   "cell_type": "markdown",
   "metadata": {},
   "source": [
    "__Explore Remaining Titles: What Else Can I Merge On?__"
   ]
  },
  {
   "cell_type": "code",
   "execution_count": 46,
   "metadata": {},
   "outputs": [
    {
     "data": {
      "text/html": [
       "<div>\n",
       "<style scoped>\n",
       "    .dataframe tbody tr th:only-of-type {\n",
       "        vertical-align: middle;\n",
       "    }\n",
       "\n",
       "    .dataframe tbody tr th {\n",
       "        vertical-align: top;\n",
       "    }\n",
       "\n",
       "    .dataframe thead th {\n",
       "        text-align: right;\n",
       "    }\n",
       "</style>\n",
       "<table border=\"1\" class=\"dataframe\">\n",
       "  <thead>\n",
       "    <tr style=\"text-align: right;\">\n",
       "      <th></th>\n",
       "      <th>title</th>\n",
       "      <th>mpaa</th>\n",
       "      <th>open</th>\n",
       "      <th>usa_box</th>\n",
       "      <th>usa_open</th>\n",
       "      <th>intl_box</th>\n",
       "      <th>genre</th>\n",
       "      <th>runtime</th>\n",
       "      <th>rundays</th>\n",
       "      <th>3d</th>\n",
       "      <th>imax</th>\n",
       "      <th>series</th>\n",
       "      <th>theaters</th>\n",
       "    </tr>\n",
       "  </thead>\n",
       "  <tbody>\n",
       "    <tr>\n",
       "      <th>272</th>\n",
       "      <td>The LEGO Movie</td>\n",
       "      <td>PG</td>\n",
       "      <td>2014-02-07</td>\n",
       "      <td>257760692.00</td>\n",
       "      <td>69050279.00</td>\n",
       "      <td>469160692.00</td>\n",
       "      <td>Animation</td>\n",
       "      <td>100.00</td>\n",
       "      <td>210</td>\n",
       "      <td>1.00</td>\n",
       "      <td>0.00</td>\n",
       "      <td>1.00</td>\n",
       "      <td>3890.00</td>\n",
       "    </tr>\n",
       "    <tr>\n",
       "      <th>158</th>\n",
       "      <td>MIB 3</td>\n",
       "      <td>PG-13</td>\n",
       "      <td>2012-05-25</td>\n",
       "      <td>179020854.00</td>\n",
       "      <td>54592779.00</td>\n",
       "      <td>624026776.00</td>\n",
       "      <td>Sci-Fi Comedy</td>\n",
       "      <td>106.00</td>\n",
       "      <td>108</td>\n",
       "      <td>1.00</td>\n",
       "      <td>1.00</td>\n",
       "      <td>1.00</td>\n",
       "      <td>4248.00</td>\n",
       "    </tr>\n",
       "    <tr>\n",
       "      <th>82</th>\n",
       "      <td>Tron Legacy</td>\n",
       "      <td>PG</td>\n",
       "      <td>2010-12-17</td>\n",
       "      <td>172062763.00</td>\n",
       "      <td>44026211.00</td>\n",
       "      <td>400062763.00</td>\n",
       "      <td>Sci-Fi Action</td>\n",
       "      <td>125.00</td>\n",
       "      <td>119</td>\n",
       "      <td>1.00</td>\n",
       "      <td>1.00</td>\n",
       "      <td>1.00</td>\n",
       "      <td>3451.00</td>\n",
       "    </tr>\n",
       "    <tr>\n",
       "      <th>33</th>\n",
       "      <td>Fast and Furious</td>\n",
       "      <td>PG-13</td>\n",
       "      <td>2009-04-03</td>\n",
       "      <td>155064265.00</td>\n",
       "      <td>70950500.00</td>\n",
       "      <td>363164265.00</td>\n",
       "      <td>Action</td>\n",
       "      <td>99.00</td>\n",
       "      <td>91</td>\n",
       "      <td>0.00</td>\n",
       "      <td>0.00</td>\n",
       "      <td>1.00</td>\n",
       "      <td>3674.00</td>\n",
       "    </tr>\n",
       "    <tr>\n",
       "      <th>1</th>\n",
       "      <td>Dr. Seuss' Horton Hears a Who!</td>\n",
       "      <td>G</td>\n",
       "      <td>2008-03-14</td>\n",
       "      <td>154529439.00</td>\n",
       "      <td>45012998.00</td>\n",
       "      <td>297138014.00</td>\n",
       "      <td>Animation</td>\n",
       "      <td>88.00</td>\n",
       "      <td>175</td>\n",
       "      <td>0.00</td>\n",
       "      <td>0.00</td>\n",
       "      <td>0.00</td>\n",
       "      <td>3961.00</td>\n",
       "    </tr>\n",
       "  </tbody>\n",
       "</table>\n",
       "</div>"
      ],
      "text/plain": [
       "                              title   mpaa       open      usa_box  \\\n",
       "272                  The LEGO Movie     PG 2014-02-07 257760692.00   \n",
       "158                           MIB 3  PG-13 2012-05-25 179020854.00   \n",
       "82                      Tron Legacy     PG 2010-12-17 172062763.00   \n",
       "33                 Fast and Furious  PG-13 2009-04-03 155064265.00   \n",
       "1    Dr. Seuss' Horton Hears a Who!      G 2008-03-14 154529439.00   \n",
       "\n",
       "       usa_open     intl_box          genre  runtime rundays   3d  imax  \\\n",
       "272 69050279.00 469160692.00      Animation   100.00     210 1.00  0.00   \n",
       "158 54592779.00 624026776.00  Sci-Fi Comedy   106.00     108 1.00  1.00   \n",
       "82  44026211.00 400062763.00  Sci-Fi Action   125.00     119 1.00  1.00   \n",
       "33  70950500.00 363164265.00         Action    99.00      91 0.00  0.00   \n",
       "1   45012998.00 297138014.00      Animation    88.00     175 0.00  0.00   \n",
       "\n",
       "     series  theaters  \n",
       "272    1.00   3890.00  \n",
       "158    1.00   4248.00  \n",
       "82     1.00   3451.00  \n",
       "33     1.00   3674.00  \n",
       "1      0.00   3961.00  "
      ]
     },
     "execution_count": 46,
     "metadata": {},
     "output_type": "execute_result"
    }
   ],
   "source": [
    "remaining_3_df.sort_values(['usa_box'],ascending=False).head(5)"
   ]
  },
  {
   "cell_type": "code",
   "execution_count": 47,
   "metadata": {},
   "outputs": [
    {
     "data": {
      "text/html": [
       "<div>\n",
       "<style scoped>\n",
       "    .dataframe tbody tr th:only-of-type {\n",
       "        vertical-align: middle;\n",
       "    }\n",
       "\n",
       "    .dataframe tbody tr th {\n",
       "        vertical-align: top;\n",
       "    }\n",
       "\n",
       "    .dataframe thead th {\n",
       "        text-align: right;\n",
       "    }\n",
       "</style>\n",
       "<table border=\"1\" class=\"dataframe\">\n",
       "  <thead>\n",
       "    <tr style=\"text-align: right;\">\n",
       "      <th></th>\n",
       "      <th>open</th>\n",
       "      <th>title</th>\n",
       "      <th>prod_budget</th>\n",
       "      <th>domestic</th>\n",
       "    </tr>\n",
       "  </thead>\n",
       "  <tbody>\n",
       "    <tr>\n",
       "      <th>551</th>\n",
       "      <td>2014-02-07</td>\n",
       "      <td>The Lego Movie</td>\n",
       "      <td>60000000.00</td>\n",
       "      <td>257784718.00</td>\n",
       "    </tr>\n",
       "    <tr>\n",
       "      <th>534</th>\n",
       "      <td>2012-05-25</td>\n",
       "      <td>Men in Black 3</td>\n",
       "      <td>215000000.00</td>\n",
       "      <td>179020854.00</td>\n",
       "    </tr>\n",
       "    <tr>\n",
       "      <th>535</th>\n",
       "      <td>2010-12-17</td>\n",
       "      <td>Tron: Legacy</td>\n",
       "      <td>200000000.00</td>\n",
       "      <td>172062763.00</td>\n",
       "    </tr>\n",
       "    <tr>\n",
       "      <th>540</th>\n",
       "      <td>2009-04-03</td>\n",
       "      <td>Fast &amp; Furious</td>\n",
       "      <td>85000000.00</td>\n",
       "      <td>155064265.00</td>\n",
       "    </tr>\n",
       "    <tr>\n",
       "      <th>541</th>\n",
       "      <td>2008-03-14</td>\n",
       "      <td>Horton Hears a Who</td>\n",
       "      <td>85000000.00</td>\n",
       "      <td>154529439.00</td>\n",
       "    </tr>\n",
       "  </tbody>\n",
       "</table>\n",
       "</div>"
      ],
      "text/plain": [
       "          open               title  prod_budget     domestic\n",
       "551 2014-02-07      The Lego Movie  60000000.00 257784718.00\n",
       "534 2012-05-25      Men in Black 3 215000000.00 179020854.00\n",
       "535 2010-12-17        Tron: Legacy 200000000.00 172062763.00\n",
       "540 2009-04-03      Fast & Furious  85000000.00 155064265.00\n",
       "541 2008-03-14  Horton Hears a Who  85000000.00 154529439.00"
      ]
     },
     "execution_count": 47,
     "metadata": {},
     "output_type": "execute_result"
    }
   ],
   "source": [
    "remain_budget_3_df.sort_values(['domestic'],ascending=False).head(5)"
   ]
  },
  {
   "cell_type": "markdown",
   "metadata": {},
   "source": [
    "I also think I can match on Open Date and the first few digits of the domestic box office"
   ]
  },
  {
   "cell_type": "markdown",
   "metadata": {},
   "source": [
    "__Merge 4: Date + First N Digits of the Domestic Box Office Total__"
   ]
  },
  {
   "cell_type": "code",
   "execution_count": 48,
   "metadata": {},
   "outputs": [],
   "source": [
    "#Create Unique ID from the opening day + the first 2 characters of the domestic budget. \n",
    "remain_budget_3_df[\"id\"] = remain_budget_3_df[\"open\"].apply(time2string)  + '-' + remain_budget_3_df[\"domestic\"].apply(trunc,characters=4)\n",
    "remaining_3_df[\"id\"] = remaining_3_df[\"open\"].apply(time2string)  + '-' + remaining_3_df[\"usa_box\"].apply(trunc,characters=4)"
   ]
  },
  {
   "cell_type": "code",
   "execution_count": 49,
   "metadata": {},
   "outputs": [
    {
     "data": {
      "text/html": [
       "<div>\n",
       "<style scoped>\n",
       "    .dataframe tbody tr th:only-of-type {\n",
       "        vertical-align: middle;\n",
       "    }\n",
       "\n",
       "    .dataframe tbody tr th {\n",
       "        vertical-align: top;\n",
       "    }\n",
       "\n",
       "    .dataframe thead th {\n",
       "        text-align: right;\n",
       "    }\n",
       "</style>\n",
       "<table border=\"1\" class=\"dataframe\">\n",
       "  <thead>\n",
       "    <tr style=\"text-align: right;\">\n",
       "      <th></th>\n",
       "      <th>id</th>\n",
       "      <th>title</th>\n",
       "    </tr>\n",
       "  </thead>\n",
       "  <tbody>\n",
       "    <tr>\n",
       "      <th>0</th>\n",
       "      <td>2008-01-18-1519</td>\n",
       "      <td>1</td>\n",
       "    </tr>\n",
       "    <tr>\n",
       "      <th>316</th>\n",
       "      <td>2013-08-02-5967</td>\n",
       "      <td>1</td>\n",
       "    </tr>\n",
       "  </tbody>\n",
       "</table>\n",
       "</div>"
      ],
      "text/plain": [
       "                  id  title\n",
       "0    2008-01-18-1519      1\n",
       "316  2013-08-02-5967      1"
      ]
     },
     "execution_count": 49,
     "metadata": {},
     "output_type": "execute_result"
    }
   ],
   "source": [
    "#check to see if the budget keys are unique. They are!  \n",
    "temp_df = remain_budget_3_df.groupby([\"id\"])['title'].count()\n",
    "temp_df = temp_df.reset_index()\n",
    "temp_df.sort_values(['title'],ascending=False).head(2)"
   ]
  },
  {
   "cell_type": "code",
   "execution_count": 50,
   "metadata": {},
   "outputs": [],
   "source": [
    "#merge!!!\n",
    "temp_df = pd.merge(remaining_3_df, remain_budget_3_df, on='id', how='outer')"
   ]
  },
  {
   "cell_type": "code",
   "execution_count": 51,
   "metadata": {},
   "outputs": [],
   "source": [
    "#this contains the movies that matched by name\n",
    "group_4_df = temp_df[temp_df[\"prod_budget\"].notnull() & temp_df[\"title_x\"].notnull()]    \n",
    "group_4_df = group_4_df.rename(index=str, columns={'title_x':'title','open_x':'open'})\n",
    "group_4_df = group_4_df[[\"title\",\"mpaa\",\"open\",\"usa_box\",\"usa_open\",\"intl_box\",\"genre\",\"runtime\",\n",
    "                         \"rundays\",\"3d\",\"imax\",\"series\",\"theaters\",\"prod_budget\"]]"
   ]
  },
  {
   "cell_type": "code",
   "execution_count": 52,
   "metadata": {},
   "outputs": [
    {
     "data": {
      "text/plain": [
       "(50, 14)"
      ]
     },
     "execution_count": 52,
     "metadata": {},
     "output_type": "execute_result"
    }
   ],
   "source": [
    "group_4_df.shape  #50 Movies Matched"
   ]
  },
  {
   "cell_type": "code",
   "execution_count": 53,
   "metadata": {},
   "outputs": [],
   "source": [
    "#this is a dataframe of movies that didn't match\n",
    "remaining_4_df = temp_df[temp_df[\"prod_budget\"].isnull()]\n",
    "remaining_4_df = remaining_4_df.rename(index=str, columns={'title_x':'title','open_x':'open'})\n",
    "remaining_4_df = remaining_4_df[[\"title\",\"mpaa\",\"open\",\"usa_box\",\"usa_open\",\"intl_box\",\"genre\",\"runtime\",\n",
    "                         \"rundays\",\"3d\",\"imax\",\"series\",\"theaters\"]]"
   ]
  },
  {
   "cell_type": "code",
   "execution_count": 54,
   "metadata": {},
   "outputs": [
    {
     "data": {
      "text/plain": [
       "(459, 13)"
      ]
     },
     "execution_count": 54,
     "metadata": {},
     "output_type": "execute_result"
    }
   ],
   "source": [
    "remaining_4_df.shape   #459 Movies Remail Unmatched"
   ]
  },
  {
   "cell_type": "code",
   "execution_count": 55,
   "metadata": {},
   "outputs": [],
   "source": [
    "#this is a dataframe of budget information that has not matched yet\n",
    "remain_budget_4_df = temp_df[temp_df[\"mpaa\"].isnull()]    #boolean changed to mpaa here\n",
    "remain_budget_4_df = remain_budget_4_df.rename(index=str, columns={'title_y':'title','open_y':'open'})\n",
    "remain_budget_4_df = remain_budget_4_df[[\"open\",\"title\",\"prod_budget\",\"domestic\"]]"
   ]
  },
  {
   "cell_type": "code",
   "execution_count": 56,
   "metadata": {},
   "outputs": [
    {
     "data": {
      "text/plain": [
       "(410, 4)"
      ]
     },
     "execution_count": 56,
     "metadata": {},
     "output_type": "execute_result"
    }
   ],
   "source": [
    "remain_budget_4_df.shape   #410 Budgets unmatched"
   ]
  },
  {
   "cell_type": "markdown",
   "metadata": {},
   "source": [
    "__Merge 5: Title + First N Digits of the Domestic Box Office Total__"
   ]
  },
  {
   "cell_type": "code",
   "execution_count": 57,
   "metadata": {},
   "outputs": [],
   "source": [
    "#Create Unique ID from the opening day + the first 2 characters of the domestic budget. \n",
    "remain_budget_4_df[\"id\"] = remain_budget_4_df[\"title\"] + remain_budget_4_df[\"domestic\"].apply(trunc,characters=2)\n",
    "remaining_4_df[\"id\"] = remaining_4_df[\"title\"] + remaining_4_df[\"usa_box\"].apply(trunc,characters=2)"
   ]
  },
  {
   "cell_type": "code",
   "execution_count": 58,
   "metadata": {},
   "outputs": [
    {
     "data": {
      "text/html": [
       "<div>\n",
       "<style scoped>\n",
       "    .dataframe tbody tr th:only-of-type {\n",
       "        vertical-align: middle;\n",
       "    }\n",
       "\n",
       "    .dataframe tbody tr th {\n",
       "        vertical-align: top;\n",
       "    }\n",
       "\n",
       "    .dataframe thead th {\n",
       "        text-align: right;\n",
       "    }\n",
       "</style>\n",
       "<table border=\"1\" class=\"dataframe\">\n",
       "  <thead>\n",
       "    <tr style=\"text-align: right;\">\n",
       "      <th></th>\n",
       "      <th>id</th>\n",
       "      <th>title</th>\n",
       "    </tr>\n",
       "  </thead>\n",
       "  <tbody>\n",
       "    <tr>\n",
       "      <th>0</th>\n",
       "      <td>10 Days in a Madhouse14</td>\n",
       "      <td>1</td>\n",
       "    </tr>\n",
       "    <tr>\n",
       "      <th>269</th>\n",
       "      <td>Selma52</td>\n",
       "      <td>1</td>\n",
       "    </tr>\n",
       "  </tbody>\n",
       "</table>\n",
       "</div>"
      ],
      "text/plain": [
       "                          id  title\n",
       "0    10 Days in a Madhouse14      1\n",
       "269                  Selma52      1"
      ]
     },
     "execution_count": 58,
     "metadata": {},
     "output_type": "execute_result"
    }
   ],
   "source": [
    "#check to see if the budget keys are unique. They are!  \n",
    "temp_df = remain_budget_4_df.groupby([\"id\"])['title'].count()\n",
    "temp_df = temp_df.reset_index()\n",
    "temp_df.sort_values(['title'],ascending=False).head(2)"
   ]
  },
  {
   "cell_type": "code",
   "execution_count": 59,
   "metadata": {},
   "outputs": [],
   "source": [
    "#merge!!!\n",
    "temp_df = pd.merge(remaining_4_df, remain_budget_4_df, on='id', how='outer')"
   ]
  },
  {
   "cell_type": "code",
   "execution_count": 60,
   "metadata": {},
   "outputs": [],
   "source": [
    "#this contains the movies that matched by name\n",
    "group_5_df = temp_df[temp_df[\"prod_budget\"].notnull() & temp_df[\"title_x\"].notnull()]    \n",
    "group_5_df = group_5_df.rename(index=str, columns={'title_x':'title','open_x':'open'})\n",
    "group_5_df = group_5_df[[\"title\",\"mpaa\",\"open\",\"usa_box\",\"usa_open\",\"intl_box\",\"genre\",\"runtime\",\n",
    "                         \"rundays\",\"3d\",\"imax\",\"series\",\"theaters\",\"prod_budget\"]]"
   ]
  },
  {
   "cell_type": "code",
   "execution_count": 61,
   "metadata": {},
   "outputs": [
    {
     "data": {
      "text/plain": [
       "(10, 14)"
      ]
     },
     "execution_count": 61,
     "metadata": {},
     "output_type": "execute_result"
    }
   ],
   "source": [
    "group_5_df.shape      #10 Movie Matched this time"
   ]
  },
  {
   "cell_type": "code",
   "execution_count": 62,
   "metadata": {},
   "outputs": [],
   "source": [
    "#this is a dataframe of movies that didn't match\n",
    "remaining_5_df = temp_df[temp_df[\"prod_budget\"].isnull()]\n",
    "remaining_5_df = remaining_5_df.rename(index=str, columns={'title_x':'title','open_x':'open'})\n",
    "remaining_5_df = remaining_5_df[[\"title\",\"mpaa\",\"open\",\"usa_box\",\"usa_open\",\"intl_box\",\"genre\",\"runtime\",\n",
    "                         \"rundays\",\"3d\",\"imax\",\"series\",\"theaters\"]]"
   ]
  },
  {
   "cell_type": "code",
   "execution_count": 63,
   "metadata": {},
   "outputs": [
    {
     "data": {
      "text/plain": [
       "(449, 13)"
      ]
     },
     "execution_count": 63,
     "metadata": {},
     "output_type": "execute_result"
    }
   ],
   "source": [
    "remaining_5_df.shape   #449 Remain Unmatched"
   ]
  },
  {
   "cell_type": "code",
   "execution_count": 64,
   "metadata": {},
   "outputs": [],
   "source": [
    "#this is a dataframe of budget information that has not matched yet\n",
    "remain_budget_5_df = temp_df[temp_df[\"mpaa\"].isnull()]    #boolean changed to mpaa here\n",
    "remain_budget_5_df = remain_budget_5_df.rename(index=str, columns={'title_y':'title','open_y':'open'})\n",
    "remain_budget_5_df = remain_budget_5_df[[\"open\",\"title\",\"prod_budget\",\"domestic\"]]"
   ]
  },
  {
   "cell_type": "code",
   "execution_count": 65,
   "metadata": {},
   "outputs": [
    {
     "data": {
      "text/plain": [
       "(400, 4)"
      ]
     },
     "execution_count": 65,
     "metadata": {},
     "output_type": "execute_result"
    }
   ],
   "source": [
    "remain_budget_5_df.shape #400 unmatched Movie Budgets"
   ]
  },
  {
   "cell_type": "markdown",
   "metadata": {},
   "source": [
    "__Explore Remaining Titles: Nothing Left to Merge On__"
   ]
  },
  {
   "cell_type": "markdown",
   "metadata": {},
   "source": [
    "I feel pretty good stopping here. The largest movie on the remaining budget dataframe\n",
    "has a domestic gross of 30 million while the top movie on the remaining movies is $90M which means all the movies in between will never be matched to the budget information, and it is thus not available. That's not bad. Also, there are movies on this list that aren't really from this decade, such as The Lion King, Monsters, Inc, so many of these unmatched movies are rereleases and shouldn't impact a prediction model for this decade's films"
   ]
  },
  {
   "cell_type": "code",
   "execution_count": 66,
   "metadata": {},
   "outputs": [
    {
     "data": {
      "text/html": [
       "<div>\n",
       "<style scoped>\n",
       "    .dataframe tbody tr th:only-of-type {\n",
       "        vertical-align: middle;\n",
       "    }\n",
       "\n",
       "    .dataframe tbody tr th {\n",
       "        vertical-align: top;\n",
       "    }\n",
       "\n",
       "    .dataframe thead th {\n",
       "        text-align: right;\n",
       "    }\n",
       "</style>\n",
       "<table border=\"1\" class=\"dataframe\">\n",
       "  <thead>\n",
       "    <tr style=\"text-align: right;\">\n",
       "      <th></th>\n",
       "      <th>title</th>\n",
       "      <th>mpaa</th>\n",
       "      <th>open</th>\n",
       "      <th>usa_box</th>\n",
       "      <th>usa_open</th>\n",
       "      <th>intl_box</th>\n",
       "      <th>genre</th>\n",
       "      <th>runtime</th>\n",
       "      <th>rundays</th>\n",
       "      <th>3d</th>\n",
       "      <th>imax</th>\n",
       "      <th>series</th>\n",
       "      <th>theaters</th>\n",
       "    </tr>\n",
       "  </thead>\n",
       "  <tbody>\n",
       "    <tr>\n",
       "      <th>89</th>\n",
       "      <td>The Lion King</td>\n",
       "      <td>G</td>\n",
       "      <td>2011-09-16</td>\n",
       "      <td>94242001.00</td>\n",
       "      <td>30151614.00</td>\n",
       "      <td>514083777.00</td>\n",
       "      <td>Animation</td>\n",
       "      <td>89.00</td>\n",
       "      <td>119</td>\n",
       "      <td>0.00</td>\n",
       "      <td>0.00</td>\n",
       "      <td>0.00</td>\n",
       "      <td>2340.00</td>\n",
       "    </tr>\n",
       "    <tr>\n",
       "      <th>126</th>\n",
       "      <td>Titanic 3D</td>\n",
       "      <td>PG-13</td>\n",
       "      <td>2012-04-04</td>\n",
       "      <td>57884114.00</td>\n",
       "      <td>17285453.00</td>\n",
       "      <td>945030600.00</td>\n",
       "      <td>Romance</td>\n",
       "      <td>194.00</td>\n",
       "      <td>65</td>\n",
       "      <td>0.00</td>\n",
       "      <td>0.00</td>\n",
       "      <td>0.00</td>\n",
       "      <td>3674.00</td>\n",
       "    </tr>\n",
       "    <tr>\n",
       "      <th>382</th>\n",
       "      <td>The Shack</td>\n",
       "      <td>PG-13</td>\n",
       "      <td>2017-03-03</td>\n",
       "      <td>57386418.00</td>\n",
       "      <td>16172119.00</td>\n",
       "      <td>96942115.00</td>\n",
       "      <td>Drama</td>\n",
       "      <td>132.00</td>\n",
       "      <td>77.00</td>\n",
       "      <td>0.00</td>\n",
       "      <td>0.00</td>\n",
       "      <td>0.00</td>\n",
       "      <td>2888.00</td>\n",
       "    </tr>\n",
       "    <tr>\n",
       "      <th>26</th>\n",
       "      <td>The Haunting in Connecticut</td>\n",
       "      <td>PG-13</td>\n",
       "      <td>2009-03-27</td>\n",
       "      <td>55389516.00</td>\n",
       "      <td>23004765.00</td>\n",
       "      <td>77527732.00</td>\n",
       "      <td>Horror</td>\n",
       "      <td>92.00</td>\n",
       "      <td>49</td>\n",
       "      <td>0.00</td>\n",
       "      <td>0.00</td>\n",
       "      <td>0.00</td>\n",
       "      <td>2732.00</td>\n",
       "    </tr>\n",
       "    <tr>\n",
       "      <th>27</th>\n",
       "      <td>Ghosts of Girlfriends Past</td>\n",
       "      <td>PG-13</td>\n",
       "      <td>2009-05-01</td>\n",
       "      <td>55250026.00</td>\n",
       "      <td>15411434.00</td>\n",
       "      <td>102223269.00</td>\n",
       "      <td>Fantasy Comedy</td>\n",
       "      <td>100.00</td>\n",
       "      <td>105</td>\n",
       "      <td>0.00</td>\n",
       "      <td>0.00</td>\n",
       "      <td>0.00</td>\n",
       "      <td>3175.00</td>\n",
       "    </tr>\n",
       "    <tr>\n",
       "      <th>63</th>\n",
       "      <td>Hubble 3D</td>\n",
       "      <td>G</td>\n",
       "      <td>2010-03-19</td>\n",
       "      <td>52331382.00</td>\n",
       "      <td>413477.00</td>\n",
       "      <td>73515965.00</td>\n",
       "      <td>IMAX</td>\n",
       "      <td>43.00</td>\n",
       "      <td>3,118</td>\n",
       "      <td>1.00</td>\n",
       "      <td>0.00</td>\n",
       "      <td>0.00</td>\n",
       "      <td>151.00</td>\n",
       "    </tr>\n",
       "    <tr>\n",
       "      <th>177</th>\n",
       "      <td>Tyler Perry's Temptation: Confessions of a Mar...</td>\n",
       "      <td>PG-13</td>\n",
       "      <td>2013-03-29</td>\n",
       "      <td>51975354.00</td>\n",
       "      <td>21641679.00</td>\n",
       "      <td>53125354.00</td>\n",
       "      <td>Drama</td>\n",
       "      <td>111.00</td>\n",
       "      <td>63</td>\n",
       "      <td>0.00</td>\n",
       "      <td>0.00</td>\n",
       "      <td>0.00</td>\n",
       "      <td>2047.00</td>\n",
       "    </tr>\n",
       "    <tr>\n",
       "      <th>127</th>\n",
       "      <td>Beauty and the Beast</td>\n",
       "      <td>G</td>\n",
       "      <td>2012-01-13</td>\n",
       "      <td>47617067.00</td>\n",
       "      <td>17751905.00</td>\n",
       "      <td>233377676.00</td>\n",
       "      <td>Animation</td>\n",
       "      <td>84.00</td>\n",
       "      <td>112</td>\n",
       "      <td>0.00</td>\n",
       "      <td>0.00</td>\n",
       "      <td>0.00</td>\n",
       "      <td>2625.00</td>\n",
       "    </tr>\n",
       "    <tr>\n",
       "      <th>0</th>\n",
       "      <td>College Road Trip</td>\n",
       "      <td>G</td>\n",
       "      <td>2008-03-07</td>\n",
       "      <td>45610425.00</td>\n",
       "      <td>13601419.00</td>\n",
       "      <td>51549674.00</td>\n",
       "      <td>Comedy</td>\n",
       "      <td>83.00</td>\n",
       "      <td>147</td>\n",
       "      <td>0.00</td>\n",
       "      <td>0.00</td>\n",
       "      <td>0.00</td>\n",
       "      <td>2706.00</td>\n",
       "    </tr>\n",
       "    <tr>\n",
       "      <th>178</th>\n",
       "      <td>Jurassic Park 3D</td>\n",
       "      <td>PG-13</td>\n",
       "      <td>2013-04-05</td>\n",
       "      <td>45385935.00</td>\n",
       "      <td>18620145.00</td>\n",
       "      <td>473553882.00</td>\n",
       "      <td>Sci-Fi Horror</td>\n",
       "      <td>127.00</td>\n",
       "      <td>49</td>\n",
       "      <td>0.00</td>\n",
       "      <td>0.00</td>\n",
       "      <td>0.00</td>\n",
       "      <td>2778.00</td>\n",
       "    </tr>\n",
       "    <tr>\n",
       "      <th>383</th>\n",
       "      <td>47 Meters Down</td>\n",
       "      <td>PG-13</td>\n",
       "      <td>2017-06-16</td>\n",
       "      <td>44307192.00</td>\n",
       "      <td>11205561.00</td>\n",
       "      <td>44307192.00</td>\n",
       "      <td>Horror Thriller</td>\n",
       "      <td>89.00</td>\n",
       "      <td>NaN</td>\n",
       "      <td>0.00</td>\n",
       "      <td>0.00</td>\n",
       "      <td>0.00</td>\n",
       "      <td>2471.00</td>\n",
       "    </tr>\n",
       "    <tr>\n",
       "      <th>28</th>\n",
       "      <td>Confessions of a Shopaholic</td>\n",
       "      <td>PG</td>\n",
       "      <td>2009-02-13</td>\n",
       "      <td>44277350.00</td>\n",
       "      <td>15066360.00</td>\n",
       "      <td>108333222.00</td>\n",
       "      <td>Romantic Comedy</td>\n",
       "      <td>112.00</td>\n",
       "      <td>105</td>\n",
       "      <td>0.00</td>\n",
       "      <td>0.00</td>\n",
       "      <td>0.00</td>\n",
       "      <td>2534.00</td>\n",
       "    </tr>\n",
       "    <tr>\n",
       "      <th>128</th>\n",
       "      <td>Star Wars: Episode I - The Phantom Menace</td>\n",
       "      <td>PG</td>\n",
       "      <td>2012-02-10</td>\n",
       "      <td>43456382.00</td>\n",
       "      <td>22469932.00</td>\n",
       "      <td>533827888.00</td>\n",
       "      <td>Sci-Fi Fantasy</td>\n",
       "      <td>133.00</td>\n",
       "      <td>112</td>\n",
       "      <td>0.00</td>\n",
       "      <td>0.00</td>\n",
       "      <td>1.00</td>\n",
       "      <td>2655.00</td>\n",
       "    </tr>\n",
       "    <tr>\n",
       "      <th>1</th>\n",
       "      <td>Nights in Rodanthe</td>\n",
       "      <td>PG-13</td>\n",
       "      <td>2008-09-26</td>\n",
       "      <td>41850659.00</td>\n",
       "      <td>13418454.00</td>\n",
       "      <td>84375061.00</td>\n",
       "      <td>Romance</td>\n",
       "      <td>97.00</td>\n",
       "      <td>112</td>\n",
       "      <td>0.00</td>\n",
       "      <td>0.00</td>\n",
       "      <td>0.00</td>\n",
       "      <td>2704.00</td>\n",
       "    </tr>\n",
       "    <tr>\n",
       "      <th>129</th>\n",
       "      <td>Finding Nemo</td>\n",
       "      <td>G</td>\n",
       "      <td>2012-09-14</td>\n",
       "      <td>41128283.00</td>\n",
       "      <td>16687773.00</td>\n",
       "      <td>409031257.00</td>\n",
       "      <td>Animation</td>\n",
       "      <td>104.00</td>\n",
       "      <td>126</td>\n",
       "      <td>0.00</td>\n",
       "      <td>0.00</td>\n",
       "      <td>0.00</td>\n",
       "      <td>2904.00</td>\n",
       "    </tr>\n",
       "    <tr>\n",
       "      <th>2</th>\n",
       "      <td>First Sunday</td>\n",
       "      <td>PG-13</td>\n",
       "      <td>2008-01-11</td>\n",
       "      <td>37931869.00</td>\n",
       "      <td>17714821.00</td>\n",
       "      <td>38804615.00</td>\n",
       "      <td>Crime Comedy</td>\n",
       "      <td>96.00</td>\n",
       "      <td>49</td>\n",
       "      <td>0.00</td>\n",
       "      <td>0.00</td>\n",
       "      <td>0.00</td>\n",
       "      <td>2213.00</td>\n",
       "    </tr>\n",
       "    <tr>\n",
       "      <th>3</th>\n",
       "      <td>Tyler Perry's The Family That Preys</td>\n",
       "      <td>PG-13</td>\n",
       "      <td>2008-09-12</td>\n",
       "      <td>37105289.00</td>\n",
       "      <td>17381218.00</td>\n",
       "      <td>37105289.00</td>\n",
       "      <td>Comedy</td>\n",
       "      <td>111.00</td>\n",
       "      <td>42</td>\n",
       "      <td>0.00</td>\n",
       "      <td>0.00</td>\n",
       "      <td>0.00</td>\n",
       "      <td>2070.00</td>\n",
       "    </tr>\n",
       "    <tr>\n",
       "      <th>384</th>\n",
       "      <td>American Assassin</td>\n",
       "      <td>R</td>\n",
       "      <td>2017-09-15</td>\n",
       "      <td>36249674.00</td>\n",
       "      <td>14846778.00</td>\n",
       "      <td>67234188.00</td>\n",
       "      <td>Action / Adventure</td>\n",
       "      <td>111.00</td>\n",
       "      <td>56.00</td>\n",
       "      <td>0.00</td>\n",
       "      <td>0.00</td>\n",
       "      <td>0.00</td>\n",
       "      <td>3154.00</td>\n",
       "    </tr>\n",
       "    <tr>\n",
       "      <th>29</th>\n",
       "      <td>Under the Sea 3D</td>\n",
       "      <td>G</td>\n",
       "      <td>2009-02-13</td>\n",
       "      <td>35972017.00</td>\n",
       "      <td>661185.00</td>\n",
       "      <td>55416885.00</td>\n",
       "      <td>IMAX</td>\n",
       "      <td>40.00</td>\n",
       "      <td>3,517</td>\n",
       "      <td>1.00</td>\n",
       "      <td>0.00</td>\n",
       "      <td>0.00</td>\n",
       "      <td>108.00</td>\n",
       "    </tr>\n",
       "    <tr>\n",
       "      <th>30</th>\n",
       "      <td>The Pink Panther 2</td>\n",
       "      <td>PG</td>\n",
       "      <td>2009-02-06</td>\n",
       "      <td>35922978.00</td>\n",
       "      <td>11588150.00</td>\n",
       "      <td>75946615.00</td>\n",
       "      <td>Action Comedy</td>\n",
       "      <td>92.00</td>\n",
       "      <td>49</td>\n",
       "      <td>0.00</td>\n",
       "      <td>0.00</td>\n",
       "      <td>1.00</td>\n",
       "      <td>3245.00</td>\n",
       "    </tr>\n",
       "    <tr>\n",
       "      <th>130</th>\n",
       "      <td>Monsters, Inc.</td>\n",
       "      <td>G</td>\n",
       "      <td>2012-12-19</td>\n",
       "      <td>34043006.00</td>\n",
       "      <td>4774686.00</td>\n",
       "      <td>306081070.00</td>\n",
       "      <td>Animation</td>\n",
       "      <td>90.00</td>\n",
       "      <td>135</td>\n",
       "      <td>0.00</td>\n",
       "      <td>0.00</td>\n",
       "      <td>0.00</td>\n",
       "      <td>2618.00</td>\n",
       "    </tr>\n",
       "    <tr>\n",
       "      <th>385</th>\n",
       "      <td>Wind River</td>\n",
       "      <td>R</td>\n",
       "      <td>2017-08-04</td>\n",
       "      <td>33800859.00</td>\n",
       "      <td>161558.00</td>\n",
       "      <td>33800859.00</td>\n",
       "      <td>Drama</td>\n",
       "      <td>110.00</td>\n",
       "      <td>126.00</td>\n",
       "      <td>0.00</td>\n",
       "      <td>0.00</td>\n",
       "      <td>0.00</td>\n",
       "      <td>2890.00</td>\n",
       "    </tr>\n",
       "    <tr>\n",
       "      <th>64</th>\n",
       "      <td>When in Rome</td>\n",
       "      <td>PG-13</td>\n",
       "      <td>2010-01-29</td>\n",
       "      <td>32680633.00</td>\n",
       "      <td>12350041.00</td>\n",
       "      <td>43042835.00</td>\n",
       "      <td>Romantic Comedy</td>\n",
       "      <td>91.00</td>\n",
       "      <td>77</td>\n",
       "      <td>0.00</td>\n",
       "      <td>0.00</td>\n",
       "      <td>0.00</td>\n",
       "      <td>2456.00</td>\n",
       "    </tr>\n",
       "    <tr>\n",
       "      <th>31</th>\n",
       "      <td>(500) Days of Summer</td>\n",
       "      <td>PG-13</td>\n",
       "      <td>2009-07-17</td>\n",
       "      <td>32391374.00</td>\n",
       "      <td>834501.00</td>\n",
       "      <td>60722734.00</td>\n",
       "      <td>Romance</td>\n",
       "      <td>95.00</td>\n",
       "      <td>133</td>\n",
       "      <td>0.00</td>\n",
       "      <td>0.00</td>\n",
       "      <td>0.00</td>\n",
       "      <td>1048.00</td>\n",
       "    </tr>\n",
       "    <tr>\n",
       "      <th>4</th>\n",
       "      <td>Transporter 3</td>\n",
       "      <td>PG-13</td>\n",
       "      <td>2008-11-26</td>\n",
       "      <td>31715062.00</td>\n",
       "      <td>12063452.00</td>\n",
       "      <td>108979549.00</td>\n",
       "      <td>Action</td>\n",
       "      <td>100.00</td>\n",
       "      <td>37</td>\n",
       "      <td>0.00</td>\n",
       "      <td>0.00</td>\n",
       "      <td>1.00</td>\n",
       "      <td>2626.00</td>\n",
       "    </tr>\n",
       "  </tbody>\n",
       "</table>\n",
       "</div>"
      ],
      "text/plain": [
       "                                                 title   mpaa       open  \\\n",
       "89                                       The Lion King      G 2011-09-16   \n",
       "126                                         Titanic 3D  PG-13 2012-04-04   \n",
       "382                                          The Shack  PG-13 2017-03-03   \n",
       "26                         The Haunting in Connecticut  PG-13 2009-03-27   \n",
       "27                          Ghosts of Girlfriends Past  PG-13 2009-05-01   \n",
       "63                                           Hubble 3D      G 2010-03-19   \n",
       "177  Tyler Perry's Temptation: Confessions of a Mar...  PG-13 2013-03-29   \n",
       "127                               Beauty and the Beast      G 2012-01-13   \n",
       "0                                    College Road Trip      G 2008-03-07   \n",
       "178                                   Jurassic Park 3D  PG-13 2013-04-05   \n",
       "383                                     47 Meters Down  PG-13 2017-06-16   \n",
       "28                         Confessions of a Shopaholic     PG 2009-02-13   \n",
       "128          Star Wars: Episode I - The Phantom Menace     PG 2012-02-10   \n",
       "1                                   Nights in Rodanthe  PG-13 2008-09-26   \n",
       "129                                       Finding Nemo      G 2012-09-14   \n",
       "2                                         First Sunday  PG-13 2008-01-11   \n",
       "3                  Tyler Perry's The Family That Preys  PG-13 2008-09-12   \n",
       "384                                  American Assassin      R 2017-09-15   \n",
       "29                                    Under the Sea 3D      G 2009-02-13   \n",
       "30                                  The Pink Panther 2     PG 2009-02-06   \n",
       "130                                     Monsters, Inc.      G 2012-12-19   \n",
       "385                                         Wind River      R 2017-08-04   \n",
       "64                                        When in Rome  PG-13 2010-01-29   \n",
       "31                                (500) Days of Summer  PG-13 2009-07-17   \n",
       "4                                        Transporter 3  PG-13 2008-11-26   \n",
       "\n",
       "        usa_box    usa_open     intl_box               genre  runtime rundays  \\\n",
       "89  94242001.00 30151614.00 514083777.00           Animation    89.00     119   \n",
       "126 57884114.00 17285453.00 945030600.00             Romance   194.00      65   \n",
       "382 57386418.00 16172119.00  96942115.00               Drama   132.00   77.00   \n",
       "26  55389516.00 23004765.00  77527732.00              Horror    92.00      49   \n",
       "27  55250026.00 15411434.00 102223269.00      Fantasy Comedy   100.00     105   \n",
       "63  52331382.00   413477.00  73515965.00                IMAX    43.00   3,118   \n",
       "177 51975354.00 21641679.00  53125354.00               Drama   111.00      63   \n",
       "127 47617067.00 17751905.00 233377676.00           Animation    84.00     112   \n",
       "0   45610425.00 13601419.00  51549674.00              Comedy    83.00     147   \n",
       "178 45385935.00 18620145.00 473553882.00       Sci-Fi Horror   127.00      49   \n",
       "383 44307192.00 11205561.00  44307192.00     Horror Thriller    89.00     NaN   \n",
       "28  44277350.00 15066360.00 108333222.00     Romantic Comedy   112.00     105   \n",
       "128 43456382.00 22469932.00 533827888.00      Sci-Fi Fantasy   133.00     112   \n",
       "1   41850659.00 13418454.00  84375061.00             Romance    97.00     112   \n",
       "129 41128283.00 16687773.00 409031257.00           Animation   104.00     126   \n",
       "2   37931869.00 17714821.00  38804615.00        Crime Comedy    96.00      49   \n",
       "3   37105289.00 17381218.00  37105289.00              Comedy   111.00      42   \n",
       "384 36249674.00 14846778.00  67234188.00  Action / Adventure   111.00   56.00   \n",
       "29  35972017.00   661185.00  55416885.00                IMAX    40.00   3,517   \n",
       "30  35922978.00 11588150.00  75946615.00       Action Comedy    92.00      49   \n",
       "130 34043006.00  4774686.00 306081070.00           Animation    90.00     135   \n",
       "385 33800859.00   161558.00  33800859.00               Drama   110.00  126.00   \n",
       "64  32680633.00 12350041.00  43042835.00     Romantic Comedy    91.00      77   \n",
       "31  32391374.00   834501.00  60722734.00             Romance    95.00     133   \n",
       "4   31715062.00 12063452.00 108979549.00              Action   100.00      37   \n",
       "\n",
       "      3d  imax  series  theaters  \n",
       "89  0.00  0.00    0.00   2340.00  \n",
       "126 0.00  0.00    0.00   3674.00  \n",
       "382 0.00  0.00    0.00   2888.00  \n",
       "26  0.00  0.00    0.00   2732.00  \n",
       "27  0.00  0.00    0.00   3175.00  \n",
       "63  1.00  0.00    0.00    151.00  \n",
       "177 0.00  0.00    0.00   2047.00  \n",
       "127 0.00  0.00    0.00   2625.00  \n",
       "0   0.00  0.00    0.00   2706.00  \n",
       "178 0.00  0.00    0.00   2778.00  \n",
       "383 0.00  0.00    0.00   2471.00  \n",
       "28  0.00  0.00    0.00   2534.00  \n",
       "128 0.00  0.00    1.00   2655.00  \n",
       "1   0.00  0.00    0.00   2704.00  \n",
       "129 0.00  0.00    0.00   2904.00  \n",
       "2   0.00  0.00    0.00   2213.00  \n",
       "3   0.00  0.00    0.00   2070.00  \n",
       "384 0.00  0.00    0.00   3154.00  \n",
       "29  1.00  0.00    0.00    108.00  \n",
       "30  0.00  0.00    1.00   3245.00  \n",
       "130 0.00  0.00    0.00   2618.00  \n",
       "385 0.00  0.00    0.00   2890.00  \n",
       "64  0.00  0.00    0.00   2456.00  \n",
       "31  0.00  0.00    0.00   1048.00  \n",
       "4   0.00  0.00    1.00   2626.00  "
      ]
     },
     "execution_count": 66,
     "metadata": {},
     "output_type": "execute_result"
    }
   ],
   "source": [
    "remaining_5_df.sort_values([\"usa_box\"],ascending=False).head(25)"
   ]
  },
  {
   "cell_type": "code",
   "execution_count": 67,
   "metadata": {},
   "outputs": [
    {
     "data": {
      "text/html": [
       "<div>\n",
       "<style scoped>\n",
       "    .dataframe tbody tr th:only-of-type {\n",
       "        vertical-align: middle;\n",
       "    }\n",
       "\n",
       "    .dataframe tbody tr th {\n",
       "        vertical-align: top;\n",
       "    }\n",
       "\n",
       "    .dataframe thead th {\n",
       "        text-align: right;\n",
       "    }\n",
       "</style>\n",
       "<table border=\"1\" class=\"dataframe\">\n",
       "  <thead>\n",
       "    <tr style=\"text-align: right;\">\n",
       "      <th></th>\n",
       "      <th>open</th>\n",
       "      <th>title</th>\n",
       "      <th>prod_budget</th>\n",
       "      <th>domestic</th>\n",
       "    </tr>\n",
       "  </thead>\n",
       "  <tbody>\n",
       "    <tr>\n",
       "      <th>483</th>\n",
       "      <td>2014-08-01</td>\n",
       "      <td>Get on Up</td>\n",
       "      <td>30000000.00</td>\n",
       "      <td>30569935.00</td>\n",
       "    </tr>\n",
       "    <tr>\n",
       "      <th>536</th>\n",
       "      <td>2012-01-13</td>\n",
       "      <td>The Iron Lady</td>\n",
       "      <td>14000000.00</td>\n",
       "      <td>29959436.00</td>\n",
       "    </tr>\n",
       "    <tr>\n",
       "      <th>496</th>\n",
       "      <td>2012-02-17</td>\n",
       "      <td>Kari gurashi no Arietti</td>\n",
       "      <td>23000000.00</td>\n",
       "      <td>19192510.00</td>\n",
       "    </tr>\n",
       "    <tr>\n",
       "      <th>565</th>\n",
       "      <td>2012-05-25</td>\n",
       "      <td>Les Intouchables</td>\n",
       "      <td>10800000.00</td>\n",
       "      <td>13182281.00</td>\n",
       "    </tr>\n",
       "    <tr>\n",
       "      <th>541</th>\n",
       "      <td>2009-05-29</td>\n",
       "      <td>MÃ¤n som hatar kvinnor</td>\n",
       "      <td>13000000.00</td>\n",
       "      <td>12749992.00</td>\n",
       "    </tr>\n",
       "  </tbody>\n",
       "</table>\n",
       "</div>"
      ],
      "text/plain": [
       "          open                    title  prod_budget    domestic\n",
       "483 2014-08-01                Get on Up  30000000.00 30569935.00\n",
       "536 2012-01-13            The Iron Lady  14000000.00 29959436.00\n",
       "496 2012-02-17  Kari gurashi no Arietti  23000000.00 19192510.00\n",
       "565 2012-05-25         Les Intouchables  10800000.00 13182281.00\n",
       "541 2009-05-29   MÃ¤n som hatar kvinnor  13000000.00 12749992.00"
      ]
     },
     "execution_count": 67,
     "metadata": {},
     "output_type": "execute_result"
    }
   ],
   "source": [
    "remain_budget_5_df.sort_values([\"domestic\"],ascending=False).head(5)"
   ]
  },
  {
   "cell_type": "markdown",
   "metadata": {},
   "source": [
    "__Concatenate & Export the Merged List__"
   ]
  },
  {
   "cell_type": "code",
   "execution_count": 68,
   "metadata": {},
   "outputs": [],
   "source": [
    "pd.concat([group_1_df, group_2_df, group_3_df, \n",
    "            group_4_df, group_5_df, remaining_5_df]).to_csv('../04_Data/{}_{}_merged.csv'.format(years[0],years[-1]))"
   ]
  },
  {
   "cell_type": "code",
   "execution_count": 69,
   "metadata": {},
   "outputs": [
    {
     "data": {
      "text/plain": [
       "(2000, 14)"
      ]
     },
     "execution_count": 69,
     "metadata": {},
     "output_type": "execute_result"
    }
   ],
   "source": [
    "pd.concat([group_1_df, group_2_df, group_3_df, \n",
    "           group_4_df, group_5_df, remaining_5_df]).shape"
   ]
  },
  {
   "cell_type": "code",
   "execution_count": null,
   "metadata": {},
   "outputs": [],
   "source": []
  }
 ],
 "metadata": {
  "kernelspec": {
   "display_name": "Python 3",
   "language": "python",
   "name": "python3"
  },
  "language_info": {
   "codemirror_mode": {
    "name": "ipython",
    "version": 3
   },
   "file_extension": ".py",
   "mimetype": "text/x-python",
   "name": "python",
   "nbconvert_exporter": "python",
   "pygments_lexer": "ipython3",
   "version": "3.6.4"
  }
 },
 "nbformat": 4,
 "nbformat_minor": 2
}
