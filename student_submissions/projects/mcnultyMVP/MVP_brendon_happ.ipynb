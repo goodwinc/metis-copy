{
 "cells": [
  {
   "cell_type": "markdown",
   "metadata": {},
   "source": [
    "### MVP\n",
    "## Instacart Product Prediction\n",
    "---\n",
    "**Brendon Happ**\n",
    "\n",
    "**Project 3**\n",
    "\n",
    "**METIS 2018**"
   ]
  },
  {
   "cell_type": "markdown",
   "metadata": {},
   "source": [
    "**Target:** Predict whether or not a user will order a product by comparing most recent orders to all prior orders."
   ]
  },
  {
   "cell_type": "markdown",
   "metadata": {},
   "source": [
    "**Target Variable** is 1 if the product was ordered in the users past cart or 0 if the product was not included."
   ]
  },
  {
   "cell_type": "markdown",
   "metadata": {},
   "source": [
    "**Baseline**: My baseline is just using total orders for a specific product for each user which resulted in the expected under 10% F1 score. "
   ]
  },
  {
   "cell_type": "markdown",
   "metadata": {},
   "source": [
    "**Improving the baseline**: My categories are split into product, user, and user-product features. \n",
    "\n",
    "The product features that I am currently in the process of making are:\n",
    "- Popularity\n",
    "- Cart Position\n",
    "- Product Categories\n",
    "- Product Isle\n",
    "- Priority\n",
    "- How often purchased\n",
    "- One time purchase product\n",
    "- Probability of being ordered with other products (ie. Peanut Butter & Jelly)\n",
    "- How many users consecutively order the product\n",
    "\n",
    "The model is showing improvement in the F1 score with each feature added using simple Logistic Regression"
   ]
  },
  {
   "cell_type": "markdown",
   "metadata": {},
   "source": [
    "I plan on using regularization to discount any unneeded features as I plan to add a decent amount"
   ]
  },
  {
   "cell_type": "code",
   "execution_count": null,
   "metadata": {},
   "outputs": [],
   "source": []
  },
  {
   "cell_type": "code",
   "execution_count": null,
   "metadata": {},
   "outputs": [],
   "source": []
  },
  {
   "cell_type": "code",
   "execution_count": null,
   "metadata": {},
   "outputs": [],
   "source": []
  },
  {
   "cell_type": "code",
   "execution_count": null,
   "metadata": {},
   "outputs": [],
   "source": []
  },
  {
   "cell_type": "code",
   "execution_count": null,
   "metadata": {},
   "outputs": [],
   "source": []
  },
  {
   "cell_type": "code",
   "execution_count": null,
   "metadata": {},
   "outputs": [],
   "source": []
  },
  {
   "cell_type": "code",
   "execution_count": null,
   "metadata": {},
   "outputs": [],
   "source": []
  }
 ],
 "metadata": {
  "kernelspec": {
   "display_name": "Python 3",
   "language": "python",
   "name": "python3"
  },
  "language_info": {
   "codemirror_mode": {
    "name": "ipython",
    "version": 3
   },
   "file_extension": ".py",
   "mimetype": "text/x-python",
   "name": "python",
   "nbconvert_exporter": "python",
   "pygments_lexer": "ipython3",
   "version": "3.6.2"
  }
 },
 "nbformat": 4,
 "nbformat_minor": 2
}
