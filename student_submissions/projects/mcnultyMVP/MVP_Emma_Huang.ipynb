{
 "cells": [
  {
   "cell_type": "markdown",
   "metadata": {},
   "source": [
    "# Project McNulty MVP"
   ]
  },
  {
   "cell_type": "markdown",
   "metadata": {},
   "source": [
    "**Dataset**: National Survey on Drug Use and Health (NSDUH) Series\n",
    "\n",
    "**Objective**: Build a model to predict opioid overuse/addiction in an individual using information a doctor or health institution may have on a client. This could be used before opioid prescriptions to prevent addiction."
   ]
  },
  {
   "cell_type": "markdown",
   "metadata": {},
   "source": [
    "**Baseline Model**: Only looks at individuals over 18, and uses a large amount of various features. This model has a large assumption that a medical institution would have access to all this information for a patient, which may or may not be true. Future steps will include builsing a model with much less information."
   ]
  },
  {
   "cell_type": "code",
   "execution_count": 13,
   "metadata": {},
   "outputs": [
    {
     "data": {
      "text/plain": [
       "(0.9385464909155682, 0.9438579654510557, 0.7744094488188976)"
      ]
     },
     "execution_count": 13,
     "metadata": {},
     "output_type": "execute_result"
    }
   ],
   "source": [
    "# Inital model scores\n",
    "rf_acc = accuracy_score(y_test, y_pred)\n",
    "rf_rec = recall_score(y_test, y_pred)\n",
    "rf_pre = precision_score(y_test, y_pred)\n",
    "rf_acc,rf_rec,rf_pre"
   ]
  },
  {
   "cell_type": "code",
   "execution_count": 12,
   "metadata": {},
   "outputs": [
    {
     "name": "stdout",
     "output_type": "stream",
     "text": [
      "Features sorted by their score:\n",
      "[(0.2113, 'PSYAGE2'), (0.1771, 'CPNPSYFG'), (0.0651, 'FUIEM21'), (0.05, 'CPNPSYYR'), (0.0409, 'FUIEM18'), (0.0201, 'CPNPSYMN'), (0.0167, 'FUSUM18'), (0.0111, 'IRMJAGE'), (0.0111, 'FUSUM21'), (0.0096, 'MRJLSACT'), (0.0092, 'WTPOUND2'), (0.0082, 'AGE2'), (0.0081, 'IRALCAGE'), (0.0072, 'K6SCMON'), (0.0072, 'HTINCHE2'), (0.0071, 'MRJYDAYS'), (0.0071, 'FUMJ18'), (0.0071, 'CIGTRY'), (0.0068, 'CIGAGE'), (0.0067, 'ALCAVGM'), (0.0066, 'IRCIGAGE'), (0.0061, 'MRJYR'), (0.0056, 'NMVSOPT2'), (0.0055, 'WRKHRSW2'), (0.0054, 'MRJFLAG'), (0.0053, 'SNMOV5Y2'), (0.0052, 'WRKOCUP2'), (0.0052, 'TXEVER'), (0.0051, 'FUMJ21'), (0.0051, 'CADRLAST'), (0.005, 'CATAG6'), (0.0048, 'WRKIDST2'), (0.0047, 'RSKMJREG'), (0.0047, 'RKDIFCOC'), (0.0047, 'IRPINC3'), (0.0046, 'MXMJPNLT'), (0.0045, 'IRALCD5'), (0.0045, 'CIGYRBFR'), (0.0044, 'IREDUC2'), (0.0044, 'IRCIGFM'), (0.0044, 'DEPNDILL'), (0.0043, 'IRFAMIN3'), (0.0041, 'RKDIFHER'), (0.004, 'FUALC18'), (0.0039, 'SNRLGSVC'), (0.0039, 'RSKDIFMJ'), (0.0038, 'ALDAYPMO'), (0.0037, 'MRJMDAYS'), (0.0036, 'SNRLGIMP'), (0.0036, 'IRCIGRC'), (0.0036, 'ALCYDAYS'), (0.0035, 'NOBOOKY2'), (0.0034, 'HEALTH'), (0.0034, 'CIGMDAYS'), (0.0033, 'SNRLDCSN'), (0.0033, 'CIGCRAVE'), (0.0032, 'RKFQRSKY'), (0.0032, 'RK5ALWK'), (0.0032, 'NMERTMT2'), (0.0032, 'EDUCCAT2'), (0.0032, 'CIGAVGD'), (0.0031, 'JBSTATR2'), (0.0031, 'HEALTH2'), (0.003, 'RSKMJOCC'), (0.003, 'ALCMDAYS'), (0.0028, 'NEWRACE2'), (0.0028, 'INCOME'), (0.0028, 'ADPBAGE'), (0.0027, 'MOVEPYR2'), (0.0027, 'CIG100LF'), (0.0026, 'DRIVALC2'), (0.0026, 'COUTYP2'), (0.0026, 'ADPBNUM'), (0.0025, 'WRKJOBS2'), (0.0025, 'RK5ALDLY'), (0.0025, 'IRMARIT'), (0.0025, 'HLTINALC'), (0.0025, 'FUCD221'), (0.0025, 'ALCLIMIT'), (0.0024, 'NOMARR2'), (0.0024, 'HLTINMNT'), (0.0024, 'HLTINDRG'), (0.0024, 'DRGPRGM'), (0.0023, 'RKFQDBLT'), (0.0022, 'PDEN00'), (0.0022, 'DRVAONLY'), (0.0022, 'BOOKED'), (0.0021, 'WRKSLFEM'), (0.0021, 'POVERTY2'), (0.002, 'WKDRGED'), (0.002, 'RKFQPBLT'), (0.002, 'PLCYCOV'), (0.002, 'DEPNDIEM'), (0.0019, 'RKTRYHER'), (0.0019, 'RDIFCOC'), (0.0019, 'EMPSTAT4'), (0.0019, 'DRGPLCY'), (0.0018, 'RSKSELL'), (0.0018, 'HLCNOTYR'), (0.0018, 'ALCLSACT'), (0.0017, 'RDIFMJ'), (0.0016, 'WRKUNEMP'), (0.0015, 'RDIFHER'), (0.0015, 'IRALCRC'), (0.0015, 'GRSKHTRY'), (0.0015, 'DEPRSLIF'), (0.0015, 'APPSELDG'), (0.0014, 'SPDYR'), (0.0014, 'IRSEX'), (0.0014, 'IROTHHLT'), (0.0014, 'ANXDLIF'), (0.0014, 'ADSMMDEA'), (0.0013, 'FUCD218'), (0.0013, 'ATXMDEYR'), (0.0013, 'ARXMDEYR'), (0.0013, 'ANXDYR'), (0.0012, 'WORKBLAH'), (0.0012, 'USENEXT'), (0.0012, 'IRWELMOS'), (0.0012, 'GOVTPROG'), (0.0012, 'DEPRSYR'), (0.0011, 'USEACM'), (0.0011, 'TOBMON'), (0.0011, 'STDSLIF'), (0.0011, 'IRFAMSOC'), (0.0011, 'AMHTXND2'), (0.0011, 'ALCYRBFR'), (0.001, 'IRPRVHLT'), (0.001, 'IRFSTAMP'), (0.001, 'AMDELT'), (0.0009, 'BKSRVIOL'), (0.0009, 'BKDRUNK'), (0.0009, 'ABUSEALC'), (0.0008, 'MHSUITHK')]\n"
     ]
    }
   ],
   "source": [
    "# Indication of feature importance for future models and baselining\n",
    "print (\"Features sorted by their score:\")\n",
    "print (sorted(zip(map(lambda x: round(x, 4), rf.feature_importances_), list(aX)), \n",
    "             reverse=True))"
   ]
  },
  {
   "cell_type": "code",
   "execution_count": null,
   "metadata": {},
   "outputs": [],
   "source": []
  }
 ],
 "metadata": {
  "kernelspec": {
   "display_name": "Python 3",
   "language": "python",
   "name": "python3"
  },
  "language_info": {
   "codemirror_mode": {
    "name": "ipython",
    "version": 3
   },
   "file_extension": ".py",
   "mimetype": "text/x-python",
   "name": "python",
   "nbconvert_exporter": "python",
   "pygments_lexer": "ipython3",
   "version": "3.6.5"
  }
 },
 "nbformat": 4,
 "nbformat_minor": 2
}
