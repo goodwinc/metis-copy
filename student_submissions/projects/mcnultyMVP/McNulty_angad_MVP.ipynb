{
 "cells": [
  {
   "cell_type": "markdown",
   "metadata": {},
   "source": [
    "Below is the trimmed down list of features I will be using based on feature importance. "
   ]
  },
  {
   "cell_type": "code",
   "execution_count": null,
   "metadata": {},
   "outputs": [],
   "source": [
    "df_application_v2 = df_application[[\"SK_ID_CURR\", \"NAME_CONTRACT_TYPE\", \"CODE_GENDER\", \"FLAG_OWN_CAR\", \"FLAG_OWN_REALTY\", \"CNT_CHILDREN\", \"AMT_INCOME_TOTAL\", \"AMT_CREDIT\", \n",
    "                                  \"AMT_ANNUITY\", \"AMT_GOODS_PRICE\", \"NAME_INCOME_TYPE\", \"NAME_EDUCATION_TYPE\",\n",
    "                                  \"NAME_FAMILY_STATUS\", \"NAME_HOUSING_TYPE\", \"REGION_POPULATION_RELATIVE\",\n",
    "                                  \"DAYS_EMPLOYED\", \"AMT_REQ_CREDIT_BUREAU_HOUR\", \"FLAG_DOCUMENT_2\", \"FLAG_DOCUMENT_3\", \"FLAG_DOCUMENT_4\", \"FLAG_DOCUMENT_5\"\n",
    "                                    , \"FLAG_DOCUMENT_6\", \"FLAG_DOCUMENT_7\", \"FLAG_DOCUMENT_8\", \"FLAG_DOCUMENT_9\", \"FLAG_DOCUMENT_10\", \"FLAG_DOCUMENT_11\", \"FLAG_DOCUMENT_12\", \n",
    "                                    \"FLAG_DOCUMENT_13\", \"FLAG_DOCUMENT_14\", \"FLAG_DOCUMENT_15\", \"FLAG_DOCUMENT_16\"\n",
    "                                  , \"AMT_REQ_CREDIT_BUREAU_DAY\", \"AMT_REQ_CREDIT_BUREAU_WEEK\", \"AMT_REQ_CREDIT_BUREAU_MON\"\n",
    "                                  , \"AMT_REQ_CREDIT_BUREAU_QRT\", \"AMT_REQ_CREDIT_BUREAU_YEAR\", 'debt_to_income_ratio', 'est_loan_period', \n",
    "                                    'EXT_SOURCE_1', 'EXT_SOURCE_2', 'EXT_SOURCE_3', \"TARGET\"]]\n"
   ]
  },
  {
   "cell_type": "markdown",
   "metadata": {},
   "source": [
    "After data cleaning (filling in null values, dummifying categorical variables ..."
   ]
  },
  {
   "cell_type": "code",
   "execution_count": null,
   "metadata": {},
   "outputs": [],
   "source": [
    "X = df_application_v2.drop(columns = [\"TARGET\"])\n",
    "y = df_application_v2[\"TARGET\"]\n",
    "kf = KFold(n_splits=5)\n",
    "scores = 0\n",
    "for train_appl, val_appl in kf.split(X, y):\n",
    "    model1 = xgb.XGBClassifier()\n",
    "    model1.fit(X.values[val_appl],y.values[val_appl])\n",
    "    scores = (roc_auc_score(y[train_appl],model1.predict_proba(X.values[train_appl])[:,1]))\n",
    "    \n"
   ]
  },
  {
   "cell_type": "markdown",
   "metadata": {},
   "source": [
    "Scores ends up coming out 0.7489"
   ]
  },
  {
   "cell_type": "code",
   "execution_count": null,
   "metadata": {},
   "outputs": [],
   "source": []
  }
 ],
 "metadata": {
  "kernelspec": {
   "display_name": "Python 3",
   "language": "python",
   "name": "python3"
  },
  "language_info": {
   "codemirror_mode": {
    "name": "ipython",
    "version": 3
   },
   "file_extension": ".py",
   "mimetype": "text/x-python",
   "name": "python",
   "nbconvert_exporter": "python",
   "pygments_lexer": "ipython3",
   "version": "3.6.5"
  }
 },
 "nbformat": 4,
 "nbformat_minor": 2
}
