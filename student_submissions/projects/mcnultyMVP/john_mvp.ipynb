{
 "cells": [
  {
   "cell_type": "markdown",
   "metadata": {},
   "source": [
    "**Target: Predicting loan defaults in Kaggle Home Credit Default competition**\n",
    "\n",
    "[Competition page](https://www.kaggle.com/c/home-credit-default-risk)"
   ]
  },
  {
   "cell_type": "markdown",
   "metadata": {},
   "source": [
    "Scoring metric: AUC."
   ]
  },
  {
   "cell_type": "markdown",
   "metadata": {},
   "source": [
    "We do not see many significant linear relationships between our features and predicting loan default. We can still use those correlations as guidance for our baseline model, and are able to produce some decent results. We see gradient boosted tree methods give us the best results."
   ]
  },
  {
   "cell_type": "markdown",
   "metadata": {},
   "source": [
    "With our credit scores and age features, our model produces an AUC of 0.7462 on the kaggle leaderboards. By creating a debt to income feature and a loan term feature and combining that with more employment, credit bureau, and personal info of our applicant, we up our AUC to only 0.7478 on the kaggle leaderboards."
   ]
  },
  {
   "cell_type": "markdown",
   "metadata": {},
   "source": [
    "The majority of our features are from the main application data table. We can explore our other tables to improve our model's score."
   ]
  },
  {
   "cell_type": "markdown",
   "metadata": {},
   "source": [
    "The winning team in the Kaggle competition had a score of .80570."
   ]
  }
 ],
 "metadata": {
  "kernelspec": {
   "display_name": "Python 3",
   "language": "python",
   "name": "python3"
  },
  "language_info": {
   "codemirror_mode": {
    "name": "ipython",
    "version": 3
   },
   "file_extension": ".py",
   "mimetype": "text/x-python",
   "name": "python",
   "nbconvert_exporter": "python",
   "pygments_lexer": "ipython3",
   "version": "3.7.0"
  }
 },
 "nbformat": 4,
 "nbformat_minor": 2
}
