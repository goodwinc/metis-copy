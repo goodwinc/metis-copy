{
 "cells": [
  {
   "cell_type": "markdown",
   "metadata": {},
   "source": [
    "# Project 3 : Predicting soccer games outcome"
   ]
  },
  {
   "cell_type": "code",
   "execution_count": 1,
   "metadata": {},
   "outputs": [],
   "source": [
    "import pandas as pd\n",
    "import sqlite3\n",
    "from datetime import timedelta\n",
    "import warnings\n",
    "import numpy as np\n",
    "import matplotlib.pyplot as plt\n",
    "import seaborn as sns\n",
    "from sklearn.neighbors import KNeighborsClassifier\n",
    "from sklearn.metrics import precision_score, recall_score, accuracy_score, f1_score, roc_auc_score\n",
    "from sklearn.metrics import confusion_matrix\n",
    "from sklearn.metrics import roc_curve\n",
    "from sklearn.metrics import auc\n",
    "from sklearn.linear_model import LogisticRegression\n",
    "from sklearn.model_selection import train_test_split\n",
    "from sklearn.naive_bayes import GaussianNB\n",
    "from sklearn.svm import SVC\n",
    "from sklearn.tree import DecisionTreeClassifier\n",
    "from sklearn.ensemble import RandomForestClassifier\n",
    "from sklearn.model_selection import cross_val_score\n",
    "from sklearn import preprocessing\n",
    "\n",
    "%matplotlib inline\n",
    "warnings.filterwarnings(\"ignore\")\n",
    "\n"
   ]
  },
  {
   "cell_type": "markdown",
   "metadata": {},
   "source": [
    "### Functions definition"
   ]
  },
  {
   "cell_type": "code",
   "execution_count": 2,
   "metadata": {},
   "outputs": [],
   "source": [
    "# Functions\n",
    "\n",
    "def get_goal_diff(row):\n",
    "    '''\n",
    "    return goal difference for each row\n",
    "    '''\n",
    "    return row['home_team_goal']-row['away_team_goal']\n",
    "\n",
    "def get_outcome(row):\n",
    "    '''\n",
    "    return match outcome for each row \n",
    "    1: Home team wins\n",
    "    2: Draw\n",
    "    3: Away team wins\n",
    "    '''\n",
    "    if row['home_team_goal']>row['away_team_goal']:\n",
    "        return 1\n",
    "    elif row['home_team_goal']==row['away_team_goal']:\n",
    "        return 2\n",
    "    else: \n",
    "        return 3\n",
    "    \n",
    "def get_past_history(matches,team, k):\n",
    "    '''\n",
    "    for home / away team : calculate % of wins and losses and average goal diff for the last k games\n",
    "    '''\n",
    "    \n",
    "    id=team+'_team_api_id'\n",
    "    \n",
    "    columns = [\"date\", id ,\"matches_outcome\",\"matches_goal_diff\"]\n",
    "    a=matches[columns]\n",
    "    \n",
    "    a=matches.merge(matches[[id,'matches_outcome','matches_goal_diff', 'date']], on=id, suffixes=('', '_prior'))\n",
    "    a=a[(a['date'] > a['date_prior'])]\n",
    "    a=a.sort_values(by=[id,'date','date_prior'], ascending=[1,1,0]).groupby([id,'date']).head(10)\n",
    "    \n",
    "    b=a.groupby([id, 'date','matches_outcome_prior']).size().unstack(fill_value=0).reset_index()\n",
    "    b=b.rename(index=str, columns={1: \"matches_\"+team+\"_past_wins\",2: \"matches_\"+team+\"_past_draws\",3: \"matches_\"+team+\"_past_losses\"})\n",
    "    b['matches_'+team+'_past_wins'] = b['matches_'+team+'_past_wins'].fillna(0)\n",
    "    b['matches_'+team+'_past_draws'] = b['matches_'+team+'_past_draws'].fillna(0)\n",
    "    b['matches_'+team+'_past_losses'] = b['matches_'+team+'_past_losses'].fillna(0)\n",
    "    b['matches_'+team+'_n_games']=b['matches_'+team+'_past_wins'] +b['matches_'+team+'_past_draws']+b['matches_'+team+'_past_losses']\n",
    "    b['matches_'+team+'_%_wins']=b['matches_'+team+'_past_wins']/b['matches_'+team+'_n_games']\n",
    "    b['matches_'+team+'_%_losses']=b['matches_'+team+'_past_losses']/b['matches_'+team+'_n_games']\n",
    "\n",
    "    #% of wins and losses of the last k games\n",
    "    res = pd.merge(left=matches, right=b[[id,'date','matches_'+team+'_n_games','matches_'+team+'_%_wins','matches_'+team+'_%_losses']], how='left', on=[id,'date'])\n",
    "\n",
    "    c=a.groupby([id, 'date'])['matches_goal_diff_prior'].mean().reset_index()\n",
    "    c=c.rename(index=str, columns={'matches_goal_diff_prior': \"matches_\"+team+\"_average_goal_diff\"})\n",
    "    c[\"matches_\"+team+\"_average_goal_diff\"]=c[\"matches_\"+team+\"_average_goal_diff\"]*(team=='home')-c[\"matches_\"+team+\"_average_goal_diff\"]*(team=='away')\n",
    "    #average goal diff for the last k games\n",
    "    res = pd.merge(left=res, right=c, how='left', on=[id,'date'])\n",
    "\n",
    "\n",
    "    return res "
   ]
  },
  {
   "cell_type": "markdown",
   "metadata": {},
   "source": [
    "### Loading data"
   ]
  },
  {
   "cell_type": "code",
   "execution_count": 3,
   "metadata": {},
   "outputs": [],
   "source": [
    "with sqlite3.connect('soccer/database.sqlite') as con:\n",
    "    countries = pd.read_sql_query(\"SELECT * from Country\", con)\n",
    "    matches = pd.read_sql_query(\"SELECT * from Match\", con)\n",
    "    leagues = pd.read_sql_query(\"SELECT * from League\", con)\n",
    "    teams = pd.read_sql_query(\"SELECT * from Team\", con)\n",
    "    players = pd.read_sql_query(\"SELECT * from Player\", con)\n",
    "    player_attributes = pd.read_sql_query(\"SELECT * from Player_Attributes\", con)\n",
    "    team_attributes = pd.read_sql_query(\"SELECT * from Team_Attributes\", con)"
   ]
  },
  {
   "cell_type": "code",
   "execution_count": 4,
   "metadata": {},
   "outputs": [],
   "source": [
    "# matches.dropna(subset = rows, inplace = True)"
   ]
  },
  {
   "cell_type": "code",
   "execution_count": 5,
   "metadata": {},
   "outputs": [],
   "source": [
    "# pd.set_option('display.max_columns', 500)"
   ]
  },
  {
   "cell_type": "code",
   "execution_count": 6,
   "metadata": {},
   "outputs": [],
   "source": [
    "matches['date']= pd.to_datetime(matches['date'])\n",
    "player_attributes['date']= pd.to_datetime(player_attributes['date'])\n",
    "team_attributes['date']= pd.to_datetime(team_attributes['date'])"
   ]
  },
  {
   "cell_type": "code",
   "execution_count": 7,
   "metadata": {},
   "outputs": [],
   "source": [
    "matches=matches.sort_values(by=['home_team_api_id','date'], ascending=[1,1])\n",
    "matches['matches_goal_diff']=matches.apply(get_goal_diff, axis=1)\n",
    "matches['matches_outcome']=matches.apply(get_outcome, axis=1) "
   ]
  },
  {
   "cell_type": "code",
   "execution_count": 8,
   "metadata": {},
   "outputs": [],
   "source": [
    "# let's start by predicting the loss of the home team\n",
    "y=(matches['matches_outcome']==3)*1\n",
    "X=matches"
   ]
  },
  {
   "cell_type": "markdown",
   "metadata": {},
   "source": [
    "### Desciprtive satistics"
   ]
  },
  {
   "cell_type": "code",
   "execution_count": 9,
   "metadata": {},
   "outputs": [],
   "source": [
    "# X.matches_outcome.value_counts() # 46% W, 29% D, 25% L"
   ]
  },
  {
   "cell_type": "code",
   "execution_count": 10,
   "metadata": {},
   "outputs": [
    {
     "data": {
      "text/plain": [
       "<matplotlib.axes._subplots.AxesSubplot at 0x7f7f335b2630>"
      ]
     },
     "execution_count": 10,
     "metadata": {},
     "output_type": "execute_result"
    },
    {
     "data": {
      "image/png": "[encoded data removed]",
      "text/plain": [
       "<Figure size 432x288 with 1 Axes>"
      ]
     },
     "metadata": {
      "needs_background": "light"
     },
     "output_type": "display_data"
    }
   ],
   "source": [
    "sns.countplot(x = 'matches_outcome',data=X)"
   ]
  },
  {
   "cell_type": "code",
   "execution_count": 11,
   "metadata": {},
   "outputs": [],
   "source": [
    "# X.matches_goal_diff.value_counts().reset_index().sort_values(by=['index'], ascending=[1])"
   ]
  },
  {
   "cell_type": "code",
   "execution_count": 12,
   "metadata": {},
   "outputs": [
    {
     "data": {
      "image/png": "[encoded data removed]",
      "text/plain": [
       "<Figure size 432x288 with 1 Axes>"
      ]
     },
     "metadata": {
      "needs_background": "light"
     },
     "output_type": "display_data"
    }
   ],
   "source": [
    "plt.hist(X.matches_goal_diff, alpha=0.5, label='goal_diff');"
   ]
  },
  {
   "cell_type": "markdown",
   "metadata": {},
   "source": [
    "### Splitting data"
   ]
  },
  {
   "cell_type": "code",
   "execution_count": 13,
   "metadata": {},
   "outputs": [],
   "source": [
    "X_train, X_test, y_train, y_test = train_test_split(X, y, test_size=0.3, random_state=444)"
   ]
  },
  {
   "cell_type": "code",
   "execution_count": 14,
   "metadata": {},
   "outputs": [
    {
     "data": {
      "text/plain": [
       "(18185, 117)"
      ]
     },
     "execution_count": 14,
     "metadata": {},
     "output_type": "execute_result"
    }
   ],
   "source": [
    "X_train.shape"
   ]
  },
  {
   "cell_type": "markdown",
   "metadata": {},
   "source": [
    "### Features' engineering"
   ]
  },
  {
   "cell_type": "markdown",
   "metadata": {},
   "source": [
    "We start by using the 10 last games statistcs.  \n",
    "Later we can change the depth and / or give different weights according to proximity to the considered game."
   ]
  },
  {
   "cell_type": "code",
   "execution_count": 15,
   "metadata": {},
   "outputs": [],
   "source": [
    "X_train=get_past_history(X_train,'home',10)"
   ]
  },
  {
   "cell_type": "code",
   "execution_count": 16,
   "metadata": {},
   "outputs": [],
   "source": [
    "X_train=get_past_history(X_train,'away',10)"
   ]
  },
  {
   "cell_type": "code",
   "execution_count": 17,
   "metadata": {},
   "outputs": [],
   "source": [
    "X_test=get_past_history(X_test,'home',10)"
   ]
  },
  {
   "cell_type": "code",
   "execution_count": 18,
   "metadata": {},
   "outputs": [],
   "source": [
    "X_test=get_past_history(X_test,'away',10)"
   ]
  },
  {
   "cell_type": "code",
   "execution_count": 19,
   "metadata": {},
   "outputs": [
    {
     "data": {
      "text/plain": [
       "(18185, 125)"
      ]
     },
     "execution_count": 19,
     "metadata": {},
     "output_type": "execute_result"
    }
   ],
   "source": [
    "X_train.shape"
   ]
  },
  {
   "cell_type": "markdown",
   "metadata": {},
   "source": [
    "**First selection of features**"
   ]
  },
  {
   "cell_type": "code",
   "execution_count": 20,
   "metadata": {},
   "outputs": [],
   "source": [
    "# subset of features\n",
    "columns=['matches_home_average_goal_diff','matches_home_%_wins','matches_home_%_losses', 'matches_home_n_games', \\\n",
    "        'matches_away_average_goal_diff','matches_away_%_wins','matches_away_%_losses', 'matches_away_n_games', \\\n",
    "        'league_id', 'stage', 'season']\n",
    "\n",
    "columns.extend(['y'])"
   ]
  },
  {
   "cell_type": "markdown",
   "metadata": {},
   "source": [
    "For now drop observations that do not have at least 10 prvious games.  \n",
    "Later we can aggregate the results of newly promoted teams to deal with this problem."
   ]
  },
  {
   "cell_type": "code",
   "execution_count": 21,
   "metadata": {},
   "outputs": [],
   "source": [
    "df_train=X_train\n",
    "df_train['y']=y_train.values\n",
    "# drop rows with a history of less than 10 games\n",
    "df_train_subset=df_train[(df_train.matches_home_n_games==10) & (df_train.matches_away_n_games==10)]\n",
    "\n",
    "df_test=X_test\n",
    "df_test['y']=y_test.values\n",
    "# drop rows with a history of less than 10 games\n",
    "df_test_subset=df_test[(df_test.matches_home_n_games==10) & (df_test.matches_away_n_games==10)]"
   ]
  },
  {
   "cell_type": "code",
   "execution_count": 22,
   "metadata": {},
   "outputs": [
    {
     "data": {
      "text/plain": [
       "(13972, 126)"
      ]
     },
     "execution_count": 22,
     "metadata": {},
     "output_type": "execute_result"
    }
   ],
   "source": [
    "df_train_subset.shape"
   ]
  },
  {
   "cell_type": "code",
   "execution_count": 23,
   "metadata": {},
   "outputs": [
    {
     "data": {
      "text/plain": [
       "(18185, 126)"
      ]
     },
     "execution_count": 23,
     "metadata": {},
     "output_type": "execute_result"
    }
   ],
   "source": [
    "df_train.shape"
   ]
  },
  {
   "cell_type": "markdown",
   "metadata": {},
   "source": [
    "**M1**: Baseline model with : \n",
    "- % of matches lost by the home team for the last 10 matches played at home\n",
    "- % of matches won by the guest teal for the last 10 matches played away"
   ]
  },
  {
   "cell_type": "code",
   "execution_count": 24,
   "metadata": {},
   "outputs": [
    {
     "name": "stdout",
     "output_type": "stream",
     "text": [
      "M1's accuracy socre : 0.7115616702872315\n",
      "M1's precision socre : 0.5568181818181818\n",
      "M1's recall socre : 0.04066390041493776\n",
      "M1's f1 socre : 0.07579273008507348\n",
      "M1's AUC socre : 0.6241867191670739\n"
     ]
    },
    {
     "data": {
      "image/png": "[encoded data removed]",
      "text/plain": [
       "<Figure size 432x288 with 1 Axes>"
      ]
     },
     "metadata": {
      "needs_background": "light"
     },
     "output_type": "display_data"
    }
   ],
   "source": [
    "columns=['matches_home_%_losses', \\\n",
    "        'matches_away_%_wins' ]\n",
    "scaler = preprocessing.StandardScaler().fit(df_train_subset[columns])\n",
    "X_tr=scaler.transform(df_train_subset[columns]) \n",
    "X_te=scaler.transform(df_test_subset[columns]) \n",
    "\n",
    "lr = LogisticRegression()\n",
    "lr.fit(X_tr, df_train_subset['y'])\n",
    "\n",
    "y_pred = lr.predict(X_te)\n",
    "\n",
    "print(\"M1's accuracy socre : \" +str(accuracy_score(df_test_subset['y'], y_pred)))\n",
    "print(\"M1's precision socre : \" +str(precision_score(df_test_subset['y'], y_pred)))\n",
    "print(\"M1's recall socre : \" +str(recall_score(df_test_subset['y'], y_pred)))\n",
    "print(\"M1's f1 socre : \" +str(f1_score(df_test_subset['y'], y_pred)))\n",
    "\n",
    "fpr, tpr, _ = roc_curve(df_test_subset['y'], lr.predict_proba(X_te)[:,1])\n",
    "plt.plot(fpr, tpr)\n",
    "x = np.linspace(0,1, 100000)\n",
    "plt.plot(x, x, linestyle='--')\n",
    "\n",
    "plt.title('ROC Curve')\n",
    "plt.xlabel('False Positive Rate')\n",
    "plt.ylabel('True Positive Rate')\n",
    "print(\"M1's AUC socre : \" +str(auc(fpr, tpr)))"
   ]
  },
  {
   "cell_type": "markdown",
   "metadata": {},
   "source": [
    "**M1:71 % accuracy and 62 % AUC.**"
   ]
  },
  {
   "cell_type": "code",
   "execution_count": 25,
   "metadata": {},
   "outputs": [
    {
     "data": {
      "text/plain": [
       "<matplotlib.axes._subplots.AxesSubplot at 0x7f7f3368c1d0>"
      ]
     },
     "execution_count": 25,
     "metadata": {},
     "output_type": "execute_result"
    },
    {
     "data": {
      "image/png": "[encoded data removed]",
      "text/plain": [
       "<Figure size 432x288 with 1 Axes>"
      ]
     },
     "metadata": {
      "needs_background": "light"
     },
     "output_type": "display_data"
    }
   ],
   "source": [
    "coef=list(zip(columns,lr.coef_.transpose()))\n",
    "coef=[(e[0],e[1][0]) for e in coef]\n",
    "coef = sorted(coef, key = lambda x: x[1], reverse=False)\n",
    "coef = pd.DataFrame(coef, columns=['feature','coef'])\n",
    "coef.plot(x='feature',y='coef',kind='barh',legend=False)"
   ]
  },
  {
   "cell_type": "markdown",
   "metadata": {},
   "source": [
    "The coefficients of the features (standardized) : the home team and the guest team statistics seem to have the same importance."
   ]
  },
  {
   "cell_type": "markdown",
   "metadata": {},
   "source": [
    "**M2:** let's add the stats of matches played away for the home team and those played at home for the guest team"
   ]
  },
  {
   "cell_type": "code",
   "execution_count": 26,
   "metadata": {},
   "outputs": [
    {
     "name": "stdout",
     "output_type": "stream",
     "text": [
      "The logistic regression's accuracy socre : 0.719768283852281\n",
      "The logistic regression's precision socre : 0.6134020618556701\n",
      "The logistic regression's recall socre : 0.0987551867219917\n",
      "The logistic regression's f1 socre : 0.1701215153681201\n",
      "The logistic regression's AUC socre : 0.6443250411689438\n"
     ]
    },
    {
     "data": {
      "image/png": "[encoded data removed]",
      "text/plain": [
       "<Figure size 432x288 with 1 Axes>"
      ]
     },
     "metadata": {
      "needs_background": "light"
     },
     "output_type": "display_data"
    }
   ],
   "source": [
    "columns=['matches_home_%_wins','matches_home_%_losses', \\\n",
    "        'matches_away_%_wins','matches_away_%_losses' ]\n",
    "scaler = preprocessing.StandardScaler().fit(df_train_subset[columns])\n",
    "X_tr=scaler.transform(df_train_subset[columns]) \n",
    "X_te=scaler.transform(df_test_subset[columns]) \n",
    "\n",
    "lr = LogisticRegression()\n",
    "lr.fit(X_tr, df_train_subset['y'])\n",
    "\n",
    "y_pred = lr.predict(X_te)\n",
    "\n",
    "print(\"The logistic regression's accuracy socre : \" +str(accuracy_score(df_test_subset['y'], y_pred)))\n",
    "print(\"The logistic regression's precision socre : \" +str(precision_score(df_test_subset['y'], y_pred)))\n",
    "print(\"The logistic regression's recall socre : \" +str(recall_score(df_test_subset['y'], y_pred)))\n",
    "print(\"The logistic regression's f1 socre : \" +str(f1_score(df_test_subset['y'], y_pred)))\n",
    "\n",
    "fpr, tpr, _ = roc_curve(df_test_subset['y'], lr.predict_proba(X_te)[:,1])\n",
    "plt.plot(fpr, tpr)\n",
    "x = np.linspace(0,1, 100000)\n",
    "plt.plot(x, x, linestyle='--')\n",
    "\n",
    "plt.title('ROC Curve')\n",
    "plt.xlabel('False Positive Rate')\n",
    "plt.ylabel('True Positive Rate')\n",
    "print(\"The logistic regression's AUC socre : \" +str(auc(fpr, tpr)))"
   ]
  },
  {
   "cell_type": "markdown",
   "metadata": {},
   "source": [
    "Just a tiny improvement of AUC.."
   ]
  },
  {
   "cell_type": "code",
   "execution_count": 27,
   "metadata": {},
   "outputs": [
    {
     "data": {
      "text/plain": [
       "<matplotlib.axes._subplots.AxesSubplot at 0x7f7f326db860>"
      ]
     },
     "execution_count": 27,
     "metadata": {},
     "output_type": "execute_result"
    },
    {
     "data": {
      "image/png": "[encoded data removed]",
      "text/plain": [
       "<Figure size 432x288 with 1 Axes>"
      ]
     },
     "metadata": {
      "needs_background": "light"
     },
     "output_type": "display_data"
    }
   ],
   "source": [
    "coef=list(zip(columns,lr.coef_.transpose()))\n",
    "coef=[(e[0],e[1][0]) for e in coef]\n",
    "coef = sorted(coef, key = lambda x: x[1], reverse=False)\n",
    "coef = pd.DataFrame(coef, columns=['feature','coef'])\n",
    "coef.plot(x='feature',y='coef',kind='barh',legend=False)"
   ]
  },
  {
   "cell_type": "markdown",
   "metadata": {},
   "source": [
    "As expected, the statistics of the home team at home and the guest team away are more relevant."
   ]
  },
  {
   "cell_type": "markdown",
   "metadata": {},
   "source": [
    "**M3:** let's try the average goal difference of the 10 last matches played at home by the home team and the 10 last matches played away by the guest team"
   ]
  },
  {
   "cell_type": "code",
   "execution_count": 28,
   "metadata": {},
   "outputs": [
    {
     "name": "stdout",
     "output_type": "stream",
     "text": [
      "The logistic regression's accuracy socre : 0.721940622737147\n",
      "The logistic regression's precision socre : 0.6090534979423868\n",
      "The logistic regression's recall socre : 0.12282157676348547\n",
      "The logistic regression's f1 socre : 0.20441988950276244\n",
      "The logistic regression's AUC socre : 0.6557286267509159\n"
     ]
    },
    {
     "data": {
      "image/png": "[encoded data removed]",
      "text/plain": [
       "<Figure size 432x288 with 1 Axes>"
      ]
     },
     "metadata": {
      "needs_background": "light"
     },
     "output_type": "display_data"
    }
   ],
   "source": [
    " columns=['matches_home_average_goal_diff', \\\n",
    "        'matches_away_average_goal_diff']\n",
    "scaler = preprocessing.StandardScaler().fit(df_train_subset[columns])\n",
    "X_tr=scaler.transform(df_train_subset[columns]) \n",
    "X_te=scaler.transform(df_test_subset[columns]) \n",
    "\n",
    "lr = LogisticRegression()\n",
    "lr.fit(X_tr, df_train_subset['y'])\n",
    "\n",
    "y_pred = lr.predict(X_te)\n",
    "\n",
    "print(\"The logistic regression's accuracy socre : \" +str(accuracy_score(df_test_subset['y'], y_pred)))\n",
    "print(\"The logistic regression's precision socre : \" +str(precision_score(df_test_subset['y'], y_pred)))\n",
    "print(\"The logistic regression's recall socre : \" +str(recall_score(df_test_subset['y'], y_pred)))\n",
    "print(\"The logistic regression's f1 socre : \" +str(f1_score(df_test_subset['y'], y_pred)))\n",
    "\n",
    "fpr, tpr, _ = roc_curve(df_test_subset['y'], lr.predict_proba(X_te)[:,1])\n",
    "plt.plot(fpr, tpr)\n",
    "x = np.linspace(0,1, 100000)\n",
    "plt.plot(x, x, linestyle='--')\n",
    "\n",
    "plt.title('ROC Curve')\n",
    "plt.xlabel('False Positive Rate')\n",
    "plt.ylabel('True Positive Rate')\n",
    "print(\"The logistic regression's AUC socre : \" +str(auc(fpr, tpr)))"
   ]
  },
  {
   "cell_type": "markdown",
   "metadata": {},
   "source": [
    "M3 is better than than M1 and M2 as expected (goal differnece has more information that match outcome), but the imporvment is not very important.  \n",
    "Later : add avearage goal difference of the guest team's matches played at home and the home team's matches played away."
   ]
  },
  {
   "cell_type": "code",
   "execution_count": 30,
   "metadata": {},
   "outputs": [
    {
     "data": {
      "text/plain": [
       "<matplotlib.axes._subplots.AxesSubplot at 0x7f7f33892518>"
      ]
     },
     "execution_count": 30,
     "metadata": {},
     "output_type": "execute_result"
    },
    {
     "data": {
      "image/png": "[encoded data removed]",
      "text/plain": [
       "<Figure size 432x288 with 1 Axes>"
      ]
     },
     "metadata": {
      "needs_background": "light"
     },
     "output_type": "display_data"
    }
   ],
   "source": [
    "coef=list(zip(columns,lr.coef_.transpose()))\n",
    "coef=[(e[0],e[1][0]) for e in coef]\n",
    "coef = sorted(coef, key = lambda x: x[1], reverse=False)\n",
    "coef = pd.DataFrame(coef, columns=['feature','coef'])\n",
    "coef.plot(x='feature',y='coef',kind='barh',legend=False)"
   ]
  },
  {
   "cell_type": "markdown",
   "metadata": {},
   "source": [
    "**M4:** let's put all these features together"
   ]
  },
  {
   "cell_type": "code",
   "execution_count": 31,
   "metadata": {},
   "outputs": [
    {
     "name": "stdout",
     "output_type": "stream",
     "text": [
      "The logistic regression's accuracy socre : 0.7243543326092203\n",
      "The logistic regression's precision socre : 0.6235294117647059\n",
      "The logistic regression's recall socre : 0.13195020746887967\n",
      "The logistic regression's f1 socre : 0.21780821917808219\n",
      "The logistic regression's AUC socre : 0.6555450259724486\n"
     ]
    },
    {
     "data": {
      "image/png": "[encoded data removed]",
      "text/plain": [
       "<Figure size 432x288 with 1 Axes>"
      ]
     },
     "metadata": {
      "needs_background": "light"
     },
     "output_type": "display_data"
    }
   ],
   "source": [
    "columns=['matches_home_average_goal_diff','matches_home_%_wins','matches_home_%_losses', \\\n",
    "        'matches_away_average_goal_diff','matches_away_%_wins','matches_away_%_losses']\n",
    "scaler = preprocessing.StandardScaler().fit(df_train_subset[columns])\n",
    "X_tr=scaler.transform(df_train_subset[columns]) \n",
    "X_te=scaler.transform(df_test_subset[columns]) \n",
    "\n",
    "lr = LogisticRegression()\n",
    "lr.fit(X_tr, df_train_subset['y'])\n",
    "\n",
    "y_pred = lr.predict(X_te)\n",
    "\n",
    "print(\"The logistic regression's accuracy socre : \" +str(accuracy_score(df_test_subset['y'], y_pred)))\n",
    "print(\"The logistic regression's precision socre : \" +str(precision_score(df_test_subset['y'], y_pred)))\n",
    "print(\"The logistic regression's recall socre : \" +str(recall_score(df_test_subset['y'], y_pred)))\n",
    "print(\"The logistic regression's f1 socre : \" +str(f1_score(df_test_subset['y'], y_pred)))\n",
    "\n",
    "fpr, tpr, _ = roc_curve(df_test_subset['y'], lr.predict_proba(X_te)[:,1])\n",
    "plt.plot(fpr, tpr)\n",
    "x = np.linspace(0,1, 100000)\n",
    "plt.plot(x, x, linestyle='--')\n",
    "\n",
    "plt.title('ROC Curve')\n",
    "plt.xlabel('False Positive Rate')\n",
    "plt.ylabel('True Positive Rate')\n",
    "print(\"The logistic regression's AUC socre : \" +str(auc(fpr, tpr)))"
   ]
  },
  {
   "cell_type": "code",
   "execution_count": 32,
   "metadata": {},
   "outputs": [
    {
     "data": {
      "text/plain": [
       "<matplotlib.axes._subplots.AxesSubplot at 0x7f7f32916828>"
      ]
     },
     "execution_count": 32,
     "metadata": {},
     "output_type": "execute_result"
    },
    {
     "data": {
      "image/png": "[encoded data removed]",
      "text/plain": [
       "<Figure size 432x288 with 1 Axes>"
      ]
     },
     "metadata": {
      "needs_background": "light"
     },
     "output_type": "display_data"
    }
   ],
   "source": [
    "coef=list(zip(columns,lr.coef_.transpose()))\n",
    "coef=[(e[0],e[1][0]) for e in coef]\n",
    "coef = sorted(coef, key = lambda x: x[1], reverse=False)\n",
    "coef = pd.DataFrame(coef, columns=['feature','coef'])\n",
    "coef.plot(x='feature',y='coef',kind='barh',legend=False)"
   ]
  },
  {
   "cell_type": "markdown",
   "metadata": {},
   "source": [
    "This model has a lower AUC that M3."
   ]
  },
  {
   "cell_type": "markdown",
   "metadata": {},
   "source": [
    "### Next steps"
   ]
  },
  {
   "cell_type": "markdown",
   "metadata": {},
   "source": [
    "- **Features' engineering :**\n",
    "    - find the optimal depth / weight more recent games \n",
    "    - add direct confrontations\n",
    "    - Add players and team attributes / lineup  \n",
    "- **Try other models**\n",
    "- **Build betting strategies**"
   ]
  }
 ],
 "metadata": {
  "kernelspec": {
   "display_name": "Python 3",
   "language": "python",
   "name": "python3"
  },
  "language_info": {
   "codemirror_mode": {
    "name": "ipython",
    "version": 3
   },
   "file_extension": ".py",
   "mimetype": "text/x-python",
   "name": "python",
   "nbconvert_exporter": "python",
   "pygments_lexer": "ipython3",
   "version": "3.6.6"
  }
 },
 "nbformat": 4,
 "nbformat_minor": 2
}
