{
 "cells": [
  {
   "cell_type": "markdown",
   "metadata": {},
   "source": [
    "## Topic: 08 - Classification Error Metric Challenges\n",
    "## Date: 10/22/2018\n",
    "## Name: Amine Naouas"
   ]
  },
  {
   "cell_type": "code",
   "execution_count": 93,
   "metadata": {},
   "outputs": [],
   "source": [
    "import pandas as pd\n",
    "import numpy as np\n",
    "import matplotlib.pyplot as plt\n",
    "import seaborn as sns\n",
    "from sklearn.neighbors import KNeighborsClassifier\n",
    "from sklearn.metrics import precision_score, recall_score, accuracy_score, f1_score, roc_auc_score\n",
    "from sklearn.metrics import confusion_matrix\n",
    "from sklearn.metrics import roc_curve\n",
    "from sklearn.metrics import auc\n",
    "from sklearn.linear_model import LogisticRegression\n",
    "from sklearn.cross_validation import train_test_split\n",
    "from sklearn.naive_bayes import GaussianNB\n",
    "from sklearn.svm import SVC\n",
    "from sklearn.tree import DecisionTreeClassifier\n",
    "from sklearn.ensemble import RandomForestClassifier\n",
    "from sklearn.cross_validation import cross_val_score\n",
    "from sklearn import preprocessing\n",
    "\n",
    "%matplotlib inline"
   ]
  },
  {
   "cell_type": "markdown",
   "metadata": {},
   "source": [
    "**Challenge 1**"
   ]
  },
  {
   "cell_type": "markdown",
   "metadata": {},
   "source": [
    "Reading and preparing the data"
   ]
  },
  {
   "cell_type": "code",
   "execution_count": 61,
   "metadata": {},
   "outputs": [],
   "source": [
    "df=pd.read_csv('https://archive.ics.uci.edu/ml/machine-learning-databases/voting-records/house-votes-84.data',\n",
    "               names=['Class_Name',\t'handicapped_infants','water_project_cost_sharing','adoption_of_the_budget_resolution','physician_fee_freeze','el_salvador_aid','religious_groups_in_schools','anti_satellite_test_ban','aid_to_nicaraguan_contras','mx_missile','immigration','synfuels_corporation_cutback','education_spending','superfund_right_to_sue','crime','duty_free_exports','export_administration_act_south_africa'],\n",
    "               header=None)\n",
    "\n",
    "df[df=='y']=1\n",
    "df[df=='n']=0\n",
    "\n",
    "for s in list(df.columns):\n",
    "    if s != 'Class_Name':\n",
    "        df[s]=pd.to_numeric(df[s], errors='coerce')\n",
    "\n",
    "df=df.fillna(df.mean())\n",
    "\n",
    "X=df.iloc[:,1:]\n",
    "y=(df.iloc[:,0]=='democrat')*1"
   ]
  },
  {
   "cell_type": "code",
   "execution_count": 62,
   "metadata": {},
   "outputs": [],
   "source": [
    "X_train, X_test, y_train, y_test = train_test_split(X, y, test_size=0.3, random_state=4444)"
   ]
  },
  {
   "cell_type": "code",
   "execution_count": 66,
   "metadata": {},
   "outputs": [],
   "source": [
    "y_pred={}"
   ]
  },
  {
   "cell_type": "code",
   "execution_count": 70,
   "metadata": {},
   "outputs": [],
   "source": [
    "knn = KNeighborsClassifier(n_neighbors=3)\n",
    "knn.fit(X_train, y_train)\n",
    "y_pred['knn'] = knn.predict(X_test)\n",
    "\n",
    "lr = LogisticRegression(C=1000000)\n",
    "lr.fit(X_train, y_train)\n",
    "y_pred['lr'] = lr.predict(X_test)\n",
    "\n",
    "nb = GaussianNB()\n",
    "nb.fit(X_train, y_train)\n",
    "y_pred['nb'] = nb.predict(X_test)\n",
    "\n",
    "dt = DecisionTreeClassifier(random_state=0)\n",
    "dt.fit(X_train, y_train)\n",
    "y_pred['dt'] = dt.predict(X_test)\n",
    "\n",
    "rf=RandomForestClassifier()\n",
    "rf.fit(X_train, y_train)\n",
    "y_pred['rf'] = rf.predict(X_test)"
   ]
  },
  {
   "cell_type": "code",
   "execution_count": 71,
   "metadata": {},
   "outputs": [],
   "source": [
    "res=np.empty([5, 4])\n",
    "models=['knn','lr', 'nb','dt', 'rf']\n",
    "for r in range(5):\n",
    "    res[r,0]=accuracy_score(y_test, y_pred[models[r]])\n",
    "    res[r,1]=precision_score(y_test,  y_pred[models[r]])\n",
    "    res[r,2]=recall_score(y_test,  y_pred[models[r]])\n",
    "    res[r,3]=f1_score(y_test,  y_pred[models[r]])"
   ]
  },
  {
   "cell_type": "code",
   "execution_count": 73,
   "metadata": {},
   "outputs": [
    {
     "data": {
      "text/html": [
       "<div>\n",
       "<style scoped>\n",
       "    .dataframe tbody tr th:only-of-type {\n",
       "        vertical-align: middle;\n",
       "    }\n",
       "\n",
       "    .dataframe tbody tr th {\n",
       "        vertical-align: top;\n",
       "    }\n",
       "\n",
       "    .dataframe thead th {\n",
       "        text-align: right;\n",
       "    }\n",
       "</style>\n",
       "<table border=\"1\" class=\"dataframe\">\n",
       "  <thead>\n",
       "    <tr style=\"text-align: right;\">\n",
       "      <th></th>\n",
       "      <th>accuracy</th>\n",
       "      <th>precision</th>\n",
       "      <th>recall</th>\n",
       "      <th>f1</th>\n",
       "    </tr>\n",
       "  </thead>\n",
       "  <tbody>\n",
       "    <tr>\n",
       "      <th>knn</th>\n",
       "      <td>0.900763</td>\n",
       "      <td>0.910256</td>\n",
       "      <td>0.922078</td>\n",
       "      <td>0.916129</td>\n",
       "    </tr>\n",
       "    <tr>\n",
       "      <th>lr</th>\n",
       "      <td>0.931298</td>\n",
       "      <td>0.925000</td>\n",
       "      <td>0.961039</td>\n",
       "      <td>0.942675</td>\n",
       "    </tr>\n",
       "    <tr>\n",
       "      <th>nb</th>\n",
       "      <td>0.938931</td>\n",
       "      <td>0.915663</td>\n",
       "      <td>0.987013</td>\n",
       "      <td>0.950000</td>\n",
       "    </tr>\n",
       "    <tr>\n",
       "      <th>dt</th>\n",
       "      <td>0.946565</td>\n",
       "      <td>0.948718</td>\n",
       "      <td>0.961039</td>\n",
       "      <td>0.954839</td>\n",
       "    </tr>\n",
       "    <tr>\n",
       "      <th>rf</th>\n",
       "      <td>0.961832</td>\n",
       "      <td>0.961538</td>\n",
       "      <td>0.974026</td>\n",
       "      <td>0.967742</td>\n",
       "    </tr>\n",
       "  </tbody>\n",
       "</table>\n",
       "</div>"
      ],
      "text/plain": [
       "     accuracy  precision    recall        f1\n",
       "knn  0.900763   0.910256  0.922078  0.916129\n",
       "lr   0.931298   0.925000  0.961039  0.942675\n",
       "nb   0.938931   0.915663  0.987013  0.950000\n",
       "dt   0.946565   0.948718  0.961039  0.954839\n",
       "rf   0.961832   0.961538  0.974026  0.967742"
      ]
     },
     "execution_count": 73,
     "metadata": {},
     "output_type": "execute_result"
    }
   ],
   "source": [
    "pd.DataFrame(res, columns=['accuracy', 'precision', 'recall', 'f1'],index=models)"
   ]
  },
  {
   "cell_type": "markdown",
   "metadata": {},
   "source": [
    "**Challenge 2**"
   ]
  },
  {
   "cell_type": "code",
   "execution_count": 74,
   "metadata": {},
   "outputs": [
    {
     "name": "stdout",
     "output_type": "stream",
     "text": [
      "The logistic regression's AUC socre : 0.9805194805194805\n",
      "The 3-nn model's AUC socre : 0.945887445887446\n",
      "The naive Bayes model's AUC socre : 0.977032227032227\n",
      "The decision tree model's AUC socre : 0.9434824434824436\n",
      "The random forest model's AUC socre : 0.9908609908609909\n"
     ]
    },
    {
     "data": {
      "text/plain": [
       "<function matplotlib.pyplot.show(*args, **kw)>"
      ]
     },
     "execution_count": 74,
     "metadata": {},
     "output_type": "execute_result"
    },
    {
     "data": {
      "image/png": "[encoded data removed]",
      "text/plain": [
       "<Figure size 432x288 with 1 Axes>"
      ]
     },
     "metadata": {
      "needs_background": "light"
     },
     "output_type": "display_data"
    }
   ],
   "source": [
    "fpr, tpr, _ = roc_curve(y_test, lr.predict_proba(X_test)[:,1])\n",
    "plt.plot(fpr, tpr)\n",
    "print(\"The logistic regression's AUC socre : \" +str(auc(fpr, tpr)))\n",
    "\n",
    "fpr, tpr, _ = roc_curve(y_test, knn.predict_proba(X_test)[:,1])\n",
    "plt.plot(fpr, tpr)\n",
    "print(\"The 3-nn model's AUC socre : \" +str(auc(fpr, tpr)))\n",
    "\n",
    "fpr, tpr, _ = roc_curve(y_test, nb.predict_proba(X_test)[:,1])\n",
    "plt.plot(fpr, tpr)\n",
    "print(\"The naive Bayes model's AUC socre : \" +str(auc(fpr, tpr)))\n",
    "      \n",
    "fpr, tpr, _ = roc_curve(y_test, dt.predict_proba(X_test)[:,1])\n",
    "plt.plot(fpr, tpr)\n",
    "print(\"The decision tree model's AUC socre : \" +str(auc(fpr, tpr)))\n",
    "      \n",
    "fpr, tpr, _ = roc_curve(y_test, rf.predict_proba(X_test)[:,1])\n",
    "plt.plot(fpr, tpr)\n",
    "print(\"The random forest model's AUC socre : \" +str(auc(fpr, tpr)))\n",
    "\n",
    "x = np.linspace(0,1, 100000)\n",
    "plt.plot(x, x, linestyle='--')\n",
    "\n",
    "plt.title('ROC Curve')\n",
    "plt.xlabel('False Positive Rate')\n",
    "plt.ylabel('True Positive Rate')\n",
    "plt.legend(['logistic','3-NN', 'nb', 'dt', 'rf'])\n",
    "plt.show"
   ]
  },
  {
   "cell_type": "markdown",
   "metadata": {},
   "source": [
    "**Challenge 3**"
   ]
  },
  {
   "cell_type": "code",
   "execution_count": 75,
   "metadata": {},
   "outputs": [],
   "source": [
    "res=np.empty([5, 4])"
   ]
  },
  {
   "cell_type": "code",
   "execution_count": 76,
   "metadata": {},
   "outputs": [],
   "source": [
    "res[0,0]=np.mean(cross_val_score(knn,X_train,y_train, cv=5, scoring='accuracy'))\n",
    "res[0,1]=np.mean(cross_val_score(knn,X_train,y_train, cv=5, scoring='precision'))\n",
    "res[0,2]=np.mean(cross_val_score(knn,X_train,y_train, cv=5, scoring='recall'))\n",
    "res[0,3]=np.mean(cross_val_score(knn,X_train,y_train, cv=5, scoring='f1'))"
   ]
  },
  {
   "cell_type": "code",
   "execution_count": 77,
   "metadata": {},
   "outputs": [],
   "source": [
    "res[1,0]=np.mean(cross_val_score(lr,X_train,y_train, cv=5, scoring='accuracy'))\n",
    "res[1,1]=np.mean(cross_val_score(lr,X_train,y_train, cv=5, scoring='precision'))\n",
    "res[1,2]=np.mean(cross_val_score(lr,X_train,y_train, cv=5, scoring='recall'))\n",
    "res[1,3]=np.mean(cross_val_score(lr,X_train,y_train, cv=5, scoring='f1'))"
   ]
  },
  {
   "cell_type": "code",
   "execution_count": 78,
   "metadata": {},
   "outputs": [],
   "source": [
    "res[2,0]=np.mean(cross_val_score(nb,X_train,y_train, cv=5, scoring='accuracy'))\n",
    "res[2,1]=np.mean(cross_val_score(nb,X_train,y_train, cv=5, scoring='precision'))\n",
    "res[2,2]=np.mean(cross_val_score(nb,X_train,y_train, cv=5, scoring='recall'))\n",
    "res[2,3]=np.mean(cross_val_score(nb,X_train,y_train, cv=5, scoring='f1'))"
   ]
  },
  {
   "cell_type": "code",
   "execution_count": 79,
   "metadata": {},
   "outputs": [],
   "source": [
    "res[3,0]=np.mean(cross_val_score(dt,X_train,y_train, cv=5, scoring='accuracy'))\n",
    "res[3,1]=np.mean(cross_val_score(dt,X_train,y_train, cv=5, scoring='precision'))\n",
    "res[3,2]=np.mean(cross_val_score(dt,X_train,y_train, cv=5, scoring='recall'))\n",
    "res[3,3]=np.mean(cross_val_score(dt,X_train,y_train, cv=5, scoring='f1'))"
   ]
  },
  {
   "cell_type": "code",
   "execution_count": 80,
   "metadata": {},
   "outputs": [],
   "source": [
    "res[4,0]=np.mean(cross_val_score(rf,X_train,y_train, cv=5, scoring='accuracy'))\n",
    "res[4,1]=np.mean(cross_val_score(rf,X_train,y_train, cv=5, scoring='precision'))\n",
    "res[4,2]=np.mean(cross_val_score(rf,X_train,y_train, cv=5, scoring='recall'))\n",
    "res[4,3]=np.mean(cross_val_score(rf,X_train,y_train, cv=5, scoring='f1'))"
   ]
  },
  {
   "cell_type": "code",
   "execution_count": 82,
   "metadata": {},
   "outputs": [
    {
     "data": {
      "text/html": [
       "<div>\n",
       "<style scoped>\n",
       "    .dataframe tbody tr th:only-of-type {\n",
       "        vertical-align: middle;\n",
       "    }\n",
       "\n",
       "    .dataframe tbody tr th {\n",
       "        vertical-align: top;\n",
       "    }\n",
       "\n",
       "    .dataframe thead th {\n",
       "        text-align: right;\n",
       "    }\n",
       "</style>\n",
       "<table border=\"1\" class=\"dataframe\">\n",
       "  <thead>\n",
       "    <tr style=\"text-align: right;\">\n",
       "      <th></th>\n",
       "      <th>accuracy</th>\n",
       "      <th>precision</th>\n",
       "      <th>recall</th>\n",
       "      <th>f1</th>\n",
       "    </tr>\n",
       "  </thead>\n",
       "  <tbody>\n",
       "    <tr>\n",
       "      <th>knn</th>\n",
       "      <td>0.937596</td>\n",
       "      <td>0.979217</td>\n",
       "      <td>0.921053</td>\n",
       "      <td>0.948022</td>\n",
       "    </tr>\n",
       "    <tr>\n",
       "      <th>lr</th>\n",
       "      <td>0.937650</td>\n",
       "      <td>0.967781</td>\n",
       "      <td>0.931579</td>\n",
       "      <td>0.948949</td>\n",
       "    </tr>\n",
       "    <tr>\n",
       "      <th>nb</th>\n",
       "      <td>0.921148</td>\n",
       "      <td>0.942504</td>\n",
       "      <td>0.931579</td>\n",
       "      <td>0.936517</td>\n",
       "    </tr>\n",
       "    <tr>\n",
       "      <th>dt</th>\n",
       "      <td>0.954044</td>\n",
       "      <td>0.967971</td>\n",
       "      <td>0.957895</td>\n",
       "      <td>0.962730</td>\n",
       "    </tr>\n",
       "    <tr>\n",
       "      <th>rf</th>\n",
       "      <td>0.957322</td>\n",
       "      <td>0.978220</td>\n",
       "      <td>0.942105</td>\n",
       "      <td>0.964962</td>\n",
       "    </tr>\n",
       "  </tbody>\n",
       "</table>\n",
       "</div>"
      ],
      "text/plain": [
       "     accuracy  precision    recall        f1\n",
       "knn  0.937596   0.979217  0.921053  0.948022\n",
       "lr   0.937650   0.967781  0.931579  0.948949\n",
       "nb   0.921148   0.942504  0.931579  0.936517\n",
       "dt   0.954044   0.967971  0.957895  0.962730\n",
       "rf   0.957322   0.978220  0.942105  0.964962"
      ]
     },
     "execution_count": 82,
     "metadata": {},
     "output_type": "execute_result"
    }
   ],
   "source": [
    "pd.DataFrame(res, columns=['accuracy', 'precision', 'recall', 'f1'],index=models)"
   ]
  },
  {
   "cell_type": "markdown",
   "metadata": {},
   "source": [
    "**Challenge 4**"
   ]
  },
  {
   "cell_type": "markdown",
   "metadata": {},
   "source": [
    "For this challenge, I will perform bianry models instead of multiclass for simplicity."
   ]
  },
  {
   "cell_type": "code",
   "execution_count": 83,
   "metadata": {},
   "outputs": [],
   "source": [
    "df2=pd.read_csv('2013_movies.csv',parse_dates=['ReleaseDate'], infer_datetime_format=True)\n",
    "df2['Rating_bis']=(df2['Rating']=='PG-13')*1\n",
    "df3=df2[~df2['Budget'].isna()]\n",
    "X=df3.iloc[:,[1,2,5]]\n",
    "y=df3['Rating_bis']"
   ]
  },
  {
   "cell_type": "code",
   "execution_count": 84,
   "metadata": {},
   "outputs": [],
   "source": [
    "X_train, X_test, y_train, y_test = train_test_split(X, y, test_size=0.3, random_state=444)"
   ]
  },
  {
   "cell_type": "code",
   "execution_count": 85,
   "metadata": {},
   "outputs": [
    {
     "name": "stdout",
     "output_type": "stream",
     "text": [
      "Logistic regression's precision score is 0.8461538461538461\n",
      "Logistic regression's recall score is 0.8461538461538461\n"
     ]
    }
   ],
   "source": [
    "lr = LogisticRegression(C=1)\n",
    "lr.fit(X_train, y_train)\n",
    "y_pred = lr.predict(X_test)\n",
    "lr_precision=precision_score(y_pred, y_test)\n",
    "print( \"Logistic regression's precision score is \"+str(lr_precision))\n",
    "lr_recall=precision_score(y_pred, y_test)\n",
    "print( \"Logistic regression's recall score is \"+str(lr_recall))"
   ]
  },
  {
   "cell_type": "code",
   "execution_count": 86,
   "metadata": {},
   "outputs": [
    {
     "data": {
      "text/plain": [
       "(10, 0.6144522144522144)"
      ]
     },
     "execution_count": 86,
     "metadata": {},
     "output_type": "execute_result"
    }
   ],
   "source": [
    "dict={}\n",
    "for k in range(1,21):\n",
    "    knn = KNeighborsClassifier(n_neighbors=k)\n",
    "    knn.fit(X_train, y_train)\n",
    "    dict[k]=np.mean(cross_val_score(knn,X_train,y_train, cv=5, scoring='accuracy'))\n",
    "#     print(k,np.mean(cross_val_score(knn,X_train,y_train, cv=5, scoring='accuracy')))\n",
    "(max(dict, key=dict.get),dict[max(dict, key=dict.get)])"
   ]
  },
  {
   "cell_type": "markdown",
   "metadata": {},
   "source": [
    "10-nn has the best accuracy..."
   ]
  },
  {
   "cell_type": "code",
   "execution_count": 88,
   "metadata": {},
   "outputs": [
    {
     "name": "stdout",
     "output_type": "stream",
     "text": [
      "10-nn's precision score is 0.15384615384615385\n",
      "10-nn's recall score is 0.15384615384615385\n"
     ]
    }
   ],
   "source": [
    "knn = KNeighborsClassifier(n_neighbors=10)\n",
    "knn.fit(X_train, y_train)\n",
    "y_pred = knn.predict(X_test)\n",
    "lr_precision=precision_score(y_pred, y_test)\n",
    "print( \"10-nn's precision score is \"+str(lr_precision))\n",
    "lr_recall=precision_score(y_pred, y_test)\n",
    "print( \"10-nn's recall score is \"+str(lr_recall))"
   ]
  },
  {
   "cell_type": "markdown",
   "metadata": {},
   "source": [
    ".. but bad precision ann recall scores"
   ]
  },
  {
   "cell_type": "markdown",
   "metadata": {},
   "source": [
    "**Challenge 5**"
   ]
  },
  {
   "cell_type": "code",
   "execution_count": 89,
   "metadata": {},
   "outputs": [],
   "source": [
    "df=pd.read_csv('https://archive.ics.uci.edu/ml/machine-learning-databases/haberman/haberman.data',\n",
    "               names=['age', 'year', 'nodes', 'survival'],\n",
    "               header=None)"
   ]
  },
  {
   "cell_type": "code",
   "execution_count": 90,
   "metadata": {},
   "outputs": [],
   "source": [
    "X=df.iloc[:,0:-1]\n",
    "y=(df.iloc[:,-1]==1)*1"
   ]
  },
  {
   "cell_type": "code",
   "execution_count": 91,
   "metadata": {},
   "outputs": [],
   "source": [
    "X_train, X_test, y_train, y_test = train_test_split(X, y, test_size=0.3, random_state=444)"
   ]
  },
  {
   "cell_type": "code",
   "execution_count": 94,
   "metadata": {},
   "outputs": [
    {
     "data": {
      "text/plain": [
       "LogisticRegression(C=1.0, class_weight=None, dual=False, fit_intercept=True,\n",
       "          intercept_scaling=1, max_iter=100, multi_class='ovr', n_jobs=1,\n",
       "          penalty='l2', random_state=None, solver='liblinear', tol=0.0001,\n",
       "          verbose=0, warm_start=False)"
      ]
     },
     "execution_count": 94,
     "metadata": {},
     "output_type": "execute_result"
    }
   ],
   "source": [
    "scaler = preprocessing.StandardScaler().fit(X_train)\n",
    "X_tr=scaler.transform(X_train) \n",
    "X_te=scaler.transform(X_test) \n",
    "lr = LogisticRegression()\n",
    "lr.fit(X_tr, y_train)"
   ]
  },
  {
   "cell_type": "code",
   "execution_count": 95,
   "metadata": {},
   "outputs": [
    {
     "name": "stdout",
     "output_type": "stream",
     "text": [
      "The logistic regression's AUC socre : 0.7191142191142191\n"
     ]
    },
    {
     "data": {
      "text/plain": [
       "<function matplotlib.pyplot.show(*args, **kw)>"
      ]
     },
     "execution_count": 95,
     "metadata": {},
     "output_type": "execute_result"
    },
    {
     "data": {
      "image/png": "[encoded data removed]",
      "text/plain": [
       "<Figure size 432x288 with 1 Axes>"
      ]
     },
     "metadata": {
      "needs_background": "light"
     },
     "output_type": "display_data"
    }
   ],
   "source": [
    "fpr, tpr, _ = roc_curve(y_test, lr.predict_proba(X_test)[:,1])\n",
    "plt.plot(fpr, tpr)\n",
    "print(\"The logistic regression's AUC socre : \" +str(auc(fpr, tpr)))\n",
    "\n",
    "\n",
    "x = np.linspace(0,1, 100000)\n",
    "plt.plot(x, x, linestyle='--')\n",
    "\n",
    "plt.title('ROC Curve')\n",
    "plt.xlabel('False Positive Rate')\n",
    "plt.ylabel('True Positive Rate')\n",
    "plt.legend(['logistic'])\n",
    "plt.show"
   ]
  }
 ],
 "metadata": {
  "kernelspec": {
   "display_name": "Python 3",
   "language": "python",
   "name": "python3"
  },
  "language_info": {
   "codemirror_mode": {
    "name": "ipython",
    "version": 3
   },
   "file_extension": ".py",
   "mimetype": "text/x-python",
   "name": "python",
   "nbconvert_exporter": "python",
   "pygments_lexer": "ipython3",
   "version": "3.7.0"
  }
 },
 "nbformat": 4,
 "nbformat_minor": 2
}
