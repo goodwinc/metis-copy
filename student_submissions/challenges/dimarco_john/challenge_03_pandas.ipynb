{
 "cells": [
  {
   "cell_type": "markdown",
   "metadata": {},
   "source": [
    "**Pandas Challenges**\n",
    "\n",
    "\n",
    "**Topic**: Pandas (Exploring and visualizing our scraped movie data in pandas)\n",
    "\n",
    "Just getting started? Read this guide: [10 minutes to pandas](http://pandas.pydata.org/pandas-docs/stable/10min.html)\n",
    "\n",
    "**Data**: Your own data! But: if you don't have movie data to work on yet, you can use some data on the top grossing 100 movies from 2013, scraped from Box Office Mojo: `2013_movies.csv`\n"
   ]
  },
  {
   "cell_type": "code",
   "execution_count": 1,
   "metadata": {},
   "outputs": [],
   "source": [
    "#imports\n",
    "import numpy as np\n",
    "import pandas as pd\n",
    "import matplotlib.pyplot as plt\n",
    "import seaborn as sns\n",
    "sns.set()\n",
    "pd.set_option('display.float_format', lambda x: '%.0f' % x)"
   ]
  },
  {
   "cell_type": "code",
   "execution_count": 2,
   "metadata": {},
   "outputs": [
    {
     "data": {
      "text/html": [
       "<div>\n",
       "<style scoped>\n",
       "    .dataframe tbody tr th:only-of-type {\n",
       "        vertical-align: middle;\n",
       "    }\n",
       "\n",
       "    .dataframe tbody tr th {\n",
       "        vertical-align: top;\n",
       "    }\n",
       "\n",
       "    .dataframe thead th {\n",
       "        text-align: right;\n",
       "    }\n",
       "</style>\n",
       "<table border=\"1\" class=\"dataframe\">\n",
       "  <thead>\n",
       "    <tr style=\"text-align: right;\">\n",
       "      <th></th>\n",
       "      <th>Title</th>\n",
       "      <th>Budget</th>\n",
       "      <th>DomesticTotalGross</th>\n",
       "      <th>Director</th>\n",
       "      <th>Rating</th>\n",
       "      <th>Runtime</th>\n",
       "      <th>ReleaseDate</th>\n",
       "    </tr>\n",
       "  </thead>\n",
       "  <tbody>\n",
       "    <tr>\n",
       "      <th>0</th>\n",
       "      <td>The Hunger Games: Catching Fire</td>\n",
       "      <td>130000000</td>\n",
       "      <td>424668047</td>\n",
       "      <td>Francis Lawrence</td>\n",
       "      <td>PG-13</td>\n",
       "      <td>146</td>\n",
       "      <td>2013-11-22 00:00:00</td>\n",
       "    </tr>\n",
       "    <tr>\n",
       "      <th>1</th>\n",
       "      <td>Iron Man 3</td>\n",
       "      <td>200000000</td>\n",
       "      <td>409013994</td>\n",
       "      <td>Shane Black</td>\n",
       "      <td>PG-13</td>\n",
       "      <td>129</td>\n",
       "      <td>2013-05-03 00:00:00</td>\n",
       "    </tr>\n",
       "    <tr>\n",
       "      <th>2</th>\n",
       "      <td>Frozen</td>\n",
       "      <td>150000000</td>\n",
       "      <td>400738009</td>\n",
       "      <td>Chris BuckJennifer Lee</td>\n",
       "      <td>PG</td>\n",
       "      <td>108</td>\n",
       "      <td>2013-11-22 00:00:00</td>\n",
       "    </tr>\n",
       "  </tbody>\n",
       "</table>\n",
       "</div>"
      ],
      "text/plain": [
       "                             Title    Budget  DomesticTotalGross  \\\n",
       "0  The Hunger Games: Catching Fire 130000000           424668047   \n",
       "1                       Iron Man 3 200000000           409013994   \n",
       "2                           Frozen 150000000           400738009   \n",
       "\n",
       "                 Director Rating  Runtime          ReleaseDate  \n",
       "0        Francis Lawrence  PG-13      146  2013-11-22 00:00:00  \n",
       "1             Shane Black  PG-13      129  2013-05-03 00:00:00  \n",
       "2  Chris BuckJennifer Lee     PG      108  2013-11-22 00:00:00  "
      ]
     },
     "execution_count": 2,
     "metadata": {},
     "output_type": "execute_result"
    }
   ],
   "source": [
    "#Read in the data and check the first few rows\n",
    "df = pd.read_csv('2013_movies.csv')\n",
    "df.head(3)"
   ]
  },
  {
   "cell_type": "code",
   "execution_count": 3,
   "metadata": {},
   "outputs": [
    {
     "data": {
      "text/plain": [
       "Title                  object\n",
       "Budget                float64\n",
       "DomesticTotalGross      int64\n",
       "Director               object\n",
       "Rating                 object\n",
       "Runtime                 int64\n",
       "ReleaseDate            object\n",
       "dtype: object"
      ]
     },
     "execution_count": 3,
     "metadata": {},
     "output_type": "execute_result"
    }
   ],
   "source": [
    "#Check if the datatypes look okay\n",
    "df.dtypes"
   ]
  },
  {
   "cell_type": "code",
   "execution_count": 4,
   "metadata": {},
   "outputs": [
    {
     "data": {
      "text/plain": [
       "Title                         object\n",
       "Budget                       float64\n",
       "DomesticTotalGross             int64\n",
       "Director                      object\n",
       "Rating                        object\n",
       "Runtime                        int64\n",
       "ReleaseDate           datetime64[ns]\n",
       "dtype: object"
      ]
     },
     "execution_count": 4,
     "metadata": {},
     "output_type": "execute_result"
    }
   ],
   "source": [
    "#Convert ReleaseDate to a datetime object to make it easier to work with\n",
    "df['ReleaseDate'] = pd.to_datetime(df['ReleaseDate'])\n",
    "df.dtypes"
   ]
  },
  {
   "cell_type": "code",
   "execution_count": 5,
   "metadata": {},
   "outputs": [
    {
     "data": {
      "text/html": [
       "<div>\n",
       "<style scoped>\n",
       "    .dataframe tbody tr th:only-of-type {\n",
       "        vertical-align: middle;\n",
       "    }\n",
       "\n",
       "    .dataframe tbody tr th {\n",
       "        vertical-align: top;\n",
       "    }\n",
       "\n",
       "    .dataframe thead th {\n",
       "        text-align: right;\n",
       "    }\n",
       "</style>\n",
       "<table border=\"1\" class=\"dataframe\">\n",
       "  <thead>\n",
       "    <tr style=\"text-align: right;\">\n",
       "      <th></th>\n",
       "      <th>Title</th>\n",
       "      <th>Budget</th>\n",
       "      <th>DomesticTotalGross</th>\n",
       "      <th>Director</th>\n",
       "      <th>Rating</th>\n",
       "      <th>Runtime</th>\n",
       "      <th>ReleaseDate</th>\n",
       "    </tr>\n",
       "  </thead>\n",
       "  <tbody>\n",
       "    <tr>\n",
       "      <th>0</th>\n",
       "      <td>The Hunger Games: Catching Fire</td>\n",
       "      <td>130000000</td>\n",
       "      <td>424668047</td>\n",
       "      <td>Francis Lawrence</td>\n",
       "      <td>PG-13</td>\n",
       "      <td>146</td>\n",
       "      <td>2013-11-22</td>\n",
       "    </tr>\n",
       "    <tr>\n",
       "      <th>1</th>\n",
       "      <td>Iron Man 3</td>\n",
       "      <td>200000000</td>\n",
       "      <td>409013994</td>\n",
       "      <td>Shane Black</td>\n",
       "      <td>PG-13</td>\n",
       "      <td>129</td>\n",
       "      <td>2013-05-03</td>\n",
       "    </tr>\n",
       "  </tbody>\n",
       "</table>\n",
       "</div>"
      ],
      "text/plain": [
       "                             Title    Budget  DomesticTotalGross  \\\n",
       "0  The Hunger Games: Catching Fire 130000000           424668047   \n",
       "1                       Iron Man 3 200000000           409013994   \n",
       "\n",
       "           Director Rating  Runtime ReleaseDate  \n",
       "0  Francis Lawrence  PG-13      146  2013-11-22  \n",
       "1       Shane Black  PG-13      129  2013-05-03  "
      ]
     },
     "execution_count": 5,
     "metadata": {},
     "output_type": "execute_result"
    }
   ],
   "source": [
    "df.head(2)"
   ]
  },
  {
   "cell_type": "markdown",
   "metadata": {},
   "source": [
    "**Challenge 1**\n",
    "\n",
    "Plot domestic total gross over time."
   ]
  },
  {
   "cell_type": "code",
   "execution_count": 6,
   "metadata": {},
   "outputs": [
    {
     "data": {
      "image/png": "[encoded data removed]",
      "text/plain": [
       "<Figure size 432x288 with 1 Axes>"
      ]
     },
     "metadata": {},
     "output_type": "display_data"
    }
   ],
   "source": [
    "#Some dates have overlapping ReleaseDates, use mean per ReleaseDate for \n",
    "#average domestic total gross per date\n",
    "movies_by_release = df.groupby('ReleaseDate').mean().reset_index()\n",
    "#Plot and format\n",
    "plt.plot(movies_by_release['ReleaseDate'],movies_by_release['DomesticTotalGross'])\n",
    "plt.title('Average Domestic Total Gross by Release Date')\n",
    "plt.xlabel('Release Dates')\n",
    "plt.ylabel('Domestic Total Gross')\n",
    "plt.xticks(rotation='vertical');"
   ]
  },
  {
   "cell_type": "markdown",
   "metadata": {},
   "source": [
    "**Challenge 2**\n",
    "\n",
    "Plot runtime vs. domestic total gross."
   ]
  },
  {
   "cell_type": "code",
   "execution_count": 7,
   "metadata": {},
   "outputs": [
    {
     "data": {
      "image/png": "[encoded data removed]",
      "text/plain": [
       "<Figure size 432x288 with 1 Axes>"
      ]
     },
     "metadata": {},
     "output_type": "display_data"
    }
   ],
   "source": [
    "plt.scatter(df['Runtime'],df['DomesticTotalGross'])\n",
    "plt.xlabel('Runtime')\n",
    "plt.ylabel('Domestic Total Gross')\n",
    "plt.title('Runtime vs Domestic Total Gross');"
   ]
  },
  {
   "cell_type": "markdown",
   "metadata": {},
   "source": [
    "**Challenge 3**\n",
    "\n",
    "Group your data by Rating and find the average runtime and domestic total gross at each level of Rating."
   ]
  },
  {
   "cell_type": "code",
   "execution_count": 8,
   "metadata": {},
   "outputs": [
    {
     "data": {
      "text/html": [
       "<div>\n",
       "<style scoped>\n",
       "    .dataframe tbody tr th:only-of-type {\n",
       "        vertical-align: middle;\n",
       "    }\n",
       "\n",
       "    .dataframe tbody tr th {\n",
       "        vertical-align: top;\n",
       "    }\n",
       "\n",
       "    .dataframe thead th {\n",
       "        text-align: right;\n",
       "    }\n",
       "</style>\n",
       "<table border=\"1\" class=\"dataframe\">\n",
       "  <thead>\n",
       "    <tr style=\"text-align: right;\">\n",
       "      <th></th>\n",
       "      <th>Runtime</th>\n",
       "      <th>DomesticTotalGross</th>\n",
       "    </tr>\n",
       "    <tr>\n",
       "      <th>Rating</th>\n",
       "      <th></th>\n",
       "      <th></th>\n",
       "    </tr>\n",
       "  </thead>\n",
       "  <tbody>\n",
       "    <tr>\n",
       "      <th>G</th>\n",
       "      <td>107</td>\n",
       "      <td>268492764</td>\n",
       "    </tr>\n",
       "    <tr>\n",
       "      <th>PG</th>\n",
       "      <td>100</td>\n",
       "      <td>131135716</td>\n",
       "    </tr>\n",
       "    <tr>\n",
       "      <th>PG-13</th>\n",
       "      <td>118</td>\n",
       "      <td>111449769</td>\n",
       "    </tr>\n",
       "    <tr>\n",
       "      <th>R</th>\n",
       "      <td>111</td>\n",
       "      <td>69892429</td>\n",
       "    </tr>\n",
       "  </tbody>\n",
       "</table>\n",
       "</div>"
      ],
      "text/plain": [
       "        Runtime  DomesticTotalGross\n",
       "Rating                             \n",
       "G           107           268492764\n",
       "PG          100           131135716\n",
       "PG-13       118           111449769\n",
       "R           111            69892429"
      ]
     },
     "execution_count": 8,
     "metadata": {},
     "output_type": "execute_result"
    }
   ],
   "source": [
    "by_rating = df.groupby('Rating')['Runtime','DomesticTotalGross'].mean()\n",
    "by_rating"
   ]
  },
  {
   "cell_type": "markdown",
   "metadata": {},
   "source": [
    "**Challenge 4**\n",
    "\n",
    "Make one figure with (N=the number of MPAA ratings there are) subplots, and in each plot the release date vs the domestic total gross."
   ]
  },
  {
   "cell_type": "code",
   "execution_count": 9,
   "metadata": {},
   "outputs": [],
   "source": [
    "#Group in easy to plot format\n",
    "g_rating = df[df['Rating']=='G']\n",
    "pg_rating = df[df['Rating']=='PG']\n",
    "pg13_rating = df[df['Rating']=='PG-13']\n",
    "r_rating = df[df['Rating']=='R']"
   ]
  },
  {
   "cell_type": "code",
   "execution_count": 10,
   "metadata": {},
   "outputs": [
    {
     "data": {
      "image/png": "[encoded data removed]",
      "text/plain": [
       "<Figure size 1080x504 with 4 Axes>"
      ]
     },
     "metadata": {},
     "output_type": "display_data"
    }
   ],
   "source": [
    "plt.figure(figsize=(15,7))\n",
    "plt.subplot(2,2,1)\n",
    "plt.ylim(0,df['DomesticTotalGross'].max())\n",
    "plt.title('G Rating')\n",
    "plt.scatter(g_rating['Runtime'],g_rating['DomesticTotalGross'])\n",
    "plt.subplot(2,2,2)\n",
    "plt.ylim(0,df['DomesticTotalGross'].max())\n",
    "plt.title('PG Rating')\n",
    "plt.scatter(pg_rating['Runtime'],pg_rating['DomesticTotalGross'])\n",
    "plt.subplot(2,2,3)\n",
    "plt.ylim(0,df['DomesticTotalGross'].max())\n",
    "plt.title('PG-13 Rating')\n",
    "plt.scatter(pg13_rating['Runtime'],pg13_rating['DomesticTotalGross'])\n",
    "plt.subplot(2,2,4)\n",
    "plt.ylim(0,df['DomesticTotalGross'].max())\n",
    "plt.title('R Rating')\n",
    "plt.scatter(r_rating['Runtime'],r_rating['DomesticTotalGross']);"
   ]
  },
  {
   "cell_type": "markdown",
   "metadata": {},
   "source": [
    "**Challenge 5**\n",
    "\n",
    "What director in your dataset has the highest gross per movie?"
   ]
  },
  {
   "cell_type": "code",
   "execution_count": 11,
   "metadata": {},
   "outputs": [],
   "source": [
    "import re\n",
    "p = re.compile('[a-z][A-Z]')"
   ]
  },
  {
   "cell_type": "code",
   "execution_count": 12,
   "metadata": {},
   "outputs": [
    {
     "data": {
      "text/plain": [
       "array(['Francis Lawrence', 'Shane Black', 'Chris BuckJennifer Lee',\n",
       "       'Pierre CoffinChris Renaud', 'Zack Snyder', 'Alfonso Cuaron',\n",
       "       'Dan Scanlon', 'Peter Jackson', 'Justin Lin', 'Sam Raimi',\n",
       "       'J.J. Abrams', 'Alan Taylor', 'Marc Forster',\n",
       "       'Kirk De MiccoChris Sanders', 'Paul Feig',\n",
       "       'Rawson Marshall Thurber', 'David O. Russell', 'Baz Luhrmann',\n",
       "       'James Wan', 'Seth Gordon', 'Dennis Dugan', 'James Mangold',\n",
       "       'Adam McKay', 'Peter Berg', 'Jon Chu', nan, 'Louis Leterrier',\n",
       "       'Martin Scorsese', 'Lee Daniels', 'Todd Phillips', 'Chris Wedge',\n",
       "       'Paul Greengrass', 'Jeff Tremaine', 'Guillermo del Toro',\n",
       "       'Evan GoldbergSeth Rogen', 'Antoine Fuqua', 'Brian Helgeland',\n",
       "       'Neill Blomkamp', 'Klay Hall', 'Gore Verbinski', 'Joseph Kosinski',\n",
       "       'John Lee Hancock', 'David Soren', 'Baltasar Kormakur',\n",
       "       'Roland Emmerich', 'Andres Muschietti', 'Lasse Hallstrom',\n",
       "       'Raja Gosnell', 'Malcolm D. Lee', 'Thor Freudenthal', 'John Moore',\n",
       "       'Jonathan Levine', 'Bryan Singer', 'James DeMonaco',\n",
       "       'Jon Turteltaub', 'Gavin Hood', 'Denis Villeneuve',\n",
       "       'M. Night Shyamalan', 'Ben Stiller', 'Cal Brunker',\n",
       "       'Steve McQueen (II)', 'Jimmy Hayward', 'Tommy Wirkola',\n",
       "       'Fede Alvarez', 'Dean Parisot', 'Tyler Perry', 'Brad Anderson',\n",
       "       'Michael Bay', 'Ruben Fleischer', 'Shawn Levy', 'Ric Roman Waugh',\n",
       "       'David Twohy', 'Michael Tiddes', 'Carl Rinsch', 'John Wells',\n",
       "       'Stephen Frears', 'Luc Besson', 'Barry CookNeil Nightingale',\n",
       "       'Kimberly Peirce', 'John Luessenhop', 'Robert Schwentke',\n",
       "       'Woody Allen', 'Steven Soderbergh', 'Harald Zwart', 'Ken Scott',\n",
       "       'Peter Segal', 'Morgan Spurlock', 'Jeff Wadlow',\n",
       "       'Jean-Marc Vallee', 'Ron Howard', 'Andrew Niccol', 'Edgar Wright',\n",
       "       'Jon LucasScott Moore', 'Spike Jonze'], dtype=object)"
      ]
     },
     "execution_count": 12,
     "metadata": {},
     "output_type": "execute_result"
    }
   ],
   "source": [
    "#Check the director column\n",
    "df.Director.unique()"
   ]
  },
  {
   "cell_type": "code",
   "execution_count": 13,
   "metadata": {},
   "outputs": [],
   "source": [
    "#Create a function to return a list of both directors\n",
    "def split_directors(string):\n",
    "    try:\n",
    "        location = p.search(string).span()\n",
    "        if (string[location[0]-1:location[1]]=='DeM'\n",
    "            or string[location[0]-1:location[1]]=='McK'\n",
    "            or string[location[0]-1:location[1]]=='McQ'):\n",
    "            return [string, ' ']\n",
    "        else:\n",
    "            first_director = string[:location[0]+1]\n",
    "            second_director = string[location[0]+1:]\n",
    "            return [first_director, second_director]\n",
    "    except:\n",
    "        return [string, ' ']"
   ]
  },
  {
   "cell_type": "code",
   "execution_count": 14,
   "metadata": {},
   "outputs": [],
   "source": [
    "df['Directors_list'] = df['Director'].apply(split_directors)"
   ]
  },
  {
   "cell_type": "code",
   "execution_count": 15,
   "metadata": {},
   "outputs": [
    {
     "data": {
      "text/html": [
       "<div>\n",
       "<style scoped>\n",
       "    .dataframe tbody tr th:only-of-type {\n",
       "        vertical-align: middle;\n",
       "    }\n",
       "\n",
       "    .dataframe tbody tr th {\n",
       "        vertical-align: top;\n",
       "    }\n",
       "\n",
       "    .dataframe thead th {\n",
       "        text-align: right;\n",
       "    }\n",
       "</style>\n",
       "<table border=\"1\" class=\"dataframe\">\n",
       "  <thead>\n",
       "    <tr style=\"text-align: right;\">\n",
       "      <th></th>\n",
       "      <th>Title</th>\n",
       "      <th>Budget</th>\n",
       "      <th>DomesticTotalGross</th>\n",
       "      <th>Director</th>\n",
       "      <th>Rating</th>\n",
       "      <th>Runtime</th>\n",
       "      <th>ReleaseDate</th>\n",
       "      <th>Directors_list</th>\n",
       "    </tr>\n",
       "  </thead>\n",
       "  <tbody>\n",
       "    <tr>\n",
       "      <th>0</th>\n",
       "      <td>The Hunger Games: Catching Fire</td>\n",
       "      <td>130000000</td>\n",
       "      <td>424668047</td>\n",
       "      <td>Francis Lawrence</td>\n",
       "      <td>PG-13</td>\n",
       "      <td>146</td>\n",
       "      <td>2013-11-22</td>\n",
       "      <td>[Francis Lawrence,  ]</td>\n",
       "    </tr>\n",
       "    <tr>\n",
       "      <th>1</th>\n",
       "      <td>Iron Man 3</td>\n",
       "      <td>200000000</td>\n",
       "      <td>409013994</td>\n",
       "      <td>Shane Black</td>\n",
       "      <td>PG-13</td>\n",
       "      <td>129</td>\n",
       "      <td>2013-05-03</td>\n",
       "      <td>[Shane Black,  ]</td>\n",
       "    </tr>\n",
       "    <tr>\n",
       "      <th>2</th>\n",
       "      <td>Frozen</td>\n",
       "      <td>150000000</td>\n",
       "      <td>400738009</td>\n",
       "      <td>Chris BuckJennifer Lee</td>\n",
       "      <td>PG</td>\n",
       "      <td>108</td>\n",
       "      <td>2013-11-22</td>\n",
       "      <td>[Chris Buck, Jennifer Lee]</td>\n",
       "    </tr>\n",
       "  </tbody>\n",
       "</table>\n",
       "</div>"
      ],
      "text/plain": [
       "                             Title    Budget  DomesticTotalGross  \\\n",
       "0  The Hunger Games: Catching Fire 130000000           424668047   \n",
       "1                       Iron Man 3 200000000           409013994   \n",
       "2                           Frozen 150000000           400738009   \n",
       "\n",
       "                 Director Rating  Runtime ReleaseDate  \\\n",
       "0        Francis Lawrence  PG-13      146  2013-11-22   \n",
       "1             Shane Black  PG-13      129  2013-05-03   \n",
       "2  Chris BuckJennifer Lee     PG      108  2013-11-22   \n",
       "\n",
       "               Directors_list  \n",
       "0       [Francis Lawrence,  ]  \n",
       "1            [Shane Black,  ]  \n",
       "2  [Chris Buck, Jennifer Lee]  "
      ]
     },
     "execution_count": 15,
     "metadata": {},
     "output_type": "execute_result"
    }
   ],
   "source": [
    "df.head(3)"
   ]
  },
  {
   "cell_type": "code",
   "execution_count": 16,
   "metadata": {},
   "outputs": [],
   "source": [
    "#Create two new columns, one for each director\n",
    "df[['Director1','Director2']] = pd.DataFrame((df['Directors_list']\n",
    "                                              .values.tolist()))"
   ]
  },
  {
   "cell_type": "code",
   "execution_count": 17,
   "metadata": {},
   "outputs": [
    {
     "data": {
      "text/html": [
       "<div>\n",
       "<style scoped>\n",
       "    .dataframe tbody tr th:only-of-type {\n",
       "        vertical-align: middle;\n",
       "    }\n",
       "\n",
       "    .dataframe tbody tr th {\n",
       "        vertical-align: top;\n",
       "    }\n",
       "\n",
       "    .dataframe thead th {\n",
       "        text-align: right;\n",
       "    }\n",
       "</style>\n",
       "<table border=\"1\" class=\"dataframe\">\n",
       "  <thead>\n",
       "    <tr style=\"text-align: right;\">\n",
       "      <th></th>\n",
       "      <th>Title</th>\n",
       "      <th>Budget</th>\n",
       "      <th>DomesticTotalGross</th>\n",
       "      <th>Director</th>\n",
       "      <th>Rating</th>\n",
       "      <th>Runtime</th>\n",
       "      <th>ReleaseDate</th>\n",
       "      <th>Directors_list</th>\n",
       "      <th>Director1</th>\n",
       "      <th>Director2</th>\n",
       "    </tr>\n",
       "  </thead>\n",
       "  <tbody>\n",
       "    <tr>\n",
       "      <th>0</th>\n",
       "      <td>The Hunger Games: Catching Fire</td>\n",
       "      <td>130000000</td>\n",
       "      <td>424668047</td>\n",
       "      <td>Francis Lawrence</td>\n",
       "      <td>PG-13</td>\n",
       "      <td>146</td>\n",
       "      <td>2013-11-22</td>\n",
       "      <td>[Francis Lawrence,  ]</td>\n",
       "      <td>Francis Lawrence</td>\n",
       "      <td></td>\n",
       "    </tr>\n",
       "    <tr>\n",
       "      <th>1</th>\n",
       "      <td>Iron Man 3</td>\n",
       "      <td>200000000</td>\n",
       "      <td>409013994</td>\n",
       "      <td>Shane Black</td>\n",
       "      <td>PG-13</td>\n",
       "      <td>129</td>\n",
       "      <td>2013-05-03</td>\n",
       "      <td>[Shane Black,  ]</td>\n",
       "      <td>Shane Black</td>\n",
       "      <td></td>\n",
       "    </tr>\n",
       "    <tr>\n",
       "      <th>2</th>\n",
       "      <td>Frozen</td>\n",
       "      <td>150000000</td>\n",
       "      <td>400738009</td>\n",
       "      <td>Chris BuckJennifer Lee</td>\n",
       "      <td>PG</td>\n",
       "      <td>108</td>\n",
       "      <td>2013-11-22</td>\n",
       "      <td>[Chris Buck, Jennifer Lee]</td>\n",
       "      <td>Chris Buck</td>\n",
       "      <td>Jennifer Lee</td>\n",
       "    </tr>\n",
       "  </tbody>\n",
       "</table>\n",
       "</div>"
      ],
      "text/plain": [
       "                             Title    Budget  DomesticTotalGross  \\\n",
       "0  The Hunger Games: Catching Fire 130000000           424668047   \n",
       "1                       Iron Man 3 200000000           409013994   \n",
       "2                           Frozen 150000000           400738009   \n",
       "\n",
       "                 Director Rating  Runtime ReleaseDate  \\\n",
       "0        Francis Lawrence  PG-13      146  2013-11-22   \n",
       "1             Shane Black  PG-13      129  2013-05-03   \n",
       "2  Chris BuckJennifer Lee     PG      108  2013-11-22   \n",
       "\n",
       "               Directors_list         Director1     Director2  \n",
       "0       [Francis Lawrence,  ]  Francis Lawrence                \n",
       "1            [Shane Black,  ]       Shane Black                \n",
       "2  [Chris Buck, Jennifer Lee]        Chris Buck  Jennifer Lee  "
      ]
     },
     "execution_count": 17,
     "metadata": {},
     "output_type": "execute_result"
    }
   ],
   "source": [
    "df.head(3)"
   ]
  },
  {
   "cell_type": "code",
   "execution_count": 18,
   "metadata": {},
   "outputs": [
    {
     "data": {
      "text/html": [
       "<div>\n",
       "<style scoped>\n",
       "    .dataframe tbody tr th:only-of-type {\n",
       "        vertical-align: middle;\n",
       "    }\n",
       "\n",
       "    .dataframe tbody tr th {\n",
       "        vertical-align: top;\n",
       "    }\n",
       "\n",
       "    .dataframe thead th {\n",
       "        text-align: right;\n",
       "    }\n",
       "</style>\n",
       "<table border=\"1\" class=\"dataframe\">\n",
       "  <thead>\n",
       "    <tr style=\"text-align: right;\">\n",
       "      <th></th>\n",
       "      <th>Title</th>\n",
       "      <th>Budget</th>\n",
       "      <th>DomesticTotalGross</th>\n",
       "      <th>Director</th>\n",
       "      <th>Rating</th>\n",
       "      <th>Runtime</th>\n",
       "      <th>ReleaseDate</th>\n",
       "      <th>Directors_list</th>\n",
       "      <th>Director1</th>\n",
       "      <th>Director2</th>\n",
       "    </tr>\n",
       "  </thead>\n",
       "  <tbody>\n",
       "    <tr>\n",
       "      <th>2</th>\n",
       "      <td>Frozen</td>\n",
       "      <td>150000000</td>\n",
       "      <td>400738009</td>\n",
       "      <td>Chris BuckJennifer Lee</td>\n",
       "      <td>PG</td>\n",
       "      <td>108</td>\n",
       "      <td>2013-11-22</td>\n",
       "      <td>[Chris Buck, Jennifer Lee]</td>\n",
       "      <td>Chris Buck</td>\n",
       "      <td>Jennifer Lee</td>\n",
       "    </tr>\n",
       "    <tr>\n",
       "      <th>3</th>\n",
       "      <td>Despicable Me 2</td>\n",
       "      <td>76000000</td>\n",
       "      <td>368061265</td>\n",
       "      <td>Pierre CoffinChris Renaud</td>\n",
       "      <td>PG</td>\n",
       "      <td>98</td>\n",
       "      <td>2013-07-03</td>\n",
       "      <td>[Pierre Coffin, Chris Renaud]</td>\n",
       "      <td>Pierre Coffin</td>\n",
       "      <td>Chris Renaud</td>\n",
       "    </tr>\n",
       "    <tr>\n",
       "      <th>13</th>\n",
       "      <td>The Croods</td>\n",
       "      <td>135000000</td>\n",
       "      <td>187168425</td>\n",
       "      <td>Kirk De MiccoChris Sanders</td>\n",
       "      <td>PG</td>\n",
       "      <td>98</td>\n",
       "      <td>2013-03-22</td>\n",
       "      <td>[Kirk De Micco, Chris Sanders]</td>\n",
       "      <td>Kirk De Micco</td>\n",
       "      <td>Chris Sanders</td>\n",
       "    </tr>\n",
       "    <tr>\n",
       "      <th>34</th>\n",
       "      <td>This is the End</td>\n",
       "      <td>32000000</td>\n",
       "      <td>101470202</td>\n",
       "      <td>Evan GoldbergSeth Rogen</td>\n",
       "      <td>R</td>\n",
       "      <td>107</td>\n",
       "      <td>2013-06-12</td>\n",
       "      <td>[Evan Goldberg, Seth Rogen]</td>\n",
       "      <td>Evan Goldberg</td>\n",
       "      <td>Seth Rogen</td>\n",
       "    </tr>\n",
       "    <tr>\n",
       "      <th>81</th>\n",
       "      <td>Walking with Dinosaurs</td>\n",
       "      <td>80000000</td>\n",
       "      <td>36076121</td>\n",
       "      <td>Barry CookNeil Nightingale</td>\n",
       "      <td>PG</td>\n",
       "      <td>87</td>\n",
       "      <td>2013-12-20</td>\n",
       "      <td>[Barry Cook, Neil Nightingale]</td>\n",
       "      <td>Barry Cook</td>\n",
       "      <td>Neil Nightingale</td>\n",
       "    </tr>\n",
       "    <tr>\n",
       "      <th>98</th>\n",
       "      <td>21 and Over</td>\n",
       "      <td>13000000</td>\n",
       "      <td>25682380</td>\n",
       "      <td>Jon LucasScott Moore</td>\n",
       "      <td>R</td>\n",
       "      <td>93</td>\n",
       "      <td>2013-03-01</td>\n",
       "      <td>[Jon Lucas, Scott Moore]</td>\n",
       "      <td>Jon Lucas</td>\n",
       "      <td>Scott Moore</td>\n",
       "    </tr>\n",
       "  </tbody>\n",
       "</table>\n",
       "</div>"
      ],
      "text/plain": [
       "                     Title    Budget  DomesticTotalGross  \\\n",
       "2                   Frozen 150000000           400738009   \n",
       "3          Despicable Me 2  76000000           368061265   \n",
       "13              The Croods 135000000           187168425   \n",
       "34         This is the End  32000000           101470202   \n",
       "81  Walking with Dinosaurs  80000000            36076121   \n",
       "98             21 and Over  13000000            25682380   \n",
       "\n",
       "                      Director Rating  Runtime ReleaseDate  \\\n",
       "2       Chris BuckJennifer Lee     PG      108  2013-11-22   \n",
       "3    Pierre CoffinChris Renaud     PG       98  2013-07-03   \n",
       "13  Kirk De MiccoChris Sanders     PG       98  2013-03-22   \n",
       "34     Evan GoldbergSeth Rogen      R      107  2013-06-12   \n",
       "81  Barry CookNeil Nightingale     PG       87  2013-12-20   \n",
       "98        Jon LucasScott Moore      R       93  2013-03-01   \n",
       "\n",
       "                    Directors_list      Director1         Director2  \n",
       "2       [Chris Buck, Jennifer Lee]     Chris Buck      Jennifer Lee  \n",
       "3    [Pierre Coffin, Chris Renaud]  Pierre Coffin      Chris Renaud  \n",
       "13  [Kirk De Micco, Chris Sanders]  Kirk De Micco     Chris Sanders  \n",
       "34     [Evan Goldberg, Seth Rogen]  Evan Goldberg        Seth Rogen  \n",
       "81  [Barry Cook, Neil Nightingale]     Barry Cook  Neil Nightingale  \n",
       "98        [Jon Lucas, Scott Moore]      Jon Lucas       Scott Moore  "
      ]
     },
     "execution_count": 18,
     "metadata": {},
     "output_type": "execute_result"
    }
   ],
   "source": [
    "#Check the films with a second director\n",
    "df[df['Director2']!=' ']"
   ]
  },
  {
   "cell_type": "code",
   "execution_count": 19,
   "metadata": {},
   "outputs": [
    {
     "data": {
      "text/html": [
       "<div>\n",
       "<style scoped>\n",
       "    .dataframe tbody tr th:only-of-type {\n",
       "        vertical-align: middle;\n",
       "    }\n",
       "\n",
       "    .dataframe tbody tr th {\n",
       "        vertical-align: top;\n",
       "    }\n",
       "\n",
       "    .dataframe thead th {\n",
       "        text-align: right;\n",
       "    }\n",
       "</style>\n",
       "<table border=\"1\" class=\"dataframe\">\n",
       "  <thead>\n",
       "    <tr style=\"text-align: right;\">\n",
       "      <th></th>\n",
       "      <th>Title</th>\n",
       "      <th>Budget</th>\n",
       "      <th>DomesticTotalGross</th>\n",
       "      <th>Director</th>\n",
       "      <th>Rating</th>\n",
       "      <th>Runtime</th>\n",
       "      <th>ReleaseDate</th>\n",
       "      <th>Directors_list</th>\n",
       "      <th>Director1</th>\n",
       "      <th>Director2</th>\n",
       "    </tr>\n",
       "  </thead>\n",
       "  <tbody>\n",
       "  </tbody>\n",
       "</table>\n",
       "</div>"
      ],
      "text/plain": [
       "Empty DataFrame\n",
       "Columns: [Title, Budget, DomesticTotalGross, Director, Rating, Runtime, ReleaseDate, Directors_list, Director1, Director2]\n",
       "Index: []"
      ]
     },
     "execution_count": 19,
     "metadata": {},
     "output_type": "execute_result"
    }
   ],
   "source": [
    "#See if any of the second directors are a first director in any film\n",
    "df[(df['Director1']=='Chris Renaud')\n",
    "   | (df['Director1']=='Chris Sanders')\n",
    "   | (df['Director1']=='Jennifer Lee')\n",
    "   | (df['Director1']=='Neil Nightingale')\n",
    "   | (df['Director1']=='Scott Moore')\n",
    "   | ((df['Director1']=='Seth Rogen'))]"
   ]
  },
  {
   "cell_type": "code",
   "execution_count": 20,
   "metadata": {},
   "outputs": [
    {
     "data": {
      "text/plain": [
       "Director1\n",
       "Francis Lawrence    424668047\n",
       "Shane Black         409013994\n",
       "Name: DomesticTotalGross, dtype: int64"
      ]
     },
     "execution_count": 20,
     "metadata": {},
     "output_type": "execute_result"
    }
   ],
   "source": [
    "#No director overlap, Compare mean values for Dir1 and 2\n",
    "(df.groupby('Director1')['DomesticTotalGross']\n",
    " .mean()\n",
    " .sort_values(ascending=False)\n",
    " .head(2))"
   ]
  },
  {
   "cell_type": "code",
   "execution_count": 21,
   "metadata": {},
   "outputs": [
    {
     "data": {
      "text/plain": [
       "Director2\n",
       "Jennifer Lee   400738009\n",
       "Chris Renaud   368061265\n",
       "Name: DomesticTotalGross, dtype: float64"
      ]
     },
     "execution_count": 21,
     "metadata": {},
     "output_type": "execute_result"
    }
   ],
   "source": [
    "(df.groupby('Director2')['DomesticTotalGross']\n",
    " .mean()\n",
    " .sort_values(ascending=False)\n",
    " .head(2))"
   ]
  },
  {
   "cell_type": "markdown",
   "metadata": {},
   "source": [
    "Francis Lawrence has the highest gross per movie in the given dataset with $424,668,047."
   ]
  },
  {
   "cell_type": "markdown",
   "metadata": {},
   "source": [
    "**Challenge 6**\n",
    "\n",
    "Bin your dataset into months and make a bar graph of the mean domestic total gross by month.  Error bars will represent the standard error of the mean.\n",
    "\n",
    "Title of graph should include:  Mean Domestic Total Gross by Month in 2013\n",
    "\n",
    "Topic for consideration:  what is the correct formula for the standard error of the mean?  Examine the error bars and see if they are \"reasonable.\"\n"
   ]
  },
  {
   "cell_type": "code",
   "execution_count": 22,
   "metadata": {},
   "outputs": [],
   "source": [
    "#Create a new ReleaseMonth column\n",
    "df['ReleaseMonth'] = df['ReleaseDate'].apply(lambda x: x.month)"
   ]
  },
  {
   "cell_type": "code",
   "execution_count": 23,
   "metadata": {},
   "outputs": [
    {
     "data": {
      "text/html": [
       "<div>\n",
       "<style scoped>\n",
       "    .dataframe tbody tr th:only-of-type {\n",
       "        vertical-align: middle;\n",
       "    }\n",
       "\n",
       "    .dataframe tbody tr th {\n",
       "        vertical-align: top;\n",
       "    }\n",
       "\n",
       "    .dataframe thead th {\n",
       "        text-align: right;\n",
       "    }\n",
       "</style>\n",
       "<table border=\"1\" class=\"dataframe\">\n",
       "  <thead>\n",
       "    <tr style=\"text-align: right;\">\n",
       "      <th></th>\n",
       "      <th>Title</th>\n",
       "      <th>Budget</th>\n",
       "      <th>DomesticTotalGross</th>\n",
       "      <th>Director</th>\n",
       "      <th>Rating</th>\n",
       "      <th>Runtime</th>\n",
       "      <th>ReleaseDate</th>\n",
       "      <th>Directors_list</th>\n",
       "      <th>Director1</th>\n",
       "      <th>Director2</th>\n",
       "      <th>ReleaseMonth</th>\n",
       "    </tr>\n",
       "  </thead>\n",
       "  <tbody>\n",
       "    <tr>\n",
       "      <th>0</th>\n",
       "      <td>The Hunger Games: Catching Fire</td>\n",
       "      <td>130000000</td>\n",
       "      <td>424668047</td>\n",
       "      <td>Francis Lawrence</td>\n",
       "      <td>PG-13</td>\n",
       "      <td>146</td>\n",
       "      <td>2013-11-22</td>\n",
       "      <td>[Francis Lawrence,  ]</td>\n",
       "      <td>Francis Lawrence</td>\n",
       "      <td></td>\n",
       "      <td>11</td>\n",
       "    </tr>\n",
       "    <tr>\n",
       "      <th>1</th>\n",
       "      <td>Iron Man 3</td>\n",
       "      <td>200000000</td>\n",
       "      <td>409013994</td>\n",
       "      <td>Shane Black</td>\n",
       "      <td>PG-13</td>\n",
       "      <td>129</td>\n",
       "      <td>2013-05-03</td>\n",
       "      <td>[Shane Black,  ]</td>\n",
       "      <td>Shane Black</td>\n",
       "      <td></td>\n",
       "      <td>5</td>\n",
       "    </tr>\n",
       "    <tr>\n",
       "      <th>2</th>\n",
       "      <td>Frozen</td>\n",
       "      <td>150000000</td>\n",
       "      <td>400738009</td>\n",
       "      <td>Chris BuckJennifer Lee</td>\n",
       "      <td>PG</td>\n",
       "      <td>108</td>\n",
       "      <td>2013-11-22</td>\n",
       "      <td>[Chris Buck, Jennifer Lee]</td>\n",
       "      <td>Chris Buck</td>\n",
       "      <td>Jennifer Lee</td>\n",
       "      <td>11</td>\n",
       "    </tr>\n",
       "  </tbody>\n",
       "</table>\n",
       "</div>"
      ],
      "text/plain": [
       "                             Title    Budget  DomesticTotalGross  \\\n",
       "0  The Hunger Games: Catching Fire 130000000           424668047   \n",
       "1                       Iron Man 3 200000000           409013994   \n",
       "2                           Frozen 150000000           400738009   \n",
       "\n",
       "                 Director Rating  Runtime ReleaseDate  \\\n",
       "0        Francis Lawrence  PG-13      146  2013-11-22   \n",
       "1             Shane Black  PG-13      129  2013-05-03   \n",
       "2  Chris BuckJennifer Lee     PG      108  2013-11-22   \n",
       "\n",
       "               Directors_list         Director1     Director2  ReleaseMonth  \n",
       "0       [Francis Lawrence,  ]  Francis Lawrence                          11  \n",
       "1            [Shane Black,  ]       Shane Black                           5  \n",
       "2  [Chris Buck, Jennifer Lee]        Chris Buck  Jennifer Lee            11  "
      ]
     },
     "execution_count": 23,
     "metadata": {},
     "output_type": "execute_result"
    }
   ],
   "source": [
    "df.head(3)"
   ]
  },
  {
   "cell_type": "code",
   "execution_count": 24,
   "metadata": {},
   "outputs": [],
   "source": [
    "by_month = df.groupby('ReleaseMonth')['DomesticTotalGross'].mean().reset_index()"
   ]
  },
  {
   "cell_type": "code",
   "execution_count": 25,
   "metadata": {},
   "outputs": [],
   "source": [
    "months = ['January', 'February','March','April',\n",
    "          'May','June','July','August',\n",
    "          'September','October','November','December']"
   ]
  },
  {
   "cell_type": "code",
   "execution_count": 26,
   "metadata": {},
   "outputs": [
    {
     "data": {
      "image/png": "[encoded data removed]",
      "text/plain": [
       "<Figure size 720x432 with 1 Axes>"
      ]
     },
     "metadata": {},
     "output_type": "display_data"
    }
   ],
   "source": [
    "plt.figure(figsize=(10,6))\n",
    "plt.bar(by_month.ReleaseMonth,\n",
    "        by_month.DomesticTotalGross,\n",
    "        yerr=by_month.DomesticTotalGross.sem())\n",
    "plt.title('Mean Domestic Total Gross by Month in 2013')\n",
    "plt.xlabel('Release Month')\n",
    "plt.xticks(np.arange(12), months, rotation=20)\n",
    "plt.ylabel('Domestic Total Gross');"
   ]
  }
 ],
 "metadata": {
  "kernelspec": {
   "display_name": "Python 3",
   "language": "python",
   "name": "python3"
  },
  "language_info": {
   "codemirror_mode": {
    "name": "ipython",
    "version": 3
   },
   "file_extension": ".py",
   "mimetype": "text/x-python",
   "name": "python",
   "nbconvert_exporter": "python",
   "pygments_lexer": "ipython3",
   "version": "3.6.6"
  }
 },
 "nbformat": 4,
 "nbformat_minor": 2
}
