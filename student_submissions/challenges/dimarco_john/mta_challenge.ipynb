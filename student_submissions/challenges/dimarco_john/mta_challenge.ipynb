{
 "cells": [
  {
   "cell_type": "markdown",
   "metadata": {},
   "source": [
    "### Benson Challenges\n",
    "\n",
    "Note: Challenges should be solved using pandas. If you are looking for extra work, you're welcome to take a stab at solving them using only python dictionaries, but this is harder and avoiding this is the entire point of pandas!"
   ]
  },
  {
   "cell_type": "markdown",
   "metadata": {},
   "source": [
    "#### Challenge 1   \n",
    "  \n",
    "- Open up a new IPython notebook\n",
    "- Download a few MTA turnstile data files\n",
    "- Read them into a pandas dataframe (pd.read_csv()), format the columns nicely, and display the first few rows.   \n"
   ]
  },
  {
   "cell_type": "code",
   "execution_count": 1,
   "metadata": {},
   "outputs": [],
   "source": [
    "import numpy as np\n",
    "import pandas as pd"
   ]
  },
  {
   "cell_type": "code",
   "execution_count": 2,
   "metadata": {},
   "outputs": [],
   "source": [
    "#Get five weeks of data\n",
    "weeks = [180922, 180915, 180908, 180901, 180825]\n",
    "url = \"http://web.mta.info/developers/data/nyct/turnstile/turnstile_{}.txt\"\n",
    "df_list = []\n",
    "for week in weeks:\n",
    "    df_list.append(pd.read_csv(url.format(week)))\n",
    "df = pd.concat(df_list)    "
   ]
  },
  {
   "cell_type": "code",
   "execution_count": 3,
   "metadata": {},
   "outputs": [
    {
     "data": {
      "text/html": [
       "<div>\n",
       "<style scoped>\n",
       "    .dataframe tbody tr th:only-of-type {\n",
       "        vertical-align: middle;\n",
       "    }\n",
       "\n",
       "    .dataframe tbody tr th {\n",
       "        vertical-align: top;\n",
       "    }\n",
       "\n",
       "    .dataframe thead th {\n",
       "        text-align: right;\n",
       "    }\n",
       "</style>\n",
       "<table border=\"1\" class=\"dataframe\">\n",
       "  <thead>\n",
       "    <tr style=\"text-align: right;\">\n",
       "      <th></th>\n",
       "      <th>C/A</th>\n",
       "      <th>UNIT</th>\n",
       "      <th>SCP</th>\n",
       "      <th>STATION</th>\n",
       "      <th>LINENAME</th>\n",
       "      <th>DIVISION</th>\n",
       "      <th>DATE</th>\n",
       "      <th>TIME</th>\n",
       "      <th>DESC</th>\n",
       "      <th>ENTRIES</th>\n",
       "      <th>EXITS</th>\n",
       "    </tr>\n",
       "  </thead>\n",
       "  <tbody>\n",
       "    <tr>\n",
       "      <th>0</th>\n",
       "      <td>A002</td>\n",
       "      <td>R051</td>\n",
       "      <td>02-00-00</td>\n",
       "      <td>59 ST</td>\n",
       "      <td>NQR456W</td>\n",
       "      <td>BMT</td>\n",
       "      <td>09/15/2018</td>\n",
       "      <td>00:00:00</td>\n",
       "      <td>REGULAR</td>\n",
       "      <td>6759219</td>\n",
       "      <td>2291425</td>\n",
       "    </tr>\n",
       "    <tr>\n",
       "      <th>1</th>\n",
       "      <td>A002</td>\n",
       "      <td>R051</td>\n",
       "      <td>02-00-00</td>\n",
       "      <td>59 ST</td>\n",
       "      <td>NQR456W</td>\n",
       "      <td>BMT</td>\n",
       "      <td>09/15/2018</td>\n",
       "      <td>04:00:00</td>\n",
       "      <td>REGULAR</td>\n",
       "      <td>6759234</td>\n",
       "      <td>2291429</td>\n",
       "    </tr>\n",
       "    <tr>\n",
       "      <th>2</th>\n",
       "      <td>A002</td>\n",
       "      <td>R051</td>\n",
       "      <td>02-00-00</td>\n",
       "      <td>59 ST</td>\n",
       "      <td>NQR456W</td>\n",
       "      <td>BMT</td>\n",
       "      <td>09/15/2018</td>\n",
       "      <td>08:00:00</td>\n",
       "      <td>REGULAR</td>\n",
       "      <td>6759251</td>\n",
       "      <td>2291453</td>\n",
       "    </tr>\n",
       "  </tbody>\n",
       "</table>\n",
       "</div>"
      ],
      "text/plain": [
       "    C/A  UNIT       SCP STATION LINENAME DIVISION        DATE      TIME  \\\n",
       "0  A002  R051  02-00-00   59 ST  NQR456W      BMT  09/15/2018  00:00:00   \n",
       "1  A002  R051  02-00-00   59 ST  NQR456W      BMT  09/15/2018  04:00:00   \n",
       "2  A002  R051  02-00-00   59 ST  NQR456W      BMT  09/15/2018  08:00:00   \n",
       "\n",
       "      DESC  ENTRIES  \\\n",
       "0  REGULAR  6759219   \n",
       "1  REGULAR  6759234   \n",
       "2  REGULAR  6759251   \n",
       "\n",
       "   EXITS                                                                 \n",
       "0                                            2291425                     \n",
       "1                                            2291429                     \n",
       "2                                            2291453                     "
      ]
     },
     "execution_count": 3,
     "metadata": {},
     "output_type": "execute_result"
    }
   ],
   "source": [
    "#Check first few rows of df\n",
    "df.head(3)"
   ]
  },
  {
   "cell_type": "code",
   "execution_count": 4,
   "metadata": {},
   "outputs": [
    {
     "data": {
      "text/plain": [
       "Index(['C/A', 'UNIT', 'SCP', 'STATION', 'LINENAME', 'DIVISION', 'DATE', 'TIME',\n",
       "       'DESC', 'ENTRIES',\n",
       "       'EXITS                                                               '],\n",
       "      dtype='object')"
      ]
     },
     "execution_count": 4,
     "metadata": {},
     "output_type": "execute_result"
    }
   ],
   "source": [
    "#Check columns format\n",
    "df.columns"
   ]
  },
  {
   "cell_type": "code",
   "execution_count": 5,
   "metadata": {},
   "outputs": [],
   "source": [
    "#Remove whitespace from column names\n",
    "df.columns = [column.strip() for column in df.columns]"
   ]
  },
  {
   "cell_type": "code",
   "execution_count": 6,
   "metadata": {},
   "outputs": [
    {
     "data": {
      "text/plain": [
       "Index(['C/A', 'UNIT', 'SCP', 'STATION', 'LINENAME', 'DIVISION', 'DATE', 'TIME',\n",
       "       'DESC', 'ENTRIES', 'EXITS'],\n",
       "      dtype='object')"
      ]
     },
     "execution_count": 6,
     "metadata": {},
     "output_type": "execute_result"
    }
   ],
   "source": [
    "#Verify column names are clean\n",
    "df.columns"
   ]
  },
  {
   "cell_type": "code",
   "execution_count": 7,
   "metadata": {},
   "outputs": [
    {
     "data": {
      "text/html": [
       "<div>\n",
       "<style scoped>\n",
       "    .dataframe tbody tr th:only-of-type {\n",
       "        vertical-align: middle;\n",
       "    }\n",
       "\n",
       "    .dataframe tbody tr th {\n",
       "        vertical-align: top;\n",
       "    }\n",
       "\n",
       "    .dataframe thead th {\n",
       "        text-align: right;\n",
       "    }\n",
       "</style>\n",
       "<table border=\"1\" class=\"dataframe\">\n",
       "  <thead>\n",
       "    <tr style=\"text-align: right;\">\n",
       "      <th></th>\n",
       "      <th>C/A</th>\n",
       "      <th>UNIT</th>\n",
       "      <th>SCP</th>\n",
       "      <th>STATION</th>\n",
       "      <th>LINENAME</th>\n",
       "      <th>DIVISION</th>\n",
       "      <th>DATE</th>\n",
       "      <th>TIME</th>\n",
       "      <th>DESC</th>\n",
       "      <th>ENTRIES</th>\n",
       "      <th>EXITS</th>\n",
       "    </tr>\n",
       "  </thead>\n",
       "  <tbody>\n",
       "    <tr>\n",
       "      <th>0</th>\n",
       "      <td>A002</td>\n",
       "      <td>R051</td>\n",
       "      <td>02-00-00</td>\n",
       "      <td>59 ST</td>\n",
       "      <td>NQR456W</td>\n",
       "      <td>BMT</td>\n",
       "      <td>09/15/2018</td>\n",
       "      <td>00:00:00</td>\n",
       "      <td>REGULAR</td>\n",
       "      <td>6759219</td>\n",
       "      <td>2291425</td>\n",
       "    </tr>\n",
       "    <tr>\n",
       "      <th>1</th>\n",
       "      <td>A002</td>\n",
       "      <td>R051</td>\n",
       "      <td>02-00-00</td>\n",
       "      <td>59 ST</td>\n",
       "      <td>NQR456W</td>\n",
       "      <td>BMT</td>\n",
       "      <td>09/15/2018</td>\n",
       "      <td>04:00:00</td>\n",
       "      <td>REGULAR</td>\n",
       "      <td>6759234</td>\n",
       "      <td>2291429</td>\n",
       "    </tr>\n",
       "    <tr>\n",
       "      <th>2</th>\n",
       "      <td>A002</td>\n",
       "      <td>R051</td>\n",
       "      <td>02-00-00</td>\n",
       "      <td>59 ST</td>\n",
       "      <td>NQR456W</td>\n",
       "      <td>BMT</td>\n",
       "      <td>09/15/2018</td>\n",
       "      <td>08:00:00</td>\n",
       "      <td>REGULAR</td>\n",
       "      <td>6759251</td>\n",
       "      <td>2291453</td>\n",
       "    </tr>\n",
       "    <tr>\n",
       "      <th>3</th>\n",
       "      <td>A002</td>\n",
       "      <td>R051</td>\n",
       "      <td>02-00-00</td>\n",
       "      <td>59 ST</td>\n",
       "      <td>NQR456W</td>\n",
       "      <td>BMT</td>\n",
       "      <td>09/15/2018</td>\n",
       "      <td>12:00:00</td>\n",
       "      <td>REGULAR</td>\n",
       "      <td>6759330</td>\n",
       "      <td>2291532</td>\n",
       "    </tr>\n",
       "    <tr>\n",
       "      <th>4</th>\n",
       "      <td>A002</td>\n",
       "      <td>R051</td>\n",
       "      <td>02-00-00</td>\n",
       "      <td>59 ST</td>\n",
       "      <td>NQR456W</td>\n",
       "      <td>BMT</td>\n",
       "      <td>09/15/2018</td>\n",
       "      <td>16:00:00</td>\n",
       "      <td>REGULAR</td>\n",
       "      <td>6759538</td>\n",
       "      <td>2291574</td>\n",
       "    </tr>\n",
       "  </tbody>\n",
       "</table>\n",
       "</div>"
      ],
      "text/plain": [
       "    C/A  UNIT       SCP STATION LINENAME DIVISION        DATE      TIME  \\\n",
       "0  A002  R051  02-00-00   59 ST  NQR456W      BMT  09/15/2018  00:00:00   \n",
       "1  A002  R051  02-00-00   59 ST  NQR456W      BMT  09/15/2018  04:00:00   \n",
       "2  A002  R051  02-00-00   59 ST  NQR456W      BMT  09/15/2018  08:00:00   \n",
       "3  A002  R051  02-00-00   59 ST  NQR456W      BMT  09/15/2018  12:00:00   \n",
       "4  A002  R051  02-00-00   59 ST  NQR456W      BMT  09/15/2018  16:00:00   \n",
       "\n",
       "      DESC  ENTRIES    EXITS  \n",
       "0  REGULAR  6759219  2291425  \n",
       "1  REGULAR  6759234  2291429  \n",
       "2  REGULAR  6759251  2291453  \n",
       "3  REGULAR  6759330  2291532  \n",
       "4  REGULAR  6759538  2291574  "
      ]
     },
     "execution_count": 7,
     "metadata": {},
     "output_type": "execute_result"
    }
   ],
   "source": [
    "#Display first few rows\n",
    "df.head()"
   ]
  },
  {
   "cell_type": "markdown",
   "metadata": {},
   "source": [
    "#### Challenge 2\n",
    "\n",
    "- Let's turn this into a time series.\n",
    "\n",
    "Create a new column that stores the date and time as a single pandas datetime object."
   ]
  },
  {
   "cell_type": "code",
   "execution_count": 8,
   "metadata": {},
   "outputs": [],
   "source": [
    "#Create a datetime column\n",
    "df['DATETIME'] = pd.to_datetime(df['DATE'] +  df['TIME'], format='%m/%d/%Y%H:%M:%S')"
   ]
  },
  {
   "cell_type": "code",
   "execution_count": 9,
   "metadata": {},
   "outputs": [
    {
     "data": {
      "text/plain": [
       "0   2018-09-15 00:00:00\n",
       "1   2018-09-15 04:00:00\n",
       "2   2018-09-15 08:00:00\n",
       "3   2018-09-15 12:00:00\n",
       "4   2018-09-15 16:00:00\n",
       "5   2018-09-15 20:00:00\n",
       "6   2018-09-16 00:00:00\n",
       "Name: DATETIME, dtype: datetime64[ns]"
      ]
     },
     "execution_count": 9,
     "metadata": {},
     "output_type": "execute_result"
    }
   ],
   "source": [
    "#Check new datetime column\n",
    "df['DATETIME'].head(7)"
   ]
  },
  {
   "cell_type": "markdown",
   "metadata": {},
   "source": [
    "#### Challenge 3\n",
    "\n",
    "- These counts are for every n hours (What is n?). Also, there's something odd about these \"counts\", what is it? \n",
    "Do they actually represent total entries for a time period, or something else? We want total daily entries, create a new dataframe with one row per turnstile/day and a column that gives total daily entries."
   ]
  },
  {
   "cell_type": "markdown",
   "metadata": {},
   "source": [
    "The counts are for every four hours, but the counts are cumulative. To calculate total entries per turnstile/day we can subtract the starting entries count of tomorrow's value by the starting entries count of today's value: \n",
    "\n",
    "Tomorrow's starting count - Today's starting count = Today's daily count.\n",
    "\n",
    "This should get us a reasonable estimate of entries per turnstile/day because turnstile audits seem to happen at midnight.\n",
    "Before we can do this there is some cleaning necessary\n",
    "\n"
   ]
  },
  {
   "cell_type": "code",
   "execution_count": 10,
   "metadata": {},
   "outputs": [
    {
     "data": {
      "text/html": [
       "<div>\n",
       "<style scoped>\n",
       "    .dataframe tbody tr th:only-of-type {\n",
       "        vertical-align: middle;\n",
       "    }\n",
       "\n",
       "    .dataframe tbody tr th {\n",
       "        vertical-align: top;\n",
       "    }\n",
       "\n",
       "    .dataframe thead th {\n",
       "        text-align: right;\n",
       "    }\n",
       "</style>\n",
       "<table border=\"1\" class=\"dataframe\">\n",
       "  <thead>\n",
       "    <tr style=\"text-align: right;\">\n",
       "      <th></th>\n",
       "      <th>C/A</th>\n",
       "      <th>UNIT</th>\n",
       "      <th>SCP</th>\n",
       "      <th>STATION</th>\n",
       "      <th>DATETIME</th>\n",
       "      <th>ENTRIES</th>\n",
       "    </tr>\n",
       "  </thead>\n",
       "  <tbody>\n",
       "    <tr>\n",
       "      <th>53676</th>\n",
       "      <td>A060</td>\n",
       "      <td>R001</td>\n",
       "      <td>00-00-01</td>\n",
       "      <td>WHITEHALL S-FRY</td>\n",
       "      <td>2018-09-14 05:00:00</td>\n",
       "      <td>2</td>\n",
       "    </tr>\n",
       "    <tr>\n",
       "      <th>53459</th>\n",
       "      <td>A060</td>\n",
       "      <td>R001</td>\n",
       "      <td>00-00-00</td>\n",
       "      <td>WHITEHALL S-FRY</td>\n",
       "      <td>2018-09-14 05:00:00</td>\n",
       "      <td>2</td>\n",
       "    </tr>\n",
       "    <tr>\n",
       "      <th>0</th>\n",
       "      <td>A002</td>\n",
       "      <td>R051</td>\n",
       "      <td>02-00-00</td>\n",
       "      <td>59 ST</td>\n",
       "      <td>2018-08-18 00:00:00</td>\n",
       "      <td>1</td>\n",
       "    </tr>\n",
       "    <tr>\n",
       "      <th>658508</th>\n",
       "      <td>R145</td>\n",
       "      <td>R032</td>\n",
       "      <td>00-00-00</td>\n",
       "      <td>TIMES SQ-42 ST</td>\n",
       "      <td>2018-09-19 12:00:00</td>\n",
       "      <td>1</td>\n",
       "    </tr>\n",
       "    <tr>\n",
       "      <th>658497</th>\n",
       "      <td>R145</td>\n",
       "      <td>R032</td>\n",
       "      <td>00-00-00</td>\n",
       "      <td>TIMES SQ-42 ST</td>\n",
       "      <td>2018-09-18 00:00:00</td>\n",
       "      <td>1</td>\n",
       "    </tr>\n",
       "  </tbody>\n",
       "</table>\n",
       "</div>"
      ],
      "text/plain": [
       "         C/A  UNIT       SCP          STATION            DATETIME  ENTRIES\n",
       "53676   A060  R001  00-00-01  WHITEHALL S-FRY 2018-09-14 05:00:00        2\n",
       "53459   A060  R001  00-00-00  WHITEHALL S-FRY 2018-09-14 05:00:00        2\n",
       "0       A002  R051  02-00-00            59 ST 2018-08-18 00:00:00        1\n",
       "658508  R145  R032  00-00-00   TIMES SQ-42 ST 2018-09-19 12:00:00        1\n",
       "658497  R145  R032  00-00-00   TIMES SQ-42 ST 2018-09-18 00:00:00        1"
      ]
     },
     "execution_count": 10,
     "metadata": {},
     "output_type": "execute_result"
    }
   ],
   "source": [
    "#Check for unique identifier\n",
    "(df.groupby(['C/A','UNIT','SCP','STATION','DATETIME'])\n",
    " ['ENTRIES'].count()\n",
    " .reset_index()\n",
    " .sort_values('ENTRIES',ascending=False)\n",
    " .head())\n"
   ]
  },
  {
   "cell_type": "code",
   "execution_count": 11,
   "metadata": {},
   "outputs": [
    {
     "data": {
      "text/html": [
       "<div>\n",
       "<style scoped>\n",
       "    .dataframe tbody tr th:only-of-type {\n",
       "        vertical-align: middle;\n",
       "    }\n",
       "\n",
       "    .dataframe tbody tr th {\n",
       "        vertical-align: top;\n",
       "    }\n",
       "\n",
       "    .dataframe thead th {\n",
       "        text-align: right;\n",
       "    }\n",
       "</style>\n",
       "<table border=\"1\" class=\"dataframe\">\n",
       "  <thead>\n",
       "    <tr style=\"text-align: right;\">\n",
       "      <th></th>\n",
       "      <th>C/A</th>\n",
       "      <th>UNIT</th>\n",
       "      <th>SCP</th>\n",
       "      <th>STATION</th>\n",
       "      <th>LINENAME</th>\n",
       "      <th>DIVISION</th>\n",
       "      <th>DATE</th>\n",
       "      <th>TIME</th>\n",
       "      <th>DESC</th>\n",
       "      <th>ENTRIES</th>\n",
       "      <th>EXITS</th>\n",
       "      <th>DATETIME</th>\n",
       "    </tr>\n",
       "  </thead>\n",
       "  <tbody>\n",
       "    <tr>\n",
       "      <th>10694</th>\n",
       "      <td>A060</td>\n",
       "      <td>R001</td>\n",
       "      <td>00-00-01</td>\n",
       "      <td>WHITEHALL S-FRY</td>\n",
       "      <td>R1W</td>\n",
       "      <td>BMT</td>\n",
       "      <td>09/14/2018</td>\n",
       "      <td>01:00:00</td>\n",
       "      <td>REGULAR</td>\n",
       "      <td>2969295</td>\n",
       "      <td>1965636</td>\n",
       "      <td>2018-09-14 01:00:00</td>\n",
       "    </tr>\n",
       "    <tr>\n",
       "      <th>10695</th>\n",
       "      <td>A060</td>\n",
       "      <td>R001</td>\n",
       "      <td>00-00-01</td>\n",
       "      <td>WHITEHALL S-FRY</td>\n",
       "      <td>R1W</td>\n",
       "      <td>BMT</td>\n",
       "      <td>09/14/2018</td>\n",
       "      <td>05:00:00</td>\n",
       "      <td>REGULAR</td>\n",
       "      <td>2969337</td>\n",
       "      <td>1965665</td>\n",
       "      <td>2018-09-14 05:00:00</td>\n",
       "    </tr>\n",
       "    <tr>\n",
       "      <th>10696</th>\n",
       "      <td>A060</td>\n",
       "      <td>R001</td>\n",
       "      <td>00-00-01</td>\n",
       "      <td>WHITEHALL S-FRY</td>\n",
       "      <td>R1W</td>\n",
       "      <td>BMT</td>\n",
       "      <td>09/14/2018</td>\n",
       "      <td>05:00:00</td>\n",
       "      <td>RECOVR AUD</td>\n",
       "      <td>2969335</td>\n",
       "      <td>1965665</td>\n",
       "      <td>2018-09-14 05:00:00</td>\n",
       "    </tr>\n",
       "  </tbody>\n",
       "</table>\n",
       "</div>"
      ],
      "text/plain": [
       "        C/A  UNIT       SCP          STATION LINENAME DIVISION        DATE  \\\n",
       "10694  A060  R001  00-00-01  WHITEHALL S-FRY      R1W      BMT  09/14/2018   \n",
       "10695  A060  R001  00-00-01  WHITEHALL S-FRY      R1W      BMT  09/14/2018   \n",
       "10696  A060  R001  00-00-01  WHITEHALL S-FRY      R1W      BMT  09/14/2018   \n",
       "\n",
       "           TIME        DESC  ENTRIES    EXITS            DATETIME  \n",
       "10694  01:00:00     REGULAR  2969295  1965636 2018-09-14 01:00:00  \n",
       "10695  05:00:00     REGULAR  2969337  1965665 2018-09-14 05:00:00  \n",
       "10696  05:00:00  RECOVR AUD  2969335  1965665 2018-09-14 05:00:00  "
      ]
     },
     "execution_count": 11,
     "metadata": {},
     "output_type": "execute_result"
    }
   ],
   "source": [
    "#Check the duplicates\n",
    "dup1 = ((df['C/A']=='A060') &\n",
    "        (df['UNIT']=='R001') &\n",
    "        (df['SCP']=='00-00-01') &\n",
    "        (df['STATION']=='WHITEHALL S-FRY') &\n",
    "        (df['DATETIME'].dt.date==pd.to_datetime('2018-09-14').date()))\n",
    "    \n",
    "df[dup1].head(3)"
   ]
  },
  {
   "cell_type": "code",
   "execution_count": 12,
   "metadata": {},
   "outputs": [
    {
     "data": {
      "text/html": [
       "<div>\n",
       "<style scoped>\n",
       "    .dataframe tbody tr th:only-of-type {\n",
       "        vertical-align: middle;\n",
       "    }\n",
       "\n",
       "    .dataframe tbody tr th {\n",
       "        vertical-align: top;\n",
       "    }\n",
       "\n",
       "    .dataframe thead th {\n",
       "        text-align: right;\n",
       "    }\n",
       "</style>\n",
       "<table border=\"1\" class=\"dataframe\">\n",
       "  <thead>\n",
       "    <tr style=\"text-align: right;\">\n",
       "      <th></th>\n",
       "      <th>C/A</th>\n",
       "      <th>UNIT</th>\n",
       "      <th>SCP</th>\n",
       "      <th>STATION</th>\n",
       "      <th>LINENAME</th>\n",
       "      <th>DIVISION</th>\n",
       "      <th>DATE</th>\n",
       "      <th>TIME</th>\n",
       "      <th>DESC</th>\n",
       "      <th>ENTRIES</th>\n",
       "      <th>EXITS</th>\n",
       "      <th>DATETIME</th>\n",
       "    </tr>\n",
       "  </thead>\n",
       "  <tbody>\n",
       "    <tr>\n",
       "      <th>10651</th>\n",
       "      <td>A060</td>\n",
       "      <td>R001</td>\n",
       "      <td>00-00-00</td>\n",
       "      <td>WHITEHALL S-FRY</td>\n",
       "      <td>R1W</td>\n",
       "      <td>BMT</td>\n",
       "      <td>09/14/2018</td>\n",
       "      <td>01:00:00</td>\n",
       "      <td>REGULAR</td>\n",
       "      <td>3612787</td>\n",
       "      <td>2401262</td>\n",
       "      <td>2018-09-14 01:00:00</td>\n",
       "    </tr>\n",
       "    <tr>\n",
       "      <th>10652</th>\n",
       "      <td>A060</td>\n",
       "      <td>R001</td>\n",
       "      <td>00-00-00</td>\n",
       "      <td>WHITEHALL S-FRY</td>\n",
       "      <td>R1W</td>\n",
       "      <td>BMT</td>\n",
       "      <td>09/14/2018</td>\n",
       "      <td>05:00:00</td>\n",
       "      <td>REGULAR</td>\n",
       "      <td>3612847</td>\n",
       "      <td>2401282</td>\n",
       "      <td>2018-09-14 05:00:00</td>\n",
       "    </tr>\n",
       "    <tr>\n",
       "      <th>10653</th>\n",
       "      <td>A060</td>\n",
       "      <td>R001</td>\n",
       "      <td>00-00-00</td>\n",
       "      <td>WHITEHALL S-FRY</td>\n",
       "      <td>R1W</td>\n",
       "      <td>BMT</td>\n",
       "      <td>09/14/2018</td>\n",
       "      <td>05:00:00</td>\n",
       "      <td>RECOVR AUD</td>\n",
       "      <td>3612845</td>\n",
       "      <td>2401282</td>\n",
       "      <td>2018-09-14 05:00:00</td>\n",
       "    </tr>\n",
       "  </tbody>\n",
       "</table>\n",
       "</div>"
      ],
      "text/plain": [
       "        C/A  UNIT       SCP          STATION LINENAME DIVISION        DATE  \\\n",
       "10651  A060  R001  00-00-00  WHITEHALL S-FRY      R1W      BMT  09/14/2018   \n",
       "10652  A060  R001  00-00-00  WHITEHALL S-FRY      R1W      BMT  09/14/2018   \n",
       "10653  A060  R001  00-00-00  WHITEHALL S-FRY      R1W      BMT  09/14/2018   \n",
       "\n",
       "           TIME        DESC  ENTRIES    EXITS            DATETIME  \n",
       "10651  01:00:00     REGULAR  3612787  2401262 2018-09-14 01:00:00  \n",
       "10652  05:00:00     REGULAR  3612847  2401282 2018-09-14 05:00:00  \n",
       "10653  05:00:00  RECOVR AUD  3612845  2401282 2018-09-14 05:00:00  "
      ]
     },
     "execution_count": 12,
     "metadata": {},
     "output_type": "execute_result"
    }
   ],
   "source": [
    "dup2 = ((df['C/A']=='A060') &\n",
    "        (df['UNIT']=='R001') &\n",
    "        (df['SCP']=='00-00-00') &\n",
    "        (df['STATION']=='WHITEHALL S-FRY') &\n",
    "        (df['DATETIME'].dt.date==pd.to_datetime('2018-09-14').date()))\n",
    "    \n",
    "df[dup2].head(3)"
   ]
  },
  {
   "cell_type": "markdown",
   "metadata": {},
   "source": [
    "The duplicates are occuring during recovery audits. We only have two duplicates and it shouldn't make a difference for our daily counts, so we will remove the duplicates now."
   ]
  },
  {
   "cell_type": "code",
   "execution_count": 13,
   "metadata": {},
   "outputs": [],
   "source": [
    "#Drop duplicates\n",
    "df.drop_duplicates(subset=['C/A','UNIT','SCP','STATION','DATETIME'],inplace=True)"
   ]
  },
  {
   "cell_type": "code",
   "execution_count": 14,
   "metadata": {},
   "outputs": [
    {
     "data": {
      "text/html": [
       "<div>\n",
       "<style scoped>\n",
       "    .dataframe tbody tr th:only-of-type {\n",
       "        vertical-align: middle;\n",
       "    }\n",
       "\n",
       "    .dataframe tbody tr th {\n",
       "        vertical-align: top;\n",
       "    }\n",
       "\n",
       "    .dataframe thead th {\n",
       "        text-align: right;\n",
       "    }\n",
       "</style>\n",
       "<table border=\"1\" class=\"dataframe\">\n",
       "  <thead>\n",
       "    <tr style=\"text-align: right;\">\n",
       "      <th></th>\n",
       "      <th>C/A</th>\n",
       "      <th>UNIT</th>\n",
       "      <th>SCP</th>\n",
       "      <th>STATION</th>\n",
       "      <th>DATETIME</th>\n",
       "      <th>ENTRIES</th>\n",
       "    </tr>\n",
       "  </thead>\n",
       "  <tbody>\n",
       "    <tr>\n",
       "      <th>0</th>\n",
       "      <td>A002</td>\n",
       "      <td>R051</td>\n",
       "      <td>02-00-00</td>\n",
       "      <td>59 ST</td>\n",
       "      <td>2018-08-18 00:00:00</td>\n",
       "      <td>1</td>\n",
       "    </tr>\n",
       "    <tr>\n",
       "      <th>658463</th>\n",
       "      <td>R145</td>\n",
       "      <td>R032</td>\n",
       "      <td>00-00-00</td>\n",
       "      <td>TIMES SQ-42 ST</td>\n",
       "      <td>2018-09-12 08:00:00</td>\n",
       "      <td>1</td>\n",
       "    </tr>\n",
       "    <tr>\n",
       "      <th>658495</th>\n",
       "      <td>R145</td>\n",
       "      <td>R032</td>\n",
       "      <td>00-00-00</td>\n",
       "      <td>TIMES SQ-42 ST</td>\n",
       "      <td>2018-09-17 16:00:00</td>\n",
       "      <td>1</td>\n",
       "    </tr>\n",
       "    <tr>\n",
       "      <th>658496</th>\n",
       "      <td>R145</td>\n",
       "      <td>R032</td>\n",
       "      <td>00-00-00</td>\n",
       "      <td>TIMES SQ-42 ST</td>\n",
       "      <td>2018-09-17 20:00:00</td>\n",
       "      <td>1</td>\n",
       "    </tr>\n",
       "    <tr>\n",
       "      <th>658497</th>\n",
       "      <td>R145</td>\n",
       "      <td>R032</td>\n",
       "      <td>00-00-00</td>\n",
       "      <td>TIMES SQ-42 ST</td>\n",
       "      <td>2018-09-18 00:00:00</td>\n",
       "      <td>1</td>\n",
       "    </tr>\n",
       "  </tbody>\n",
       "</table>\n",
       "</div>"
      ],
      "text/plain": [
       "         C/A  UNIT       SCP         STATION            DATETIME  ENTRIES\n",
       "0       A002  R051  02-00-00           59 ST 2018-08-18 00:00:00        1\n",
       "658463  R145  R032  00-00-00  TIMES SQ-42 ST 2018-09-12 08:00:00        1\n",
       "658495  R145  R032  00-00-00  TIMES SQ-42 ST 2018-09-17 16:00:00        1\n",
       "658496  R145  R032  00-00-00  TIMES SQ-42 ST 2018-09-17 20:00:00        1\n",
       "658497  R145  R032  00-00-00  TIMES SQ-42 ST 2018-09-18 00:00:00        1"
      ]
     },
     "execution_count": 14,
     "metadata": {},
     "output_type": "execute_result"
    }
   ],
   "source": [
    "#Verify no more duplicates\n",
    "(df.groupby(['C/A','UNIT','SCP','STATION','DATETIME'])\n",
    " ['ENTRIES'].count()\n",
    " .reset_index()\n",
    " .sort_values('ENTRIES',ascending=False)\n",
    " .head())\n"
   ]
  },
  {
   "cell_type": "code",
   "execution_count": 15,
   "metadata": {},
   "outputs": [],
   "source": [
    "#Create a new df with the first entries value of the day for each turnstile/day\n",
    "df.sort_values(by='DATETIME',inplace=True)\n",
    "daily_df = (df\n",
    "           .groupby(['C/A','UNIT','SCP','STATION','DATE'],as_index=False)\n",
    "           ['ENTRIES'].first())"
   ]
  },
  {
   "cell_type": "code",
   "execution_count": 16,
   "metadata": {},
   "outputs": [
    {
     "data": {
      "text/html": [
       "<div>\n",
       "<style scoped>\n",
       "    .dataframe tbody tr th:only-of-type {\n",
       "        vertical-align: middle;\n",
       "    }\n",
       "\n",
       "    .dataframe tbody tr th {\n",
       "        vertical-align: top;\n",
       "    }\n",
       "\n",
       "    .dataframe thead th {\n",
       "        text-align: right;\n",
       "    }\n",
       "</style>\n",
       "<table border=\"1\" class=\"dataframe\">\n",
       "  <thead>\n",
       "    <tr style=\"text-align: right;\">\n",
       "      <th></th>\n",
       "      <th>C/A</th>\n",
       "      <th>UNIT</th>\n",
       "      <th>SCP</th>\n",
       "      <th>STATION</th>\n",
       "      <th>DATE</th>\n",
       "      <th>ENTRIES</th>\n",
       "    </tr>\n",
       "  </thead>\n",
       "  <tbody>\n",
       "    <tr>\n",
       "      <th>0</th>\n",
       "      <td>A002</td>\n",
       "      <td>R051</td>\n",
       "      <td>02-00-00</td>\n",
       "      <td>59 ST</td>\n",
       "      <td>08/18/2018</td>\n",
       "      <td>6728354</td>\n",
       "    </tr>\n",
       "    <tr>\n",
       "      <th>1</th>\n",
       "      <td>A002</td>\n",
       "      <td>R051</td>\n",
       "      <td>02-00-00</td>\n",
       "      <td>59 ST</td>\n",
       "      <td>08/19/2018</td>\n",
       "      <td>6728970</td>\n",
       "    </tr>\n",
       "    <tr>\n",
       "      <th>2</th>\n",
       "      <td>A002</td>\n",
       "      <td>R051</td>\n",
       "      <td>02-00-00</td>\n",
       "      <td>59 ST</td>\n",
       "      <td>08/20/2018</td>\n",
       "      <td>6729479</td>\n",
       "    </tr>\n",
       "    <tr>\n",
       "      <th>3</th>\n",
       "      <td>A002</td>\n",
       "      <td>R051</td>\n",
       "      <td>02-00-00</td>\n",
       "      <td>59 ST</td>\n",
       "      <td>08/21/2018</td>\n",
       "      <td>6730772</td>\n",
       "    </tr>\n",
       "    <tr>\n",
       "      <th>4</th>\n",
       "      <td>A002</td>\n",
       "      <td>R051</td>\n",
       "      <td>02-00-00</td>\n",
       "      <td>59 ST</td>\n",
       "      <td>08/22/2018</td>\n",
       "      <td>6732070</td>\n",
       "    </tr>\n",
       "  </tbody>\n",
       "</table>\n",
       "</div>"
      ],
      "text/plain": [
       "    C/A  UNIT       SCP STATION        DATE  ENTRIES\n",
       "0  A002  R051  02-00-00   59 ST  08/18/2018  6728354\n",
       "1  A002  R051  02-00-00   59 ST  08/19/2018  6728970\n",
       "2  A002  R051  02-00-00   59 ST  08/20/2018  6729479\n",
       "3  A002  R051  02-00-00   59 ST  08/21/2018  6730772\n",
       "4  A002  R051  02-00-00   59 ST  08/22/2018  6732070"
      ]
     },
     "execution_count": 16,
     "metadata": {},
     "output_type": "execute_result"
    }
   ],
   "source": [
    "#Check the new df\n",
    "daily_df.head()"
   ]
  },
  {
   "cell_type": "code",
   "execution_count": 17,
   "metadata": {},
   "outputs": [],
   "source": [
    "#Create two new columns, one for tomorrow's date and one for tomorrows first entries count\n",
    "#To later calculate current days total entries, we will subtract tomorrow first entry count by the current days\n",
    "daily_df[['TOM_DATE','TOM_ENTRIES']] = (daily_df\n",
    "                                         .groupby(['C/A','UNIT','SCP','STATION'])['DATE','ENTRIES']\n",
    "                                         .transform(lambda x: x.shift(-1)))"
   ]
  },
  {
   "cell_type": "code",
   "execution_count": 18,
   "metadata": {},
   "outputs": [
    {
     "data": {
      "text/html": [
       "<div>\n",
       "<style scoped>\n",
       "    .dataframe tbody tr th:only-of-type {\n",
       "        vertical-align: middle;\n",
       "    }\n",
       "\n",
       "    .dataframe tbody tr th {\n",
       "        vertical-align: top;\n",
       "    }\n",
       "\n",
       "    .dataframe thead th {\n",
       "        text-align: right;\n",
       "    }\n",
       "</style>\n",
       "<table border=\"1\" class=\"dataframe\">\n",
       "  <thead>\n",
       "    <tr style=\"text-align: right;\">\n",
       "      <th></th>\n",
       "      <th>C/A</th>\n",
       "      <th>UNIT</th>\n",
       "      <th>SCP</th>\n",
       "      <th>STATION</th>\n",
       "      <th>DATE</th>\n",
       "      <th>ENTRIES</th>\n",
       "      <th>TOM_DATE</th>\n",
       "      <th>TOM_ENTRIES</th>\n",
       "    </tr>\n",
       "  </thead>\n",
       "  <tbody>\n",
       "    <tr>\n",
       "      <th>0</th>\n",
       "      <td>A002</td>\n",
       "      <td>R051</td>\n",
       "      <td>02-00-00</td>\n",
       "      <td>59 ST</td>\n",
       "      <td>08/18/2018</td>\n",
       "      <td>6728354</td>\n",
       "      <td>08/19/2018</td>\n",
       "      <td>6728970.0</td>\n",
       "    </tr>\n",
       "    <tr>\n",
       "      <th>1</th>\n",
       "      <td>A002</td>\n",
       "      <td>R051</td>\n",
       "      <td>02-00-00</td>\n",
       "      <td>59 ST</td>\n",
       "      <td>08/19/2018</td>\n",
       "      <td>6728970</td>\n",
       "      <td>08/20/2018</td>\n",
       "      <td>6729479.0</td>\n",
       "    </tr>\n",
       "    <tr>\n",
       "      <th>2</th>\n",
       "      <td>A002</td>\n",
       "      <td>R051</td>\n",
       "      <td>02-00-00</td>\n",
       "      <td>59 ST</td>\n",
       "      <td>08/20/2018</td>\n",
       "      <td>6729479</td>\n",
       "      <td>08/21/2018</td>\n",
       "      <td>6730772.0</td>\n",
       "    </tr>\n",
       "    <tr>\n",
       "      <th>3</th>\n",
       "      <td>A002</td>\n",
       "      <td>R051</td>\n",
       "      <td>02-00-00</td>\n",
       "      <td>59 ST</td>\n",
       "      <td>08/21/2018</td>\n",
       "      <td>6730772</td>\n",
       "      <td>08/22/2018</td>\n",
       "      <td>6732070.0</td>\n",
       "    </tr>\n",
       "    <tr>\n",
       "      <th>4</th>\n",
       "      <td>A002</td>\n",
       "      <td>R051</td>\n",
       "      <td>02-00-00</td>\n",
       "      <td>59 ST</td>\n",
       "      <td>08/22/2018</td>\n",
       "      <td>6732070</td>\n",
       "      <td>08/23/2018</td>\n",
       "      <td>6733446.0</td>\n",
       "    </tr>\n",
       "  </tbody>\n",
       "</table>\n",
       "</div>"
      ],
      "text/plain": [
       "    C/A  UNIT       SCP STATION        DATE  ENTRIES    TOM_DATE  TOM_ENTRIES\n",
       "0  A002  R051  02-00-00   59 ST  08/18/2018  6728354  08/19/2018    6728970.0\n",
       "1  A002  R051  02-00-00   59 ST  08/19/2018  6728970  08/20/2018    6729479.0\n",
       "2  A002  R051  02-00-00   59 ST  08/20/2018  6729479  08/21/2018    6730772.0\n",
       "3  A002  R051  02-00-00   59 ST  08/21/2018  6730772  08/22/2018    6732070.0\n",
       "4  A002  R051  02-00-00   59 ST  08/22/2018  6732070  08/23/2018    6733446.0"
      ]
     },
     "execution_count": 18,
     "metadata": {},
     "output_type": "execute_result"
    }
   ],
   "source": [
    "#Verify we got the right values in the new columns\n",
    "daily_df.head()"
   ]
  },
  {
   "cell_type": "code",
   "execution_count": 19,
   "metadata": {},
   "outputs": [
    {
     "data": {
      "text/plain": [
       "4728"
      ]
     },
     "execution_count": 19,
     "metadata": {},
     "output_type": "execute_result"
    }
   ],
   "source": [
    "#Check how many null values we have\n",
    "daily_df.TOM_ENTRIES.isnull().sum()"
   ]
  },
  {
   "cell_type": "code",
   "execution_count": 20,
   "metadata": {},
   "outputs": [
    {
     "data": {
      "text/plain": [
       "C/A        4728\n",
       "UNIT       4728\n",
       "SCP        4728\n",
       "STATION    4728\n",
       "ENTRIES    4728\n",
       "dtype: int64"
      ]
     },
     "execution_count": 20,
     "metadata": {},
     "output_type": "execute_result"
    }
   ],
   "source": [
    "#Verify we have just one null value for each turnstile (the last date will have no values for the next day)\n",
    "(df.groupby(['C/A','UNIT','SCP','STATION'])\n",
    " ['ENTRIES'].count()\n",
    " .reset_index()\n",
    " .sort_values('ENTRIES',ascending=False)\n",
    " .count())"
   ]
  },
  {
   "cell_type": "code",
   "execution_count": 21,
   "metadata": {},
   "outputs": [],
   "source": [
    "#Drop rows will null TOM_ENTRIES values\n",
    "daily_df.dropna(subset=['TOM_ENTRIES'], inplace=True)"
   ]
  },
  {
   "cell_type": "code",
   "execution_count": 22,
   "metadata": {},
   "outputs": [],
   "source": [
    "#We should be able to subtract tomorrow's starting count by today's starting count to\n",
    "#get an accurate number of entries per turnstile for today\n",
    "daily_df['DAILY_ENTRIES'] = (daily_df['TOM_ENTRIES'] - daily_df['ENTRIES'])"
   ]
  },
  {
   "cell_type": "code",
   "execution_count": 23,
   "metadata": {},
   "outputs": [
    {
     "data": {
      "text/plain": [
       "count    1.589720e+05\n",
       "mean    -1.133232e+04\n",
       "std      4.121209e+06\n",
       "min     -1.448534e+09\n",
       "25%      2.240000e+02\n",
       "50%      7.330000e+02\n",
       "75%      1.464000e+03\n",
       "max      3.175323e+08\n",
       "Name: DAILY_ENTRIES, dtype: float64"
      ]
     },
     "execution_count": 23,
     "metadata": {},
     "output_type": "execute_result"
    }
   ],
   "source": [
    "#Check the entries numbers we calculated\n",
    "daily_df.DAILY_ENTRIES.describe()"
   ]
  },
  {
   "cell_type": "code",
   "execution_count": 24,
   "metadata": {},
   "outputs": [
    {
     "data": {
      "text/html": [
       "<div>\n",
       "<style scoped>\n",
       "    .dataframe tbody tr th:only-of-type {\n",
       "        vertical-align: middle;\n",
       "    }\n",
       "\n",
       "    .dataframe tbody tr th {\n",
       "        vertical-align: top;\n",
       "    }\n",
       "\n",
       "    .dataframe thead th {\n",
       "        text-align: right;\n",
       "    }\n",
       "</style>\n",
       "<table border=\"1\" class=\"dataframe\">\n",
       "  <thead>\n",
       "    <tr style=\"text-align: right;\">\n",
       "      <th></th>\n",
       "      <th>C/A</th>\n",
       "      <th>UNIT</th>\n",
       "      <th>SCP</th>\n",
       "      <th>STATION</th>\n",
       "      <th>DATE</th>\n",
       "      <th>ENTRIES</th>\n",
       "      <th>TOM_DATE</th>\n",
       "      <th>TOM_ENTRIES</th>\n",
       "      <th>DAILY_ENTRIES</th>\n",
       "    </tr>\n",
       "  </thead>\n",
       "  <tbody>\n",
       "    <tr>\n",
       "      <th>786</th>\n",
       "      <td>A007</td>\n",
       "      <td>R079</td>\n",
       "      <td>01-06-00</td>\n",
       "      <td>5 AV/59 ST</td>\n",
       "      <td>09/03/2018</td>\n",
       "      <td>3408576</td>\n",
       "      <td>09/04/2018</td>\n",
       "      <td>458806.0</td>\n",
       "      <td>-2949770.0</td>\n",
       "    </tr>\n",
       "    <tr>\n",
       "      <th>1190</th>\n",
       "      <td>A011</td>\n",
       "      <td>R080</td>\n",
       "      <td>01-00-00</td>\n",
       "      <td>57 ST-7 AV</td>\n",
       "      <td>08/18/2018</td>\n",
       "      <td>885886508</td>\n",
       "      <td>08/19/2018</td>\n",
       "      <td>885886236.0</td>\n",
       "      <td>-272.0</td>\n",
       "    </tr>\n",
       "    <tr>\n",
       "      <th>1191</th>\n",
       "      <td>A011</td>\n",
       "      <td>R080</td>\n",
       "      <td>01-00-00</td>\n",
       "      <td>57 ST-7 AV</td>\n",
       "      <td>08/19/2018</td>\n",
       "      <td>885886236</td>\n",
       "      <td>08/20/2018</td>\n",
       "      <td>885886019.0</td>\n",
       "      <td>-217.0</td>\n",
       "    </tr>\n",
       "    <tr>\n",
       "      <th>1192</th>\n",
       "      <td>A011</td>\n",
       "      <td>R080</td>\n",
       "      <td>01-00-00</td>\n",
       "      <td>57 ST-7 AV</td>\n",
       "      <td>08/20/2018</td>\n",
       "      <td>885886019</td>\n",
       "      <td>08/21/2018</td>\n",
       "      <td>885885561.0</td>\n",
       "      <td>-458.0</td>\n",
       "    </tr>\n",
       "    <tr>\n",
       "      <th>1193</th>\n",
       "      <td>A011</td>\n",
       "      <td>R080</td>\n",
       "      <td>01-00-00</td>\n",
       "      <td>57 ST-7 AV</td>\n",
       "      <td>08/21/2018</td>\n",
       "      <td>885885561</td>\n",
       "      <td>08/22/2018</td>\n",
       "      <td>885885033.0</td>\n",
       "      <td>-528.0</td>\n",
       "    </tr>\n",
       "  </tbody>\n",
       "</table>\n",
       "</div>"
      ],
      "text/plain": [
       "       C/A  UNIT       SCP     STATION        DATE    ENTRIES    TOM_DATE  \\\n",
       "786   A007  R079  01-06-00  5 AV/59 ST  09/03/2018    3408576  09/04/2018   \n",
       "1190  A011  R080  01-00-00  57 ST-7 AV  08/18/2018  885886508  08/19/2018   \n",
       "1191  A011  R080  01-00-00  57 ST-7 AV  08/19/2018  885886236  08/20/2018   \n",
       "1192  A011  R080  01-00-00  57 ST-7 AV  08/20/2018  885886019  08/21/2018   \n",
       "1193  A011  R080  01-00-00  57 ST-7 AV  08/21/2018  885885561  08/22/2018   \n",
       "\n",
       "      TOM_ENTRIES  DAILY_ENTRIES  \n",
       "786      458806.0     -2949770.0  \n",
       "1190  885886236.0         -272.0  \n",
       "1191  885886019.0         -217.0  \n",
       "1192  885885561.0         -458.0  \n",
       "1193  885885033.0         -528.0  "
      ]
     },
     "execution_count": 24,
     "metadata": {},
     "output_type": "execute_result"
    }
   ],
   "source": [
    "#Our DAILY_ENTIRES column calculated many negative values, and some very large numbers\n",
    "#First we take a look at the negative entries\n",
    "daily_df[daily_df['ENTRIES'] > daily_df['TOM_ENTRIES']].head()"
   ]
  },
  {
   "cell_type": "code",
   "execution_count": 25,
   "metadata": {},
   "outputs": [
    {
     "data": {
      "text/plain": [
       "(1384, 9)"
      ]
     },
     "execution_count": 25,
     "metadata": {},
     "output_type": "execute_result"
    }
   ],
   "source": [
    "#It looks like some of the issues we had with negative counters comes form turnstiles counting in reverse\n",
    "#Check how many negative counts we have\n",
    "daily_df[daily_df['ENTRIES'] > daily_df['TOM_ENTRIES']].shape"
   ]
  },
  {
   "cell_type": "code",
   "execution_count": 26,
   "metadata": {},
   "outputs": [
    {
     "data": {
      "text/plain": [
       "count    1.589720e+05\n",
       "mean     1.783377e+04\n",
       "std      4.121186e+06\n",
       "min      0.000000e+00\n",
       "25%      2.400000e+02\n",
       "50%      7.480000e+02\n",
       "75%      1.485000e+03\n",
       "max      1.448534e+09\n",
       "Name: DAILY_ENTRIES, dtype: float64"
      ]
     },
     "execution_count": 26,
     "metadata": {},
     "output_type": "execute_result"
    }
   ],
   "source": [
    "#Taking an absolute value will help with the reverse counting. Let's see what counts we get after factoring\n",
    "#for reverse counters\n",
    "daily_df['DAILY_ENTRIES'] = abs(daily_df['TOM_ENTRIES'] - daily_df['ENTRIES'])\n",
    "daily_df.DAILY_ENTRIES.describe()"
   ]
  },
  {
   "cell_type": "code",
   "execution_count": 27,
   "metadata": {},
   "outputs": [
    {
     "data": {
      "text/html": [
       "<div>\n",
       "<style scoped>\n",
       "    .dataframe tbody tr th:only-of-type {\n",
       "        vertical-align: middle;\n",
       "    }\n",
       "\n",
       "    .dataframe tbody tr th {\n",
       "        vertical-align: top;\n",
       "    }\n",
       "\n",
       "    .dataframe thead th {\n",
       "        text-align: right;\n",
       "    }\n",
       "</style>\n",
       "<table border=\"1\" class=\"dataframe\">\n",
       "  <thead>\n",
       "    <tr style=\"text-align: right;\">\n",
       "      <th></th>\n",
       "      <th>C/A</th>\n",
       "      <th>UNIT</th>\n",
       "      <th>SCP</th>\n",
       "      <th>STATION</th>\n",
       "      <th>DATE</th>\n",
       "      <th>ENTRIES</th>\n",
       "      <th>TOM_DATE</th>\n",
       "      <th>TOM_ENTRIES</th>\n",
       "      <th>DAILY_ENTRIES</th>\n",
       "    </tr>\n",
       "  </thead>\n",
       "  <tbody>\n",
       "    <tr>\n",
       "      <th>786</th>\n",
       "      <td>A007</td>\n",
       "      <td>R079</td>\n",
       "      <td>01-06-00</td>\n",
       "      <td>5 AV/59 ST</td>\n",
       "      <td>09/03/2018</td>\n",
       "      <td>3408576</td>\n",
       "      <td>09/04/2018</td>\n",
       "      <td>458806.0</td>\n",
       "      <td>2949770.0</td>\n",
       "    </tr>\n",
       "    <tr>\n",
       "      <th>10850</th>\n",
       "      <td>A084</td>\n",
       "      <td>R125</td>\n",
       "      <td>01-03-01</td>\n",
       "      <td>BROAD ST</td>\n",
       "      <td>08/20/2018</td>\n",
       "      <td>1813694</td>\n",
       "      <td>08/21/2018</td>\n",
       "      <td>1287.0</td>\n",
       "      <td>1812407.0</td>\n",
       "    </tr>\n",
       "    <tr>\n",
       "      <th>12381</th>\n",
       "      <td>B018</td>\n",
       "      <td>R184</td>\n",
       "      <td>00-00-00</td>\n",
       "      <td>CORTELYOU RD</td>\n",
       "      <td>09/15/2018</td>\n",
       "      <td>15832652</td>\n",
       "      <td>09/16/2018</td>\n",
       "      <td>1525.0</td>\n",
       "      <td>15831127.0</td>\n",
       "    </tr>\n",
       "    <tr>\n",
       "      <th>23847</th>\n",
       "      <td>G009</td>\n",
       "      <td>R151</td>\n",
       "      <td>02-00-05</td>\n",
       "      <td>CONEY IS-STILLW</td>\n",
       "      <td>08/24/2018</td>\n",
       "      <td>3956142</td>\n",
       "      <td>08/25/2018</td>\n",
       "      <td>419.0</td>\n",
       "      <td>3955723.0</td>\n",
       "    </tr>\n",
       "    <tr>\n",
       "      <th>26548</th>\n",
       "      <td>H019</td>\n",
       "      <td>R294</td>\n",
       "      <td>00-00-00</td>\n",
       "      <td>MORGAN AV</td>\n",
       "      <td>09/01/2018</td>\n",
       "      <td>15071100</td>\n",
       "      <td>09/02/2018</td>\n",
       "      <td>89.0</td>\n",
       "      <td>15071011.0</td>\n",
       "    </tr>\n",
       "  </tbody>\n",
       "</table>\n",
       "</div>"
      ],
      "text/plain": [
       "        C/A  UNIT       SCP          STATION        DATE   ENTRIES  \\\n",
       "786    A007  R079  01-06-00       5 AV/59 ST  09/03/2018   3408576   \n",
       "10850  A084  R125  01-03-01         BROAD ST  08/20/2018   1813694   \n",
       "12381  B018  R184  00-00-00     CORTELYOU RD  09/15/2018  15832652   \n",
       "23847  G009  R151  02-00-05  CONEY IS-STILLW  08/24/2018   3956142   \n",
       "26548  H019  R294  00-00-00        MORGAN AV  09/01/2018  15071100   \n",
       "\n",
       "         TOM_DATE  TOM_ENTRIES  DAILY_ENTRIES  \n",
       "786    09/04/2018     458806.0      2949770.0  \n",
       "10850  08/21/2018       1287.0      1812407.0  \n",
       "12381  09/16/2018       1525.0     15831127.0  \n",
       "23847  08/25/2018        419.0      3955723.0  \n",
       "26548  09/02/2018         89.0     15071011.0  "
      ]
     },
     "execution_count": 27,
     "metadata": {},
     "output_type": "execute_result"
    }
   ],
   "source": [
    "#The absolute values helped, but we still have some very large counts\n",
    "#Let's look at some of the large counts\n",
    "daily_df[daily_df['DAILY_ENTRIES'] > 500000].head()"
   ]
  },
  {
   "cell_type": "code",
   "execution_count": 28,
   "metadata": {},
   "outputs": [],
   "source": [
    "#It looks like some of the counters are reseting.\n",
    "#One way to factor that in would be to just use the min value between the current count and tomorrow's count\n",
    "#Define a function that incorporate the abs difference between tomorrow's starting count by today's starting count\n",
    "#along with using the min of the two values when we have a large number. If we still have a large count\n",
    "#just set it to zero for now.\n",
    "def daily_counts(row, max_count):\n",
    "    counter = abs(row['TOM_ENTRIES'] - row['ENTRIES'])\n",
    "    if counter > max_count:\n",
    "        counter = min(row['TOM_ENTRIES'], row['ENTRIES'])\n",
    "    if counter > max_count:\n",
    "        return 0\n",
    "    return counter\n",
    "daily_df['DAILY_ENTRIES'] = daily_df.apply(daily_counts, axis=1, max_count=50000)"
   ]
  },
  {
   "cell_type": "code",
   "execution_count": 29,
   "metadata": {},
   "outputs": [
    {
     "data": {
      "text/plain": [
       "count    158972.000000\n",
       "mean       1003.541190\n",
       "std        1028.323478\n",
       "min           0.000000\n",
       "25%         240.000000\n",
       "50%         747.000000\n",
       "75%        1484.000000\n",
       "max       49096.000000\n",
       "Name: DAILY_ENTRIES, dtype: float64"
      ]
     },
     "execution_count": 29,
     "metadata": {},
     "output_type": "execute_result"
    }
   ],
   "source": [
    "#Take a look at our new counts\n",
    "daily_df.DAILY_ENTRIES.describe()"
   ]
  },
  {
   "cell_type": "code",
   "execution_count": 30,
   "metadata": {},
   "outputs": [
    {
     "data": {
      "text/html": [
       "<div>\n",
       "<style scoped>\n",
       "    .dataframe tbody tr th:only-of-type {\n",
       "        vertical-align: middle;\n",
       "    }\n",
       "\n",
       "    .dataframe tbody tr th {\n",
       "        vertical-align: top;\n",
       "    }\n",
       "\n",
       "    .dataframe thead th {\n",
       "        text-align: right;\n",
       "    }\n",
       "</style>\n",
       "<table border=\"1\" class=\"dataframe\">\n",
       "  <thead>\n",
       "    <tr style=\"text-align: right;\">\n",
       "      <th></th>\n",
       "      <th>C/A</th>\n",
       "      <th>UNIT</th>\n",
       "      <th>SCP</th>\n",
       "      <th>STATION</th>\n",
       "      <th>DATE</th>\n",
       "      <th>ENTRIES</th>\n",
       "      <th>TOM_DATE</th>\n",
       "      <th>TOM_ENTRIES</th>\n",
       "      <th>DAILY_ENTRIES</th>\n",
       "    </tr>\n",
       "  </thead>\n",
       "  <tbody>\n",
       "    <tr>\n",
       "      <th>32488</th>\n",
       "      <td>JFK02</td>\n",
       "      <td>R535</td>\n",
       "      <td>01-00-03</td>\n",
       "      <td>HOWARD BCH JFK</td>\n",
       "      <td>08/28/2018</td>\n",
       "      <td>27208</td>\n",
       "      <td>08/29/2018</td>\n",
       "      <td>5.0</td>\n",
       "      <td>27203.0</td>\n",
       "    </tr>\n",
       "    <tr>\n",
       "      <th>32777</th>\n",
       "      <td>JFK03</td>\n",
       "      <td>R536</td>\n",
       "      <td>00-00-05</td>\n",
       "      <td>JFK JAMAICA CT1</td>\n",
       "      <td>09/20/2018</td>\n",
       "      <td>41792</td>\n",
       "      <td>09/21/2018</td>\n",
       "      <td>668.0</td>\n",
       "      <td>41124.0</td>\n",
       "    </tr>\n",
       "    <tr>\n",
       "      <th>75169</th>\n",
       "      <td>N500</td>\n",
       "      <td>R020</td>\n",
       "      <td>00-00-00</td>\n",
       "      <td>47-50 STS ROCK</td>\n",
       "      <td>08/31/2018</td>\n",
       "      <td>27735</td>\n",
       "      <td>09/01/2018</td>\n",
       "      <td>1298.0</td>\n",
       "      <td>26437.0</td>\n",
       "    </tr>\n",
       "    <tr>\n",
       "      <th>90278</th>\n",
       "      <td>PTH01</td>\n",
       "      <td>R549</td>\n",
       "      <td>00-00-02</td>\n",
       "      <td>NEWARK HW BMEBE</td>\n",
       "      <td>09/20/2018</td>\n",
       "      <td>41955</td>\n",
       "      <td>09/21/2018</td>\n",
       "      <td>93.0</td>\n",
       "      <td>41862.0</td>\n",
       "    </tr>\n",
       "    <tr>\n",
       "      <th>92738</th>\n",
       "      <td>PTH04</td>\n",
       "      <td>R551</td>\n",
       "      <td>00-04-06</td>\n",
       "      <td>GROVE STREET</td>\n",
       "      <td>09/11/2018</td>\n",
       "      <td>31779</td>\n",
       "      <td>09/12/2018</td>\n",
       "      <td>0.0</td>\n",
       "      <td>31779.0</td>\n",
       "    </tr>\n",
       "    <tr>\n",
       "      <th>94180</th>\n",
       "      <td>PTH07</td>\n",
       "      <td>R550</td>\n",
       "      <td>00-00-04</td>\n",
       "      <td>CITY / BUS</td>\n",
       "      <td>08/20/2018</td>\n",
       "      <td>50112</td>\n",
       "      <td>08/21/2018</td>\n",
       "      <td>1016.0</td>\n",
       "      <td>49096.0</td>\n",
       "    </tr>\n",
       "    <tr>\n",
       "      <th>98015</th>\n",
       "      <td>PTH18</td>\n",
       "      <td>R549</td>\n",
       "      <td>01-00-04</td>\n",
       "      <td>NEWARK BM BW</td>\n",
       "      <td>08/21/2018</td>\n",
       "      <td>43911</td>\n",
       "      <td>08/22/2018</td>\n",
       "      <td>734.0</td>\n",
       "      <td>43177.0</td>\n",
       "    </tr>\n",
       "    <tr>\n",
       "      <th>98725</th>\n",
       "      <td>PTH19</td>\n",
       "      <td>R549</td>\n",
       "      <td>02-01-01</td>\n",
       "      <td>NEWARK C</td>\n",
       "      <td>08/31/2018</td>\n",
       "      <td>30583</td>\n",
       "      <td>09/01/2018</td>\n",
       "      <td>319.0</td>\n",
       "      <td>30264.0</td>\n",
       "    </tr>\n",
       "    <tr>\n",
       "      <th>117722</th>\n",
       "      <td>R192</td>\n",
       "      <td>R039</td>\n",
       "      <td>00-06-00</td>\n",
       "      <td>MARBLE HILL-225</td>\n",
       "      <td>09/14/2018</td>\n",
       "      <td>44920</td>\n",
       "      <td>09/15/2018</td>\n",
       "      <td>589978.0</td>\n",
       "      <td>44920.0</td>\n",
       "    </tr>\n",
       "  </tbody>\n",
       "</table>\n",
       "</div>"
      ],
      "text/plain": [
       "          C/A  UNIT       SCP          STATION        DATE  ENTRIES  \\\n",
       "32488   JFK02  R535  01-00-03   HOWARD BCH JFK  08/28/2018    27208   \n",
       "32777   JFK03  R536  00-00-05  JFK JAMAICA CT1  09/20/2018    41792   \n",
       "75169    N500  R020  00-00-00   47-50 STS ROCK  08/31/2018    27735   \n",
       "90278   PTH01  R549  00-00-02  NEWARK HW BMEBE  09/20/2018    41955   \n",
       "92738   PTH04  R551  00-04-06     GROVE STREET  09/11/2018    31779   \n",
       "94180   PTH07  R550  00-00-04       CITY / BUS  08/20/2018    50112   \n",
       "98015   PTH18  R549  01-00-04     NEWARK BM BW  08/21/2018    43911   \n",
       "98725   PTH19  R549  02-01-01         NEWARK C  08/31/2018    30583   \n",
       "117722   R192  R039  00-06-00  MARBLE HILL-225  09/14/2018    44920   \n",
       "\n",
       "          TOM_DATE  TOM_ENTRIES  DAILY_ENTRIES  \n",
       "32488   08/29/2018          5.0        27203.0  \n",
       "32777   09/21/2018        668.0        41124.0  \n",
       "75169   09/01/2018       1298.0        26437.0  \n",
       "90278   09/21/2018         93.0        41862.0  \n",
       "92738   09/12/2018          0.0        31779.0  \n",
       "94180   08/21/2018       1016.0        49096.0  \n",
       "98015   08/22/2018        734.0        43177.0  \n",
       "98725   09/01/2018        319.0        30264.0  \n",
       "117722  09/15/2018     589978.0        44920.0  "
      ]
     },
     "execution_count": 30,
     "metadata": {},
     "output_type": "execute_result"
    }
   ],
   "source": [
    "daily_df[daily_df['DAILY_ENTRIES'] > 25000]"
   ]
  },
  {
   "cell_type": "markdown",
   "metadata": {},
   "source": [
    "We see the majority of our turnstile counts below 1500 which seems reasonable for one turnstile per day. We have a few turnstiles over 25000 entries/day which seems unusual, but we can clear those later too if necessary."
   ]
  },
  {
   "cell_type": "markdown",
   "metadata": {},
   "source": [
    "#### Challenge 4\n",
    "\n",
    "We will plot the daily time series for a turnstile.\n",
    "\n",
    "In ipython notebook, add this to the beginning of your next cell:\n",
    "\n",
    "    %matplotlib inline\n",
    "\n",
    "This will make your matplotlib graphs integrate nicely with the\n",
    "notebook. To plot the time series, import matplotlib with\n",
    "\n",
    "    import matplotlib.pyplot as plt\n",
    "\n",
    "Extract a list of dates and a list of counts from the dataframe, \n",
    "dates and counts. This should plot it:\n",
    "\n",
    "    plt.figure(figsize=(10,3))\n",
    "    plt.plot(dates,counts)\n",
    "\n"
   ]
  },
  {
   "cell_type": "code",
   "execution_count": 31,
   "metadata": {},
   "outputs": [],
   "source": [
    "#imports\n",
    "%matplotlib inline\n",
    "import matplotlib.pyplot as plt\n",
    "import seaborn as sns\n",
    "sns.set()"
   ]
  },
  {
   "cell_type": "code",
   "execution_count": 32,
   "metadata": {},
   "outputs": [],
   "source": [
    "#isolate a single turnstile to answer challenge 4\n",
    "turnstile = ((daily_df['C/A']=='A002') &\n",
    "            (daily_df['UNIT']=='R051') &\n",
    "            (daily_df['SCP']=='02-00-00') &\n",
    "            (daily_df['STATION']=='59 ST'))"
   ]
  },
  {
   "cell_type": "code",
   "execution_count": 33,
   "metadata": {},
   "outputs": [
    {
     "data": {
      "image/png": "[encoded data removed]",
      "text/plain": [
       "<Figure size 1080x360 with 1 Axes>"
      ]
     },
     "metadata": {},
     "output_type": "display_data"
    }
   ],
   "source": [
    "#Generate the list of dates from the DataFrame\n",
    "#Generate a list of counts for the single turnstile\n",
    "#Plot\n",
    "dates = daily_df['DATE'].unique()\n",
    "counts = daily_df[turnstile]['DAILY_ENTRIES']\n",
    "plt.figure(figsize=(15,5))\n",
    "plt.plot(dates,counts)\n",
    "plt.xticks(dates, rotation='vertical')\n",
    "plt.title('Daily Entries for Single Turnstile on 59 ST. Aug. 8th - Sep. 20th 2018')\n",
    "plt.xlabel('Dates')\n",
    "plt.ylabel('Daily Entries');"
   ]
  },
  {
   "cell_type": "markdown",
   "metadata": {},
   "source": [
    "We see a major drop in daily entries on Saturday's and Sunday's. We see a major drop continue on a Monday(9/3), but that was Labor day so the dip makes sense."
   ]
  },
  {
   "cell_type": "markdown",
   "metadata": {},
   "source": [
    "#### Challenge 5\n",
    "\n",
    "- So far we've been operating on a single turnstile level, let's\n",
    "  combine turnstiles in the same ControlArea/Unit/Station combo. There\n",
    "  are some ControlArea/Unit/Station groups that have a single\n",
    "  turnstile, but most have multiple turnstilea-- same value for the\n",
    "  C/A, UNIT and STATION columns, different values for the SCP column.\n",
    "\n",
    "We want to combine the numbers together -- for each\n",
    "ControlArea/UNIT/STATION combo, for each day, add the counts from each\n",
    "turnstile belonging to that combo."
   ]
  },
  {
   "cell_type": "code",
   "execution_count": 34,
   "metadata": {},
   "outputs": [
    {
     "data": {
      "text/html": [
       "<div>\n",
       "<style scoped>\n",
       "    .dataframe tbody tr th:only-of-type {\n",
       "        vertical-align: middle;\n",
       "    }\n",
       "\n",
       "    .dataframe tbody tr th {\n",
       "        vertical-align: top;\n",
       "    }\n",
       "\n",
       "    .dataframe thead th {\n",
       "        text-align: right;\n",
       "    }\n",
       "</style>\n",
       "<table border=\"1\" class=\"dataframe\">\n",
       "  <thead>\n",
       "    <tr style=\"text-align: right;\">\n",
       "      <th></th>\n",
       "      <th>C/A</th>\n",
       "      <th>UNIT</th>\n",
       "      <th>STATION</th>\n",
       "      <th>DATE</th>\n",
       "      <th>DAILY_ENTRIES</th>\n",
       "    </tr>\n",
       "  </thead>\n",
       "  <tbody>\n",
       "    <tr>\n",
       "      <th>0</th>\n",
       "      <td>A002</td>\n",
       "      <td>R051</td>\n",
       "      <td>59 ST</td>\n",
       "      <td>08/18/2018</td>\n",
       "      <td>7819.0</td>\n",
       "    </tr>\n",
       "    <tr>\n",
       "      <th>1</th>\n",
       "      <td>A002</td>\n",
       "      <td>R051</td>\n",
       "      <td>59 ST</td>\n",
       "      <td>08/19/2018</td>\n",
       "      <td>6263.0</td>\n",
       "    </tr>\n",
       "    <tr>\n",
       "      <th>2</th>\n",
       "      <td>A002</td>\n",
       "      <td>R051</td>\n",
       "      <td>59 ST</td>\n",
       "      <td>08/20/2018</td>\n",
       "      <td>11757.0</td>\n",
       "    </tr>\n",
       "    <tr>\n",
       "      <th>3</th>\n",
       "      <td>A002</td>\n",
       "      <td>R051</td>\n",
       "      <td>59 ST</td>\n",
       "      <td>08/21/2018</td>\n",
       "      <td>12459.0</td>\n",
       "    </tr>\n",
       "    <tr>\n",
       "      <th>4</th>\n",
       "      <td>A002</td>\n",
       "      <td>R051</td>\n",
       "      <td>59 ST</td>\n",
       "      <td>08/22/2018</td>\n",
       "      <td>12734.0</td>\n",
       "    </tr>\n",
       "  </tbody>\n",
       "</table>\n",
       "</div>"
      ],
      "text/plain": [
       "    C/A  UNIT STATION        DATE  DAILY_ENTRIES\n",
       "0  A002  R051   59 ST  08/18/2018         7819.0\n",
       "1  A002  R051   59 ST  08/19/2018         6263.0\n",
       "2  A002  R051   59 ST  08/20/2018        11757.0\n",
       "3  A002  R051   59 ST  08/21/2018        12459.0\n",
       "4  A002  R051   59 ST  08/22/2018        12734.0"
      ]
     },
     "execution_count": 34,
     "metadata": {},
     "output_type": "execute_result"
    }
   ],
   "source": [
    "#Groupby ControlArea/UNIT/STATION and sum the counts from each turnstile within the combo per day\n",
    "combined_counts = daily_df.groupby(['C/A','UNIT','STATION','DATE'], as_index=False)['DAILY_ENTRIES'].sum()\n",
    "combined_counts.head()"
   ]
  },
  {
   "cell_type": "markdown",
   "metadata": {},
   "source": [
    "#### Challenge 6\n",
    "\n",
    "Similarly, combine everything in each station, and come up with a time\n",
    "series of `[(date1, count1),(date2,count2),...]` type of time series\n",
    "for each STATION, by adding up all the turnstiles in a station."
   ]
  },
  {
   "cell_type": "code",
   "execution_count": 35,
   "metadata": {},
   "outputs": [
    {
     "data": {
      "text/plain": [
       "STATION  DATE      \n",
       "1 AV     08/18/2018    12719.0\n",
       "         08/19/2018    10274.0\n",
       "         08/20/2018    17181.0\n",
       "         08/21/2018    18318.0\n",
       "         08/22/2018    18776.0\n",
       "Name: DAILY_ENTRIES, dtype: float64"
      ]
     },
     "execution_count": 35,
     "metadata": {},
     "output_type": "execute_result"
    }
   ],
   "source": [
    "#Same approach, combine by station\n",
    "station_counts = daily_df.groupby(['STATION','DATE'])['DAILY_ENTRIES'].sum()\n",
    "station_counts.head()"
   ]
  },
  {
   "cell_type": "markdown",
   "metadata": {},
   "source": [
    "#### Challenge 7\n",
    "\n",
    "Plot the time series for a station."
   ]
  },
  {
   "cell_type": "code",
   "execution_count": 36,
   "metadata": {},
   "outputs": [
    {
     "data": {
      "image/png": "[encoded data removed]",
      "text/plain": [
       "<Figure size 1080x360 with 1 Axes>"
      ]
     },
     "metadata": {},
     "output_type": "display_data"
    }
   ],
   "source": [
    "#Generate a list of dates and select 1st av station from the station_counts and plot\n",
    "dates = daily_df['DATE'].unique()\n",
    "station = station_counts['1 AV']\n",
    "plt.figure(figsize=(15,5))\n",
    "plt.plot(dates,station)\n",
    "plt.xticks(dates, rotation='vertical')\n",
    "plt.xlabel('Dates')\n",
    "plt.ylabel('Daily Riders')\n",
    "plt.title('1st Ave Station Aug 18 - Sep 20 2018');"
   ]
  },
  {
   "cell_type": "markdown",
   "metadata": {},
   "source": [
    "#### Challenge 8\n",
    "\n",
    "- Make one list of counts for **one** week for one station. Monday's\n",
    "count, Tuesday's count, etc. so it's a list of 7 counts.\n",
    "Make the same list for another week, and another week, and another\n",
    "week.\n",
    "`plt.plot(week_count_list)` for every `week_count_list` you created\n",
    "this way. You should get a rainbow plot of weekly commute numbers on\n",
    "top of each other.\n"
   ]
  },
  {
   "cell_type": "code",
   "execution_count": 37,
   "metadata": {},
   "outputs": [
    {
     "data": {
      "text/plain": [
       "array(['08/18/2018', '08/19/2018', '08/20/2018', '08/21/2018',\n",
       "       '08/22/2018', '08/23/2018', '08/24/2018', '08/25/2018',\n",
       "       '08/26/2018', '08/27/2018', '08/28/2018', '08/29/2018',\n",
       "       '08/30/2018', '08/31/2018', '09/01/2018', '09/02/2018',\n",
       "       '09/03/2018', '09/04/2018', '09/05/2018', '09/06/2018',\n",
       "       '09/07/2018', '09/08/2018', '09/09/2018', '09/10/2018',\n",
       "       '09/11/2018', '09/12/2018', '09/13/2018', '09/14/2018',\n",
       "       '09/15/2018', '09/16/2018', '09/17/2018', '09/18/2018',\n",
       "       '09/19/2018', '09/20/2018'], dtype=object)"
      ]
     },
     "execution_count": 37,
     "metadata": {},
     "output_type": "execute_result"
    }
   ],
   "source": [
    "#Check which dates we're working with\n",
    "dates = daily_df['DATE'].unique()\n",
    "dates"
   ]
  },
  {
   "cell_type": "code",
   "execution_count": 38,
   "metadata": {},
   "outputs": [],
   "source": [
    "#Create four lists, each containing the counts for one week (Mon-Sun) for one station\n",
    "station = station_counts['1 AV']\n",
    "week_one = station[2:9].values\n",
    "week_two = station[9:16].values\n",
    "week_three = station[16:23].values\n",
    "week_four = station[23:30].values"
   ]
  },
  {
   "cell_type": "code",
   "execution_count": 39,
   "metadata": {},
   "outputs": [
    {
     "data": {
      "image/png": "[encoded data removed]",
      "text/plain": [
       "<Figure size 1080x360 with 1 Axes>"
      ]
     },
     "metadata": {},
     "output_type": "display_data"
    }
   ],
   "source": [
    "#Plot each list on the same axs, Label each day of the week\n",
    "plt.figure(figsize=(15,5))\n",
    "plt.plot(week_one)\n",
    "plt.plot(week_two)\n",
    "plt.plot(week_three)\n",
    "plt.plot(week_four)\n",
    "plt.xticks(range(7),['MONDAY','TUESDAY','WEDNESDAY','THURSDAY','FRIDAY','SATURDAY','SUNDAY'])\n",
    "plt.title('First Ave Station Daily Counts Aug. 20th - Sep. 16th 2018')\n",
    "plt.xlabel('Day of Week')\n",
    "plt.ylabel('Daily Entries')\n",
    "plt.legend(['Week1','Week2','Week3','Week4']);"
   ]
  },
  {
   "cell_type": "markdown",
   "metadata": {},
   "source": [
    "Week 3 includes Labor day so it makes sense that Monday has a low count. Week 3 and Week 4 are also the first two weeks of September so that can also explain why they have larger counts than week 1 and 2."
   ]
  },
  {
   "cell_type": "markdown",
   "metadata": {},
   "source": [
    "#### Challenge 9\n",
    "\n",
    "- Over multiple weeks, sum total ridership for each station and sort\n",
    "  them, so you can find out the stations with the highest traffic\n",
    "  during the time you investigate"
   ]
  },
  {
   "cell_type": "code",
   "execution_count": 40,
   "metadata": {},
   "outputs": [
    {
     "data": {
      "text/plain": [
       "STATION\n",
       "1 AV             601986.0\n",
       "103 ST           852920.0\n",
       "103 ST-CORONA    551032.0\n",
       "104 ST            84339.0\n",
       "110 ST           292941.0\n",
       "Name: DAILY_ENTRIES, dtype: float64"
      ]
     },
     "execution_count": 40,
     "metadata": {},
     "output_type": "execute_result"
    }
   ],
   "source": [
    "#Create a new series using all daily entries per station for all dates\n",
    "station_totals = station_counts.groupby('STATION').sum()\n",
    "station_totals.head()"
   ]
  },
  {
   "cell_type": "code",
   "execution_count": 41,
   "metadata": {},
   "outputs": [
    {
     "data": {
      "text/plain": [
       "STATION\n",
       "34 ST-PENN STA     4609927.0\n",
       "GRD CNTRL-42 ST    4069279.0\n",
       "34 ST-HERALD SQ    3486934.0\n",
       "TIMES SQ-42 ST     3008599.0\n",
       "42 ST-PORT AUTH    2978255.0\n",
       "14 ST-UNION SQ     2976965.0\n",
       "23 ST              2885734.0\n",
       "FULTON ST          2748991.0\n",
       "CANAL ST           2299390.0\n",
       "125 ST             2244771.0\n",
       "Name: DAILY_ENTRIES, dtype: float64"
      ]
     },
     "execution_count": 41,
     "metadata": {},
     "output_type": "execute_result"
    }
   ],
   "source": [
    "#Sort by highest counts over time period to find most popular stations\n",
    "station_totals.sort_values(ascending=False).head(10)"
   ]
  },
  {
   "cell_type": "markdown",
   "metadata": {},
   "source": [
    "#### Challenge 10\n",
    "\n",
    "- Make a single list of these total ridership values and plot it with\n",
    "\n",
    "    plt.hist(total_ridership_counts)\n",
    "\n",
    "to get an idea about the distribution of total ridership among\n",
    "different stations.\n",
    "\n",
    "This should show you that most stations have a small traffic, and the\n",
    "histogram bins for large traffic volumes have small bars.\n",
    "\n",
    "*Additional Hint*:\n",
    "\n",
    "If you want to see which stations take the meat of the traffic, you\n",
    "can sort the total ridership counts and make a `plt.bar` graph. For\n",
    "this, you want to have two lists: the indices of each bar, and the\n",
    "values. The indices can just be `0,1,2,3,...`, so you can do\n",
    "\n",
    "    indices = range(len(total_ridership_values))\n",
    "    plt.bar(indices, total_ridership_values)\n"
   ]
  },
  {
   "cell_type": "code",
   "execution_count": 42,
   "metadata": {},
   "outputs": [
    {
     "data": {
      "image/png": "[encoded data removed]",
      "text/plain": [
       "<Figure size 432x288 with 1 Axes>"
      ]
     },
     "metadata": {},
     "output_type": "display_data"
    }
   ],
   "source": [
    "#Plot hist of the station totals\n",
    "total_ridership_counts = station_totals\n",
    "plt.hist(total_ridership_counts);"
   ]
  },
  {
   "cell_type": "code",
   "execution_count": 43,
   "metadata": {},
   "outputs": [
    {
     "data": {
      "image/png": "[encoded data removed]",
      "text/plain": [
       "<Figure size 1080x360 with 1 Axes>"
      ]
     },
     "metadata": {},
     "output_type": "display_data"
    }
   ],
   "source": [
    "#Sort station totals in descending order and select the top 20 to plot\n",
    "top_20_stations = station_totals.sort_values(ascending=False).head(20)\n",
    "plt.figure(figsize=(15,5))\n",
    "plt.bar(top_20_stations.index, top_20_stations)\n",
    "plt.xticks(rotation='vertical')\n",
    "plt.xlabel('Stations')\n",
    "plt.ylabel('Total Entries')\n",
    "plt.title('Top 20 Stations by Total Entries Aug 18th - Sep 20th 2018');"
   ]
  }
 ],
 "metadata": {
  "kernelspec": {
   "display_name": "Python 3",
   "language": "python",
   "name": "python3"
  },
  "language_info": {
   "codemirror_mode": {
    "name": "ipython",
    "version": 3
   },
   "file_extension": ".py",
   "mimetype": "text/x-python",
   "name": "python",
   "nbconvert_exporter": "python",
   "pygments_lexer": "ipython3",
   "version": "3.6.6"
  }
 },
 "nbformat": 4,
 "nbformat_minor": 2
}
