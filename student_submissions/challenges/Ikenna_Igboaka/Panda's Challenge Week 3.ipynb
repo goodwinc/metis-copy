{
 "cells": [
  {
   "cell_type": "markdown",
   "metadata": {},
   "source": [
    "**Pandas Challenges**\n",
    "\n",
    "\n",
    "**Topic**: Pandas (Exploring and visualizing our scraped movie data in pandas)\n",
    "\n",
    "Just getting started? Read this guide: [10 minutes to pandas](http://pandas.pydata.org/pandas-docs/stable/10min.html)\n",
    "\n",
    "**Data**: Your own data! But: if you don't have movie data to work on yet, you can use some data on the top grossing 100 movies from 2013, scraped from Box Office Mojo: `2013_movies.csv`\n",
    "\n",
    "\n",
    "---\n",
    "\n",
    "\n",
    "**Challenge 1**\n",
    "\n",
    "Plot domestic total gross over time.\n",
    "\n",
    "\n",
    "**Challenge 2**\n",
    "\n",
    "Plot runtime vs. domestic total gross.\n",
    "\n",
    "\n",
    "**Challenge 3**\n",
    "\n",
    "Group your data by Rating and find the average runtime and domestic total gross at each level of Rating.\n",
    "\n",
    "\n",
    "**Challenge 4**\n",
    "\n",
    "Make one figure with (N=the number of MPAA ratings there are) subplots, and in each plot the release date vs the domestic total gross.\n",
    "\n",
    "\n",
    "**Challenge 5**\n",
    "\n",
    "What director in your dataset has the highest gross per movie?\n",
    "\n",
    "\n",
    "**Challenge 6**\n",
    "\n",
    "Bin your dataset into months and make a bar graph of the mean domestic total gross by month.  Error bars will represent the standard error of the mean.\n",
    "\n",
    "Title of graph should include:  Mean Domestic Total Gross by Month in 2013\n",
    "\n",
    "Topic for consideration:  what is the correct formula for the standard error of the mean?  Examine the error bars and see if they are \"reasonable.\"\n"
   ]
  },
  {
   "cell_type": "code",
   "execution_count": 1,
   "metadata": {},
   "outputs": [
    {
     "name": "stdout",
     "output_type": "stream",
     "text": [
      "Using matplotlib backend: MacOSX\n",
      "Populating the interactive namespace from numpy and matplotlib\n"
     ]
    }
   ],
   "source": [
    "%pylab \n",
    "#imports matplotlib and numpy but not pandas\n",
    "import pandas as pd\n",
    "from collections import defaultdict\n",
    "%matplotlib inline\n",
    "plt.style.use('ggplot')\n",
    "import seaborn as sns"
   ]
  },
  {
   "cell_type": "code",
   "execution_count": 2,
   "metadata": {},
   "outputs": [],
   "source": [
    "with open('challenges_data/2013_movies.csv', 'r') as reader:\n",
    "    a = pd.read_csv(reader, index_col=False)"
   ]
  },
  {
   "cell_type": "code",
   "execution_count": 3,
   "metadata": {},
   "outputs": [],
   "source": [
    "df = pd.DataFrame(a, columns=['Title','Budget','DomesticTotalGross','Director','Rating','Runtime','ReleaseDate'])"
   ]
  },
  {
   "cell_type": "code",
   "execution_count": 4,
   "metadata": {},
   "outputs": [],
   "source": [
    "df['ReleaseDate'] = pd.to_datetime(df['ReleaseDate'], dayfirst=True, infer_datetime_format=True)"
   ]
  },
  {
   "cell_type": "code",
   "execution_count": 5,
   "metadata": {},
   "outputs": [
    {
     "data": {
      "text/html": [
       "<div>\n",
       "<style scoped>\n",
       "    .dataframe tbody tr th:only-of-type {\n",
       "        vertical-align: middle;\n",
       "    }\n",
       "\n",
       "    .dataframe tbody tr th {\n",
       "        vertical-align: top;\n",
       "    }\n",
       "\n",
       "    .dataframe thead th {\n",
       "        text-align: right;\n",
       "    }\n",
       "</style>\n",
       "<table border=\"1\" class=\"dataframe\">\n",
       "  <thead>\n",
       "    <tr style=\"text-align: right;\">\n",
       "      <th></th>\n",
       "      <th>Title</th>\n",
       "      <th>Budget</th>\n",
       "      <th>DomesticTotalGross</th>\n",
       "      <th>Director</th>\n",
       "      <th>Rating</th>\n",
       "      <th>Runtime</th>\n",
       "      <th>ReleaseDate</th>\n",
       "    </tr>\n",
       "  </thead>\n",
       "  <tbody>\n",
       "    <tr>\n",
       "      <th>0</th>\n",
       "      <td>The Hunger Games: Catching Fire</td>\n",
       "      <td>130000000.0</td>\n",
       "      <td>424668047</td>\n",
       "      <td>Francis Lawrence</td>\n",
       "      <td>PG-13</td>\n",
       "      <td>146</td>\n",
       "      <td>2013-11-22</td>\n",
       "    </tr>\n",
       "    <tr>\n",
       "      <th>1</th>\n",
       "      <td>Iron Man 3</td>\n",
       "      <td>200000000.0</td>\n",
       "      <td>409013994</td>\n",
       "      <td>Shane Black</td>\n",
       "      <td>PG-13</td>\n",
       "      <td>129</td>\n",
       "      <td>2013-05-03</td>\n",
       "    </tr>\n",
       "    <tr>\n",
       "      <th>2</th>\n",
       "      <td>Frozen</td>\n",
       "      <td>150000000.0</td>\n",
       "      <td>400738009</td>\n",
       "      <td>Chris BuckJennifer Lee</td>\n",
       "      <td>PG</td>\n",
       "      <td>108</td>\n",
       "      <td>2013-11-22</td>\n",
       "    </tr>\n",
       "    <tr>\n",
       "      <th>3</th>\n",
       "      <td>Despicable Me 2</td>\n",
       "      <td>76000000.0</td>\n",
       "      <td>368061265</td>\n",
       "      <td>Pierre CoffinChris Renaud</td>\n",
       "      <td>PG</td>\n",
       "      <td>98</td>\n",
       "      <td>2013-07-03</td>\n",
       "    </tr>\n",
       "    <tr>\n",
       "      <th>4</th>\n",
       "      <td>Man of Steel</td>\n",
       "      <td>225000000.0</td>\n",
       "      <td>291045518</td>\n",
       "      <td>Zack Snyder</td>\n",
       "      <td>PG-13</td>\n",
       "      <td>143</td>\n",
       "      <td>2013-06-14</td>\n",
       "    </tr>\n",
       "    <tr>\n",
       "      <th>5</th>\n",
       "      <td>Gravity</td>\n",
       "      <td>100000000.0</td>\n",
       "      <td>274092705</td>\n",
       "      <td>Alfonso Cuaron</td>\n",
       "      <td>PG-13</td>\n",
       "      <td>91</td>\n",
       "      <td>2013-10-04</td>\n",
       "    </tr>\n",
       "    <tr>\n",
       "      <th>6</th>\n",
       "      <td>Monsters University</td>\n",
       "      <td>NaN</td>\n",
       "      <td>268492764</td>\n",
       "      <td>Dan Scanlon</td>\n",
       "      <td>G</td>\n",
       "      <td>107</td>\n",
       "      <td>2013-06-21</td>\n",
       "    </tr>\n",
       "    <tr>\n",
       "      <th>7</th>\n",
       "      <td>The Hobbit: The Desolation of Smaug</td>\n",
       "      <td>NaN</td>\n",
       "      <td>258366855</td>\n",
       "      <td>Peter Jackson</td>\n",
       "      <td>PG-13</td>\n",
       "      <td>161</td>\n",
       "      <td>2013-12-13</td>\n",
       "    </tr>\n",
       "    <tr>\n",
       "      <th>8</th>\n",
       "      <td>Fast &amp; Furious 6</td>\n",
       "      <td>160000000.0</td>\n",
       "      <td>238679850</td>\n",
       "      <td>Justin Lin</td>\n",
       "      <td>PG-13</td>\n",
       "      <td>130</td>\n",
       "      <td>2013-05-24</td>\n",
       "    </tr>\n",
       "    <tr>\n",
       "      <th>9</th>\n",
       "      <td>Oz The Great and Powerful</td>\n",
       "      <td>215000000.0</td>\n",
       "      <td>234911825</td>\n",
       "      <td>Sam Raimi</td>\n",
       "      <td>PG</td>\n",
       "      <td>127</td>\n",
       "      <td>2013-03-08</td>\n",
       "    </tr>\n",
       "  </tbody>\n",
       "</table>\n",
       "</div>"
      ],
      "text/plain": [
       "                                 Title       Budget  DomesticTotalGross  \\\n",
       "0      The Hunger Games: Catching Fire  130000000.0           424668047   \n",
       "1                           Iron Man 3  200000000.0           409013994   \n",
       "2                               Frozen  150000000.0           400738009   \n",
       "3                      Despicable Me 2   76000000.0           368061265   \n",
       "4                         Man of Steel  225000000.0           291045518   \n",
       "5                              Gravity  100000000.0           274092705   \n",
       "6                  Monsters University          NaN           268492764   \n",
       "7  The Hobbit: The Desolation of Smaug          NaN           258366855   \n",
       "8                     Fast & Furious 6  160000000.0           238679850   \n",
       "9            Oz The Great and Powerful  215000000.0           234911825   \n",
       "\n",
       "                    Director Rating  Runtime ReleaseDate  \n",
       "0           Francis Lawrence  PG-13      146  2013-11-22  \n",
       "1                Shane Black  PG-13      129  2013-05-03  \n",
       "2     Chris BuckJennifer Lee     PG      108  2013-11-22  \n",
       "3  Pierre CoffinChris Renaud     PG       98  2013-07-03  \n",
       "4                Zack Snyder  PG-13      143  2013-06-14  \n",
       "5             Alfonso Cuaron  PG-13       91  2013-10-04  \n",
       "6                Dan Scanlon      G      107  2013-06-21  \n",
       "7              Peter Jackson  PG-13      161  2013-12-13  \n",
       "8                 Justin Lin  PG-13      130  2013-05-24  \n",
       "9                  Sam Raimi     PG      127  2013-03-08  "
      ]
     },
     "execution_count": 5,
     "metadata": {},
     "output_type": "execute_result"
    }
   ],
   "source": [
    "df.head(10)"
   ]
  },
  {
   "cell_type": "code",
   "execution_count": 6,
   "metadata": {},
   "outputs": [],
   "source": [
    "df.sort_values(by='ReleaseDate', inplace=True)"
   ]
  },
  {
   "cell_type": "markdown",
   "metadata": {},
   "source": [
    "Question 1:"
   ]
  },
  {
   "cell_type": "code",
   "execution_count": 7,
   "metadata": {},
   "outputs": [
    {
     "data": {
      "text/plain": [
       "[<matplotlib.lines.Line2D at 0x1a1423ec50>]"
      ]
     },
     "execution_count": 7,
     "metadata": {},
     "output_type": "execute_result"
    },
    {
     "data": {
      "image/png": "[encoded data removed]",
      "text/plain": [
       "<Figure size 432x288 with 1 Axes>"
      ]
     },
     "metadata": {},
     "output_type": "display_data"
    }
   ],
   "source": [
    "plt.plot(df['ReleaseDate'],df['DomesticTotalGross'])"
   ]
  },
  {
   "cell_type": "code",
   "execution_count": 8,
   "metadata": {},
   "outputs": [],
   "source": [
    "df.sort_values(by='Runtime', inplace=True)"
   ]
  },
  {
   "cell_type": "markdown",
   "metadata": {},
   "source": [
    "Question 2: "
   ]
  },
  {
   "cell_type": "code",
   "execution_count": 9,
   "metadata": {},
   "outputs": [
    {
     "data": {
      "text/plain": [
       "<BarContainer object of 100 artists>"
      ]
     },
     "execution_count": 9,
     "metadata": {},
     "output_type": "execute_result"
    },
    {
     "data": {
      "image/png": "[encoded data removed]",
      "text/plain": [
       "<Figure size 432x288 with 1 Axes>"
      ]
     },
     "metadata": {},
     "output_type": "display_data"
    }
   ],
   "source": [
    "plt.bar(df['Runtime'], df['DomesticTotalGross'])"
   ]
  },
  {
   "cell_type": "markdown",
   "metadata": {},
   "source": [
    "Question 3:"
   ]
  },
  {
   "cell_type": "code",
   "execution_count": 10,
   "metadata": {},
   "outputs": [
    {
     "data": {
      "text/html": [
       "<div>\n",
       "<style scoped>\n",
       "    .dataframe tbody tr th:only-of-type {\n",
       "        vertical-align: middle;\n",
       "    }\n",
       "\n",
       "    .dataframe tbody tr th {\n",
       "        vertical-align: top;\n",
       "    }\n",
       "\n",
       "    .dataframe thead th {\n",
       "        text-align: right;\n",
       "    }\n",
       "</style>\n",
       "<table border=\"1\" class=\"dataframe\">\n",
       "  <thead>\n",
       "    <tr style=\"text-align: right;\">\n",
       "      <th></th>\n",
       "      <th>Rating</th>\n",
       "      <th>Runtime</th>\n",
       "    </tr>\n",
       "  </thead>\n",
       "  <tbody>\n",
       "    <tr>\n",
       "      <th>0</th>\n",
       "      <td>G</td>\n",
       "      <td>107.000000</td>\n",
       "    </tr>\n",
       "    <tr>\n",
       "      <th>1</th>\n",
       "      <td>PG</td>\n",
       "      <td>99.933333</td>\n",
       "    </tr>\n",
       "    <tr>\n",
       "      <th>2</th>\n",
       "      <td>PG-13</td>\n",
       "      <td>117.510638</td>\n",
       "    </tr>\n",
       "    <tr>\n",
       "      <th>3</th>\n",
       "      <td>R</td>\n",
       "      <td>110.729730</td>\n",
       "    </tr>\n",
       "  </tbody>\n",
       "</table>\n",
       "</div>"
      ],
      "text/plain": [
       "  Rating     Runtime\n",
       "0      G  107.000000\n",
       "1     PG   99.933333\n",
       "2  PG-13  117.510638\n",
       "3      R  110.729730"
      ]
     },
     "execution_count": 10,
     "metadata": {},
     "output_type": "execute_result"
    }
   ],
   "source": [
    "(df.groupby(by=df['Rating']).Runtime.mean()).reset_index().head(10)"
   ]
  },
  {
   "cell_type": "code",
   "execution_count": 11,
   "metadata": {},
   "outputs": [],
   "source": [
    "df.sort_values(by='ReleaseDate', inplace=True)"
   ]
  },
  {
   "cell_type": "code",
   "execution_count": 12,
   "metadata": {},
   "outputs": [
    {
     "data": {
      "text/html": [
       "<div>\n",
       "<style scoped>\n",
       "    .dataframe tbody tr th:only-of-type {\n",
       "        vertical-align: middle;\n",
       "    }\n",
       "\n",
       "    .dataframe tbody tr th {\n",
       "        vertical-align: top;\n",
       "    }\n",
       "\n",
       "    .dataframe thead th {\n",
       "        text-align: right;\n",
       "    }\n",
       "</style>\n",
       "<table border=\"1\" class=\"dataframe\">\n",
       "  <thead>\n",
       "    <tr style=\"text-align: right;\">\n",
       "      <th></th>\n",
       "      <th>Rating</th>\n",
       "      <th>DomesticTotalGross</th>\n",
       "    </tr>\n",
       "  </thead>\n",
       "  <tbody>\n",
       "    <tr>\n",
       "      <th>0</th>\n",
       "      <td>G</td>\n",
       "      <td>2.684928e+08</td>\n",
       "    </tr>\n",
       "    <tr>\n",
       "      <th>1</th>\n",
       "      <td>PG</td>\n",
       "      <td>1.311357e+08</td>\n",
       "    </tr>\n",
       "    <tr>\n",
       "      <th>2</th>\n",
       "      <td>PG-13</td>\n",
       "      <td>1.114498e+08</td>\n",
       "    </tr>\n",
       "    <tr>\n",
       "      <th>3</th>\n",
       "      <td>R</td>\n",
       "      <td>6.989243e+07</td>\n",
       "    </tr>\n",
       "  </tbody>\n",
       "</table>\n",
       "</div>"
      ],
      "text/plain": [
       "  Rating  DomesticTotalGross\n",
       "0      G        2.684928e+08\n",
       "1     PG        1.311357e+08\n",
       "2  PG-13        1.114498e+08\n",
       "3      R        6.989243e+07"
      ]
     },
     "execution_count": 12,
     "metadata": {},
     "output_type": "execute_result"
    }
   ],
   "source": [
    "(df.groupby(by=df['Rating']).DomesticTotalGross.mean()).reset_index().head(10)"
   ]
  },
  {
   "cell_type": "markdown",
   "metadata": {},
   "source": [
    "Question 4:"
   ]
  },
  {
   "cell_type": "markdown",
   "metadata": {},
   "source": [
    "One Way"
   ]
  },
  {
   "cell_type": "code",
   "execution_count": 14,
   "metadata": {},
   "outputs": [
    {
     "data": {
      "text/plain": [
       "<matplotlib.legend.Legend at 0x1a200cc2e8>"
      ]
     },
     "execution_count": 14,
     "metadata": {},
     "output_type": "execute_result"
    },
    {
     "data": {
      "image/png": "[encoded data removed]",
      "text/plain": [
       "<Figure size 432x288 with 1 Axes>"
      ]
     },
     "metadata": {},
     "output_type": "display_data"
    },
    {
     "data": {
      "image/png": "[encoded data removed]",
      "text/plain": [
       "<Figure size 1080x648 with 1 Axes>"
      ]
     },
     "metadata": {},
     "output_type": "display_data"
    }
   ],
   "source": [
    "ax = plt.gca()\n",
    "fig = plt.figure(figsize=(15,9))\n",
    "labels = []\n",
    "for group_name, group in df.groupby(by='Rating'):\n",
    "    group.plot(x = 'ReleaseDate',y = 'DomesticTotalGross',title = 'By_Rating', label = group_name, ax = ax)\n",
    "    labels.append(group_name)\n",
    "plt.legend(labels, loc = 'best')"
   ]
  },
  {
   "cell_type": "markdown",
   "metadata": {},
   "source": [
    "Another Way"
   ]
  },
  {
   "cell_type": "code",
   "execution_count": 17,
   "metadata": {},
   "outputs": [],
   "source": [
    "group_pg   = df[df['Rating'] == \"PG\"]\n",
    "group_g   = df[df['Rating'] == \"G\"]\n",
    "group_pg13   = df[df['Rating'] == \"PG-13\"]\n",
    "group_R   = df[df['Rating'] == \"R\"]"
   ]
  },
  {
   "cell_type": "code",
   "execution_count": 39,
   "metadata": {},
   "outputs": [
    {
     "data": {
      "text/plain": [
       "<matplotlib.axes._subplots.AxesSubplot at 0x1a22536518>"
      ]
     },
     "execution_count": 39,
     "metadata": {},
     "output_type": "execute_result"
    },
    {
     "data": {
      "image/png": "[encoded data removed]",
      "text/plain": [
       "<Figure size 648x648 with 4 Axes>"
      ]
     },
     "metadata": {},
     "output_type": "display_data"
    }
   ],
   "source": [
    "fig = plt.figure(figsize = (9,9))\n",
    "\n",
    "ax = plt.subplot(2,2,1)\n",
    "\n",
    "group_pg.plot(x = 'ReleaseDate', y = 'DomesticTotalGross', ax = ax, color = 'b')\n",
    "\n",
    "ax = plt.subplot(2,2,2)\n",
    "\n",
    "group_g.plot(x = 'ReleaseDate', y = 'DomesticTotalGross', ax = ax, color = 'y')\n",
    "\n",
    "ax = plt.subplot(2,2,3)\n",
    "\n",
    "group_pg13.plot(x = 'ReleaseDate', y = 'DomesticTotalGross', ax = ax, color = 'g')\n",
    "\n",
    "ax = plt.subplot(2,2,4)\n",
    "\n",
    "group_R.plot(x = 'ReleaseDate', y = 'DomesticTotalGross', ax = ax)"
   ]
  },
  {
   "cell_type": "code",
   "execution_count": 40,
   "metadata": {},
   "outputs": [
    {
     "ename": "KeyError",
     "evalue": "\"['2013-01-04T00:00:00.000000000' '2013-01-11T00:00:00.000000000'\\n '2013-01-11T00:00:00.000000000' '2013-01-18T00:00:00.000000000'\\n '2013-01-25T00:00:00.000000000' '2013-02-01T00:00:00.000000000'\\n '2013-02-08T00:00:00.000000000' '2013-02-08T00:00:00.000000000'\\n '2013-02-14T00:00:00.000000000' '2013-02-14T00:00:00.000000000'\\n '2013-02-15T00:00:00.000000000' '2013-02-22T00:00:00.000000000'\\n '2013-03-01T00:00:00.000000000' '2013-03-01T00:00:00.000000000'\\n '2013-03-08T00:00:00.000000000' '2013-03-15T00:00:00.000000000'\\n '2013-03-22T00:00:00.000000000' '2013-03-22T00:00:00.000000000'\\n '2013-03-28T00:00:00.000000000' '2013-03-29T00:00:00.000000000'\\n '2013-03-29T00:00:00.000000000' '2013-04-05T00:00:00.000000000'\\n '2013-04-05T00:00:00.000000000' '2013-04-12T00:00:00.000000000'\\n '2013-04-12T00:00:00.000000000' '2013-04-19T00:00:00.000000000'\\n '2013-04-26T00:00:00.000000000' '2013-05-03T00:00:00.000000000'\\n '2013-05-10T00:00:00.000000000' '2013-05-16T00:00:00.000000000'\\n '2013-05-23T00:00:00.000000000' '2013-05-24T00:00:00.000000000'\\n '2013-05-24T00:00:00.000000000' '2013-05-31T00:00:00.000000000'\\n '2013-05-31T00:00:00.000000000' '2013-06-07T00:00:00.000000000'\\n '2013-06-07T00:00:00.000000000' '2013-06-12T00:00:00.000000000'\\n '2013-06-14T00:00:00.000000000' '2013-06-21T00:00:00.000000000'\\n '2013-06-21T00:00:00.000000000' '2013-06-28T00:00:00.000000000'\\n '2013-06-28T00:00:00.000000000' '2013-07-03T00:00:00.000000000'\\n '2013-07-03T00:00:00.000000000' '2013-07-03T00:00:00.000000000'\\n '2013-07-12T00:00:00.000000000' '2013-07-12T00:00:00.000000000'\\n '2013-07-17T00:00:00.000000000' '2013-07-19T00:00:00.000000000'\\n '2013-07-19T00:00:00.000000000' '2013-07-19T00:00:00.000000000'\\n '2013-07-26T00:00:00.000000000' '2013-07-26T00:00:00.000000000'\\n '2013-07-31T00:00:00.000000000' '2013-08-02T00:00:00.000000000'\\n '2013-08-07T00:00:00.000000000' '2013-08-07T00:00:00.000000000'\\n '2013-08-09T00:00:00.000000000' '2013-08-09T00:00:00.000000000'\\n '2013-08-16T00:00:00.000000000' '2013-08-16T00:00:00.000000000'\\n '2013-08-21T00:00:00.000000000' '2013-08-23T00:00:00.000000000'\\n '2013-08-30T00:00:00.000000000' '2013-08-30T00:00:00.000000000'\\n '2013-09-06T00:00:00.000000000' '2013-09-13T00:00:00.000000000'\\n '2013-09-13T00:00:00.000000000' '2013-09-20T00:00:00.000000000'\\n '2013-09-20T00:00:00.000000000' '2013-09-27T00:00:00.000000000'\\n '2013-10-04T00:00:00.000000000' '2013-10-11T00:00:00.000000000'\\n '2013-10-18T00:00:00.000000000' '2013-10-18T00:00:00.000000000'\\n '2013-10-25T00:00:00.000000000' '2013-11-01T00:00:00.000000000'\\n '2013-11-01T00:00:00.000000000' '2013-11-01T00:00:00.000000000'\\n '2013-11-01T00:00:00.000000000' '2013-11-08T00:00:00.000000000'\\n '2013-11-15T00:00:00.000000000' '2013-11-22T00:00:00.000000000'\\n '2013-11-22T00:00:00.000000000' '2013-11-22T00:00:00.000000000'\\n '2013-11-22T00:00:00.000000000' '2013-12-13T00:00:00.000000000'\\n '2013-12-13T00:00:00.000000000' '2013-12-13T00:00:00.000000000'\\n '2013-12-13T00:00:00.000000000' '2013-12-18T00:00:00.000000000'\\n '2013-12-18T00:00:00.000000000' '2013-12-20T00:00:00.000000000'\\n '2013-12-25T00:00:00.000000000' '2013-12-25T00:00:00.000000000'\\n '2013-12-25T00:00:00.000000000' '2013-12-25T00:00:00.000000000'\\n '2013-12-25T00:00:00.000000000' '2013-12-27T00:00:00.000000000'] not in index\"",
     "output_type": "error",
     "traceback": [
      "\u001b[0;31m---------------------------------------------------------------------------\u001b[0m",
      "\u001b[0;31mKeyError\u001b[0m                                  Traceback (most recent call last)",
      "\u001b[0;32m<ipython-input-40-00b6de391245>\u001b[0m in \u001b[0;36m<module>\u001b[0;34m()\u001b[0m\n\u001b[1;32m      1\u001b[0m \u001b[0mfig\u001b[0m\u001b[0;34m,\u001b[0m\u001b[0max\u001b[0m \u001b[0;34m=\u001b[0m \u001b[0mplt\u001b[0m\u001b[0;34m.\u001b[0m\u001b[0msubplots\u001b[0m\u001b[0;34m(\u001b[0m\u001b[0mfigsize\u001b[0m\u001b[0;34m=\u001b[0m\u001b[0;34m(\u001b[0m\u001b[0;36m8\u001b[0m\u001b[0;34m,\u001b[0m\u001b[0;36m6\u001b[0m\u001b[0;34m)\u001b[0m\u001b[0;34m)\u001b[0m\u001b[0;34m\u001b[0m\u001b[0m\n\u001b[1;32m      2\u001b[0m \u001b[0mfig\u001b[0m\u001b[0;34m.\u001b[0m\u001b[0msubplots\u001b[0m\u001b[0;34m(\u001b[0m\u001b[0;36m2\u001b[0m\u001b[0;34m,\u001b[0m \u001b[0;36m2\u001b[0m\u001b[0;34m,\u001b[0m \u001b[0msharey\u001b[0m\u001b[0;34m=\u001b[0m\u001b[0;34m'row'\u001b[0m\u001b[0;34m)\u001b[0m\u001b[0;34m\u001b[0m\u001b[0m\n\u001b[0;32m----> 3\u001b[0;31m \u001b[0mplots\u001b[0m \u001b[0;34m=\u001b[0m \u001b[0mdf\u001b[0m\u001b[0;34m.\u001b[0m\u001b[0mplot\u001b[0m\u001b[0;34m(\u001b[0m\u001b[0mx\u001b[0m\u001b[0;34m=\u001b[0m\u001b[0mdf\u001b[0m\u001b[0;34m[\u001b[0m\u001b[0;34m'ReleaseDate'\u001b[0m\u001b[0;34m]\u001b[0m\u001b[0;34m,\u001b[0m \u001b[0my\u001b[0m\u001b[0;34m=\u001b[0m\u001b[0mdf\u001b[0m\u001b[0;34m[\u001b[0m\u001b[0;34m'DomesticTotalGross'\u001b[0m\u001b[0;34m]\u001b[0m\u001b[0;34m,\u001b[0m \u001b[0max\u001b[0m\u001b[0;34m=\u001b[0m\u001b[0max\u001b[0m\u001b[0;34m,\u001b[0m \u001b[0msharex\u001b[0m\u001b[0;34m=\u001b[0m \u001b[0;32mTrue\u001b[0m\u001b[0;34m)\u001b[0m\u001b[0;34m\u001b[0m\u001b[0m\n\u001b[0m",
      "\u001b[0;32m~/anaconda3/lib/python3.6/site-packages/pandas/plotting/_core.py\u001b[0m in \u001b[0;36m__call__\u001b[0;34m(self, x, y, kind, ax, subplots, sharex, sharey, layout, figsize, use_index, title, grid, legend, style, logx, logy, loglog, xticks, yticks, xlim, ylim, rot, fontsize, colormap, table, yerr, xerr, secondary_y, sort_columns, **kwds)\u001b[0m\n\u001b[1;32m   2939\u001b[0m                           \u001b[0mfontsize\u001b[0m\u001b[0;34m=\u001b[0m\u001b[0mfontsize\u001b[0m\u001b[0;34m,\u001b[0m \u001b[0mcolormap\u001b[0m\u001b[0;34m=\u001b[0m\u001b[0mcolormap\u001b[0m\u001b[0;34m,\u001b[0m \u001b[0mtable\u001b[0m\u001b[0;34m=\u001b[0m\u001b[0mtable\u001b[0m\u001b[0;34m,\u001b[0m\u001b[0;34m\u001b[0m\u001b[0m\n\u001b[1;32m   2940\u001b[0m                           \u001b[0myerr\u001b[0m\u001b[0;34m=\u001b[0m\u001b[0myerr\u001b[0m\u001b[0;34m,\u001b[0m \u001b[0mxerr\u001b[0m\u001b[0;34m=\u001b[0m\u001b[0mxerr\u001b[0m\u001b[0;34m,\u001b[0m \u001b[0msecondary_y\u001b[0m\u001b[0;34m=\u001b[0m\u001b[0msecondary_y\u001b[0m\u001b[0;34m,\u001b[0m\u001b[0;34m\u001b[0m\u001b[0m\n\u001b[0;32m-> 2941\u001b[0;31m                           sort_columns=sort_columns, **kwds)\n\u001b[0m\u001b[1;32m   2942\u001b[0m     \u001b[0m__call__\u001b[0m\u001b[0;34m.\u001b[0m\u001b[0m__doc__\u001b[0m \u001b[0;34m=\u001b[0m \u001b[0mplot_frame\u001b[0m\u001b[0;34m.\u001b[0m\u001b[0m__doc__\u001b[0m\u001b[0;34m\u001b[0m\u001b[0m\n\u001b[1;32m   2943\u001b[0m \u001b[0;34m\u001b[0m\u001b[0m\n",
      "\u001b[0;32m~/anaconda3/lib/python3.6/site-packages/pandas/plotting/_core.py\u001b[0m in \u001b[0;36mplot_frame\u001b[0;34m(data, x, y, kind, ax, subplots, sharex, sharey, layout, figsize, use_index, title, grid, legend, style, logx, logy, loglog, xticks, yticks, xlim, ylim, rot, fontsize, colormap, table, yerr, xerr, secondary_y, sort_columns, **kwds)\u001b[0m\n\u001b[1;32m   1975\u001b[0m                  \u001b[0myerr\u001b[0m\u001b[0;34m=\u001b[0m\u001b[0myerr\u001b[0m\u001b[0;34m,\u001b[0m \u001b[0mxerr\u001b[0m\u001b[0;34m=\u001b[0m\u001b[0mxerr\u001b[0m\u001b[0;34m,\u001b[0m\u001b[0;34m\u001b[0m\u001b[0m\n\u001b[1;32m   1976\u001b[0m                  \u001b[0msecondary_y\u001b[0m\u001b[0;34m=\u001b[0m\u001b[0msecondary_y\u001b[0m\u001b[0;34m,\u001b[0m \u001b[0msort_columns\u001b[0m\u001b[0;34m=\u001b[0m\u001b[0msort_columns\u001b[0m\u001b[0;34m,\u001b[0m\u001b[0;34m\u001b[0m\u001b[0m\n\u001b[0;32m-> 1977\u001b[0;31m                  **kwds)\n\u001b[0m\u001b[1;32m   1978\u001b[0m \u001b[0;34m\u001b[0m\u001b[0m\n\u001b[1;32m   1979\u001b[0m \u001b[0;34m\u001b[0m\u001b[0m\n",
      "\u001b[0;32m~/anaconda3/lib/python3.6/site-packages/pandas/plotting/_core.py\u001b[0m in \u001b[0;36m_plot\u001b[0;34m(data, x, y, subplots, ax, kind, **kwds)\u001b[0m\n\u001b[1;32m   1764\u001b[0m                 \u001b[0;32mif\u001b[0m \u001b[0mis_integer\u001b[0m\u001b[0;34m(\u001b[0m\u001b[0mx\u001b[0m\u001b[0;34m)\u001b[0m \u001b[0;32mand\u001b[0m \u001b[0;32mnot\u001b[0m \u001b[0mdata\u001b[0m\u001b[0;34m.\u001b[0m\u001b[0mcolumns\u001b[0m\u001b[0;34m.\u001b[0m\u001b[0mholds_integer\u001b[0m\u001b[0;34m(\u001b[0m\u001b[0;34m)\u001b[0m\u001b[0;34m:\u001b[0m\u001b[0;34m\u001b[0m\u001b[0m\n\u001b[1;32m   1765\u001b[0m                     \u001b[0mx\u001b[0m \u001b[0;34m=\u001b[0m \u001b[0mdata_cols\u001b[0m\u001b[0;34m[\u001b[0m\u001b[0mx\u001b[0m\u001b[0;34m]\u001b[0m\u001b[0;34m\u001b[0m\u001b[0m\n\u001b[0;32m-> 1766\u001b[0;31m                 \u001b[0;32melif\u001b[0m \u001b[0;32mnot\u001b[0m \u001b[0misinstance\u001b[0m\u001b[0;34m(\u001b[0m\u001b[0mdata\u001b[0m\u001b[0;34m[\u001b[0m\u001b[0mx\u001b[0m\u001b[0;34m]\u001b[0m\u001b[0;34m,\u001b[0m \u001b[0mABCSeries\u001b[0m\u001b[0;34m)\u001b[0m\u001b[0;34m:\u001b[0m\u001b[0;34m\u001b[0m\u001b[0m\n\u001b[0m\u001b[1;32m   1767\u001b[0m                     \u001b[0;32mraise\u001b[0m \u001b[0mValueError\u001b[0m\u001b[0;34m(\u001b[0m\u001b[0;34m\"x must be a label or position\"\u001b[0m\u001b[0;34m)\u001b[0m\u001b[0;34m\u001b[0m\u001b[0m\n\u001b[1;32m   1768\u001b[0m                 \u001b[0mdata\u001b[0m \u001b[0;34m=\u001b[0m \u001b[0mdata\u001b[0m\u001b[0;34m.\u001b[0m\u001b[0mset_index\u001b[0m\u001b[0;34m(\u001b[0m\u001b[0mx\u001b[0m\u001b[0;34m)\u001b[0m\u001b[0;34m\u001b[0m\u001b[0m\n",
      "\u001b[0;32m~/anaconda3/lib/python3.6/site-packages/pandas/core/frame.py\u001b[0m in \u001b[0;36m__getitem__\u001b[0;34m(self, key)\u001b[0m\n\u001b[1;32m   2677\u001b[0m         \u001b[0;32mif\u001b[0m \u001b[0misinstance\u001b[0m\u001b[0;34m(\u001b[0m\u001b[0mkey\u001b[0m\u001b[0;34m,\u001b[0m \u001b[0;34m(\u001b[0m\u001b[0mSeries\u001b[0m\u001b[0;34m,\u001b[0m \u001b[0mnp\u001b[0m\u001b[0;34m.\u001b[0m\u001b[0mndarray\u001b[0m\u001b[0;34m,\u001b[0m \u001b[0mIndex\u001b[0m\u001b[0;34m,\u001b[0m \u001b[0mlist\u001b[0m\u001b[0;34m)\u001b[0m\u001b[0;34m)\u001b[0m\u001b[0;34m:\u001b[0m\u001b[0;34m\u001b[0m\u001b[0m\n\u001b[1;32m   2678\u001b[0m             \u001b[0;31m# either boolean or fancy integer index\u001b[0m\u001b[0;34m\u001b[0m\u001b[0;34m\u001b[0m\u001b[0m\n\u001b[0;32m-> 2679\u001b[0;31m             \u001b[0;32mreturn\u001b[0m \u001b[0mself\u001b[0m\u001b[0;34m.\u001b[0m\u001b[0m_getitem_array\u001b[0m\u001b[0;34m(\u001b[0m\u001b[0mkey\u001b[0m\u001b[0;34m)\u001b[0m\u001b[0;34m\u001b[0m\u001b[0m\n\u001b[0m\u001b[1;32m   2680\u001b[0m         \u001b[0;32melif\u001b[0m \u001b[0misinstance\u001b[0m\u001b[0;34m(\u001b[0m\u001b[0mkey\u001b[0m\u001b[0;34m,\u001b[0m \u001b[0mDataFrame\u001b[0m\u001b[0;34m)\u001b[0m\u001b[0;34m:\u001b[0m\u001b[0;34m\u001b[0m\u001b[0m\n\u001b[1;32m   2681\u001b[0m             \u001b[0;32mreturn\u001b[0m \u001b[0mself\u001b[0m\u001b[0;34m.\u001b[0m\u001b[0m_getitem_frame\u001b[0m\u001b[0;34m(\u001b[0m\u001b[0mkey\u001b[0m\u001b[0;34m)\u001b[0m\u001b[0;34m\u001b[0m\u001b[0m\n",
      "\u001b[0;32m~/anaconda3/lib/python3.6/site-packages/pandas/core/frame.py\u001b[0m in \u001b[0;36m_getitem_array\u001b[0;34m(self, key)\u001b[0m\n\u001b[1;32m   2721\u001b[0m             \u001b[0;32mreturn\u001b[0m \u001b[0mself\u001b[0m\u001b[0;34m.\u001b[0m\u001b[0m_take\u001b[0m\u001b[0;34m(\u001b[0m\u001b[0mindexer\u001b[0m\u001b[0;34m,\u001b[0m \u001b[0maxis\u001b[0m\u001b[0;34m=\u001b[0m\u001b[0;36m0\u001b[0m\u001b[0;34m)\u001b[0m\u001b[0;34m\u001b[0m\u001b[0m\n\u001b[1;32m   2722\u001b[0m         \u001b[0;32melse\u001b[0m\u001b[0;34m:\u001b[0m\u001b[0;34m\u001b[0m\u001b[0m\n\u001b[0;32m-> 2723\u001b[0;31m             \u001b[0mindexer\u001b[0m \u001b[0;34m=\u001b[0m \u001b[0mself\u001b[0m\u001b[0;34m.\u001b[0m\u001b[0mloc\u001b[0m\u001b[0;34m.\u001b[0m\u001b[0m_convert_to_indexer\u001b[0m\u001b[0;34m(\u001b[0m\u001b[0mkey\u001b[0m\u001b[0;34m,\u001b[0m \u001b[0maxis\u001b[0m\u001b[0;34m=\u001b[0m\u001b[0;36m1\u001b[0m\u001b[0;34m)\u001b[0m\u001b[0;34m\u001b[0m\u001b[0m\n\u001b[0m\u001b[1;32m   2724\u001b[0m             \u001b[0;32mreturn\u001b[0m \u001b[0mself\u001b[0m\u001b[0;34m.\u001b[0m\u001b[0m_take\u001b[0m\u001b[0;34m(\u001b[0m\u001b[0mindexer\u001b[0m\u001b[0;34m,\u001b[0m \u001b[0maxis\u001b[0m\u001b[0;34m=\u001b[0m\u001b[0;36m1\u001b[0m\u001b[0;34m)\u001b[0m\u001b[0;34m\u001b[0m\u001b[0m\n\u001b[1;32m   2725\u001b[0m \u001b[0;34m\u001b[0m\u001b[0m\n",
      "\u001b[0;32m~/anaconda3/lib/python3.6/site-packages/pandas/core/indexing.py\u001b[0m in \u001b[0;36m_convert_to_indexer\u001b[0;34m(self, obj, axis, is_setter)\u001b[0m\n\u001b[1;32m   1325\u001b[0m                 \u001b[0;32mif\u001b[0m \u001b[0mmask\u001b[0m\u001b[0;34m.\u001b[0m\u001b[0many\u001b[0m\u001b[0;34m(\u001b[0m\u001b[0;34m)\u001b[0m\u001b[0;34m:\u001b[0m\u001b[0;34m\u001b[0m\u001b[0m\n\u001b[1;32m   1326\u001b[0m                     raise KeyError('{mask} not in index'\n\u001b[0;32m-> 1327\u001b[0;31m                                    .format(mask=objarr[mask]))\n\u001b[0m\u001b[1;32m   1328\u001b[0m \u001b[0;34m\u001b[0m\u001b[0m\n\u001b[1;32m   1329\u001b[0m                 \u001b[0;32mreturn\u001b[0m \u001b[0mcom\u001b[0m\u001b[0;34m.\u001b[0m\u001b[0m_values_from_object\u001b[0m\u001b[0;34m(\u001b[0m\u001b[0mindexer\u001b[0m\u001b[0;34m)\u001b[0m\u001b[0;34m\u001b[0m\u001b[0m\n",
      "\u001b[0;31mKeyError\u001b[0m: \"['2013-01-04T00:00:00.000000000' '2013-01-11T00:00:00.000000000'\\n '2013-01-11T00:00:00.000000000' '2013-01-18T00:00:00.000000000'\\n '2013-01-25T00:00:00.000000000' '2013-02-01T00:00:00.000000000'\\n '2013-02-08T00:00:00.000000000' '2013-02-08T00:00:00.000000000'\\n '2013-02-14T00:00:00.000000000' '2013-02-14T00:00:00.000000000'\\n '2013-02-15T00:00:00.000000000' '2013-02-22T00:00:00.000000000'\\n '2013-03-01T00:00:00.000000000' '2013-03-01T00:00:00.000000000'\\n '2013-03-08T00:00:00.000000000' '2013-03-15T00:00:00.000000000'\\n '2013-03-22T00:00:00.000000000' '2013-03-22T00:00:00.000000000'\\n '2013-03-28T00:00:00.000000000' '2013-03-29T00:00:00.000000000'\\n '2013-03-29T00:00:00.000000000' '2013-04-05T00:00:00.000000000'\\n '2013-04-05T00:00:00.000000000' '2013-04-12T00:00:00.000000000'\\n '2013-04-12T00:00:00.000000000' '2013-04-19T00:00:00.000000000'\\n '2013-04-26T00:00:00.000000000' '2013-05-03T00:00:00.000000000'\\n '2013-05-10T00:00:00.000000000' '2013-05-16T00:00:00.000000000'\\n '2013-05-23T00:00:00.000000000' '2013-05-24T00:00:00.000000000'\\n '2013-05-24T00:00:00.000000000' '2013-05-31T00:00:00.000000000'\\n '2013-05-31T00:00:00.000000000' '2013-06-07T00:00:00.000000000'\\n '2013-06-07T00:00:00.000000000' '2013-06-12T00:00:00.000000000'\\n '2013-06-14T00:00:00.000000000' '2013-06-21T00:00:00.000000000'\\n '2013-06-21T00:00:00.000000000' '2013-06-28T00:00:00.000000000'\\n '2013-06-28T00:00:00.000000000' '2013-07-03T00:00:00.000000000'\\n '2013-07-03T00:00:00.000000000' '2013-07-03T00:00:00.000000000'\\n '2013-07-12T00:00:00.000000000' '2013-07-12T00:00:00.000000000'\\n '2013-07-17T00:00:00.000000000' '2013-07-19T00:00:00.000000000'\\n '2013-07-19T00:00:00.000000000' '2013-07-19T00:00:00.000000000'\\n '2013-07-26T00:00:00.000000000' '2013-07-26T00:00:00.000000000'\\n '2013-07-31T00:00:00.000000000' '2013-08-02T00:00:00.000000000'\\n '2013-08-07T00:00:00.000000000' '2013-08-07T00:00:00.000000000'\\n '2013-08-09T00:00:00.000000000' '2013-08-09T00:00:00.000000000'\\n '2013-08-16T00:00:00.000000000' '2013-08-16T00:00:00.000000000'\\n '2013-08-21T00:00:00.000000000' '2013-08-23T00:00:00.000000000'\\n '2013-08-30T00:00:00.000000000' '2013-08-30T00:00:00.000000000'\\n '2013-09-06T00:00:00.000000000' '2013-09-13T00:00:00.000000000'\\n '2013-09-13T00:00:00.000000000' '2013-09-20T00:00:00.000000000'\\n '2013-09-20T00:00:00.000000000' '2013-09-27T00:00:00.000000000'\\n '2013-10-04T00:00:00.000000000' '2013-10-11T00:00:00.000000000'\\n '2013-10-18T00:00:00.000000000' '2013-10-18T00:00:00.000000000'\\n '2013-10-25T00:00:00.000000000' '2013-11-01T00:00:00.000000000'\\n '2013-11-01T00:00:00.000000000' '2013-11-01T00:00:00.000000000'\\n '2013-11-01T00:00:00.000000000' '2013-11-08T00:00:00.000000000'\\n '2013-11-15T00:00:00.000000000' '2013-11-22T00:00:00.000000000'\\n '2013-11-22T00:00:00.000000000' '2013-11-22T00:00:00.000000000'\\n '2013-11-22T00:00:00.000000000' '2013-12-13T00:00:00.000000000'\\n '2013-12-13T00:00:00.000000000' '2013-12-13T00:00:00.000000000'\\n '2013-12-13T00:00:00.000000000' '2013-12-18T00:00:00.000000000'\\n '2013-12-18T00:00:00.000000000' '2013-12-20T00:00:00.000000000'\\n '2013-12-25T00:00:00.000000000' '2013-12-25T00:00:00.000000000'\\n '2013-12-25T00:00:00.000000000' '2013-12-25T00:00:00.000000000'\\n '2013-12-25T00:00:00.000000000' '2013-12-27T00:00:00.000000000'] not in index\""
     ]
    },
    {
     "data": {
      "image/png": "[encoded data removed]",
      "text/plain": [
       "<Figure size 576x432 with 5 Axes>"
      ]
     },
     "metadata": {},
     "output_type": "display_data"
    }
   ],
   "source": [
    "fig,ax = plt.subplots(figsize=(8,6))\n",
    "fig.subplots(2, 2, sharey='row')\n",
    "plots = df.plot(x=df['ReleaseDate'], y=df['DomesticTotalGross'], ax=ax, sharex= True)"
   ]
  },
  {
   "cell_type": "code",
   "execution_count": null,
   "metadata": {},
   "outputs": [],
   "source": [
    "fig,ax = plt.subplots(figsize=(8,6))\n",
    "fig.subplots(2, 2, sharey='row')\n",
    "plots = df.plot(x=df['ReleaseDate'], y=df['DomesticTotalGross'], ax=ax, sharex= True)"
   ]
  },
  {
   "cell_type": "code",
   "execution_count": null,
   "metadata": {},
   "outputs": [],
   "source": []
  },
  {
   "cell_type": "code",
   "execution_count": null,
   "metadata": {},
   "outputs": [],
   "source": []
  },
  {
   "cell_type": "markdown",
   "metadata": {},
   "source": [
    "Question 5:"
   ]
  },
  {
   "cell_type": "code",
   "execution_count": 41,
   "metadata": {},
   "outputs": [],
   "source": [
    "a = pd.DataFrame(df.groupby('Director')['DomesticTotalGross'].mean().reindex())"
   ]
  },
  {
   "cell_type": "code",
   "execution_count": 42,
   "metadata": {},
   "outputs": [
    {
     "data": {
      "text/html": [
       "<div>\n",
       "<style scoped>\n",
       "    .dataframe tbody tr th:only-of-type {\n",
       "        vertical-align: middle;\n",
       "    }\n",
       "\n",
       "    .dataframe tbody tr th {\n",
       "        vertical-align: top;\n",
       "    }\n",
       "\n",
       "    .dataframe thead th {\n",
       "        text-align: right;\n",
       "    }\n",
       "</style>\n",
       "<table border=\"1\" class=\"dataframe\">\n",
       "  <thead>\n",
       "    <tr style=\"text-align: right;\">\n",
       "      <th></th>\n",
       "      <th>DomesticTotalGross</th>\n",
       "    </tr>\n",
       "    <tr>\n",
       "      <th>Director</th>\n",
       "      <th></th>\n",
       "    </tr>\n",
       "  </thead>\n",
       "  <tbody>\n",
       "    <tr>\n",
       "      <th>Francis Lawrence</th>\n",
       "      <td>424668047</td>\n",
       "    </tr>\n",
       "    <tr>\n",
       "      <th>Shane Black</th>\n",
       "      <td>409013994</td>\n",
       "    </tr>\n",
       "    <tr>\n",
       "      <th>Chris BuckJennifer Lee</th>\n",
       "      <td>400738009</td>\n",
       "    </tr>\n",
       "    <tr>\n",
       "      <th>Pierre CoffinChris Renaud</th>\n",
       "      <td>368061265</td>\n",
       "    </tr>\n",
       "    <tr>\n",
       "      <th>Zack Snyder</th>\n",
       "      <td>291045518</td>\n",
       "    </tr>\n",
       "    <tr>\n",
       "      <th>Alfonso Cuaron</th>\n",
       "      <td>274092705</td>\n",
       "    </tr>\n",
       "    <tr>\n",
       "      <th>Dan Scanlon</th>\n",
       "      <td>268492764</td>\n",
       "    </tr>\n",
       "    <tr>\n",
       "      <th>Peter Jackson</th>\n",
       "      <td>258366855</td>\n",
       "    </tr>\n",
       "    <tr>\n",
       "      <th>Justin Lin</th>\n",
       "      <td>238679850</td>\n",
       "    </tr>\n",
       "    <tr>\n",
       "      <th>Sam Raimi</th>\n",
       "      <td>234911825</td>\n",
       "    </tr>\n",
       "    <tr>\n",
       "      <th>J.J. Abrams</th>\n",
       "      <td>228778661</td>\n",
       "    </tr>\n",
       "    <tr>\n",
       "      <th>Alan Taylor</th>\n",
       "      <td>206362140</td>\n",
       "    </tr>\n",
       "    <tr>\n",
       "      <th>Marc Forster</th>\n",
       "      <td>202359711</td>\n",
       "    </tr>\n",
       "    <tr>\n",
       "      <th>Kirk De MiccoChris Sanders</th>\n",
       "      <td>187168425</td>\n",
       "    </tr>\n",
       "    <tr>\n",
       "      <th>Paul Feig</th>\n",
       "      <td>159582188</td>\n",
       "    </tr>\n",
       "    <tr>\n",
       "      <th>Rawson Marshall Thurber</th>\n",
       "      <td>150394119</td>\n",
       "    </tr>\n",
       "    <tr>\n",
       "      <th>David O. Russell</th>\n",
       "      <td>150117807</td>\n",
       "    </tr>\n",
       "    <tr>\n",
       "      <th>Baz Luhrmann</th>\n",
       "      <td>144840419</td>\n",
       "    </tr>\n",
       "    <tr>\n",
       "      <th>Seth Gordon</th>\n",
       "      <td>134506920</td>\n",
       "    </tr>\n",
       "    <tr>\n",
       "      <th>Dennis Dugan</th>\n",
       "      <td>133668525</td>\n",
       "    </tr>\n",
       "    <tr>\n",
       "      <th>James Mangold</th>\n",
       "      <td>132556852</td>\n",
       "    </tr>\n",
       "    <tr>\n",
       "      <th>Adam McKay</th>\n",
       "      <td>125168368</td>\n",
       "    </tr>\n",
       "    <tr>\n",
       "      <th>Peter Berg</th>\n",
       "      <td>125095601</td>\n",
       "    </tr>\n",
       "    <tr>\n",
       "      <th>Jon Chu</th>\n",
       "      <td>122523060</td>\n",
       "    </tr>\n",
       "    <tr>\n",
       "      <th>Louis Leterrier</th>\n",
       "      <td>117723989</td>\n",
       "    </tr>\n",
       "    <tr>\n",
       "      <th>Martin Scorsese</th>\n",
       "      <td>116900694</td>\n",
       "    </tr>\n",
       "    <tr>\n",
       "      <th>Lee Daniels</th>\n",
       "      <td>116632095</td>\n",
       "    </tr>\n",
       "    <tr>\n",
       "      <th>Todd Phillips</th>\n",
       "      <td>112200072</td>\n",
       "    </tr>\n",
       "    <tr>\n",
       "      <th>James Wan</th>\n",
       "      <td>110493294</td>\n",
       "    </tr>\n",
       "    <tr>\n",
       "      <th>Chris Wedge</th>\n",
       "      <td>107518682</td>\n",
       "    </tr>\n",
       "    <tr>\n",
       "      <th>...</th>\n",
       "      <td>...</td>\n",
       "    </tr>\n",
       "    <tr>\n",
       "      <th>Tyler Perry</th>\n",
       "      <td>52259354</td>\n",
       "    </tr>\n",
       "    <tr>\n",
       "      <th>Brad Anderson</th>\n",
       "      <td>51872378</td>\n",
       "    </tr>\n",
       "    <tr>\n",
       "      <th>Malcolm D. Lee</th>\n",
       "      <td>51270491</td>\n",
       "    </tr>\n",
       "    <tr>\n",
       "      <th>Michael Bay</th>\n",
       "      <td>49875291</td>\n",
       "    </tr>\n",
       "    <tr>\n",
       "      <th>Ruben Fleischer</th>\n",
       "      <td>46000903</td>\n",
       "    </tr>\n",
       "    <tr>\n",
       "      <th>Shawn Levy</th>\n",
       "      <td>44672764</td>\n",
       "    </tr>\n",
       "    <tr>\n",
       "      <th>Ric Roman Waugh</th>\n",
       "      <td>42930462</td>\n",
       "    </tr>\n",
       "    <tr>\n",
       "      <th>David Twohy</th>\n",
       "      <td>42025135</td>\n",
       "    </tr>\n",
       "    <tr>\n",
       "      <th>Michael Tiddes</th>\n",
       "      <td>40041683</td>\n",
       "    </tr>\n",
       "    <tr>\n",
       "      <th>Carl Rinsch</th>\n",
       "      <td>38362475</td>\n",
       "    </tr>\n",
       "    <tr>\n",
       "      <th>John Wells</th>\n",
       "      <td>37738810</td>\n",
       "    </tr>\n",
       "    <tr>\n",
       "      <th>Stephen Frears</th>\n",
       "      <td>37709979</td>\n",
       "    </tr>\n",
       "    <tr>\n",
       "      <th>Luc Besson</th>\n",
       "      <td>36918811</td>\n",
       "    </tr>\n",
       "    <tr>\n",
       "      <th>Barry CookNeil Nightingale</th>\n",
       "      <td>36076121</td>\n",
       "    </tr>\n",
       "    <tr>\n",
       "      <th>Kimberly Peirce</th>\n",
       "      <td>35266619</td>\n",
       "    </tr>\n",
       "    <tr>\n",
       "      <th>John Luessenhop</th>\n",
       "      <td>34341945</td>\n",
       "    </tr>\n",
       "    <tr>\n",
       "      <th>Robert Schwentke</th>\n",
       "      <td>33618855</td>\n",
       "    </tr>\n",
       "    <tr>\n",
       "      <th>Woody Allen</th>\n",
       "      <td>33405481</td>\n",
       "    </tr>\n",
       "    <tr>\n",
       "      <th>Steven Soderbergh</th>\n",
       "      <td>32172757</td>\n",
       "    </tr>\n",
       "    <tr>\n",
       "      <th>Harald Zwart</th>\n",
       "      <td>31165421</td>\n",
       "    </tr>\n",
       "    <tr>\n",
       "      <th>Ken Scott</th>\n",
       "      <td>30664106</td>\n",
       "    </tr>\n",
       "    <tr>\n",
       "      <th>Peter Segal</th>\n",
       "      <td>29807260</td>\n",
       "    </tr>\n",
       "    <tr>\n",
       "      <th>Morgan Spurlock</th>\n",
       "      <td>28873374</td>\n",
       "    </tr>\n",
       "    <tr>\n",
       "      <th>Jeff Wadlow</th>\n",
       "      <td>28795985</td>\n",
       "    </tr>\n",
       "    <tr>\n",
       "      <th>Jean-Marc Vallee</th>\n",
       "      <td>27298285</td>\n",
       "    </tr>\n",
       "    <tr>\n",
       "      <th>Ron Howard</th>\n",
       "      <td>26947624</td>\n",
       "    </tr>\n",
       "    <tr>\n",
       "      <th>Andrew Niccol</th>\n",
       "      <td>26627201</td>\n",
       "    </tr>\n",
       "    <tr>\n",
       "      <th>Edgar Wright</th>\n",
       "      <td>26004851</td>\n",
       "    </tr>\n",
       "    <tr>\n",
       "      <th>Jon LucasScott Moore</th>\n",
       "      <td>25682380</td>\n",
       "    </tr>\n",
       "    <tr>\n",
       "      <th>Spike Jonze</th>\n",
       "      <td>25568251</td>\n",
       "    </tr>\n",
       "  </tbody>\n",
       "</table>\n",
       "<p>93 rows × 1 columns</p>\n",
       "</div>"
      ],
      "text/plain": [
       "                            DomesticTotalGross\n",
       "Director                                      \n",
       "Francis Lawrence                     424668047\n",
       "Shane Black                          409013994\n",
       "Chris BuckJennifer Lee               400738009\n",
       "Pierre CoffinChris Renaud            368061265\n",
       "Zack Snyder                          291045518\n",
       "Alfonso Cuaron                       274092705\n",
       "Dan Scanlon                          268492764\n",
       "Peter Jackson                        258366855\n",
       "Justin Lin                           238679850\n",
       "Sam Raimi                            234911825\n",
       "J.J. Abrams                          228778661\n",
       "Alan Taylor                          206362140\n",
       "Marc Forster                         202359711\n",
       "Kirk De MiccoChris Sanders           187168425\n",
       "Paul Feig                            159582188\n",
       "Rawson Marshall Thurber              150394119\n",
       "David O. Russell                     150117807\n",
       "Baz Luhrmann                         144840419\n",
       "Seth Gordon                          134506920\n",
       "Dennis Dugan                         133668525\n",
       "James Mangold                        132556852\n",
       "Adam McKay                           125168368\n",
       "Peter Berg                           125095601\n",
       "Jon Chu                              122523060\n",
       "Louis Leterrier                      117723989\n",
       "Martin Scorsese                      116900694\n",
       "Lee Daniels                          116632095\n",
       "Todd Phillips                        112200072\n",
       "James Wan                            110493294\n",
       "Chris Wedge                          107518682\n",
       "...                                        ...\n",
       "Tyler Perry                           52259354\n",
       "Brad Anderson                         51872378\n",
       "Malcolm D. Lee                        51270491\n",
       "Michael Bay                           49875291\n",
       "Ruben Fleischer                       46000903\n",
       "Shawn Levy                            44672764\n",
       "Ric Roman Waugh                       42930462\n",
       "David Twohy                           42025135\n",
       "Michael Tiddes                        40041683\n",
       "Carl Rinsch                           38362475\n",
       "John Wells                            37738810\n",
       "Stephen Frears                        37709979\n",
       "Luc Besson                            36918811\n",
       "Barry CookNeil Nightingale            36076121\n",
       "Kimberly Peirce                       35266619\n",
       "John Luessenhop                       34341945\n",
       "Robert Schwentke                      33618855\n",
       "Woody Allen                           33405481\n",
       "Steven Soderbergh                     32172757\n",
       "Harald Zwart                          31165421\n",
       "Ken Scott                             30664106\n",
       "Peter Segal                           29807260\n",
       "Morgan Spurlock                       28873374\n",
       "Jeff Wadlow                           28795985\n",
       "Jean-Marc Vallee                      27298285\n",
       "Ron Howard                            26947624\n",
       "Andrew Niccol                         26627201\n",
       "Edgar Wright                          26004851\n",
       "Jon LucasScott Moore                  25682380\n",
       "Spike Jonze                           25568251\n",
       "\n",
       "[93 rows x 1 columns]"
      ]
     },
     "execution_count": 42,
     "metadata": {},
     "output_type": "execute_result"
    }
   ],
   "source": [
    "a.sort_values('DomesticTotalGross', ascending=False)"
   ]
  },
  {
   "cell_type": "markdown",
   "metadata": {},
   "source": [
    "Question 6:"
   ]
  },
  {
   "cell_type": "code",
   "execution_count": 43,
   "metadata": {},
   "outputs": [
    {
     "data": {
      "text/html": [
       "<div>\n",
       "<style scoped>\n",
       "    .dataframe tbody tr th:only-of-type {\n",
       "        vertical-align: middle;\n",
       "    }\n",
       "\n",
       "    .dataframe tbody tr th {\n",
       "        vertical-align: top;\n",
       "    }\n",
       "\n",
       "    .dataframe thead th {\n",
       "        text-align: right;\n",
       "    }\n",
       "</style>\n",
       "<table border=\"1\" class=\"dataframe\">\n",
       "  <thead>\n",
       "    <tr style=\"text-align: right;\">\n",
       "      <th></th>\n",
       "      <th>Title</th>\n",
       "      <th>Budget</th>\n",
       "      <th>DomesticTotalGross</th>\n",
       "      <th>Director</th>\n",
       "      <th>Rating</th>\n",
       "      <th>Runtime</th>\n",
       "      <th>ReleaseDate</th>\n",
       "    </tr>\n",
       "  </thead>\n",
       "  <tbody>\n",
       "    <tr>\n",
       "      <th>78</th>\n",
       "      <td>August: Osage County</td>\n",
       "      <td>NaN</td>\n",
       "      <td>37738810</td>\n",
       "      <td>John Wells</td>\n",
       "      <td>R</td>\n",
       "      <td>130</td>\n",
       "      <td>2013-12-27</td>\n",
       "    </tr>\n",
       "    <tr>\n",
       "      <th>27</th>\n",
       "      <td>The Wolf of Wall Street</td>\n",
       "      <td>100000000.0</td>\n",
       "      <td>116900694</td>\n",
       "      <td>Martin Scorsese</td>\n",
       "      <td>R</td>\n",
       "      <td>180</td>\n",
       "      <td>2013-12-25</td>\n",
       "    </tr>\n",
       "    <tr>\n",
       "      <th>23</th>\n",
       "      <td>Lone Survivor</td>\n",
       "      <td>40000000.0</td>\n",
       "      <td>125095601</td>\n",
       "      <td>Peter Berg</td>\n",
       "      <td>R</td>\n",
       "      <td>121</td>\n",
       "      <td>2013-12-25</td>\n",
       "    </tr>\n",
       "    <tr>\n",
       "      <th>77</th>\n",
       "      <td>47 Ronin</td>\n",
       "      <td>175000000.0</td>\n",
       "      <td>38362475</td>\n",
       "      <td>Carl Rinsch</td>\n",
       "      <td>PG-13</td>\n",
       "      <td>127</td>\n",
       "      <td>2013-12-25</td>\n",
       "    </tr>\n",
       "    <tr>\n",
       "      <th>91</th>\n",
       "      <td>Grudge Match</td>\n",
       "      <td>40000000.0</td>\n",
       "      <td>29807260</td>\n",
       "      <td>Peter Segal</td>\n",
       "      <td>PG-13</td>\n",
       "      <td>113</td>\n",
       "      <td>2013-12-25</td>\n",
       "    </tr>\n",
       "    <tr>\n",
       "      <th>59</th>\n",
       "      <td>The Secret Life of Walter Mitty</td>\n",
       "      <td>90000000.0</td>\n",
       "      <td>58236838</td>\n",
       "      <td>Ben Stiller</td>\n",
       "      <td>PG</td>\n",
       "      <td>114</td>\n",
       "      <td>2013-12-25</td>\n",
       "    </tr>\n",
       "    <tr>\n",
       "      <th>81</th>\n",
       "      <td>Walking with Dinosaurs</td>\n",
       "      <td>80000000.0</td>\n",
       "      <td>36076121</td>\n",
       "      <td>Barry CookNeil Nightingale</td>\n",
       "      <td>PG</td>\n",
       "      <td>87</td>\n",
       "      <td>2013-12-20</td>\n",
       "    </tr>\n",
       "    <tr>\n",
       "      <th>99</th>\n",
       "      <td>Her</td>\n",
       "      <td>23000000.0</td>\n",
       "      <td>25568251</td>\n",
       "      <td>Spike Jonze</td>\n",
       "      <td>R</td>\n",
       "      <td>120</td>\n",
       "      <td>2013-12-18</td>\n",
       "    </tr>\n",
       "    <tr>\n",
       "      <th>22</th>\n",
       "      <td>Anchorman 2: The Legend Continues</td>\n",
       "      <td>50000000.0</td>\n",
       "      <td>125168368</td>\n",
       "      <td>Adam McKay</td>\n",
       "      <td>PG-13</td>\n",
       "      <td>119</td>\n",
       "      <td>2013-12-18</td>\n",
       "    </tr>\n",
       "    <tr>\n",
       "      <th>7</th>\n",
       "      <td>The Hobbit: The Desolation of Smaug</td>\n",
       "      <td>NaN</td>\n",
       "      <td>258366855</td>\n",
       "      <td>Peter Jackson</td>\n",
       "      <td>PG-13</td>\n",
       "      <td>161</td>\n",
       "      <td>2013-12-13</td>\n",
       "    </tr>\n",
       "  </tbody>\n",
       "</table>\n",
       "</div>"
      ],
      "text/plain": [
       "                                  Title       Budget  DomesticTotalGross  \\\n",
       "78                 August: Osage County          NaN            37738810   \n",
       "27              The Wolf of Wall Street  100000000.0           116900694   \n",
       "23                        Lone Survivor   40000000.0           125095601   \n",
       "77                             47 Ronin  175000000.0            38362475   \n",
       "91                         Grudge Match   40000000.0            29807260   \n",
       "59      The Secret Life of Walter Mitty   90000000.0            58236838   \n",
       "81               Walking with Dinosaurs   80000000.0            36076121   \n",
       "99                                  Her   23000000.0            25568251   \n",
       "22    Anchorman 2: The Legend Continues   50000000.0           125168368   \n",
       "7   The Hobbit: The Desolation of Smaug          NaN           258366855   \n",
       "\n",
       "                      Director Rating  Runtime ReleaseDate  \n",
       "78                  John Wells      R      130  2013-12-27  \n",
       "27             Martin Scorsese      R      180  2013-12-25  \n",
       "23                  Peter Berg      R      121  2013-12-25  \n",
       "77                 Carl Rinsch  PG-13      127  2013-12-25  \n",
       "91                 Peter Segal  PG-13      113  2013-12-25  \n",
       "59                 Ben Stiller     PG      114  2013-12-25  \n",
       "81  Barry CookNeil Nightingale     PG       87  2013-12-20  \n",
       "99                 Spike Jonze      R      120  2013-12-18  \n",
       "22                  Adam McKay  PG-13      119  2013-12-18  \n",
       "7                Peter Jackson  PG-13      161  2013-12-13  "
      ]
     },
     "execution_count": 43,
     "metadata": {},
     "output_type": "execute_result"
    }
   ],
   "source": [
    "df.sort_values('ReleaseDate', ascending=False).head(10)"
   ]
  },
  {
   "cell_type": "code",
   "execution_count": 44,
   "metadata": {},
   "outputs": [],
   "source": [
    "df_monthly = df.set_index('ReleaseDate')"
   ]
  },
  {
   "cell_type": "code",
   "execution_count": 45,
   "metadata": {},
   "outputs": [],
   "source": [
    "df_mean = df_monthly['DomesticTotalGross'].resample('M').mean()\n",
    "df_error = df_monthly['DomesticTotalGross'].resample('M').std()"
   ]
  },
  {
   "cell_type": "code",
   "execution_count": 46,
   "metadata": {},
   "outputs": [],
   "source": [
    "df_mean = pd.DataFrame(df_mean)"
   ]
  },
  {
   "cell_type": "code",
   "execution_count": 47,
   "metadata": {},
   "outputs": [],
   "source": [
    "df_mean['STDGross'] = df_error"
   ]
  },
  {
   "cell_type": "code",
   "execution_count": 48,
   "metadata": {},
   "outputs": [
    {
     "data": {
      "text/html": [
       "<div>\n",
       "<style scoped>\n",
       "    .dataframe tbody tr th:only-of-type {\n",
       "        vertical-align: middle;\n",
       "    }\n",
       "\n",
       "    .dataframe tbody tr th {\n",
       "        vertical-align: top;\n",
       "    }\n",
       "\n",
       "    .dataframe thead th {\n",
       "        text-align: right;\n",
       "    }\n",
       "</style>\n",
       "<table border=\"1\" class=\"dataframe\">\n",
       "  <thead>\n",
       "    <tr style=\"text-align: right;\">\n",
       "      <th></th>\n",
       "      <th>DomesticTotalGross</th>\n",
       "      <th>STDGross</th>\n",
       "    </tr>\n",
       "    <tr>\n",
       "      <th>ReleaseDate</th>\n",
       "      <th></th>\n",
       "      <th></th>\n",
       "    </tr>\n",
       "  </thead>\n",
       "  <tbody>\n",
       "    <tr>\n",
       "      <th>2013-01-31</th>\n",
       "      <td>4.954324e+07</td>\n",
       "      <td>1.465947e+07</td>\n",
       "    </tr>\n",
       "    <tr>\n",
       "      <th>2013-02-28</th>\n",
       "      <td>6.738601e+07</td>\n",
       "      <td>3.283185e+07</td>\n",
       "    </tr>\n",
       "    <tr>\n",
       "      <th>2013-03-31</th>\n",
       "      <td>9.609710e+07</td>\n",
       "      <td>7.323942e+07</td>\n",
       "    </tr>\n",
       "  </tbody>\n",
       "</table>\n",
       "</div>"
      ],
      "text/plain": [
       "             DomesticTotalGross      STDGross\n",
       "ReleaseDate                                  \n",
       "2013-01-31         4.954324e+07  1.465947e+07\n",
       "2013-02-28         6.738601e+07  3.283185e+07\n",
       "2013-03-31         9.609710e+07  7.323942e+07"
      ]
     },
     "execution_count": 48,
     "metadata": {},
     "output_type": "execute_result"
    }
   ],
   "source": [
    "df_mean.head(3)"
   ]
  },
  {
   "cell_type": "code",
   "execution_count": 49,
   "metadata": {},
   "outputs": [],
   "source": [
    "df_mean['ReleaseDate'] = pd.to_datetime(df_mean.index)"
   ]
  },
  {
   "cell_type": "code",
   "execution_count": 50,
   "metadata": {},
   "outputs": [
    {
     "data": {
      "text/plain": [
       "pandas.core.series.Series"
      ]
     },
     "execution_count": 50,
     "metadata": {},
     "output_type": "execute_result"
    }
   ],
   "source": [
    "type(pd.to_datetime(df_mean['ReleaseDate'], yearfirst=True))"
   ]
  },
  {
   "cell_type": "code",
   "execution_count": 51,
   "metadata": {},
   "outputs": [
    {
     "ename": "SyntaxError",
     "evalue": "invalid syntax (<ipython-input-51-cdf5755d2035>, line 7)",
     "output_type": "error",
     "traceback": [
      "\u001b[0;36m  File \u001b[0;32m\"<ipython-input-51-cdf5755d2035>\"\u001b[0;36m, line \u001b[0;32m7\u001b[0m\n\u001b[0;31m    plt.xticks(list(range(1,13)))http://localhost:8888/notebooks/ds/metis/metisgh/nyc18_ds17/challenges/Panda's%20Challenge%20Week%203.ipynb#\u001b[0m\n\u001b[0m                                    ^\u001b[0m\n\u001b[0;31mSyntaxError\u001b[0m\u001b[0;31m:\u001b[0m invalid syntax\n"
     ]
    }
   ],
   "source": [
    "x = stat_month.Month\n",
    "y = stat_month.DomesticTotalGross['mean']\n",
    "e = stat_month.DomesticTotalGross['std']\n",
    "\n",
    "plt.figure(figsize=(10,5))\n",
    "plt.errorbar(x, y, e, linestyle='None', marker='^')\n",
    "plt.xticks(list(range(1,13)))http://localhost:8888/notebooks/ds/metis/metisgh/nyc18_ds17/challenges/Panda's%20Challenge%20Week%203.ipynb#\n",
    "plt.xlabel('Month')\n",
    "plt.ylabel('Average domestic total gross')\n",
    "plt.title('Average domestic total gross by month')\n",
    "plt.show()"
   ]
  },
  {
   "cell_type": "code",
   "execution_count": 52,
   "metadata": {},
   "outputs": [
    {
     "data": {
      "text/plain": [
       "Text(0.5,1,'Mean Domestic Total Gross by Month in 2013')"
      ]
     },
     "execution_count": 52,
     "metadata": {},
     "output_type": "execute_result"
    },
    {
     "data": {
      "image/png": "[encoded data removed]",
      "text/plain": [
       "<Figure size 432x288 with 1 Axes>"
      ]
     },
     "metadata": {},
     "output_type": "display_data"
    }
   ],
   "source": [
    "plt.errorbar(df_mean.index, df_mean['DomesticTotalGross'], yerr= df_mean['STDGross'])\n",
    "plt.title('Mean Domestic Total Gross by Month in 2013')"
   ]
  },
  {
   "cell_type": "markdown",
   "metadata": {},
   "source": [
    "There is heteroskedasticity"
   ]
  },
  {
   "cell_type": "code",
   "execution_count": null,
   "metadata": {},
   "outputs": [],
   "source": []
  },
  {
   "cell_type": "code",
   "execution_count": null,
   "metadata": {},
   "outputs": [],
   "source": []
  }
 ],
 "metadata": {
  "kernelspec": {
   "display_name": "Python 3",
   "language": "python",
   "name": "python3"
  },
  "language_info": {
   "codemirror_mode": {
    "name": "ipython",
    "version": 3
   },
   "file_extension": ".py",
   "mimetype": "text/x-python",
   "name": "python",
   "nbconvert_exporter": "python",
   "pygments_lexer": "ipython3",
   "version": "3.6.5"
  }
 },
 "nbformat": 4,
 "nbformat_minor": 2
}
