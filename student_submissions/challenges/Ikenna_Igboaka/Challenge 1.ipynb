{
 "cells": [
  {
   "cell_type": "markdown",
   "metadata": {},
   "source": [
    "# Benson Challenge \n",
    "## Question 1.) Pull in and concatenate data"
   ]
  },
  {
   "cell_type": "code",
   "execution_count": 387,
   "metadata": {},
   "outputs": [
    {
     "name": "stdout",
     "output_type": "stream",
     "text": [
      "Using matplotlib backend: MacOSX\n",
      "Populating the interactive namespace from numpy and matplotlib\n"
     ]
    }
   ],
   "source": [
    "%pylab \n",
    "import pandas as pd\n",
    "%matplotlib inline\n",
    "plt.style.use('ggplot')\n",
    "import glob\n",
    "import datetime as dt\n",
    "import seaborn as sns\n",
    "import os\n",
    "sns.set()"
   ]
  },
  {
   "cell_type": "markdown",
   "metadata": {},
   "source": [
    "Import glob and use regex to aggregate file names into a list. Read that list of paths with pandas, append to a list of lists and finally concatenate the contents into a Pandas dataframe "
   ]
  },
  {
   "cell_type": "code",
   "execution_count": 388,
   "metadata": {},
   "outputs": [],
   "source": [
    "path = r'/Users/ikennaigboaka/ds/metis/metisgh/nyc18_ds17/challenges/challenges_questions/01-mta/'\n",
    "all_files = glob.glob(path  + 'tur' + '*')\n",
    "all_files\n",
    "df = []\n",
    "for file in all_files: \n",
    "    df.append(pd.read_csv(file))\n",
    "df = pd.concat(df, ignore_index = True)"
   ]
  },
  {
   "cell_type": "markdown",
   "metadata": {},
   "source": [
    "Some cleaning of names. Pull column names and capitalize then strip whitespace. Print first 5 rows"
   ]
  },
  {
   "cell_type": "code",
   "execution_count": 389,
   "metadata": {},
   "outputs": [],
   "source": [
    "Capitalized_Headers = df.columns.str.capitalize().str.strip()\n",
    "df.columns = Capitalized_Headers"
   ]
  },
  {
   "cell_type": "markdown",
   "metadata": {},
   "source": [
    "## Question 2.) Create and formate a date time column\n",
    "\n",
    "Create new column which is date + time <p>\n",
    "Format this column using pandas datetime method"
   ]
  },
  {
   "cell_type": "code",
   "execution_count": 390,
   "metadata": {},
   "outputs": [
    {
     "data": {
      "text/html": [
       "<div>\n",
       "<style scoped>\n",
       "    .dataframe tbody tr th:only-of-type {\n",
       "        vertical-align: middle;\n",
       "    }\n",
       "\n",
       "    .dataframe tbody tr th {\n",
       "        vertical-align: top;\n",
       "    }\n",
       "\n",
       "    .dataframe thead th {\n",
       "        text-align: right;\n",
       "    }\n",
       "</style>\n",
       "<table border=\"1\" class=\"dataframe\">\n",
       "  <thead>\n",
       "    <tr style=\"text-align: right;\">\n",
       "      <th></th>\n",
       "      <th>C/a</th>\n",
       "      <th>Unit</th>\n",
       "      <th>Scp</th>\n",
       "      <th>Station</th>\n",
       "      <th>Linename</th>\n",
       "      <th>Division</th>\n",
       "      <th>Date</th>\n",
       "      <th>Time</th>\n",
       "      <th>Desc</th>\n",
       "      <th>Entries</th>\n",
       "      <th>Exits</th>\n",
       "      <th>Date_Time</th>\n",
       "    </tr>\n",
       "  </thead>\n",
       "  <tbody>\n",
       "    <tr>\n",
       "      <th>0</th>\n",
       "      <td>A002</td>\n",
       "      <td>R051</td>\n",
       "      <td>02-00-00</td>\n",
       "      <td>59 ST</td>\n",
       "      <td>NQR456W</td>\n",
       "      <td>BMT</td>\n",
       "      <td>08/25/2018</td>\n",
       "      <td>00:00:00</td>\n",
       "      <td>REGULAR</td>\n",
       "      <td>6736067</td>\n",
       "      <td>2283184</td>\n",
       "      <td>2018-08-25 00:00:00</td>\n",
       "    </tr>\n",
       "    <tr>\n",
       "      <th>1</th>\n",
       "      <td>A002</td>\n",
       "      <td>R051</td>\n",
       "      <td>02-00-00</td>\n",
       "      <td>59 ST</td>\n",
       "      <td>NQR456W</td>\n",
       "      <td>BMT</td>\n",
       "      <td>08/25/2018</td>\n",
       "      <td>04:00:00</td>\n",
       "      <td>REGULAR</td>\n",
       "      <td>6736087</td>\n",
       "      <td>2283188</td>\n",
       "      <td>2018-08-25 04:00:00</td>\n",
       "    </tr>\n",
       "    <tr>\n",
       "      <th>2</th>\n",
       "      <td>A002</td>\n",
       "      <td>R051</td>\n",
       "      <td>02-00-00</td>\n",
       "      <td>59 ST</td>\n",
       "      <td>NQR456W</td>\n",
       "      <td>BMT</td>\n",
       "      <td>08/25/2018</td>\n",
       "      <td>08:00:00</td>\n",
       "      <td>REGULAR</td>\n",
       "      <td>6736105</td>\n",
       "      <td>2283229</td>\n",
       "      <td>2018-08-25 08:00:00</td>\n",
       "    </tr>\n",
       "    <tr>\n",
       "      <th>3</th>\n",
       "      <td>A002</td>\n",
       "      <td>R051</td>\n",
       "      <td>02-00-00</td>\n",
       "      <td>59 ST</td>\n",
       "      <td>NQR456W</td>\n",
       "      <td>BMT</td>\n",
       "      <td>08/25/2018</td>\n",
       "      <td>12:00:00</td>\n",
       "      <td>REGULAR</td>\n",
       "      <td>6736180</td>\n",
       "      <td>2283314</td>\n",
       "      <td>2018-08-25 12:00:00</td>\n",
       "    </tr>\n",
       "    <tr>\n",
       "      <th>4</th>\n",
       "      <td>A002</td>\n",
       "      <td>R051</td>\n",
       "      <td>02-00-00</td>\n",
       "      <td>59 ST</td>\n",
       "      <td>NQR456W</td>\n",
       "      <td>BMT</td>\n",
       "      <td>08/25/2018</td>\n",
       "      <td>16:00:00</td>\n",
       "      <td>REGULAR</td>\n",
       "      <td>6736349</td>\n",
       "      <td>2283384</td>\n",
       "      <td>2018-08-25 16:00:00</td>\n",
       "    </tr>\n",
       "  </tbody>\n",
       "</table>\n",
       "</div>"
      ],
      "text/plain": [
       "    C/a  Unit       Scp Station Linename Division        Date      Time  \\\n",
       "0  A002  R051  02-00-00   59 ST  NQR456W      BMT  08/25/2018  00:00:00   \n",
       "1  A002  R051  02-00-00   59 ST  NQR456W      BMT  08/25/2018  04:00:00   \n",
       "2  A002  R051  02-00-00   59 ST  NQR456W      BMT  08/25/2018  08:00:00   \n",
       "3  A002  R051  02-00-00   59 ST  NQR456W      BMT  08/25/2018  12:00:00   \n",
       "4  A002  R051  02-00-00   59 ST  NQR456W      BMT  08/25/2018  16:00:00   \n",
       "\n",
       "      Desc  Entries    Exits           Date_Time  \n",
       "0  REGULAR  6736067  2283184 2018-08-25 00:00:00  \n",
       "1  REGULAR  6736087  2283188 2018-08-25 04:00:00  \n",
       "2  REGULAR  6736105  2283229 2018-08-25 08:00:00  \n",
       "3  REGULAR  6736180  2283314 2018-08-25 12:00:00  \n",
       "4  REGULAR  6736349  2283384 2018-08-25 16:00:00  "
      ]
     },
     "execution_count": 390,
     "metadata": {},
     "output_type": "execute_result"
    }
   ],
   "source": [
    "df = df.assign(Date_Time = lambda x: x['Date'] + ' ' + x['Time'])\n",
    "df['Date_Time'] = pd.to_datetime(df['Date_Time'], format=\"%m/%d/%Y %H:%M:%S\")\n",
    "df.head(5)"
   ]
  },
  {
   "cell_type": "markdown",
   "metadata": {},
   "source": [
    "## Question 3.) Create Data Frame with daily entries per turnstile\n",
    "\n",
    "Find a unique identifier by combining fields to make unique string <p>\n",
    "Group by this identifier <p>\n",
    "if tuly unique, then group by this identifier and then by days\n"
   ]
  },
  {
   "cell_type": "code",
   "execution_count": 391,
   "metadata": {},
   "outputs": [
    {
     "data": {
      "text/html": [
       "<div>\n",
       "<style scoped>\n",
       "    .dataframe tbody tr th:only-of-type {\n",
       "        vertical-align: middle;\n",
       "    }\n",
       "\n",
       "    .dataframe tbody tr th {\n",
       "        vertical-align: top;\n",
       "    }\n",
       "\n",
       "    .dataframe thead th {\n",
       "        text-align: right;\n",
       "    }\n",
       "</style>\n",
       "<table border=\"1\" class=\"dataframe\">\n",
       "  <thead>\n",
       "    <tr style=\"text-align: right;\">\n",
       "      <th></th>\n",
       "      <th>C/a</th>\n",
       "      <th>Unit</th>\n",
       "      <th>Scp</th>\n",
       "      <th>Station</th>\n",
       "      <th>Linename</th>\n",
       "      <th>Division</th>\n",
       "      <th>Date</th>\n",
       "      <th>Time</th>\n",
       "      <th>Desc</th>\n",
       "      <th>Entries</th>\n",
       "      <th>Exits</th>\n",
       "      <th>Date_Time</th>\n",
       "      <th>Turnstile_ID</th>\n",
       "    </tr>\n",
       "  </thead>\n",
       "  <tbody>\n",
       "    <tr>\n",
       "      <th>0</th>\n",
       "      <td>A002</td>\n",
       "      <td>R051</td>\n",
       "      <td>02-00-00</td>\n",
       "      <td>59 ST</td>\n",
       "      <td>NQR456W</td>\n",
       "      <td>BMT</td>\n",
       "      <td>08/25/2018</td>\n",
       "      <td>00:00:00</td>\n",
       "      <td>REGULAR</td>\n",
       "      <td>6736067</td>\n",
       "      <td>2283184</td>\n",
       "      <td>2018-08-25 00:00:00</td>\n",
       "      <td>59 STA002R05102-00-00</td>\n",
       "    </tr>\n",
       "    <tr>\n",
       "      <th>1</th>\n",
       "      <td>A002</td>\n",
       "      <td>R051</td>\n",
       "      <td>02-00-00</td>\n",
       "      <td>59 ST</td>\n",
       "      <td>NQR456W</td>\n",
       "      <td>BMT</td>\n",
       "      <td>08/25/2018</td>\n",
       "      <td>04:00:00</td>\n",
       "      <td>REGULAR</td>\n",
       "      <td>6736087</td>\n",
       "      <td>2283188</td>\n",
       "      <td>2018-08-25 04:00:00</td>\n",
       "      <td>59 STA002R05102-00-00</td>\n",
       "    </tr>\n",
       "    <tr>\n",
       "      <th>2</th>\n",
       "      <td>A002</td>\n",
       "      <td>R051</td>\n",
       "      <td>02-00-00</td>\n",
       "      <td>59 ST</td>\n",
       "      <td>NQR456W</td>\n",
       "      <td>BMT</td>\n",
       "      <td>08/25/2018</td>\n",
       "      <td>08:00:00</td>\n",
       "      <td>REGULAR</td>\n",
       "      <td>6736105</td>\n",
       "      <td>2283229</td>\n",
       "      <td>2018-08-25 08:00:00</td>\n",
       "      <td>59 STA002R05102-00-00</td>\n",
       "    </tr>\n",
       "    <tr>\n",
       "      <th>3</th>\n",
       "      <td>A002</td>\n",
       "      <td>R051</td>\n",
       "      <td>02-00-00</td>\n",
       "      <td>59 ST</td>\n",
       "      <td>NQR456W</td>\n",
       "      <td>BMT</td>\n",
       "      <td>08/25/2018</td>\n",
       "      <td>12:00:00</td>\n",
       "      <td>REGULAR</td>\n",
       "      <td>6736180</td>\n",
       "      <td>2283314</td>\n",
       "      <td>2018-08-25 12:00:00</td>\n",
       "      <td>59 STA002R05102-00-00</td>\n",
       "    </tr>\n",
       "    <tr>\n",
       "      <th>4</th>\n",
       "      <td>A002</td>\n",
       "      <td>R051</td>\n",
       "      <td>02-00-00</td>\n",
       "      <td>59 ST</td>\n",
       "      <td>NQR456W</td>\n",
       "      <td>BMT</td>\n",
       "      <td>08/25/2018</td>\n",
       "      <td>16:00:00</td>\n",
       "      <td>REGULAR</td>\n",
       "      <td>6736349</td>\n",
       "      <td>2283384</td>\n",
       "      <td>2018-08-25 16:00:00</td>\n",
       "      <td>59 STA002R05102-00-00</td>\n",
       "    </tr>\n",
       "  </tbody>\n",
       "</table>\n",
       "</div>"
      ],
      "text/plain": [
       "    C/a  Unit       Scp Station Linename Division        Date      Time  \\\n",
       "0  A002  R051  02-00-00   59 ST  NQR456W      BMT  08/25/2018  00:00:00   \n",
       "1  A002  R051  02-00-00   59 ST  NQR456W      BMT  08/25/2018  04:00:00   \n",
       "2  A002  R051  02-00-00   59 ST  NQR456W      BMT  08/25/2018  08:00:00   \n",
       "3  A002  R051  02-00-00   59 ST  NQR456W      BMT  08/25/2018  12:00:00   \n",
       "4  A002  R051  02-00-00   59 ST  NQR456W      BMT  08/25/2018  16:00:00   \n",
       "\n",
       "      Desc  Entries    Exits           Date_Time           Turnstile_ID  \n",
       "0  REGULAR  6736067  2283184 2018-08-25 00:00:00  59 STA002R05102-00-00  \n",
       "1  REGULAR  6736087  2283188 2018-08-25 04:00:00  59 STA002R05102-00-00  \n",
       "2  REGULAR  6736105  2283229 2018-08-25 08:00:00  59 STA002R05102-00-00  \n",
       "3  REGULAR  6736180  2283314 2018-08-25 12:00:00  59 STA002R05102-00-00  \n",
       "4  REGULAR  6736349  2283384 2018-08-25 16:00:00  59 STA002R05102-00-00  "
      ]
     },
     "execution_count": 391,
     "metadata": {},
     "output_type": "execute_result"
    }
   ],
   "source": [
    "df['Turnstile_ID'] = df['Station'] + df['C/a'] + df['Unit'] + df['Scp']\n",
    "df.head(5)"
   ]
  },
  {
   "cell_type": "code",
   "execution_count": 392,
   "metadata": {},
   "outputs": [
    {
     "data": {
      "text/html": [
       "<div>\n",
       "<style scoped>\n",
       "    .dataframe tbody tr th:only-of-type {\n",
       "        vertical-align: middle;\n",
       "    }\n",
       "\n",
       "    .dataframe tbody tr th {\n",
       "        vertical-align: top;\n",
       "    }\n",
       "\n",
       "    .dataframe thead th {\n",
       "        text-align: right;\n",
       "    }\n",
       "</style>\n",
       "<table border=\"1\" class=\"dataframe\">\n",
       "  <thead>\n",
       "    <tr style=\"text-align: right;\">\n",
       "      <th></th>\n",
       "      <th>Station</th>\n",
       "      <th>C/a</th>\n",
       "      <th>Unit</th>\n",
       "      <th>Scp</th>\n",
       "      <th>Date_Time</th>\n",
       "      <th>Entries</th>\n",
       "    </tr>\n",
       "  </thead>\n",
       "  <tbody>\n",
       "    <tr>\n",
       "      <th>3294188</th>\n",
       "      <td>WHITEHALL S-FRY</td>\n",
       "      <td>A060</td>\n",
       "      <td>R001</td>\n",
       "      <td>00-00-01</td>\n",
       "      <td>2018-09-14 05:00:00</td>\n",
       "      <td>2</td>\n",
       "    </tr>\n",
       "    <tr>\n",
       "      <th>639203</th>\n",
       "      <td>36 AV</td>\n",
       "      <td>R511</td>\n",
       "      <td>R091</td>\n",
       "      <td>00-00-00</td>\n",
       "      <td>2018-06-21 16:00:00</td>\n",
       "      <td>2</td>\n",
       "    </tr>\n",
       "    <tr>\n",
       "      <th>1269544</th>\n",
       "      <td>ASTORIA DITMARS</td>\n",
       "      <td>R515</td>\n",
       "      <td>R095</td>\n",
       "      <td>00-00-01</td>\n",
       "      <td>2018-08-07 16:00:00</td>\n",
       "      <td>2</td>\n",
       "    </tr>\n",
       "    <tr>\n",
       "      <th>3203448</th>\n",
       "      <td>UTICA AV</td>\n",
       "      <td>N120A</td>\n",
       "      <td>R153</td>\n",
       "      <td>01-06-00</td>\n",
       "      <td>2018-07-11 09:00:00</td>\n",
       "      <td>2</td>\n",
       "    </tr>\n",
       "    <tr>\n",
       "      <th>1268825</th>\n",
       "      <td>ASTORIA DITMARS</td>\n",
       "      <td>R515</td>\n",
       "      <td>R095</td>\n",
       "      <td>00-00-00</td>\n",
       "      <td>2018-08-08 04:00:00</td>\n",
       "      <td>2</td>\n",
       "    </tr>\n",
       "    <tr>\n",
       "      <th>3293466</th>\n",
       "      <td>WHITEHALL S-FRY</td>\n",
       "      <td>A060</td>\n",
       "      <td>R001</td>\n",
       "      <td>00-00-00</td>\n",
       "      <td>2018-09-14 05:00:00</td>\n",
       "      <td>2</td>\n",
       "    </tr>\n",
       "    <tr>\n",
       "      <th>1268823</th>\n",
       "      <td>ASTORIA DITMARS</td>\n",
       "      <td>R515</td>\n",
       "      <td>R095</td>\n",
       "      <td>00-00-00</td>\n",
       "      <td>2018-08-07 20:00:00</td>\n",
       "      <td>2</td>\n",
       "    </tr>\n",
       "    <tr>\n",
       "      <th>0</th>\n",
       "      <td>1 AV</td>\n",
       "      <td>H007</td>\n",
       "      <td>R248</td>\n",
       "      <td>00-00-00</td>\n",
       "      <td>2018-05-26 00:00:00</td>\n",
       "      <td>1</td>\n",
       "    </tr>\n",
       "    <tr>\n",
       "      <th>2230507</th>\n",
       "      <td>GRD CNTRL-42 ST</td>\n",
       "      <td>R238A</td>\n",
       "      <td>R046</td>\n",
       "      <td>02-03-01</td>\n",
       "      <td>2018-05-26 16:00:00</td>\n",
       "      <td>1</td>\n",
       "    </tr>\n",
       "    <tr>\n",
       "      <th>2230501</th>\n",
       "      <td>GRD CNTRL-42 ST</td>\n",
       "      <td>R238A</td>\n",
       "      <td>R046</td>\n",
       "      <td>02-03-00</td>\n",
       "      <td>2018-09-21 16:00:00</td>\n",
       "      <td>1</td>\n",
       "    </tr>\n",
       "  </tbody>\n",
       "</table>\n",
       "</div>"
      ],
      "text/plain": [
       "                 Station    C/a  Unit       Scp           Date_Time  Entries\n",
       "3294188  WHITEHALL S-FRY   A060  R001  00-00-01 2018-09-14 05:00:00        2\n",
       "639203             36 AV   R511  R091  00-00-00 2018-06-21 16:00:00        2\n",
       "1269544  ASTORIA DITMARS   R515  R095  00-00-01 2018-08-07 16:00:00        2\n",
       "3203448         UTICA AV  N120A  R153  01-06-00 2018-07-11 09:00:00        2\n",
       "1268825  ASTORIA DITMARS   R515  R095  00-00-00 2018-08-08 04:00:00        2\n",
       "3293466  WHITEHALL S-FRY   A060  R001  00-00-00 2018-09-14 05:00:00        2\n",
       "1268823  ASTORIA DITMARS   R515  R095  00-00-00 2018-08-07 20:00:00        2\n",
       "0                   1 AV   H007  R248  00-00-00 2018-05-26 00:00:00        1\n",
       "2230507  GRD CNTRL-42 ST  R238A  R046  02-03-01 2018-05-26 16:00:00        1\n",
       "2230501  GRD CNTRL-42 ST  R238A  R046  02-03-00 2018-09-21 16:00:00        1"
      ]
     },
     "execution_count": 392,
     "metadata": {},
     "output_type": "execute_result"
    }
   ],
   "source": [
    "(df.groupby(by=['Station','C/a','Unit','Scp','Date_Time']) \\\n",
    ".Entries.count().reset_index().sort_values('Entries', ascending = False)).head(10)"
   ]
  },
  {
   "cell_type": "markdown",
   "metadata": {},
   "source": [
    "7 entries with duplicates\n",
    "\n",
    "KILL RECOVR AUD\n"
   ]
  },
  {
   "cell_type": "code",
   "execution_count": 393,
   "metadata": {},
   "outputs": [
    {
     "data": {
      "text/html": [
       "<div>\n",
       "<style scoped>\n",
       "    .dataframe tbody tr th:only-of-type {\n",
       "        vertical-align: middle;\n",
       "    }\n",
       "\n",
       "    .dataframe tbody tr th {\n",
       "        vertical-align: top;\n",
       "    }\n",
       "\n",
       "    .dataframe thead th {\n",
       "        text-align: right;\n",
       "    }\n",
       "</style>\n",
       "<table border=\"1\" class=\"dataframe\">\n",
       "  <thead>\n",
       "    <tr style=\"text-align: right;\">\n",
       "      <th></th>\n",
       "      <th>C/a</th>\n",
       "      <th>Unit</th>\n",
       "      <th>Scp</th>\n",
       "      <th>Station</th>\n",
       "      <th>Linename</th>\n",
       "      <th>Division</th>\n",
       "      <th>Date</th>\n",
       "      <th>Time</th>\n",
       "      <th>Desc</th>\n",
       "      <th>Entries</th>\n",
       "      <th>Exits</th>\n",
       "      <th>Date_Time</th>\n",
       "      <th>Turnstile_ID</th>\n",
       "    </tr>\n",
       "  </thead>\n",
       "  <tbody>\n",
       "    <tr>\n",
       "      <th>208320</th>\n",
       "      <td>A060</td>\n",
       "      <td>R001</td>\n",
       "      <td>00-00-01</td>\n",
       "      <td>WHITEHALL S-FRY</td>\n",
       "      <td>R1W</td>\n",
       "      <td>BMT</td>\n",
       "      <td>09/14/2018</td>\n",
       "      <td>05:00:00</td>\n",
       "      <td>REGULAR</td>\n",
       "      <td>2969337</td>\n",
       "      <td>1965665</td>\n",
       "      <td>2018-09-14 05:00:00</td>\n",
       "      <td>WHITEHALL S-FRYA060R00100-00-01</td>\n",
       "    </tr>\n",
       "    <tr>\n",
       "      <th>208321</th>\n",
       "      <td>A060</td>\n",
       "      <td>R001</td>\n",
       "      <td>00-00-01</td>\n",
       "      <td>WHITEHALL S-FRY</td>\n",
       "      <td>R1W</td>\n",
       "      <td>BMT</td>\n",
       "      <td>09/14/2018</td>\n",
       "      <td>05:00:00</td>\n",
       "      <td>RECOVR AUD</td>\n",
       "      <td>2969335</td>\n",
       "      <td>1965665</td>\n",
       "      <td>2018-09-14 05:00:00</td>\n",
       "      <td>WHITEHALL S-FRYA060R00100-00-01</td>\n",
       "    </tr>\n",
       "  </tbody>\n",
       "</table>\n",
       "</div>"
      ],
      "text/plain": [
       "         C/a  Unit       Scp          Station Linename Division        Date  \\\n",
       "208320  A060  R001  00-00-01  WHITEHALL S-FRY      R1W      BMT  09/14/2018   \n",
       "208321  A060  R001  00-00-01  WHITEHALL S-FRY      R1W      BMT  09/14/2018   \n",
       "\n",
       "            Time        Desc  Entries    Exits           Date_Time  \\\n",
       "208320  05:00:00     REGULAR  2969337  1965665 2018-09-14 05:00:00   \n",
       "208321  05:00:00  RECOVR AUD  2969335  1965665 2018-09-14 05:00:00   \n",
       "\n",
       "                           Turnstile_ID  \n",
       "208320  WHITEHALL S-FRYA060R00100-00-01  \n",
       "208321  WHITEHALL S-FRYA060R00100-00-01  "
      ]
     },
     "execution_count": 393,
     "metadata": {},
     "output_type": "execute_result"
    }
   ],
   "source": [
    "identifier = ((df[\"Unit\"] == \"R001\") & \n",
    "(df[\"Station\"] == \"WHITEHALL S-FRY\") &\n",
    "(df[\"Scp\"] == \"00-00-01\") &\n",
    "(df[\"Date_Time\"] == '2018-09-14 05:00:00'))\n",
    "\n",
    "df[identifier].head(10)"
   ]
  },
  {
   "cell_type": "code",
   "execution_count": 394,
   "metadata": {},
   "outputs": [],
   "source": [
    "df = df[df['Desc'] != 'RECOVR AUD']"
   ]
  },
  {
   "cell_type": "code",
   "execution_count": 395,
   "metadata": {},
   "outputs": [
    {
     "data": {
      "text/html": [
       "<div>\n",
       "<style scoped>\n",
       "    .dataframe tbody tr th:only-of-type {\n",
       "        vertical-align: middle;\n",
       "    }\n",
       "\n",
       "    .dataframe tbody tr th {\n",
       "        vertical-align: top;\n",
       "    }\n",
       "\n",
       "    .dataframe thead th {\n",
       "        text-align: right;\n",
       "    }\n",
       "</style>\n",
       "<table border=\"1\" class=\"dataframe\">\n",
       "  <thead>\n",
       "    <tr style=\"text-align: right;\">\n",
       "      <th></th>\n",
       "      <th>Station</th>\n",
       "      <th>C/a</th>\n",
       "      <th>Unit</th>\n",
       "      <th>Scp</th>\n",
       "      <th>Date_Time</th>\n",
       "      <th>Entries</th>\n",
       "    </tr>\n",
       "  </thead>\n",
       "  <tbody>\n",
       "    <tr>\n",
       "      <th>0</th>\n",
       "      <td>1 AV</td>\n",
       "      <td>H007</td>\n",
       "      <td>R248</td>\n",
       "      <td>00-00-00</td>\n",
       "      <td>2018-05-26 00:00:00</td>\n",
       "      <td>1</td>\n",
       "    </tr>\n",
       "    <tr>\n",
       "      <th>2221950</th>\n",
       "      <td>GRD CNTRL-42 ST</td>\n",
       "      <td>R238A</td>\n",
       "      <td>R046</td>\n",
       "      <td>02-03-00</td>\n",
       "      <td>2018-08-07 08:34:45</td>\n",
       "      <td>1</td>\n",
       "    </tr>\n",
       "    <tr>\n",
       "      <th>2221940</th>\n",
       "      <td>GRD CNTRL-42 ST</td>\n",
       "      <td>R238A</td>\n",
       "      <td>R046</td>\n",
       "      <td>02-03-00</td>\n",
       "      <td>2018-08-05 20:00:00</td>\n",
       "      <td>1</td>\n",
       "    </tr>\n",
       "    <tr>\n",
       "      <th>2221941</th>\n",
       "      <td>GRD CNTRL-42 ST</td>\n",
       "      <td>R238A</td>\n",
       "      <td>R046</td>\n",
       "      <td>02-03-00</td>\n",
       "      <td>2018-08-06 00:00:00</td>\n",
       "      <td>1</td>\n",
       "    </tr>\n",
       "    <tr>\n",
       "      <th>2221942</th>\n",
       "      <td>GRD CNTRL-42 ST</td>\n",
       "      <td>R238A</td>\n",
       "      <td>R046</td>\n",
       "      <td>02-03-00</td>\n",
       "      <td>2018-08-06 04:00:00</td>\n",
       "      <td>1</td>\n",
       "    </tr>\n",
       "  </tbody>\n",
       "</table>\n",
       "</div>"
      ],
      "text/plain": [
       "                 Station    C/a  Unit       Scp           Date_Time  Entries\n",
       "0                   1 AV   H007  R248  00-00-00 2018-05-26 00:00:00        1\n",
       "2221950  GRD CNTRL-42 ST  R238A  R046  02-03-00 2018-08-07 08:34:45        1\n",
       "2221940  GRD CNTRL-42 ST  R238A  R046  02-03-00 2018-08-05 20:00:00        1\n",
       "2221941  GRD CNTRL-42 ST  R238A  R046  02-03-00 2018-08-06 00:00:00        1\n",
       "2221942  GRD CNTRL-42 ST  R238A  R046  02-03-00 2018-08-06 04:00:00        1"
      ]
     },
     "execution_count": 395,
     "metadata": {},
     "output_type": "execute_result"
    }
   ],
   "source": [
    "(df.groupby(by=['Station','C/a','Unit','Scp','Date_Time']) \\\n",
    ".Entries.count().reset_index().sort_values('Entries', ascending = False)).head(5)"
   ]
  },
  {
   "cell_type": "code",
   "execution_count": 396,
   "metadata": {},
   "outputs": [
    {
     "data": {
      "text/plain": [
       "<matplotlib.axes._subplots.AxesSubplot at 0x1a306f9940>"
      ]
     },
     "execution_count": 396,
     "metadata": {},
     "output_type": "execute_result"
    },
    {
     "data": {
      "image/png": "[encoded data removed]",
      "text/plain": [
       "<Figure size 432x288 with 1 Axes>"
      ]
     },
     "metadata": {},
     "output_type": "display_data"
    }
   ],
   "source": [
    "df.groupby('Time')['Entries'].count().plot()"
   ]
  },
  {
   "cell_type": "markdown",
   "metadata": {},
   "source": [
    "n = 4. Counts are most often every 4 hours (6 per day as graph shows) <p>\n",
    "But not **only** every 4 hours. <p>\n",
    "We'll deal with that later. For now continue to get the graph for turnstile per day. First need entries as we seem to have a cum sum right now. Take diff after sorting by time grouped by unique identifier"
   ]
  },
  {
   "cell_type": "code",
   "execution_count": 397,
   "metadata": {},
   "outputs": [],
   "source": [
    "df = df.drop([\"Exits\"], axis=1, errors=\"ignore\")\n",
    "df = df.sort_values(by=['Turnstile_ID','Date_Time'])\n"
   ]
  },
  {
   "cell_type": "markdown",
   "metadata": {},
   "source": [
    "Let's take the first differences, create a rule that borders have NaN and drop the NaNs since every first turnstil entry will have this result (as its been sorted by turnstiles)"
   ]
  },
  {
   "cell_type": "code",
   "execution_count": 398,
   "metadata": {},
   "outputs": [],
   "source": [
    "df['Diff'] = df.groupby(['Turnstile_ID'])['Entries'].transform(lambda x: x.diff())\n",
    "\n"
   ]
  },
  {
   "cell_type": "code",
   "execution_count": 399,
   "metadata": {},
   "outputs": [
    {
     "data": {
      "text/plain": [
       "C/a                0\n",
       "Unit               0\n",
       "Scp                0\n",
       "Station            0\n",
       "Linename           0\n",
       "Division           0\n",
       "Date               0\n",
       "Time               0\n",
       "Desc               0\n",
       "Entries            0\n",
       "Date_Time          0\n",
       "Turnstile_ID       0\n",
       "Diff            4803\n",
       "dtype: int64"
      ]
     },
     "execution_count": 399,
     "metadata": {},
     "output_type": "execute_result"
    }
   ],
   "source": [
    "df.isna().sum()"
   ]
  },
  {
   "cell_type": "code",
   "execution_count": 400,
   "metadata": {},
   "outputs": [
    {
     "data": {
      "text/html": [
       "<div>\n",
       "<style scoped>\n",
       "    .dataframe tbody tr th:only-of-type {\n",
       "        vertical-align: middle;\n",
       "    }\n",
       "\n",
       "    .dataframe tbody tr th {\n",
       "        vertical-align: top;\n",
       "    }\n",
       "\n",
       "    .dataframe thead th {\n",
       "        text-align: right;\n",
       "    }\n",
       "</style>\n",
       "<table border=\"1\" class=\"dataframe\">\n",
       "  <thead>\n",
       "    <tr style=\"text-align: right;\">\n",
       "      <th></th>\n",
       "      <th>C/a</th>\n",
       "      <th>Unit</th>\n",
       "      <th>Scp</th>\n",
       "      <th>Station</th>\n",
       "      <th>Linename</th>\n",
       "      <th>Division</th>\n",
       "      <th>Date</th>\n",
       "      <th>Time</th>\n",
       "      <th>Desc</th>\n",
       "      <th>Entries</th>\n",
       "      <th>Date_Time</th>\n",
       "      <th>Turnstile_ID</th>\n",
       "      <th>Diff</th>\n",
       "    </tr>\n",
       "    <tr>\n",
       "      <th>Turnstile_ID</th>\n",
       "      <th></th>\n",
       "      <th></th>\n",
       "      <th></th>\n",
       "      <th></th>\n",
       "      <th></th>\n",
       "      <th></th>\n",
       "      <th></th>\n",
       "      <th></th>\n",
       "      <th></th>\n",
       "      <th></th>\n",
       "      <th></th>\n",
       "      <th></th>\n",
       "      <th></th>\n",
       "    </tr>\n",
       "  </thead>\n",
       "  <tbody>\n",
       "    <tr>\n",
       "      <th>1 AVH007R24800-00-00</th>\n",
       "      <td>1</td>\n",
       "      <td>1</td>\n",
       "      <td>1</td>\n",
       "      <td>1</td>\n",
       "      <td>1</td>\n",
       "      <td>1</td>\n",
       "      <td>119</td>\n",
       "      <td>8</td>\n",
       "      <td>1</td>\n",
       "      <td>694</td>\n",
       "      <td>714</td>\n",
       "      <td>1</td>\n",
       "      <td>514</td>\n",
       "    </tr>\n",
       "    <tr>\n",
       "      <th>1 AVH007R24800-00-01</th>\n",
       "      <td>1</td>\n",
       "      <td>1</td>\n",
       "      <td>1</td>\n",
       "      <td>1</td>\n",
       "      <td>1</td>\n",
       "      <td>1</td>\n",
       "      <td>119</td>\n",
       "      <td>8</td>\n",
       "      <td>1</td>\n",
       "      <td>697</td>\n",
       "      <td>714</td>\n",
       "      <td>1</td>\n",
       "      <td>531</td>\n",
       "    </tr>\n",
       "    <tr>\n",
       "      <th>1 AVH007R24800-03-00</th>\n",
       "      <td>1</td>\n",
       "      <td>1</td>\n",
       "      <td>1</td>\n",
       "      <td>1</td>\n",
       "      <td>1</td>\n",
       "      <td>1</td>\n",
       "      <td>119</td>\n",
       "      <td>8</td>\n",
       "      <td>1</td>\n",
       "      <td>697</td>\n",
       "      <td>714</td>\n",
       "      <td>1</td>\n",
       "      <td>289</td>\n",
       "    </tr>\n",
       "    <tr>\n",
       "      <th>1 AVH007R24800-03-01</th>\n",
       "      <td>1</td>\n",
       "      <td>1</td>\n",
       "      <td>1</td>\n",
       "      <td>1</td>\n",
       "      <td>1</td>\n",
       "      <td>1</td>\n",
       "      <td>119</td>\n",
       "      <td>8</td>\n",
       "      <td>1</td>\n",
       "      <td>690</td>\n",
       "      <td>714</td>\n",
       "      <td>1</td>\n",
       "      <td>265</td>\n",
       "    </tr>\n",
       "    <tr>\n",
       "      <th>1 AVH007R24800-03-02</th>\n",
       "      <td>1</td>\n",
       "      <td>1</td>\n",
       "      <td>1</td>\n",
       "      <td>1</td>\n",
       "      <td>1</td>\n",
       "      <td>1</td>\n",
       "      <td>119</td>\n",
       "      <td>8</td>\n",
       "      <td>1</td>\n",
       "      <td>694</td>\n",
       "      <td>714</td>\n",
       "      <td>1</td>\n",
       "      <td>325</td>\n",
       "    </tr>\n",
       "  </tbody>\n",
       "</table>\n",
       "</div>"
      ],
      "text/plain": [
       "                      C/a  Unit  Scp  Station  Linename  Division  Date  Time  \\\n",
       "Turnstile_ID                                                                    \n",
       "1 AVH007R24800-00-00    1     1    1        1         1         1   119     8   \n",
       "1 AVH007R24800-00-01    1     1    1        1         1         1   119     8   \n",
       "1 AVH007R24800-03-00    1     1    1        1         1         1   119     8   \n",
       "1 AVH007R24800-03-01    1     1    1        1         1         1   119     8   \n",
       "1 AVH007R24800-03-02    1     1    1        1         1         1   119     8   \n",
       "\n",
       "                      Desc  Entries  Date_Time  Turnstile_ID  Diff  \n",
       "Turnstile_ID                                                        \n",
       "1 AVH007R24800-00-00     1      694        714             1   514  \n",
       "1 AVH007R24800-00-01     1      697        714             1   531  \n",
       "1 AVH007R24800-03-00     1      697        714             1   289  \n",
       "1 AVH007R24800-03-01     1      690        714             1   265  \n",
       "1 AVH007R24800-03-02     1      694        714             1   325  "
      ]
     },
     "execution_count": 400,
     "metadata": {},
     "output_type": "execute_result"
    }
   ],
   "source": [
    "df.groupby('Turnstile_ID').nunique().head(5)"
   ]
  },
  {
   "cell_type": "markdown",
   "metadata": {},
   "source": [
    "nunique turnstiles matches the number or NaNs i'm about to drop so happy to drop them "
   ]
  },
  {
   "cell_type": "code",
   "execution_count": 401,
   "metadata": {},
   "outputs": [],
   "source": [
    "df.dropna(inplace = True)\n",
    "#we wanna get rid of them permanently so keep the dropna"
   ]
  },
  {
   "cell_type": "code",
   "execution_count": 402,
   "metadata": {
    "scrolled": false
   },
   "outputs": [
    {
     "data": {
      "text/plain": [
       "<matplotlib.axes._subplots.AxesSubplot at 0x1a2d9e0780>"
      ]
     },
     "execution_count": 402,
     "metadata": {},
     "output_type": "execute_result"
    },
    {
     "data": {
      "image/png": "[encoded data removed]",
      "text/plain": [
       "<Figure size 432x288 with 1 Axes>"
      ]
     },
     "metadata": {},
     "output_type": "display_data"
    }
   ],
   "source": [
    "df.groupby(by='Turnstile_ID', as_index = True)['Diff'].sum().plot()"
   ]
  },
  {
   "cell_type": "markdown",
   "metadata": {},
   "source": [
    "They go negative sometimes but magnitude seems similar to positive so lets assume counter runs in reverse and take the absolute"
   ]
  },
  {
   "cell_type": "code",
   "execution_count": 403,
   "metadata": {},
   "outputs": [
    {
     "data": {
      "text/plain": [
       "<matplotlib.axes._subplots.AxesSubplot at 0x1aa5c04978>"
      ]
     },
     "execution_count": 403,
     "metadata": {},
     "output_type": "execute_result"
    },
    {
     "data": {
      "image/png": "[encoded data removed]",
      "text/plain": [
       "<Figure size 432x288 with 1 Axes>"
      ]
     },
     "metadata": {},
     "output_type": "display_data"
    }
   ],
   "source": [
    "df['Diff'] = abs(df['Diff'])\n",
    "df.groupby(by=['Turnstile_ID','Date_Time'], as_index = True)['Diff'].sum().plot()\n",
    "\n"
   ]
  },
  {
   "cell_type": "markdown",
   "metadata": {},
   "source": [
    "looks better..some values seem very high though. Let's filter for away Audits from Descriptions"
   ]
  },
  {
   "cell_type": "code",
   "execution_count": 404,
   "metadata": {},
   "outputs": [],
   "source": [
    "df['Desc'] = df['Desc'].apply(lambda x: x if x == 'REGULAR' else np.nan)"
   ]
  },
  {
   "cell_type": "markdown",
   "metadata": {},
   "source": [
    "Lastly we filter for ridiculously large observations. 10000/turnstile per time snapshot (which for the most part is 4 hours) is already a pretty conservative cut"
   ]
  },
  {
   "cell_type": "code",
   "execution_count": 405,
   "metadata": {},
   "outputs": [],
   "source": [
    "df['Diff'] = df2['Diff'].apply(lambda x: x if x <= 10000 else np.nan)\n",
    "df.dropna(inplace = True)"
   ]
  },
  {
   "cell_type": "markdown",
   "metadata": {},
   "source": [
    "Saving to load faster next time"
   ]
  },
  {
   "cell_type": "code",
   "execution_count": 406,
   "metadata": {},
   "outputs": [],
   "source": [
    "df.to_csv(\"MTA_Data_cleaned.csv\", header = '?')\n"
   ]
  },
  {
   "cell_type": "code",
   "execution_count": 407,
   "metadata": {},
   "outputs": [],
   "source": [
    "df = pd.read_csv(\"MTA_Data_cleaned.csv\", index_col=False)"
   ]
  },
  {
   "cell_type": "markdown",
   "metadata": {},
   "source": [
    "Finally, to get Daily entries we group by ID and DATE and sum the Entries column"
   ]
  },
  {
   "cell_type": "code",
   "execution_count": 408,
   "metadata": {},
   "outputs": [
    {
     "data": {
      "text/html": [
       "<div>\n",
       "<style scoped>\n",
       "    .dataframe tbody tr th:only-of-type {\n",
       "        vertical-align: middle;\n",
       "    }\n",
       "\n",
       "    .dataframe tbody tr th {\n",
       "        vertical-align: top;\n",
       "    }\n",
       "\n",
       "    .dataframe thead th {\n",
       "        text-align: right;\n",
       "    }\n",
       "</style>\n",
       "<table border=\"1\" class=\"dataframe\">\n",
       "  <thead>\n",
       "    <tr style=\"text-align: right;\">\n",
       "      <th></th>\n",
       "      <th></th>\n",
       "      <th>Diff</th>\n",
       "    </tr>\n",
       "    <tr>\n",
       "      <th>Turnstile_ID</th>\n",
       "      <th>Date</th>\n",
       "      <th></th>\n",
       "    </tr>\n",
       "  </thead>\n",
       "  <tbody>\n",
       "    <tr>\n",
       "      <th rowspan=\"5\" valign=\"top\">1 AVH007R24800-00-00</th>\n",
       "      <th>05/26/2018</th>\n",
       "      <td>1245.0</td>\n",
       "    </tr>\n",
       "    <tr>\n",
       "      <th>05/27/2018</th>\n",
       "      <td>895.0</td>\n",
       "    </tr>\n",
       "    <tr>\n",
       "      <th>05/28/2018</th>\n",
       "      <td>698.0</td>\n",
       "    </tr>\n",
       "    <tr>\n",
       "      <th>05/29/2018</th>\n",
       "      <td>1121.0</td>\n",
       "    </tr>\n",
       "    <tr>\n",
       "      <th>05/30/2018</th>\n",
       "      <td>1111.0</td>\n",
       "    </tr>\n",
       "  </tbody>\n",
       "</table>\n",
       "</div>"
      ],
      "text/plain": [
       "                                   Diff\n",
       "Turnstile_ID         Date              \n",
       "1 AVH007R24800-00-00 05/26/2018  1245.0\n",
       "                     05/27/2018   895.0\n",
       "                     05/28/2018   698.0\n",
       "                     05/29/2018  1121.0\n",
       "                     05/30/2018  1111.0"
      ]
     },
     "execution_count": 408,
     "metadata": {},
     "output_type": "execute_result"
    }
   ],
   "source": [
    "df_daily = pd.DataFrame(df.groupby(by=['Turnstile_ID','Date'])['Diff'].sum())\n",
    "df_daily.head(5)"
   ]
  },
  {
   "cell_type": "markdown",
   "metadata": {},
   "source": [
    "## Question 4.) Daily Time Series for one Turnstile\n",
    "\n",
    "We already have the daily values for unique turnstiles so we can just slice one"
   ]
  },
  {
   "cell_type": "code",
   "execution_count": 409,
   "metadata": {},
   "outputs": [
    {
     "data": {
      "text/plain": [
       "<matplotlib.axes._subplots.AxesSubplot at 0x1aa273ccc0>"
      ]
     },
     "execution_count": 409,
     "metadata": {},
     "output_type": "execute_result"
    },
    {
     "data": {
      "image/png": "[encoded data removed]",
      "text/plain": [
       "<Figure size 432x288 with 1 Axes>"
      ]
     },
     "metadata": {},
     "output_type": "display_data"
    }
   ],
   "source": [
    "df_daily.loc['1 AVH007R24800-00-00'].plot()"
   ]
  },
  {
   "cell_type": "markdown",
   "metadata": {},
   "source": [
    "## Question 5.) Daily Time Series for group of Turnstiles with same Scp"
   ]
  },
  {
   "cell_type": "code",
   "execution_count": 410,
   "metadata": {},
   "outputs": [
    {
     "data": {
      "text/html": [
       "<div>\n",
       "<style scoped>\n",
       "    .dataframe tbody tr th:only-of-type {\n",
       "        vertical-align: middle;\n",
       "    }\n",
       "\n",
       "    .dataframe tbody tr th {\n",
       "        vertical-align: top;\n",
       "    }\n",
       "\n",
       "    .dataframe thead th {\n",
       "        text-align: right;\n",
       "    }\n",
       "</style>\n",
       "<table border=\"1\" class=\"dataframe\">\n",
       "  <thead>\n",
       "    <tr style=\"text-align: right;\">\n",
       "      <th></th>\n",
       "      <th>Station</th>\n",
       "      <th>C/a</th>\n",
       "      <th>Unit</th>\n",
       "      <th>Date</th>\n",
       "      <th>Diff</th>\n",
       "    </tr>\n",
       "  </thead>\n",
       "  <tbody>\n",
       "    <tr>\n",
       "      <th>0</th>\n",
       "      <td>1 AV</td>\n",
       "      <td>H007</td>\n",
       "      <td>R248</td>\n",
       "      <td>05/26/2018</td>\n",
       "      <td>3664.0</td>\n",
       "    </tr>\n",
       "    <tr>\n",
       "      <th>1</th>\n",
       "      <td>1 AV</td>\n",
       "      <td>H007</td>\n",
       "      <td>R248</td>\n",
       "      <td>05/27/2018</td>\n",
       "      <td>1670.0</td>\n",
       "    </tr>\n",
       "    <tr>\n",
       "      <th>2</th>\n",
       "      <td>1 AV</td>\n",
       "      <td>H007</td>\n",
       "      <td>R248</td>\n",
       "      <td>05/28/2018</td>\n",
       "      <td>1335.0</td>\n",
       "    </tr>\n",
       "    <tr>\n",
       "      <th>3</th>\n",
       "      <td>1 AV</td>\n",
       "      <td>H007</td>\n",
       "      <td>R248</td>\n",
       "      <td>05/29/2018</td>\n",
       "      <td>2589.0</td>\n",
       "    </tr>\n",
       "    <tr>\n",
       "      <th>4</th>\n",
       "      <td>1 AV</td>\n",
       "      <td>H007</td>\n",
       "      <td>R248</td>\n",
       "      <td>05/30/2018</td>\n",
       "      <td>2875.0</td>\n",
       "    </tr>\n",
       "    <tr>\n",
       "      <th>5</th>\n",
       "      <td>1 AV</td>\n",
       "      <td>H007</td>\n",
       "      <td>R248</td>\n",
       "      <td>05/31/2018</td>\n",
       "      <td>2961.0</td>\n",
       "    </tr>\n",
       "    <tr>\n",
       "      <th>6</th>\n",
       "      <td>1 AV</td>\n",
       "      <td>H007</td>\n",
       "      <td>R248</td>\n",
       "      <td>06/01/2018</td>\n",
       "      <td>2926.0</td>\n",
       "    </tr>\n",
       "    <tr>\n",
       "      <th>7</th>\n",
       "      <td>1 AV</td>\n",
       "      <td>H007</td>\n",
       "      <td>R248</td>\n",
       "      <td>06/02/2018</td>\n",
       "      <td>12573.0</td>\n",
       "    </tr>\n",
       "    <tr>\n",
       "      <th>8</th>\n",
       "      <td>1 AV</td>\n",
       "      <td>H007</td>\n",
       "      <td>R248</td>\n",
       "      <td>06/03/2018</td>\n",
       "      <td>15413.0</td>\n",
       "    </tr>\n",
       "    <tr>\n",
       "      <th>9</th>\n",
       "      <td>1 AV</td>\n",
       "      <td>H007</td>\n",
       "      <td>R248</td>\n",
       "      <td>06/04/2018</td>\n",
       "      <td>17354.0</td>\n",
       "    </tr>\n",
       "  </tbody>\n",
       "</table>\n",
       "</div>"
      ],
      "text/plain": [
       "  Station   C/a  Unit        Date     Diff\n",
       "0    1 AV  H007  R248  05/26/2018   3664.0\n",
       "1    1 AV  H007  R248  05/27/2018   1670.0\n",
       "2    1 AV  H007  R248  05/28/2018   1335.0\n",
       "3    1 AV  H007  R248  05/29/2018   2589.0\n",
       "4    1 AV  H007  R248  05/30/2018   2875.0\n",
       "5    1 AV  H007  R248  05/31/2018   2961.0\n",
       "6    1 AV  H007  R248  06/01/2018   2926.0\n",
       "7    1 AV  H007  R248  06/02/2018  12573.0\n",
       "8    1 AV  H007  R248  06/03/2018  15413.0\n",
       "9    1 AV  H007  R248  06/04/2018  17354.0"
      ]
     },
     "execution_count": 410,
     "metadata": {},
     "output_type": "execute_result"
    }
   ],
   "source": [
    "df.groupby(by=['Station','C/a','Unit','Date']) \\\n",
    ".Diff.sum().reset_index().sort_values(['Station','C/a','Unit','Date']).head(10)"
   ]
  },
  {
   "cell_type": "markdown",
   "metadata": {},
   "source": [
    "## 6.) Turnstiles per station\n",
    "\n",
    "Need to have a unique identifier for a station so let's add the linename to the station"
   ]
  },
  {
   "cell_type": "code",
   "execution_count": 411,
   "metadata": {},
   "outputs": [
    {
     "data": {
      "text/plain": [
       "Station_Unique  Date      \n",
       "1 AVL           05/26/2018     5613.0\n",
       "                05/27/2018     2824.0\n",
       "                05/28/2018     2325.0\n",
       "                05/29/2018     5033.0\n",
       "                05/30/2018     5356.0\n",
       "                05/31/2018     5179.0\n",
       "                06/01/2018     5410.0\n",
       "                06/02/2018    24872.0\n",
       "                06/03/2018    28767.0\n",
       "                06/04/2018    32623.0\n",
       "Name: Diff, dtype: float64"
      ]
     },
     "execution_count": 411,
     "metadata": {},
     "output_type": "execute_result"
    }
   ],
   "source": [
    "df['Station_Unique'] = df['Station'] + df['Linename']\n",
    "\n",
    "#to get our time series data per station\n",
    "df_per_station = df.groupby(by=['Station_Unique','Date'], as_index = True).Diff.sum()\n",
    "df_per_station.head(10)"
   ]
  },
  {
   "cell_type": "markdown",
   "metadata": {},
   "source": [
    "## 7.) Time series for one station"
   ]
  },
  {
   "cell_type": "code",
   "execution_count": 412,
   "metadata": {},
   "outputs": [
    {
     "data": {
      "text/plain": [
       "<matplotlib.axes._subplots.AxesSubplot at 0x1a2dd67c18>"
      ]
     },
     "execution_count": 412,
     "metadata": {},
     "output_type": "execute_result"
    },
    {
     "data": {
      "image/png": "[encoded data removed]",
      "text/plain": [
       "<Figure size 432x288 with 1 Axes>"
      ]
     },
     "metadata": {},
     "output_type": "display_data"
    }
   ],
   "source": [
    "df_per_station.loc['1 AVL'].plot()"
   ]
  },
  {
   "cell_type": "markdown",
   "metadata": {},
   "source": [
    "## 8.) Breakdown per days of week for one station overlayed on one chart"
   ]
  },
  {
   "cell_type": "code",
   "execution_count": 413,
   "metadata": {},
   "outputs": [],
   "source": [
    "df_1_station = df_per_station.loc['1 AVL']\n",
    "df_1_station = pd.DataFrame(df_1_station)\n",
    "df_1_station.head(5)\n",
    "df_1_station.index = pd.to_datetime(df_1_station.index)"
   ]
  },
  {
   "cell_type": "code",
   "execution_count": 414,
   "metadata": {},
   "outputs": [
    {
     "data": {
      "text/html": [
       "<div>\n",
       "<style scoped>\n",
       "    .dataframe tbody tr th:only-of-type {\n",
       "        vertical-align: middle;\n",
       "    }\n",
       "\n",
       "    .dataframe tbody tr th {\n",
       "        vertical-align: top;\n",
       "    }\n",
       "\n",
       "    .dataframe thead th {\n",
       "        text-align: right;\n",
       "    }\n",
       "</style>\n",
       "<table border=\"1\" class=\"dataframe\">\n",
       "  <thead>\n",
       "    <tr style=\"text-align: right;\">\n",
       "      <th></th>\n",
       "      <th>Diff</th>\n",
       "      <th>Date2</th>\n",
       "    </tr>\n",
       "    <tr>\n",
       "      <th>Date</th>\n",
       "      <th></th>\n",
       "      <th></th>\n",
       "    </tr>\n",
       "  </thead>\n",
       "  <tbody>\n",
       "    <tr>\n",
       "      <th>2018-05-26</th>\n",
       "      <td>5613.0</td>\n",
       "      <td>2018-05-26</td>\n",
       "    </tr>\n",
       "    <tr>\n",
       "      <th>2018-05-27</th>\n",
       "      <td>2824.0</td>\n",
       "      <td>2018-05-27</td>\n",
       "    </tr>\n",
       "    <tr>\n",
       "      <th>2018-05-28</th>\n",
       "      <td>2325.0</td>\n",
       "      <td>2018-05-28</td>\n",
       "    </tr>\n",
       "    <tr>\n",
       "      <th>2018-05-29</th>\n",
       "      <td>5033.0</td>\n",
       "      <td>2018-05-29</td>\n",
       "    </tr>\n",
       "    <tr>\n",
       "      <th>2018-05-30</th>\n",
       "      <td>5356.0</td>\n",
       "      <td>2018-05-30</td>\n",
       "    </tr>\n",
       "    <tr>\n",
       "      <th>2018-05-31</th>\n",
       "      <td>5179.0</td>\n",
       "      <td>2018-05-31</td>\n",
       "    </tr>\n",
       "    <tr>\n",
       "      <th>2018-06-01</th>\n",
       "      <td>5410.0</td>\n",
       "      <td>2018-06-01</td>\n",
       "    </tr>\n",
       "    <tr>\n",
       "      <th>2018-06-02</th>\n",
       "      <td>24872.0</td>\n",
       "      <td>2018-06-02</td>\n",
       "    </tr>\n",
       "    <tr>\n",
       "      <th>2018-06-03</th>\n",
       "      <td>28767.0</td>\n",
       "      <td>2018-06-03</td>\n",
       "    </tr>\n",
       "    <tr>\n",
       "      <th>2018-06-04</th>\n",
       "      <td>32623.0</td>\n",
       "      <td>2018-06-04</td>\n",
       "    </tr>\n",
       "    <tr>\n",
       "      <th>2018-06-05</th>\n",
       "      <td>32968.0</td>\n",
       "      <td>2018-06-05</td>\n",
       "    </tr>\n",
       "    <tr>\n",
       "      <th>2018-06-06</th>\n",
       "      <td>37647.0</td>\n",
       "      <td>2018-06-06</td>\n",
       "    </tr>\n",
       "    <tr>\n",
       "      <th>2018-06-07</th>\n",
       "      <td>28280.0</td>\n",
       "      <td>2018-06-07</td>\n",
       "    </tr>\n",
       "    <tr>\n",
       "      <th>2018-06-08</th>\n",
       "      <td>21908.0</td>\n",
       "      <td>2018-06-08</td>\n",
       "    </tr>\n",
       "    <tr>\n",
       "      <th>2018-06-09</th>\n",
       "      <td>18065.0</td>\n",
       "      <td>2018-06-09</td>\n",
       "    </tr>\n",
       "    <tr>\n",
       "      <th>2018-06-10</th>\n",
       "      <td>14209.0</td>\n",
       "      <td>2018-06-10</td>\n",
       "    </tr>\n",
       "    <tr>\n",
       "      <th>2018-06-11</th>\n",
       "      <td>16094.0</td>\n",
       "      <td>2018-06-11</td>\n",
       "    </tr>\n",
       "    <tr>\n",
       "      <th>2018-06-12</th>\n",
       "      <td>21156.0</td>\n",
       "      <td>2018-06-12</td>\n",
       "    </tr>\n",
       "    <tr>\n",
       "      <th>2018-06-13</th>\n",
       "      <td>21523.0</td>\n",
       "      <td>2018-06-13</td>\n",
       "    </tr>\n",
       "    <tr>\n",
       "      <th>2018-06-14</th>\n",
       "      <td>20416.0</td>\n",
       "      <td>2018-06-14</td>\n",
       "    </tr>\n",
       "    <tr>\n",
       "      <th>2018-06-15</th>\n",
       "      <td>19471.0</td>\n",
       "      <td>2018-06-15</td>\n",
       "    </tr>\n",
       "    <tr>\n",
       "      <th>2018-06-16</th>\n",
       "      <td>15489.0</td>\n",
       "      <td>2018-06-16</td>\n",
       "    </tr>\n",
       "    <tr>\n",
       "      <th>2018-06-17</th>\n",
       "      <td>15207.0</td>\n",
       "      <td>2018-06-17</td>\n",
       "    </tr>\n",
       "    <tr>\n",
       "      <th>2018-06-18</th>\n",
       "      <td>10522.0</td>\n",
       "      <td>2018-06-18</td>\n",
       "    </tr>\n",
       "    <tr>\n",
       "      <th>2018-06-19</th>\n",
       "      <td>4400.0</td>\n",
       "      <td>2018-06-19</td>\n",
       "    </tr>\n",
       "    <tr>\n",
       "      <th>2018-06-20</th>\n",
       "      <td>8130.0</td>\n",
       "      <td>2018-06-20</td>\n",
       "    </tr>\n",
       "    <tr>\n",
       "      <th>2018-06-21</th>\n",
       "      <td>14814.0</td>\n",
       "      <td>2018-06-21</td>\n",
       "    </tr>\n",
       "    <tr>\n",
       "      <th>2018-06-22</th>\n",
       "      <td>16707.0</td>\n",
       "      <td>2018-06-22</td>\n",
       "    </tr>\n",
       "    <tr>\n",
       "      <th>2018-06-23</th>\n",
       "      <td>0.0</td>\n",
       "      <td>2018-06-23</td>\n",
       "    </tr>\n",
       "    <tr>\n",
       "      <th>2018-06-24</th>\n",
       "      <td>0.0</td>\n",
       "      <td>2018-06-24</td>\n",
       "    </tr>\n",
       "    <tr>\n",
       "      <th>...</th>\n",
       "      <td>...</td>\n",
       "      <td>...</td>\n",
       "    </tr>\n",
       "    <tr>\n",
       "      <th>2018-08-23</th>\n",
       "      <td>4914.0</td>\n",
       "      <td>2018-08-23</td>\n",
       "    </tr>\n",
       "    <tr>\n",
       "      <th>2018-08-24</th>\n",
       "      <td>3626.0</td>\n",
       "      <td>2018-08-24</td>\n",
       "    </tr>\n",
       "    <tr>\n",
       "      <th>2018-08-25</th>\n",
       "      <td>2867.0</td>\n",
       "      <td>2018-08-25</td>\n",
       "    </tr>\n",
       "    <tr>\n",
       "      <th>2018-08-26</th>\n",
       "      <td>2205.0</td>\n",
       "      <td>2018-08-26</td>\n",
       "    </tr>\n",
       "    <tr>\n",
       "      <th>2018-08-27</th>\n",
       "      <td>1499.0</td>\n",
       "      <td>2018-08-27</td>\n",
       "    </tr>\n",
       "    <tr>\n",
       "      <th>2018-08-28</th>\n",
       "      <td>2319.0</td>\n",
       "      <td>2018-08-28</td>\n",
       "    </tr>\n",
       "    <tr>\n",
       "      <th>2018-08-29</th>\n",
       "      <td>3566.0</td>\n",
       "      <td>2018-08-29</td>\n",
       "    </tr>\n",
       "    <tr>\n",
       "      <th>2018-08-30</th>\n",
       "      <td>4224.0</td>\n",
       "      <td>2018-08-30</td>\n",
       "    </tr>\n",
       "    <tr>\n",
       "      <th>2018-08-31</th>\n",
       "      <td>4210.0</td>\n",
       "      <td>2018-08-31</td>\n",
       "    </tr>\n",
       "    <tr>\n",
       "      <th>2018-09-01</th>\n",
       "      <td>6777.0</td>\n",
       "      <td>2018-09-01</td>\n",
       "    </tr>\n",
       "    <tr>\n",
       "      <th>2018-09-02</th>\n",
       "      <td>7267.0</td>\n",
       "      <td>2018-09-02</td>\n",
       "    </tr>\n",
       "    <tr>\n",
       "      <th>2018-09-03</th>\n",
       "      <td>7503.0</td>\n",
       "      <td>2018-09-03</td>\n",
       "    </tr>\n",
       "    <tr>\n",
       "      <th>2018-09-04</th>\n",
       "      <td>6667.0</td>\n",
       "      <td>2018-09-04</td>\n",
       "    </tr>\n",
       "    <tr>\n",
       "      <th>2018-09-05</th>\n",
       "      <td>6398.0</td>\n",
       "      <td>2018-09-05</td>\n",
       "    </tr>\n",
       "    <tr>\n",
       "      <th>2018-09-06</th>\n",
       "      <td>5963.0</td>\n",
       "      <td>2018-09-06</td>\n",
       "    </tr>\n",
       "    <tr>\n",
       "      <th>2018-09-07</th>\n",
       "      <td>6554.0</td>\n",
       "      <td>2018-09-07</td>\n",
       "    </tr>\n",
       "    <tr>\n",
       "      <th>2018-09-08</th>\n",
       "      <td>4141.0</td>\n",
       "      <td>2018-09-08</td>\n",
       "    </tr>\n",
       "    <tr>\n",
       "      <th>2018-09-09</th>\n",
       "      <td>4272.0</td>\n",
       "      <td>2018-09-09</td>\n",
       "    </tr>\n",
       "    <tr>\n",
       "      <th>2018-09-10</th>\n",
       "      <td>4273.0</td>\n",
       "      <td>2018-09-10</td>\n",
       "    </tr>\n",
       "    <tr>\n",
       "      <th>2018-09-11</th>\n",
       "      <td>4230.0</td>\n",
       "      <td>2018-09-11</td>\n",
       "    </tr>\n",
       "    <tr>\n",
       "      <th>2018-09-12</th>\n",
       "      <td>2436.0</td>\n",
       "      <td>2018-09-12</td>\n",
       "    </tr>\n",
       "    <tr>\n",
       "      <th>2018-09-13</th>\n",
       "      <td>1802.0</td>\n",
       "      <td>2018-09-13</td>\n",
       "    </tr>\n",
       "    <tr>\n",
       "      <th>2018-09-14</th>\n",
       "      <td>3547.0</td>\n",
       "      <td>2018-09-14</td>\n",
       "    </tr>\n",
       "    <tr>\n",
       "      <th>2018-09-15</th>\n",
       "      <td>16238.0</td>\n",
       "      <td>2018-09-15</td>\n",
       "    </tr>\n",
       "    <tr>\n",
       "      <th>2018-09-16</th>\n",
       "      <td>17142.0</td>\n",
       "      <td>2018-09-16</td>\n",
       "    </tr>\n",
       "    <tr>\n",
       "      <th>2018-09-17</th>\n",
       "      <td>17467.0</td>\n",
       "      <td>2018-09-17</td>\n",
       "    </tr>\n",
       "    <tr>\n",
       "      <th>2018-09-18</th>\n",
       "      <td>18744.0</td>\n",
       "      <td>2018-09-18</td>\n",
       "    </tr>\n",
       "    <tr>\n",
       "      <th>2018-09-19</th>\n",
       "      <td>16491.0</td>\n",
       "      <td>2018-09-19</td>\n",
       "    </tr>\n",
       "    <tr>\n",
       "      <th>2018-09-20</th>\n",
       "      <td>5304.0</td>\n",
       "      <td>2018-09-20</td>\n",
       "    </tr>\n",
       "    <tr>\n",
       "      <th>2018-09-21</th>\n",
       "      <td>5167.0</td>\n",
       "      <td>2018-09-21</td>\n",
       "    </tr>\n",
       "  </tbody>\n",
       "</table>\n",
       "<p>119 rows × 2 columns</p>\n",
       "</div>"
      ],
      "text/plain": [
       "               Diff      Date2\n",
       "Date                          \n",
       "2018-05-26   5613.0 2018-05-26\n",
       "2018-05-27   2824.0 2018-05-27\n",
       "2018-05-28   2325.0 2018-05-28\n",
       "2018-05-29   5033.0 2018-05-29\n",
       "2018-05-30   5356.0 2018-05-30\n",
       "2018-05-31   5179.0 2018-05-31\n",
       "2018-06-01   5410.0 2018-06-01\n",
       "2018-06-02  24872.0 2018-06-02\n",
       "2018-06-03  28767.0 2018-06-03\n",
       "2018-06-04  32623.0 2018-06-04\n",
       "2018-06-05  32968.0 2018-06-05\n",
       "2018-06-06  37647.0 2018-06-06\n",
       "2018-06-07  28280.0 2018-06-07\n",
       "2018-06-08  21908.0 2018-06-08\n",
       "2018-06-09  18065.0 2018-06-09\n",
       "2018-06-10  14209.0 2018-06-10\n",
       "2018-06-11  16094.0 2018-06-11\n",
       "2018-06-12  21156.0 2018-06-12\n",
       "2018-06-13  21523.0 2018-06-13\n",
       "2018-06-14  20416.0 2018-06-14\n",
       "2018-06-15  19471.0 2018-06-15\n",
       "2018-06-16  15489.0 2018-06-16\n",
       "2018-06-17  15207.0 2018-06-17\n",
       "2018-06-18  10522.0 2018-06-18\n",
       "2018-06-19   4400.0 2018-06-19\n",
       "2018-06-20   8130.0 2018-06-20\n",
       "2018-06-21  14814.0 2018-06-21\n",
       "2018-06-22  16707.0 2018-06-22\n",
       "2018-06-23      0.0 2018-06-23\n",
       "2018-06-24      0.0 2018-06-24\n",
       "...             ...        ...\n",
       "2018-08-23   4914.0 2018-08-23\n",
       "2018-08-24   3626.0 2018-08-24\n",
       "2018-08-25   2867.0 2018-08-25\n",
       "2018-08-26   2205.0 2018-08-26\n",
       "2018-08-27   1499.0 2018-08-27\n",
       "2018-08-28   2319.0 2018-08-28\n",
       "2018-08-29   3566.0 2018-08-29\n",
       "2018-08-30   4224.0 2018-08-30\n",
       "2018-08-31   4210.0 2018-08-31\n",
       "2018-09-01   6777.0 2018-09-01\n",
       "2018-09-02   7267.0 2018-09-02\n",
       "2018-09-03   7503.0 2018-09-03\n",
       "2018-09-04   6667.0 2018-09-04\n",
       "2018-09-05   6398.0 2018-09-05\n",
       "2018-09-06   5963.0 2018-09-06\n",
       "2018-09-07   6554.0 2018-09-07\n",
       "2018-09-08   4141.0 2018-09-08\n",
       "2018-09-09   4272.0 2018-09-09\n",
       "2018-09-10   4273.0 2018-09-10\n",
       "2018-09-11   4230.0 2018-09-11\n",
       "2018-09-12   2436.0 2018-09-12\n",
       "2018-09-13   1802.0 2018-09-13\n",
       "2018-09-14   3547.0 2018-09-14\n",
       "2018-09-15  16238.0 2018-09-15\n",
       "2018-09-16  17142.0 2018-09-16\n",
       "2018-09-17  17467.0 2018-09-17\n",
       "2018-09-18  18744.0 2018-09-18\n",
       "2018-09-19  16491.0 2018-09-19\n",
       "2018-09-20   5304.0 2018-09-20\n",
       "2018-09-21   5167.0 2018-09-21\n",
       "\n",
       "[119 rows x 2 columns]"
      ]
     },
     "execution_count": 414,
     "metadata": {},
     "output_type": "execute_result"
    }
   ],
   "source": [
    "df_1_station[0:5]\n",
    "df_1_station['Date2'] = df_1_station.index"
   ]
  },
  {
   "cell_type": "code",
   "execution_count": 415,
   "metadata": {},
   "outputs": [],
   "source": [
    "df_1_station['Date2'] = pd.to_datetime(df_1_station['Date2'], format = \"%Y/%m/%d\")"
   ]
  },
  {
   "cell_type": "code",
   "execution_count": 416,
   "metadata": {},
   "outputs": [],
   "source": [
    "df_1_station['Day of the Week'] = df_1_station['Date2'].dt.day_name()"
   ]
  },
  {
   "cell_type": "code",
   "execution_count": 417,
   "metadata": {
    "scrolled": true
   },
   "outputs": [
    {
     "name": "stdout",
     "output_type": "stream",
     "text": [
      "<class 'pandas.core.frame.DataFrame'>\n",
      "DatetimeIndex: 119 entries, 2018-05-26 to 2018-09-21\n",
      "Data columns (total 3 columns):\n",
      "Diff               119 non-null float64\n",
      "Date2              119 non-null datetime64[ns]\n",
      "Day of the Week    119 non-null object\n",
      "dtypes: datetime64[ns](1), float64(1), object(1)\n",
      "memory usage: 3.7+ KB\n"
     ]
    }
   ],
   "source": [
    "df_1_station.info()"
   ]
  },
  {
   "cell_type": "code",
   "execution_count": 418,
   "metadata": {},
   "outputs": [
    {
     "data": {
      "image/png": "[encoded data removed]",
      "text/plain": [
       "<Figure size 576x432 with 1 Axes>"
      ]
     },
     "metadata": {},
     "output_type": "display_data"
    }
   ],
   "source": [
    "#cool it's datetime, now to get weeks and plot\n",
    "df_1_station['Week_Number'] = df_1_station['Date2'].dt.week\n",
    "fig,ax = plt.subplots(figsize=(8,6), sharex= True, sharey= True)\n",
    "plots = df_1_station.groupby('Week_Number').plot.line(y='Diff',x='Day of the Week',ax=ax, legend = None)"
   ]
  },
  {
   "cell_type": "markdown",
   "metadata": {},
   "source": [
    "## 9.) Breakdown per days of week for one station overlayed on one chart\n",
    "\n",
    "Over multiple weeks, sum total ridership for each station and sort\n",
    "  them, so you can find out the stations with the highest traffic\n",
    "  during the time you investigate"
   ]
  },
  {
   "cell_type": "markdown",
   "metadata": {},
   "source": [
    "\n",
    "Answer = FULTON ST2345ACJZ ins"
   ]
  },
  {
   "cell_type": "code",
   "execution_count": 422,
   "metadata": {
    "scrolled": true
   },
   "outputs": [
    {
     "data": {
      "text/html": [
       "<div>\n",
       "<style scoped>\n",
       "    .dataframe tbody tr th:only-of-type {\n",
       "        vertical-align: middle;\n",
       "    }\n",
       "\n",
       "    .dataframe tbody tr th {\n",
       "        vertical-align: top;\n",
       "    }\n",
       "\n",
       "    .dataframe thead th {\n",
       "        text-align: right;\n",
       "    }\n",
       "</style>\n",
       "<table border=\"1\" class=\"dataframe\">\n",
       "  <thead>\n",
       "    <tr style=\"text-align: right;\">\n",
       "      <th></th>\n",
       "      <th>index</th>\n",
       "      <th>Station_Unique</th>\n",
       "      <th>Diff</th>\n",
       "    </tr>\n",
       "  </thead>\n",
       "  <tbody>\n",
       "    <tr>\n",
       "      <th>0</th>\n",
       "      <td>302</td>\n",
       "      <td>FULTON ST2345ACJZ</td>\n",
       "      <td>8233141.0</td>\n",
       "    </tr>\n",
       "    <tr>\n",
       "      <th>1</th>\n",
       "      <td>89</td>\n",
       "      <td>34 ST-HERALD SQBDFMNQRW</td>\n",
       "      <td>8207972.0</td>\n",
       "    </tr>\n",
       "    <tr>\n",
       "      <th>2</th>\n",
       "      <td>312</td>\n",
       "      <td>GRD CNTRL-42 ST4567S</td>\n",
       "      <td>7506553.0</td>\n",
       "    </tr>\n",
       "    <tr>\n",
       "      <th>3</th>\n",
       "      <td>93</td>\n",
       "      <td>34 ST-PENN STAACE</td>\n",
       "      <td>7262382.0</td>\n",
       "    </tr>\n",
       "    <tr>\n",
       "      <th>4</th>\n",
       "      <td>102</td>\n",
       "      <td>42 ST-PORT AUTHACENQRS1237W</td>\n",
       "      <td>7042566.0</td>\n",
       "    </tr>\n",
       "    <tr>\n",
       "      <th>5</th>\n",
       "      <td>404</td>\n",
       "      <td>PATH NEW WTC1</td>\n",
       "      <td>6638648.0</td>\n",
       "    </tr>\n",
       "    <tr>\n",
       "      <th>6</th>\n",
       "      <td>260</td>\n",
       "      <td>CORTLANDT STRNW</td>\n",
       "      <td>5034964.0</td>\n",
       "    </tr>\n",
       "    <tr>\n",
       "      <th>7</th>\n",
       "      <td>234</td>\n",
       "      <td>CANAL STJNQRZ6W</td>\n",
       "      <td>4561221.0</td>\n",
       "    </tr>\n",
       "    <tr>\n",
       "      <th>8</th>\n",
       "      <td>464</td>\n",
       "      <td>WALL ST45</td>\n",
       "      <td>4188079.0</td>\n",
       "    </tr>\n",
       "    <tr>\n",
       "      <th>9</th>\n",
       "      <td>217</td>\n",
       "      <td>BOWLING GREEN45</td>\n",
       "      <td>4168241.0</td>\n",
       "    </tr>\n",
       "  </tbody>\n",
       "</table>\n",
       "</div>"
      ],
      "text/plain": [
       "   index               Station_Unique       Diff\n",
       "0    302            FULTON ST2345ACJZ  8233141.0\n",
       "1     89      34 ST-HERALD SQBDFMNQRW  8207972.0\n",
       "2    312         GRD CNTRL-42 ST4567S  7506553.0\n",
       "3     93            34 ST-PENN STAACE  7262382.0\n",
       "4    102  42 ST-PORT AUTHACENQRS1237W  7042566.0\n",
       "5    404                PATH NEW WTC1  6638648.0\n",
       "6    260              CORTLANDT STRNW  5034964.0\n",
       "7    234              CANAL STJNQRZ6W  4561221.0\n",
       "8    464                    WALL ST45  4188079.0\n",
       "9    217              BOWLING GREEN45  4168241.0"
      ]
     },
     "execution_count": 422,
     "metadata": {},
     "output_type": "execute_result"
    }
   ],
   "source": [
    "df_station_rank = df.groupby('Station_Unique')['Diff'].sum().reset_index()\n",
    "df_station_rank.sort_values('Diff', ascending = False, inplace= True)\n",
    "df_station_rank.reset_index(inplace=True)\n",
    "df_station_rank.head(10)"
   ]
  },
  {
   "cell_type": "markdown",
   "metadata": {},
   "source": [
    "## 10.) Top Stations (chose to do 10otherwise graph a bit hard to read)"
   ]
  },
  {
   "cell_type": "code",
   "execution_count": 420,
   "metadata": {
    "scrolled": true
   },
   "outputs": [
    {
     "data": {
      "text/plain": [
       "<matplotlib.axes._subplots.AxesSubplot at 0x1aa65d97f0>"
      ]
     },
     "execution_count": 420,
     "metadata": {},
     "output_type": "execute_result"
    },
    {
     "data": {
      "image/png": "[encoded data removed]",
      "text/plain": [
       "<Figure size 432x288 with 1 Axes>"
      ]
     },
     "metadata": {},
     "output_type": "display_data"
    }
   ],
   "source": [
    "df_station_rank.iloc[:10,:].plot.bar(x = 'Station_Unique', y = 'Diff')"
   ]
  }
 ],
 "metadata": {
  "kernelspec": {
   "display_name": "Python 3",
   "language": "python",
   "name": "python3"
  },
  "language_info": {
   "codemirror_mode": {
    "name": "ipython",
    "version": 3
   },
   "file_extension": ".py",
   "mimetype": "text/x-python",
   "name": "python",
   "nbconvert_exporter": "python",
   "pygments_lexer": "ipython3",
   "version": "3.6.5"
  }
 },
 "nbformat": 4,
 "nbformat_minor": 2
}
