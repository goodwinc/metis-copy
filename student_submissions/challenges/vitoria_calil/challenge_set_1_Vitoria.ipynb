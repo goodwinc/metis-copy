{
 "cells": [
  {
   "cell_type": "markdown",
   "metadata": {},
   "source": [
    "Topic:        Challenge Set 1  \n",
    "Subject:      Explore MTA turnstile data  \n",
    "Date:         09/24/2018  \n",
    "Name:         Vitoria Cancado  \n",
    "Worked with:  Arianna Breslauer, Daniel Hui  "
   ]
  },
  {
   "cell_type": "code",
   "execution_count": 4,
   "metadata": {},
   "outputs": [
    {
     "name": "stdout",
     "output_type": "stream",
     "text": [
      "Populating the interactive namespace from numpy and matplotlib\n"
     ]
    }
   ],
   "source": [
    "# importing pckgs\n",
    "%matplotlib inline\n",
    "import matplotlib.pyplot as plt\n",
    "%pylab inline\n",
    "import pandas as pd\n",
    "import seaborn as sns\n",
    "sns.set()"
   ]
  },
  {
   "cell_type": "code",
   "execution_count": 5,
   "metadata": {},
   "outputs": [],
   "source": [
    "#set some option to pandas\n",
    "# this will help to avoid long printings\n",
    "pd.set_option('display.max_columns', 25)\n",
    "pd.set_option('display.max_rows', 25)\n",
    "pd.set_option('display.precision', 3)"
   ]
  },
  {
   "cell_type": "markdown",
   "metadata": {},
   "source": [
    "# Challenge 1\n",
    "Open up a file, use csv reader to read it, make a python dict where there is a key for each (C/A, UNIT, SCP, STATION).  \n",
    "These are the first four columns. The value for this key should be a list of lists. Each list in the list is the rest of the columns in a row. "
   ]
  },
  {
   "cell_type": "code",
   "execution_count": 6,
   "metadata": {},
   "outputs": [
    {
     "data": {
      "text/html": [
       "<div>\n",
       "<style scoped>\n",
       "    .dataframe tbody tr th:only-of-type {\n",
       "        vertical-align: middle;\n",
       "    }\n",
       "\n",
       "    .dataframe tbody tr th {\n",
       "        vertical-align: top;\n",
       "    }\n",
       "\n",
       "    .dataframe thead th {\n",
       "        text-align: right;\n",
       "    }\n",
       "</style>\n",
       "<table border=\"1\" class=\"dataframe\">\n",
       "  <thead>\n",
       "    <tr style=\"text-align: right;\">\n",
       "      <th></th>\n",
       "      <th>C/A</th>\n",
       "      <th>UNIT</th>\n",
       "      <th>SCP</th>\n",
       "      <th>STATION</th>\n",
       "      <th>LINENAME</th>\n",
       "      <th>DIVISION</th>\n",
       "      <th>DATE</th>\n",
       "      <th>TIME</th>\n",
       "      <th>DESC</th>\n",
       "      <th>ENTRIES</th>\n",
       "      <th>EXITS</th>\n",
       "    </tr>\n",
       "  </thead>\n",
       "  <tbody>\n",
       "    <tr>\n",
       "      <th>0</th>\n",
       "      <td>A002</td>\n",
       "      <td>R051</td>\n",
       "      <td>02-00-00</td>\n",
       "      <td>59 ST</td>\n",
       "      <td>NQR456W</td>\n",
       "      <td>BMT</td>\n",
       "      <td>06/09/2018</td>\n",
       "      <td>00:00:00</td>\n",
       "      <td>REGULAR</td>\n",
       "      <td>6649975</td>\n",
       "      <td>2254182</td>\n",
       "    </tr>\n",
       "    <tr>\n",
       "      <th>1</th>\n",
       "      <td>A002</td>\n",
       "      <td>R051</td>\n",
       "      <td>02-00-00</td>\n",
       "      <td>59 ST</td>\n",
       "      <td>NQR456W</td>\n",
       "      <td>BMT</td>\n",
       "      <td>06/09/2018</td>\n",
       "      <td>04:00:00</td>\n",
       "      <td>REGULAR</td>\n",
       "      <td>6650004</td>\n",
       "      <td>2254188</td>\n",
       "    </tr>\n",
       "    <tr>\n",
       "      <th>2</th>\n",
       "      <td>A002</td>\n",
       "      <td>R051</td>\n",
       "      <td>02-00-00</td>\n",
       "      <td>59 ST</td>\n",
       "      <td>NQR456W</td>\n",
       "      <td>BMT</td>\n",
       "      <td>06/09/2018</td>\n",
       "      <td>08:00:00</td>\n",
       "      <td>REGULAR</td>\n",
       "      <td>6650022</td>\n",
       "      <td>2254209</td>\n",
       "    </tr>\n",
       "    <tr>\n",
       "      <th>3</th>\n",
       "      <td>A002</td>\n",
       "      <td>R051</td>\n",
       "      <td>02-00-00</td>\n",
       "      <td>59 ST</td>\n",
       "      <td>NQR456W</td>\n",
       "      <td>BMT</td>\n",
       "      <td>06/09/2018</td>\n",
       "      <td>12:00:00</td>\n",
       "      <td>REGULAR</td>\n",
       "      <td>6650118</td>\n",
       "      <td>2254289</td>\n",
       "    </tr>\n",
       "    <tr>\n",
       "      <th>4</th>\n",
       "      <td>A002</td>\n",
       "      <td>R051</td>\n",
       "      <td>02-00-00</td>\n",
       "      <td>59 ST</td>\n",
       "      <td>NQR456W</td>\n",
       "      <td>BMT</td>\n",
       "      <td>06/09/2018</td>\n",
       "      <td>16:00:00</td>\n",
       "      <td>REGULAR</td>\n",
       "      <td>6650332</td>\n",
       "      <td>2254345</td>\n",
       "    </tr>\n",
       "  </tbody>\n",
       "</table>\n",
       "</div>"
      ],
      "text/plain": [
       "    C/A  UNIT       SCP STATION LINENAME DIVISION        DATE      TIME  \\\n",
       "0  A002  R051  02-00-00   59 ST  NQR456W      BMT  06/09/2018  00:00:00   \n",
       "1  A002  R051  02-00-00   59 ST  NQR456W      BMT  06/09/2018  04:00:00   \n",
       "2  A002  R051  02-00-00   59 ST  NQR456W      BMT  06/09/2018  08:00:00   \n",
       "3  A002  R051  02-00-00   59 ST  NQR456W      BMT  06/09/2018  12:00:00   \n",
       "4  A002  R051  02-00-00   59 ST  NQR456W      BMT  06/09/2018  16:00:00   \n",
       "\n",
       "      DESC  ENTRIES  \\\n",
       "0  REGULAR  6649975   \n",
       "1  REGULAR  6650004   \n",
       "2  REGULAR  6650022   \n",
       "3  REGULAR  6650118   \n",
       "4  REGULAR  6650332   \n",
       "\n",
       "   EXITS                                                                 \n",
       "0                                            2254182                     \n",
       "1                                            2254188                     \n",
       "2                                            2254209                     \n",
       "3                                            2254289                     \n",
       "4                                            2254345                     "
      ]
     },
     "execution_count": 6,
     "metadata": {},
     "output_type": "execute_result"
    }
   ],
   "source": [
    "# ingesting the data and creating the data frame\n",
    "df2018 = pd.read_csv('turnstile_180616.txt')\n",
    "df2018.head()"
   ]
  },
  {
   "cell_type": "code",
   "execution_count": 7,
   "metadata": {},
   "outputs": [],
   "source": [
    "# renaming column\n",
    "df2018.rename(columns={'EXITS                                                               ':'EXITS'},\n",
    "              inplace=True)"
   ]
  },
  {
   "cell_type": "markdown",
   "metadata": {},
   "source": [
    "# Challenge 2\n",
    "Let's turn this into a time series."
   ]
  },
  {
   "cell_type": "code",
   "execution_count": 8,
   "metadata": {},
   "outputs": [
    {
     "data": {
      "text/html": [
       "<div>\n",
       "<style scoped>\n",
       "    .dataframe tbody tr th:only-of-type {\n",
       "        vertical-align: middle;\n",
       "    }\n",
       "\n",
       "    .dataframe tbody tr th {\n",
       "        vertical-align: top;\n",
       "    }\n",
       "\n",
       "    .dataframe thead th {\n",
       "        text-align: right;\n",
       "    }\n",
       "</style>\n",
       "<table border=\"1\" class=\"dataframe\">\n",
       "  <thead>\n",
       "    <tr style=\"text-align: right;\">\n",
       "      <th></th>\n",
       "      <th>C/A</th>\n",
       "      <th>UNIT</th>\n",
       "      <th>SCP</th>\n",
       "      <th>STATION</th>\n",
       "      <th>LINENAME</th>\n",
       "      <th>DIVISION</th>\n",
       "      <th>DATE</th>\n",
       "      <th>TIME</th>\n",
       "      <th>DESC</th>\n",
       "      <th>ENTRIES</th>\n",
       "      <th>EXITS</th>\n",
       "      <th>DATE TIME</th>\n",
       "    </tr>\n",
       "  </thead>\n",
       "  <tbody>\n",
       "    <tr>\n",
       "      <th>0</th>\n",
       "      <td>A002</td>\n",
       "      <td>R051</td>\n",
       "      <td>02-00-00</td>\n",
       "      <td>59 ST</td>\n",
       "      <td>NQR456W</td>\n",
       "      <td>BMT</td>\n",
       "      <td>06/09/2018</td>\n",
       "      <td>00:00:00</td>\n",
       "      <td>REGULAR</td>\n",
       "      <td>6649975</td>\n",
       "      <td>2254182</td>\n",
       "      <td>2018-06-09 00:00:00</td>\n",
       "    </tr>\n",
       "    <tr>\n",
       "      <th>1</th>\n",
       "      <td>A002</td>\n",
       "      <td>R051</td>\n",
       "      <td>02-00-00</td>\n",
       "      <td>59 ST</td>\n",
       "      <td>NQR456W</td>\n",
       "      <td>BMT</td>\n",
       "      <td>06/09/2018</td>\n",
       "      <td>04:00:00</td>\n",
       "      <td>REGULAR</td>\n",
       "      <td>6650004</td>\n",
       "      <td>2254188</td>\n",
       "      <td>2018-06-09 04:00:00</td>\n",
       "    </tr>\n",
       "    <tr>\n",
       "      <th>2</th>\n",
       "      <td>A002</td>\n",
       "      <td>R051</td>\n",
       "      <td>02-00-00</td>\n",
       "      <td>59 ST</td>\n",
       "      <td>NQR456W</td>\n",
       "      <td>BMT</td>\n",
       "      <td>06/09/2018</td>\n",
       "      <td>08:00:00</td>\n",
       "      <td>REGULAR</td>\n",
       "      <td>6650022</td>\n",
       "      <td>2254209</td>\n",
       "      <td>2018-06-09 08:00:00</td>\n",
       "    </tr>\n",
       "    <tr>\n",
       "      <th>3</th>\n",
       "      <td>A002</td>\n",
       "      <td>R051</td>\n",
       "      <td>02-00-00</td>\n",
       "      <td>59 ST</td>\n",
       "      <td>NQR456W</td>\n",
       "      <td>BMT</td>\n",
       "      <td>06/09/2018</td>\n",
       "      <td>12:00:00</td>\n",
       "      <td>REGULAR</td>\n",
       "      <td>6650118</td>\n",
       "      <td>2254289</td>\n",
       "      <td>2018-06-09 12:00:00</td>\n",
       "    </tr>\n",
       "    <tr>\n",
       "      <th>4</th>\n",
       "      <td>A002</td>\n",
       "      <td>R051</td>\n",
       "      <td>02-00-00</td>\n",
       "      <td>59 ST</td>\n",
       "      <td>NQR456W</td>\n",
       "      <td>BMT</td>\n",
       "      <td>06/09/2018</td>\n",
       "      <td>16:00:00</td>\n",
       "      <td>REGULAR</td>\n",
       "      <td>6650332</td>\n",
       "      <td>2254345</td>\n",
       "      <td>2018-06-09 16:00:00</td>\n",
       "    </tr>\n",
       "  </tbody>\n",
       "</table>\n",
       "</div>"
      ],
      "text/plain": [
       "    C/A  UNIT       SCP STATION LINENAME DIVISION        DATE      TIME  \\\n",
       "0  A002  R051  02-00-00   59 ST  NQR456W      BMT  06/09/2018  00:00:00   \n",
       "1  A002  R051  02-00-00   59 ST  NQR456W      BMT  06/09/2018  04:00:00   \n",
       "2  A002  R051  02-00-00   59 ST  NQR456W      BMT  06/09/2018  08:00:00   \n",
       "3  A002  R051  02-00-00   59 ST  NQR456W      BMT  06/09/2018  12:00:00   \n",
       "4  A002  R051  02-00-00   59 ST  NQR456W      BMT  06/09/2018  16:00:00   \n",
       "\n",
       "      DESC  ENTRIES    EXITS           DATE TIME  \n",
       "0  REGULAR  6649975  2254182 2018-06-09 00:00:00  \n",
       "1  REGULAR  6650004  2254188 2018-06-09 04:00:00  \n",
       "2  REGULAR  6650022  2254209 2018-06-09 08:00:00  \n",
       "3  REGULAR  6650118  2254289 2018-06-09 12:00:00  \n",
       "4  REGULAR  6650332  2254345 2018-06-09 16:00:00  "
      ]
     },
     "execution_count": 8,
     "metadata": {},
     "output_type": "execute_result"
    }
   ],
   "source": [
    "# time series column\n",
    "df2018['DATE TIME'] = pd.to_datetime(df2018['DATE'] + ' ' + df2018['TIME'])\n",
    "df2018.head()"
   ]
  },
  {
   "cell_type": "markdown",
   "metadata": {},
   "source": [
    "# Challenge 3\n",
    "These counts are for every n hours (What is n?). Also, there's something odd about these \"counts\", what is it? Do they actually represent total entries for a time period, or something else? We want total daily entries, create a new dataframe with one row per turnstile/day and a column that gives total daily entries."
   ]
  },
  {
   "cell_type": "code",
   "execution_count": 12,
   "metadata": {},
   "outputs": [],
   "source": [
    "# Create a mask that selects only the stations that we need\n",
    "# These are the stations that will be analyzed in our project\n",
    "station_mask = ((df2018[\"STATION\"] == \"GRD CNTRL-42 ST\") |\n",
    "(df2018[\"STATION\"] == \"59 ST\") |\n",
    "(df2018[\"STATION\"] == \"47-50 STS ROCK\")|\n",
    "(df2018[\"STATION\"] == \"LEXINGTON AV/53\")|\n",
    "(df2018[\"STATION\"] == \"51 ST\")|\n",
    "(df2018[\"STATION\"] == \"42 ST-BRYANT PK\")|\n",
    "(df2018[\"STATION\"] == \"77 ST\")|\n",
    "(df2018[\"STATION\"] == \"68ST-HUNTER CO\")|\n",
    "(df2018[\"STATION\"] == \"LEXINGTON AV/63\")|\n",
    "(df2018[\"STATION\"] == \"5 AV/53 ST\")|\n",
    "(df2018[\"STATION\"] == \"5 AV/59 ST\")|\n",
    "(df2018[\"STATION\"] == \"57 ST\")|\n",
    "(df2018[\"STATION\"] == \"5 AVE\"))"
   ]
  },
  {
   "cell_type": "code",
   "execution_count": 13,
   "metadata": {},
   "outputs": [
    {
     "data": {
      "text/plain": [
       "13"
      ]
     },
     "execution_count": 13,
     "metadata": {},
     "output_type": "execute_result"
    }
   ],
   "source": [
    "# create df with data from the stations that we need\n",
    "entries_df = df2018[station_mask]\n",
    "# count the number of stations, just to make sure it is right\n",
    "entries_df['STATION'].nunique()"
   ]
  },
  {
   "cell_type": "code",
   "execution_count": 14,
   "metadata": {},
   "outputs": [],
   "source": [
    "# we have 4 entry values for each turnstile and day\n",
    "# here we will select the minimum value of entries in a day for a station\n",
    "entries_df = (entries_df\n",
    "             .groupby([\"C/A\", \"UNIT\", \"SCP\", \"STATION\", \"DATE\"],as_index=False)\n",
    "            .ENTRIES.first())"
   ]
  },
  {
   "cell_type": "code",
   "execution_count": 15,
   "metadata": {},
   "outputs": [
    {
     "data": {
      "text/html": [
       "<div>\n",
       "<style scoped>\n",
       "    .dataframe tbody tr th:only-of-type {\n",
       "        vertical-align: middle;\n",
       "    }\n",
       "\n",
       "    .dataframe tbody tr th {\n",
       "        vertical-align: top;\n",
       "    }\n",
       "\n",
       "    .dataframe thead th {\n",
       "        text-align: right;\n",
       "    }\n",
       "</style>\n",
       "<table border=\"1\" class=\"dataframe\">\n",
       "  <thead>\n",
       "    <tr style=\"text-align: right;\">\n",
       "      <th></th>\n",
       "      <th>C/A</th>\n",
       "      <th>UNIT</th>\n",
       "      <th>SCP</th>\n",
       "      <th>STATION</th>\n",
       "      <th>DATE</th>\n",
       "      <th>ENTRIES</th>\n",
       "    </tr>\n",
       "  </thead>\n",
       "  <tbody>\n",
       "    <tr>\n",
       "      <th>0</th>\n",
       "      <td>A002</td>\n",
       "      <td>R051</td>\n",
       "      <td>02-00-00</td>\n",
       "      <td>59 ST</td>\n",
       "      <td>06/09/2018</td>\n",
       "      <td>6649975</td>\n",
       "    </tr>\n",
       "    <tr>\n",
       "      <th>1</th>\n",
       "      <td>A002</td>\n",
       "      <td>R051</td>\n",
       "      <td>02-00-00</td>\n",
       "      <td>59 ST</td>\n",
       "      <td>06/10/2018</td>\n",
       "      <td>6650723</td>\n",
       "    </tr>\n",
       "    <tr>\n",
       "      <th>2</th>\n",
       "      <td>A002</td>\n",
       "      <td>R051</td>\n",
       "      <td>02-00-00</td>\n",
       "      <td>59 ST</td>\n",
       "      <td>06/11/2018</td>\n",
       "      <td>6651277</td>\n",
       "    </tr>\n",
       "    <tr>\n",
       "      <th>3</th>\n",
       "      <td>A002</td>\n",
       "      <td>R051</td>\n",
       "      <td>02-00-00</td>\n",
       "      <td>59 ST</td>\n",
       "      <td>06/12/2018</td>\n",
       "      <td>6652785</td>\n",
       "    </tr>\n",
       "    <tr>\n",
       "      <th>4</th>\n",
       "      <td>A002</td>\n",
       "      <td>R051</td>\n",
       "      <td>02-00-00</td>\n",
       "      <td>59 ST</td>\n",
       "      <td>06/13/2018</td>\n",
       "      <td>6654264</td>\n",
       "    </tr>\n",
       "  </tbody>\n",
       "</table>\n",
       "</div>"
      ],
      "text/plain": [
       "    C/A  UNIT       SCP STATION        DATE  ENTRIES\n",
       "0  A002  R051  02-00-00   59 ST  06/09/2018  6649975\n",
       "1  A002  R051  02-00-00   59 ST  06/10/2018  6650723\n",
       "2  A002  R051  02-00-00   59 ST  06/11/2018  6651277\n",
       "3  A002  R051  02-00-00   59 ST  06/12/2018  6652785\n",
       "4  A002  R051  02-00-00   59 ST  06/13/2018  6654264"
      ]
     },
     "execution_count": 15,
     "metadata": {},
     "output_type": "execute_result"
    }
   ],
   "source": [
    "entries_df.head()"
   ]
  },
  {
   "cell_type": "code",
   "execution_count": 16,
   "metadata": {},
   "outputs": [
    {
     "data": {
      "text/html": [
       "<div>\n",
       "<style scoped>\n",
       "    .dataframe tbody tr th:only-of-type {\n",
       "        vertical-align: middle;\n",
       "    }\n",
       "\n",
       "    .dataframe tbody tr th {\n",
       "        vertical-align: top;\n",
       "    }\n",
       "\n",
       "    .dataframe thead th {\n",
       "        text-align: right;\n",
       "    }\n",
       "</style>\n",
       "<table border=\"1\" class=\"dataframe\">\n",
       "  <thead>\n",
       "    <tr style=\"text-align: right;\">\n",
       "      <th></th>\n",
       "      <th>C/A</th>\n",
       "      <th>UNIT</th>\n",
       "      <th>SCP</th>\n",
       "      <th>STATION</th>\n",
       "      <th>DATE</th>\n",
       "      <th>ENTRIES</th>\n",
       "    </tr>\n",
       "  </thead>\n",
       "  <tbody>\n",
       "    <tr>\n",
       "      <th>2367</th>\n",
       "      <td>R501</td>\n",
       "      <td>R054</td>\n",
       "      <td>00-06-01</td>\n",
       "      <td>5 AVE</td>\n",
       "      <td>06/15/2018</td>\n",
       "      <td>135498035</td>\n",
       "    </tr>\n",
       "    <tr>\n",
       "      <th>2366</th>\n",
       "      <td>R501</td>\n",
       "      <td>R054</td>\n",
       "      <td>00-06-01</td>\n",
       "      <td>5 AVE</td>\n",
       "      <td>06/14/2018</td>\n",
       "      <td>135495343</td>\n",
       "    </tr>\n",
       "    <tr>\n",
       "      <th>2365</th>\n",
       "      <td>R501</td>\n",
       "      <td>R054</td>\n",
       "      <td>00-06-01</td>\n",
       "      <td>5 AVE</td>\n",
       "      <td>06/13/2018</td>\n",
       "      <td>135492927</td>\n",
       "    </tr>\n",
       "    <tr>\n",
       "      <th>2364</th>\n",
       "      <td>R501</td>\n",
       "      <td>R054</td>\n",
       "      <td>00-06-01</td>\n",
       "      <td>5 AVE</td>\n",
       "      <td>06/12/2018</td>\n",
       "      <td>135490397</td>\n",
       "    </tr>\n",
       "    <tr>\n",
       "      <th>2363</th>\n",
       "      <td>R501</td>\n",
       "      <td>R054</td>\n",
       "      <td>00-06-01</td>\n",
       "      <td>5 AVE</td>\n",
       "      <td>06/11/2018</td>\n",
       "      <td>135488022</td>\n",
       "    </tr>\n",
       "  </tbody>\n",
       "</table>\n",
       "</div>"
      ],
      "text/plain": [
       "       C/A  UNIT       SCP STATION        DATE    ENTRIES\n",
       "2367  R501  R054  00-06-01   5 AVE  06/15/2018  135498035\n",
       "2366  R501  R054  00-06-01   5 AVE  06/14/2018  135495343\n",
       "2365  R501  R054  00-06-01   5 AVE  06/13/2018  135492927\n",
       "2364  R501  R054  00-06-01   5 AVE  06/12/2018  135490397\n",
       "2363  R501  R054  00-06-01   5 AVE  06/11/2018  135488022"
      ]
     },
     "execution_count": 16,
     "metadata": {},
     "output_type": "execute_result"
    }
   ],
   "source": [
    "# sort values\n",
    "entries_df.sort_values(['C/A', 'SCP', 'UNIT', 'DATE'], inplace=True, ascending=False)\n",
    "# remove duplicate entries\n",
    "entries_df.drop_duplicates(subset=['C/A', 'SCP', 'UNIT', 'DATE', 'STATION'], inplace=True)\n",
    "entries_df.head()"
   ]
  },
  {
   "cell_type": "code",
   "execution_count": 17,
   "metadata": {},
   "outputs": [],
   "source": [
    "# here we can drop exists and desc values\n",
    "entries_df = entries_df.drop([\"EXITS\", \"DESC\"], axis=1, errors=\"ignore\")"
   ]
  },
  {
   "cell_type": "code",
   "execution_count": 18,
   "metadata": {},
   "outputs": [
    {
     "data": {
      "text/html": [
       "<div>\n",
       "<style scoped>\n",
       "    .dataframe tbody tr th:only-of-type {\n",
       "        vertical-align: middle;\n",
       "    }\n",
       "\n",
       "    .dataframe tbody tr th {\n",
       "        vertical-align: top;\n",
       "    }\n",
       "\n",
       "    .dataframe thead th {\n",
       "        text-align: right;\n",
       "    }\n",
       "</style>\n",
       "<table border=\"1\" class=\"dataframe\">\n",
       "  <thead>\n",
       "    <tr style=\"text-align: right;\">\n",
       "      <th></th>\n",
       "      <th>C/A</th>\n",
       "      <th>UNIT</th>\n",
       "      <th>SCP</th>\n",
       "      <th>STATION</th>\n",
       "      <th>DATE</th>\n",
       "      <th>ENTRIES</th>\n",
       "    </tr>\n",
       "  </thead>\n",
       "  <tbody>\n",
       "    <tr>\n",
       "      <th>2367</th>\n",
       "      <td>R501</td>\n",
       "      <td>R054</td>\n",
       "      <td>00-06-01</td>\n",
       "      <td>5 AVE</td>\n",
       "      <td>06/15/2018</td>\n",
       "      <td>135498035</td>\n",
       "    </tr>\n",
       "    <tr>\n",
       "      <th>2366</th>\n",
       "      <td>R501</td>\n",
       "      <td>R054</td>\n",
       "      <td>00-06-01</td>\n",
       "      <td>5 AVE</td>\n",
       "      <td>06/14/2018</td>\n",
       "      <td>135495343</td>\n",
       "    </tr>\n",
       "    <tr>\n",
       "      <th>2365</th>\n",
       "      <td>R501</td>\n",
       "      <td>R054</td>\n",
       "      <td>00-06-01</td>\n",
       "      <td>5 AVE</td>\n",
       "      <td>06/13/2018</td>\n",
       "      <td>135492927</td>\n",
       "    </tr>\n",
       "    <tr>\n",
       "      <th>2364</th>\n",
       "      <td>R501</td>\n",
       "      <td>R054</td>\n",
       "      <td>00-06-01</td>\n",
       "      <td>5 AVE</td>\n",
       "      <td>06/12/2018</td>\n",
       "      <td>135490397</td>\n",
       "    </tr>\n",
       "    <tr>\n",
       "      <th>2363</th>\n",
       "      <td>R501</td>\n",
       "      <td>R054</td>\n",
       "      <td>00-06-01</td>\n",
       "      <td>5 AVE</td>\n",
       "      <td>06/11/2018</td>\n",
       "      <td>135488022</td>\n",
       "    </tr>\n",
       "  </tbody>\n",
       "</table>\n",
       "</div>"
      ],
      "text/plain": [
       "       C/A  UNIT       SCP STATION        DATE    ENTRIES\n",
       "2367  R501  R054  00-06-01   5 AVE  06/15/2018  135498035\n",
       "2366  R501  R054  00-06-01   5 AVE  06/14/2018  135495343\n",
       "2365  R501  R054  00-06-01   5 AVE  06/13/2018  135492927\n",
       "2364  R501  R054  00-06-01   5 AVE  06/12/2018  135490397\n",
       "2363  R501  R054  00-06-01   5 AVE  06/11/2018  135488022"
      ]
     },
     "execution_count": 18,
     "metadata": {},
     "output_type": "execute_result"
    }
   ],
   "source": [
    "entries_df.head()"
   ]
  },
  {
   "cell_type": "code",
   "execution_count": 19,
   "metadata": {},
   "outputs": [],
   "source": [
    "# create columns with previous date and entries\n",
    "entries_df[['PREV DATE', 'PREV ENTRIES']] = (entries_df\n",
    "                                                        .groupby([\"C/A\", \"UNIT\", \"SCP\", \"STATION\"])[\"DATE\", \"ENTRIES\"]\n",
    "                                                        .transform(lambda grp: grp.shift(1)))"
   ]
  },
  {
   "cell_type": "code",
   "execution_count": 20,
   "metadata": {},
   "outputs": [],
   "source": [
    "# Drop the rows for the earliest date in the df\n",
    "# doing this we will eliminate NaN values\n",
    "entries_df.dropna(subset=['PREV DATE'], axis=0, inplace=True)"
   ]
  },
  {
   "cell_type": "code",
   "execution_count": 21,
   "metadata": {},
   "outputs": [
    {
     "data": {
      "text/html": [
       "<div>\n",
       "<style scoped>\n",
       "    .dataframe tbody tr th:only-of-type {\n",
       "        vertical-align: middle;\n",
       "    }\n",
       "\n",
       "    .dataframe tbody tr th {\n",
       "        vertical-align: top;\n",
       "    }\n",
       "\n",
       "    .dataframe thead th {\n",
       "        text-align: right;\n",
       "    }\n",
       "</style>\n",
       "<table border=\"1\" class=\"dataframe\">\n",
       "  <thead>\n",
       "    <tr style=\"text-align: right;\">\n",
       "      <th></th>\n",
       "      <th>C/A</th>\n",
       "      <th>UNIT</th>\n",
       "      <th>SCP</th>\n",
       "      <th>STATION</th>\n",
       "      <th>DATE</th>\n",
       "      <th>ENTRIES</th>\n",
       "      <th>PREV DATE</th>\n",
       "      <th>PREV ENTRIES</th>\n",
       "    </tr>\n",
       "  </thead>\n",
       "  <tbody>\n",
       "    <tr>\n",
       "      <th>2366</th>\n",
       "      <td>R501</td>\n",
       "      <td>R054</td>\n",
       "      <td>00-06-01</td>\n",
       "      <td>5 AVE</td>\n",
       "      <td>06/14/2018</td>\n",
       "      <td>135495343</td>\n",
       "      <td>06/15/2018</td>\n",
       "      <td>1.355e+08</td>\n",
       "    </tr>\n",
       "    <tr>\n",
       "      <th>2365</th>\n",
       "      <td>R501</td>\n",
       "      <td>R054</td>\n",
       "      <td>00-06-01</td>\n",
       "      <td>5 AVE</td>\n",
       "      <td>06/13/2018</td>\n",
       "      <td>135492927</td>\n",
       "      <td>06/14/2018</td>\n",
       "      <td>1.355e+08</td>\n",
       "    </tr>\n",
       "    <tr>\n",
       "      <th>2364</th>\n",
       "      <td>R501</td>\n",
       "      <td>R054</td>\n",
       "      <td>00-06-01</td>\n",
       "      <td>5 AVE</td>\n",
       "      <td>06/12/2018</td>\n",
       "      <td>135490397</td>\n",
       "      <td>06/13/2018</td>\n",
       "      <td>1.355e+08</td>\n",
       "    </tr>\n",
       "    <tr>\n",
       "      <th>2363</th>\n",
       "      <td>R501</td>\n",
       "      <td>R054</td>\n",
       "      <td>00-06-01</td>\n",
       "      <td>5 AVE</td>\n",
       "      <td>06/11/2018</td>\n",
       "      <td>135488022</td>\n",
       "      <td>06/12/2018</td>\n",
       "      <td>1.355e+08</td>\n",
       "    </tr>\n",
       "    <tr>\n",
       "      <th>2362</th>\n",
       "      <td>R501</td>\n",
       "      <td>R054</td>\n",
       "      <td>00-06-01</td>\n",
       "      <td>5 AVE</td>\n",
       "      <td>06/10/2018</td>\n",
       "      <td>135486976</td>\n",
       "      <td>06/11/2018</td>\n",
       "      <td>1.355e+08</td>\n",
       "    </tr>\n",
       "  </tbody>\n",
       "</table>\n",
       "</div>"
      ],
      "text/plain": [
       "       C/A  UNIT       SCP STATION        DATE    ENTRIES   PREV DATE  \\\n",
       "2366  R501  R054  00-06-01   5 AVE  06/14/2018  135495343  06/15/2018   \n",
       "2365  R501  R054  00-06-01   5 AVE  06/13/2018  135492927  06/14/2018   \n",
       "2364  R501  R054  00-06-01   5 AVE  06/12/2018  135490397  06/13/2018   \n",
       "2363  R501  R054  00-06-01   5 AVE  06/11/2018  135488022  06/12/2018   \n",
       "2362  R501  R054  00-06-01   5 AVE  06/10/2018  135486976  06/11/2018   \n",
       "\n",
       "      PREV ENTRIES  \n",
       "2366     1.355e+08  \n",
       "2365     1.355e+08  \n",
       "2364     1.355e+08  \n",
       "2363     1.355e+08  \n",
       "2362     1.355e+08  "
      ]
     },
     "execution_count": 21,
     "metadata": {},
     "output_type": "execute_result"
    }
   ],
   "source": [
    "# Now we need to pay attention to the dataframe\n",
    "# There are some PREV ENTRIES that are smaller than ENTRIES\n",
    "entries_df[entries_df['ENTRIES'] < entries_df['PREV ENTRIES']].head()\n",
    "#some entries are counting reversely"
   ]
  },
  {
   "cell_type": "code",
   "execution_count": 22,
   "metadata": {},
   "outputs": [
    {
     "data": {
      "text/plain": [
       "C/A   UNIT  SCP       STATION   \n",
       "A002  R051  02-00-00  59 ST         6\n",
       "            02-00-01  59 ST         6\n",
       "            02-03-00  59 ST         6\n",
       "            02-03-01  59 ST         6\n",
       "            02-03-02  59 ST         6\n",
       "            02-03-03  59 ST         6\n",
       "            02-03-04  59 ST         6\n",
       "            02-03-05  59 ST         6\n",
       "            02-03-06  59 ST         6\n",
       "            02-05-00  59 ST         2\n",
       "            02-06-00  59 ST         6\n",
       "A006  R079  00-00-00  5 AV/59 ST    6\n",
       "                                   ..\n",
       "R248  R178  00-00-06  77 ST         6\n",
       "            00-00-07  77 ST         6\n",
       "R501  R054  00-00-00  5 AVE         6\n",
       "            00-00-01  5 AVE         6\n",
       "            00-00-02  5 AVE         6\n",
       "            00-00-03  5 AVE         6\n",
       "            00-00-04  5 AVE         6\n",
       "            00-00-05  5 AVE         6\n",
       "            00-00-06  5 AVE         6\n",
       "            00-00-07  5 AVE         6\n",
       "            00-06-00  5 AVE         6\n",
       "            00-06-01  5 AVE         6\n",
       "Length: 325, dtype: int64"
      ]
     },
     "execution_count": 22,
     "metadata": {},
     "output_type": "execute_result"
    }
   ],
   "source": [
    "# counting how many stations are reversed\n",
    "(entries_df[entries_df['ENTRIES'] < entries_df['PREV ENTRIES']]\n",
    " .groupby(['C/A', 'UNIT', 'SCP', 'STATION'])\n",
    " .size())"
   ]
  },
  {
   "cell_type": "code",
   "execution_count": 24,
   "metadata": {},
   "outputs": [],
   "source": [
    "# Now let's find a way to overcome this problem\n",
    "def get_daily_counts(row, max_counter):\n",
    "    '''\n",
    "    This function will count the number of entries by day for each station.\n",
    "    It will handle those stations that are counting backwards.\n",
    "    '''\n",
    "    # set a counter, if the counter is negative, the entries are being counted in reverse order\n",
    "    counter = row['ENTRIES'] - row['PREV ENTRIES']\n",
    "    # define how to handle this error\n",
    "    if counter < 0:\n",
    "        counter = -counter\n",
    "    if counter > max_counter:\n",
    "        print(row['ENTRIES'], row['PRE ENTRIES'])\n",
    "        counter = min(row['ENTRIES'], row['PRE ENTRIES'])\n",
    "    if counter > max_counter:\n",
    "        # Check it again to make sure we're not still giving a counter that's too big\n",
    "        return 0\n",
    "    return counter\n",
    "\n",
    "# If counter is > 1Million, then the counter might have been reset.  \n",
    "# Just set it to zero as different counters have different cycle limits"
   ]
  },
  {
   "cell_type": "code",
   "execution_count": 25,
   "metadata": {},
   "outputs": [],
   "source": [
    "_ = entries_df.apply(get_daily_counts, axis=1, max_counter=1000000)"
   ]
  },
  {
   "cell_type": "code",
   "execution_count": 26,
   "metadata": {},
   "outputs": [],
   "source": [
    "entries_df['DAILY ENTRIES'] = (entries_df\n",
    "                               .apply(get_daily_counts, axis=1, max_counter=1000000))"
   ]
  },
  {
   "cell_type": "code",
   "execution_count": 27,
   "metadata": {},
   "outputs": [
    {
     "data": {
      "text/html": [
       "<div>\n",
       "<style scoped>\n",
       "    .dataframe tbody tr th:only-of-type {\n",
       "        vertical-align: middle;\n",
       "    }\n",
       "\n",
       "    .dataframe tbody tr th {\n",
       "        vertical-align: top;\n",
       "    }\n",
       "\n",
       "    .dataframe thead th {\n",
       "        text-align: right;\n",
       "    }\n",
       "</style>\n",
       "<table border=\"1\" class=\"dataframe\">\n",
       "  <thead>\n",
       "    <tr style=\"text-align: right;\">\n",
       "      <th></th>\n",
       "      <th>C/A</th>\n",
       "      <th>UNIT</th>\n",
       "      <th>SCP</th>\n",
       "      <th>STATION</th>\n",
       "      <th>DATE</th>\n",
       "      <th>ENTRIES</th>\n",
       "      <th>PREV DATE</th>\n",
       "      <th>PREV ENTRIES</th>\n",
       "      <th>DAILY ENTRIES</th>\n",
       "    </tr>\n",
       "  </thead>\n",
       "  <tbody>\n",
       "    <tr>\n",
       "      <th>2366</th>\n",
       "      <td>R501</td>\n",
       "      <td>R054</td>\n",
       "      <td>00-06-01</td>\n",
       "      <td>5 AVE</td>\n",
       "      <td>06/14/2018</td>\n",
       "      <td>135495343</td>\n",
       "      <td>06/15/2018</td>\n",
       "      <td>1.355e+08</td>\n",
       "      <td>2692.0</td>\n",
       "    </tr>\n",
       "    <tr>\n",
       "      <th>2365</th>\n",
       "      <td>R501</td>\n",
       "      <td>R054</td>\n",
       "      <td>00-06-01</td>\n",
       "      <td>5 AVE</td>\n",
       "      <td>06/13/2018</td>\n",
       "      <td>135492927</td>\n",
       "      <td>06/14/2018</td>\n",
       "      <td>1.355e+08</td>\n",
       "      <td>2416.0</td>\n",
       "    </tr>\n",
       "    <tr>\n",
       "      <th>2364</th>\n",
       "      <td>R501</td>\n",
       "      <td>R054</td>\n",
       "      <td>00-06-01</td>\n",
       "      <td>5 AVE</td>\n",
       "      <td>06/12/2018</td>\n",
       "      <td>135490397</td>\n",
       "      <td>06/13/2018</td>\n",
       "      <td>1.355e+08</td>\n",
       "      <td>2530.0</td>\n",
       "    </tr>\n",
       "    <tr>\n",
       "      <th>2363</th>\n",
       "      <td>R501</td>\n",
       "      <td>R054</td>\n",
       "      <td>00-06-01</td>\n",
       "      <td>5 AVE</td>\n",
       "      <td>06/11/2018</td>\n",
       "      <td>135488022</td>\n",
       "      <td>06/12/2018</td>\n",
       "      <td>1.355e+08</td>\n",
       "      <td>2375.0</td>\n",
       "    </tr>\n",
       "    <tr>\n",
       "      <th>2362</th>\n",
       "      <td>R501</td>\n",
       "      <td>R054</td>\n",
       "      <td>00-06-01</td>\n",
       "      <td>5 AVE</td>\n",
       "      <td>06/10/2018</td>\n",
       "      <td>135486976</td>\n",
       "      <td>06/11/2018</td>\n",
       "      <td>1.355e+08</td>\n",
       "      <td>1046.0</td>\n",
       "    </tr>\n",
       "  </tbody>\n",
       "</table>\n",
       "</div>"
      ],
      "text/plain": [
       "       C/A  UNIT       SCP STATION        DATE    ENTRIES   PREV DATE  \\\n",
       "2366  R501  R054  00-06-01   5 AVE  06/14/2018  135495343  06/15/2018   \n",
       "2365  R501  R054  00-06-01   5 AVE  06/13/2018  135492927  06/14/2018   \n",
       "2364  R501  R054  00-06-01   5 AVE  06/12/2018  135490397  06/13/2018   \n",
       "2363  R501  R054  00-06-01   5 AVE  06/11/2018  135488022  06/12/2018   \n",
       "2362  R501  R054  00-06-01   5 AVE  06/10/2018  135486976  06/11/2018   \n",
       "\n",
       "      PREV ENTRIES  DAILY ENTRIES  \n",
       "2366     1.355e+08         2692.0  \n",
       "2365     1.355e+08         2416.0  \n",
       "2364     1.355e+08         2530.0  \n",
       "2363     1.355e+08         2375.0  \n",
       "2362     1.355e+08         1046.0  "
      ]
     },
     "execution_count": 27,
     "metadata": {},
     "output_type": "execute_result"
    }
   ],
   "source": [
    "entries_df.head()"
   ]
  },
  {
   "cell_type": "markdown",
   "metadata": {},
   "source": [
    "# Challenge 4\n",
    "We will plot the daily time series for a turnstile."
   ]
  },
  {
   "cell_type": "code",
   "execution_count": 28,
   "metadata": {},
   "outputs": [],
   "source": [
    "# extract a list of dates and a list of entries\n",
    "date = list(entries_df['DATE'])\n",
    "entries = list(entries_df['DAILY ENTRIES'])"
   ]
  },
  {
   "cell_type": "code",
   "execution_count": 29,
   "metadata": {},
   "outputs": [
    {
     "data": {
      "text/plain": [
       "[<matplotlib.lines.Line2D at 0x1a1f1d0210>]"
      ]
     },
     "execution_count": 29,
     "metadata": {},
     "output_type": "execute_result"
    },
    {
     "data": {
      "image/png": "[encoded data removed]",
      "text/plain": [
       "<matplotlib.figure.Figure at 0x1a21b3cd90>"
      ]
     },
     "metadata": {},
     "output_type": "display_data"
    }
   ],
   "source": [
    "# set plot size\n",
    "plt.figure(figsize=(10,3))\n",
    "# set plot axis\n",
    "plt.plot(date, entries)"
   ]
  },
  {
   "cell_type": "code",
   "execution_count": 30,
   "metadata": {},
   "outputs": [
    {
     "name": "stderr",
     "output_type": "stream",
     "text": [
      "/anaconda2/lib/python2.7/site-packages/scipy/stats/stats.py:1713: FutureWarning: Using a non-tuple sequence for multidimensional indexing is deprecated; use `arr[tuple(seq)]` instead of `arr[seq]`. In the future this will be interpreted as an array index, `arr[np.array(seq)]`, which will result either in an error or a different result.\n",
      "  return np.add.reduce(sorted[indexer] * weights, axis=axis) / sumval\n"
     ]
    },
    {
     "data": {
      "text/plain": [
       "Text(0.5,0,u'Daily Entries')"
      ]
     },
     "execution_count": 30,
     "metadata": {},
     "output_type": "execute_result"
    },
    {
     "data": {
      "image/png": "[encoded data removed]",
      "text/plain": [
       "<matplotlib.figure.Figure at 0x1a1f1da090>"
      ]
     },
     "metadata": {},
     "output_type": "display_data"
    }
   ],
   "source": [
    "sns.distplot(entries)\n",
    "plt.xlabel('Daily Entries')"
   ]
  },
  {
   "cell_type": "markdown",
   "metadata": {},
   "source": [
    "# Challenge 5\n",
    "So far we've been operating on a single turnstile level, let's combine turnstiles in the same ControlArea/Unit/Station combo.  \n",
    "There are some ControlArea/Unit/Station groups that have a single turnstile, but most have multiple turnstilea-- same value for the C/A, UNIT and STATION columns, different values for the SCP column.  \n",
    "We want to combine the numbers together -- for each ControlArea/UNIT/STATION combo, for each day, add the counts from each turnstile belonging to that combo."
   ]
  },
  {
   "cell_type": "code",
   "execution_count": 32,
   "metadata": {},
   "outputs": [],
   "source": [
    "turnstile = (entries_df\n",
    "                   .groupby(['C/A', 'UNIT', 'STATION', 'DATE'])[['DAILY ENTRIES']]\n",
    "                   .sum().reset_index())"
   ]
  },
  {
   "cell_type": "code",
   "execution_count": 33,
   "metadata": {},
   "outputs": [
    {
     "data": {
      "text/html": [
       "<div>\n",
       "<style scoped>\n",
       "    .dataframe tbody tr th:only-of-type {\n",
       "        vertical-align: middle;\n",
       "    }\n",
       "\n",
       "    .dataframe tbody tr th {\n",
       "        vertical-align: top;\n",
       "    }\n",
       "\n",
       "    .dataframe thead th {\n",
       "        text-align: right;\n",
       "    }\n",
       "</style>\n",
       "<table border=\"1\" class=\"dataframe\">\n",
       "  <thead>\n",
       "    <tr style=\"text-align: right;\">\n",
       "      <th></th>\n",
       "      <th>C/A</th>\n",
       "      <th>UNIT</th>\n",
       "      <th>STATION</th>\n",
       "      <th>DATE</th>\n",
       "      <th>DAILY ENTRIES</th>\n",
       "    </tr>\n",
       "  </thead>\n",
       "  <tbody>\n",
       "    <tr>\n",
       "      <th>0</th>\n",
       "      <td>A002</td>\n",
       "      <td>R051</td>\n",
       "      <td>59 ST</td>\n",
       "      <td>06/09/2018</td>\n",
       "      <td>7714.0</td>\n",
       "    </tr>\n",
       "    <tr>\n",
       "      <th>1</th>\n",
       "      <td>A002</td>\n",
       "      <td>R051</td>\n",
       "      <td>59 ST</td>\n",
       "      <td>06/10/2018</td>\n",
       "      <td>6337.0</td>\n",
       "    </tr>\n",
       "    <tr>\n",
       "      <th>2</th>\n",
       "      <td>A002</td>\n",
       "      <td>R051</td>\n",
       "      <td>59 ST</td>\n",
       "      <td>06/11/2018</td>\n",
       "      <td>13107.0</td>\n",
       "    </tr>\n",
       "    <tr>\n",
       "      <th>3</th>\n",
       "      <td>A002</td>\n",
       "      <td>R051</td>\n",
       "      <td>59 ST</td>\n",
       "      <td>06/12/2018</td>\n",
       "      <td>13659.0</td>\n",
       "    </tr>\n",
       "    <tr>\n",
       "      <th>4</th>\n",
       "      <td>A002</td>\n",
       "      <td>R051</td>\n",
       "      <td>59 ST</td>\n",
       "      <td>06/13/2018</td>\n",
       "      <td>13453.0</td>\n",
       "    </tr>\n",
       "  </tbody>\n",
       "</table>\n",
       "</div>"
      ],
      "text/plain": [
       "    C/A  UNIT STATION        DATE  DAILY ENTRIES\n",
       "0  A002  R051   59 ST  06/09/2018         7714.0\n",
       "1  A002  R051   59 ST  06/10/2018         6337.0\n",
       "2  A002  R051   59 ST  06/11/2018        13107.0\n",
       "3  A002  R051   59 ST  06/12/2018        13659.0\n",
       "4  A002  R051   59 ST  06/13/2018        13453.0"
      ]
     },
     "execution_count": 33,
     "metadata": {},
     "output_type": "execute_result"
    }
   ],
   "source": [
    "turnstile.head()"
   ]
  },
  {
   "cell_type": "code",
   "execution_count": null,
   "metadata": {},
   "outputs": [],
   "source": [
    "# turnstile_count = (entries_df\n",
    "#                    .groupby(['C/A', 'UNIT', 'STATION', 'DATE'])['SCP']\n",
    "#                    .nunique().reset_index()\n",
    "#                   .sort_values(by='SCP', ascending=False))"
   ]
  },
  {
   "cell_type": "markdown",
   "metadata": {},
   "source": [
    "# Challenge 6\n",
    "Similarly, combine everything in each station, and come up with a time series of [(date1, count1),(date2,count2),...] type of time series for each STATION, by adding up all the turnstiles in a station."
   ]
  },
  {
   "cell_type": "code",
   "execution_count": 36,
   "metadata": {},
   "outputs": [],
   "source": [
    "entries_df['DATE'] = pd.to_datetime(entries_df['DATE'])"
   ]
  },
  {
   "cell_type": "code",
   "execution_count": 38,
   "metadata": {},
   "outputs": [],
   "source": [
    "station = (entries_df\n",
    "                   .groupby(['STATION', 'DATE'])[['DAILY ENTRIES']]\n",
    "                   .sum().reset_index())\n",
    "#                   .sort_values(by='SCP', ascending=False))"
   ]
  },
  {
   "cell_type": "code",
   "execution_count": 39,
   "metadata": {},
   "outputs": [
    {
     "data": {
      "text/html": [
       "<div>\n",
       "<style scoped>\n",
       "    .dataframe tbody tr th:only-of-type {\n",
       "        vertical-align: middle;\n",
       "    }\n",
       "\n",
       "    .dataframe tbody tr th {\n",
       "        vertical-align: top;\n",
       "    }\n",
       "\n",
       "    .dataframe thead th {\n",
       "        text-align: right;\n",
       "    }\n",
       "</style>\n",
       "<table border=\"1\" class=\"dataframe\">\n",
       "  <thead>\n",
       "    <tr style=\"text-align: right;\">\n",
       "      <th></th>\n",
       "      <th>STATION</th>\n",
       "      <th>DATE</th>\n",
       "      <th>DAILY ENTRIES</th>\n",
       "    </tr>\n",
       "  </thead>\n",
       "  <tbody>\n",
       "    <tr>\n",
       "      <th>0</th>\n",
       "      <td>42 ST-BRYANT PK</td>\n",
       "      <td>2018-06-09</td>\n",
       "      <td>15071.0</td>\n",
       "    </tr>\n",
       "    <tr>\n",
       "      <th>1</th>\n",
       "      <td>42 ST-BRYANT PK</td>\n",
       "      <td>2018-06-10</td>\n",
       "      <td>11893.0</td>\n",
       "    </tr>\n",
       "    <tr>\n",
       "      <th>2</th>\n",
       "      <td>42 ST-BRYANT PK</td>\n",
       "      <td>2018-06-11</td>\n",
       "      <td>43406.0</td>\n",
       "    </tr>\n",
       "    <tr>\n",
       "      <th>3</th>\n",
       "      <td>42 ST-BRYANT PK</td>\n",
       "      <td>2018-06-12</td>\n",
       "      <td>47266.0</td>\n",
       "    </tr>\n",
       "    <tr>\n",
       "      <th>4</th>\n",
       "      <td>42 ST-BRYANT PK</td>\n",
       "      <td>2018-06-13</td>\n",
       "      <td>47019.0</td>\n",
       "    </tr>\n",
       "  </tbody>\n",
       "</table>\n",
       "</div>"
      ],
      "text/plain": [
       "           STATION       DATE  DAILY ENTRIES\n",
       "0  42 ST-BRYANT PK 2018-06-09        15071.0\n",
       "1  42 ST-BRYANT PK 2018-06-10        11893.0\n",
       "2  42 ST-BRYANT PK 2018-06-11        43406.0\n",
       "3  42 ST-BRYANT PK 2018-06-12        47266.0\n",
       "4  42 ST-BRYANT PK 2018-06-13        47019.0"
      ]
     },
     "execution_count": 39,
     "metadata": {},
     "output_type": "execute_result"
    }
   ],
   "source": [
    "station.head()"
   ]
  },
  {
   "cell_type": "markdown",
   "metadata": {},
   "source": [
    "# Challenge 7\n",
    "Plot the time series for a station."
   ]
  },
  {
   "cell_type": "code",
   "execution_count": 44,
   "metadata": {},
   "outputs": [],
   "source": [
    "# select a station to plot the data\n",
    "bryant = station[station['STATION'] == '42 ST-BRYANT PK']"
   ]
  },
  {
   "cell_type": "code",
   "execution_count": 47,
   "metadata": {},
   "outputs": [
    {
     "data": {
      "text/plain": [
       "Text(0.5,1,u'Daily entries 42 ST-BRYANT PK')"
      ]
     },
     "execution_count": 47,
     "metadata": {},
     "output_type": "execute_result"
    },
    {
     "data": {
      "image/png": "[encoded data removed]",
      "text/plain": [
       "<matplotlib.figure.Figure at 0x1a1e556d10>"
      ]
     },
     "metadata": {},
     "output_type": "display_data"
    }
   ],
   "source": [
    "plt.plot(bryant['DATE'], bryant['DAILY ENTRIES'])\n",
    "plt.xlabel('Date')\n",
    "plt.ylabel('Entrie')\n",
    "plt.title('Daily entries 42 ST-BRYANT PK')"
   ]
  },
  {
   "cell_type": "markdown",
   "metadata": {},
   "source": [
    "# Challenge 8\n",
    "Make one list of counts for one week for one station. Monday's count, Tuesday's count, etc. so it's a list of 7 counts. Make the same list for another week, and another week, and another week. plt.plot(week_count_list) for every week_count_list you created this way. You should get a rainbow plot of weekly commute numbers on top of each other."
   ]
  },
  {
   "cell_type": "code",
   "execution_count": 48,
   "metadata": {},
   "outputs": [
    {
     "name": "stderr",
     "output_type": "stream",
     "text": [
      "/anaconda2/lib/python2.7/site-packages/ipykernel_launcher.py:1: SettingWithCopyWarning: \n",
      "A value is trying to be set on a copy of a slice from a DataFrame.\n",
      "Try using .loc[row_indexer,col_indexer] = value instead\n",
      "\n",
      "See the caveats in the documentation: http://pandas.pydata.org/pandas-docs/stable/indexing.html#indexing-view-versus-copy\n",
      "  \"\"\"Entry point for launching an IPython kernel.\n"
     ]
    }
   ],
   "source": [
    "bryant['WEEK DAY'] = bryant['DATE'].dt.day_name()"
   ]
  },
  {
   "cell_type": "code",
   "execution_count": 49,
   "metadata": {},
   "outputs": [],
   "source": [
    "bryant_week_count = (bryant\n",
    "                 .groupby(['WEEK DAY'])['DAILY ENTRIES']\n",
    "                 .sum()\n",
    "                 .reset_index())"
   ]
  },
  {
   "cell_type": "code",
   "execution_count": 50,
   "metadata": {},
   "outputs": [],
   "source": [
    "bryant_week_count_list = bryant_week_count.values.tolist()"
   ]
  },
  {
   "cell_type": "code",
   "execution_count": 51,
   "metadata": {},
   "outputs": [
    {
     "data": {
      "text/plain": [
       "[['Monday', 43406.0],\n",
       " ['Saturday', 15071.0],\n",
       " ['Sunday', 11893.0],\n",
       " ['Thursday', 46720.0],\n",
       " ['Tuesday', 47266.0],\n",
       " ['Wednesday', 47019.0]]"
      ]
     },
     "execution_count": 51,
     "metadata": {},
     "output_type": "execute_result"
    }
   ],
   "source": [
    "bryant_week_count_list"
   ]
  },
  {
   "cell_type": "markdown",
   "metadata": {},
   "source": [
    "# Challenge 9\n",
    "Over multiple weeks, sum total ridership for each station and sort them, so you can find out the stations with the highest traffic during the time you investigate"
   ]
  },
  {
   "cell_type": "code",
   "execution_count": 52,
   "metadata": {},
   "outputs": [],
   "source": [
    "station['WEEK DAY'] = station['DATE'].dt.day_name()"
   ]
  },
  {
   "cell_type": "code",
   "execution_count": 57,
   "metadata": {},
   "outputs": [],
   "source": [
    "week_count = (station\n",
    "                 .groupby(['STATION','WEEK DAY'])['DAILY ENTRIES']\n",
    "                 .sum()\n",
    "                 .reset_index())"
   ]
  },
  {
   "cell_type": "code",
   "execution_count": 62,
   "metadata": {},
   "outputs": [
    {
     "data": {
      "text/html": [
       "<div>\n",
       "<style scoped>\n",
       "    .dataframe tbody tr th:only-of-type {\n",
       "        vertical-align: middle;\n",
       "    }\n",
       "\n",
       "    .dataframe tbody tr th {\n",
       "        vertical-align: top;\n",
       "    }\n",
       "\n",
       "    .dataframe thead th {\n",
       "        text-align: right;\n",
       "    }\n",
       "</style>\n",
       "<table border=\"1\" class=\"dataframe\">\n",
       "  <thead>\n",
       "    <tr style=\"text-align: right;\">\n",
       "      <th></th>\n",
       "      <th>STATION</th>\n",
       "      <th>WEEK DAY</th>\n",
       "      <th>DAILY ENTRIES</th>\n",
       "    </tr>\n",
       "  </thead>\n",
       "  <tbody>\n",
       "    <tr>\n",
       "      <th>65</th>\n",
       "      <td>GRD CNTRL-42 ST</td>\n",
       "      <td>Wednesday</td>\n",
       "      <td>168785.0</td>\n",
       "    </tr>\n",
       "    <tr>\n",
       "      <th>63</th>\n",
       "      <td>GRD CNTRL-42 ST</td>\n",
       "      <td>Thursday</td>\n",
       "      <td>166864.0</td>\n",
       "    </tr>\n",
       "    <tr>\n",
       "      <th>64</th>\n",
       "      <td>GRD CNTRL-42 ST</td>\n",
       "      <td>Tuesday</td>\n",
       "      <td>165245.0</td>\n",
       "    </tr>\n",
       "    <tr>\n",
       "      <th>60</th>\n",
       "      <td>GRD CNTRL-42 ST</td>\n",
       "      <td>Monday</td>\n",
       "      <td>158070.0</td>\n",
       "    </tr>\n",
       "    <tr>\n",
       "      <th>45</th>\n",
       "      <td>59 ST</td>\n",
       "      <td>Thursday</td>\n",
       "      <td>73368.0</td>\n",
       "    </tr>\n",
       "    <tr>\n",
       "      <th>46</th>\n",
       "      <td>59 ST</td>\n",
       "      <td>Tuesday</td>\n",
       "      <td>72316.0</td>\n",
       "    </tr>\n",
       "    <tr>\n",
       "      <th>47</th>\n",
       "      <td>59 ST</td>\n",
       "      <td>Wednesday</td>\n",
       "      <td>72133.0</td>\n",
       "    </tr>\n",
       "    <tr>\n",
       "      <th>42</th>\n",
       "      <td>59 ST</td>\n",
       "      <td>Monday</td>\n",
       "      <td>68568.0</td>\n",
       "    </tr>\n",
       "    <tr>\n",
       "      <th>11</th>\n",
       "      <td>47-50 STS ROCK</td>\n",
       "      <td>Wednesday</td>\n",
       "      <td>65561.0</td>\n",
       "    </tr>\n",
       "    <tr>\n",
       "      <th>10</th>\n",
       "      <td>47-50 STS ROCK</td>\n",
       "      <td>Tuesday</td>\n",
       "      <td>63796.0</td>\n",
       "    </tr>\n",
       "    <tr>\n",
       "      <th>9</th>\n",
       "      <td>47-50 STS ROCK</td>\n",
       "      <td>Thursday</td>\n",
       "      <td>63782.0</td>\n",
       "    </tr>\n",
       "    <tr>\n",
       "      <th>61</th>\n",
       "      <td>GRD CNTRL-42 ST</td>\n",
       "      <td>Saturday</td>\n",
       "      <td>59816.0</td>\n",
       "    </tr>\n",
       "    <tr>\n",
       "      <th>...</th>\n",
       "      <td>...</td>\n",
       "      <td>...</td>\n",
       "      <td>...</td>\n",
       "    </tr>\n",
       "    <tr>\n",
       "      <th>31</th>\n",
       "      <td>51 ST</td>\n",
       "      <td>Saturday</td>\n",
       "      <td>8753.0</td>\n",
       "    </tr>\n",
       "    <tr>\n",
       "      <th>13</th>\n",
       "      <td>5 AV/53 ST</td>\n",
       "      <td>Saturday</td>\n",
       "      <td>8299.0</td>\n",
       "    </tr>\n",
       "    <tr>\n",
       "      <th>49</th>\n",
       "      <td>68ST-HUNTER CO</td>\n",
       "      <td>Saturday</td>\n",
       "      <td>8164.0</td>\n",
       "    </tr>\n",
       "    <tr>\n",
       "      <th>74</th>\n",
       "      <td>LEXINGTON AV/63</td>\n",
       "      <td>Sunday</td>\n",
       "      <td>7990.0</td>\n",
       "    </tr>\n",
       "    <tr>\n",
       "      <th>20</th>\n",
       "      <td>5 AV/59 ST</td>\n",
       "      <td>Sunday</td>\n",
       "      <td>7463.0</td>\n",
       "    </tr>\n",
       "    <tr>\n",
       "      <th>32</th>\n",
       "      <td>51 ST</td>\n",
       "      <td>Sunday</td>\n",
       "      <td>7305.0</td>\n",
       "    </tr>\n",
       "    <tr>\n",
       "      <th>50</th>\n",
       "      <td>68ST-HUNTER CO</td>\n",
       "      <td>Sunday</td>\n",
       "      <td>7271.0</td>\n",
       "    </tr>\n",
       "    <tr>\n",
       "      <th>14</th>\n",
       "      <td>5 AV/53 ST</td>\n",
       "      <td>Sunday</td>\n",
       "      <td>6711.0</td>\n",
       "    </tr>\n",
       "    <tr>\n",
       "      <th>25</th>\n",
       "      <td>5 AVE</td>\n",
       "      <td>Saturday</td>\n",
       "      <td>5713.0</td>\n",
       "    </tr>\n",
       "    <tr>\n",
       "      <th>26</th>\n",
       "      <td>5 AVE</td>\n",
       "      <td>Sunday</td>\n",
       "      <td>4315.0</td>\n",
       "    </tr>\n",
       "    <tr>\n",
       "      <th>37</th>\n",
       "      <td>57 ST</td>\n",
       "      <td>Saturday</td>\n",
       "      <td>2658.0</td>\n",
       "    </tr>\n",
       "    <tr>\n",
       "      <th>38</th>\n",
       "      <td>57 ST</td>\n",
       "      <td>Sunday</td>\n",
       "      <td>2553.0</td>\n",
       "    </tr>\n",
       "  </tbody>\n",
       "</table>\n",
       "<p>78 rows × 3 columns</p>\n",
       "</div>"
      ],
      "text/plain": [
       "            STATION   WEEK DAY  DAILY ENTRIES\n",
       "65  GRD CNTRL-42 ST  Wednesday       168785.0\n",
       "63  GRD CNTRL-42 ST   Thursday       166864.0\n",
       "64  GRD CNTRL-42 ST    Tuesday       165245.0\n",
       "60  GRD CNTRL-42 ST     Monday       158070.0\n",
       "45            59 ST   Thursday        73368.0\n",
       "46            59 ST    Tuesday        72316.0\n",
       "47            59 ST  Wednesday        72133.0\n",
       "42            59 ST     Monday        68568.0\n",
       "11   47-50 STS ROCK  Wednesday        65561.0\n",
       "10   47-50 STS ROCK    Tuesday        63796.0\n",
       "9    47-50 STS ROCK   Thursday        63782.0\n",
       "61  GRD CNTRL-42 ST   Saturday        59816.0\n",
       "..              ...        ...            ...\n",
       "31            51 ST   Saturday         8753.0\n",
       "13       5 AV/53 ST   Saturday         8299.0\n",
       "49   68ST-HUNTER CO   Saturday         8164.0\n",
       "74  LEXINGTON AV/63     Sunday         7990.0\n",
       "20       5 AV/59 ST     Sunday         7463.0\n",
       "32            51 ST     Sunday         7305.0\n",
       "50   68ST-HUNTER CO     Sunday         7271.0\n",
       "14       5 AV/53 ST     Sunday         6711.0\n",
       "25            5 AVE   Saturday         5713.0\n",
       "26            5 AVE     Sunday         4315.0\n",
       "37            57 ST   Saturday         2658.0\n",
       "38            57 ST     Sunday         2553.0\n",
       "\n",
       "[78 rows x 3 columns]"
      ]
     },
     "execution_count": 62,
     "metadata": {},
     "output_type": "execute_result"
    }
   ],
   "source": [
    "week_count.sort_values(by=['DAILY ENTRIES'], ascending=False)"
   ]
  },
  {
   "cell_type": "markdown",
   "metadata": {},
   "source": [
    "# Challenge 10\n",
    "Make a single list of these total ridership values and plot it with\n",
    "\n",
    "plt.hist(total_ridership_counts)"
   ]
  },
  {
   "cell_type": "code",
   "execution_count": 84,
   "metadata": {},
   "outputs": [],
   "source": [
    "total_ridership_counts = (week_count\n",
    "                 .groupby(['STATION'])['DAILY ENTRIES']\n",
    "                 .sum()\n",
    "                 .reset_index())"
   ]
  },
  {
   "cell_type": "code",
   "execution_count": 73,
   "metadata": {},
   "outputs": [],
   "source": [
    "total_ridership_counts = total_ridership_counts.values.tolist()"
   ]
  },
  {
   "cell_type": "code",
   "execution_count": 85,
   "metadata": {},
   "outputs": [
    {
     "data": {
      "text/html": [
       "<div>\n",
       "<style scoped>\n",
       "    .dataframe tbody tr th:only-of-type {\n",
       "        vertical-align: middle;\n",
       "    }\n",
       "\n",
       "    .dataframe tbody tr th {\n",
       "        vertical-align: top;\n",
       "    }\n",
       "\n",
       "    .dataframe thead th {\n",
       "        text-align: right;\n",
       "    }\n",
       "</style>\n",
       "<table border=\"1\" class=\"dataframe\">\n",
       "  <thead>\n",
       "    <tr style=\"text-align: right;\">\n",
       "      <th></th>\n",
       "      <th>STATION</th>\n",
       "      <th>DAILY ENTRIES</th>\n",
       "    </tr>\n",
       "  </thead>\n",
       "  <tbody>\n",
       "    <tr>\n",
       "      <th>0</th>\n",
       "      <td>42 ST-BRYANT PK</td>\n",
       "      <td>211375.0</td>\n",
       "    </tr>\n",
       "    <tr>\n",
       "      <th>1</th>\n",
       "      <td>47-50 STS ROCK</td>\n",
       "      <td>283827.0</td>\n",
       "    </tr>\n",
       "    <tr>\n",
       "      <th>2</th>\n",
       "      <td>5 AV/53 ST</td>\n",
       "      <td>126261.0</td>\n",
       "    </tr>\n",
       "    <tr>\n",
       "      <th>3</th>\n",
       "      <td>5 AV/59 ST</td>\n",
       "      <td>89327.0</td>\n",
       "    </tr>\n",
       "    <tr>\n",
       "      <th>4</th>\n",
       "      <td>5 AVE</td>\n",
       "      <td>65400.0</td>\n",
       "    </tr>\n",
       "    <tr>\n",
       "      <th>5</th>\n",
       "      <td>51 ST</td>\n",
       "      <td>107745.0</td>\n",
       "    </tr>\n",
       "    <tr>\n",
       "      <th>6</th>\n",
       "      <td>57 ST</td>\n",
       "      <td>63317.0</td>\n",
       "    </tr>\n",
       "    <tr>\n",
       "      <th>7</th>\n",
       "      <td>59 ST</td>\n",
       "      <td>362892.0</td>\n",
       "    </tr>\n",
       "    <tr>\n",
       "      <th>8</th>\n",
       "      <td>68ST-HUNTER CO</td>\n",
       "      <td>102538.0</td>\n",
       "    </tr>\n",
       "    <tr>\n",
       "      <th>9</th>\n",
       "      <td>77 ST</td>\n",
       "      <td>161659.0</td>\n",
       "    </tr>\n",
       "    <tr>\n",
       "      <th>10</th>\n",
       "      <td>GRD CNTRL-42 ST</td>\n",
       "      <td>769262.0</td>\n",
       "    </tr>\n",
       "    <tr>\n",
       "      <th>11</th>\n",
       "      <td>LEXINGTON AV/53</td>\n",
       "      <td>208637.0</td>\n",
       "    </tr>\n",
       "    <tr>\n",
       "      <th>12</th>\n",
       "      <td>LEXINGTON AV/63</td>\n",
       "      <td>107573.0</td>\n",
       "    </tr>\n",
       "  </tbody>\n",
       "</table>\n",
       "</div>"
      ],
      "text/plain": [
       "            STATION  DAILY ENTRIES\n",
       "0   42 ST-BRYANT PK       211375.0\n",
       "1    47-50 STS ROCK       283827.0\n",
       "2        5 AV/53 ST       126261.0\n",
       "3        5 AV/59 ST        89327.0\n",
       "4             5 AVE        65400.0\n",
       "5             51 ST       107745.0\n",
       "6             57 ST        63317.0\n",
       "7             59 ST       362892.0\n",
       "8    68ST-HUNTER CO       102538.0\n",
       "9             77 ST       161659.0\n",
       "10  GRD CNTRL-42 ST       769262.0\n",
       "11  LEXINGTON AV/53       208637.0\n",
       "12  LEXINGTON AV/63       107573.0"
      ]
     },
     "execution_count": 85,
     "metadata": {},
     "output_type": "execute_result"
    }
   ],
   "source": [
    "total_ridership_counts"
   ]
  },
  {
   "cell_type": "code",
   "execution_count": 95,
   "metadata": {},
   "outputs": [
    {
     "data": {
      "text/plain": [
       "Text(0,0.5,u'Number of Stations')"
      ]
     },
     "execution_count": 95,
     "metadata": {},
     "output_type": "execute_result"
    },
    {
     "data": {
      "image/png": "[encoded data removed]",
      "text/plain": [
       "<matplotlib.figure.Figure at 0x1a21614390>"
      ]
     },
     "metadata": {},
     "output_type": "display_data"
    }
   ],
   "source": [
    "plt.hist(total_ridership_counts['DAILY ENTRIES'])\n",
    "plt.title('Stations Activity')\n",
    "plt.xlabel('Daily Entries')\n",
    "plt.ylabel('Number of Stations')"
   ]
  },
  {
   "cell_type": "code",
   "execution_count": null,
   "metadata": {},
   "outputs": [],
   "source": []
  }
 ],
 "metadata": {
  "kernelspec": {
   "display_name": "Python 2",
   "language": "python",
   "name": "python2"
  },
  "language_info": {
   "codemirror_mode": {
    "name": "ipython",
    "version": 2
   },
   "file_extension": ".py",
   "mimetype": "text/x-python",
   "name": "python",
   "nbconvert_exporter": "python",
   "pygments_lexer": "ipython2",
   "version": "2.7.15"
  }
 },
 "nbformat": 4,
 "nbformat_minor": 2
}
