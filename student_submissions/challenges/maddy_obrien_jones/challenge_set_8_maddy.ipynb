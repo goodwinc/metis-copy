{
 "cells": [
  {
   "cell_type": "markdown",
   "metadata": {},
   "source": [
    "### Topic: Challenge Set 8   \n",
    "### Subject: Classification Errors\n",
    "### Date: 10/22/2018  \n",
    "### Name: Maddy O'Brien Jones  \n",
    "### Worked: alone  "
   ]
  },
  {
   "cell_type": "markdown",
   "metadata": {},
   "source": [
    "**Settings: Where applicable, use test_size=0.30, random_state=4444. This will permit comparison of results across users."
   ]
  },
  {
   "cell_type": "markdown",
   "metadata": {},
   "source": [
    "### Challenge 1  \n",
    "For the house representatives data set, calculate the accuracy, precision, recall and f1 scores of each classifier you built (on the test set)."
   ]
  },
  {
   "cell_type": "code",
   "execution_count": 51,
   "metadata": {},
   "outputs": [],
   "source": [
    "import pandas as pd\n",
    "import numpy as np\n",
    "\n",
    "import matplotlib.pyplot as plt\n",
    "import seaborn as sns\n",
    "plt.style.use('fivethirtyeight')\n",
    "\n",
    "%matplotlib inline\n",
    "\n",
    "# modelling imports\n",
    "from sklearn.linear_model import LogisticRegression\n",
    "from sklearn.model_selection import train_test_split\n",
    "from sklearn.metrics import precision_score, recall_score, accuracy_score, roc_auc_score, f1_score\n",
    "from sklearn.metrics import confusion_matrix\n",
    "from sklearn.preprocessing import StandardScaler\n",
    "from sklearn.datasets import load_breast_cancer\n",
    "from sklearn.neighbors import KNeighborsClassifier\n",
    "from sklearn import metrics\n",
    "from sklearn.model_selection import GridSearchCV\n",
    "from sklearn.model_selection import RandomizedSearchCV\n",
    "from sklearn.naive_bayes import GaussianNB\n",
    "from sklearn.svm import SVC\n",
    "from sklearn.tree import DecisionTreeClassifier\n",
    "from sklearn.cross_validation import cross_val_score\n",
    "from sklearn.ensemble import RandomForestClassifier\n",
    "from sklearn.metrics import roc_curve, auc"
   ]
  },
  {
   "cell_type": "code",
   "execution_count": 52,
   "metadata": {},
   "outputs": [],
   "source": [
    "votes = pd.read_csv('house-votes-84.data')\n",
    "votes = votes.replace('y',1)\n",
    "votes = votes.replace('n',0)\n",
    "votes = votes.replace('?', np.nan)\n",
    "for each in votes.columns[:-1]:\n",
    "    votes[each].fillna(votes[each].mean(),inplace=True)\n",
    "votes = votes.replace('democrat.', 'democrat')\n",
    "votes = votes.replace('republican.', 'republican')\n",
    "votes = votes.replace('democrat', 1)\n",
    "votes = votes.replace('republican', 0)\n",
    "target = votes['republican.']\n",
    "features = votes.loc[:,'n':'y.8']\n",
    "\n",
    "X_train, X_test, y_train, y_test = train_test_split(features, target, test_size=.3, random_state=4444)"
   ]
  },
  {
   "cell_type": "code",
   "execution_count": 53,
   "metadata": {},
   "outputs": [
    {
     "data": {
      "text/plain": [
       "RandomForestClassifier(bootstrap=True, class_weight=None, criterion='gini',\n",
       "            max_depth=None, max_features='auto', max_leaf_nodes=None,\n",
       "            min_impurity_decrease=0.0, min_impurity_split=None,\n",
       "            min_samples_leaf=1, min_samples_split=2,\n",
       "            min_weight_fraction_leaf=0.0, n_estimators=10, n_jobs=1,\n",
       "            oob_score=False, random_state=None, verbose=0,\n",
       "            warm_start=False)"
      ]
     },
     "execution_count": 53,
     "metadata": {},
     "output_type": "execute_result"
    }
   ],
   "source": [
    "knn = KNeighborsClassifier(n_neighbors=12)\n",
    "knn.fit(X_train, y_train)\n",
    "\n",
    "lr = LogisticRegression(C=1000)\n",
    "lr.fit(X_train, y_train)\n",
    "\n",
    "def democrat(x):\n",
    "    return np.array([1 for i in range(len(x))])\n",
    "\n",
    "def republican(x):\n",
    "    return np.array([0 for i in range(len(x))])\n",
    "\n",
    "gb = GaussianNB()\n",
    "gb.fit(X_train, y_train)\n",
    "\n",
    "svc = SVC(probability=True)\n",
    "svc.fit(X_train, y_train)\n",
    "\n",
    "dtc = DecisionTreeClassifier()\n",
    "dtc.fit(X_train, y_train)\n",
    "\n",
    "rf = RandomForestClassifier()\n",
    "rf.fit(X_train, y_train)"
   ]
  },
  {
   "cell_type": "code",
   "execution_count": 54,
   "metadata": {},
   "outputs": [
    {
     "name": "stderr",
     "output_type": "stream",
     "text": [
      "/Users/madisonobrienjones/anaconda3/lib/python3.7/site-packages/sklearn/metrics/classification.py:1135: UndefinedMetricWarning: Precision is ill-defined and being set to 0.0 due to no predicted samples.\n",
      "  'precision', 'predicted', average, warn_for)\n",
      "/Users/madisonobrienjones/anaconda3/lib/python3.7/site-packages/sklearn/metrics/classification.py:1135: UndefinedMetricWarning: F-score is ill-defined and being set to 0.0 due to no predicted samples.\n",
      "  'precision', 'predicted', average, warn_for)\n"
     ]
    }
   ],
   "source": [
    "classifiers = [knn, lr, gb, svc, dtc, rf]\n",
    "\n",
    "c_list = []\n",
    "for each in classifiers:\n",
    "    new_dict = dict()\n",
    "    new_dict['model'] = each\n",
    "    new_dict['accuracy'] = accuracy_score(y_test, each.predict(X_test))\n",
    "    new_dict['precision'] = precision_score(y_test, each.predict(X_test))\n",
    "    new_dict['recall'] = recall_score(y_test, each.predict(X_test))\n",
    "    new_dict['F1'] = f1_score(y_test, each.predict(X_test))\n",
    "    c_list.append(new_dict)\n",
    "\n",
    "democrat_d = dict()\n",
    "democrat_d['model'] = 'democrat'\n",
    "democrat_d['accuracy'] = accuracy_score(y_test, democrat(X_test))\n",
    "democrat_d['precision'] = precision_score(y_test, democrat(X_test))\n",
    "democrat_d['recall'] = recall_score(y_test, democrat(X_test))\n",
    "democrat_d['F1'] = f1_score(y_test, democrat(X_test))\n",
    "c_list.append(democrat_d)\n",
    "\n",
    "republican_d = dict()\n",
    "republican_d['model'] = 'republican'\n",
    "republican_d['accuracy'] = accuracy_score(y_test, republican(X_test))\n",
    "republican_d['precision'] = precision_score(y_test, republican(X_test))\n",
    "republican_d['recall'] = recall_score(y_test, republican(X_test))\n",
    "republican_d['F1'] = f1_score(y_test, republican(X_test))\n",
    "c_list.append(republican_d)"
   ]
  },
  {
   "cell_type": "code",
   "execution_count": 55,
   "metadata": {},
   "outputs": [],
   "source": [
    "votes = pd.read_csv('house-votes-84.data')\n",
    "votes = votes.replace('y',1)\n",
    "votes = votes.replace('n',0)\n",
    "votes = votes.replace('?', np.nan)\n",
    "for each in votes.columns[:-1]:\n",
    "    votes[each].fillna(votes[each].mode()[0],inplace=True)\n",
    "target2 = votes['n']\n",
    "features2 = votes.loc[:,'y':'y.8']\n",
    "\n",
    "X_train2, X_test2, y_train2, y_test2 = train_test_split(features2, target2, test_size=.3, random_state=4444)"
   ]
  },
  {
   "cell_type": "code",
   "execution_count": 56,
   "metadata": {},
   "outputs": [
    {
     "data": {
      "text/plain": [
       "KNeighborsClassifier(algorithm='auto', leaf_size=30, metric='minkowski',\n",
       "           metric_params=None, n_jobs=1, n_neighbors=9, p=2,\n",
       "           weights='uniform')"
      ]
     },
     "execution_count": 56,
     "metadata": {},
     "output_type": "execute_result"
    }
   ],
   "source": [
    "knn2 = KNeighborsClassifier(n_neighbors=9)\n",
    "knn2.fit(X_train2, y_train2)"
   ]
  },
  {
   "cell_type": "code",
   "execution_count": 57,
   "metadata": {},
   "outputs": [],
   "source": [
    "knn_vote_predict = dict()\n",
    "knn_vote_predict['model'] = knn2\n",
    "knn_vote_predict['accuracy'] = accuracy_score(y_test2, knn2.predict(X_test2))\n",
    "knn_vote_predict['precision'] = precision_score(y_test2, knn2.predict(X_test2))\n",
    "knn_vote_predict['recall'] = recall_score(y_test2, knn2.predict(X_test2))\n",
    "knn_vote_predict['F1'] = f1_score(y_test2, knn2.predict(X_test2))\n",
    "c_list.append(knn_vote_predict)"
   ]
  },
  {
   "cell_type": "code",
   "execution_count": 58,
   "metadata": {},
   "outputs": [
    {
     "data": {
      "text/html": [
       "<div>\n",
       "<style scoped>\n",
       "    .dataframe tbody tr th:only-of-type {\n",
       "        vertical-align: middle;\n",
       "    }\n",
       "\n",
       "    .dataframe tbody tr th {\n",
       "        vertical-align: top;\n",
       "    }\n",
       "\n",
       "    .dataframe thead th {\n",
       "        text-align: right;\n",
       "    }\n",
       "</style>\n",
       "<table border=\"1\" class=\"dataframe\">\n",
       "  <thead>\n",
       "    <tr style=\"text-align: right;\">\n",
       "      <th></th>\n",
       "      <th>F1</th>\n",
       "      <th>accuracy</th>\n",
       "      <th>model</th>\n",
       "      <th>precision</th>\n",
       "      <th>recall</th>\n",
       "    </tr>\n",
       "  </thead>\n",
       "  <tbody>\n",
       "    <tr>\n",
       "      <th>0</th>\n",
       "      <td>0.935897</td>\n",
       "      <td>0.923664</td>\n",
       "      <td>KNeighborsClassifier(algorithm='auto', leaf_si...</td>\n",
       "      <td>0.948052</td>\n",
       "      <td>0.924051</td>\n",
       "    </tr>\n",
       "    <tr>\n",
       "      <th>1</th>\n",
       "      <td>0.962500</td>\n",
       "      <td>0.954198</td>\n",
       "      <td>LogisticRegression(C=1000, class_weight=None, ...</td>\n",
       "      <td>0.950617</td>\n",
       "      <td>0.974684</td>\n",
       "    </tr>\n",
       "    <tr>\n",
       "      <th>2</th>\n",
       "      <td>0.925926</td>\n",
       "      <td>0.908397</td>\n",
       "      <td>GaussianNB(priors=None)</td>\n",
       "      <td>0.903614</td>\n",
       "      <td>0.949367</td>\n",
       "    </tr>\n",
       "    <tr>\n",
       "      <th>3</th>\n",
       "      <td>0.962025</td>\n",
       "      <td>0.954198</td>\n",
       "      <td>SVC(C=1.0, cache_size=200, class_weight=None, ...</td>\n",
       "      <td>0.962025</td>\n",
       "      <td>0.962025</td>\n",
       "    </tr>\n",
       "    <tr>\n",
       "      <th>4</th>\n",
       "      <td>0.930818</td>\n",
       "      <td>0.916031</td>\n",
       "      <td>DecisionTreeClassifier(class_weight=None, crit...</td>\n",
       "      <td>0.925000</td>\n",
       "      <td>0.936709</td>\n",
       "    </tr>\n",
       "    <tr>\n",
       "      <th>5</th>\n",
       "      <td>0.944099</td>\n",
       "      <td>0.931298</td>\n",
       "      <td>(DecisionTreeClassifier(class_weight=None, cri...</td>\n",
       "      <td>0.926829</td>\n",
       "      <td>0.962025</td>\n",
       "    </tr>\n",
       "    <tr>\n",
       "      <th>6</th>\n",
       "      <td>0.752381</td>\n",
       "      <td>0.603053</td>\n",
       "      <td>democrat</td>\n",
       "      <td>0.603053</td>\n",
       "      <td>1.000000</td>\n",
       "    </tr>\n",
       "    <tr>\n",
       "      <th>7</th>\n",
       "      <td>0.000000</td>\n",
       "      <td>0.396947</td>\n",
       "      <td>republican</td>\n",
       "      <td>0.000000</td>\n",
       "      <td>0.000000</td>\n",
       "    </tr>\n",
       "    <tr>\n",
       "      <th>8</th>\n",
       "      <td>0.633333</td>\n",
       "      <td>0.664122</td>\n",
       "      <td>KNeighborsClassifier(algorithm='auto', leaf_si...</td>\n",
       "      <td>0.593750</td>\n",
       "      <td>0.678571</td>\n",
       "    </tr>\n",
       "  </tbody>\n",
       "</table>\n",
       "</div>"
      ],
      "text/plain": [
       "         F1  accuracy                                              model  \\\n",
       "0  0.935897  0.923664  KNeighborsClassifier(algorithm='auto', leaf_si...   \n",
       "1  0.962500  0.954198  LogisticRegression(C=1000, class_weight=None, ...   \n",
       "2  0.925926  0.908397                            GaussianNB(priors=None)   \n",
       "3  0.962025  0.954198  SVC(C=1.0, cache_size=200, class_weight=None, ...   \n",
       "4  0.930818  0.916031  DecisionTreeClassifier(class_weight=None, crit...   \n",
       "5  0.944099  0.931298  (DecisionTreeClassifier(class_weight=None, cri...   \n",
       "6  0.752381  0.603053                                           democrat   \n",
       "7  0.000000  0.396947                                         republican   \n",
       "8  0.633333  0.664122  KNeighborsClassifier(algorithm='auto', leaf_si...   \n",
       "\n",
       "   precision    recall  \n",
       "0   0.948052  0.924051  \n",
       "1   0.950617  0.974684  \n",
       "2   0.903614  0.949367  \n",
       "3   0.962025  0.962025  \n",
       "4   0.925000  0.936709  \n",
       "5   0.926829  0.962025  \n",
       "6   0.603053  1.000000  \n",
       "7   0.000000  0.000000  \n",
       "8   0.593750  0.678571  "
      ]
     },
     "execution_count": 58,
     "metadata": {},
     "output_type": "execute_result"
    }
   ],
   "source": [
    "scores = pd.DataFrame(c_list)\n",
    "scores"
   ]
  },
  {
   "cell_type": "markdown",
   "metadata": {},
   "source": [
    "### Challenge 2  \n",
    "For each, draw the ROC curve and calculate the AUC."
   ]
  },
  {
   "cell_type": "code",
   "execution_count": 59,
   "metadata": {},
   "outputs": [
    {
     "data": {
      "text/plain": [
       "Text(0.5,0,'False Positive Rate')"
      ]
     },
     "execution_count": 59,
     "metadata": {},
     "output_type": "execute_result"
    },
    {
     "data": {
      "image/png": "[encoded data removed]",
      "text/plain": [
       "<Figure size 432x288 with 1 Axes>"
      ]
     },
     "metadata": {
      "needs_background": "light"
     },
     "output_type": "display_data"
    }
   ],
   "source": [
    "for each in classifiers:\n",
    "    fpr, tpr, _ = roc_curve(y_test, each.predict_proba(X_test)[:,1])\n",
    "    plt.plot(fpr, tpr)\n",
    "\n",
    "plt.title('ROC')\n",
    "plt.plot([0, 1], [0, 1],'r--')\n",
    "plt.ylabel('True Positive Rate')\n",
    "plt.xlabel('False Positive Rate')"
   ]
  },
  {
   "cell_type": "code",
   "execution_count": 60,
   "metadata": {},
   "outputs": [],
   "source": [
    "aucs = []\n",
    "for each in classifiers:\n",
    "    score = roc_auc_score(y_test, each.predict(X_test))\n",
    "    aucs.append((each, score))"
   ]
  },
  {
   "cell_type": "code",
   "execution_count": 61,
   "metadata": {},
   "outputs": [
    {
     "data": {
      "text/plain": [
       "[(KNeighborsClassifier(algorithm='auto', leaf_size=30, metric='minkowski',\n",
       "             metric_params=None, n_jobs=1, n_neighbors=12, p=2,\n",
       "             weights='uniform'), 0.9235637779941578),\n",
       " (LogisticRegression(C=1000, class_weight=None, dual=False, fit_intercept=True,\n",
       "            intercept_scaling=1, max_iter=100, multi_class='ovr', n_jobs=1,\n",
       "            penalty='l2', random_state=None, solver='liblinear', tol=0.0001,\n",
       "            verbose=0, warm_start=False), 0.9488802336903602),\n",
       " (GaussianNB(priors=None), 0.8977604673807205),\n",
       " (SVC(C=1.0, cache_size=200, class_weight=None, coef0=0.0,\n",
       "    decision_function_shape='ovr', degree=3, gamma='auto', kernel='rbf',\n",
       "    max_iter=-1, probability=True, random_state=None, shrinking=True,\n",
       "    tol=0.001, verbose=False), 0.9521665043816943),\n",
       " (DecisionTreeClassifier(class_weight=None, criterion='gini', max_depth=None,\n",
       "              max_features=None, max_leaf_nodes=None,\n",
       "              min_impurity_decrease=0.0, min_impurity_split=None,\n",
       "              min_samples_leaf=1, min_samples_split=2,\n",
       "              min_weight_fraction_leaf=0.0, presort=False, random_state=None,\n",
       "              splitter='best'), 0.9106621226874392),\n",
       " (RandomForestClassifier(bootstrap=True, class_weight=None, criterion='gini',\n",
       "              max_depth=None, max_features='auto', max_leaf_nodes=None,\n",
       "              min_impurity_decrease=0.0, min_impurity_split=None,\n",
       "              min_samples_leaf=1, min_samples_split=2,\n",
       "              min_weight_fraction_leaf=0.0, n_estimators=10, n_jobs=1,\n",
       "              oob_score=False, random_state=None, verbose=0,\n",
       "              warm_start=False), 0.9233203505355404)]"
      ]
     },
     "execution_count": 61,
     "metadata": {},
     "output_type": "execute_result"
    }
   ],
   "source": [
    "aucs"
   ]
  },
  {
   "cell_type": "markdown",
   "metadata": {},
   "source": [
    "### Challenge 3  \n",
    "Calculate the same metrics you did in challenge 1, but this time in a cross validation scheme with the cross_val_score function (like in Challenge 9)."
   ]
  },
  {
   "cell_type": "code",
   "execution_count": 62,
   "metadata": {},
   "outputs": [],
   "source": [
    "votes = pd.read_csv('house-votes-84.data')\n",
    "votes = votes.replace('y',1)\n",
    "votes = votes.replace('n',0)\n",
    "votes = votes.replace('?', np.nan)\n",
    "for each in votes.columns[:-1]:\n",
    "    votes[each].fillna(votes[each].mean(),inplace=True)\n",
    "votes = votes.replace('democrat.', 'democrat')\n",
    "votes = votes.replace('republican.', 'republican')\n",
    "votes = votes.replace('democrat', 1)\n",
    "votes = votes.replace('republican', 0)\n",
    "target = votes['republican.']\n",
    "features = votes.loc[:,'n':'y.8']\n",
    "\n",
    "X_train, X_test, y_train, y_test = train_test_split(features, target, test_size=.3, random_state=4444)"
   ]
  },
  {
   "cell_type": "code",
   "execution_count": 63,
   "metadata": {},
   "outputs": [
    {
     "data": {
      "text/html": [
       "<div>\n",
       "<style scoped>\n",
       "    .dataframe tbody tr th:only-of-type {\n",
       "        vertical-align: middle;\n",
       "    }\n",
       "\n",
       "    .dataframe tbody tr th {\n",
       "        vertical-align: top;\n",
       "    }\n",
       "\n",
       "    .dataframe thead th {\n",
       "        text-align: right;\n",
       "    }\n",
       "</style>\n",
       "<table border=\"1\" class=\"dataframe\">\n",
       "  <thead>\n",
       "    <tr style=\"text-align: right;\">\n",
       "      <th></th>\n",
       "      <th>accuracy</th>\n",
       "      <th>f1</th>\n",
       "      <th>model</th>\n",
       "      <th>precision</th>\n",
       "      <th>recall</th>\n",
       "    </tr>\n",
       "  </thead>\n",
       "  <tbody>\n",
       "    <tr>\n",
       "      <th>0</th>\n",
       "      <td>[0.9310344827586207, 0.9172413793103448, 0.916...</td>\n",
       "      <td>[0.9411764705882353, 0.9310344827586207, 0.930...</td>\n",
       "      <td>KNeighborsClassifier(algorithm='auto', leaf_si...</td>\n",
       "      <td>[0.9876543209876543, 0.9529411764705882, 0.963...</td>\n",
       "      <td>[0.898876404494382, 0.9101123595505618, 0.8988...</td>\n",
       "    </tr>\n",
       "    <tr>\n",
       "      <th>1</th>\n",
       "      <td>[0.9655172413793104, 0.9793103448275862, 0.9375]</td>\n",
       "      <td>[0.9720670391061451, 0.9834254143646408, 0.947...</td>\n",
       "      <td>LogisticRegression(C=1000, class_weight=None, ...</td>\n",
       "      <td>[0.9666666666666667, 0.967391304347826, 0.9761...</td>\n",
       "      <td>[0.9775280898876404, 1.0, 0.9213483146067416]</td>\n",
       "    </tr>\n",
       "    <tr>\n",
       "      <th>2</th>\n",
       "      <td>[0.9517241379310345, 0.9241379310344827, 0.916...</td>\n",
       "      <td>[0.96045197740113, 0.9398907103825136, 0.93023...</td>\n",
       "      <td>GaussianNB(priors=None)</td>\n",
       "      <td>[0.9659090909090909, 0.9148936170212766, 0.963...</td>\n",
       "      <td>[0.9550561797752809, 0.9662921348314607, 0.898...</td>\n",
       "    </tr>\n",
       "    <tr>\n",
       "      <th>3</th>\n",
       "      <td>[0.9655172413793104, 0.9586206896551724, 0.9375]</td>\n",
       "      <td>[0.9717514124293786, 0.9662921348314607, 0.947...</td>\n",
       "      <td>SVC(C=1.0, cache_size=200, class_weight=None, ...</td>\n",
       "      <td>[0.9772727272727273, 0.9662921348314607, 0.987...</td>\n",
       "      <td>[0.9662921348314607, 0.9662921348314607, 0.910...</td>\n",
       "    </tr>\n",
       "    <tr>\n",
       "      <th>4</th>\n",
       "      <td>[0.9586206896551724, 0.9655172413793104, 0.923...</td>\n",
       "      <td>[0.9775280898876404, 0.9666666666666667, 0.947...</td>\n",
       "      <td>DecisionTreeClassifier(class_weight=None, crit...</td>\n",
       "      <td>[0.9770114942528736, 0.9666666666666667, 0.976...</td>\n",
       "      <td>[0.9550561797752809, 0.9775280898876404, 0.921...</td>\n",
       "    </tr>\n",
       "    <tr>\n",
       "      <th>5</th>\n",
       "      <td>[0.7054794520547946, 0.6666666666666666, 0.645...</td>\n",
       "      <td>[0.6504065040650407, 0.6571428571428573, 0.523...</td>\n",
       "      <td>(DecisionTreeClassifier(class_weight=None, cri...</td>\n",
       "      <td>[0.6666666666666666, 0.5897435897435898, 0.622...</td>\n",
       "      <td>[0.6349206349206349, 0.7419354838709677, 0.451...</td>\n",
       "    </tr>\n",
       "    <tr>\n",
       "      <th>6</th>\n",
       "      <td>NaN</td>\n",
       "      <td>NaN</td>\n",
       "      <td>KNeighborsClassifier(algorithm='auto', leaf_si...</td>\n",
       "      <td>NaN</td>\n",
       "      <td>NaN</td>\n",
       "    </tr>\n",
       "  </tbody>\n",
       "</table>\n",
       "</div>"
      ],
      "text/plain": [
       "                                            accuracy  \\\n",
       "0  [0.9310344827586207, 0.9172413793103448, 0.916...   \n",
       "1   [0.9655172413793104, 0.9793103448275862, 0.9375]   \n",
       "2  [0.9517241379310345, 0.9241379310344827, 0.916...   \n",
       "3   [0.9655172413793104, 0.9586206896551724, 0.9375]   \n",
       "4  [0.9586206896551724, 0.9655172413793104, 0.923...   \n",
       "5  [0.7054794520547946, 0.6666666666666666, 0.645...   \n",
       "6                                                NaN   \n",
       "\n",
       "                                                  f1  \\\n",
       "0  [0.9411764705882353, 0.9310344827586207, 0.930...   \n",
       "1  [0.9720670391061451, 0.9834254143646408, 0.947...   \n",
       "2  [0.96045197740113, 0.9398907103825136, 0.93023...   \n",
       "3  [0.9717514124293786, 0.9662921348314607, 0.947...   \n",
       "4  [0.9775280898876404, 0.9666666666666667, 0.947...   \n",
       "5  [0.6504065040650407, 0.6571428571428573, 0.523...   \n",
       "6                                                NaN   \n",
       "\n",
       "                                               model  \\\n",
       "0  KNeighborsClassifier(algorithm='auto', leaf_si...   \n",
       "1  LogisticRegression(C=1000, class_weight=None, ...   \n",
       "2                            GaussianNB(priors=None)   \n",
       "3  SVC(C=1.0, cache_size=200, class_weight=None, ...   \n",
       "4  DecisionTreeClassifier(class_weight=None, crit...   \n",
       "5  (DecisionTreeClassifier(class_weight=None, cri...   \n",
       "6  KNeighborsClassifier(algorithm='auto', leaf_si...   \n",
       "\n",
       "                                           precision  \\\n",
       "0  [0.9876543209876543, 0.9529411764705882, 0.963...   \n",
       "1  [0.9666666666666667, 0.967391304347826, 0.9761...   \n",
       "2  [0.9659090909090909, 0.9148936170212766, 0.963...   \n",
       "3  [0.9772727272727273, 0.9662921348314607, 0.987...   \n",
       "4  [0.9770114942528736, 0.9666666666666667, 0.976...   \n",
       "5  [0.6666666666666666, 0.5897435897435898, 0.622...   \n",
       "6                                                NaN   \n",
       "\n",
       "                                              recall  \n",
       "0  [0.898876404494382, 0.9101123595505618, 0.8988...  \n",
       "1      [0.9775280898876404, 1.0, 0.9213483146067416]  \n",
       "2  [0.9550561797752809, 0.9662921348314607, 0.898...  \n",
       "3  [0.9662921348314607, 0.9662921348314607, 0.910...  \n",
       "4  [0.9550561797752809, 0.9775280898876404, 0.921...  \n",
       "5  [0.6349206349206349, 0.7419354838709677, 0.451...  \n",
       "6                                                NaN  "
      ]
     },
     "execution_count": 63,
     "metadata": {},
     "output_type": "execute_result"
    }
   ],
   "source": [
    "classifiers = [knn, lr, gb, svc, dtc, rf]\n",
    "\n",
    "scores = []\n",
    "for each in classifiers:\n",
    "    cv_scores = dict()\n",
    "    cv_scores['model']=each\n",
    "    for score in ['accuracy', 'precision','recall','f1']:\n",
    "        cv_scores[score]=cross_val_score(each, features, target, scoring=score)\n",
    "    scores.append(cv_scores)\n",
    "\n",
    "knn_vote_predict = dict()\n",
    "knn_vote_predict['model'] = knn2\n",
    "for score in ['accuracy', 'precision','recall','f1']:\n",
    "    cv_scores[score]=cross_val_score(knn2, features2, target2, scoring=score)\n",
    "scores.append(knn_vote_predict)\n",
    "\n",
    "cv_scores = pd.DataFrame(scores)\n",
    "cv_scores"
   ]
  },
  {
   "cell_type": "markdown",
   "metadata": {},
   "source": [
    "### Challenge 4\n",
    "For your movie classifiers, calculate the precision and recall for each class."
   ]
  },
  {
   "cell_type": "code",
   "execution_count": 71,
   "metadata": {},
   "outputs": [],
   "source": [
    "movies = pd.read_csv('2013_movies.csv')\n",
    "movies = movies.dropna()\n",
    "features = movies.loc[:,['Budget','DomesticTotalGross','Runtime']]\n",
    "target = movies['Rating']\n",
    "X_train, X_test, y_train, y_test = train_test_split(features, target, test_size=.3, random_state=4444)\n",
    "knn = KNeighborsClassifier(n_neighbors=12)\n",
    "knn.fit(X_train, y_train)\n",
    "\n",
    "lr = LogisticRegression(C=1000)\n",
    "lr.fit(X_train, y_train)\n",
    "\n",
    "def stupid(x):\n",
    "    return np.array(['PG-13' for i in range(len(x))])"
   ]
  },
  {
   "cell_type": "code",
   "execution_count": 78,
   "metadata": {},
   "outputs": [
    {
     "name": "stderr",
     "output_type": "stream",
     "text": [
      "/Users/madisonobrienjones/anaconda3/lib/python3.7/site-packages/sklearn/metrics/classification.py:1135: UndefinedMetricWarning: Precision is ill-defined and being set to 0.0 in labels with no predicted samples.\n",
      "  'precision', 'predicted', average, warn_for)\n"
     ]
    },
    {
     "data": {
      "text/plain": [
       "array([0.        , 0.36363636, 0.5       ])"
      ]
     },
     "execution_count": 78,
     "metadata": {},
     "output_type": "execute_result"
    }
   ],
   "source": [
    "precision_score(y_test, knn.predict(X_test), average=None)"
   ]
  },
  {
   "cell_type": "code",
   "execution_count": 81,
   "metadata": {},
   "outputs": [
    {
     "name": "stderr",
     "output_type": "stream",
     "text": [
      "/Users/madisonobrienjones/anaconda3/lib/python3.7/site-packages/sklearn/metrics/classification.py:1135: UndefinedMetricWarning: Precision is ill-defined and being set to 0.0 in labels with no predicted samples.\n",
      "  'precision', 'predicted', average, warn_for)\n",
      "/Users/madisonobrienjones/anaconda3/lib/python3.7/site-packages/sklearn/metrics/classification.py:1135: UndefinedMetricWarning: Precision is ill-defined and being set to 0.0 in labels with no predicted samples.\n",
      "  'precision', 'predicted', average, warn_for)\n",
      "/Users/madisonobrienjones/anaconda3/lib/python3.7/site-packages/sklearn/metrics/classification.py:1135: UndefinedMetricWarning: Precision is ill-defined and being set to 0.0 in labels with no predicted samples.\n",
      "  'precision', 'predicted', average, warn_for)\n"
     ]
    },
    {
     "data": {
      "text/html": [
       "<div>\n",
       "<style scoped>\n",
       "    .dataframe tbody tr th:only-of-type {\n",
       "        vertical-align: middle;\n",
       "    }\n",
       "\n",
       "    .dataframe tbody tr th {\n",
       "        vertical-align: top;\n",
       "    }\n",
       "\n",
       "    .dataframe thead th {\n",
       "        text-align: right;\n",
       "    }\n",
       "</style>\n",
       "<table border=\"1\" class=\"dataframe\">\n",
       "  <thead>\n",
       "    <tr style=\"text-align: right;\">\n",
       "      <th></th>\n",
       "      <th>Model</th>\n",
       "      <th>Precision</th>\n",
       "      <th>Recall</th>\n",
       "    </tr>\n",
       "  </thead>\n",
       "  <tbody>\n",
       "    <tr>\n",
       "      <th>0</th>\n",
       "      <td>KNeighborsClassifier(algorithm='auto', leaf_si...</td>\n",
       "      <td>[0.0, 0.36363636363636365, 0.5]</td>\n",
       "      <td>[0.0, 0.36363636363636365, 0.7272727272727273]</td>\n",
       "    </tr>\n",
       "    <tr>\n",
       "      <th>1</th>\n",
       "      <td>LogisticRegression(C=1000, class_weight=None, ...</td>\n",
       "      <td>[0.0, 0.4090909090909091, 0.6]</td>\n",
       "      <td>[0.0, 0.8181818181818182, 0.2727272727272727]</td>\n",
       "    </tr>\n",
       "    <tr>\n",
       "      <th>2</th>\n",
       "      <td>stupid</td>\n",
       "      <td>[0.0, 0.4074074074074074, 0.0]</td>\n",
       "      <td>[0.0, 1.0, 0.0]</td>\n",
       "    </tr>\n",
       "  </tbody>\n",
       "</table>\n",
       "</div>"
      ],
      "text/plain": [
       "                                               Model  \\\n",
       "0  KNeighborsClassifier(algorithm='auto', leaf_si...   \n",
       "1  LogisticRegression(C=1000, class_weight=None, ...   \n",
       "2                                             stupid   \n",
       "\n",
       "                         Precision  \\\n",
       "0  [0.0, 0.36363636363636365, 0.5]   \n",
       "1   [0.0, 0.4090909090909091, 0.6]   \n",
       "2   [0.0, 0.4074074074074074, 0.0]   \n",
       "\n",
       "                                           Recall  \n",
       "0  [0.0, 0.36363636363636365, 0.7272727272727273]  \n",
       "1   [0.0, 0.8181818181818182, 0.2727272727272727]  \n",
       "2                                 [0.0, 1.0, 0.0]  "
      ]
     },
     "execution_count": 81,
     "metadata": {},
     "output_type": "execute_result"
    }
   ],
   "source": [
    "knndict = dict()\n",
    "knndict['Model'] = knn\n",
    "knndict['Precision'] = precision_score(y_test, knn.predict(X_test), average=None)\n",
    "knndict['Recall'] = recall_score(y_test, knn.predict(X_test), average=None)\n",
    "\n",
    "lrdict = dict()\n",
    "lrdict['Model'] = lr\n",
    "lrdict['Precision'] = precision_score(y_test, lr.predict(X_test), average=None)\n",
    "lrdict['Recall'] = recall_score(y_test, lr.predict(X_test), average=None)\n",
    "\n",
    "stupiddict = dict()\n",
    "stupiddict['Model'] = 'stupid'\n",
    "stupiddict['Precision'] = precision_score(y_test, stupid(X_test), average=None)\n",
    "stupiddict['Recall'] = recall_score(y_test, stupid(X_test), average=None)\n",
    "\n",
    "scores = pd.DataFrame([knndict, lrdict, stupiddict])\n",
    "scores"
   ]
  },
  {
   "cell_type": "markdown",
   "metadata": {},
   "source": [
    "### Challenge 5\n",
    "Draw the ROC curve (and calculate AUC) for the logistic regression classifier from challenge 12."
   ]
  },
  {
   "cell_type": "code",
   "execution_count": 64,
   "metadata": {},
   "outputs": [
    {
     "data": {
      "text/plain": [
       "LogisticRegression(C=1000, class_weight=None, dual=False, fit_intercept=True,\n",
       "          intercept_scaling=1, max_iter=100, multi_class='ovr', n_jobs=1,\n",
       "          penalty='l2', random_state=None, solver='liblinear', tol=0.0001,\n",
       "          verbose=0, warm_start=False)"
      ]
     },
     "execution_count": 64,
     "metadata": {},
     "output_type": "execute_result"
    }
   ],
   "source": [
    "hsd = pd.read_csv('haberman.data')\n",
    "target = hsd['1.1'] -1\n",
    "features = hsd.loc[:,'30':'1']\n",
    "\n",
    "X_train, X_test, y_train, y_test = train_test_split(features, target, test_size=.3, random_state=4444)\n",
    "\n",
    "lr = LogisticRegression(C=1000)\n",
    "lr.fit(X_train, y_train)"
   ]
  },
  {
   "cell_type": "code",
   "execution_count": 65,
   "metadata": {},
   "outputs": [
    {
     "data": {
      "text/plain": [
       "Text(0.5,0,'False Positive Rate')"
      ]
     },
     "execution_count": 65,
     "metadata": {},
     "output_type": "execute_result"
    },
    {
     "data": {
      "image/png": "[encoded data removed]",
      "text/plain": [
       "<Figure size 432x288 with 1 Axes>"
      ]
     },
     "metadata": {
      "needs_background": "light"
     },
     "output_type": "display_data"
    }
   ],
   "source": [
    "fpr, tpr, _ = roc_curve(y_test, lr.predict_proba(X_test)[:,1])\n",
    "plt.plot(fpr, tpr)\n",
    "\n",
    "plt.title('ROC')\n",
    "plt.plot([0, 1], [0, 1],'r--')\n",
    "plt.ylabel('True Positive Rate')\n",
    "plt.xlabel('False Positive Rate')"
   ]
  },
  {
   "cell_type": "code",
   "execution_count": 66,
   "metadata": {},
   "outputs": [
    {
     "data": {
      "text/plain": [
       "0.5"
      ]
     },
     "execution_count": 66,
     "metadata": {},
     "output_type": "execute_result"
    }
   ],
   "source": [
    "roc_auc_score(y_test, lr.predict(X_test))"
   ]
  },
  {
   "cell_type": "code",
   "execution_count": null,
   "metadata": {},
   "outputs": [],
   "source": []
  }
 ],
 "metadata": {
  "kernelspec": {
   "display_name": "Python 3",
   "language": "python",
   "name": "python3"
  },
  "language_info": {
   "codemirror_mode": {
    "name": "ipython",
    "version": 3
   },
   "file_extension": ".py",
   "mimetype": "text/x-python",
   "name": "python",
   "nbconvert_exporter": "python",
   "pygments_lexer": "ipython3",
   "version": "3.7.0"
  }
 },
 "nbformat": 4,
 "nbformat_minor": 2
}
