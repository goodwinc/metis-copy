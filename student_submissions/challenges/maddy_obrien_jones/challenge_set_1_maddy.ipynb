{
 "cells": [
  {
   "cell_type": "markdown",
   "metadata": {},
   "source": [
    "### Topic:        Challenge Set 1   \n",
    "### Subject:      Explore MTA turnstile data   \n",
    "### Date:         10/01/2018   \n",
    "### Name:         Maddy O'Brien Jones   \n",
    "### Worked with:  Angad Chandratre, Amine Naouas, Elizabeth Riordan  (on Challenge 3)"
   ]
  },
  {
   "cell_type": "markdown",
   "metadata": {},
   "source": [
    "# Challenge 1  \n",
    "Open up a new IPython notebook  \n",
    "Download a few MTA turnstile data files  \n",
    "Read them into a pandas dataframe (pd.read_csv()), format the columns nicely, and display the first few rows."
   ]
  },
  {
   "cell_type": "code",
   "execution_count": 2,
   "metadata": {},
   "outputs": [
    {
     "data": {
      "text/html": [
       "<div>\n",
       "<style scoped>\n",
       "    .dataframe tbody tr th:only-of-type {\n",
       "        vertical-align: middle;\n",
       "    }\n",
       "\n",
       "    .dataframe tbody tr th {\n",
       "        vertical-align: top;\n",
       "    }\n",
       "\n",
       "    .dataframe thead th {\n",
       "        text-align: right;\n",
       "    }\n",
       "</style>\n",
       "<table border=\"1\" class=\"dataframe\">\n",
       "  <thead>\n",
       "    <tr style=\"text-align: right;\">\n",
       "      <th></th>\n",
       "      <th>C/A</th>\n",
       "      <th>UNIT</th>\n",
       "      <th>SCP</th>\n",
       "      <th>STATION</th>\n",
       "      <th>LINENAME</th>\n",
       "      <th>DIVISION</th>\n",
       "      <th>DATE</th>\n",
       "      <th>TIME</th>\n",
       "      <th>DESC</th>\n",
       "      <th>ENTRIES</th>\n",
       "      <th>EXITS</th>\n",
       "    </tr>\n",
       "  </thead>\n",
       "  <tbody>\n",
       "    <tr>\n",
       "      <th>0</th>\n",
       "      <td>A002</td>\n",
       "      <td>R051</td>\n",
       "      <td>02-00-00</td>\n",
       "      <td>59 ST</td>\n",
       "      <td>NQR456W</td>\n",
       "      <td>BMT</td>\n",
       "      <td>09/15/2018</td>\n",
       "      <td>00:00:00</td>\n",
       "      <td>REGULAR</td>\n",
       "      <td>6759219</td>\n",
       "      <td>2291425</td>\n",
       "    </tr>\n",
       "    <tr>\n",
       "      <th>1</th>\n",
       "      <td>A002</td>\n",
       "      <td>R051</td>\n",
       "      <td>02-00-00</td>\n",
       "      <td>59 ST</td>\n",
       "      <td>NQR456W</td>\n",
       "      <td>BMT</td>\n",
       "      <td>09/15/2018</td>\n",
       "      <td>04:00:00</td>\n",
       "      <td>REGULAR</td>\n",
       "      <td>6759234</td>\n",
       "      <td>2291429</td>\n",
       "    </tr>\n",
       "    <tr>\n",
       "      <th>2</th>\n",
       "      <td>A002</td>\n",
       "      <td>R051</td>\n",
       "      <td>02-00-00</td>\n",
       "      <td>59 ST</td>\n",
       "      <td>NQR456W</td>\n",
       "      <td>BMT</td>\n",
       "      <td>09/15/2018</td>\n",
       "      <td>08:00:00</td>\n",
       "      <td>REGULAR</td>\n",
       "      <td>6759251</td>\n",
       "      <td>2291453</td>\n",
       "    </tr>\n",
       "    <tr>\n",
       "      <th>3</th>\n",
       "      <td>A002</td>\n",
       "      <td>R051</td>\n",
       "      <td>02-00-00</td>\n",
       "      <td>59 ST</td>\n",
       "      <td>NQR456W</td>\n",
       "      <td>BMT</td>\n",
       "      <td>09/15/2018</td>\n",
       "      <td>12:00:00</td>\n",
       "      <td>REGULAR</td>\n",
       "      <td>6759330</td>\n",
       "      <td>2291532</td>\n",
       "    </tr>\n",
       "    <tr>\n",
       "      <th>4</th>\n",
       "      <td>A002</td>\n",
       "      <td>R051</td>\n",
       "      <td>02-00-00</td>\n",
       "      <td>59 ST</td>\n",
       "      <td>NQR456W</td>\n",
       "      <td>BMT</td>\n",
       "      <td>09/15/2018</td>\n",
       "      <td>16:00:00</td>\n",
       "      <td>REGULAR</td>\n",
       "      <td>6759538</td>\n",
       "      <td>2291574</td>\n",
       "    </tr>\n",
       "  </tbody>\n",
       "</table>\n",
       "</div>"
      ],
      "text/plain": [
       "    C/A  UNIT       SCP STATION LINENAME DIVISION        DATE      TIME  \\\n",
       "0  A002  R051  02-00-00   59 ST  NQR456W      BMT  09/15/2018  00:00:00   \n",
       "1  A002  R051  02-00-00   59 ST  NQR456W      BMT  09/15/2018  04:00:00   \n",
       "2  A002  R051  02-00-00   59 ST  NQR456W      BMT  09/15/2018  08:00:00   \n",
       "3  A002  R051  02-00-00   59 ST  NQR456W      BMT  09/15/2018  12:00:00   \n",
       "4  A002  R051  02-00-00   59 ST  NQR456W      BMT  09/15/2018  16:00:00   \n",
       "\n",
       "      DESC  ENTRIES    EXITS  \n",
       "0  REGULAR  6759219  2291425  \n",
       "1  REGULAR  6759234  2291429  \n",
       "2  REGULAR  6759251  2291453  \n",
       "3  REGULAR  6759330  2291532  \n",
       "4  REGULAR  6759538  2291574  "
      ]
     },
     "execution_count": 2,
     "metadata": {},
     "output_type": "execute_result"
    }
   ],
   "source": [
    "import pandas as pd\n",
    "import datetime as dt\n",
    "df1 = pd.read_csv('turnstile_180922.txt')\n",
    "df2 = pd.read_csv('turnstile_180915.txt')\n",
    "df3 = pd.read_csv('turnstile_180908.txt')\n",
    "df = pd.concat([df1, df2, df3])\n",
    "df.rename(columns={'EXITS                                                               ': 'EXITS'}, inplace=True)\n",
    "df.columns\n",
    "df.DATE.value_counts().sort_index()\n",
    "df.head()"
   ]
  },
  {
   "cell_type": "markdown",
   "metadata": {},
   "source": [
    "# Challenge 2   \n",
    "Let's turn this into a time series.\n",
    "Create a new column that stores the date and time as a single pandas datetime object."
   ]
  },
  {
   "cell_type": "code",
   "execution_count": 3,
   "metadata": {},
   "outputs": [],
   "source": [
    "df['datetime'] = df['DATE'] + ' ' + df['TIME']\n",
    "df['datetime'] = pd.to_datetime(df['datetime'], format='%m/%d/%Y %H:%M:%S')"
   ]
  },
  {
   "cell_type": "markdown",
   "metadata": {},
   "source": [
    "# Challenge 3  \n",
    "These counts are for every n hours (What is n?). Also, there's something odd about these \"counts\", what is it? Do they actually represent total entries for a time period, or something else? We want total daily entries, create a new dataframe with one row per turnstile/day and a column that gives total daily entries."
   ]
  },
  {
   "cell_type": "code",
   "execution_count": 4,
   "metadata": {},
   "outputs": [],
   "source": [
    "daily = (df\n",
    "            .groupby([\"C/A\", \"UNIT\", \"SCP\", \"STATION\", \"DATE\"],as_index=False)\n",
    "            .ENTRIES.first())"
   ]
  },
  {
   "cell_type": "code",
   "execution_count": 5,
   "metadata": {},
   "outputs": [],
   "source": [
    "daily[[\"PREV_DATE\", \"PREV_ENTRIES\"]] = (daily\n",
    "                                            .groupby([\"C/A\", \"UNIT\", \"SCP\", \"STATION\"])[\"DATE\", \"ENTRIES\"]\n",
    "                                            .transform(lambda grp: grp.shift(1)))"
   ]
  },
  {
   "cell_type": "code",
   "execution_count": 6,
   "metadata": {},
   "outputs": [],
   "source": [
    "daily.dropna(subset=[\"PREV_DATE\"], axis=0, inplace=True)"
   ]
  },
  {
   "cell_type": "code",
   "execution_count": 7,
   "metadata": {},
   "outputs": [
    {
     "data": {
      "text/plain": [
       "C/A    UNIT  SCP       STATION        \n",
       "A007   R079  01-06-00  5 AV/59 ST          1\n",
       "A011   R080  01-00-00  57 ST-7 AV         20\n",
       "A025   R023  01-03-01  34 ST-HERALD SQ    20\n",
       "             01-03-02  34 ST-HERALD SQ    20\n",
       "A042   R086  01-00-04  PRINCE ST           1\n",
       "A049   R088  02-05-00  CORTLANDT ST       17\n",
       "A066   R118  00-00-00  CANAL ST           20\n",
       "B018   R184  00-00-00  CORTELYOU RD        1\n",
       "B020   R263  00-05-01  AVENUE H            1\n",
       "C021   R212  00-00-02  59 ST              20\n",
       "D011   R394  01-06-00  BAY PKWY           18\n",
       "             01-06-01  BAY PKWY           18\n",
       "H003   R163  01-00-02  6 AV               20\n",
       "H019   R294  00-00-00  MORGAN AV           1\n",
       "H023   R236  00-06-00  DEKALB AV          20\n",
       "J034   R007  00-00-02  104 ST             20\n",
       "JFK03  R536  00-00-02  JFK JAMAICA CT1     1\n",
       "             00-00-05  JFK JAMAICA CT1     1\n",
       "             00-03-02  JFK JAMAICA CT1     1\n",
       "K026   R100  00-00-01  METROPOLITAN AV    20\n",
       "N006A  R280  00-00-00  190 ST             20\n",
       "N057   R188  00-06-00  50 ST               1\n",
       "N063A  R011  00-00-04  42 ST-PORT AUTH    20\n",
       "             00-00-05  42 ST-PORT AUTH    20\n",
       "             00-00-08  42 ST-PORT AUTH    20\n",
       "N072   R012  05-00-03  34 ST-PENN STA      1\n",
       "N078   R175  01-03-00  14 ST              20\n",
       "N137   R354  00-06-01  104 ST             20\n",
       "N203   R195  00-00-01  161/YANKEE STAD    20\n",
       "N213   R154  00-00-04  TREMONT AV          1\n",
       "                                          ..\n",
       "PTH05  R543  00-00-05  EXCHANGE PLACE      1\n",
       "PTH07  R550  00-00-04  CITY / BUS          2\n",
       "PTH13  R541  00-04-07  THIRTY ST           1\n",
       "PTH16  R550  01-01-00  LACKAWANNA          1\n",
       "PTH17  R541  01-00-07  THIRTY THIRD ST     2\n",
       "PTH19  R549  02-02-04  NEWARK C            1\n",
       "PTH20  R549  03-00-02  NEWARK HM HE        1\n",
       "PTH22  R540  00-00-04  PATH NEW WTC        1\n",
       "             00-01-05  PATH NEW WTC        1\n",
       "             00-02-01  PATH NEW WTC        1\n",
       "R127   R105  00-00-00  14 ST              20\n",
       "R148   R033  01-00-01  TIMES SQ-42 ST     20\n",
       "R161B  R452  00-00-03  72 ST              20\n",
       "R186   R036  00-00-01  DYCKMAN ST          1\n",
       "R188   R037  00-06-02  207 ST              1\n",
       "R227   R131  00-00-00  23 ST              20\n",
       "R241A  R048  00-00-00  GRD CNTRL-42 ST    20\n",
       "R245   R051  00-00-00  59 ST              20\n",
       "R304   R206  00-00-00  125 ST             20\n",
       "R310   R053  01-00-02  3 AV-149 ST        18\n",
       "R311   R053  00-00-03  3 AV-149 ST        18\n",
       "R312   R405  00-00-00  JACKSON AV          1\n",
       "R315   R406  01-00-01  PROSPECT AV         2\n",
       "R322   R386  00-00-02  174 ST             18\n",
       "R526   R096  00-00-01  82 ST-JACKSON H     1\n",
       "R533   R055  00-00-02  FLUSHING-MAIN       1\n",
       "R622   R123  00-00-00  FRANKLIN AV        20\n",
       "R644   R135  01-06-00  NEWKIRK AV          1\n",
       "R646   R110  01-00-01  FLATBUSH AV-B.C    20\n",
       "R730   R431  00-00-04  EASTCHSTER/DYRE    18\n",
       "Length: 79, dtype: int64"
      ]
     },
     "execution_count": 7,
     "metadata": {},
     "output_type": "execute_result"
    }
   ],
   "source": [
    "(daily[daily[\"ENTRIES\"] < daily[\"PREV_ENTRIES\"]]\n",
    "    .groupby([\"C/A\", \"UNIT\", \"SCP\", \"STATION\"])\n",
    "    .size())"
   ]
  },
  {
   "cell_type": "code",
   "execution_count": 8,
   "metadata": {},
   "outputs": [
    {
     "name": "stdout",
     "output_type": "stream",
     "text": [
      "458806 3408576.0\n",
      "1525 15832652.0\n",
      "89 15071100.0\n",
      "525054 3346426.0\n",
      "6 8203336.0\n",
      "0 5877814.0\n",
      "85 1632278.0\n",
      "685 1512945.0\n",
      "1106646 5952.0\n",
      "6364 1107838.0\n",
      "1112083 6364.0\n",
      "7082 1112083.0\n",
      "1131407 8912.0\n",
      "11154 1144357.0\n",
      "1686 4236897.0\n",
      "32375149 157468.0\n",
      "78 3308167.0\n",
      "0 2062000.0\n",
      "440 3159530.0\n",
      "940 6525436.0\n"
     ]
    }
   ],
   "source": [
    "def get_daily_counts(row, max_counter):\n",
    "    counter = row[\"ENTRIES\"] - row[\"PREV_ENTRIES\"]\n",
    "    if counter < 0:\n",
    "        # Maybe counter is reversed?\n",
    "        counter = -counter\n",
    "    if counter > max_counter:\n",
    "        # Maybe counter was reset to 0? \n",
    "        print(row[\"ENTRIES\"], row[\"PREV_ENTRIES\"])\n",
    "        counter = min(row[\"ENTRIES\"], row[\"PREV_ENTRIES\"])\n",
    "    if counter > max_counter:\n",
    "        # Check it again to make sure we're not still giving a counter that's too big\n",
    "        return 0\n",
    "    return counter\n",
    "daily[\"DAILY_ENTRIES\"] = daily.apply(get_daily_counts, axis=1, max_counter=1000000)"
   ]
  },
  {
   "cell_type": "markdown",
   "metadata": {},
   "source": [
    "# Challenge 4   \n",
    "We will plot the daily time series for a turnstile."
   ]
  },
  {
   "cell_type": "code",
   "execution_count": 11,
   "metadata": {},
   "outputs": [],
   "source": [
    "import matplotlib.pyplot as plt\n",
    "%matplotlib inline"
   ]
  },
  {
   "cell_type": "code",
   "execution_count": 13,
   "metadata": {},
   "outputs": [],
   "source": [
    "turnstile_plot = daily[(daily['C/A']=='R730')&\\\n",
    "                        (daily['UNIT']=='R431')&\\\n",
    "                        (daily['SCP']=='00-00-04')]"
   ]
  },
  {
   "cell_type": "code",
   "execution_count": 14,
   "metadata": {},
   "outputs": [
    {
     "data": {
      "text/plain": [
       "([0, 1, 2, 3, 4, 5, 6, 7, 8, 9, 10, 11, 12, 13, 14, 15, 16, 17, 18, 19],\n",
       " <a list of 20 Text xticklabel objects>)"
      ]
     },
     "execution_count": 14,
     "metadata": {},
     "output_type": "execute_result"
    },
    {
     "data": {
      "image/png": "[encoded data removed]",
      "text/plain": [
       "<matplotlib.figure.Figure at 0x1158a7ba8>"
      ]
     },
     "metadata": {},
     "output_type": "display_data"
    }
   ],
   "source": [
    "plt.figure(figsize=(10,3))\n",
    "plt.plot(turnstile_plot['DATE'],turnstile_plot['DAILY_ENTRIES'])\n",
    "plt.xticks(rotation='vertical')"
   ]
  },
  {
   "cell_type": "markdown",
   "metadata": {},
   "source": [
    "# Challenge 5\n",
    "\n",
    "So far we've been operating on a single turnstile level, let's combine turnstiles in the same ControlArea/Unit/Station combo. There are some ControlArea/Unit/Station groups that have a single turnstile, but most have multiple turnstilea-- same value for the C/A, UNIT and STATION columns, different values for the SCP column.  \n",
    "\n",
    "We want to combine the numbers together -- for each ControlArea/UNIT/STATION combo, for each day, add the counts from each turnstile belonging to that combo."
   ]
  },
  {
   "cell_type": "code",
   "execution_count": 15,
   "metadata": {},
   "outputs": [
    {
     "data": {
      "text/html": [
       "<div>\n",
       "<style scoped>\n",
       "    .dataframe tbody tr th:only-of-type {\n",
       "        vertical-align: middle;\n",
       "    }\n",
       "\n",
       "    .dataframe tbody tr th {\n",
       "        vertical-align: top;\n",
       "    }\n",
       "\n",
       "    .dataframe thead th {\n",
       "        text-align: right;\n",
       "    }\n",
       "</style>\n",
       "<table border=\"1\" class=\"dataframe\">\n",
       "  <thead>\n",
       "    <tr style=\"text-align: right;\">\n",
       "      <th></th>\n",
       "      <th>C/A</th>\n",
       "      <th>UNIT</th>\n",
       "      <th>STATION</th>\n",
       "      <th>DATE</th>\n",
       "      <th>DAILY_ENTRIES</th>\n",
       "    </tr>\n",
       "  </thead>\n",
       "  <tbody>\n",
       "    <tr>\n",
       "      <th>0</th>\n",
       "      <td>A002</td>\n",
       "      <td>R051</td>\n",
       "      <td>59 ST</td>\n",
       "      <td>09/02/2018</td>\n",
       "      <td>711.0</td>\n",
       "    </tr>\n",
       "    <tr>\n",
       "      <th>1</th>\n",
       "      <td>A002</td>\n",
       "      <td>R051</td>\n",
       "      <td>59 ST</td>\n",
       "      <td>09/03/2018</td>\n",
       "      <td>530.0</td>\n",
       "    </tr>\n",
       "    <tr>\n",
       "      <th>2</th>\n",
       "      <td>A002</td>\n",
       "      <td>R051</td>\n",
       "      <td>59 ST</td>\n",
       "      <td>09/04/2018</td>\n",
       "      <td>589.0</td>\n",
       "    </tr>\n",
       "    <tr>\n",
       "      <th>3</th>\n",
       "      <td>A002</td>\n",
       "      <td>R051</td>\n",
       "      <td>59 ST</td>\n",
       "      <td>09/05/2018</td>\n",
       "      <td>1281.0</td>\n",
       "    </tr>\n",
       "    <tr>\n",
       "      <th>4</th>\n",
       "      <td>A002</td>\n",
       "      <td>R051</td>\n",
       "      <td>59 ST</td>\n",
       "      <td>09/06/2018</td>\n",
       "      <td>1391.0</td>\n",
       "    </tr>\n",
       "  </tbody>\n",
       "</table>\n",
       "</div>"
      ],
      "text/plain": [
       "    C/A  UNIT STATION        DATE  DAILY_ENTRIES\n",
       "0  A002  R051   59 ST  09/02/2018          711.0\n",
       "1  A002  R051   59 ST  09/03/2018          530.0\n",
       "2  A002  R051   59 ST  09/04/2018          589.0\n",
       "3  A002  R051   59 ST  09/05/2018         1281.0\n",
       "4  A002  R051   59 ST  09/06/2018         1391.0"
      ]
     },
     "execution_count": 15,
     "metadata": {},
     "output_type": "execute_result"
    }
   ],
   "source": [
    "station_daily = (daily\n",
    "                        .groupby([\"C/A\", \"UNIT\", \"STATION\", \"DATE\"],as_index=False)\n",
    "                        .DAILY_ENTRIES.first())\n",
    "station_daily.head()"
   ]
  },
  {
   "cell_type": "markdown",
   "metadata": {},
   "source": [
    "# Challenge 6\n",
    "\n",
    "Similarly, combine everything in each station, and come up with a time series of [(date1, count1),(date2,count2),...] type of time series for each STATION, by adding up all the turnstiles in a station."
   ]
  },
  {
   "cell_type": "code",
   "execution_count": 16,
   "metadata": {},
   "outputs": [
    {
     "data": {
      "text/html": [
       "<div>\n",
       "<style scoped>\n",
       "    .dataframe tbody tr th:only-of-type {\n",
       "        vertical-align: middle;\n",
       "    }\n",
       "\n",
       "    .dataframe tbody tr th {\n",
       "        vertical-align: top;\n",
       "    }\n",
       "\n",
       "    .dataframe thead th {\n",
       "        text-align: right;\n",
       "    }\n",
       "</style>\n",
       "<table border=\"1\" class=\"dataframe\">\n",
       "  <thead>\n",
       "    <tr style=\"text-align: right;\">\n",
       "      <th></th>\n",
       "      <th>STATION</th>\n",
       "      <th>DATE</th>\n",
       "      <th>DAILY_ENTRIES</th>\n",
       "    </tr>\n",
       "  </thead>\n",
       "  <tbody>\n",
       "    <tr>\n",
       "      <th>0</th>\n",
       "      <td>1 AV</td>\n",
       "      <td>09/02/2018</td>\n",
       "      <td>2045.0</td>\n",
       "    </tr>\n",
       "    <tr>\n",
       "      <th>1</th>\n",
       "      <td>1 AV</td>\n",
       "      <td>09/03/2018</td>\n",
       "      <td>1785.0</td>\n",
       "    </tr>\n",
       "    <tr>\n",
       "      <th>2</th>\n",
       "      <td>1 AV</td>\n",
       "      <td>09/04/2018</td>\n",
       "      <td>1651.0</td>\n",
       "    </tr>\n",
       "    <tr>\n",
       "      <th>3</th>\n",
       "      <td>1 AV</td>\n",
       "      <td>09/05/2018</td>\n",
       "      <td>3317.0</td>\n",
       "    </tr>\n",
       "    <tr>\n",
       "      <th>4</th>\n",
       "      <td>1 AV</td>\n",
       "      <td>09/06/2018</td>\n",
       "      <td>4038.0</td>\n",
       "    </tr>\n",
       "  </tbody>\n",
       "</table>\n",
       "</div>"
      ],
      "text/plain": [
       "  STATION        DATE  DAILY_ENTRIES\n",
       "0    1 AV  09/02/2018         2045.0\n",
       "1    1 AV  09/03/2018         1785.0\n",
       "2    1 AV  09/04/2018         1651.0\n",
       "3    1 AV  09/05/2018         3317.0\n",
       "4    1 AV  09/06/2018         4038.0"
      ]
     },
     "execution_count": 16,
     "metadata": {},
     "output_type": "execute_result"
    }
   ],
   "source": [
    "station = (station_daily\n",
    "                          .groupby(['STATION', 'DATE'], as_index=False)\n",
    "                          .DAILY_ENTRIES.first())\n",
    "station.head()"
   ]
  },
  {
   "cell_type": "code",
   "execution_count": 17,
   "metadata": {},
   "outputs": [
    {
     "data": {
      "text/html": [
       "<div>\n",
       "<style scoped>\n",
       "    .dataframe tbody tr th:only-of-type {\n",
       "        vertical-align: middle;\n",
       "    }\n",
       "\n",
       "    .dataframe tbody tr th {\n",
       "        vertical-align: top;\n",
       "    }\n",
       "\n",
       "    .dataframe thead th {\n",
       "        text-align: right;\n",
       "    }\n",
       "</style>\n",
       "<table border=\"1\" class=\"dataframe\">\n",
       "  <thead>\n",
       "    <tr style=\"text-align: right;\">\n",
       "      <th></th>\n",
       "      <th>STATION</th>\n",
       "      <th>DAILY_ENTRIES</th>\n",
       "    </tr>\n",
       "    <tr>\n",
       "      <th>DATE</th>\n",
       "      <th></th>\n",
       "      <th></th>\n",
       "    </tr>\n",
       "  </thead>\n",
       "  <tbody>\n",
       "    <tr>\n",
       "      <th>09/02/2018</th>\n",
       "      <td>1 AV</td>\n",
       "      <td>2045.0</td>\n",
       "    </tr>\n",
       "    <tr>\n",
       "      <th>09/03/2018</th>\n",
       "      <td>1 AV</td>\n",
       "      <td>1785.0</td>\n",
       "    </tr>\n",
       "    <tr>\n",
       "      <th>09/04/2018</th>\n",
       "      <td>1 AV</td>\n",
       "      <td>1651.0</td>\n",
       "    </tr>\n",
       "    <tr>\n",
       "      <th>09/05/2018</th>\n",
       "      <td>1 AV</td>\n",
       "      <td>3317.0</td>\n",
       "    </tr>\n",
       "    <tr>\n",
       "      <th>09/06/2018</th>\n",
       "      <td>1 AV</td>\n",
       "      <td>4038.0</td>\n",
       "    </tr>\n",
       "  </tbody>\n",
       "</table>\n",
       "</div>"
      ],
      "text/plain": [
       "           STATION  DAILY_ENTRIES\n",
       "DATE                             \n",
       "09/02/2018    1 AV         2045.0\n",
       "09/03/2018    1 AV         1785.0\n",
       "09/04/2018    1 AV         1651.0\n",
       "09/05/2018    1 AV         3317.0\n",
       "09/06/2018    1 AV         4038.0"
      ]
     },
     "execution_count": 17,
     "metadata": {},
     "output_type": "execute_result"
    }
   ],
   "source": [
    "time_series = station.set_index('DATE')\n",
    "time_series.head()"
   ]
  },
  {
   "cell_type": "markdown",
   "metadata": {},
   "source": [
    "# Challenge 7  \n",
    "Plot the time series for a station."
   ]
  },
  {
   "cell_type": "code",
   "execution_count": 18,
   "metadata": {},
   "outputs": [
    {
     "data": {
      "text/plain": [
       "<matplotlib.axes._subplots.AxesSubplot at 0x11600f3c8>"
      ]
     },
     "execution_count": 18,
     "metadata": {},
     "output_type": "execute_result"
    },
    {
     "data": {
      "image/png": "[encoded data removed]",
      "text/plain": [
       "<matplotlib.figure.Figure at 0x11c5afcf8>"
      ]
     },
     "metadata": {},
     "output_type": "display_data"
    }
   ],
   "source": [
    "firstav = time_series[time_series['STATION']=='1 AV']\n",
    "firstav.plot()"
   ]
  },
  {
   "cell_type": "markdown",
   "metadata": {},
   "source": [
    "# Challenge 8  \n",
    "Make one list of counts for one week for one station. Monday's count, Tuesday's count, etc. so it's a list of 7 counts. Make the same list for another week, and another week, and another week. plt.plot(week_count_list) for every week_count_list you created this way. You should get a rainbow plot of weekly commute numbers on top of each other."
   ]
  },
  {
   "cell_type": "code",
   "execution_count": 20,
   "metadata": {},
   "outputs": [
    {
     "data": {
      "text/html": [
       "<div>\n",
       "<style scoped>\n",
       "    .dataframe tbody tr th:only-of-type {\n",
       "        vertical-align: middle;\n",
       "    }\n",
       "\n",
       "    .dataframe tbody tr th {\n",
       "        vertical-align: top;\n",
       "    }\n",
       "\n",
       "    .dataframe thead th {\n",
       "        text-align: right;\n",
       "    }\n",
       "</style>\n",
       "<table border=\"1\" class=\"dataframe\">\n",
       "  <thead>\n",
       "    <tr style=\"text-align: right;\">\n",
       "      <th></th>\n",
       "      <th>STATION</th>\n",
       "      <th>DATE</th>\n",
       "      <th>DAILY_ENTRIES</th>\n",
       "      <th>weekday</th>\n",
       "      <th>weeknumber</th>\n",
       "    </tr>\n",
       "  </thead>\n",
       "  <tbody>\n",
       "    <tr>\n",
       "      <th>0</th>\n",
       "      <td>1 AV</td>\n",
       "      <td>2018-09-02</td>\n",
       "      <td>2045.0</td>\n",
       "      <td>Sunday</td>\n",
       "      <td>35</td>\n",
       "    </tr>\n",
       "    <tr>\n",
       "      <th>1</th>\n",
       "      <td>1 AV</td>\n",
       "      <td>2018-09-03</td>\n",
       "      <td>1785.0</td>\n",
       "      <td>Monday</td>\n",
       "      <td>35</td>\n",
       "    </tr>\n",
       "    <tr>\n",
       "      <th>2</th>\n",
       "      <td>1 AV</td>\n",
       "      <td>2018-09-04</td>\n",
       "      <td>1651.0</td>\n",
       "      <td>Tuesday</td>\n",
       "      <td>35</td>\n",
       "    </tr>\n",
       "    <tr>\n",
       "      <th>3</th>\n",
       "      <td>1 AV</td>\n",
       "      <td>2018-09-05</td>\n",
       "      <td>3317.0</td>\n",
       "      <td>Wednesday</td>\n",
       "      <td>35</td>\n",
       "    </tr>\n",
       "    <tr>\n",
       "      <th>4</th>\n",
       "      <td>1 AV</td>\n",
       "      <td>2018-09-06</td>\n",
       "      <td>4038.0</td>\n",
       "      <td>Thursday</td>\n",
       "      <td>35</td>\n",
       "    </tr>\n",
       "  </tbody>\n",
       "</table>\n",
       "</div>"
      ],
      "text/plain": [
       "  STATION       DATE  DAILY_ENTRIES    weekday weeknumber\n",
       "0    1 AV 2018-09-02         2045.0     Sunday         35\n",
       "1    1 AV 2018-09-03         1785.0     Monday         35\n",
       "2    1 AV 2018-09-04         1651.0    Tuesday         35\n",
       "3    1 AV 2018-09-05         3317.0  Wednesday         35\n",
       "4    1 AV 2018-09-06         4038.0   Thursday         35"
      ]
     },
     "execution_count": 20,
     "metadata": {},
     "output_type": "execute_result"
    }
   ],
   "source": [
    "station['DATE'] = pd.to_datetime(station['DATE'])\n",
    "station['weekday'] = station['DATE'].dt.strftime('%A')\n",
    "station['weeknumber'] = station['DATE'].dt.strftime('%U')\n",
    "station.head()"
   ]
  },
  {
   "cell_type": "code",
   "execution_count": 21,
   "metadata": {},
   "outputs": [
    {
     "data": {
      "text/html": [
       "<div>\n",
       "<style scoped>\n",
       "    .dataframe tbody tr th:only-of-type {\n",
       "        vertical-align: middle;\n",
       "    }\n",
       "\n",
       "    .dataframe tbody tr th {\n",
       "        vertical-align: top;\n",
       "    }\n",
       "\n",
       "    .dataframe thead th {\n",
       "        text-align: right;\n",
       "    }\n",
       "</style>\n",
       "<table border=\"1\" class=\"dataframe\">\n",
       "  <thead>\n",
       "    <tr style=\"text-align: right;\">\n",
       "      <th></th>\n",
       "      <th>STATION</th>\n",
       "      <th>DATE</th>\n",
       "      <th>DAILY_ENTRIES</th>\n",
       "      <th>weekday</th>\n",
       "      <th>weeknumber</th>\n",
       "    </tr>\n",
       "  </thead>\n",
       "  <tbody>\n",
       "    <tr>\n",
       "      <th>0</th>\n",
       "      <td>1 AV</td>\n",
       "      <td>2018-09-02</td>\n",
       "      <td>2045.0</td>\n",
       "      <td>Sunday</td>\n",
       "      <td>35</td>\n",
       "    </tr>\n",
       "    <tr>\n",
       "      <th>1</th>\n",
       "      <td>1 AV</td>\n",
       "      <td>2018-09-03</td>\n",
       "      <td>1785.0</td>\n",
       "      <td>Monday</td>\n",
       "      <td>35</td>\n",
       "    </tr>\n",
       "    <tr>\n",
       "      <th>2</th>\n",
       "      <td>1 AV</td>\n",
       "      <td>2018-09-04</td>\n",
       "      <td>1651.0</td>\n",
       "      <td>Tuesday</td>\n",
       "      <td>35</td>\n",
       "    </tr>\n",
       "    <tr>\n",
       "      <th>3</th>\n",
       "      <td>1 AV</td>\n",
       "      <td>2018-09-05</td>\n",
       "      <td>3317.0</td>\n",
       "      <td>Wednesday</td>\n",
       "      <td>35</td>\n",
       "    </tr>\n",
       "    <tr>\n",
       "      <th>4</th>\n",
       "      <td>1 AV</td>\n",
       "      <td>2018-09-06</td>\n",
       "      <td>4038.0</td>\n",
       "      <td>Thursday</td>\n",
       "      <td>35</td>\n",
       "    </tr>\n",
       "    <tr>\n",
       "      <th>5</th>\n",
       "      <td>1 AV</td>\n",
       "      <td>2018-09-07</td>\n",
       "      <td>4132.0</td>\n",
       "      <td>Friday</td>\n",
       "      <td>35</td>\n",
       "    </tr>\n",
       "    <tr>\n",
       "      <th>6</th>\n",
       "      <td>1 AV</td>\n",
       "      <td>2018-09-08</td>\n",
       "      <td>4190.0</td>\n",
       "      <td>Saturday</td>\n",
       "      <td>35</td>\n",
       "    </tr>\n",
       "    <tr>\n",
       "      <th>7</th>\n",
       "      <td>1 AV</td>\n",
       "      <td>2018-09-09</td>\n",
       "      <td>2530.0</td>\n",
       "      <td>Sunday</td>\n",
       "      <td>36</td>\n",
       "    </tr>\n",
       "    <tr>\n",
       "      <th>8</th>\n",
       "      <td>1 AV</td>\n",
       "      <td>2018-09-10</td>\n",
       "      <td>1981.0</td>\n",
       "      <td>Monday</td>\n",
       "      <td>36</td>\n",
       "    </tr>\n",
       "    <tr>\n",
       "      <th>9</th>\n",
       "      <td>1 AV</td>\n",
       "      <td>2018-09-11</td>\n",
       "      <td>3355.0</td>\n",
       "      <td>Tuesday</td>\n",
       "      <td>36</td>\n",
       "    </tr>\n",
       "    <tr>\n",
       "      <th>10</th>\n",
       "      <td>1 AV</td>\n",
       "      <td>2018-09-12</td>\n",
       "      <td>3493.0</td>\n",
       "      <td>Wednesday</td>\n",
       "      <td>36</td>\n",
       "    </tr>\n",
       "    <tr>\n",
       "      <th>11</th>\n",
       "      <td>1 AV</td>\n",
       "      <td>2018-09-13</td>\n",
       "      <td>4292.0</td>\n",
       "      <td>Thursday</td>\n",
       "      <td>36</td>\n",
       "    </tr>\n",
       "    <tr>\n",
       "      <th>12</th>\n",
       "      <td>1 AV</td>\n",
       "      <td>2018-09-14</td>\n",
       "      <td>4303.0</td>\n",
       "      <td>Friday</td>\n",
       "      <td>36</td>\n",
       "    </tr>\n",
       "    <tr>\n",
       "      <th>13</th>\n",
       "      <td>1 AV</td>\n",
       "      <td>2018-09-15</td>\n",
       "      <td>4389.0</td>\n",
       "      <td>Saturday</td>\n",
       "      <td>36</td>\n",
       "    </tr>\n",
       "    <tr>\n",
       "      <th>14</th>\n",
       "      <td>1 AV</td>\n",
       "      <td>2018-09-16</td>\n",
       "      <td>2744.0</td>\n",
       "      <td>Sunday</td>\n",
       "      <td>37</td>\n",
       "    </tr>\n",
       "    <tr>\n",
       "      <th>15</th>\n",
       "      <td>1 AV</td>\n",
       "      <td>2018-09-17</td>\n",
       "      <td>2098.0</td>\n",
       "      <td>Monday</td>\n",
       "      <td>37</td>\n",
       "    </tr>\n",
       "    <tr>\n",
       "      <th>16</th>\n",
       "      <td>1 AV</td>\n",
       "      <td>2018-09-18</td>\n",
       "      <td>3914.0</td>\n",
       "      <td>Tuesday</td>\n",
       "      <td>37</td>\n",
       "    </tr>\n",
       "    <tr>\n",
       "      <th>17</th>\n",
       "      <td>1 AV</td>\n",
       "      <td>2018-09-19</td>\n",
       "      <td>3950.0</td>\n",
       "      <td>Wednesday</td>\n",
       "      <td>37</td>\n",
       "    </tr>\n",
       "    <tr>\n",
       "      <th>18</th>\n",
       "      <td>1 AV</td>\n",
       "      <td>2018-09-20</td>\n",
       "      <td>3497.0</td>\n",
       "      <td>Thursday</td>\n",
       "      <td>37</td>\n",
       "    </tr>\n",
       "    <tr>\n",
       "      <th>19</th>\n",
       "      <td>1 AV</td>\n",
       "      <td>2018-09-21</td>\n",
       "      <td>4059.0</td>\n",
       "      <td>Friday</td>\n",
       "      <td>37</td>\n",
       "    </tr>\n",
       "  </tbody>\n",
       "</table>\n",
       "</div>"
      ],
      "text/plain": [
       "   STATION       DATE  DAILY_ENTRIES    weekday weeknumber\n",
       "0     1 AV 2018-09-02         2045.0     Sunday         35\n",
       "1     1 AV 2018-09-03         1785.0     Monday         35\n",
       "2     1 AV 2018-09-04         1651.0    Tuesday         35\n",
       "3     1 AV 2018-09-05         3317.0  Wednesday         35\n",
       "4     1 AV 2018-09-06         4038.0   Thursday         35\n",
       "5     1 AV 2018-09-07         4132.0     Friday         35\n",
       "6     1 AV 2018-09-08         4190.0   Saturday         35\n",
       "7     1 AV 2018-09-09         2530.0     Sunday         36\n",
       "8     1 AV 2018-09-10         1981.0     Monday         36\n",
       "9     1 AV 2018-09-11         3355.0    Tuesday         36\n",
       "10    1 AV 2018-09-12         3493.0  Wednesday         36\n",
       "11    1 AV 2018-09-13         4292.0   Thursday         36\n",
       "12    1 AV 2018-09-14         4303.0     Friday         36\n",
       "13    1 AV 2018-09-15         4389.0   Saturday         36\n",
       "14    1 AV 2018-09-16         2744.0     Sunday         37\n",
       "15    1 AV 2018-09-17         2098.0     Monday         37\n",
       "16    1 AV 2018-09-18         3914.0    Tuesday         37\n",
       "17    1 AV 2018-09-19         3950.0  Wednesday         37\n",
       "18    1 AV 2018-09-20         3497.0   Thursday         37\n",
       "19    1 AV 2018-09-21         4059.0     Friday         37"
      ]
     },
     "execution_count": 21,
     "metadata": {},
     "output_type": "execute_result"
    }
   ],
   "source": [
    "firstav = station[station['STATION']=='1 AV']\n",
    "firstav"
   ]
  },
  {
   "cell_type": "code",
   "execution_count": 22,
   "metadata": {},
   "outputs": [],
   "source": [
    "firstav35 = firstav[firstav['weeknumber']=='35']\n",
    "firstav36 = firstav[firstav['weeknumber']=='36']\n",
    "firstav37 = firstav[firstav['weeknumber']=='37']"
   ]
  },
  {
   "cell_type": "code",
   "execution_count": 38,
   "metadata": {},
   "outputs": [
    {
     "data": {
      "text/plain": [
       "<matplotlib.legend.Legend at 0x11c0faa90>"
      ]
     },
     "execution_count": 38,
     "metadata": {},
     "output_type": "execute_result"
    },
    {
     "data": {
      "image/png": "[encoded data removed]",
      "text/plain": [
       "<matplotlib.figure.Figure at 0x11c2cc7b8>"
      ]
     },
     "metadata": {},
     "output_type": "display_data"
    }
   ],
   "source": [
    "ax = firstav35.plot(x='weekday', y='DAILY_ENTRIES')\n",
    "firstav36.plot(ax=ax, x='weekday', y='DAILY_ENTRIES')\n",
    "firstav37.plot(ax=ax, x='weekday', y='DAILY_ENTRIES')\n",
    "plt.legend(['Week 35', 'Week 36', 'Week 37'])"
   ]
  },
  {
   "cell_type": "markdown",
   "metadata": {},
   "source": [
    "Note: Week 37 is missing the last day of data because of the shift necessary to properly find the daily entries from the cumulative values."
   ]
  },
  {
   "cell_type": "markdown",
   "metadata": {},
   "source": [
    "# Challenge 9  \n",
    "Over multiple weeks, sum total ridership for each station and sort them, so you can find out the stations with the highest traffic during the time you investigate"
   ]
  },
  {
   "cell_type": "code",
   "execution_count": 39,
   "metadata": {},
   "outputs": [
    {
     "data": {
      "text/html": [
       "<div>\n",
       "<style scoped>\n",
       "    .dataframe tbody tr th:only-of-type {\n",
       "        vertical-align: middle;\n",
       "    }\n",
       "\n",
       "    .dataframe tbody tr th {\n",
       "        vertical-align: top;\n",
       "    }\n",
       "\n",
       "    .dataframe thead th {\n",
       "        text-align: right;\n",
       "    }\n",
       "</style>\n",
       "<table border=\"1\" class=\"dataframe\">\n",
       "  <thead>\n",
       "    <tr style=\"text-align: right;\">\n",
       "      <th></th>\n",
       "      <th>STATION</th>\n",
       "      <th>DAILY_ENTRIES</th>\n",
       "    </tr>\n",
       "  </thead>\n",
       "  <tbody>\n",
       "    <tr>\n",
       "      <th>297</th>\n",
       "      <td>NEWARK HW BMEBE</td>\n",
       "      <td>133348.0</td>\n",
       "    </tr>\n",
       "    <tr>\n",
       "      <th>23</th>\n",
       "      <td>168 ST</td>\n",
       "      <td>130544.0</td>\n",
       "    </tr>\n",
       "    <tr>\n",
       "      <th>322</th>\n",
       "      <td>QUEENSBORO PLZ</td>\n",
       "      <td>92091.0</td>\n",
       "    </tr>\n",
       "    <tr>\n",
       "      <th>107</th>\n",
       "      <td>86 ST-2 AVE</td>\n",
       "      <td>91088.0</td>\n",
       "    </tr>\n",
       "    <tr>\n",
       "      <th>57</th>\n",
       "      <td>34 ST-HERALD SQ</td>\n",
       "      <td>87480.0</td>\n",
       "    </tr>\n",
       "  </tbody>\n",
       "</table>\n",
       "</div>"
      ],
      "text/plain": [
       "             STATION  DAILY_ENTRIES\n",
       "297  NEWARK HW BMEBE       133348.0\n",
       "23            168 ST       130544.0\n",
       "322   QUEENSBORO PLZ        92091.0\n",
       "107      86 ST-2 AVE        91088.0\n",
       "57   34 ST-HERALD SQ        87480.0"
      ]
     },
     "execution_count": 39,
     "metadata": {},
     "output_type": "execute_result"
    }
   ],
   "source": [
    "total_ridership_counts = (station\n",
    "                          .groupby(['STATION'], as_index=False)\n",
    "                          .DAILY_ENTRIES.sum())\n",
    "total_ridership_counts.sort_values(by='DAILY_ENTRIES', ascending=False).head()"
   ]
  },
  {
   "cell_type": "markdown",
   "metadata": {},
   "source": [
    "# Challenge 10\n",
    "Make a single list of these total ridership values and plot it with  \n",
    "\n",
    "plt.hist(total_ridership_counts)   \n",
    "\n",
    "to get an idea about the distribution of total ridership among different stations.   \n",
    "\n",
    "This should show you that most stations have a small traffic, and the histogram bins for large traffic volumes have small bars.   \n",
    "\n",
    "Additional Hint:   \n",
    "\n",
    "If you want to see which stations take the meat of the traffic, you can sort the total ridership counts and make a plt.bar graph. For this, you want to have two lists: the indices of each bar, and the values. The indices can just be 0,1,2,3,..., so you can do   \n",
    "\n",
    "indices = range(len(total_ridership_values))   \n",
    "plt.bar(indices, total_ridership_values)   "
   ]
  },
  {
   "cell_type": "code",
   "execution_count": 40,
   "metadata": {},
   "outputs": [
    {
     "data": {
      "text/plain": [
       "(array([126., 130.,  77.,  22.,  14.,   0.,   3.,   0.,   0.,   2.]),\n",
       " array([     0. ,  13334.8,  26669.6,  40004.4,  53339.2,  66674. ,\n",
       "         80008.8,  93343.6, 106678.4, 120013.2, 133348. ]),\n",
       " <a list of 10 Patch objects>)"
      ]
     },
     "execution_count": 40,
     "metadata": {},
     "output_type": "execute_result"
    },
    {
     "data": {
      "image/png": "[encoded data removed]",
      "text/plain": [
       "<matplotlib.figure.Figure at 0x11bfe6048>"
      ]
     },
     "metadata": {},
     "output_type": "display_data"
    }
   ],
   "source": [
    "plt.hist(total_ridership_counts['DAILY_ENTRIES'])"
   ]
  },
  {
   "cell_type": "code",
   "execution_count": 41,
   "metadata": {},
   "outputs": [
    {
     "data": {
      "text/plain": [
       "<Container object of 374 artists>"
      ]
     },
     "execution_count": 41,
     "metadata": {},
     "output_type": "execute_result"
    },
    {
     "data": {
      "image/png": "[encoded data removed]",
      "text/plain": [
       "<matplotlib.figure.Figure at 0x11bfe63c8>"
      ]
     },
     "metadata": {},
     "output_type": "display_data"
    }
   ],
   "source": [
    "total_ridership_values = total_ridership_counts['DAILY_ENTRIES'].sort_values()\n",
    "indices = range(len(total_ridership_values))\n",
    "plt.bar(indices, total_ridership_values)"
   ]
  }
 ],
 "metadata": {
  "kernelspec": {
   "display_name": "Python 3",
   "language": "python",
   "name": "python3"
  },
  "language_info": {
   "codemirror_mode": {
    "name": "ipython",
    "version": 3
   },
   "file_extension": ".py",
   "mimetype": "text/x-python",
   "name": "python",
   "nbconvert_exporter": "python",
   "pygments_lexer": "ipython3",
   "version": "3.6.4"
  }
 },
 "nbformat": 4,
 "nbformat_minor": 2
}
