{
 "cells": [
  {
   "cell_type": "code",
   "execution_count": 206,
   "metadata": {},
   "outputs": [],
   "source": [
    "import sqlalchemy as db\n",
    "from sqlalchemy import alias\n",
    "import pandas as pd\n",
    "import pprint as pprint"
   ]
  },
  {
   "cell_type": "code",
   "execution_count": 207,
   "metadata": {},
   "outputs": [],
   "source": [
    "engine = db.create_engine('sqlite:///database.sqlite')\n",
    "connection = engine.connect()\n",
    "metadata = db.MetaData()"
   ]
  },
  {
   "cell_type": "code",
   "execution_count": 208,
   "metadata": {},
   "outputs": [
    {
     "name": "stdout",
     "output_type": "stream",
     "text": [
      "Match\n",
      "Team_Attributes\n",
      "Player_Attributes\n",
      "League\n",
      "sqlite_sequence\n",
      "country\n",
      "Team\n",
      "Player\n",
      "Country\n"
     ]
    }
   ],
   "source": [
    "metadata.reflect(bind=engine)\n",
    "for table in reversed(metadata.sorted_tables):\n",
    "    print(table)"
   ]
  },
  {
   "cell_type": "code",
   "execution_count": 209,
   "metadata": {},
   "outputs": [],
   "source": [
    "Match = db.Table('Match', metadata, autoload=True, autoload_with=engine)\n",
    "Team_Attributes = db.Table('Team_Attributes', metadata, autoload=True, autoload_with=engine)\n",
    "Player_Attributes = db.Table('Player_Attributes', metadata, autoload=True, autoload_with=engine)\n",
    "League = db.Table('League', metadata, autoload=True, autoload_with=engine)\n",
    "sqlite_sequence = db.Table('sqlite_sequence', metadata, autoload=True, autoload_with=engine)\n",
    "country = db.Table('country', metadata, autoload=True, autoload_with=engine)\n",
    "Team = db.Table('Team', metadata, autoload=True, autoload_with=engine)\n",
    "Player = db.Table('Player', metadata, autoload=True, autoload_with=engine)\n",
    "Country = db.Table('Country', metadata, autoload=True, autoload_with=engine)"
   ]
  },
  {
   "cell_type": "code",
   "execution_count": 215,
   "metadata": {},
   "outputs": [
    {
     "name": "stdout",
     "output_type": "stream",
     "text": [
      "['id', 'country_id', 'league_id', 'season', 'stage', 'date', 'match_api_id', 'home_team_api_id', 'away_team_api_id', 'home_team_goal', 'away_team_goal', 'home_player_X1', 'home_player_X2', 'home_player_X3', 'home_player_X4', 'home_player_X5', 'home_player_X6', 'home_player_X7', 'home_player_X8', 'home_player_X9', 'home_player_X10', 'home_player_X11', 'away_player_X1', 'away_player_X2', 'away_player_X3', 'away_player_X4', 'away_player_X5', 'away_player_X6', 'away_player_X7', 'away_player_X8', 'away_player_X9', 'away_player_X10', 'away_player_X11', 'home_player_Y1', 'home_player_Y2', 'home_player_Y3', 'home_player_Y4', 'home_player_Y5', 'home_player_Y6', 'home_player_Y7', 'home_player_Y8', 'home_player_Y9', 'home_player_Y10', 'home_player_Y11', 'away_player_Y1', 'away_player_Y2', 'away_player_Y3', 'away_player_Y4', 'away_player_Y5', 'away_player_Y6', 'away_player_Y7', 'away_player_Y8', 'away_player_Y9', 'away_player_Y10', 'away_player_Y11', 'home_player_1', 'home_player_2', 'home_player_3', 'home_player_4', 'home_player_5', 'home_player_6', 'home_player_7', 'home_player_8', 'home_player_9', 'home_player_10', 'home_player_11', 'away_player_1', 'away_player_2', 'away_player_3', 'away_player_4', 'away_player_5', 'away_player_6', 'away_player_7', 'away_player_8', 'away_player_9', 'away_player_10', 'away_player_11', 'goal', 'shoton', 'shotoff', 'foulcommit', 'card', 'cross', 'corner', 'possession', 'B365H', 'B365D', 'B365A', 'BWH', 'BWD', 'BWA', 'IWH', 'IWD', 'IWA', 'LBH', 'LBD', 'LBA', 'PSH', 'PSD', 'PSA', 'WHH', 'WHD', 'WHA', 'SJH', 'SJD', 'SJA', 'VCH', 'VCD', 'VCA', 'GBH', 'GBD', 'GBA', 'BSH', 'BSD', 'BSA']\n"
     ]
    }
   ],
   "source": [
    "print(Match.columns.keys())"
   ]
  },
  {
   "cell_type": "code",
   "execution_count": 216,
   "metadata": {},
   "outputs": [
    {
     "name": "stdout",
     "output_type": "stream",
     "text": [
      "['id', 'team_api_id', 'team_fifa_api_id', 'team_long_name', 'team_short_name']\n"
     ]
    }
   ],
   "source": [
    "print(Team.columns.keys())"
   ]
  },
  {
   "cell_type": "code",
   "execution_count": 217,
   "metadata": {},
   "outputs": [
    {
     "name": "stdout",
     "output_type": "stream",
     "text": [
      "['id', 'country_id', 'name']\n"
     ]
    }
   ],
   "source": [
    "print(League.columns.keys())"
   ]
  },
  {
   "cell_type": "markdown",
   "metadata": {},
   "source": [
    "## 1. Which team scored the most points when playing at home?"
   ]
  },
  {
   "cell_type": "code",
   "execution_count": 218,
   "metadata": {},
   "outputs": [
    {
     "data": {
      "text/html": [
       "<div>\n",
       "<style scoped>\n",
       "    .dataframe tbody tr th:only-of-type {\n",
       "        vertical-align: middle;\n",
       "    }\n",
       "\n",
       "    .dataframe tbody tr th {\n",
       "        vertical-align: top;\n",
       "    }\n",
       "\n",
       "    .dataframe thead th {\n",
       "        text-align: right;\n",
       "    }\n",
       "</style>\n",
       "<table border=\"1\" class=\"dataframe\">\n",
       "  <thead>\n",
       "    <tr style=\"text-align: right;\">\n",
       "      <th></th>\n",
       "      <th>date</th>\n",
       "      <th>home_team</th>\n",
       "      <th>away_team</th>\n",
       "      <th>league</th>\n",
       "      <th>home_team_goal</th>\n",
       "      <th>away_team_goal</th>\n",
       "    </tr>\n",
       "  </thead>\n",
       "  <tbody>\n",
       "    <tr>\n",
       "      <th>0</th>\n",
       "      <td>2010-10-24 00:00:00</td>\n",
       "      <td>PSV</td>\n",
       "      <td>Feyenoord</td>\n",
       "      <td>Netherlands Eredivisie</td>\n",
       "      <td>10</td>\n",
       "      <td>0</td>\n",
       "    </tr>\n",
       "    <tr>\n",
       "      <th>1</th>\n",
       "      <td>2015-12-20 00:00:00</td>\n",
       "      <td>Real Madrid CF</td>\n",
       "      <td>Rayo Vallecano</td>\n",
       "      <td>Spain LIGA BBVA</td>\n",
       "      <td>10</td>\n",
       "      <td>2</td>\n",
       "    </tr>\n",
       "    <tr>\n",
       "      <th>2</th>\n",
       "      <td>2009-11-22 00:00:00</td>\n",
       "      <td>Tottenham Hotspur</td>\n",
       "      <td>Wigan Athletic</td>\n",
       "      <td>England Premier League</td>\n",
       "      <td>9</td>\n",
       "      <td>1</td>\n",
       "    </tr>\n",
       "    <tr>\n",
       "      <th>3</th>\n",
       "      <td>2013-03-30 00:00:00</td>\n",
       "      <td>FC Bayern Munich</td>\n",
       "      <td>Hamburger SV</td>\n",
       "      <td>Germany 1. Bundesliga</td>\n",
       "      <td>9</td>\n",
       "      <td>2</td>\n",
       "    </tr>\n",
       "    <tr>\n",
       "      <th>4</th>\n",
       "      <td>2010-11-06 00:00:00</td>\n",
       "      <td>Celtic</td>\n",
       "      <td>Aberdeen</td>\n",
       "      <td>Scotland Premier League</td>\n",
       "      <td>9</td>\n",
       "      <td>0</td>\n",
       "    </tr>\n",
       "  </tbody>\n",
       "</table>\n",
       "</div>"
      ],
      "text/plain": [
       "                  date          home_team       away_team  \\\n",
       "0  2010-10-24 00:00:00                PSV       Feyenoord   \n",
       "1  2015-12-20 00:00:00     Real Madrid CF  Rayo Vallecano   \n",
       "2  2009-11-22 00:00:00  Tottenham Hotspur  Wigan Athletic   \n",
       "3  2013-03-30 00:00:00   FC Bayern Munich    Hamburger SV   \n",
       "4  2010-11-06 00:00:00             Celtic        Aberdeen   \n",
       "\n",
       "                    league  home_team_goal  away_team_goal  \n",
       "0   Netherlands Eredivisie              10               0  \n",
       "1          Spain LIGA BBVA              10               2  \n",
       "2   England Premier League               9               1  \n",
       "3    Germany 1. Bundesliga               9               2  \n",
       "4  Scotland Premier League               9               0  "
      ]
     },
     "execution_count": 218,
     "metadata": {},
     "output_type": "execute_result"
    }
   ],
   "source": [
    "Team_alias = alias(Team)\n",
    "query = db.select([Match.columns.date, Team.columns.team_long_name.label('home_team'), \n",
    "                   Team_alias.columns.team_long_name.label('away_team'), \n",
    "                   League.columns.name.label('league'), \\\n",
    "                   Match.columns.home_team_goal, Match.columns.away_team_goal])\n",
    "query = query.select_from(Match.join(Team, Match.columns.home_team_api_id == Team.columns.team_api_id)\\\n",
    "                         .join(Team_alias, Match.columns.away_team_api_id == Team_alias.columns.team_api_id)\\\n",
    "                         .join(League, Match.columns.country_id == League.columns.country_id))\n",
    "query = query.order_by(Match.columns.home_team_goal.desc())\n",
    "results = connection.execute(query).fetchall()\n",
    "df = pd.DataFrame(results)\n",
    "df.columns = results[0].keys()\n",
    "df.head(5)"
   ]
  },
  {
   "cell_type": "markdown",
   "metadata": {},
   "source": [
    "PSV Eindhoven beat Feyenoord 10-0 on 10/24/2010. That is a suprisingly lopsided result considering the usual quality of each team. <br>\n",
    "Real Madrid beat Rayo Vallecano 10-2 on 12/20/2015. Two red cards for Rayo after going up 2-1 early!"
   ]
  },
  {
   "cell_type": "markdown",
   "metadata": {},
   "source": [
    "## 2. Did this team also score the most points when playing away?"
   ]
  },
  {
   "cell_type": "code",
   "execution_count": 194,
   "metadata": {},
   "outputs": [
    {
     "data": {
      "text/html": [
       "<div>\n",
       "<style scoped>\n",
       "    .dataframe tbody tr th:only-of-type {\n",
       "        vertical-align: middle;\n",
       "    }\n",
       "\n",
       "    .dataframe tbody tr th {\n",
       "        vertical-align: top;\n",
       "    }\n",
       "\n",
       "    .dataframe thead th {\n",
       "        text-align: right;\n",
       "    }\n",
       "</style>\n",
       "<table border=\"1\" class=\"dataframe\">\n",
       "  <thead>\n",
       "    <tr style=\"text-align: right;\">\n",
       "      <th></th>\n",
       "      <th>date</th>\n",
       "      <th>home_team</th>\n",
       "      <th>away_team</th>\n",
       "      <th>league</th>\n",
       "      <th>home_team_goal</th>\n",
       "      <th>away_team_goal</th>\n",
       "    </tr>\n",
       "  </thead>\n",
       "  <tbody>\n",
       "    <tr>\n",
       "      <th>0</th>\n",
       "      <td>2016-03-13 00:00:00</td>\n",
       "      <td>ES Troyes AC</td>\n",
       "      <td>Paris Saint-Germain</td>\n",
       "      <td>France Ligue 1</td>\n",
       "      <td>0</td>\n",
       "      <td>9</td>\n",
       "    </tr>\n",
       "    <tr>\n",
       "      <th>1</th>\n",
       "      <td>2011-05-07 00:00:00</td>\n",
       "      <td>FC St. Pauli</td>\n",
       "      <td>FC Bayern Munich</td>\n",
       "      <td>Germany 1. Bundesliga</td>\n",
       "      <td>1</td>\n",
       "      <td>8</td>\n",
       "    </tr>\n",
       "    <tr>\n",
       "      <th>2</th>\n",
       "      <td>2010-11-20 00:00:00</td>\n",
       "      <td>UD Almería</td>\n",
       "      <td>FC Barcelona</td>\n",
       "      <td>Spain LIGA BBVA</td>\n",
       "      <td>0</td>\n",
       "      <td>8</td>\n",
       "    </tr>\n",
       "    <tr>\n",
       "      <th>3</th>\n",
       "      <td>2015-05-02 00:00:00</td>\n",
       "      <td>Córdoba CF</td>\n",
       "      <td>FC Barcelona</td>\n",
       "      <td>Spain LIGA BBVA</td>\n",
       "      <td>0</td>\n",
       "      <td>8</td>\n",
       "    </tr>\n",
       "    <tr>\n",
       "      <th>4</th>\n",
       "      <td>2014-09-20 00:00:00</td>\n",
       "      <td>RC Deportivo de La Coruña</td>\n",
       "      <td>Real Madrid CF</td>\n",
       "      <td>Spain LIGA BBVA</td>\n",
       "      <td>2</td>\n",
       "      <td>8</td>\n",
       "    </tr>\n",
       "  </tbody>\n",
       "</table>\n",
       "</div>"
      ],
      "text/plain": [
       "                  date                  home_team            away_team  \\\n",
       "0  2016-03-13 00:00:00               ES Troyes AC  Paris Saint-Germain   \n",
       "1  2011-05-07 00:00:00               FC St. Pauli     FC Bayern Munich   \n",
       "2  2010-11-20 00:00:00                 UD Almería         FC Barcelona   \n",
       "3  2015-05-02 00:00:00                 Córdoba CF         FC Barcelona   \n",
       "4  2014-09-20 00:00:00  RC Deportivo de La Coruña       Real Madrid CF   \n",
       "\n",
       "                  league  home_team_goal  away_team_goal  \n",
       "0         France Ligue 1               0               9  \n",
       "1  Germany 1. Bundesliga               1               8  \n",
       "2        Spain LIGA BBVA               0               8  \n",
       "3        Spain LIGA BBVA               0               8  \n",
       "4        Spain LIGA BBVA               2               8  "
      ]
     },
     "execution_count": 194,
     "metadata": {},
     "output_type": "execute_result"
    }
   ],
   "source": [
    "Team_alias = alias(Team)\n",
    "query = db.select([Match.columns.date, Team.columns.team_long_name.label('home_team'), \n",
    "                   Team_alias.columns.team_long_name.label('away_team'), \n",
    "                   League.columns.name.label('league'), \\\n",
    "                   Match.columns.home_team_goal, Match.columns.away_team_goal])\n",
    "query = query.select_from(Match.join(Team, Match.columns.home_team_api_id == Team.columns.team_api_id)\\\n",
    "                         .join(Team_alias, Match.columns.away_team_api_id == Team_alias.columns.team_api_id)\\\n",
    "                         .join(League, Match.columns.country_id == League.columns.country_id))\n",
    "query = query.order_by(Match.columns.away_team_goal.desc())\n",
    "results = connection.execute(query).fetchall()\n",
    "df = pd.DataFrame(results)\n",
    "df.columns = results[0].keys()\n",
    "df.head(5)"
   ]
  },
  {
   "cell_type": "markdown",
   "metadata": {},
   "source": [
    "No - PSG is French, PSV is Dutch! <br> PSG scored the most away goals, beating poor Troyes 9-0. Zlatan had 4 of them."
   ]
  },
  {
   "cell_type": "markdown",
   "metadata": {},
   "source": [
    "## 3. How many matches resulted in a tie?"
   ]
  },
  {
   "cell_type": "code",
   "execution_count": 230,
   "metadata": {},
   "outputs": [
    {
     "name": "stdout",
     "output_type": "stream",
     "text": [
      "<class 'pandas.core.frame.DataFrame'>\n",
      "RangeIndex: 6596 entries, 0 to 6595\n",
      "Columns: 115 entries, id to BSA\n",
      "dtypes: float64(66), int64(9), object(40)\n",
      "memory usage: 5.8+ MB\n"
     ]
    }
   ],
   "source": [
    "query = db.select([Match]).where(Match.columns.home_team_goal == Match.columns.away_team_goal)\n",
    "results = connection.execute(query).fetchall()\n",
    "df = pd.DataFrame(results)\n",
    "df.columns = results[0].keys()\n",
    "df.info()"
   ]
  },
  {
   "cell_type": "markdown",
   "metadata": {},
   "source": [
    "6596 matches resulted in a tie."
   ]
  },
  {
   "cell_type": "markdown",
   "metadata": {},
   "source": [
    "## 4. How many players have Smith for their last name? How many have 'smith' anywhere in their name?"
   ]
  },
  {
   "cell_type": "code",
   "execution_count": 231,
   "metadata": {},
   "outputs": [
    {
     "name": "stdout",
     "output_type": "stream",
     "text": [
      "['id', 'player_api_id', 'player_name', 'player_fifa_api_id', 'birthday', 'height', 'weight']\n"
     ]
    }
   ],
   "source": [
    "print(Player.columns.keys())"
   ]
  },
  {
   "cell_type": "code",
   "execution_count": 235,
   "metadata": {},
   "outputs": [
    {
     "data": {
      "text/html": [
       "<div>\n",
       "<style scoped>\n",
       "    .dataframe tbody tr th:only-of-type {\n",
       "        vertical-align: middle;\n",
       "    }\n",
       "\n",
       "    .dataframe tbody tr th {\n",
       "        vertical-align: top;\n",
       "    }\n",
       "\n",
       "    .dataframe thead th {\n",
       "        text-align: right;\n",
       "    }\n",
       "</style>\n",
       "<table border=\"1\" class=\"dataframe\">\n",
       "  <thead>\n",
       "    <tr style=\"text-align: right;\">\n",
       "      <th></th>\n",
       "      <th>id</th>\n",
       "      <th>player_api_id</th>\n",
       "      <th>player_name</th>\n",
       "      <th>player_fifa_api_id</th>\n",
       "      <th>birthday</th>\n",
       "      <th>height</th>\n",
       "      <th>weight</th>\n",
       "    </tr>\n",
       "  </thead>\n",
       "  <tbody>\n",
       "    <tr>\n",
       "      <th>0</th>\n",
       "      <td>129</td>\n",
       "      <td>160447</td>\n",
       "      <td>Adam Smith</td>\n",
       "      <td>190885</td>\n",
       "      <td>1991-04-29 00:00:00</td>\n",
       "      <td>180.34</td>\n",
       "      <td>179</td>\n",
       "    </tr>\n",
       "    <tr>\n",
       "      <th>1</th>\n",
       "      <td>263</td>\n",
       "      <td>30248</td>\n",
       "      <td>Alan Smith</td>\n",
       "      <td>13739</td>\n",
       "      <td>1980-10-28 00:00:00</td>\n",
       "      <td>180.34</td>\n",
       "      <td>179</td>\n",
       "    </tr>\n",
       "    <tr>\n",
       "      <th>2</th>\n",
       "      <td>1348</td>\n",
       "      <td>515338</td>\n",
       "      <td>Brad Smith</td>\n",
       "      <td>210389</td>\n",
       "      <td>1994-04-09 00:00:00</td>\n",
       "      <td>175.26</td>\n",
       "      <td>154</td>\n",
       "    </tr>\n",
       "    <tr>\n",
       "      <th>3</th>\n",
       "      <td>1513</td>\n",
       "      <td>315888</td>\n",
       "      <td>Cameron Smith</td>\n",
       "      <td>208691</td>\n",
       "      <td>1995-08-24 00:00:00</td>\n",
       "      <td>175.26</td>\n",
       "      <td>134</td>\n",
       "    </tr>\n",
       "    <tr>\n",
       "      <th>4</th>\n",
       "      <td>1729</td>\n",
       "      <td>34656</td>\n",
       "      <td>Chris Smith</td>\n",
       "      <td>155881</td>\n",
       "      <td>1986-03-05 00:00:00</td>\n",
       "      <td>187.96</td>\n",
       "      <td>190</td>\n",
       "    </tr>\n",
       "    <tr>\n",
       "      <th>5</th>\n",
       "      <td>2019</td>\n",
       "      <td>279105</td>\n",
       "      <td>Daan Smith</td>\n",
       "      <td>204389</td>\n",
       "      <td>1992-03-18 00:00:00</td>\n",
       "      <td>193.04</td>\n",
       "      <td>174</td>\n",
       "    </tr>\n",
       "    <tr>\n",
       "      <th>6</th>\n",
       "      <td>2416</td>\n",
       "      <td>264839</td>\n",
       "      <td>David Smith</td>\n",
       "      <td>206564</td>\n",
       "      <td>1993-03-01 00:00:00</td>\n",
       "      <td>180.34</td>\n",
       "      <td>165</td>\n",
       "    </tr>\n",
       "    <tr>\n",
       "      <th>7</th>\n",
       "      <td>3693</td>\n",
       "      <td>23999</td>\n",
       "      <td>Gary Naysmith</td>\n",
       "      <td>4190</td>\n",
       "      <td>1978-11-16 00:00:00</td>\n",
       "      <td>177.80</td>\n",
       "      <td>161</td>\n",
       "    </tr>\n",
       "    <tr>\n",
       "      <th>8</th>\n",
       "      <td>3949</td>\n",
       "      <td>91790</td>\n",
       "      <td>Gordon Smith</td>\n",
       "      <td>198372</td>\n",
       "      <td>1991-02-14 00:00:00</td>\n",
       "      <td>190.50</td>\n",
       "      <td>176</td>\n",
       "    </tr>\n",
       "    <tr>\n",
       "      <th>9</th>\n",
       "      <td>3958</td>\n",
       "      <td>24984</td>\n",
       "      <td>Graeme Smith</td>\n",
       "      <td>139539</td>\n",
       "      <td>1982-10-03 00:00:00</td>\n",
       "      <td>187.96</td>\n",
       "      <td>181</td>\n",
       "    </tr>\n",
       "    <tr>\n",
       "      <th>10</th>\n",
       "      <td>3959</td>\n",
       "      <td>24985</td>\n",
       "      <td>Graeme Smith</td>\n",
       "      <td>156001</td>\n",
       "      <td>1983-06-08 00:00:00</td>\n",
       "      <td>187.96</td>\n",
       "      <td>172</td>\n",
       "    </tr>\n",
       "    <tr>\n",
       "      <th>11</th>\n",
       "      <td>4622</td>\n",
       "      <td>24813</td>\n",
       "      <td>Jamie Smith</td>\n",
       "      <td>53496</td>\n",
       "      <td>1980-11-20 00:00:00</td>\n",
       "      <td>172.72</td>\n",
       "      <td>163</td>\n",
       "    </tr>\n",
       "    <tr>\n",
       "      <th>12</th>\n",
       "      <td>4693</td>\n",
       "      <td>245022</td>\n",
       "      <td>Jason Naismith</td>\n",
       "      <td>205321</td>\n",
       "      <td>1994-06-25 00:00:00</td>\n",
       "      <td>185.42</td>\n",
       "      <td>183</td>\n",
       "    </tr>\n",
       "    <tr>\n",
       "      <th>13</th>\n",
       "      <td>5788</td>\n",
       "      <td>25583</td>\n",
       "      <td>Kevin Smith</td>\n",
       "      <td>173513</td>\n",
       "      <td>1987-03-20 00:00:00</td>\n",
       "      <td>180.34</td>\n",
       "      <td>157</td>\n",
       "    </tr>\n",
       "    <tr>\n",
       "      <th>14</th>\n",
       "      <td>6155</td>\n",
       "      <td>158818</td>\n",
       "      <td>Liam Smith</td>\n",
       "      <td>222979</td>\n",
       "      <td>1996-04-10 00:00:00</td>\n",
       "      <td>177.80</td>\n",
       "      <td>150</td>\n",
       "    </tr>\n",
       "    <tr>\n",
       "      <th>15</th>\n",
       "      <td>10042</td>\n",
       "      <td>32705</td>\n",
       "      <td>Steven Naismith</td>\n",
       "      <td>163209</td>\n",
       "      <td>1986-09-14 00:00:00</td>\n",
       "      <td>177.80</td>\n",
       "      <td>159</td>\n",
       "    </tr>\n",
       "    <tr>\n",
       "      <th>16</th>\n",
       "      <td>10052</td>\n",
       "      <td>32200</td>\n",
       "      <td>Steven Smith</td>\n",
       "      <td>164773</td>\n",
       "      <td>1985-08-30 00:00:00</td>\n",
       "      <td>177.80</td>\n",
       "      <td>154</td>\n",
       "    </tr>\n",
       "    <tr>\n",
       "      <th>17</th>\n",
       "      <td>10448</td>\n",
       "      <td>38704</td>\n",
       "      <td>Tommy Smith</td>\n",
       "      <td>157983</td>\n",
       "      <td>1980-05-22 00:00:00</td>\n",
       "      <td>177.80</td>\n",
       "      <td>176</td>\n",
       "    </tr>\n",
       "  </tbody>\n",
       "</table>\n",
       "</div>"
      ],
      "text/plain": [
       "       id  player_api_id      player_name  player_fifa_api_id  \\\n",
       "0     129         160447       Adam Smith              190885   \n",
       "1     263          30248       Alan Smith               13739   \n",
       "2    1348         515338       Brad Smith              210389   \n",
       "3    1513         315888    Cameron Smith              208691   \n",
       "4    1729          34656      Chris Smith              155881   \n",
       "5    2019         279105       Daan Smith              204389   \n",
       "6    2416         264839      David Smith              206564   \n",
       "7    3693          23999    Gary Naysmith                4190   \n",
       "8    3949          91790     Gordon Smith              198372   \n",
       "9    3958          24984     Graeme Smith              139539   \n",
       "10   3959          24985     Graeme Smith              156001   \n",
       "11   4622          24813      Jamie Smith               53496   \n",
       "12   4693         245022   Jason Naismith              205321   \n",
       "13   5788          25583      Kevin Smith              173513   \n",
       "14   6155         158818       Liam Smith              222979   \n",
       "15  10042          32705  Steven Naismith              163209   \n",
       "16  10052          32200     Steven Smith              164773   \n",
       "17  10448          38704      Tommy Smith              157983   \n",
       "\n",
       "               birthday  height  weight  \n",
       "0   1991-04-29 00:00:00  180.34     179  \n",
       "1   1980-10-28 00:00:00  180.34     179  \n",
       "2   1994-04-09 00:00:00  175.26     154  \n",
       "3   1995-08-24 00:00:00  175.26     134  \n",
       "4   1986-03-05 00:00:00  187.96     190  \n",
       "5   1992-03-18 00:00:00  193.04     174  \n",
       "6   1993-03-01 00:00:00  180.34     165  \n",
       "7   1978-11-16 00:00:00  177.80     161  \n",
       "8   1991-02-14 00:00:00  190.50     176  \n",
       "9   1982-10-03 00:00:00  187.96     181  \n",
       "10  1983-06-08 00:00:00  187.96     172  \n",
       "11  1980-11-20 00:00:00  172.72     163  \n",
       "12  1994-06-25 00:00:00  185.42     183  \n",
       "13  1987-03-20 00:00:00  180.34     157  \n",
       "14  1996-04-10 00:00:00  177.80     150  \n",
       "15  1986-09-14 00:00:00  177.80     159  \n",
       "16  1985-08-30 00:00:00  177.80     154  \n",
       "17  1980-05-22 00:00:00  177.80     176  "
      ]
     },
     "execution_count": 235,
     "metadata": {},
     "output_type": "execute_result"
    }
   ],
   "source": [
    "query = db.select([Player]).where(Player.columns.player_name.like('%smith%'))\n",
    "results = connection.execute(query).fetchall()\n",
    "df = pd.DataFrame(results)\n",
    "df.columns = results[0].keys()\n",
    "df"
   ]
  },
  {
   "cell_type": "markdown",
   "metadata": {},
   "source": [
    "There are 18 players with the word 'smith' somewhere in their name."
   ]
  },
  {
   "cell_type": "markdown",
   "metadata": {},
   "source": [
    "## 5. What was the median tie score? Use the value determined in the previous question for the number of tie games. Hint: PostgreSQL does not have a median function. Instead, think about the steps required to calculate a median and use the WITH command to store stepwise results as a table and then operate on these results."
   ]
  },
  {
   "cell_type": "code",
   "execution_count": 237,
   "metadata": {},
   "outputs": [
    {
     "data": {
      "text/html": [
       "<div>\n",
       "<style scoped>\n",
       "    .dataframe tbody tr th:only-of-type {\n",
       "        vertical-align: middle;\n",
       "    }\n",
       "\n",
       "    .dataframe tbody tr th {\n",
       "        vertical-align: top;\n",
       "    }\n",
       "\n",
       "    .dataframe thead th {\n",
       "        text-align: right;\n",
       "    }\n",
       "</style>\n",
       "<table border=\"1\" class=\"dataframe\">\n",
       "  <thead>\n",
       "    <tr style=\"text-align: right;\">\n",
       "      <th></th>\n",
       "      <th>home_team_goal</th>\n",
       "    </tr>\n",
       "  </thead>\n",
       "  <tbody>\n",
       "    <tr>\n",
       "      <th>0</th>\n",
       "      <td>1</td>\n",
       "    </tr>\n",
       "    <tr>\n",
       "      <th>1</th>\n",
       "      <td>0</td>\n",
       "    </tr>\n",
       "    <tr>\n",
       "      <th>2</th>\n",
       "      <td>1</td>\n",
       "    </tr>\n",
       "    <tr>\n",
       "      <th>3</th>\n",
       "      <td>2</td>\n",
       "    </tr>\n",
       "    <tr>\n",
       "      <th>4</th>\n",
       "      <td>0</td>\n",
       "    </tr>\n",
       "  </tbody>\n",
       "</table>\n",
       "</div>"
      ],
      "text/plain": [
       "   home_team_goal\n",
       "0               1\n",
       "1               0\n",
       "2               1\n",
       "3               2\n",
       "4               0"
      ]
     },
     "execution_count": 237,
     "metadata": {},
     "output_type": "execute_result"
    }
   ],
   "source": [
    "query = db.select([Match.columns.home_team_goal]).where(Match.columns.home_team_goal == Match.columns.away_team_goal)\n",
    "results = connection.execute(query).fetchall()\n",
    "df = pd.DataFrame(results)\n",
    "df.columns = results[0].keys()\n",
    "df.head()"
   ]
  },
  {
   "cell_type": "code",
   "execution_count": 238,
   "metadata": {},
   "outputs": [
    {
     "data": {
      "text/plain": [
       "1    3014\n",
       "0    1978\n",
       "2    1310\n",
       "3     264\n",
       "4      27\n",
       "5       2\n",
       "6       1\n",
       "Name: home_team_goal, dtype: int64"
      ]
     },
     "execution_count": 238,
     "metadata": {},
     "output_type": "execute_result"
    }
   ],
   "source": [
    "df.home_team_goal.value_counts()"
   ]
  },
  {
   "cell_type": "code",
   "execution_count": 243,
   "metadata": {},
   "outputs": [
    {
     "data": {
      "text/plain": [
       "1"
      ]
     },
     "execution_count": 243,
     "metadata": {},
     "output_type": "execute_result"
    }
   ],
   "source": [
    "df.home_team_goal.mode()[0]"
   ]
  },
  {
   "cell_type": "markdown",
   "metadata": {},
   "source": [
    "The median tie score was 1-1. <br>3014 of 6596 tie matches ended 1-1, more than 45% of all ties and a bit more common than 6-6."
   ]
  },
  {
   "cell_type": "markdown",
   "metadata": {},
   "source": [
    "## 6. What percentage of players prefer their left or right foot? Hint: Calculate either the right or left foot, whichever is easier based on how you setup the problem."
   ]
  },
  {
   "cell_type": "code",
   "execution_count": 124,
   "metadata": {},
   "outputs": [
    {
     "name": "stdout",
     "output_type": "stream",
     "text": [
      "['id', 'player_fifa_api_id', 'player_api_id', 'date', 'overall_rating', 'potential', 'preferred_foot', 'attacking_work_rate', 'defensive_work_rate', 'crossing', 'finishing', 'heading_accuracy', 'short_passing', 'volleys', 'dribbling', 'curve', 'free_kick_accuracy', 'long_passing', 'ball_control', 'acceleration', 'sprint_speed', 'agility', 'reactions', 'balance', 'shot_power', 'jumping', 'stamina', 'strength', 'long_shots', 'aggression', 'interceptions', 'positioning', 'vision', 'penalties', 'marking', 'standing_tackle', 'sliding_tackle', 'gk_diving', 'gk_handling', 'gk_kicking', 'gk_positioning', 'gk_reflexes']\n"
     ]
    }
   ],
   "source": [
    "print(Player_Attributes.columns.keys())"
   ]
  },
  {
   "cell_type": "code",
   "execution_count": 244,
   "metadata": {},
   "outputs": [
    {
     "data": {
      "text/html": [
       "<div>\n",
       "<style scoped>\n",
       "    .dataframe tbody tr th:only-of-type {\n",
       "        vertical-align: middle;\n",
       "    }\n",
       "\n",
       "    .dataframe tbody tr th {\n",
       "        vertical-align: top;\n",
       "    }\n",
       "\n",
       "    .dataframe thead th {\n",
       "        text-align: right;\n",
       "    }\n",
       "</style>\n",
       "<table border=\"1\" class=\"dataframe\">\n",
       "  <thead>\n",
       "    <tr style=\"text-align: right;\">\n",
       "      <th></th>\n",
       "      <th>preferred_foot</th>\n",
       "    </tr>\n",
       "  </thead>\n",
       "  <tbody>\n",
       "    <tr>\n",
       "      <th>0</th>\n",
       "      <td>right</td>\n",
       "    </tr>\n",
       "    <tr>\n",
       "      <th>1</th>\n",
       "      <td>right</td>\n",
       "    </tr>\n",
       "    <tr>\n",
       "      <th>2</th>\n",
       "      <td>right</td>\n",
       "    </tr>\n",
       "    <tr>\n",
       "      <th>3</th>\n",
       "      <td>right</td>\n",
       "    </tr>\n",
       "    <tr>\n",
       "      <th>4</th>\n",
       "      <td>right</td>\n",
       "    </tr>\n",
       "  </tbody>\n",
       "</table>\n",
       "</div>"
      ],
      "text/plain": [
       "  preferred_foot\n",
       "0          right\n",
       "1          right\n",
       "2          right\n",
       "3          right\n",
       "4          right"
      ]
     },
     "execution_count": 244,
     "metadata": {},
     "output_type": "execute_result"
    }
   ],
   "source": [
    "query = db.select([Player_Attributes.columns.preferred_foot])\n",
    "results = connection.execute(query).fetchall()\n",
    "df = pd.DataFrame(results)\n",
    "df.columns = results[0].keys()\n",
    "df.head()"
   ]
  },
  {
   "cell_type": "code",
   "execution_count": 245,
   "metadata": {},
   "outputs": [
    {
     "data": {
      "text/plain": [
       "right    138409\n",
       "left      44733\n",
       "Name: preferred_foot, dtype: int64"
      ]
     },
     "execution_count": 245,
     "metadata": {},
     "output_type": "execute_result"
    }
   ],
   "source": [
    "df.preferred_foot.value_counts()"
   ]
  },
  {
   "cell_type": "code",
   "execution_count": 246,
   "metadata": {},
   "outputs": [
    {
     "name": "stdout",
     "output_type": "stream",
     "text": [
      "0.7557469067717946\n"
     ]
    }
   ],
   "source": [
    "print(138409/(138409+44733))"
   ]
  },
  {
   "cell_type": "markdown",
   "metadata": {},
   "source": [
    "More than 75% of players prefer their right foot!"
   ]
  }
 ],
 "metadata": {
  "kernelspec": {
   "display_name": "Python 3",
   "language": "python",
   "name": "python3"
  },
  "language_info": {
   "codemirror_mode": {
    "name": "ipython",
    "version": 3
   },
   "file_extension": ".py",
   "mimetype": "text/x-python",
   "name": "python",
   "nbconvert_exporter": "python",
   "pygments_lexer": "ipython3",
   "version": "3.6.6"
  }
 },
 "nbformat": 4,
 "nbformat_minor": 2
}
