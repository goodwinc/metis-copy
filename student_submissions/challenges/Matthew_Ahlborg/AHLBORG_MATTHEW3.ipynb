{
 "cells": [
  {
   "cell_type": "code",
   "execution_count": 23,
   "metadata": {},
   "outputs": [],
   "source": [
    "\"\"\"\n",
    "Created on Thu Oct  4 16:25:31 2018\n",
    "\n",
    "@author: mahlborg\n",
    "\n",
    "File: Formatted_To_Consolidated\n",
    "\"\"\"\n",
    "\n",
    "import pandas as pd\n",
    "from matplotlib import pyplot as plt\n",
    "import seaborn as sns\n",
    "\n",
    "pd.set_option('display.max_rows', 550)\n",
    "pd.set_option('display.max_columns', 20)\n",
    "\n",
    "#from LBC_Viz import *\n",
    "\n",
    "\n",
    "countries_mapped_to_currencies = pd.read_csv('/Users/mahlborg/Desktop/Metis/LBC/Supporting Data/countries_mapped_to_currencies.csv')\n",
    "countries_mapped_to_currencies.columns = ['COUNTRY', 'CURRENCY', 'TICKER']\n",
    "countries_mapped_to_currencies.loc[len(countries_mapped_to_currencies)] = [\"Central Africa\", \"Central Africa Franc\", \"XAF\"]\n",
    "set1 = set(countries_mapped_to_currencies['TICKER'])\n",
    "#GDP_PPP_PC column creation\n",
    "GDP_PPP_PC = pd.read_csv('/Users/mahlborg/Desktop/Metis/LBC/Supporting Data/GDP_PPP.csv')\n",
    "GDP_PPP_PC.columns = ['COUNTRY', 'GDP_PPP_PC']\n",
    "GDP_PPP_PC['GDP_PPP_PC'] = GDP_PPP_PC['GDP_PPP_PC'].str.replace(',', '')\n",
    "GDP_PPP_PC['GDP_PPP_PC'] = pd.to_numeric(GDP_PPP_PC['GDP_PPP_PC'], errors = 'coerce')\n",
    "GDP_PPP_PC.loc[len(GDP_PPP_PC)] = [\"West Africa\", 2077]\n",
    "GDP_PPP_PC.loc[len(GDP_PPP_PC)] = [\"Central Africa\", 4107]\n",
    "GDP_PPP_PC.loc[len(GDP_PPP_PC)] = [\"European Union\", 39970]\n",
    "#print(GDP_PPP_PC)\n",
    "\n",
    "combined_df = pd.merge(countries_mapped_to_currencies, GDP_PPP_PC , on='COUNTRY')\n",
    "set2 = set(combined_df['TICKER'])\n",
    "#COUNTRY_POP column creation\n",
    "#print(combined_df)\n",
    "COUNTRY_POP = pd.read_csv('/Users/mahlborg/Desktop/Metis/LBC/Supporting Data/COUNTRY_POP.csv')\n",
    "COUNTRY_POP.columns = ['COUNTRY', 'POPULATION']\n",
    "COUNTRY_POP['POPULATION'] = COUNTRY_POP['POPULATION'].str.replace(',', '')\n",
    "COUNTRY_POP['POPULATION'] = pd.to_numeric(COUNTRY_POP['POPULATION'], errors = 'coerce')\n",
    "COUNTRY_POP.loc[len(COUNTRY_POP)] = [\"European Union\", 509000000]\n",
    "COUNTRY_POP.loc[len(COUNTRY_POP)] = [\"West Africa\", 129000000]\n",
    "COUNTRY_POP.loc[len(COUNTRY_POP)] = [\"Central Africa\", 52000000]\n",
    "#print(COUNTRY_POP)\n",
    "combined_df = pd.merge(combined_df, COUNTRY_POP , on='COUNTRY')\n",
    "set3 = set(combined_df['TICKER'])\n",
    "#Corruption Column creation\n",
    "CORRUPTION = pd.read_csv('/Users/mahlborg/Desktop/Metis/LBC/Supporting Data/2018_Corruption_Scores.csv')\n",
    "CORRUPTION.columns = ['COUNTRY', 'CORRUPTION_SCORE']\n",
    "#print(CORRUPTION)\n",
    "CORRUPTION['CORRUPTION_SCORE'] = pd.to_numeric(CORRUPTION['CORRUPTION_SCORE'], errors = 'coerce')\n",
    "CORRUPTION.loc[len(CORRUPTION)] = [\"West Africa\", 33]\n",
    "CORRUPTION.loc[len(CORRUPTION)] = [\"Central Africa\", 23]\n",
    "CORRUPTION.loc[len(CORRUPTION)] = [\"European Union\", 70]\n",
    "\n",
    "\n",
    "combined_df = pd.merge(combined_df, CORRUPTION , on='COUNTRY')\n",
    "set4 = set(combined_df['TICKER'])\n",
    "#print(combined_df)\n",
    "#Inflation Column creation\n",
    "INFLATION = pd.read_csv('/Users/mahlborg/Desktop/Metis/LBC/Supporting Data/2018_Inflation.csv')\n",
    "INFLATION.columns = ['COUNTRY', 'INFLATION']\n",
    "INFLATION['INFLATION'] = pd.to_numeric(INFLATION['INFLATION'], errors = 'coerce')\n",
    "INFLATION.loc[len(INFLATION)] = [\"West Africa\", 2.2]\n",
    "INFLATION.loc[len(INFLATION)] = [\"Central Africa\", 8.9]\n",
    "combined_df = pd.merge(combined_df, INFLATION , on='COUNTRY')\n",
    "set5 = set(combined_df['TICKER'])\n",
    "#Internet_PEN column creation\n",
    "INTERNET_PEN = pd.read_csv('/Users/mahlborg/Desktop/Metis/LBC/Supporting Data/2017_Internet_Penetration.csv')\n",
    "INTERNET_PEN.columns = ['COUNTRY', 'INTERNET_PEN']\n",
    "INTERNET_PEN['INTERNET_PEN'] = pd.to_numeric(INTERNET_PEN['INTERNET_PEN'], errors = 'coerce')\n",
    "INTERNET_PEN.loc[len(INTERNET_PEN)] = [\"West Africa\", 13.4]\n",
    "INTERNET_PEN.loc[len(INTERNET_PEN)] = [\"Central Africa\", 8.5]\n",
    "INTERNET_PEN.loc[len(INTERNET_PEN)] = [\"European Union\", 79.8]\n",
    "combined_df = pd.merge(combined_df, INTERNET_PEN , on='COUNTRY')\n",
    "set6 = set(combined_df['TICKER'])\n",
    "#Average Transaction Size column creation\n",
    "Country_Metrics_Annual['AVG_TX_SIZE_USD'] = Country_Metrics_Annual['USD_EQUIV'] / (Country_Metrics_Annual['TX'][Country_Metrics_Annual['TX'] > 0])\n",
    "#print(Country_Metrics_Annual)\n",
    "\n",
    "Country_Metrics_Annual = pd.merge(Country_Metrics_Annual, combined_df , on='TICKER')\n",
    "\n",
    "#UPEP column creation\n",
    "Country_Metrics_Annual['UPEP'] = ((Country_Metrics_Annual['USD_EQUIV'] / Country_Metrics_Annual['POPULATION']) / Country_Metrics_Annual['GDP_PPP_PC']) * 1000\n",
    "#Country_Metrics_Annual['UPEP'] = Country_Metrics_Annual.groupby(pd.Grouper(freq='A')).UPEP.mean()"
   ]
  },
  {
   "cell_type": "code",
   "execution_count": 24,
   "metadata": {},
   "outputs": [
    {
     "name": "stdout",
     "output_type": "stream",
     "text": [
      "Challenge 1\n",
      "[<matplotlib.lines.Line2D object at 0x1a2108e358>]\n"
     ]
    },
    {
     "data": {
      "image/png": "[encoded data removed]",
      "text/plain": [
       "<Figure size 432x288 with 1 Axes>"
      ]
     },
     "metadata": {
      "needs_background": "light"
     },
     "output_type": "display_data"
    }
   ],
   "source": [
    "import pandas as pd\n",
    "from matplotlib import pyplot as plt\n",
    "\n",
    "\n",
    "#Challenge 1\n",
    "#Plot domestic total gross over time.\n",
    "#Plot total USD value transferred over time.\n",
    "print('Challenge 1')\n",
    "print(plt.plot(Country_Metrics_Annual.groupby('DATE')['USD_EQUIV'].sum()))\n"
   ]
  },
  {
   "cell_type": "code",
   "execution_count": 25,
   "metadata": {},
   "outputs": [
    {
     "name": "stdout",
     "output_type": "stream",
     "text": [
      "Challenge 2\n",
      "<matplotlib.collections.PathCollection object at 0x1a20a962e8>\n"
     ]
    },
    {
     "data": {
      "image/png": "[encoded data removed]",
      "text/plain": [
       "<Figure size 432x288 with 1 Axes>"
      ]
     },
     "metadata": {
      "needs_background": "light"
     },
     "output_type": "display_data"
    }
   ],
   "source": [
    "#Challenge 2\n",
    "#Plot runtime vs. domestic total gross.\n",
    "#Plot UPEP vs. Internet Penetration.\n",
    "print('Challenge 2')\n",
    "print(plt.scatter(Country_Metrics_Annual['INTERNET_PEN'], Country_Metrics_Annual['UPEP']))\n"
   ]
  },
  {
   "cell_type": "code",
   "execution_count": 26,
   "metadata": {},
   "outputs": [
    {
     "name": "stdout",
     "output_type": "stream",
     "text": [
      "Challenge 3\n",
      "DATE\n",
      "2013-12-31     2369.022727\n",
      "2014-12-31     4944.984375\n",
      "2015-12-31     7779.971429\n",
      "2016-12-31    13230.802817\n",
      "2017-12-31    32954.035294\n",
      "2018-12-31    43501.880952\n",
      "Name: TX, dtype: float64\n",
      "DATE\n",
      "2013-12-31    400.743893\n",
      "2014-12-31    300.786706\n",
      "2015-12-31    330.102955\n",
      "2016-12-31    360.602665\n",
      "2017-12-31    586.588552\n",
      "2018-12-31    662.264267\n",
      "Name: AVG_TX_SIZE_USD, dtype: float64\n"
     ]
    }
   ],
   "source": [
    "#Challenge 3\n",
    "#Group your data by Rating and find the average runtime and domestic total gross at each level of Rating.\n",
    "#Group your data by DATE and find average # of Transactions per country and average transaction size for each year.\n",
    "print('Challenge 3')\n",
    "print(Country_Metrics_Annual.groupby('DATE')['TX'].mean())\n",
    "print(Country_Metrics_Annual.groupby('DATE')['AVG_TX_SIZE_USD'].mean())\n",
    "\n"
   ]
  },
  {
   "cell_type": "code",
   "execution_count": 27,
   "metadata": {},
   "outputs": [
    {
     "name": "stdout",
     "output_type": "stream",
     "text": [
      "Challenge 4\n"
     ]
    },
    {
     "data": {
      "image/png": "[encoded data removed]",
      "text/plain": [
       "<Figure size 432x288 with 1 Axes>"
      ]
     },
     "metadata": {
      "needs_background": "light"
     },
     "output_type": "display_data"
    }
   ],
   "source": [
    "#Challenge 4\n",
    "#Make one figure with (N=the number of MPAA ratings there are) subplots, and in each plot the release date vs the domestic total gross.\n",
    "#Make on figure with n = the number of currencies there are, and in each plot the UPEP vs the Inflation rate for a given year\n",
    "print('Challenge 4')\n",
    "TICKERS = ['DZD', 'NAD', 'GHS', 'EGP', 'BGN', 'PAB', 'BOB', 'DKK', 'BWP', \\\n",
    "        'TZS', 'VND', 'AOA', 'KHR', 'MYR', 'UAH', 'JOD', 'SAR', \\\n",
    "            'HKD', 'CHF', 'ALL', \\\n",
    "        'BYN', 'HRK', 'SZL', 'THB', 'XAF', 'ISK', 'UYU', \\\n",
    "        'LAK', 'MAD', 'MZN', 'PHP', 'ZAR', 'NPR', 'NGN', 'CRC',\\\n",
    "        'AED', 'MWK', 'LKR', 'PKR', 'HUF', 'LSL', 'AMD', 'UGX', \\\n",
    "        'QAR', 'JMD', 'GEL', 'AFN', 'TRY', 'BDT', \\\n",
    "        'YER', 'XOF', 'MGA', 'RWF', 'NOK', 'INR', \\\n",
    "        'MXN', 'CZK', 'TWD', 'COP', 'MUR', 'IDR', 'HNL', \\\n",
    "        'ETB', 'PEN', 'ILS', 'DOP', 'SEK', \\\n",
    "        'AUD', 'KRW',\\\n",
    "          'CLP', 'ZMW', 'VES', 'KZT', \\\n",
    "    'BRL', 'PLN', 'PYG', 'KES'\\\n",
    "        , 'BAM', 'SCR', 'BIF', \\\n",
    "        'PGK', 'SGD', 'UZS', 'IRR', 'CNY', \\\n",
    "        'NZD', 'KGS', 'ARS', 'RON', 'RSD', \\\n",
    "        'BHD', 'JPY', 'CAD', 'EUR', 'GBP']\n",
    "\n",
    "\n",
    "df_2017 = Country_Metrics_Annual[Country_Metrics_Annual['DATE'] == '2017-12-31']\n",
    "for x in TICKERS:\n",
    "    new_df = df_2017.loc[df_2017['TICKER'] == x][['TICKER', 'INFLATION', 'UPEP']]\n",
    "    plt.scatter(new_df['INFLATION'], new_df['UPEP'])\n",
    "  "
   ]
  },
  {
   "cell_type": "code",
   "execution_count": 28,
   "metadata": {},
   "outputs": [
    {
     "name": "stdout",
     "output_type": "stream",
     "text": [
      "Challenge 5\n",
      "DATE                      2018-12-31\n",
      "TX                           1284392\n",
      "VOLUME                        226113\n",
      "USD_EQUIV                3.92379e+08\n",
      "TICKER                           ZMW\n",
      "AVG_TX_SIZE_USD              4837.08\n",
      "COUNTRY_x                     Zambia\n",
      "CURRENCY_x            Zambian kwacha\n",
      "GDP_PPP_PC_x                  124927\n",
      "POPULATION_x              1409517397\n",
      "CORRUPTION_SCORE_x                89\n",
      "INFLATION_x                       40\n",
      "INTERNET_PEN_x                 98.24\n",
      "UPEP                        0.399043\n",
      "COUNTRY_y                     Zambia\n",
      "CURRENCY_y            Zambian kwacha\n",
      "GDP_PPP_PC_y                  124927\n",
      "POPULATION_y              1409517397\n",
      "CORRUPTION_SCORE_y                89\n",
      "INFLATION_y                       40\n",
      "INTERNET_PEN_y                 98.24\n",
      "COUNTRY_x                     Zambia\n",
      "CURRENCY_x            Zambian kwacha\n",
      "GDP_PPP_PC_x                  124927\n",
      "POPULATION_x              1409517397\n",
      "CORRUPTION_SCORE_x                89\n",
      "INFLATION_x                       40\n",
      "INTERNET_PEN_x                 98.24\n",
      "COUNTRY_y                     Zambia\n",
      "CURRENCY_y            Zambian kwacha\n",
      "GDP_PPP_PC_y                  124927\n",
      "POPULATION_y              1409517397\n",
      "CORRUPTION_SCORE_y                89\n",
      "INFLATION_y                       40\n",
      "INTERNET_PEN_y                 98.24\n",
      "COUNTRY_x                     Zambia\n",
      "CURRENCY_x            Zambian kwacha\n",
      "GDP_PPP_PC_x                  124927\n",
      "POPULATION_x              1409517397\n",
      "CORRUPTION_SCORE_x                89\n",
      "INFLATION_x                       40\n",
      "INTERNET_PEN_x                 98.24\n",
      "COUNTRY_y                     Zambia\n",
      "CURRENCY_y            Zambian kwacha\n",
      "GDP_PPP_PC_y                  124927\n",
      "POPULATION_y              1409517397\n",
      "CORRUPTION_SCORE_y                89\n",
      "INFLATION_y                       40\n",
      "INTERNET_PEN_y                 98.24\n",
      "COUNTRY                       Zambia\n",
      "CURRENCY              Zambian kwacha\n",
      "GDP_PPP_PC                    124927\n",
      "POPULATION                1409517397\n",
      "CORRUPTION_SCORE                  89\n",
      "INFLATION                         40\n",
      "INTERNET_PEN                   98.24\n",
      "dtype: object\n",
      "           DATE       TX        VOLUME     USD_EQUIV TICKER  AVG_TX_SIZE_USD  \\\n",
      "313  2018-12-31  1284392  20428.287332  1.580736e+08    VES       123.072709   \n",
      "\n",
      "     COUNTRY_x          CURRENCY_x  GDP_PPP_PC_x  POPULATION_x      ...       \\\n",
      "313  Venezuela  Venezuelan bolivar         12388      31977065      ...        \n",
      "\n",
      "     CORRUPTION_SCORE_y  INFLATION_y  INTERNET_PEN_y    COUNTRY  \\\n",
      "313                  18         40.0            60.0  Venezuela   \n",
      "\n",
      "               CURRENCY GDP_PPP_PC  POPULATION  CORRUPTION_SCORE  INFLATION  \\\n",
      "313  Venezuelan bolivar      12388    31977065                18       40.0   \n",
      "\n",
      "     INTERNET_PEN  \n",
      "313          60.0  \n",
      "\n",
      "[1 rows x 56 columns]\n"
     ]
    }
   ],
   "source": [
    "#Challenge 5\n",
    "#What director in your dataset has the highest gross per movie?\n",
    "#What country in your dataset has the highest transactions in a given year?\n",
    "print('Challenge 5')    \n",
    "print(Country_Metrics_Annual.max())\n",
    "print(Country_Metrics_Annual[Country_Metrics_Annual['TX'] == 1284392])\n",
    "\n",
    "#Challenge 6\n",
    "#Bin your dataset into months and make a bar graph of the mean domestic total gross by month. Error bars will represent the standard error of the mean.\n",
    "#Title of graph should include: Mean Domestic Total Gross by Month in 2013\n",
    "#Topic for consideration: what is the correct formula for the standard error of the mean? Examine the error bars and see if they are \"reasonable.\"\n",
    "\n",
    "#Bin your dataset into years and make a bar graph of the mean USD Value transferred by country by year. Error bars will represent the standard error of the mean.\n",
    "#Title of the graph should include: Mean USD value transferred by country"
   ]
  },
  {
   "cell_type": "code",
   "execution_count": null,
   "metadata": {},
   "outputs": [],
   "source": []
  },
  {
   "cell_type": "code",
   "execution_count": null,
   "metadata": {},
   "outputs": [],
   "source": []
  },
  {
   "cell_type": "code",
   "execution_count": null,
   "metadata": {},
   "outputs": [],
   "source": []
  },
  {
   "cell_type": "code",
   "execution_count": null,
   "metadata": {},
   "outputs": [],
   "source": []
  }
 ],
 "metadata": {
  "kernelspec": {
   "display_name": "Python 3",
   "language": "python",
   "name": "python3"
  },
  "language_info": {
   "codemirror_mode": {
    "name": "ipython",
    "version": 3
   },
   "file_extension": ".py",
   "mimetype": "text/x-python",
   "name": "python",
   "nbconvert_exporter": "python",
   "pygments_lexer": "ipython3",
   "version": "3.6.6"
  }
 },
 "nbformat": 4,
 "nbformat_minor": 2
}
