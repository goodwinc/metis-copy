{
 "cells": [
  {
   "cell_type": "markdown",
   "metadata": {},
   "source": [
    "**Topic:        Challenge Set 3**   \n",
    "Subject:      Explore and visualize our scraped movie data in pandas  \n",
    "Date:         10/07/2018  \n",
    "Name:         Arianna Breslauer"
   ]
  },
  {
   "cell_type": "code",
   "execution_count": 78,
   "metadata": {},
   "outputs": [],
   "source": [
    "import pandas as pd\n",
    "import numpy as np\n",
    "import matplotlib.pyplot as plt\n",
    "import seaborn as sns\n",
    "sns.set_style('whitegrid')\n",
    "%matplotlib inline\n",
    "pd.options.display.float_format = '{:.2f}'.format"
   ]
  },
  {
   "cell_type": "code",
   "execution_count": 79,
   "metadata": {},
   "outputs": [],
   "source": [
    "movies_df = pd.read_csv('nyc18_ds17/challenges/challenges_data/2013_movies.csv')"
   ]
  },
  {
   "cell_type": "code",
   "execution_count": 80,
   "metadata": {},
   "outputs": [
    {
     "data": {
      "text/html": [
       "<div>\n",
       "<style scoped>\n",
       "    .dataframe tbody tr th:only-of-type {\n",
       "        vertical-align: middle;\n",
       "    }\n",
       "\n",
       "    .dataframe tbody tr th {\n",
       "        vertical-align: top;\n",
       "    }\n",
       "\n",
       "    .dataframe thead th {\n",
       "        text-align: right;\n",
       "    }\n",
       "</style>\n",
       "<table border=\"1\" class=\"dataframe\">\n",
       "  <thead>\n",
       "    <tr style=\"text-align: right;\">\n",
       "      <th></th>\n",
       "      <th>Title</th>\n",
       "      <th>Budget</th>\n",
       "      <th>DomesticTotalGross</th>\n",
       "      <th>Director</th>\n",
       "      <th>Rating</th>\n",
       "      <th>Runtime</th>\n",
       "      <th>ReleaseDate</th>\n",
       "    </tr>\n",
       "  </thead>\n",
       "  <tbody>\n",
       "    <tr>\n",
       "      <th>0</th>\n",
       "      <td>The Hunger Games: Catching Fire</td>\n",
       "      <td>130000000.00</td>\n",
       "      <td>424668047</td>\n",
       "      <td>Francis Lawrence</td>\n",
       "      <td>PG-13</td>\n",
       "      <td>146</td>\n",
       "      <td>11/22/13 0:00</td>\n",
       "    </tr>\n",
       "    <tr>\n",
       "      <th>1</th>\n",
       "      <td>Iron Man 3</td>\n",
       "      <td>200000000.00</td>\n",
       "      <td>409013994</td>\n",
       "      <td>Shane Black</td>\n",
       "      <td>PG-13</td>\n",
       "      <td>129</td>\n",
       "      <td>5/3/13 0:00</td>\n",
       "    </tr>\n",
       "    <tr>\n",
       "      <th>2</th>\n",
       "      <td>Frozen</td>\n",
       "      <td>150000000.00</td>\n",
       "      <td>400738009</td>\n",
       "      <td>Chris BuckJennifer Lee</td>\n",
       "      <td>PG</td>\n",
       "      <td>108</td>\n",
       "      <td>11/22/13 0:00</td>\n",
       "    </tr>\n",
       "    <tr>\n",
       "      <th>3</th>\n",
       "      <td>Despicable Me 2</td>\n",
       "      <td>76000000.00</td>\n",
       "      <td>368061265</td>\n",
       "      <td>Pierre CoffinChris Renaud</td>\n",
       "      <td>PG</td>\n",
       "      <td>98</td>\n",
       "      <td>7/3/13 0:00</td>\n",
       "    </tr>\n",
       "    <tr>\n",
       "      <th>4</th>\n",
       "      <td>Man of Steel</td>\n",
       "      <td>225000000.00</td>\n",
       "      <td>291045518</td>\n",
       "      <td>Zack Snyder</td>\n",
       "      <td>PG-13</td>\n",
       "      <td>143</td>\n",
       "      <td>6/14/13 0:00</td>\n",
       "    </tr>\n",
       "  </tbody>\n",
       "</table>\n",
       "</div>"
      ],
      "text/plain": [
       "                             Title       Budget  DomesticTotalGross  \\\n",
       "0  The Hunger Games: Catching Fire 130000000.00           424668047   \n",
       "1                       Iron Man 3 200000000.00           409013994   \n",
       "2                           Frozen 150000000.00           400738009   \n",
       "3                  Despicable Me 2  76000000.00           368061265   \n",
       "4                     Man of Steel 225000000.00           291045518   \n",
       "\n",
       "                    Director Rating  Runtime    ReleaseDate  \n",
       "0           Francis Lawrence  PG-13      146  11/22/13 0:00  \n",
       "1                Shane Black  PG-13      129    5/3/13 0:00  \n",
       "2     Chris BuckJennifer Lee     PG      108  11/22/13 0:00  \n",
       "3  Pierre CoffinChris Renaud     PG       98    7/3/13 0:00  \n",
       "4                Zack Snyder  PG-13      143   6/14/13 0:00  "
      ]
     },
     "execution_count": 80,
     "metadata": {},
     "output_type": "execute_result"
    }
   ],
   "source": [
    "movies_df.head()"
   ]
  },
  {
   "cell_type": "markdown",
   "metadata": {},
   "source": [
    "**Challenge 1**  \n",
    "Plot domestic total gross over time."
   ]
  },
  {
   "cell_type": "code",
   "execution_count": 81,
   "metadata": {},
   "outputs": [
    {
     "data": {
      "text/plain": [
       "Title                  object\n",
       "Budget                float64\n",
       "DomesticTotalGross      int64\n",
       "Director               object\n",
       "Rating                 object\n",
       "Runtime                 int64\n",
       "ReleaseDate            object\n",
       "dtype: object"
      ]
     },
     "execution_count": 81,
     "metadata": {},
     "output_type": "execute_result"
    }
   ],
   "source": [
    "movies_df.dtypes"
   ]
  },
  {
   "cell_type": "code",
   "execution_count": 82,
   "metadata": {},
   "outputs": [],
   "source": [
    "from datetime import datetime as dt\n",
    "movies_df['ReleaseDate'] = pd.to_datetime(movies_df['ReleaseDate'])\n",
    "movies_df = movies_df.sort_values('ReleaseDate')"
   ]
  },
  {
   "cell_type": "code",
   "execution_count": 83,
   "metadata": {},
   "outputs": [
    {
     "data": {
      "text/html": [
       "<div>\n",
       "<style scoped>\n",
       "    .dataframe tbody tr th:only-of-type {\n",
       "        vertical-align: middle;\n",
       "    }\n",
       "\n",
       "    .dataframe tbody tr th {\n",
       "        vertical-align: top;\n",
       "    }\n",
       "\n",
       "    .dataframe thead th {\n",
       "        text-align: right;\n",
       "    }\n",
       "</style>\n",
       "<table border=\"1\" class=\"dataframe\">\n",
       "  <thead>\n",
       "    <tr style=\"text-align: right;\">\n",
       "      <th></th>\n",
       "      <th>Title</th>\n",
       "      <th>Budget</th>\n",
       "      <th>DomesticTotalGross</th>\n",
       "      <th>Director</th>\n",
       "      <th>Rating</th>\n",
       "      <th>Runtime</th>\n",
       "      <th>ReleaseDate</th>\n",
       "    </tr>\n",
       "  </thead>\n",
       "  <tbody>\n",
       "    <tr>\n",
       "      <th>83</th>\n",
       "      <td>Texas Chainsaw 3D</td>\n",
       "      <td>nan</td>\n",
       "      <td>34341945</td>\n",
       "      <td>John Luessenhop</td>\n",
       "      <td>R</td>\n",
       "      <td>92</td>\n",
       "      <td>2013-01-04</td>\n",
       "    </tr>\n",
       "    <tr>\n",
       "      <th>76</th>\n",
       "      <td>A Haunted House</td>\n",
       "      <td>2500000.00</td>\n",
       "      <td>40041683</td>\n",
       "      <td>Michael Tiddes</td>\n",
       "      <td>R</td>\n",
       "      <td>80</td>\n",
       "      <td>2013-01-11</td>\n",
       "    </tr>\n",
       "    <tr>\n",
       "      <th>70</th>\n",
       "      <td>Gangster Squad</td>\n",
       "      <td>60000000.00</td>\n",
       "      <td>46000903</td>\n",
       "      <td>Ruben Fleischer</td>\n",
       "      <td>R</td>\n",
       "      <td>113</td>\n",
       "      <td>2013-01-11</td>\n",
       "    </tr>\n",
       "    <tr>\n",
       "      <th>46</th>\n",
       "      <td>Mama</td>\n",
       "      <td>15000000.00</td>\n",
       "      <td>71628180</td>\n",
       "      <td>Andres Muschietti</td>\n",
       "      <td>PG-13</td>\n",
       "      <td>100</td>\n",
       "      <td>2013-01-18</td>\n",
       "    </tr>\n",
       "    <tr>\n",
       "      <th>63</th>\n",
       "      <td>Hansel and Gretel: Witch Hunters</td>\n",
       "      <td>50000000.00</td>\n",
       "      <td>55703475</td>\n",
       "      <td>Tommy Wirkola</td>\n",
       "      <td>R</td>\n",
       "      <td>88</td>\n",
       "      <td>2013-01-25</td>\n",
       "    </tr>\n",
       "  </tbody>\n",
       "</table>\n",
       "</div>"
      ],
      "text/plain": [
       "                               Title      Budget  DomesticTotalGross  \\\n",
       "83                 Texas Chainsaw 3D         nan            34341945   \n",
       "76                   A Haunted House  2500000.00            40041683   \n",
       "70                    Gangster Squad 60000000.00            46000903   \n",
       "46                              Mama 15000000.00            71628180   \n",
       "63  Hansel and Gretel: Witch Hunters 50000000.00            55703475   \n",
       "\n",
       "             Director Rating  Runtime ReleaseDate  \n",
       "83    John Luessenhop      R       92  2013-01-04  \n",
       "76     Michael Tiddes      R       80  2013-01-11  \n",
       "70    Ruben Fleischer      R      113  2013-01-11  \n",
       "46  Andres Muschietti  PG-13      100  2013-01-18  \n",
       "63      Tommy Wirkola      R       88  2013-01-25  "
      ]
     },
     "execution_count": 83,
     "metadata": {},
     "output_type": "execute_result"
    }
   ],
   "source": [
    "movies_df.head()"
   ]
  },
  {
   "cell_type": "code",
   "execution_count": 84,
   "metadata": {},
   "outputs": [
    {
     "data": {
      "image/png": "[encoded data removed]",
      "text/plain": [
       "<Figure size 432x288 with 1 Axes>"
      ]
     },
     "metadata": {},
     "output_type": "display_data"
    }
   ],
   "source": [
    "plt.plot(movies_df['ReleaseDate'], movies_df['DomesticTotalGross'])\n",
    "plt.title('Domestic Total Gross over Time', size = 15, fontweight = 'bold');"
   ]
  },
  {
   "cell_type": "markdown",
   "metadata": {},
   "source": [
    "**Challenge 2**  \n",
    "Plot runtime vs. domestic total gross."
   ]
  },
  {
   "cell_type": "code",
   "execution_count": 113,
   "metadata": {},
   "outputs": [
    {
     "data": {
      "image/png": "[encoded data removed]",
      "text/plain": [
       "<Figure size 432x288 with 1 Axes>"
      ]
     },
     "metadata": {},
     "output_type": "display_data"
    }
   ],
   "source": [
    "movies_df=movies_df.sort_values('Runtime')\n",
    "plt.plot(movies_df['Runtime'], movies_df['DomesticTotalGross']);"
   ]
  },
  {
   "cell_type": "markdown",
   "metadata": {},
   "source": [
    "**Challenge 3**  \n",
    "Group your data by Rating and find the average runtime and domestic total gross at each level of Rating."
   ]
  },
  {
   "cell_type": "code",
   "execution_count": 86,
   "metadata": {},
   "outputs": [],
   "source": [
    "movies_df_ratings = movies_df.groupby('Rating')[['Runtime','DomesticTotalGross']].mean()"
   ]
  },
  {
   "cell_type": "code",
   "execution_count": 87,
   "metadata": {},
   "outputs": [
    {
     "data": {
      "text/html": [
       "<div>\n",
       "<style scoped>\n",
       "    .dataframe tbody tr th:only-of-type {\n",
       "        vertical-align: middle;\n",
       "    }\n",
       "\n",
       "    .dataframe tbody tr th {\n",
       "        vertical-align: top;\n",
       "    }\n",
       "\n",
       "    .dataframe thead th {\n",
       "        text-align: right;\n",
       "    }\n",
       "</style>\n",
       "<table border=\"1\" class=\"dataframe\">\n",
       "  <thead>\n",
       "    <tr style=\"text-align: right;\">\n",
       "      <th></th>\n",
       "      <th>Runtime</th>\n",
       "      <th>DomesticTotalGross</th>\n",
       "    </tr>\n",
       "    <tr>\n",
       "      <th>Rating</th>\n",
       "      <th></th>\n",
       "      <th></th>\n",
       "    </tr>\n",
       "  </thead>\n",
       "  <tbody>\n",
       "    <tr>\n",
       "      <th>G</th>\n",
       "      <td>107.00</td>\n",
       "      <td>268492764.00</td>\n",
       "    </tr>\n",
       "    <tr>\n",
       "      <th>PG</th>\n",
       "      <td>99.93</td>\n",
       "      <td>131135716.07</td>\n",
       "    </tr>\n",
       "    <tr>\n",
       "      <th>PG-13</th>\n",
       "      <td>117.51</td>\n",
       "      <td>111449769.02</td>\n",
       "    </tr>\n",
       "    <tr>\n",
       "      <th>R</th>\n",
       "      <td>110.73</td>\n",
       "      <td>69892429.00</td>\n",
       "    </tr>\n",
       "  </tbody>\n",
       "</table>\n",
       "</div>"
      ],
      "text/plain": [
       "        Runtime  DomesticTotalGross\n",
       "Rating                             \n",
       "G        107.00        268492764.00\n",
       "PG        99.93        131135716.07\n",
       "PG-13    117.51        111449769.02\n",
       "R        110.73         69892429.00"
      ]
     },
     "execution_count": 87,
     "metadata": {},
     "output_type": "execute_result"
    }
   ],
   "source": [
    "movies_df_ratings.head()"
   ]
  },
  {
   "cell_type": "markdown",
   "metadata": {},
   "source": [
    "**Challenge 4**  \n",
    "Make one figure with (N=the number of MPAA ratings there are) subplots, and in each plot the release date vs the domestic total gross."
   ]
  },
  {
   "cell_type": "code",
   "execution_count": 88,
   "metadata": {},
   "outputs": [],
   "source": [
    "g_rating = movies_df[movies_df['Rating']=='G'].sort_values('ReleaseDate')\n",
    "pg_rating = movies_df[movies_df['Rating']=='PG'].sort_values('ReleaseDate')\n",
    "pg13_rating = movies_df[movies_df['Rating']=='PG-13'].sort_values('ReleaseDate')\n",
    "r_rating = movies_df[movies_df['Rating']=='R'].sort_values('ReleaseDate')"
   ]
  },
  {
   "cell_type": "code",
   "execution_count": 89,
   "metadata": {},
   "outputs": [
    {
     "data": {
      "text/html": [
       "<div>\n",
       "<style scoped>\n",
       "    .dataframe tbody tr th:only-of-type {\n",
       "        vertical-align: middle;\n",
       "    }\n",
       "\n",
       "    .dataframe tbody tr th {\n",
       "        vertical-align: top;\n",
       "    }\n",
       "\n",
       "    .dataframe thead th {\n",
       "        text-align: right;\n",
       "    }\n",
       "</style>\n",
       "<table border=\"1\" class=\"dataframe\">\n",
       "  <thead>\n",
       "    <tr style=\"text-align: right;\">\n",
       "      <th></th>\n",
       "      <th>Title</th>\n",
       "      <th>Budget</th>\n",
       "      <th>DomesticTotalGross</th>\n",
       "      <th>Director</th>\n",
       "      <th>Rating</th>\n",
       "      <th>Runtime</th>\n",
       "      <th>ReleaseDate</th>\n",
       "    </tr>\n",
       "  </thead>\n",
       "  <tbody>\n",
       "    <tr>\n",
       "      <th>6</th>\n",
       "      <td>Monsters University</td>\n",
       "      <td>nan</td>\n",
       "      <td>268492764</td>\n",
       "      <td>Dan Scanlon</td>\n",
       "      <td>G</td>\n",
       "      <td>107</td>\n",
       "      <td>2013-06-21</td>\n",
       "    </tr>\n",
       "  </tbody>\n",
       "</table>\n",
       "</div>"
      ],
      "text/plain": [
       "                 Title  Budget  DomesticTotalGross     Director Rating  \\\n",
       "6  Monsters University     nan           268492764  Dan Scanlon      G   \n",
       "\n",
       "   Runtime ReleaseDate  \n",
       "6      107  2013-06-21  "
      ]
     },
     "execution_count": 89,
     "metadata": {},
     "output_type": "execute_result"
    }
   ],
   "source": [
    "g_rating.head()\n",
    "# We can see that there will be no plot for g_rating as only one g-rated movie, Monsters University"
   ]
  },
  {
   "cell_type": "code",
   "execution_count": 90,
   "metadata": {},
   "outputs": [
    {
     "data": {
      "text/html": [
       "<div>\n",
       "<style scoped>\n",
       "    .dataframe tbody tr th:only-of-type {\n",
       "        vertical-align: middle;\n",
       "    }\n",
       "\n",
       "    .dataframe tbody tr th {\n",
       "        vertical-align: top;\n",
       "    }\n",
       "\n",
       "    .dataframe thead th {\n",
       "        text-align: right;\n",
       "    }\n",
       "</style>\n",
       "<table border=\"1\" class=\"dataframe\">\n",
       "  <thead>\n",
       "    <tr style=\"text-align: right;\">\n",
       "      <th></th>\n",
       "      <th>Title</th>\n",
       "      <th>Budget</th>\n",
       "      <th>DomesticTotalGross</th>\n",
       "      <th>Director</th>\n",
       "      <th>Rating</th>\n",
       "      <th>Runtime</th>\n",
       "      <th>ReleaseDate</th>\n",
       "    </tr>\n",
       "  </thead>\n",
       "  <tbody>\n",
       "    <tr>\n",
       "      <th>46</th>\n",
       "      <td>Mama</td>\n",
       "      <td>15000000.00</td>\n",
       "      <td>71628180</td>\n",
       "      <td>Andres Muschietti</td>\n",
       "      <td>PG-13</td>\n",
       "      <td>100</td>\n",
       "      <td>2013-01-18</td>\n",
       "    </tr>\n",
       "    <tr>\n",
       "      <th>52</th>\n",
       "      <td>Warm Bodies</td>\n",
       "      <td>35000000.00</td>\n",
       "      <td>66380662</td>\n",
       "      <td>Jonathan Levine</td>\n",
       "      <td>PG-13</td>\n",
       "      <td>97</td>\n",
       "      <td>2013-02-01</td>\n",
       "    </tr>\n",
       "    <tr>\n",
       "      <th>47</th>\n",
       "      <td>Safe Haven</td>\n",
       "      <td>28000000.00</td>\n",
       "      <td>71349120</td>\n",
       "      <td>Lasse Hallstrom</td>\n",
       "      <td>PG-13</td>\n",
       "      <td>115</td>\n",
       "      <td>2013-02-14</td>\n",
       "    </tr>\n",
       "    <tr>\n",
       "      <th>74</th>\n",
       "      <td>Snitch</td>\n",
       "      <td>nan</td>\n",
       "      <td>42930462</td>\n",
       "      <td>Ric Roman Waugh</td>\n",
       "      <td>PG-13</td>\n",
       "      <td>112</td>\n",
       "      <td>2013-02-22</td>\n",
       "    </tr>\n",
       "    <tr>\n",
       "      <th>53</th>\n",
       "      <td>Jack the Giant Slayer</td>\n",
       "      <td>195000000.00</td>\n",
       "      <td>65187603</td>\n",
       "      <td>Bryan Singer</td>\n",
       "      <td>PG-13</td>\n",
       "      <td>114</td>\n",
       "      <td>2013-03-01</td>\n",
       "    </tr>\n",
       "  </tbody>\n",
       "</table>\n",
       "</div>"
      ],
      "text/plain": [
       "                    Title       Budget  DomesticTotalGross           Director  \\\n",
       "46                   Mama  15000000.00            71628180  Andres Muschietti   \n",
       "52            Warm Bodies  35000000.00            66380662    Jonathan Levine   \n",
       "47             Safe Haven  28000000.00            71349120    Lasse Hallstrom   \n",
       "74                 Snitch          nan            42930462    Ric Roman Waugh   \n",
       "53  Jack the Giant Slayer 195000000.00            65187603       Bryan Singer   \n",
       "\n",
       "   Rating  Runtime ReleaseDate  \n",
       "46  PG-13      100  2013-01-18  \n",
       "52  PG-13       97  2013-02-01  \n",
       "47  PG-13      115  2013-02-14  \n",
       "74  PG-13      112  2013-02-22  \n",
       "53  PG-13      114  2013-03-01  "
      ]
     },
     "execution_count": 90,
     "metadata": {},
     "output_type": "execute_result"
    }
   ],
   "source": [
    "pg13_rating.head()"
   ]
  },
  {
   "cell_type": "code",
   "execution_count": 111,
   "metadata": {},
   "outputs": [
    {
     "data": {
      "image/png": "[encoded data removed]",
      "text/plain": [
       "<Figure size 1008x720 with 4 Axes>"
      ]
     },
     "metadata": {},
     "output_type": "display_data"
    }
   ],
   "source": [
    "plt.figure(figsize=[14,10])\n",
    "\n",
    "plt.suptitle('Release Date and Domestic Total Gross by Rating',fontsize = 15, fontweight = 'bold')\n",
    "\n",
    "plt.subplot(2,2,1)\n",
    "plt.plot(g_rating['ReleaseDate'], g_rating['DomesticTotalGross'])\n",
    "plt.title('G rating')\n",
    "\n",
    "plt.subplot(2,2,2)\n",
    "plt.plot(pg_rating['ReleaseDate'], pg_rating['DomesticTotalGross'])\n",
    "plt.title('PG rating')\n",
    "\n",
    "plt.subplot(2,2,3)\n",
    "plt.plot(pg13_rating['ReleaseDate'], pg13_rating['DomesticTotalGross'])\n",
    "plt.title('PG13 rating')\n",
    "\n",
    "plt.subplot(2,2,4)\n",
    "plt.plot(r_rating['ReleaseDate'], r_rating['DomesticTotalGross'])\n",
    "plt.title('R rating');"
   ]
  },
  {
   "cell_type": "markdown",
   "metadata": {},
   "source": [
    "**Challenge 5**  \n",
    "What director in your dataset has the highest gross per movie?"
   ]
  },
  {
   "cell_type": "code",
   "execution_count": 92,
   "metadata": {},
   "outputs": [],
   "source": [
    "director = movies_df.groupby(['Director'])['DomesticTotalGross'].max().sort_values(ascending = False).head(1)"
   ]
  },
  {
   "cell_type": "code",
   "execution_count": 93,
   "metadata": {},
   "outputs": [
    {
     "data": {
      "text/plain": [
       "Director\n",
       "Francis Lawrence    424668047\n",
       "Name: DomesticTotalGross, dtype: int64"
      ]
     },
     "execution_count": 93,
     "metadata": {},
     "output_type": "execute_result"
    }
   ],
   "source": [
    "director"
   ]
  },
  {
   "cell_type": "code",
   "execution_count": 94,
   "metadata": {},
   "outputs": [],
   "source": [
    "# Adam McKay had the highest gross per movie at $125,168,368"
   ]
  },
  {
   "cell_type": "markdown",
   "metadata": {},
   "source": [
    "**Challenge 6**  \n",
    "\n",
    "Bin your dataset into months and make a bar graph of the mean domestic total gross by month. Error bars will represent the standard error of the mean.  \n",
    "\n",
    "Title of graph should include: Mean Domestic Total Gross by Month in 2013.  \n",
    "\n",
    "Topic for consideration: what is the correct formula for the standard error of the mean? Examine the error bars and see if they are \"reasonable.\""
   ]
  },
  {
   "cell_type": "code",
   "execution_count": 95,
   "metadata": {},
   "outputs": [],
   "source": [
    "movies_df = movies_df.sort_values('ReleaseDate')"
   ]
  },
  {
   "cell_type": "code",
   "execution_count": 96,
   "metadata": {},
   "outputs": [
    {
     "data": {
      "text/html": [
       "<div>\n",
       "<style scoped>\n",
       "    .dataframe tbody tr th:only-of-type {\n",
       "        vertical-align: middle;\n",
       "    }\n",
       "\n",
       "    .dataframe tbody tr th {\n",
       "        vertical-align: top;\n",
       "    }\n",
       "\n",
       "    .dataframe thead th {\n",
       "        text-align: right;\n",
       "    }\n",
       "</style>\n",
       "<table border=\"1\" class=\"dataframe\">\n",
       "  <thead>\n",
       "    <tr style=\"text-align: right;\">\n",
       "      <th></th>\n",
       "      <th>Title</th>\n",
       "      <th>Budget</th>\n",
       "      <th>DomesticTotalGross</th>\n",
       "      <th>Director</th>\n",
       "      <th>Rating</th>\n",
       "      <th>Runtime</th>\n",
       "      <th>ReleaseDate</th>\n",
       "    </tr>\n",
       "  </thead>\n",
       "  <tbody>\n",
       "    <tr>\n",
       "      <th>83</th>\n",
       "      <td>Texas Chainsaw 3D</td>\n",
       "      <td>nan</td>\n",
       "      <td>34341945</td>\n",
       "      <td>John Luessenhop</td>\n",
       "      <td>R</td>\n",
       "      <td>92</td>\n",
       "      <td>2013-01-04</td>\n",
       "    </tr>\n",
       "    <tr>\n",
       "      <th>76</th>\n",
       "      <td>A Haunted House</td>\n",
       "      <td>2500000.00</td>\n",
       "      <td>40041683</td>\n",
       "      <td>Michael Tiddes</td>\n",
       "      <td>R</td>\n",
       "      <td>80</td>\n",
       "      <td>2013-01-11</td>\n",
       "    </tr>\n",
       "    <tr>\n",
       "      <th>70</th>\n",
       "      <td>Gangster Squad</td>\n",
       "      <td>60000000.00</td>\n",
       "      <td>46000903</td>\n",
       "      <td>Ruben Fleischer</td>\n",
       "      <td>R</td>\n",
       "      <td>113</td>\n",
       "      <td>2013-01-11</td>\n",
       "    </tr>\n",
       "    <tr>\n",
       "      <th>46</th>\n",
       "      <td>Mama</td>\n",
       "      <td>15000000.00</td>\n",
       "      <td>71628180</td>\n",
       "      <td>Andres Muschietti</td>\n",
       "      <td>PG-13</td>\n",
       "      <td>100</td>\n",
       "      <td>2013-01-18</td>\n",
       "    </tr>\n",
       "    <tr>\n",
       "      <th>63</th>\n",
       "      <td>Hansel and Gretel: Witch Hunters</td>\n",
       "      <td>50000000.00</td>\n",
       "      <td>55703475</td>\n",
       "      <td>Tommy Wirkola</td>\n",
       "      <td>R</td>\n",
       "      <td>88</td>\n",
       "      <td>2013-01-25</td>\n",
       "    </tr>\n",
       "  </tbody>\n",
       "</table>\n",
       "</div>"
      ],
      "text/plain": [
       "                               Title      Budget  DomesticTotalGross  \\\n",
       "83                 Texas Chainsaw 3D         nan            34341945   \n",
       "76                   A Haunted House  2500000.00            40041683   \n",
       "70                    Gangster Squad 60000000.00            46000903   \n",
       "46                              Mama 15000000.00            71628180   \n",
       "63  Hansel and Gretel: Witch Hunters 50000000.00            55703475   \n",
       "\n",
       "             Director Rating  Runtime ReleaseDate  \n",
       "83    John Luessenhop      R       92  2013-01-04  \n",
       "76     Michael Tiddes      R       80  2013-01-11  \n",
       "70    Ruben Fleischer      R      113  2013-01-11  \n",
       "46  Andres Muschietti  PG-13      100  2013-01-18  \n",
       "63      Tommy Wirkola      R       88  2013-01-25  "
      ]
     },
     "execution_count": 96,
     "metadata": {},
     "output_type": "execute_result"
    }
   ],
   "source": [
    "movies_df.head()"
   ]
  },
  {
   "cell_type": "code",
   "execution_count": 97,
   "metadata": {},
   "outputs": [],
   "source": [
    "movies_df['Month'] = [str(entry).split('-')[1] for entry in movies_df['ReleaseDate']]"
   ]
  },
  {
   "cell_type": "code",
   "execution_count": 98,
   "metadata": {},
   "outputs": [],
   "source": [
    "# Could also do it like this\n",
    "# def to_month(date):\n",
    "#      return date.month\n",
    "# df['ReleaseMonth'] = df['ReleaseDate'].apply(to_month)"
   ]
  },
  {
   "cell_type": "code",
   "execution_count": 99,
   "metadata": {},
   "outputs": [
    {
     "data": {
      "text/html": [
       "<div>\n",
       "<style scoped>\n",
       "    .dataframe tbody tr th:only-of-type {\n",
       "        vertical-align: middle;\n",
       "    }\n",
       "\n",
       "    .dataframe tbody tr th {\n",
       "        vertical-align: top;\n",
       "    }\n",
       "\n",
       "    .dataframe thead th {\n",
       "        text-align: right;\n",
       "    }\n",
       "</style>\n",
       "<table border=\"1\" class=\"dataframe\">\n",
       "  <thead>\n",
       "    <tr style=\"text-align: right;\">\n",
       "      <th></th>\n",
       "      <th>Title</th>\n",
       "      <th>Budget</th>\n",
       "      <th>DomesticTotalGross</th>\n",
       "      <th>Director</th>\n",
       "      <th>Rating</th>\n",
       "      <th>Runtime</th>\n",
       "      <th>ReleaseDate</th>\n",
       "      <th>Month</th>\n",
       "    </tr>\n",
       "  </thead>\n",
       "  <tbody>\n",
       "    <tr>\n",
       "      <th>91</th>\n",
       "      <td>Grudge Match</td>\n",
       "      <td>40000000.00</td>\n",
       "      <td>29807260</td>\n",
       "      <td>Peter Segal</td>\n",
       "      <td>PG-13</td>\n",
       "      <td>113</td>\n",
       "      <td>2013-12-25</td>\n",
       "      <td>12</td>\n",
       "    </tr>\n",
       "    <tr>\n",
       "      <th>77</th>\n",
       "      <td>47 Ronin</td>\n",
       "      <td>175000000.00</td>\n",
       "      <td>38362475</td>\n",
       "      <td>Carl Rinsch</td>\n",
       "      <td>PG-13</td>\n",
       "      <td>127</td>\n",
       "      <td>2013-12-25</td>\n",
       "      <td>12</td>\n",
       "    </tr>\n",
       "    <tr>\n",
       "      <th>23</th>\n",
       "      <td>Lone Survivor</td>\n",
       "      <td>40000000.00</td>\n",
       "      <td>125095601</td>\n",
       "      <td>Peter Berg</td>\n",
       "      <td>R</td>\n",
       "      <td>121</td>\n",
       "      <td>2013-12-25</td>\n",
       "      <td>12</td>\n",
       "    </tr>\n",
       "    <tr>\n",
       "      <th>27</th>\n",
       "      <td>The Wolf of Wall Street</td>\n",
       "      <td>100000000.00</td>\n",
       "      <td>116900694</td>\n",
       "      <td>Martin Scorsese</td>\n",
       "      <td>R</td>\n",
       "      <td>180</td>\n",
       "      <td>2013-12-25</td>\n",
       "      <td>12</td>\n",
       "    </tr>\n",
       "    <tr>\n",
       "      <th>78</th>\n",
       "      <td>August: Osage County</td>\n",
       "      <td>nan</td>\n",
       "      <td>37738810</td>\n",
       "      <td>John Wells</td>\n",
       "      <td>R</td>\n",
       "      <td>130</td>\n",
       "      <td>2013-12-27</td>\n",
       "      <td>12</td>\n",
       "    </tr>\n",
       "  </tbody>\n",
       "</table>\n",
       "</div>"
      ],
      "text/plain": [
       "                      Title       Budget  DomesticTotalGross         Director  \\\n",
       "91             Grudge Match  40000000.00            29807260      Peter Segal   \n",
       "77                 47 Ronin 175000000.00            38362475      Carl Rinsch   \n",
       "23            Lone Survivor  40000000.00           125095601       Peter Berg   \n",
       "27  The Wolf of Wall Street 100000000.00           116900694  Martin Scorsese   \n",
       "78     August: Osage County          nan            37738810       John Wells   \n",
       "\n",
       "   Rating  Runtime ReleaseDate Month  \n",
       "91  PG-13      113  2013-12-25    12  \n",
       "77  PG-13      127  2013-12-25    12  \n",
       "23      R      121  2013-12-25    12  \n",
       "27      R      180  2013-12-25    12  \n",
       "78      R      130  2013-12-27    12  "
      ]
     },
     "execution_count": 99,
     "metadata": {},
     "output_type": "execute_result"
    }
   ],
   "source": [
    "movies_df.tail()"
   ]
  },
  {
   "cell_type": "code",
   "execution_count": 101,
   "metadata": {},
   "outputs": [],
   "source": [
    "movies_df = movies_df.sort_values('Month')"
   ]
  },
  {
   "cell_type": "code",
   "execution_count": 106,
   "metadata": {},
   "outputs": [
    {
     "data": {
      "text/html": [
       "<div>\n",
       "<style scoped>\n",
       "    .dataframe tbody tr th:only-of-type {\n",
       "        vertical-align: middle;\n",
       "    }\n",
       "\n",
       "    .dataframe tbody tr th {\n",
       "        vertical-align: top;\n",
       "    }\n",
       "\n",
       "    .dataframe thead th {\n",
       "        text-align: right;\n",
       "    }\n",
       "</style>\n",
       "<table border=\"1\" class=\"dataframe\">\n",
       "  <thead>\n",
       "    <tr style=\"text-align: right;\">\n",
       "      <th></th>\n",
       "      <th>Month</th>\n",
       "      <th>StdDev</th>\n",
       "    </tr>\n",
       "  </thead>\n",
       "  <tbody>\n",
       "    <tr>\n",
       "      <th>0</th>\n",
       "      <td>01</td>\n",
       "      <td>14659469.44</td>\n",
       "    </tr>\n",
       "    <tr>\n",
       "      <th>1</th>\n",
       "      <td>02</td>\n",
       "      <td>32831848.63</td>\n",
       "    </tr>\n",
       "    <tr>\n",
       "      <th>2</th>\n",
       "      <td>03</td>\n",
       "      <td>73239416.71</td>\n",
       "    </tr>\n",
       "    <tr>\n",
       "      <th>3</th>\n",
       "      <td>04</td>\n",
       "      <td>25301038.69</td>\n",
       "    </tr>\n",
       "    <tr>\n",
       "      <th>4</th>\n",
       "      <td>05</td>\n",
       "      <td>111775447.29</td>\n",
       "    </tr>\n",
       "  </tbody>\n",
       "</table>\n",
       "</div>"
      ],
      "text/plain": [
       "  Month       StdDev\n",
       "0    01  14659469.44\n",
       "1    02  32831848.63\n",
       "2    03  73239416.71\n",
       "3    04  25301038.69\n",
       "4    05 111775447.29"
      ]
     },
     "execution_count": 106,
     "metadata": {},
     "output_type": "execute_result"
    }
   ],
   "source": [
    "# Standard error\n",
    "standard_error = movies_df.groupby('Month')[['DomesticTotalGross']].std().reset_index().rename(columns={'DomesticTotalGross':'StdDev'})\n",
    "standard_error.head()"
   ]
  },
  {
   "cell_type": "code",
   "execution_count": 107,
   "metadata": {},
   "outputs": [
    {
     "data": {
      "text/html": [
       "<div>\n",
       "<style scoped>\n",
       "    .dataframe tbody tr th:only-of-type {\n",
       "        vertical-align: middle;\n",
       "    }\n",
       "\n",
       "    .dataframe tbody tr th {\n",
       "        vertical-align: top;\n",
       "    }\n",
       "\n",
       "    .dataframe thead th {\n",
       "        text-align: right;\n",
       "    }\n",
       "</style>\n",
       "<table border=\"1\" class=\"dataframe\">\n",
       "  <thead>\n",
       "    <tr style=\"text-align: right;\">\n",
       "      <th></th>\n",
       "      <th>Month</th>\n",
       "      <th>Mean</th>\n",
       "    </tr>\n",
       "  </thead>\n",
       "  <tbody>\n",
       "    <tr>\n",
       "      <th>0</th>\n",
       "      <td>01</td>\n",
       "      <td>49543237.20</td>\n",
       "    </tr>\n",
       "    <tr>\n",
       "      <th>1</th>\n",
       "      <td>02</td>\n",
       "      <td>67386013.71</td>\n",
       "    </tr>\n",
       "    <tr>\n",
       "      <th>2</th>\n",
       "      <td>03</td>\n",
       "      <td>96097096.22</td>\n",
       "    </tr>\n",
       "    <tr>\n",
       "      <th>3</th>\n",
       "      <td>04</td>\n",
       "      <td>60940719.50</td>\n",
       "    </tr>\n",
       "    <tr>\n",
       "      <th>4</th>\n",
       "      <td>05</td>\n",
       "      <td>177409720.50</td>\n",
       "    </tr>\n",
       "  </tbody>\n",
       "</table>\n",
       "</div>"
      ],
      "text/plain": [
       "  Month         Mean\n",
       "0    01  49543237.20\n",
       "1    02  67386013.71\n",
       "2    03  96097096.22\n",
       "3    04  60940719.50\n",
       "4    05 177409720.50"
      ]
     },
     "execution_count": 107,
     "metadata": {},
     "output_type": "execute_result"
    }
   ],
   "source": [
    "mean_gross = movies_df.groupby('Month')[['DomesticTotalGross']].mean().reset_index().rename(columns={'DomesticTotalGross':'Mean'})\n",
    "mean_gross.head()"
   ]
  },
  {
   "cell_type": "code",
   "execution_count": 109,
   "metadata": {},
   "outputs": [
    {
     "data": {
      "image/png": "[encoded data removed]",
      "text/plain": [
       "<Figure size 432x288 with 1 Axes>"
      ]
     },
     "metadata": {},
     "output_type": "display_data"
    }
   ],
   "source": [
    "# Seaborn to display error bars\n",
    "month = movies_df['Month'].values\n",
    "sns.barplot(movies_df.Month, movies_df.DomesticTotalGross).set_title('Mean Domestic Total Gross by Month in 2013');"
   ]
  },
  {
   "cell_type": "code",
   "execution_count": null,
   "metadata": {},
   "outputs": [],
   "source": []
  }
 ],
 "metadata": {
  "kernelspec": {
   "display_name": "Python 3",
   "language": "python",
   "name": "python3"
  },
  "language_info": {
   "codemirror_mode": {
    "name": "ipython",
    "version": 3
   },
   "file_extension": ".py",
   "mimetype": "text/x-python",
   "name": "python",
   "nbconvert_exporter": "python",
   "pygments_lexer": "ipython3",
   "version": "3.6.5"
  }
 },
 "nbformat": 4,
 "nbformat_minor": 2
}
