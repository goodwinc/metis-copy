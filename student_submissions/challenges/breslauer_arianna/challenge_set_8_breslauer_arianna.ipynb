{
 "cells": [
  {
   "cell_type": "markdown",
   "metadata": {},
   "source": [
    "### Classification Error Metric Challenges\n",
    "\n",
    "**Settings:  Where applicable, use test_size=0.30, random_state=4444.  This will permit comparison of results across users.\n",
    "\n",
    "*These reference the Classification Challenges.*\n",
    "\n",
    "\n",
    "#### Challenge 1\n",
    "\n",
    "For the house representatives data set, calculate the accuracy, precision, recall and f1 scores of each classifier you built (on the test set)."
   ]
  },
  {
   "cell_type": "code",
   "execution_count": 156,
   "metadata": {},
   "outputs": [],
   "source": [
    "import pandas as pd\n",
    "import numpy as np\n",
    "import matplotlib.pyplot as plt\n",
    "import seaborn as sns\n",
    "plt.style.use('fivethirtyeight')\n",
    "%matplotlib inline"
   ]
  },
  {
   "cell_type": "code",
   "execution_count": 157,
   "metadata": {},
   "outputs": [],
   "source": [
    "congressional_data = pd.read_table('house-votes-84.data.txt',header=None,sep = \",\")"
   ]
  },
  {
   "cell_type": "code",
   "execution_count": 158,
   "metadata": {},
   "outputs": [
    {
     "data": {
      "text/html": [
       "<div>\n",
       "<style scoped>\n",
       "    .dataframe tbody tr th:only-of-type {\n",
       "        vertical-align: middle;\n",
       "    }\n",
       "\n",
       "    .dataframe tbody tr th {\n",
       "        vertical-align: top;\n",
       "    }\n",
       "\n",
       "    .dataframe thead th {\n",
       "        text-align: right;\n",
       "    }\n",
       "</style>\n",
       "<table border=\"1\" class=\"dataframe\">\n",
       "  <thead>\n",
       "    <tr style=\"text-align: right;\">\n",
       "      <th></th>\n",
       "      <th>0</th>\n",
       "      <th>1</th>\n",
       "      <th>2</th>\n",
       "      <th>3</th>\n",
       "      <th>4</th>\n",
       "      <th>5</th>\n",
       "      <th>6</th>\n",
       "      <th>7</th>\n",
       "      <th>8</th>\n",
       "      <th>9</th>\n",
       "      <th>10</th>\n",
       "      <th>11</th>\n",
       "      <th>12</th>\n",
       "      <th>13</th>\n",
       "      <th>14</th>\n",
       "      <th>15</th>\n",
       "      <th>16</th>\n",
       "    </tr>\n",
       "  </thead>\n",
       "  <tbody>\n",
       "    <tr>\n",
       "      <th>0</th>\n",
       "      <td>republican</td>\n",
       "      <td>n</td>\n",
       "      <td>y</td>\n",
       "      <td>n</td>\n",
       "      <td>y</td>\n",
       "      <td>y</td>\n",
       "      <td>y</td>\n",
       "      <td>n</td>\n",
       "      <td>n</td>\n",
       "      <td>n</td>\n",
       "      <td>y</td>\n",
       "      <td>?</td>\n",
       "      <td>y</td>\n",
       "      <td>y</td>\n",
       "      <td>y</td>\n",
       "      <td>n</td>\n",
       "      <td>y</td>\n",
       "    </tr>\n",
       "  </tbody>\n",
       "</table>\n",
       "</div>"
      ],
      "text/plain": [
       "           0  1  2  3  4  5  6  7  8  9  10 11 12 13 14 15 16\n",
       "0  republican  n  y  n  y  y  y  n  n  n  y  ?  y  y  y  n  y"
      ]
     },
     "execution_count": 158,
     "metadata": {},
     "output_type": "execute_result"
    }
   ],
   "source": [
    "congressional_data.head(1)"
   ]
  },
  {
   "cell_type": "code",
   "execution_count": 159,
   "metadata": {},
   "outputs": [],
   "source": [
    "congressional_data.columns = [\"Party\", \"Handicapped Infants Vote\", \"Water Project Cost Sharing Vote\",\"Budget Resolution Adoption Vote\",\n",
    "                              \"Physician Fee Freeze Vote\",\"El Salvador Aid Vote\",\"Religious Groups in Schools Vote\",\n",
    "                              \"Anti Satellite Test Ban Vote\", \"Aid to Nicaraguan Contras Vote\",\"MX Missile Vote\",\n",
    "                              \"Immigration Vote\",\"Synfuels Corporation Cutback Vote\",\"Education Spending Vote\",\n",
    "                              \"Superfund Right to Sue Vote\",\"Crime Vote\",\"Duty Free Exports Vote\",\n",
    "                              \"Export Administration Act South Africa Vote\"]"
   ]
  },
  {
   "cell_type": "code",
   "execution_count": 160,
   "metadata": {},
   "outputs": [],
   "source": [
    "congressional_data = congressional_data.replace({\"y\":1,\"n\":0,\"?\":np.nan})\n",
    "congressional_data = congressional_data.replace({'democrat':1,'republican':0})"
   ]
  },
  {
   "cell_type": "code",
   "execution_count": 161,
   "metadata": {},
   "outputs": [
    {
     "data": {
      "text/html": [
       "<div>\n",
       "<style scoped>\n",
       "    .dataframe tbody tr th:only-of-type {\n",
       "        vertical-align: middle;\n",
       "    }\n",
       "\n",
       "    .dataframe tbody tr th {\n",
       "        vertical-align: top;\n",
       "    }\n",
       "\n",
       "    .dataframe thead th {\n",
       "        text-align: right;\n",
       "    }\n",
       "</style>\n",
       "<table border=\"1\" class=\"dataframe\">\n",
       "  <thead>\n",
       "    <tr style=\"text-align: right;\">\n",
       "      <th></th>\n",
       "      <th>Party</th>\n",
       "      <th>Handicapped Infants Vote</th>\n",
       "      <th>Water Project Cost Sharing Vote</th>\n",
       "      <th>Budget Resolution Adoption Vote</th>\n",
       "      <th>Physician Fee Freeze Vote</th>\n",
       "      <th>El Salvador Aid Vote</th>\n",
       "      <th>Religious Groups in Schools Vote</th>\n",
       "      <th>Anti Satellite Test Ban Vote</th>\n",
       "      <th>Aid to Nicaraguan Contras Vote</th>\n",
       "      <th>MX Missile Vote</th>\n",
       "      <th>Immigration Vote</th>\n",
       "      <th>Synfuels Corporation Cutback Vote</th>\n",
       "      <th>Education Spending Vote</th>\n",
       "      <th>Superfund Right to Sue Vote</th>\n",
       "      <th>Crime Vote</th>\n",
       "      <th>Duty Free Exports Vote</th>\n",
       "      <th>Export Administration Act South Africa Vote</th>\n",
       "    </tr>\n",
       "  </thead>\n",
       "  <tbody>\n",
       "    <tr>\n",
       "      <th>0</th>\n",
       "      <td>0</td>\n",
       "      <td>0.00000</td>\n",
       "      <td>1.0</td>\n",
       "      <td>0.0</td>\n",
       "      <td>1.000000</td>\n",
       "      <td>1.000000</td>\n",
       "      <td>1.0</td>\n",
       "      <td>0.0</td>\n",
       "      <td>0.0</td>\n",
       "      <td>0.0</td>\n",
       "      <td>1.0</td>\n",
       "      <td>0.362319</td>\n",
       "      <td>1.000000</td>\n",
       "      <td>1.0</td>\n",
       "      <td>1.0</td>\n",
       "      <td>0.0</td>\n",
       "      <td>1.000000</td>\n",
       "    </tr>\n",
       "    <tr>\n",
       "      <th>1</th>\n",
       "      <td>0</td>\n",
       "      <td>0.00000</td>\n",
       "      <td>1.0</td>\n",
       "      <td>0.0</td>\n",
       "      <td>1.000000</td>\n",
       "      <td>1.000000</td>\n",
       "      <td>1.0</td>\n",
       "      <td>0.0</td>\n",
       "      <td>0.0</td>\n",
       "      <td>0.0</td>\n",
       "      <td>0.0</td>\n",
       "      <td>0.000000</td>\n",
       "      <td>1.000000</td>\n",
       "      <td>1.0</td>\n",
       "      <td>1.0</td>\n",
       "      <td>0.0</td>\n",
       "      <td>0.812689</td>\n",
       "    </tr>\n",
       "    <tr>\n",
       "      <th>2</th>\n",
       "      <td>1</td>\n",
       "      <td>0.44208</td>\n",
       "      <td>1.0</td>\n",
       "      <td>1.0</td>\n",
       "      <td>0.417453</td>\n",
       "      <td>1.000000</td>\n",
       "      <td>1.0</td>\n",
       "      <td>0.0</td>\n",
       "      <td>0.0</td>\n",
       "      <td>0.0</td>\n",
       "      <td>0.0</td>\n",
       "      <td>1.000000</td>\n",
       "      <td>0.000000</td>\n",
       "      <td>1.0</td>\n",
       "      <td>1.0</td>\n",
       "      <td>0.0</td>\n",
       "      <td>0.000000</td>\n",
       "    </tr>\n",
       "    <tr>\n",
       "      <th>3</th>\n",
       "      <td>1</td>\n",
       "      <td>0.00000</td>\n",
       "      <td>1.0</td>\n",
       "      <td>1.0</td>\n",
       "      <td>0.000000</td>\n",
       "      <td>0.504762</td>\n",
       "      <td>1.0</td>\n",
       "      <td>0.0</td>\n",
       "      <td>0.0</td>\n",
       "      <td>0.0</td>\n",
       "      <td>0.0</td>\n",
       "      <td>1.000000</td>\n",
       "      <td>0.000000</td>\n",
       "      <td>1.0</td>\n",
       "      <td>0.0</td>\n",
       "      <td>0.0</td>\n",
       "      <td>1.000000</td>\n",
       "    </tr>\n",
       "    <tr>\n",
       "      <th>4</th>\n",
       "      <td>1</td>\n",
       "      <td>1.00000</td>\n",
       "      <td>1.0</td>\n",
       "      <td>1.0</td>\n",
       "      <td>0.000000</td>\n",
       "      <td>1.000000</td>\n",
       "      <td>1.0</td>\n",
       "      <td>0.0</td>\n",
       "      <td>0.0</td>\n",
       "      <td>0.0</td>\n",
       "      <td>0.0</td>\n",
       "      <td>1.000000</td>\n",
       "      <td>0.423267</td>\n",
       "      <td>1.0</td>\n",
       "      <td>1.0</td>\n",
       "      <td>1.0</td>\n",
       "      <td>1.000000</td>\n",
       "    </tr>\n",
       "  </tbody>\n",
       "</table>\n",
       "</div>"
      ],
      "text/plain": [
       "   Party  Handicapped Infants Vote  Water Project Cost Sharing Vote  \\\n",
       "0      0                   0.00000                              1.0   \n",
       "1      0                   0.00000                              1.0   \n",
       "2      1                   0.44208                              1.0   \n",
       "3      1                   0.00000                              1.0   \n",
       "4      1                   1.00000                              1.0   \n",
       "\n",
       "   Budget Resolution Adoption Vote  Physician Fee Freeze Vote  \\\n",
       "0                              0.0                   1.000000   \n",
       "1                              0.0                   1.000000   \n",
       "2                              1.0                   0.417453   \n",
       "3                              1.0                   0.000000   \n",
       "4                              1.0                   0.000000   \n",
       "\n",
       "   El Salvador Aid Vote  Religious Groups in Schools Vote  \\\n",
       "0              1.000000                               1.0   \n",
       "1              1.000000                               1.0   \n",
       "2              1.000000                               1.0   \n",
       "3              0.504762                               1.0   \n",
       "4              1.000000                               1.0   \n",
       "\n",
       "   Anti Satellite Test Ban Vote  Aid to Nicaraguan Contras Vote  \\\n",
       "0                           0.0                             0.0   \n",
       "1                           0.0                             0.0   \n",
       "2                           0.0                             0.0   \n",
       "3                           0.0                             0.0   \n",
       "4                           0.0                             0.0   \n",
       "\n",
       "   MX Missile Vote  Immigration Vote  Synfuels Corporation Cutback Vote  \\\n",
       "0              0.0               1.0                           0.362319   \n",
       "1              0.0               0.0                           0.000000   \n",
       "2              0.0               0.0                           1.000000   \n",
       "3              0.0               0.0                           1.000000   \n",
       "4              0.0               0.0                           1.000000   \n",
       "\n",
       "   Education Spending Vote  Superfund Right to Sue Vote  Crime Vote  \\\n",
       "0                 1.000000                          1.0         1.0   \n",
       "1                 1.000000                          1.0         1.0   \n",
       "2                 0.000000                          1.0         1.0   \n",
       "3                 0.000000                          1.0         0.0   \n",
       "4                 0.423267                          1.0         1.0   \n",
       "\n",
       "   Duty Free Exports Vote  Export Administration Act South Africa Vote  \n",
       "0                     0.0                                     1.000000  \n",
       "1                     0.0                                     0.812689  \n",
       "2                     0.0                                     0.000000  \n",
       "3                     0.0                                     1.000000  \n",
       "4                     1.0                                     1.000000  "
      ]
     },
     "execution_count": 161,
     "metadata": {},
     "output_type": "execute_result"
    }
   ],
   "source": [
    "congressional_data = congressional_data.fillna(congressional_data.mean())\n",
    "congressional_data.head()"
   ]
  },
  {
   "cell_type": "code",
   "execution_count": 162,
   "metadata": {},
   "outputs": [
    {
     "data": {
      "text/html": [
       "<div>\n",
       "<style scoped>\n",
       "    .dataframe tbody tr th:only-of-type {\n",
       "        vertical-align: middle;\n",
       "    }\n",
       "\n",
       "    .dataframe tbody tr th {\n",
       "        vertical-align: top;\n",
       "    }\n",
       "\n",
       "    .dataframe thead th {\n",
       "        text-align: right;\n",
       "    }\n",
       "</style>\n",
       "<table border=\"1\" class=\"dataframe\">\n",
       "  <thead>\n",
       "    <tr style=\"text-align: right;\">\n",
       "      <th></th>\n",
       "      <th>Party</th>\n",
       "      <th>Handicapped Infants Vote</th>\n",
       "      <th>Water Project Cost Sharing Vote</th>\n",
       "      <th>Budget Resolution Adoption Vote</th>\n",
       "      <th>Physician Fee Freeze Vote</th>\n",
       "      <th>El Salvador Aid Vote</th>\n",
       "      <th>Religious Groups in Schools Vote</th>\n",
       "      <th>Anti Satellite Test Ban Vote</th>\n",
       "      <th>Aid to Nicaraguan Contras Vote</th>\n",
       "      <th>MX Missile Vote</th>\n",
       "      <th>Immigration Vote</th>\n",
       "      <th>Synfuels Corporation Cutback Vote</th>\n",
       "      <th>Education Spending Vote</th>\n",
       "      <th>Superfund Right to Sue Vote</th>\n",
       "      <th>Crime Vote</th>\n",
       "      <th>Duty Free Exports Vote</th>\n",
       "      <th>Export Administration Act South Africa Vote</th>\n",
       "    </tr>\n",
       "  </thead>\n",
       "  <tbody>\n",
       "    <tr>\n",
       "      <th>count</th>\n",
       "      <td>435.000000</td>\n",
       "      <td>435.00000</td>\n",
       "      <td>435.000000</td>\n",
       "      <td>435.000000</td>\n",
       "      <td>435.000000</td>\n",
       "      <td>435.000000</td>\n",
       "      <td>435.000000</td>\n",
       "      <td>435.000000</td>\n",
       "      <td>435.000000</td>\n",
       "      <td>435.000000</td>\n",
       "      <td>435.000000</td>\n",
       "      <td>435.000000</td>\n",
       "      <td>435.000000</td>\n",
       "      <td>435.000000</td>\n",
       "      <td>435.000000</td>\n",
       "      <td>435.000000</td>\n",
       "      <td>435.000000</td>\n",
       "    </tr>\n",
       "    <tr>\n",
       "      <th>mean</th>\n",
       "      <td>0.613793</td>\n",
       "      <td>0.44208</td>\n",
       "      <td>0.503876</td>\n",
       "      <td>0.596698</td>\n",
       "      <td>0.417453</td>\n",
       "      <td>0.504762</td>\n",
       "      <td>0.641509</td>\n",
       "      <td>0.567696</td>\n",
       "      <td>0.576190</td>\n",
       "      <td>0.501211</td>\n",
       "      <td>0.504673</td>\n",
       "      <td>0.362319</td>\n",
       "      <td>0.423267</td>\n",
       "      <td>0.509756</td>\n",
       "      <td>0.593301</td>\n",
       "      <td>0.427518</td>\n",
       "      <td>0.812689</td>\n",
       "    </tr>\n",
       "    <tr>\n",
       "      <th>std</th>\n",
       "      <td>0.487440</td>\n",
       "      <td>0.49030</td>\n",
       "      <td>0.472136</td>\n",
       "      <td>0.484876</td>\n",
       "      <td>0.487424</td>\n",
       "      <td>0.491847</td>\n",
       "      <td>0.474000</td>\n",
       "      <td>0.487920</td>\n",
       "      <td>0.486125</td>\n",
       "      <td>0.487752</td>\n",
       "      <td>0.496510</td>\n",
       "      <td>0.469464</td>\n",
       "      <td>0.476695</td>\n",
       "      <td>0.485886</td>\n",
       "      <td>0.482078</td>\n",
       "      <td>0.479083</td>\n",
       "      <td>0.340732</td>\n",
       "    </tr>\n",
       "    <tr>\n",
       "      <th>min</th>\n",
       "      <td>0.000000</td>\n",
       "      <td>0.00000</td>\n",
       "      <td>0.000000</td>\n",
       "      <td>0.000000</td>\n",
       "      <td>0.000000</td>\n",
       "      <td>0.000000</td>\n",
       "      <td>0.000000</td>\n",
       "      <td>0.000000</td>\n",
       "      <td>0.000000</td>\n",
       "      <td>0.000000</td>\n",
       "      <td>0.000000</td>\n",
       "      <td>0.000000</td>\n",
       "      <td>0.000000</td>\n",
       "      <td>0.000000</td>\n",
       "      <td>0.000000</td>\n",
       "      <td>0.000000</td>\n",
       "      <td>0.000000</td>\n",
       "    </tr>\n",
       "    <tr>\n",
       "      <th>25%</th>\n",
       "      <td>0.000000</td>\n",
       "      <td>0.00000</td>\n",
       "      <td>0.000000</td>\n",
       "      <td>0.000000</td>\n",
       "      <td>0.000000</td>\n",
       "      <td>0.000000</td>\n",
       "      <td>0.000000</td>\n",
       "      <td>0.000000</td>\n",
       "      <td>0.000000</td>\n",
       "      <td>0.000000</td>\n",
       "      <td>0.000000</td>\n",
       "      <td>0.000000</td>\n",
       "      <td>0.000000</td>\n",
       "      <td>0.000000</td>\n",
       "      <td>0.000000</td>\n",
       "      <td>0.000000</td>\n",
       "      <td>0.812689</td>\n",
       "    </tr>\n",
       "    <tr>\n",
       "      <th>50%</th>\n",
       "      <td>1.000000</td>\n",
       "      <td>0.00000</td>\n",
       "      <td>0.503876</td>\n",
       "      <td>1.000000</td>\n",
       "      <td>0.000000</td>\n",
       "      <td>0.504762</td>\n",
       "      <td>1.000000</td>\n",
       "      <td>1.000000</td>\n",
       "      <td>1.000000</td>\n",
       "      <td>0.501211</td>\n",
       "      <td>0.504673</td>\n",
       "      <td>0.000000</td>\n",
       "      <td>0.000000</td>\n",
       "      <td>0.509756</td>\n",
       "      <td>1.000000</td>\n",
       "      <td>0.000000</td>\n",
       "      <td>1.000000</td>\n",
       "    </tr>\n",
       "    <tr>\n",
       "      <th>75%</th>\n",
       "      <td>1.000000</td>\n",
       "      <td>1.00000</td>\n",
       "      <td>1.000000</td>\n",
       "      <td>1.000000</td>\n",
       "      <td>1.000000</td>\n",
       "      <td>1.000000</td>\n",
       "      <td>1.000000</td>\n",
       "      <td>1.000000</td>\n",
       "      <td>1.000000</td>\n",
       "      <td>1.000000</td>\n",
       "      <td>1.000000</td>\n",
       "      <td>1.000000</td>\n",
       "      <td>1.000000</td>\n",
       "      <td>1.000000</td>\n",
       "      <td>1.000000</td>\n",
       "      <td>1.000000</td>\n",
       "      <td>1.000000</td>\n",
       "    </tr>\n",
       "    <tr>\n",
       "      <th>max</th>\n",
       "      <td>1.000000</td>\n",
       "      <td>1.00000</td>\n",
       "      <td>1.000000</td>\n",
       "      <td>1.000000</td>\n",
       "      <td>1.000000</td>\n",
       "      <td>1.000000</td>\n",
       "      <td>1.000000</td>\n",
       "      <td>1.000000</td>\n",
       "      <td>1.000000</td>\n",
       "      <td>1.000000</td>\n",
       "      <td>1.000000</td>\n",
       "      <td>1.000000</td>\n",
       "      <td>1.000000</td>\n",
       "      <td>1.000000</td>\n",
       "      <td>1.000000</td>\n",
       "      <td>1.000000</td>\n",
       "      <td>1.000000</td>\n",
       "    </tr>\n",
       "  </tbody>\n",
       "</table>\n",
       "</div>"
      ],
      "text/plain": [
       "            Party  Handicapped Infants Vote  Water Project Cost Sharing Vote  \\\n",
       "count  435.000000                 435.00000                       435.000000   \n",
       "mean     0.613793                   0.44208                         0.503876   \n",
       "std      0.487440                   0.49030                         0.472136   \n",
       "min      0.000000                   0.00000                         0.000000   \n",
       "25%      0.000000                   0.00000                         0.000000   \n",
       "50%      1.000000                   0.00000                         0.503876   \n",
       "75%      1.000000                   1.00000                         1.000000   \n",
       "max      1.000000                   1.00000                         1.000000   \n",
       "\n",
       "       Budget Resolution Adoption Vote  Physician Fee Freeze Vote  \\\n",
       "count                       435.000000                 435.000000   \n",
       "mean                          0.596698                   0.417453   \n",
       "std                           0.484876                   0.487424   \n",
       "min                           0.000000                   0.000000   \n",
       "25%                           0.000000                   0.000000   \n",
       "50%                           1.000000                   0.000000   \n",
       "75%                           1.000000                   1.000000   \n",
       "max                           1.000000                   1.000000   \n",
       "\n",
       "       El Salvador Aid Vote  Religious Groups in Schools Vote  \\\n",
       "count            435.000000                        435.000000   \n",
       "mean               0.504762                          0.641509   \n",
       "std                0.491847                          0.474000   \n",
       "min                0.000000                          0.000000   \n",
       "25%                0.000000                          0.000000   \n",
       "50%                0.504762                          1.000000   \n",
       "75%                1.000000                          1.000000   \n",
       "max                1.000000                          1.000000   \n",
       "\n",
       "       Anti Satellite Test Ban Vote  Aid to Nicaraguan Contras Vote  \\\n",
       "count                    435.000000                      435.000000   \n",
       "mean                       0.567696                        0.576190   \n",
       "std                        0.487920                        0.486125   \n",
       "min                        0.000000                        0.000000   \n",
       "25%                        0.000000                        0.000000   \n",
       "50%                        1.000000                        1.000000   \n",
       "75%                        1.000000                        1.000000   \n",
       "max                        1.000000                        1.000000   \n",
       "\n",
       "       MX Missile Vote  Immigration Vote  Synfuels Corporation Cutback Vote  \\\n",
       "count       435.000000        435.000000                         435.000000   \n",
       "mean          0.501211          0.504673                           0.362319   \n",
       "std           0.487752          0.496510                           0.469464   \n",
       "min           0.000000          0.000000                           0.000000   \n",
       "25%           0.000000          0.000000                           0.000000   \n",
       "50%           0.501211          0.504673                           0.000000   \n",
       "75%           1.000000          1.000000                           1.000000   \n",
       "max           1.000000          1.000000                           1.000000   \n",
       "\n",
       "       Education Spending Vote  Superfund Right to Sue Vote  Crime Vote  \\\n",
       "count               435.000000                   435.000000  435.000000   \n",
       "mean                  0.423267                     0.509756    0.593301   \n",
       "std                   0.476695                     0.485886    0.482078   \n",
       "min                   0.000000                     0.000000    0.000000   \n",
       "25%                   0.000000                     0.000000    0.000000   \n",
       "50%                   0.000000                     0.509756    1.000000   \n",
       "75%                   1.000000                     1.000000    1.000000   \n",
       "max                   1.000000                     1.000000    1.000000   \n",
       "\n",
       "       Duty Free Exports Vote  Export Administration Act South Africa Vote  \n",
       "count              435.000000                                   435.000000  \n",
       "mean                 0.427518                                     0.812689  \n",
       "std                  0.479083                                     0.340732  \n",
       "min                  0.000000                                     0.000000  \n",
       "25%                  0.000000                                     0.812689  \n",
       "50%                  0.000000                                     1.000000  \n",
       "75%                  1.000000                                     1.000000  \n",
       "max                  1.000000                                     1.000000  "
      ]
     },
     "execution_count": 162,
     "metadata": {},
     "output_type": "execute_result"
    }
   ],
   "source": [
    "congressional_data.describe()"
   ]
  },
  {
   "cell_type": "code",
   "execution_count": 163,
   "metadata": {},
   "outputs": [],
   "source": [
    "from sklearn.cross_validation import train_test_split\n",
    "from sklearn.neighbors import KNeighborsClassifier\n",
    "from sklearn.metrics import accuracy_score\n",
    "from sklearn.linear_model import LogisticRegression"
   ]
  },
  {
   "cell_type": "code",
   "execution_count": 164,
   "metadata": {},
   "outputs": [],
   "source": [
    "def accuracy(actuals, preds):\n",
    "    return np.mean(actuals == preds)\n",
    "\n",
    "def precision(actuals, preds):\n",
    "    tp = np.sum((actuals == 1) & (preds == 1))\n",
    "    fp = np.sum((actuals == 0) & (preds == 1))\n",
    "    return tp / (tp + fp)\n",
    "\n",
    "def recall(actuals, preds):\n",
    "    tp = np.sum((actuals == 1) & (preds == 1))\n",
    "    fn = np.sum((actuals == 1) & (preds == 0))\n",
    "    return tp / (tp + fn)\n",
    "\n",
    "def F1(actuals, preds):\n",
    "    p, r = precision(actuals, preds), recall(actuals, preds)\n",
    "    return 2*p*r / (p + r)"
   ]
  },
  {
   "cell_type": "code",
   "execution_count": 165,
   "metadata": {},
   "outputs": [],
   "source": [
    "X = congressional_data.iloc[:,1:]\n",
    "y = congressional_data.loc[:,\"Party\"]"
   ]
  },
  {
   "cell_type": "code",
   "execution_count": 166,
   "metadata": {},
   "outputs": [],
   "source": [
    "#hold out 30% of the data for final testing\n",
    "X_train, X_test, y_train, y_test = train_test_split(X, y, test_size=.3, random_state=4444) "
   ]
  },
  {
   "cell_type": "code",
   "execution_count": 167,
   "metadata": {},
   "outputs": [
    {
     "name": "stdout",
     "output_type": "stream",
     "text": [
      "KNN validation metrics with 10 nearest neighbours: \n",
      " Accuracy: 0.9160 \n",
      " Precision: 0.9342 \n",
      " Recall: 0.9221 \n",
      " F1: 0.9281\n"
     ]
    }
   ],
   "source": [
    "knn = KNeighborsClassifier(n_neighbors=10)\n",
    "knn.fit(X_train, y_train)\n",
    "print('KNN validation metrics with 10 nearest neighbours: \\n Accuracy: %.4f \\n Precision: %.4f \\n Recall: %.4f \\n F1: %.4f' %\n",
    "        (accuracy(y_test, knn.predict(X_test)), \n",
    "         precision(actuals=y_test, preds=knn.predict(X_test)), \n",
    "         recall(actuals=y_test, preds=knn.predict(X_test)),\n",
    "         F1(actuals=y_test, preds=knn.predict(X_test))\n",
    "        )\n",
    "     )"
   ]
  },
  {
   "cell_type": "code",
   "execution_count": 168,
   "metadata": {},
   "outputs": [
    {
     "name": "stdout",
     "output_type": "stream",
     "text": [
      "Logistic regression validation metrics: \n",
      " Accuracy: 0.9313 \n",
      " Precision: 0.9250 \n",
      " Recall: 0.9610 \n",
      " F1: 0.9427\n"
     ]
    }
   ],
   "source": [
    "from sklearn.linear_model import LogisticRegression\n",
    "\n",
    "#c parameter controls amount of regularization\n",
    "lm = LogisticRegression(C=1000)\n",
    "lm.fit(X_train,y_train)\n",
    "print('Logistic regression validation metrics: \\n Accuracy: %.4f \\n Precision: %.4f \\n Recall: %.4f \\n F1: %.4f' %\n",
    "        (accuracy(y_test, lm.predict(X_test)), \n",
    "         precision(actuals=y_test, preds=lm.predict(X_test)), \n",
    "         recall(actuals=y_test, preds=lm.predict(X_test)),\n",
    "         F1(actuals=y_test, preds=lm.predict(X_test))\n",
    "        )\n",
    "     )"
   ]
  },
  {
   "cell_type": "markdown",
   "metadata": {},
   "source": [
    "#### Challenge 2\n",
    "\n",
    "For each, draw the ROC curve and calculate the AUC."
   ]
  },
  {
   "cell_type": "code",
   "execution_count": 169,
   "metadata": {},
   "outputs": [
    {
     "data": {
      "text/plain": [
       "<matplotlib.legend.Legend at 0x1a1c39b860>"
      ]
     },
     "execution_count": 169,
     "metadata": {},
     "output_type": "execute_result"
    },
    {
     "data": {
      "image/png": "[encoded data removed]",
      "text/plain": [
       "<Figure size 432x288 with 1 Axes>"
      ]
     },
     "metadata": {},
     "output_type": "display_data"
    }
   ],
   "source": [
    "from sklearn.metrics import roc_curve\n",
    "\n",
    "fpr, tpr, _ = roc_curve(y_test, lm.predict_proba(X_test)[:,1])\n",
    "plt.plot(fpr, tpr)\n",
    "\n",
    "fpr, tpr, _ = roc_curve(y_test, knn.predict_proba(X_test)[:,1])\n",
    "plt.plot(fpr, tpr)\n",
    "\n",
    "x = np.linspace(0,1, 100000)\n",
    "plt.plot(x, x, linestyle='--')\n",
    "\n",
    "plt.title('ROC Curve')\n",
    "plt.xlabel('False Positive Rate')\n",
    "plt.ylabel('True Positive Rate')\n",
    "plt.legend(['Logistic Regression','10-NN'])"
   ]
  },
  {
   "cell_type": "markdown",
   "metadata": {},
   "source": [
    "#### Challenge 3\n",
    "\n",
    "Calculate the same metrics you did in challenge 1, but this time in a cross validation scheme with the `cross_val_score` function (like in Challenge 9)."
   ]
  },
  {
   "cell_type": "code",
   "execution_count": 170,
   "metadata": {},
   "outputs": [
    {
     "name": "stdout",
     "output_type": "stream",
     "text": [
      "accuracy:  0.9260293969596296\n",
      "precision:  0.9772334834834835\n",
      "recall:  0.9\n",
      "F1:  0.9364101244101244\n"
     ]
    }
   ],
   "source": [
    "from sklearn.cross_validation import cross_val_score\n",
    "\n",
    "#knn\n",
    "knn_cv = cross_val_score(knn, X, y, cv=10, scoring='accuracy')\n",
    "print(\"accuracy: \",knn_cv.mean())\n",
    "knn_cv = cross_val_score(knn,X_train,y_train,cv=5,scoring='precision')\n",
    "print(\"precision: \",knn_cv.mean())\n",
    "knn_cv = cross_val_score(knn,X_train,y_train,cv=5,scoring='recall')\n",
    "print(\"recall: \",knn_cv.mean())\n",
    "knn_cv = cross_val_score(knn,X_train,y_train,cv=5,scoring='f1')\n",
    "print(\"F1: \",knn_cv.mean())"
   ]
  },
  {
   "cell_type": "code",
   "execution_count": 171,
   "metadata": {},
   "outputs": [
    {
     "name": "stdout",
     "output_type": "stream",
     "text": [
      "accuracy:  0.9560656397865699\n",
      "precision:  0.9683991683991684\n",
      "recall:  0.9421052631578947\n",
      "F1:  0.9547938089307951\n"
     ]
    }
   ],
   "source": [
    "#logistic regression\n",
    "lm_cv = cross_val_score(lm, X, y, cv=10, scoring='accuracy')\n",
    "print(\"accuracy: \",lm_cv.mean())\n",
    "lm_cv = cross_val_score(lm,X_train,y_train,cv=5,scoring='precision')\n",
    "print(\"precision: \",lm_cv.mean())\n",
    "lm_cv = cross_val_score(lm,X_train,y_train,cv=5,scoring='recall')\n",
    "print(\"recall: \",lm_cv.mean())\n",
    "lm_cv = cross_val_score(lm,X_train,y_train,cv=5,scoring='f1')\n",
    "print(\"F1: \",lm_cv.mean())"
   ]
  },
  {
   "cell_type": "markdown",
   "metadata": {},
   "source": [
    "#### Challenge 4\n",
    "\n",
    "For your movie classifiers, calculate the precision and recall for each class."
   ]
  },
  {
   "cell_type": "code",
   "execution_count": 172,
   "metadata": {},
   "outputs": [],
   "source": [
    "movies_df = pd.read_csv('/Users/ariannabreslauer/Documents/dataScience/metis/bootcamp/nyc18_ds17/challenges/challenges_data/2013_movies.csv')"
   ]
  },
  {
   "cell_type": "code",
   "execution_count": 173,
   "metadata": {},
   "outputs": [],
   "source": [
    "movies_df = movies_df.dropna()"
   ]
  },
  {
   "cell_type": "code",
   "execution_count": 175,
   "metadata": {},
   "outputs": [],
   "source": [
    "movies_df = movies_df.replace({'R':3,'PG-13':2,'PG':1,\"G\":0})"
   ]
  },
  {
   "cell_type": "code",
   "execution_count": 176,
   "metadata": {},
   "outputs": [],
   "source": [
    "X = movies_df[['Budget','DomesticTotalGross','Runtime']]\n",
    "y = movies_df['Rating']"
   ]
  },
  {
   "cell_type": "code",
   "execution_count": 177,
   "metadata": {},
   "outputs": [
    {
     "data": {
      "text/html": [
       "<div>\n",
       "<style scoped>\n",
       "    .dataframe tbody tr th:only-of-type {\n",
       "        vertical-align: middle;\n",
       "    }\n",
       "\n",
       "    .dataframe tbody tr th {\n",
       "        vertical-align: top;\n",
       "    }\n",
       "\n",
       "    .dataframe thead th {\n",
       "        text-align: right;\n",
       "    }\n",
       "</style>\n",
       "<table border=\"1\" class=\"dataframe\">\n",
       "  <thead>\n",
       "    <tr style=\"text-align: right;\">\n",
       "      <th></th>\n",
       "      <th>Title</th>\n",
       "      <th>Budget</th>\n",
       "      <th>DomesticTotalGross</th>\n",
       "      <th>Director</th>\n",
       "      <th>Rating</th>\n",
       "      <th>Runtime</th>\n",
       "      <th>ReleaseDate</th>\n",
       "    </tr>\n",
       "  </thead>\n",
       "  <tbody>\n",
       "    <tr>\n",
       "      <th>0</th>\n",
       "      <td>The Hunger Games: Catching Fire</td>\n",
       "      <td>130000000.0</td>\n",
       "      <td>424668047</td>\n",
       "      <td>Francis Lawrence</td>\n",
       "      <td>2</td>\n",
       "      <td>146</td>\n",
       "      <td>2013-11-22 00:00:00</td>\n",
       "    </tr>\n",
       "    <tr>\n",
       "      <th>1</th>\n",
       "      <td>Iron Man 3</td>\n",
       "      <td>200000000.0</td>\n",
       "      <td>409013994</td>\n",
       "      <td>Shane Black</td>\n",
       "      <td>2</td>\n",
       "      <td>129</td>\n",
       "      <td>2013-05-03 00:00:00</td>\n",
       "    </tr>\n",
       "    <tr>\n",
       "      <th>2</th>\n",
       "      <td>Frozen</td>\n",
       "      <td>150000000.0</td>\n",
       "      <td>400738009</td>\n",
       "      <td>Chris BuckJennifer Lee</td>\n",
       "      <td>1</td>\n",
       "      <td>108</td>\n",
       "      <td>2013-11-22 00:00:00</td>\n",
       "    </tr>\n",
       "    <tr>\n",
       "      <th>3</th>\n",
       "      <td>Despicable Me 2</td>\n",
       "      <td>76000000.0</td>\n",
       "      <td>368061265</td>\n",
       "      <td>Pierre CoffinChris Renaud</td>\n",
       "      <td>1</td>\n",
       "      <td>98</td>\n",
       "      <td>2013-07-03 00:00:00</td>\n",
       "    </tr>\n",
       "    <tr>\n",
       "      <th>4</th>\n",
       "      <td>Man of Steel</td>\n",
       "      <td>225000000.0</td>\n",
       "      <td>291045518</td>\n",
       "      <td>Zack Snyder</td>\n",
       "      <td>2</td>\n",
       "      <td>143</td>\n",
       "      <td>2013-06-14 00:00:00</td>\n",
       "    </tr>\n",
       "  </tbody>\n",
       "</table>\n",
       "</div>"
      ],
      "text/plain": [
       "                             Title       Budget  DomesticTotalGross  \\\n",
       "0  The Hunger Games: Catching Fire  130000000.0           424668047   \n",
       "1                       Iron Man 3  200000000.0           409013994   \n",
       "2                           Frozen  150000000.0           400738009   \n",
       "3                  Despicable Me 2   76000000.0           368061265   \n",
       "4                     Man of Steel  225000000.0           291045518   \n",
       "\n",
       "                    Director  Rating  Runtime          ReleaseDate  \n",
       "0           Francis Lawrence       2      146  2013-11-22 00:00:00  \n",
       "1                Shane Black       2      129  2013-05-03 00:00:00  \n",
       "2     Chris BuckJennifer Lee       1      108  2013-11-22 00:00:00  \n",
       "3  Pierre CoffinChris Renaud       1       98  2013-07-03 00:00:00  \n",
       "4                Zack Snyder       2      143  2013-06-14 00:00:00  "
      ]
     },
     "execution_count": 177,
     "metadata": {},
     "output_type": "execute_result"
    }
   ],
   "source": [
    "movies_df.head()"
   ]
  },
  {
   "cell_type": "code",
   "execution_count": 178,
   "metadata": {},
   "outputs": [],
   "source": [
    "#hold out 30% of the data for final testing\n",
    "X_train, X_test, y_train, y_test = train_test_split(X, y, test_size=.3, random_state=4444) "
   ]
  },
  {
   "cell_type": "code",
   "execution_count": 181,
   "metadata": {},
   "outputs": [
    {
     "name": "stdout",
     "output_type": "stream",
     "text": [
      "Logistic regression validation metrics: \n",
      " Precision: nan \n",
      " Recall: nan\n"
     ]
    },
    {
     "name": "stderr",
     "output_type": "stream",
     "text": [
      "/Users/ariannabreslauer/anaconda3/lib/python3.6/site-packages/ipykernel_launcher.py:7: RuntimeWarning: invalid value encountered in long_scalars\n",
      "  import sys\n",
      "/Users/ariannabreslauer/anaconda3/lib/python3.6/site-packages/ipykernel_launcher.py:12: RuntimeWarning: invalid value encountered in long_scalars\n",
      "  if sys.path[0] == '':\n"
     ]
    }
   ],
   "source": [
    "#logistic regression\n",
    "lm = LogisticRegression(C=100000)\n",
    "lm.fit(X_train, y_train)\n",
    "y_pred = lm.predict(X_test)\n",
    "print('Logistic regression validation metrics: \\n Precision: %.4f \\n Recall: %.4f' %\n",
    "        (precision(actuals=y_test, preds=lm.predict(X_test)), \n",
    "         recall(actuals=y_test, preds=lm.predict(X_test))\n",
    "        )\n",
    "     )"
   ]
  },
  {
   "cell_type": "code",
   "execution_count": 182,
   "metadata": {},
   "outputs": [
    {
     "name": "stdout",
     "output_type": "stream",
     "text": [
      "KNN with 10 neighbours validation metrics: \n",
      " Precision: nan \n",
      " Recall: nan\n"
     ]
    },
    {
     "name": "stderr",
     "output_type": "stream",
     "text": [
      "/Users/ariannabreslauer/anaconda3/lib/python3.6/site-packages/ipykernel_launcher.py:7: RuntimeWarning: invalid value encountered in long_scalars\n",
      "  import sys\n",
      "/Users/ariannabreslauer/anaconda3/lib/python3.6/site-packages/ipykernel_launcher.py:12: RuntimeWarning: invalid value encountered in long_scalars\n",
      "  if sys.path[0] == '':\n"
     ]
    }
   ],
   "source": [
    "#knn\n",
    "knn = KNeighborsClassifier(n_neighbors=5)\n",
    "knn.fit(X_train, y_train)\n",
    "print('KNN with 10 neighbours validation metrics: \\n Precision: %.4f \\n Recall: %.4f' %\n",
    "        (precision(actuals=y_test, preds=knn.predict(X_test)), \n",
    "         recall(actuals=y_test, preds=knn.predict(X_test))\n",
    "        )\n",
    "     )"
   ]
  },
  {
   "cell_type": "markdown",
   "metadata": {},
   "source": [
    "#### Challenge 5\n",
    "\n",
    "Draw the ROC curve (and calculate AUC) for the logistic regression classifier from challenge 12."
   ]
  },
  {
   "cell_type": "code",
   "execution_count": 183,
   "metadata": {},
   "outputs": [
    {
     "data": {
      "text/html": [
       "<div>\n",
       "<style scoped>\n",
       "    .dataframe tbody tr th:only-of-type {\n",
       "        vertical-align: middle;\n",
       "    }\n",
       "\n",
       "    .dataframe tbody tr th {\n",
       "        vertical-align: top;\n",
       "    }\n",
       "\n",
       "    .dataframe thead th {\n",
       "        text-align: right;\n",
       "    }\n",
       "</style>\n",
       "<table border=\"1\" class=\"dataframe\">\n",
       "  <thead>\n",
       "    <tr style=\"text-align: right;\">\n",
       "      <th></th>\n",
       "      <th>0</th>\n",
       "      <th>1</th>\n",
       "      <th>2</th>\n",
       "      <th>3</th>\n",
       "    </tr>\n",
       "  </thead>\n",
       "  <tbody>\n",
       "    <tr>\n",
       "      <th>0</th>\n",
       "      <td>30</td>\n",
       "      <td>64</td>\n",
       "      <td>1</td>\n",
       "      <td>1</td>\n",
       "    </tr>\n",
       "    <tr>\n",
       "      <th>1</th>\n",
       "      <td>30</td>\n",
       "      <td>62</td>\n",
       "      <td>3</td>\n",
       "      <td>1</td>\n",
       "    </tr>\n",
       "    <tr>\n",
       "      <th>2</th>\n",
       "      <td>30</td>\n",
       "      <td>65</td>\n",
       "      <td>0</td>\n",
       "      <td>1</td>\n",
       "    </tr>\n",
       "    <tr>\n",
       "      <th>3</th>\n",
       "      <td>31</td>\n",
       "      <td>59</td>\n",
       "      <td>2</td>\n",
       "      <td>1</td>\n",
       "    </tr>\n",
       "    <tr>\n",
       "      <th>4</th>\n",
       "      <td>31</td>\n",
       "      <td>65</td>\n",
       "      <td>4</td>\n",
       "      <td>1</td>\n",
       "    </tr>\n",
       "  </tbody>\n",
       "</table>\n",
       "</div>"
      ],
      "text/plain": [
       "    0   1  2  3\n",
       "0  30  64  1  1\n",
       "1  30  62  3  1\n",
       "2  30  65  0  1\n",
       "3  31  59  2  1\n",
       "4  31  65  4  1"
      ]
     },
     "execution_count": 183,
     "metadata": {},
     "output_type": "execute_result"
    }
   ],
   "source": [
    "breast_cancer_data_df = pd.read_csv(\"/Users/ariannabreslauer/Documents/dataScience/metis/bootcamp/nyc18_ds17/challenges/challenges_data/haberman.data\",header=None)\n",
    "breast_cancer_data_df.head()"
   ]
  },
  {
   "cell_type": "code",
   "execution_count": 184,
   "metadata": {},
   "outputs": [],
   "source": [
    "breast_cancer_data_df = breast_cancer_data_df.rename({0:'age',1:'surgery_year',2:'nodes',3:'survival_status'},axis=1)"
   ]
  },
  {
   "cell_type": "code",
   "execution_count": 185,
   "metadata": {},
   "outputs": [],
   "source": [
    "breast_cancer_data_df[\"survival_status\"] = breast_cancer_data_df[\"survival_status\"].apply(lambda x: x-1)"
   ]
  },
  {
   "cell_type": "code",
   "execution_count": 186,
   "metadata": {},
   "outputs": [
    {
     "data": {
      "text/html": [
       "<div>\n",
       "<style scoped>\n",
       "    .dataframe tbody tr th:only-of-type {\n",
       "        vertical-align: middle;\n",
       "    }\n",
       "\n",
       "    .dataframe tbody tr th {\n",
       "        vertical-align: top;\n",
       "    }\n",
       "\n",
       "    .dataframe thead th {\n",
       "        text-align: right;\n",
       "    }\n",
       "</style>\n",
       "<table border=\"1\" class=\"dataframe\">\n",
       "  <thead>\n",
       "    <tr style=\"text-align: right;\">\n",
       "      <th></th>\n",
       "      <th>age</th>\n",
       "      <th>surgery_year</th>\n",
       "      <th>nodes</th>\n",
       "      <th>survival_status</th>\n",
       "    </tr>\n",
       "  </thead>\n",
       "  <tbody>\n",
       "    <tr>\n",
       "      <th>0</th>\n",
       "      <td>30</td>\n",
       "      <td>64</td>\n",
       "      <td>1</td>\n",
       "      <td>0</td>\n",
       "    </tr>\n",
       "    <tr>\n",
       "      <th>1</th>\n",
       "      <td>30</td>\n",
       "      <td>62</td>\n",
       "      <td>3</td>\n",
       "      <td>0</td>\n",
       "    </tr>\n",
       "    <tr>\n",
       "      <th>2</th>\n",
       "      <td>30</td>\n",
       "      <td>65</td>\n",
       "      <td>0</td>\n",
       "      <td>0</td>\n",
       "    </tr>\n",
       "    <tr>\n",
       "      <th>3</th>\n",
       "      <td>31</td>\n",
       "      <td>59</td>\n",
       "      <td>2</td>\n",
       "      <td>0</td>\n",
       "    </tr>\n",
       "    <tr>\n",
       "      <th>4</th>\n",
       "      <td>31</td>\n",
       "      <td>65</td>\n",
       "      <td>4</td>\n",
       "      <td>0</td>\n",
       "    </tr>\n",
       "  </tbody>\n",
       "</table>\n",
       "</div>"
      ],
      "text/plain": [
       "   age  surgery_year  nodes  survival_status\n",
       "0   30            64      1                0\n",
       "1   30            62      3                0\n",
       "2   30            65      0                0\n",
       "3   31            59      2                0\n",
       "4   31            65      4                0"
      ]
     },
     "execution_count": 186,
     "metadata": {},
     "output_type": "execute_result"
    }
   ],
   "source": [
    "breast_cancer_data_df.head()"
   ]
  },
  {
   "cell_type": "code",
   "execution_count": 187,
   "metadata": {},
   "outputs": [],
   "source": [
    "X = breast_cancer_data_df[[\"age\",\"surgery_year\",\"nodes\"]]\n",
    "y = breast_cancer_data_df[\"survival_status\"]"
   ]
  },
  {
   "cell_type": "code",
   "execution_count": 188,
   "metadata": {},
   "outputs": [],
   "source": [
    "#hold out 25% of the data for final testing\n",
    "X_train, X_test, y_train, y_test = train_test_split(X, y, test_size=.3, random_state=4444) "
   ]
  },
  {
   "cell_type": "code",
   "execution_count": 192,
   "metadata": {},
   "outputs": [
    {
     "name": "stdout",
     "output_type": "stream",
     "text": [
      "0.837\n"
     ]
    }
   ],
   "source": [
    "lm = LogisticRegression(C=100000)\n",
    "lm.fit(X_train,y_train)\n",
    "y_pred_lm = lm.predict(X_test)\n",
    "lm_score = round(accuracy_score(y_test, y_pred_lm),4)\n",
    "print(lm_score)"
   ]
  },
  {
   "cell_type": "code",
   "execution_count": 191,
   "metadata": {},
   "outputs": [
    {
     "data": {
      "text/plain": [
       "<matplotlib.legend.Legend at 0x1a1bbc6128>"
      ]
     },
     "execution_count": 191,
     "metadata": {},
     "output_type": "execute_result"
    },
    {
     "data": {
      "image/png": "[encoded data removed]",
      "text/plain": [
       "<Figure size 432x288 with 1 Axes>"
      ]
     },
     "metadata": {},
     "output_type": "display_data"
    }
   ],
   "source": [
    "fpr, tpr, _ = roc_curve(y_test, lm.predict_proba(X_test)[:,1])\n",
    "plt.plot(fpr, tpr)\n",
    "\n",
    "x = np.linspace(0,1, 100000)\n",
    "plt.plot(x, x, linestyle='--')\n",
    "\n",
    "plt.title('ROC Curve')\n",
    "plt.xlabel('False Positive Rate')\n",
    "plt.ylabel('True Positive Rate')\n",
    "plt.legend(['Logistic'])"
   ]
  },
  {
   "cell_type": "code",
   "execution_count": null,
   "metadata": {},
   "outputs": [],
   "source": []
  }
 ],
 "metadata": {
  "kernelspec": {
   "display_name": "Python 3",
   "language": "python",
   "name": "python3"
  },
  "language_info": {
   "codemirror_mode": {
    "name": "ipython",
    "version": 3
   },
   "file_extension": ".py",
   "mimetype": "text/x-python",
   "name": "python",
   "nbconvert_exporter": "python",
   "pygments_lexer": "ipython3",
   "version": "3.6.5"
  }
 },
 "nbformat": 4,
 "nbformat_minor": 2
}
