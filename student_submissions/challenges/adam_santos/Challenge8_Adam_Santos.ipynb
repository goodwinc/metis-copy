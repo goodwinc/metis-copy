{
 "cells": [
  {
   "cell_type": "markdown",
   "metadata": {},
   "source": [
    "### Classification Error Metric Challenges\n",
    "\n",
    "**Settings:  Where applicable, use test_size=0.30, random_state=4444.  This will permit comparison of results across users.\n",
    "\n",
    "*These reference the Classification Challenges.*"
   ]
  },
  {
   "cell_type": "code",
   "execution_count": 20,
   "metadata": {},
   "outputs": [],
   "source": [
    "import pandas as pd\n",
    "import numpy as np\n",
    "import matplotlib.pyplot as plt\n",
    "%matplotlib inline"
   ]
  },
  {
   "cell_type": "markdown",
   "metadata": {},
   "source": [
    "#### Challenge 1\n",
    "\n",
    "For the house representatives data set, calculate the accuracy, precision, recall and f1 scores of each classifier you built (on the test set)."
   ]
  },
  {
   "cell_type": "code",
   "execution_count": 21,
   "metadata": {},
   "outputs": [],
   "source": [
    "datafile = '/Users/adamsantos/ds/metis/metisgh/nyc18_ds17/challenges/challenges_data/house-votes-84.data'\n",
    "df = pd.read_csv(datafile,sep=',', header=None)\n",
    "df = df.replace('n',0)\n",
    "df = df.replace('y',1)"
   ]
  },
  {
   "cell_type": "code",
   "execution_count": 22,
   "metadata": {},
   "outputs": [],
   "source": [
    "df = df.replace('?',df.mean(axis='columns'))"
   ]
  },
  {
   "cell_type": "code",
   "execution_count": 23,
   "metadata": {},
   "outputs": [
    {
     "data": {
      "text/html": [
       "<div>\n",
       "<style scoped>\n",
       "    .dataframe tbody tr th:only-of-type {\n",
       "        vertical-align: middle;\n",
       "    }\n",
       "\n",
       "    .dataframe tbody tr th {\n",
       "        vertical-align: top;\n",
       "    }\n",
       "\n",
       "    .dataframe thead th {\n",
       "        text-align: right;\n",
       "    }\n",
       "</style>\n",
       "<table border=\"1\" class=\"dataframe\">\n",
       "  <thead>\n",
       "    <tr style=\"text-align: right;\">\n",
       "      <th></th>\n",
       "      <th>0</th>\n",
       "      <th>1</th>\n",
       "      <th>2</th>\n",
       "      <th>3</th>\n",
       "      <th>4</th>\n",
       "      <th>5</th>\n",
       "      <th>6</th>\n",
       "      <th>7</th>\n",
       "      <th>8</th>\n",
       "      <th>9</th>\n",
       "      <th>10</th>\n",
       "      <th>11</th>\n",
       "      <th>12</th>\n",
       "      <th>13</th>\n",
       "      <th>14</th>\n",
       "      <th>15</th>\n",
       "      <th>16</th>\n",
       "    </tr>\n",
       "  </thead>\n",
       "  <tbody>\n",
       "    <tr>\n",
       "      <th>0</th>\n",
       "      <td>0.00000</td>\n",
       "      <td>1.0</td>\n",
       "      <td>0.0</td>\n",
       "      <td>1.000000</td>\n",
       "      <td>1.000000</td>\n",
       "      <td>1.0</td>\n",
       "      <td>0.0</td>\n",
       "      <td>0.0</td>\n",
       "      <td>0.0</td>\n",
       "      <td>1.0</td>\n",
       "      <td>0.362319</td>\n",
       "      <td>1.000000</td>\n",
       "      <td>1.000000</td>\n",
       "      <td>1.0</td>\n",
       "      <td>0.000000</td>\n",
       "      <td>1.000000</td>\n",
       "      <td>republican.</td>\n",
       "    </tr>\n",
       "    <tr>\n",
       "      <th>1</th>\n",
       "      <td>0.00000</td>\n",
       "      <td>1.0</td>\n",
       "      <td>0.0</td>\n",
       "      <td>1.000000</td>\n",
       "      <td>1.000000</td>\n",
       "      <td>1.0</td>\n",
       "      <td>0.0</td>\n",
       "      <td>0.0</td>\n",
       "      <td>0.0</td>\n",
       "      <td>0.0</td>\n",
       "      <td>0.000000</td>\n",
       "      <td>1.000000</td>\n",
       "      <td>1.000000</td>\n",
       "      <td>1.0</td>\n",
       "      <td>0.000000</td>\n",
       "      <td>0.812689</td>\n",
       "      <td>republican.</td>\n",
       "    </tr>\n",
       "    <tr>\n",
       "      <th>2</th>\n",
       "      <td>0.44208</td>\n",
       "      <td>1.0</td>\n",
       "      <td>1.0</td>\n",
       "      <td>0.417453</td>\n",
       "      <td>1.000000</td>\n",
       "      <td>1.0</td>\n",
       "      <td>0.0</td>\n",
       "      <td>0.0</td>\n",
       "      <td>0.0</td>\n",
       "      <td>0.0</td>\n",
       "      <td>1.000000</td>\n",
       "      <td>0.000000</td>\n",
       "      <td>1.000000</td>\n",
       "      <td>1.0</td>\n",
       "      <td>0.000000</td>\n",
       "      <td>0.000000</td>\n",
       "      <td>democrat.</td>\n",
       "    </tr>\n",
       "    <tr>\n",
       "      <th>3</th>\n",
       "      <td>0.00000</td>\n",
       "      <td>1.0</td>\n",
       "      <td>1.0</td>\n",
       "      <td>0.000000</td>\n",
       "      <td>0.504762</td>\n",
       "      <td>1.0</td>\n",
       "      <td>0.0</td>\n",
       "      <td>0.0</td>\n",
       "      <td>0.0</td>\n",
       "      <td>0.0</td>\n",
       "      <td>1.000000</td>\n",
       "      <td>0.000000</td>\n",
       "      <td>1.000000</td>\n",
       "      <td>0.0</td>\n",
       "      <td>0.000000</td>\n",
       "      <td>1.000000</td>\n",
       "      <td>democrat.</td>\n",
       "    </tr>\n",
       "    <tr>\n",
       "      <th>4</th>\n",
       "      <td>1.00000</td>\n",
       "      <td>1.0</td>\n",
       "      <td>1.0</td>\n",
       "      <td>0.000000</td>\n",
       "      <td>1.000000</td>\n",
       "      <td>1.0</td>\n",
       "      <td>0.0</td>\n",
       "      <td>0.0</td>\n",
       "      <td>0.0</td>\n",
       "      <td>0.0</td>\n",
       "      <td>1.000000</td>\n",
       "      <td>0.423267</td>\n",
       "      <td>1.000000</td>\n",
       "      <td>1.0</td>\n",
       "      <td>1.000000</td>\n",
       "      <td>1.000000</td>\n",
       "      <td>democrat.</td>\n",
       "    </tr>\n",
       "    <tr>\n",
       "      <th>5</th>\n",
       "      <td>0.00000</td>\n",
       "      <td>1.0</td>\n",
       "      <td>1.0</td>\n",
       "      <td>0.000000</td>\n",
       "      <td>1.000000</td>\n",
       "      <td>1.0</td>\n",
       "      <td>0.0</td>\n",
       "      <td>0.0</td>\n",
       "      <td>0.0</td>\n",
       "      <td>0.0</td>\n",
       "      <td>0.000000</td>\n",
       "      <td>0.000000</td>\n",
       "      <td>1.000000</td>\n",
       "      <td>1.0</td>\n",
       "      <td>1.000000</td>\n",
       "      <td>1.000000</td>\n",
       "      <td>democrat.</td>\n",
       "    </tr>\n",
       "    <tr>\n",
       "      <th>6</th>\n",
       "      <td>0.00000</td>\n",
       "      <td>1.0</td>\n",
       "      <td>0.0</td>\n",
       "      <td>1.000000</td>\n",
       "      <td>1.000000</td>\n",
       "      <td>1.0</td>\n",
       "      <td>0.0</td>\n",
       "      <td>0.0</td>\n",
       "      <td>0.0</td>\n",
       "      <td>0.0</td>\n",
       "      <td>0.000000</td>\n",
       "      <td>0.000000</td>\n",
       "      <td>0.509756</td>\n",
       "      <td>1.0</td>\n",
       "      <td>1.000000</td>\n",
       "      <td>1.000000</td>\n",
       "      <td>democrat.</td>\n",
       "    </tr>\n",
       "    <tr>\n",
       "      <th>7</th>\n",
       "      <td>0.00000</td>\n",
       "      <td>1.0</td>\n",
       "      <td>0.0</td>\n",
       "      <td>1.000000</td>\n",
       "      <td>1.000000</td>\n",
       "      <td>1.0</td>\n",
       "      <td>0.0</td>\n",
       "      <td>0.0</td>\n",
       "      <td>0.0</td>\n",
       "      <td>0.0</td>\n",
       "      <td>0.000000</td>\n",
       "      <td>0.000000</td>\n",
       "      <td>1.000000</td>\n",
       "      <td>1.0</td>\n",
       "      <td>0.427518</td>\n",
       "      <td>1.000000</td>\n",
       "      <td>republican</td>\n",
       "    </tr>\n",
       "    <tr>\n",
       "      <th>8</th>\n",
       "      <td>0.00000</td>\n",
       "      <td>1.0</td>\n",
       "      <td>0.0</td>\n",
       "      <td>1.000000</td>\n",
       "      <td>1.000000</td>\n",
       "      <td>1.0</td>\n",
       "      <td>0.0</td>\n",
       "      <td>0.0</td>\n",
       "      <td>0.0</td>\n",
       "      <td>0.0</td>\n",
       "      <td>0.000000</td>\n",
       "      <td>1.000000</td>\n",
       "      <td>1.000000</td>\n",
       "      <td>1.0</td>\n",
       "      <td>0.000000</td>\n",
       "      <td>1.000000</td>\n",
       "      <td>republican</td>\n",
       "    </tr>\n",
       "    <tr>\n",
       "      <th>9</th>\n",
       "      <td>1.00000</td>\n",
       "      <td>1.0</td>\n",
       "      <td>1.0</td>\n",
       "      <td>0.000000</td>\n",
       "      <td>0.000000</td>\n",
       "      <td>0.0</td>\n",
       "      <td>1.0</td>\n",
       "      <td>1.0</td>\n",
       "      <td>1.0</td>\n",
       "      <td>0.0</td>\n",
       "      <td>0.000000</td>\n",
       "      <td>0.000000</td>\n",
       "      <td>0.000000</td>\n",
       "      <td>0.0</td>\n",
       "      <td>0.427518</td>\n",
       "      <td>0.812689</td>\n",
       "      <td>democrat</td>\n",
       "    </tr>\n",
       "  </tbody>\n",
       "</table>\n",
       "</div>"
      ],
      "text/plain": [
       "        0    1    2         3         4    5    6    7    8    9         10  \\\n",
       "0  0.00000  1.0  0.0  1.000000  1.000000  1.0  0.0  0.0  0.0  1.0  0.362319   \n",
       "1  0.00000  1.0  0.0  1.000000  1.000000  1.0  0.0  0.0  0.0  0.0  0.000000   \n",
       "2  0.44208  1.0  1.0  0.417453  1.000000  1.0  0.0  0.0  0.0  0.0  1.000000   \n",
       "3  0.00000  1.0  1.0  0.000000  0.504762  1.0  0.0  0.0  0.0  0.0  1.000000   \n",
       "4  1.00000  1.0  1.0  0.000000  1.000000  1.0  0.0  0.0  0.0  0.0  1.000000   \n",
       "5  0.00000  1.0  1.0  0.000000  1.000000  1.0  0.0  0.0  0.0  0.0  0.000000   \n",
       "6  0.00000  1.0  0.0  1.000000  1.000000  1.0  0.0  0.0  0.0  0.0  0.000000   \n",
       "7  0.00000  1.0  0.0  1.000000  1.000000  1.0  0.0  0.0  0.0  0.0  0.000000   \n",
       "8  0.00000  1.0  0.0  1.000000  1.000000  1.0  0.0  0.0  0.0  0.0  0.000000   \n",
       "9  1.00000  1.0  1.0  0.000000  0.000000  0.0  1.0  1.0  1.0  0.0  0.000000   \n",
       "\n",
       "         11        12   13        14        15           16  \n",
       "0  1.000000  1.000000  1.0  0.000000  1.000000  republican.  \n",
       "1  1.000000  1.000000  1.0  0.000000  0.812689  republican.  \n",
       "2  0.000000  1.000000  1.0  0.000000  0.000000    democrat.  \n",
       "3  0.000000  1.000000  0.0  0.000000  1.000000    democrat.  \n",
       "4  0.423267  1.000000  1.0  1.000000  1.000000    democrat.  \n",
       "5  0.000000  1.000000  1.0  1.000000  1.000000    democrat.  \n",
       "6  0.000000  0.509756  1.0  1.000000  1.000000    democrat.  \n",
       "7  0.000000  1.000000  1.0  0.427518  1.000000   republican  \n",
       "8  1.000000  1.000000  1.0  0.000000  1.000000   republican  \n",
       "9  0.000000  0.000000  0.0  0.427518  0.812689     democrat  "
      ]
     },
     "execution_count": 23,
     "metadata": {},
     "output_type": "execute_result"
    }
   ],
   "source": [
    "df=df.fillna(df.mean())\n",
    "df.head(10)"
   ]
  },
  {
   "cell_type": "code",
   "execution_count": 24,
   "metadata": {},
   "outputs": [],
   "source": [
    "df[16] = df[16].map(lambda x: x.rstrip('.'))"
   ]
  },
  {
   "cell_type": "code",
   "execution_count": 25,
   "metadata": {},
   "outputs": [
    {
     "data": {
      "text/plain": [
       "democrat      267\n",
       "republican    168\n",
       "Name: 16, dtype: int64"
      ]
     },
     "execution_count": 25,
     "metadata": {},
     "output_type": "execute_result"
    }
   ],
   "source": [
    "df[16].value_counts()"
   ]
  },
  {
   "cell_type": "code",
   "execution_count": 26,
   "metadata": {},
   "outputs": [],
   "source": [
    "from sklearn.cross_validation import train_test_split\n",
    "\n",
    "X = df.drop(16, axis=1)\n",
    "y = df[16]\n",
    "\n",
    "X_train, X_test, y_train, y_test = train_test_split(X, y, test_size=0.3,random_state=4444)"
   ]
  },
  {
   "cell_type": "code",
   "execution_count": 46,
   "metadata": {},
   "outputs": [
    {
     "data": {
      "text/plain": [
       "'republican'"
      ]
     },
     "execution_count": 46,
     "metadata": {},
     "output_type": "execute_result"
    }
   ],
   "source": [
    "y_pred_lr = pd.Series(y_pred_lr)\n",
    "y_pred_lr[1]"
   ]
  },
  {
   "cell_type": "code",
   "execution_count": 51,
   "metadata": {},
   "outputs": [
    {
     "name": "stdout",
     "output_type": "stream",
     "text": [
      "Logistic Accuracy: 0.9389312977099237\n",
      "Logistic Recall: 0.974025974025974\n",
      "Logistic Precision: 0.9259259259259259\n",
      "Logistic F1: 0.949367088607595\n"
     ]
    }
   ],
   "source": [
    "from sklearn.linear_model import LogisticRegression\n",
    "from sklearn.neighbors import KNeighborsClassifier\n",
    "from sklearn.metrics import accuracy_score,precision_score, recall_score, accuracy_score, roc_auc_score, f1_score, roc_curve\n",
    "\n",
    "lr = LogisticRegression()\n",
    "lr.fit(X_train,y_train)\n",
    "y_pred_lr = lr.predict(X_test)\n",
    "\n",
    "print(\"Logistic Accuracy: \"+str(accuracy_score(y_test, y_pred_lr)))\n",
    "print(\"Logistic Recall: \"+str(recall_score(y_test, y_pred_lr,pos_label='democrat')))\n",
    "print(\"Logistic Precision: \"+str(precision_score(y_test, y_pred_lr,pos_label='democrat')))\n",
    "print(\"Logistic F1: \"+str(f1_score(y_test, y_pred_lr,pos_label='democrat')))\n",
    "\n"
   ]
  },
  {
   "cell_type": "code",
   "execution_count": 50,
   "metadata": {},
   "outputs": [
    {
     "name": "stdout",
     "output_type": "stream",
     "text": [
      "KNN Accuracy: 0.9007633587786259\n",
      "KNN Recall: 0.922077922077922\n",
      "KNN Precision: 0.9102564102564102\n",
      "KNN F1: 0.9161290322580644\n"
     ]
    }
   ],
   "source": [
    "knn = KNeighborsClassifier(n_neighbors=3)\n",
    "knn.fit(X_train,y_train)\n",
    "y_pred_knn = knn.predict(X_test)\n",
    "\n",
    "print(\"KNN Accuracy: \"+str(accuracy_score(y_test, y_pred_knn)))\n",
    "print(\"KNN Recall: \"+str(recall_score(y_test, y_pred_knn,pos_label='democrat')))\n",
    "print(\"KNN Precision: \"+str(precision_score(y_test, y_pred_knn,pos_label='democrat')))\n",
    "print(\"KNN F1: \"+str(f1_score(y_test, y_pred_knn,pos_label='democrat')))"
   ]
  },
  {
   "cell_type": "markdown",
   "metadata": {},
   "source": [
    "#### Challenge 2\n",
    "\n",
    "For each, draw the ROC curve and calculate the AUC.\n",
    "\n",
    "\n"
   ]
  },
  {
   "cell_type": "code",
   "execution_count": 76,
   "metadata": {},
   "outputs": [
    {
     "name": "stdout",
     "output_type": "stream",
     "text": [
      "AUC LR: 0.9877344877344877\n",
      "AUC KNN: 0.945887445887446\n"
     ]
    },
    {
     "data": {
      "image/png": "[encoded data removed]",
      "text/plain": [
       "<Figure size 432x288 with 1 Axes>"
      ]
     },
     "metadata": {},
     "output_type": "display_data"
    }
   ],
   "source": [
    "y_predictprob_lr = lr.predict_proba(X_test)\n",
    "y_predictprob_knn = knn.predict_proba(X_test)\n",
    "\n",
    "fpr_lr, tpr_lr, thresholds = roc_curve(y_test, y_predictprob_lr[:, 0], pos_label='democrat')\n",
    "fpr_knn, tpr_knn, thresholds = roc_curve(y_test, y_predictprob_knn[:, 0], pos_label='democrat')\n",
    "\n",
    "plt.plot(fpr_lr, tpr_lr)\n",
    "plt.plot(fpr_knn, tpr_knn)\n",
    "\n",
    "c = (y_test == 'democrat').astype(int)\n",
    "\n",
    "print(\"AUC LR: \"+ str(roc_auc_score(c, y_predictprob_lr[:, 0])))\n",
    "print(\"AUC KNN: \"+ str(roc_auc_score(c, y_predictprob_knn[:, 0])))\n",
    "\n",
    "#roc_auc_score(c,y_predictprob_lr[:, 0] )\n"
   ]
  },
  {
   "cell_type": "markdown",
   "metadata": {},
   "source": [
    "#### Challenge 3\n",
    "\n",
    "Calculate the same metrics you did in challenge 1, but this time in a cross validation scheme with the `cross_val_score` function (like in Challenge 9).\n",
    "\n",
    "\n"
   ]
  },
  {
   "cell_type": "code",
   "execution_count": 89,
   "metadata": {},
   "outputs": [
    {
     "name": "stdout",
     "output_type": "stream",
     "text": [
      "Logistic Recall: 0.9624737945492662\n",
      "Logistic Precision: 0.9698715754645673\n",
      "Logistic Fl: 0.9657243730893548\n"
     ]
    }
   ],
   "source": [
    "from sklearn.cross_validation import cross_val_score\n",
    "\n",
    "d = (y == 'democrat').astype(int)\n",
    "\n",
    "lr_recall = cross_val_score(lr, X, d, cv=5, scoring='recall')\n",
    "test = np.mean(lr_recall, axis=0)\n",
    "print('Logistic Recall: '+str(test))\n",
    "lr_precision = cross_val_score(lr, X, d, cv=5, scoring='precision')\n",
    "test1 = np.mean(lr_precision, axis=0)\n",
    "print('Logistic Precision: '+str(test1))\n",
    "lr_f1 = cross_val_score(lr, X, d, cv=5, scoring='f1')\n",
    "test2 = np.mean(lr_f1, axis=0)\n",
    "print('Logistic Fl: '+str(test2))\n"
   ]
  },
  {
   "cell_type": "code",
   "execution_count": 90,
   "metadata": {},
   "outputs": [
    {
     "name": "stdout",
     "output_type": "stream",
     "text": [
      "KNN Recall: 0.9253668763102724\n",
      "KNN Precision: 0.9658574647697844\n",
      "KNN Fl: 0.9439294488827199\n"
     ]
    }
   ],
   "source": [
    "d = (y == 'democrat').astype(int)\n",
    "\n",
    "lr_recall = cross_val_score(knn, X, d, cv=5, scoring='recall')\n",
    "test = np.mean(lr_recall, axis=0)\n",
    "print('KNN Recall: '+str(test))\n",
    "lr_precision = cross_val_score(knn, X, d, cv=5, scoring='precision')\n",
    "test1 = np.mean(lr_precision, axis=0)\n",
    "print('KNN Precision: '+str(test1))\n",
    "lr_f1 = cross_val_score(knn, X, d, cv=5, scoring='f1')\n",
    "test2 = np.mean(lr_f1, axis=0)\n",
    "print('KNN Fl: '+str(test2))"
   ]
  },
  {
   "cell_type": "markdown",
   "metadata": {},
   "source": [
    "#### Challenge 4\n",
    "\n",
    "For your movie classifiers, calculate the precision and recall for each class.\n",
    "\n",
    "\n"
   ]
  },
  {
   "cell_type": "code",
   "execution_count": 94,
   "metadata": {},
   "outputs": [],
   "source": [
    "datafile = '/Users/adamsantos/ds/metis/metisgh/nyc18_ds17/challenges/challenges_data/2013_movies.csv'\n",
    "\n",
    "df_movies = pd.read_csv(datafile,sep=',')\n",
    "dums2 = pd.get_dummies(df_movies['Director'])\n",
    "\n",
    "df_movies = df_movies.merge(dums2, how='outer', left_index=True, right_index=True)\n",
    "df_movies=df_movies.dropna(axis='rows')"
   ]
  },
  {
   "cell_type": "code",
   "execution_count": 95,
   "metadata": {},
   "outputs": [],
   "source": [
    "X_movies = df_movies.drop([\"Rating\",'ReleaseDate','Title','Director'],axis=1)\n",
    "y_movies = df_movies['Rating']\n",
    "\n",
    "X_train, X_test, y_train, y_test = train_test_split(X_movies, y_movies, test_size=0.2,random_state=42)"
   ]
  },
  {
   "cell_type": "code",
   "execution_count": 97,
   "metadata": {},
   "outputs": [],
   "source": [
    "knn_movies = KNeighborsClassifier(n_neighbors=10)\n",
    "lr_movies = LogisticRegression()\n",
    "\n",
    "knn_movies.fit(X_train,y_train)\n",
    "lr_movies.fit(X_train,y_train)\n",
    "y_knns=knn_movies.predict(X_test)\n",
    "y_lrs=lr_movies.predict(X_test)"
   ]
  },
  {
   "cell_type": "code",
   "execution_count": 99,
   "metadata": {},
   "outputs": [
    {
     "name": "stdout",
     "output_type": "stream",
     "text": [
      "Logistic Recall: 0.5555555555555556\n",
      "Logistic Precision: 0.5555555555555556\n",
      "KNN Recall: 0.7777777777777778\n",
      "KNN Precision: 0.7777777777777778\n"
     ]
    }
   ],
   "source": [
    "print(\"Logistic Recall: \"+str(recall_score(y_test, y_lrs, average='micro')))\n",
    "print(\"Logistic Precision: \"+str(precision_score(y_test, y_lrs,average='micro')))\n",
    "\n",
    "print(\"KNN Recall: \"+str(recall_score(y_test, y_knns,average='micro')))\n",
    "print(\"KNN Precision: \"+str(precision_score(y_test, y_knns,average='micro')))"
   ]
  },
  {
   "cell_type": "markdown",
   "metadata": {},
   "source": [
    "#### Challenge 5\n",
    "\n",
    "Draw the ROC curve (and calculate AUC) for the logistic regression classifier from challenge 12."
   ]
  },
  {
   "cell_type": "code",
   "execution_count": 100,
   "metadata": {},
   "outputs": [],
   "source": [
    "datafile = '/Users/adamsantos/ds/metis/metisgh/nyc18_ds17/challenges/challenges_data/haberman.data'\n",
    "\n",
    "df_cancer = pd.read_csv(datafile,sep=',', header=None)\n",
    "df_cancer.columns=['Age','Year','Nodes','Survive?']"
   ]
  },
  {
   "cell_type": "code",
   "execution_count": 101,
   "metadata": {},
   "outputs": [],
   "source": [
    "lr_cancer = LogisticRegression()\n",
    "X_cancer = df_cancer.drop('Survive?',axis=1)\n",
    "y_cancer = df_cancer['Survive?']\n",
    "\n",
    "X_train, X_test, y_train, y_test = train_test_split(X_cancer, y_cancer, test_size=0.2,random_state=42)"
   ]
  },
  {
   "cell_type": "code",
   "execution_count": 109,
   "metadata": {},
   "outputs": [
    {
     "data": {
      "text/plain": [
       "[<matplotlib.lines.Line2D at 0x1a21dd6080>]"
      ]
     },
     "execution_count": 109,
     "metadata": {},
     "output_type": "execute_result"
    },
    {
     "data": {
      "image/png": "[encoded data removed]",
      "text/plain": [
       "<Figure size 432x288 with 1 Axes>"
      ]
     },
     "metadata": {},
     "output_type": "display_data"
    }
   ],
   "source": [
    "lr_cancer.fit(X_train,y_train)\n",
    "\n",
    "y_predictprob_lr = lr_cancer.predict_proba(X_test)\n",
    "\n",
    "c = (y_test == 1).astype(int)\n",
    "\n",
    "fpr_lr, tpr_lr, thresholds = roc_curve(c, y_predictprob_lr[:, 0])\n",
    "\n",
    "plt.plot(fpr_lr, tpr_lr)"
   ]
  },
  {
   "cell_type": "code",
   "execution_count": 110,
   "metadata": {},
   "outputs": [
    {
     "name": "stdout",
     "output_type": "stream",
     "text": [
      "AUC LR: 0.5252525252525253\n"
     ]
    }
   ],
   "source": [
    "print(\"AUC LR: \"+ str(roc_auc_score(c, y_predictprob_lr[:, 0])))"
   ]
  },
  {
   "cell_type": "code",
   "execution_count": null,
   "metadata": {},
   "outputs": [],
   "source": []
  }
 ],
 "metadata": {
  "kernelspec": {
   "display_name": "Python 3",
   "language": "python",
   "name": "python3"
  },
  "language_info": {
   "codemirror_mode": {
    "name": "ipython",
    "version": 3
   },
   "file_extension": ".py",
   "mimetype": "text/x-python",
   "name": "python",
   "nbconvert_exporter": "python",
   "pygments_lexer": "ipython3",
   "version": "3.6.5"
  }
 },
 "nbformat": 4,
 "nbformat_minor": 2
}
