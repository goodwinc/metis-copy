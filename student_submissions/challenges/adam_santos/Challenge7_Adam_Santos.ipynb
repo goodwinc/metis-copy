{
 "cells": [
  {
   "cell_type": "markdown",
   "metadata": {},
   "source": [
    "### Challenge 1\n",
    "Load the data into a pandas dataframe. Replace 'y's with 1s, 'n's with 0s.\n",
    "\n",
    "Now, almost every representative has a ?. This represents the absence of a vote (they were absent or some other similar reason). If we dropped all the rows that had a ?, we would throw out most of our data. Instead, we will replace ? with the best guess in the Bayesian sense: in the absence of any other information, we will say that the probability of the representative saying YES is the ratio of others that said YES over the whole votes.\n",
    "\n",
    "So, convert each ? to this probability (when yes=1 and no=0, this is the mean of the column)"
   ]
  },
  {
   "cell_type": "code",
   "execution_count": 103,
   "metadata": {},
   "outputs": [],
   "source": [
    "import pandas as pd\n",
    "import numpy as np\n",
    "import matplotlib.pyplot as plt\n",
    "%matplotlib inline"
   ]
  },
  {
   "cell_type": "code",
   "execution_count": 205,
   "metadata": {},
   "outputs": [],
   "source": [
    "datafile = '/Users/adamsantos/ds/metis/metisgh/nyc18_ds17/challenges/challenges_data/house-votes-84.data'\n",
    "\n",
    "df = pd.read_csv(datafile,sep=',', header=None)"
   ]
  },
  {
   "cell_type": "code",
   "execution_count": 206,
   "metadata": {},
   "outputs": [],
   "source": [
    "df = df.replace('n',0)\n",
    "df = df.replace('y',1)"
   ]
  },
  {
   "cell_type": "code",
   "execution_count": 207,
   "metadata": {},
   "outputs": [],
   "source": [
    "df = df.replace('?',df.mean(axis='columns'))"
   ]
  },
  {
   "cell_type": "code",
   "execution_count": 208,
   "metadata": {},
   "outputs": [
    {
     "data": {
      "text/html": [
       "<div>\n",
       "<style scoped>\n",
       "    .dataframe tbody tr th:only-of-type {\n",
       "        vertical-align: middle;\n",
       "    }\n",
       "\n",
       "    .dataframe tbody tr th {\n",
       "        vertical-align: top;\n",
       "    }\n",
       "\n",
       "    .dataframe thead th {\n",
       "        text-align: right;\n",
       "    }\n",
       "</style>\n",
       "<table border=\"1\" class=\"dataframe\">\n",
       "  <thead>\n",
       "    <tr style=\"text-align: right;\">\n",
       "      <th></th>\n",
       "      <th>0</th>\n",
       "      <th>1</th>\n",
       "      <th>2</th>\n",
       "      <th>3</th>\n",
       "      <th>4</th>\n",
       "      <th>5</th>\n",
       "      <th>6</th>\n",
       "      <th>7</th>\n",
       "      <th>8</th>\n",
       "      <th>9</th>\n",
       "      <th>10</th>\n",
       "      <th>11</th>\n",
       "      <th>12</th>\n",
       "      <th>13</th>\n",
       "      <th>14</th>\n",
       "      <th>15</th>\n",
       "      <th>16</th>\n",
       "    </tr>\n",
       "  </thead>\n",
       "  <tbody>\n",
       "    <tr>\n",
       "      <th>0</th>\n",
       "      <td>0.00000</td>\n",
       "      <td>1.0</td>\n",
       "      <td>0.0</td>\n",
       "      <td>1.000000</td>\n",
       "      <td>1.000000</td>\n",
       "      <td>1.0</td>\n",
       "      <td>0.0</td>\n",
       "      <td>0.0</td>\n",
       "      <td>0.0</td>\n",
       "      <td>1.0</td>\n",
       "      <td>0.362319</td>\n",
       "      <td>1.000000</td>\n",
       "      <td>1.000000</td>\n",
       "      <td>1.0</td>\n",
       "      <td>0.000000</td>\n",
       "      <td>1.000000</td>\n",
       "      <td>republican.</td>\n",
       "    </tr>\n",
       "    <tr>\n",
       "      <th>1</th>\n",
       "      <td>0.00000</td>\n",
       "      <td>1.0</td>\n",
       "      <td>0.0</td>\n",
       "      <td>1.000000</td>\n",
       "      <td>1.000000</td>\n",
       "      <td>1.0</td>\n",
       "      <td>0.0</td>\n",
       "      <td>0.0</td>\n",
       "      <td>0.0</td>\n",
       "      <td>0.0</td>\n",
       "      <td>0.000000</td>\n",
       "      <td>1.000000</td>\n",
       "      <td>1.000000</td>\n",
       "      <td>1.0</td>\n",
       "      <td>0.000000</td>\n",
       "      <td>0.812689</td>\n",
       "      <td>republican.</td>\n",
       "    </tr>\n",
       "    <tr>\n",
       "      <th>2</th>\n",
       "      <td>0.44208</td>\n",
       "      <td>1.0</td>\n",
       "      <td>1.0</td>\n",
       "      <td>0.417453</td>\n",
       "      <td>1.000000</td>\n",
       "      <td>1.0</td>\n",
       "      <td>0.0</td>\n",
       "      <td>0.0</td>\n",
       "      <td>0.0</td>\n",
       "      <td>0.0</td>\n",
       "      <td>1.000000</td>\n",
       "      <td>0.000000</td>\n",
       "      <td>1.000000</td>\n",
       "      <td>1.0</td>\n",
       "      <td>0.000000</td>\n",
       "      <td>0.000000</td>\n",
       "      <td>democrat.</td>\n",
       "    </tr>\n",
       "    <tr>\n",
       "      <th>3</th>\n",
       "      <td>0.00000</td>\n",
       "      <td>1.0</td>\n",
       "      <td>1.0</td>\n",
       "      <td>0.000000</td>\n",
       "      <td>0.504762</td>\n",
       "      <td>1.0</td>\n",
       "      <td>0.0</td>\n",
       "      <td>0.0</td>\n",
       "      <td>0.0</td>\n",
       "      <td>0.0</td>\n",
       "      <td>1.000000</td>\n",
       "      <td>0.000000</td>\n",
       "      <td>1.000000</td>\n",
       "      <td>0.0</td>\n",
       "      <td>0.000000</td>\n",
       "      <td>1.000000</td>\n",
       "      <td>democrat.</td>\n",
       "    </tr>\n",
       "    <tr>\n",
       "      <th>4</th>\n",
       "      <td>1.00000</td>\n",
       "      <td>1.0</td>\n",
       "      <td>1.0</td>\n",
       "      <td>0.000000</td>\n",
       "      <td>1.000000</td>\n",
       "      <td>1.0</td>\n",
       "      <td>0.0</td>\n",
       "      <td>0.0</td>\n",
       "      <td>0.0</td>\n",
       "      <td>0.0</td>\n",
       "      <td>1.000000</td>\n",
       "      <td>0.423267</td>\n",
       "      <td>1.000000</td>\n",
       "      <td>1.0</td>\n",
       "      <td>1.000000</td>\n",
       "      <td>1.000000</td>\n",
       "      <td>democrat.</td>\n",
       "    </tr>\n",
       "    <tr>\n",
       "      <th>5</th>\n",
       "      <td>0.00000</td>\n",
       "      <td>1.0</td>\n",
       "      <td>1.0</td>\n",
       "      <td>0.000000</td>\n",
       "      <td>1.000000</td>\n",
       "      <td>1.0</td>\n",
       "      <td>0.0</td>\n",
       "      <td>0.0</td>\n",
       "      <td>0.0</td>\n",
       "      <td>0.0</td>\n",
       "      <td>0.000000</td>\n",
       "      <td>0.000000</td>\n",
       "      <td>1.000000</td>\n",
       "      <td>1.0</td>\n",
       "      <td>1.000000</td>\n",
       "      <td>1.000000</td>\n",
       "      <td>democrat.</td>\n",
       "    </tr>\n",
       "    <tr>\n",
       "      <th>6</th>\n",
       "      <td>0.00000</td>\n",
       "      <td>1.0</td>\n",
       "      <td>0.0</td>\n",
       "      <td>1.000000</td>\n",
       "      <td>1.000000</td>\n",
       "      <td>1.0</td>\n",
       "      <td>0.0</td>\n",
       "      <td>0.0</td>\n",
       "      <td>0.0</td>\n",
       "      <td>0.0</td>\n",
       "      <td>0.000000</td>\n",
       "      <td>0.000000</td>\n",
       "      <td>0.509756</td>\n",
       "      <td>1.0</td>\n",
       "      <td>1.000000</td>\n",
       "      <td>1.000000</td>\n",
       "      <td>democrat.</td>\n",
       "    </tr>\n",
       "    <tr>\n",
       "      <th>7</th>\n",
       "      <td>0.00000</td>\n",
       "      <td>1.0</td>\n",
       "      <td>0.0</td>\n",
       "      <td>1.000000</td>\n",
       "      <td>1.000000</td>\n",
       "      <td>1.0</td>\n",
       "      <td>0.0</td>\n",
       "      <td>0.0</td>\n",
       "      <td>0.0</td>\n",
       "      <td>0.0</td>\n",
       "      <td>0.000000</td>\n",
       "      <td>0.000000</td>\n",
       "      <td>1.000000</td>\n",
       "      <td>1.0</td>\n",
       "      <td>0.427518</td>\n",
       "      <td>1.000000</td>\n",
       "      <td>republican</td>\n",
       "    </tr>\n",
       "    <tr>\n",
       "      <th>8</th>\n",
       "      <td>0.00000</td>\n",
       "      <td>1.0</td>\n",
       "      <td>0.0</td>\n",
       "      <td>1.000000</td>\n",
       "      <td>1.000000</td>\n",
       "      <td>1.0</td>\n",
       "      <td>0.0</td>\n",
       "      <td>0.0</td>\n",
       "      <td>0.0</td>\n",
       "      <td>0.0</td>\n",
       "      <td>0.000000</td>\n",
       "      <td>1.000000</td>\n",
       "      <td>1.000000</td>\n",
       "      <td>1.0</td>\n",
       "      <td>0.000000</td>\n",
       "      <td>1.000000</td>\n",
       "      <td>republican</td>\n",
       "    </tr>\n",
       "    <tr>\n",
       "      <th>9</th>\n",
       "      <td>1.00000</td>\n",
       "      <td>1.0</td>\n",
       "      <td>1.0</td>\n",
       "      <td>0.000000</td>\n",
       "      <td>0.000000</td>\n",
       "      <td>0.0</td>\n",
       "      <td>1.0</td>\n",
       "      <td>1.0</td>\n",
       "      <td>1.0</td>\n",
       "      <td>0.0</td>\n",
       "      <td>0.000000</td>\n",
       "      <td>0.000000</td>\n",
       "      <td>0.000000</td>\n",
       "      <td>0.0</td>\n",
       "      <td>0.427518</td>\n",
       "      <td>0.812689</td>\n",
       "      <td>democrat</td>\n",
       "    </tr>\n",
       "  </tbody>\n",
       "</table>\n",
       "</div>"
      ],
      "text/plain": [
       "        0    1    2         3         4    5    6    7    8    9         10  \\\n",
       "0  0.00000  1.0  0.0  1.000000  1.000000  1.0  0.0  0.0  0.0  1.0  0.362319   \n",
       "1  0.00000  1.0  0.0  1.000000  1.000000  1.0  0.0  0.0  0.0  0.0  0.000000   \n",
       "2  0.44208  1.0  1.0  0.417453  1.000000  1.0  0.0  0.0  0.0  0.0  1.000000   \n",
       "3  0.00000  1.0  1.0  0.000000  0.504762  1.0  0.0  0.0  0.0  0.0  1.000000   \n",
       "4  1.00000  1.0  1.0  0.000000  1.000000  1.0  0.0  0.0  0.0  0.0  1.000000   \n",
       "5  0.00000  1.0  1.0  0.000000  1.000000  1.0  0.0  0.0  0.0  0.0  0.000000   \n",
       "6  0.00000  1.0  0.0  1.000000  1.000000  1.0  0.0  0.0  0.0  0.0  0.000000   \n",
       "7  0.00000  1.0  0.0  1.000000  1.000000  1.0  0.0  0.0  0.0  0.0  0.000000   \n",
       "8  0.00000  1.0  0.0  1.000000  1.000000  1.0  0.0  0.0  0.0  0.0  0.000000   \n",
       "9  1.00000  1.0  1.0  0.000000  0.000000  0.0  1.0  1.0  1.0  0.0  0.000000   \n",
       "\n",
       "         11        12   13        14        15           16  \n",
       "0  1.000000  1.000000  1.0  0.000000  1.000000  republican.  \n",
       "1  1.000000  1.000000  1.0  0.000000  0.812689  republican.  \n",
       "2  0.000000  1.000000  1.0  0.000000  0.000000    democrat.  \n",
       "3  0.000000  1.000000  0.0  0.000000  1.000000    democrat.  \n",
       "4  0.423267  1.000000  1.0  1.000000  1.000000    democrat.  \n",
       "5  0.000000  1.000000  1.0  1.000000  1.000000    democrat.  \n",
       "6  0.000000  0.509756  1.0  1.000000  1.000000    democrat.  \n",
       "7  0.000000  1.000000  1.0  0.427518  1.000000   republican  \n",
       "8  1.000000  1.000000  1.0  0.000000  1.000000   republican  \n",
       "9  0.000000  0.000000  0.0  0.427518  0.812689     democrat  "
      ]
     },
     "execution_count": 208,
     "metadata": {},
     "output_type": "execute_result"
    }
   ],
   "source": [
    "df=df.fillna(df.mean())\n",
    "df.head(10)"
   ]
  },
  {
   "cell_type": "markdown",
   "metadata": {},
   "source": [
    "### Challenge 2\n",
    "Split the data into a test and training set. Use this function:"
   ]
  },
  {
   "cell_type": "code",
   "execution_count": 209,
   "metadata": {},
   "outputs": [],
   "source": [
    "from sklearn.cross_validation import train_test_split\n",
    "\n",
    "X = df.drop(16, axis=1)\n",
    "y = df[16]\n",
    "\n",
    "X_train, X_test, y_train, y_test = train_test_split(X, y, test_size=0.2,random_state=42)"
   ]
  },
  {
   "cell_type": "markdown",
   "metadata": {},
   "source": [
    "### Challenge 3\n",
    "Using scikit.learn's KNN algorithm, train a model that predicts the party (republican/democrat):\n",
    "\n",
    "```\n",
    "from sklearn.neighbors import KNeighborsClassifier\n",
    "```\n",
    "\n",
    "Try it with a lot of different k values (number of neighbors), from 1 to 20, and on the test set calculate the accuracy (number of correct predictions / number of all predictions) for each k\n",
    "\n",
    "You can use this to calculate accuracy:\n",
    "\n",
    "```\n",
    "from sklearn.metrics import accuracy_score\n",
    "```\n",
    "\n",
    "Which k value gives the highest accuracy?"
   ]
  },
  {
   "cell_type": "code",
   "execution_count": 210,
   "metadata": {},
   "outputs": [
    {
     "name": "stdout",
     "output_type": "stream",
     "text": [
      "(3, 0.9310344827586207)\n"
     ]
    }
   ],
   "source": [
    "from sklearn.neighbors import KNeighborsClassifier\n",
    "from sklearn.metrics import accuracy_score\n",
    "\n",
    "k_range = list(range(1, 21))\n",
    "scores=[]\n",
    "for k in k_range:\n",
    "    knn = KNeighborsClassifier(n_neighbors=k)\n",
    "    knn.fit(X_train,y_train)\n",
    "    y_pred = knn.predict(X_test)\n",
    "    scores.append((k,accuracy_score(y_test, y_pred)))\n",
    "print(max(scores,key=lambda item:item[1]))\n"
   ]
  },
  {
   "cell_type": "markdown",
   "metadata": {},
   "source": [
    "### Challenge 4\n",
    "Make a similar model but with `LogisticRegression` instead, calculate test accuracy."
   ]
  },
  {
   "cell_type": "code",
   "execution_count": 211,
   "metadata": {},
   "outputs": [
    {
     "name": "stdout",
     "output_type": "stream",
     "text": [
      "0.9540229885057471\n"
     ]
    }
   ],
   "source": [
    "from sklearn.linear_model import LogisticRegression\n",
    "\n",
    "lr = LogisticRegression()\n",
    "lr.fit(X_train,y_train)\n",
    "y_preds = lr.predict(X_test)\n",
    "print(accuracy_score(y_test, y_preds))"
   ]
  },
  {
   "cell_type": "markdown",
   "metadata": {},
   "source": [
    "### Challenge 5\n",
    "Make a bar graph of democrats and republicans. How many of each are there?\n",
    "\n",
    "Make a very simple predictor that predicts 'democrat' for every incoming example.\n",
    "\n",
    "Just make a function that takes in an X --an array or matrix with input examples--, and returns an array of the same length as X, where each value is 'democrat'. For example, if X is three rows, your function should return ['democrat','democrat','democrat']. Make a y_predicted vector using this and measure its accuracy.\n",
    "\n",
    "Do the same with predicting 'republican' all the time and measure its accuracy."
   ]
  },
  {
   "cell_type": "code",
   "execution_count": 212,
   "metadata": {},
   "outputs": [],
   "source": [
    "df[16] = df[16].map(lambda x: x.rstrip('.'))\n",
    "\n"
   ]
  },
  {
   "cell_type": "code",
   "execution_count": 213,
   "metadata": {},
   "outputs": [
    {
     "data": {
      "text/plain": [
       "<matplotlib.axes._subplots.AxesSubplot at 0x1a2d3de0f0>"
      ]
     },
     "execution_count": 213,
     "metadata": {},
     "output_type": "execute_result"
    },
    {
     "data": {
      "image/png": "[encoded data removed]",
      "text/plain": [
       "<Figure size 432x288 with 1 Axes>"
      ]
     },
     "metadata": {},
     "output_type": "display_data"
    }
   ],
   "source": [
    "\n",
    "df[16].value_counts().plot.bar()"
   ]
  },
  {
   "cell_type": "code",
   "execution_count": 214,
   "metadata": {},
   "outputs": [],
   "source": [
    "def all_one(n,label):\n",
    "    return np.array([label] * n)"
   ]
  },
  {
   "cell_type": "code",
   "execution_count": 215,
   "metadata": {},
   "outputs": [],
   "source": [
    "y_preds_dem = all_one(len(y_test),'democrat')"
   ]
  },
  {
   "cell_type": "code",
   "execution_count": 216,
   "metadata": {},
   "outputs": [
    {
     "name": "stdout",
     "output_type": "stream",
     "text": [
      "0.6436781609195402\n"
     ]
    }
   ],
   "source": [
    "print(accuracy_score(y_test, y_preds_dem))"
   ]
  },
  {
   "cell_type": "code",
   "execution_count": 217,
   "metadata": {},
   "outputs": [],
   "source": [
    "y_preds_rep = all_one(len(y_test),'republican')"
   ]
  },
  {
   "cell_type": "code",
   "execution_count": 218,
   "metadata": {},
   "outputs": [
    {
     "name": "stdout",
     "output_type": "stream",
     "text": [
      "0.3448275862068966\n"
     ]
    }
   ],
   "source": [
    "print(accuracy_score(y_test, y_preds_rep))"
   ]
  },
  {
   "cell_type": "markdown",
   "metadata": {},
   "source": [
    "### Challenge 6\n",
    "Plot the accuracies as a function of k. Since k only matters for KNN, your logistic regression accuracy, 'democrat' predictor accuracy and 'republican' predictor accuracy will stay the same over all k, so each of these three will be a horizontal line. But the KNN accuracy will change with k."
   ]
  },
  {
   "cell_type": "code",
   "execution_count": 219,
   "metadata": {},
   "outputs": [
    {
     "data": {
      "text/plain": [
       "[<matplotlib.lines.Line2D at 0x1a2d411630>]"
      ]
     },
     "execution_count": 219,
     "metadata": {},
     "output_type": "execute_result"
    },
    {
     "data": {
      "image/png": "[encoded data removed]",
      "text/plain": [
       "<Figure size 432x288 with 1 Axes>"
      ]
     },
     "metadata": {},
     "output_type": "display_data"
    }
   ],
   "source": [
    "plt.plot(*zip(*scores))\n",
    "plt.plot(k_range,[accuracy_score(y_test, y_preds_dem)]*20)\n",
    "plt.plot(k_range,[accuracy_score(y_test, y_preds_rep)]*20)"
   ]
  },
  {
   "cell_type": "markdown",
   "metadata": {},
   "source": [
    "### Challenge 7\n",
    "Plot a learning curve for the logistic regression model. But instead of going through the painstaking steps of doing it yourself, use this function:\n",
    "\n",
    "```\n",
    "from sklearn.learning_curve import learning_curve\n",
    "```\n",
    "\n",
    "This will give you the m, training errors and testing errors. All you need to do is plot them. You don't even need to give it separate training/test sets. It will do crossvalidation all by itself. Easy, isn't it? : )\n",
    "Remember, since it does cross-validation, it doesn't have a single training error or test error per m value. Instead, it has one for each fold (separate partition) of the cross validation. A good idea is to take the mean of these errors from different folds. This gives you a meaningful single number per m. What I mean is that doing something like:\n",
    "\n",
    "```\n",
    "train_cv_err = np.mean(train_err, axis=1)\n",
    "test_cv_err = np.mean(ts_err, axis=1)\n",
    "```\n",
    "\n",
    "Before plotting `m` vs `train_cv_err` and `m` vs `test_cv_err`, where `train_err` and `test_err` are the vectors returned by the learning curve function. The `np.mean(...., axis=1)` means take the mean along axis 1 (axis 1 is the columns axis-- for each row, you have a bunch of columns, each corresponding to a cross validation fold, you are averaging these columns for each row).\n",
    "\n",
    "Draw the learning curve for KNN with the best k value as well."
   ]
  },
  {
   "cell_type": "code",
   "execution_count": 220,
   "metadata": {},
   "outputs": [
    {
     "data": {
      "text/plain": [
       "array([ 29,  94, 159, 224, 290])"
      ]
     },
     "execution_count": 220,
     "metadata": {},
     "output_type": "execute_result"
    }
   ],
   "source": [
    "from sklearn.learning_curve import learning_curve\n",
    "\n",
    "m, train_err, test_err = learning_curve(lr,X,y)\n",
    "train_err\n",
    "train_cv_err = np.mean(train_err, axis=1)\n",
    "test_cv_err = np.mean(test_err,axis=1)\n",
    "m"
   ]
  },
  {
   "cell_type": "code",
   "execution_count": 221,
   "metadata": {},
   "outputs": [
    {
     "data": {
      "text/plain": [
       "[<matplotlib.lines.Line2D at 0x1a2d444390>]"
      ]
     },
     "execution_count": 221,
     "metadata": {},
     "output_type": "execute_result"
    },
    {
     "data": {
      "image/png": "[encoded data removed]",
      "text/plain": [
       "<Figure size 432x288 with 1 Axes>"
      ]
     },
     "metadata": {},
     "output_type": "display_data"
    }
   ],
   "source": [
    "plt.plot(m,train_cv_err)\n",
    "plt.plot(m,test_cv_err)"
   ]
  },
  {
   "cell_type": "code",
   "execution_count": 222,
   "metadata": {},
   "outputs": [],
   "source": [
    "knn = KNeighborsClassifier(n_neighbors=3)\n",
    "\n",
    "m_knn, train_err_knn, test_err_knn = learning_curve(knn,X,y)\n",
    "\n",
    "train_cv_err_knn = np.mean(train_err_knn, axis=1)\n",
    "test_cv_err_knn = np.mean(test_err_knn,axis=1)"
   ]
  },
  {
   "cell_type": "code",
   "execution_count": 223,
   "metadata": {},
   "outputs": [
    {
     "data": {
      "text/plain": [
       "[<matplotlib.lines.Line2D at 0x1a2d2ed208>]"
      ]
     },
     "execution_count": 223,
     "metadata": {},
     "output_type": "execute_result"
    },
    {
     "data": {
      "image/png": "[encoded data removed]",
      "text/plain": [
       "<Figure size 432x288 with 1 Axes>"
      ]
     },
     "metadata": {},
     "output_type": "display_data"
    }
   ],
   "source": [
    "plt.plot(m_knn,train_cv_err_knn)\n",
    "plt.plot(m_knn,test_cv_err_knn)"
   ]
  },
  {
   "cell_type": "markdown",
   "metadata": {},
   "source": [
    "### Challenge 8\n",
    "This is a preview of many other classification algorithms that we will go over. Scikit.learn has the same interface for all of these, so you can use them exactly the same way as you did LogisticRegression and KNeighborsClassifier. Use each of these to classify your data and print the test accuracy of each:"
   ]
  },
  {
   "cell_type": "code",
   "execution_count": 224,
   "metadata": {},
   "outputs": [],
   "source": [
    "from sklearn.naive_bayes import GaussianNB\n",
    "\n",
    "from sklearn.svm import SVC\n",
    "\n",
    "from sklearn.tree import DecisionTreeClassifier\n",
    "\n",
    "from sklearn.ensemble import RandomForestClassifier"
   ]
  },
  {
   "cell_type": "code",
   "execution_count": 225,
   "metadata": {},
   "outputs": [],
   "source": [
    "gnb=GaussianNB()\n",
    "svc=SVC()\n",
    "dtc=DecisionTreeClassifier()\n",
    "rf = RandomForestClassifier()"
   ]
  },
  {
   "cell_type": "code",
   "execution_count": 226,
   "metadata": {},
   "outputs": [
    {
     "data": {
      "text/plain": [
       "RandomForestClassifier(bootstrap=True, class_weight=None, criterion='gini',\n",
       "            max_depth=None, max_features='auto', max_leaf_nodes=None,\n",
       "            min_impurity_decrease=0.0, min_impurity_split=None,\n",
       "            min_samples_leaf=1, min_samples_split=2,\n",
       "            min_weight_fraction_leaf=0.0, n_estimators=10, n_jobs=1,\n",
       "            oob_score=False, random_state=None, verbose=0,\n",
       "            warm_start=False)"
      ]
     },
     "execution_count": 226,
     "metadata": {},
     "output_type": "execute_result"
    }
   ],
   "source": [
    "gnb.fit(X_train,y_train)\n",
    "svc.fit(X_train,y_train)\n",
    "dtc.fit(X_train,y_train)\n",
    "rf.fit(X_train,y_train)"
   ]
  },
  {
   "cell_type": "code",
   "execution_count": 227,
   "metadata": {},
   "outputs": [],
   "source": [
    "y_gnb=gnb.predict(X_test)\n",
    "y_svc=svc.predict(X_test)\n",
    "y_dtc=dtc.predict(X_test)\n",
    "y_rf=rf.predict(X_test)"
   ]
  },
  {
   "cell_type": "code",
   "execution_count": 228,
   "metadata": {},
   "outputs": [
    {
     "name": "stdout",
     "output_type": "stream",
     "text": [
      "Gauss NB Accuracy: 0.8505747126436781\n",
      "Support Vector Machine Accuracy: 0.9540229885057471\n",
      "Decision Tree Accuracy: 0.9310344827586207\n",
      "Random Forest Accuracy: 0.9195402298850575\n"
     ]
    }
   ],
   "source": [
    "print(\"Gauss NB Accuracy: \" + str(accuracy_score(y_test, y_gnb)))\n",
    "print(\"Support Vector Machine Accuracy: \" + str(accuracy_score(y_test, y_svc)))\n",
    "print(\"Decision Tree Accuracy: \" + str(accuracy_score(y_test, y_dtc)))\n",
    "print(\"Random Forest Accuracy: \" + str(accuracy_score(y_test, y_rf)))"
   ]
  },
  {
   "cell_type": "markdown",
   "metadata": {},
   "source": [
    "### Challenge 9\n",
    "There is actually a way to do cross validation quickly to get your accuracy results for an algorithm, without separating training and test yourself:\n",
    "\n",
    "```\n",
    "from sklearn.cross_validation import cross_val_score\n",
    "```\n",
    "\n",
    "Just like the `learning_curve` function, this takes a classifier object, `X` and `Y`. Returns accuracy (or whatever score you prefer by using the _scoring_ keyword argument). Of course, it will return a score for each cross validation fold, so to get the generalized accuracy, you need to take the mean of what it returns.\n",
    "\n",
    "Use this function to calculate the cross validation score of each of the classifiers you tried before."
   ]
  },
  {
   "cell_type": "code",
   "execution_count": 229,
   "metadata": {},
   "outputs": [],
   "source": [
    "from sklearn.cross_validation import cross_val_score"
   ]
  },
  {
   "cell_type": "code",
   "execution_count": 230,
   "metadata": {},
   "outputs": [
    {
     "name": "stdout",
     "output_type": "stream",
     "text": [
      "Cross Val Score Naive Bayes: 0.9310344827586207\n",
      "Cross Val Score SVC: 0.9540229885057472\n",
      "Cross Val Score Decision Tree: 0.9517241379310345\n",
      "Cross Val Score Random Forest: 0.9540229885057472\n"
     ]
    }
   ],
   "source": [
    "print(\"Cross Val Score Naive Bayes: \"+str(np.mean(cross_val_score(gnb,X,y))))\n",
    "print(\"Cross Val Score SVC: \"+str(np.mean(cross_val_score(svc,X,y))))\n",
    "print(\"Cross Val Score Decision Tree: \"+str(np.mean(cross_val_score(dtc,X,y))))\n",
    "print(\"Cross Val Score Random Forest: \"+str(np.mean(cross_val_score(rf,X,y))))"
   ]
  },
  {
   "cell_type": "markdown",
   "metadata": {},
   "source": [
    "### Challenge 10\n",
    "Instead of 'democrat' or 'republican', can you predict the vote of a representative based on their other votes?\n",
    "\n",
    "Reload the data from scratch. Convert y-->1, n-->0.\n",
    "\n",
    "Choose one vote. Build a classifier (logistic regression or KNN), that uses the other votes (do not use the party as a feature) to predict if the vote will be 1 or 0.\n",
    "\n",
    "Convert each ? to the mode of the column (if a senator has not voted, make their vote 1 if most others voted 1, make it 0 if most others voted 0).\n",
    "\n",
    "Calculate the cross validation accuracy of your classifier for predicting how each representative will vote on the issue."
   ]
  },
  {
   "cell_type": "code",
   "execution_count": 293,
   "metadata": {},
   "outputs": [],
   "source": [
    "datafile = '/Users/adamsantos/ds/metis/metisgh/nyc18_ds17/challenges/challenges_data/house-votes-84.data'\n",
    "\n",
    "df2 = pd.read_csv(datafile,sep=',', header=None)"
   ]
  },
  {
   "cell_type": "code",
   "execution_count": 294,
   "metadata": {},
   "outputs": [],
   "source": [
    "df2 = df2.replace('n',0)\n",
    "df2 = df2.replace('y',1)\n",
    "df2 = df2.replace('?',df.mode())\n"
   ]
  },
  {
   "cell_type": "code",
   "execution_count": 295,
   "metadata": {},
   "outputs": [
    {
     "data": {
      "text/html": [
       "<div>\n",
       "<style scoped>\n",
       "    .dataframe tbody tr th:only-of-type {\n",
       "        vertical-align: middle;\n",
       "    }\n",
       "\n",
       "    .dataframe tbody tr th {\n",
       "        vertical-align: top;\n",
       "    }\n",
       "\n",
       "    .dataframe thead th {\n",
       "        text-align: right;\n",
       "    }\n",
       "</style>\n",
       "<table border=\"1\" class=\"dataframe\">\n",
       "  <thead>\n",
       "    <tr style=\"text-align: right;\">\n",
       "      <th></th>\n",
       "      <th>0</th>\n",
       "      <th>1</th>\n",
       "      <th>2</th>\n",
       "      <th>3</th>\n",
       "      <th>4</th>\n",
       "      <th>5</th>\n",
       "      <th>6</th>\n",
       "      <th>7</th>\n",
       "      <th>8</th>\n",
       "      <th>9</th>\n",
       "      <th>10</th>\n",
       "      <th>11</th>\n",
       "      <th>12</th>\n",
       "      <th>13</th>\n",
       "      <th>14</th>\n",
       "      <th>15</th>\n",
       "      <th>16</th>\n",
       "    </tr>\n",
       "  </thead>\n",
       "  <tbody>\n",
       "    <tr>\n",
       "      <th>0</th>\n",
       "      <td>0.0</td>\n",
       "      <td>1.0</td>\n",
       "      <td>0.0</td>\n",
       "      <td>1.0</td>\n",
       "      <td>1.0</td>\n",
       "      <td>1.0</td>\n",
       "      <td>0.0</td>\n",
       "      <td>0.0</td>\n",
       "      <td>0.0</td>\n",
       "      <td>1.0</td>\n",
       "      <td>0.0</td>\n",
       "      <td>1.0</td>\n",
       "      <td>1.0</td>\n",
       "      <td>1.0</td>\n",
       "      <td>0.0</td>\n",
       "      <td>1.0</td>\n",
       "      <td>republican.</td>\n",
       "    </tr>\n",
       "    <tr>\n",
       "      <th>1</th>\n",
       "      <td>0.0</td>\n",
       "      <td>1.0</td>\n",
       "      <td>0.0</td>\n",
       "      <td>1.0</td>\n",
       "      <td>1.0</td>\n",
       "      <td>1.0</td>\n",
       "      <td>0.0</td>\n",
       "      <td>0.0</td>\n",
       "      <td>0.0</td>\n",
       "      <td>0.0</td>\n",
       "      <td>0.0</td>\n",
       "      <td>1.0</td>\n",
       "      <td>1.0</td>\n",
       "      <td>1.0</td>\n",
       "      <td>0.0</td>\n",
       "      <td>1.0</td>\n",
       "      <td>republican.</td>\n",
       "    </tr>\n",
       "    <tr>\n",
       "      <th>2</th>\n",
       "      <td>0.0</td>\n",
       "      <td>1.0</td>\n",
       "      <td>1.0</td>\n",
       "      <td>0.0</td>\n",
       "      <td>1.0</td>\n",
       "      <td>1.0</td>\n",
       "      <td>0.0</td>\n",
       "      <td>0.0</td>\n",
       "      <td>0.0</td>\n",
       "      <td>0.0</td>\n",
       "      <td>1.0</td>\n",
       "      <td>0.0</td>\n",
       "      <td>1.0</td>\n",
       "      <td>1.0</td>\n",
       "      <td>0.0</td>\n",
       "      <td>0.0</td>\n",
       "      <td>democrat.</td>\n",
       "    </tr>\n",
       "    <tr>\n",
       "      <th>3</th>\n",
       "      <td>0.0</td>\n",
       "      <td>1.0</td>\n",
       "      <td>1.0</td>\n",
       "      <td>0.0</td>\n",
       "      <td>1.0</td>\n",
       "      <td>1.0</td>\n",
       "      <td>0.0</td>\n",
       "      <td>0.0</td>\n",
       "      <td>0.0</td>\n",
       "      <td>0.0</td>\n",
       "      <td>1.0</td>\n",
       "      <td>0.0</td>\n",
       "      <td>1.0</td>\n",
       "      <td>0.0</td>\n",
       "      <td>0.0</td>\n",
       "      <td>1.0</td>\n",
       "      <td>democrat.</td>\n",
       "    </tr>\n",
       "    <tr>\n",
       "      <th>4</th>\n",
       "      <td>1.0</td>\n",
       "      <td>1.0</td>\n",
       "      <td>1.0</td>\n",
       "      <td>0.0</td>\n",
       "      <td>1.0</td>\n",
       "      <td>1.0</td>\n",
       "      <td>0.0</td>\n",
       "      <td>0.0</td>\n",
       "      <td>0.0</td>\n",
       "      <td>0.0</td>\n",
       "      <td>1.0</td>\n",
       "      <td>0.0</td>\n",
       "      <td>1.0</td>\n",
       "      <td>1.0</td>\n",
       "      <td>1.0</td>\n",
       "      <td>1.0</td>\n",
       "      <td>democrat.</td>\n",
       "    </tr>\n",
       "  </tbody>\n",
       "</table>\n",
       "</div>"
      ],
      "text/plain": [
       "    0    1    2    3    4    5    6    7    8    9    10   11   12   13   14  \\\n",
       "0  0.0  1.0  0.0  1.0  1.0  1.0  0.0  0.0  0.0  1.0  0.0  1.0  1.0  1.0  0.0   \n",
       "1  0.0  1.0  0.0  1.0  1.0  1.0  0.0  0.0  0.0  0.0  0.0  1.0  1.0  1.0  0.0   \n",
       "2  0.0  1.0  1.0  0.0  1.0  1.0  0.0  0.0  0.0  0.0  1.0  0.0  1.0  1.0  0.0   \n",
       "3  0.0  1.0  1.0  0.0  1.0  1.0  0.0  0.0  0.0  0.0  1.0  0.0  1.0  0.0  0.0   \n",
       "4  1.0  1.0  1.0  0.0  1.0  1.0  0.0  0.0  0.0  0.0  1.0  0.0  1.0  1.0  1.0   \n",
       "\n",
       "    15           16  \n",
       "0  1.0  republican.  \n",
       "1  1.0  republican.  \n",
       "2  0.0    democrat.  \n",
       "3  1.0    democrat.  \n",
       "4  1.0    democrat.  "
      ]
     },
     "execution_count": 295,
     "metadata": {},
     "output_type": "execute_result"
    }
   ],
   "source": [
    "df2.head()"
   ]
  },
  {
   "cell_type": "code",
   "execution_count": 296,
   "metadata": {},
   "outputs": [],
   "source": [
    "df2=df2.drop(16,axis=1)"
   ]
  },
  {
   "cell_type": "code",
   "execution_count": 297,
   "metadata": {},
   "outputs": [],
   "source": [
    "X2 = df2.drop(15,axis=1)\n",
    "y2 = df2[15]"
   ]
  },
  {
   "cell_type": "code",
   "execution_count": 298,
   "metadata": {},
   "outputs": [],
   "source": [
    "lr2 = LogisticRegression()"
   ]
  },
  {
   "cell_type": "code",
   "execution_count": 299,
   "metadata": {},
   "outputs": [
    {
     "name": "stdout",
     "output_type": "stream",
     "text": [
      "Cross Val Score Predict Vote 15: 0.8482235955842475\n"
     ]
    }
   ],
   "source": [
    "print(\"Cross Val Score Predict Vote 15: \"+str(np.mean(cross_val_score(lr2,X2,y2))))"
   ]
  },
  {
   "cell_type": "markdown",
   "metadata": {},
   "source": [
    "### Challenge 11\n",
    "Back to movie data! Choose one categoric feature to predict. I chose MPAA Rating, but genre, month, etc. are all decent choices. If you don't have any non-numeric features, you can make two bins out of a numeric one (like \"Runtime>100 mins\" and \"Runtime<=100 mins\")\n",
    "\n",
    "Make a bar graph of how many of each movie there is in the data. For example, with Ratings, show how many G, PG, PG-13, R movies there are, etc. (basically a histogram of your labels).\n",
    "\n",
    "Predict your outcome variable (labels) using KNN and logistic regression. Calculate their accuracies.\n",
    "\n",
    "Make a baseline stupid predictor that always predicts the label that is present the most in the data. Calculate its accuracy on a test set.\n",
    "\n",
    "How much better do KNN and logistic regression do versus the baseline?\n",
    "\n",
    "What are the coefficients of logistic regression? Which features affect the outcome how?"
   ]
  },
  {
   "cell_type": "code",
   "execution_count": 310,
   "metadata": {},
   "outputs": [],
   "source": [
    "datafile = '/Users/adamsantos/ds/metis/metisgh/nyc18_ds17/challenges/challenges_data/2013_movies.csv'\n",
    "\n",
    "df_movies = pd.read_csv(datafile,sep=',')"
   ]
  },
  {
   "cell_type": "code",
   "execution_count": 311,
   "metadata": {},
   "outputs": [
    {
     "data": {
      "text/html": [
       "<div>\n",
       "<style scoped>\n",
       "    .dataframe tbody tr th:only-of-type {\n",
       "        vertical-align: middle;\n",
       "    }\n",
       "\n",
       "    .dataframe tbody tr th {\n",
       "        vertical-align: top;\n",
       "    }\n",
       "\n",
       "    .dataframe thead th {\n",
       "        text-align: right;\n",
       "    }\n",
       "</style>\n",
       "<table border=\"1\" class=\"dataframe\">\n",
       "  <thead>\n",
       "    <tr style=\"text-align: right;\">\n",
       "      <th></th>\n",
       "      <th>Title</th>\n",
       "      <th>Budget</th>\n",
       "      <th>DomesticTotalGross</th>\n",
       "      <th>Director</th>\n",
       "      <th>Rating</th>\n",
       "      <th>Runtime</th>\n",
       "      <th>ReleaseDate</th>\n",
       "    </tr>\n",
       "  </thead>\n",
       "  <tbody>\n",
       "    <tr>\n",
       "      <th>0</th>\n",
       "      <td>The Hunger Games: Catching Fire</td>\n",
       "      <td>130000000.0</td>\n",
       "      <td>424668047</td>\n",
       "      <td>Francis Lawrence</td>\n",
       "      <td>PG-13</td>\n",
       "      <td>146</td>\n",
       "      <td>2013-11-22 00:00:00</td>\n",
       "    </tr>\n",
       "    <tr>\n",
       "      <th>1</th>\n",
       "      <td>Iron Man 3</td>\n",
       "      <td>200000000.0</td>\n",
       "      <td>409013994</td>\n",
       "      <td>Shane Black</td>\n",
       "      <td>PG-13</td>\n",
       "      <td>129</td>\n",
       "      <td>2013-05-03 00:00:00</td>\n",
       "    </tr>\n",
       "    <tr>\n",
       "      <th>2</th>\n",
       "      <td>Frozen</td>\n",
       "      <td>150000000.0</td>\n",
       "      <td>400738009</td>\n",
       "      <td>Chris BuckJennifer Lee</td>\n",
       "      <td>PG</td>\n",
       "      <td>108</td>\n",
       "      <td>2013-11-22 00:00:00</td>\n",
       "    </tr>\n",
       "    <tr>\n",
       "      <th>3</th>\n",
       "      <td>Despicable Me 2</td>\n",
       "      <td>76000000.0</td>\n",
       "      <td>368061265</td>\n",
       "      <td>Pierre CoffinChris Renaud</td>\n",
       "      <td>PG</td>\n",
       "      <td>98</td>\n",
       "      <td>2013-07-03 00:00:00</td>\n",
       "    </tr>\n",
       "    <tr>\n",
       "      <th>4</th>\n",
       "      <td>Man of Steel</td>\n",
       "      <td>225000000.0</td>\n",
       "      <td>291045518</td>\n",
       "      <td>Zack Snyder</td>\n",
       "      <td>PG-13</td>\n",
       "      <td>143</td>\n",
       "      <td>2013-06-14 00:00:00</td>\n",
       "    </tr>\n",
       "  </tbody>\n",
       "</table>\n",
       "</div>"
      ],
      "text/plain": [
       "                             Title       Budget  DomesticTotalGross  \\\n",
       "0  The Hunger Games: Catching Fire  130000000.0           424668047   \n",
       "1                       Iron Man 3  200000000.0           409013994   \n",
       "2                           Frozen  150000000.0           400738009   \n",
       "3                  Despicable Me 2   76000000.0           368061265   \n",
       "4                     Man of Steel  225000000.0           291045518   \n",
       "\n",
       "                    Director Rating  Runtime          ReleaseDate  \n",
       "0           Francis Lawrence  PG-13      146  2013-11-22 00:00:00  \n",
       "1                Shane Black  PG-13      129  2013-05-03 00:00:00  \n",
       "2     Chris BuckJennifer Lee     PG      108  2013-11-22 00:00:00  \n",
       "3  Pierre CoffinChris Renaud     PG       98  2013-07-03 00:00:00  \n",
       "4                Zack Snyder  PG-13      143  2013-06-14 00:00:00  "
      ]
     },
     "execution_count": 311,
     "metadata": {},
     "output_type": "execute_result"
    }
   ],
   "source": [
    "df_movies.head()"
   ]
  },
  {
   "cell_type": "code",
   "execution_count": 312,
   "metadata": {},
   "outputs": [
    {
     "data": {
      "text/plain": [
       "<matplotlib.axes._subplots.AxesSubplot at 0x1a2e0c5828>"
      ]
     },
     "execution_count": 312,
     "metadata": {},
     "output_type": "execute_result"
    },
    {
     "data": {
      "image/png": "[encoded data removed]",
      "text/plain": [
       "<Figure size 432x288 with 1 Axes>"
      ]
     },
     "metadata": {},
     "output_type": "display_data"
    }
   ],
   "source": [
    "df_movies['Rating'].value_counts().plot.bar()"
   ]
  },
  {
   "cell_type": "code",
   "execution_count": 321,
   "metadata": {},
   "outputs": [],
   "source": [
    "# dums2 = pd.get_dummies(df_movies['Director'])\n",
    "\n",
    "# df_movies = df_movies.merge(dums2, how='outer', left_index=True, right_index=True)\n",
    "\n",
    "# df_movies.info()"
   ]
  },
  {
   "cell_type": "code",
   "execution_count": 322,
   "metadata": {},
   "outputs": [],
   "source": [
    "# df_movies=df_movies.dropna(axis='rows')\n",
    "# df_movies.info()"
   ]
  },
  {
   "cell_type": "code",
   "execution_count": 315,
   "metadata": {},
   "outputs": [],
   "source": [
    "X_movies = df_movies.drop([\"Rating\",'ReleaseDate','Title','Director'],axis=1)\n",
    "y_movies = df_movies['Rating']\n",
    "\n",
    "X_train, X_test, y_train, y_test = train_test_split(X_movies, y_movies, test_size=0.2,random_state=42)"
   ]
  },
  {
   "cell_type": "code",
   "execution_count": 316,
   "metadata": {},
   "outputs": [
    {
     "name": "stdout",
     "output_type": "stream",
     "text": [
      "(10, 0.7777777777777778)\n"
     ]
    }
   ],
   "source": [
    "k_range = list(range(1, 21))\n",
    "scores=[]\n",
    "for k in k_range:\n",
    "    knn = KNeighborsClassifier(n_neighbors=k)\n",
    "    knn.fit(X_train,y_train)\n",
    "    y_pred = knn.predict(X_test)\n",
    "    scores.append((k,accuracy_score(y_test, y_pred)))\n",
    "print(max(scores,key=lambda item:item[1]))"
   ]
  },
  {
   "cell_type": "code",
   "execution_count": 319,
   "metadata": {},
   "outputs": [],
   "source": [
    "knn = KNeighborsClassifier(n_neighbors=10)\n",
    "lr_movies = LogisticRegression()\n",
    "\n",
    "knn.fit(X_train,y_train)\n",
    "lr_movies.fit(X_train,y_train)\n",
    "y_knns=knn.predict(X_test)\n",
    "y_lrs=lr_movies.predict(X_test)"
   ]
  },
  {
   "cell_type": "code",
   "execution_count": 320,
   "metadata": {},
   "outputs": [
    {
     "name": "stdout",
     "output_type": "stream",
     "text": [
      "KNN Accuracy: 0.7777777777777778\n",
      "Logistic Regression Accuracy: 0.5555555555555556\n"
     ]
    }
   ],
   "source": [
    "print(\"KNN Accuracy: \" + str(accuracy_score(y_test, y_knns)))\n",
    "print(\"Logistic Regression Accuracy: \" + str(accuracy_score(y_test, y_lrs)))"
   ]
  },
  {
   "cell_type": "code",
   "execution_count": 323,
   "metadata": {},
   "outputs": [
    {
     "name": "stdout",
     "output_type": "stream",
     "text": [
      "Only Predict PG-13 Accuracy: 0.5\n"
     ]
    }
   ],
   "source": [
    "y_preds_pg13 = all_one(len(y_test),'PG-13')\n",
    "print(\"Only Predict PG-13 Accuracy: \" + str(accuracy_score(y_test, y_preds_pg13)))"
   ]
  },
  {
   "cell_type": "code",
   "execution_count": 327,
   "metadata": {},
   "outputs": [
    {
     "data": {
      "text/html": [
       "<div>\n",
       "<style scoped>\n",
       "    .dataframe tbody tr th:only-of-type {\n",
       "        vertical-align: middle;\n",
       "    }\n",
       "\n",
       "    .dataframe tbody tr th {\n",
       "        vertical-align: top;\n",
       "    }\n",
       "\n",
       "    .dataframe thead th {\n",
       "        text-align: right;\n",
       "    }\n",
       "</style>\n",
       "<table border=\"1\" class=\"dataframe\">\n",
       "  <thead>\n",
       "    <tr style=\"text-align: right;\">\n",
       "      <th></th>\n",
       "      <th>Budget</th>\n",
       "      <th>DomesticTotalGross</th>\n",
       "      <th>Runtime</th>\n",
       "      <th>Adam McKay</th>\n",
       "      <th>Alan Taylor</th>\n",
       "      <th>Alfonso Cuaron</th>\n",
       "      <th>Andres Muschietti</th>\n",
       "      <th>Andrew Niccol</th>\n",
       "      <th>Antoine Fuqua</th>\n",
       "      <th>Baltasar Kormakur</th>\n",
       "      <th>...</th>\n",
       "      <th>Spike Jonze</th>\n",
       "      <th>Stephen Frears</th>\n",
       "      <th>Steve McQueen (II)</th>\n",
       "      <th>Steven Soderbergh</th>\n",
       "      <th>Thor Freudenthal</th>\n",
       "      <th>Todd Phillips</th>\n",
       "      <th>Tommy Wirkola</th>\n",
       "      <th>Tyler Perry</th>\n",
       "      <th>Woody Allen</th>\n",
       "      <th>Zack Snyder</th>\n",
       "    </tr>\n",
       "  </thead>\n",
       "  <tbody>\n",
       "    <tr>\n",
       "      <th>58</th>\n",
       "      <td>130000000.0</td>\n",
       "      <td>60522097</td>\n",
       "      <td>100</td>\n",
       "      <td>0</td>\n",
       "      <td>0</td>\n",
       "      <td>0</td>\n",
       "      <td>0</td>\n",
       "      <td>0</td>\n",
       "      <td>0</td>\n",
       "      <td>0</td>\n",
       "      <td>...</td>\n",
       "      <td>0</td>\n",
       "      <td>0</td>\n",
       "      <td>0</td>\n",
       "      <td>0</td>\n",
       "      <td>0</td>\n",
       "      <td>0</td>\n",
       "      <td>0</td>\n",
       "      <td>0</td>\n",
       "      <td>0</td>\n",
       "      <td>0</td>\n",
       "    </tr>\n",
       "    <tr>\n",
       "      <th>82</th>\n",
       "      <td>30000000.0</td>\n",
       "      <td>35266619</td>\n",
       "      <td>92</td>\n",
       "      <td>0</td>\n",
       "      <td>0</td>\n",
       "      <td>0</td>\n",
       "      <td>0</td>\n",
       "      <td>0</td>\n",
       "      <td>0</td>\n",
       "      <td>0</td>\n",
       "      <td>...</td>\n",
       "      <td>0</td>\n",
       "      <td>0</td>\n",
       "      <td>0</td>\n",
       "      <td>0</td>\n",
       "      <td>0</td>\n",
       "      <td>0</td>\n",
       "      <td>0</td>\n",
       "      <td>0</td>\n",
       "      <td>0</td>\n",
       "      <td>0</td>\n",
       "    </tr>\n",
       "    <tr>\n",
       "      <th>13</th>\n",
       "      <td>135000000.0</td>\n",
       "      <td>187168425</td>\n",
       "      <td>98</td>\n",
       "      <td>0</td>\n",
       "      <td>0</td>\n",
       "      <td>0</td>\n",
       "      <td>0</td>\n",
       "      <td>0</td>\n",
       "      <td>0</td>\n",
       "      <td>0</td>\n",
       "      <td>...</td>\n",
       "      <td>0</td>\n",
       "      <td>0</td>\n",
       "      <td>0</td>\n",
       "      <td>0</td>\n",
       "      <td>0</td>\n",
       "      <td>0</td>\n",
       "      <td>0</td>\n",
       "      <td>0</td>\n",
       "      <td>0</td>\n",
       "      <td>0</td>\n",
       "    </tr>\n",
       "    <tr>\n",
       "      <th>33</th>\n",
       "      <td>190000000.0</td>\n",
       "      <td>101802906</td>\n",
       "      <td>131</td>\n",
       "      <td>0</td>\n",
       "      <td>0</td>\n",
       "      <td>0</td>\n",
       "      <td>0</td>\n",
       "      <td>0</td>\n",
       "      <td>0</td>\n",
       "      <td>0</td>\n",
       "      <td>...</td>\n",
       "      <td>0</td>\n",
       "      <td>0</td>\n",
       "      <td>0</td>\n",
       "      <td>0</td>\n",
       "      <td>0</td>\n",
       "      <td>0</td>\n",
       "      <td>0</td>\n",
       "      <td>0</td>\n",
       "      <td>0</td>\n",
       "      <td>0</td>\n",
       "    </tr>\n",
       "    <tr>\n",
       "      <th>43</th>\n",
       "      <td>135000000.0</td>\n",
       "      <td>83028128</td>\n",
       "      <td>96</td>\n",
       "      <td>0</td>\n",
       "      <td>0</td>\n",
       "      <td>0</td>\n",
       "      <td>0</td>\n",
       "      <td>0</td>\n",
       "      <td>0</td>\n",
       "      <td>0</td>\n",
       "      <td>...</td>\n",
       "      <td>0</td>\n",
       "      <td>0</td>\n",
       "      <td>0</td>\n",
       "      <td>0</td>\n",
       "      <td>0</td>\n",
       "      <td>0</td>\n",
       "      <td>0</td>\n",
       "      <td>0</td>\n",
       "      <td>0</td>\n",
       "      <td>0</td>\n",
       "    </tr>\n",
       "  </tbody>\n",
       "</table>\n",
       "<p>5 rows × 96 columns</p>\n",
       "</div>"
      ],
      "text/plain": [
       "         Budget  DomesticTotalGross  Runtime  Adam McKay  Alan Taylor  \\\n",
       "58  130000000.0            60522097      100           0            0   \n",
       "82   30000000.0            35266619       92           0            0   \n",
       "13  135000000.0           187168425       98           0            0   \n",
       "33  190000000.0           101802906      131           0            0   \n",
       "43  135000000.0            83028128       96           0            0   \n",
       "\n",
       "    Alfonso Cuaron  Andres Muschietti  Andrew Niccol  Antoine Fuqua  \\\n",
       "58               0                  0              0              0   \n",
       "82               0                  0              0              0   \n",
       "13               0                  0              0              0   \n",
       "33               0                  0              0              0   \n",
       "43               0                  0              0              0   \n",
       "\n",
       "    Baltasar Kormakur     ...       Spike Jonze  Stephen Frears  \\\n",
       "58                  0     ...                 0               0   \n",
       "82                  0     ...                 0               0   \n",
       "13                  0     ...                 0               0   \n",
       "33                  0     ...                 0               0   \n",
       "43                  0     ...                 0               0   \n",
       "\n",
       "    Steve McQueen (II)  Steven Soderbergh  Thor Freudenthal  Todd Phillips  \\\n",
       "58                   0                  0                 0              0   \n",
       "82                   0                  0                 0              0   \n",
       "13                   0                  0                 0              0   \n",
       "33                   0                  0                 0              0   \n",
       "43                   0                  0                 0              0   \n",
       "\n",
       "    Tommy Wirkola  Tyler Perry  Woody Allen  Zack Snyder  \n",
       "58              0            0            0            0  \n",
       "82              0            0            0            0  \n",
       "13              0            0            0            0  \n",
       "33              0            0            0            0  \n",
       "43              0            0            0            0  \n",
       "\n",
       "[5 rows x 96 columns]"
      ]
     },
     "execution_count": 327,
     "metadata": {},
     "output_type": "execute_result"
    }
   ],
   "source": [
    "X_train.head()"
   ]
  },
  {
   "cell_type": "code",
   "execution_count": 325,
   "metadata": {},
   "outputs": [
    {
     "data": {
      "text/plain": [
       "array([[-5.40258342e-09, -3.87273323e-09, -1.36719623e-13,\n",
       "        -3.74386198e-17, -1.88667705e-17, -1.97672096e-17,\n",
       "        -4.78488379e-17,  0.00000000e+00, -3.77430614e-17,\n",
       "        -4.13560478e-17,  7.35069986e-17, -2.93275079e-17,\n",
       "         7.72022292e-17, -5.04233426e-17,  0.00000000e+00,\n",
       "        -2.71993706e-17,  7.06110926e-17, -3.16665581e-17,\n",
       "         1.06306108e-16,  8.34337007e-17,  0.00000000e+00,\n",
       "        -3.60753078e-17,  8.49779685e-17,  0.00000000e+00,\n",
       "        -4.08749806e-17, -4.49273608e-17,  0.00000000e+00,\n",
       "         0.00000000e+00, -4.22292890e-17, -4.95995527e-17,\n",
       "         0.00000000e+00,  0.00000000e+00, -2.34113051e-17,\n",
       "        -2.46674158e-17,  0.00000000e+00, -1.61586086e-17,\n",
       "        -5.03136252e-17, -2.88695958e-17, -8.76626287e-17,\n",
       "        -5.44354765e-17, -4.43813293e-17,  0.00000000e+00,\n",
       "         7.24513165e-17, -4.38600239e-17,  0.00000000e+00,\n",
       "        -3.83707021e-17,  0.00000000e+00,  0.00000000e+00,\n",
       "        -5.35179722e-17, -4.69896296e-17, -4.57727517e-17,\n",
       "        -3.28885954e-17, -1.75926098e-17, -5.11348751e-17,\n",
       "        -5.00462435e-17,  9.37931658e-17,  7.56346948e-17,\n",
       "        -4.61372863e-17, -4.08262335e-17, -3.52209336e-17,\n",
       "        -4.98527196e-17, -3.45536732e-17, -9.95071019e-17,\n",
       "         0.00000000e+00, -3.24495945e-17,  0.00000000e+00,\n",
       "         0.00000000e+00,  0.00000000e+00, -3.30679595e-17,\n",
       "         0.00000000e+00, -3.87210113e-17, -3.86692000e-17,\n",
       "         0.00000000e+00, -4.93217115e-17,  1.00933016e-16,\n",
       "         8.03676934e-17, -3.64046259e-17,  0.00000000e+00,\n",
       "        -3.72884932e-17, -3.11134867e-17, -4.99286188e-17,\n",
       "         0.00000000e+00,  1.02470301e-16, -3.82931274e-17,\n",
       "        -8.30829964e-18, -4.51939497e-17, -5.21492441e-17,\n",
       "        -5.22300287e-17, -4.89076282e-17,  0.00000000e+00,\n",
       "         7.82996824e-17,  0.00000000e+00, -4.49996563e-17,\n",
       "         0.00000000e+00,  0.00000000e+00,  0.00000000e+00],\n",
       "       [ 8.52977182e-09, -5.76596798e-09, -3.13580909e-14,\n",
       "         4.88402803e-17,  4.02189599e-17,  5.51647768e-17,\n",
       "         4.86875376e-17,  0.00000000e+00, -4.46920143e-17,\n",
       "        -4.55899132e-17, -5.15489561e-17,  4.33182862e-17,\n",
       "        -5.09179616e-17, -4.13433943e-17,  0.00000000e+00,\n",
       "         2.64194365e-17, -4.44676588e-17,  2.65938333e-17,\n",
       "        -2.94048565e-17, -4.78978749e-17,  0.00000000e+00,\n",
       "        -3.62640496e-17, -5.44199809e-17,  0.00000000e+00,\n",
       "         3.79594533e-17, -4.49075886e-17,  0.00000000e+00,\n",
       "         0.00000000e+00, -3.94405078e-17, -4.16606506e-17,\n",
       "         0.00000000e+00,  0.00000000e+00,  2.60793582e-17,\n",
       "         2.93528001e-17,  0.00000000e+00,  3.95842597e-17,\n",
       "        -3.89204309e-17,  4.02373160e-17,  1.61651908e-17,\n",
       "        -4.24823234e-17, -3.72087141e-17,  0.00000000e+00,\n",
       "        -4.65743342e-17,  4.70953836e-17,  0.00000000e+00,\n",
       "        -5.03862921e-17,  0.00000000e+00,  0.00000000e+00,\n",
       "        -4.36909829e-17,  4.62882020e-17,  4.55800048e-17,\n",
       "         3.64657986e-17,  4.44356364e-17,  4.35666381e-17,\n",
       "        -4.50920341e-17, -4.54086966e-17, -4.28071334e-17,\n",
       "         4.69533484e-17,  5.06798557e-17,  4.48731302e-17,\n",
       "        -4.49435124e-17,  3.29125864e-17,  4.27512469e-18,\n",
       "         0.00000000e+00, -4.70624291e-17,  0.00000000e+00,\n",
       "         0.00000000e+00,  0.00000000e+00, -5.11065992e-17,\n",
       "         0.00000000e+00,  4.65765277e-17, -3.84098243e-17,\n",
       "         0.00000000e+00,  4.16314518e-17, -2.45128634e-17,\n",
       "        -5.17249776e-17, -3.58671962e-17,  0.00000000e+00,\n",
       "         3.08504968e-17,  3.15939206e-17, -4.68996905e-17,\n",
       "         0.00000000e+00, -5.16341807e-17, -3.69608735e-17,\n",
       "         5.41081480e-17,  4.05823011e-17, -4.50324074e-17,\n",
       "         4.60623117e-17, -4.18402067e-17,  0.00000000e+00,\n",
       "        -5.00238419e-17,  0.00000000e+00, -4.59153784e-17,\n",
       "         0.00000000e+00,  0.00000000e+00,  0.00000000e+00],\n",
       "       [-1.93805448e-08,  4.05605008e-09,  9.16932510e-14,\n",
       "        -7.13766457e-17, -1.90170434e-17, -5.16718479e-17,\n",
       "        -9.12039698e-17,  0.00000000e+00,  1.33765285e-16,\n",
       "         1.30104872e-16, -4.62863299e-17, -4.02209501e-17,\n",
       "        -4.26559157e-17,  9.91907437e-17,  0.00000000e+00,\n",
       "        -1.39771872e-17, -7.18968948e-17, -1.70258391e-17,\n",
       "        -3.29307602e-17, -4.05742337e-17,  0.00000000e+00,\n",
       "         1.08958928e-16, -2.63750515e-17,  0.00000000e+00,\n",
       "        -4.52910710e-17,  1.21662565e-16,  0.00000000e+00,\n",
       "         0.00000000e+00,  1.08026148e-16,  1.01871614e-16,\n",
       "         0.00000000e+00,  0.00000000e+00, -1.13655749e-17,\n",
       "        -1.45199341e-17,  0.00000000e+00, -1.46987239e-17,\n",
       "         9.06169722e-17, -3.30919105e-17, -4.03637501e-18,\n",
       "         9.58256893e-17,  9.55858257e-17,  0.00000000e+00,\n",
       "        -6.18889243e-17, -7.78939684e-17,  0.00000000e+00,\n",
       "         1.47661097e-16,  0.00000000e+00,  0.00000000e+00,\n",
       "         1.01831149e-16, -8.09918318e-17, -7.62565196e-17,\n",
       "        -3.14899499e-17, -2.24457074e-17, -7.91653217e-17,\n",
       "         1.13072847e-16, -2.93968951e-17, -6.81512600e-17,\n",
       "        -8.17264532e-17, -8.47992126e-17, -5.45461881e-17,\n",
       "         1.12914639e-16, -2.73694111e-17,  1.66395581e-17,\n",
       "         0.00000000e+00,  1.48780828e-16,  0.00000000e+00,\n",
       "         0.00000000e+00,  0.00000000e+00,  1.56354050e-16,\n",
       "         0.00000000e+00, -6.63133715e-17,  1.11438835e-16,\n",
       "         0.00000000e+00, -6.94153437e-17, -7.66460105e-17,\n",
       "        -3.66185724e-17,  1.06757678e-16,  0.00000000e+00,\n",
       "        -2.67988272e-17, -2.21693997e-17,  1.19358136e-16,\n",
       "         0.00000000e+00, -1.03362133e-17,  1.06898756e-16,\n",
       "        -1.45566081e-17, -5.91315508e-17,  1.09056936e-16,\n",
       "        -8.99689675e-17,  1.03810345e-16,  0.00000000e+00,\n",
       "        -4.32183720e-17,  0.00000000e+00,  1.24768369e-16,\n",
       "         0.00000000e+00,  0.00000000e+00,  0.00000000e+00]])"
      ]
     },
     "execution_count": 325,
     "metadata": {},
     "output_type": "execute_result"
    }
   ],
   "source": [
    "lr_movies.coef_"
   ]
  },
  {
   "cell_type": "markdown",
   "metadata": {},
   "source": [
    "There are a long list of coefficients because of the dummy variables! The non director variables have a much greater effect on predicting the rating. However our model does not do that well!"
   ]
  },
  {
   "cell_type": "markdown",
   "metadata": {},
   "source": [
    "### Challenge 12\n",
    "Now you are a classification master. The representative votes dataset only had 0s and 1s. Let's just swiftly tackle the breast cancer surgery data.\n",
    "\n",
    "Get it from here: [Haberman Survival Dataset](https://archive.ics.uci.edu/ml/datasets/Haberman%27s+Survival)\n",
    "\n",
    " * What is the average and standard deviation of the age of all of the patients?\n",
    " * What is the average and standard deviation of the age of those patients that survived 5 or more years after surgery?\n",
    " * What is the average and standard deviation of the age of those patients who survived fewer than 5 years after surgery?\n",
    " * Plot a histogram of the ages side by side with a histogram of the number of axillary nodes.\n",
    " * What is the earliest year of surgery in this dataset?\n",
    " * What is the most recent year of surgery?\n",
    " * Use logistic regression to predict survival after 5 years. How well does your model do?\n",
    " * What are the coefficients of logistic regression? Which features affect the outcome how?\n",
    " * Draw the learning curve for logistic regression in this case."
   ]
  },
  {
   "cell_type": "code",
   "execution_count": 335,
   "metadata": {},
   "outputs": [],
   "source": [
    "datafile = '/Users/adamsantos/ds/metis/metisgh/nyc18_ds17/challenges/challenges_data/haberman.data'\n",
    "\n",
    "df_cancer = pd.read_csv(datafile,sep=',', header=None)"
   ]
  },
  {
   "cell_type": "code",
   "execution_count": 336,
   "metadata": {},
   "outputs": [],
   "source": [
    "df_cancer.columns=['Age','Year','Nodes','Survive?']"
   ]
  },
  {
   "cell_type": "code",
   "execution_count": 347,
   "metadata": {},
   "outputs": [
    {
     "name": "stdout",
     "output_type": "stream",
     "text": [
      "<class 'pandas.core.frame.DataFrame'>\n",
      "RangeIndex: 306 entries, 0 to 305\n",
      "Data columns (total 4 columns):\n",
      "Age         306 non-null int64\n",
      "Year        306 non-null int64\n",
      "Nodes       306 non-null int64\n",
      "Survive?    306 non-null int64\n",
      "dtypes: int64(4)\n",
      "memory usage: 9.6 KB\n"
     ]
    }
   ],
   "source": [
    "df_cancer.info()"
   ]
  },
  {
   "cell_type": "code",
   "execution_count": 344,
   "metadata": {},
   "outputs": [
    {
     "name": "stdout",
     "output_type": "stream",
     "text": [
      "Mean Age: 52.45751633986928\n",
      "Age ST Dev: 10.80345234930328\n"
     ]
    }
   ],
   "source": [
    "print(\"Mean Age: \"+str(df_cancer['Age'].mean()))\n",
    "print(\"Age ST Dev: \"+str(df_cancer['Age'].std()))"
   ]
  },
  {
   "cell_type": "code",
   "execution_count": 345,
   "metadata": {},
   "outputs": [],
   "source": [
    "df_survival = df_cancer.loc[df_cancer['Survive?']==1]"
   ]
  },
  {
   "cell_type": "code",
   "execution_count": 350,
   "metadata": {},
   "outputs": [
    {
     "name": "stdout",
     "output_type": "stream",
     "text": [
      "Mean Age Survive: 52.01777777777778\n",
      "Age ST Dev Survive: 11.012154179929546\n"
     ]
    }
   ],
   "source": [
    "print(\"Mean Age Survive: \"+str(df_survival['Age'].mean()))\n",
    "print(\"Age ST Dev Survive: \"+str(df_survival['Age'].std()))"
   ]
  },
  {
   "cell_type": "code",
   "execution_count": 351,
   "metadata": {},
   "outputs": [],
   "source": [
    "df_nonsurvival = df_cancer.loc[df_cancer['Survive?']==2]"
   ]
  },
  {
   "cell_type": "code",
   "execution_count": 352,
   "metadata": {},
   "outputs": [
    {
     "name": "stdout",
     "output_type": "stream",
     "text": [
      "Mean Age Not Survive: 53.67901234567901\n",
      "Age ST Dev Not Survive: 10.16713720829741\n"
     ]
    }
   ],
   "source": [
    "print(\"Mean Age Not Survive: \"+str(df_nonsurvival['Age'].mean()))\n",
    "print(\"Age ST Dev Not Survive: \"+str(df_nonsurvival['Age'].std()))"
   ]
  },
  {
   "cell_type": "code",
   "execution_count": 353,
   "metadata": {},
   "outputs": [
    {
     "data": {
      "text/plain": [
       "array([[<matplotlib.axes._subplots.AxesSubplot object at 0x1a2e50b3c8>]],\n",
       "      dtype=object)"
      ]
     },
     "execution_count": 353,
     "metadata": {},
     "output_type": "execute_result"
    },
    {
     "data": {
      "image/png": "[encoded data removed]",
      "text/plain": [
       "<Figure size 432x288 with 1 Axes>"
      ]
     },
     "metadata": {},
     "output_type": "display_data"
    }
   ],
   "source": [
    "df_cancer.hist(column='Age')"
   ]
  },
  {
   "cell_type": "code",
   "execution_count": 354,
   "metadata": {},
   "outputs": [
    {
     "data": {
      "text/plain": [
       "array([[<matplotlib.axes._subplots.AxesSubplot object at 0x1a2e0be5f8>]],\n",
       "      dtype=object)"
      ]
     },
     "execution_count": 354,
     "metadata": {},
     "output_type": "execute_result"
    },
    {
     "data": {
      "image/png": "[encoded data removed]",
      "text/plain": [
       "<Figure size 432x288 with 1 Axes>"
      ]
     },
     "metadata": {},
     "output_type": "display_data"
    }
   ],
   "source": [
    "df_cancer.hist(column='Nodes')"
   ]
  },
  {
   "cell_type": "code",
   "execution_count": 356,
   "metadata": {},
   "outputs": [
    {
     "name": "stdout",
     "output_type": "stream",
     "text": [
      "The earliest year is 1958\n"
     ]
    }
   ],
   "source": [
    "print(\"The earliest year is 19\"+str(df_cancer['Year'].min()))"
   ]
  },
  {
   "cell_type": "code",
   "execution_count": 357,
   "metadata": {},
   "outputs": [
    {
     "name": "stdout",
     "output_type": "stream",
     "text": [
      "The most recent surgery is 1969\n"
     ]
    }
   ],
   "source": [
    "print(\"The most recent surgery is 19\"+str(df_cancer['Year'].max()))"
   ]
  },
  {
   "cell_type": "code",
   "execution_count": 358,
   "metadata": {},
   "outputs": [],
   "source": [
    "lr_cancer = LogisticRegression()"
   ]
  },
  {
   "cell_type": "code",
   "execution_count": 367,
   "metadata": {},
   "outputs": [],
   "source": [
    "X_cancer = df_cancer.drop('Survive?',axis=1)\n",
    "y_cancer = df_cancer['Survive?']\n",
    "\n",
    "X_train, X_test, y_train, y_test = train_test_split(X_cancer, y_cancer, test_size=0.2,random_state=42)"
   ]
  },
  {
   "cell_type": "code",
   "execution_count": 361,
   "metadata": {},
   "outputs": [],
   "source": [
    "lr_cancer.fit(X_train,y_train)\n",
    "y_cancer = lr_cancer.predict(X_test)"
   ]
  },
  {
   "cell_type": "code",
   "execution_count": 362,
   "metadata": {},
   "outputs": [
    {
     "name": "stdout",
     "output_type": "stream",
     "text": [
      "Accuracy: 0.6935483870967742\n"
     ]
    }
   ],
   "source": [
    "print(\"Accuracy: \" + str(accuracy_score(y_test, y_cancer)))"
   ]
  },
  {
   "cell_type": "code",
   "execution_count": 363,
   "metadata": {},
   "outputs": [
    {
     "data": {
      "text/plain": [
       "array([[ 0.03260464, -0.05187597,  0.10270644]])"
      ]
     },
     "execution_count": 363,
     "metadata": {},
     "output_type": "execute_result"
    }
   ],
   "source": [
    "lr_cancer.coef_"
   ]
  },
  {
   "cell_type": "markdown",
   "metadata": {},
   "source": [
    "The number of nodes is the biggest factor in our prediction model"
   ]
  },
  {
   "cell_type": "code",
   "execution_count": 374,
   "metadata": {},
   "outputs": [],
   "source": [
    "m, train_err, test_err = learning_curve(lr_cancer,X_cancer,y_cancer)\n",
    "\n",
    "train_cv_err = np.mean(train_err, axis=1)\n",
    "test_cv_err = np.mean(test_err,axis=1)\n",
    "train_cv_err_cancer = np.mean(train_err_knn, axis=1)\n",
    "test_cv_err_cancer = np.mean(test_err_knn,axis=1)"
   ]
  },
  {
   "cell_type": "code",
   "execution_count": 375,
   "metadata": {},
   "outputs": [
    {
     "data": {
      "text/plain": [
       "[<matplotlib.lines.Line2D at 0x1a2e565f60>]"
      ]
     },
     "execution_count": 375,
     "metadata": {},
     "output_type": "execute_result"
    },
    {
     "data": {
      "image/png": "[encoded data removed]",
      "text/plain": [
       "<Figure size 432x288 with 1 Axes>"
      ]
     },
     "metadata": {},
     "output_type": "display_data"
    }
   ],
   "source": [
    "plt.plot(m_knn,train_cv_err_cancer)\n",
    "plt.plot(m_knn,test_cv_err_cancer)"
   ]
  },
  {
   "cell_type": "code",
   "execution_count": null,
   "metadata": {},
   "outputs": [],
   "source": []
  }
 ],
 "metadata": {
  "kernelspec": {
   "display_name": "Python 3",
   "language": "python",
   "name": "python3"
  },
  "language_info": {
   "codemirror_mode": {
    "name": "ipython",
    "version": 3
   },
   "file_extension": ".py",
   "mimetype": "text/x-python",
   "name": "python",
   "nbconvert_exporter": "python",
   "pygments_lexer": "ipython3",
   "version": "3.6.5"
  }
 },
 "nbformat": 4,
 "nbformat_minor": 2
}
