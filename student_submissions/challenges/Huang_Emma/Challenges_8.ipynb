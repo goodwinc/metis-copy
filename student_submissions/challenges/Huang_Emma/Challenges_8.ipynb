{
 "cells": [
  {
   "cell_type": "markdown",
   "metadata": {},
   "source": [
    "Topic: Challenge Set 8  \n",
    "Subject: Classification Errors  \n",
    "Date: 10/22/2018  \n",
    "Name: Emma Huang"
   ]
  },
  {
   "cell_type": "code",
   "execution_count": 191,
   "metadata": {},
   "outputs": [],
   "source": [
    "# libraries\n",
    "import pandas as pd\n",
    "import numpy as np\n",
    "\n",
    "import io\n",
    "import requests\n",
    "import operator\n",
    "\n",
    "from sklearn.cross_validation import train_test_split, cross_val_score\n",
    "from sklearn.metrics import precision_score, recall_score, accuracy_score, roc_auc_score, classification_report, roc_curve\n",
    "from sklearn.learning_curve import learning_curve\n",
    "from sklearn.preprocessing import StandardScaler\n",
    "\n",
    "from sklearn.neighbors import KNeighborsClassifier\n",
    "from sklearn.linear_model import LogisticRegression\n",
    "from sklearn.naive_bayes import GaussianNB\n",
    "from sklearn.svm import SVC\n",
    "from sklearn.tree import DecisionTreeClassifier\n",
    "from sklearn.ensemble import RandomForestClassifier\n",
    "\n",
    "import matplotlib.pyplot as plt\n",
    "import seaborn as sns\n",
    "%matplotlib inline"
   ]
  },
  {
   "cell_type": "code",
   "execution_count": 192,
   "metadata": {},
   "outputs": [],
   "source": [
    "# Load the vote data into a dataframe\n",
    "s=requests.get(\"https://archive.ics.uci.edu/ml/machine-learning-databases/voting-records/house-votes-84.data\").content\n",
    "df=pd.read_csv(io.StringIO(s.decode('utf-8')),header=None)"
   ]
  },
  {
   "cell_type": "code",
   "execution_count": 193,
   "metadata": {},
   "outputs": [],
   "source": [
    "# Replace 'y's with 1s, 'n's with 0s\n",
    "df.replace({'n': 0, 'y': 1},inplace=True)"
   ]
  },
  {
   "cell_type": "code",
   "execution_count": 194,
   "metadata": {},
   "outputs": [],
   "source": [
    "# get counts of 0 & 1 for each column\n",
    "counts = df.apply(pd.value_counts)\n",
    "# make a list of probabilities\n",
    "vote_probs = []\n",
    "for item in range(1,17):\n",
    "    vote_probs.append(counts[item][1]/(counts[item][1]+counts[item][0]))\n",
    "# replace the \"?\"s with probabilities\n",
    "for item in range(1,17):\n",
    "    df[item].replace({'?': vote_probs[item-1]},inplace=True)"
   ]
  },
  {
   "cell_type": "code",
   "execution_count": 195,
   "metadata": {},
   "outputs": [
    {
     "data": {
      "text/html": [
       "<div>\n",
       "<style scoped>\n",
       "    .dataframe tbody tr th:only-of-type {\n",
       "        vertical-align: middle;\n",
       "    }\n",
       "\n",
       "    .dataframe tbody tr th {\n",
       "        vertical-align: top;\n",
       "    }\n",
       "\n",
       "    .dataframe thead th {\n",
       "        text-align: right;\n",
       "    }\n",
       "</style>\n",
       "<table border=\"1\" class=\"dataframe\">\n",
       "  <thead>\n",
       "    <tr style=\"text-align: right;\">\n",
       "      <th></th>\n",
       "      <th>0</th>\n",
       "      <th>1</th>\n",
       "      <th>2</th>\n",
       "      <th>3</th>\n",
       "      <th>4</th>\n",
       "      <th>5</th>\n",
       "      <th>6</th>\n",
       "      <th>7</th>\n",
       "      <th>8</th>\n",
       "      <th>9</th>\n",
       "      <th>10</th>\n",
       "      <th>11</th>\n",
       "      <th>12</th>\n",
       "      <th>13</th>\n",
       "      <th>14</th>\n",
       "      <th>15</th>\n",
       "      <th>16</th>\n",
       "    </tr>\n",
       "  </thead>\n",
       "  <tbody>\n",
       "    <tr>\n",
       "      <th>0</th>\n",
       "      <td>republican</td>\n",
       "      <td>0.00000</td>\n",
       "      <td>1.0</td>\n",
       "      <td>0.0</td>\n",
       "      <td>1.000000</td>\n",
       "      <td>1.000000</td>\n",
       "      <td>1.0</td>\n",
       "      <td>0.0</td>\n",
       "      <td>0.0</td>\n",
       "      <td>0.0</td>\n",
       "      <td>1.0</td>\n",
       "      <td>0.362319</td>\n",
       "      <td>1.000000</td>\n",
       "      <td>1.0</td>\n",
       "      <td>1.0</td>\n",
       "      <td>0.0</td>\n",
       "      <td>1.000000</td>\n",
       "    </tr>\n",
       "    <tr>\n",
       "      <th>1</th>\n",
       "      <td>republican</td>\n",
       "      <td>0.00000</td>\n",
       "      <td>1.0</td>\n",
       "      <td>0.0</td>\n",
       "      <td>1.000000</td>\n",
       "      <td>1.000000</td>\n",
       "      <td>1.0</td>\n",
       "      <td>0.0</td>\n",
       "      <td>0.0</td>\n",
       "      <td>0.0</td>\n",
       "      <td>0.0</td>\n",
       "      <td>0.000000</td>\n",
       "      <td>1.000000</td>\n",
       "      <td>1.0</td>\n",
       "      <td>1.0</td>\n",
       "      <td>0.0</td>\n",
       "      <td>0.812689</td>\n",
       "    </tr>\n",
       "    <tr>\n",
       "      <th>2</th>\n",
       "      <td>democrat</td>\n",
       "      <td>0.44208</td>\n",
       "      <td>1.0</td>\n",
       "      <td>1.0</td>\n",
       "      <td>0.417453</td>\n",
       "      <td>1.000000</td>\n",
       "      <td>1.0</td>\n",
       "      <td>0.0</td>\n",
       "      <td>0.0</td>\n",
       "      <td>0.0</td>\n",
       "      <td>0.0</td>\n",
       "      <td>1.000000</td>\n",
       "      <td>0.000000</td>\n",
       "      <td>1.0</td>\n",
       "      <td>1.0</td>\n",
       "      <td>0.0</td>\n",
       "      <td>0.000000</td>\n",
       "    </tr>\n",
       "    <tr>\n",
       "      <th>3</th>\n",
       "      <td>democrat</td>\n",
       "      <td>0.00000</td>\n",
       "      <td>1.0</td>\n",
       "      <td>1.0</td>\n",
       "      <td>0.000000</td>\n",
       "      <td>0.504762</td>\n",
       "      <td>1.0</td>\n",
       "      <td>0.0</td>\n",
       "      <td>0.0</td>\n",
       "      <td>0.0</td>\n",
       "      <td>0.0</td>\n",
       "      <td>1.000000</td>\n",
       "      <td>0.000000</td>\n",
       "      <td>1.0</td>\n",
       "      <td>0.0</td>\n",
       "      <td>0.0</td>\n",
       "      <td>1.000000</td>\n",
       "    </tr>\n",
       "    <tr>\n",
       "      <th>4</th>\n",
       "      <td>democrat</td>\n",
       "      <td>1.00000</td>\n",
       "      <td>1.0</td>\n",
       "      <td>1.0</td>\n",
       "      <td>0.000000</td>\n",
       "      <td>1.000000</td>\n",
       "      <td>1.0</td>\n",
       "      <td>0.0</td>\n",
       "      <td>0.0</td>\n",
       "      <td>0.0</td>\n",
       "      <td>0.0</td>\n",
       "      <td>1.000000</td>\n",
       "      <td>0.423267</td>\n",
       "      <td>1.0</td>\n",
       "      <td>1.0</td>\n",
       "      <td>1.0</td>\n",
       "      <td>1.000000</td>\n",
       "    </tr>\n",
       "  </tbody>\n",
       "</table>\n",
       "</div>"
      ],
      "text/plain": [
       "           0        1    2    3         4         5    6    7    8    9    10  \\\n",
       "0  republican  0.00000  1.0  0.0  1.000000  1.000000  1.0  0.0  0.0  0.0  1.0   \n",
       "1  republican  0.00000  1.0  0.0  1.000000  1.000000  1.0  0.0  0.0  0.0  0.0   \n",
       "2    democrat  0.44208  1.0  1.0  0.417453  1.000000  1.0  0.0  0.0  0.0  0.0   \n",
       "3    democrat  0.00000  1.0  1.0  0.000000  0.504762  1.0  0.0  0.0  0.0  0.0   \n",
       "4    democrat  1.00000  1.0  1.0  0.000000  1.000000  1.0  0.0  0.0  0.0  0.0   \n",
       "\n",
       "         11        12   13   14   15        16  \n",
       "0  0.362319  1.000000  1.0  1.0  0.0  1.000000  \n",
       "1  0.000000  1.000000  1.0  1.0  0.0  0.812689  \n",
       "2  1.000000  0.000000  1.0  1.0  0.0  0.000000  \n",
       "3  1.000000  0.000000  1.0  0.0  0.0  1.000000  \n",
       "4  1.000000  0.423267  1.0  1.0  1.0  1.000000  "
      ]
     },
     "execution_count": 195,
     "metadata": {},
     "output_type": "execute_result"
    }
   ],
   "source": [
    "df.head()"
   ]
  },
  {
   "cell_type": "code",
   "execution_count": 196,
   "metadata": {},
   "outputs": [],
   "source": [
    "# Split the data into a test and training set\n",
    "X=df.loc[:,df.columns != 0]\n",
    "y=df[0]\n",
    "X_train, X_test, y_train, y_test = train_test_split(X, y, test_size=0.30,random_state=4444)"
   ]
  },
  {
   "cell_type": "markdown",
   "metadata": {},
   "source": [
    "# Challenge 1"
   ]
  },
  {
   "cell_type": "code",
   "execution_count": 197,
   "metadata": {},
   "outputs": [],
   "source": [
    "knn = KNeighborsClassifier(n_neighbors=10)\n",
    "lm1 = LogisticRegression(C=1000)\n",
    "Gaus = GaussianNB()\n",
    "SVC = SVC()\n",
    "tree = DecisionTreeClassifier()\n",
    "rf = RandomForestClassifier()\n",
    "classifiers = [knn,lm1,Gaus,SVC,tree,rf]\n",
    "names = ['knn','lm1','Gaus','SVC','tree','rf']"
   ]
  },
  {
   "cell_type": "code",
   "execution_count": 174,
   "metadata": {
    "scrolled": true
   },
   "outputs": [
    {
     "name": "stdout",
     "output_type": "stream",
     "text": [
      "knn\n",
      "accuracy:0.9312977099236641\n",
      "             precision    recall  f1-score   support\n",
      "\n",
      "   democrat       0.94      0.95      0.94        77\n",
      " republican       0.92      0.91      0.92        54\n",
      "\n",
      "avg / total       0.93      0.93      0.93       131\n",
      "\n",
      "\n",
      "\n",
      "lm1\n",
      "accuracy:0.9312977099236641\n",
      "             precision    recall  f1-score   support\n",
      "\n",
      "   democrat       0.93      0.96      0.94        77\n",
      " republican       0.94      0.89      0.91        54\n",
      "\n",
      "avg / total       0.93      0.93      0.93       131\n",
      "\n",
      "\n",
      "\n",
      "Gaus\n",
      "accuracy:0.9389312977099237\n",
      "             precision    recall  f1-score   support\n",
      "\n",
      "   democrat       0.92      0.99      0.95        77\n",
      " republican       0.98      0.87      0.92        54\n",
      "\n",
      "avg / total       0.94      0.94      0.94       131\n",
      "\n",
      "\n",
      "\n",
      "SVC\n",
      "accuracy:0.9541984732824428\n",
      "             precision    recall  f1-score   support\n",
      "\n",
      "   democrat       0.95      0.97      0.96        77\n",
      " republican       0.96      0.93      0.94        54\n",
      "\n",
      "avg / total       0.95      0.95      0.95       131\n",
      "\n",
      "\n",
      "\n",
      "tree\n",
      "accuracy:0.9312977099236641\n",
      "             precision    recall  f1-score   support\n",
      "\n",
      "   democrat       0.93      0.96      0.94        77\n",
      " republican       0.94      0.89      0.91        54\n",
      "\n",
      "avg / total       0.93      0.93      0.93       131\n",
      "\n",
      "\n",
      "\n",
      "rf\n",
      "accuracy:0.9465648854961832\n",
      "             precision    recall  f1-score   support\n",
      "\n",
      "   democrat       0.94      0.97      0.96        77\n",
      " republican       0.96      0.91      0.93        54\n",
      "\n",
      "avg / total       0.95      0.95      0.95       131\n",
      "\n",
      "\n",
      "\n"
     ]
    }
   ],
   "source": [
    "count = 0\n",
    "for item in classifiers:\n",
    "    item.fit(X_train, y_train)\n",
    "    y_pred = item.predict(X_test)\n",
    "    print(names[count])\n",
    "    print(\"accuracy:\" + str(accuracy_score(y_test, y_pred)))\n",
    "    print(classification_report(y_test, y_pred))\n",
    "    print()\n",
    "    print()\n",
    "    count += 1"
   ]
  },
  {
   "cell_type": "markdown",
   "metadata": {},
   "source": [
    "# Challenge 2"
   ]
  },
  {
   "cell_type": "code",
   "execution_count": 175,
   "metadata": {},
   "outputs": [],
   "source": [
    "y_test.replace({'democrat': 0, 'republican': 1},inplace=True)"
   ]
  },
  {
   "cell_type": "code",
   "execution_count": 176,
   "metadata": {},
   "outputs": [
    {
     "data": {
      "image/png": "[encoded data removed]",
      "text/plain": [
       "<Figure size 432x288 with 1 Axes>"
      ]
     },
     "metadata": {},
     "output_type": "display_data"
    }
   ],
   "source": [
    "fpr1, tpr1, _ = roc_curve(y_test, knn.predict_proba(X_test)[:,1])\n",
    "plt.plot(fpr1, tpr1, label = \"KNN\")\n",
    "\n",
    "fpr2, tpr2, _ = roc_curve(y_test, lm1.predict_proba(X_test)[:,1])\n",
    "plt.plot(fpr2, tpr2, label = \"Logistic Regression\")\n",
    "\n",
    "fpr3, tpr3, _ = roc_curve(y_test, Gaus.predict_proba(X_test)[:,1])\n",
    "plt.plot(fpr3, tpr3, label = \"Gausian Naive Bayes\")\n",
    "\n",
    "# fpr4, tpr4, _ = roc_curve(y_test, SVC.predict_proba(X_test)[:,1])\n",
    "# plt.plot(fpr4, tpr4, label = \"SVM\")\n",
    "\n",
    "fpr5, tpr5, _ = roc_curve(y_test, tree.predict_proba(X_test)[:,1])\n",
    "plt.plot(fpr5, tpr5, label = \"Decision Tree Classifier\")\n",
    "\n",
    "fpr6, tpr6, _ = roc_curve(y_test, rf.predict_proba(X_test)[:,1])\n",
    "plt.plot(fpr6, tpr6, label = \"Random Forest Classifier\")\n",
    "\n",
    "x = np.linspace(0,1, 100000)\n",
    "plt.plot(x, x, linestyle='--')\n",
    "\n",
    "plt.title('ROC Curve')\n",
    "plt.xlabel('False Positive Rate')\n",
    "plt.ylabel('True Positive Rate')\n",
    "plt.legend()\n",
    "sns.despine();"
   ]
  },
  {
   "cell_type": "code",
   "execution_count": 155,
   "metadata": {},
   "outputs": [],
   "source": [
    "auc_list = []\n",
    "new_classifiers = [knn,lm1,Gaus,tree,rf]\n",
    "for item in new_classifiers:\n",
    "    auc_list.append(roc_auc_score(y_test, item.predict_proba(X_test)[:,1]))"
   ]
  },
  {
   "cell_type": "code",
   "execution_count": 156,
   "metadata": {},
   "outputs": [
    {
     "data": {
      "text/plain": [
       "[0.9455266955266955,\n",
       " 0.9812409812409812,\n",
       " 0.9841269841269842,\n",
       " 0.9342231842231842,\n",
       " 0.9789562289562289]"
      ]
     },
     "execution_count": 156,
     "metadata": {},
     "output_type": "execute_result"
    }
   ],
   "source": [
    "auc_list"
   ]
  },
  {
   "cell_type": "markdown",
   "metadata": {},
   "source": [
    "# Challenge 3"
   ]
  },
  {
   "cell_type": "code",
   "execution_count": 200,
   "metadata": {},
   "outputs": [],
   "source": [
    "y.replace({'democrat': 0, 'republican': 1},inplace=True)"
   ]
  },
  {
   "cell_type": "code",
   "execution_count": 201,
   "metadata": {},
   "outputs": [],
   "source": [
    "cross_accuracy = []\n",
    "cross_precision = []\n",
    "cross_recall = []\n",
    "cross_f1 = []\n",
    "for item in classifiers:\n",
    "    cross_accuracy.append(cross_val_score(item, X, y, cv=10).mean())\n",
    "    cross_precision.append(cross_val_score(item, X, y, cv=10, scoring='precision').mean())\n",
    "    cross_recall.append(cross_val_score(item, X, y, cv=10, scoring='recall').mean())\n",
    "    cross_f1.append(cross_val_score(item, X, y, cv=10, scoring='f1').mean())"
   ]
  },
  {
   "cell_type": "code",
   "execution_count": 206,
   "metadata": {},
   "outputs": [],
   "source": [
    "metrics = {}\n",
    "metrics['Accuracy'] = cross_accuracy\n",
    "metrics['Precision'] = cross_precision\n",
    "metrics['Recall'] = cross_recall\n",
    "metrics['F1'] = cross_f1"
   ]
  },
  {
   "cell_type": "code",
   "execution_count": 207,
   "metadata": {},
   "outputs": [
    {
     "data": {
      "text/plain": [
       "{'Accuracy': [0.9329029497634149,\n",
       "  0.9560656397865699,\n",
       "  0.9397739857042182,\n",
       "  0.9582804792107119,\n",
       "  0.9330690627202255,\n",
       "  0.9513565891472868],\n",
       " 'Precision': [0.9036366763611345,\n",
       "  0.947561919504644,\n",
       "  0.9259034227726177,\n",
       "  0.934673202614379,\n",
       "  0.9254179566563469,\n",
       "  0.925576625386997],\n",
       " 'Recall': [0.9338235294117647,\n",
       "  0.9404411764705882,\n",
       "  0.9220588235294118,\n",
       "  0.9643382352941176,\n",
       "  0.9408088235294118,\n",
       "  0.9584558823529411],\n",
       " 'F1': [0.9159213446262783,\n",
       "  0.9426770072642938,\n",
       "  0.922737989135048,\n",
       "  0.9476298701298702,\n",
       "  0.9197894661153674,\n",
       "  0.9369423497649304]}"
      ]
     },
     "execution_count": 207,
     "metadata": {},
     "output_type": "execute_result"
    }
   ],
   "source": [
    "metrics"
   ]
  },
  {
   "cell_type": "markdown",
   "metadata": {},
   "source": [
    "# Challenge 4"
   ]
  },
  {
   "cell_type": "code",
   "execution_count": 208,
   "metadata": {},
   "outputs": [],
   "source": [
    "# Read in dataframe\n",
    "movie_df = pd.read_csv('2013_movies.csv')\n",
    "movie_df['ReleaseDate'] = pd.to_datetime(movie_df['ReleaseDate'])"
   ]
  },
  {
   "cell_type": "code",
   "execution_count": 209,
   "metadata": {},
   "outputs": [],
   "source": [
    "# Replace budget Nones with the mean value\n",
    "movie_df['Budget'].replace({None: 74747000},inplace=True)"
   ]
  },
  {
   "cell_type": "code",
   "execution_count": 210,
   "metadata": {},
   "outputs": [],
   "source": [
    "# Split the data into a test and training set\n",
    "Xmov=movie_df[['Budget','DomesticTotalGross','Runtime']]\n",
    "ymov=movie_df['Rating']\n",
    "Xmov_train, Xmov_test, ymov_train, ymov_test = train_test_split(Xmov, ymov, test_size=0.30,random_state=4444)"
   ]
  },
  {
   "cell_type": "code",
   "execution_count": 217,
   "metadata": {},
   "outputs": [
    {
     "name": "stdout",
     "output_type": "stream",
     "text": [
      "             precision    recall  f1-score   support\n",
      "\n",
      "         PG       1.00      0.14      0.25         7\n",
      "      PG-13       0.61      0.79      0.69        14\n",
      "          R       0.55      0.67      0.60         9\n",
      "\n",
      "avg / total       0.68      0.60      0.56        30\n",
      "\n"
     ]
    }
   ],
   "source": [
    "# KNN\n",
    "knn_mov = KNeighborsClassifier(n_neighbors=3)\n",
    "knn_mov.fit(Xmov_train, ymov_train)\n",
    "y_pred = knn_mov.predict(Xmov_test)\n",
    "print(classification_report(ymov_test, y_pred))"
   ]
  },
  {
   "cell_type": "code",
   "execution_count": 219,
   "metadata": {},
   "outputs": [
    {
     "name": "stdout",
     "output_type": "stream",
     "text": [
      "             precision    recall  f1-score   support\n",
      "\n",
      "         PG       0.00      0.00      0.00         7\n",
      "      PG-13       0.48      0.86      0.62        14\n",
      "          R       0.40      0.22      0.29         9\n",
      "\n",
      "avg / total       0.34      0.47      0.37        30\n",
      "\n"
     ]
    },
    {
     "name": "stderr",
     "output_type": "stream",
     "text": [
      "/anaconda3/lib/python3.6/site-packages/sklearn/metrics/classification.py:1135: UndefinedMetricWarning: Precision and F-score are ill-defined and being set to 0.0 in labels with no predicted samples.\n",
      "  'precision', 'predicted', average, warn_for)\n"
     ]
    }
   ],
   "source": [
    "# LogisticRegression\n",
    "log_mov = LogisticRegression(C=1000)\n",
    "log_mov.fit(Xmov_train, ymov_train)\n",
    "y_pred = log_mov.predict(Xmov_test)\n",
    "print(classification_report(ymov_test, y_pred))"
   ]
  },
  {
   "cell_type": "markdown",
   "metadata": {},
   "source": [
    "# Challenge 5\n",
    "Draw the ROC curve (and calculate AUC) for the logistic regression classifier from challenge 12."
   ]
  },
  {
   "cell_type": "code",
   "execution_count": 231,
   "metadata": {},
   "outputs": [],
   "source": [
    "# Load the cancer data into a dataframe\n",
    "s = requests.get(\"https://archive.ics.uci.edu/ml/machine-learning-databases/haberman/haberman.data\").content\n",
    "cancerdf = pd.read_csv(io.StringIO(s.decode('utf-8')),header=None)"
   ]
  },
  {
   "cell_type": "code",
   "execution_count": 232,
   "metadata": {},
   "outputs": [],
   "source": [
    "Xcan=cancerdf[[0,1,2]]\n",
    "ycan=cancerdf[3]\n",
    "Xcan_train, Xcan_test, ycan_train, ycan_test = train_test_split(Xcan, ycan, test_size=0.30,random_state=4444)"
   ]
  },
  {
   "cell_type": "code",
   "execution_count": 233,
   "metadata": {},
   "outputs": [],
   "source": [
    "log_can = LogisticRegression(C=1000)\n",
    "log_can.fit(Xcan_train, ycan_train)\n",
    "ycan_test.replace({1: 0, 2: 1},inplace=True)"
   ]
  },
  {
   "cell_type": "code",
   "execution_count": 235,
   "metadata": {},
   "outputs": [
    {
     "data": {
      "image/png": "[encoded data removed]",
      "text/plain": [
       "<Figure size 432x288 with 1 Axes>"
      ]
     },
     "metadata": {},
     "output_type": "display_data"
    }
   ],
   "source": [
    "fpr, tpr, _ = roc_curve(ycan_test, log_can.predict_proba(Xcan_test)[:,1])\n",
    "plt.plot(fpr, tpr)\n",
    "\n",
    "x = np.linspace(0,1, 100000)\n",
    "plt.plot(x, x, linestyle='--')\n",
    "\n",
    "plt.title('Log ROC Curve')\n",
    "plt.xlabel('False Positive Rate')\n",
    "plt.ylabel('True Positive Rate')\n",
    "sns.despine();"
   ]
  },
  {
   "cell_type": "code",
   "execution_count": 236,
   "metadata": {},
   "outputs": [
    {
     "data": {
      "text/plain": [
       "0.6437687687687689"
      ]
     },
     "execution_count": 236,
     "metadata": {},
     "output_type": "execute_result"
    }
   ],
   "source": [
    "roc_auc_score(ycan_test, log_can.predict_proba(Xcan_test)[:,1])"
   ]
  },
  {
   "cell_type": "markdown",
   "metadata": {},
   "source": [
    "This is a pretty terrible ROC and AUC"
   ]
  },
  {
   "cell_type": "code",
   "execution_count": null,
   "metadata": {},
   "outputs": [],
   "source": []
  }
 ],
 "metadata": {
  "kernelspec": {
   "display_name": "Python 3",
   "language": "python",
   "name": "python3"
  },
  "language_info": {
   "codemirror_mode": {
    "name": "ipython",
    "version": 3
   },
   "file_extension": ".py",
   "mimetype": "text/x-python",
   "name": "python",
   "nbconvert_exporter": "python",
   "pygments_lexer": "ipython3",
   "version": "3.6.5"
  }
 },
 "nbformat": 4,
 "nbformat_minor": 2
}
