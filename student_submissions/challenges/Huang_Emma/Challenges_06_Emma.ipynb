{
 "cells": [
  {
   "cell_type": "markdown",
   "metadata": {},
   "source": [
    "Topic:        Challenge Set 6  \n",
    "Subject:      Linear Regression and Learning Curve challenges   \n",
    "Date:         10/15/2018  \n",
    "Name:         Emma Huang  "
   ]
  },
  {
   "cell_type": "code",
   "execution_count": 1,
   "metadata": {},
   "outputs": [
    {
     "name": "stderr",
     "output_type": "stream",
     "text": [
      "/anaconda3/lib/python3.6/site-packages/sklearn/cross_validation.py:41: DeprecationWarning: This module was deprecated in version 0.18 in favor of the model_selection module into which all the refactored classes and functions are moved. Also note that the interface of the new CV iterators are different from that of this module. This module will be removed in 0.20.\n",
      "  \"This module will be removed in 0.20.\", DeprecationWarning)\n"
     ]
    }
   ],
   "source": [
    "import pandas as pd\n",
    "import numpy as np\n",
    "\n",
    "import random\n",
    "import math\n",
    "\n",
    "from sklearn.linear_model import LinearRegression\n",
    "from sklearn.preprocessing import PolynomialFeatures\n",
    "from sklearn.cross_validation import train_test_split\n",
    "from sklearn.metrics import mean_squared_error\n",
    "\n",
    "import matplotlib.pyplot as plt\n",
    "import seaborn as sns\n",
    "%matplotlib inline"
   ]
  },
  {
   "cell_type": "markdown",
   "metadata": {},
   "source": [
    "# Challenge 1  "
   ]
  },
  {
   "cell_type": "code",
   "execution_count": 2,
   "metadata": {},
   "outputs": [],
   "source": [
    "# Generate (fake) data that is linearly related to log(x)\n",
    "x = []\n",
    "y = []\n",
    "for i in range(1000):\n",
    "    number = random.randint(1,500)\n",
    "    x.append(number)\n",
    "    y.append(2 + 6*math.log(number))"
   ]
  },
  {
   "cell_type": "code",
   "execution_count": 3,
   "metadata": {},
   "outputs": [],
   "source": [
    "x = np.array(x)\n",
    "y = np.array(y)"
   ]
  },
  {
   "cell_type": "code",
   "execution_count": 4,
   "metadata": {},
   "outputs": [],
   "source": [
    "x = x.reshape(-1, 1)"
   ]
  },
  {
   "cell_type": "code",
   "execution_count": 5,
   "metadata": {},
   "outputs": [],
   "source": [
    "# Try on linear model"
   ]
  },
  {
   "cell_type": "code",
   "execution_count": 6,
   "metadata": {},
   "outputs": [
    {
     "data": {
      "text/plain": [
       "LinearRegression(copy_X=True, fit_intercept=True, n_jobs=1, normalize=False)"
      ]
     },
     "execution_count": 6,
     "metadata": {},
     "output_type": "execute_result"
    }
   ],
   "source": [
    "m = LinearRegression()\n",
    "m.fit(x,y)"
   ]
  },
  {
   "cell_type": "code",
   "execution_count": 7,
   "metadata": {},
   "outputs": [
    {
     "data": {
      "text/plain": [
       "0.7622950036611147"
      ]
     },
     "execution_count": 7,
     "metadata": {},
     "output_type": "execute_result"
    }
   ],
   "source": [
    "m.score(x,y)"
   ]
  },
  {
   "cell_type": "code",
   "execution_count": 8,
   "metadata": {},
   "outputs": [],
   "source": [
    "# Fit a quadratic model"
   ]
  },
  {
   "cell_type": "code",
   "execution_count": 9,
   "metadata": {},
   "outputs": [],
   "source": [
    "poly = PolynomialFeatures(degree=2)\n",
    "x2 = poly.fit_transform(x)"
   ]
  },
  {
   "cell_type": "code",
   "execution_count": 10,
   "metadata": {},
   "outputs": [
    {
     "data": {
      "text/plain": [
       "LinearRegression(copy_X=True, fit_intercept=True, n_jobs=1, normalize=False)"
      ]
     },
     "execution_count": 10,
     "metadata": {},
     "output_type": "execute_result"
    }
   ],
   "source": [
    "m.fit(x2,y)"
   ]
  },
  {
   "cell_type": "code",
   "execution_count": 11,
   "metadata": {},
   "outputs": [
    {
     "data": {
      "text/plain": [
       "0.8972344950349868"
      ]
     },
     "execution_count": 11,
     "metadata": {},
     "output_type": "execute_result"
    }
   ],
   "source": [
    "m.score(x2,y)"
   ]
  },
  {
   "cell_type": "code",
   "execution_count": 12,
   "metadata": {},
   "outputs": [],
   "source": [
    "# Fit a logarithmic model"
   ]
  },
  {
   "cell_type": "code",
   "execution_count": 13,
   "metadata": {},
   "outputs": [],
   "source": [
    "log = lambda t: math.log(t)\n",
    "x = np.array([log(xi) for xi in x])"
   ]
  },
  {
   "cell_type": "code",
   "execution_count": 14,
   "metadata": {},
   "outputs": [],
   "source": [
    "x = x.reshape(-1, 1)"
   ]
  },
  {
   "cell_type": "code",
   "execution_count": 15,
   "metadata": {},
   "outputs": [
    {
     "data": {
      "text/plain": [
       "LinearRegression(copy_X=True, fit_intercept=True, n_jobs=1, normalize=False)"
      ]
     },
     "execution_count": 15,
     "metadata": {},
     "output_type": "execute_result"
    }
   ],
   "source": [
    "m = LinearRegression()\n",
    "m.fit(x,y)"
   ]
  },
  {
   "cell_type": "code",
   "execution_count": 16,
   "metadata": {},
   "outputs": [
    {
     "data": {
      "text/plain": [
       "1.0"
      ]
     },
     "execution_count": 16,
     "metadata": {},
     "output_type": "execute_result"
    }
   ],
   "source": [
    "m.score(x,y)"
   ]
  },
  {
   "cell_type": "markdown",
   "metadata": {},
   "source": [
    "# Challenge 2  "
   ]
  },
  {
   "cell_type": "code",
   "execution_count": 17,
   "metadata": {},
   "outputs": [],
   "source": [
    "# Generate (fake) data\n",
    "x = []\n",
    "y = []\n",
    "for i in range(1000):\n",
    "    number = random.randint(1,500)\n",
    "    x.append(number)\n",
    "    y.append(2 + 6*number + 3*(number**2))"
   ]
  },
  {
   "cell_type": "code",
   "execution_count": 18,
   "metadata": {},
   "outputs": [],
   "source": [
    "# Split the data into a training and test set\n",
    "X_train, X_test, y_train, y_test = train_test_split(x, y, test_size=0.25,random_state=42)"
   ]
  },
  {
   "cell_type": "code",
   "execution_count": 19,
   "metadata": {},
   "outputs": [],
   "source": [
    "X_train = np.array(X_train)\n",
    "y_train = np.array(y_train)\n",
    "X_test = np.array(X_test)\n",
    "y_test = np.array(y_test)\n",
    "\n",
    "X_train = X_train.reshape(-1, 1)\n",
    "X_test = X_test.reshape(-1, 1)"
   ]
  },
  {
   "cell_type": "code",
   "execution_count": 20,
   "metadata": {},
   "outputs": [],
   "source": [
    "#Fit a model to your training set\n",
    "poly = PolynomialFeatures(degree=2)\n",
    "x2 = poly.fit_transform(X_train)\n",
    "x2_test = poly.fit_transform(X_test)"
   ]
  },
  {
   "cell_type": "code",
   "execution_count": 21,
   "metadata": {},
   "outputs": [
    {
     "data": {
      "text/plain": [
       "LinearRegression(copy_X=True, fit_intercept=True, n_jobs=1, normalize=False)"
      ]
     },
     "execution_count": 21,
     "metadata": {},
     "output_type": "execute_result"
    }
   ],
   "source": [
    "m.fit(x2,y_train)"
   ]
  },
  {
   "cell_type": "code",
   "execution_count": 22,
   "metadata": {},
   "outputs": [
    {
     "data": {
      "text/plain": [
       "1.0"
      ]
     },
     "execution_count": 22,
     "metadata": {},
     "output_type": "execute_result"
    }
   ],
   "source": [
    "m.score(x2,y_train)"
   ]
  },
  {
   "cell_type": "code",
   "execution_count": 23,
   "metadata": {},
   "outputs": [
    {
     "data": {
      "text/plain": [
       "1.0"
      ]
     },
     "execution_count": 23,
     "metadata": {},
     "output_type": "execute_result"
    }
   ],
   "source": [
    "m.score(x2_test,y_test)"
   ]
  },
  {
   "cell_type": "code",
   "execution_count": 24,
   "metadata": {},
   "outputs": [
    {
     "data": {
      "text/plain": [
       "2.926885453064116e-21"
      ]
     },
     "execution_count": 24,
     "metadata": {},
     "output_type": "execute_result"
    }
   ],
   "source": [
    "# Calculate mean squared error on your training set\n",
    "y_train_pred = m.predict(x2)\n",
    "mean_squared_error(y_train, y_train_pred)"
   ]
  },
  {
   "cell_type": "code",
   "execution_count": 25,
   "metadata": {},
   "outputs": [
    {
     "data": {
      "text/plain": [
       "2.3782327179312796e-21"
      ]
     },
     "execution_count": 25,
     "metadata": {},
     "output_type": "execute_result"
    }
   ],
   "source": [
    "# Calculate mean squared error on your test set\n",
    "y_test_pred = m.predict(x2_test)\n",
    "mean_squared_error(y_test, y_test_pred)"
   ]
  },
  {
   "cell_type": "markdown",
   "metadata": {},
   "source": [
    "Overall, the mean squared error is larger on my test set, but both errors are very small"
   ]
  },
  {
   "cell_type": "markdown",
   "metadata": {},
   "source": [
    "# Challenge 3\n",
    "For the data from two (above), try polynomial fits from 0th (just constant) to 7th order (highest term x^7). Over the x axis of model degree (8 points), plot:\n",
    "\n",
    "training error  \n",
    "test error  \n",
    "R squared  \n",
    "AIC  "
   ]
  },
  {
   "cell_type": "code",
   "execution_count": 26,
   "metadata": {},
   "outputs": [],
   "source": [
    "# 0th order\n",
    "poly0 = PolynomialFeatures(degree=0)\n",
    "x0 = poly0.fit_transform(X_train)\n",
    "x0_test = poly0.fit_transform(X_test)\n",
    "\n",
    "m.fit(x0,y_train)\n",
    "y_train_pred = m.predict(x0)\n",
    "training_error_0 = mean_squared_error(y_train, y_train_pred)\n",
    "\n",
    "y_test_pred = m.predict(x0_test)\n",
    "test_error_0 = mean_squared_error(y_test, y_test_pred)\n",
    "\n",
    "r2_train_0 = m.score(x0,y_train)\n",
    "r2_test_0 = m.score(x0_test,y_test)"
   ]
  },
  {
   "cell_type": "code",
   "execution_count": 27,
   "metadata": {},
   "outputs": [],
   "source": [
    "# 1st order\n",
    "poly1 = PolynomialFeatures(degree=1)\n",
    "x1 = poly1.fit_transform(X_train)\n",
    "x1_test = poly1.fit_transform(X_test)\n",
    "\n",
    "m.fit(x1,y_train)\n",
    "y_train_pred = m.predict(x1)\n",
    "training_error_1 = mean_squared_error(y_train, y_train_pred)\n",
    "\n",
    "y_test_pred = m.predict(x1_test)\n",
    "test_error_1 = mean_squared_error(y_test, y_test_pred)\n",
    "\n",
    "r2_train_1 = m.score(x1,y_train)\n",
    "r2_test_1 = m.score(x1_test,y_test)"
   ]
  },
  {
   "cell_type": "code",
   "execution_count": 28,
   "metadata": {},
   "outputs": [],
   "source": [
    "# 2nd order\n",
    "poly2 = PolynomialFeatures(degree=2)\n",
    "x2 = poly2.fit_transform(X_train)\n",
    "x2_test = poly2.fit_transform(X_test)\n",
    "\n",
    "m.fit(x2,y_train)\n",
    "y_train_pred = m.predict(x2)\n",
    "training_error_2 = mean_squared_error(y_train, y_train_pred)\n",
    "\n",
    "y_test_pred = m.predict(x2_test)\n",
    "test_error_2 = mean_squared_error(y_test, y_test_pred)\n",
    "\n",
    "r2_train_2 = m.score(x2,y_train)\n",
    "r2_test_2 = m.score(x2_test,y_test)"
   ]
  },
  {
   "cell_type": "code",
   "execution_count": 29,
   "metadata": {},
   "outputs": [],
   "source": [
    "# 3rd order\n",
    "poly3 = PolynomialFeatures(degree=3)\n",
    "x3 = poly3.fit_transform(X_train)\n",
    "x3_test = poly3.fit_transform(X_test)\n",
    "\n",
    "m.fit(x3,y_train)\n",
    "y_train_pred = m.predict(x3)\n",
    "training_error_3 = mean_squared_error(y_train, y_train_pred)\n",
    "\n",
    "y_test_pred = m.predict(x3_test)\n",
    "test_error_3 = mean_squared_error(y_test, y_test_pred)\n",
    "\n",
    "r2_train_3 = m.score(x3,y_train)\n",
    "r2_test_3 = m.score(x3_test,y_test)"
   ]
  },
  {
   "cell_type": "code",
   "execution_count": 30,
   "metadata": {},
   "outputs": [],
   "source": [
    "# 4th order\n",
    "poly4 = PolynomialFeatures(degree=4)\n",
    "x4 = poly4.fit_transform(X_train)\n",
    "x4_test = poly4.fit_transform(X_test)\n",
    "\n",
    "m.fit(x4,y_train)\n",
    "y_train_pred = m.predict(x4)\n",
    "training_error_4 = mean_squared_error(y_train, y_train_pred)\n",
    "\n",
    "y_test_pred = m.predict(x4_test)\n",
    "test_error_4 = mean_squared_error(y_test, y_test_pred)\n",
    "\n",
    "r2_train_4 = m.score(x4,y_train)\n",
    "r2_test_4 = m.score(x4_test,y_test)"
   ]
  },
  {
   "cell_type": "code",
   "execution_count": 31,
   "metadata": {},
   "outputs": [],
   "source": [
    "# 5th order\n",
    "poly5 = PolynomialFeatures(degree=5)\n",
    "x5 = poly5.fit_transform(X_train)\n",
    "x5_test = poly5.fit_transform(X_test)\n",
    "\n",
    "m.fit(x5,y_train)\n",
    "y_train_pred = m.predict(x5)\n",
    "training_error_5 = mean_squared_error(y_train, y_train_pred)\n",
    "\n",
    "y_test_pred = m.predict(x5_test)\n",
    "test_error_5 = mean_squared_error(y_test, y_test_pred)\n",
    "\n",
    "r2_train_5 = m.score(x5,y_train)\n",
    "r2_test_5 = m.score(x5_test,y_test)"
   ]
  },
  {
   "cell_type": "code",
   "execution_count": 32,
   "metadata": {},
   "outputs": [],
   "source": [
    "# 6th order\n",
    "poly6 = PolynomialFeatures(degree=6)\n",
    "x6 = poly6.fit_transform(X_train)\n",
    "x6_test = poly6.fit_transform(X_test)\n",
    "\n",
    "m.fit(x6,y_train)\n",
    "y_train_pred = m.predict(x6)\n",
    "training_error_6 = mean_squared_error(y_train, y_train_pred)\n",
    "\n",
    "y_test_pred = m.predict(x6_test)\n",
    "test_error_6 = mean_squared_error(y_test, y_test_pred)\n",
    "\n",
    "r2_train_6 = m.score(x6,y_train)\n",
    "r2_test_6 = m.score(x6_test,y_test)"
   ]
  },
  {
   "cell_type": "code",
   "execution_count": 33,
   "metadata": {},
   "outputs": [],
   "source": [
    "# 7th order\n",
    "poly7 = PolynomialFeatures(degree=7)\n",
    "x7 = poly7.fit_transform(X_train)\n",
    "x7_test = poly7.fit_transform(X_test)\n",
    "\n",
    "m.fit(x7,y_train)\n",
    "y_train_pred = m.predict(x7)\n",
    "training_error_7 = mean_squared_error(y_train, y_train_pred)\n",
    "\n",
    "y_test_pred = m.predict(x7_test)\n",
    "test_error_7 = mean_squared_error(y_test, y_test_pred)\n",
    "\n",
    "r2_train_7 = m.score(x7,y_train)\n",
    "r2_test_7 = m.score(x7_test,y_test)"
   ]
  },
  {
   "cell_type": "code",
   "execution_count": 34,
   "metadata": {},
   "outputs": [],
   "source": [
    "training_errors = [training_error_0,training_error_1,training_error_2,training_error_3,training_error_4,training_error_5,training_error_6,training_error_7]\n",
    "test_errors = [test_error_0,test_error_1,test_error_2,test_error_3,test_error_4,test_error_5,test_error_6,test_error_7]\n",
    "r2_train = [r2_train_0,r2_train_1,r2_train_2,r2_train_3,r2_train_4,r2_train_5,r2_train_6,r2_train_7]\n",
    "r2_test = [r2_test_0,r2_test_1,r2_test_2,r2_test_3,r2_test_4,r2_test_5,r2_test_6,r2_test_7]"
   ]
  },
  {
   "cell_type": "code",
   "execution_count": 35,
   "metadata": {},
   "outputs": [
    {
     "data": {
      "image/png": "[encoded data removed]",
      "text/plain": [
       "<Figure size 432x288 with 1 Axes>"
      ]
     },
     "metadata": {},
     "output_type": "display_data"
    }
   ],
   "source": [
    "plt.plot(training_errors, label='training')\n",
    "plt.plot(test_errors, label='test')\n",
    "\n",
    "plt.title('Error at Each Order', fontsize = 15, weight = 'bold')\n",
    "plt.ylabel('Size', fontsize = 12)\n",
    "plt.xlabel('Polynomial Order', fontsize = 12)\n",
    "plt.legend()\n",
    "sns.despine();"
   ]
  },
  {
   "cell_type": "code",
   "execution_count": 36,
   "metadata": {},
   "outputs": [
    {
     "data": {
      "image/png": "[encoded data removed]",
      "text/plain": [
       "<Figure size 432x288 with 1 Axes>"
      ]
     },
     "metadata": {},
     "output_type": "display_data"
    }
   ],
   "source": [
    "plt.plot(r2_train, label='training')\n",
    "plt.plot(r2_test, label='test')\n",
    "\n",
    "plt.title('R-Squared at Each Order', fontsize = 15, weight = 'bold')\n",
    "plt.ylabel('Size', fontsize = 12)\n",
    "plt.xlabel('Polynomial Order', fontsize = 12)\n",
    "plt.legend()\n",
    "sns.despine();"
   ]
  },
  {
   "cell_type": "markdown",
   "metadata": {},
   "source": [
    "The initial errors are so much larger than the following ones that the following all appear to be the same on the graph, and the reverse for the r-sqared"
   ]
  },
  {
   "cell_type": "markdown",
   "metadata": {},
   "source": [
    "# Challenge 4  "
   ]
  },
  {
   "cell_type": "code",
   "execution_count": 37,
   "metadata": {},
   "outputs": [],
   "source": [
    "size = np.arange(5, 755, 5)"
   ]
  },
  {
   "cell_type": "code",
   "execution_count": 38,
   "metadata": {},
   "outputs": [],
   "source": [
    "training_error = []\n",
    "test_error = []\n",
    "for item in size:\n",
    "    x_data = X_train[0:item]\n",
    "    y_data = y_train[0:item]\n",
    "    m.fit(x_data,y_data)\n",
    "    train_pred = m.predict(x_data)\n",
    "    training_error.append(mean_squared_error(y_data, train_pred))\n",
    "    test_pred = m.predict(X_test)\n",
    "    test_error.append(mean_squared_error(y_test, test_pred))"
   ]
  },
  {
   "cell_type": "code",
   "execution_count": 39,
   "metadata": {},
   "outputs": [
    {
     "data": {
      "image/png": "[encoded data removed]",
      "text/plain": [
       "<Figure size 432x288 with 1 Axes>"
      ]
     },
     "metadata": {},
     "output_type": "display_data"
    }
   ],
   "source": [
    "plt.plot(training_error, label='training')\n",
    "plt.plot(test_error, label='test')\n",
    "\n",
    "plt.title('Learning Curve', fontsize = 15, weight = 'bold')\n",
    "plt.ylabel('Size', fontsize = 12)\n",
    "plt.xlabel('Number of Data Points (Divided by 5)', fontsize = 12)\n",
    "plt.legend()\n",
    "sns.despine();"
   ]
  }
 ],
 "metadata": {
  "kernelspec": {
   "display_name": "Python 3",
   "language": "python",
   "name": "python3"
  },
  "language_info": {
   "codemirror_mode": {
    "name": "ipython",
    "version": 3
   },
   "file_extension": ".py",
   "mimetype": "text/x-python",
   "name": "python",
   "nbconvert_exporter": "python",
   "pygments_lexer": "ipython3",
   "version": "3.6.5"
  }
 },
 "nbformat": 4,
 "nbformat_minor": 2
}
