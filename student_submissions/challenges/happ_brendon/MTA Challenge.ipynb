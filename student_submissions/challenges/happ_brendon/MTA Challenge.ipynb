{
 "cells": [
  {
   "cell_type": "markdown",
   "metadata": {},
   "source": [
    "###  Challenge 1 & 2"
   ]
  },
  {
   "cell_type": "code",
   "execution_count": 5,
   "metadata": {},
   "outputs": [],
   "source": [
    "# Imports\n",
    "import matplotlib.pyplot as plt\n",
    "import pandas as pd\n",
    "import datetime\n",
    "import numpy as np\n",
    "import requests\n",
    "from bs4 import BeautifulSoup\n",
    "import re\n",
    "%matplotlib inline"
   ]
  },
  {
   "cell_type": "code",
   "execution_count": 6,
   "metadata": {},
   "outputs": [
    {
     "data": {
      "text/html": [
       "<style>body {\n",
       "    margin: 0;\n",
       "    font-family: Helvetica;\n",
       "}\n",
       "table.dataframe {\n",
       "    border-collapse: collapse;\n",
       "    border: none;\n",
       "}\n",
       "table.dataframe tr {\n",
       "    border: none;\n",
       "}\n",
       "table.dataframe td, table.dataframe th {\n",
       "    margin: 0;\n",
       "    border: 1px solid white;\n",
       "    padding-left: 0.25em;\n",
       "    padding-right: 0.25em;\n",
       "}\n",
       "table.dataframe th:not(:empty) {\n",
       "    background-color: #fec;\n",
       "    text-align: left;\n",
       "    font-weight: normal;\n",
       "}\n",
       "table.dataframe tr:nth-child(2) th:empty {\n",
       "    border-left: none;\n",
       "    border-right: 1px dashed #888;\n",
       "}\n",
       "table.dataframe td {\n",
       "    border: 2px solid #ccf;\n",
       "    background-color: #f4f4ff;\n",
       "}\n",
       "h3 {\n",
       "    color: white;\n",
       "    background-color: black;\n",
       "    padding: 0.5em;\n",
       "}\n",
       "</style>"
      ],
      "text/plain": [
       "<IPython.core.display.HTML object>"
      ]
     },
     "execution_count": 6,
     "metadata": {},
     "output_type": "execute_result"
    }
   ],
   "source": [
    "# Table Formatting\n",
    "\n",
    "from IPython.core.display import HTML\n",
    "css = open('style-table.css').read() + open('style-notebook.css').read()\n",
    "HTML('<style>{}</style>'.format(css))"
   ]
  },
  {
   "cell_type": "code",
   "execution_count": 7,
   "metadata": {},
   "outputs": [
    {
     "name": "stdout",
     "output_type": "stream",
     "text": [
      "Downloaded http://web.mta.info/developers/data/nyct/turnstile/turnstile_180929.txt from MTA website\n",
      "Downloaded http://web.mta.info/developers/data/nyct/turnstile/turnstile_180922.txt from MTA website\n",
      "Downloaded http://web.mta.info/developers/data/nyct/turnstile/turnstile_180915.txt from MTA website\n",
      "Downloaded http://web.mta.info/developers/data/nyct/turnstile/turnstile_180908.txt from MTA website\n",
      "Downloaded http://web.mta.info/developers/data/nyct/turnstile/turnstile_180901.txt from MTA website\n",
      "Downloaded http://web.mta.info/developers/data/nyct/turnstile/turnstile_180825.txt from MTA website\n",
      "Downloaded http://web.mta.info/developers/data/nyct/turnstile/turnstile_180818.txt from MTA website\n",
      "Downloaded http://web.mta.info/developers/data/nyct/turnstile/turnstile_180811.txt from MTA website\n",
      "Downloaded http://web.mta.info/developers/data/nyct/turnstile/turnstile_180804.txt from MTA website\n",
      "Downloaded http://web.mta.info/developers/data/nyct/turnstile/turnstile_180728.txt from MTA website\n",
      "Downloaded http://web.mta.info/developers/data/nyct/turnstile/turnstile_180721.txt from MTA website\n",
      "Downloaded http://web.mta.info/developers/data/nyct/turnstile/turnstile_180714.txt from MTA website\n",
      "Downloaded http://web.mta.info/developers/data/nyct/turnstile/turnstile_180707.txt from MTA website\n",
      "Downloaded http://web.mta.info/developers/data/nyct/turnstile/turnstile_180630.txt from MTA website\n",
      "Downloaded http://web.mta.info/developers/data/nyct/turnstile/turnstile_180623.txt from MTA website\n"
     ]
    }
   ],
   "source": [
    "resp = requests.get('http://web.mta.info/developers/turnstile.html')\n",
    "soup = BeautifulSoup(resp.text, 'lxml')\n",
    "\n",
    "# read through html finding link tags\n",
    "text_urls = []\n",
    "for link in soup.findAll('a', href=re.compile(r'data/nyct/turnstile/turnstile_')):\n",
    "    text_urls.append('http://web.mta.info/developers/'+link['href'])\n",
    "\n",
    "# Only use from 2018\n",
    "url_2018 = []\n",
    "for u in text_urls:\n",
    "    # Add all links from 2018 to a list\n",
    "    if re.findall(r'turnstile_18', u):\n",
    "        url_2018.append(u)\n",
    "i = 1\n",
    "for url in url_2018[:15]:\n",
    "    if i == 1:\n",
    "        df_import = pd.read_csv(str(url))\n",
    "        print(\"Downloaded \" + url + \" from MTA website\")\n",
    "    else:\n",
    "        df_import = df_import.append(pd.read_csv(str(url)))\n",
    "        print(\"Downloaded \" + url + \" from MTA website\")\n",
    "    i += 1\n",
    "\n",
    "# index gets repeated from each week - to be reset\n",
    "df = df_import\n",
    "df = df.reset_index()"
   ]
  },
  {
   "cell_type": "code",
   "execution_count": 8,
   "metadata": {},
   "outputs": [],
   "source": [
    "# Remove blank space from column names and convert to datetime\n",
    "df.columns = [column.strip() for column in df.columns]\n",
    "df['DATE_TIME'] = pd.to_datetime(df['DATE'] + \" \" + df['TIME'])\n",
    "df['DATE'] = pd.to_datetime(df['DATE'])"
   ]
  },
  {
   "cell_type": "code",
   "execution_count": 9,
   "metadata": {},
   "outputs": [
    {
     "data": {
      "text/html": [
       "<div>\n",
       "<style>\n",
       "    .dataframe thead tr:only-child th {\n",
       "        text-align: right;\n",
       "    }\n",
       "\n",
       "    .dataframe thead th {\n",
       "        text-align: left;\n",
       "    }\n",
       "\n",
       "    .dataframe tbody tr th {\n",
       "        vertical-align: top;\n",
       "    }\n",
       "</style>\n",
       "<table border=\"1\" class=\"dataframe\">\n",
       "  <thead>\n",
       "    <tr style=\"text-align: right;\">\n",
       "      <th></th>\n",
       "      <th>index</th>\n",
       "      <th>C/A</th>\n",
       "      <th>UNIT</th>\n",
       "      <th>SCP</th>\n",
       "      <th>STATION</th>\n",
       "      <th>LINENAME</th>\n",
       "      <th>DIVISION</th>\n",
       "      <th>DATE</th>\n",
       "      <th>TIME</th>\n",
       "      <th>DESC</th>\n",
       "      <th>ENTRIES</th>\n",
       "      <th>EXITS</th>\n",
       "      <th>DATE_TIME</th>\n",
       "    </tr>\n",
       "  </thead>\n",
       "  <tbody>\n",
       "    <tr>\n",
       "      <th>0</th>\n",
       "      <td>0</td>\n",
       "      <td>A002</td>\n",
       "      <td>R051</td>\n",
       "      <td>02-00-00</td>\n",
       "      <td>59 ST</td>\n",
       "      <td>NQR456W</td>\n",
       "      <td>BMT</td>\n",
       "      <td>2018-09-22</td>\n",
       "      <td>00:00:00</td>\n",
       "      <td>REGULAR</td>\n",
       "      <td>6767488</td>\n",
       "      <td>2294227</td>\n",
       "      <td>2018-09-22 00:00:00</td>\n",
       "    </tr>\n",
       "    <tr>\n",
       "      <th>1</th>\n",
       "      <td>1</td>\n",
       "      <td>A002</td>\n",
       "      <td>R051</td>\n",
       "      <td>02-00-00</td>\n",
       "      <td>59 ST</td>\n",
       "      <td>NQR456W</td>\n",
       "      <td>BMT</td>\n",
       "      <td>2018-09-22</td>\n",
       "      <td>04:00:00</td>\n",
       "      <td>REGULAR</td>\n",
       "      <td>6767499</td>\n",
       "      <td>2294230</td>\n",
       "      <td>2018-09-22 04:00:00</td>\n",
       "    </tr>\n",
       "    <tr>\n",
       "      <th>2</th>\n",
       "      <td>2</td>\n",
       "      <td>A002</td>\n",
       "      <td>R051</td>\n",
       "      <td>02-00-00</td>\n",
       "      <td>59 ST</td>\n",
       "      <td>NQR456W</td>\n",
       "      <td>BMT</td>\n",
       "      <td>2018-09-22</td>\n",
       "      <td>08:00:00</td>\n",
       "      <td>REGULAR</td>\n",
       "      <td>6767517</td>\n",
       "      <td>2294258</td>\n",
       "      <td>2018-09-22 08:00:00</td>\n",
       "    </tr>\n",
       "    <tr>\n",
       "      <th>3</th>\n",
       "      <td>3</td>\n",
       "      <td>A002</td>\n",
       "      <td>R051</td>\n",
       "      <td>02-00-00</td>\n",
       "      <td>59 ST</td>\n",
       "      <td>NQR456W</td>\n",
       "      <td>BMT</td>\n",
       "      <td>2018-09-22</td>\n",
       "      <td>12:00:00</td>\n",
       "      <td>REGULAR</td>\n",
       "      <td>6767607</td>\n",
       "      <td>2294323</td>\n",
       "      <td>2018-09-22 12:00:00</td>\n",
       "    </tr>\n",
       "    <tr>\n",
       "      <th>4</th>\n",
       "      <td>4</td>\n",
       "      <td>A002</td>\n",
       "      <td>R051</td>\n",
       "      <td>02-00-00</td>\n",
       "      <td>59 ST</td>\n",
       "      <td>NQR456W</td>\n",
       "      <td>BMT</td>\n",
       "      <td>2018-09-22</td>\n",
       "      <td>16:00:00</td>\n",
       "      <td>REGULAR</td>\n",
       "      <td>6767790</td>\n",
       "      <td>2294368</td>\n",
       "      <td>2018-09-22 16:00:00</td>\n",
       "    </tr>\n",
       "  </tbody>\n",
       "</table>\n",
       "</div>"
      ],
      "text/plain": [
       "   index   C/A  UNIT       SCP STATION LINENAME DIVISION       DATE      TIME  \\\n",
       "0      0  A002  R051  02-00-00   59 ST  NQR456W      BMT 2018-09-22  00:00:00   \n",
       "1      1  A002  R051  02-00-00   59 ST  NQR456W      BMT 2018-09-22  04:00:00   \n",
       "2      2  A002  R051  02-00-00   59 ST  NQR456W      BMT 2018-09-22  08:00:00   \n",
       "3      3  A002  R051  02-00-00   59 ST  NQR456W      BMT 2018-09-22  12:00:00   \n",
       "4      4  A002  R051  02-00-00   59 ST  NQR456W      BMT 2018-09-22  16:00:00   \n",
       "\n",
       "      DESC  ENTRIES    EXITS           DATE_TIME  \n",
       "0  REGULAR  6767488  2294227 2018-09-22 00:00:00  \n",
       "1  REGULAR  6767499  2294230 2018-09-22 04:00:00  \n",
       "2  REGULAR  6767517  2294258 2018-09-22 08:00:00  \n",
       "3  REGULAR  6767607  2294323 2018-09-22 12:00:00  \n",
       "4  REGULAR  6767790  2294368 2018-09-22 16:00:00  "
      ]
     },
     "execution_count": 9,
     "metadata": {},
     "output_type": "execute_result"
    }
   ],
   "source": [
    "df.head()"
   ]
  },
  {
   "cell_type": "markdown",
   "metadata": {
    "collapsed": true
   },
   "source": [
    "### Challenge 3"
   ]
  },
  {
   "cell_type": "code",
   "execution_count": 134,
   "metadata": {
    "scrolled": true
   },
   "outputs": [],
   "source": [
    "def get_hourly_ENTRIES(df):\n",
    "    # Subtract following hours entries to get amount within the hours\n",
    "    hourly_entries = df.ENTRIES - df.ENTRIES.shift(1)\n",
    "    df['ENTRIES_hr'] = hourly_entries.fillna(1)\n",
    "    return df\n",
    "\n",
    "def get_hourly_EXITS(df):\n",
    "    hourly_exits = df.EXITS - df.EXITS.shift(1) \n",
    "    df['EXITS_hr'] = hourly_exits.fillna(1)\n",
    "    return df\n",
    "\n",
    "# Group by the three unique turnstile specifiers\n",
    "df = df.groupby(['C/A', 'UNIT', 'SCP']).apply(get_hourly_ENTRIES)\n",
    "df = get_hourly_EXITS(df)"
   ]
  },
  {
   "cell_type": "code",
   "execution_count": 35,
   "metadata": {
    "scrolled": true
   },
   "outputs": [
    {
     "data": {
      "text/html": [
       "<div>\n",
       "<style>\n",
       "    .dataframe thead tr:only-child th {\n",
       "        text-align: right;\n",
       "    }\n",
       "\n",
       "    .dataframe thead th {\n",
       "        text-align: left;\n",
       "    }\n",
       "\n",
       "    .dataframe tbody tr th {\n",
       "        vertical-align: top;\n",
       "    }\n",
       "</style>\n",
       "<table border=\"1\" class=\"dataframe\">\n",
       "  <thead>\n",
       "    <tr style=\"text-align: right;\">\n",
       "      <th></th>\n",
       "      <th>index</th>\n",
       "      <th>C/A</th>\n",
       "      <th>UNIT</th>\n",
       "      <th>SCP</th>\n",
       "      <th>STATION</th>\n",
       "      <th>LINENAME</th>\n",
       "      <th>DIVISION</th>\n",
       "      <th>DATE</th>\n",
       "      <th>TIME</th>\n",
       "      <th>DESC</th>\n",
       "      <th>ENTRIES</th>\n",
       "      <th>EXITS</th>\n",
       "      <th>DATE_TIME</th>\n",
       "      <th>ENTRIES_hr</th>\n",
       "      <th>EXITS_hr</th>\n",
       "    </tr>\n",
       "  </thead>\n",
       "  <tbody>\n",
       "    <tr>\n",
       "      <th>0</th>\n",
       "      <td>0</td>\n",
       "      <td>A002</td>\n",
       "      <td>R051</td>\n",
       "      <td>02-00-00</td>\n",
       "      <td>59 ST</td>\n",
       "      <td>NQR456W</td>\n",
       "      <td>BMT</td>\n",
       "      <td>2018-09-22</td>\n",
       "      <td>00:00:00</td>\n",
       "      <td>REGULAR</td>\n",
       "      <td>6767488</td>\n",
       "      <td>2294227</td>\n",
       "      <td>2018-09-22 00:00:00</td>\n",
       "      <td>1.0</td>\n",
       "      <td>1.0</td>\n",
       "    </tr>\n",
       "    <tr>\n",
       "      <th>1</th>\n",
       "      <td>1</td>\n",
       "      <td>A002</td>\n",
       "      <td>R051</td>\n",
       "      <td>02-00-00</td>\n",
       "      <td>59 ST</td>\n",
       "      <td>NQR456W</td>\n",
       "      <td>BMT</td>\n",
       "      <td>2018-09-22</td>\n",
       "      <td>04:00:00</td>\n",
       "      <td>REGULAR</td>\n",
       "      <td>6767499</td>\n",
       "      <td>2294230</td>\n",
       "      <td>2018-09-22 04:00:00</td>\n",
       "      <td>11.0</td>\n",
       "      <td>3.0</td>\n",
       "    </tr>\n",
       "    <tr>\n",
       "      <th>2</th>\n",
       "      <td>2</td>\n",
       "      <td>A002</td>\n",
       "      <td>R051</td>\n",
       "      <td>02-00-00</td>\n",
       "      <td>59 ST</td>\n",
       "      <td>NQR456W</td>\n",
       "      <td>BMT</td>\n",
       "      <td>2018-09-22</td>\n",
       "      <td>08:00:00</td>\n",
       "      <td>REGULAR</td>\n",
       "      <td>6767517</td>\n",
       "      <td>2294258</td>\n",
       "      <td>2018-09-22 08:00:00</td>\n",
       "      <td>18.0</td>\n",
       "      <td>28.0</td>\n",
       "    </tr>\n",
       "    <tr>\n",
       "      <th>3</th>\n",
       "      <td>3</td>\n",
       "      <td>A002</td>\n",
       "      <td>R051</td>\n",
       "      <td>02-00-00</td>\n",
       "      <td>59 ST</td>\n",
       "      <td>NQR456W</td>\n",
       "      <td>BMT</td>\n",
       "      <td>2018-09-22</td>\n",
       "      <td>12:00:00</td>\n",
       "      <td>REGULAR</td>\n",
       "      <td>6767607</td>\n",
       "      <td>2294323</td>\n",
       "      <td>2018-09-22 12:00:00</td>\n",
       "      <td>90.0</td>\n",
       "      <td>65.0</td>\n",
       "    </tr>\n",
       "    <tr>\n",
       "      <th>4</th>\n",
       "      <td>4</td>\n",
       "      <td>A002</td>\n",
       "      <td>R051</td>\n",
       "      <td>02-00-00</td>\n",
       "      <td>59 ST</td>\n",
       "      <td>NQR456W</td>\n",
       "      <td>BMT</td>\n",
       "      <td>2018-09-22</td>\n",
       "      <td>16:00:00</td>\n",
       "      <td>REGULAR</td>\n",
       "      <td>6767790</td>\n",
       "      <td>2294368</td>\n",
       "      <td>2018-09-22 16:00:00</td>\n",
       "      <td>183.0</td>\n",
       "      <td>45.0</td>\n",
       "    </tr>\n",
       "  </tbody>\n",
       "</table>\n",
       "</div>"
      ],
      "text/plain": [
       "   index   C/A  UNIT       SCP STATION LINENAME DIVISION       DATE      TIME  \\\n",
       "0      0  A002  R051  02-00-00   59 ST  NQR456W      BMT 2018-09-22  00:00:00   \n",
       "1      1  A002  R051  02-00-00   59 ST  NQR456W      BMT 2018-09-22  04:00:00   \n",
       "2      2  A002  R051  02-00-00   59 ST  NQR456W      BMT 2018-09-22  08:00:00   \n",
       "3      3  A002  R051  02-00-00   59 ST  NQR456W      BMT 2018-09-22  12:00:00   \n",
       "4      4  A002  R051  02-00-00   59 ST  NQR456W      BMT 2018-09-22  16:00:00   \n",
       "\n",
       "      DESC  ENTRIES    EXITS           DATE_TIME  ENTRIES_hr  EXITS_hr  \n",
       "0  REGULAR  6767488  2294227 2018-09-22 00:00:00         1.0       1.0  \n",
       "1  REGULAR  6767499  2294230 2018-09-22 04:00:00        11.0       3.0  \n",
       "2  REGULAR  6767517  2294258 2018-09-22 08:00:00        18.0      28.0  \n",
       "3  REGULAR  6767607  2294323 2018-09-22 12:00:00        90.0      65.0  \n",
       "4  REGULAR  6767790  2294368 2018-09-22 16:00:00       183.0      45.0  "
      ]
     },
     "execution_count": 35,
     "metadata": {},
     "output_type": "execute_result"
    }
   ],
   "source": [
    "df.head()"
   ]
  },
  {
   "cell_type": "code",
   "execution_count": 44,
   "metadata": {
    "collapsed": true
   },
   "outputs": [],
   "source": [
    "# Remove the outliers from faulty equipment and keep the valid negatives\n",
    "df = df.loc[(df.ENTRIES_hr<7000)&(df.ENTRIES_hr>-7000)]\n",
    "df['ENTRIES_hr'] = df['ENTRIES_hr'].abs()"
   ]
  },
  {
   "cell_type": "code",
   "execution_count": 47,
   "metadata": {},
   "outputs": [
    {
     "data": {
      "text/html": [
       "<div>\n",
       "<style>\n",
       "    .dataframe thead tr:only-child th {\n",
       "        text-align: right;\n",
       "    }\n",
       "\n",
       "    .dataframe thead th {\n",
       "        text-align: left;\n",
       "    }\n",
       "\n",
       "    .dataframe tbody tr th {\n",
       "        vertical-align: top;\n",
       "    }\n",
       "</style>\n",
       "<table border=\"1\" class=\"dataframe\">\n",
       "  <thead>\n",
       "    <tr style=\"text-align: right;\">\n",
       "      <th></th>\n",
       "      <th>index</th>\n",
       "      <th>C/A</th>\n",
       "      <th>UNIT</th>\n",
       "      <th>SCP</th>\n",
       "      <th>STATION</th>\n",
       "      <th>LINENAME</th>\n",
       "      <th>DIVISION</th>\n",
       "      <th>DATE</th>\n",
       "      <th>TIME</th>\n",
       "      <th>DESC</th>\n",
       "      <th>ENTRIES</th>\n",
       "      <th>EXITS</th>\n",
       "      <th>DATE_TIME</th>\n",
       "      <th>ENTRIES_hr</th>\n",
       "      <th>EXITS_hr</th>\n",
       "    </tr>\n",
       "  </thead>\n",
       "  <tbody>\n",
       "    <tr>\n",
       "      <th>0</th>\n",
       "      <td>0</td>\n",
       "      <td>A002</td>\n",
       "      <td>R051</td>\n",
       "      <td>02-00-00</td>\n",
       "      <td>59 ST</td>\n",
       "      <td>NQR456W</td>\n",
       "      <td>BMT</td>\n",
       "      <td>2018-09-22</td>\n",
       "      <td>00:00:00</td>\n",
       "      <td>REGULAR</td>\n",
       "      <td>6767488</td>\n",
       "      <td>2294227</td>\n",
       "      <td>2018-09-22 00:00:00</td>\n",
       "      <td>1.0</td>\n",
       "      <td>1.0</td>\n",
       "    </tr>\n",
       "    <tr>\n",
       "      <th>1</th>\n",
       "      <td>1</td>\n",
       "      <td>A002</td>\n",
       "      <td>R051</td>\n",
       "      <td>02-00-00</td>\n",
       "      <td>59 ST</td>\n",
       "      <td>NQR456W</td>\n",
       "      <td>BMT</td>\n",
       "      <td>2018-09-22</td>\n",
       "      <td>04:00:00</td>\n",
       "      <td>REGULAR</td>\n",
       "      <td>6767499</td>\n",
       "      <td>2294230</td>\n",
       "      <td>2018-09-22 04:00:00</td>\n",
       "      <td>11.0</td>\n",
       "      <td>3.0</td>\n",
       "    </tr>\n",
       "    <tr>\n",
       "      <th>2</th>\n",
       "      <td>2</td>\n",
       "      <td>A002</td>\n",
       "      <td>R051</td>\n",
       "      <td>02-00-00</td>\n",
       "      <td>59 ST</td>\n",
       "      <td>NQR456W</td>\n",
       "      <td>BMT</td>\n",
       "      <td>2018-09-22</td>\n",
       "      <td>08:00:00</td>\n",
       "      <td>REGULAR</td>\n",
       "      <td>6767517</td>\n",
       "      <td>2294258</td>\n",
       "      <td>2018-09-22 08:00:00</td>\n",
       "      <td>18.0</td>\n",
       "      <td>28.0</td>\n",
       "    </tr>\n",
       "    <tr>\n",
       "      <th>3</th>\n",
       "      <td>3</td>\n",
       "      <td>A002</td>\n",
       "      <td>R051</td>\n",
       "      <td>02-00-00</td>\n",
       "      <td>59 ST</td>\n",
       "      <td>NQR456W</td>\n",
       "      <td>BMT</td>\n",
       "      <td>2018-09-22</td>\n",
       "      <td>12:00:00</td>\n",
       "      <td>REGULAR</td>\n",
       "      <td>6767607</td>\n",
       "      <td>2294323</td>\n",
       "      <td>2018-09-22 12:00:00</td>\n",
       "      <td>90.0</td>\n",
       "      <td>65.0</td>\n",
       "    </tr>\n",
       "    <tr>\n",
       "      <th>4</th>\n",
       "      <td>4</td>\n",
       "      <td>A002</td>\n",
       "      <td>R051</td>\n",
       "      <td>02-00-00</td>\n",
       "      <td>59 ST</td>\n",
       "      <td>NQR456W</td>\n",
       "      <td>BMT</td>\n",
       "      <td>2018-09-22</td>\n",
       "      <td>16:00:00</td>\n",
       "      <td>REGULAR</td>\n",
       "      <td>6767790</td>\n",
       "      <td>2294368</td>\n",
       "      <td>2018-09-22 16:00:00</td>\n",
       "      <td>183.0</td>\n",
       "      <td>45.0</td>\n",
       "    </tr>\n",
       "  </tbody>\n",
       "</table>\n",
       "</div>"
      ],
      "text/plain": [
       "   index   C/A  UNIT       SCP STATION LINENAME DIVISION       DATE      TIME  \\\n",
       "0      0  A002  R051  02-00-00   59 ST  NQR456W      BMT 2018-09-22  00:00:00   \n",
       "1      1  A002  R051  02-00-00   59 ST  NQR456W      BMT 2018-09-22  04:00:00   \n",
       "2      2  A002  R051  02-00-00   59 ST  NQR456W      BMT 2018-09-22  08:00:00   \n",
       "3      3  A002  R051  02-00-00   59 ST  NQR456W      BMT 2018-09-22  12:00:00   \n",
       "4      4  A002  R051  02-00-00   59 ST  NQR456W      BMT 2018-09-22  16:00:00   \n",
       "\n",
       "      DESC  ENTRIES    EXITS           DATE_TIME  ENTRIES_hr  EXITS_hr  \n",
       "0  REGULAR  6767488  2294227 2018-09-22 00:00:00         1.0       1.0  \n",
       "1  REGULAR  6767499  2294230 2018-09-22 04:00:00        11.0       3.0  \n",
       "2  REGULAR  6767517  2294258 2018-09-22 08:00:00        18.0      28.0  \n",
       "3  REGULAR  6767607  2294323 2018-09-22 12:00:00        90.0      65.0  \n",
       "4  REGULAR  6767790  2294368 2018-09-22 16:00:00       183.0      45.0  "
      ]
     },
     "execution_count": 47,
     "metadata": {},
     "output_type": "execute_result"
    }
   ],
   "source": [
    "df.head()"
   ]
  },
  {
   "cell_type": "code",
   "execution_count": 48,
   "metadata": {},
   "outputs": [],
   "source": [
    "# Group for daily entries\n",
    "df_day = (df\n",
    "      .groupby(['C/A','UNIT','SCP', 'STATION', 'DATE'])['ENTRIES_hr']\n",
    "      .sum()\n",
    "      .reset_index()  \n",
    "      .rename(columns = {'ENTRIES_hr':'ENTRIES_day'})\n",
    "     )\n"
   ]
  },
  {
   "cell_type": "code",
   "execution_count": 49,
   "metadata": {},
   "outputs": [
    {
     "data": {
      "text/html": [
       "<div>\n",
       "<style>\n",
       "    .dataframe thead tr:only-child th {\n",
       "        text-align: right;\n",
       "    }\n",
       "\n",
       "    .dataframe thead th {\n",
       "        text-align: left;\n",
       "    }\n",
       "\n",
       "    .dataframe tbody tr th {\n",
       "        vertical-align: top;\n",
       "    }\n",
       "</style>\n",
       "<table border=\"1\" class=\"dataframe\">\n",
       "  <thead>\n",
       "    <tr style=\"text-align: right;\">\n",
       "      <th></th>\n",
       "      <th>C/A</th>\n",
       "      <th>UNIT</th>\n",
       "      <th>SCP</th>\n",
       "      <th>STATION</th>\n",
       "      <th>DATE</th>\n",
       "      <th>ENTRIES_day</th>\n",
       "    </tr>\n",
       "  </thead>\n",
       "  <tbody>\n",
       "    <tr>\n",
       "      <th>0</th>\n",
       "      <td>A002</td>\n",
       "      <td>R051</td>\n",
       "      <td>02-00-00</td>\n",
       "      <td>59 ST</td>\n",
       "      <td>2018-06-16</td>\n",
       "      <td>556.0</td>\n",
       "    </tr>\n",
       "    <tr>\n",
       "      <th>1</th>\n",
       "      <td>A002</td>\n",
       "      <td>R051</td>\n",
       "      <td>02-00-00</td>\n",
       "      <td>59 ST</td>\n",
       "      <td>2018-06-17</td>\n",
       "      <td>592.0</td>\n",
       "    </tr>\n",
       "    <tr>\n",
       "      <th>2</th>\n",
       "      <td>A002</td>\n",
       "      <td>R051</td>\n",
       "      <td>02-00-00</td>\n",
       "      <td>59 ST</td>\n",
       "      <td>2018-06-18</td>\n",
       "      <td>1295.0</td>\n",
       "    </tr>\n",
       "    <tr>\n",
       "      <th>3</th>\n",
       "      <td>A002</td>\n",
       "      <td>R051</td>\n",
       "      <td>02-00-00</td>\n",
       "      <td>59 ST</td>\n",
       "      <td>2018-06-19</td>\n",
       "      <td>1409.0</td>\n",
       "    </tr>\n",
       "    <tr>\n",
       "      <th>4</th>\n",
       "      <td>A002</td>\n",
       "      <td>R051</td>\n",
       "      <td>02-00-00</td>\n",
       "      <td>59 ST</td>\n",
       "      <td>2018-06-20</td>\n",
       "      <td>1413.0</td>\n",
       "    </tr>\n",
       "  </tbody>\n",
       "</table>\n",
       "</div>"
      ],
      "text/plain": [
       "    C/A  UNIT       SCP STATION       DATE  ENTRIES_day\n",
       "0  A002  R051  02-00-00   59 ST 2018-06-16        556.0\n",
       "1  A002  R051  02-00-00   59 ST 2018-06-17        592.0\n",
       "2  A002  R051  02-00-00   59 ST 2018-06-18       1295.0\n",
       "3  A002  R051  02-00-00   59 ST 2018-06-19       1409.0\n",
       "4  A002  R051  02-00-00   59 ST 2018-06-20       1413.0"
      ]
     },
     "execution_count": 49,
     "metadata": {},
     "output_type": "execute_result"
    }
   ],
   "source": [
    "df_day.head()"
   ]
  },
  {
   "cell_type": "markdown",
   "metadata": {},
   "source": [
    "###  Challenge 4"
   ]
  },
  {
   "cell_type": "code",
   "execution_count": 65,
   "metadata": {
    "scrolled": true
   },
   "outputs": [
    {
     "data": {
      "text/plain": [
       "<matplotlib.text.Text at 0x118843550>"
      ]
     },
     "execution_count": 65,
     "metadata": {},
     "output_type": "execute_result"
    },
    {
     "data": {
      "image/png": "[encoded data removed]",
      "text/plain": [
       "<matplotlib.figure.Figure at 0x11652b0f0>"
      ]
     },
     "metadata": {},
     "output_type": "display_data"
    }
   ],
   "source": [
    "# Make a mask for specific turnstile\n",
    "turnstile = ((df_day.SCP=='01-00-00') & (df_day.STATION=='TIMES SQ-42 ST') \n",
    "             & (df_day.UNIT==('R032')))\n",
    "\n",
    "# Take dates and counts into list form to plot\n",
    "dates = [x for x in df_day[turnstile]['DATE']]\n",
    "counts = [y for y in df_day[turnstile]['ENTRIES_day']]\n",
    "\n",
    "plt.figure(figsize=(10,3))\n",
    "plt.plot(dates,counts)\n",
    "plt.title('Total Entries at Times Square for Unit R032')\n",
    "plt.xlabel('Date')\n",
    "plt.ylabel('Total Entries')"
   ]
  },
  {
   "cell_type": "markdown",
   "metadata": {},
   "source": [
    "###   Challenge 5"
   ]
  },
  {
   "cell_type": "code",
   "execution_count": 54,
   "metadata": {},
   "outputs": [],
   "source": [
    "df_day_unit = (df_day\n",
    "      .groupby(['C/A','UNIT', 'STATION', 'DATE'])['ENTRIES_day']\n",
    "      .sum()\n",
    "      .reset_index()\n",
    "     )\n"
   ]
  },
  {
   "cell_type": "code",
   "execution_count": 55,
   "metadata": {},
   "outputs": [
    {
     "data": {
      "text/html": [
       "<div>\n",
       "<style>\n",
       "    .dataframe thead tr:only-child th {\n",
       "        text-align: right;\n",
       "    }\n",
       "\n",
       "    .dataframe thead th {\n",
       "        text-align: left;\n",
       "    }\n",
       "\n",
       "    .dataframe tbody tr th {\n",
       "        vertical-align: top;\n",
       "    }\n",
       "</style>\n",
       "<table border=\"1\" class=\"dataframe\">\n",
       "  <thead>\n",
       "    <tr style=\"text-align: right;\">\n",
       "      <th></th>\n",
       "      <th>C/A</th>\n",
       "      <th>UNIT</th>\n",
       "      <th>STATION</th>\n",
       "      <th>DATE</th>\n",
       "      <th>ENTRIES_day</th>\n",
       "    </tr>\n",
       "  </thead>\n",
       "  <tbody>\n",
       "    <tr>\n",
       "      <th>0</th>\n",
       "      <td>A002</td>\n",
       "      <td>R051</td>\n",
       "      <td>59 ST</td>\n",
       "      <td>2018-06-16</td>\n",
       "      <td>12225.0</td>\n",
       "    </tr>\n",
       "    <tr>\n",
       "      <th>1</th>\n",
       "      <td>A002</td>\n",
       "      <td>R051</td>\n",
       "      <td>59 ST</td>\n",
       "      <td>2018-06-17</td>\n",
       "      <td>5821.0</td>\n",
       "    </tr>\n",
       "    <tr>\n",
       "      <th>2</th>\n",
       "      <td>A002</td>\n",
       "      <td>R051</td>\n",
       "      <td>59 ST</td>\n",
       "      <td>2018-06-18</td>\n",
       "      <td>11959.0</td>\n",
       "    </tr>\n",
       "    <tr>\n",
       "      <th>3</th>\n",
       "      <td>A002</td>\n",
       "      <td>R051</td>\n",
       "      <td>59 ST</td>\n",
       "      <td>2018-06-19</td>\n",
       "      <td>13374.0</td>\n",
       "    </tr>\n",
       "    <tr>\n",
       "      <th>4</th>\n",
       "      <td>A002</td>\n",
       "      <td>R051</td>\n",
       "      <td>59 ST</td>\n",
       "      <td>2018-06-20</td>\n",
       "      <td>13851.0</td>\n",
       "    </tr>\n",
       "  </tbody>\n",
       "</table>\n",
       "</div>"
      ],
      "text/plain": [
       "    C/A  UNIT STATION       DATE  ENTRIES_day\n",
       "0  A002  R051   59 ST 2018-06-16      12225.0\n",
       "1  A002  R051   59 ST 2018-06-17       5821.0\n",
       "2  A002  R051   59 ST 2018-06-18      11959.0\n",
       "3  A002  R051   59 ST 2018-06-19      13374.0\n",
       "4  A002  R051   59 ST 2018-06-20      13851.0"
      ]
     },
     "execution_count": 55,
     "metadata": {},
     "output_type": "execute_result"
    }
   ],
   "source": [
    "df_day_unit.head()"
   ]
  },
  {
   "cell_type": "markdown",
   "metadata": {
    "collapsed": true
   },
   "source": [
    "### Challenge 6"
   ]
  },
  {
   "cell_type": "code",
   "execution_count": 56,
   "metadata": {},
   "outputs": [],
   "source": [
    "df_day_station = (df_day_unit\n",
    "      .groupby(['STATION', 'DATE'])['ENTRIES_day']\n",
    "      .sum()\n",
    "      .reset_index()\n",
    "     )"
   ]
  },
  {
   "cell_type": "code",
   "execution_count": 57,
   "metadata": {},
   "outputs": [
    {
     "data": {
      "text/html": [
       "<div>\n",
       "<style>\n",
       "    .dataframe thead tr:only-child th {\n",
       "        text-align: right;\n",
       "    }\n",
       "\n",
       "    .dataframe thead th {\n",
       "        text-align: left;\n",
       "    }\n",
       "\n",
       "    .dataframe tbody tr th {\n",
       "        vertical-align: top;\n",
       "    }\n",
       "</style>\n",
       "<table border=\"1\" class=\"dataframe\">\n",
       "  <thead>\n",
       "    <tr style=\"text-align: right;\">\n",
       "      <th></th>\n",
       "      <th>STATION</th>\n",
       "      <th>DATE</th>\n",
       "      <th>ENTRIES_day</th>\n",
       "    </tr>\n",
       "  </thead>\n",
       "  <tbody>\n",
       "    <tr>\n",
       "      <th>0</th>\n",
       "      <td>1 AV</td>\n",
       "      <td>2018-06-16</td>\n",
       "      <td>17680.0</td>\n",
       "    </tr>\n",
       "    <tr>\n",
       "      <th>1</th>\n",
       "      <td>1 AV</td>\n",
       "      <td>2018-06-17</td>\n",
       "      <td>14290.0</td>\n",
       "    </tr>\n",
       "    <tr>\n",
       "      <th>2</th>\n",
       "      <td>1 AV</td>\n",
       "      <td>2018-06-18</td>\n",
       "      <td>19705.0</td>\n",
       "    </tr>\n",
       "    <tr>\n",
       "      <th>3</th>\n",
       "      <td>1 AV</td>\n",
       "      <td>2018-06-19</td>\n",
       "      <td>19830.0</td>\n",
       "    </tr>\n",
       "    <tr>\n",
       "      <th>4</th>\n",
       "      <td>1 AV</td>\n",
       "      <td>2018-06-20</td>\n",
       "      <td>22019.0</td>\n",
       "    </tr>\n",
       "  </tbody>\n",
       "</table>\n",
       "</div>"
      ],
      "text/plain": [
       "  STATION       DATE  ENTRIES_day\n",
       "0    1 AV 2018-06-16      17680.0\n",
       "1    1 AV 2018-06-17      14290.0\n",
       "2    1 AV 2018-06-18      19705.0\n",
       "3    1 AV 2018-06-19      19830.0\n",
       "4    1 AV 2018-06-20      22019.0"
      ]
     },
     "execution_count": 57,
     "metadata": {},
     "output_type": "execute_result"
    }
   ],
   "source": [
    "df_day_station.head()"
   ]
  },
  {
   "cell_type": "markdown",
   "metadata": {
    "collapsed": true
   },
   "source": [
    "### Challenge 7"
   ]
  },
  {
   "cell_type": "code",
   "execution_count": 64,
   "metadata": {
    "scrolled": true
   },
   "outputs": [
    {
     "data": {
      "text/plain": [
       "<matplotlib.text.Text at 0x117163198>"
      ]
     },
     "execution_count": 64,
     "metadata": {},
     "output_type": "execute_result"
    },
    {
     "data": {
      "image/png": "[encoded data removed]",
      "text/plain": [
       "<matplotlib.figure.Figure at 0x118211320>"
      ]
     },
     "metadata": {},
     "output_type": "display_data"
    }
   ],
   "source": [
    "# Mask for time series of one station\n",
    "station = (df_day_station.STATION == 'TIMES SQ-42 ST') \n",
    "\n",
    "dates = [x for x in df_day_station[station]['DATE']]\n",
    "counts = [y for y in df_day_station[station]['ENTRIES_day']]\n",
    "\n",
    "plt.figure(figsize=(10,3))\n",
    "plt.plot(dates,counts)\n",
    "plt.title('Total Entries at Times Square Station')\n",
    "plt.xlabel('Date')\n",
    "plt.ylabel('Total Entries')"
   ]
  },
  {
   "cell_type": "markdown",
   "metadata": {
    "collapsed": true
   },
   "source": [
    "### Challenge 8"
   ]
  },
  {
   "cell_type": "code",
   "execution_count": 107,
   "metadata": {},
   "outputs": [
    {
     "data": {
      "text/plain": [
       "<matplotlib.legend.Legend at 0x119591ef0>"
      ]
     },
     "execution_count": 107,
     "metadata": {},
     "output_type": "execute_result"
    },
    {
     "data": {
      "image/png": "[encoded data removed]",
      "text/plain": [
       "<matplotlib.figure.Figure at 0x118b4eeb8>"
      ]
     },
     "metadata": {},
     "output_type": "display_data"
    }
   ],
   "source": [
    "day_names = ['Saturday', 'Sunday', 'Monday', 'Tuesday', 'Wednesday', 'Thursday', 'Friday']\n",
    "\n",
    "# Create plot figure\n",
    "fig, ax = plt.subplots(figsize=(10,4))\n",
    "\n",
    "# Add values to figure for 7 weeks separately \n",
    "for i in range(0,7):\n",
    "    # plot x values from 0 to 6 for days and y values of counts indexed\n",
    "    # from 0 to 7, 7 to 14, etc.\n",
    "    ax.plot(list(range(0,7)), counts[i*7:(i+1)*7], label=dates[i*7].date())\n",
    "\n",
    "plt.title('Total Entries at Times Square for Days of Week')\n",
    "plt.xticks(range(7),day_names)\n",
    "plt.xlabel('Day of Week')\n",
    "plt.ylabel('Total Entries')\n",
    "ax.legend()"
   ]
  },
  {
   "cell_type": "markdown",
   "metadata": {
    "collapsed": true
   },
   "source": [
    "The noticable drop on Wednesday happens to be July 4th."
   ]
  },
  {
   "cell_type": "markdown",
   "metadata": {
    "collapsed": true
   },
   "source": [
    "### Challenge 9"
   ]
  },
  {
   "cell_type": "code",
   "execution_count": 117,
   "metadata": {},
   "outputs": [],
   "source": [
    "df_total_station = (df_day_station\n",
    "      .groupby(['STATION'])['ENTRIES_day']\n",
    "      .sum()\n",
    "      .reset_index()\n",
    "      .rename(columns = {'ENTRIES_day':'ENTRIES_total'})\n",
    "      .sort_values('ENTRIES_total', ascending=False)\n",
    "     )"
   ]
  },
  {
   "cell_type": "code",
   "execution_count": 128,
   "metadata": {},
   "outputs": [
    {
     "data": {
      "text/html": [
       "<div>\n",
       "<style>\n",
       "    .dataframe thead tr:only-child th {\n",
       "        text-align: right;\n",
       "    }\n",
       "\n",
       "    .dataframe thead th {\n",
       "        text-align: left;\n",
       "    }\n",
       "\n",
       "    .dataframe tbody tr th {\n",
       "        vertical-align: top;\n",
       "    }\n",
       "</style>\n",
       "<table border=\"1\" class=\"dataframe\">\n",
       "  <thead>\n",
       "    <tr style=\"text-align: right;\">\n",
       "      <th></th>\n",
       "      <th>STATION</th>\n",
       "      <th>ENTRIES_total</th>\n",
       "    </tr>\n",
       "  </thead>\n",
       "  <tbody>\n",
       "    <tr>\n",
       "      <th>61</th>\n",
       "      <td>34 ST-PENN STA</td>\n",
       "      <td>14664512.0</td>\n",
       "    </tr>\n",
       "    <tr>\n",
       "      <th>233</th>\n",
       "      <td>GRD CNTRL-42 ST</td>\n",
       "      <td>13141459.0</td>\n",
       "    </tr>\n",
       "    <tr>\n",
       "      <th>59</th>\n",
       "      <td>34 ST-HERALD SQ</td>\n",
       "      <td>11333643.0</td>\n",
       "    </tr>\n",
       "    <tr>\n",
       "      <th>226</th>\n",
       "      <td>FULTON ST</td>\n",
       "      <td>10102660.0</td>\n",
       "    </tr>\n",
       "    <tr>\n",
       "      <th>46</th>\n",
       "      <td>23 ST</td>\n",
       "      <td>9394113.0</td>\n",
       "    </tr>\n",
       "  </tbody>\n",
       "</table>\n",
       "</div>"
      ],
      "text/plain": [
       "             STATION  ENTRIES_total\n",
       "61    34 ST-PENN STA     14664512.0\n",
       "233  GRD CNTRL-42 ST     13141459.0\n",
       "59   34 ST-HERALD SQ     11333643.0\n",
       "226        FULTON ST     10102660.0\n",
       "46             23 ST      9394113.0"
      ]
     },
     "execution_count": 128,
     "metadata": {},
     "output_type": "execute_result"
    }
   ],
   "source": [
    "df_total_station.head()"
   ]
  },
  {
   "cell_type": "markdown",
   "metadata": {
    "collapsed": true
   },
   "source": [
    "### Challenge 10"
   ]
  },
  {
   "cell_type": "code",
   "execution_count": 133,
   "metadata": {},
   "outputs": [
    {
     "data": {
      "text/plain": [
       "<matplotlib.text.Text at 0x11a2c2748>"
      ]
     },
     "execution_count": 133,
     "metadata": {},
     "output_type": "execute_result"
    },
    {
     "data": {
      "image/png": "[encoded data removed]",
      "text/plain": [
       "<matplotlib.figure.Figure at 0x11a37d9b0>"
      ]
     },
     "metadata": {},
     "output_type": "display_data"
    }
   ],
   "source": [
    "# format rider quantites to list for plotting\n",
    "total_riders = [x for x in df_total_station['ENTRIES_total']]\n",
    "\n",
    "plt.hist(total_riders)\n",
    "plt.title('Distribution Of Total Ridership')\n",
    "plt.xlabel('Total Ridership')\n",
    "plt.ylabel('Stations')"
   ]
  }
 ],
 "metadata": {
  "kernelspec": {
   "display_name": "Python [conda env:py36]",
   "language": "python",
   "name": "conda-env-py36-py"
  },
  "language_info": {
   "codemirror_mode": {
    "name": "ipython",
    "version": 3
   },
   "file_extension": ".py",
   "mimetype": "text/x-python",
   "name": "python",
   "nbconvert_exporter": "python",
   "pygments_lexer": "ipython3",
   "version": "3.6.2"
  }
 },
 "nbformat": 4,
 "nbformat_minor": 2
}
