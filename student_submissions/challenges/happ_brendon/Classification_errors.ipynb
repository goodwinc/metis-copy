{
 "cells": [
  {
   "cell_type": "markdown",
   "metadata": {},
   "source": [
    "# Challenge Set 8\n",
    "---\n",
    "## Brendon Happ\n",
    "## Metis Fall 2018 NYC"
   ]
  },
  {
   "cell_type": "code",
   "execution_count": 156,
   "metadata": {},
   "outputs": [],
   "source": [
    "from sklearn.model_selection import train_test_split, learning_curve, cross_val_score\n",
    "from sklearn.linear_model import LogisticRegression\n",
    "from sklearn.neighbors import KNeighborsClassifier\n",
    "from sklearn.naive_bayes import GaussianNB\n",
    "from sklearn.tree import DecisionTreeClassifier\n",
    "from sklearn.ensemble import RandomForestClassifier\n",
    "from sklearn.svm import SVC\n",
    "from sklearn.metrics import accuracy_score\n",
    "from sklearn.metrics import precision_score\n",
    "from sklearn.metrics import recall_score\n",
    "from sklearn.metrics import f1_score\n",
    "from sklearn.metrics import roc_curve, auc\n",
    "from sklearn.preprocessing import label_binarize\n",
    "from sklearn import metrics\n",
    "from collections import defaultdict\n",
    "import pandas as pd\n",
    "import numpy as np\n",
    "import matplotlib.pyplot as plt\n",
    "import seaborn as sns\n",
    "%matplotlib inline"
   ]
  },
  {
   "cell_type": "markdown",
   "metadata": {},
   "source": [
    "### Challenge 1\n",
    "---\n",
    "For the house representatives data set, calculate the accuracy, precision, recall and f1 scores of each classifier you built (on the test set)."
   ]
  },
  {
   "cell_type": "code",
   "execution_count": 157,
   "metadata": {},
   "outputs": [],
   "source": [
    "df_vote=pd.read_csv(url,\n",
    "               names = ['f' + str(x) for x in range(1,18)])\n",
    "for col in df_vote.columns[1:]:\n",
    "    df_vote[col] = df_vote[col].map({'y':1,'n':0})\n",
    "    df_vote[col].fillna(df_vote[col].mode()[0], inplace=True)"
   ]
  },
  {
   "cell_type": "code",
   "execution_count": 158,
   "metadata": {},
   "outputs": [],
   "source": [
    "X = df_vote.iloc[:,1:]\n",
    "y = df_vote.iloc[:,0]\n",
    "y = label_binarize(y, classes=['republican', 'democrat']).reshape(-1)"
   ]
  },
  {
   "cell_type": "code",
   "execution_count": 159,
   "metadata": {},
   "outputs": [],
   "source": [
    "X_train, X_test, y_train, y_test = train_test_split(X, y, test_size=0.30, random_state=4444)"
   ]
  },
  {
   "cell_type": "code",
   "execution_count": 160,
   "metadata": {},
   "outputs": [],
   "source": [
    "model_list = [KNeighborsClassifier(5),\n",
    "              LogisticRegression(),\n",
    "              GaussianNB(),\n",
    "              SVC(),\n",
    "              DecisionTreeClassifier(),\n",
    "              RandomForestClassifier()]"
   ]
  },
  {
   "cell_type": "code",
   "execution_count": 161,
   "metadata": {},
   "outputs": [],
   "source": [
    "def get_aprf1_table(model_list, X_train, y_train, X_test, y_test):\n",
    "    '''\n",
    "    Takes models and scoring data and returns a dataframe with precision,\n",
    "    accuracy, recall, and f1 scores for all models\n",
    "    '''\n",
    "    df = defaultdict(list)\n",
    "    for model in model_list:\n",
    "        model.fit(X_train, y_train)\n",
    "        y_pred = model.predict(X_test)\n",
    "        \n",
    "        df['Accuracy'].append(accuracy_score(y_test,y_pred))\n",
    "        df['Precision_R'].append(precision_score(y_test,y_pred,pos_label=0))\n",
    "        df['Precision_D'].append(precision_score(y_test,y_pred,pos_label=1))\n",
    "        df['Recall_R'].append(recall_score(y_test,y_pred,pos_label=0))\n",
    "        df['Recall_D'].append(recall_score(y_test,y_pred,pos_label=1))\n",
    "        df['F1_R'].append(f1_score(y_test,y_pred,pos_label=0))\n",
    "        df['F1_D'].append(f1_score(y_test,y_pred,pos_label=1))\n",
    "        \n",
    "    return pd.DataFrame(df, index=[str(model).split('(')[0] for model in model_list])\n",
    "        "
   ]
  },
  {
   "cell_type": "code",
   "execution_count": 162,
   "metadata": {},
   "outputs": [
    {
     "data": {
      "text/html": [
       "<div>\n",
       "<style scoped>\n",
       "    .dataframe tbody tr th:only-of-type {\n",
       "        vertical-align: middle;\n",
       "    }\n",
       "\n",
       "    .dataframe tbody tr th {\n",
       "        vertical-align: top;\n",
       "    }\n",
       "\n",
       "    .dataframe thead th {\n",
       "        text-align: right;\n",
       "    }\n",
       "</style>\n",
       "<table border=\"1\" class=\"dataframe\">\n",
       "  <thead>\n",
       "    <tr style=\"text-align: right;\">\n",
       "      <th></th>\n",
       "      <th>Accuracy</th>\n",
       "      <th>Precision_R</th>\n",
       "      <th>Precision_D</th>\n",
       "      <th>Recall_R</th>\n",
       "      <th>Recall_D</th>\n",
       "      <th>F1_R</th>\n",
       "      <th>F1_D</th>\n",
       "    </tr>\n",
       "  </thead>\n",
       "  <tbody>\n",
       "    <tr>\n",
       "      <th>KNeighborsClassifier</th>\n",
       "      <td>0.916031</td>\n",
       "      <td>0.905660</td>\n",
       "      <td>0.923077</td>\n",
       "      <td>0.888889</td>\n",
       "      <td>0.935065</td>\n",
       "      <td>0.897196</td>\n",
       "      <td>0.929032</td>\n",
       "    </tr>\n",
       "    <tr>\n",
       "      <th>LogisticRegression</th>\n",
       "      <td>0.938931</td>\n",
       "      <td>0.960000</td>\n",
       "      <td>0.925926</td>\n",
       "      <td>0.888889</td>\n",
       "      <td>0.974026</td>\n",
       "      <td>0.923077</td>\n",
       "      <td>0.949367</td>\n",
       "    </tr>\n",
       "    <tr>\n",
       "      <th>GaussianNB</th>\n",
       "      <td>0.938931</td>\n",
       "      <td>0.960000</td>\n",
       "      <td>0.925926</td>\n",
       "      <td>0.888889</td>\n",
       "      <td>0.974026</td>\n",
       "      <td>0.923077</td>\n",
       "      <td>0.949367</td>\n",
       "    </tr>\n",
       "    <tr>\n",
       "      <th>SVC</th>\n",
       "      <td>0.954198</td>\n",
       "      <td>0.961538</td>\n",
       "      <td>0.949367</td>\n",
       "      <td>0.925926</td>\n",
       "      <td>0.974026</td>\n",
       "      <td>0.943396</td>\n",
       "      <td>0.961538</td>\n",
       "    </tr>\n",
       "    <tr>\n",
       "      <th>DecisionTreeClassifier</th>\n",
       "      <td>0.931298</td>\n",
       "      <td>0.924528</td>\n",
       "      <td>0.935897</td>\n",
       "      <td>0.907407</td>\n",
       "      <td>0.948052</td>\n",
       "      <td>0.915888</td>\n",
       "      <td>0.941935</td>\n",
       "    </tr>\n",
       "    <tr>\n",
       "      <th>RandomForestClassifier</th>\n",
       "      <td>0.954198</td>\n",
       "      <td>0.961538</td>\n",
       "      <td>0.949367</td>\n",
       "      <td>0.925926</td>\n",
       "      <td>0.974026</td>\n",
       "      <td>0.943396</td>\n",
       "      <td>0.961538</td>\n",
       "    </tr>\n",
       "  </tbody>\n",
       "</table>\n",
       "</div>"
      ],
      "text/plain": [
       "                        Accuracy  Precision_R  Precision_D  Recall_R  \\\n",
       "KNeighborsClassifier    0.916031     0.905660     0.923077  0.888889   \n",
       "LogisticRegression      0.938931     0.960000     0.925926  0.888889   \n",
       "GaussianNB              0.938931     0.960000     0.925926  0.888889   \n",
       "SVC                     0.954198     0.961538     0.949367  0.925926   \n",
       "DecisionTreeClassifier  0.931298     0.924528     0.935897  0.907407   \n",
       "RandomForestClassifier  0.954198     0.961538     0.949367  0.925926   \n",
       "\n",
       "                        Recall_D      F1_R      F1_D  \n",
       "KNeighborsClassifier    0.935065  0.897196  0.929032  \n",
       "LogisticRegression      0.974026  0.923077  0.949367  \n",
       "GaussianNB              0.974026  0.923077  0.949367  \n",
       "SVC                     0.974026  0.943396  0.961538  \n",
       "DecisionTreeClassifier  0.948052  0.915888  0.941935  \n",
       "RandomForestClassifier  0.974026  0.943396  0.961538  "
      ]
     },
     "execution_count": 162,
     "metadata": {},
     "output_type": "execute_result"
    }
   ],
   "source": [
    "get_aprf1_table(model_list, X_train, y_train, X_test, y_test)"
   ]
  },
  {
   "cell_type": "markdown",
   "metadata": {},
   "source": [
    "### Challenge 2\n",
    "---\n",
    "For each, draw the ROC curve and calculate the AUC.\n",
    "\n"
   ]
  },
  {
   "cell_type": "code",
   "execution_count": 163,
   "metadata": {},
   "outputs": [
    {
     "data": {
      "image/png": "[encoded data removed]",
      "text/plain": [
       "<matplotlib.figure.Figure at 0x11fd84dd8>"
      ]
     },
     "metadata": {},
     "output_type": "display_data"
    }
   ],
   "source": [
    "plt.figure(figsize=(15,5))\n",
    "lw = 1.5\n",
    "for model in model_list:\n",
    "        if str(model).split('(')[0] == 'SVC':\n",
    "            model.probability=True\n",
    "        model.fit(X_train, y_train)\n",
    "        y_pred = model.predict_proba(X_test)[:,1]\n",
    "        # Compute ROC curve and ROC area for each class\n",
    "        fpr = []\n",
    "        tpr = []\n",
    "        roc_auc = []\n",
    "        fpr, tpr, _ = roc_curve(y_test, y_pred)\n",
    "        roc_auc = auc(fpr, tpr)\n",
    "\n",
    "        plt.plot(fpr, tpr,\n",
    "         lw=lw, label='ROC curve for {0}(area = {1:0.2f})'.format(str(model).split('(')[0],roc_auc))\n",
    "        \n",
    "plt.plot([0, 1], [0, 1], color='navy', lw=lw, linestyle='--')\n",
    "plt.xlim([0.0, 1.0])\n",
    "plt.ylim([0.0, 1.05])\n",
    "plt.xlabel('False Positive Rate')\n",
    "plt.ylabel('True Positive Rate')\n",
    "plt.title('Receiver operating characteristic')\n",
    "plt.legend(loc=\"lower right\")\n",
    "plt.show();"
   ]
  },
  {
   "cell_type": "markdown",
   "metadata": {},
   "source": [
    "### Challenge 3\n",
    "---\n",
    "Calculate the same metrics you did in challenge 1, but this time in a cross validation scheme with the cross_val_score function (like in Challenge 9)."
   ]
  },
  {
   "cell_type": "code",
   "execution_count": 194,
   "metadata": {},
   "outputs": [],
   "source": [
    "score_list = ['accuracy', 'precision', 'recall', 'f1']\n",
    "def get_cv_aprf1_table(model_list, score_list, X, y):\n",
    "    '''\n",
    "    Takes models and scoring data and returns a dataframe with precision,\n",
    "    accuracy, recall, and f1 scores for all models\n",
    "    '''\n",
    "    df = defaultdict(list)\n",
    "    for model in model_list:\n",
    "        for score in score_list:\n",
    "            df[str(score)].append(np.mean(cross_val_score(model, X, y, scoring=score)))\n",
    "        \n",
    "    return pd.DataFrame(df, index=[str(model).split('(')[0] for model in model_list])"
   ]
  },
  {
   "cell_type": "code",
   "execution_count": 167,
   "metadata": {},
   "outputs": [
    {
     "data": {
      "text/html": [
       "<div>\n",
       "<style scoped>\n",
       "    .dataframe tbody tr th:only-of-type {\n",
       "        vertical-align: middle;\n",
       "    }\n",
       "\n",
       "    .dataframe tbody tr th {\n",
       "        vertical-align: top;\n",
       "    }\n",
       "\n",
       "    .dataframe thead th {\n",
       "        text-align: right;\n",
       "    }\n",
       "</style>\n",
       "<table border=\"1\" class=\"dataframe\">\n",
       "  <thead>\n",
       "    <tr style=\"text-align: right;\">\n",
       "      <th></th>\n",
       "      <th>accuracy</th>\n",
       "      <th>precision</th>\n",
       "      <th>recall</th>\n",
       "      <th>f1</th>\n",
       "    </tr>\n",
       "  </thead>\n",
       "  <tbody>\n",
       "    <tr>\n",
       "      <th>KNeighborsClassifier</th>\n",
       "      <td>0.919540</td>\n",
       "      <td>0.949772</td>\n",
       "      <td>0.917603</td>\n",
       "      <td>0.933327</td>\n",
       "    </tr>\n",
       "    <tr>\n",
       "      <th>LogisticRegression</th>\n",
       "      <td>0.960920</td>\n",
       "      <td>0.966828</td>\n",
       "      <td>0.970037</td>\n",
       "      <td>0.968099</td>\n",
       "    </tr>\n",
       "    <tr>\n",
       "      <th>GaussianNB</th>\n",
       "      <td>0.926437</td>\n",
       "      <td>0.940777</td>\n",
       "      <td>0.940075</td>\n",
       "      <td>0.939934</td>\n",
       "    </tr>\n",
       "    <tr>\n",
       "      <th>SVC</th>\n",
       "      <td>0.956322</td>\n",
       "      <td>0.980868</td>\n",
       "      <td>0.947566</td>\n",
       "      <td>0.963644</td>\n",
       "    </tr>\n",
       "    <tr>\n",
       "      <th>DecisionTreeClassifier</th>\n",
       "      <td>0.928736</td>\n",
       "      <td>0.972380</td>\n",
       "      <td>0.932584</td>\n",
       "      <td>0.946147</td>\n",
       "    </tr>\n",
       "    <tr>\n",
       "      <th>RandomForestClassifier</th>\n",
       "      <td>0.960920</td>\n",
       "      <td>0.980741</td>\n",
       "      <td>0.943820</td>\n",
       "      <td>0.959482</td>\n",
       "    </tr>\n",
       "  </tbody>\n",
       "</table>\n",
       "</div>"
      ],
      "text/plain": [
       "                        accuracy  precision    recall        f1\n",
       "KNeighborsClassifier    0.919540   0.949772  0.917603  0.933327\n",
       "LogisticRegression      0.960920   0.966828  0.970037  0.968099\n",
       "GaussianNB              0.926437   0.940777  0.940075  0.939934\n",
       "SVC                     0.956322   0.980868  0.947566  0.963644\n",
       "DecisionTreeClassifier  0.928736   0.972380  0.932584  0.946147\n",
       "RandomForestClassifier  0.960920   0.980741  0.943820  0.959482"
      ]
     },
     "execution_count": 167,
     "metadata": {},
     "output_type": "execute_result"
    }
   ],
   "source": [
    "get_cv_aprf1_table(model_list, score_list, X, y)"
   ]
  },
  {
   "cell_type": "markdown",
   "metadata": {},
   "source": [
    "### Challenge 4\n",
    "---\n",
    "For your movie classifiers, calculate the precision and recall for each class."
   ]
  },
  {
   "cell_type": "code",
   "execution_count": 214,
   "metadata": {},
   "outputs": [
    {
     "data": {
      "text/html": [
       "<div>\n",
       "<style scoped>\n",
       "    .dataframe tbody tr th:only-of-type {\n",
       "        vertical-align: middle;\n",
       "    }\n",
       "\n",
       "    .dataframe tbody tr th {\n",
       "        vertical-align: top;\n",
       "    }\n",
       "\n",
       "    .dataframe thead th {\n",
       "        text-align: right;\n",
       "    }\n",
       "</style>\n",
       "<table border=\"1\" class=\"dataframe\">\n",
       "  <thead>\n",
       "    <tr style=\"text-align: right;\">\n",
       "      <th></th>\n",
       "      <th>Title</th>\n",
       "      <th>Budget</th>\n",
       "      <th>DomesticTotalGross</th>\n",
       "      <th>Director</th>\n",
       "      <th>Rating</th>\n",
       "      <th>Runtime</th>\n",
       "      <th>ReleaseDate</th>\n",
       "    </tr>\n",
       "  </thead>\n",
       "  <tbody>\n",
       "    <tr>\n",
       "      <th>0</th>\n",
       "      <td>The Hunger Games: Catching Fire</td>\n",
       "      <td>130000000.0</td>\n",
       "      <td>424668047</td>\n",
       "      <td>Francis Lawrence</td>\n",
       "      <td>PG-13</td>\n",
       "      <td>146</td>\n",
       "      <td>2013-11-22 00:00:00</td>\n",
       "    </tr>\n",
       "    <tr>\n",
       "      <th>1</th>\n",
       "      <td>Iron Man 3</td>\n",
       "      <td>200000000.0</td>\n",
       "      <td>409013994</td>\n",
       "      <td>Shane Black</td>\n",
       "      <td>PG-13</td>\n",
       "      <td>129</td>\n",
       "      <td>2013-05-03 00:00:00</td>\n",
       "    </tr>\n",
       "    <tr>\n",
       "      <th>2</th>\n",
       "      <td>Frozen</td>\n",
       "      <td>150000000.0</td>\n",
       "      <td>400738009</td>\n",
       "      <td>Chris BuckJennifer Lee</td>\n",
       "      <td>PG</td>\n",
       "      <td>108</td>\n",
       "      <td>2013-11-22 00:00:00</td>\n",
       "    </tr>\n",
       "    <tr>\n",
       "      <th>3</th>\n",
       "      <td>Despicable Me 2</td>\n",
       "      <td>76000000.0</td>\n",
       "      <td>368061265</td>\n",
       "      <td>Pierre CoffinChris Renaud</td>\n",
       "      <td>PG</td>\n",
       "      <td>98</td>\n",
       "      <td>2013-07-03 00:00:00</td>\n",
       "    </tr>\n",
       "    <tr>\n",
       "      <th>4</th>\n",
       "      <td>Man of Steel</td>\n",
       "      <td>225000000.0</td>\n",
       "      <td>291045518</td>\n",
       "      <td>Zack Snyder</td>\n",
       "      <td>PG-13</td>\n",
       "      <td>143</td>\n",
       "      <td>2013-06-14 00:00:00</td>\n",
       "    </tr>\n",
       "  </tbody>\n",
       "</table>\n",
       "</div>"
      ],
      "text/plain": [
       "                             Title       Budget  DomesticTotalGross  \\\n",
       "0  The Hunger Games: Catching Fire  130000000.0           424668047   \n",
       "1                       Iron Man 3  200000000.0           409013994   \n",
       "2                           Frozen  150000000.0           400738009   \n",
       "3                  Despicable Me 2   76000000.0           368061265   \n",
       "4                     Man of Steel  225000000.0           291045518   \n",
       "\n",
       "                    Director Rating  Runtime          ReleaseDate  \n",
       "0           Francis Lawrence  PG-13      146  2013-11-22 00:00:00  \n",
       "1                Shane Black  PG-13      129  2013-05-03 00:00:00  \n",
       "2     Chris BuckJennifer Lee     PG      108  2013-11-22 00:00:00  \n",
       "3  Pierre CoffinChris Renaud     PG       98  2013-07-03 00:00:00  \n",
       "4                Zack Snyder  PG-13      143  2013-06-14 00:00:00  "
      ]
     },
     "execution_count": 214,
     "metadata": {},
     "output_type": "execute_result"
    }
   ],
   "source": [
    "movie_df = pd.read_csv('2013_movies.csv')\n",
    "movie_df = movie_df.dropna()\n",
    "X = movie_df[['Budget', 'DomesticTotalGross', 'Runtime']]\n",
    "y = movie_df.Rating\n",
    "X_train, X_test, y_train, y_test = train_test_split(X, y, test_size=0.30, random_state=4444)\n",
    "movie_df.head()"
   ]
  },
  {
   "cell_type": "code",
   "execution_count": 220,
   "metadata": {},
   "outputs": [],
   "source": [
    "def get_aprf1_table(model_list, X_train, y_train, X_test, y_test):\n",
    "    '''\n",
    "    Takes models and scoring data and returns a dataframe with precision,\n",
    "    accuracy, recall, and f1 scores for all models\n",
    "    '''\n",
    "    df = defaultdict(list)\n",
    "    for model in model_list:\n",
    "        model.fit(X_train, y_train)\n",
    "        y_pred = model.predict(X_test)\n",
    "        \n",
    "        df['Precision_PG'].append(precision_score(y_test,y_pred,labels=['PG'], average=None))\n",
    "        df['Precision_PG13'].append(precision_score(y_test,y_pred,labels=['PG-13'], average=None))\n",
    "        df['Precision_R'].append(precision_score(y_test,y_pred,labels=['R'], average=None))\n",
    "\n",
    "        df['Recall_PG'].append(recall_score(y_test,y_pred,labels=['PG'], average=None))\n",
    "        df['Recall_PG13'].append(recall_score(y_test,y_pred, labels=['PG-13'], average=None))\n",
    "        df['Recall_R'].append(recall_score(y_test,y_pred, labels=['R'], average=None))\n",
    "\n",
    "    return pd.DataFrame(df, index=[str(model).split('(')[0] for model in model_list])\n"
   ]
  },
  {
   "cell_type": "code",
   "execution_count": 221,
   "metadata": {},
   "outputs": [
    {
     "name": "stderr",
     "output_type": "stream",
     "text": [
      "/Users/brendonhapp/anaconda/envs/py36/lib/python3.6/site-packages/sklearn/metrics/classification.py:1135: UndefinedMetricWarning: Precision is ill-defined and being set to 0.0 due to no predicted samples.\n",
      "  'precision', 'predicted', average, warn_for)\n",
      "/Users/brendonhapp/anaconda/envs/py36/lib/python3.6/site-packages/sklearn/metrics/classification.py:1135: UndefinedMetricWarning: Precision is ill-defined and being set to 0.0 due to no predicted samples.\n",
      "  'precision', 'predicted', average, warn_for)\n",
      "/Users/brendonhapp/anaconda/envs/py36/lib/python3.6/site-packages/sklearn/metrics/classification.py:1135: UndefinedMetricWarning: Precision is ill-defined and being set to 0.0 due to no predicted samples.\n",
      "  'precision', 'predicted', average, warn_for)\n",
      "/Users/brendonhapp/anaconda/envs/py36/lib/python3.6/site-packages/sklearn/metrics/classification.py:1135: UndefinedMetricWarning: Precision is ill-defined and being set to 0.0 due to no predicted samples.\n",
      "  'precision', 'predicted', average, warn_for)\n"
     ]
    },
    {
     "data": {
      "text/html": [
       "<div>\n",
       "<style scoped>\n",
       "    .dataframe tbody tr th:only-of-type {\n",
       "        vertical-align: middle;\n",
       "    }\n",
       "\n",
       "    .dataframe tbody tr th {\n",
       "        vertical-align: top;\n",
       "    }\n",
       "\n",
       "    .dataframe thead th {\n",
       "        text-align: right;\n",
       "    }\n",
       "</style>\n",
       "<table border=\"1\" class=\"dataframe\">\n",
       "  <thead>\n",
       "    <tr style=\"text-align: right;\">\n",
       "      <th></th>\n",
       "      <th>Precision_PG</th>\n",
       "      <th>Precision_PG13</th>\n",
       "      <th>Precision_R</th>\n",
       "      <th>Recall_PG</th>\n",
       "      <th>Recall_PG13</th>\n",
       "      <th>Recall_R</th>\n",
       "    </tr>\n",
       "  </thead>\n",
       "  <tbody>\n",
       "    <tr>\n",
       "      <th>KNeighborsClassifier</th>\n",
       "      <td>[0.0]</td>\n",
       "      <td>[0.5]</td>\n",
       "      <td>[0.666666666667]</td>\n",
       "      <td>[0.0]</td>\n",
       "      <td>[0.636363636364]</td>\n",
       "      <td>[0.727272727273]</td>\n",
       "    </tr>\n",
       "    <tr>\n",
       "      <th>LogisticRegression</th>\n",
       "      <td>[0.0]</td>\n",
       "      <td>[0.409090909091]</td>\n",
       "      <td>[0.6]</td>\n",
       "      <td>[0.0]</td>\n",
       "      <td>[0.818181818182]</td>\n",
       "      <td>[0.272727272727]</td>\n",
       "    </tr>\n",
       "    <tr>\n",
       "      <th>GaussianNB</th>\n",
       "      <td>[0.0]</td>\n",
       "      <td>[0.363636363636]</td>\n",
       "      <td>[0.5]</td>\n",
       "      <td>[0.0]</td>\n",
       "      <td>[0.363636363636]</td>\n",
       "      <td>[0.727272727273]</td>\n",
       "    </tr>\n",
       "    <tr>\n",
       "      <th>SVC</th>\n",
       "      <td>[0.0]</td>\n",
       "      <td>[0.407407407407]</td>\n",
       "      <td>[0.0]</td>\n",
       "      <td>[0.0]</td>\n",
       "      <td>[1.0]</td>\n",
       "      <td>[0.0]</td>\n",
       "    </tr>\n",
       "    <tr>\n",
       "      <th>DecisionTreeClassifier</th>\n",
       "      <td>[0.0]</td>\n",
       "      <td>[0.363636363636]</td>\n",
       "      <td>[0.428571428571]</td>\n",
       "      <td>[0.0]</td>\n",
       "      <td>[0.363636363636]</td>\n",
       "      <td>[0.545454545455]</td>\n",
       "    </tr>\n",
       "    <tr>\n",
       "      <th>RandomForestClassifier</th>\n",
       "      <td>[0.0]</td>\n",
       "      <td>[0.466666666667]</td>\n",
       "      <td>[0.545454545455]</td>\n",
       "      <td>[0.0]</td>\n",
       "      <td>[0.636363636364]</td>\n",
       "      <td>[0.545454545455]</td>\n",
       "    </tr>\n",
       "  </tbody>\n",
       "</table>\n",
       "</div>"
      ],
      "text/plain": [
       "                       Precision_PG    Precision_PG13       Precision_R  \\\n",
       "KNeighborsClassifier          [0.0]             [0.5]  [0.666666666667]   \n",
       "LogisticRegression            [0.0]  [0.409090909091]             [0.6]   \n",
       "GaussianNB                    [0.0]  [0.363636363636]             [0.5]   \n",
       "SVC                           [0.0]  [0.407407407407]             [0.0]   \n",
       "DecisionTreeClassifier        [0.0]  [0.363636363636]  [0.428571428571]   \n",
       "RandomForestClassifier        [0.0]  [0.466666666667]  [0.545454545455]   \n",
       "\n",
       "                       Recall_PG       Recall_PG13          Recall_R  \n",
       "KNeighborsClassifier       [0.0]  [0.636363636364]  [0.727272727273]  \n",
       "LogisticRegression         [0.0]  [0.818181818182]  [0.272727272727]  \n",
       "GaussianNB                 [0.0]  [0.363636363636]  [0.727272727273]  \n",
       "SVC                        [0.0]             [1.0]             [0.0]  \n",
       "DecisionTreeClassifier     [0.0]  [0.363636363636]  [0.545454545455]  \n",
       "RandomForestClassifier     [0.0]  [0.636363636364]  [0.545454545455]  "
      ]
     },
     "execution_count": 221,
     "metadata": {},
     "output_type": "execute_result"
    }
   ],
   "source": [
    "get_aprf1_table(model_list, X_train, y_train, X_test, y_test)"
   ]
  },
  {
   "cell_type": "markdown",
   "metadata": {},
   "source": [
    "### Challenge 5\n",
    "---\n",
    "Draw the ROC curve (and calculate AUC) for the logistic regression classifier from challenge 12."
   ]
  },
  {
   "cell_type": "code",
   "execution_count": 222,
   "metadata": {},
   "outputs": [],
   "source": [
    "url=\"https://archive.ics.uci.edu/ml/machine-learning-databases/haberman/haberman.data\"\n",
    "hab_df=pd.read_csv(url,\n",
    "               names = ['f1', 'f2', 'f3', 't'])\n"
   ]
  },
  {
   "cell_type": "code",
   "execution_count": 233,
   "metadata": {},
   "outputs": [],
   "source": [
    "X = hab_df.iloc[:,:3]\n",
    "y = hab_df.iloc[:,3]\n",
    "y = label_binarize(y, classes=[1, 2]).reshape(-1)"
   ]
  },
  {
   "cell_type": "code",
   "execution_count": 234,
   "metadata": {},
   "outputs": [],
   "source": [
    "X_train, X_test, y_train, y_test = train_test_split(X, y, \n",
    "                                                    test_size=0.30, random_state=4444)"
   ]
  },
  {
   "cell_type": "code",
   "execution_count": 237,
   "metadata": {},
   "outputs": [
    {
     "data": {
      "image/png": "[encoded data removed]",
      "text/plain": [
       "<matplotlib.figure.Figure at 0x1202c7da0>"
      ]
     },
     "metadata": {},
     "output_type": "display_data"
    }
   ],
   "source": [
    "plt.figure(figsize=(15,5))\n",
    "lw = 1.5\n",
    " \n",
    "LogisticRegression().fit(X_train, y_train)\n",
    "y_pred = model.predict_proba(X_test)[:,1]\n",
    "# Compute ROC curve and ROC area for each class\n",
    "fpr = []\n",
    "tpr = []\n",
    "roc_auc = []\n",
    "fpr, tpr, _ = roc_curve(y_test, y_pred)\n",
    "roc_auc = auc(fpr, tpr)\n",
    "\n",
    "plt.plot(fpr, tpr,\n",
    "         lw=lw, label='ROC curve for {0}(area = {1:0.2f})'.format(str(model).split('(')[0],roc_auc))\n",
    "        \n",
    "plt.plot([0, 1], [0, 1], color='navy', lw=lw, linestyle='--')\n",
    "plt.xlim([0.0, 1.0])\n",
    "plt.ylim([0.0, 1.05])\n",
    "plt.xlabel('False Positive Rate')\n",
    "plt.ylabel('True Positive Rate')\n",
    "plt.title('Receiver operating characteristic')\n",
    "plt.legend(loc=\"lower right\")\n",
    "plt.show();"
   ]
  },
  {
   "cell_type": "code",
   "execution_count": null,
   "metadata": {},
   "outputs": [],
   "source": []
  },
  {
   "cell_type": "code",
   "execution_count": null,
   "metadata": {},
   "outputs": [],
   "source": []
  },
  {
   "cell_type": "code",
   "execution_count": null,
   "metadata": {},
   "outputs": [],
   "source": []
  },
  {
   "cell_type": "code",
   "execution_count": null,
   "metadata": {},
   "outputs": [],
   "source": []
  }
 ],
 "metadata": {
  "kernelspec": {
   "display_name": "Python 3",
   "language": "python",
   "name": "python3"
  },
  "language_info": {
   "codemirror_mode": {
    "name": "ipython",
    "version": 3
   },
   "file_extension": ".py",
   "mimetype": "text/x-python",
   "name": "python",
   "nbconvert_exporter": "python",
   "pygments_lexer": "ipython3",
   "version": "3.6.2"
  }
 },
 "nbformat": 4,
 "nbformat_minor": 2
}
