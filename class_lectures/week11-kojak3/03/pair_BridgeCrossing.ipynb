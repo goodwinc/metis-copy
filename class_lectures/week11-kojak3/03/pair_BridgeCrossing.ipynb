{
 "cells": [
  {
   "cell_type": "code",
   "execution_count": 8,
   "metadata": {
    "collapsed": true
   },
   "outputs": [],
   "source": [
    "def getTime(w):\n",
    "    w.sort()\n",
    "    s=0\n",
    "    while len(w)>3:\n",
    "        d = w.pop()\n",
    "        c = w.pop()\n",
    "        s+= min(d+w[0]+2*w[1],d+c+2*w[0])\n",
    "    s+= sum(w) if len(w)==3 else w[1]\n",
    "    return s"
   ]
  },
  {
   "cell_type": "code",
   "execution_count": 4,
   "metadata": {
    "collapsed": false
   },
   "outputs": [
    {
     "data": {
      "text/plain": [
       "29"
      ]
     },
     "execution_count": 4,
     "metadata": {},
     "output_type": "execute_result"
    }
   ],
   "source": [
    "getTime([8,9,1,2,8,9])"
   ]
  },
  {
   "cell_type": "code",
   "execution_count": 6,
   "metadata": {
    "collapsed": false
   },
   "outputs": [
    {
     "data": {
      "text/plain": [
       "16"
      ]
     },
     "execution_count": 6,
     "metadata": {},
     "output_type": "execute_result"
    }
   ],
   "source": [
    "getTime([8,9,1,2])"
   ]
  },
  {
   "cell_type": "code",
   "execution_count": 7,
   "metadata": {
    "collapsed": false
   },
   "outputs": [
    {
     "data": {
      "text/plain": [
       "26"
      ]
     },
     "execution_count": 7,
     "metadata": {},
     "output_type": "execute_result"
    }
   ],
   "source": [
    "getTime([8,9,1,7])"
   ]
  },
  {
   "cell_type": "code",
   "execution_count": 8,
   "metadata": {
    "collapsed": false
   },
   "outputs": [
    {
     "data": {
      "text/plain": [
       "37"
      ]
     },
     "execution_count": 8,
     "metadata": {},
     "output_type": "execute_result"
    }
   ],
   "source": [
    "getTime([8,9,1,4,3,4,7])"
   ]
  },
  {
   "cell_type": "code",
   "execution_count": 1,
   "metadata": {
    "collapsed": true
   },
   "outputs": [],
   "source": [
    "from collections import defaultdict"
   ]
  },
  {
   "cell_type": "code",
   "execution_count": 2,
   "metadata": {
    "collapsed": true
   },
   "outputs": [],
   "source": [
    "d = defaultdict(int)"
   ]
  },
  {
   "cell_type": "code",
   "execution_count": 3,
   "metadata": {
    "collapsed": false
   },
   "outputs": [],
   "source": [
    "def getTime2(w,r=[]):\n",
    "    if d[(tuple(w),tuple(r))]:\n",
    "        return d[(tuple(w),tuple(r))]\n",
    "    if len(w)==1:\n",
    "        return w[0]\n",
    "    if len(w)==2:\n",
    "        return max(w[0],w[1])\n",
    "    ss = []\n",
    "    for i in range(len(w)):\n",
    "        for j in range(i+1,len(w)):\n",
    "            nw = w[:]\n",
    "            b = nw.pop(j)\n",
    "            a = nw.pop(i)\n",
    "            nr = r[:]\n",
    "            nr.append(a)\n",
    "            nr.append(b)\n",
    "            s = []\n",
    "            for k in range(len(nr)):\n",
    "                nnr = nr[:]\n",
    "                c = nnr.pop(k)\n",
    "                nnw = nw[:]\n",
    "                nnw.append(c)\n",
    "                s.append(c+getTime2(nnw,nnr))\n",
    "            ss.append(min(s)+max(a,b))\n",
    "    d[(tuple(w),tuple(r))]=min(ss)\n",
    "    return d[(tuple(w),tuple(r))]"
   ]
  },
  {
   "cell_type": "code",
   "execution_count": 7,
   "metadata": {
    "collapsed": false
   },
   "outputs": [
    {
     "data": {
      "text/plain": [
       "43"
      ]
     },
     "execution_count": 7,
     "metadata": {},
     "output_type": "execute_result"
    }
   ],
   "source": [
    "getTime2([8,9,1,4,3,4,7,6])"
   ]
  },
  {
   "cell_type": "code",
   "execution_count": 9,
   "metadata": {
    "collapsed": false
   },
   "outputs": [
    {
     "data": {
      "text/plain": [
       "43"
      ]
     },
     "execution_count": 9,
     "metadata": {},
     "output_type": "execute_result"
    }
   ],
   "source": [
    "getTime([8,9,1,4,3,4,7,6])"
   ]
  },
  {
   "cell_type": "code",
   "execution_count": null,
   "metadata": {
    "collapsed": true
   },
   "outputs": [],
   "source": []
  }
 ],
 "metadata": {
  "kernelspec": {
   "display_name": "Python 2",
   "language": "python",
   "name": "python2"
  },
  "language_info": {
   "codemirror_mode": {
    "name": "ipython",
    "version": 2
   },
   "file_extension": ".py",
   "mimetype": "text/x-python",
   "name": "python",
   "nbconvert_exporter": "python",
   "pygments_lexer": "ipython2",
   "version": "2.7.13"
  }
 },
 "nbformat": 4,
 "nbformat_minor": 0
}
