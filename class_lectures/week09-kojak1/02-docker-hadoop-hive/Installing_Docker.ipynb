{
 "cells": [
  {
   "cell_type": "markdown",
   "metadata": {},
   "source": [
    "# Installing Docker\n",
    "\n",
    "There are two ways to install Docker: on an AWS EC2 instance and locally (on your own computer). The option you choose depends on the needs of your project, your budget, and the capabilities/existing space of current hardware. \n",
    "\n",
    "For our in-class demonstrations during the next three days., we will be using an AWS installation so you get a feel for how to use big data tools on AWS. Be aware that there is an hourly cost associated with using AWS EC2 instances, so you will want to stop the instance (equivalent to powering down) when class is done today to help save on costs. Once the big data section of the class is complete, the instance can be terminated (deleted).\n",
    "\n"
   ]
  },
  {
   "cell_type": "markdown",
   "metadata": {},
   "source": [
    "## Option 1. AWS installation\n",
    "\n",
    "If you opt for an AWS instance, you will create an AWS EC2 instance and install Docker on it. You may want to perform this setup the morning of class to eliminate charges while the instance sits idle overnight."
   ]
  },
  {
   "cell_type": "markdown",
   "metadata": {},
   "source": [
    "### Setup AWS EC2 instance.\n",
    "\n",
    "Note: You can use your existing instance, but the Docker install will require additional space and RAM requirements and the Spark containers, which we will be using the following two days, require a minimum of 2 GB of RAM (and sometimes more seems to be needed--2 GB is the absolute minimum). We have found that a **t2.medium** instance works reliably. It *WILL NOT* work with t2.nano or t2.micro, and sometimes problems have been encountered with a t2.small.\n",
    "\n",
    "If you need to set up a new instance:\n",
    "\n",
    "(**1**) Login to AWS and navigate to the EC2 console. Expand the \"Instances\" menu on the left and select the section also labeled \"Instances\" just below it.  \n",
    "\n",
    "(**2**) Click the blue \"Launch Instance\" button in the main section of the window.  \n",
    "\n",
    "(**3**) A screen will appear that is entitled \"Step 1. Choose and Amazon Machine Image (AMI)\". Ensure the left option labeled \"Quick Start\" is selected. Select the option labeled \"Ubuntu Server 16.04 LTS (HVM), SSD Volume Type\". In case Amazon has updated the instance, you can also enter the AMI ID (**ami-80861296**) directly.  \n",
    "\n",
    "(**4**)  The remaining steps for launching your EC2 instance are identical to what was done in class [previously](/class_lectures/week04-mcnulty1/01-mcnulty_class_cloud/aws_setup_cloud.md). The instance type, details, storage (**30 GB** is the relative minimum for the class demos), security, and keypair must be setup.\n"
   ]
  },
  {
   "cell_type": "markdown",
   "metadata": {},
   "source": [
    "### Install Docker on the AWS EC2 instance\n",
    "\n",
    "Once the instance has launched, note the IP address and the path to where your SSH key (the PEM file downloaded from AWS) is located. \n",
    "\n",
    "(**1**) Login to the AWS instance using the following: `ssh -i ~/path/to/ssh_key_file.pem ubuntu@XX.XXX.XXX.XX`, where the last number used in place of the `X`'s is the IP address of your instance.  \n",
    "\n",
    "(**2**) Once you have logged in, the first step is adding the software repository with Docker and then installing Docker itself. Enter each command below. Note that many commands are multiple lines. There are line breaks between complete commands.\n",
    "\n",
    "```bash\n",
    "sudo apt-key adv \\\n",
    "               --keyserver hkp://ha.pool.sks-keyservers.net:80 \\\n",
    "               --recv-keys 58118E89F3A912897C070ADBF76221572C52609D\n",
    "\n",
    "echo \"deb https://apt.dockerproject.org/repo ubuntu-xenial main\" \\\n",
    "      | sudo tee /etc/apt/sources.list.d/docker.list\n",
    "\n",
    "sudo apt-get update\n",
    "\n",
    "kernel_version=`uname -r | sed 's/-aws//g'`\n",
    "\n",
    "linux_image_extra_name=`apt-cache search linux-image-extra-$kernel_version \\\n",
    "                        | awk '{print $1}'`\n",
    "\n",
    "sudo apt-get -y install apt-transport-https ca-certificates \\\n",
    "                     $linux_image_extra_name linux-image-extra-virtual \\\n",
    "                     docker-engine docker-compose tmux\n",
    "```\n",
    "\n",
    "(**3**) Then you will need to setup Docker to start when the system reboots and reboot the system itself. The last command below will restart the system. You will temporarily be logged out.\n",
    "\n",
    "```bash\n",
    "sudo service docker start\n",
    "\n",
    "sudo systemctl enable docker\n",
    "\n",
    "sudo shutdown -r now\n",
    "```\n",
    "\n",
    "The last command will log you out of the AWS instance while it reboots.\n",
    "\n",
    "(**4**) After waiting a few minutes for the system to reboot, SSH into the instance again. Note that the IP address of your instance might have changed. Now we will add the main user (`ubuntu`) to the group of people who are allowed to run Docker without root privileges. Then test your access to Docker.\n",
    "\n",
    "```bash\n",
    "sudo usermod -a -G docker ubuntu\n",
    "\n",
    "\n",
    "exit\n",
    "```\n",
    "\n",
    "The last command will log you out again, which is required for the `usermod` command to take effect. Log in one more time via SSH and run the following command. From now on, `sudo` should no longer be required with Docker.\n",
    "\n",
    "Test that docker is setup with the following command:\n",
    "\n",
    "```bash\n",
    "docker info\n",
    "```\n",
    "\n",
    "If everything is setup correctly, the first few lines of the output from the last command should look something like the following:\n",
    "\n",
    "```bash\n",
    "Containers: 0\n",
    " Running: 0\n",
    " Paused: 0\n",
    " Stopped: 0\n",
    "Images: 0\n",
    "Server Version: 1.12.3\n",
    "Storage Driver: devicemapper\n",
    "...\n",
    "...\n",
    "```\n",
    "\n",
    "**Stop here.** This is all that should be done prior to the start of class."
   ]
  },
  {
   "cell_type": "markdown",
   "metadata": {},
   "source": [
    "## Option 2. Local installation\n",
    "\n",
    "If a local Docker installation is needed, follow the appropriate instructions below for your particular operating system. Be sure to download the **stable** version of Docker!\n",
    "\n",
    "* Mac: https://docs.docker.com/docker-for-mac/\n",
    "* Windows: https://docs.docker.com/docker-for-windows/\n",
    "* Linux: https://docs.docker.com/engine/getstarted/\n",
    "\n",
    "**Stop here.** This is all that should be done prior to the start of class."
   ]
  }
 ],
 "metadata": {
  "anaconda-cloud": {},
  "kernelspec": {
   "display_name": "Python 3",
   "language": "python",
   "name": "python3"
  },
  "language_info": {
   "codemirror_mode": {
    "name": "ipython",
    "version": 3
   },
   "file_extension": ".py",
   "mimetype": "text/x-python",
   "name": "python",
   "nbconvert_exporter": "python",
   "pygments_lexer": "ipython3",
   "version": "3.6.1"
  }
 },
 "nbformat": 4,
 "nbformat_minor": 2
}
