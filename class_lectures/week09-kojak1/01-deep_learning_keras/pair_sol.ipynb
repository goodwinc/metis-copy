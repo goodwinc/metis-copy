{
 "cells": [
  {
   "cell_type": "markdown",
   "metadata": {},
   "source": [
    "**The Bootstrap!**"
   ]
  },
  {
   "cell_type": "code",
   "execution_count": 1,
   "metadata": {
    "collapsed": true
   },
   "outputs": [],
   "source": [
    "import pandas as pd\n",
    "import random\n",
    "import numpy as np\n",
    "from sklearn.linear_model import LinearRegression\n",
    "\n",
    "def bootstrap_sample(data):\n",
    "    random_inds = np.random.choice(data.shape[0], size=data.shape[0])\n",
    "    return data[random_inds]"
   ]
  },
  {
   "cell_type": "code",
   "execution_count": 2,
   "metadata": {},
   "outputs": [
    {
     "data": {
      "text/plain": [
       "array([2, 1, 2, 2])"
      ]
     },
     "execution_count": 2,
     "metadata": {},
     "output_type": "execute_result"
    }
   ],
   "source": [
    "bootstrap_sample(np.array([1,2,3,4])) #array"
   ]
  },
  {
   "cell_type": "code",
   "execution_count": 3,
   "metadata": {},
   "outputs": [
    {
     "data": {
      "text/plain": [
       "array([[3, 4, 5],\n",
       "       [1, 2, 1]])"
      ]
     },
     "execution_count": 3,
     "metadata": {},
     "output_type": "execute_result"
    }
   ],
   "source": [
    "bootstrap_sample(np.array([[3,4,5],[1,2,1]])) #2d array"
   ]
  },
  {
   "cell_type": "markdown",
   "metadata": {},
   "source": [
    "**Part 1: confidence interval for the target median**"
   ]
  },
  {
   "cell_type": "code",
   "execution_count": 4,
   "metadata": {},
   "outputs": [
    {
     "name": "stdout",
     "output_type": "stream",
     "text": [
      "1000 Bootstrap samples estimated median: -0.400\n",
      "With a 95% confidence interval from -0.521 to -0.261 \n",
      "\n"
     ]
    }
   ],
   "source": [
    "df = pd.read_csv('pair_boot.csv')\n",
    "y = df.y\n",
    "\n",
    "medians = []\n",
    "bootstrap_num = 1000\n",
    "for _ in range(bootstrap_num):\n",
    "    boot_sample = bootstrap_sample(y)\n",
    "    medians.append(np.median(boot_sample))\n",
    "    \n",
    "avg = np.mean(medians)\n",
    "p_lower = np.percentile(medians, 2.5)\n",
    "p_upper = np.percentile(medians, 97.5)\n",
    "\n",
    "print('%d Bootstrap samples estimated median: %.3f' % \n",
    "      (bootstrap_num, avg))\n",
    "print('With a 95%% confidence interval from %.3f to %.3f \\n' % \n",
    "      (p_lower, p_upper))"
   ]
  },
  {
   "cell_type": "markdown",
   "metadata": {},
   "source": [
    "**Part 2: confidence interval for regression coefficients**"
   ]
  },
  {
   "cell_type": "code",
   "execution_count": 5,
   "metadata": {},
   "outputs": [
    {
     "name": "stderr",
     "output_type": "stream",
     "text": [
      "/anaconda3/lib/python3.6/site-packages/scipy/linalg/basic.py:1226: RuntimeWarning: internal gelsd driver lwork query error, required iwork dimension not returned. This is likely the result of LAPACK bug 0038, fixed in LAPACK 3.2.2 (released July 21, 2010). Falling back to 'gelss' driver.\n",
      "  warnings.warn(mesg, RuntimeWarning)\n"
     ]
    },
    {
     "name": "stdout",
     "output_type": "stream",
     "text": [
      "Bootstrapped coef estimate for x1: -1.412\n",
      "With a 95% conf interval from -1.474 to -1.351 \n",
      "\n",
      "Bootstrapped coef estimate for x2: -0.242\n",
      "With a 95% conf interval from -0.311 to -0.176 \n",
      "\n",
      "Bootstrapped coef estimate for x3: 0.552\n",
      "With a 95% conf interval from 0.491 to 0.614 \n",
      "\n",
      "Bootstrapped coef estimate for x4: 0.431\n",
      "With a 95% conf interval from 0.366 to 0.498 \n",
      "\n",
      "Bootstrapped coef estimate for x5: 0.254\n",
      "With a 95% conf interval from 0.188 to 0.321 \n",
      "\n"
     ]
    }
   ],
   "source": [
    "coefs= []\n",
    "bootstrap_num = 1000\n",
    "for _ in range(bootstrap_num):\n",
    "    boot_data = bootstrap_sample(df.values)\n",
    "    boot_X, boot_y = boot_data[:,:5], boot_data[:,-1]\n",
    "    lm = LinearRegression().fit(boot_X,boot_y)\n",
    "    coefs.append(lm.coef_)\n",
    "\n",
    "coefs = np.array(coefs)\n",
    "coef_avgs = np.mean(coefs,axis=0)\n",
    "coef_p_lowers = np.percentile(coefs,2.5,axis=0)\n",
    "coef_p_uppers = np.percentile(coefs,97.5,axis=0)\n",
    "\n",
    "for i in range(coefs.shape[1]):\n",
    "    print('Bootstrapped coef estimate for x%d: %.3f' % \n",
    "          (i+1,coef_avgs[i]))\n",
    "    print('With a 95%% conf interval from %.3f to %.3f \\n' %\n",
    "          (coef_p_lowers[i],coef_p_uppers[i]))"
   ]
  },
  {
   "cell_type": "code",
   "execution_count": null,
   "metadata": {
    "collapsed": true
   },
   "outputs": [],
   "source": []
  }
 ],
 "metadata": {
  "kernelspec": {
   "display_name": "Python 3",
   "language": "python",
   "name": "python3"
  },
  "language_info": {
   "codemirror_mode": {
    "name": "ipython",
    "version": 3
   },
   "file_extension": ".py",
   "mimetype": "text/x-python",
   "name": "python",
   "nbconvert_exporter": "python",
   "pygments_lexer": "ipython3",
   "version": "3.6.2"
  }
 },
 "nbformat": 4,
 "nbformat_minor": 2
}
