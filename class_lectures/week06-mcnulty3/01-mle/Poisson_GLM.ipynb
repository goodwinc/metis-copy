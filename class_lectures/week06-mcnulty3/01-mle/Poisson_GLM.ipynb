{
 "cells": [
  {
   "cell_type": "markdown",
   "metadata": {},
   "source": [
    "##  The Poisson Distribution"
   ]
  },
  {
   "cell_type": "code",
   "execution_count": 1,
   "metadata": {
    "ExecuteTime": {
     "end_time": "2017-01-05T17:20:46.791442",
     "start_time": "2017-01-05T17:20:46.782925"
    }
   },
   "outputs": [],
   "source": [
    "from __future__ import division, print_function\n",
    "import seaborn as sns\n",
    "\n",
    "from IPython.display import Math\n",
    "import pandas as pd\n",
    "import numpy as np\n",
    "import math\n",
    "\n",
    "import matplotlib.pyplot as plt\n",
    "\n",
    "%matplotlib inline"
   ]
  },
  {
   "cell_type": "markdown",
   "metadata": {},
   "source": [
    "###  How many pieces of mail do you receive daily?\n",
    "\n",
    "Let's say you usually get 10 letters a day.. \n",
    "\n",
    "We can use the Poisson Equation to look at the Probability Mass Function"
   ]
  },
  {
   "cell_type": "markdown",
   "metadata": {},
   "source": [
    "$ P(X=x)  = (\\lambda^xe^{-\\lambda})/x$!"
   ]
  },
  {
   "cell_type": "code",
   "execution_count": 2,
   "metadata": {
    "ExecuteTime": {
     "end_time": "2017-01-05T17:20:47.467695",
     "start_time": "2017-01-05T17:20:47.456913"
    }
   },
   "outputs": [],
   "source": [
    "sum=0\n",
    "pois=[]\n",
    "def our_poisson(x,lam):\n",
    "    p=(lam**x)*np.exp(-lam)/(math.factorial(x))\n",
    "    return p\n",
    "\n",
    "for x in range(50):\n",
    "    pois.append(our_poisson(x,10))"
   ]
  },
  {
   "cell_type": "code",
   "execution_count": 3,
   "metadata": {
    "ExecuteTime": {
     "end_time": "2017-01-05T17:20:47.947050",
     "start_time": "2017-01-05T17:20:47.671397"
    }
   },
   "outputs": [
    {
     "data": {
      "text/plain": [
       "<matplotlib.text.Text at 0x111910e10>"
      ]
     },
     "execution_count": 3,
     "metadata": {},
     "output_type": "execute_result"
    },
    {
     "data": {
      "image/png": "[encoded data removed]",
      "text/plain": [
       "<matplotlib.figure.Figure at 0x111907cf8>"
      ]
     },
     "metadata": {},
     "output_type": "display_data"
    }
   ],
   "source": [
    "plt.scatter(range(50),pois)\n",
    "plt.title(\"Probability Mass Function\")\n",
    "plt.ylabel(\"P(X=x)\")\n",
    "plt.xlabel(\"x\")"
   ]
  },
  {
   "cell_type": "markdown",
   "metadata": {},
   "source": [
    "#### The poisson distribution applies when:   \n",
    "    - Events are something that can be counted in whole numbers   \n",
    "    - Occurences are independent\n",
    "    - Average rate of occurence for the time period in question is known.   \n",
    "    - It is possible to count how many events have occurred\n",
    "    - Both the mean and the variance of the distribution are equal to lambda\n",
    "    \n",
    "#### More examples:   \n",
    "    # of births per hour in a hospital   \n",
    "    # of cars passing by Madison Ave in some time interval  \n",
    "    # of goals in a hockey game\n",
    "    # Soldiers in the Prussian calvary killed by horse kicks\n",
    "    \n",
    "#### (However...)\n",
    "    "
   ]
  },
  {
   "cell_type": "markdown",
   "metadata": {},
   "source": [
    "## Poisson Distribution:"
   ]
  },
  {
   "cell_type": "markdown",
   "metadata": {},
   "source": [
    "$P(X=x)  = (\\lambda^xe^{-\\lambda})/x!$  \n",
    "$E(X)=\\lambda$   \n",
    "$Var(X)=\\lambda$  \n"
   ]
  },
  {
   "cell_type": "code",
   "execution_count": 4,
   "metadata": {
    "ExecuteTime": {
     "end_time": "2017-01-05T17:20:49.895501",
     "start_time": "2017-01-05T17:20:49.887066"
    }
   },
   "outputs": [
    {
     "name": "stdout",
     "output_type": "stream",
     "text": [
      "9.916\n",
      "10.058944000000002\n"
     ]
    }
   ],
   "source": [
    "sample=np.random.poisson(10, 1000)\n",
    "print (sample.mean())\n",
    "print (sample.var())"
   ]
  },
  {
   "cell_type": "code",
   "execution_count": 5,
   "metadata": {
    "ExecuteTime": {
     "end_time": "2017-01-05T17:20:50.141565",
     "start_time": "2017-01-05T17:20:50.127450"
    }
   },
   "outputs": [
    {
     "data": {
      "text/html": [
       "<div>\n",
       "<style>\n",
       "    .dataframe thead tr:only-child th {\n",
       "        text-align: right;\n",
       "    }\n",
       "\n",
       "    .dataframe thead th {\n",
       "        text-align: left;\n",
       "    }\n",
       "\n",
       "    .dataframe tbody tr th {\n",
       "        vertical-align: top;\n",
       "    }\n",
       "</style>\n",
       "<table border=\"1\" class=\"dataframe\">\n",
       "  <thead>\n",
       "    <tr style=\"text-align: right;\">\n",
       "      <th></th>\n",
       "      <th>STA</th>\n",
       "      <th>Lambda</th>\n",
       "    </tr>\n",
       "  </thead>\n",
       "  <tbody>\n",
       "    <tr>\n",
       "      <th>0</th>\n",
       "      <td>JFK</td>\n",
       "      <td>16</td>\n",
       "    </tr>\n",
       "    <tr>\n",
       "      <th>1</th>\n",
       "      <td>FLL</td>\n",
       "      <td>7</td>\n",
       "    </tr>\n",
       "    <tr>\n",
       "      <th>2</th>\n",
       "      <td>EWR</td>\n",
       "      <td>5</td>\n",
       "    </tr>\n",
       "    <tr>\n",
       "      <th>3</th>\n",
       "      <td>LGB</td>\n",
       "      <td>4</td>\n",
       "    </tr>\n",
       "    <tr>\n",
       "      <th>4</th>\n",
       "      <td>MCO</td>\n",
       "      <td>4</td>\n",
       "    </tr>\n",
       "  </tbody>\n",
       "</table>\n",
       "</div>"
      ],
      "text/plain": [
       "   STA  Lambda\n",
       "0  JFK      16\n",
       "1  FLL       7\n",
       "2  EWR       5\n",
       "3  LGB       4\n",
       "4  MCO       4"
      ]
     },
     "execution_count": 5,
     "metadata": {},
     "output_type": "execute_result"
    }
   ],
   "source": [
    "# A REAL Example: 'Turn Around Time' for a Nose Landing Gear Tire (Delivery) was 10 days\n",
    "# The rates for tire fails for each station were as follows:\n",
    "\n",
    "dets=[['JFK',16],['FLL',7],['EWR',5],['LGB',4],['MCO',4]]\n",
    "data=pd.DataFrame(dets,columns=['STA','Lambda'])\n",
    "data.head()"
   ]
  },
  {
   "cell_type": "code",
   "execution_count": 6,
   "metadata": {
    "ExecuteTime": {
     "end_time": "2017-01-05T17:20:50.788659",
     "start_time": "2017-01-05T17:20:50.773321"
    }
   },
   "outputs": [
    {
     "name": "stdout",
     "output_type": "stream",
     "text": [
      "JFK\n",
      "25\n",
      "0.9868814371124173\n",
      "\n",
      "\n",
      "FLL\n",
      "13\n",
      "0.9871886071965799\n",
      "\n",
      "\n",
      "EWR\n",
      "10\n",
      "0.9863047314016171\n",
      "\n",
      "\n",
      "LGB\n",
      "9\n",
      "0.991867757203066\n",
      "\n",
      "\n",
      "MCO\n",
      "9\n",
      "0.991867757203066\n",
      "\n",
      "\n"
     ]
    }
   ],
   "source": [
    "# \n",
    "sum_=0\n",
    "for i in range(len(data)):\n",
    "    sum_=0\n",
    "    for j in range(40):\n",
    "        sum_+=our_poisson(j,int(data.Lambda[i]))\n",
    "        if sum_ > 0.985:\n",
    "            print(data.STA[i])\n",
    "            print(j)\n",
    "            print(sum_)\n",
    "            print('\\n')\n",
    "            break"
   ]
  },
  {
   "cell_type": "markdown",
   "metadata": {},
   "source": [
    "### Poisson Regression Example"
   ]
  },
  {
   "cell_type": "markdown",
   "metadata": {},
   "source": [
    "We can use Regression to predict count data \n",
    "    * We have some constraints\n",
    "    * We'll need a  link function"
   ]
  },
  {
   "cell_type": "code",
   "execution_count": 7,
   "metadata": {
    "ExecuteTime": {
     "end_time": "2017-01-05T17:20:52.222362",
     "start_time": "2017-01-05T17:20:52.062055"
    }
   },
   "outputs": [],
   "source": [
    "import statsmodels.api as smf\n",
    "from patsy import dmatrices"
   ]
  },
  {
   "cell_type": "code",
   "execution_count": 8,
   "metadata": {
    "ExecuteTime": {
     "end_time": "2017-01-05T17:20:52.867044",
     "start_time": "2017-01-05T17:20:52.627191"
    }
   },
   "outputs": [],
   "source": [
    "url='http://quantedu.com/wp-content/uploads/2014/05/job.txt'\n",
    "data=pd.read_csv(url,delimiter=r\"\\s+\")"
   ]
  },
  {
   "cell_type": "code",
   "execution_count": 9,
   "metadata": {
    "ExecuteTime": {
     "end_time": "2017-01-05T17:20:53.102148",
     "start_time": "2017-01-05T17:20:53.084408"
    }
   },
   "outputs": [
    {
     "data": {
      "text/html": [
       "<div>\n",
       "<style>\n",
       "    .dataframe thead tr:only-child th {\n",
       "        text-align: right;\n",
       "    }\n",
       "\n",
       "    .dataframe thead th {\n",
       "        text-align: left;\n",
       "    }\n",
       "\n",
       "    .dataframe tbody tr th {\n",
       "        vertical-align: top;\n",
       "    }\n",
       "</style>\n",
       "<table border=\"1\" class=\"dataframe\">\n",
       "  <thead>\n",
       "    <tr style=\"text-align: right;\">\n",
       "      <th></th>\n",
       "      <th>Intercept</th>\n",
       "      <th>Income</th>\n",
       "      <th>GPA</th>\n",
       "    </tr>\n",
       "  </thead>\n",
       "  <tbody>\n",
       "    <tr>\n",
       "      <th>0</th>\n",
       "      <td>1.0</td>\n",
       "      <td>39.693</td>\n",
       "      <td>2.53</td>\n",
       "    </tr>\n",
       "    <tr>\n",
       "      <th>1</th>\n",
       "      <td>1.0</td>\n",
       "      <td>45.250</td>\n",
       "      <td>1.99</td>\n",
       "    </tr>\n",
       "    <tr>\n",
       "      <th>2</th>\n",
       "      <td>1.0</td>\n",
       "      <td>45.688</td>\n",
       "      <td>3.83</td>\n",
       "    </tr>\n",
       "    <tr>\n",
       "      <th>3</th>\n",
       "      <td>1.0</td>\n",
       "      <td>46.927</td>\n",
       "      <td>1.99</td>\n",
       "    </tr>\n",
       "    <tr>\n",
       "      <th>4</th>\n",
       "      <td>1.0</td>\n",
       "      <td>47.436</td>\n",
       "      <td>3.21</td>\n",
       "    </tr>\n",
       "  </tbody>\n",
       "</table>\n",
       "</div>"
      ],
      "text/plain": [
       "   Intercept  Income   GPA\n",
       "0        1.0  39.693  2.53\n",
       "1        1.0  45.250  1.99\n",
       "2        1.0  45.688  3.83\n",
       "3        1.0  46.927  1.99\n",
       "4        1.0  47.436  3.21"
      ]
     },
     "execution_count": 9,
     "metadata": {},
     "output_type": "execute_result"
    }
   ],
   "source": [
    "Y,X = dmatrices('Job ~ Income + GPA', data=data, return_type='dataframe')\n",
    "X.head()"
   ]
  },
  {
   "cell_type": "code",
   "execution_count": 10,
   "metadata": {
    "ExecuteTime": {
     "end_time": "2017-01-05T17:20:53.646641",
     "start_time": "2017-01-05T17:20:53.638532"
    }
   },
   "outputs": [
    {
     "name": "stdout",
     "output_type": "stream",
     "text": [
      "                 Generalized Linear Model Regression Results                  \n",
      "==============================================================================\n",
      "Dep. Variable:                    Job   No. Observations:                  150\n",
      "Model:                            GLM   Df Residuals:                      147\n",
      "Model Family:                 Poisson   Df Model:                            2\n",
      "Link Function:                    log   Scale:                          1.0000\n",
      "Method:                          IRLS   Log-Likelihood:                -162.49\n",
      "Date:                Sun, 05 Aug 2018   Deviance:                       159.73\n",
      "Time:                        21:12:00   Pearson chi2:                     167.\n",
      "No. Iterations:                     5   Covariance Type:             nonrobust\n",
      "==============================================================================\n",
      "                 coef    std err          z      P>|z|      [0.025      0.975]\n",
      "------------------------------------------------------------------------------\n",
      "Intercept     -5.5933      0.708     -7.898      0.000      -6.981      -4.205\n",
      "Income         0.0747      0.009      8.728      0.000       0.058       0.092\n",
      "GPA            0.1123      0.124      0.909      0.363      -0.130       0.354\n",
      "==============================================================================\n"
     ]
    }
   ],
   "source": [
    "# Data \n",
    "pois_m=smf.GLM(Y[:150],X[:150], family=smf.families.Poisson(smf.families.links.log))\n",
    "# Fitting our model using Maximum likelihood\n",
    "pois_results=pois_m.fit()\n",
    "\n",
    "print (pois_results.summary())"
   ]
  },
  {
   "cell_type": "markdown",
   "metadata": {
    "collapsed": true
   },
   "source": [
    "### Goodness of Fit Measurement for GLM  ~ Pearson's Chi Squared Statistic\n",
    "\n",
    "We'd like to test the claim that the tire fails at JFK are actually a poisson distribution: \n",
    "\n",
    "Sample data:\n",
    "\n",
    "Number of Tire Failures at JFK\n",
    "Study was conducted for 100 (1 day intervals) \n",
    "\n",
    "\n",
    "\n",
    "Tires Failures | 0| 1 | 2 | 3 | > 4\n",
    "--------|----------\n",
    " |12 | 25 | 35 | 16 | 12\n",
    " \n",
    "\n",
    "Test the claim that this distribution is a poisson. \n",
    "\n",
    "Ho:  X ~ is poisson distribution (w/ lambda=2) \n",
    "H1:  X  is not a poisson distribution (w/ lambda=2) \n",
    "\n"
   ]
  },
  {
   "cell_type": "markdown",
   "metadata": {},
   "source": [
    "$ \\chi^2  =\\sum_{} (O_i-E_i)^2/E_i$\n",
    "\n",
    "$E_i=N*p$"
   ]
  },
  {
   "cell_type": "code",
   "execution_count": 11,
   "metadata": {
    "ExecuteTime": {
     "end_time": "2017-01-05T17:20:55.072521",
     "start_time": "2017-01-05T17:20:55.050862"
    },
    "scrolled": true
   },
   "outputs": [
    {
     "name": "stdout",
     "output_type": "stream",
     "text": [
      "E_0= 13.53352832366127\n",
      "E_1= 27.06705664732254\n",
      "E_2= 27.06705664732254\n",
      "E_3= 18.04470443154836\n",
      "E_gr_4= 14.287653950145284\n",
      "\n",
      "\n",
      "Chi_Sq=  3.2546289660951753\n"
     ]
    }
   ],
   "source": [
    "E_0= our_poisson(0,2)*100\n",
    "print('E_0=',E_0)\n",
    "E_1= our_poisson(1,2)*100\n",
    "print('E_1=',E_1)\n",
    "E_2= our_poisson(2,2)*100\n",
    "print('E_2=',E_2)\n",
    "E_3= our_poisson(3,2)*100\n",
    "print('E_3=', E_3)\n",
    "E_gr_4= 100- (E_0 + E_1 + E_2 + E_3)\n",
    "print('E_gr_4=',E_gr_4)\n",
    "print('\\n')\n",
    "\n",
    "Chi_Sq= (12.0-E_0)**2/E_0 + (25.0-E_1)**2/E_1+(35.0-E_2)**2/E_2+ (16.0-E_3)**2/E_3+ (12.0-E_gr_4)**2/E_gr_4\n",
    "print('Chi_Sq= ',Chi_Sq)\n"
   ]
  },
  {
   "cell_type": "markdown",
   "metadata": {},
   "source": [
    "According to our Look-up Table: Rejection Region is to the right of 9.48   \n",
    "(for df =4 and 0.05 significance level)   \n",
    "\n",
    "Therefore, we can accept our Null Hypothesis"
   ]
  }
 ],
 "metadata": {
  "anaconda-cloud": {},
  "kernelspec": {
   "display_name": "Python 3",
   "language": "python",
   "name": "python3"
  },
  "language_info": {
   "codemirror_mode": {
    "name": "ipython",
    "version": 3
   },
   "file_extension": ".py",
   "mimetype": "text/x-python",
   "name": "python",
   "nbconvert_exporter": "python",
   "pygments_lexer": "ipython3",
   "version": "3.6.2"
  }
 },
 "nbformat": 4,
 "nbformat_minor": 1
}
