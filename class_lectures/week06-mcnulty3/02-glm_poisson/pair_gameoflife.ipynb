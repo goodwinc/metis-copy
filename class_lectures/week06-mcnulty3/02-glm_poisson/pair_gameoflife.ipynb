{
 "cells": [
  {
   "cell_type": "code",
   "execution_count": 1,
   "metadata": {
    "collapsed": false
   },
   "outputs": [],
   "source": [
    "import numpy as np\n",
    "from copy import deepcopy"
   ]
  },
  {
   "cell_type": "code",
   "execution_count": 2,
   "metadata": {
    "collapsed": true
   },
   "outputs": [],
   "source": [
    "def updateBoard(board):\n",
    "    n,m = board.shape\n",
    "    b = deepcopy(board)\n",
    "    for i in range(1,n-1):\n",
    "        for j in range(1,m-1):\n",
    "            count=b[i-1][j]+b[i+1][j]+b[i][j-1]+b[i][j+1]+b[i-1][j-1]+b[i+1][j-1]+b[i-1][j+1]+b[i+1][j+1]\n",
    "            if b[i][j]:\n",
    "                if count<2 or count>3:\n",
    "                    board[i][j]=0\n",
    "            else:\n",
    "                if count==3:\n",
    "                    board[i][j]=1\n",
    "    return np.array_equal(board,b)"
   ]
  },
  {
   "cell_type": "code",
   "execution_count": 3,
   "metadata": {
    "collapsed": true
   },
   "outputs": [],
   "source": [
    "def manualAdd(b):\n",
    "    b[5][4]=b[5][5]=b[5][6]=b[4][6]=b[3][5]=1"
   ]
  },
  {
   "cell_type": "code",
   "execution_count": 4,
   "metadata": {
    "collapsed": true
   },
   "outputs": [],
   "source": [
    "def printBoard(b):\n",
    "    for i in b:\n",
    "        print ''.join(['+ ' if j else '. ' for j in i])"
   ]
  },
  {
   "cell_type": "code",
   "execution_count": 5,
   "metadata": {
    "collapsed": false
   },
   "outputs": [],
   "source": [
    "from IPython import display\n",
    "import time\n",
    "def gameoflife(n,m):\n",
    "    gof = np.zeros(shape=(n+2,m+2))\n",
    "    manualAdd(gof)\n",
    "    for i in range(100):\n",
    "        printBoard(gof)\n",
    "        if updateBoard(gof):\n",
    "            break\n",
    "        time.sleep(1)\n",
    "        display.clear_output(wait=True)"
   ]
  },
  {
   "cell_type": "code",
   "execution_count": 6,
   "metadata": {
    "collapsed": false
   },
   "outputs": [
    {
     "name": "stdout",
     "output_type": "stream",
     "text": [
      ". . . . . . . . . . . . \n",
      ". . . . . . . . . . . . \n",
      ". . . . . . . . . . . . \n",
      ". . . . . . . . . . . . \n",
      ". . . . . . . . . . . . \n",
      ". . . . . . . . . . . . \n",
      ". . . . . . . . . . . . \n",
      ". . . . . . . . . . . . \n",
      ". . . . . . . . . . . . \n",
      ". . . . . . . . . + + . \n",
      ". . . . . . . . . + + . \n",
      ". . . . . . . . . . . . \n"
     ]
    }
   ],
   "source": [
    "gameoflife(10,10)"
   ]
  },
  {
   "cell_type": "code",
   "execution_count": null,
   "metadata": {
    "collapsed": true
   },
   "outputs": [],
   "source": []
  }
 ],
 "metadata": {
  "kernelspec": {
   "display_name": "Python 2",
   "language": "python",
   "name": "python2"
  },
  "language_info": {
   "codemirror_mode": {
    "name": "ipython",
    "version": 2
   },
   "file_extension": ".py",
   "mimetype": "text/x-python",
   "name": "python",
   "nbconvert_exporter": "python",
   "pygments_lexer": "ipython2",
   "version": "2.7.13"
  }
 },
 "nbformat": 4,
 "nbformat_minor": 0
}
