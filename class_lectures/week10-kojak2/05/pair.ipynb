{
 "cells": [
  {
   "cell_type": "markdown",
   "metadata": {},
   "source": [
    "**Sorting** can be done using a couple of loops. There is 'section sort', 'bubble sort', 'insert sort'. The complexity for any of these is **O(N^2)**."
   ]
  },
  {
   "cell_type": "code",
   "execution_count": 1,
   "metadata": {
    "collapsed": false
   },
   "outputs": [],
   "source": [
    "def selectionSort(l):\n",
    "    n = len(l)\n",
    "    for i in range(n-1):\n",
    "        for j in range(i+1,n):\n",
    "            if l[i]>l[j]:\n",
    "                l[i],l[j]=l[j],l[i]"
   ]
  },
  {
   "cell_type": "code",
   "execution_count": 2,
   "metadata": {
    "collapsed": false
   },
   "outputs": [
    {
     "name": "stdout",
     "output_type": "stream",
     "text": [
      "[1, 2, 2, 3, 5]\n"
     ]
    }
   ],
   "source": [
    "l = [2,1,3,5,2]\n",
    "selectionSort(l)\n",
    "print l"
   ]
  },
  {
   "cell_type": "markdown",
   "metadata": {},
   "source": [
    "The more efficient ways to sort require recursion. Some examples are \"quick sort\", \"merge sort\" and \"heap sort\". The complexity for these would be **O(N*logN)**."
   ]
  },
  {
   "cell_type": "code",
   "execution_count": 3,
   "metadata": {
    "collapsed": true
   },
   "outputs": [],
   "source": [
    "def mergeSort(l):\n",
    "    n=len(l)\n",
    "    if n==1:\n",
    "        return l[:]\n",
    "    if n==2:\n",
    "        return [l[0],l[1]] if l[0]<l[1] else [l[1],l[0]]\n",
    "    a = mergeSort(l[:n//2+1])\n",
    "    b = mergeSort(l[n//2+1:])\n",
    "    l2 = []\n",
    "    i=0\n",
    "    j=0\n",
    "    while i<len(a) and j<len(b):\n",
    "        if a[i]<b[j]:\n",
    "            l2.append(a[i])\n",
    "            i+=1\n",
    "        else:\n",
    "            l2.append(b[j])\n",
    "            j+=1\n",
    "    l2.extend(a[i:])\n",
    "    l2.extend(b[j:])\n",
    "    return l2"
   ]
  },
  {
   "cell_type": "code",
   "execution_count": 4,
   "metadata": {
    "collapsed": false
   },
   "outputs": [
    {
     "data": {
      "text/plain": [
       "[1, 2, 3, 4, 5, 9]"
      ]
     },
     "execution_count": 4,
     "metadata": {},
     "output_type": "execute_result"
    }
   ],
   "source": [
    "mergeSort([4,3,2,1,9,5])"
   ]
  },
  {
   "cell_type": "code",
   "execution_count": 5,
   "metadata": {
    "collapsed": true
   },
   "outputs": [],
   "source": [
    "import random\n",
    "random.seed(127)\n",
    "numbers = range(1000)\n",
    "random.shuffle(numbers)"
   ]
  },
  {
   "cell_type": "code",
   "execution_count": 6,
   "metadata": {
    "collapsed": false
   },
   "outputs": [
    {
     "name": "stdout",
     "output_type": "stream",
     "text": [
      "10 loops, best of 3: 31.7 ms per loop\n"
     ]
    }
   ],
   "source": [
    "%timeit selectionSort(numbers)"
   ]
  },
  {
   "cell_type": "code",
   "execution_count": 7,
   "metadata": {
    "collapsed": false
   },
   "outputs": [
    {
     "name": "stdout",
     "output_type": "stream",
     "text": [
      "100 loops, best of 3: 2.77 ms per loop\n"
     ]
    }
   ],
   "source": [
    "%timeit mergeSort(numbers)"
   ]
  },
  {
   "cell_type": "code",
   "execution_count": 8,
   "metadata": {
    "collapsed": true
   },
   "outputs": [],
   "source": [
    "def quickSort(l):\n",
    "    n=len(l)\n",
    "    if n<=1:\n",
    "        return l[:]\n",
    "    if n==2:\n",
    "        return [l[0],l[1]] if l[0]<l[1] else [l[1],l[0]]\n",
    "    a = []\n",
    "    b = []\n",
    "    for e in l[1:]:\n",
    "        if e<=l[0]:\n",
    "            a.append(e)\n",
    "        else:\n",
    "            b.append(e)\n",
    "    return quickSort(a) + [l[0]] + quickSort(b)"
   ]
  },
  {
   "cell_type": "code",
   "execution_count": 9,
   "metadata": {
    "collapsed": false
   },
   "outputs": [
    {
     "data": {
      "text/plain": [
       "[1, 2, 3, 4, 5]"
      ]
     },
     "execution_count": 9,
     "metadata": {},
     "output_type": "execute_result"
    }
   ],
   "source": [
    "quickSort([3,5,4,2,1])"
   ]
  },
  {
   "cell_type": "markdown",
   "metadata": {},
   "source": [
    "**Part 2.** In order to find or insert or delete, we need to look up the variable. I wrote a modified binary search that would return the index of a variable if present and index where it should be inserted if not present. The complexity of this is O(logN)."
   ]
  },
  {
   "cell_type": "code",
   "execution_count": 10,
   "metadata": {
    "collapsed": false
   },
   "outputs": [],
   "source": [
    "def bsearch(l,v):\n",
    "    e1=0; e2=len(l)+1\n",
    "    if v<l[0]:\n",
    "        return 0\n",
    "    if v>l[e2-2]:\n",
    "        return e2-1\n",
    "    while True:\n",
    "        m=(e1+e2)//2\n",
    "        if v==l[m]:\n",
    "            return m\n",
    "        if (e2-e1)<=1:\n",
    "            return e2\n",
    "        if v>l[m]:\n",
    "            e1=m\n",
    "        else:\n",
    "            e2=m"
   ]
  },
  {
   "cell_type": "markdown",
   "metadata": {},
   "source": [
    "Once I have the binary search above, find is just a matter of calling it. So find can be done in O(logN)."
   ]
  },
  {
   "cell_type": "code",
   "execution_count": 11,
   "metadata": {
    "collapsed": false
   },
   "outputs": [],
   "source": [
    "def find(l,v):\n",
    "    p = bsearch(l,v)\n",
    "    if l[p]==v:\n",
    "        return p\n",
    "    else:\n",
    "        return -1"
   ]
  },
  {
   "cell_type": "markdown",
   "metadata": {},
   "source": [
    "For insert, we can do a find and then insert at that location. Unfortunately, to insert, all the elements after the insertion point has to be moved over. Which makes the insert operated O(N)."
   ]
  },
  {
   "cell_type": "code",
   "execution_count": 12,
   "metadata": {
    "collapsed": false
   },
   "outputs": [],
   "source": [
    "def insert(l,v):\n",
    "    p = bsearch(l,v)\n",
    "    l.insert(p,v)"
   ]
  },
  {
   "cell_type": "markdown",
   "metadata": {},
   "source": [
    "Just like insert, remove is O(N) because when we pop out a value, everthing after it has to be shifted forward by one."
   ]
  },
  {
   "cell_type": "code",
   "execution_count": 13,
   "metadata": {
    "collapsed": false
   },
   "outputs": [],
   "source": [
    "def remove(l,v):\n",
    "    p = bsearch(l,v)\n",
    "    if l[p]==v:\n",
    "        l.pop(p)"
   ]
  },
  {
   "cell_type": "markdown",
   "metadata": {},
   "source": [
    "If using arrays, there is no way to do insert and remove operations more efficiently that O(N). One solution is to use Binary Search Trees or a more advanced version call B-Tree. With B-Trees, find, insert and remove are all O(logN) operation. This what is SQL uses to build its indices (Keys)."
   ]
  }
 ],
 "metadata": {
  "kernelspec": {
   "display_name": "Python 2",
   "language": "python",
   "name": "python2"
  },
  "language_info": {
   "codemirror_mode": {
    "name": "ipython",
    "version": 2
   },
   "file_extension": ".py",
   "mimetype": "text/x-python",
   "name": "python",
   "nbconvert_exporter": "python",
   "pygments_lexer": "ipython2",
   "version": "2.7.13"
  }
 },
 "nbformat": 4,
 "nbformat_minor": 0
}
