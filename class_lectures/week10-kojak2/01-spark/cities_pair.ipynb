{
 "cells": [
  {
   "cell_type": "markdown",
   "metadata": {},
   "source": [
    "**Shortest Travel Time**"
   ]
  },
  {
   "cell_type": "markdown",
   "metadata": {},
   "source": [
    "Setup the distance matrix:"
   ]
  },
  {
   "cell_type": "code",
   "execution_count": 7,
   "metadata": {
    "collapsed": true
   },
   "outputs": [],
   "source": [
    "import numpy as np\n",
    "\n",
    "mat = \\\n",
    "[[0, 4, 9, 3, 1, 2],\n",
    " [4, 0, 2, 1, 4, 2],\n",
    " [9, 2, 0, 7, 2, 1],\n",
    " [3, 1, 7, 0, 6, 6],\n",
    " [1, 4, 2, 6 ,0 ,2],\n",
    " [2, 2, 1, 6, 2, 0]]\n",
    "\n",
    "mat = np.array(mat)\n",
    "n = mat.shape[0]"
   ]
  },
  {
   "cell_type": "markdown",
   "metadata": {},
   "source": [
    "Distance with at most one or two stops:"
   ]
  },
  {
   "cell_type": "code",
   "execution_count": 8,
   "metadata": {
    "collapsed": true
   },
   "outputs": [],
   "source": [
    "def dist_one_stop(i,j):\n",
    "    \n",
    "    start_to_stop = mat[i,:]\n",
    "    stop_to_end = mat[:,j]\n",
    "    \n",
    "    return np.min(start_to_stop + stop_to_end)"
   ]
  },
  {
   "cell_type": "code",
   "execution_count": 9,
   "metadata": {},
   "outputs": [
    {
     "data": {
      "text/plain": [
       "3"
      ]
     },
     "execution_count": 9,
     "metadata": {},
     "output_type": "execute_result"
    }
   ],
   "source": [
    "dist_one_stop(3,2) #go 3 -> 1 at cost 1, 1 -> 2 at cost 2"
   ]
  },
  {
   "cell_type": "code",
   "execution_count": 4,
   "metadata": {
    "collapsed": true
   },
   "outputs": [],
   "source": [
    "def dist_two_stops(i,j):\n",
    "    \n",
    "    return np.min(mat[i,:] + mat[:,:] + mat[:,j])"
   ]
  },
  {
   "cell_type": "code",
   "execution_count": 5,
   "metadata": {},
   "outputs": [
    {
     "data": {
      "text/plain": [
       "1"
      ]
     },
     "execution_count": 5,
     "metadata": {},
     "output_type": "execute_result"
    }
   ],
   "source": [
    "dist_two_stops(5,2)"
   ]
  },
  {
   "cell_type": "markdown",
   "metadata": {},
   "source": [
    "This way would not be fun to generalize! (tensors anyone?)"
   ]
  },
  {
   "cell_type": "markdown",
   "metadata": {},
   "source": [
    "**Arbitrarily many stops allowed, the better way** \n",
    "\n",
    "Here we use the classic Dijkstra's Algorithm!\n",
    "\n",
    "Here's how it works: from our starting point, we visit the closest node. We then check the total distance of the path from the starting point through the closest node to all the other nodes. \n",
    "\n",
    "If this path is shorter than going to that node directly, we now know that taking this path is the fastest way to reach that node (since we were looking at the closest node to origin this distance minimum is guaranteed). So we update our collection of node distances and treat this new shortest path as a direct path to that node.\n",
    "\n",
    "We repeat this process until we reach the destination, at which point we know there can be no shorter path to the destination by the above. So we return the distance we have stored. \n",
    "\n",
    "What is the time complexity?"
   ]
  },
  {
   "cell_type": "code",
   "execution_count": 6,
   "metadata": {
    "collapsed": true
   },
   "outputs": [],
   "source": [
    "def Dijkstra_alg(i,j):\n",
    "    \n",
    "    dists = [np.inf] * n\n",
    "    unvisited = list(range(n))\n",
    "    dists[i] = 0 #starting point\n",
    "         \n",
    "    while (len(unvisited) > 0):        \n",
    "        \n",
    "        #visit the closest node\n",
    "        stop = unvisited.pop(np.argmin([dists[k] for k in unvisited]))\n",
    "        \n",
    "        if stop == j: #arrived\n",
    "            return dists[j]\n",
    "        \n",
    "        #update path to node distances   \n",
    "        for k in range(n):\n",
    "            path_dist_to_k = dists[stop] + mat[stop,k]\n",
    "            if path_dist_to_k < dists[k]:\n",
    "                dists[k] = path_dist_to_k"
   ]
  },
  {
   "cell_type": "code",
   "execution_count": 7,
   "metadata": {},
   "outputs": [
    {
     "data": {
      "text/plain": [
       "3"
      ]
     },
     "execution_count": 7,
     "metadata": {},
     "output_type": "execute_result"
    }
   ],
   "source": [
    "Dijkstra_alg(3,2)"
   ]
  },
  {
   "cell_type": "code",
   "execution_count": 8,
   "metadata": {},
   "outputs": [
    {
     "data": {
      "text/plain": [
       "4"
      ]
     },
     "execution_count": 8,
     "metadata": {},
     "output_type": "execute_result"
    }
   ],
   "source": [
    "Dijkstra_alg(4,3) # 4 -> 0 at cost 1, 0 -> 3 at cost 3"
   ]
  },
  {
   "cell_type": "markdown",
   "metadata": {},
   "source": [
    "**Complexity is O(n^2)** where n is the number of nodes (we visit each one and check all the other nodes each time).\n",
    "\n",
    "Note that we could easily extend this algorithm to also track the path we took to get there. "
   ]
  }
 ],
 "metadata": {
  "kernelspec": {
   "display_name": "Python 3",
   "language": "python",
   "name": "python3"
  },
  "language_info": {
   "codemirror_mode": {
    "name": "ipython",
    "version": 3
   },
   "file_extension": ".py",
   "mimetype": "text/x-python",
   "name": "python",
   "nbconvert_exporter": "python",
   "pygments_lexer": "ipython3",
   "version": "3.6.2"
  }
 },
 "nbformat": 4,
 "nbformat_minor": 2
}
