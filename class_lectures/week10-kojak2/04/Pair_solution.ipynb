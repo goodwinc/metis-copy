{
 "cells": [
  {
   "cell_type": "markdown",
   "metadata": {},
   "source": [
    "**Pair Solution, By Simulation**"
   ]
  },
  {
   "cell_type": "code",
   "execution_count": 1,
   "metadata": {
    "collapsed": true
   },
   "outputs": [],
   "source": [
    "import random\n",
    "import numpy as np"
   ]
  },
  {
   "cell_type": "code",
   "execution_count": 2,
   "metadata": {
    "collapsed": true
   },
   "outputs": [],
   "source": [
    "class Statistician(object):\n",
    "    def __init__(self, name = 'Brian', left = None, right = None):\n",
    "        self.name = name\n",
    "        self.left = left\n",
    "        self.right = right"
   ]
  },
  {
   "cell_type": "code",
   "execution_count": 3,
   "metadata": {
    "collapsed": true
   },
   "outputs": [],
   "source": [
    "players = [0, 1, 2, 3, 4]\n",
    "statisticians = []\n",
    "\n",
    "for name in players:\n",
    "    statisticians.append(Statistician(name))\n",
    "    \n",
    "for statistician in statisticians:\n",
    "    statistician.left = statisticians[statistician.name - 1]\n",
    "    statistician.right = statisticians[(statistician.name + 1) % 5]   "
   ]
  },
  {
   "cell_type": "code",
   "execution_count": 4,
   "metadata": {
    "collapsed": true
   },
   "outputs": [],
   "source": [
    "def simulate_game_winner(statisticians):\n",
    "    \n",
    "    starter = statisticians[0]\n",
    "    \n",
    "    while(True):\n",
    "        result = random.choice([-1,0,1])\n",
    "        if result == -1:\n",
    "            starter = starter.left\n",
    "        elif result == 1:\n",
    "            starter = starter.right\n",
    "        else:\n",
    "            return starter.name         "
   ]
  },
  {
   "cell_type": "code",
   "execution_count": 5,
   "metadata": {},
   "outputs": [
    {
     "name": "stdout",
     "output_type": "stream",
     "text": [
      "Starter wins 0.4543 percent of the time\n"
     ]
    }
   ],
   "source": [
    "winners = []\n",
    "for _ in range(1000000):\n",
    "    winners.append(simulate_game_winner(statisticians))\n",
    "\n",
    "start_winning_pct = sum(np.array(winners) == statisticians[0].name) / np.array(winners).shape[0]\n",
    "print('Starter wins %.4f percent of the time' % start_winning_pct)"
   ]
  },
  {
   "cell_type": "markdown",
   "metadata": {},
   "source": [
    "**If you want to be fancy, you can solve this problem as a markov chain!**"
   ]
  },
  {
   "cell_type": "code",
   "execution_count": 6,
   "metadata": {
    "scrolled": true
   },
   "outputs": [],
   "source": [
    "markov_mat = np.zeros((10,10))\n",
    "\n",
    "for i in range(5):\n",
    "    \n",
    "    markov_mat[i,(i-1) % 5] = 1/3 # player to left\n",
    "    markov_mat[i,(i+1) % 5] = 1/3 # player to right\n",
    "    markov_mat[i,i+5] = 1/3 # current player wins   \n",
    "    markov_mat[i+5,i+5] = 1 # once someone wins, state stays the same\n",
    "    \n",
    "initial_state = np.zeros(10)\n",
    "initial_state[0] = 1 # starting player   "
   ]
  },
  {
   "cell_type": "code",
   "execution_count": 7,
   "metadata": {},
   "outputs": [
    {
     "data": {
      "text/plain": [
       "array([0.        , 0.33333333, 0.        , 0.        , 0.33333333,\n",
       "       0.33333333, 0.        , 0.        , 0.        , 0.        ])"
      ]
     },
     "execution_count": 7,
     "metadata": {},
     "output_type": "execute_result"
    }
   ],
   "source": [
    "np.matmul(initial_state, markov_mat) # one step probabilities"
   ]
  },
  {
   "cell_type": "markdown",
   "metadata": {},
   "source": [
    "With this setup done, we can simulate by multiplying a large power of the transition matrix by the initial state. This gives us the probability distribution of win outcomes for the different players.  "
   ]
  },
  {
   "cell_type": "code",
   "execution_count": 8,
   "metadata": {},
   "outputs": [
    {
     "data": {
      "text/plain": [
       "array([0.        , 0.        , 0.        , 0.        , 0.        ,\n",
       "       0.45454545, 0.18181818, 0.09090909, 0.09090909, 0.18181818])"
      ]
     },
     "execution_count": 8,
     "metadata": {},
     "output_type": "execute_result"
    }
   ],
   "source": [
    "np.matmul(initial_state, np.linalg.matrix_power(markov_mat, 10000000))"
   ]
  }
 ],
 "metadata": {
  "kernelspec": {
   "display_name": "Python 3",
   "language": "python",
   "name": "python3"
  },
  "language_info": {
   "codemirror_mode": {
    "name": "ipython",
    "version": 3
   },
   "file_extension": ".py",
   "mimetype": "text/x-python",
   "name": "python",
   "nbconvert_exporter": "python",
   "pygments_lexer": "ipython3",
   "version": "3.6.2"
  }
 },
 "nbformat": 4,
 "nbformat_minor": 2
}
