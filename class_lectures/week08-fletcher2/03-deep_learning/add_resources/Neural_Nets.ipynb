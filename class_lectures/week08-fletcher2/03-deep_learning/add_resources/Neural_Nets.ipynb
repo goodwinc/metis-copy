{
 "cells": [
  {
   "cell_type": "markdown",
   "metadata": {
    "slideshow": {
     "slide_type": "slide"
    }
   },
   "source": [
    "# Neural Nets for fun and profit"
   ]
  },
  {
   "cell_type": "markdown",
   "metadata": {
    "slideshow": {
     "slide_type": "slide"
    }
   },
   "source": [
    "## The biological analogy\n",
    "\n",
    "![](http://cs231n.github.io/assets/nn1/neuron.png)"
   ]
  },
  {
   "cell_type": "markdown",
   "metadata": {
    "slideshow": {
     "slide_type": "slide"
    }
   },
   "source": [
    "in biology neurons:\n",
    "1. Neuron dendrites recieve ions from other neurons\n",
    "2. Neuron accumulates electrical potential in the cell body\n",
    "3. When a certain threshold is reached, Neuron fires a signal down the Axon to other Neurons"
   ]
  },
  {
   "cell_type": "markdown",
   "metadata": {
    "slideshow": {
     "slide_type": "slide"
    }
   },
   "source": [
    "## Perceptron\n",
    "![](http://cs231n.github.io/assets/nn1/neuron_model.jpeg)"
   ]
  },
  {
   "cell_type": "markdown",
   "metadata": {
    "slideshow": {
     "slide_type": "slide"
    }
   },
   "source": [
    "## Perceptron Equation\n",
    "\n",
    "\n",
    "so our neuron equation looks like $$y = f(w_0 x_0 + w_1 x_1 + w_2 x_2)$$\n",
    "or \n",
    "$$y = f(W^TX)$$\n",
    "\n",
    "where $f(x)$ is some activation function"
   ]
  },
  {
   "cell_type": "markdown",
   "metadata": {
    "slideshow": {
     "slide_type": "slide"
    }
   },
   "source": [
    "it turns out that $$ f(x) = \\cfrac1{1+e^{-t}}$$\n",
    "\n",
    "is usually the activation function used.\n",
    "\n",
    "look familiar\n"
   ]
  },
  {
   "cell_type": "markdown",
   "metadata": {
    "slideshow": {
     "slide_type": "slide"
    }
   },
   "source": [
    "## What about\n",
    "\n",
    "## $$y =  \\cfrac1{1+e^{w_0 x_0 + w_1 x_1 + w_2 x_2}}$$"
   ]
  },
  {
   "cell_type": "markdown",
   "metadata": {
    "slideshow": {
     "slide_type": "slide"
    }
   },
   "source": [
    "## Perceptrons are just stacked Logistic regression*\n",
    "\n",
    "![](http://scikit-learn.org/stable/_images/multilayerperceptron_network.png)\n",
    "\n",
    "\\* mostly, kinda\n",
    "\n"
   ]
  },
  {
   "cell_type": "markdown",
   "metadata": {
    "slideshow": {
     "slide_type": "slide"
    }
   },
   "source": [
    "one cool trick is that we can use matrix algebra to evaluate multiple logistic regressions at once\n",
    "\n",
    "![](img/softmax.png)"
   ]
  },
  {
   "cell_type": "markdown",
   "metadata": {
    "slideshow": {
     "slide_type": "slide"
    }
   },
   "source": [
    "## Universal Function Approximators\n",
    "\n",
    "Neural Networks can approximate any function if deep enough.\n",
    "\n",
    "But it might have to get really deep."
   ]
  },
  {
   "cell_type": "markdown",
   "metadata": {
    "slideshow": {
     "slide_type": "slide"
    }
   },
   "source": [
    "Deep functions are really complex. How do we train?"
   ]
  }
 ],
 "metadata": {
  "celltoolbar": "Slideshow",
  "kernelspec": {
   "display_name": "Python 3",
   "language": "python",
   "name": "python3"
  },
  "language_info": {
   "codemirror_mode": {
    "name": "ipython",
    "version": 3
   },
   "file_extension": ".py",
   "mimetype": "text/x-python",
   "name": "python",
   "nbconvert_exporter": "python",
   "pygments_lexer": "ipython3",
   "version": "3.5.2"
  }
 },
 "nbformat": 4,
 "nbformat_minor": 2
}
