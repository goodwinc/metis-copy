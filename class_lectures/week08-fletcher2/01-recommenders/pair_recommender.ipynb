{
 "cells": [
  {
   "cell_type": "code",
   "execution_count": 6,
   "metadata": {
    "collapsed": true
   },
   "outputs": [],
   "source": [
    "from collections import defaultdict\n",
    "from collections import Counter\n",
    "import csv"
   ]
  },
  {
   "cell_type": "code",
   "execution_count": 2,
   "metadata": {
    "collapsed": true
   },
   "outputs": [],
   "source": [
    "user_movie_map = defaultdict(list)\n",
    "movie_user_map = defaultdict(list)"
   ]
  },
  {
   "cell_type": "code",
   "execution_count": 3,
   "metadata": {
    "collapsed": false
   },
   "outputs": [],
   "source": [
    "with open('user_movie_likes.csv', 'rb') as csvfile:\n",
    "    w = csv.reader(csvfile, delimiter=',')\n",
    "    for row in w:\n",
    "        user_movie_map[int(row[0])].append(int(row[1]))\n",
    "        movie_user_map[int(row[1])].append(int(row[0]))"
   ]
  },
  {
   "cell_type": "code",
   "execution_count": 4,
   "metadata": {
    "collapsed": true
   },
   "outputs": [],
   "source": [
    "def get_similar_movie(m,n=3):\n",
    "    biglist = []\n",
    "    for u in movie_user_map[m]:\n",
    "        biglist.extend(user_movie_map[u])\n",
    "    return [a[0] for a in Counter(biglist).most_common(n+1)[1:]]"
   ]
  },
  {
   "cell_type": "code",
   "execution_count": 5,
   "metadata": {
    "collapsed": true
   },
   "outputs": [],
   "source": [
    "def get_movie_recommendation(u1,n=3):\n",
    "    biglist = []\n",
    "    for m in user_movie_map[u1]:\n",
    "        for u in movie_user_map[m]:\n",
    "            biglist.extend(user_movie_map[u])\n",
    "    return [a[0] for a in Counter(biglist).most_common(n+1)]"
   ]
  },
  {
   "cell_type": "code",
   "execution_count": 6,
   "metadata": {
    "collapsed": false
   },
   "outputs": [
    {
     "data": {
      "text/plain": [
       "[311, 619, 190, 234, 803, 849, 217, 346, 421, 439]"
      ]
     },
     "execution_count": 6,
     "metadata": {},
     "output_type": "execute_result"
    }
   ],
   "source": [
    "get_similar_movie(2,10)"
   ]
  },
  {
   "cell_type": "code",
   "execution_count": 7,
   "metadata": {
    "collapsed": false
   },
   "outputs": [
    {
     "data": {
      "text/plain": [
       "[856, 83, 870, 889, 149, 486, 674, 234, 146, 311, 619]"
      ]
     },
     "execution_count": 7,
     "metadata": {},
     "output_type": "execute_result"
    }
   ],
   "source": [
    "get_movie_recommendation(2,10)"
   ]
  }
 ],
 "metadata": {
  "kernelspec": {
   "display_name": "Python 2",
   "language": "python",
   "name": "python2"
  },
  "language_info": {
   "codemirror_mode": {
    "name": "ipython",
    "version": 2
   },
   "file_extension": ".py",
   "mimetype": "text/x-python",
   "name": "python",
   "nbconvert_exporter": "python",
   "pygments_lexer": "ipython2",
   "version": "2.7.13"
  }
 },
 "nbformat": 4,
 "nbformat_minor": 0
}
