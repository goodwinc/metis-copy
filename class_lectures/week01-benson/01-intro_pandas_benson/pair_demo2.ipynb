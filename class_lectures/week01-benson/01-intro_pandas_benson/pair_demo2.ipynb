{
 "cells": [
  {
   "cell_type": "code",
   "execution_count": 1,
   "metadata": {
    "collapsed": true
   },
   "outputs": [],
   "source": [
    "c = ['Arianna','Vitoria','Goodwin','John','Emma','Iggy','Michael','Saif','Rob','Amine','Maddy','Elizabeth','Krisztian','Adam','Laila','Andree','Brendon','Dan','William','Matt','Druce','Angad']"
   ]
  },
  {
   "cell_type": "code",
   "execution_count": 2,
   "metadata": {
    "collapsed": false
   },
   "outputs": [],
   "source": [
    "n = len(c)\n",
    "a = c[:n//2]\n",
    "b = c[n//2:]\n",
    "p = []\n",
    "for i in range(60):\n",
    "    p.append(list(zip(a,b)))\n",
    "    x = a.pop()\n",
    "    y = b.pop(0)\n",
    "    a.insert(1,y)\n",
    "    b.append(x)"
   ]
  },
  {
   "cell_type": "code",
   "execution_count": 3,
   "metadata": {
    "collapsed": false
   },
   "outputs": [
    {
     "data": {
      "text/plain": [
       "[('Arianna', 'Elizabeth'),\n",
       " ('Vitoria', 'Krisztian'),\n",
       " ('Goodwin', 'Adam'),\n",
       " ('John', 'Laila'),\n",
       " ('Emma', 'Andree'),\n",
       " ('Iggy', 'Brendon'),\n",
       " ('Michael', 'Dan'),\n",
       " ('Saif', 'William'),\n",
       " ('Rob', 'Matt'),\n",
       " ('Amine', 'Druce'),\n",
       " ('Maddy', 'Angad')]"
      ]
     },
     "execution_count": 3,
     "metadata": {},
     "output_type": "execute_result"
    }
   ],
   "source": [
    "p[0]"
   ]
  },
  {
   "cell_type": "code",
   "execution_count": null,
   "metadata": {
    "collapsed": true
   },
   "outputs": [],
   "source": []
  }
 ],
 "metadata": {
  "kernelspec": {
   "display_name": "Python 2",
   "language": "python",
   "name": "python2"
  },
  "language_info": {
   "codemirror_mode": {
    "name": "ipython",
    "version": 2
   },
   "file_extension": ".py",
   "mimetype": "text/x-python",
   "name": "python",
   "nbconvert_exporter": "python",
   "pygments_lexer": "ipython2",
   "version": "2.7.13"
  }
 },
 "nbformat": 4,
 "nbformat_minor": 2
}
