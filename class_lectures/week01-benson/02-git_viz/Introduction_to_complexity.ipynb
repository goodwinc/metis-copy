{
 "cells": [
  {
   "cell_type": "markdown",
   "metadata": {},
   "source": [
    "## Intro to Complexity"
   ]
  },
  {
   "cell_type": "markdown",
   "metadata": {},
   "source": [
    "Given a list, **write a function to pair every number with everything else** (preserving order, so both (1,2) and (2,1) will be included). Let's say you have written the code below. It could be written without using indexes, etc. But let's take this function as good and accepted."
   ]
  },
  {
   "cell_type": "code",
   "execution_count": 1,
   "metadata": {
    "collapsed": false
   },
   "outputs": [
    {
     "data": {
      "text/plain": [
       "[(1, 2),\n",
       " (1, 3),\n",
       " (1, 4),\n",
       " (2, 1),\n",
       " (2, 3),\n",
       " (2, 4),\n",
       " (3, 1),\n",
       " (3, 2),\n",
       " (3, 4),\n",
       " (4, 1),\n",
       " (4, 2),\n",
       " (4, 3)]"
      ]
     },
     "execution_count": 1,
     "metadata": {},
     "output_type": "execute_result"
    }
   ],
   "source": [
    "def make_pairs(l):\n",
    "    n = len(l)\n",
    "    p = []\n",
    "    for i in range(n):\n",
    "        for j in range(n):\n",
    "            if i!=j:\n",
    "                p.append((l[i],l[j]))\n",
    "    return p\n",
    "\n",
    "make_pairs([1,2,3,4])"
   ]
  },
  {
   "cell_type": "markdown",
   "metadata": {},
   "source": [
    "### Modification\n",
    "\n",
    "Now I instead want **a function that prints only the pairs where the indexes are exactly 2 apart**. There are two ways I can do that.\n",
    "\n",
    "**1) Quickly modify the existing code:**"
   ]
  },
  {
   "cell_type": "code",
   "execution_count": 1,
   "metadata": {
    "collapsed": false
   },
   "outputs": [
    {
     "data": {
      "text/plain": [
       "[(1, 3), (2, 4), (3, 1), (4, 2)]"
      ]
     },
     "execution_count": 1,
     "metadata": {},
     "output_type": "execute_result"
    }
   ],
   "source": [
    "def make_pairs_a(l):\n",
    "    n = len(l)\n",
    "    p = []\n",
    "    for i in range(n):\n",
    "        for j in range(n):\n",
    "            if abs(i-j)==2:\n",
    "                p.append((l[i],l[j]))\n",
    "    return p\n",
    "\n",
    "make_pairs_a([1,2,3,4])"
   ]
  },
  {
   "cell_type": "markdown",
   "metadata": {},
   "source": [
    "**2) Rewrite the function to be efficient:** "
   ]
  },
  {
   "cell_type": "code",
   "execution_count": 2,
   "metadata": {
    "collapsed": false
   },
   "outputs": [
    {
     "data": {
      "text/plain": [
       "[(1, 3), (2, 4), (3, 1), (4, 2)]"
      ]
     },
     "execution_count": 2,
     "metadata": {},
     "output_type": "execute_result"
    }
   ],
   "source": [
    "def make_pairs_b(l):\n",
    "    n = len(l)\n",
    "    p = []\n",
    "    for i in range(n-2):\n",
    "            p.append((l[i],l[i+2]))\n",
    "    for i in range(2,n):\n",
    "            p.append((l[i],l[i-2]))\n",
    "    return p\n",
    "\n",
    "make_pairs_b([1,2,3,4])"
   ]
  },
  {
   "cell_type": "markdown",
   "metadata": {},
   "source": [
    "### Choices\n",
    "\n",
    "Option 2 is more efficient, but involves more coding and potentially more time spent testing and fixing. **Which option should you go with?**\n",
    "\n",
    "People often say #2 but end up doing #1. The answer is, **\"it depends\"**. It depends on the size of the input list. If it is going to be 100 numbers, both options would run in less than a second. So why not just go with #1. But if the list is going to 10 million, that's a different story.\n",
    "\n",
    "But we don't know the size of the input. If we are going to ship the code to someone. They need to know what to expect. As in, what input size can it handle and how long will that take?"
   ]
  },
  {
   "cell_type": "code",
   "execution_count": 3,
   "metadata": {
    "collapsed": false
   },
   "outputs": [],
   "source": [
    "t = make_pairs_a(range(100))"
   ]
  },
  {
   "cell_type": "code",
   "execution_count": 4,
   "metadata": {
    "collapsed": true
   },
   "outputs": [],
   "source": [
    "t = make_pairs_b(range(100))"
   ]
  },
  {
   "cell_type": "code",
   "execution_count": 5,
   "metadata": {
    "collapsed": true
   },
   "outputs": [],
   "source": [
    "t = make_pairs_a(range(10000))"
   ]
  },
  {
   "cell_type": "code",
   "execution_count": 6,
   "metadata": {
    "collapsed": true
   },
   "outputs": [],
   "source": [
    "t = make_pairs_b(range(10000))"
   ]
  },
  {
   "cell_type": "markdown",
   "metadata": {},
   "source": [
    "### Complexity"
   ]
  },
  {
   "cell_type": "markdown",
   "metadata": {},
   "source": [
    "We want to define a formal term called complexity or order. **Given an input size of N, how long will the function take to run.** And that clearly is a function of N.\n",
    "\n",
    "For option #1: Say, doing the if condition and appending to the list takes some constant time *c*. So computation time would be **cN^2**.\n",
    "\n",
    "For option #2: Say, the append to list takes a constant time of *d*. So the entire computation time would be **dN + dN = 2dN**. Of if we want to get even precise, since we are looping only till N-2, it would be 2d(N-2).\n",
    "\n",
    "But when we are calculating complexity, we are not concerned with constants and lower order terms. So we **drop everything but the highest term**. The reason behind this is that, as N gets large, the smaller terms will be neglible to the larger term.\n",
    "\n",
    "If we have something like: 3cN^2 + 4N + c, we will drop everything but the highest order term, so just 3cN^2 and then we'll drop the constants. We'll be left with N^2. And this will be the complexity of that code. And we'll write it this way, O(N)=N^2. It's called the **Big-O notation**.\n",
    "\n",
    "For option #1: **O(N)=N^2**.\n",
    "\n",
    "For option #2: **O(N)=N**.\n",
    "\n",
    "One can think of defining a constant (cc=0) at the beginning of the code. And when doing every operation increment it by one (cc+=1). At the end, what would the value of cc be as a function of N? That is the complexity of that code.\n",
    "\n",
    "Often, it's possible to **count the number of nested 'for' loops** to get a sense of the complexity. But at other times, it is more complex."
   ]
  },
  {
   "cell_type": "code",
   "execution_count": null,
   "metadata": {
    "collapsed": true
   },
   "outputs": [],
   "source": []
  }
 ],
 "metadata": {
  "kernelspec": {
   "display_name": "Python 2",
   "language": "python",
   "name": "python2"
  },
  "language_info": {
   "codemirror_mode": {
    "name": "ipython",
    "version": 2
   },
   "file_extension": ".py",
   "mimetype": "text/x-python",
   "name": "python",
   "nbconvert_exporter": "python",
   "pygments_lexer": "ipython2",
   "version": "2.7.13"
  }
 },
 "nbformat": 4,
 "nbformat_minor": 0
}
