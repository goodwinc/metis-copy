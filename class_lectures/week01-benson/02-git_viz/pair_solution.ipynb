{
 "cells": [
  {
   "cell_type": "markdown",
   "metadata": {},
   "source": [
    "### Problem #1"
   ]
  },
  {
   "cell_type": "code",
   "execution_count": 5,
   "metadata": {
    "collapsed": false
   },
   "outputs": [
    {
     "data": {
      "text/plain": [
       "'gnihtemos yas'"
      ]
     },
     "execution_count": 5,
     "metadata": {},
     "output_type": "execute_result"
    }
   ],
   "source": [
    "def reverseString(s):\n",
    "    return s[::-1]\n",
    "\n",
    "reverseString('say something')"
   ]
  },
  {
   "cell_type": "markdown",
   "metadata": {},
   "source": [
    "This is a nifty way of doing the reverse. The ::-1 is nothing but a range. If you said 'abcdef'[2:5], you would get 'bcd'. So :: means the entire string. And -1 gives it in reverse order.\n",
    "\n",
    "If you had to use a loop, the we can do it this way. A good idea is to use 'for' (and not 'while') when you know the range you are iterating over. Also, it's good to loop over content than index when possible (as we will do here):"
   ]
  },
  {
   "cell_type": "code",
   "execution_count": 7,
   "metadata": {
    "collapsed": false
   },
   "outputs": [
    {
     "data": {
      "text/plain": [
       "'gnihtemos yas'"
      ]
     },
     "execution_count": 7,
     "metadata": {},
     "output_type": "execute_result"
    }
   ],
   "source": [
    "def reverseString(s):\n",
    "    r = ''\n",
    "    for c in s:\n",
    "        r = c + r\n",
    "    return r\n",
    "\n",
    "reverseString('say something')"
   ]
  },
  {
   "cell_type": "markdown",
   "metadata": {},
   "source": [
    "---"
   ]
  },
  {
   "cell_type": "markdown",
   "metadata": {},
   "source": [
    "### Problem #2\n",
    "\n",
    "We can loop through the letters in the word and remove it from the list. If we get to the end of the word, then we can spell. And we if can't find a letter in the list, then it's not possible.\n",
    "\n",
    "We loop though every letter and for each one, we search through the list. Each operation will take N steps. So the complexity of the function is O(N^2)."
   ]
  },
  {
   "cell_type": "code",
   "execution_count": null,
   "metadata": {
    "collapsed": true
   },
   "outputs": [],
   "source": [
    "def CanYouSpell(mylist,word):\n",
    "    for char in word:\n",
    "        if char in mylist:\n",
    "            mylist.remove(char)\n",
    "        else:\n",
    "            return False\n",
    "    return True"
   ]
  },
  {
   "cell_type": "markdown",
   "metadata": {},
   "source": [
    "A more efficient solution is to build a dictionary. A count for each alphabet. Then we loop through the word and for each letter, we subtract its count in the dictionary. If any of the counts go below zero, then we can't spell.\n",
    "\n",
    "Storing and retreving from a dictionary is constant time. So building a dictionary from the list takes N steps and looping through the word takes another N steps for a total of 2xN. So the complexity of the code is O(N). While we gain in time, the program uses more memory (and if the list gets to be large fraction of the available RAM, then the dictionary operations stop being constant time)."
   ]
  },
  {
   "cell_type": "code",
   "execution_count": null,
   "metadata": {
    "collapsed": false
   },
   "outputs": [],
   "source": [
    "# using dictionaries\n",
    "from collections import defaultdict\n",
    "def CanYouSpell(mylist,word):\n",
    "    mydict = defaultdict(int)\n",
    "    for char in mylist:\n",
    "        mydict[char]+=1\n",
    "    for char in word:\n",
    "        mydict[char]-=1\n",
    "        if mydict[char]<0:\n",
    "            return False\n",
    "    return True"
   ]
  },
  {
   "cell_type": "markdown",
   "metadata": {},
   "source": [
    "Dictionaries are great in that, they can have any keys. ('this','that',75) can be a key. But in this case, our keys are well defined alphabets from a to z. And they have clear ascii mapping to integers ranging from 97 to 122. So we can just use an array to function like a dictionary."
   ]
  },
  {
   "cell_type": "code",
   "execution_count": null,
   "metadata": {
    "collapsed": true
   },
   "outputs": [],
   "source": [
    "# simulating dictionaries using array\n",
    "# ord(char) will give the ascii value. 'a'=97, 'b'=98, etc.\n",
    "# This assumes only lower case letter.. but can easily be modified\n",
    "def CanYouSpell(mylist,word):\n",
    "    ar = [0]*26\n",
    "    for char in mylist:\n",
    "        ar[ord(char)-97]+=1\n",
    "    for char in word:\n",
    "        ar[ord(char)-97]-=1\n",
    "        if ar[ord(char)-97]<0:\n",
    "            return False\n",
    "    return True\n"
   ]
  },
  {
   "cell_type": "code",
   "execution_count": null,
   "metadata": {
    "collapsed": false
   },
   "outputs": [],
   "source": [
    "CanYouSpell(['y','n','a','Z','l','n'],\"lynn\")"
   ]
  }
 ],
 "metadata": {
  "kernelspec": {
   "display_name": "Python 2",
   "language": "python",
   "name": "python2"
  },
  "language_info": {
   "codemirror_mode": {
    "name": "ipython",
    "version": 2
   },
   "file_extension": ".py",
   "mimetype": "text/x-python",
   "name": "python",
   "nbconvert_exporter": "python",
   "pygments_lexer": "ipython2",
   "version": "2.7.13"
  }
 },
 "nbformat": 4,
 "nbformat_minor": 0
}
