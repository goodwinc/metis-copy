{
 "cells": [
  {
   "cell_type": "markdown",
   "metadata": {},
   "source": [
    "A prime number is not divisible by any number but itself. We can write a function to check if a number is prime checking to see if it is divisible by any number.\n",
    "\n",
    "Then we can loop from the given N downwards, see if any of the numbers is both a factor of N and a prime number.\n",
    "\n",
    "We go through N numbers and prime check on each would be another N steps. So the complexity of the code is **O(N^2)**. Which isn't that good. And it wouldn't work on the big test case we have."
   ]
  },
  {
   "cell_type": "code",
   "execution_count": 13,
   "metadata": {
    "collapsed": true
   },
   "outputs": [],
   "source": [
    "def isPrime(n):\n",
    "    for i in range(2,n):\n",
    "        if n%i==0:\n",
    "            return False\n",
    "    return True\n",
    "\n",
    "def largestPrimeFactor(n):\n",
    "    for i in range(n,1,-1):\n",
    "        if n%i==0:\n",
    "            if isPrime(i):\n",
    "                return i"
   ]
  },
  {
   "cell_type": "markdown",
   "metadata": {},
   "source": [
    "When we factor a number, we get two pieces. For example IxJ=N. Of I and J, atleast one of them is less than sqrt(N). Since sqrt(N) x sqrt(N) = N. We can use this fact and just go from 2 to sqrt(N) in our main function. Each time, we have two factors I and J, and we'll check to see if either of them are prime.\n",
    "\n",
    "We can also use the same logic in our isPrime function and just have the loop go from 2 to sqrt(N).\n",
    "\n",
    "Then the complexity of the code become sqrt(N) x sqrt(N) so it's **O(N)**. Which is good. But can we do better?"
   ]
  },
  {
   "cell_type": "code",
   "execution_count": 3,
   "metadata": {
    "collapsed": false
   },
   "outputs": [],
   "source": [
    "def isPrime(n):\n",
    "    for i in range(2,int(n**0.5)+1):\n",
    "        if n%i==0:\n",
    "            return False\n",
    "    return True\n",
    "\n",
    "def largestPrimeFactor(n):\n",
    "    candidate=n\n",
    "    for i in range(2,int(n**0.5)+1):\n",
    "        if n%i==0:\n",
    "            if isPrime(n//i):\n",
    "                return n//i\n",
    "            elif isPrime(i):\n",
    "                candidate=i\n",
    "    return candidate"
   ]
  },
  {
   "cell_type": "code",
   "execution_count": 4,
   "metadata": {
    "collapsed": false
   },
   "outputs": [
    {
     "data": {
      "text/plain": [
       "6857"
      ]
     },
     "execution_count": 4,
     "metadata": {},
     "output_type": "execute_result"
    }
   ],
   "source": [
    "largestPrimeFactor(600851475143)"
   ]
  },
  {
   "cell_type": "markdown",
   "metadata": {},
   "source": [
    "Any number can be broken down to a product of it's prime factors. For example, 100 = 2x2x5x5. So let's start with 2 and divide the number as long as it's divisible by 2. Then we move onto 3 and 4. We keep doing this until the number is not divisible anymore and just print it. In this method, there is no reason to check for primes. If a number is divisible by 4, say, we would have already divided it by 2 twice. And the final number we are left with would be the largest prime factor.\n",
    "\n",
    "We just have a single loop going to sqrt(N). So the complexity of this code is **O(sqrtN)**."
   ]
  },
  {
   "cell_type": "code",
   "execution_count": 5,
   "metadata": {
    "collapsed": true
   },
   "outputs": [],
   "source": [
    "def largestPrimeFactor(n):\n",
    "    i=2\n",
    "    while i<=n**0.5:\n",
    "        if n%i==0:\n",
    "            n = n//i\n",
    "        else:\n",
    "            i+=1\n",
    "    return n"
   ]
  },
  {
   "cell_type": "code",
   "execution_count": 6,
   "metadata": {
    "collapsed": false
   },
   "outputs": [
    {
     "data": {
      "text/plain": [
       "5"
      ]
     },
     "execution_count": 6,
     "metadata": {},
     "output_type": "execute_result"
    }
   ],
   "source": [
    "largestPrimeFactor(10)"
   ]
  },
  {
   "cell_type": "code",
   "execution_count": 7,
   "metadata": {
    "collapsed": false
   },
   "outputs": [
    {
     "data": {
      "text/plain": [
       "6857"
      ]
     },
     "execution_count": 7,
     "metadata": {},
     "output_type": "execute_result"
    }
   ],
   "source": [
    "largestPrimeFactor(600851475143)"
   ]
  },
  {
   "cell_type": "markdown",
   "metadata": {},
   "source": [
    "Below are some graphs to show how \"N vs N^2\" look, followed by how \"N vs sqrtN\" look. Followed by how \"sqrtN vs logN\" look.\n",
    "\n",
    "From a speed point of view, the small to large would be:\n",
    "- logN\n",
    "- sqrtN\n",
    "- N\n",
    "- N-logN\n",
    "- etc"
   ]
  },
  {
   "cell_type": "code",
   "execution_count": 2,
   "metadata": {
    "collapsed": false
   },
   "outputs": [
    {
     "data": {
      "image/png": "[encoded data removed]",
      "text/plain": [
       "<matplotlib.figure.Figure at 0x109ad6710>"
      ]
     },
     "metadata": {},
     "output_type": "display_data"
    }
   ],
   "source": [
    "import matplotlib.pyplot as plt\n",
    "% matplotlib inline\n",
    "x = range(100)\n",
    "plt.plot(x,x,x,[i**2 for i in x])\n",
    "plt.show()"
   ]
  },
  {
   "cell_type": "code",
   "execution_count": 4,
   "metadata": {
    "collapsed": false
   },
   "outputs": [
    {
     "data": {
      "image/png": "[encoded data removed]",
      "text/plain": [
       "<matplotlib.figure.Figure at 0x102a13b10>"
      ]
     },
     "metadata": {},
     "output_type": "display_data"
    }
   ],
   "source": [
    "import matplotlib.pyplot as plt\n",
    "% matplotlib inline\n",
    "x = range(100)\n",
    "plt.plot(x,x,x,[i**0.5 for i in x])\n",
    "plt.show()"
   ]
  },
  {
   "cell_type": "code",
   "execution_count": 7,
   "metadata": {
    "collapsed": false
   },
   "outputs": [
    {
     "data": {
      "image/png": "[encoded data removed]",
      "text/plain": [
       "<matplotlib.figure.Figure at 0x102a1f890>"
      ]
     },
     "metadata": {},
     "output_type": "display_data"
    }
   ],
   "source": [
    "import math\n",
    "import matplotlib.pyplot as plt\n",
    "% matplotlib inline\n",
    "x = range(1,1000)\n",
    "plt.plot(x,[math.log(i,2) for i in x],x,[i**0.5 for i in x])\n",
    "plt.show()"
   ]
  }
 ],
 "metadata": {
  "kernelspec": {
   "display_name": "Python 2",
   "language": "python",
   "name": "python2"
  },
  "language_info": {
   "codemirror_mode": {
    "name": "ipython",
    "version": 2
   },
   "file_extension": ".py",
   "mimetype": "text/x-python",
   "name": "python",
   "nbconvert_exporter": "python",
   "pygments_lexer": "ipython2",
   "version": "2.7.13"
  }
 },
 "nbformat": 4,
 "nbformat_minor": 0
}
