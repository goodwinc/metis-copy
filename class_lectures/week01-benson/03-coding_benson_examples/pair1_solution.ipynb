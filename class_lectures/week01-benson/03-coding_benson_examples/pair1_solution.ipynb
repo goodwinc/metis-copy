{
 "cells": [
  {
   "cell_type": "markdown",
   "metadata": {},
   "source": [
    "#### Solution to Pair Problem #1\n",
    "\n",
    "This program stores the range of possible numbers. It guesses the middle of the range. If the guess was higher, we can throw away all the numbers above our guess, reducing our range by half.\n",
    "- We start with 0-100\n",
    "- We guess the half, which is 50\n",
    "- 50 is higher than the input number(13), so our range now becomes 0-50\n",
    "- And we guess 25\n",
    "- We keep going till we reach the input number.\n",
    "\n",
    "The complexity of the code in O(lnN) -- Order log N.\n",
    "\n",
    "You can think of it this way. Since each time we divide the list by half, given X tries, we can guess 2^X numbers (upto 2 with 2 tries, 4 with 3 tries, 8 with 4 tries, 16 with 5 tries, etc).\n",
    "\n",
    "2^X = N implies X = lnN\n",
    "\n",
    "Given X tries we can guess 2^X numbers. And given N we need lnN tries."
   ]
  },
  {
   "cell_type": "code",
   "execution_count": null,
   "metadata": {
    "collapsed": true
   },
   "outputs": [],
   "source": [
    "def guess(num):\n",
    "    low = 0\n",
    "    high = 100\n",
    "    tries = 0\n",
    "    while True:\n",
    "        myGuess = (low+high)/2\n",
    "        tries += 1\n",
    "        if myGuess==num:\n",
    "            return tries        \n",
    "        elif myGuess>num:\n",
    "            high = myGuess - 1\n",
    "        else:\n",
    "            low = myGuess + 1            "
   ]
  },
  {
   "cell_type": "markdown",
   "metadata": {},
   "source": [
    "If you run the for-loop below, you'll see that we predict all number between 0 to 100 using 8 tries or less. 2^8=128. So it makes sense that we can do this in 8 tries."
   ]
  },
  {
   "cell_type": "code",
   "execution_count": null,
   "metadata": {
    "collapsed": false
   },
   "outputs": [],
   "source": [
    "for i in range(101):\n",
    "    print i, guess(i)"
   ]
  }
 ],
 "metadata": {
  "kernelspec": {
   "display_name": "Python 2",
   "language": "python",
   "name": "python2"
  },
  "language_info": {
   "codemirror_mode": {
    "name": "ipython",
    "version": 2
   },
   "file_extension": ".py",
   "mimetype": "text/x-python",
   "name": "python",
   "nbconvert_exporter": "python",
   "pygments_lexer": "ipython2",
   "version": "2.7.11"
  }
 },
 "nbformat": 4,
 "nbformat_minor": 0
}
