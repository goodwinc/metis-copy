{
 "cells": [
  {
   "cell_type": "markdown",
   "metadata": {},
   "source": [
    "# Classification Evaluation Metrics Practice\n",
    "\n",
    "1. Load the Wisconsin breast cancer data from sklearn (binary classification problem), do a train/test split, and fit a logistic regression and 10 nearest neighbors model. Instead of using any built-in sklearn scoring methods, write your own accuracy, precision, recall, and F1 evaluation functions that take arrays of actual and predicted target labels as arguments. Score your models on the test set.\n",
    "    * e.g.  `def accuracy(actuals, preds)`"
   ]
  },
  {
   "cell_type": "code",
   "execution_count": 6,
   "metadata": {},
   "outputs": [
    {
     "data": {
      "text/html": [
       "<div>\n",
       "<style scoped>\n",
       "    .dataframe tbody tr th:only-of-type {\n",
       "        vertical-align: middle;\n",
       "    }\n",
       "\n",
       "    .dataframe tbody tr th {\n",
       "        vertical-align: top;\n",
       "    }\n",
       "\n",
       "    .dataframe thead th {\n",
       "        text-align: right;\n",
       "    }\n",
       "</style>\n",
       "<table border=\"1\" class=\"dataframe\">\n",
       "  <thead>\n",
       "    <tr style=\"text-align: right;\">\n",
       "      <th></th>\n",
       "      <th>mean radius</th>\n",
       "      <th>mean texture</th>\n",
       "      <th>mean perimeter</th>\n",
       "      <th>mean area</th>\n",
       "      <th>mean smoothness</th>\n",
       "      <th>mean compactness</th>\n",
       "      <th>mean concavity</th>\n",
       "      <th>mean concave points</th>\n",
       "      <th>mean symmetry</th>\n",
       "      <th>mean fractal dimension</th>\n",
       "      <th>...</th>\n",
       "      <th>worst radius</th>\n",
       "      <th>worst texture</th>\n",
       "      <th>worst perimeter</th>\n",
       "      <th>worst area</th>\n",
       "      <th>worst smoothness</th>\n",
       "      <th>worst compactness</th>\n",
       "      <th>worst concavity</th>\n",
       "      <th>worst concave points</th>\n",
       "      <th>worst symmetry</th>\n",
       "      <th>worst fractal dimension</th>\n",
       "    </tr>\n",
       "  </thead>\n",
       "  <tbody>\n",
       "    <tr>\n",
       "      <th>408</th>\n",
       "      <td>17.99</td>\n",
       "      <td>20.66</td>\n",
       "      <td>117.80</td>\n",
       "      <td>991.7</td>\n",
       "      <td>0.10360</td>\n",
       "      <td>0.13040</td>\n",
       "      <td>0.120100</td>\n",
       "      <td>0.088240</td>\n",
       "      <td>0.1992</td>\n",
       "      <td>0.06069</td>\n",
       "      <td>...</td>\n",
       "      <td>21.080</td>\n",
       "      <td>25.41</td>\n",
       "      <td>138.1</td>\n",
       "      <td>1349.0</td>\n",
       "      <td>0.14820</td>\n",
       "      <td>0.37350</td>\n",
       "      <td>0.33010</td>\n",
       "      <td>0.19740</td>\n",
       "      <td>0.3060</td>\n",
       "      <td>0.08503</td>\n",
       "    </tr>\n",
       "    <tr>\n",
       "      <th>4</th>\n",
       "      <td>20.29</td>\n",
       "      <td>14.34</td>\n",
       "      <td>135.10</td>\n",
       "      <td>1297.0</td>\n",
       "      <td>0.10030</td>\n",
       "      <td>0.13280</td>\n",
       "      <td>0.198000</td>\n",
       "      <td>0.104300</td>\n",
       "      <td>0.1809</td>\n",
       "      <td>0.05883</td>\n",
       "      <td>...</td>\n",
       "      <td>22.540</td>\n",
       "      <td>16.67</td>\n",
       "      <td>152.2</td>\n",
       "      <td>1575.0</td>\n",
       "      <td>0.13740</td>\n",
       "      <td>0.20500</td>\n",
       "      <td>0.40000</td>\n",
       "      <td>0.16250</td>\n",
       "      <td>0.2364</td>\n",
       "      <td>0.07678</td>\n",
       "    </tr>\n",
       "    <tr>\n",
       "      <th>307</th>\n",
       "      <td>9.00</td>\n",
       "      <td>14.40</td>\n",
       "      <td>56.36</td>\n",
       "      <td>246.3</td>\n",
       "      <td>0.07005</td>\n",
       "      <td>0.03116</td>\n",
       "      <td>0.003681</td>\n",
       "      <td>0.003472</td>\n",
       "      <td>0.1788</td>\n",
       "      <td>0.06833</td>\n",
       "      <td>...</td>\n",
       "      <td>9.699</td>\n",
       "      <td>20.07</td>\n",
       "      <td>60.9</td>\n",
       "      <td>285.5</td>\n",
       "      <td>0.09861</td>\n",
       "      <td>0.05232</td>\n",
       "      <td>0.01472</td>\n",
       "      <td>0.01389</td>\n",
       "      <td>0.2991</td>\n",
       "      <td>0.07804</td>\n",
       "    </tr>\n",
       "  </tbody>\n",
       "</table>\n",
       "<p>3 rows × 30 columns</p>\n",
       "</div>"
      ],
      "text/plain": [
       "     mean radius  mean texture  mean perimeter  mean area  mean smoothness  \\\n",
       "408        17.99         20.66          117.80      991.7          0.10360   \n",
       "4          20.29         14.34          135.10     1297.0          0.10030   \n",
       "307         9.00         14.40           56.36      246.3          0.07005   \n",
       "\n",
       "     mean compactness  mean concavity  mean concave points  mean symmetry  \\\n",
       "408           0.13040        0.120100             0.088240         0.1992   \n",
       "4             0.13280        0.198000             0.104300         0.1809   \n",
       "307           0.03116        0.003681             0.003472         0.1788   \n",
       "\n",
       "     mean fractal dimension           ...             worst radius  \\\n",
       "408                 0.06069           ...                   21.080   \n",
       "4                   0.05883           ...                   22.540   \n",
       "307                 0.06833           ...                    9.699   \n",
       "\n",
       "     worst texture  worst perimeter  worst area  worst smoothness  \\\n",
       "408          25.41            138.1      1349.0           0.14820   \n",
       "4            16.67            152.2      1575.0           0.13740   \n",
       "307          20.07             60.9       285.5           0.09861   \n",
       "\n",
       "     worst compactness  worst concavity  worst concave points  worst symmetry  \\\n",
       "408            0.37350          0.33010               0.19740          0.3060   \n",
       "4              0.20500          0.40000               0.16250          0.2364   \n",
       "307            0.05232          0.01472               0.01389          0.2991   \n",
       "\n",
       "     worst fractal dimension  \n",
       "408                  0.08503  \n",
       "4                    0.07678  \n",
       "307                  0.07804  \n",
       "\n",
       "[3 rows x 30 columns]"
      ]
     },
     "execution_count": 6,
     "metadata": {},
     "output_type": "execute_result"
    }
   ],
   "source": [
    "import pandas as pd\n",
    "import numpy as np\n",
    "\n",
    "from sklearn.datasets import load_breast_cancer\n",
    "from sklearn.model_selection import train_test_split\n",
    "\n",
    "bc_dataset = load_breast_cancer()\n",
    "X = pd.DataFrame(bc_dataset.data)\n",
    "X.columns = bc_dataset.feature_names\n",
    "y = bc_dataset.target\n",
    "\n",
    "#Split data into 3: 60% train, 20% validation, 20% test\n",
    "X_train, X_test, y_train, y_test = train_test_split(X, y, test_size=0.2, random_state=1)\n",
    "\n",
    "X_train.head(3)"
   ]
  },
  {
   "cell_type": "markdown",
   "metadata": {},
   "source": [
    "Evaluation metrics:"
   ]
  },
  {
   "cell_type": "code",
   "execution_count": 2,
   "metadata": {
    "collapsed": true
   },
   "outputs": [],
   "source": [
    "def accuracy(actuals, preds):\n",
    "    return np.mean(actuals == preds)\n",
    "\n",
    "def precision(actuals, preds):\n",
    "    tp = np.sum((actuals == 1) & (preds == 1))\n",
    "    fp = np.sum((actuals == 0) & (preds == 1))\n",
    "    return tp / (tp + fp)\n",
    "\n",
    "def recall(actuals, preds):\n",
    "    tp = np.sum((actuals == 1) & (preds == 1))\n",
    "    fn = np.sum((actuals == 1) & (preds == 0))\n",
    "    return tp / (tp + fn)\n",
    "\n",
    "def F1(actuals, preds):\n",
    "    p, r = precision(actuals, preds), recall(actuals, preds)\n",
    "    return 2*p*r / (p + r)"
   ]
  },
  {
   "cell_type": "markdown",
   "metadata": {},
   "source": [
    "Fitting and evaluating the models:"
   ]
  },
  {
   "cell_type": "code",
   "execution_count": 7,
   "metadata": {},
   "outputs": [
    {
     "name": "stdout",
     "output_type": "stream",
     "text": [
      "Logistic regression validation metrics: \n",
      " Accuracy: 0.9649 \n",
      " Precision: 0.9595 \n",
      " Recall: 0.9861 \n",
      " F1: 0.9726\n",
      "\n",
      "\n",
      "10 nearest neighbors validation metrics: \n",
      " Accuracy: 0.9298 \n",
      " Precision: 0.9103 \n",
      " Recall: 0.9861 \n",
      " F1: 0.9467\n"
     ]
    },
    {
     "name": "stderr",
     "output_type": "stream",
     "text": [
      "/anaconda3/lib/python3.6/site-packages/sklearn/linear_model/logistic.py:432: FutureWarning: Default solver will be changed to 'lbfgs' in 0.22. Specify a solver to silence this warning.\n",
      "  FutureWarning)\n"
     ]
    }
   ],
   "source": [
    "from sklearn.linear_model import LogisticRegression\n",
    "from sklearn.neighbors import KNeighborsClassifier\n",
    "\n",
    "lr = LogisticRegression(C = 1000000) #large C means no regularization, confusing! (inverse regularization strength)\n",
    "knn = KNeighborsClassifier(n_neighbors = 10)\n",
    "\n",
    "lr.fit(X_train, y_train)\n",
    "knn.fit(X_train, y_train)\n",
    "\n",
    "print('Logistic regression validation metrics: \\n Accuracy: %.4f \\n Precision: %.4f \\n Recall: %.4f \\n F1: %.4f' %\n",
    "        (accuracy(y_test, lr.predict(X_test)), \n",
    "         precision(y_test, lr.predict(X_test)), \n",
    "         recall(y_test, lr.predict(X_test)),\n",
    "         F1(y_test, lr.predict(X_test))\n",
    "        )\n",
    "     )\n",
    "\n",
    "print('\\n')\n",
    "\n",
    "print('10 nearest neighbors validation metrics: \\n Accuracy: %.4f \\n Precision: %.4f \\n Recall: %.4f \\n F1: %.4f' %\n",
    "        (accuracy(y_test, knn.predict(X_test)), \n",
    "         precision(y_test, knn.predict(X_test)), \n",
    "         recall(y_test, knn.predict(X_test)),\n",
    "         F1(y_test, knn.predict(X_test))\n",
    "        )\n",
    "     )"
   ]
  },
  {
   "cell_type": "markdown",
   "metadata": {},
   "source": [
    "2: Write your own function for generating an ROC curve plot from model predictions without using sklearn's assistance. Remember that ROC plots true positive rate (recall) vs. false positive rate for a given probability decision threshold. So you should loop over a range of probability cutoffs from 1 to 0, convert a model's predicted probabilities (`model.predict_proba()[:,1]`) to target labels using each cutoff, and plot the results as a curve.   "
   ]
  },
  {
   "cell_type": "code",
   "execution_count": 4,
   "metadata": {},
   "outputs": [
    {
     "data": {
      "text/plain": [
       "<matplotlib.legend.Legend at 0x1a20e91ac8>"
      ]
     },
     "execution_count": 4,
     "metadata": {},
     "output_type": "execute_result"
    },
    {
     "data": {
      "image/png": "[encoded data removed]",
      "text/plain": [
       "<matplotlib.figure.Figure at 0x1a1fe3e0b8>"
      ]
     },
     "metadata": {},
     "output_type": "display_data"
    }
   ],
   "source": [
    "import matplotlib.pyplot as plt\n",
    "%matplotlib inline\n",
    "import seaborn as sns\n",
    "sns.set()\n",
    "\n",
    "def fpr(actuals, preds):\n",
    "    fp = np.sum((actuals == 0) & (preds == 1))\n",
    "    tn = np.sum((actuals == 0) & (preds == 0))\n",
    "    return fp / (fp + tn)    \n",
    "\n",
    "def plot_ROC_curve(model, X, y):\n",
    "    \n",
    "    probs = model.predict_proba(X)[:,1]\n",
    "    fprs, tprs = [],[]\n",
    "    \n",
    "    for p in np.linspace(1,0,100000):\n",
    "        preds = probs >= p\n",
    "        fprs.append(fpr(y, preds))\n",
    "        tprs.append(recall(y, preds))\n",
    "       \n",
    "    plt.plot(fprs, tprs)\n",
    "    plt.title('ROC Curve')\n",
    "    plt.xlabel('False Positive Rate')\n",
    "    plt.ylabel('True Positive Rate')\n",
    "            \n",
    "plot_ROC_curve(lr, X_test, y_test) \n",
    "plot_ROC_curve(knn, X_test, y_test) \n",
    "x = np.linspace(0, 1, 100000)\n",
    "plt.plot(x, x, linestyle='--')\n",
    "plt.legend(['Logistic Regression','10-NN'])"
   ]
  },
  {
   "cell_type": "markdown",
   "metadata": {},
   "source": [
    "Finally, here's how we could do the same thing with sklearn. Note that it's Both more granular and more efficient than ours :)"
   ]
  },
  {
   "cell_type": "code",
   "execution_count": 5,
   "metadata": {},
   "outputs": [
    {
     "data": {
      "text/plain": [
       "<matplotlib.legend.Legend at 0x1a2090fa90>"
      ]
     },
     "execution_count": 5,
     "metadata": {},
     "output_type": "execute_result"
    },
    {
     "data": {
      "image/png": "[encoded data removed]",
      "text/plain": [
       "<matplotlib.figure.Figure at 0x1a1f9baba8>"
      ]
     },
     "metadata": {},
     "output_type": "display_data"
    }
   ],
   "source": [
    "from sklearn.metrics import roc_curve\n",
    "\n",
    "fpr, tpr, _ = roc_curve(y_test, lr.predict_proba(X_test)[:,1])\n",
    "plt.plot(fpr, tpr)\n",
    "\n",
    "fpr, tpr, _ = roc_curve(y_test, knn.predict_proba(X_test)[:,1])\n",
    "plt.plot(fpr, tpr)\n",
    "\n",
    "x = np.linspace(0,1, 100000)\n",
    "plt.plot(x, x, linestyle='--')\n",
    "\n",
    "plt.title('ROC Curve')\n",
    "plt.xlabel('False Positive Rate')\n",
    "plt.ylabel('True Positive Rate')\n",
    "plt.legend(['Logistic Regression','10-NN'])"
   ]
  },
  {
   "cell_type": "code",
   "execution_count": null,
   "metadata": {
    "collapsed": true
   },
   "outputs": [],
   "source": []
  }
 ],
 "metadata": {
  "kernelspec": {
   "display_name": "Python 3",
   "language": "python",
   "name": "python3"
  },
  "language_info": {
   "codemirror_mode": {
    "name": "ipython",
    "version": 3
   },
   "file_extension": ".py",
   "mimetype": "text/x-python",
   "name": "python",
   "nbconvert_exporter": "python",
   "pygments_lexer": "ipython3",
   "version": "3.6.2"
  }
 },
 "nbformat": 4,
 "nbformat_minor": 2
}
