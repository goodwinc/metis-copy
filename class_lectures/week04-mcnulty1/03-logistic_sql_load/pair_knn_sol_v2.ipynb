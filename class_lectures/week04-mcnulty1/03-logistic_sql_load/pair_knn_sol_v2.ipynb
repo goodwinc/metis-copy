{
 "cells": [
  {
   "cell_type": "code",
   "execution_count": 1,
   "metadata": {
    "collapsed": true
   },
   "outputs": [],
   "source": [
    "X_train = [[10,   10,  10],\n",
    "           [0,   0,  0],\n",
    "           [-1, -1, -1],\n",
    "           [1, 1, 1]]\n",
    "\n",
    "y_train = ['chartreuse',\n",
    "           'white',\n",
    "           'blue',\n",
    "           'red']\n",
    "\n",
    "X_test = [[1.1, 1.1, 1.1]]\n",
    "\n",
    "def distance(A, B):\n",
    "    squares = [(a - b) ** 2 for a, b in zip(A, B)]\n",
    "    return sum(squares) ** 0.5"
   ]
  },
  {
   "cell_type": "code",
   "execution_count": 2,
   "metadata": {},
   "outputs": [
    {
     "name": "stdout",
     "output_type": "stream",
     "text": [
      "10 -1\n",
      "10 -1\n",
      "10 -1\n",
      "19.05255888325765\n"
     ]
    }
   ],
   "source": [
    "a1 = [10,   10,  10]\n",
    "a2 = [-1, -1, -1]\n",
    "for x, y in (zip(a1,a2)):\n",
    "    print(x,y)\n",
    "print(distance(a1,a2))"
   ]
  },
  {
   "cell_type": "markdown",
   "metadata": {},
   "source": [
    "#### **Solution for 1NN - lambda style**"
   ]
  },
  {
   "cell_type": "code",
   "execution_count": 3,
   "metadata": {
    "collapsed": true
   },
   "outputs": [],
   "source": [
    "def oneNN(X_train, y_train, X_test):\n",
    "    for test in X_test:    \n",
    "        index, point = min(enumerate(X_train),\n",
    "                           key=lambda ind_point: distance(test, ind_point[1]))\n",
    "        yield y_train[index]"
   ]
  },
  {
   "cell_type": "markdown",
   "metadata": {},
   "source": [
    "In words: For every item in X_test, search through X_train to find the index and value of the entry that has the smallest distance from that item. Use this index to report the feature (color) of the nearest Wookie."
   ]
  },
  {
   "cell_type": "code",
   "execution_count": 4,
   "metadata": {},
   "outputs": [
    {
     "name": "stdout",
     "output_type": "stream",
     "text": [
      "red\n"
     ]
    }
   ],
   "source": [
    "for result in oneNN(X_train, y_train, X_test):\n",
    "    print(result)"
   ]
  },
  {
   "cell_type": "markdown",
   "metadata": {},
   "source": [
    "**Same thing as above using list comprehension (More readable):**"
   ]
  },
  {
   "cell_type": "code",
   "execution_count": 5,
   "metadata": {
    "collapsed": true
   },
   "outputs": [],
   "source": [
    "def oneNN(X_train, y_train, X_test):\n",
    "    result = []\n",
    "    for test in X_test:\n",
    "        point, index = min([(distance(test,p),i) for i,p in enumerate(X_train)])\n",
    "        result.append(y_train[index])\n",
    "    return result"
   ]
  },
  {
   "cell_type": "markdown",
   "metadata": {},
   "source": [
    "In words: For every item in X_test, search through X_train to find the value and index of the entry that has the smallest distance from that item in X_test. Use this index to report the feature (color) of the nearest Wookie.\n",
    "\n",
    "Note here the order of point, index (opposite of one in previous function). This is because min operates by default on the first item of a tuple, which we chose to be the distance. In the previous function, we needed to use a special key function to impose minimization by distance."
   ]
  },
  {
   "cell_type": "code",
   "execution_count": 6,
   "metadata": {},
   "outputs": [
    {
     "name": "stdout",
     "output_type": "stream",
     "text": [
      "red\n"
     ]
    }
   ],
   "source": [
    "for result in oneNN(X_train, y_train, X_test):\n",
    "    print(result)"
   ]
  },
  {
   "cell_type": "markdown",
   "metadata": {},
   "source": [
    "**Expand to KNN. Just a matter of getting closest N elements and choosing the most common class from that.**"
   ]
  },
  {
   "cell_type": "code",
   "execution_count": 7,
   "metadata": {
    "collapsed": true
   },
   "outputs": [],
   "source": [
    "from collections import Counter\n",
    "def KNN(X_train, y_train, X_test,k=1):  # Note new parameter k, number of nearest neighbors\n",
    "    result = []\n",
    "    for test in X_test:\n",
    "        s = sorted([(distance(test,p),i) for i,p in enumerate(X_train)])[:k]\n",
    "        # print(s)\n",
    "        c = Counter([y_train[i] for _,i in s]).most_common()\n",
    "        result.append(c[0][0])\n",
    "    return result"
   ]
  },
  {
   "cell_type": "markdown",
   "metadata": {},
   "source": [
    "Notes:\n",
    "1. sorted creates a list of distances, sorted from smallest to largest, for the distance of the test items from the items in X_train. The slice operator is used to keep only the k smallest distances (k nearest neighbors).\n",
    "2. most_common creates a list of features with their count, listing them from most common to least common. Since most_common only needs the index, the distances in s are ignored (that's the meaning of the underscore)"
   ]
  },
  {
   "cell_type": "code",
   "execution_count": 8,
   "metadata": {},
   "outputs": [
    {
     "name": "stdout",
     "output_type": "stream",
     "text": [
      "[2, 3, 5, 7, 9]\n",
      "[2, 3, 5]\n"
     ]
    }
   ],
   "source": [
    "b1=[3,5,7,9,2]\n",
    "print(sorted(b1))\n",
    "print(sorted(b1)[:3])"
   ]
  },
  {
   "cell_type": "code",
   "execution_count": 9,
   "metadata": {},
   "outputs": [
    {
     "name": "stdout",
     "output_type": "stream",
     "text": [
      "red\n"
     ]
    }
   ],
   "source": [
    "for result in KNN(X_train, y_train, X_test):\n",
    "    print(result)"
   ]
  },
  {
   "cell_type": "code",
   "execution_count": 10,
   "metadata": {},
   "outputs": [
    {
     "data": {
      "text/plain": [
       "[('a', 5), ('b', 2), ('r', 2), ('c', 1), ('d', 1)]"
      ]
     },
     "execution_count": 10,
     "metadata": {},
     "output_type": "execute_result"
    }
   ],
   "source": [
    "Counter('abracadabra').most_common()"
   ]
  },
  {
   "cell_type": "code",
   "execution_count": 11,
   "metadata": {},
   "outputs": [
    {
     "data": {
      "text/plain": [
       "[('a', 5), ('b', 2)]"
      ]
     },
     "execution_count": 11,
     "metadata": {},
     "output_type": "execute_result"
    }
   ],
   "source": [
    "Counter('abracadabra').most_common(2)"
   ]
  },
  {
   "cell_type": "markdown",
   "metadata": {
    "collapsed": true
   },
   "source": [
    "## Fancy Numpy/Scipy Version :)"
   ]
  },
  {
   "cell_type": "code",
   "execution_count": 12,
   "metadata": {
    "collapsed": true
   },
   "outputs": [],
   "source": [
    "import numpy as np\n",
    "from scipy.spatial.distance import cdist\n",
    "from scipy.stats import mode\n",
    "\n",
    "def KNN_np(X_train, y_train, X_test,k=1):\n",
    "\n",
    "    dists = cdist(X_train, X_test) # compute pairwise dist matrix\n",
    "    idx = np.argpartition(dists, k, axis=0)[:k] # partition dist columns into k least and greater  \n",
    "    k_nearest = y_train[idx] # fancy array indexing \n",
    "\n",
    "    return mode(k_nearest,axis=0)[0]"
   ]
  },
  {
   "cell_type": "code",
   "execution_count": 13,
   "metadata": {},
   "outputs": [
    {
     "name": "stderr",
     "output_type": "stream",
     "text": [
      "/anaconda3/lib/python3.6/site-packages/scipy/stats/stats.py:245: RuntimeWarning: The input array could not be properly checked for nan values. nan values will be ignored.\n",
      "  \"values. nan values will be ignored.\", RuntimeWarning)\n"
     ]
    },
    {
     "data": {
      "text/plain": [
       "array([['red', 'chartreuse']], dtype='<U10')"
      ]
     },
     "execution_count": 13,
     "metadata": {},
     "output_type": "execute_result"
    }
   ],
   "source": [
    "X_train, y_train = np.array(X_train), np.array(y_train) \n",
    "X_test = np.array([[1.1,1.1,1.1],[8,8,8]])\n",
    "\n",
    "KNN_np(X_train, y_train, X_test, k=2)"
   ]
  },
  {
   "cell_type": "code",
   "execution_count": null,
   "metadata": {
    "collapsed": true
   },
   "outputs": [],
   "source": []
  }
 ],
 "metadata": {
  "kernelspec": {
   "display_name": "Python 3",
   "language": "python",
   "name": "python3"
  },
  "language_info": {
   "codemirror_mode": {
    "name": "ipython",
    "version": 3
   },
   "file_extension": ".py",
   "mimetype": "text/x-python",
   "name": "python",
   "nbconvert_exporter": "python",
   "pygments_lexer": "ipython3",
   "version": "3.6.2"
  }
 },
 "nbformat": 4,
 "nbformat_minor": 1
}
