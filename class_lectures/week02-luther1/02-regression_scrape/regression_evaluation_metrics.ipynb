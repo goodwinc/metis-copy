{
 "cells": [
  {
   "cell_type": "markdown",
   "metadata": {},
   "source": [
    "# Evaluating Regression Models\n",
    "\n",
    "Now that we've learned the basic form of a linear regression, let's talk about how to actually evaluate a model's quality. In this notebook, we also get a quick introduction to creating regression models with sci-kit learn. \n",
    "\n",
    "---\n",
    "So two simple learning goals:\n",
    "\n",
    "1. Quick introduction to fitting linear regressions with sci-kit learn  \n",
    "2. Understand core regression **evaluation metrics**: R^2, RMSE \n",
    "\n",
    "---"
   ]
  },
  {
   "cell_type": "code",
   "execution_count": 1,
   "metadata": {},
   "outputs": [
    {
     "data": {
      "text/html": [
       "<div>\n",
       "<style scoped>\n",
       "    .dataframe tbody tr th:only-of-type {\n",
       "        vertical-align: middle;\n",
       "    }\n",
       "\n",
       "    .dataframe tbody tr th {\n",
       "        vertical-align: top;\n",
       "    }\n",
       "\n",
       "    .dataframe thead th {\n",
       "        text-align: right;\n",
       "    }\n",
       "</style>\n",
       "<table border=\"1\" class=\"dataframe\">\n",
       "  <thead>\n",
       "    <tr style=\"text-align: right;\">\n",
       "      <th></th>\n",
       "      <th>Y</th>\n",
       "      <th>X1</th>\n",
       "      <th>X2</th>\n",
       "      <th>X3</th>\n",
       "      <th>X4</th>\n",
       "      <th>X5</th>\n",
       "      <th>X6</th>\n",
       "    </tr>\n",
       "  </thead>\n",
       "  <tbody>\n",
       "    <tr>\n",
       "      <th>0</th>\n",
       "      <td>43</td>\n",
       "      <td>51</td>\n",
       "      <td>30</td>\n",
       "      <td>39</td>\n",
       "      <td>61</td>\n",
       "      <td>92</td>\n",
       "      <td>45</td>\n",
       "    </tr>\n",
       "    <tr>\n",
       "      <th>1</th>\n",
       "      <td>63</td>\n",
       "      <td>64</td>\n",
       "      <td>51</td>\n",
       "      <td>54</td>\n",
       "      <td>63</td>\n",
       "      <td>73</td>\n",
       "      <td>47</td>\n",
       "    </tr>\n",
       "    <tr>\n",
       "      <th>2</th>\n",
       "      <td>71</td>\n",
       "      <td>70</td>\n",
       "      <td>68</td>\n",
       "      <td>69</td>\n",
       "      <td>76</td>\n",
       "      <td>86</td>\n",
       "      <td>48</td>\n",
       "    </tr>\n",
       "    <tr>\n",
       "      <th>3</th>\n",
       "      <td>61</td>\n",
       "      <td>63</td>\n",
       "      <td>45</td>\n",
       "      <td>47</td>\n",
       "      <td>54</td>\n",
       "      <td>84</td>\n",
       "      <td>35</td>\n",
       "    </tr>\n",
       "    <tr>\n",
       "      <th>4</th>\n",
       "      <td>81</td>\n",
       "      <td>78</td>\n",
       "      <td>56</td>\n",
       "      <td>66</td>\n",
       "      <td>71</td>\n",
       "      <td>83</td>\n",
       "      <td>47</td>\n",
       "    </tr>\n",
       "  </tbody>\n",
       "</table>\n",
       "</div>"
      ],
      "text/plain": [
       "    Y  X1  X2  X3  X4  X5  X6\n",
       "0  43  51  30  39  61  92  45\n",
       "1  63  64  51  54  63  73  47\n",
       "2  71  70  68  69  76  86  48\n",
       "3  61  63  45  47  54  84  35\n",
       "4  81  78  56  66  71  83  47"
      ]
     },
     "execution_count": 1,
     "metadata": {},
     "output_type": "execute_result"
    }
   ],
   "source": [
    "import pandas as pd\n",
    "import numpy as np\n",
    "\n",
    "import matplotlib.pyplot as plt\n",
    "%matplotlib inline\n",
    "import seaborn as sns\n",
    "sns.set()\n",
    "\n",
    "from sklearn.linear_model import LinearRegression\n",
    "\n",
    "# Load the data in\n",
    "df = pd.read_table('https://stats.idre.ucla.edu/wp-content/uploads/2016/02/p054.txt')\n",
    "df.columns = df.columns.str.strip()\n",
    "\n",
    "# Take a look at the data: all numeric\n",
    "df.head()"
   ]
  },
  {
   "cell_type": "code",
   "execution_count": 2,
   "metadata": {},
   "outputs": [
    {
     "name": "stderr",
     "output_type": "stream",
     "text": [
      "/anaconda3/lib/python3.6/site-packages/scipy/linalg/basic.py:1226: RuntimeWarning: internal gelsd driver lwork query error, required iwork dimension not returned. This is likely the result of LAPACK bug 0038, fixed in LAPACK 3.2.2 (released July 21, 2010). Falling back to 'gelss' driver.\n",
      "  warnings.warn(mesg, RuntimeWarning)\n"
     ]
    },
    {
     "data": {
      "text/plain": [
       "LinearRegression(copy_X=True, fit_intercept=True, n_jobs=1, normalize=False)"
      ]
     },
     "execution_count": 2,
     "metadata": {},
     "output_type": "execute_result"
    }
   ],
   "source": [
    "features, target = ['X1','X2','X3'], ['Y']\n",
    "X, y = df[features], df[target].values\n",
    "\n",
    "lm = LinearRegression() # construct LinearRegression model object\n",
    "lm.fit(X, y) #fit model to our choice of features"
   ]
  },
  {
   "cell_type": "markdown",
   "metadata": {},
   "source": [
    "Having fit our model, we can extract information about it from the model object. For example, we can check out it's intercept and feature coefficients:"
   ]
  },
  {
   "cell_type": "code",
   "execution_count": 3,
   "metadata": {},
   "outputs": [
    {
     "name": "stdout",
     "output_type": "stream",
     "text": [
      "[11.25830513]\n",
      "[[ 0.68241648 -0.10328426  0.23797624]]\n"
     ]
    }
   ],
   "source": [
    "# extract feature coefficients and intercept from fit model\n",
    "print(lm.intercept_)\n",
    "print(lm.coef_)"
   ]
  },
  {
   "cell_type": "markdown",
   "metadata": {},
   "source": [
    "Recall that this means the model we've fit is given by:\n",
    "\n",
    "$$y_{pred} = f(x) = 11.25 + 0.68x_1 -.10x_2 + .24x_3$$\n",
    "\n",
    "We can also use the model object to make predictions, then plot our actual y values vs. the predictions:"
   ]
  },
  {
   "cell_type": "code",
   "execution_count": 4,
   "metadata": {},
   "outputs": [
    {
     "data": {
      "text/plain": [
       "<seaborn.axisgrid.JointGrid at 0x1044dad30>"
      ]
     },
     "execution_count": 4,
     "metadata": {},
     "output_type": "execute_result"
    },
    {
     "data": {
      "image/png": "[encoded data removed]",
      "text/plain": [
       "<matplotlib.figure.Figure at 0x10a21f828>"
      ]
     },
     "metadata": {},
     "output_type": "display_data"
    }
   ],
   "source": [
    "preds = lm.predict(df[features]) # generate predictions (on training data) using fit model\n",
    "\n",
    "sns.jointplot(preds,y, kind='regplot')"
   ]
  },
  {
   "cell_type": "markdown",
   "metadata": {},
   "source": [
    "But how well does this model fit the data? By looking at the plot, the visual answer is *pretty well*. But there are a number of ways to quantify this (note that the above is **not** a plot of the target vs. some feature *x*, but instead is a plot of actual vs. predicted values, which we'd like to be a perfectly straight line of 1-1 correspondence if possible).\n",
    "\n",
    "A first way would be to explicitly calculate what the model's cost function is concerned with, i.e. sum of the squared errors, often abbreviated SSE (sum of squared errors):"
   ]
  },
  {
   "cell_type": "code",
   "execution_count": 5,
   "metadata": {},
   "outputs": [
    {
     "data": {
      "text/plain": [
       "1224.616380658825"
      ]
     },
     "execution_count": 5,
     "metadata": {},
     "output_type": "execute_result"
    }
   ],
   "source": [
    "def SSE(actuals, preds):\n",
    "    return np.sum((actuals - preds)**2)\n",
    "\n",
    "SSE(y,preds)"
   ]
  },
  {
   "cell_type": "markdown",
   "metadata": {},
   "source": [
    "Well this number seems a bit large and abstract. If we wanted to relate this back to the original scale of the target we're predicting, here's a great way to do it: First divide SSE by # observations (i.e. the mean), then take the square root of that. The mean gets us back to thinking on a per observation basis, and the root gets us from $units^2$ back to our original $units$.  "
   ]
  },
  {
   "cell_type": "code",
   "execution_count": 6,
   "metadata": {},
   "outputs": [
    {
     "data": {
      "text/plain": [
       "6.389095868897322"
      ]
     },
     "execution_count": 6,
     "metadata": {},
     "output_type": "execute_result"
    }
   ],
   "source": [
    "def RMSE(actuals, preds): #root mean squared error\n",
    "    return np.sqrt(np.mean((actuals - preds)**2))\n",
    "\n",
    "RMSE(y,preds)"
   ]
  },
  {
   "cell_type": "markdown",
   "metadata": {},
   "source": [
    "So we have a tendency to miss our target by about 6 units, not terrible!\n",
    "\n",
    "We also have a metric that's useful for comparing regression fits across very different data sets and target units: $R^2$, or the *coefficient of determination*. The idea behind this metric is to measure the target \"variance explained\" by the model. The target has intrinsic variance from its mean $\\overline{y}$ given by $\\sum_{i=1}^{n} (y_i - \\overline{y})^2$ which we call *SST* (sum of the squares total), and we then think of the ratio $SSE/SST$ as the % of variance that remains once we've modeled the data. Since we want *% variance explained* we take the difference between 1 and this ratio:  \n",
    "\n",
    "$$R^2 = 1 - SSE/SST$$\n",
    "\n",
    "If the model predicts perfectly, $SSE = 0$ so $R^2 = 1$. On the other hand, if we have a constant model that predicts the mean for all inputs, $SSE=SST$, so $R^2 = 0$. This gives us arguably the clearest way to understand **$R^2$ : it measures how good our regression fit is relative to a constant model that predicts the mean**.\n",
    "\n",
    "(Word to the wise: $R^2$ is guaranteed to be positive on *training data*, but could possibly be negative on unseen data if we overfit so badly that predicting the mean would have been better!) "
   ]
  },
  {
   "cell_type": "code",
   "execution_count": 7,
   "metadata": {},
   "outputs": [
    {
     "data": {
      "text/plain": [
       "0.7150044494972054"
      ]
     },
     "execution_count": 7,
     "metadata": {},
     "output_type": "execute_result"
    }
   ],
   "source": [
    "def SST(y):\n",
    "    return np.sum((y - np.mean(y))**2)\n",
    "\n",
    "def R2(actuals, preds):\n",
    "    return 1 - SSE(actuals, preds) / SST(actuals)\n",
    "\n",
    "R2(y,preds)"
   ]
  },
  {
   "cell_type": "markdown",
   "metadata": {},
   "source": [
    "$R^2$ is usually the default metric people use to evaluate regression models. In fact, the sklearn model uses it as the scoring default. The function `score(X,y)` below makes predictions on X and evaluates them against y:"
   ]
  },
  {
   "cell_type": "code",
   "execution_count": 8,
   "metadata": {},
   "outputs": [
    {
     "data": {
      "text/plain": [
       "0.7150044494972054"
      ]
     },
     "execution_count": 8,
     "metadata": {},
     "output_type": "execute_result"
    }
   ],
   "source": [
    "lm.score(X,y)"
   ]
  },
  {
   "cell_type": "markdown",
   "metadata": {},
   "source": [
    "All of these evaluations were done on the training data, so they are likely overly optimistic. Usually we also want to also evaluate our models on validation and/or test sets that the model hasn't already seen. We'll get to that in detail soon :)"
   ]
  }
 ],
 "metadata": {
  "kernelspec": {
   "display_name": "Python 3",
   "language": "python",
   "name": "python3"
  },
  "language_info": {
   "codemirror_mode": {
    "name": "ipython",
    "version": 3
   },
   "file_extension": ".py",
   "mimetype": "text/x-python",
   "name": "python",
   "nbconvert_exporter": "python",
   "pygments_lexer": "ipython3",
   "version": "3.6.2"
  }
 },
 "nbformat": 4,
 "nbformat_minor": 2
}
