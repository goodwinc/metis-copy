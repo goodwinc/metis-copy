{
 "cells": [
  {
   "cell_type": "markdown",
   "metadata": {},
   "source": [
    "## List of Lists to Single List"
   ]
  },
  {
   "cell_type": "code",
   "execution_count": 2,
   "metadata": {},
   "outputs": [
    {
     "data": {
      "text/plain": [
       "[1, 2, 3, 3, 5, 'a', 'b']"
      ]
     },
     "execution_count": 2,
     "metadata": {},
     "output_type": "execute_result"
    }
   ],
   "source": [
    "l = [[1, 2, 3], [3, 5], ['a', 'b']]\n",
    "\n",
    "flat_list = [item for sublist in l for item in sublist]\n",
    "flat_list\n",
    "\n",
    "# credit: [Alex Martelli](https://stackoverflow.com/users/95810/alex-martelli)"
   ]
  },
  {
   "cell_type": "markdown",
   "metadata": {},
   "source": [
    "Think of this as another way of writing a double for loop."
   ]
  },
  {
   "cell_type": "code",
   "execution_count": 3,
   "metadata": {},
   "outputs": [
    {
     "data": {
      "text/plain": [
       "[1, 2, 3, 3, 5, 'a', 'b']"
      ]
     },
     "execution_count": 3,
     "metadata": {},
     "output_type": "execute_result"
    }
   ],
   "source": [
    "# This is the same as:\n",
    "l = [[1, 2, 3], [3, 5], ['a', 'b']]\n",
    "flat_list = []\n",
    "for sublist in l:\n",
    "    for item in sublist:\n",
    "        flat_list.append(item)\n",
    "flat_list"
   ]
  },
  {
   "cell_type": "markdown",
   "metadata": {},
   "source": [
    "## List of Non-Unique to List of Unique in Order"
   ]
  },
  {
   "cell_type": "code",
   "execution_count": 4,
   "metadata": {},
   "outputs": [
    {
     "data": {
      "text/plain": [
       "[4, 1, 2, 3]"
      ]
     },
     "execution_count": 4,
     "metadata": {},
     "output_type": "execute_result"
    }
   ],
   "source": [
    "origlist = [4, 4, 1, 2, 1, 3, 3]\n",
    "seen = set()\n",
    "\n",
    "# keep only the unique prefixes in the order they show up\n",
    "newlist = [item for item in origlist if item not in seen and not seen.add(item)]\n",
    "newlist"
   ]
  },
  {
   "cell_type": "markdown",
   "metadata": {},
   "source": [
    "The idea is that `newlist` is a list comprehension which will: \n",
    "\n",
    "1. Go to the next (or first) `item` in the `origlist`.\n",
    "\n",
    "2. If the `item` **is in** `seen` (a negation of the first check in the `if`-`and` statement), then **do not** add it to `newlist`, and move on to the next item in `origlist`. _Notice that in this case, it will **not** go to the second check in the `and` statement, since the first was evaluated as False._\n",
    "\n",
    "3. If the `item` **is not in** `seen`, then move on to the second part of the `and` statement.\n",
    "\n",
    "4. (Assuming 3) Now, `seen.add(item)` will always evaluate to False. That is, `not seen.add(item)` will evaluate to True, and it will add `item` to the set `seen`. (see the code in the cell below for a demonstration)\n",
    "\n",
    "5. (Assuming 3 and 4) Now, the `if`-`and` statement has evaluated to True, so we can add `item` to `newlist`. The only way we get to this point is if `item` is a new item in `origlist`, not seen before (because if it were seen before, it would be in `seen`), and hence our items are in the order in which they're seen.\n",
    "\n",
    "6. Repeat steps 1 through 6."
   ]
  },
  {
   "cell_type": "code",
   "execution_count": 3,
   "metadata": {},
   "outputs": [
    {
     "name": "stdout",
     "output_type": "stream",
     "text": [
      "It's False!\n",
      "x = {'item'}\n"
     ]
    }
   ],
   "source": [
    "# Just an example showing what happens with the last portion of the code above.\n",
    "x = set()\n",
    "print(\"It's True!\") if x.add('item') else print(\"It's False!\")\n",
    "print('x =', x)"
   ]
  }
 ],
 "metadata": {
  "kernelspec": {
   "display_name": "Python 3",
   "language": "python",
   "name": "python3"
  },
  "language_info": {
   "codemirror_mode": {
    "name": "ipython",
    "version": 3
   },
   "file_extension": ".py",
   "mimetype": "text/x-python",
   "name": "python",
   "nbconvert_exporter": "python",
   "pygments_lexer": "ipython3",
   "version": "3.6.4"
  }
 },
 "nbformat": 4,
 "nbformat_minor": 2
}
