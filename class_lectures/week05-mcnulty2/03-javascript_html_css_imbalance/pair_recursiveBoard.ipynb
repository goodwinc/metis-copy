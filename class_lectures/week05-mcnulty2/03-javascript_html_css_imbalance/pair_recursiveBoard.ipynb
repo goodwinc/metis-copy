{
 "cells": [
  {
   "cell_type": "markdown",
   "metadata": {},
   "source": [
    "#### Analytical Solution\n",
    "\n",
    "For a board of length D, we need to move forward D times. And the rest of the moves are stays. We will have N-D of those.\n",
    "\n",
    "So we can view this as a combination. Of the N moves, we have to pick D to the forwards. So that's N-Combination-D, which is **N!/(D!(N-D)!)**\n",
    "\n",
    "It can also be viewed as a permutation of N moves, where D are of type F and (N-D) of stays. So it's permutations with repetitions: N!/(D!(N-D)!). Which is the same thing as before."
   ]
  },
  {
   "cell_type": "code",
   "execution_count": 5,
   "metadata": {
    "collapsed": true
   },
   "outputs": [],
   "source": [
    "import numpy as np\n",
    "def fac(n):\n",
    "    return np.prod(range(1,n+1))"
   ]
  },
  {
   "cell_type": "code",
   "execution_count": 6,
   "metadata": {
    "collapsed": true
   },
   "outputs": [],
   "source": [
    "def ways(n,d):\n",
    "    return fac(n)/(fac(n-d)*fac(d))"
   ]
  },
  {
   "cell_type": "code",
   "execution_count": 7,
   "metadata": {
    "collapsed": false
   },
   "outputs": [
    {
     "data": {
      "text/plain": [
       "56"
      ]
     },
     "execution_count": 7,
     "metadata": {},
     "output_type": "execute_result"
    }
   ],
   "source": [
    "ways(8,5)"
   ]
  },
  {
   "cell_type": "markdown",
   "metadata": {},
   "source": [
    "#### Recursive Solution\n",
    "\n",
    "For recursion, we just have to figure out the first step. In this case, we can either stay or go. If we stay, we have N-1 moves and D positions. If we go forward, we have N-1 moves and D-1 postions. The total solutions is the sum of the two options. So we'll just sum them up.\n",
    "\n",
    "For every recursion problem, the steps we take are the same 4.\n",
    "\n",
    "    1) What is the first step (in this case: go forward or stay)\n",
    "    2) If we stay, D remains the same, if we go, D is reduced by 1. In either case, N is reduced by 1.\n",
    "    3) How do we combine the pieces (in this case: sum the two cases)\n",
    "    4) What are the end conditions (in this case: if D>N then 0, if D=1 then N)\n",
    "    \n",
    "Below I have two versions with different end conditions. If D=1 then N or If D=N then 1. Either of these is enough. But you can use all of them if you so choose."
   ]
  },
  {
   "cell_type": "code",
   "execution_count": 8,
   "metadata": {
    "collapsed": false
   },
   "outputs": [],
   "source": [
    "def ways2(n,d):\n",
    "    if n<d or d<0:\n",
    "        return 0\n",
    "    elif n==d:\n",
    "        return 1\n",
    "    else:\n",
    "        return ways2(n-1,d)+ways2(n-1,d-1)"
   ]
  },
  {
   "cell_type": "code",
   "execution_count": 9,
   "metadata": {
    "collapsed": false
   },
   "outputs": [
    {
     "data": {
      "text/plain": [
       "56"
      ]
     },
     "execution_count": 9,
     "metadata": {},
     "output_type": "execute_result"
    }
   ],
   "source": [
    "ways2(,5)"
   ]
  },
  {
   "cell_type": "code",
   "execution_count": 10,
   "metadata": {
    "collapsed": true
   },
   "outputs": [],
   "source": [
    "def ways2(n,d):\n",
    "    if n<d or d<0:\n",
    "        return 0\n",
    "    elif d==1:\n",
    "        return n\n",
    "    else:\n",
    "        return ways2(n-1,d)+ways2(n-1,d-1)"
   ]
  },
  {
   "cell_type": "code",
   "execution_count": 11,
   "metadata": {
    "collapsed": false
   },
   "outputs": [
    {
     "data": {
      "text/plain": [
       "56"
      ]
     },
     "execution_count": 11,
     "metadata": {},
     "output_type": "execute_result"
    }
   ],
   "source": [
    "ways2(8,5)"
   ]
  },
  {
   "cell_type": "markdown",
   "metadata": {},
   "source": [
    "#### Memoization\n",
    "\n",
    "The function above calls itself twice. This leads to exponential number of calls. One way to fix it is to do memoization. We just create a dictionary. We build a tuple from the input parameters, and that tuple is the key to the dictionary. If a value exists for the key, we return that. And if not, then we compute it, update the dictionary and the return the computed value."
   ]
  },
  {
   "cell_type": "code",
   "execution_count": 3,
   "metadata": {
    "collapsed": false
   },
   "outputs": [],
   "source": [
    "from collections import defaultdict\n",
    "dic = defaultdict(int)\n",
    "def ways2(n,d):\n",
    "    if n<d or d<0:\n",
    "        return 0\n",
    "    elif d==1:\n",
    "        return n\n",
    "    elif dic[(n,d)]:\n",
    "        return dic[(n,d)]\n",
    "    else:\n",
    "        dic[(n,d)]=ways2(n-1,d)+ways2(n-1,d-1)\n",
    "        return dic[(n,d)]"
   ]
  },
  {
   "cell_type": "code",
   "execution_count": 12,
   "metadata": {
    "collapsed": false
   },
   "outputs": [
    {
     "data": {
      "text/plain": [
       "56"
      ]
     },
     "execution_count": 12,
     "metadata": {},
     "output_type": "execute_result"
    }
   ],
   "source": [
    "ways2(8,5)"
   ]
  },
  {
   "cell_type": "markdown",
   "metadata": {},
   "source": [
    "#### Dynamic Programming\n",
    "\n",
    "Another approach is to just do it using loops. We follow the same formulation as recursion. But instead of calling itself, we just use the previously computed array. Consider this an alternate step to memoization."
   ]
  },
  {
   "cell_type": "code",
   "execution_count": 10,
   "metadata": {
    "collapsed": false
   },
   "outputs": [],
   "source": [
    "import numpy as np\n",
    "w = np.zeros((10,10))\n",
    "def ways3(n,m):\n",
    "    for i in range(1,n+1):\n",
    "        w[i][1]=i\n",
    "        for j in range(2,i+1):\n",
    "            w[i][j]=w[i-1][j]+w[i-1][j-1]\n",
    "    return w[n][m]"
   ]
  },
  {
   "cell_type": "code",
   "execution_count": 11,
   "metadata": {
    "collapsed": false
   },
   "outputs": [
    {
     "data": {
      "text/plain": [
       "56.0"
      ]
     },
     "execution_count": 11,
     "metadata": {},
     "output_type": "execute_result"
    }
   ],
   "source": [
    "ways3(8,5)"
   ]
  },
  {
   "cell_type": "markdown",
   "metadata": {},
   "source": [
    "A nice things about using Dynamic Programming is that, we can easily look up the computed values. Look at the array below. Each row is the number of moves. And Each column is the positions on the board. So each value is the sum of the one above it and the one above-and-left.\n",
    "\n",
    "We can also clearly see the end conditions. If M=1 then N. If M=N then 1."
   ]
  },
  {
   "cell_type": "code",
   "execution_count": 12,
   "metadata": {
    "collapsed": false
   },
   "outputs": [
    {
     "data": {
      "text/plain": [
       "array([[  0.,   0.,   0.,   0.,   0.,   0.,   0.,   0.,   0.,   0.],\n",
       "       [  0.,   1.,   0.,   0.,   0.,   0.,   0.,   0.,   0.,   0.],\n",
       "       [  0.,   2.,   1.,   0.,   0.,   0.,   0.,   0.,   0.,   0.],\n",
       "       [  0.,   3.,   3.,   1.,   0.,   0.,   0.,   0.,   0.,   0.],\n",
       "       [  0.,   4.,   6.,   4.,   1.,   0.,   0.,   0.,   0.,   0.],\n",
       "       [  0.,   5.,  10.,  10.,   5.,   1.,   0.,   0.,   0.,   0.],\n",
       "       [  0.,   6.,  15.,  20.,  15.,   6.,   1.,   0.,   0.,   0.],\n",
       "       [  0.,   7.,  21.,  35.,  35.,  21.,   7.,   1.,   0.,   0.],\n",
       "       [  0.,   8.,  28.,  56.,  70.,  56.,  28.,   8.,   1.,   0.],\n",
       "       [  0.,   0.,   0.,   0.,   0.,   0.,   0.,   0.,   0.,   0.]])"
      ]
     },
     "execution_count": 12,
     "metadata": {},
     "output_type": "execute_result"
    }
   ],
   "source": [
    "w"
   ]
  },
  {
   "cell_type": "markdown",
   "metadata": {},
   "source": [
    "#### Extension\n",
    "\n",
    "Now let's extend the problem to be this. At each move, in addition to going forward one or staying, you can also go backward by one (but can't go outside the board).\n",
    "\n",
    "Let's see what happens to the various solutions.\n",
    "\n",
    "**Analytical:** Now the solutions have three options, and that makes the combinatorics more difficult. But we can still solve it if we make the board limitless.\n",
    "\n",
    "We need M forward moves. Of the remaining N-M moves, (N-M)//2 can be backward moves (so that we can have as many forwards moves to compensate). The rest will be stays. So we can loop over from 0 to (N-M)//2. For each, we'll know the number of B, F and S moves. We just need all permutation of this, and the formula is N!/B!F!S! (total factorial by the factorial of each repeated count)."
   ]
  },
  {
   "cell_type": "code",
   "execution_count": 19,
   "metadata": {
    "collapsed": true
   },
   "outputs": [],
   "source": [
    "def ways3(n,m):\n",
    "    w = 0\n",
    "    for b in range((n-m)//2+1):\n",
    "        w += int(fac(n)/(fac(b)*fac(m+b)*fac(n-m-2*b)))\n",
    "    return w"
   ]
  },
  {
   "cell_type": "code",
   "execution_count": 20,
   "metadata": {
    "collapsed": false
   },
   "outputs": [
    {
     "data": {
      "text/plain": [
       "112"
      ]
     },
     "execution_count": 20,
     "metadata": {},
     "output_type": "execute_result"
    }
   ],
   "source": [
    "ways3(8,5)"
   ]
  },
  {
   "cell_type": "markdown",
   "metadata": {},
   "source": [
    "**Recursion:** In this case, we just add an extra term to represent the backward step. The end conditions become a bit more detailed, but that's about it."
   ]
  },
  {
   "cell_type": "code",
   "execution_count": 21,
   "metadata": {
    "collapsed": true
   },
   "outputs": [],
   "source": [
    "def ways3(n,m):\n",
    "    if n<0:\n",
    "        return 0\n",
    "    elif n==0 and m==0:\n",
    "        return 1\n",
    "    elif n==1 and abs(m)<=1:\n",
    "        return 1\n",
    "    if n<abs(m):\n",
    "        return 0\n",
    "    else:\n",
    "        return ways3(n-1,m)+ways3(n-1,m-1)+ways3(n-1,m+1)"
   ]
  },
  {
   "cell_type": "code",
   "execution_count": 22,
   "metadata": {
    "collapsed": false
   },
   "outputs": [
    {
     "data": {
      "text/plain": [
       "112"
      ]
     },
     "execution_count": 22,
     "metadata": {},
     "output_type": "execute_result"
    }
   ],
   "source": [
    "ways3(8,5)"
   ]
  },
  {
   "cell_type": "markdown",
   "metadata": {},
   "source": [
    "But the true problem is for a finite board that we can't go past in either direction. Solving that analytically is difficult. But with recursion, it's just updating the end conditions. To do this, we need to also pass a global_d to the function, since we keep modifying and reducing d in the subsequent functions that we call. If d is less than 0 or greater than global_d, the function will return 0."
   ]
  },
  {
   "cell_type": "code",
   "execution_count": 23,
   "metadata": {
    "collapsed": false
   },
   "outputs": [],
   "source": [
    "def ways3(n,d,global_d):\n",
    "    if d<0 or d>global_d:\n",
    "        return 0\n",
    "    if n<0:\n",
    "        return 0\n",
    "    elif n==0 and d==0:\n",
    "        return 1\n",
    "    elif n==1 and d<=1:\n",
    "        return 1\n",
    "    if n<d:\n",
    "        return 0\n",
    "    else:\n",
    "        return ways3(n-1,d,global_d)+ways3(n-1,d-1,global_d)+ways3(n-1,d+1,global_d)"
   ]
  },
  {
   "cell_type": "code",
   "execution_count": 24,
   "metadata": {
    "collapsed": false
   },
   "outputs": [
    {
     "data": {
      "text/plain": [
       "96"
      ]
     },
     "execution_count": 24,
     "metadata": {},
     "output_type": "execute_result"
    }
   ],
   "source": [
    "ways3(8,5,5)"
   ]
  },
  {
   "cell_type": "markdown",
   "metadata": {},
   "source": [
    "In the code above, we have changed the input parameters of the code (because we added a third input). That can be avoided by using a default value for global_d and setting it to d inside the function."
   ]
  },
  {
   "cell_type": "code",
   "execution_count": 13,
   "metadata": {
    "collapsed": true
   },
   "outputs": [],
   "source": [
    "def ways3(n,d,global_d=-1):\n",
    "    if global_d<0:\n",
    "        global_d=d\n",
    "    if d<0 or d>global_d:\n",
    "        return 0\n",
    "    if n<0:\n",
    "        return 0\n",
    "    elif n==0 and d==0:\n",
    "        return 1\n",
    "    elif n==1 and d<=1:\n",
    "        return 1\n",
    "    if n<d:\n",
    "        return 0\n",
    "    else:\n",
    "        return ways3(n-1,d,global_d)+ways3(n-1,d-1,global_d)+ways3(n-1,d+1,global_d)"
   ]
  },
  {
   "cell_type": "code",
   "execution_count": 14,
   "metadata": {
    "collapsed": false,
    "scrolled": true
   },
   "outputs": [
    {
     "data": {
      "text/plain": [
       "96"
      ]
     },
     "execution_count": 14,
     "metadata": {},
     "output_type": "execute_result"
    }
   ],
   "source": [
    "ways3(8,5)"
   ]
  },
  {
   "cell_type": "code",
   "execution_count": null,
   "metadata": {
    "collapsed": true
   },
   "outputs": [],
   "source": []
  }
 ],
 "metadata": {
  "kernelspec": {
   "display_name": "Python 2",
   "language": "python",
   "name": "python2"
  },
  "language_info": {
   "codemirror_mode": {
    "name": "ipython",
    "version": 2
   },
   "file_extension": ".py",
   "mimetype": "text/x-python",
   "name": "python",
   "nbconvert_exporter": "python",
   "pygments_lexer": "ipython2",
   "version": "2.7.13"
  }
 },
 "nbformat": 4,
 "nbformat_minor": 0
}
