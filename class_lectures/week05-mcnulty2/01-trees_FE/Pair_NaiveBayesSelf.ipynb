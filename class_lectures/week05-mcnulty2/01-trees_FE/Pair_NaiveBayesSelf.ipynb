{
 "cells": [
  {
   "cell_type": "markdown",
   "metadata": {},
   "source": [
    "To solve this problem, we can do two things. One: combine all positive reviews and say how many times did a word appear over the total number of words in that corpus. **Or: For each word, we can say in how many positive reviews did it appear over the total number of positive reviews.** Both give a good (albeit different) measure of probability that we can use. I used the latter approach, but have code for both below."
   ]
  },
  {
   "cell_type": "code",
   "execution_count": 21,
   "metadata": {
    "collapsed": true
   },
   "outputs": [],
   "source": [
    "import glob\n",
    "import os\n",
    "from collections import defaultdict\n",
    "import re\n",
    "import numpy as np\n",
    "\n",
    "import matplotlib.pyplot as plt\n",
    "%matplotlib inline"
   ]
  },
  {
   "cell_type": "markdown",
   "metadata": {},
   "source": [
    "**Given a filename, this function remove non-alpabets and return a list of words in the file:**"
   ]
  },
  {
   "cell_type": "code",
   "execution_count": 22,
   "metadata": {
    "collapsed": true
   },
   "outputs": [],
   "source": [
    "def processFile(filename):\n",
    "    f = open(filename, 'r')\n",
    "    content = f.read()\n",
    "    content = re.sub('[^A-z \\n]','',content)\n",
    "    return content.split()"
   ]
  },
  {
   "cell_type": "markdown",
   "metadata": {},
   "source": [
    "**This function loops through the files in our training set and builds a dictionary of counts and takes the log probability:**"
   ]
  },
  {
   "cell_type": "markdown",
   "metadata": {},
   "source": [
    "See in how many positive reviews a given word occurs in"
   ]
  },
  {
   "cell_type": "code",
   "execution_count": 23,
   "metadata": {
    "collapsed": false
   },
   "outputs": [],
   "source": [
    "c = 0.0\n",
    "def readReview(path,dic):\n",
    "    global c\n",
    "    c=0.0\n",
    "    for filename in glob.glob(os.path.join(path, '*.txt')):\n",
    "        content=processFile(filename)\n",
    "        for w in set(content):\n",
    "            dic[w]+=1\n",
    "        c+=1\n",
    "    for k,v in dic.items():\n",
    "        dic[k]=np.log(v/c)"
   ]
  },
  {
   "cell_type": "markdown",
   "metadata": {},
   "source": [
    "Here we combine the entire corpus of positive reviews and count how many times a given word occurred in total. This is another approach to the previous code block."
   ]
  },
  {
   "cell_type": "code",
   "execution_count": 24,
   "metadata": {
    "collapsed": false
   },
   "outputs": [],
   "source": [
    "# def readReview(path,dic):\n",
    "#     content = []\n",
    "#     for filename in glob.glob(os.path.join(path, '*.txt')):\n",
    "#         content+=processFile(filename)\n",
    "#     for w in content:\n",
    "#         dic[w]+=1\n",
    "#     global c\n",
    "#     c=len(content)\n",
    "#     for k,v in dic.items():\n",
    "#         dic[k]=np.log(v/float(c))"
   ]
  },
  {
   "cell_type": "markdown",
   "metadata": {},
   "source": [
    "**We just call the above function and build positive and negative dictionaries:**"
   ]
  },
  {
   "cell_type": "code",
   "execution_count": 25,
   "metadata": {
    "collapsed": false
   },
   "outputs": [],
   "source": [
    "path1 = 'movie_reviews/txt_sentoken/pos'\n",
    "path2 = 'movie_reviews/txt_sentoken/neg'\n",
    "posdict = defaultdict(int)\n",
    "negdict = defaultdict(int)\n",
    "readReview(path1,posdict)\n",
    "readReview(path2,negdict)"
   ]
  },
  {
   "cell_type": "markdown",
   "metadata": {},
   "source": [
    "**The next step is important. For each word in positive dictionary but not in the negative one, we set it's value in the negative dictionary to a low threshold (and vice versa):**"
   ]
  },
  {
   "cell_type": "code",
   "execution_count": 26,
   "metadata": {
    "collapsed": false
   },
   "outputs": [],
   "source": [
    "for k,v in posdict.items():\n",
    "    if not negdict[k]:\n",
    "        negdict[k]=np.log(0.2/c)\n",
    "for k,v in negdict.items():\n",
    "    if not posdict[k]:\n",
    "        posdict[k]=np.log(0.2/c)"
   ]
  },
  {
   "cell_type": "markdown",
   "metadata": {},
   "source": [
    "**Now, given a test review, we will go through the words in that review and add up the positive probabilities to a postive score and negative probabilities to a negative score.**\n",
    "\n",
    "The 'thresh' here accounts for the fact that we don't know the prior probabilities. So we can try varies thresholds and pick the one that performed best."
   ]
  },
  {
   "cell_type": "code",
   "execution_count": 27,
   "metadata": {
    "collapsed": true
   },
   "outputs": [],
   "source": [
    "def accuracyCount(path,posdict,negdict,isPositive=True,thresh=0.5):\n",
    "    poscount = 0\n",
    "    n = len(glob.glob(os.path.join(path, '*.txt')))\n",
    "    for filename in glob.glob(os.path.join(path, '*.txt')):\n",
    "        content=processFile(filename)\n",
    "        posscore = 0\n",
    "        negscore = 0\n",
    "        for w in set(content):\n",
    "            posscore+=posdict[w]\n",
    "            negscore+=negdict[w]\n",
    "        if (posscore>(0.5/thresh)*negscore):\n",
    "            poscount+=1\n",
    "    if isPositive:\n",
    "        return poscount\n",
    "    else:\n",
    "        return n-poscount"
   ]
  },
  {
   "cell_type": "code",
   "execution_count": 28,
   "metadata": {
    "collapsed": false
   },
   "outputs": [],
   "source": [
    "def test():\n",
    "    scores = []\n",
    "    for t in np.arange(0.48,0.52,0.001):\n",
    "        path1test = 'movie_reviews/txt_sentoken/pos/test'\n",
    "        a1 = accuracyCount(path1test,posdict,negdict,1,t)\n",
    "        path2test = 'movie_reviews/txt_sentoken/neg/test'\n",
    "        a2 = accuracyCount(path2test,posdict,negdict,0,t)\n",
    "        scores.append((t,a1,a2,(a1+a2)/2.0))\n",
    "#         scores.append(((a1+a2)/float(n1+n2),t))\n",
    "    return scores"
   ]
  },
  {
   "cell_type": "code",
   "execution_count": 29,
   "metadata": {
    "collapsed": false
   },
   "outputs": [],
   "source": [
    "scores = test()"
   ]
  },
  {
   "cell_type": "markdown",
   "metadata": {},
   "source": [
    "**If we plot the scores, we see that the best accurary (red line) happens roughly where the positive and negative performance are close to each other. You can pick the peak accuracy or the intersection of positive and negative lines as your threshold."
   ]
  },
  {
   "cell_type": "code",
   "execution_count": 30,
   "metadata": {
    "collapsed": false
   },
   "outputs": [
    {
     "data": {
      "text/plain": [
       "[<matplotlib.lines.Line2D at 0x10fa65a50>,\n",
       " <matplotlib.lines.Line2D at 0x10fa65c50>,\n",
       " <matplotlib.lines.Line2D at 0x10fa65d90>,\n",
       " <matplotlib.lines.Line2D at 0x10fa65ed0>]"
      ]
     },
     "execution_count": 30,
     "metadata": {},
     "output_type": "execute_result"
    },
    {
     "data": {
      "image/png": "[encoded data removed]",
      "text/plain": [
       "<matplotlib.figure.Figure at 0x114023590>"
      ]
     },
     "metadata": {},
     "output_type": "display_data"
    }
   ],
   "source": [
    "plt.plot(scores)"
   ]
  },
  {
   "cell_type": "code",
   "execution_count": 31,
   "metadata": {
    "collapsed": true
   },
   "outputs": [],
   "source": [
    "t = 0.491"
   ]
  },
  {
   "cell_type": "code",
   "execution_count": 32,
   "metadata": {
    "collapsed": false
   },
   "outputs": [
    {
     "name": "stdout",
     "output_type": "stream",
     "text": [
      "73 73\n"
     ]
    }
   ],
   "source": [
    "path1test = 'movie_reviews/txt_sentoken/pos/holdout'\n",
    "a1 = accuracyCount(path1test,posdict,negdict,1,t)\n",
    "path2test = 'movie_reviews/txt_sentoken/neg/holdout'\n",
    "a2 = accuracyCount(path2test,posdict,negdict,0,t)\n",
    "print a1,a2"
   ]
  }
 ],
 "metadata": {
  "kernelspec": {
   "display_name": "Python 2",
   "language": "python",
   "name": "python2"
  },
  "language_info": {
   "codemirror_mode": {
    "name": "ipython",
    "version": 2
   },
   "file_extension": ".py",
   "mimetype": "text/x-python",
   "name": "python",
   "nbconvert_exporter": "python",
   "pygments_lexer": "ipython2",
   "version": "2.7.13"
  }
 },
 "nbformat": 4,
 "nbformat_minor": 0
}
