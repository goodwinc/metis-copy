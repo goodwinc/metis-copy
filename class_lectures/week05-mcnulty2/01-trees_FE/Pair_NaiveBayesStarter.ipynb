{
 "cells": [
  {
   "cell_type": "markdown",
   "metadata": {},
   "source": [
    "**Start by creating a test folder and moving some files into that one**"
   ]
  },
  {
   "cell_type": "code",
   "execution_count": 1,
   "metadata": {
    "collapsed": true
   },
   "outputs": [],
   "source": [
    "import glob\n",
    "import os\n",
    "from collections import defaultdict\n",
    "import re\n",
    "import numpy as np"
   ]
  },
  {
   "cell_type": "markdown",
   "metadata": {},
   "source": [
    "**Given a filename, this function remove non-alpabets and return a list of words in the file:**"
   ]
  },
  {
   "cell_type": "code",
   "execution_count": 2,
   "metadata": {
    "collapsed": true
   },
   "outputs": [],
   "source": [
    "def processFile(filename):\n",
    "    f = open(filename, 'r')\n",
    "    content = f.read()\n",
    "    content = re.sub('[^A-z \\n]','',content)\n",
    "    return content.split()"
   ]
  },
  {
   "cell_type": "markdown",
   "metadata": {},
   "source": [
    "**This function loops through the files in our training set and builds the model**"
   ]
  },
  {
   "cell_type": "code",
   "execution_count": 3,
   "metadata": {
    "collapsed": true
   },
   "outputs": [],
   "source": [
    "# path1 = '/Users/vsenguttuvan/Downloads/movie_reviews/txt_sentoken/pos'\n",
    "def readReview(path):\n",
    "    for filename in glob.glob(os.path.join(path, '*.txt')):\n",
    "        content=processFile(filename)\n",
    "        # your code will go here"
   ]
  }
 ],
 "metadata": {
  "kernelspec": {
   "display_name": "Python 2",
   "language": "python",
   "name": "python2"
  },
  "language_info": {
   "codemirror_mode": {
    "name": "ipython",
    "version": 2
   },
   "file_extension": ".py",
   "mimetype": "text/x-python",
   "name": "python",
   "nbconvert_exporter": "python",
   "pygments_lexer": "ipython2",
   "version": "2.7.13"
  }
 },
 "nbformat": 4,
 "nbformat_minor": 0
}
