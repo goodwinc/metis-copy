{
 "cells": [
  {
   "cell_type": "code",
   "execution_count": null,
   "metadata": {},
   "outputs": [
    {
     "name": "stderr",
     "output_type": "stream",
     "text": [
      " * Running on http://0.0.0.0:5000/ (Press CTRL+C to quit)\n"
     ]
    }
   ],
   "source": [
    "import flask\n",
    "from sklearn.linear_model import LogisticRegression\n",
    "import numpy as np\n",
    "import pandas as pd\n",
    "\n",
    "#---------- MODEL IN MEMORY ----------------#\n",
    "\n",
    "# Read the scientific data on breast cancer survival,\n",
    "# Build a LogisticRegression predictor on it\n",
    "patients = pd.read_csv(\"haberman.data\", header=None)\n",
    "patients.columns=['age','year','nodes','survived']\n",
    "patients=patients.replace(2,0)  # The value 2 means death in 5 years\n",
    "\n",
    "X = patients[['age','year','nodes']]\n",
    "Y = patients['survived']\n",
    "PREDICTOR = LogisticRegression().fit(X,Y)\n",
    "\n",
    "\n",
    "#---------- URLS AND WEB PAGES -------------#\n",
    "\n",
    "# Initialize the app\n",
    "app = flask.Flask(__name__)\n",
    "\n",
    "# Homepage\n",
    "@app.route(\"/\")\n",
    "def viz_page():\n",
    "    \"\"\"\n",
    "    Homepage: serve our visualization page, awesome.html\n",
    "    \"\"\"\n",
    "    with open(\"awesome.html\", 'r') as viz_file:\n",
    "        return viz_file.read()\n",
    "\n",
    "# Get an example and return it's score from the predictor model\n",
    "@app.route(\"/score\", methods=[\"POST\"])\n",
    "def score():\n",
    "    \"\"\"\n",
    "    When A POST request with json data is made to this uri,\n",
    "    Read the example from the json, predict probability and\n",
    "    send it with a response\n",
    "    \"\"\"\n",
    "    # Get decision score for our example that came with the request\n",
    "    data = flask.request.json\n",
    "    x = np.matrix(data[\"example\"])\n",
    "    score = PREDICTOR.predict_proba(x)\n",
    "    # Put the result in a nice dict so we can send it as json\n",
    "    results = {\"score\": score[0,1]}\n",
    "    return flask.jsonify(results)\n",
    "\n",
    "#--------- RUN WEB APP SERVER ------------#\n",
    "\n",
    "# Start the app server on port 80\n",
    "# (The default website port)\n",
    "app.run(host='0.0.0.0')\n",
    "app.run(debug=True)"
   ]
  },
  {
   "cell_type": "markdown",
   "metadata": {},
   "source": [
    "Things to know: \n",
    "    \n",
    "**AJAX** (asynchronous javascript and XML) is a subset of javascript\n",
    "AJAX: is a technique to do a XMLHTTPRequest from a webpage to the server\n",
    "(send/retrievedata to be used on the webpage) \n",
    "\n",
    "Ajax allows us to do things real-time (w/out the need for page refresh) \n",
    "\n",
    "**JQuery**: is a javascript framework that makes working with DOM easier : provides \n",
    "high level functionality.  Part of this functionality is a high level interface to\n",
    "do AJAX requests\n",
    "\n"
   ]
  },
  {
   "cell_type": "code",
   "execution_count": null,
   "metadata": {
    "collapsed": true
   },
   "outputs": [],
   "source": []
  }
 ],
 "metadata": {
  "kernelspec": {
   "display_name": "Python 3",
   "language": "python",
   "name": "python3"
  },
  "language_info": {
   "codemirror_mode": {
    "name": "ipython",
    "version": 3
   },
   "file_extension": ".py",
   "mimetype": "text/x-python",
   "name": "python",
   "nbconvert_exporter": "python",
   "pygments_lexer": "ipython3",
   "version": "3.6.1"
  }
 },
 "nbformat": 4,
 "nbformat_minor": 2
}
