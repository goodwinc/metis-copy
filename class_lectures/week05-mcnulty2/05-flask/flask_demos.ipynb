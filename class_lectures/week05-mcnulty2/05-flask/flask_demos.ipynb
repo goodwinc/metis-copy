{
 "cells": [
  {
   "cell_type": "code",
   "execution_count": 2,
   "metadata": {},
   "outputs": [
    {
     "name": "stderr",
     "output_type": "stream",
     "text": [
      " * Running on http://127.0.0.1:5000/ (Press CTRL+C to quit)\n"
     ]
    }
   ],
   "source": [
    "from flask import Flask  # instance of WSGI ~ Web Server Gateway Interface\n",
    "app = Flask(__name__) # create flask object, name of module here\n",
    "\n",
    "@app.route('/')  # decorator :mapping between the url & our function, when we navigate to root url.. \n",
    "def hello_world():\n",
    "    return 'Hello World!'\n",
    "\n",
    "if __name__ == '__main__':   # will only run app if this is the 'main' file\n",
    "    app.run()  # launch a very simple server (good enough for development)"
   ]
  },
  {
   "cell_type": "markdown",
   "metadata": {},
   "source": [
    "- Flask    \n",
    "based on Werkzeug & Jinja template engine\n",
    "\n",
    "\n",
    "- Why WSGI:    \n",
    "A traditional web server does not understand or have any way to run python. \n",
    "Python community developed WSGI as a standard interface.\n",
    "\n",
    "Browser sends a request for the URL --> flask looks at the URL-->  (in this case root)\n",
    "invokes our function (in this case hello_world) --> collects the return value --> sends \n",
    "this to Browser (Browswer renders this return in HTML\n",
    "\n",
    "- Flask built-in server    \n",
    "While lightweight and easy to use, Flask’s built-in server is not suitable for production as it doesn’t scale well and by default serves only one request at a time."
   ]
  },
  {
   "cell_type": "code",
   "execution_count": null,
   "metadata": {},
   "outputs": [],
   "source": [
    "import flask\n",
    "from sklearn.linear_model import LogisticRegression\n",
    "import numpy as np\n",
    "\n",
    "\n",
    "\n",
    "# Train a model at the beginning; this guy will stay in memory the whole\n",
    "# time our server is up!\n",
    "\n",
    "# The example training data has a single feature and for all training X\n",
    "# values from 1 to 500 the true response is 0; for all X values from 500\n",
    "# to 1000 the true response is 1. Pretty simple decision boundary here,\n",
    "# the model is if you encounter x < 500, classify as 0, if 500 < x,\n",
    "# classify as 1.\n",
    "\n",
    "# You could also load a pickled model rather than training on server\n",
    "# launch, which would be more typical.\n",
    "\n",
    "X = np.linspace(1, 1000, 50).reshape(-1,1)\n",
    "Y = np.zeros(50,)\n",
    "Y[25:] = np.ones(25,)\n",
    "PREDICTOR = LogisticRegression().fit(X,Y)\n",
    "\n",
    "\n",
    "# Initialize the app\n",
    "\n",
    "app = flask.Flask(__name__)\n",
    "\n",
    "\n",
    "# An example of routing:\n",
    "# If they go to the page \"/\" (this means a GET request\n",
    "# to the page http://127.0.0.1:5000/), return a simple\n",
    "# page that says the site is up!\n",
    "\n",
    "@app.route(\"/\")\n",
    "def hello():\n",
    "    return \"It's alive!!!\"\n",
    "\n",
    "\n",
    "# Let's turn this into an API where you can post input data and get\n",
    "# back output data after some calculations.\n",
    "\n",
    "# If a user makes a POST request to http://127.0.0.1:5000/predict, and\n",
    "# sends an X vector (to predict a class y_pred) with it as its data,\n",
    "# we will use our trained LogisticRegression model to make a\n",
    "# prediction and send back another JSON with the answer. You can use\n",
    "# this to make interactive visualizations.\n",
    "\n",
    "@app.route(\"/predict\", methods=[\"POST\"])\n",
    "def predict():\n",
    "\n",
    "    # read the data that came with the POST request as a dict\n",
    "    data = flask.request.json\n",
    "\n",
    "    # let's convert this into a numpy array so that we can\n",
    "    # stick it into our model\n",
    "    x = np.array(data[\"example\"]).reshape(-1,1)   # example : is our key\n",
    "\n",
    "    # Classify!\n",
    "    y_pred = PREDICTOR.predict(x)\n",
    "\n",
    "    # Turn the result into a simple list so we can put it in\n",
    "    # a json (json won't understand numpy arrays)\n",
    "    y_pred = list(y_pred)\n",
    "\n",
    "    # Put the result in a nice dict so we can send it as json\n",
    "    results = {\"predicted\": y_pred}\n",
    "\n",
    "    # Return a response with a json in it\n",
    "    # flask has a quick function for that that takes a dict\n",
    "    return flask.jsonify(results)\n",
    "\n",
    "\n",
    "# Start the server, continuously listen to requests.\n",
    "# We'll have a running web app!\n",
    "\n",
    "# For local development:\n",
    "# app.run(debug=True)\n",
    "\n",
    "if __name__ == '__main__':\n",
    "    app.run()"
   ]
  },
  {
   "cell_type": "code",
   "execution_count": null,
   "metadata": {
    "collapsed": true
   },
   "outputs": [],
   "source": []
  }
 ],
 "metadata": {
  "kernelspec": {
   "display_name": "Python 3",
   "language": "python",
   "name": "python3"
  },
  "language_info": {
   "codemirror_mode": {
    "name": "ipython",
    "version": 3
   },
   "file_extension": ".py",
   "mimetype": "text/x-python",
   "name": "python",
   "nbconvert_exporter": "python",
   "pygments_lexer": "ipython3",
   "version": "3.6.1"
  }
 },
 "nbformat": 4,
 "nbformat_minor": 2
}
