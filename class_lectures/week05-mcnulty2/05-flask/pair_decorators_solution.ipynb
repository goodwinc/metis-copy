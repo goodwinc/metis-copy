{
 "cells": [
  {
   "cell_type": "markdown",
   "metadata": {},
   "source": [
    "# Decorators"
   ]
  },
  {
   "cell_type": "markdown",
   "metadata": {},
   "source": [
    "### What are they? \n",
    "A decorator wraps a function, modifying its behavior.\n",
    "\n",
    "In this example:\n",
    "* `square()` is the function\n",
    "* `talky()` is the decorator\n",
    "\n",
    "### Why are they useful?\n",
    "\n",
    "\n",
    "***(1) Permanently modifies a function's behavior***\n",
    "\n",
    "Without a decorator:\n",
    "\n",
    "* Everytime you call the square function, you have to wrap the talky function around it.\n",
    "\n",
    "With a decorator:\n",
    "\n",
    "* Everytime you call the square function, the talky function will automatically be wrapped around it.\n",
    "\n",
    "***(2) Easier to read (especially with syntactic sugar)***\n",
    "\n",
    "Without a decorator:\n",
    "\n",
    "```python\n",
    "def square(x):\n",
    "   return x * x\n",
    "square = talky(square)\n",
    "```\n",
    "\n",
    "With a decorator:\n",
    "\n",
    "```python\n",
    "@talky # <-- this is called pie syntax\n",
    "def square(x):\n",
    "   return x * x\n",
    "```"
   ]
  },
  {
   "cell_type": "markdown",
   "metadata": {},
   "source": [
    "## The Solution"
   ]
  },
  {
   "cell_type": "markdown",
   "metadata": {},
   "source": [
    "`functools` is a package that allows inheritance of the original function's attributes. [These two](https://www.python-course.eu/python3_decorators.php) [tutorials](https://www.thecodeship.com/patterns/guide-to-python-function-decorators/) provide decorator examples and how `functools` can enhance our capabilities."
   ]
  },
  {
   "cell_type": "code",
   "execution_count": 1,
   "metadata": {
    "collapsed": true
   },
   "outputs": [],
   "source": [
    "import functools\n",
    "\n",
    "def talky(old_function):\n",
    "    @functools.wraps(old_function)\n",
    "    def new_function(*args, **kwargs):\n",
    "        print (\"Oh hi!\")\n",
    "        result = old_function(*args, **kwargs)\n",
    "        print (\"The result sure is {}!\".format(result))\n",
    "        return result\n",
    "    return new_function"
   ]
  },
  {
   "cell_type": "code",
   "execution_count": 2,
   "metadata": {
    "scrolled": true
   },
   "outputs": [
    {
     "name": "stdout",
     "output_type": "stream",
     "text": [
      "Oh hi!\n",
      "The result sure is 25!\n"
     ]
    },
    {
     "data": {
      "text/plain": [
       "25"
      ]
     },
     "execution_count": 2,
     "metadata": {},
     "output_type": "execute_result"
    }
   ],
   "source": [
    "@talky\n",
    "def square(x):\n",
    "    '''\n",
    "    This is my doc string\n",
    "    '''\n",
    "    return x * x\n",
    "\n",
    "square(5)"
   ]
  },
  {
   "cell_type": "code",
   "execution_count": 3,
   "metadata": {
    "collapsed": true
   },
   "outputs": [],
   "source": [
    "# note that if we check out the doc string for square, it will\n",
    "# show what we just wrote - this is becuse we used functools -\n",
    "# otherwise we wouldn't keep the new docstring"
   ]
  },
  {
   "cell_type": "code",
   "execution_count": 27,
   "metadata": {},
   "outputs": [
    {
     "name": "stdout",
     "output_type": "stream",
     "text": [
      "Oh hi!\n",
      "The result sure is 25!\n"
     ]
    },
    {
     "data": {
      "text/plain": [
       "25"
      ]
     },
     "execution_count": 27,
     "metadata": {},
     "output_type": "execute_result"
    }
   ],
   "source": [
    "# also note that the @ syntax above is syntactic sugar shortcut for:\n",
    "\n",
    "def square(x):\n",
    "    return x * x\n",
    "\n",
    "talky_square = talky(square) \n",
    "talky_square(5)"
   ]
  },
  {
   "cell_type": "code",
   "execution_count": 23,
   "metadata": {
    "collapsed": true
   },
   "outputs": [],
   "source": [
    "def talky_with(name):\n",
    "    def talky(old_function):\n",
    "        @functools.wraps(old_function)\n",
    "        def new_function(*args, **kwargs):\n",
    "            print (\"Oh hi! I'm {}.\".format(name))\n",
    "            result = old_function(*args, **kwargs)\n",
    "            print (\"The result sure is {}!\".format(result))\n",
    "            return result\n",
    "        return new_function\n",
    "    return talky"
   ]
  },
  {
   "cell_type": "code",
   "execution_count": 24,
   "metadata": {
    "collapsed": true
   },
   "outputs": [],
   "source": [
    "# and you thought recursion was bad?"
   ]
  },
  {
   "cell_type": "code",
   "execution_count": 25,
   "metadata": {},
   "outputs": [
    {
     "name": "stdout",
     "output_type": "stream",
     "text": [
      "Oh hi! I'm Aaron.\n",
      "The result sure is 25!\n"
     ]
    },
    {
     "data": {
      "text/plain": [
       "25"
      ]
     },
     "execution_count": 25,
     "metadata": {},
     "output_type": "execute_result"
    }
   ],
   "source": [
    "@talky_with(\"Aaron\")\n",
    "def square(x):\n",
    "    return x * x\n",
    "\n",
    "square(5)"
   ]
  },
  {
   "cell_type": "markdown",
   "metadata": {},
   "source": [
    "Same as:"
   ]
  },
  {
   "cell_type": "code",
   "execution_count": 31,
   "metadata": {},
   "outputs": [
    {
     "name": "stdout",
     "output_type": "stream",
     "text": [
      "Oh hi! I'm Aaron.\n",
      "The result sure is 25!\n"
     ]
    },
    {
     "data": {
      "text/plain": [
       "25"
      ]
     },
     "execution_count": 31,
     "metadata": {},
     "output_type": "execute_result"
    }
   ],
   "source": [
    "func = talky_with(\"Aaron\")(square)\n",
    "func(5)"
   ]
  },
  {
   "cell_type": "markdown",
   "metadata": {},
   "source": [
    "Hmm is this really worth a shortcut? < thinking face emoji >"
   ]
  },
  {
   "cell_type": "markdown",
   "metadata": {
    "collapsed": true
   },
   "source": [
    "## Example Decorators\n",
    "\n",
    "These decorators are silly, but the technique is good for re-using functionality across multiple functions. For example:\n",
    "\n",
    "* Timing decorator - If you wrapped this around a function, every time you called the function, it would tell you how long it took that function to run.\n",
    "\n",
    "* Login required decorator - If you wrapped this around a function, every time you called the function, it would require you to enter in a username and password to use the function.\n",
    "\n",
    "* Exception handling and re-trying\n",
    "\n",
    "* Input and output checking: quality control or context\n",
    "\n",
    "* And of course... setting up routes with Flask!\n",
    "\n",
    "### Resources\n",
    "\n",
    "[Code for the examples can be found here](https://realpython.com/blog/python/primer-on-python-decorators/)\n",
    "\n",
    "[Code for the basic format of a decorator can be found here](https://www.saltycrane.com/blog/2010/03/simple-python-decorator-examples/)"
   ]
  },
  {
   "cell_type": "markdown",
   "metadata": {
    "collapsed": true
   },
   "source": [
    "### Buffalo EC"
   ]
  },
  {
   "cell_type": "code",
   "execution_count": 10,
   "metadata": {},
   "outputs": [
    {
     "name": "stdout",
     "output_type": "stream",
     "text": [
      "Buffalo buffalo Buffalo buffalo 25 buffalo buffalo Buffalo buffalo\n"
     ]
    },
    {
     "data": {
      "text/plain": [
       "25"
      ]
     },
     "execution_count": 10,
     "metadata": {},
     "output_type": "execute_result"
    }
   ],
   "source": [
    "def buffalo(old_function):\n",
    "    @functools.wraps(old_function)\n",
    "    def new_function(*args, **kwargs):\n",
    "        result = old_function(*args, **kwargs)\n",
    "        print (\"Buffalo buffalo Buffalo buffalo \" +\n",
    "               str(result) +\n",
    "               \" buffalo buffalo Buffalo buffalo\")\n",
    "        return result\n",
    "    return new_function\n",
    "\n",
    "@buffalo\n",
    "def square(x):\n",
    "    return x * x\n",
    "\n",
    "square(5)"
   ]
  },
  {
   "cell_type": "code",
   "execution_count": null,
   "metadata": {
    "collapsed": true
   },
   "outputs": [],
   "source": []
  }
 ],
 "metadata": {
  "anaconda-cloud": {},
  "kernelspec": {
   "display_name": "Python 3",
   "language": "python",
   "name": "python3"
  },
  "language_info": {
   "codemirror_mode": {
    "name": "ipython",
    "version": 3
   },
   "file_extension": ".py",
   "mimetype": "text/x-python",
   "name": "python",
   "nbconvert_exporter": "python",
   "pygments_lexer": "ipython3",
   "version": "3.6.2"
  },
  "toc": {
   "colors": {
    "hover_highlight": "#DAA520",
    "navigate_num": "#000000",
    "navigate_text": "#333333",
    "running_highlight": "#FF0000",
    "selected_highlight": "#FFD700",
    "sidebar_border": "#EEEEEE",
    "wrapper_background": "#FFFFFF"
   },
   "moveMenuLeft": false,
   "nav_menu": {
    "height": "120px",
    "width": "252px"
   },
   "navigate_menu": true,
   "number_sections": false,
   "sideBar": false,
   "threshold": "3",
   "toc_cell": false,
   "toc_section_display": "block",
   "toc_window_display": false,
   "widenNotebook": false
  }
 },
 "nbformat": 4,
 "nbformat_minor": 2
}
