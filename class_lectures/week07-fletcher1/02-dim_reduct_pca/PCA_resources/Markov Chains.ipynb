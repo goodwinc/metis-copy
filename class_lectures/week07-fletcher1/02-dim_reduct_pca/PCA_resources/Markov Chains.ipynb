{
 "cells": [
  {
   "cell_type": "markdown",
   "metadata": {
    "slideshow": {
     "slide_type": "slide"
    }
   },
   "source": [
    "# Markov Chains, Page Rank and Eigenthings"
   ]
  },
  {
   "cell_type": "markdown",
   "metadata": {
    "slideshow": {
     "slide_type": "slide"
    }
   },
   "source": [
    "A markov chain is for modeling systems that are\n",
    "* Random\n",
    "* Memoryless\n"
   ]
  },
  {
   "cell_type": "markdown",
   "metadata": {
    "slideshow": {
     "slide_type": "slide"
    }
   },
   "source": [
    "Examples of systems that can be modelled with Markov Chains\n",
    "* Traffic Flows\n",
    "* Boardgames\n",
    "* Protein Conformations\n",
    "* Internet traffic\n",
    "* Stock Market\n",
    "* trust networks\n",
    "* job transitions\n",
    "* liquid democracy"
   ]
  },
  {
   "cell_type": "code",
   "execution_count": 5,
   "metadata": {
    "collapsed": false,
    "slideshow": {
     "slide_type": "slide"
    }
   },
   "outputs": [
    {
     "data": {
      "text/html": [
       "<iframe src=http://setosa.io/markov/index.html#%7B%22tm%22%3A%5B%5B0.1%2C0.9%5D%2C%5B0.5%2C0.5%5D%5D%7D width=700 height=350></iframe>"
      ],
      "text/plain": [
       "<IPython.core.display.HTML object>"
      ]
     },
     "execution_count": 5,
     "metadata": {},
     "output_type": "execute_result"
    }
   ],
   "source": [
    "import IPython\n",
    "iframe = '<iframe src=http://setosa.io/markov/index.html#%7B%22tm%22%3A%5B%5B0.1%2C0.9%5D%2C%5B0.5%2C0.5%5D%5D%7D width=700 height=350></iframe>'\n",
    "IPython.display.HTML(iframe)"
   ]
  },
  {
   "cell_type": "code",
   "execution_count": 6,
   "metadata": {
    "collapsed": false,
    "slideshow": {
     "slide_type": "slide"
    }
   },
   "outputs": [
    {
     "data": {
      "text/html": [
       "<iframe src=http://setosa.io/markov/index.html#%7B%22tm%22%3A%5B%5B0.1%2C0.8%2C0.1%5D%2C%5B0.5%2C0%2C0.5%5D%2C%5B0.6%2C0.2%2C0.2%5D%5D%7D width=700 height=350></iframe>"
      ],
      "text/plain": [
       "<IPython.core.display.HTML object>"
      ]
     },
     "execution_count": 6,
     "metadata": {},
     "output_type": "execute_result"
    }
   ],
   "source": [
    "iframe = '<iframe src=http://setosa.io/markov/index.html#%7B%22tm%22%3A%5B%5B0.1%2C0.8%2C0.1%5D%2C%5B0.5%2C0%2C0.5%5D%2C%5B0.6%2C0.2%2C0.2%5D%5D%7D width=700 height=350></iframe>'\n",
    "IPython.display.HTML(iframe)\n"
   ]
  },
  {
   "cell_type": "markdown",
   "metadata": {
    "slideshow": {
     "slide_type": "slide"
    }
   },
   "source": [
    "Markov Chains can be represented as matrices\n",
    "\n",
    "We just need to make a transition matrix\n",
    "$$\\begin{bmatrix}.4 & .5\\\\.6 & .5\\end{bmatrix}$$"
   ]
  },
  {
   "cell_type": "markdown",
   "metadata": {
    "slideshow": {
     "slide_type": "slide"
    }
   },
   "source": [
    "each column needs to sum to 1 because they are probabilities\n",
    "$$\\begin{bmatrix}.4 & .5\\\\.6 & .5\\end{bmatrix} \\begin{bmatrix}1\\\\0\\end{bmatrix} = \\begin{bmatrix}.4\\\\.6\\end{bmatrix}$$\n",
    "\n",
    "or each row needs to sum to 1 and we premultiply\n",
    "$$\\begin{bmatrix}1\\\\0\\end{bmatrix} \\begin{bmatrix}.4 & .6\\\\.5 & .5\\end{bmatrix}  = \\begin{bmatrix}.4\\\\.6\\end{bmatrix}$$\n",
    "\n",
    "Choice is arbitrary, just be consistant"
   ]
  },
  {
   "cell_type": "markdown",
   "metadata": {
    "slideshow": {
     "slide_type": "slide"
    }
   },
   "source": [
    "once we have defined a transition matrix, we can figure out the probability we will be in each state in **one** step\n",
    "$$\\begin{bmatrix}.4 & .5\\\\.6 & .5\\end{bmatrix} \\begin{bmatrix}1\\\\0\\end{bmatrix} = \\begin{bmatrix}.4\\\\.6\\end{bmatrix}$$"
   ]
  },
  {
   "cell_type": "code",
   "execution_count": 81,
   "metadata": {
    "collapsed": false,
    "slideshow": {
     "slide_type": "fragment"
    }
   },
   "outputs": [
    {
     "data": {
      "text/plain": [
       "array([[ 0.4],\n",
       "       [ 0.6]])"
      ]
     },
     "execution_count": 81,
     "metadata": {},
     "output_type": "execute_result"
    }
   ],
   "source": [
    "import numpy as np\n",
    "P = [[.4, .5], \n",
    "     [.6, .5]]\n",
    "a = [[1], [0]]\n",
    "\n",
    "np.dot(P, a)\n"
   ]
  },
  {
   "cell_type": "markdown",
   "metadata": {
    "slideshow": {
     "slide_type": "fragment"
    }
   },
   "source": [
    "in two steps\n",
    "\n",
    "$$\\begin{bmatrix}.4 & .5\\\\.6 & .5\\end{bmatrix} \\begin{bmatrix}.4 & .5\\\\.6 & .5\\end{bmatrix} \\begin{bmatrix}1\\\\0\\end{bmatrix} = \\begin{bmatrix}.46\\\\.54\\end{bmatrix}$$"
   ]
  },
  {
   "cell_type": "code",
   "execution_count": 82,
   "metadata": {
    "collapsed": false,
    "slideshow": {
     "slide_type": "fragment"
    }
   },
   "outputs": [
    {
     "data": {
      "text/plain": [
       "array([[ 0.46],\n",
       "       [ 0.54]])"
      ]
     },
     "execution_count": 82,
     "metadata": {},
     "output_type": "execute_result"
    }
   ],
   "source": [
    "np.dot(np.dot(P, P),a)"
   ]
  },
  {
   "cell_type": "code",
   "execution_count": 83,
   "metadata": {
    "collapsed": false,
    "slideshow": {
     "slide_type": "slide"
    }
   },
   "outputs": [
    {
     "name": "stdout",
     "output_type": "stream",
     "text": [
      "probability of each state after 3 transitions: \n",
      "[[ 0.454]\n",
      " [ 0.546]]\n"
     ]
    }
   ],
   "source": [
    "def markov_process(n,P,x):\n",
    "    a = np.identity(len(P))\n",
    "    for i in range(n):\n",
    "        a = np.dot(P,a)\n",
    "    print(\"probability of each state after {} transitions: \".format(n))\n",
    "    print(np.dot(a,x))\n",
    "\n",
    "markov_process(3,P,a)"
   ]
  },
  {
   "cell_type": "code",
   "execution_count": 84,
   "metadata": {
    "collapsed": false,
    "slideshow": {
     "slide_type": "slide"
    }
   },
   "outputs": [
    {
     "name": "stdout",
     "output_type": "stream",
     "text": [
      "probability of each state after 4 transitions: \n",
      "[[ 0.4546]\n",
      " [ 0.5454]]\n"
     ]
    }
   ],
   "source": [
    "markov_process(4,P,a)"
   ]
  },
  {
   "cell_type": "code",
   "execution_count": 85,
   "metadata": {
    "collapsed": false,
    "slideshow": {
     "slide_type": "slide"
    }
   },
   "outputs": [
    {
     "name": "stdout",
     "output_type": "stream",
     "text": [
      "probability of each state after 10 transitions: \n",
      "[[ 0.45454545]\n",
      " [ 0.54545455]]\n"
     ]
    }
   ],
   "source": [
    "markov_process(10,P,a)"
   ]
  },
  {
   "cell_type": "code",
   "execution_count": 86,
   "metadata": {
    "collapsed": false,
    "slideshow": {
     "slide_type": "slide"
    }
   },
   "outputs": [
    {
     "name": "stdout",
     "output_type": "stream",
     "text": [
      "probability of each state after 100 transitions: \n",
      "[[ 0.45454545]\n",
      " [ 0.54545455]]\n"
     ]
    }
   ],
   "source": [
    "markov_process(100,P,a)"
   ]
  },
  {
   "cell_type": "markdown",
   "metadata": {
    "slideshow": {
     "slide_type": "slide"
    }
   },
   "source": [
    "What is going on?\n",
    "The probability is not changing"
   ]
  },
  {
   "cell_type": "markdown",
   "metadata": {
    "slideshow": {
     "slide_type": "slide"
    }
   },
   "source": [
    "* We have converged on a steady state.\n",
    "\n",
    "* This is an example of a markov chain with a stationary distrubution. \n",
    "\n",
    "* Most markov chains have a steady state as $n \\to \\infty $\n",
    "\n",
    "* some don't ..."
   ]
  },
  {
   "cell_type": "markdown",
   "metadata": {
    "slideshow": {
     "slide_type": "slide"
    }
   },
   "source": [
    "## Periodic Markov Chains"
   ]
  },
  {
   "cell_type": "code",
   "execution_count": 87,
   "metadata": {
    "collapsed": false,
    "slideshow": {
     "slide_type": "slide"
    }
   },
   "outputs": [
    {
     "name": "stdout",
     "output_type": "stream",
     "text": [
      "probability of each state after 3 transitions: \n",
      "[[ 0.]\n",
      " [ 1.]]\n"
     ]
    }
   ],
   "source": [
    "P = [[0, 1], \n",
    "     [1, 0]]\n",
    "a = [[1], [0]]\n",
    "\n",
    "markov_process(3,P,a)"
   ]
  },
  {
   "cell_type": "code",
   "execution_count": 88,
   "metadata": {
    "collapsed": false,
    "slideshow": {
     "slide_type": "slide"
    }
   },
   "outputs": [
    {
     "name": "stdout",
     "output_type": "stream",
     "text": [
      "probability of each state after 4 transitions: \n",
      "[[ 1.]\n",
      " [ 0.]]\n"
     ]
    }
   ],
   "source": [
    "markov_process(4,P,a)"
   ]
  },
  {
   "cell_type": "code",
   "execution_count": 89,
   "metadata": {
    "collapsed": false,
    "slideshow": {
     "slide_type": "slide"
    }
   },
   "outputs": [
    {
     "name": "stdout",
     "output_type": "stream",
     "text": [
      "probability of each state after 5 transitions: \n",
      "[[ 0.]\n",
      " [ 1.]]\n"
     ]
    }
   ],
   "source": [
    "markov_process(5,P,a)"
   ]
  },
  {
   "cell_type": "code",
   "execution_count": 90,
   "metadata": {
    "collapsed": false,
    "slideshow": {
     "slide_type": "slide"
    }
   },
   "outputs": [
    {
     "name": "stdout",
     "output_type": "stream",
     "text": [
      "probability of each state after 1000 transitions: \n",
      "[[ 1.]\n",
      " [ 0.]]\n"
     ]
    }
   ],
   "source": [
    "markov_process(1000,P,a)"
   ]
  },
  {
   "cell_type": "code",
   "execution_count": 91,
   "metadata": {
    "collapsed": false,
    "slideshow": {
     "slide_type": "slide"
    }
   },
   "outputs": [
    {
     "name": "stdout",
     "output_type": "stream",
     "text": [
      "probability of each state after 1001 transitions: \n",
      "[[ 0.]\n",
      " [ 1.]]\n"
     ]
    }
   ],
   "source": [
    "markov_process(1001,P,a)"
   ]
  },
  {
   "cell_type": "markdown",
   "metadata": {
    "slideshow": {
     "slide_type": "slide"
    }
   },
   "source": [
    "Not converging, but has a periodic distrubution"
   ]
  },
  {
   "cell_type": "code",
   "execution_count": 92,
   "metadata": {
    "collapsed": false,
    "scrolled": true,
    "slideshow": {
     "slide_type": "slide"
    }
   },
   "outputs": [
    {
     "data": {
      "text/html": [
       "<iframe src=http://setosa.io/markov/index.html#%7B%22tm%22%3A%5B%5B0%2C1%5D%2C%5B1%2C0%5D%5D%7D width=700 height=350></iframe>"
      ],
      "text/plain": [
       "<IPython.core.display.HTML object>"
      ]
     },
     "execution_count": 92,
     "metadata": {},
     "output_type": "execute_result"
    }
   ],
   "source": [
    "iframe = '<iframe src=http://setosa.io/markov/index.html#%7B%22tm%22%3A%5B%5B0%2C1%5D%2C%5B1%2C0%5D%5D%7D width=700 height=350></iframe>'\n",
    "IPython.display.HTML(iframe)"
   ]
  },
  {
   "cell_type": "markdown",
   "metadata": {
    "slideshow": {
     "slide_type": "slide"
    }
   },
   "source": [
    "### What happens if you just tweak the periodic markov chain a tiny bit?"
   ]
  },
  {
   "cell_type": "code",
   "execution_count": 93,
   "metadata": {
    "collapsed": false,
    "slideshow": {
     "slide_type": "slide"
    }
   },
   "outputs": [
    {
     "name": "stdout",
     "output_type": "stream",
     "text": [
      "probability of each state after 3 transitions: \n",
      "[[ 0.002994]\n",
      " [ 0.997006]]\n"
     ]
    }
   ],
   "source": [
    "P = [[.001, .999], \n",
    "     [.999, .001]]\n",
    "a = [[1], [0]]\n",
    "\n",
    "markov_process(3,P,a)"
   ]
  },
  {
   "cell_type": "code",
   "execution_count": 94,
   "metadata": {
    "collapsed": false,
    "slideshow": {
     "slide_type": "slide"
    }
   },
   "outputs": [
    {
     "name": "stdout",
     "output_type": "stream",
     "text": [
      "probability of each state after 4 transitions: \n",
      "[[ 0.99601198]\n",
      " [ 0.00398802]]\n"
     ]
    }
   ],
   "source": [
    "markov_process(4,P,a)"
   ]
  },
  {
   "cell_type": "code",
   "execution_count": 95,
   "metadata": {
    "collapsed": false,
    "slideshow": {
     "slide_type": "slide"
    }
   },
   "outputs": [
    {
     "name": "stdout",
     "output_type": "stream",
     "text": [
      "probability of each state after 5 transitions: \n",
      "[[ 0.00498004]\n",
      " [ 0.99501996]]\n"
     ]
    }
   ],
   "source": [
    "markov_process(5,P,a)"
   ]
  },
  {
   "cell_type": "code",
   "execution_count": 96,
   "metadata": {
    "collapsed": false,
    "slideshow": {
     "slide_type": "slide"
    }
   },
   "outputs": [
    {
     "name": "stdout",
     "output_type": "stream",
     "text": [
      "probability of each state after 10 transitions: \n",
      "[[ 0.99008952]\n",
      " [ 0.00991048]]\n"
     ]
    }
   ],
   "source": [
    "markov_process(10,P,a)"
   ]
  },
  {
   "cell_type": "code",
   "execution_count": 97,
   "metadata": {
    "collapsed": false,
    "slideshow": {
     "slide_type": "slide"
    }
   },
   "outputs": [
    {
     "name": "stdout",
     "output_type": "stream",
     "text": [
      "probability of each state after 100 transitions: \n",
      "[[ 0.9092834]\n",
      " [ 0.0907166]]\n"
     ]
    }
   ],
   "source": [
    "markov_process(100,P,a)"
   ]
  },
  {
   "cell_type": "code",
   "execution_count": 98,
   "metadata": {
    "collapsed": false,
    "slideshow": {
     "slide_type": "slide"
    }
   },
   "outputs": [
    {
     "name": "stdout",
     "output_type": "stream",
     "text": [
      "probability of each state after 1000 transitions: \n",
      "[[ 0.56753226]\n",
      " [ 0.43246774]]\n"
     ]
    }
   ],
   "source": [
    "markov_process(1000,P,a)"
   ]
  },
  {
   "cell_type": "markdown",
   "metadata": {
    "slideshow": {
     "slide_type": "slide"
    }
   },
   "source": [
    "# Absorbing Markov Chain"
   ]
  },
  {
   "cell_type": "code",
   "execution_count": 101,
   "metadata": {
    "collapsed": false,
    "slideshow": {
     "slide_type": "slide"
    }
   },
   "outputs": [
    {
     "data": {
      "text/html": [
       "<iframe src=http://setosa.io/markov/index.html#%7B%22tm%22%3A%5B%5B0.2%2C0.8%2C0%2C0%5D%2C%5B0.2%2C0.6%2C0.2%2C0%5D%2C%5B0%2C0.1%2C0.8%2C0.1%5D%2C%5B0%2C0%2C0%2C1%5D%5D%7D width=700 height=350></iframe>"
      ],
      "text/plain": [
       "<IPython.core.display.HTML object>"
      ]
     },
     "execution_count": 101,
     "metadata": {},
     "output_type": "execute_result"
    }
   ],
   "source": [
    "\n",
    "iframe = '<iframe src=http://setosa.io/markov/index.html#%7B%22tm%22%3A%5B%5B0.2%2C0.8%2C0%2C0%5D%2C%5B0.2%2C0.6%2C0.2%2C0%5D%2C%5B0%2C0.1%2C0.8%2C0.1%5D%2C%5B0%2C0%2C0%2C1%5D%5D%7D width=700 height=350></iframe>'\n",
    "IPython.display.HTML(iframe)"
   ]
  },
  {
   "cell_type": "code",
   "execution_count": 102,
   "metadata": {
    "collapsed": false,
    "slideshow": {
     "slide_type": "slide"
    }
   },
   "outputs": [
    {
     "name": "stdout",
     "output_type": "stream",
     "text": [
      "probability of each state after 3 transitions: \n",
      "[[ 0.168]\n",
      " [ 0.56 ]\n",
      " [ 0.256]\n",
      " [ 0.016]]\n"
     ]
    }
   ],
   "source": [
    "P = [[0.2,0.2,  0,0],\n",
    "    [0.8 ,0.6,0.1,0],\n",
    "    [0   ,0.2,0.8,0],\n",
    "    [0   ,0  ,0.1,1]]\n",
    "\n",
    "a = [[1],[0],[0],[0]]\n",
    "\n",
    "markov_process(3,P,a)"
   ]
  },
  {
   "cell_type": "code",
   "execution_count": 103,
   "metadata": {
    "collapsed": false,
    "slideshow": {
     "slide_type": "slide"
    }
   },
   "outputs": [
    {
     "name": "stdout",
     "output_type": "stream",
     "text": [
      "probability of each state after 10 transitions: \n",
      "[[ 0.08168589]\n",
      " [ 0.29968215]\n",
      " [ 0.36042186]\n",
      " [ 0.2582101 ]]\n"
     ]
    }
   ],
   "source": [
    "markov_process(10,P,a)"
   ]
  },
  {
   "cell_type": "code",
   "execution_count": 104,
   "metadata": {
    "collapsed": false,
    "slideshow": {
     "slide_type": "slide"
    }
   },
   "outputs": [
    {
     "name": "stdout",
     "output_type": "stream",
     "text": [
      "probability of each state after 100 transitions: \n",
      "[[  6.56531547e-04]\n",
      " [  2.45698097e-03]\n",
      " [  3.30966508e-03]\n",
      " [  9.93576822e-01]]\n"
     ]
    }
   ],
   "source": [
    "markov_process(100,P,a)"
   ]
  },
  {
   "cell_type": "markdown",
   "metadata": {
    "slideshow": {
     "slide_type": "slide"
    }
   },
   "source": [
    "Eventually everything ends up stuck in a final state\n",
    "\n",
    "* like the 'win' state in a boardgame"
   ]
  },
  {
   "cell_type": "markdown",
   "metadata": {
    "slideshow": {
     "slide_type": "slide"
    }
   },
   "source": [
    "## Solving for the state at $\\infty$\n",
    "\n",
    "We have seen that we can approximate a solution for some networks that quickly converge.\n",
    "\n",
    "But how do we actually find the state at infinite time?"
   ]
  },
  {
   "cell_type": "markdown",
   "metadata": {
    "slideshow": {
     "slide_type": "slide"
    }
   },
   "source": [
    "We want to find an $\\bar x$, such that after applying our transform $P$ $\\bar x$ remains the same\n",
    "\n",
    "$$P \\bar x = \\bar x$$"
   ]
  },
  {
   "cell_type": "markdown",
   "metadata": {
    "slideshow": {
     "slide_type": "slide"
    }
   },
   "source": [
    "This is a special case of the Eigen Vector equation\n",
    "$$P \\bar x = \\lambda \\bar x$$\n",
    "$$P \\bar x = \\lambda I\\bar x$$\n",
    "where $I=\\begin{bmatrix}1 & 0\\\\0 & 1\\end{bmatrix}$\n",
    "$$P \\bar x - \\lambda I\\bar x = \\bar 0$$\n",
    "$$(P - \\lambda I)\\bar x = \\bar 0$$\n"
   ]
  },
  {
   "cell_type": "markdown",
   "metadata": {
    "slideshow": {
     "slide_type": "slide"
    }
   },
   "source": [
    "$$Det(P−λI) = 0$$"
   ]
  },
  {
   "cell_type": "markdown",
   "metadata": {
    "slideshow": {
     "slide_type": "slide"
    }
   },
   "source": [
    "## example time"
   ]
  },
  {
   "cell_type": "markdown",
   "metadata": {},
   "source": [
    "$\\lambda = 1$\n",
    "for all non periodic transistion matrices!\n",
    "\n",
    "So $$P \\bar x = \\bar x$$ will always have a solution!"
   ]
  },
  {
   "cell_type": "code",
   "execution_count": null,
   "metadata": {
    "collapsed": true
   },
   "outputs": [],
   "source": []
  }
 ],
 "metadata": {
  "anaconda-cloud": {},
  "celltoolbar": "Slideshow",
  "kernelspec": {
   "display_name": "Python [default]",
   "language": "python",
   "name": "python3"
  },
  "language_info": {
   "codemirror_mode": {
    "name": "ipython",
    "version": 3
   },
   "file_extension": ".py",
   "mimetype": "text/x-python",
   "name": "python",
   "nbconvert_exporter": "python",
   "pygments_lexer": "ipython3",
   "version": "3.5.2"
  }
 },
 "nbformat": 4,
 "nbformat_minor": 2
}
