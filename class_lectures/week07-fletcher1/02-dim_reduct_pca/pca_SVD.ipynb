{
 "cells": [
  {
   "cell_type": "markdown",
   "metadata": {},
   "source": [
    "# PCA and SVD\n"
   ]
  },
  {
   "cell_type": "code",
   "execution_count": 26,
   "metadata": {
    "collapsed": true
   },
   "outputs": [],
   "source": [
    "import numpy as np\n",
    "import matplotlib.pyplot as plt\n",
    "import pandas as pd\n",
    "%matplotlib inline"
   ]
  },
  {
   "cell_type": "code",
   "execution_count": 27,
   "metadata": {},
   "outputs": [
    {
     "data": {
      "image/png": "[encoded data removed]",
      "text/plain": [
       "<matplotlib.figure.Figure at 0x11c2a2f28>"
      ]
     },
     "metadata": {},
     "output_type": "display_data"
    }
   ],
   "source": [
    "from sklearn import datasets\n",
    "iris = datasets.load_iris()\n",
    "\n",
    "X=pd.DataFrame(iris.data,columns=iris.feature_names)\n",
    "y=iris.target\n",
    "\n",
    "X.plot(0,2,kind='scatter');"
   ]
  },
  {
   "cell_type": "code",
   "execution_count": 3,
   "metadata": {},
   "outputs": [
    {
     "data": {
      "text/html": [
       "<div>\n",
       "<style>\n",
       "    .dataframe thead tr:only-child th {\n",
       "        text-align: right;\n",
       "    }\n",
       "\n",
       "    .dataframe thead th {\n",
       "        text-align: left;\n",
       "    }\n",
       "\n",
       "    .dataframe tbody tr th {\n",
       "        vertical-align: top;\n",
       "    }\n",
       "</style>\n",
       "<table border=\"1\" class=\"dataframe\">\n",
       "  <thead>\n",
       "    <tr style=\"text-align: right;\">\n",
       "      <th></th>\n",
       "      <th>sepal length (cm)</th>\n",
       "      <th>sepal width (cm)</th>\n",
       "      <th>petal length (cm)</th>\n",
       "      <th>petal width (cm)</th>\n",
       "    </tr>\n",
       "  </thead>\n",
       "  <tbody>\n",
       "    <tr>\n",
       "      <th>count</th>\n",
       "      <td>150.000000</td>\n",
       "      <td>150.000000</td>\n",
       "      <td>150.000000</td>\n",
       "      <td>150.000000</td>\n",
       "    </tr>\n",
       "    <tr>\n",
       "      <th>mean</th>\n",
       "      <td>5.843333</td>\n",
       "      <td>3.054000</td>\n",
       "      <td>3.758667</td>\n",
       "      <td>1.198667</td>\n",
       "    </tr>\n",
       "    <tr>\n",
       "      <th>std</th>\n",
       "      <td>0.828066</td>\n",
       "      <td>0.433594</td>\n",
       "      <td>1.764420</td>\n",
       "      <td>0.763161</td>\n",
       "    </tr>\n",
       "    <tr>\n",
       "      <th>min</th>\n",
       "      <td>4.300000</td>\n",
       "      <td>2.000000</td>\n",
       "      <td>1.000000</td>\n",
       "      <td>0.100000</td>\n",
       "    </tr>\n",
       "    <tr>\n",
       "      <th>25%</th>\n",
       "      <td>5.100000</td>\n",
       "      <td>2.800000</td>\n",
       "      <td>1.600000</td>\n",
       "      <td>0.300000</td>\n",
       "    </tr>\n",
       "    <tr>\n",
       "      <th>50%</th>\n",
       "      <td>5.800000</td>\n",
       "      <td>3.000000</td>\n",
       "      <td>4.350000</td>\n",
       "      <td>1.300000</td>\n",
       "    </tr>\n",
       "    <tr>\n",
       "      <th>75%</th>\n",
       "      <td>6.400000</td>\n",
       "      <td>3.300000</td>\n",
       "      <td>5.100000</td>\n",
       "      <td>1.800000</td>\n",
       "    </tr>\n",
       "    <tr>\n",
       "      <th>max</th>\n",
       "      <td>7.900000</td>\n",
       "      <td>4.400000</td>\n",
       "      <td>6.900000</td>\n",
       "      <td>2.500000</td>\n",
       "    </tr>\n",
       "  </tbody>\n",
       "</table>\n",
       "</div>"
      ],
      "text/plain": [
       "       sepal length (cm)  sepal width (cm)  petal length (cm)  \\\n",
       "count         150.000000        150.000000         150.000000   \n",
       "mean            5.843333          3.054000           3.758667   \n",
       "std             0.828066          0.433594           1.764420   \n",
       "min             4.300000          2.000000           1.000000   \n",
       "25%             5.100000          2.800000           1.600000   \n",
       "50%             5.800000          3.000000           4.350000   \n",
       "75%             6.400000          3.300000           5.100000   \n",
       "max             7.900000          4.400000           6.900000   \n",
       "\n",
       "       petal width (cm)  \n",
       "count        150.000000  \n",
       "mean           1.198667  \n",
       "std            0.763161  \n",
       "min            0.100000  \n",
       "25%            0.300000  \n",
       "50%            1.300000  \n",
       "75%            1.800000  \n",
       "max            2.500000  "
      ]
     },
     "execution_count": 3,
     "metadata": {},
     "output_type": "execute_result"
    }
   ],
   "source": [
    "X.describe()"
   ]
  },
  {
   "cell_type": "markdown",
   "metadata": {},
   "source": [
    "**The goal** : \n",
    "\n",
    "To determine the best line where variation is maximal.   \n",
    "This will be our principal axis.  \n",
    "\n",
    "**Here are the steps: **"
   ]
  },
  {
   "cell_type": "markdown",
   "metadata": {},
   "source": [
    "1)\n",
    "Let data matrix X be of n x p size, where n is the number of samples\n",
    "and p is the number of variables.  Let us assume that it is centered,\n",
    "i.e. **column means have been substracted.** "
   ]
  },
  {
   "cell_type": "code",
   "execution_count": 28,
   "metadata": {
    "collapsed": true
   },
   "outputs": [],
   "source": [
    "# for now lets just keep two dimensions: \n",
    "X=X.iloc[:,[0,2]]"
   ]
  },
  {
   "cell_type": "code",
   "execution_count": 29,
   "metadata": {
    "collapsed": true
   },
   "outputs": [],
   "source": [
    "#1)  Center the Data\n",
    "mu=X.mean(axis=0)\n",
    "\n",
    "X_centered=X-mu  "
   ]
  },
  {
   "cell_type": "markdown",
   "metadata": {},
   "source": [
    "2) Then the **pxp covariance matrix C** is given by:\n",
    "**$C=X^tX$  **    \n"
   ]
  },
  {
   "cell_type": "code",
   "execution_count": 30,
   "metadata": {},
   "outputs": [
    {
     "data": {
      "text/plain": [
       "array([[ 102.16833333,  189.77866667],\n",
       "       [ 189.77866667,  463.86373333]])"
      ]
     },
     "execution_count": 30,
     "metadata": {},
     "output_type": "execute_result"
    }
   ],
   "source": [
    "#2) Create the covariance Matrix:\n",
    "\n",
    "C=np.dot(X_centered.T,X_centered)\n",
    "C\n"
   ]
  },
  {
   "cell_type": "markdown",
   "metadata": {},
   "source": [
    "**Features of the covariance matrix: **   \n",
    "a) The diagonal terms provide us with variance measurements of the matrix        \n",
    "b) The off-diagonal terms provide covariance measurements    "
   ]
  },
  {
   "cell_type": "markdown",
   "metadata": {},
   "source": [
    "\n"
   ]
  },
  {
   "cell_type": "markdown",
   "metadata": {},
   "source": [
    "Covariance matrix C is a symmetric matrix and it can be **diagonalized** by:  **$C=VLV^t$ **  (Eqn 1) \n",
    "\n",
    "Where **V**:  is a matrix of eigenvectors    \n",
    "and **L**: is a diagonal matrix with eigenvalues $\\lambda_i$\n",
    "\n",
    "The eigenvectors are called **principal axes** of the data\n",
    "\n",
    "CV=LV   \n",
    "(where $L = \\lambda*I) $\n",
    "\n",
    "The idea is : [matrix diagonalization](http://mathworld.wolfram.com/MatrixDiagonalization.html)\n",
    "\n",
    "*Note 1*: An optimal covariance matrix is one where all off-diagonal terms are zero.\n",
    "\n",
    "*Note 2*: Diagonization provides us with a **change of basis!**\n",
    "\n",
    " "
   ]
  },
  {
   "cell_type": "markdown",
   "metadata": {},
   "source": [
    "3) **Calculate Eigenvalues: **\n",
    "\n",
    "$det(C-\\lambda*I)=0  $ \n",
    "  \n",
    "\n",
    "$(102.16-\\lambda)(463.86-\\lambda)-(189.78)^2 =0$\n",
    "\n",
    "\n",
    "[determinants can be used to solve sys. of equations](https://en.wikipedia.org/wiki/Determinant)"
   ]
  },
  {
   "cell_type": "code",
   "execution_count": 7,
   "metadata": {
    "scrolled": true
   },
   "outputs": [
    {
     "name": "stdout",
     "output_type": "stream",
     "text": [
      "544.10917257\n",
      "21.8908274304\n",
      "\n",
      "\n",
      "Total variance\n",
      "565.99\n"
     ]
    }
   ],
   "source": [
    "# calculate eigenvalues, use quadratic formula! \n",
    "print(283+np.sqrt(68178))\n",
    "print(283-np.sqrt(68178))\n",
    "\n",
    "print('\\n')\n",
    "print('Total variance')\n",
    "print(544.10 + 21.89)"
   ]
  },
  {
   "cell_type": "code",
   "execution_count": 8,
   "metadata": {},
   "outputs": [
    {
     "data": {
      "text/plain": [
       "566.03206666"
      ]
     },
     "execution_count": 8,
     "metadata": {},
     "output_type": "execute_result"
    }
   ],
   "source": [
    "# sanity check: adding up variance from X1, X2\n",
    "102.16833333+463.86373333\n",
    "\n",
    "# Wow! \n",
    "# The sum of the squares of the singular values should be equal to the \n",
    "# total variance in X"
   ]
  },
  {
   "cell_type": "code",
   "execution_count": null,
   "metadata": {
    "collapsed": true
   },
   "outputs": [],
   "source": [
    "#4 ) Calculate Eigenvectors: \n",
    "\n",
    "Solve: CV=LV "
   ]
  },
  {
   "cell_type": "markdown",
   "metadata": {},
   "source": [
    "\n",
    "\n",
    "\n",
    "\n",
    "\n",
    "\n",
    "\n",
    "\n",
    "\n",
    "\n",
    "\n",
    "\n",
    "<img src=\"img_data/IMG_1445.JPG\", width=800, style=\"transform: rotate(90deg)\">"
   ]
  },
  {
   "cell_type": "code",
   "execution_count": 9,
   "metadata": {},
   "outputs": [
    {
     "data": {
      "text/plain": [
       "array([  20.86753931,  545.16452735])"
      ]
     },
     "execution_count": 9,
     "metadata": {},
     "output_type": "execute_result"
    }
   ],
   "source": [
    "# Lets do the same thing with numpy: \n",
    "\n",
    "eig_vals, V = np.linalg.eig(C)\n",
    "eig_vals\n",
    "# Pretty close! "
   ]
  },
  {
   "cell_type": "code",
   "execution_count": 10,
   "metadata": {},
   "outputs": [
    {
     "data": {
      "text/plain": [
       "array([[-0.91920275, -0.39378459],\n",
       "       [ 0.39378459, -0.91920275]])"
      ]
     },
     "execution_count": 10,
     "metadata": {},
     "output_type": "execute_result"
    }
   ],
   "source": [
    "# A look at our Eigenvectors\n",
    "V"
   ]
  },
  {
   "cell_type": "code",
   "execution_count": 11,
   "metadata": {},
   "outputs": [
    {
     "data": {
      "text/plain": [
       "array([[-0.39378459, -0.91920275],\n",
       "       [-0.91920275,  0.39378459]])"
      ]
     },
     "execution_count": 11,
     "metadata": {},
     "output_type": "execute_result"
    }
   ],
   "source": [
    "ordered = sorted(zip(eig_vals, V.T), reverse=True)\n",
    "eig_vals = np.array([_[0] for _ in ordered])\n",
    "V = np.column_stack((_[1] for _ in ordered))\n",
    "V"
   ]
  },
  {
   "cell_type": "code",
   "execution_count": 12,
   "metadata": {},
   "outputs": [
    {
     "data": {
      "text/plain": [
       "array([[-0.39378459, -0.91920275]])"
      ]
     },
     "execution_count": 12,
     "metadata": {},
     "output_type": "execute_result"
    }
   ],
   "source": [
    "V[:, 0].reshape(2, 1).T"
   ]
  },
  {
   "cell_type": "code",
   "execution_count": 13,
   "metadata": {},
   "outputs": [
    {
     "data": {
      "text/plain": [
       "(150, 2)"
      ]
     },
     "execution_count": 13,
     "metadata": {},
     "output_type": "execute_result"
    }
   ],
   "source": [
    "X_centered.shape"
   ]
  },
  {
   "cell_type": "code",
   "execution_count": 25,
   "metadata": {},
   "outputs": [],
   "source": [
    "X_transformed = np.dot(V[:, 0], X_centered.T)\n",
    "#X_transformed.shape"
   ]
  },
  {
   "cell_type": "code",
   "execution_count": 23,
   "metadata": {},
   "outputs": [
    {
     "data": {
      "text/plain": [
       "<matplotlib.collections.PathCollection at 0x11c275ac8>"
      ]
     },
     "execution_count": 23,
     "metadata": {},
     "output_type": "execute_result"
    },
    {
     "data": {
      "image/png": "[encoded data removed]",
      "text/plain": [
       "<matplotlib.figure.Figure at 0x11b8fa5c0>"
      ]
     },
     "metadata": {},
     "output_type": "display_data"
    }
   ],
   "source": [
    "X_reconstituted = np.dot(X_transformed.reshape(150, 1),\n",
    "                         V[:, 0].reshape(1, 2))\n",
    "\n",
    "plt.scatter(X_centered['sepal length (cm)'],X_centered['petal length (cm)']);\n",
    "plt.scatter(X_reconstituted[:, 0], X_reconstituted[:, 1], c='r')"
   ]
  },
  {
   "cell_type": "markdown",
   "metadata": {},
   "source": [
    "### SVD\n",
    "\n",
    "We have data in $X$.\n",
    "\n",
    "The singular value decomposition of $X$ is:\n",
    "\n",
    "$ X = U \\Sigma V^T$\n",
    "\n",
    "U: nxn   \n",
    "S : nxp     \n",
    "V: pxp \n",
    "\n",
    "U & V are orthogonal s.t. :  \n",
    "$U^tU = I$    \n",
    "[orthogonal matrix ex](https://www.youtube.com/watch?v=F6llLO84ROI)\n",
    "\n",
    "Where the columns of $U$ and $V$ are the left and right singular vectors of $X$ and the diagonal elements of $\\Sigma$ are the singular values of $X$, also the square roots of the eigenvalues of $X^TX$.\n"
   ]
  },
  {
   "cell_type": "markdown",
   "metadata": {},
   "source": [
    "** connection with PCA**: \n",
    "\n",
    "$ C = V \\Sigma U^TU \\Sigma V^T$  \n",
    "$ C = V \\Sigma^2 V^T$  (this looks familiar)\n",
    "\n",
    "The right singular vectors V are principal axes \n",
    "and singular values are related to the eigenvalues of \n",
    "covariance matrix via:  \n",
    "$\\lambda_i = s_i^2$   \n",
    "\n",
    "We can develop principal components $XV = USV^TV=US$"
   ]
  },
  {
   "cell_type": "markdown",
   "metadata": {},
   "source": [
    "### SVD APPROACH"
   ]
  },
  {
   "cell_type": "code",
   "execution_count": null,
   "metadata": {
    "collapsed": true
   },
   "outputs": [],
   "source": [
    "#Calculate EigenVectors of U:\n"
   ]
  },
  {
   "cell_type": "code",
   "execution_count": 32,
   "metadata": {
    "collapsed": true
   },
   "outputs": [],
   "source": [
    "U, singular_vals, V_T = np.linalg.svd(X_centered)\n",
    "Sigma = np.zeros((150, 2))\n",
    "Sigma[:2, :2] = np.diag(singular_vals)"
   ]
  },
  {
   "cell_type": "code",
   "execution_count": 33,
   "metadata": {},
   "outputs": [
    {
     "data": {
      "text/plain": [
       "array([[ 23.34875858,   0.        ],\n",
       "       [  0.        ,   4.56810019],\n",
       "       [  0.        ,   0.        ],\n",
       "       [  0.        ,   0.        ],\n",
       "       [  0.        ,   0.        ],\n",
       "       [  0.        ,   0.        ],\n",
       "       [  0.        ,   0.        ],\n",
       "       [  0.        ,   0.        ],\n",
       "       [  0.        ,   0.        ],\n",
       "       [  0.        ,   0.        ],\n",
       "       [  0.        ,   0.        ],\n",
       "       [  0.        ,   0.        ],\n",
       "       [  0.        ,   0.        ],\n",
       "       [  0.        ,   0.        ],\n",
       "       [  0.        ,   0.        ],\n",
       "       [  0.        ,   0.        ],\n",
       "       [  0.        ,   0.        ],\n",
       "       [  0.        ,   0.        ],\n",
       "       [  0.        ,   0.        ],\n",
       "       [  0.        ,   0.        ],\n",
       "       [  0.        ,   0.        ],\n",
       "       [  0.        ,   0.        ],\n",
       "       [  0.        ,   0.        ],\n",
       "       [  0.        ,   0.        ],\n",
       "       [  0.        ,   0.        ],\n",
       "       [  0.        ,   0.        ],\n",
       "       [  0.        ,   0.        ],\n",
       "       [  0.        ,   0.        ],\n",
       "       [  0.        ,   0.        ],\n",
       "       [  0.        ,   0.        ],\n",
       "       [  0.        ,   0.        ],\n",
       "       [  0.        ,   0.        ],\n",
       "       [  0.        ,   0.        ],\n",
       "       [  0.        ,   0.        ],\n",
       "       [  0.        ,   0.        ],\n",
       "       [  0.        ,   0.        ],\n",
       "       [  0.        ,   0.        ],\n",
       "       [  0.        ,   0.        ],\n",
       "       [  0.        ,   0.        ],\n",
       "       [  0.        ,   0.        ],\n",
       "       [  0.        ,   0.        ],\n",
       "       [  0.        ,   0.        ],\n",
       "       [  0.        ,   0.        ],\n",
       "       [  0.        ,   0.        ],\n",
       "       [  0.        ,   0.        ],\n",
       "       [  0.        ,   0.        ],\n",
       "       [  0.        ,   0.        ],\n",
       "       [  0.        ,   0.        ],\n",
       "       [  0.        ,   0.        ],\n",
       "       [  0.        ,   0.        ],\n",
       "       [  0.        ,   0.        ],\n",
       "       [  0.        ,   0.        ],\n",
       "       [  0.        ,   0.        ],\n",
       "       [  0.        ,   0.        ],\n",
       "       [  0.        ,   0.        ],\n",
       "       [  0.        ,   0.        ],\n",
       "       [  0.        ,   0.        ],\n",
       "       [  0.        ,   0.        ],\n",
       "       [  0.        ,   0.        ],\n",
       "       [  0.        ,   0.        ],\n",
       "       [  0.        ,   0.        ],\n",
       "       [  0.        ,   0.        ],\n",
       "       [  0.        ,   0.        ],\n",
       "       [  0.        ,   0.        ],\n",
       "       [  0.        ,   0.        ],\n",
       "       [  0.        ,   0.        ],\n",
       "       [  0.        ,   0.        ],\n",
       "       [  0.        ,   0.        ],\n",
       "       [  0.        ,   0.        ],\n",
       "       [  0.        ,   0.        ],\n",
       "       [  0.        ,   0.        ],\n",
       "       [  0.        ,   0.        ],\n",
       "       [  0.        ,   0.        ],\n",
       "       [  0.        ,   0.        ],\n",
       "       [  0.        ,   0.        ],\n",
       "       [  0.        ,   0.        ],\n",
       "       [  0.        ,   0.        ],\n",
       "       [  0.        ,   0.        ],\n",
       "       [  0.        ,   0.        ],\n",
       "       [  0.        ,   0.        ],\n",
       "       [  0.        ,   0.        ],\n",
       "       [  0.        ,   0.        ],\n",
       "       [  0.        ,   0.        ],\n",
       "       [  0.        ,   0.        ],\n",
       "       [  0.        ,   0.        ],\n",
       "       [  0.        ,   0.        ],\n",
       "       [  0.        ,   0.        ],\n",
       "       [  0.        ,   0.        ],\n",
       "       [  0.        ,   0.        ],\n",
       "       [  0.        ,   0.        ],\n",
       "       [  0.        ,   0.        ],\n",
       "       [  0.        ,   0.        ],\n",
       "       [  0.        ,   0.        ],\n",
       "       [  0.        ,   0.        ],\n",
       "       [  0.        ,   0.        ],\n",
       "       [  0.        ,   0.        ],\n",
       "       [  0.        ,   0.        ],\n",
       "       [  0.        ,   0.        ],\n",
       "       [  0.        ,   0.        ],\n",
       "       [  0.        ,   0.        ],\n",
       "       [  0.        ,   0.        ],\n",
       "       [  0.        ,   0.        ],\n",
       "       [  0.        ,   0.        ],\n",
       "       [  0.        ,   0.        ],\n",
       "       [  0.        ,   0.        ],\n",
       "       [  0.        ,   0.        ],\n",
       "       [  0.        ,   0.        ],\n",
       "       [  0.        ,   0.        ],\n",
       "       [  0.        ,   0.        ],\n",
       "       [  0.        ,   0.        ],\n",
       "       [  0.        ,   0.        ],\n",
       "       [  0.        ,   0.        ],\n",
       "       [  0.        ,   0.        ],\n",
       "       [  0.        ,   0.        ],\n",
       "       [  0.        ,   0.        ],\n",
       "       [  0.        ,   0.        ],\n",
       "       [  0.        ,   0.        ],\n",
       "       [  0.        ,   0.        ],\n",
       "       [  0.        ,   0.        ],\n",
       "       [  0.        ,   0.        ],\n",
       "       [  0.        ,   0.        ],\n",
       "       [  0.        ,   0.        ],\n",
       "       [  0.        ,   0.        ],\n",
       "       [  0.        ,   0.        ],\n",
       "       [  0.        ,   0.        ],\n",
       "       [  0.        ,   0.        ],\n",
       "       [  0.        ,   0.        ],\n",
       "       [  0.        ,   0.        ],\n",
       "       [  0.        ,   0.        ],\n",
       "       [  0.        ,   0.        ],\n",
       "       [  0.        ,   0.        ],\n",
       "       [  0.        ,   0.        ],\n",
       "       [  0.        ,   0.        ],\n",
       "       [  0.        ,   0.        ],\n",
       "       [  0.        ,   0.        ],\n",
       "       [  0.        ,   0.        ],\n",
       "       [  0.        ,   0.        ],\n",
       "       [  0.        ,   0.        ],\n",
       "       [  0.        ,   0.        ],\n",
       "       [  0.        ,   0.        ],\n",
       "       [  0.        ,   0.        ],\n",
       "       [  0.        ,   0.        ],\n",
       "       [  0.        ,   0.        ],\n",
       "       [  0.        ,   0.        ],\n",
       "       [  0.        ,   0.        ],\n",
       "       [  0.        ,   0.        ],\n",
       "       [  0.        ,   0.        ],\n",
       "       [  0.        ,   0.        ],\n",
       "       [  0.        ,   0.        ],\n",
       "       [  0.        ,   0.        ]])"
      ]
     },
     "execution_count": 33,
     "metadata": {},
     "output_type": "execute_result"
    }
   ],
   "source": [
    "# sigma ~ nxp\n",
    "Sigma"
   ]
  },
  {
   "cell_type": "code",
   "execution_count": 29,
   "metadata": {},
   "outputs": [
    {
     "data": {
      "text/plain": [
       "array([[-0.74333333, -2.35866667],\n",
       "       [-0.94333333, -2.35866667],\n",
       "       [-1.14333333, -2.45866667],\n",
       "       [-1.24333333, -2.25866667],\n",
       "       [-0.84333333, -2.35866667]])"
      ]
     },
     "execution_count": 29,
     "metadata": {},
     "output_type": "execute_result"
    }
   ],
   "source": [
    "np.dot(U, np.dot(Sigma, V_T))[:5, :]"
   ]
  },
  {
   "cell_type": "code",
   "execution_count": 31,
   "metadata": {},
   "outputs": [
    {
     "data": {
      "text/html": [
       "<div>\n",
       "<style>\n",
       "    .dataframe thead tr:only-child th {\n",
       "        text-align: right;\n",
       "    }\n",
       "\n",
       "    .dataframe thead th {\n",
       "        text-align: left;\n",
       "    }\n",
       "\n",
       "    .dataframe tbody tr th {\n",
       "        vertical-align: top;\n",
       "    }\n",
       "</style>\n",
       "<table border=\"1\" class=\"dataframe\">\n",
       "  <thead>\n",
       "    <tr style=\"text-align: right;\">\n",
       "      <th></th>\n",
       "      <th>sepal length (cm)</th>\n",
       "      <th>petal length (cm)</th>\n",
       "    </tr>\n",
       "  </thead>\n",
       "  <tbody>\n",
       "    <tr>\n",
       "      <th>0</th>\n",
       "      <td>-0.743333</td>\n",
       "      <td>-2.358667</td>\n",
       "    </tr>\n",
       "    <tr>\n",
       "      <th>1</th>\n",
       "      <td>-0.943333</td>\n",
       "      <td>-2.358667</td>\n",
       "    </tr>\n",
       "    <tr>\n",
       "      <th>2</th>\n",
       "      <td>-1.143333</td>\n",
       "      <td>-2.458667</td>\n",
       "    </tr>\n",
       "    <tr>\n",
       "      <th>3</th>\n",
       "      <td>-1.243333</td>\n",
       "      <td>-2.258667</td>\n",
       "    </tr>\n",
       "    <tr>\n",
       "      <th>4</th>\n",
       "      <td>-0.843333</td>\n",
       "      <td>-2.358667</td>\n",
       "    </tr>\n",
       "  </tbody>\n",
       "</table>\n",
       "</div>"
      ],
      "text/plain": [
       "   sepal length (cm)  petal length (cm)\n",
       "0          -0.743333          -2.358667\n",
       "1          -0.943333          -2.358667\n",
       "2          -1.143333          -2.458667\n",
       "3          -1.243333          -2.258667\n",
       "4          -0.843333          -2.358667"
      ]
     },
     "execution_count": 31,
     "metadata": {},
     "output_type": "execute_result"
    }
   ],
   "source": [
    "X_centered.iloc[:5, :]"
   ]
  },
  {
   "cell_type": "code",
   "execution_count": 32,
   "metadata": {},
   "outputs": [
    {
     "data": {
      "text/plain": [
       "array([ 545.16452735,   20.86753931])"
      ]
     },
     "execution_count": 32,
     "metadata": {},
     "output_type": "execute_result"
    }
   ],
   "source": [
    "# recover our lambdas\n",
    "singular_vals**2"
   ]
  },
  {
   "cell_type": "code",
   "execution_count": 33,
   "metadata": {},
   "outputs": [
    {
     "data": {
      "text/plain": [
       "array([ 545.16452735,   20.86753931])"
      ]
     },
     "execution_count": 33,
     "metadata": {},
     "output_type": "execute_result"
    }
   ],
   "source": [
    "# yes, recovered! \n",
    "eig_vals"
   ]
  },
  {
   "cell_type": "code",
   "execution_count": 47,
   "metadata": {},
   "outputs": [
    {
     "data": {
      "text/plain": [
       "23.348758582707354"
      ]
     },
     "execution_count": 47,
     "metadata": {},
     "output_type": "execute_result"
    }
   ],
   "source": [
    "Sigma[0, 0]"
   ]
  },
  {
   "cell_type": "code",
   "execution_count": 52,
   "metadata": {},
   "outputs": [
    {
     "data": {
      "text/plain": [
       "array([[-0.96902751, -2.26197974],\n",
       "       [-1.00004077, -2.33437332],\n",
       "       [-1.06725082, -2.49126026],\n",
       "       [-1.01036387, -2.35847031],\n",
       "       [-0.98453414, -2.29817653]])"
      ]
     },
     "execution_count": 52,
     "metadata": {},
     "output_type": "execute_result"
    }
   ],
   "source": [
    "# principal components.eigenvectors\n",
    "svd_recon=np.dot(U[:,0].reshape(150, 1), Sigma[0, 0]).dot(V_T[0, :].reshape(1, 2))\n",
    "svd_recon[:5,:]"
   ]
  },
  {
   "cell_type": "code",
   "execution_count": 44,
   "metadata": {},
   "outputs": [
    {
     "data": {
      "text/plain": [
       "array([[-0.96902751, -2.26197974],\n",
       "       [-1.00004077, -2.33437332],\n",
       "       [-1.06725082, -2.49126026],\n",
       "       [-1.01036387, -2.35847031],\n",
       "       [-0.98453414, -2.29817653]])"
      ]
     },
     "execution_count": 44,
     "metadata": {},
     "output_type": "execute_result"
    }
   ],
   "source": [
    "X_reconstituted[:5, :]"
   ]
  },
  {
   "cell_type": "code",
   "execution_count": 53,
   "metadata": {},
   "outputs": [
    {
     "data": {
      "text/plain": [
       "<matplotlib.collections.PathCollection at 0x122561b70>"
      ]
     },
     "execution_count": 53,
     "metadata": {},
     "output_type": "execute_result"
    },
    {
     "data": {
      "image/png": "[encoded data removed]",
      "text/plain": [
       "<matplotlib.figure.Figure at 0x122399978>"
      ]
     },
     "metadata": {},
     "output_type": "display_data"
    }
   ],
   "source": [
    "plt.scatter(X_centered['sepal length (cm)'],X_centered['petal length (cm)']);\n",
    "plt.scatter(svd_recon[:, 0], svd_recon[:, 1], c='r')"
   ]
  },
  {
   "cell_type": "markdown",
   "metadata": {},
   "source": [
    "Remember the **big idea** :    \n",
    "is to reduce the dimensionality of the data:    \n",
    "Select k first columns of U and (and corresponding first kxk columns\n",
    "of $\\Sigma$)"
   ]
  },
  {
   "cell_type": "markdown",
   "metadata": {},
   "source": [
    "And there's also value in U and V themselves! "
   ]
  },
  {
   "cell_type": "markdown",
   "metadata": {
    "collapsed": true
   },
   "source": [
    "[svd example/ walk thru by hand](http://web.mit.edu/be.400/www/SVD/Singular_Value_Decomposition.htm)"
   ]
  },
  {
   "cell_type": "markdown",
   "metadata": {},
   "source": [
    "### PCA in sklearn"
   ]
  },
  {
   "cell_type": "markdown",
   "metadata": {},
   "source": [
    "[pca in sklearn](http://scikit-learn.org/stable/modules/generated/sklearn.decomposition.PCA.html)\n",
    "\n",
    "[svd in sklearn](http://scikit-learn.org/stable/modules/generated/sklearn.decomposition.TruncatedSVD.html)"
   ]
  },
  {
   "cell_type": "code",
   "execution_count": null,
   "metadata": {
    "collapsed": true
   },
   "outputs": [],
   "source": []
  }
 ],
 "metadata": {
  "kernelspec": {
   "display_name": "Python 3",
   "language": "python",
   "name": "python3"
  },
  "language_info": {
   "codemirror_mode": {
    "name": "ipython",
    "version": 3
   },
   "file_extension": ".py",
   "mimetype": "text/x-python",
   "name": "python",
   "nbconvert_exporter": "python",
   "pygments_lexer": "ipython3",
   "version": "3.6.1"
  }
 },
 "nbformat": 4,
 "nbformat_minor": 1
}
