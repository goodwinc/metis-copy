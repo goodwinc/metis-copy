{
 "cells": [
  {
   "cell_type": "markdown",
   "metadata": {
    "slideshow": {
     "slide_type": "slide"
    }
   },
   "source": [
    "# Intermediate SQL\n",
    "\n",
    "* Intermediate SQL\n",
    "\t* Multi-table commands: \n",
    "        * Join\n",
    "        * Union\n",
    "    * Nested table selection syntax\n",
    "\t* Updating data: \n",
    "        * insert\n",
    "        * update \n",
    "        * delete\n",
    "\t* Replacing null values\n",
    "\t* Text search: Like, etc\n",
    "        * Like"
   ]
  },
  {
   "cell_type": "markdown",
   "metadata": {
    "slideshow": {
     "slide_type": "slide"
    }
   },
   "source": [
    "![](https://img.pokemondb.net/artwork/ivysaur.jpg)"
   ]
  },
  {
   "cell_type": "code",
   "execution_count": null,
   "metadata": {
    "collapsed": true,
    "slideshow": {
     "slide_type": "notes"
    }
   },
   "outputs": [],
   "source": [
    "import sqlite3 as sq3\n",
    "import pandas.io.sql as pds\n",
    "import pandas as pd\n",
    "\n",
    "path = '../../sql'\n",
    "con = sq3.Connection(path + 'pokemon.db')\n",
    "\n",
    "query = '''DROP TABLE IF EXISTS locations;'''\n",
    "con.execute(query)\n",
    "query = '''DROP TABLE IF EXISTS pokemon;'''\n",
    "con.execute(query)\n",
    "query = '''DROP TABLE IF EXISTS encounters;'''\n",
    "con.execute(query)\n",
    "query = '''DROP TABLE IF EXISTS red_pokemon;'''\n",
    "con.execute(query)\n",
    "query = '''DROP TABLE IF EXISTS blue_pokemon;'''\n",
    "con.execute(query)\n",
    "con.commit()"
   ]
  },
  {
   "cell_type": "code",
   "execution_count": null,
   "metadata": {
    "collapsed": true,
    "slideshow": {
     "slide_type": "slide"
    }
   },
   "outputs": [],
   "source": [
    "# load locations\n",
    "locarea_df = pd.read_csv('data/location_details.csv', index_col='id')\n",
    "locarea_df.to_sql('locations', con)\n",
    "\n",
    "#load pokemon\n",
    "pokemon_df = pd.read_csv('data/pokemon_details.csv', index_col='id')\n",
    "pokemon_df.to_sql('pokemon', con)\n",
    "\n",
    "#load encounters\n",
    "encounters_df = pd.read_csv('data/encounters.csv', index_col='id')\n",
    "encounters_df.to_sql('encounters', con)\n",
    "\n",
    "#load red pokemon\n",
    "red_df = pd.read_csv('data/red_pokemon.csv', index_col='id')\n",
    "red_df.to_sql('red_pokemon', con)\n",
    "\n",
    "#load blue pokemon\n",
    "blue_df = pd.read_csv('data/blue_pokemon.csv', index_col='id')\n",
    "blue_df.to_sql('blue_pokemon', con)"
   ]
  },
  {
   "cell_type": "code",
   "execution_count": null,
   "metadata": {
    "slideshow": {
     "slide_type": "slide"
    }
   },
   "outputs": [],
   "source": [
    "%matplotlib inline\n",
    "color = 'red'\n",
    "\n",
    "query = '''\n",
    "SELECT * \n",
    "FROM {0}_pokemon {0}\n",
    "Join pokemon p on {0}.id = p.id\n",
    "where {0}.id is not null\n",
    "'''.format(color)\n",
    "df = pds.read_sql(query, con)\n",
    "plt = df.plot('height', 'weight', kind='scatter', alpha=0.5)"
   ]
  },
  {
   "cell_type": "markdown",
   "metadata": {
    "slideshow": {
     "slide_type": "slide"
    }
   },
   "source": [
    "## Multi-table commands:\n",
    "\n",
    "![](https://img.pokemondb.net/artwork/wartortle.jpg)"
   ]
  },
  {
   "cell_type": "markdown",
   "metadata": {
    "slideshow": {
     "slide_type": "slide"
    }
   },
   "source": [
    "### Union\n",
    "Unions allow you to take two queries and concatenate the output for each"
   ]
  },
  {
   "cell_type": "code",
   "execution_count": null,
   "metadata": {
    "slideshow": {
     "slide_type": "slide"
    }
   },
   "outputs": [],
   "source": [
    "query = '''\n",
    "SELECT * \n",
    "FROM pokemon\n",
    "where type1 = 'Fire';\n",
    "'''\n",
    "pds.read_sql(query, con)"
   ]
  },
  {
   "cell_type": "code",
   "execution_count": null,
   "metadata": {
    "slideshow": {
     "slide_type": "slide"
    }
   },
   "outputs": [],
   "source": [
    "query = '''\n",
    "SELECT * \n",
    "FROM pokemon\n",
    "where type2 = 'Flying';\n",
    "'''\n",
    "pds.read_sql(query, con).head()"
   ]
  },
  {
   "cell_type": "code",
   "execution_count": null,
   "metadata": {
    "slideshow": {
     "slide_type": "slide"
    }
   },
   "outputs": [],
   "source": [
    "query = '''\n",
    "SELECT * \n",
    "FROM pokemon\n",
    "where type1 = 'Fire'\n",
    "UNION\n",
    "SELECT * \n",
    "FROM pokemon\n",
    "where type2 = 'Flying';\n",
    "'''\n",
    "pds.read_sql(query, con).head()"
   ]
  },
  {
   "cell_type": "code",
   "execution_count": null,
   "metadata": {
    "slideshow": {
     "slide_type": "slide"
    }
   },
   "outputs": [],
   "source": [
    "#Union All does not delete duplicate rows. So Moltres shows up twice, for example\n",
    "query = '''\n",
    "SELECT * \n",
    "FROM pokemon\n",
    "where type1 = 'Fire'\n",
    "UNION ALL\n",
    "SELECT * \n",
    "FROM pokemon\n",
    "where type2 = 'Flying';\n",
    "'''\n",
    "pds.read_sql(query, con).head()"
   ]
  },
  {
   "cell_type": "markdown",
   "metadata": {
    "slideshow": {
     "slide_type": "slide"
    }
   },
   "source": [
    "![](images/SQL_Inner_Joins.png)"
   ]
  },
  {
   "cell_type": "code",
   "execution_count": null,
   "metadata": {
    "slideshow": {
     "slide_type": "slide"
    }
   },
   "outputs": [],
   "source": [
    "\n",
    "query = '''\n",
    "SELECT * \n",
    "FROM red_pokemon red\n",
    "JOIN blue_pokemon blue ON red.id=blue.id;\n",
    "'''\n",
    "pds.read_sql(query, con).head()"
   ]
  },
  {
   "cell_type": "markdown",
   "metadata": {
    "slideshow": {
     "slide_type": "slide"
    }
   },
   "source": [
    "![](images/SQL_Left_Joins.png)"
   ]
  },
  {
   "cell_type": "code",
   "execution_count": null,
   "metadata": {
    "slideshow": {
     "slide_type": "slide"
    }
   },
   "outputs": [],
   "source": [
    "query = '''\n",
    "SELECT red.id as red_id,  red.name as red_name,blue.id as blue_id,blue.name as blue_name\n",
    "FROM red_pokemon red\n",
    "LEFT JOIN blue_pokemon blue ON red.id=blue.id;'''\n",
    "pds.read_sql(query, con).head()"
   ]
  },
  {
   "cell_type": "markdown",
   "metadata": {
    "slideshow": {
     "slide_type": "slide"
    }
   },
   "source": [
    "![](images/SQL_Right_Joins.png)"
   ]
  },
  {
   "cell_type": "code",
   "execution_count": null,
   "metadata": {
    "collapsed": true,
    "slideshow": {
     "slide_type": "slide"
    }
   },
   "outputs": [],
   "source": [
    "# this would work in most versions of SQL\n",
    "query = '''\n",
    "SELECT * \n",
    "FROM red_pokemon red\n",
    "RIGHT JOIN blue_pokemon blue ON red.id=blue.id;'''\n",
    "#pds.read_sql(query, con)"
   ]
  },
  {
   "cell_type": "code",
   "execution_count": null,
   "metadata": {
    "slideshow": {
     "slide_type": "slide"
    }
   },
   "outputs": [],
   "source": [
    "# But a Right Join is just a left join with the order reversed\n",
    "query = '''\n",
    "SELECT * \n",
    "FROM blue_pokemon blue\n",
    "LEFT JOIN red_pokemon red ON red.id=blue.id;'''\n",
    "pds.read_sql(query, con).head()"
   ]
  },
  {
   "cell_type": "markdown",
   "metadata": {
    "slideshow": {
     "slide_type": "slide"
    }
   },
   "source": [
    "![](images/SQL_Left_Exclusion_Joins.png)"
   ]
  },
  {
   "cell_type": "code",
   "execution_count": null,
   "metadata": {
    "slideshow": {
     "slide_type": "slide"
    }
   },
   "outputs": [],
   "source": [
    "query = '''\n",
    "SELECT * \n",
    "FROM red_pokemon red\n",
    "LEFT JOIN blue_pokemon blue ON red.id=blue.id\n",
    "WHERE blue.id IS NULL'''\n",
    "pds.read_sql(query, con)"
   ]
  },
  {
   "cell_type": "markdown",
   "metadata": {
    "slideshow": {
     "slide_type": "slide"
    }
   },
   "source": [
    "![](images/SQL_Right_Exclusion_Joins.png)"
   ]
  },
  {
   "cell_type": "code",
   "execution_count": null,
   "metadata": {
    "slideshow": {
     "slide_type": "slide"
    }
   },
   "outputs": [],
   "source": [
    "query = '''\n",
    "SELECT * \n",
    "FROM blue_pokemon blue\n",
    "LEFT JOIN red_pokemon red ON red.id=blue.id\n",
    "WHERE red.id IS NULL'''\n",
    "pds.read_sql(query, con)"
   ]
  },
  {
   "cell_type": "markdown",
   "metadata": {
    "slideshow": {
     "slide_type": "slide"
    }
   },
   "source": [
    "![](images/SQL_Outer_Joins.png)"
   ]
  },
  {
   "cell_type": "code",
   "execution_count": null,
   "metadata": {
    "slideshow": {
     "slide_type": "slide"
    }
   },
   "outputs": [],
   "source": [
    "# This works is many versions of SQL\n",
    "query = '''\n",
    "SELECT id,name\n",
    "FROM red_pokemon red\n",
    "OUTER JOIN blue_pokemon blue ON red.id=blue.id;\n",
    "'''\n",
    "#pds.read_sql(query, con)\n",
    "\n",
    "# for SQLite we need to do it a different way\n",
    "query = '''\n",
    "SELECT null as blue_id , null as blue_name, red.id as red_id,red.name as red_name \n",
    "FROM red_pokemon red\n",
    "UNION\n",
    "SELECT blue.id as blue_id , blue.name as blue_name, null as red_id,null as red_name  \n",
    "FROM blue_pokemon blue'''\n",
    "pds.read_sql(query, con).head(120)"
   ]
  },
  {
   "cell_type": "markdown",
   "metadata": {
    "slideshow": {
     "slide_type": "slide"
    }
   },
   "source": [
    "![](images/sqljoins.png)"
   ]
  },
  {
   "cell_type": "markdown",
   "metadata": {
    "slideshow": {
     "slide_type": "slide"
    }
   },
   "source": [
    "## Exercises\n",
    "\n",
    "### Which Pokemon will you not encounter (in the wild) in either Red or Blue?"
   ]
  },
  {
   "cell_type": "code",
   "execution_count": null,
   "metadata": {
    "slideshow": {
     "slide_type": "fragment"
    }
   },
   "outputs": [],
   "source": [
    "%matplotlib inline\n",
    "query = '''\n",
    "SELECT p.name , height, weight\n",
    "FROM pokemon p\n",
    "LEFT JOIN red_pokemon red ON p.id=red.id\n",
    "LEFT JOIN blue_pokemon blue ON p.id=blue.id\n",
    "WHERE red.id is null AND blue.id is null;\n",
    "'''\n",
    "missing_pokemon = pds.read_sql(query, con)\n",
    "missing_pokemon.head()"
   ]
  },
  {
   "cell_type": "code",
   "execution_count": null,
   "metadata": {
    "slideshow": {
     "slide_type": "slide"
    }
   },
   "outputs": [],
   "source": [
    "missing_pokemon.plot.scatter('height','weight')"
   ]
  },
  {
   "cell_type": "markdown",
   "metadata": {
    "slideshow": {
     "slide_type": "slide"
    }
   },
   "source": [
    "### Which Pokemon are encountered in which areas?"
   ]
  },
  {
   "cell_type": "code",
   "execution_count": null,
   "metadata": {
    "slideshow": {
     "slide_type": "slide"
    }
   },
   "outputs": [],
   "source": [
    "query = '''\n",
    "SELECT p.name,location_name,area_name, type1\n",
    "FROM encounters e\n",
    "JOIN locations l ON l.id=e.location_area_id\n",
    "JOIN pokemon p on p.id=e.pokemon_id\n",
    "limit 10;'''\n",
    "pds.read_sql(query, con).head()"
   ]
  },
  {
   "cell_type": "markdown",
   "metadata": {
    "slideshow": {
     "slide_type": "slide"
    }
   },
   "source": [
    "### Which locations have the most electric pokemon?"
   ]
  },
  {
   "cell_type": "code",
   "execution_count": null,
   "metadata": {
    "slideshow": {
     "slide_type": "slide"
    }
   },
   "outputs": [],
   "source": [
    "query = '''\n",
    "SELECT location_name,type1, count(*)\n",
    "FROM encounters e\n",
    "JOIN locations l ON l.id=e.location_area_id\n",
    "JOIN pokemon p on p.id=e.pokemon_id\n",
    "where type1 = 'Electric'\n",
    "GROUP BY 1,2\n",
    "ORDER BY 3 DESC'''\n",
    "pds.read_sql(query, con).head()"
   ]
  },
  {
   "cell_type": "markdown",
   "metadata": {
    "slideshow": {
     "slide_type": "slide"
    }
   },
   "source": [
    "### Average Level of each location"
   ]
  },
  {
   "cell_type": "code",
   "execution_count": null,
   "metadata": {
    "slideshow": {
     "slide_type": "slide"
    }
   },
   "outputs": [],
   "source": [
    "query = '''\n",
    "SELECT location_name, avg((min_level+max_level)/2) as average_level\n",
    "FROM encounters e\n",
    "JOIN locations l ON l.id=e.location_area_id\n",
    "JOIN pokemon p on p.id=e.pokemon_id\n",
    "GROUP BY 1\n",
    "ORDER BY 2 DESC\n",
    "LIMIT 40;'''\n",
    "pds.read_sql(query, con).head()"
   ]
  },
  {
   "cell_type": "markdown",
   "metadata": {
    "slideshow": {
     "slide_type": "slide"
    }
   },
   "source": [
    "### Subqueries\n",
    "![](https://img.pokemondb.net/artwork/raichu.jpg)\n",
    "\n",
    "you can treat the output of any SQL Query as if it were a table. you just need to wrap the query in parenthesis"
   ]
  },
  {
   "cell_type": "code",
   "execution_count": null,
   "metadata": {
    "slideshow": {
     "slide_type": "slide"
    }
   },
   "outputs": [],
   "source": [
    "query = '''\n",
    "SELECT location_name,type1, count(*)\n",
    "FROM encounters e\n",
    "JOIN (SELECT l.id as location_id,location_name, avg((min_level+max_level)/2) as average_level\n",
    "    FROM encounters e\n",
    "    JOIN locations l ON l.id=e.location_area_id\n",
    "    JOIN pokemon p on p.id=e.pokemon_id\n",
    "    GROUP BY 1,2\n",
    "    ORDER BY 3 DESC\n",
    "    LIMIT 40) high_lvl_locations ON high_lvl_locations.location_id=e.location_area_id\n",
    "JOIN pokemon p on p.id=e.pokemon_id\n",
    "where type1 = 'Ghost'\n",
    "GROUP BY 1,2\n",
    "ORDER BY 3 DESC\n",
    "'''\n",
    "pds.read_sql(query, con).head()"
   ]
  },
  {
   "cell_type": "markdown",
   "metadata": {
    "slideshow": {
     "slide_type": "slide"
    }
   },
   "source": [
    "### Updating data: \n",
    "\n",
    "#### insert\n",
    "![](https://sqlite.org/images/syntax/insert-stmt.gif)"
   ]
  },
  {
   "cell_type": "code",
   "execution_count": null,
   "metadata": {
    "collapsed": true,
    "slideshow": {
     "slide_type": "fragment"
    }
   },
   "outputs": [],
   "source": [
    "query = '''\n",
    "INSERT INTO pokemon (id, name, height, weight, base_experience, type1, type2) \n",
    "VALUES (0,'Missingno', 1, 0.1, 100, null, null);\n",
    "'''\n",
    "con.execute(query)\n",
    "con.commit()"
   ]
  },
  {
   "cell_type": "code",
   "execution_count": null,
   "metadata": {
    "slideshow": {
     "slide_type": "slide"
    }
   },
   "outputs": [],
   "source": [
    "query = '''\n",
    "SELECT *\n",
    "FROM pokemon\n",
    "WHERE id < 5;'''\n",
    "pds.read_sql(query, con)"
   ]
  },
  {
   "cell_type": "markdown",
   "metadata": {
    "slideshow": {
     "slide_type": "slide"
    }
   },
   "source": [
    "#### update\n",
    "![](https://sqlite.org/images/syntax/update-stmt.gif)"
   ]
  },
  {
   "cell_type": "code",
   "execution_count": null,
   "metadata": {
    "collapsed": true,
    "slideshow": {
     "slide_type": "slide"
    }
   },
   "outputs": [],
   "source": [
    "query = '''\n",
    "UPDATE pokemon \n",
    "SET type1 = 'Bug'\n",
    "WHERE id = 0;\n",
    "'''\n",
    "con.execute(query)\n",
    "con.commit()"
   ]
  },
  {
   "cell_type": "code",
   "execution_count": null,
   "metadata": {
    "slideshow": {
     "slide_type": "slide"
    }
   },
   "outputs": [],
   "source": [
    "query = '''\n",
    "SELECT *\n",
    "FROM pokemon\n",
    "WHERE id < 5;'''\n",
    "pds.read_sql(query, con)"
   ]
  },
  {
   "cell_type": "markdown",
   "metadata": {
    "slideshow": {
     "slide_type": "fragment"
    }
   },
   "source": [
    "Make sure and remember the WHERE statement!"
   ]
  },
  {
   "cell_type": "code",
   "execution_count": null,
   "metadata": {
    "collapsed": true,
    "slideshow": {
     "slide_type": "slide"
    }
   },
   "outputs": [],
   "source": [
    "query = '''\n",
    "UPDATE pokemon \n",
    "SET type1 = 'Bug';\n",
    "'''\n",
    "con.execute(query)\n",
    "con.commit()"
   ]
  },
  {
   "cell_type": "code",
   "execution_count": null,
   "metadata": {
    "slideshow": {
     "slide_type": "slide"
    }
   },
   "outputs": [],
   "source": [
    "query = '''\n",
    "SELECT *\n",
    "FROM pokemon\n",
    "WHERE id < 5;'''\n",
    "pds.read_sql(query, con)"
   ]
  },
  {
   "cell_type": "code",
   "execution_count": null,
   "metadata": {
    "collapsed": true,
    "slideshow": {
     "slide_type": "slide"
    }
   },
   "outputs": [],
   "source": [
    "query = '''DROP TABLE IF EXISTS pokemon;'''\n",
    "con.execute(query)\n",
    "con.commit()\n",
    "pd.read_csv('data/pokemon_details.csv', index_col='id').to_sql('pokemon', con)"
   ]
  },
  {
   "cell_type": "markdown",
   "metadata": {
    "slideshow": {
     "slide_type": "slide"
    }
   },
   "source": [
    "#### create table as\n",
    "![](https://sqlite.org/images/syntax/create-table-stmt.gif)"
   ]
  },
  {
   "cell_type": "code",
   "execution_count": null,
   "metadata": {
    "collapsed": true,
    "slideshow": {
     "slide_type": "slide"
    }
   },
   "outputs": [],
   "source": [
    "query = '''\n",
    "CREATE TABLE IF NOT EXISTS location_level AS\n",
    "SELECT l.id,location_name, avg((min_level+max_level)/2) as average_level\n",
    "FROM encounters e\n",
    "JOIN locations l ON l.id=e.location_area_id\n",
    "JOIN pokemon p on p.id=e.pokemon_id\n",
    "GROUP BY 1'''\n",
    "con.execute(query)\n",
    "con.commit()"
   ]
  },
  {
   "cell_type": "code",
   "execution_count": null,
   "metadata": {
    "slideshow": {
     "slide_type": "slide"
    }
   },
   "outputs": [],
   "source": [
    "query = '''\n",
    "SELECT *\n",
    "FROM location_level\n",
    "LIMIT 10;'''\n",
    "pds.read_sql(query, con)"
   ]
  },
  {
   "cell_type": "markdown",
   "metadata": {
    "slideshow": {
     "slide_type": "slide"
    }
   },
   "source": [
    "### Dealing with null values\n",
    "![](https://img.pokemondb.net/artwork/gyarados.jpg)"
   ]
  },
  {
   "cell_type": "markdown",
   "metadata": {
    "slideshow": {
     "slide_type": "fragment"
    }
   },
   "source": [
    "#### Coalesce"
   ]
  },
  {
   "cell_type": "code",
   "execution_count": null,
   "metadata": {
    "slideshow": {
     "slide_type": "slide"
    }
   },
   "outputs": [],
   "source": [
    "query = '''\n",
    "SELECT name,type1,coalesce(type2,type1)\n",
    "FROM pokemon\n",
    "LIMIT 10;'''\n",
    "pds.read_sql(query, con)"
   ]
  },
  {
   "cell_type": "markdown",
   "metadata": {
    "slideshow": {
     "slide_type": "slide"
    }
   },
   "source": [
    "### Text search\n",
    "![](https://img.pokemondb.net/artwork/eevee.jpg)"
   ]
  },
  {
   "cell_type": "markdown",
   "metadata": {
    "slideshow": {
     "slide_type": "slide"
    }
   },
   "source": [
    "#### Like"
   ]
  },
  {
   "cell_type": "code",
   "execution_count": null,
   "metadata": {
    "slideshow": {
     "slide_type": "slide"
    }
   },
   "outputs": [],
   "source": [
    "query = '''\n",
    "SELECT *\n",
    "FROM pokemon\n",
    "where name like '%s';'''\n",
    "pds.read_sql(query, con)"
   ]
  }
 ],
 "metadata": {
  "celltoolbar": "Raw Cell Format",
  "kernelspec": {
   "display_name": "Python 3",
   "language": "python",
   "name": "python3"
  },
  "language_info": {
   "codemirror_mode": {
    "name": "ipython",
    "version": 3
   },
   "file_extension": ".py",
   "mimetype": "text/x-python",
   "name": "python",
   "nbconvert_exporter": "python",
   "pygments_lexer": "ipython3",
   "version": "3.6.2"
  },
  "livereveal": {
   "transition": "none"
  }
 },
 "nbformat": 4,
 "nbformat_minor": 2
}
